{
 "cells": [
  {
   "cell_type": "markdown",
   "metadata": {},
   "source": [
    "# Анализ рекламных источников мобильной игры «Космические братья»"
   ]
  },
  {
   "cell_type": "markdown",
   "metadata": {},
   "source": [
    "**Цель проекта: проанализировать поведение пользователей и определить канал привлечения, наиболее перспективный для предполагаемой модели монетизации**\n",
    "\n",
    "Задачи:\n",
    "- определить какими стратегиями пользуются игроки: в целом/по каналам привлечения\n",
    "- как часто совершается \"целевое\" действие (постройка объекта, так как реклама будет размещаться в окне выбора типа объекта для строительства): в целом/по каналам привлечения\n",
    "- какой канал дает пользователей с бОльшей вовлеченностью - то есть тех, кто перешел на 2 уровень\n",
    "- проанализировать время прохождения уровня: в целом/по каналам привлечения\n",
    "- проанализировать стоимость привлечения пользователя: в целом/по каналам привлечения\n",
    "- оценим окупаемость предлагаемой модели монетизации\n",
    "- дать объединенную оценку каждому каналу: вовлеченность пользователя и стоимость привлечения\n",
    "- назвать каналы, потенциально более привлекательные для монетизации "
   ]
  },
  {
   "cell_type": "markdown",
   "metadata": {},
   "source": [
    "## Описание данных"
   ]
  },
  {
   "cell_type": "markdown",
   "metadata": {},
   "source": [
    "**Объект анализа** - мобильная игра «Космические братья». В ней пользователи строят свою космическую программу и пытаются преуспеть в нелёгком деле колонизации галактики.\n",
    "\n",
    "\n",
    "\n",
    "**Для анализа были предоставлены три датасета:**\n",
    "\n",
    "**game_actions.csv**: представлены данные по игре пользователей на первом уровне. *Завершение первого уровня требует от игрока выполнения одного из двух условий: победа над первым врагом или реализация проекта (проект для первого уровня - разработка орбитальной сборки спутников). До реализации проекта или участия в битве игрок строит три типа зданий, выбор типа постройки зависит от пользователя, строить можно любое количество зданий любого типа. Для прохождения уровня через реализацию проекта - нужно предварительно построить хотя бы один исследовательский центр. Для участия в войне - нужно набрать армию, предварительно построив космопорт/космопорты. Строительство будет идти быстрее, если построить достаточное количество сборочных цехов. После реализации проекта пользователь может сразу же добровольно перейти на следующий уровень, нажав соответствующую кнопку, или остаться в игре на уровне: продолжить строить или пойти воевать. Пользователь, решивший воевать без реализации проекта, после победы над противником автоматически переходит на следующий уровень.* \n",
    "\n",
    "\n",
    "\n",
    "ОПИСАНИЕ ДАННЫХ\n",
    "\n",
    "**game_actions.csv**: В датасете содержатся данные первых пользователей приложения — когорты пользователей, которые начали пользоваться приложением в период с 4 по 10 мая включительно.\n",
    "\n",
    "- `event_datetime` — время события;\n",
    "\n",
    "\n",
    "- `event` — одно из трёх событий:\n",
    "    1. `building` — объект построен,\n",
    "    2. `finished_stage_1` — первый уровень завершён,\n",
    "    3. `project` — проект завершён;\n",
    "    \n",
    "    \n",
    "- `building_type` — один из трёх типов здания:\n",
    "    1. `assembly_shop` — сборочный цех,\n",
    "    2. `spaceport` — космопорт,\n",
    "    3. `research_center` — исследовательский центр;\n",
    "    \n",
    "    \n",
    "    \n",
    "- `user_id` — идентификатор пользователя;\n",
    "\n",
    "\n",
    "\n",
    "- `project_type` — тип реализованного проекта;\n",
    "\n",
    "**ad_cost.csv**: в датасете собрана информация о рекламных расходах с 3 по 9 мая, по каналам привлечения в разрезе каждого дня. Платеж за клики авансовый, то есть платим сегодня за завтрашних пользователей.\n",
    "\n",
    "- `day` - день, в который был совершен клик по объявлению\n",
    "- `source` - источник трафика\n",
    "- `cost` - стоимость кликов\n",
    "\n",
    "**user_source.csv** в датасете собраны данные по пользователям, из какого рекламного канала они пришли в игру.\n",
    "\n",
    "- `user_id` - идентификатор пользователя\n",
    "- `source` - источников, с которого пришёл пользователь, установивший приложение\n",
    "\n",
    "\n",
    "**Основная монетизация игры** — только планируется. Но предполагается, что в приложении будет происходить показ рекламы на экране с выбором типа объекта для постройки, установлена фиксированная цена за рекламу в игре - 0.07 у.е."
   ]
  },
  {
   "cell_type": "code",
   "execution_count": 1,
   "metadata": {},
   "outputs": [],
   "source": [
    "# импортируем библиотеки\n",
    "import pandas as pd\n",
    "import numpy as np\n",
    "import math as mth\n",
    "from datetime import datetime as dt, timedelta\n",
    "from matplotlib import pyplot as plt\n",
    "from scipy import stats as st\n",
    "import matplotlib.ticker as ticker\n",
    "import seaborn as sns"
   ]
  },
  {
   "cell_type": "code",
   "execution_count": 2,
   "metadata": {},
   "outputs": [],
   "source": [
    "# загружаем данные\n",
    "game = pd.read_csv('')\n",
    "cost = pd.read_csv('')\n",
    "source = pd.read_csv('')"
   ]
  },
  {
   "cell_type": "markdown",
   "metadata": {},
   "source": [
    "## Предобработка данных\n",
    "\n",
    "- посмотрим и оценим датасеты\n",
    "- оценим пропуски, дубликаты\n",
    "- приведем к нужным типы данных\n",
    "- обработаем данные о времени: приведем к нужному формату; сдвинем даты в таблице с рекламными расходами, для унификации дат"
   ]
  },
  {
   "cell_type": "code",
   "execution_count": 3,
   "metadata": {},
   "outputs": [],
   "source": [
    "def preview (data):\n",
    "    '''\n",
    "       Функция для предварительного просмотра данных\n",
    "    '''\n",
    "    print('Посмотрим на данные')\n",
    "    display(data.head())\n",
    "    print('-'*50)\n",
    "    print()\n",
    "    print('Атрибуты')\n",
    "    print(data.info())\n",
    "    print('-'*50)\n",
    "    print()\n",
    "    print('Пропусков в данных')\n",
    "    print(data.isna().sum())\n",
    "    print('-'*50)\n",
    "    print()\n",
    "    print('Полных дубликатов в данных - ', data.duplicated().sum())\n",
    "       "
   ]
  },
  {
   "cell_type": "code",
   "execution_count": 4,
   "metadata": {},
   "outputs": [
    {
     "name": "stdout",
     "output_type": "stream",
     "text": [
      "Посмотрим на данные\n"
     ]
    },
    {
     "data": {
      "text/html": [
       "<div>\n",
       "<style scoped>\n",
       "    .dataframe tbody tr th:only-of-type {\n",
       "        vertical-align: middle;\n",
       "    }\n",
       "\n",
       "    .dataframe tbody tr th {\n",
       "        vertical-align: top;\n",
       "    }\n",
       "\n",
       "    .dataframe thead th {\n",
       "        text-align: right;\n",
       "    }\n",
       "</style>\n",
       "<table border=\"1\" class=\"dataframe\">\n",
       "  <thead>\n",
       "    <tr style=\"text-align: right;\">\n",
       "      <th></th>\n",
       "      <th>event_datetime</th>\n",
       "      <th>event</th>\n",
       "      <th>building_type</th>\n",
       "      <th>user_id</th>\n",
       "      <th>project_type</th>\n",
       "    </tr>\n",
       "  </thead>\n",
       "  <tbody>\n",
       "    <tr>\n",
       "      <th>0</th>\n",
       "      <td>2020-05-04 00:00:01</td>\n",
       "      <td>building</td>\n",
       "      <td>assembly_shop</td>\n",
       "      <td>55e92310-cb8e-4754-b622-597e124b03de</td>\n",
       "      <td>NaN</td>\n",
       "    </tr>\n",
       "    <tr>\n",
       "      <th>1</th>\n",
       "      <td>2020-05-04 00:00:03</td>\n",
       "      <td>building</td>\n",
       "      <td>assembly_shop</td>\n",
       "      <td>c07b1c10-f477-44dc-81dc-ec82254b1347</td>\n",
       "      <td>NaN</td>\n",
       "    </tr>\n",
       "    <tr>\n",
       "      <th>2</th>\n",
       "      <td>2020-05-04 00:00:16</td>\n",
       "      <td>building</td>\n",
       "      <td>assembly_shop</td>\n",
       "      <td>6edd42cc-e753-4ff6-a947-2107cd560710</td>\n",
       "      <td>NaN</td>\n",
       "    </tr>\n",
       "    <tr>\n",
       "      <th>3</th>\n",
       "      <td>2020-05-04 00:00:16</td>\n",
       "      <td>building</td>\n",
       "      <td>assembly_shop</td>\n",
       "      <td>92c69003-d60a-444a-827f-8cc51bf6bf4c</td>\n",
       "      <td>NaN</td>\n",
       "    </tr>\n",
       "    <tr>\n",
       "      <th>4</th>\n",
       "      <td>2020-05-04 00:00:35</td>\n",
       "      <td>building</td>\n",
       "      <td>assembly_shop</td>\n",
       "      <td>cdc6bb92-0ccb-4490-9866-ef142f09139d</td>\n",
       "      <td>NaN</td>\n",
       "    </tr>\n",
       "  </tbody>\n",
       "</table>\n",
       "</div>"
      ],
      "text/plain": [
       "        event_datetime     event  building_type  \\\n",
       "0  2020-05-04 00:00:01  building  assembly_shop   \n",
       "1  2020-05-04 00:00:03  building  assembly_shop   \n",
       "2  2020-05-04 00:00:16  building  assembly_shop   \n",
       "3  2020-05-04 00:00:16  building  assembly_shop   \n",
       "4  2020-05-04 00:00:35  building  assembly_shop   \n",
       "\n",
       "                                user_id project_type  \n",
       "0  55e92310-cb8e-4754-b622-597e124b03de          NaN  \n",
       "1  c07b1c10-f477-44dc-81dc-ec82254b1347          NaN  \n",
       "2  6edd42cc-e753-4ff6-a947-2107cd560710          NaN  \n",
       "3  92c69003-d60a-444a-827f-8cc51bf6bf4c          NaN  \n",
       "4  cdc6bb92-0ccb-4490-9866-ef142f09139d          NaN  "
      ]
     },
     "metadata": {},
     "output_type": "display_data"
    },
    {
     "name": "stdout",
     "output_type": "stream",
     "text": [
      "--------------------------------------------------\n",
      "\n",
      "Атрибуты\n",
      "<class 'pandas.core.frame.DataFrame'>\n",
      "RangeIndex: 135640 entries, 0 to 135639\n",
      "Data columns (total 5 columns):\n",
      " #   Column          Non-Null Count   Dtype \n",
      "---  ------          --------------   ----- \n",
      " 0   event_datetime  135640 non-null  object\n",
      " 1   event           135640 non-null  object\n",
      " 2   building_type   127957 non-null  object\n",
      " 3   user_id         135640 non-null  object\n",
      " 4   project_type    1866 non-null    object\n",
      "dtypes: object(5)\n",
      "memory usage: 5.2+ MB\n",
      "None\n",
      "--------------------------------------------------\n",
      "\n",
      "Пропусков в данных\n",
      "event_datetime         0\n",
      "event                  0\n",
      "building_type       7683\n",
      "user_id                0\n",
      "project_type      133774\n",
      "dtype: int64\n",
      "--------------------------------------------------\n",
      "\n",
      "Полных дубликатов в данных -  1\n"
     ]
    }
   ],
   "source": [
    "preview(game)"
   ]
  },
  {
   "cell_type": "markdown",
   "metadata": {},
   "source": [
    "Датасет из 135640 записей, 5 столбцов. В столбцах building_type, project_type пропуски, связанные с механикой игры. Тип данных в столбце с датами - object, приведем его к типу datetime. Полных дублей - 1, удалим.\n"
   ]
  },
  {
   "cell_type": "markdown",
   "metadata": {},
   "source": [
    "**Дубликаты**"
   ]
  },
  {
   "cell_type": "code",
   "execution_count": 5,
   "metadata": {},
   "outputs": [],
   "source": [
    "# явные дубликаты удаляем\n",
    "game = game.drop_duplicates().reset_index(drop=True)"
   ]
  },
  {
   "cell_type": "code",
   "execution_count": 6,
   "metadata": {},
   "outputs": [
    {
     "name": "stdout",
     "output_type": "stream",
     "text": [
      "['building' 'finished_stage_1' 'project'] ['assembly_shop' 'spaceport' nan 'research_center'] [nan 'satellite_orbital_assembly']\n"
     ]
    }
   ],
   "source": [
    "# проверяем неявные\n",
    "print(game['event'].unique(), game['building_type'].unique(), game['project_type'].unique())"
   ]
  },
  {
   "cell_type": "markdown",
   "metadata": {},
   "source": [
    "Полный дубликат удалили, неявных дублей нет.\n",
    "\n",
    "**Столбец с датами**"
   ]
  },
  {
   "cell_type": "code",
   "execution_count": 7,
   "metadata": {},
   "outputs": [],
   "source": [
    "# приводим к нужному типу\n",
    "game['event_datetime'] = pd.to_datetime(game['event_datetime'])"
   ]
  },
  {
   "cell_type": "code",
   "execution_count": 8,
   "metadata": {
    "scrolled": true
   },
   "outputs": [
    {
     "name": "stdout",
     "output_type": "stream",
     "text": [
      "<class 'pandas.core.frame.DataFrame'>\n",
      "RangeIndex: 135639 entries, 0 to 135638\n",
      "Data columns (total 5 columns):\n",
      " #   Column          Non-Null Count   Dtype         \n",
      "---  ------          --------------   -----         \n",
      " 0   event_datetime  135639 non-null  datetime64[ns]\n",
      " 1   event           135639 non-null  object        \n",
      " 2   building_type   127956 non-null  object        \n",
      " 3   user_id         135639 non-null  object        \n",
      " 4   project_type    1866 non-null    object        \n",
      "dtypes: datetime64[ns](1), object(4)\n",
      "memory usage: 5.2+ MB\n"
     ]
    }
   ],
   "source": [
    "# проверяем внесенные изменения\n",
    "game.info()"
   ]
  },
  {
   "cell_type": "code",
   "execution_count": 9,
   "metadata": {
    "scrolled": false
   },
   "outputs": [
    {
     "name": "stdout",
     "output_type": "stream",
     "text": [
      "Посмотрим на данные\n"
     ]
    },
    {
     "data": {
      "text/html": [
       "<div>\n",
       "<style scoped>\n",
       "    .dataframe tbody tr th:only-of-type {\n",
       "        vertical-align: middle;\n",
       "    }\n",
       "\n",
       "    .dataframe tbody tr th {\n",
       "        vertical-align: top;\n",
       "    }\n",
       "\n",
       "    .dataframe thead th {\n",
       "        text-align: right;\n",
       "    }\n",
       "</style>\n",
       "<table border=\"1\" class=\"dataframe\">\n",
       "  <thead>\n",
       "    <tr style=\"text-align: right;\">\n",
       "      <th></th>\n",
       "      <th>source</th>\n",
       "      <th>day</th>\n",
       "      <th>cost</th>\n",
       "    </tr>\n",
       "  </thead>\n",
       "  <tbody>\n",
       "    <tr>\n",
       "      <th>0</th>\n",
       "      <td>facebook_ads</td>\n",
       "      <td>2020-05-03</td>\n",
       "      <td>935.882786</td>\n",
       "    </tr>\n",
       "    <tr>\n",
       "      <th>1</th>\n",
       "      <td>facebook_ads</td>\n",
       "      <td>2020-05-04</td>\n",
       "      <td>548.354480</td>\n",
       "    </tr>\n",
       "    <tr>\n",
       "      <th>2</th>\n",
       "      <td>facebook_ads</td>\n",
       "      <td>2020-05-05</td>\n",
       "      <td>260.185754</td>\n",
       "    </tr>\n",
       "    <tr>\n",
       "      <th>3</th>\n",
       "      <td>facebook_ads</td>\n",
       "      <td>2020-05-06</td>\n",
       "      <td>177.982200</td>\n",
       "    </tr>\n",
       "    <tr>\n",
       "      <th>4</th>\n",
       "      <td>facebook_ads</td>\n",
       "      <td>2020-05-07</td>\n",
       "      <td>111.766796</td>\n",
       "    </tr>\n",
       "  </tbody>\n",
       "</table>\n",
       "</div>"
      ],
      "text/plain": [
       "         source         day        cost\n",
       "0  facebook_ads  2020-05-03  935.882786\n",
       "1  facebook_ads  2020-05-04  548.354480\n",
       "2  facebook_ads  2020-05-05  260.185754\n",
       "3  facebook_ads  2020-05-06  177.982200\n",
       "4  facebook_ads  2020-05-07  111.766796"
      ]
     },
     "metadata": {},
     "output_type": "display_data"
    },
    {
     "name": "stdout",
     "output_type": "stream",
     "text": [
      "--------------------------------------------------\n",
      "\n",
      "Атрибуты\n",
      "<class 'pandas.core.frame.DataFrame'>\n",
      "RangeIndex: 28 entries, 0 to 27\n",
      "Data columns (total 3 columns):\n",
      " #   Column  Non-Null Count  Dtype  \n",
      "---  ------  --------------  -----  \n",
      " 0   source  28 non-null     object \n",
      " 1   day     28 non-null     object \n",
      " 2   cost    28 non-null     float64\n",
      "dtypes: float64(1), object(2)\n",
      "memory usage: 800.0+ bytes\n",
      "None\n",
      "--------------------------------------------------\n",
      "\n",
      "Пропусков в данных\n",
      "source    0\n",
      "day       0\n",
      "cost      0\n",
      "dtype: int64\n",
      "--------------------------------------------------\n",
      "\n",
      "Полных дубликатов в данных -  0\n"
     ]
    }
   ],
   "source": [
    "preview(cost)"
   ]
  },
  {
   "cell_type": "markdown",
   "metadata": {},
   "source": [
    "Небольшой датасет, всего 28 строк. В целом данные чистые, проверим только неявные дубликаты в столбце source и поменяем тип данных в столбце с датой"
   ]
  },
  {
   "cell_type": "code",
   "execution_count": 10,
   "metadata": {},
   "outputs": [
    {
     "data": {
      "text/plain": [
       "array(['facebook_ads', 'instagram_new_adverts', 'yandex_direct',\n",
       "       'youtube_channel_reklama'], dtype=object)"
      ]
     },
     "execution_count": 10,
     "metadata": {},
     "output_type": "execute_result"
    }
   ],
   "source": [
    "# уникальные значения столбца, проверяем неявные дубликаты\n",
    "cost['source'].unique()"
   ]
  },
  {
   "cell_type": "code",
   "execution_count": 11,
   "metadata": {},
   "outputs": [],
   "source": [
    "# дату приводим к нужному типу, добавляем день к дате для унификации (платежи авансовые)\n",
    "cost['day'] = pd.to_datetime(cost['day'])\n",
    "cost['day'] = cost['day'] + timedelta(days=1)"
   ]
  },
  {
   "cell_type": "code",
   "execution_count": 12,
   "metadata": {},
   "outputs": [
    {
     "name": "stdout",
     "output_type": "stream",
     "text": [
      "datetime64[ns]\n"
     ]
    },
    {
     "data": {
      "text/html": [
       "<div>\n",
       "<style scoped>\n",
       "    .dataframe tbody tr th:only-of-type {\n",
       "        vertical-align: middle;\n",
       "    }\n",
       "\n",
       "    .dataframe tbody tr th {\n",
       "        vertical-align: top;\n",
       "    }\n",
       "\n",
       "    .dataframe thead th {\n",
       "        text-align: right;\n",
       "    }\n",
       "</style>\n",
       "<table border=\"1\" class=\"dataframe\">\n",
       "  <thead>\n",
       "    <tr style=\"text-align: right;\">\n",
       "      <th></th>\n",
       "      <th>source</th>\n",
       "      <th>day</th>\n",
       "      <th>cost</th>\n",
       "    </tr>\n",
       "  </thead>\n",
       "  <tbody>\n",
       "    <tr>\n",
       "      <th>0</th>\n",
       "      <td>facebook_ads</td>\n",
       "      <td>2020-05-04</td>\n",
       "      <td>935.882786</td>\n",
       "    </tr>\n",
       "    <tr>\n",
       "      <th>1</th>\n",
       "      <td>facebook_ads</td>\n",
       "      <td>2020-05-05</td>\n",
       "      <td>548.354480</td>\n",
       "    </tr>\n",
       "    <tr>\n",
       "      <th>2</th>\n",
       "      <td>facebook_ads</td>\n",
       "      <td>2020-05-06</td>\n",
       "      <td>260.185754</td>\n",
       "    </tr>\n",
       "    <tr>\n",
       "      <th>3</th>\n",
       "      <td>facebook_ads</td>\n",
       "      <td>2020-05-07</td>\n",
       "      <td>177.982200</td>\n",
       "    </tr>\n",
       "    <tr>\n",
       "      <th>4</th>\n",
       "      <td>facebook_ads</td>\n",
       "      <td>2020-05-08</td>\n",
       "      <td>111.766796</td>\n",
       "    </tr>\n",
       "    <tr>\n",
       "      <th>5</th>\n",
       "      <td>facebook_ads</td>\n",
       "      <td>2020-05-09</td>\n",
       "      <td>68.009276</td>\n",
       "    </tr>\n",
       "    <tr>\n",
       "      <th>6</th>\n",
       "      <td>facebook_ads</td>\n",
       "      <td>2020-05-10</td>\n",
       "      <td>38.723350</td>\n",
       "    </tr>\n",
       "    <tr>\n",
       "      <th>7</th>\n",
       "      <td>instagram_new_adverts</td>\n",
       "      <td>2020-05-04</td>\n",
       "      <td>943.204717</td>\n",
       "    </tr>\n",
       "    <tr>\n",
       "      <th>8</th>\n",
       "      <td>instagram_new_adverts</td>\n",
       "      <td>2020-05-05</td>\n",
       "      <td>502.925451</td>\n",
       "    </tr>\n",
       "    <tr>\n",
       "      <th>9</th>\n",
       "      <td>instagram_new_adverts</td>\n",
       "      <td>2020-05-06</td>\n",
       "      <td>313.970984</td>\n",
       "    </tr>\n",
       "  </tbody>\n",
       "</table>\n",
       "</div>"
      ],
      "text/plain": [
       "                  source        day        cost\n",
       "0           facebook_ads 2020-05-04  935.882786\n",
       "1           facebook_ads 2020-05-05  548.354480\n",
       "2           facebook_ads 2020-05-06  260.185754\n",
       "3           facebook_ads 2020-05-07  177.982200\n",
       "4           facebook_ads 2020-05-08  111.766796\n",
       "5           facebook_ads 2020-05-09   68.009276\n",
       "6           facebook_ads 2020-05-10   38.723350\n",
       "7  instagram_new_adverts 2020-05-04  943.204717\n",
       "8  instagram_new_adverts 2020-05-05  502.925451\n",
       "9  instagram_new_adverts 2020-05-06  313.970984"
      ]
     },
     "metadata": {},
     "output_type": "display_data"
    }
   ],
   "source": [
    "# проверяем тип данных и даты\n",
    "print(cost['day'].dtypes)\n",
    "display(cost.head(10))"
   ]
  },
  {
   "cell_type": "code",
   "execution_count": 13,
   "metadata": {},
   "outputs": [
    {
     "name": "stdout",
     "output_type": "stream",
     "text": [
      "Посмотрим на данные\n"
     ]
    },
    {
     "data": {
      "text/html": [
       "<div>\n",
       "<style scoped>\n",
       "    .dataframe tbody tr th:only-of-type {\n",
       "        vertical-align: middle;\n",
       "    }\n",
       "\n",
       "    .dataframe tbody tr th {\n",
       "        vertical-align: top;\n",
       "    }\n",
       "\n",
       "    .dataframe thead th {\n",
       "        text-align: right;\n",
       "    }\n",
       "</style>\n",
       "<table border=\"1\" class=\"dataframe\">\n",
       "  <thead>\n",
       "    <tr style=\"text-align: right;\">\n",
       "      <th></th>\n",
       "      <th>user_id</th>\n",
       "      <th>source</th>\n",
       "    </tr>\n",
       "  </thead>\n",
       "  <tbody>\n",
       "    <tr>\n",
       "      <th>0</th>\n",
       "      <td>0001f83c-c6ac-4621-b7f0-8a28b283ac30</td>\n",
       "      <td>facebook_ads</td>\n",
       "    </tr>\n",
       "    <tr>\n",
       "      <th>1</th>\n",
       "      <td>00151b4f-ba38-44a8-a650-d7cf130a0105</td>\n",
       "      <td>yandex_direct</td>\n",
       "    </tr>\n",
       "    <tr>\n",
       "      <th>2</th>\n",
       "      <td>001aaea6-3d14-43f1-8ca8-7f48820f17aa</td>\n",
       "      <td>youtube_channel_reklama</td>\n",
       "    </tr>\n",
       "    <tr>\n",
       "      <th>3</th>\n",
       "      <td>001d39dc-366c-4021-9604-6a3b9ff01e25</td>\n",
       "      <td>instagram_new_adverts</td>\n",
       "    </tr>\n",
       "    <tr>\n",
       "      <th>4</th>\n",
       "      <td>002f508f-67b6-479f-814b-b05f00d4e995</td>\n",
       "      <td>facebook_ads</td>\n",
       "    </tr>\n",
       "  </tbody>\n",
       "</table>\n",
       "</div>"
      ],
      "text/plain": [
       "                                user_id                   source\n",
       "0  0001f83c-c6ac-4621-b7f0-8a28b283ac30             facebook_ads\n",
       "1  00151b4f-ba38-44a8-a650-d7cf130a0105            yandex_direct\n",
       "2  001aaea6-3d14-43f1-8ca8-7f48820f17aa  youtube_channel_reklama\n",
       "3  001d39dc-366c-4021-9604-6a3b9ff01e25    instagram_new_adverts\n",
       "4  002f508f-67b6-479f-814b-b05f00d4e995             facebook_ads"
      ]
     },
     "metadata": {},
     "output_type": "display_data"
    },
    {
     "name": "stdout",
     "output_type": "stream",
     "text": [
      "--------------------------------------------------\n",
      "\n",
      "Атрибуты\n",
      "<class 'pandas.core.frame.DataFrame'>\n",
      "RangeIndex: 13576 entries, 0 to 13575\n",
      "Data columns (total 2 columns):\n",
      " #   Column   Non-Null Count  Dtype \n",
      "---  ------   --------------  ----- \n",
      " 0   user_id  13576 non-null  object\n",
      " 1   source   13576 non-null  object\n",
      "dtypes: object(2)\n",
      "memory usage: 212.2+ KB\n",
      "None\n",
      "--------------------------------------------------\n",
      "\n",
      "Пропусков в данных\n",
      "user_id    0\n",
      "source     0\n",
      "dtype: int64\n",
      "--------------------------------------------------\n",
      "\n",
      "Полных дубликатов в данных -  0\n"
     ]
    }
   ],
   "source": [
    "preview(source)"
   ]
  },
  {
   "cell_type": "code",
   "execution_count": 14,
   "metadata": {},
   "outputs": [
    {
     "data": {
      "text/plain": [
       "array(['facebook_ads', 'yandex_direct', 'youtube_channel_reklama',\n",
       "       'instagram_new_adverts'], dtype=object)"
      ]
     },
     "execution_count": 14,
     "metadata": {},
     "output_type": "execute_result"
    }
   ],
   "source": [
    "# проверка на неявные дубликаты\n",
    "source['source'].unique()"
   ]
  },
  {
   "cell_type": "markdown",
   "metadata": {},
   "source": [
    "Неявных дублей нет."
   ]
  },
  {
   "cell_type": "markdown",
   "metadata": {},
   "source": [
    "### Итоги\n",
    "\n",
    "**В данных 'game' есть пропуски, все они связаны с механикой игры, заполнять и удалять их не стали, так как они тоже источник информации. Был удален 1 полный дубликат. Во всех таблицах данные о времени приведены к нужному типу.**"
   ]
  },
  {
   "cell_type": "markdown",
   "metadata": {},
   "source": [
    "## Исследовательский анализ\n",
    "\n",
    "Исследуем данные в каждой таблице.\n",
    "\n",
    "В данных **game**:\n",
    "- оценим количество событий:  всего, по типам, по дням \n",
    "- назовем какой тип здания предпочитают пользователи\n",
    "- узнаем за какое время мы располагаем данными, построим график распределения событий во времени"
   ]
  },
  {
   "cell_type": "code",
   "execution_count": 15,
   "metadata": {
    "scrolled": false
   },
   "outputs": [
    {
     "name": "stdout",
     "output_type": "stream",
     "text": [
      "Уникальных событий - 3\n",
      "Всего событий - 135639\n",
      "Пользователей - 13576\n",
      "Пользователи построили - 127956 зданий\n",
      "В среднем на пользователя приходится - 9.43 построек\n",
      "Закончили играть 1 уровень - 5817 пользователей, это - 42.85% (от общего количества):\n",
      "из них закончили играть 1 уровень и реализовали проект (исследователи) - 1866 пользователей, это 32.08% от закончивших игру,\n",
      "закончили играть 1 уровень одержав победу (воители) - 3951 пользователей, это - 67.92% от закончивших игру.\n"
     ]
    }
   ],
   "source": [
    "#исследование данных в таблице \"game\"\n",
    "count_event = game['event'].nunique()\n",
    "print ('Уникальных событий -', count_event)\n",
    "    \n",
    "total_event = game['event'].count()\n",
    "print ('Всего событий -', total_event)\n",
    "    \n",
    "count_user = game['user_id'].nunique()\n",
    "print('Пользователей -', count_user)\n",
    "   \n",
    "cnt_building = game[game['event'] == 'building']['user_id'].count()\n",
    "print(f'Пользователи построили - {cnt_building} зданий')\n",
    "print('В среднем на пользователя приходится -', round((cnt_building/count_user),2), 'построек')\n",
    "\n",
    "finish = game[game['event'] == 'finished_stage_1']['user_id'].count()\n",
    "per_finished = round((finish/count_user * 100),2)\n",
    "print(f'Закончили играть 1 уровень - {finish} пользователей, это - {per_finished}% (от общего количества):')\n",
    "\n",
    "project = game[game['event'] == 'project']['user_id'].count()\n",
    "per_project = round((project/finish * 100),2)\n",
    "print(f'из них закончили играть 1 уровень и реализовали проект (исследователи) - {project} пользователей, это {per_project}% от закончивших игру,')\n",
    "\n",
    "war = finish - project\n",
    "per_war = round((war/finish * 100),2)\n",
    "print(f'закончили играть 1 уровень одержав победу (воители) - {war} пользователей, это - {per_war}% от закончивших игру.')\n",
    " "
   ]
  },
  {
   "cell_type": "code",
   "execution_count": 16,
   "metadata": {
    "scrolled": false
   },
   "outputs": [
    {
     "name": "stdout",
     "output_type": "stream",
     "text": [
      "Всего построено 127956 зданий.\n"
     ]
    },
    {
     "data": {
      "image/png": "[encoded data removed]",
      "text/plain": [
       "<Figure size 1080x432 with 1 Axes>"
      ]
     },
     "metadata": {},
     "output_type": "display_data"
    }
   ],
   "source": [
    "# узнаем общее количество зданий и создаем круговую диаграмму для типов построек\n",
    "\n",
    "print('Всего построено', game.query('event == \"building\"')['building_type'].count(), 'зданий.')\n",
    "\n",
    "f, ax = plt.subplots(figsize=(15,6 ))\n",
    "with plt.style.context('seaborn-deep'):\n",
    "    game['building_type'].value_counts().plot(kind='pie', autopct='%1.1f%%', title='Какие здания строят игроки')\n",
    "ax.set_ylabel('')\n",
    "plt.show()"
   ]
  },
  {
   "cell_type": "markdown",
   "metadata": {},
   "source": [
    "- БОльшая часть пользователей (67.92%) - воители: закончили уровень после победы над врагом, соответственно  и самый популярный тип зданий 46.4% - космопорты (spaceport - там где, игрок может генерировать армию).\n",
    "- Практически столько же построек типа сборочный цех (assembly_shop)  42.6% - что хорошо для игры, пользователи активно создают постройки для реализации своей космической программы, значит вовлечены в игру.\n",
    "- Всего 11% зданий от всех построенных - исследовательские центры, это также закономерно, так как в 1 уровне для реализации проекта нужен хотя бы 1 исследовательский центр."
   ]
  },
  {
   "cell_type": "code",
   "execution_count": 17,
   "metadata": {
    "scrolled": false
   },
   "outputs": [
    {
     "name": "stdout",
     "output_type": "stream",
     "text": [
      "Мы располагаем данными о событиях с 2020-05-04 00:00:01 по 2020-06-05 12:32:49\n"
     ]
    },
    {
     "data": {
      "image/png": "[encoded data removed]",
      "text/plain": [
       "<Figure size 1080x432 with 1 Axes>"
      ]
     },
     "metadata": {
      "needs_background": "light"
     },
     "output_type": "display_data"
    }
   ],
   "source": [
    "#гистограмма распределения событий по времени\n",
    "print('Мы располагаем данными о событиях с', game['event_datetime'].min(), 'по', game['event_datetime'].max())\n",
    "\n",
    "sns.set_palette('deep')\n",
    "f, ax = plt.subplots(figsize=(15,6 ))\n",
    "sns.histplot(data = game, x = 'event_datetime') \n",
    "plt.title(f'Гистограмма распределения событий по времени')\n",
    "plt.show()"
   ]
  },
  {
   "cell_type": "markdown",
   "metadata": {},
   "source": [
    "Распределение событий во времени подтверждает наши исходные данные - до 10 мая количество событий растет, так как привлекались новые пользователи, после - количество событий уменьшается: кто-то уже прошел на следующий уровень, кто-то перестал играть, кто-то еще играет уровень.\n",
    "\n",
    "\n",
    "Далее посмотрим таблицу с рекламными расходами по каналам привлечения - **cost**.\n",
    "- оценим общую сумму рекламных расходов, сумму по каналам привлечения, визуализируем рекламные расходы по источникам с привязкой к датам (с 4 по 10 мая)\n"
   ]
  },
  {
   "cell_type": "code",
   "execution_count": 18,
   "metadata": {},
   "outputs": [
    {
     "data": {
      "text/plain": [
       "7603.58"
      ]
     },
     "execution_count": 18,
     "metadata": {},
     "output_type": "execute_result"
    }
   ],
   "source": [
    "#общие затраты на рекламу\n",
    "round((sum(cost['cost'])),2)"
   ]
  },
  {
   "cell_type": "code",
   "execution_count": 19,
   "metadata": {},
   "outputs": [
    {
     "data": {
      "text/plain": [
       "source\n",
       "facebook_ads               2140.90\n",
       "instagram_new_adverts      2161.44\n",
       "yandex_direct              2233.11\n",
       "youtube_channel_reklama    1068.12\n",
       "Name: cost, dtype: float64"
      ]
     },
     "execution_count": 19,
     "metadata": {},
     "output_type": "execute_result"
    }
   ],
   "source": [
    "# расходы на рекламу с разбивкой по рекламным каналам\n",
    "round((cost.groupby('source')['cost'].sum()),2)"
   ]
  },
  {
   "cell_type": "code",
   "execution_count": 20,
   "metadata": {},
   "outputs": [
    {
     "data": {
      "image/png": "[encoded data removed]",
      "text/plain": [
       "<Figure size 1080x432 with 1 Axes>"
      ]
     },
     "metadata": {
      "needs_background": "light"
     },
     "output_type": "display_data"
    }
   ],
   "source": [
    "# построим график рекламных расходов по источникам с привязкой к датам (с 4 по 10 мая)\n",
    "f, ax = plt.subplots(figsize=(15,6 ))\n",
    "sns.lineplot(data = cost, x = 'day', y = 'cost', hue='source') \n",
    "plt.title(f'Как расходовали рекламный бюджет по дням')\n",
    "ax.legend(title='Рекламные каналы')\n",
    "ax.set_xlabel('Дни размещения рекламы')\n",
    "ax.set_ylabel('Затраты на рекламу')\n",
    "plt.show()"
   ]
  },
  {
   "cell_type": "markdown",
   "metadata": {},
   "source": [
    "Общий рекламный бюджет - 7603 у.е.\n",
    "\n",
    "*Предположу, что околопраздничные и праздничные дни были выбраны для рекламы с тем рассчетом, чтобы для запуска нового продукта \"поймать в интернете\" уже практически отдыхающую и отдыхающую аудиторию на длинных майских праздниках, использовать по максимуму эффект новизны. Запуск рекламы 4 мая может быть связан с тем, что после первых нескольких дней отдыха (когда, все дела переделаны, или до места отдыха добрались) люди чаще идут в интернет и соцсети. Сумму на оплату привлечения игроков уменьшали, возможно, надеясь на органиков или уже получив достаточное количество органических пользователей*\n",
    "\n",
    "Примерно одинаковое количество денег было потрачено на  фэйсбук, инстаграм и яндекс-директ. В два раза меньший бюджет получил ютуб."
   ]
  },
  {
   "cell_type": "markdown",
   "metadata": {},
   "source": [
    "Посмотрим из каких рекламных источников пришли игроки - данные **source**"
   ]
  },
  {
   "cell_type": "code",
   "execution_count": 21,
   "metadata": {},
   "outputs": [
    {
     "data": {
      "text/plain": [
       "yandex_direct              4817\n",
       "instagram_new_adverts      3347\n",
       "facebook_ads               2726\n",
       "youtube_channel_reklama    2686\n",
       "Name: source, dtype: int64"
      ]
     },
     "execution_count": 21,
     "metadata": {},
     "output_type": "execute_result"
    }
   ],
   "source": [
    "source['source'].value_counts()"
   ]
  },
  {
   "cell_type": "code",
   "execution_count": 22,
   "metadata": {},
   "outputs": [
    {
     "data": {
      "image/png": "[encoded data removed]",
      "text/plain": [
       "<Figure size 1080x432 with 1 Axes>"
      ]
     },
     "metadata": {},
     "output_type": "display_data"
    }
   ],
   "source": [
    "f, ax = plt.subplots(figsize=(15,6 ))\n",
    "with plt.style.context('seaborn-deep'):\n",
    "    source['source'].value_counts().plot(\n",
    "        kind='pie', autopct='%1.0f%%', title='Соотношение привлечения игроков через рекламные каналы'\n",
    "    )\n",
    "ax.set_ylabel('')\n",
    "plt.show()"
   ]
  },
  {
   "cell_type": "markdown",
   "metadata": {},
   "source": [
    "- реклама в яндекс-директ показала большую эффективность, при практически равном бюджете привлекла на 10% пользователей больше чем инстаграм и на 15% больше пользователей, чем фэйсбук\n",
    "- на ютуб потратили в 2 раза меньше, при этом пользователей он привлек столько же, сколько и фэйсбук"
   ]
  },
  {
   "cell_type": "markdown",
   "metadata": {},
   "source": [
    "### Итоги\n",
    "\n",
    "- Всего событий, совершенных игроками с 4 мая по 5 июня - 135639. По событиям мы выяснили, что закончили уровень и перешли на следующий 42.85% игроков от общего количества. Из них 68% игроков закончили уровень, одержав победу в сражении, 32% пользователей использовали стратегию выполнения проекта.\n",
    "\n",
    "- Всего игроков - 13576, из них - 35% пришли из яндекс-директ, 25% - из инстаграмм, по 20% из фэйсбука и ютуба.\n",
    "\n",
    "- Пользователи построили - 127956 зданий, самые популярные типы зданий космопорты и сборочные цеха.\n",
    "\n",
    "- Расходы на рекламу - 7603 у.е. Примерно поровну был распределен бюджет между Яндекс-директ(2233 у.е.), инстаграм(2161 у.е.) и фэйсбук (2140у.е.). В два раза меньше денег получил ютуб."
   ]
  },
  {
   "cell_type": "markdown",
   "metadata": {},
   "source": [
    "## Анализ рекламных источников"
   ]
  },
  {
   "cell_type": "markdown",
   "metadata": {},
   "source": [
    "### Объединяем данные для анализа"
   ]
  },
  {
   "cell_type": "markdown",
   "metadata": {},
   "source": [
    "Перед анализом рекламных источников создадим сводную таблицу, в которой преобразуем данные, а также опишем ее."
   ]
  },
  {
   "cell_type": "code",
   "execution_count": 23,
   "metadata": {
    "scrolled": true
   },
   "outputs": [
    {
     "data": {
      "text/html": [
       "<div>\n",
       "<style scoped>\n",
       "    .dataframe tbody tr th:only-of-type {\n",
       "        vertical-align: middle;\n",
       "    }\n",
       "\n",
       "    .dataframe tbody tr th {\n",
       "        vertical-align: top;\n",
       "    }\n",
       "\n",
       "    .dataframe thead th {\n",
       "        text-align: right;\n",
       "    }\n",
       "</style>\n",
       "<table border=\"1\" class=\"dataframe\">\n",
       "  <thead>\n",
       "    <tr style=\"text-align: right;\">\n",
       "      <th></th>\n",
       "      <th>user_id</th>\n",
       "      <th>cnt_session</th>\n",
       "      <th>finished_stage_1</th>\n",
       "      <th>strategy_project</th>\n",
       "      <th>start_flag</th>\n",
       "      <th>finish_flag</th>\n",
       "      <th>project_flag</th>\n",
       "      <th>last_action</th>\n",
       "      <th>d</th>\n",
       "      <th>dd</th>\n",
       "    </tr>\n",
       "  </thead>\n",
       "  <tbody>\n",
       "    <tr>\n",
       "      <th>0</th>\n",
       "      <td>0001f83c-c6ac-4621-b7f0-8a28b283ac30</td>\n",
       "      <td>13.0</td>\n",
       "      <td>0.0</td>\n",
       "      <td>0.0</td>\n",
       "      <td>2020-05-06 01:07:37</td>\n",
       "      <td>0</td>\n",
       "      <td>0</td>\n",
       "      <td>2020-05-20 11:26:06</td>\n",
       "      <td>0</td>\n",
       "      <td>0</td>\n",
       "    </tr>\n",
       "    <tr>\n",
       "      <th>1</th>\n",
       "      <td>00151b4f-ba38-44a8-a650-d7cf130a0105</td>\n",
       "      <td>9.0</td>\n",
       "      <td>0.0</td>\n",
       "      <td>0.0</td>\n",
       "      <td>2020-05-06 03:09:12</td>\n",
       "      <td>0</td>\n",
       "      <td>0</td>\n",
       "      <td>2020-05-18 10:46:52</td>\n",
       "      <td>0</td>\n",
       "      <td>0</td>\n",
       "    </tr>\n",
       "    <tr>\n",
       "      <th>2</th>\n",
       "      <td>001aaea6-3d14-43f1-8ca8-7f48820f17aa</td>\n",
       "      <td>4.0</td>\n",
       "      <td>0.0</td>\n",
       "      <td>0.0</td>\n",
       "      <td>2020-05-05 18:08:52</td>\n",
       "      <td>0</td>\n",
       "      <td>0</td>\n",
       "      <td>2020-05-14 09:21:27</td>\n",
       "      <td>0</td>\n",
       "      <td>0</td>\n",
       "    </tr>\n",
       "    <tr>\n",
       "      <th>3</th>\n",
       "      <td>001d39dc-366c-4021-9604-6a3b9ff01e25</td>\n",
       "      <td>8.0</td>\n",
       "      <td>1.0</td>\n",
       "      <td>0.0</td>\n",
       "      <td>2020-05-05 21:02:05</td>\n",
       "      <td>2020-05-12 07:40:47</td>\n",
       "      <td>0</td>\n",
       "      <td>2020-05-12 04:14:25</td>\n",
       "      <td>2020-05-12 07:40:47</td>\n",
       "      <td>0</td>\n",
       "    </tr>\n",
       "    <tr>\n",
       "      <th>4</th>\n",
       "      <td>002f508f-67b6-479f-814b-b05f00d4e995</td>\n",
       "      <td>12.0</td>\n",
       "      <td>0.0</td>\n",
       "      <td>0.0</td>\n",
       "      <td>2020-05-05 13:49:58</td>\n",
       "      <td>0</td>\n",
       "      <td>0</td>\n",
       "      <td>2020-05-22 02:46:45</td>\n",
       "      <td>0</td>\n",
       "      <td>0</td>\n",
       "    </tr>\n",
       "  </tbody>\n",
       "</table>\n",
       "</div>"
      ],
      "text/plain": [
       "                                user_id  cnt_session  finished_stage_1  \\\n",
       "0  0001f83c-c6ac-4621-b7f0-8a28b283ac30         13.0               0.0   \n",
       "1  00151b4f-ba38-44a8-a650-d7cf130a0105          9.0               0.0   \n",
       "2  001aaea6-3d14-43f1-8ca8-7f48820f17aa          4.0               0.0   \n",
       "3  001d39dc-366c-4021-9604-6a3b9ff01e25          8.0               1.0   \n",
       "4  002f508f-67b6-479f-814b-b05f00d4e995         12.0               0.0   \n",
       "\n",
       "   strategy_project          start_flag          finish_flag project_flag  \\\n",
       "0               0.0 2020-05-06 01:07:37                    0            0   \n",
       "1               0.0 2020-05-06 03:09:12                    0            0   \n",
       "2               0.0 2020-05-05 18:08:52                    0            0   \n",
       "3               0.0 2020-05-05 21:02:05  2020-05-12 07:40:47            0   \n",
       "4               0.0 2020-05-05 13:49:58                    0            0   \n",
       "\n",
       "          last_action                    d dd  \n",
       "0 2020-05-20 11:26:06                    0  0  \n",
       "1 2020-05-18 10:46:52                    0  0  \n",
       "2 2020-05-14 09:21:27                    0  0  \n",
       "3 2020-05-12 04:14:25  2020-05-12 07:40:47  0  \n",
       "4 2020-05-22 02:46:45                    0  0  "
      ]
     },
     "execution_count": 23,
     "metadata": {},
     "output_type": "execute_result"
    }
   ],
   "source": [
    "# создаем сводную таблицу, группируя по user_id, сохраняя значимые для нас данные из 'event'\n",
    "pivot = game.pivot_table(\n",
    "    index='user_id', columns='event', values = 'event_datetime', aggfunc = ['count', 'first', 'last']\n",
    ").fillna(0).reset_index()\n",
    "\n",
    "# переименовываем столбцы\n",
    "pivot.columns = [\n",
    "    'user_id','cnt_session', 'finished_stage_1', 'strategy_project',\n",
    "    'start_flag', 'finish_flag', 'project_flag', 'last_action', 'd', 'dd'\n",
    "]\n",
    "\n",
    "# смотрим данные\n",
    "pivot.head()"
   ]
  },
  {
   "cell_type": "markdown",
   "metadata": {},
   "source": [
    "Механизм прохождения уровня разрешает пользователю многократное событие building - столбец cnt_building, и только однократное событие project и finished_stage_1 - одноименные столбцы после группировки стали столбцами с бинарными данными (1-да, 0-нет). Из-за этой же особенности мы уберем столбцы d  и dd, так как они дублируют столбцы finish_level и timestamp_project."
   ]
  },
  {
   "cell_type": "code",
   "execution_count": 24,
   "metadata": {},
   "outputs": [
    {
     "data": {
      "text/html": [
       "<div>\n",
       "<style scoped>\n",
       "    .dataframe tbody tr th:only-of-type {\n",
       "        vertical-align: middle;\n",
       "    }\n",
       "\n",
       "    .dataframe tbody tr th {\n",
       "        vertical-align: top;\n",
       "    }\n",
       "\n",
       "    .dataframe thead th {\n",
       "        text-align: right;\n",
       "    }\n",
       "</style>\n",
       "<table border=\"1\" class=\"dataframe\">\n",
       "  <thead>\n",
       "    <tr style=\"text-align: right;\">\n",
       "      <th></th>\n",
       "      <th>user_id</th>\n",
       "      <th>cnt_session</th>\n",
       "      <th>finished_stage_1</th>\n",
       "      <th>strategy_project</th>\n",
       "      <th>start_flag</th>\n",
       "      <th>finish_flag</th>\n",
       "      <th>project_flag</th>\n",
       "      <th>last_action</th>\n",
       "    </tr>\n",
       "  </thead>\n",
       "  <tbody>\n",
       "    <tr>\n",
       "      <th>0</th>\n",
       "      <td>0001f83c-c6ac-4621-b7f0-8a28b283ac30</td>\n",
       "      <td>13.0</td>\n",
       "      <td>0.0</td>\n",
       "      <td>0.0</td>\n",
       "      <td>2020-05-06 01:07:37</td>\n",
       "      <td>0</td>\n",
       "      <td>0</td>\n",
       "      <td>2020-05-20 11:26:06</td>\n",
       "    </tr>\n",
       "    <tr>\n",
       "      <th>1</th>\n",
       "      <td>00151b4f-ba38-44a8-a650-d7cf130a0105</td>\n",
       "      <td>9.0</td>\n",
       "      <td>0.0</td>\n",
       "      <td>0.0</td>\n",
       "      <td>2020-05-06 03:09:12</td>\n",
       "      <td>0</td>\n",
       "      <td>0</td>\n",
       "      <td>2020-05-18 10:46:52</td>\n",
       "    </tr>\n",
       "    <tr>\n",
       "      <th>2</th>\n",
       "      <td>001aaea6-3d14-43f1-8ca8-7f48820f17aa</td>\n",
       "      <td>4.0</td>\n",
       "      <td>0.0</td>\n",
       "      <td>0.0</td>\n",
       "      <td>2020-05-05 18:08:52</td>\n",
       "      <td>0</td>\n",
       "      <td>0</td>\n",
       "      <td>2020-05-14 09:21:27</td>\n",
       "    </tr>\n",
       "    <tr>\n",
       "      <th>3</th>\n",
       "      <td>001d39dc-366c-4021-9604-6a3b9ff01e25</td>\n",
       "      <td>8.0</td>\n",
       "      <td>1.0</td>\n",
       "      <td>0.0</td>\n",
       "      <td>2020-05-05 21:02:05</td>\n",
       "      <td>2020-05-12 07:40:47</td>\n",
       "      <td>0</td>\n",
       "      <td>2020-05-12 04:14:25</td>\n",
       "    </tr>\n",
       "    <tr>\n",
       "      <th>4</th>\n",
       "      <td>002f508f-67b6-479f-814b-b05f00d4e995</td>\n",
       "      <td>12.0</td>\n",
       "      <td>0.0</td>\n",
       "      <td>0.0</td>\n",
       "      <td>2020-05-05 13:49:58</td>\n",
       "      <td>0</td>\n",
       "      <td>0</td>\n",
       "      <td>2020-05-22 02:46:45</td>\n",
       "    </tr>\n",
       "  </tbody>\n",
       "</table>\n",
       "</div>"
      ],
      "text/plain": [
       "                                user_id  cnt_session  finished_stage_1  \\\n",
       "0  0001f83c-c6ac-4621-b7f0-8a28b283ac30         13.0               0.0   \n",
       "1  00151b4f-ba38-44a8-a650-d7cf130a0105          9.0               0.0   \n",
       "2  001aaea6-3d14-43f1-8ca8-7f48820f17aa          4.0               0.0   \n",
       "3  001d39dc-366c-4021-9604-6a3b9ff01e25          8.0               1.0   \n",
       "4  002f508f-67b6-479f-814b-b05f00d4e995         12.0               0.0   \n",
       "\n",
       "   strategy_project          start_flag          finish_flag project_flag  \\\n",
       "0               0.0 2020-05-06 01:07:37                    0            0   \n",
       "1               0.0 2020-05-06 03:09:12                    0            0   \n",
       "2               0.0 2020-05-05 18:08:52                    0            0   \n",
       "3               0.0 2020-05-05 21:02:05  2020-05-12 07:40:47            0   \n",
       "4               0.0 2020-05-05 13:49:58                    0            0   \n",
       "\n",
       "          last_action  \n",
       "0 2020-05-20 11:26:06  \n",
       "1 2020-05-18 10:46:52  \n",
       "2 2020-05-14 09:21:27  \n",
       "3 2020-05-12 04:14:25  \n",
       "4 2020-05-22 02:46:45  "
      ]
     },
     "execution_count": 24,
     "metadata": {},
     "output_type": "execute_result"
    }
   ],
   "source": [
    "# формируем таблицу с нужными столбцами и проверяем\n",
    "pivot = pivot[['user_id','cnt_session', 'finished_stage_1', 'strategy_project',\n",
    "    'start_flag', 'finish_flag', 'project_flag', 'last_action']]\n",
    "pivot.head()"
   ]
  },
  {
   "cell_type": "code",
   "execution_count": 25,
   "metadata": {},
   "outputs": [
    {
     "data": {
      "text/html": [
       "<div>\n",
       "<style scoped>\n",
       "    .dataframe tbody tr th:only-of-type {\n",
       "        vertical-align: middle;\n",
       "    }\n",
       "\n",
       "    .dataframe tbody tr th {\n",
       "        vertical-align: top;\n",
       "    }\n",
       "\n",
       "    .dataframe thead th {\n",
       "        text-align: right;\n",
       "    }\n",
       "</style>\n",
       "<table border=\"1\" class=\"dataframe\">\n",
       "  <thead>\n",
       "    <tr style=\"text-align: right;\">\n",
       "      <th></th>\n",
       "      <th>user_id</th>\n",
       "      <th>cnt_session</th>\n",
       "      <th>finished_stage_1</th>\n",
       "      <th>strategy_project</th>\n",
       "      <th>start_flag</th>\n",
       "      <th>finish_flag</th>\n",
       "      <th>project_flag</th>\n",
       "      <th>last_action</th>\n",
       "      <th>source</th>\n",
       "    </tr>\n",
       "  </thead>\n",
       "  <tbody>\n",
       "    <tr>\n",
       "      <th>0</th>\n",
       "      <td>0001f83c-c6ac-4621-b7f0-8a28b283ac30</td>\n",
       "      <td>13.0</td>\n",
       "      <td>0.0</td>\n",
       "      <td>0.0</td>\n",
       "      <td>2020-05-06 01:07:37</td>\n",
       "      <td>0</td>\n",
       "      <td>0</td>\n",
       "      <td>2020-05-20 11:26:06</td>\n",
       "      <td>facebook_ads</td>\n",
       "    </tr>\n",
       "    <tr>\n",
       "      <th>1</th>\n",
       "      <td>00151b4f-ba38-44a8-a650-d7cf130a0105</td>\n",
       "      <td>9.0</td>\n",
       "      <td>0.0</td>\n",
       "      <td>0.0</td>\n",
       "      <td>2020-05-06 03:09:12</td>\n",
       "      <td>0</td>\n",
       "      <td>0</td>\n",
       "      <td>2020-05-18 10:46:52</td>\n",
       "      <td>yandex_direct</td>\n",
       "    </tr>\n",
       "    <tr>\n",
       "      <th>2</th>\n",
       "      <td>001aaea6-3d14-43f1-8ca8-7f48820f17aa</td>\n",
       "      <td>4.0</td>\n",
       "      <td>0.0</td>\n",
       "      <td>0.0</td>\n",
       "      <td>2020-05-05 18:08:52</td>\n",
       "      <td>0</td>\n",
       "      <td>0</td>\n",
       "      <td>2020-05-14 09:21:27</td>\n",
       "      <td>youtube_channel_reklama</td>\n",
       "    </tr>\n",
       "    <tr>\n",
       "      <th>3</th>\n",
       "      <td>001d39dc-366c-4021-9604-6a3b9ff01e25</td>\n",
       "      <td>8.0</td>\n",
       "      <td>1.0</td>\n",
       "      <td>0.0</td>\n",
       "      <td>2020-05-05 21:02:05</td>\n",
       "      <td>2020-05-12 07:40:47</td>\n",
       "      <td>0</td>\n",
       "      <td>2020-05-12 04:14:25</td>\n",
       "      <td>instagram_new_adverts</td>\n",
       "    </tr>\n",
       "    <tr>\n",
       "      <th>4</th>\n",
       "      <td>002f508f-67b6-479f-814b-b05f00d4e995</td>\n",
       "      <td>12.0</td>\n",
       "      <td>0.0</td>\n",
       "      <td>0.0</td>\n",
       "      <td>2020-05-05 13:49:58</td>\n",
       "      <td>0</td>\n",
       "      <td>0</td>\n",
       "      <td>2020-05-22 02:46:45</td>\n",
       "      <td>facebook_ads</td>\n",
       "    </tr>\n",
       "  </tbody>\n",
       "</table>\n",
       "</div>"
      ],
      "text/plain": [
       "                                user_id  cnt_session  finished_stage_1  \\\n",
       "0  0001f83c-c6ac-4621-b7f0-8a28b283ac30         13.0               0.0   \n",
       "1  00151b4f-ba38-44a8-a650-d7cf130a0105          9.0               0.0   \n",
       "2  001aaea6-3d14-43f1-8ca8-7f48820f17aa          4.0               0.0   \n",
       "3  001d39dc-366c-4021-9604-6a3b9ff01e25          8.0               1.0   \n",
       "4  002f508f-67b6-479f-814b-b05f00d4e995         12.0               0.0   \n",
       "\n",
       "   strategy_project          start_flag          finish_flag project_flag  \\\n",
       "0               0.0 2020-05-06 01:07:37                    0            0   \n",
       "1               0.0 2020-05-06 03:09:12                    0            0   \n",
       "2               0.0 2020-05-05 18:08:52                    0            0   \n",
       "3               0.0 2020-05-05 21:02:05  2020-05-12 07:40:47            0   \n",
       "4               0.0 2020-05-05 13:49:58                    0            0   \n",
       "\n",
       "          last_action                   source  \n",
       "0 2020-05-20 11:26:06             facebook_ads  \n",
       "1 2020-05-18 10:46:52            yandex_direct  \n",
       "2 2020-05-14 09:21:27  youtube_channel_reklama  \n",
       "3 2020-05-12 04:14:25    instagram_new_adverts  \n",
       "4 2020-05-22 02:46:45             facebook_ads  "
      ]
     },
     "execution_count": 25,
     "metadata": {},
     "output_type": "execute_result"
    }
   ],
   "source": [
    "# присоединяем к pivot таблицу source, добавляем рекламные источники по user_id\n",
    "pivot_data = pd.merge(pivot, source, on='user_id', how='left')\n",
    "pivot_data.head()"
   ]
  },
  {
   "cell_type": "code",
   "execution_count": 26,
   "metadata": {},
   "outputs": [
    {
     "data": {
      "text/html": [
       "<div>\n",
       "<style scoped>\n",
       "    .dataframe tbody tr th:only-of-type {\n",
       "        vertical-align: middle;\n",
       "    }\n",
       "\n",
       "    .dataframe tbody tr th {\n",
       "        vertical-align: top;\n",
       "    }\n",
       "\n",
       "    .dataframe thead th {\n",
       "        text-align: right;\n",
       "    }\n",
       "</style>\n",
       "<table border=\"1\" class=\"dataframe\">\n",
       "  <thead>\n",
       "    <tr style=\"text-align: right;\">\n",
       "      <th></th>\n",
       "      <th>user_id</th>\n",
       "      <th>cnt_session</th>\n",
       "      <th>finished_stage_1</th>\n",
       "      <th>strategy_project</th>\n",
       "      <th>start_flag</th>\n",
       "      <th>finish_flag</th>\n",
       "      <th>project_flag</th>\n",
       "      <th>last_action</th>\n",
       "      <th>source</th>\n",
       "      <th>assembly_shop</th>\n",
       "      <th>research_center</th>\n",
       "      <th>spaceport</th>\n",
       "    </tr>\n",
       "  </thead>\n",
       "  <tbody>\n",
       "    <tr>\n",
       "      <th>0</th>\n",
       "      <td>0001f83c-c6ac-4621-b7f0-8a28b283ac30</td>\n",
       "      <td>13.0</td>\n",
       "      <td>0.0</td>\n",
       "      <td>0.0</td>\n",
       "      <td>2020-05-06 01:07:37</td>\n",
       "      <td>0</td>\n",
       "      <td>0</td>\n",
       "      <td>2020-05-20 11:26:06</td>\n",
       "      <td>facebook_ads</td>\n",
       "      <td>6.0</td>\n",
       "      <td>1.0</td>\n",
       "      <td>6.0</td>\n",
       "    </tr>\n",
       "    <tr>\n",
       "      <th>1</th>\n",
       "      <td>00151b4f-ba38-44a8-a650-d7cf130a0105</td>\n",
       "      <td>9.0</td>\n",
       "      <td>0.0</td>\n",
       "      <td>0.0</td>\n",
       "      <td>2020-05-06 03:09:12</td>\n",
       "      <td>0</td>\n",
       "      <td>0</td>\n",
       "      <td>2020-05-18 10:46:52</td>\n",
       "      <td>yandex_direct</td>\n",
       "      <td>4.0</td>\n",
       "      <td>0.0</td>\n",
       "      <td>5.0</td>\n",
       "    </tr>\n",
       "    <tr>\n",
       "      <th>2</th>\n",
       "      <td>001aaea6-3d14-43f1-8ca8-7f48820f17aa</td>\n",
       "      <td>4.0</td>\n",
       "      <td>0.0</td>\n",
       "      <td>0.0</td>\n",
       "      <td>2020-05-05 18:08:52</td>\n",
       "      <td>0</td>\n",
       "      <td>0</td>\n",
       "      <td>2020-05-14 09:21:27</td>\n",
       "      <td>youtube_channel_reklama</td>\n",
       "      <td>2.0</td>\n",
       "      <td>0.0</td>\n",
       "      <td>2.0</td>\n",
       "    </tr>\n",
       "    <tr>\n",
       "      <th>3</th>\n",
       "      <td>001d39dc-366c-4021-9604-6a3b9ff01e25</td>\n",
       "      <td>8.0</td>\n",
       "      <td>1.0</td>\n",
       "      <td>0.0</td>\n",
       "      <td>2020-05-05 21:02:05</td>\n",
       "      <td>2020-05-12 07:40:47</td>\n",
       "      <td>0</td>\n",
       "      <td>2020-05-12 04:14:25</td>\n",
       "      <td>instagram_new_adverts</td>\n",
       "      <td>4.0</td>\n",
       "      <td>0.0</td>\n",
       "      <td>4.0</td>\n",
       "    </tr>\n",
       "    <tr>\n",
       "      <th>4</th>\n",
       "      <td>002f508f-67b6-479f-814b-b05f00d4e995</td>\n",
       "      <td>12.0</td>\n",
       "      <td>0.0</td>\n",
       "      <td>0.0</td>\n",
       "      <td>2020-05-05 13:49:58</td>\n",
       "      <td>0</td>\n",
       "      <td>0</td>\n",
       "      <td>2020-05-22 02:46:45</td>\n",
       "      <td>facebook_ads</td>\n",
       "      <td>3.0</td>\n",
       "      <td>1.0</td>\n",
       "      <td>8.0</td>\n",
       "    </tr>\n",
       "  </tbody>\n",
       "</table>\n",
       "</div>"
      ],
      "text/plain": [
       "                                user_id  cnt_session  finished_stage_1  \\\n",
       "0  0001f83c-c6ac-4621-b7f0-8a28b283ac30         13.0               0.0   \n",
       "1  00151b4f-ba38-44a8-a650-d7cf130a0105          9.0               0.0   \n",
       "2  001aaea6-3d14-43f1-8ca8-7f48820f17aa          4.0               0.0   \n",
       "3  001d39dc-366c-4021-9604-6a3b9ff01e25          8.0               1.0   \n",
       "4  002f508f-67b6-479f-814b-b05f00d4e995         12.0               0.0   \n",
       "\n",
       "   strategy_project          start_flag          finish_flag project_flag  \\\n",
       "0               0.0 2020-05-06 01:07:37                    0            0   \n",
       "1               0.0 2020-05-06 03:09:12                    0            0   \n",
       "2               0.0 2020-05-05 18:08:52                    0            0   \n",
       "3               0.0 2020-05-05 21:02:05  2020-05-12 07:40:47            0   \n",
       "4               0.0 2020-05-05 13:49:58                    0            0   \n",
       "\n",
       "          last_action                   source  assembly_shop  \\\n",
       "0 2020-05-20 11:26:06             facebook_ads            6.0   \n",
       "1 2020-05-18 10:46:52            yandex_direct            4.0   \n",
       "2 2020-05-14 09:21:27  youtube_channel_reklama            2.0   \n",
       "3 2020-05-12 04:14:25    instagram_new_adverts            4.0   \n",
       "4 2020-05-22 02:46:45             facebook_ads            3.0   \n",
       "\n",
       "   research_center  spaceport  \n",
       "0              1.0        6.0  \n",
       "1              0.0        5.0  \n",
       "2              0.0        2.0  \n",
       "3              0.0        4.0  \n",
       "4              1.0        8.0  "
      ]
     },
     "execution_count": 26,
     "metadata": {},
     "output_type": "execute_result"
    }
   ],
   "source": [
    "# группируем таблицу для сохранения информации о типах построек\n",
    "building = game.loc[game['event'] == 'building'].pivot_table(\n",
    "index = 'user_id', columns = 'building_type', values = 'event', aggfunc = 'count').fillna(0).reset_index()\n",
    "\n",
    "# присоединяем информацию о типе построект к основной - pivot_data\n",
    "pivot_data = pd.merge(pivot_data, building, on = 'user_id', how='left')\n",
    "pivot_data.head()"
   ]
  },
  {
   "cell_type": "markdown",
   "metadata": {},
   "source": [
    "Дополним таблицу, создадим столбцы:\n",
    "- 'first_day', 'last_day'\n",
    "- 'revenue' - предполагаемая выручка от показа рекламы\n",
    "- 'categoty_player' - игроки по категориям: исследователи - project_strategy, воители - war_strategy, другие - other"
   ]
  },
  {
   "cell_type": "code",
   "execution_count": 27,
   "metadata": {},
   "outputs": [],
   "source": [
    "#добавляем столбец day\n",
    "pivot_data['first_day'] = pd.to_datetime(pivot_data['start_flag']).dt.date\n",
    "pivot_data['last_day'] = pd.to_datetime(pivot_data['last_action']).dt.date\n",
    "\n",
    "# добавляем столбец revenue\n",
    "pivot_data['cnt_build'] = pivot_data['assembly_shop']+pivot_data['research_center']+pivot_data['spaceport']\n",
    "pivot_data['revenue'] = pivot_data['cnt_build']*0.07"
   ]
  },
  {
   "cell_type": "code",
   "execution_count": 28,
   "metadata": {},
   "outputs": [],
   "source": [
    "def category_player(row):\n",
    "    '''\n",
    "    Функция для категоризации пользователей игры: на вход берем строки,\n",
    "    по значениям столбцов присваиваем пользователю категорию.\n",
    "    '''\n",
    "    status = row['finished_stage_1']\n",
    "    project = row['strategy_project'] \n",
    "    \n",
    "    if status == 1:\n",
    "        if project == 1:\n",
    "            return 'project_strategy'\n",
    "    if status == 1:\n",
    "        if project == 0:\n",
    "            return 'war_strategy'\n",
    "    else:\n",
    "        return 'other'"
   ]
  },
  {
   "cell_type": "code",
   "execution_count": 29,
   "metadata": {},
   "outputs": [
    {
     "data": {
      "text/html": [
       "<div>\n",
       "<style scoped>\n",
       "    .dataframe tbody tr th:only-of-type {\n",
       "        vertical-align: middle;\n",
       "    }\n",
       "\n",
       "    .dataframe tbody tr th {\n",
       "        vertical-align: top;\n",
       "    }\n",
       "\n",
       "    .dataframe thead th {\n",
       "        text-align: right;\n",
       "    }\n",
       "</style>\n",
       "<table border=\"1\" class=\"dataframe\">\n",
       "  <thead>\n",
       "    <tr style=\"text-align: right;\">\n",
       "      <th></th>\n",
       "      <th>finished_stage_1</th>\n",
       "      <th>strategy_project</th>\n",
       "      <th>category_user</th>\n",
       "    </tr>\n",
       "  </thead>\n",
       "  <tbody>\n",
       "    <tr>\n",
       "      <th>0</th>\n",
       "      <td>0.0</td>\n",
       "      <td>0.0</td>\n",
       "      <td>other</td>\n",
       "    </tr>\n",
       "    <tr>\n",
       "      <th>1</th>\n",
       "      <td>0.0</td>\n",
       "      <td>0.0</td>\n",
       "      <td>other</td>\n",
       "    </tr>\n",
       "    <tr>\n",
       "      <th>2</th>\n",
       "      <td>0.0</td>\n",
       "      <td>0.0</td>\n",
       "      <td>other</td>\n",
       "    </tr>\n",
       "    <tr>\n",
       "      <th>3</th>\n",
       "      <td>1.0</td>\n",
       "      <td>0.0</td>\n",
       "      <td>war_strategy</td>\n",
       "    </tr>\n",
       "    <tr>\n",
       "      <th>4</th>\n",
       "      <td>0.0</td>\n",
       "      <td>0.0</td>\n",
       "      <td>other</td>\n",
       "    </tr>\n",
       "    <tr>\n",
       "      <th>5</th>\n",
       "      <td>0.0</td>\n",
       "      <td>0.0</td>\n",
       "      <td>other</td>\n",
       "    </tr>\n",
       "    <tr>\n",
       "      <th>6</th>\n",
       "      <td>1.0</td>\n",
       "      <td>0.0</td>\n",
       "      <td>war_strategy</td>\n",
       "    </tr>\n",
       "    <tr>\n",
       "      <th>7</th>\n",
       "      <td>1.0</td>\n",
       "      <td>0.0</td>\n",
       "      <td>war_strategy</td>\n",
       "    </tr>\n",
       "    <tr>\n",
       "      <th>8</th>\n",
       "      <td>0.0</td>\n",
       "      <td>0.0</td>\n",
       "      <td>other</td>\n",
       "    </tr>\n",
       "    <tr>\n",
       "      <th>9</th>\n",
       "      <td>1.0</td>\n",
       "      <td>0.0</td>\n",
       "      <td>war_strategy</td>\n",
       "    </tr>\n",
       "    <tr>\n",
       "      <th>10</th>\n",
       "      <td>1.0</td>\n",
       "      <td>0.0</td>\n",
       "      <td>war_strategy</td>\n",
       "    </tr>\n",
       "    <tr>\n",
       "      <th>11</th>\n",
       "      <td>1.0</td>\n",
       "      <td>0.0</td>\n",
       "      <td>war_strategy</td>\n",
       "    </tr>\n",
       "    <tr>\n",
       "      <th>12</th>\n",
       "      <td>1.0</td>\n",
       "      <td>0.0</td>\n",
       "      <td>war_strategy</td>\n",
       "    </tr>\n",
       "    <tr>\n",
       "      <th>13</th>\n",
       "      <td>1.0</td>\n",
       "      <td>1.0</td>\n",
       "      <td>project_strategy</td>\n",
       "    </tr>\n",
       "    <tr>\n",
       "      <th>14</th>\n",
       "      <td>0.0</td>\n",
       "      <td>0.0</td>\n",
       "      <td>other</td>\n",
       "    </tr>\n",
       "  </tbody>\n",
       "</table>\n",
       "</div>"
      ],
      "text/plain": [
       "    finished_stage_1  strategy_project     category_user\n",
       "0                0.0               0.0             other\n",
       "1                0.0               0.0             other\n",
       "2                0.0               0.0             other\n",
       "3                1.0               0.0      war_strategy\n",
       "4                0.0               0.0             other\n",
       "5                0.0               0.0             other\n",
       "6                1.0               0.0      war_strategy\n",
       "7                1.0               0.0      war_strategy\n",
       "8                0.0               0.0             other\n",
       "9                1.0               0.0      war_strategy\n",
       "10               1.0               0.0      war_strategy\n",
       "11               1.0               0.0      war_strategy\n",
       "12               1.0               0.0      war_strategy\n",
       "13               1.0               1.0  project_strategy\n",
       "14               0.0               0.0             other"
      ]
     },
     "execution_count": 29,
     "metadata": {},
     "output_type": "execute_result"
    }
   ],
   "source": [
    "# создаем столбец, применяем функцию category_player\n",
    "pivot_data['category_user'] = pivot_data.apply(category_player, axis=1)\n",
    "\n",
    "# проверяем правильность полученного результата\n",
    "pivot_data[['finished_stage_1', 'strategy_project', 'category_user']][:15]"
   ]
  },
  {
   "cell_type": "code",
   "execution_count": 30,
   "metadata": {
    "scrolled": false
   },
   "outputs": [
    {
     "name": "stdout",
     "output_type": "stream",
     "text": [
      "Посмотрим на данные\n"
     ]
    },
    {
     "data": {
      "text/html": [
       "<div>\n",
       "<style scoped>\n",
       "    .dataframe tbody tr th:only-of-type {\n",
       "        vertical-align: middle;\n",
       "    }\n",
       "\n",
       "    .dataframe tbody tr th {\n",
       "        vertical-align: top;\n",
       "    }\n",
       "\n",
       "    .dataframe thead th {\n",
       "        text-align: right;\n",
       "    }\n",
       "</style>\n",
       "<table border=\"1\" class=\"dataframe\">\n",
       "  <thead>\n",
       "    <tr style=\"text-align: right;\">\n",
       "      <th></th>\n",
       "      <th>user_id</th>\n",
       "      <th>cnt_session</th>\n",
       "      <th>finished_stage_1</th>\n",
       "      <th>strategy_project</th>\n",
       "      <th>start_flag</th>\n",
       "      <th>finish_flag</th>\n",
       "      <th>project_flag</th>\n",
       "      <th>last_action</th>\n",
       "      <th>source</th>\n",
       "      <th>assembly_shop</th>\n",
       "      <th>research_center</th>\n",
       "      <th>spaceport</th>\n",
       "      <th>first_day</th>\n",
       "      <th>last_day</th>\n",
       "      <th>cnt_build</th>\n",
       "      <th>revenue</th>\n",
       "      <th>category_user</th>\n",
       "    </tr>\n",
       "  </thead>\n",
       "  <tbody>\n",
       "    <tr>\n",
       "      <th>0</th>\n",
       "      <td>0001f83c-c6ac-4621-b7f0-8a28b283ac30</td>\n",
       "      <td>13.0</td>\n",
       "      <td>0.0</td>\n",
       "      <td>0.0</td>\n",
       "      <td>2020-05-06 01:07:37</td>\n",
       "      <td>0</td>\n",
       "      <td>0</td>\n",
       "      <td>2020-05-20 11:26:06</td>\n",
       "      <td>facebook_ads</td>\n",
       "      <td>6.0</td>\n",
       "      <td>1.0</td>\n",
       "      <td>6.0</td>\n",
       "      <td>2020-05-06</td>\n",
       "      <td>2020-05-20</td>\n",
       "      <td>13.0</td>\n",
       "      <td>0.91</td>\n",
       "      <td>other</td>\n",
       "    </tr>\n",
       "    <tr>\n",
       "      <th>1</th>\n",
       "      <td>00151b4f-ba38-44a8-a650-d7cf130a0105</td>\n",
       "      <td>9.0</td>\n",
       "      <td>0.0</td>\n",
       "      <td>0.0</td>\n",
       "      <td>2020-05-06 03:09:12</td>\n",
       "      <td>0</td>\n",
       "      <td>0</td>\n",
       "      <td>2020-05-18 10:46:52</td>\n",
       "      <td>yandex_direct</td>\n",
       "      <td>4.0</td>\n",
       "      <td>0.0</td>\n",
       "      <td>5.0</td>\n",
       "      <td>2020-05-06</td>\n",
       "      <td>2020-05-18</td>\n",
       "      <td>9.0</td>\n",
       "      <td>0.63</td>\n",
       "      <td>other</td>\n",
       "    </tr>\n",
       "    <tr>\n",
       "      <th>2</th>\n",
       "      <td>001aaea6-3d14-43f1-8ca8-7f48820f17aa</td>\n",
       "      <td>4.0</td>\n",
       "      <td>0.0</td>\n",
       "      <td>0.0</td>\n",
       "      <td>2020-05-05 18:08:52</td>\n",
       "      <td>0</td>\n",
       "      <td>0</td>\n",
       "      <td>2020-05-14 09:21:27</td>\n",
       "      <td>youtube_channel_reklama</td>\n",
       "      <td>2.0</td>\n",
       "      <td>0.0</td>\n",
       "      <td>2.0</td>\n",
       "      <td>2020-05-05</td>\n",
       "      <td>2020-05-14</td>\n",
       "      <td>4.0</td>\n",
       "      <td>0.28</td>\n",
       "      <td>other</td>\n",
       "    </tr>\n",
       "    <tr>\n",
       "      <th>3</th>\n",
       "      <td>001d39dc-366c-4021-9604-6a3b9ff01e25</td>\n",
       "      <td>8.0</td>\n",
       "      <td>1.0</td>\n",
       "      <td>0.0</td>\n",
       "      <td>2020-05-05 21:02:05</td>\n",
       "      <td>2020-05-12 07:40:47</td>\n",
       "      <td>0</td>\n",
       "      <td>2020-05-12 04:14:25</td>\n",
       "      <td>instagram_new_adverts</td>\n",
       "      <td>4.0</td>\n",
       "      <td>0.0</td>\n",
       "      <td>4.0</td>\n",
       "      <td>2020-05-05</td>\n",
       "      <td>2020-05-12</td>\n",
       "      <td>8.0</td>\n",
       "      <td>0.56</td>\n",
       "      <td>war_strategy</td>\n",
       "    </tr>\n",
       "    <tr>\n",
       "      <th>4</th>\n",
       "      <td>002f508f-67b6-479f-814b-b05f00d4e995</td>\n",
       "      <td>12.0</td>\n",
       "      <td>0.0</td>\n",
       "      <td>0.0</td>\n",
       "      <td>2020-05-05 13:49:58</td>\n",
       "      <td>0</td>\n",
       "      <td>0</td>\n",
       "      <td>2020-05-22 02:46:45</td>\n",
       "      <td>facebook_ads</td>\n",
       "      <td>3.0</td>\n",
       "      <td>1.0</td>\n",
       "      <td>8.0</td>\n",
       "      <td>2020-05-05</td>\n",
       "      <td>2020-05-22</td>\n",
       "      <td>12.0</td>\n",
       "      <td>0.84</td>\n",
       "      <td>other</td>\n",
       "    </tr>\n",
       "  </tbody>\n",
       "</table>\n",
       "</div>"
      ],
      "text/plain": [
       "                                user_id  cnt_session  finished_stage_1  \\\n",
       "0  0001f83c-c6ac-4621-b7f0-8a28b283ac30         13.0               0.0   \n",
       "1  00151b4f-ba38-44a8-a650-d7cf130a0105          9.0               0.0   \n",
       "2  001aaea6-3d14-43f1-8ca8-7f48820f17aa          4.0               0.0   \n",
       "3  001d39dc-366c-4021-9604-6a3b9ff01e25          8.0               1.0   \n",
       "4  002f508f-67b6-479f-814b-b05f00d4e995         12.0               0.0   \n",
       "\n",
       "   strategy_project          start_flag          finish_flag project_flag  \\\n",
       "0               0.0 2020-05-06 01:07:37                    0            0   \n",
       "1               0.0 2020-05-06 03:09:12                    0            0   \n",
       "2               0.0 2020-05-05 18:08:52                    0            0   \n",
       "3               0.0 2020-05-05 21:02:05  2020-05-12 07:40:47            0   \n",
       "4               0.0 2020-05-05 13:49:58                    0            0   \n",
       "\n",
       "          last_action                   source  assembly_shop  \\\n",
       "0 2020-05-20 11:26:06             facebook_ads            6.0   \n",
       "1 2020-05-18 10:46:52            yandex_direct            4.0   \n",
       "2 2020-05-14 09:21:27  youtube_channel_reklama            2.0   \n",
       "3 2020-05-12 04:14:25    instagram_new_adverts            4.0   \n",
       "4 2020-05-22 02:46:45             facebook_ads            3.0   \n",
       "\n",
       "   research_center  spaceport   first_day    last_day  cnt_build  revenue  \\\n",
       "0              1.0        6.0  2020-05-06  2020-05-20       13.0     0.91   \n",
       "1              0.0        5.0  2020-05-06  2020-05-18        9.0     0.63   \n",
       "2              0.0        2.0  2020-05-05  2020-05-14        4.0     0.28   \n",
       "3              0.0        4.0  2020-05-05  2020-05-12        8.0     0.56   \n",
       "4              1.0        8.0  2020-05-05  2020-05-22       12.0     0.84   \n",
       "\n",
       "  category_user  \n",
       "0         other  \n",
       "1         other  \n",
       "2         other  \n",
       "3  war_strategy  \n",
       "4         other  "
      ]
     },
     "metadata": {},
     "output_type": "display_data"
    },
    {
     "name": "stdout",
     "output_type": "stream",
     "text": [
      "--------------------------------------------------\n",
      "\n",
      "Атрибуты\n",
      "<class 'pandas.core.frame.DataFrame'>\n",
      "Int64Index: 13576 entries, 0 to 13575\n",
      "Data columns (total 17 columns):\n",
      " #   Column            Non-Null Count  Dtype         \n",
      "---  ------            --------------  -----         \n",
      " 0   user_id           13576 non-null  object        \n",
      " 1   cnt_session       13576 non-null  float64       \n",
      " 2   finished_stage_1  13576 non-null  float64       \n",
      " 3   strategy_project  13576 non-null  float64       \n",
      " 4   start_flag        13576 non-null  datetime64[ns]\n",
      " 5   finish_flag       13576 non-null  object        \n",
      " 6   project_flag      13576 non-null  object        \n",
      " 7   last_action       13576 non-null  datetime64[ns]\n",
      " 8   source            13576 non-null  object        \n",
      " 9   assembly_shop     13576 non-null  float64       \n",
      " 10  research_center   13576 non-null  float64       \n",
      " 11  spaceport         13576 non-null  float64       \n",
      " 12  first_day         13576 non-null  object        \n",
      " 13  last_day          13576 non-null  object        \n",
      " 14  cnt_build         13576 non-null  float64       \n",
      " 15  revenue           13576 non-null  float64       \n",
      " 16  category_user     13576 non-null  object        \n",
      "dtypes: datetime64[ns](2), float64(8), object(7)\n",
      "memory usage: 1.9+ MB\n",
      "None\n",
      "--------------------------------------------------\n",
      "\n",
      "Пропусков в данных\n",
      "user_id             0\n",
      "cnt_session         0\n",
      "finished_stage_1    0\n",
      "strategy_project    0\n",
      "start_flag          0\n",
      "finish_flag         0\n",
      "project_flag        0\n",
      "last_action         0\n",
      "source              0\n",
      "assembly_shop       0\n",
      "research_center     0\n",
      "spaceport           0\n",
      "first_day           0\n",
      "last_day            0\n",
      "cnt_build           0\n",
      "revenue             0\n",
      "category_user       0\n",
      "dtype: int64\n",
      "--------------------------------------------------\n",
      "\n",
      "Полных дубликатов в данных -  0\n"
     ]
    }
   ],
   "source": [
    "# проверим получившуюся таблицу\n",
    "preview(pivot_data)"
   ]
  },
  {
   "cell_type": "code",
   "execution_count": 31,
   "metadata": {
    "scrolled": false
   },
   "outputs": [
    {
     "name": "stdout",
     "output_type": "stream",
     "text": [
      "<class 'pandas.core.frame.DataFrame'>\n",
      "Int64Index: 13576 entries, 0 to 13575\n",
      "Data columns (total 17 columns):\n",
      " #   Column            Non-Null Count  Dtype         \n",
      "---  ------            --------------  -----         \n",
      " 0   user_id           13576 non-null  object        \n",
      " 1   cnt_session       13576 non-null  float64       \n",
      " 2   finished_stage_1  13576 non-null  float64       \n",
      " 3   strategy_project  13576 non-null  float64       \n",
      " 4   start_flag        13576 non-null  datetime64[ns]\n",
      " 5   finish_flag       5817 non-null   datetime64[ns]\n",
      " 6   project_flag      1866 non-null   datetime64[ns]\n",
      " 7   last_action       13576 non-null  datetime64[ns]\n",
      " 8   source            13576 non-null  object        \n",
      " 9   assembly_shop     13576 non-null  float64       \n",
      " 10  research_center   13576 non-null  float64       \n",
      " 11  spaceport         13576 non-null  float64       \n",
      " 12  first_day         13576 non-null  object        \n",
      " 13  last_day          13576 non-null  object        \n",
      " 14  cnt_build         13576 non-null  float64       \n",
      " 15  revenue           13576 non-null  float64       \n",
      " 16  category_user     13576 non-null  object        \n",
      "dtypes: datetime64[ns](4), float64(8), object(5)\n",
      "memory usage: 1.9+ MB\n"
     ]
    }
   ],
   "source": [
    "# приводим к нужным типы данных в столбцах с датами и временем\n",
    "col_list = ['finish_flag', 'project_flag']\n",
    "for i in col_list:\n",
    "    pivot_data[i] = pd.to_datetime(pivot_data[i], errors='coerce')\n",
    "\n",
    "# проверяем\n",
    "pivot_data.info()"
   ]
  },
  {
   "cell_type": "markdown",
   "metadata": {},
   "source": [
    "### Пользователи\n"
   ]
  },
  {
   "cell_type": "markdown",
   "metadata": {},
   "source": [
    "Из исследовательского анализа мы знаем, что всего игроков - 13576, из них - 35% пришли из яндекс-директ, 25% - из инстаграмм, по 20% из фэйсбука и ютуба.\n",
    "\n",
    "В группировке по каналам привлечения узнаем:\n",
    "- Количество сессий на пользователя\n",
    "- Сравним среднее количество сессий у прошедших уровень и не прошедших уровень пользователей"
   ]
  },
  {
   "cell_type": "code",
   "execution_count": 32,
   "metadata": {
    "scrolled": false
   },
   "outputs": [
    {
     "name": "stdout",
     "output_type": "stream",
     "text": [
      "Среднее количество сессий по общим данным\n"
     ]
    },
    {
     "data": {
      "text/html": [
       "<div>\n",
       "<style scoped>\n",
       "    .dataframe tbody tr th:only-of-type {\n",
       "        vertical-align: middle;\n",
       "    }\n",
       "\n",
       "    .dataframe tbody tr th {\n",
       "        vertical-align: top;\n",
       "    }\n",
       "\n",
       "    .dataframe thead th {\n",
       "        text-align: right;\n",
       "    }\n",
       "</style>\n",
       "<table border=\"1\" class=\"dataframe\">\n",
       "  <thead>\n",
       "    <tr style=\"text-align: right;\">\n",
       "      <th></th>\n",
       "      <th>user_id</th>\n",
       "      <th>cnt_session</th>\n",
       "    </tr>\n",
       "    <tr>\n",
       "      <th>source</th>\n",
       "      <th></th>\n",
       "      <th></th>\n",
       "    </tr>\n",
       "  </thead>\n",
       "  <tbody>\n",
       "    <tr>\n",
       "      <th>facebook_ads</th>\n",
       "      <td>2726</td>\n",
       "      <td>9.585840</td>\n",
       "    </tr>\n",
       "    <tr>\n",
       "      <th>instagram_new_adverts</th>\n",
       "      <td>3347</td>\n",
       "      <td>9.505527</td>\n",
       "    </tr>\n",
       "    <tr>\n",
       "      <th>yandex_direct</th>\n",
       "      <td>4817</td>\n",
       "      <td>9.348557</td>\n",
       "    </tr>\n",
       "    <tr>\n",
       "      <th>youtube_channel_reklama</th>\n",
       "      <td>2686</td>\n",
       "      <td>9.299330</td>\n",
       "    </tr>\n",
       "  </tbody>\n",
       "</table>\n",
       "</div>"
      ],
      "text/plain": [
       "                         user_id  cnt_session\n",
       "source                                       \n",
       "facebook_ads                2726     9.585840\n",
       "instagram_new_adverts       3347     9.505527\n",
       "yandex_direct               4817     9.348557\n",
       "youtube_channel_reklama     2686     9.299330"
      ]
     },
     "metadata": {},
     "output_type": "display_data"
    },
    {
     "name": "stdout",
     "output_type": "stream",
     "text": [
      "по прошедшим игру пользователям\n"
     ]
    },
    {
     "data": {
      "text/html": [
       "<div>\n",
       "<style scoped>\n",
       "    .dataframe tbody tr th:only-of-type {\n",
       "        vertical-align: middle;\n",
       "    }\n",
       "\n",
       "    .dataframe tbody tr th {\n",
       "        vertical-align: top;\n",
       "    }\n",
       "\n",
       "    .dataframe thead th {\n",
       "        text-align: right;\n",
       "    }\n",
       "</style>\n",
       "<table border=\"1\" class=\"dataframe\">\n",
       "  <thead>\n",
       "    <tr style=\"text-align: right;\">\n",
       "      <th></th>\n",
       "      <th>cnt_session</th>\n",
       "    </tr>\n",
       "    <tr>\n",
       "      <th>source</th>\n",
       "      <th></th>\n",
       "    </tr>\n",
       "  </thead>\n",
       "  <tbody>\n",
       "    <tr>\n",
       "      <th>facebook_ads</th>\n",
       "      <td>10.524348</td>\n",
       "    </tr>\n",
       "    <tr>\n",
       "      <th>instagram_new_adverts</th>\n",
       "      <td>10.489768</td>\n",
       "    </tr>\n",
       "    <tr>\n",
       "      <th>yandex_direct</th>\n",
       "      <td>10.353085</td>\n",
       "    </tr>\n",
       "    <tr>\n",
       "      <th>youtube_channel_reklama</th>\n",
       "      <td>10.495255</td>\n",
       "    </tr>\n",
       "  </tbody>\n",
       "</table>\n",
       "</div>"
      ],
      "text/plain": [
       "                         cnt_session\n",
       "source                              \n",
       "facebook_ads               10.524348\n",
       "instagram_new_adverts      10.489768\n",
       "yandex_direct              10.353085\n",
       "youtube_channel_reklama    10.495255"
      ]
     },
     "metadata": {},
     "output_type": "display_data"
    },
    {
     "name": "stdout",
     "output_type": "stream",
     "text": [
      "по непрошедшим игру пользователям\n"
     ]
    },
    {
     "data": {
      "text/html": [
       "<div>\n",
       "<style scoped>\n",
       "    .dataframe tbody tr th:only-of-type {\n",
       "        vertical-align: middle;\n",
       "    }\n",
       "\n",
       "    .dataframe tbody tr th {\n",
       "        vertical-align: top;\n",
       "    }\n",
       "\n",
       "    .dataframe thead th {\n",
       "        text-align: right;\n",
       "    }\n",
       "</style>\n",
       "<table border=\"1\" class=\"dataframe\">\n",
       "  <thead>\n",
       "    <tr style=\"text-align: right;\">\n",
       "      <th></th>\n",
       "      <th>cnt_session</th>\n",
       "    </tr>\n",
       "    <tr>\n",
       "      <th>source</th>\n",
       "      <th></th>\n",
       "    </tr>\n",
       "  </thead>\n",
       "  <tbody>\n",
       "    <tr>\n",
       "      <th>facebook_ads</th>\n",
       "      <td>8.901015</td>\n",
       "    </tr>\n",
       "    <tr>\n",
       "      <th>instagram_new_adverts</th>\n",
       "      <td>8.738437</td>\n",
       "    </tr>\n",
       "    <tr>\n",
       "      <th>yandex_direct</th>\n",
       "      <td>8.609369</td>\n",
       "    </tr>\n",
       "    <tr>\n",
       "      <th>youtube_channel_reklama</th>\n",
       "      <td>8.391618</td>\n",
       "    </tr>\n",
       "  </tbody>\n",
       "</table>\n",
       "</div>"
      ],
      "text/plain": [
       "                         cnt_session\n",
       "source                              \n",
       "facebook_ads                8.901015\n",
       "instagram_new_adverts       8.738437\n",
       "yandex_direct               8.609369\n",
       "youtube_channel_reklama     8.391618"
      ]
     },
     "metadata": {},
     "output_type": "display_data"
    }
   ],
   "source": [
    "# среднее количество сессий по всем данным\n",
    "print(f'Среднее количество сессий по общим данным')\n",
    "display(pivot_data.groupby('source').agg({'user_id':'count', 'cnt_session':'mean'}))\n",
    "\n",
    "# среднее количество сессий по прошедшим уровень\n",
    "print(f'по прошедшим игру пользователям')\n",
    "display(\n",
    "    pivot_data.loc[pivot_data['finished_stage_1'] == 1].groupby('source').agg(\n",
    "        {'cnt_session': 'mean'}\n",
    "    )\n",
    ")\n",
    "\n",
    "# среднее количество сессий по не прошедшим уровень\n",
    "print(f'по непрошедшим игру пользователям')\n",
    "display(\n",
    "    pivot_data.loc[pivot_data['finished_stage_1'] == 0].groupby('source').agg(\n",
    "        {'cnt_session':'mean'}\n",
    "    )\n",
    ")\n",
    "\n"
   ]
  },
  {
   "cell_type": "markdown",
   "metadata": {},
   "source": [
    "**Для всех рекламных каналов количество сессий на 1 игрока в среднем - 9, для прошедших уровень - 10, для НЕ прошедших - 8.**"
   ]
  },
  {
   "cell_type": "markdown",
   "metadata": {},
   "source": [
    "### Вовлеченность\n",
    "Определим какой канал дает пользователей с бОльшей вовлеченностью, т.е.:\n",
    "- тех, кто прошел уровень (конверсия в переход на следующий уровень);\n",
    "- тех, кто построил один/более одного дома"
   ]
  },
  {
   "cell_type": "markdown",
   "metadata": {},
   "source": [
    "**Смотрим завершение уровня**"
   ]
  },
  {
   "cell_type": "code",
   "execution_count": 33,
   "metadata": {},
   "outputs": [
    {
     "data": {
      "image/png": "[encoded data removed]",
      "text/plain": [
       "<Figure size 1080x432 with 1 Axes>"
      ]
     },
     "metadata": {},
     "output_type": "display_data"
    }
   ],
   "source": [
    "f, ax = plt.subplots(figsize=(15,6))\n",
    "with plt.style.context('seaborn-deep'):\n",
    "    pivot_data.groupby('finished_stage_1')['user_id'].count().plot(\n",
    "        kind='pie', autopct='%1.1f%%', title='Завершение уровня игроками'\n",
    "    )\n",
    "ax.set_ylabel('')\n",
    "ax.text(-0.3, -0.4,'Завершили уровень', color = 'white', fontsize = 10)\n",
    "ax.text(-0.3, 0.3,'Не завершили уровень', color = 'white', fontsize = 10)\n",
    "\n",
    "plt.show()"
   ]
  },
  {
   "cell_type": "code",
   "execution_count": 34,
   "metadata": {},
   "outputs": [
    {
     "data": {
      "image/png": "[encoded data removed]",
      "text/plain": [
       "<Figure size 1080x432 with 1 Axes>"
      ]
     },
     "metadata": {
      "needs_background": "light"
     },
     "output_type": "display_data"
    }
   ],
   "source": [
    "f, ax = plt.subplots(figsize=(15,6 ))\n",
    "sns.countplot(data = pivot_data, x = 'finished_stage_1', hue = 'source')\n",
    "plt.legend(title = 'Рекламные источники')\n",
    "plt.title(f'Распределение по признаку завершения уровня (1 - завершили, 0 - не завершили)')\n",
    "plt.show()"
   ]
  },
  {
   "cell_type": "code",
   "execution_count": 35,
   "metadata": {},
   "outputs": [
    {
     "data": {
      "text/plain": [
       "source\n",
       "facebook_ads               0.42\n",
       "instagram_new_adverts      0.44\n",
       "yandex_direct              0.42\n",
       "youtube_channel_reklama    0.43\n",
       "Name: finished_stage_1, dtype: float64"
      ]
     },
     "execution_count": 35,
     "metadata": {},
     "output_type": "execute_result"
    }
   ],
   "source": [
    "# доля пользователей, прошедших уровень по каналам\n",
    "round(\n",
    "    (\n",
    "        pivot_data.groupby('source')['finished_stage_1'].sum() / pivot_data.groupby('source')['finished_stage_1'].count()\n",
    "    ),2\n",
    ")"
   ]
  },
  {
   "cell_type": "markdown",
   "metadata": {},
   "source": [
    "**Количество не завершивших уровень игроков на 14% больше, чем завершивших. По рекламным источникам каналы привлечения также практически не отличаются, показатели прохождения 42-44%. Чуть больше пользователей, прошедших первый уровень, у Инстаграм - 44%, чуть меньше у Фэйсбук и Яндекс - по 42%** "
   ]
  },
  {
   "cell_type": "markdown",
   "metadata": {},
   "source": [
    "**Оценим игроков, построивших 1 и более 1 здания**"
   ]
  },
  {
   "cell_type": "code",
   "execution_count": 36,
   "metadata": {},
   "outputs": [
    {
     "data": {
      "text/plain": [
       "source\n",
       "facebook_ads               0.994864\n",
       "instagram_new_adverts      0.996713\n",
       "yandex_direct              0.996056\n",
       "youtube_channel_reklama    0.995160\n",
       "Name: user_id, dtype: float64"
      ]
     },
     "execution_count": 36,
     "metadata": {},
     "output_type": "execute_result"
    }
   ],
   "source": [
    "# количество игроков, построивших больше 1 дома делим на общее число пользователей по источникам\n",
    "pivot_data[pivot_data['cnt_build'] > 1].groupby('source')['user_id'].count() / pivot_data.groupby(\n",
    "    'source'\n",
    ")['user_id'].count()"
   ]
  },
  {
   "cell_type": "markdown",
   "metadata": {},
   "source": [
    "**Почти все пользователи из рекламных источников, играющие первый уровень, входят в игру, не бросают ее и строят более одного здания.**"
   ]
  },
  {
   "cell_type": "markdown",
   "metadata": {},
   "source": [
    "### Стратегии\n",
    "- Определим какими стратегиями пользуются игроки (доли по каналам привлечения)"
   ]
  },
  {
   "cell_type": "code",
   "execution_count": 37,
   "metadata": {},
   "outputs": [
    {
     "data": {
      "text/plain": [
       "source                   category_user   \n",
       "facebook_ads             war_strategy        0.660000\n",
       "                         project_strategy    0.340000\n",
       "instagram_new_adverts    war_strategy        0.675307\n",
       "                         project_strategy    0.324693\n",
       "yandex_direct            war_strategy        0.696376\n",
       "                         project_strategy    0.303624\n",
       "youtube_channel_reklama  war_strategy        0.672994\n",
       "                         project_strategy    0.327006\n",
       "Name: category_user, dtype: float64"
      ]
     },
     "execution_count": 37,
     "metadata": {},
     "output_type": "execute_result"
    }
   ],
   "source": [
    "#считаем доли: исключаем из вычислений категорию незавершивших, количество игроко в каждой из стратегий\n",
    "# с разбивкой по источникам делим на количество игроков по источникам привлечения\n",
    "pivot_data[pivot_data['category_user'] != 'other'].groupby('source')['category_user'].value_counts() / pivot_data[pivot_data['category_user'] != 'other'].groupby('source')['category_user'].count()\n"
   ]
  },
  {
   "cell_type": "markdown",
   "metadata": {},
   "source": [
    "**Вновь ситуация по рекламным каналам очень похожая - стратегию победы над противником, в зависимости от канала привлечения, выбирают 66-70% пользователей, соответственно через реализацию проекта на следующий уровень проходят - 30-34% пользователей. Чуть больше \"воителей\" пришли из Яндекса, чуть больше \"исследователей\" пришли из Фэйсбука.**"
   ]
  },
  {
   "cell_type": "markdown",
   "metadata": {},
   "source": [
    "### Время прохождения\n",
    "- Проанализируем время прохождения уровня: 1.Общее время всех игроков с начала до finished_stage_1. 2.С разбивкой по стратегиям: а)Время c начала до Project, от Project до finished_stage_1, б)с начала до finished_stage_1"
   ]
  },
  {
   "cell_type": "markdown",
   "metadata": {},
   "source": [
    "**Общее время прохождения уровня для всех игроков**"
   ]
  },
  {
   "cell_type": "code",
   "execution_count": 38,
   "metadata": {},
   "outputs": [
    {
     "data": {
      "text/plain": [
       "count                          5817\n",
       "mean     11 days 20:37:59.561801616\n",
       "std       4 days 01:37:33.183162346\n",
       "min                 0 days 09:39:01\n",
       "25%                 9 days 05:13:21\n",
       "50%                11 days 13:28:44\n",
       "75%                14 days 05:15:16\n",
       "max                30 days 21:58:53\n",
       "Name: timing, dtype: object"
      ]
     },
     "execution_count": 38,
     "metadata": {},
     "output_type": "execute_result"
    }
   ],
   "source": [
    "# считаем время прохождения уровня и записываем в столбец сводной таблицы\n",
    "pivot_data['timing'] = pivot_data['finish_flag'] - pivot_data['start_flag']\n",
    "\n",
    "#смотрим описание данных\n",
    "pivot_data['timing'].describe()"
   ]
  },
  {
   "cell_type": "markdown",
   "metadata": {},
   "source": [
    "**Общее время прохождения по каналам привлечения**"
   ]
  },
  {
   "cell_type": "code",
   "execution_count": 39,
   "metadata": {},
   "outputs": [],
   "source": [
    "def desc_timing (pivot_data, net):\n",
    "    '''\n",
    "    Функция для описания среднего, минимального и максимального времени прохождения уровня по источникам\n",
    "    \n",
    "    '''\n",
    "    mean = pivot_data[pivot_data['source']== net]['timing'].mean()\n",
    "    min_max = pivot_data[pivot_data['source']== net]['timing'].max() - pivot_data[pivot_data['source']== net]['timing'].min()\n",
    "       \n",
    "   \n",
    "    return print(f'Для источника {net} среднее - {mean}, размах значений {min_max}.')"
   ]
  },
  {
   "cell_type": "code",
   "execution_count": 40,
   "metadata": {},
   "outputs": [
    {
     "name": "stdout",
     "output_type": "stream",
     "text": [
      "Для источника facebook_ads среднее - 11 days 20:35:33.946086956, размах значений 28 days 21:07:39.\n",
      "Для источника yandex_direct среднее - 11 days 19:24:02.402546523, размах значений 29 days 23:21:29.\n",
      "Для источника youtube_channel_reklama среднее - 11 days 21:46:25.266609145, размах значений 26 days 05:43:20.\n",
      "Для источника instagram_new_adverts среднее - 11 days 21:28:48.419508867, размах значений 29 days 23:57:23.\n"
     ]
    }
   ],
   "source": [
    "# создаем список источников рекламы\n",
    "net = list(pivot_data['source'].unique())\n",
    "\n",
    "# вызываем функцию\n",
    "for i in net:\n",
    "    desc_timing(pivot_data, i)"
   ]
  },
  {
   "cell_type": "markdown",
   "metadata": {},
   "source": [
    "**И вновь ситуация достаточно похожая: как в целом для всех игроков, так и игроков по рекламным источникам среднее время прохождения уровня - 11 дней, но при этом для Ютуб все значения укладываются в пределах 26 дней, а для других источников 28-29 дней.**"
   ]
  },
  {
   "cell_type": "markdown",
   "metadata": {},
   "source": [
    "**Время прохождения уровня с разбивкой по стратегиям**"
   ]
  },
  {
   "cell_type": "code",
   "execution_count": 41,
   "metadata": {},
   "outputs": [
    {
     "data": {
      "text/plain": [
       "count                          3951\n",
       "mean     11 days 02:30:24.076183244\n",
       "std       4 days 02:17:54.287406787\n",
       "min                 0 days 09:39:01\n",
       "25%          8 days 07:01:19.500000\n",
       "50%                10 days 19:01:37\n",
       "75%         13 days 10:33:17.500000\n",
       "max                30 days 21:58:53\n",
       "Name: timing, dtype: object"
      ]
     },
     "execution_count": 41,
     "metadata": {},
     "output_type": "execute_result"
    }
   ],
   "source": [
    "# посмотрим описание данных о времени прохождения уровня для всех игроков стратегии war_strategy\n",
    "pivot_data.query('category_user ==\"war_strategy\"')['timing'].describe()"
   ]
  },
  {
   "cell_type": "code",
   "execution_count": 42,
   "metadata": {
    "scrolled": true
   },
   "outputs": [
    {
     "data": {
      "text/plain": [
       "count                          1866\n",
       "mean     13 days 11:00:49.135048231\n",
       "std       3 days 12:11:01.977069676\n",
       "min                 5 days 03:22:27\n",
       "25%         10 days 22:49:58.750000\n",
       "50%                13 days 00:45:41\n",
       "75%         15 days 13:47:23.750000\n",
       "max                29 days 03:13:43\n",
       "Name: timing, dtype: object"
      ]
     },
     "execution_count": 42,
     "metadata": {},
     "output_type": "execute_result"
    }
   ],
   "source": [
    "# посмотрим описание данных о времени прохождения уровня для всех игроков стратегии project_strategy\n",
    "pivot_data.query('category_user ==\"project_strategy\"')['timing'].describe()"
   ]
  },
  {
   "cell_type": "markdown",
   "metadata": {},
   "source": [
    "**Видим первые значимые отличия: игроки, выбирающие стратегию исследователя (project) тратят на прохождение игры в среднем 13 дней, игроки-\"воители\" - 11 дней. Кроме того размах значений у игроков project меньше.**\n",
    "\n",
    "Посмотрим данные в разрезе рекламных источников."
   ]
  },
  {
   "cell_type": "code",
   "execution_count": 43,
   "metadata": {},
   "outputs": [
    {
     "name": "stdout",
     "output_type": "stream",
     "text": [
      "11 days 01:15:10.897233201\n",
      "11 days 03:06:11.998593530\n",
      "11 days 02:32:47.853846153\n",
      "11 days 02:34:45.703030303\n"
     ]
    }
   ],
   "source": [
    "# узнаем среднее время прохождения уровня по рекламным источникам игроками war_strategy\n",
    "for i in net:\n",
    "    print(pivot_data.loc[\n",
    "        (\n",
    "        pivot_data['category_user'] =='war_strategy'\n",
    "    ) & (\n",
    "        pivot_data['source'] == i\n",
    "    )\n",
    "    ]['timing'].mean())   "
   ]
  },
  {
   "cell_type": "code",
   "execution_count": 44,
   "metadata": {},
   "outputs": [
    {
     "name": "stdout",
     "output_type": "stream",
     "text": [
      "13 days 10:08:04.570332480\n",
      "13 days 08:46:45.812903225\n",
      "13 days 13:20:37.989445910\n",
      "13 days 12:47:25.834033613\n"
     ]
    }
   ],
   "source": [
    "# узнаем среднее время прохождения уровня по рекламным источникам игроками project_strategy\n",
    "for i in net:\n",
    "    print(pivot_data.loc[\n",
    "        (\n",
    "        pivot_data['category_user'] =='project_strategy'\n",
    "    ) & (\n",
    "        pivot_data['source'] == i\n",
    "    )\n",
    "    ]['timing'].mean())"
   ]
  },
  {
   "cell_type": "markdown",
   "metadata": {},
   "source": [
    "**Вновь ситуация повторяет общий тренд - рекламные источники внутри стратегий не показывают видимой разницы во времени прохождения уровня.**\n",
    "\n",
    "Механика игры для игрока-исследователя(project_strategy), прошедшего уровень, такая:\n",
    "\n",
    "строим → 🚩project → (можем продолжить строить, или вступить в бой) → 🚩finished_stage_1\n",
    "\n",
    "**Мы узнали, что до флажка finished_stage_1 пользователи стратегии project_strategy тратят в среднем 13 дней, посмотрим сколько времени уходит до флажка project (реализации проекта постройки орбитальной станции).**"
   ]
  },
  {
   "cell_type": "code",
   "execution_count": 45,
   "metadata": {},
   "outputs": [
    {
     "data": {
      "text/plain": [
       "count                          1866\n",
       "mean     11 days 21:16:06.260986066\n",
       "std       3 days 15:11:43.443256769\n",
       "min                 3 days 13:28:25\n",
       "25%          9 days 07:51:47.250000\n",
       "50%                11 days 07:12:24\n",
       "75%         13 days 21:14:20.500000\n",
       "max                28 days 19:53:40\n",
       "Name: project_timing, dtype: object"
      ]
     },
     "execution_count": 45,
     "metadata": {},
     "output_type": "execute_result"
    }
   ],
   "source": [
    "# у игроков стратегии project считаем время до флажка - project\n",
    "pivot_data['project_timing'] = pivot_data['project_flag'] - pivot_data['start_flag']\n",
    "# смотрим описание данных\n",
    "pivot_data['project_timing'].describe()"
   ]
  },
  {
   "cell_type": "markdown",
   "metadata": {},
   "source": [
    "**Данные показали, что в целом игроки project-стратегии доходят до реализации проекта за те же 11 дней, что и игроки стратегии war до окончания уровня, но так как переход на следующий уровень после флажка project не автоматический, игроки остаются играть уровень в среднем еще на 2 дня.**\n",
    "\n",
    "Посмотрим эти данные с разбивкой по рекламным каналам"
   ]
  },
  {
   "cell_type": "code",
   "execution_count": 46,
   "metadata": {},
   "outputs": [
    {
     "name": "stdout",
     "output_type": "stream",
     "text": [
      "11 days 21:30:41.567774936\n",
      "11 days 17:00:40.208064516\n",
      "12 days 02:02:48.686015831\n",
      "11 days 22:48:32.876050420\n"
     ]
    }
   ],
   "source": [
    "for i in net:\n",
    "    print(pivot_data.loc[pivot_data['source'] == i]['project_timing'].mean())"
   ]
  },
  {
   "cell_type": "code",
   "execution_count": 47,
   "metadata": {},
   "outputs": [
    {
     "data": {
      "text/plain": [
       "'youtube_channel_reklama'"
      ]
     },
     "execution_count": 47,
     "metadata": {},
     "output_type": "execute_result"
    }
   ],
   "source": [
    "# посмотрим какой рекламный канал немного отличается от других\n",
    "net[2]"
   ]
  },
  {
   "cell_type": "markdown",
   "metadata": {},
   "source": [
    "**До флажка реализации проекта в среднем дольше на 1 день играют пользователи, пришедшие из ютуб, остальным нужны в среднем 11 дней.**"
   ]
  },
  {
   "cell_type": "markdown",
   "metadata": {},
   "source": [
    "### Целевое действие - building\n",
    "- Посчитаем: как часто совершается \"целевое\" действие (постройка объекта): назовем максимум, минимум и среднее количество построенных зданий на пользователя по каналам.\n",
    "- Выясним наиболее предпочтительный тип здания по каналам.\n",
    "- Посмотрим сколько зданий строят в разбиении по стратегии прохождения игры."
   ]
  },
  {
   "cell_type": "code",
   "execution_count": 48,
   "metadata": {},
   "outputs": [
    {
     "data": {
      "image/png": "[encoded data removed]",
      "text/plain": [
       "<Figure size 1080x432 with 1 Axes>"
      ]
     },
     "metadata": {
      "needs_background": "light"
     },
     "output_type": "display_data"
    }
   ],
   "source": [
    "# посмотрим на распределение количества построек для всех игроков по каналам привлечения\n",
    "f, ax = plt.subplots(figsize=(15,6 ))\n",
    "sns.boxplot(data = pivot_data, x = 'source', y = 'cnt_build')\n",
    "ax.set_title('Распределение количества построек')\n",
    "ax.set_xlabel('')\n",
    "ax.set_ylabel('Количество построек')\n",
    "plt.show()"
   ]
  },
  {
   "cell_type": "code",
   "execution_count": 49,
   "metadata": {},
   "outputs": [
    {
     "data": {
      "image/png": "[encoded data removed]",
      "text/plain": [
       "<Figure size 1080x504 with 2 Axes>"
      ]
     },
     "metadata": {
      "needs_background": "light"
     },
     "output_type": "display_data"
    }
   ],
   "source": [
    "# строим боксплоты для распределения количества построек по признаку прохождения уровня\n",
    "\n",
    "fig, ax = plt.subplots(nrows=1, ncols=2, figsize=(15,7))\n",
    "ax = ax.flatten()\n",
    "\n",
    "sns.boxplot(data = pivot_data.loc[pivot_data ['finished_stage_1'] == 1], x = 'source', y = 'cnt_build', ax=ax[0]) \n",
    "sns.boxplot(data = pivot_data.loc[pivot_data ['finished_stage_1'] == 0], x = 'source', y = 'cnt_build', ax=ax[1]) \n",
    "\n",
    "ax[0].set_title('Распределение количества построек по прошедшим 1 уровень')\n",
    "ax[1].set_title('Распределение количества построек по НЕ прошедшим 1 уровень')\n",
    "ax[0].set_xlabel('')\n",
    "ax[1].set_xlabel('')\n",
    "ax[0].set_ylabel('Количество построек')\n",
    "ax[1].set_ylabel('Количество построек')\n",
    "ax[0].tick_params(labelrotation = 15)\n",
    "ax[1].tick_params(labelrotation = 15)\n",
    "fig.show()"
   ]
  },
  {
   "cell_type": "code",
   "execution_count": 50,
   "metadata": {},
   "outputs": [
    {
     "data": {
      "image/png": "[encoded data removed]",
      "text/plain": [
       "<Figure size 1080x504 with 2 Axes>"
      ]
     },
     "metadata": {
      "needs_background": "light"
     },
     "output_type": "display_data"
    }
   ],
   "source": [
    "# строим боксплоты для распределения количества построек по стратегии прохождения игры\n",
    "\n",
    "fig, ax = plt.subplots(nrows=1, ncols=2, figsize=(15,7))\n",
    "ax = ax.flatten()\n",
    "\n",
    "sns.boxplot(data = pivot_data.loc[pivot_data ['category_user'] == 'war_strategy'], x = 'source', y = 'cnt_build', ax=ax[0]) \n",
    "sns.boxplot(data = pivot_data.loc[pivot_data ['category_user'] == 'project_strategy'], x = 'source', y = 'cnt_build', ax=ax[1]) \n",
    "\n",
    "ax[0].set_title('Распределение количества построек по \\'war_strategy\\'')\n",
    "ax[1].set_title('Распределение количества построек по \\'project_strategy\\'')\n",
    "ax[0].set_xlabel('')\n",
    "ax[1].set_xlabel('')\n",
    "ax[0].set_ylabel('Количество построек')\n",
    "ax[1].set_ylabel('Количество построек')\n",
    "ax[0].tick_params(labelrotation = 15)\n",
    "ax[1].tick_params(labelrotation = 15)\n",
    "fig.show()"
   ]
  },
  {
   "cell_type": "markdown",
   "metadata": {},
   "source": [
    "**Среднее количество построек на всех игроков - 9**\n",
    "\n",
    "**Общие итоги о постройках по каналам привлечения:**\n",
    "- для завершивших уровень - среднее количество построек - 10, для не завершивших, ожидаемо меньше - 8\n",
    "- игроки, выбирающие стратегию project, строят в среднем больше зданий - их показатель 12 зданий (для war-strategy - среднее количество построек на игрока - 9)\n",
    "- для завершения игры в стратегии war некоторым игрокам хватает и 2 построек, тем кто реализуеи проект -  минимально понадобилось 10 зданий. Максимум по стратегиям так сильно не отличается: project_strategy - 19-20 построек, war_strategy - 18-19 построек.\n",
    "\n",
    "Далее проанализируем наиболее популярные типы построек:"
   ]
  },
  {
   "cell_type": "code",
   "execution_count": 51,
   "metadata": {},
   "outputs": [
    {
     "data": {
      "image/png": "[encoded data removed]",
      "text/plain": [
       "<Figure size 1080x432 with 3 Axes>"
      ]
     },
     "metadata": {
      "needs_background": "light"
     },
     "output_type": "display_data"
    }
   ],
   "source": [
    "# среднее количество типов зданий  в разрезе рекламных каналов и категорийй игроков\n",
    "list_type =['assembly_shop', 'research_center', 'spaceport']\n",
    "\n",
    "fig, ax = plt.subplots(nrows=2, ncols=2, figsize=(15,6))\n",
    "ax=ax.flatten()\n",
    "\n",
    "for i in range(len(list_type)):\n",
    "    sns.barplot(data = pivot_data, x = 'category_user', y = list_type[i], hue='source', ax=ax[i])\n",
    "    ax[i].set_title(f'{list_type[i]}')\n",
    "    ax[i].set_xlabel('')\n",
    "    ax[i].set_ylabel('Количество построек')\n",
    "    ax[i].legend(title = 'Рекламный источник')\n",
    "    \n",
    "fig.delaxes(ax[-1])\n",
    "fig.tight_layout()\n",
    "fig.show()"
   ]
  },
  {
   "cell_type": "markdown",
   "metadata": {},
   "source": [
    "\n",
    "**Общие итоги о типах построек по каналам привлечения:**\n",
    "- для всех игроков - среднее количество зданий на уникального пользователя: assembly_shop - 4 здания, spaceport - 4 здания, research_center - 1 здание\n",
    "- для игроков, прошедших на следующий уровень, среднее количество домов повторяет общие данные. Для игроков еще не прошедших уровень, показатели уже очень близки к показателям игроков, перешедших на 2 уровень, что дает надежду на бОльшую конверсию в переход на следующий уровень.\n",
    "- по стратегиям, ожидаемо чуть меньше построек каждого типа у воителей (war_strategy), чуть больше - у исследователей (project_strategy), аномального преимущества какого-то типа зданий в разрезе стратегий и каналов привлечения также нет."
   ]
  },
  {
   "cell_type": "markdown",
   "metadata": {},
   "source": [
    "### Стоимость привлечения\n",
    "- Проанализируем стоимость привлечения пользователя, посчитаем окупаемость, а именно сопоставим количество построенных объектов (возможные заработанные деньги) с расходами на рекламу"
   ]
  },
  {
   "cell_type": "code",
   "execution_count": 52,
   "metadata": {
    "scrolled": false
   },
   "outputs": [
    {
     "data": {
      "text/html": [
       "<style  type=\"text/css\" >\n",
       "#T_666eb_row0_col4,#T_666eb_row14_col2,#T_666eb_row14_col3,#T_666eb_row14_col5,#T_666eb_row14_col6{\n",
       "            background-color:  yellowgreen;\n",
       "        }#T_666eb_row1_col6,#T_666eb_row6_col2,#T_666eb_row6_col3,#T_666eb_row6_col4,#T_666eb_row27_col2,#T_666eb_row27_col5{\n",
       "            background-color:  coral;\n",
       "        }</style><table id=\"T_666eb_\" ><thead>    <tr>        <th class=\"blank level0\" ></th>        <th class=\"col_heading level0 col0\" >first_day</th>        <th class=\"col_heading level0 col1\" >source</th>        <th class=\"col_heading level0 col2\" >cohort_size</th>        <th class=\"col_heading level0 col3\" >cohort_revenue</th>        <th class=\"col_heading level0 col4\" >cnt_build</th>        <th class=\"col_heading level0 col5\" >cost</th>        <th class=\"col_heading level0 col6\" >profit</th>    </tr></thead><tbody>\n",
       "                <tr>\n",
       "                        <th id=\"T_666eb_level0_row0\" class=\"row_heading level0 row0\" >0</th>\n",
       "                        <td id=\"T_666eb_row0_col0\" class=\"data row0 col0\" >2020-05-04</td>\n",
       "                        <td id=\"T_666eb_row0_col1\" class=\"data row0 col1\" >facebook_ads</td>\n",
       "                        <td id=\"T_666eb_row0_col2\" class=\"data row0 col2\" >1184.00</td>\n",
       "                        <td id=\"T_666eb_row0_col3\" class=\"data row0 col3\" >874.58</td>\n",
       "                        <td id=\"T_666eb_row0_col4\" class=\"data row0 col4\" >10.55</td>\n",
       "                        <td id=\"T_666eb_row0_col5\" class=\"data row0 col5\" >935.88</td>\n",
       "                        <td id=\"T_666eb_row0_col6\" class=\"data row0 col6\" >-61.30</td>\n",
       "            </tr>\n",
       "            <tr>\n",
       "                        <th id=\"T_666eb_level0_row1\" class=\"row_heading level0 row1\" >1</th>\n",
       "                        <td id=\"T_666eb_row1_col0\" class=\"data row1 col0\" >2020-05-05</td>\n",
       "                        <td id=\"T_666eb_row1_col1\" class=\"data row1 col1\" >facebook_ads</td>\n",
       "                        <td id=\"T_666eb_row1_col2\" class=\"data row1 col2\" >694.00</td>\n",
       "                        <td id=\"T_666eb_row1_col3\" class=\"data row1 col3\" >482.65</td>\n",
       "                        <td id=\"T_666eb_row1_col4\" class=\"data row1 col4\" >9.94</td>\n",
       "                        <td id=\"T_666eb_row1_col5\" class=\"data row1 col5\" >548.35</td>\n",
       "                        <td id=\"T_666eb_row1_col6\" class=\"data row1 col6\" >-65.70</td>\n",
       "            </tr>\n",
       "            <tr>\n",
       "                        <th id=\"T_666eb_level0_row2\" class=\"row_heading level0 row2\" >2</th>\n",
       "                        <td id=\"T_666eb_row2_col0\" class=\"data row2 col0\" >2020-05-06</td>\n",
       "                        <td id=\"T_666eb_row2_col1\" class=\"data row2 col1\" >facebook_ads</td>\n",
       "                        <td id=\"T_666eb_row2_col2\" class=\"data row2 col2\" >345.00</td>\n",
       "                        <td id=\"T_666eb_row2_col3\" class=\"data row2 col3\" >216.09</td>\n",
       "                        <td id=\"T_666eb_row2_col4\" class=\"data row2 col4\" >8.95</td>\n",
       "                        <td id=\"T_666eb_row2_col5\" class=\"data row2 col5\" >260.19</td>\n",
       "                        <td id=\"T_666eb_row2_col6\" class=\"data row2 col6\" >-44.10</td>\n",
       "            </tr>\n",
       "            <tr>\n",
       "                        <th id=\"T_666eb_level0_row3\" class=\"row_heading level0 row3\" >3</th>\n",
       "                        <td id=\"T_666eb_row3_col0\" class=\"data row3 col0\" >2020-05-07</td>\n",
       "                        <td id=\"T_666eb_row3_col1\" class=\"data row3 col1\" >facebook_ads</td>\n",
       "                        <td id=\"T_666eb_row3_col2\" class=\"data row3 col2\" >224.00</td>\n",
       "                        <td id=\"T_666eb_row3_col3\" class=\"data row3 col3\" >125.23</td>\n",
       "                        <td id=\"T_666eb_row3_col4\" class=\"data row3 col4\" >7.99</td>\n",
       "                        <td id=\"T_666eb_row3_col5\" class=\"data row3 col5\" >177.98</td>\n",
       "                        <td id=\"T_666eb_row3_col6\" class=\"data row3 col6\" >-52.75</td>\n",
       "            </tr>\n",
       "            <tr>\n",
       "                        <th id=\"T_666eb_level0_row4\" class=\"row_heading level0 row4\" >4</th>\n",
       "                        <td id=\"T_666eb_row4_col0\" class=\"data row4 col0\" >2020-05-08</td>\n",
       "                        <td id=\"T_666eb_row4_col1\" class=\"data row4 col1\" >facebook_ads</td>\n",
       "                        <td id=\"T_666eb_row4_col2\" class=\"data row4 col2\" >139.00</td>\n",
       "                        <td id=\"T_666eb_row4_col3\" class=\"data row4 col3\" >66.43</td>\n",
       "                        <td id=\"T_666eb_row4_col4\" class=\"data row4 col4\" >6.83</td>\n",
       "                        <td id=\"T_666eb_row4_col5\" class=\"data row4 col5\" >111.77</td>\n",
       "                        <td id=\"T_666eb_row4_col6\" class=\"data row4 col6\" >-45.34</td>\n",
       "            </tr>\n",
       "            <tr>\n",
       "                        <th id=\"T_666eb_level0_row5\" class=\"row_heading level0 row5\" >5</th>\n",
       "                        <td id=\"T_666eb_row5_col0\" class=\"data row5 col0\" >2020-05-09</td>\n",
       "                        <td id=\"T_666eb_row5_col1\" class=\"data row5 col1\" >facebook_ads</td>\n",
       "                        <td id=\"T_666eb_row5_col2\" class=\"data row5 col2\" >84.00</td>\n",
       "                        <td id=\"T_666eb_row5_col3\" class=\"data row5 col3\" >41.93</td>\n",
       "                        <td id=\"T_666eb_row5_col4\" class=\"data row5 col4\" >7.13</td>\n",
       "                        <td id=\"T_666eb_row5_col5\" class=\"data row5 col5\" >68.01</td>\n",
       "                        <td id=\"T_666eb_row5_col6\" class=\"data row5 col6\" >-26.08</td>\n",
       "            </tr>\n",
       "            <tr>\n",
       "                        <th id=\"T_666eb_level0_row6\" class=\"row_heading level0 row6\" >6</th>\n",
       "                        <td id=\"T_666eb_row6_col0\" class=\"data row6 col0\" >2020-05-10</td>\n",
       "                        <td id=\"T_666eb_row6_col1\" class=\"data row6 col1\" >facebook_ads</td>\n",
       "                        <td id=\"T_666eb_row6_col2\" class=\"data row6 col2\" >56.00</td>\n",
       "                        <td id=\"T_666eb_row6_col3\" class=\"data row6 col3\" >22.26</td>\n",
       "                        <td id=\"T_666eb_row6_col4\" class=\"data row6 col4\" >5.68</td>\n",
       "                        <td id=\"T_666eb_row6_col5\" class=\"data row6 col5\" >38.72</td>\n",
       "                        <td id=\"T_666eb_row6_col6\" class=\"data row6 col6\" >-16.46</td>\n",
       "            </tr>\n",
       "            <tr>\n",
       "                        <th id=\"T_666eb_level0_row7\" class=\"row_heading level0 row7\" >7</th>\n",
       "                        <td id=\"T_666eb_row7_col0\" class=\"data row7 col0\" >2020-05-04</td>\n",
       "                        <td id=\"T_666eb_row7_col1\" class=\"data row7 col1\" >instagram_new_adverts</td>\n",
       "                        <td id=\"T_666eb_row7_col2\" class=\"data row7 col2\" >1452.00</td>\n",
       "                        <td id=\"T_666eb_row7_col3\" class=\"data row7 col3\" >1059.45</td>\n",
       "                        <td id=\"T_666eb_row7_col4\" class=\"data row7 col4\" >10.42</td>\n",
       "                        <td id=\"T_666eb_row7_col5\" class=\"data row7 col5\" >943.20</td>\n",
       "                        <td id=\"T_666eb_row7_col6\" class=\"data row7 col6\" >116.25</td>\n",
       "            </tr>\n",
       "            <tr>\n",
       "                        <th id=\"T_666eb_level0_row8\" class=\"row_heading level0 row8\" >8</th>\n",
       "                        <td id=\"T_666eb_row8_col0\" class=\"data row8 col0\" >2020-05-05</td>\n",
       "                        <td id=\"T_666eb_row8_col1\" class=\"data row8 col1\" >instagram_new_adverts</td>\n",
       "                        <td id=\"T_666eb_row8_col2\" class=\"data row8 col2\" >796.00</td>\n",
       "                        <td id=\"T_666eb_row8_col3\" class=\"data row8 col3\" >545.02</td>\n",
       "                        <td id=\"T_666eb_row8_col4\" class=\"data row8 col4\" >9.78</td>\n",
       "                        <td id=\"T_666eb_row8_col5\" class=\"data row8 col5\" >502.93</td>\n",
       "                        <td id=\"T_666eb_row8_col6\" class=\"data row8 col6\" >42.09</td>\n",
       "            </tr>\n",
       "            <tr>\n",
       "                        <th id=\"T_666eb_level0_row9\" class=\"row_heading level0 row9\" >9</th>\n",
       "                        <td id=\"T_666eb_row9_col0\" class=\"data row9 col0\" >2020-05-06</td>\n",
       "                        <td id=\"T_666eb_row9_col1\" class=\"data row9 col1\" >instagram_new_adverts</td>\n",
       "                        <td id=\"T_666eb_row9_col2\" class=\"data row9 col2\" >472.00</td>\n",
       "                        <td id=\"T_666eb_row9_col3\" class=\"data row9 col3\" >295.47</td>\n",
       "                        <td id=\"T_666eb_row9_col4\" class=\"data row9 col4\" >8.94</td>\n",
       "                        <td id=\"T_666eb_row9_col5\" class=\"data row9 col5\" >313.97</td>\n",
       "                        <td id=\"T_666eb_row9_col6\" class=\"data row9 col6\" >-18.50</td>\n",
       "            </tr>\n",
       "            <tr>\n",
       "                        <th id=\"T_666eb_level0_row10\" class=\"row_heading level0 row10\" >10</th>\n",
       "                        <td id=\"T_666eb_row10_col0\" class=\"data row10 col0\" >2020-05-07</td>\n",
       "                        <td id=\"T_666eb_row10_col1\" class=\"data row10 col1\" >instagram_new_adverts</td>\n",
       "                        <td id=\"T_666eb_row10_col2\" class=\"data row10 col2\" >270.00</td>\n",
       "                        <td id=\"T_666eb_row10_col3\" class=\"data row10 col3\" >158.06</td>\n",
       "                        <td id=\"T_666eb_row10_col4\" class=\"data row10 col4\" >8.36</td>\n",
       "                        <td id=\"T_666eb_row10_col5\" class=\"data row10 col5\" >173.07</td>\n",
       "                        <td id=\"T_666eb_row10_col6\" class=\"data row10 col6\" >-15.01</td>\n",
       "            </tr>\n",
       "            <tr>\n",
       "                        <th id=\"T_666eb_level0_row11\" class=\"row_heading level0 row11\" >11</th>\n",
       "                        <td id=\"T_666eb_row11_col0\" class=\"data row11 col0\" >2020-05-08</td>\n",
       "                        <td id=\"T_666eb_row11_col1\" class=\"data row11 col1\" >instagram_new_adverts</td>\n",
       "                        <td id=\"T_666eb_row11_col2\" class=\"data row11 col2\" >175.00</td>\n",
       "                        <td id=\"T_666eb_row11_col3\" class=\"data row11 col3\" >89.53</td>\n",
       "                        <td id=\"T_666eb_row11_col4\" class=\"data row11 col4\" >7.31</td>\n",
       "                        <td id=\"T_666eb_row11_col5\" class=\"data row11 col5\" >109.92</td>\n",
       "                        <td id=\"T_666eb_row11_col6\" class=\"data row11 col6\" >-20.39</td>\n",
       "            </tr>\n",
       "            <tr>\n",
       "                        <th id=\"T_666eb_level0_row12\" class=\"row_heading level0 row12\" >12</th>\n",
       "                        <td id=\"T_666eb_row12_col0\" class=\"data row12 col0\" >2020-05-09</td>\n",
       "                        <td id=\"T_666eb_row12_col1\" class=\"data row12 col1\" >instagram_new_adverts</td>\n",
       "                        <td id=\"T_666eb_row12_col2\" class=\"data row12 col2\" >112.00</td>\n",
       "                        <td id=\"T_666eb_row12_col3\" class=\"data row12 col3\" >51.66</td>\n",
       "                        <td id=\"T_666eb_row12_col4\" class=\"data row12 col4\" >6.59</td>\n",
       "                        <td id=\"T_666eb_row12_col5\" class=\"data row12 col5\" >71.58</td>\n",
       "                        <td id=\"T_666eb_row12_col6\" class=\"data row12 col6\" >-19.92</td>\n",
       "            </tr>\n",
       "            <tr>\n",
       "                        <th id=\"T_666eb_level0_row13\" class=\"row_heading level0 row13\" >13</th>\n",
       "                        <td id=\"T_666eb_row13_col0\" class=\"data row13 col0\" >2020-05-10</td>\n",
       "                        <td id=\"T_666eb_row13_col1\" class=\"data row13 col1\" >instagram_new_adverts</td>\n",
       "                        <td id=\"T_666eb_row13_col2\" class=\"data row13 col2\" >70.00</td>\n",
       "                        <td id=\"T_666eb_row13_col3\" class=\"data row13 col3\" >27.86</td>\n",
       "                        <td id=\"T_666eb_row13_col4\" class=\"data row13 col4\" >5.69</td>\n",
       "                        <td id=\"T_666eb_row13_col5\" class=\"data row13 col5\" >46.78</td>\n",
       "                        <td id=\"T_666eb_row13_col6\" class=\"data row13 col6\" >-18.92</td>\n",
       "            </tr>\n",
       "            <tr>\n",
       "                        <th id=\"T_666eb_level0_row14\" class=\"row_heading level0 row14\" >14</th>\n",
       "                        <td id=\"T_666eb_row14_col0\" class=\"data row14 col0\" >2020-05-04</td>\n",
       "                        <td id=\"T_666eb_row14_col1\" class=\"data row14 col1\" >yandex_direct</td>\n",
       "                        <td id=\"T_666eb_row14_col2\" class=\"data row14 col2\" >2078.00</td>\n",
       "                        <td id=\"T_666eb_row14_col3\" class=\"data row14 col3\" >1486.31</td>\n",
       "                        <td id=\"T_666eb_row14_col4\" class=\"data row14 col4\" >10.22</td>\n",
       "                        <td id=\"T_666eb_row14_col5\" class=\"data row14 col5\" >969.14</td>\n",
       "                        <td id=\"T_666eb_row14_col6\" class=\"data row14 col6\" >517.17</td>\n",
       "            </tr>\n",
       "            <tr>\n",
       "                        <th id=\"T_666eb_level0_row15\" class=\"row_heading level0 row15\" >15</th>\n",
       "                        <td id=\"T_666eb_row15_col0\" class=\"data row15 col0\" >2020-05-05</td>\n",
       "                        <td id=\"T_666eb_row15_col1\" class=\"data row15 col1\" >yandex_direct</td>\n",
       "                        <td id=\"T_666eb_row15_col2\" class=\"data row15 col2\" >1208.00</td>\n",
       "                        <td id=\"T_666eb_row15_col3\" class=\"data row15 col3\" >816.48</td>\n",
       "                        <td id=\"T_666eb_row15_col4\" class=\"data row15 col4\" >9.66</td>\n",
       "                        <td id=\"T_666eb_row15_col5\" class=\"data row15 col5\" >554.65</td>\n",
       "                        <td id=\"T_666eb_row15_col6\" class=\"data row15 col6\" >261.83</td>\n",
       "            </tr>\n",
       "            <tr>\n",
       "                        <th id=\"T_666eb_level0_row16\" class=\"row_heading level0 row16\" >16</th>\n",
       "                        <td id=\"T_666eb_row16_col0\" class=\"data row16 col0\" >2020-05-06</td>\n",
       "                        <td id=\"T_666eb_row16_col1\" class=\"data row16 col1\" >yandex_direct</td>\n",
       "                        <td id=\"T_666eb_row16_col2\" class=\"data row16 col2\" >664.00</td>\n",
       "                        <td id=\"T_666eb_row16_col3\" class=\"data row16 col3\" >410.20</td>\n",
       "                        <td id=\"T_666eb_row16_col4\" class=\"data row16 col4\" >8.83</td>\n",
       "                        <td id=\"T_666eb_row16_col5\" class=\"data row16 col5\" >308.23</td>\n",
       "                        <td id=\"T_666eb_row16_col6\" class=\"data row16 col6\" >101.97</td>\n",
       "            </tr>\n",
       "            <tr>\n",
       "                        <th id=\"T_666eb_level0_row17\" class=\"row_heading level0 row17\" >17</th>\n",
       "                        <td id=\"T_666eb_row17_col0\" class=\"data row17 col0\" >2020-05-07</td>\n",
       "                        <td id=\"T_666eb_row17_col1\" class=\"data row17 col1\" >yandex_direct</td>\n",
       "                        <td id=\"T_666eb_row17_col2\" class=\"data row17 col2\" >395.00</td>\n",
       "                        <td id=\"T_666eb_row17_col3\" class=\"data row17 col3\" >225.40</td>\n",
       "                        <td id=\"T_666eb_row17_col4\" class=\"data row17 col4\" >8.15</td>\n",
       "                        <td id=\"T_666eb_row17_col5\" class=\"data row17 col5\" >180.92</td>\n",
       "                        <td id=\"T_666eb_row17_col6\" class=\"data row17 col6\" >44.48</td>\n",
       "            </tr>\n",
       "            <tr>\n",
       "                        <th id=\"T_666eb_level0_row18\" class=\"row_heading level0 row18\" >18</th>\n",
       "                        <td id=\"T_666eb_row18_col0\" class=\"data row18 col0\" >2020-05-08</td>\n",
       "                        <td id=\"T_666eb_row18_col1\" class=\"data row18 col1\" >yandex_direct</td>\n",
       "                        <td id=\"T_666eb_row18_col2\" class=\"data row18 col2\" >239.00</td>\n",
       "                        <td id=\"T_666eb_row18_col3\" class=\"data row18 col3\" >114.94</td>\n",
       "                        <td id=\"T_666eb_row18_col4\" class=\"data row18 col4\" >6.87</td>\n",
       "                        <td id=\"T_666eb_row18_col5\" class=\"data row18 col5\" >114.43</td>\n",
       "                        <td id=\"T_666eb_row18_col6\" class=\"data row18 col6\" >0.51</td>\n",
       "            </tr>\n",
       "            <tr>\n",
       "                        <th id=\"T_666eb_level0_row19\" class=\"row_heading level0 row19\" >19</th>\n",
       "                        <td id=\"T_666eb_row19_col0\" class=\"data row19 col0\" >2020-05-09</td>\n",
       "                        <td id=\"T_666eb_row19_col1\" class=\"data row19 col1\" >yandex_direct</td>\n",
       "                        <td id=\"T_666eb_row19_col2\" class=\"data row19 col2\" >144.00</td>\n",
       "                        <td id=\"T_666eb_row19_col3\" class=\"data row19 col3\" >60.20</td>\n",
       "                        <td id=\"T_666eb_row19_col4\" class=\"data row19 col4\" >5.97</td>\n",
       "                        <td id=\"T_666eb_row19_col5\" class=\"data row19 col5\" >62.96</td>\n",
       "                        <td id=\"T_666eb_row19_col6\" class=\"data row19 col6\" >-2.76</td>\n",
       "            </tr>\n",
       "            <tr>\n",
       "                        <th id=\"T_666eb_level0_row20\" class=\"row_heading level0 row20\" >20</th>\n",
       "                        <td id=\"T_666eb_row20_col0\" class=\"data row20 col0\" >2020-05-10</td>\n",
       "                        <td id=\"T_666eb_row20_col1\" class=\"data row20 col1\" >yandex_direct</td>\n",
       "                        <td id=\"T_666eb_row20_col2\" class=\"data row20 col2\" >89.00</td>\n",
       "                        <td id=\"T_666eb_row20_col3\" class=\"data row20 col3\" >38.71</td>\n",
       "                        <td id=\"T_666eb_row20_col4\" class=\"data row20 col4\" >6.21</td>\n",
       "                        <td id=\"T_666eb_row20_col5\" class=\"data row20 col5\" >42.78</td>\n",
       "                        <td id=\"T_666eb_row20_col6\" class=\"data row20 col6\" >-4.07</td>\n",
       "            </tr>\n",
       "            <tr>\n",
       "                        <th id=\"T_666eb_level0_row21\" class=\"row_heading level0 row21\" >21</th>\n",
       "                        <td id=\"T_666eb_row21_col0\" class=\"data row21 col0\" >2020-05-04</td>\n",
       "                        <td id=\"T_666eb_row21_col1\" class=\"data row21 col1\" >youtube_channel_reklama</td>\n",
       "                        <td id=\"T_666eb_row21_col2\" class=\"data row21 col2\" >1146.00</td>\n",
       "                        <td id=\"T_666eb_row21_col3\" class=\"data row21 col3\" >824.11</td>\n",
       "                        <td id=\"T_666eb_row21_col4\" class=\"data row21 col4\" >10.27</td>\n",
       "                        <td id=\"T_666eb_row21_col5\" class=\"data row21 col5\" >454.22</td>\n",
       "                        <td id=\"T_666eb_row21_col6\" class=\"data row21 col6\" >369.89</td>\n",
       "            </tr>\n",
       "            <tr>\n",
       "                        <th id=\"T_666eb_level0_row22\" class=\"row_heading level0 row22\" >22</th>\n",
       "                        <td id=\"T_666eb_row22_col0\" class=\"data row22 col0\" >2020-05-05</td>\n",
       "                        <td id=\"T_666eb_row22_col1\" class=\"data row22 col1\" >youtube_channel_reklama</td>\n",
       "                        <td id=\"T_666eb_row22_col2\" class=\"data row22 col2\" >663.00</td>\n",
       "                        <td id=\"T_666eb_row22_col3\" class=\"data row22 col3\" >448.14</td>\n",
       "                        <td id=\"T_666eb_row22_col4\" class=\"data row22 col4\" >9.66</td>\n",
       "                        <td id=\"T_666eb_row22_col5\" class=\"data row22 col5\" >259.07</td>\n",
       "                        <td id=\"T_666eb_row22_col6\" class=\"data row22 col6\" >189.07</td>\n",
       "            </tr>\n",
       "            <tr>\n",
       "                        <th id=\"T_666eb_level0_row23\" class=\"row_heading level0 row23\" >23</th>\n",
       "                        <td id=\"T_666eb_row23_col0\" class=\"data row23 col0\" >2020-05-06</td>\n",
       "                        <td id=\"T_666eb_row23_col1\" class=\"data row23 col1\" >youtube_channel_reklama</td>\n",
       "                        <td id=\"T_666eb_row23_col2\" class=\"data row23 col2\" >366.00</td>\n",
       "                        <td id=\"T_666eb_row23_col3\" class=\"data row23 col3\" >225.26</td>\n",
       "                        <td id=\"T_666eb_row23_col4\" class=\"data row23 col4\" >8.79</td>\n",
       "                        <td id=\"T_666eb_row23_col5\" class=\"data row23 col5\" >147.04</td>\n",
       "                        <td id=\"T_666eb_row23_col6\" class=\"data row23 col6\" >78.22</td>\n",
       "            </tr>\n",
       "            <tr>\n",
       "                        <th id=\"T_666eb_level0_row24\" class=\"row_heading level0 row24\" >24</th>\n",
       "                        <td id=\"T_666eb_row24_col0\" class=\"data row24 col0\" >2020-05-07</td>\n",
       "                        <td id=\"T_666eb_row24_col1\" class=\"data row24 col1\" >youtube_channel_reklama</td>\n",
       "                        <td id=\"T_666eb_row24_col2\" class=\"data row24 col2\" >220.00</td>\n",
       "                        <td id=\"T_666eb_row24_col3\" class=\"data row24 col3\" >114.59</td>\n",
       "                        <td id=\"T_666eb_row24_col4\" class=\"data row24 col4\" >7.44</td>\n",
       "                        <td id=\"T_666eb_row24_col5\" class=\"data row24 col5\" >88.51</td>\n",
       "                        <td id=\"T_666eb_row24_col6\" class=\"data row24 col6\" >26.08</td>\n",
       "            </tr>\n",
       "            <tr>\n",
       "                        <th id=\"T_666eb_level0_row25\" class=\"row_heading level0 row25\" >25</th>\n",
       "                        <td id=\"T_666eb_row25_col0\" class=\"data row25 col0\" >2020-05-08</td>\n",
       "                        <td id=\"T_666eb_row25_col1\" class=\"data row25 col1\" >youtube_channel_reklama</td>\n",
       "                        <td id=\"T_666eb_row25_col2\" class=\"data row25 col2\" >135.00</td>\n",
       "                        <td id=\"T_666eb_row25_col3\" class=\"data row25 col3\" >67.83</td>\n",
       "                        <td id=\"T_666eb_row25_col4\" class=\"data row25 col4\" >7.18</td>\n",
       "                        <td id=\"T_666eb_row25_col5\" class=\"data row25 col5\" >55.74</td>\n",
       "                        <td id=\"T_666eb_row25_col6\" class=\"data row25 col6\" >12.09</td>\n",
       "            </tr>\n",
       "            <tr>\n",
       "                        <th id=\"T_666eb_level0_row26\" class=\"row_heading level0 row26\" >26</th>\n",
       "                        <td id=\"T_666eb_row26_col0\" class=\"data row26 col0\" >2020-05-09</td>\n",
       "                        <td id=\"T_666eb_row26_col1\" class=\"data row26 col1\" >youtube_channel_reklama</td>\n",
       "                        <td id=\"T_666eb_row26_col2\" class=\"data row26 col2\" >100.00</td>\n",
       "                        <td id=\"T_666eb_row26_col3\" class=\"data row26 col3\" >46.13</td>\n",
       "                        <td id=\"T_666eb_row26_col4\" class=\"data row26 col4\" >6.59</td>\n",
       "                        <td id=\"T_666eb_row26_col5\" class=\"data row26 col5\" >40.22</td>\n",
       "                        <td id=\"T_666eb_row26_col6\" class=\"data row26 col6\" >5.91</td>\n",
       "            </tr>\n",
       "            <tr>\n",
       "                        <th id=\"T_666eb_level0_row27\" class=\"row_heading level0 row27\" >27</th>\n",
       "                        <td id=\"T_666eb_row27_col0\" class=\"data row27 col0\" >2020-05-10</td>\n",
       "                        <td id=\"T_666eb_row27_col1\" class=\"data row27 col1\" >youtube_channel_reklama</td>\n",
       "                        <td id=\"T_666eb_row27_col2\" class=\"data row27 col2\" >56.00</td>\n",
       "                        <td id=\"T_666eb_row27_col3\" class=\"data row27 col3\" >22.40</td>\n",
       "                        <td id=\"T_666eb_row27_col4\" class=\"data row27 col4\" >5.71</td>\n",
       "                        <td id=\"T_666eb_row27_col5\" class=\"data row27 col5\" >23.31</td>\n",
       "                        <td id=\"T_666eb_row27_col6\" class=\"data row27 col6\" >-0.91</td>\n",
       "            </tr>\n",
       "    </tbody></table>"
      ],
      "text/plain": [
       "<pandas.io.formats.style.Styler at 0x7efe847ad700>"
      ]
     },
     "execution_count": 52,
     "metadata": {},
     "output_type": "execute_result"
    }
   ],
   "source": [
    "# группируем для анализа по дням привлечения и источникам\n",
    "money = pivot_data.groupby(['first_day','source']).agg(\n",
    "    {'user_id':'nunique', 'revenue':'sum', 'cnt_build':'mean'}\n",
    ").rename(columns={'user_id':'cohort_size', 'revenue':'cohort_revenue'}).sort_values(\n",
    "    by=['source','first_day']\n",
    ").reset_index()\n",
    "\n",
    "# включаем в получившуюся таблицу с данными информацию о расходах на рекламу из таблицы cost\n",
    "money['cost'] = cost['cost']\n",
    "\n",
    "# предполагаемая прибыль от рекламных показов в игре\n",
    "money['profit'] = money['cohort_revenue'] - money['cost']\n",
    "\n",
    "\n",
    "# отобразим цветом максимумы и минимумы значений по столбцам\n",
    "numeric_columns = money.drop(columns=['first_day', 'source']).columns\n",
    "money.style.format({i: '{:.2f}' for i in numeric_columns}) \\\n",
    "     .highlight_max(color='yellowgreen', subset=numeric_columns) \\\n",
    "     .highlight_min(color='coral', subset=numeric_columns)"
   ]
  },
  {
   "cell_type": "markdown",
   "metadata": {},
   "source": [
    "**Вместе с количеством привлеченных игроков день ото дня снижалось и среднее количество построенных домов (обратим внимание, что среднее время прохождения уровня 11-13 дней, а это значит, что у игроков, привлеченных 10 мая было время выйти на средние показатели постройки зданий первых 3-4 когорт. Предположу возможные причины: игрок уже знал как пройти уровень, наименьшими усилиями, - прохождение уровня было облегчено разработчиками, - технические неполадки???** "
   ]
  },
  {
   "cell_type": "markdown",
   "metadata": {},
   "source": [
    "Сформируем сводную таблицу с группировкой по источнику привлечения и посчитаем метрики: cac(стоимость привлечения 1 пользователя), прибыль и окупаемость рекламных вложений(romi)."
   ]
  },
  {
   "cell_type": "code",
   "execution_count": 53,
   "metadata": {
    "scrolled": true
   },
   "outputs": [
    {
     "data": {
      "text/html": [
       "<div>\n",
       "<style scoped>\n",
       "    .dataframe tbody tr th:only-of-type {\n",
       "        vertical-align: middle;\n",
       "    }\n",
       "\n",
       "    .dataframe tbody tr th {\n",
       "        vertical-align: top;\n",
       "    }\n",
       "\n",
       "    .dataframe thead th {\n",
       "        text-align: right;\n",
       "    }\n",
       "</style>\n",
       "<table border=\"1\" class=\"dataframe\">\n",
       "  <thead>\n",
       "    <tr style=\"text-align: right;\">\n",
       "      <th></th>\n",
       "      <th>source</th>\n",
       "      <th>cnt_user</th>\n",
       "      <th>revenue</th>\n",
       "      <th>cost</th>\n",
       "      <th>cac</th>\n",
       "      <th>profit</th>\n",
       "      <th>romi</th>\n",
       "    </tr>\n",
       "  </thead>\n",
       "  <tbody>\n",
       "    <tr>\n",
       "      <th>0</th>\n",
       "      <td>facebook_ads</td>\n",
       "      <td>2726</td>\n",
       "      <td>1829.17</td>\n",
       "      <td>2140.904643</td>\n",
       "      <td>0.785365</td>\n",
       "      <td>-311.734643</td>\n",
       "      <td>-14.560884</td>\n",
       "    </tr>\n",
       "    <tr>\n",
       "      <th>1</th>\n",
       "      <td>instagram_new_adverts</td>\n",
       "      <td>3347</td>\n",
       "      <td>2227.05</td>\n",
       "      <td>2161.441691</td>\n",
       "      <td>0.645785</td>\n",
       "      <td>65.608309</td>\n",
       "      <td>3.035396</td>\n",
       "    </tr>\n",
       "    <tr>\n",
       "      <th>2</th>\n",
       "      <td>yandex_direct</td>\n",
       "      <td>4817</td>\n",
       "      <td>3152.24</td>\n",
       "      <td>2233.111449</td>\n",
       "      <td>0.463590</td>\n",
       "      <td>919.128551</td>\n",
       "      <td>41.159099</td>\n",
       "    </tr>\n",
       "    <tr>\n",
       "      <th>3</th>\n",
       "      <td>youtube_channel_reklama</td>\n",
       "      <td>2686</td>\n",
       "      <td>1748.46</td>\n",
       "      <td>1068.119204</td>\n",
       "      <td>0.397662</td>\n",
       "      <td>680.340796</td>\n",
       "      <td>63.695212</td>\n",
       "    </tr>\n",
       "  </tbody>\n",
       "</table>\n",
       "</div>"
      ],
      "text/plain": [
       "                    source  cnt_user  revenue         cost       cac  \\\n",
       "0             facebook_ads      2726  1829.17  2140.904643  0.785365   \n",
       "1    instagram_new_adverts      3347  2227.05  2161.441691  0.645785   \n",
       "2            yandex_direct      4817  3152.24  2233.111449  0.463590   \n",
       "3  youtube_channel_reklama      2686  1748.46  1068.119204  0.397662   \n",
       "\n",
       "       profit       romi  \n",
       "0 -311.734643 -14.560884  \n",
       "1   65.608309   3.035396  \n",
       "2  919.128551  41.159099  \n",
       "3  680.340796  63.695212  "
      ]
     },
     "execution_count": 53,
     "metadata": {},
     "output_type": "execute_result"
    }
   ],
   "source": [
    "source_money = money[['source','cohort_size', 'cohort_revenue', 'cost']].groupby('source').sum()\n",
    "source_money['cac'] = source_money['cost'] / source_money['cohort_size']\n",
    "source_money['profit'] = source_money['cohort_revenue'] - source_money['cost']\n",
    "source_money['romi'] = source_money['profit'] / source_money['cost']*100\n",
    "source_money = source_money.rename(columns={ 'cohort_size':'cnt_user', 'cohort_revenue':'revenue'})\n",
    "source_money.reset_index()"
   ]
  },
  {
   "cell_type": "markdown",
   "metadata": {},
   "source": [
    "**Фэйсбук не окупил рекламные расходы на 14%, совсем незначительную окупаемость показал Инстаграм, результат в 41% окупаемость показал Яндекс, самая высокая окупаемость у Ютуба, но этот канал привлек меньше всего пользователей**"
   ]
  },
  {
   "cell_type": "markdown",
   "metadata": {},
   "source": [
    "### Итоги"
   ]
  },
  {
   "cell_type": "code",
   "execution_count": 54,
   "metadata": {},
   "outputs": [
    {
     "data": {
      "text/html": [
       "<div>\n",
       "<style scoped>\n",
       "    .dataframe tbody tr th:only-of-type {\n",
       "        vertical-align: middle;\n",
       "    }\n",
       "\n",
       "    .dataframe tbody tr th {\n",
       "        vertical-align: top;\n",
       "    }\n",
       "\n",
       "    .dataframe thead th {\n",
       "        text-align: right;\n",
       "    }\n",
       "</style>\n",
       "<table border=\"1\" class=\"dataframe\">\n",
       "  <thead>\n",
       "    <tr style=\"text-align: right;\">\n",
       "      <th></th>\n",
       "      <th>source</th>\n",
       "      <th>user_id</th>\n",
       "      <th>session_mean</th>\n",
       "      <th>finished_cnt</th>\n",
       "      <th>project_cnt</th>\n",
       "      <th>build_mean</th>\n",
       "      <th>revenue_mean</th>\n",
       "      <th>share_finished</th>\n",
       "      <th>share_project</th>\n",
       "    </tr>\n",
       "  </thead>\n",
       "  <tbody>\n",
       "    <tr>\n",
       "      <th>0</th>\n",
       "      <td>facebook_ads</td>\n",
       "      <td>2726</td>\n",
       "      <td>9.585840</td>\n",
       "      <td>1150.0</td>\n",
       "      <td>391.0</td>\n",
       "      <td>9.585840</td>\n",
       "      <td>0.671009</td>\n",
       "      <td>0.42</td>\n",
       "      <td>0.34</td>\n",
       "    </tr>\n",
       "    <tr>\n",
       "      <th>1</th>\n",
       "      <td>instagram_new_adverts</td>\n",
       "      <td>3347</td>\n",
       "      <td>9.505527</td>\n",
       "      <td>1466.0</td>\n",
       "      <td>476.0</td>\n",
       "      <td>9.505527</td>\n",
       "      <td>0.665387</td>\n",
       "      <td>0.44</td>\n",
       "      <td>0.32</td>\n",
       "    </tr>\n",
       "    <tr>\n",
       "      <th>2</th>\n",
       "      <td>yandex_direct</td>\n",
       "      <td>4817</td>\n",
       "      <td>9.348557</td>\n",
       "      <td>2042.0</td>\n",
       "      <td>620.0</td>\n",
       "      <td>9.348557</td>\n",
       "      <td>0.654399</td>\n",
       "      <td>0.42</td>\n",
       "      <td>0.30</td>\n",
       "    </tr>\n",
       "    <tr>\n",
       "      <th>3</th>\n",
       "      <td>youtube_channel_reklama</td>\n",
       "      <td>2686</td>\n",
       "      <td>9.299330</td>\n",
       "      <td>1159.0</td>\n",
       "      <td>379.0</td>\n",
       "      <td>9.299330</td>\n",
       "      <td>0.650953</td>\n",
       "      <td>0.43</td>\n",
       "      <td>0.33</td>\n",
       "    </tr>\n",
       "  </tbody>\n",
       "</table>\n",
       "</div>"
      ],
      "text/plain": [
       "                    source  user_id  session_mean  finished_cnt  project_cnt  \\\n",
       "0             facebook_ads     2726      9.585840        1150.0        391.0   \n",
       "1    instagram_new_adverts     3347      9.505527        1466.0        476.0   \n",
       "2            yandex_direct     4817      9.348557        2042.0        620.0   \n",
       "3  youtube_channel_reklama     2686      9.299330        1159.0        379.0   \n",
       "\n",
       "   build_mean  revenue_mean  share_finished  share_project  \n",
       "0    9.585840      0.671009            0.42           0.34  \n",
       "1    9.505527      0.665387            0.44           0.32  \n",
       "2    9.348557      0.654399            0.42           0.30  \n",
       "3    9.299330      0.650953            0.43           0.33  "
      ]
     },
     "execution_count": 54,
     "metadata": {},
     "output_type": "execute_result"
    }
   ],
   "source": [
    "# сформируем данные по основным критериям проверки поведения пользователя\n",
    "all_result = pivot_data.groupby('source').agg(\n",
    "    {\n",
    "        'user_id':'count',\n",
    "        'cnt_session':'mean',\n",
    "        'finished_stage_1':'sum',\n",
    "        'strategy_project':'sum',\n",
    "        'cnt_build':'mean',\n",
    "        'revenue':'mean'\n",
    "    }\n",
    ").reset_index()\n",
    "\n",
    "all_result['share_finished'] = round((all_result['finished_stage_1']/all_result['user_id']),2)\n",
    "all_result['share_project'] = round((all_result['strategy_project']/all_result['finished_stage_1']),2)\n",
    "all_result = all_result.rename(\n",
    "    columns = {\n",
    "        'cnt_session':'session_mean',\n",
    "        'finished_stage_1':'finished_cnt',\n",
    "        'strategy_project': 'project_cnt',\n",
    "        'revenue':'revenue_mean',\n",
    "        'cnt_build':'build_mean'\n",
    "    }\n",
    ")\n",
    "all_result"
   ]
  },
  {
   "cell_type": "code",
   "execution_count": 55,
   "metadata": {},
   "outputs": [
    {
     "data": {
      "text/html": [
       "<div>\n",
       "<style scoped>\n",
       "    .dataframe tbody tr th:only-of-type {\n",
       "        vertical-align: middle;\n",
       "    }\n",
       "\n",
       "    .dataframe tbody tr th {\n",
       "        vertical-align: top;\n",
       "    }\n",
       "\n",
       "    .dataframe thead th {\n",
       "        text-align: right;\n",
       "    }\n",
       "</style>\n",
       "<table border=\"1\" class=\"dataframe\">\n",
       "  <thead>\n",
       "    <tr style=\"text-align: right;\">\n",
       "      <th></th>\n",
       "      <th>cnt_user</th>\n",
       "      <th>revenue</th>\n",
       "      <th>cost</th>\n",
       "      <th>cac</th>\n",
       "      <th>profit</th>\n",
       "      <th>romi</th>\n",
       "    </tr>\n",
       "    <tr>\n",
       "      <th>source</th>\n",
       "      <th></th>\n",
       "      <th></th>\n",
       "      <th></th>\n",
       "      <th></th>\n",
       "      <th></th>\n",
       "      <th></th>\n",
       "    </tr>\n",
       "  </thead>\n",
       "  <tbody>\n",
       "    <tr>\n",
       "      <th>facebook_ads</th>\n",
       "      <td>2726</td>\n",
       "      <td>1829.17</td>\n",
       "      <td>2140.904643</td>\n",
       "      <td>0.785365</td>\n",
       "      <td>-311.734643</td>\n",
       "      <td>-14.560884</td>\n",
       "    </tr>\n",
       "    <tr>\n",
       "      <th>instagram_new_adverts</th>\n",
       "      <td>3347</td>\n",
       "      <td>2227.05</td>\n",
       "      <td>2161.441691</td>\n",
       "      <td>0.645785</td>\n",
       "      <td>65.608309</td>\n",
       "      <td>3.035396</td>\n",
       "    </tr>\n",
       "    <tr>\n",
       "      <th>yandex_direct</th>\n",
       "      <td>4817</td>\n",
       "      <td>3152.24</td>\n",
       "      <td>2233.111449</td>\n",
       "      <td>0.463590</td>\n",
       "      <td>919.128551</td>\n",
       "      <td>41.159099</td>\n",
       "    </tr>\n",
       "    <tr>\n",
       "      <th>youtube_channel_reklama</th>\n",
       "      <td>2686</td>\n",
       "      <td>1748.46</td>\n",
       "      <td>1068.119204</td>\n",
       "      <td>0.397662</td>\n",
       "      <td>680.340796</td>\n",
       "      <td>63.695212</td>\n",
       "    </tr>\n",
       "  </tbody>\n",
       "</table>\n",
       "</div>"
      ],
      "text/plain": [
       "                         cnt_user  revenue         cost       cac      profit  \\\n",
       "source                                                                          \n",
       "facebook_ads                 2726  1829.17  2140.904643  0.785365 -311.734643   \n",
       "instagram_new_adverts        3347  2227.05  2161.441691  0.645785   65.608309   \n",
       "yandex_direct                4817  3152.24  2233.111449  0.463590  919.128551   \n",
       "youtube_channel_reklama      2686  1748.46  1068.119204  0.397662  680.340796   \n",
       "\n",
       "                              romi  \n",
       "source                              \n",
       "facebook_ads            -14.560884  \n",
       "instagram_new_adverts     3.035396  \n",
       "yandex_direct            41.159099  \n",
       "youtube_channel_reklama  63.695212  "
      ]
     },
     "execution_count": 55,
     "metadata": {},
     "output_type": "execute_result"
    }
   ],
   "source": [
    "# данные по ожидаемой монетизации\n",
    "source_money"
   ]
  },
  {
   "cell_type": "markdown",
   "metadata": {},
   "source": [
    "Судя по двум сводным таблицам выше, данные по рекламным каналам очень похожи, еще раз укажем на те отличия, что были обнаружены и значимы для исследования:\n",
    "\n",
    "- По рекламным источникам каналы привлечения практически не отличаются, показатели прохождения уровня - 42-44%. Чуть больше пользователей, прошедших первый уровень, у Инстаграм - 44%, чуть меньше у Фэйсбук и Яндекс - по 42%** \n",
    "- Стратегию победы над противником, в зависимости от канала привлечения, выбирают 66-70% пользователей, соответственно через реализацию проекта на следующий уровень проходят - 30-34% пользователей. Чуть больше \"воителей\" пришли из Яндекса, чуть больше \"исследователей\" пришли из Фэйсбука.\n",
    "- среднее время прохождения уровня для всех игроков - 11 дней, пользователи, выбирающие стратегию исследователя (project) тратят на прохождение игры в среднем 13 дней, игроки-\"воители\" - 11 дней. При этом исследователи реализуют проект так же в среднем за 11 дней и могут перейти на следующий уровень сразу, но все же остаются в игре еще в среднем на 2 дня.\n",
    "- Среднее количество построек на всех игроков - 9. Для завершивших уровень - среднее количество построек - 10, для не завершивших, ожидаемо меньше - 8. Игроки, выбирающие стратегию project, строят в среднем больше зданий - их показатель 12 зданий (для war-strategy - среднее количество построек на игрока - 9). Для завершения игры в стратегии war некоторым игрокам хватает и 2 построек, тем, кто реализует проект - минимально понадобилось 10 зданий.\n",
    "- Для всех игроков - среднее количество типов зданий на уникального пользователя: assembly_shop - 4 здания, spaceport - 4 здания, research_center - 1 здание. По стратегиям, ожидаемо чуть меньше построек каждого типа у воителей (war_strategy), чуть больше - у исследователей (project_strategy), аномального преимущества какого-то типа зданий в разрезе стратегий также нет.\n",
    "\n",
    "Разница между каналами привлечения ярко обозначилась при анализе модели монетизации и разница эта формируется в целом из различной стоимости рекламы.\n",
    "- Фэйсбук не окупил рекламные расходы на 14%, хотя доля исследователей (project_strategy) в нем больше, чем в остальных каналах.\n",
    "- Cовсем незначительную окупаемость показал Инстаграм - 3%\n",
    "- Хороший сводный результат у Яндекса -  41% окупаемости, сформировавшийся в том числе и за счет бОльшего числа привлеченных игроков\n",
    "- Самая высокая окупаемость у Ютуба - 63%, но из него в игру привлечены меньше всего пользователей. \n",
    "\n"
   ]
  },
  {
   "cell_type": "markdown",
   "metadata": {},
   "source": [
    "## Проверка гипотез"
   ]
  },
  {
   "cell_type": "markdown",
   "metadata": {},
   "source": [
    "### Гипотеза о времени и стратегиях"
   ]
  },
  {
   "cell_type": "markdown",
   "metadata": {},
   "source": [
    "Мы выяснили, что пользователи, выбирающие стратегию исследователя (project) тратят на прохождение игры в среднем 13 дней, игроки-\"воители\" - 11 дней. Далее проверим не является ли такая разница случайной. Для проверки будем использовать t-test"
   ]
  },
  {
   "cell_type": "markdown",
   "metadata": {},
   "source": [
    "**Гипотеза о равенстве двух средних:**\n",
    "- H0 - среднее время прохождения уровня через реализацию проекта (project_strategy) и через победу над первым игроком ('war_strategy') равны\n",
    "- Н1 - среднее время прохождения уровня через реализацию проекта (project_strategy) и через победу над первым игроком ('war_strategy') не равны\n",
    "\n",
    "Уровень значимости alpha примем за 0.05, общепринятое значение, которое позволит уменьшить риск (в отличие от 0,01) ошибки (например, риск не отвергнуть ложную нулевую гипотезу)."
   ]
  },
  {
   "cell_type": "code",
   "execution_count": 56,
   "metadata": {},
   "outputs": [],
   "source": [
    "# формируем выборки\n",
    "sample_project = pivot_data.loc[pivot_data['category_user'] == 'project_strategy']['timing'].astype('int')\n",
    "\n",
    "sample_war = pivot_data.loc[pivot_data['category_user'] == 'war_strategy']['timing'].astype('int')\n"
   ]
  },
  {
   "cell_type": "code",
   "execution_count": 57,
   "metadata": {},
   "outputs": [
    {
     "name": "stdout",
     "output_type": "stream",
     "text": [
      "р-значение 5.708058235070199e-107\n",
      "Отвергаем нулевую гипотезу: разница статистически значима\n"
     ]
    }
   ],
   "source": [
    "# задаем уровень значимости\n",
    "alpha = .05\n",
    "\n",
    "# проводим тест\n",
    "result = st.ttest_ind(sample_project, sample_war, equal_var=False)\n",
    "\n",
    "# формируем результат\n",
    "print('р-значение', result.pvalue)\n",
    "if result.pvalue < alpha:\n",
    "   print('Отвергаем нулевую гипотезу: разница статистически значима')\n",
    "else:\n",
    "    print('Не получилось отвергнуть нулевую гипотезу: вывод о различии сделать нельзя')"
   ]
  },
  {
   "cell_type": "markdown",
   "metadata": {},
   "source": [
    "#### Результат\n",
    "По результатам т-теста нулевая гипотеза о равенстве средних не подтвердилась, была принята альтернативная гипотеза, о том что среднее время прохождения уровня для стратегий не равны. Разница неслучайна, есть значимые отличия между двумя выборками."
   ]
  },
  {
   "cell_type": "markdown",
   "metadata": {},
   "source": [
    "### Гипотеза о прохождении уровня и рекламных каналах"
   ]
  },
  {
   "cell_type": "markdown",
   "metadata": {},
   "source": [
    "Проверим вовлеченность пользователя в игру, по каналам привлечения выясним равны ли доли пользователей, прошедших уровень. \n",
    "\n",
    "Сформулируем гипотезу о равенстве долей:\n",
    "- Н0 - доли пользователей, завершивших уровень равны\n",
    "- Н1 - доли пользователей, завершивших уровень не равны\n",
    "\n",
    "Так как на одних и тех же данных будет проводиться множественный тест, применим поправку Бонферрони к уровню значимости."
   ]
  },
  {
   "cell_type": "code",
   "execution_count": 58,
   "metadata": {},
   "outputs": [],
   "source": [
    "# подготовим функцию для эксперимента\n",
    "def z_test(data1, data2):\n",
    "   \n",
    "    alpha=0.05/6 # поправка Бонферрони для множественного теста\n",
    "    finished = []\n",
    "    users = []\n",
    "    \n",
    "    \n",
    "# заполняем список finished - количество пользователей, прошедших уровень  \n",
    "    x = data1.loc[data1['finished_stage_1'] == 1]['user_id'].count()\n",
    "    y = data2.loc[data2['finished_stage_1'] == 1]['user_id'].count()\n",
    "    finished.append(x)\n",
    "    finished.append(y)\n",
    "# заполняем список users - количество пользователей  \n",
    "    x_s = len(data1)\n",
    "    y_s = len(data2)\n",
    "    users.append(x_s)\n",
    "    users.append(y_s)    \n",
    "    \n",
    "# пропорция прошедших уровень по группам\n",
    "    p1 = finished[0]/users[0]\n",
    "    p2 = finished[1]/users[1]\n",
    "    \n",
    "# пропорция прошедших уровень в комбинированном датасете\n",
    "    p_combined = (finished[0] + finished[1]) / (users[0] + users[1])\n",
    "    \n",
    "# разница пропорций в датасетах\n",
    "    difference = p1-p2\n",
    "    \n",
    "# считаем статистику в std нормального распределения\n",
    "    z_value = difference/mth.sqrt(\n",
    "    p_combined * (1 - p_combined)\n",
    "    * (1 / users[0] + 1 / users[1]))\n",
    "    \n",
    "# задаем стандартное нормальное распределение\n",
    "    distr = st.norm(0,1)\n",
    "    \n",
    "# считаем p_value\n",
    "    p_value = (1 - distr.cdf(abs(z_value))) * 2\n",
    "    \n",
    "    print ('p-значение:', p_value)\n",
    "    \n",
    "# интерпретация результата\n",
    "    if p_value < alpha:\n",
    "        print('Отвергаем нулевую гипотезу: между долями есть значимая разница')\n",
    "    else:\n",
    "        print('Не получилось отвергнуть нулевую гипотезу:нет оснований считать доли разными')"
   ]
  },
  {
   "cell_type": "code",
   "execution_count": 59,
   "metadata": {},
   "outputs": [],
   "source": [
    "# подготовим выборки\n",
    "fb = pivot_data.loc[pivot_data['source'] == 'facebook_ads']\n",
    "yandex = pivot_data.loc[pivot_data['source'] == 'yandex_direct']\n",
    "youtube = pivot_data.loc[pivot_data['source'] == 'youtube_channel_reklama']\n",
    "insta = pivot_data.loc[pivot_data['source'] == 'instagram_new_adverts']"
   ]
  },
  {
   "cell_type": "markdown",
   "metadata": {},
   "source": [
    "Далее проведем попарную проверку:"
   ]
  },
  {
   "cell_type": "code",
   "execution_count": 60,
   "metadata": {
    "scrolled": false
   },
   "outputs": [
    {
     "name": "stdout",
     "output_type": "stream",
     "text": [
      "p-значение: 0.8624388026512437\n",
      "Не получилось отвергнуть нулевую гипотезу:нет оснований считать доли разными\n"
     ]
    }
   ],
   "source": [
    "z_test(fb, yandex)"
   ]
  },
  {
   "cell_type": "code",
   "execution_count": 61,
   "metadata": {},
   "outputs": [
    {
     "name": "stdout",
     "output_type": "stream",
     "text": [
      "p-значение: 0.4737412931629539\n",
      "Не получилось отвергнуть нулевую гипотезу:нет оснований считать доли разными\n"
     ]
    }
   ],
   "source": [
    "z_test(fb, youtube)"
   ]
  },
  {
   "cell_type": "code",
   "execution_count": 62,
   "metadata": {},
   "outputs": [
    {
     "name": "stdout",
     "output_type": "stream",
     "text": [
      "p-значение: 0.20644137086490777\n",
      "Не получилось отвергнуть нулевую гипотезу:нет оснований считать доли разными\n"
     ]
    }
   ],
   "source": [
    "z_test(fb, insta)"
   ]
  },
  {
   "cell_type": "code",
   "execution_count": 63,
   "metadata": {},
   "outputs": [
    {
     "name": "stdout",
     "output_type": "stream",
     "text": [
      "p-значение: 0.5244230207169549\n",
      "Не получилось отвергнуть нулевую гипотезу:нет оснований считать доли разными\n"
     ]
    }
   ],
   "source": [
    "z_test(yandex, youtube)"
   ]
  },
  {
   "cell_type": "code",
   "execution_count": 64,
   "metadata": {},
   "outputs": [
    {
     "name": "stdout",
     "output_type": "stream",
     "text": [
      "p-значение: 0.20595754565724533\n",
      "Не получилось отвергнуть нулевую гипотезу:нет оснований считать доли разными\n"
     ]
    }
   ],
   "source": [
    "z_test(yandex, insta)"
   ]
  },
  {
   "cell_type": "code",
   "execution_count": 65,
   "metadata": {},
   "outputs": [
    {
     "name": "stdout",
     "output_type": "stream",
     "text": [
      "p-значение: 0.6123664865502236\n",
      "Не получилось отвергнуть нулевую гипотезу:нет оснований считать доли разными\n"
     ]
    }
   ],
   "source": [
    "z_test(youtube, insta)"
   ]
  },
  {
   "cell_type": "markdown",
   "metadata": {},
   "source": [
    "#### Результаты\n",
    "Значения p_value значительно превосходят уровень значимости. Различия по группам не имеют статистической значимости, ни в одном из тестов не получилось отвергнуть нулевую гипотезу."
   ]
  },
  {
   "cell_type": "markdown",
   "metadata": {},
   "source": [
    "## Результат исследования"
   ]
  },
  {
   "cell_type": "markdown",
   "metadata": {},
   "source": [
    "На этапе предобработки только в одной таблице (из 3 поступивших для анализа) была удалена 1 строка (дубликат), остальные данные сохранены. Все пропуски в таблицах связаны с механикой прохождения игры, были оставлены.\n",
    "\n",
    "Из исследовательского анализа мы выяснили:\n",
    "- Данные представлены с 4 мая по 5 июня\n",
    "- Закончили уровень и перешли на следующий 42.85% игроков, из них 68% игроков закончили уровень, одержав победу в сражении, 32% пользователей использовали стратегию выполнения проекта.\n",
    "- Всего игроков - 13576, из них - 35% пришли из яндекс-директ, 25% - из инстаграмм, по 20% из фэйсбука и ютуба.\n",
    "- Пользователи построили - 127956 зданий, самые популярные типы зданий космопорты и сборочные цеха.\n",
    "- Расходы на рекламу - 7603 у.е. Примерно поровну был распределен бюджет между Яндекс-директ(2233 у.е.), инстаграм(2161 у.е.) и фэйсбук (2140у.е.). В два раза меньше денег получил ютуб.\n",
    "\n",
    "Анализ поведения игроков показал, что пользователи пришедшие из разных источников очень похожи.\n",
    "\n",
    "Значимыми различиями стало лишь время завершения уровня:\n",
    "- среднее время прохождения уровня для всех игроков - 11 дней, пользователи, выбирающие стратегию исследователя (project) тратят на прохождение игры в среднем 13 дней, игроки-\"воители\" - 11 дней. При этом исследователи реализуют проект так же в среднем за 11 дней и могут перейти на следующий уровень сразу, но все же остаются в игре еще в среднем на 2 дня. Проверка гипотезы о равенстве времени прохождения уровня через разные  стратегии показала, что разница во времени прохождения уровня действительно есть и она не случайна.\n",
    "\n",
    "и количество построек с разбивкой по стратегиям:\n",
    "- Игроки, выбирающие стратегию project, строят в среднем больше зданий - их показатель 12 зданий (для war-strategy - среднее количество построек на игрока - 9). Для завершения игры в стратегии war некоторым игрокам хватает и 2 построек, тем кто реализует проект - минимально понадобилось 10 зданий.\n",
    "\n",
    "Разница между каналами привлечения ярко обозначилась при анализе модели монетизации и разница эта сформировалаль в целом из-за различной стоимости рекламы:\n",
    "- Фэйсбук не окупил рекламные расходы на 14%, хотя доля исследователей (project_strategy) в нем больше, чем в остальных каналах.\n",
    "- Cовсем незначительную окупаемость показал Инстаграм - 3%\n",
    "- Хороший сводный результат у Яндекса - 41% окупаемости, сформировавшийся в том числе и за счет бОльшего числа привлеченных игроков\n",
    "- Самая высокая окупаемость у Ютуба - 63%, но из него в игру привлечены меньше всего пользователей.\n",
    "\n",
    "**Наиболее выгодными каналами привлечения пользователей, при предлагаемой модели монетизации, можно считать Яндекс и Ютуб. Project_strategy - наиболее выгодная стратегия для модели монетизации. War_strategy - наиболее выгодна для конверсии в переход на следующий уровень.**"
   ]
  }
 ],
 "metadata": {
  "ExecuteTimeLog": [
   {
    "duration": 1392,
    "start_time": "2022-08-02T13:46:04.798Z"
   },
   {
    "duration": 126,
    "start_time": "2022-08-02T13:46:58.092Z"
   },
   {
    "duration": 510,
    "start_time": "2022-08-02T13:48:01.461Z"
   },
   {
    "duration": 215,
    "start_time": "2022-08-02T13:48:16.346Z"
   },
   {
    "duration": 22,
    "start_time": "2022-08-02T13:48:21.624Z"
   },
   {
    "duration": 36,
    "start_time": "2022-08-02T13:49:01.923Z"
   },
   {
    "duration": 36,
    "start_time": "2022-08-02T13:49:09.020Z"
   },
   {
    "duration": 211,
    "start_time": "2022-08-02T13:49:32.520Z"
   },
   {
    "duration": 13,
    "start_time": "2022-08-02T13:49:43.237Z"
   },
   {
    "duration": 56,
    "start_time": "2022-08-02T13:51:18.826Z"
   },
   {
    "duration": 25,
    "start_time": "2022-08-02T13:51:24.377Z"
   },
   {
    "duration": 9,
    "start_time": "2022-08-02T13:51:32.729Z"
   },
   {
    "duration": 76,
    "start_time": "2022-08-02T13:53:01.690Z"
   },
   {
    "duration": 7,
    "start_time": "2022-08-02T13:53:06.120Z"
   },
   {
    "duration": 8,
    "start_time": "2022-08-02T13:53:13.375Z"
   },
   {
    "duration": 242,
    "start_time": "2022-08-02T13:53:47.061Z"
   },
   {
    "duration": 3,
    "start_time": "2022-08-02T13:54:59.938Z"
   },
   {
    "duration": 242,
    "start_time": "2022-08-02T13:55:00.842Z"
   },
   {
    "duration": 4,
    "start_time": "2022-08-02T15:42:25.028Z"
   },
   {
    "duration": 124,
    "start_time": "2022-08-02T15:42:49.470Z"
   },
   {
    "duration": 3,
    "start_time": "2022-08-02T15:51:06.854Z"
   },
   {
    "duration": 260,
    "start_time": "2022-08-02T15:51:06.862Z"
   },
   {
    "duration": 4,
    "start_time": "2022-08-02T15:51:07.124Z"
   },
   {
    "duration": 145,
    "start_time": "2022-08-02T15:51:07.129Z"
   },
   {
    "duration": 4,
    "start_time": "2022-08-02T15:52:34.391Z"
   },
   {
    "duration": 117,
    "start_time": "2022-08-02T15:52:35.028Z"
   },
   {
    "duration": 4,
    "start_time": "2022-08-02T15:53:40.223Z"
   },
   {
    "duration": 124,
    "start_time": "2022-08-02T15:53:41.828Z"
   },
   {
    "duration": 3,
    "start_time": "2022-08-02T15:54:14.392Z"
   },
   {
    "duration": 132,
    "start_time": "2022-08-02T15:54:15.527Z"
   },
   {
    "duration": 23,
    "start_time": "2022-08-02T16:02:51.485Z"
   },
   {
    "duration": 8,
    "start_time": "2022-08-02T16:06:56.326Z"
   },
   {
    "duration": 9,
    "start_time": "2022-08-02T16:11:14.774Z"
   },
   {
    "duration": 81,
    "start_time": "2022-08-02T16:11:40.525Z"
   },
   {
    "duration": 21,
    "start_time": "2022-08-02T16:13:57.862Z"
   },
   {
    "duration": 11,
    "start_time": "2022-08-02T16:17:05.525Z"
   },
   {
    "duration": 31,
    "start_time": "2022-08-02T16:17:51.841Z"
   },
   {
    "duration": 21,
    "start_time": "2022-08-02T16:19:24.130Z"
   },
   {
    "duration": 19,
    "start_time": "2022-08-02T16:19:46.862Z"
   },
   {
    "duration": 31,
    "start_time": "2022-08-02T16:20:52.662Z"
   },
   {
    "duration": 26,
    "start_time": "2022-08-02T16:21:15.527Z"
   },
   {
    "duration": 27,
    "start_time": "2022-08-02T16:21:17.273Z"
   },
   {
    "duration": 4,
    "start_time": "2022-08-02T16:21:31.516Z"
   },
   {
    "duration": 252,
    "start_time": "2022-08-02T16:21:31.528Z"
   },
   {
    "duration": 4,
    "start_time": "2022-08-02T16:21:31.782Z"
   },
   {
    "duration": 122,
    "start_time": "2022-08-02T16:21:31.787Z"
   },
   {
    "duration": 19,
    "start_time": "2022-08-02T16:21:31.911Z"
   },
   {
    "duration": 10,
    "start_time": "2022-08-02T16:21:31.932Z"
   },
   {
    "duration": 87,
    "start_time": "2022-08-02T16:21:31.943Z"
   },
   {
    "duration": 33,
    "start_time": "2022-08-02T16:21:32.032Z"
   },
   {
    "duration": 32,
    "start_time": "2022-08-02T16:21:32.067Z"
   },
   {
    "duration": 30,
    "start_time": "2022-08-02T16:21:32.100Z"
   },
   {
    "duration": 1131,
    "start_time": "2022-08-02T16:47:40.296Z"
   },
   {
    "duration": 248,
    "start_time": "2022-08-02T16:47:41.429Z"
   },
   {
    "duration": 5,
    "start_time": "2022-08-02T16:47:41.678Z"
   },
   {
    "duration": 141,
    "start_time": "2022-08-02T16:47:41.685Z"
   },
   {
    "duration": 31,
    "start_time": "2022-08-02T16:47:41.827Z"
   },
   {
    "duration": 8,
    "start_time": "2022-08-02T16:47:41.860Z"
   },
   {
    "duration": 105,
    "start_time": "2022-08-02T16:47:41.869Z"
   },
   {
    "duration": 32,
    "start_time": "2022-08-02T16:47:41.975Z"
   },
   {
    "duration": 31,
    "start_time": "2022-08-02T16:47:42.008Z"
   },
   {
    "duration": 34,
    "start_time": "2022-08-02T16:47:42.042Z"
   },
   {
    "duration": 109,
    "start_time": "2022-08-02T16:51:09.227Z"
   },
   {
    "duration": 22,
    "start_time": "2022-08-02T16:51:49.255Z"
   },
   {
    "duration": 4,
    "start_time": "2022-08-02T16:53:56.047Z"
   },
   {
    "duration": 1331,
    "start_time": "2022-08-02T16:55:47.175Z"
   },
   {
    "duration": 5,
    "start_time": "2022-08-02T16:56:10.874Z"
   },
   {
    "duration": 12,
    "start_time": "2022-08-02T16:56:23.848Z"
   },
   {
    "duration": 4,
    "start_time": "2022-08-02T16:57:21.340Z"
   },
   {
    "duration": 10,
    "start_time": "2022-08-02T16:57:33.955Z"
   },
   {
    "duration": 24,
    "start_time": "2022-08-02T16:58:06.190Z"
   },
   {
    "duration": 53,
    "start_time": "2022-08-03T15:07:55.433Z"
   },
   {
    "duration": 1487,
    "start_time": "2022-08-03T15:08:02.198Z"
   },
   {
    "duration": 583,
    "start_time": "2022-08-03T15:08:03.687Z"
   },
   {
    "duration": 3,
    "start_time": "2022-08-03T15:08:04.272Z"
   },
   {
    "duration": 132,
    "start_time": "2022-08-03T15:08:04.277Z"
   },
   {
    "duration": 26,
    "start_time": "2022-08-03T15:08:04.411Z"
   },
   {
    "duration": 8,
    "start_time": "2022-08-03T15:08:04.438Z"
   },
   {
    "duration": 106,
    "start_time": "2022-08-03T15:08:04.447Z"
   },
   {
    "duration": 20,
    "start_time": "2022-08-03T15:08:04.555Z"
   },
   {
    "duration": 44,
    "start_time": "2022-08-03T15:08:04.577Z"
   },
   {
    "duration": 27,
    "start_time": "2022-08-03T15:08:04.624Z"
   },
   {
    "duration": 22,
    "start_time": "2022-08-03T15:08:04.653Z"
   },
   {
    "duration": 5,
    "start_time": "2022-08-03T15:08:04.677Z"
   },
   {
    "duration": 31,
    "start_time": "2022-08-03T15:08:04.683Z"
   },
   {
    "duration": 13,
    "start_time": "2022-08-03T15:08:04.716Z"
   },
   {
    "duration": 34,
    "start_time": "2022-08-03T15:08:04.731Z"
   },
   {
    "duration": 8,
    "start_time": "2022-08-03T15:08:40.854Z"
   },
   {
    "duration": 10,
    "start_time": "2022-08-03T15:08:51.549Z"
   },
   {
    "duration": 67,
    "start_time": "2022-08-03T15:12:17.034Z"
   },
   {
    "duration": 11,
    "start_time": "2022-08-03T15:12:38.444Z"
   },
   {
    "duration": 4,
    "start_time": "2022-08-03T15:14:55.042Z"
   },
   {
    "duration": 4,
    "start_time": "2022-08-03T15:15:12.988Z"
   },
   {
    "duration": 10,
    "start_time": "2022-08-03T15:15:46.447Z"
   },
   {
    "duration": 5,
    "start_time": "2022-08-03T15:17:35.056Z"
   },
   {
    "duration": 26,
    "start_time": "2022-08-03T15:18:58.497Z"
   },
   {
    "duration": 240,
    "start_time": "2022-08-03T15:20:07.099Z"
   },
   {
    "duration": 4,
    "start_time": "2022-08-03T15:24:36.768Z"
   },
   {
    "duration": 51,
    "start_time": "2022-08-03T15:24:48.246Z"
   },
   {
    "duration": 4,
    "start_time": "2022-08-03T15:25:05.546Z"
   },
   {
    "duration": 68,
    "start_time": "2022-08-03T15:25:08.046Z"
   },
   {
    "duration": 3,
    "start_time": "2022-08-03T15:26:37.943Z"
   },
   {
    "duration": 236,
    "start_time": "2022-08-03T15:26:37.947Z"
   },
   {
    "duration": 4,
    "start_time": "2022-08-03T15:26:38.185Z"
   },
   {
    "duration": 124,
    "start_time": "2022-08-03T15:26:38.191Z"
   },
   {
    "duration": 21,
    "start_time": "2022-08-03T15:26:38.318Z"
   },
   {
    "duration": 8,
    "start_time": "2022-08-03T15:26:38.342Z"
   },
   {
    "duration": 101,
    "start_time": "2022-08-03T15:26:38.352Z"
   },
   {
    "duration": 21,
    "start_time": "2022-08-03T15:26:38.454Z"
   },
   {
    "duration": 39,
    "start_time": "2022-08-03T15:26:38.476Z"
   },
   {
    "duration": 25,
    "start_time": "2022-08-03T15:26:38.517Z"
   },
   {
    "duration": 15,
    "start_time": "2022-08-03T15:26:38.544Z"
   },
   {
    "duration": 4,
    "start_time": "2022-08-03T15:26:38.560Z"
   },
   {
    "duration": 5,
    "start_time": "2022-08-03T15:26:38.565Z"
   },
   {
    "duration": 44,
    "start_time": "2022-08-03T15:26:38.572Z"
   },
   {
    "duration": 23,
    "start_time": "2022-08-03T15:26:38.618Z"
   },
   {
    "duration": 4,
    "start_time": "2022-08-03T15:26:38.642Z"
   },
   {
    "duration": 30,
    "start_time": "2022-08-03T15:26:38.648Z"
   },
   {
    "duration": 4,
    "start_time": "2022-08-03T15:26:38.679Z"
   },
   {
    "duration": 95,
    "start_time": "2022-08-03T15:26:38.685Z"
   },
   {
    "duration": 6,
    "start_time": "2022-08-03T15:29:06.742Z"
   },
   {
    "duration": 73,
    "start_time": "2022-08-03T15:29:07.530Z"
   },
   {
    "duration": 3,
    "start_time": "2022-08-03T15:33:46.972Z"
   },
   {
    "duration": 67,
    "start_time": "2022-08-03T15:33:47.630Z"
   },
   {
    "duration": 12,
    "start_time": "2022-08-03T15:33:59.735Z"
   },
   {
    "duration": 3783,
    "start_time": "2022-08-03T15:34:08.002Z"
   },
   {
    "duration": 4,
    "start_time": "2022-08-03T15:37:20.981Z"
   },
   {
    "duration": 3,
    "start_time": "2022-08-03T15:37:24.463Z"
   },
   {
    "duration": 241,
    "start_time": "2022-08-03T15:37:24.468Z"
   },
   {
    "duration": 4,
    "start_time": "2022-08-03T15:37:24.711Z"
   },
   {
    "duration": 130,
    "start_time": "2022-08-03T15:37:24.717Z"
   },
   {
    "duration": 31,
    "start_time": "2022-08-03T15:37:24.849Z"
   },
   {
    "duration": 11,
    "start_time": "2022-08-03T15:37:24.882Z"
   },
   {
    "duration": 83,
    "start_time": "2022-08-03T15:37:24.912Z"
   },
   {
    "duration": 29,
    "start_time": "2022-08-03T15:37:24.998Z"
   },
   {
    "duration": 31,
    "start_time": "2022-08-03T15:37:25.030Z"
   },
   {
    "duration": 52,
    "start_time": "2022-08-03T15:37:25.063Z"
   },
   {
    "duration": 20,
    "start_time": "2022-08-03T15:37:25.117Z"
   },
   {
    "duration": 5,
    "start_time": "2022-08-03T15:37:25.139Z"
   },
   {
    "duration": 6,
    "start_time": "2022-08-03T15:37:25.146Z"
   },
   {
    "duration": 12,
    "start_time": "2022-08-03T15:37:25.154Z"
   },
   {
    "duration": 69,
    "start_time": "2022-08-03T15:37:25.167Z"
   },
   {
    "duration": 5,
    "start_time": "2022-08-03T15:37:25.238Z"
   },
   {
    "duration": 28,
    "start_time": "2022-08-03T15:37:25.245Z"
   },
   {
    "duration": 4,
    "start_time": "2022-08-03T15:37:25.275Z"
   },
   {
    "duration": 94,
    "start_time": "2022-08-03T15:37:25.281Z"
   },
   {
    "duration": 3307,
    "start_time": "2022-08-03T15:37:25.377Z"
   },
   {
    "duration": 941,
    "start_time": "2022-08-03T15:42:31.197Z"
   },
   {
    "duration": 978,
    "start_time": "2022-08-03T15:44:07.286Z"
   },
   {
    "duration": 907,
    "start_time": "2022-08-03T15:45:25.164Z"
   },
   {
    "duration": 847,
    "start_time": "2022-08-03T15:45:35.870Z"
   },
   {
    "duration": 948,
    "start_time": "2022-08-03T15:45:43.552Z"
   },
   {
    "duration": 261,
    "start_time": "2022-08-03T15:46:52.027Z"
   },
   {
    "duration": 943,
    "start_time": "2022-08-03T15:47:16.790Z"
   },
   {
    "duration": 917,
    "start_time": "2022-08-03T15:49:22.864Z"
   },
   {
    "duration": 928,
    "start_time": "2022-08-03T15:50:40.341Z"
   },
   {
    "duration": 813,
    "start_time": "2022-08-03T15:51:31.089Z"
   },
   {
    "duration": 941,
    "start_time": "2022-08-03T15:52:48.294Z"
   },
   {
    "duration": 955,
    "start_time": "2022-08-03T15:52:54.791Z"
   },
   {
    "duration": 347,
    "start_time": "2022-08-03T15:53:13.389Z"
   },
   {
    "duration": 9,
    "start_time": "2022-08-03T15:56:15.934Z"
   },
   {
    "duration": 3447,
    "start_time": "2022-08-03T15:56:42.290Z"
   },
   {
    "duration": 155,
    "start_time": "2022-08-03T16:10:04.928Z"
   },
   {
    "duration": 149,
    "start_time": "2022-08-03T16:10:16.131Z"
   },
   {
    "duration": 433,
    "start_time": "2022-08-03T16:11:02.829Z"
   },
   {
    "duration": 350,
    "start_time": "2022-08-03T16:11:12.703Z"
   },
   {
    "duration": 434,
    "start_time": "2022-08-03T16:11:19.739Z"
   },
   {
    "duration": 187,
    "start_time": "2022-08-03T16:11:50.200Z"
   },
   {
    "duration": 337,
    "start_time": "2022-08-03T16:12:09.240Z"
   },
   {
    "duration": 174,
    "start_time": "2022-08-03T16:12:18.519Z"
   },
   {
    "duration": 255,
    "start_time": "2022-08-03T16:12:24.139Z"
   },
   {
    "duration": 115,
    "start_time": "2022-08-03T16:16:25.877Z"
   },
   {
    "duration": 130,
    "start_time": "2022-08-03T16:16:34.218Z"
   },
   {
    "duration": 175,
    "start_time": "2022-08-03T16:16:52.497Z"
   },
   {
    "duration": 173,
    "start_time": "2022-08-03T16:18:09.914Z"
   },
   {
    "duration": 173,
    "start_time": "2022-08-03T16:18:28.181Z"
   },
   {
    "duration": 116,
    "start_time": "2022-08-03T16:20:01.638Z"
   },
   {
    "duration": 317,
    "start_time": "2022-08-03T16:20:10.088Z"
   },
   {
    "duration": 108,
    "start_time": "2022-08-03T16:25:12.034Z"
   },
   {
    "duration": 17,
    "start_time": "2022-08-03T16:32:09.089Z"
   },
   {
    "duration": 11,
    "start_time": "2022-08-03T16:33:28.934Z"
   },
   {
    "duration": 219,
    "start_time": "2022-08-03T16:33:46.921Z"
   },
   {
    "duration": 20,
    "start_time": "2022-08-03T16:34:05.671Z"
   },
   {
    "duration": 150,
    "start_time": "2022-08-03T16:35:29.065Z"
   },
   {
    "duration": 11,
    "start_time": "2022-08-03T16:37:21.783Z"
   },
   {
    "duration": 11,
    "start_time": "2022-08-03T16:46:41.088Z"
   },
   {
    "duration": 195,
    "start_time": "2022-08-03T16:48:12.430Z"
   },
   {
    "duration": 157,
    "start_time": "2022-08-03T16:48:30.415Z"
   },
   {
    "duration": 165,
    "start_time": "2022-08-03T16:49:01.346Z"
   },
   {
    "duration": 411,
    "start_time": "2022-08-03T16:49:14.537Z"
   },
   {
    "duration": 336,
    "start_time": "2022-08-03T16:49:33.707Z"
   },
   {
    "duration": 161,
    "start_time": "2022-08-03T16:49:44.001Z"
   },
   {
    "duration": 19,
    "start_time": "2022-08-03T16:50:00.732Z"
   },
   {
    "duration": 108,
    "start_time": "2022-08-03T16:50:01.436Z"
   },
   {
    "duration": 106,
    "start_time": "2022-08-03T16:51:55.911Z"
   },
   {
    "duration": 183,
    "start_time": "2022-08-03T16:52:36.943Z"
   },
   {
    "duration": 18,
    "start_time": "2022-08-03T16:57:17.432Z"
   },
   {
    "duration": 109,
    "start_time": "2022-08-03T16:58:01.372Z"
   },
   {
    "duration": 1147,
    "start_time": "2022-08-03T17:27:56.330Z"
   },
   {
    "duration": 238,
    "start_time": "2022-08-03T17:27:57.479Z"
   },
   {
    "duration": 5,
    "start_time": "2022-08-03T17:27:57.718Z"
   },
   {
    "duration": 154,
    "start_time": "2022-08-03T17:27:57.724Z"
   },
   {
    "duration": 31,
    "start_time": "2022-08-03T17:27:57.880Z"
   },
   {
    "duration": 9,
    "start_time": "2022-08-03T17:27:57.913Z"
   },
   {
    "duration": 111,
    "start_time": "2022-08-03T17:27:57.924Z"
   },
   {
    "duration": 22,
    "start_time": "2022-08-03T17:27:58.037Z"
   },
   {
    "duration": 50,
    "start_time": "2022-08-03T17:27:58.061Z"
   },
   {
    "duration": 25,
    "start_time": "2022-08-03T17:27:58.114Z"
   },
   {
    "duration": 19,
    "start_time": "2022-08-03T17:27:58.141Z"
   },
   {
    "duration": 4,
    "start_time": "2022-08-03T17:27:58.162Z"
   },
   {
    "duration": 5,
    "start_time": "2022-08-03T17:27:58.168Z"
   },
   {
    "duration": 10,
    "start_time": "2022-08-03T17:27:58.211Z"
   },
   {
    "duration": 24,
    "start_time": "2022-08-03T17:27:58.223Z"
   },
   {
    "duration": 4,
    "start_time": "2022-08-03T17:27:58.248Z"
   },
   {
    "duration": 57,
    "start_time": "2022-08-03T17:27:58.253Z"
   },
   {
    "duration": 4,
    "start_time": "2022-08-03T17:27:58.312Z"
   },
   {
    "duration": 79,
    "start_time": "2022-08-03T17:27:58.317Z"
   },
   {
    "duration": 439,
    "start_time": "2022-08-03T17:27:58.397Z"
   },
   {
    "duration": 18,
    "start_time": "2022-08-03T17:27:58.838Z"
   },
   {
    "duration": 124,
    "start_time": "2022-08-03T17:27:58.857Z"
   },
   {
    "duration": 3,
    "start_time": "2022-08-03T17:28:27.862Z"
   },
   {
    "duration": 228,
    "start_time": "2022-08-03T17:28:27.874Z"
   },
   {
    "duration": 3,
    "start_time": "2022-08-03T17:28:28.104Z"
   },
   {
    "duration": 111,
    "start_time": "2022-08-03T17:28:28.109Z"
   },
   {
    "duration": 20,
    "start_time": "2022-08-03T17:28:28.222Z"
   },
   {
    "duration": 7,
    "start_time": "2022-08-03T17:28:28.244Z"
   },
   {
    "duration": 93,
    "start_time": "2022-08-03T17:28:28.252Z"
   },
   {
    "duration": 20,
    "start_time": "2022-08-03T17:28:28.347Z"
   },
   {
    "duration": 45,
    "start_time": "2022-08-03T17:28:28.369Z"
   },
   {
    "duration": 26,
    "start_time": "2022-08-03T17:28:28.415Z"
   },
   {
    "duration": 17,
    "start_time": "2022-08-03T17:28:28.442Z"
   },
   {
    "duration": 3,
    "start_time": "2022-08-03T17:28:28.461Z"
   },
   {
    "duration": 6,
    "start_time": "2022-08-03T17:28:28.465Z"
   },
   {
    "duration": 40,
    "start_time": "2022-08-03T17:28:28.472Z"
   },
   {
    "duration": 24,
    "start_time": "2022-08-03T17:28:28.515Z"
   },
   {
    "duration": 4,
    "start_time": "2022-08-03T17:28:28.540Z"
   },
   {
    "duration": 27,
    "start_time": "2022-08-03T17:28:28.545Z"
   },
   {
    "duration": 4,
    "start_time": "2022-08-03T17:28:28.573Z"
   },
   {
    "duration": 98,
    "start_time": "2022-08-03T17:28:28.578Z"
   },
   {
    "duration": 399,
    "start_time": "2022-08-03T17:28:28.677Z"
   },
   {
    "duration": 29,
    "start_time": "2022-08-03T17:28:29.078Z"
   },
   {
    "duration": 106,
    "start_time": "2022-08-03T17:28:29.109Z"
   },
   {
    "duration": 171,
    "start_time": "2022-08-03T17:33:52.166Z"
   },
   {
    "duration": 70,
    "start_time": "2022-08-03T17:34:09.070Z"
   },
   {
    "duration": 125,
    "start_time": "2022-08-03T17:37:36.885Z"
   },
   {
    "duration": 103,
    "start_time": "2022-08-03T17:39:04.593Z"
   },
   {
    "duration": 87,
    "start_time": "2022-08-03T17:39:52.898Z"
   },
   {
    "duration": 76,
    "start_time": "2022-08-03T17:42:11.519Z"
   },
   {
    "duration": 62,
    "start_time": "2022-08-03T17:42:58.193Z"
   },
   {
    "duration": 57,
    "start_time": "2022-08-03T17:43:24.379Z"
   },
   {
    "duration": 65,
    "start_time": "2022-08-03T17:43:40.051Z"
   },
   {
    "duration": 60,
    "start_time": "2022-08-03T17:44:15.949Z"
   },
   {
    "duration": 68,
    "start_time": "2022-08-03T17:45:02.394Z"
   },
   {
    "duration": 79,
    "start_time": "2022-08-03T17:46:04.932Z"
   },
   {
    "duration": 54,
    "start_time": "2022-08-03T17:47:32.990Z"
   },
   {
    "duration": 84,
    "start_time": "2022-08-03T17:48:29.201Z"
   },
   {
    "duration": 49,
    "start_time": "2022-08-03T17:48:52.632Z"
   },
   {
    "duration": 73,
    "start_time": "2022-08-03T17:49:12.380Z"
   },
   {
    "duration": 60,
    "start_time": "2022-08-03T17:50:50.935Z"
   },
   {
    "duration": 70,
    "start_time": "2022-08-03T17:51:34.589Z"
   },
   {
    "duration": 52,
    "start_time": "2022-08-03T17:51:50.656Z"
   },
   {
    "duration": 66,
    "start_time": "2022-08-03T17:52:08.898Z"
   },
   {
    "duration": 68,
    "start_time": "2022-08-03T17:52:26.104Z"
   },
   {
    "duration": 72,
    "start_time": "2022-08-03T17:53:09.165Z"
   },
   {
    "duration": 78,
    "start_time": "2022-08-03T17:54:02.130Z"
   },
   {
    "duration": 73,
    "start_time": "2022-08-03T17:55:47.653Z"
   },
   {
    "duration": 73,
    "start_time": "2022-08-03T17:58:46.380Z"
   },
   {
    "duration": 74,
    "start_time": "2022-08-03T17:59:32.894Z"
   },
   {
    "duration": 77,
    "start_time": "2022-08-03T17:59:39.152Z"
   },
   {
    "duration": 85,
    "start_time": "2022-08-03T18:00:35.682Z"
   },
   {
    "duration": 78,
    "start_time": "2022-08-03T18:01:05.748Z"
   },
   {
    "duration": 75,
    "start_time": "2022-08-03T18:01:41.555Z"
   },
   {
    "duration": 78,
    "start_time": "2022-08-03T18:02:50.826Z"
   },
   {
    "duration": 78,
    "start_time": "2022-08-03T18:03:28.688Z"
   },
   {
    "duration": 53,
    "start_time": "2022-08-03T18:03:48.044Z"
   },
   {
    "duration": 50,
    "start_time": "2022-08-03T18:03:58.265Z"
   },
   {
    "duration": 73,
    "start_time": "2022-08-03T18:04:26.584Z"
   },
   {
    "duration": 79,
    "start_time": "2022-08-03T18:07:37.575Z"
   },
   {
    "duration": 76,
    "start_time": "2022-08-03T18:08:36.425Z"
   },
   {
    "duration": 337,
    "start_time": "2022-08-03T18:09:06.074Z"
   },
   {
    "duration": 79,
    "start_time": "2022-08-03T18:11:59.849Z"
   },
   {
    "duration": 79,
    "start_time": "2022-08-03T18:12:39.624Z"
   },
   {
    "duration": 75,
    "start_time": "2022-08-03T18:12:50.124Z"
   },
   {
    "duration": 77,
    "start_time": "2022-08-03T18:13:05.747Z"
   },
   {
    "duration": 4,
    "start_time": "2022-08-03T18:16:04.474Z"
   },
   {
    "duration": 4,
    "start_time": "2022-08-03T18:18:55.732Z"
   },
   {
    "duration": 6,
    "start_time": "2022-08-03T18:20:05.551Z"
   },
   {
    "duration": 7,
    "start_time": "2022-08-03T18:21:41.331Z"
   },
   {
    "duration": 117,
    "start_time": "2022-08-03T18:27:47.125Z"
   },
   {
    "duration": 187,
    "start_time": "2022-08-03T18:27:56.289Z"
   },
   {
    "duration": 228,
    "start_time": "2022-08-03T18:28:14.562Z"
   },
   {
    "duration": 9,
    "start_time": "2022-08-03T18:32:28.170Z"
   },
   {
    "duration": 379,
    "start_time": "2022-08-04T14:30:04.090Z"
   },
   {
    "duration": 387,
    "start_time": "2022-08-04T14:30:14.179Z"
   },
   {
    "duration": 177,
    "start_time": "2022-08-04T14:32:26.750Z"
   },
   {
    "duration": 80,
    "start_time": "2022-08-04T14:32:39.410Z"
   },
   {
    "duration": 79,
    "start_time": "2022-08-04T14:33:32.393Z"
   },
   {
    "duration": 87,
    "start_time": "2022-08-04T14:34:51.672Z"
   },
   {
    "duration": 80,
    "start_time": "2022-08-04T14:35:13.336Z"
   },
   {
    "duration": 394,
    "start_time": "2022-08-04T14:35:37.417Z"
   },
   {
    "duration": 240,
    "start_time": "2022-08-04T14:36:13.369Z"
   },
   {
    "duration": 98,
    "start_time": "2022-08-04T15:20:01.087Z"
   },
   {
    "duration": 101,
    "start_time": "2022-08-04T15:20:16.968Z"
   },
   {
    "duration": 393,
    "start_time": "2022-08-04T15:21:46.746Z"
   },
   {
    "duration": 179,
    "start_time": "2022-08-04T15:29:30.694Z"
   },
   {
    "duration": 1151,
    "start_time": "2022-08-04T15:40:04.024Z"
   },
   {
    "duration": 631,
    "start_time": "2022-08-04T15:40:05.177Z"
   },
   {
    "duration": 4,
    "start_time": "2022-08-04T15:40:05.809Z"
   },
   {
    "duration": 173,
    "start_time": "2022-08-04T15:40:05.815Z"
   },
   {
    "duration": 39,
    "start_time": "2022-08-04T15:40:05.990Z"
   },
   {
    "duration": 9,
    "start_time": "2022-08-04T15:40:06.031Z"
   },
   {
    "duration": 107,
    "start_time": "2022-08-04T15:40:06.042Z"
   },
   {
    "duration": 21,
    "start_time": "2022-08-04T15:40:06.150Z"
   },
   {
    "duration": 47,
    "start_time": "2022-08-04T15:40:06.173Z"
   },
   {
    "duration": 29,
    "start_time": "2022-08-04T15:40:06.223Z"
   },
   {
    "duration": 17,
    "start_time": "2022-08-04T15:40:06.254Z"
   },
   {
    "duration": 4,
    "start_time": "2022-08-04T15:40:06.273Z"
   },
   {
    "duration": 5,
    "start_time": "2022-08-04T15:40:06.309Z"
   },
   {
    "duration": 11,
    "start_time": "2022-08-04T15:40:06.315Z"
   },
   {
    "duration": 22,
    "start_time": "2022-08-04T15:40:06.328Z"
   },
   {
    "duration": 4,
    "start_time": "2022-08-04T15:40:06.351Z"
   },
   {
    "duration": 112,
    "start_time": "2022-08-04T15:40:06.356Z"
   },
   {
    "duration": 2,
    "start_time": "2022-08-04T15:40:06.470Z"
   },
   {
    "duration": 452,
    "start_time": "2022-08-04T15:40:06.473Z"
   },
   {
    "duration": 4,
    "start_time": "2022-08-04T15:40:06.926Z"
   },
   {
    "duration": 13,
    "start_time": "2022-08-04T15:40:06.932Z"
   },
   {
    "duration": 275,
    "start_time": "2022-08-04T15:40:06.946Z"
   },
   {
    "duration": 1268,
    "start_time": "2022-08-04T15:40:07.222Z"
   },
   {
    "duration": 3,
    "start_time": "2022-08-04T15:40:08.492Z"
   },
   {
    "duration": 30,
    "start_time": "2022-08-04T15:40:08.497Z"
   },
   {
    "duration": 28,
    "start_time": "2022-08-04T15:40:08.528Z"
   },
   {
    "duration": 15,
    "start_time": "2022-08-04T15:40:08.558Z"
   },
   {
    "duration": 44,
    "start_time": "2022-08-04T15:40:08.576Z"
   },
   {
    "duration": 214,
    "start_time": "2022-08-04T15:42:25.184Z"
   },
   {
    "duration": 197,
    "start_time": "2022-08-04T15:42:53.613Z"
   },
   {
    "duration": 9,
    "start_time": "2022-08-04T15:45:35.025Z"
   },
   {
    "duration": 24,
    "start_time": "2022-08-04T15:45:43.665Z"
   },
   {
    "duration": 14,
    "start_time": "2022-08-04T15:46:21.476Z"
   },
   {
    "duration": 13,
    "start_time": "2022-08-04T15:55:38.757Z"
   },
   {
    "duration": 98,
    "start_time": "2022-08-04T15:55:54.789Z"
   },
   {
    "duration": 125,
    "start_time": "2022-08-04T15:56:14.699Z"
   },
   {
    "duration": 53,
    "start_time": "2022-08-04T15:56:28.051Z"
   },
   {
    "duration": 60,
    "start_time": "2022-08-04T15:58:59.783Z"
   },
   {
    "duration": 14,
    "start_time": "2022-08-04T16:00:49.015Z"
   },
   {
    "duration": 102,
    "start_time": "2022-08-04T16:00:54.782Z"
   },
   {
    "duration": 17,
    "start_time": "2022-08-04T16:01:16.813Z"
   },
   {
    "duration": 100,
    "start_time": "2022-08-04T16:01:32.184Z"
   },
   {
    "duration": 16,
    "start_time": "2022-08-04T16:01:48.684Z"
   },
   {
    "duration": 17,
    "start_time": "2022-08-04T16:02:13.452Z"
   },
   {
    "duration": 79,
    "start_time": "2022-08-04T16:03:38.017Z"
   },
   {
    "duration": 86,
    "start_time": "2022-08-04T16:04:28.266Z"
   },
   {
    "duration": 94,
    "start_time": "2022-08-04T16:05:11.716Z"
   },
   {
    "duration": 88,
    "start_time": "2022-08-04T16:05:34.357Z"
   },
   {
    "duration": 119,
    "start_time": "2022-08-04T16:05:57.398Z"
   },
   {
    "duration": 102,
    "start_time": "2022-08-04T16:09:11.717Z"
   },
   {
    "duration": 105,
    "start_time": "2022-08-04T16:10:30.978Z"
   },
   {
    "duration": 101,
    "start_time": "2022-08-04T16:11:28.925Z"
   },
   {
    "duration": 110,
    "start_time": "2022-08-04T16:13:08.531Z"
   },
   {
    "duration": 96,
    "start_time": "2022-08-04T16:13:22.190Z"
   },
   {
    "duration": 97,
    "start_time": "2022-08-04T16:17:38.092Z"
   },
   {
    "duration": 110,
    "start_time": "2022-08-04T16:21:39.533Z"
   },
   {
    "duration": 4,
    "start_time": "2022-08-04T16:22:40.054Z"
   },
   {
    "duration": 5,
    "start_time": "2022-08-04T16:23:02.726Z"
   },
   {
    "duration": 203,
    "start_time": "2022-08-04T16:24:16.473Z"
   },
   {
    "duration": 118,
    "start_time": "2022-08-04T16:24:25.090Z"
   },
   {
    "duration": 249,
    "start_time": "2022-08-04T16:33:27.670Z"
   },
   {
    "duration": 244,
    "start_time": "2022-08-04T16:35:47.451Z"
   },
   {
    "duration": 278,
    "start_time": "2022-08-04T16:37:10.157Z"
   },
   {
    "duration": 254,
    "start_time": "2022-08-04T16:37:58.820Z"
   },
   {
    "duration": 6,
    "start_time": "2022-08-04T16:54:21.952Z"
   },
   {
    "duration": 107,
    "start_time": "2022-08-04T16:57:03.453Z"
   },
   {
    "duration": 118,
    "start_time": "2022-08-04T17:01:15.664Z"
   },
   {
    "duration": 113,
    "start_time": "2022-08-04T17:01:55.363Z"
   },
   {
    "duration": 119,
    "start_time": "2022-08-04T17:02:09.648Z"
   },
   {
    "duration": 1268,
    "start_time": "2022-08-04T17:30:59.668Z"
   },
   {
    "duration": 279,
    "start_time": "2022-08-04T17:31:00.938Z"
   },
   {
    "duration": 7,
    "start_time": "2022-08-04T17:31:01.222Z"
   },
   {
    "duration": 207,
    "start_time": "2022-08-04T17:31:01.231Z"
   },
   {
    "duration": 35,
    "start_time": "2022-08-04T17:31:01.440Z"
   },
   {
    "duration": 39,
    "start_time": "2022-08-04T17:31:01.477Z"
   },
   {
    "duration": 112,
    "start_time": "2022-08-04T17:31:01.517Z"
   },
   {
    "duration": 34,
    "start_time": "2022-08-04T17:31:01.632Z"
   },
   {
    "duration": 64,
    "start_time": "2022-08-04T17:31:01.669Z"
   },
   {
    "duration": 49,
    "start_time": "2022-08-04T17:31:01.736Z"
   },
   {
    "duration": 34,
    "start_time": "2022-08-04T17:31:01.786Z"
   },
   {
    "duration": 23,
    "start_time": "2022-08-04T17:31:01.821Z"
   },
   {
    "duration": 23,
    "start_time": "2022-08-04T17:31:01.846Z"
   },
   {
    "duration": 34,
    "start_time": "2022-08-04T17:31:01.870Z"
   },
   {
    "duration": 64,
    "start_time": "2022-08-04T17:31:01.905Z"
   },
   {
    "duration": 12,
    "start_time": "2022-08-04T17:31:01.971Z"
   },
   {
    "duration": 104,
    "start_time": "2022-08-04T17:31:01.985Z"
   },
   {
    "duration": 160,
    "start_time": "2022-08-04T17:31:02.091Z"
   },
   {
    "duration": 491,
    "start_time": "2022-08-04T17:31:02.253Z"
   },
   {
    "duration": 6,
    "start_time": "2022-08-04T17:31:02.746Z"
   },
   {
    "duration": 13,
    "start_time": "2022-08-04T17:31:02.754Z"
   },
   {
    "duration": 363,
    "start_time": "2022-08-04T17:31:02.770Z"
   },
   {
    "duration": 7,
    "start_time": "2022-08-04T17:31:03.135Z"
   },
   {
    "duration": 138,
    "start_time": "2022-08-04T17:31:03.144Z"
   },
   {
    "duration": 1282,
    "start_time": "2022-08-04T17:31:03.284Z"
   },
   {
    "duration": 24,
    "start_time": "2022-08-04T17:31:04.568Z"
   },
   {
    "duration": 45,
    "start_time": "2022-08-04T17:31:04.612Z"
   },
   {
    "duration": 92,
    "start_time": "2022-08-04T17:31:04.660Z"
   },
   {
    "duration": 37,
    "start_time": "2022-08-04T17:31:04.753Z"
   },
   {
    "duration": 7,
    "start_time": "2022-08-04T17:41:04.540Z"
   },
   {
    "duration": 175,
    "start_time": "2022-08-04T17:41:39.136Z"
   },
   {
    "duration": 22,
    "start_time": "2022-08-04T17:41:43.926Z"
   },
   {
    "duration": 22,
    "start_time": "2022-08-04T17:41:58.420Z"
   },
   {
    "duration": 23,
    "start_time": "2022-08-04T17:42:17.331Z"
   },
   {
    "duration": 17,
    "start_time": "2022-08-04T17:42:30.336Z"
   },
   {
    "duration": 20,
    "start_time": "2022-08-04T17:45:47.444Z"
   },
   {
    "duration": 968,
    "start_time": "2022-08-04T17:47:48.235Z"
   },
   {
    "duration": 2,
    "start_time": "2022-08-04T17:48:35.444Z"
   },
   {
    "duration": 12,
    "start_time": "2022-08-04T17:48:54.846Z"
   },
   {
    "duration": 10,
    "start_time": "2022-08-04T17:49:16.750Z"
   },
   {
    "duration": 1259,
    "start_time": "2022-08-04T17:49:44.323Z"
   },
   {
    "duration": 272,
    "start_time": "2022-08-04T17:49:45.584Z"
   },
   {
    "duration": 4,
    "start_time": "2022-08-04T17:49:45.858Z"
   },
   {
    "duration": 205,
    "start_time": "2022-08-04T17:49:45.864Z"
   },
   {
    "duration": 28,
    "start_time": "2022-08-04T17:49:46.072Z"
   },
   {
    "duration": 12,
    "start_time": "2022-08-04T17:49:46.110Z"
   },
   {
    "duration": 117,
    "start_time": "2022-08-04T17:49:46.131Z"
   },
   {
    "duration": 21,
    "start_time": "2022-08-04T17:49:46.251Z"
   },
   {
    "duration": 52,
    "start_time": "2022-08-04T17:49:46.274Z"
   },
   {
    "duration": 43,
    "start_time": "2022-08-04T17:49:46.330Z"
   },
   {
    "duration": 21,
    "start_time": "2022-08-04T17:49:46.375Z"
   },
   {
    "duration": 15,
    "start_time": "2022-08-04T17:49:46.411Z"
   },
   {
    "duration": 9,
    "start_time": "2022-08-04T17:49:46.431Z"
   },
   {
    "duration": 15,
    "start_time": "2022-08-04T17:49:46.443Z"
   },
   {
    "duration": 61,
    "start_time": "2022-08-04T17:49:46.460Z"
   },
   {
    "duration": 6,
    "start_time": "2022-08-04T17:49:46.522Z"
   },
   {
    "duration": 140,
    "start_time": "2022-08-04T17:49:46.530Z"
   },
   {
    "duration": 164,
    "start_time": "2022-08-04T17:49:46.672Z"
   },
   {
    "duration": 593,
    "start_time": "2022-08-04T17:49:46.839Z"
   },
   {
    "duration": 6,
    "start_time": "2022-08-04T17:49:47.434Z"
   },
   {
    "duration": 26,
    "start_time": "2022-08-04T17:49:47.442Z"
   },
   {
    "duration": 408,
    "start_time": "2022-08-04T17:49:47.470Z"
   },
   {
    "duration": 7,
    "start_time": "2022-08-04T17:49:47.880Z"
   },
   {
    "duration": 140,
    "start_time": "2022-08-04T17:49:47.889Z"
   },
   {
    "duration": 1263,
    "start_time": "2022-08-04T17:49:48.031Z"
   },
   {
    "duration": 35,
    "start_time": "2022-08-04T17:49:49.296Z"
   },
   {
    "duration": 27,
    "start_time": "2022-08-04T17:49:49.332Z"
   },
   {
    "duration": 96,
    "start_time": "2022-08-04T17:49:49.361Z"
   },
   {
    "duration": 52,
    "start_time": "2022-08-04T17:49:49.460Z"
   },
   {
    "duration": 1290,
    "start_time": "2022-08-04T17:58:25.129Z"
   },
   {
    "duration": 277,
    "start_time": "2022-08-04T17:58:26.421Z"
   },
   {
    "duration": 6,
    "start_time": "2022-08-04T17:58:26.700Z"
   },
   {
    "duration": 203,
    "start_time": "2022-08-04T17:58:26.707Z"
   },
   {
    "duration": 31,
    "start_time": "2022-08-04T17:58:26.918Z"
   },
   {
    "duration": 13,
    "start_time": "2022-08-04T17:58:26.951Z"
   },
   {
    "duration": 125,
    "start_time": "2022-08-04T17:58:26.966Z"
   },
   {
    "duration": 39,
    "start_time": "2022-08-04T17:58:27.093Z"
   },
   {
    "duration": 54,
    "start_time": "2022-08-04T17:58:27.136Z"
   },
   {
    "duration": 99,
    "start_time": "2022-08-04T17:58:27.192Z"
   },
   {
    "duration": 69,
    "start_time": "2022-08-04T17:58:27.294Z"
   },
   {
    "duration": 20,
    "start_time": "2022-08-04T17:58:27.365Z"
   },
   {
    "duration": 62,
    "start_time": "2022-08-04T17:58:27.387Z"
   },
   {
    "duration": 41,
    "start_time": "2022-08-04T17:58:27.453Z"
   },
   {
    "duration": 86,
    "start_time": "2022-08-04T17:58:27.495Z"
   },
   {
    "duration": 25,
    "start_time": "2022-08-04T17:58:27.583Z"
   },
   {
    "duration": 210,
    "start_time": "2022-08-04T17:58:27.610Z"
   },
   {
    "duration": 193,
    "start_time": "2022-08-04T17:58:27.822Z"
   },
   {
    "duration": 541,
    "start_time": "2022-08-04T17:58:28.018Z"
   },
   {
    "duration": 5,
    "start_time": "2022-08-04T17:58:28.562Z"
   },
   {
    "duration": 22,
    "start_time": "2022-08-04T17:58:28.569Z"
   },
   {
    "duration": 394,
    "start_time": "2022-08-04T17:58:28.593Z"
   },
   {
    "duration": 24,
    "start_time": "2022-08-04T17:58:28.989Z"
   },
   {
    "duration": 123,
    "start_time": "2022-08-04T17:58:29.020Z"
   },
   {
    "duration": 1472,
    "start_time": "2022-08-04T17:58:29.146Z"
   },
   {
    "duration": 24,
    "start_time": "2022-08-04T17:58:30.621Z"
   },
   {
    "duration": 51,
    "start_time": "2022-08-04T17:58:30.647Z"
   },
   {
    "duration": 112,
    "start_time": "2022-08-04T17:58:30.700Z"
   },
   {
    "duration": 33,
    "start_time": "2022-08-04T17:58:30.818Z"
   },
   {
    "duration": 15,
    "start_time": "2022-08-04T18:02:24.430Z"
   },
   {
    "duration": 25,
    "start_time": "2022-08-04T18:05:30.169Z"
   },
   {
    "duration": 72,
    "start_time": "2022-08-04T18:24:38.795Z"
   },
   {
    "duration": 77,
    "start_time": "2022-08-04T18:25:35.107Z"
   },
   {
    "duration": 68,
    "start_time": "2022-08-04T18:26:19.263Z"
   },
   {
    "duration": 105,
    "start_time": "2022-08-04T18:29:13.038Z"
   },
   {
    "duration": 97,
    "start_time": "2022-08-04T18:29:38.144Z"
   },
   {
    "duration": 5,
    "start_time": "2022-08-04T18:31:27.042Z"
   },
   {
    "duration": 25,
    "start_time": "2022-08-04T18:31:39.899Z"
   },
   {
    "duration": 24,
    "start_time": "2022-08-04T18:33:42.499Z"
   },
   {
    "duration": 103,
    "start_time": "2022-08-04T18:34:40.799Z"
   },
   {
    "duration": 28,
    "start_time": "2022-08-04T18:34:59.497Z"
   },
   {
    "duration": 10,
    "start_time": "2022-08-04T18:39:26.988Z"
   },
   {
    "duration": 116,
    "start_time": "2022-08-04T18:40:12.260Z"
   },
   {
    "duration": 4,
    "start_time": "2022-08-04T18:40:38.256Z"
   },
   {
    "duration": 288,
    "start_time": "2022-08-04T18:40:38.263Z"
   },
   {
    "duration": 4,
    "start_time": "2022-08-04T18:40:38.552Z"
   },
   {
    "duration": 154,
    "start_time": "2022-08-04T18:40:38.558Z"
   },
   {
    "duration": 38,
    "start_time": "2022-08-04T18:40:38.718Z"
   },
   {
    "duration": 8,
    "start_time": "2022-08-04T18:40:38.758Z"
   },
   {
    "duration": 111,
    "start_time": "2022-08-04T18:40:38.767Z"
   },
   {
    "duration": 31,
    "start_time": "2022-08-04T18:40:38.880Z"
   },
   {
    "duration": 42,
    "start_time": "2022-08-04T18:40:38.913Z"
   },
   {
    "duration": 64,
    "start_time": "2022-08-04T18:40:38.957Z"
   },
   {
    "duration": 21,
    "start_time": "2022-08-04T18:40:39.023Z"
   },
   {
    "duration": 4,
    "start_time": "2022-08-04T18:40:39.046Z"
   },
   {
    "duration": 10,
    "start_time": "2022-08-04T18:40:39.053Z"
   },
   {
    "duration": 47,
    "start_time": "2022-08-04T18:40:39.067Z"
   },
   {
    "duration": 39,
    "start_time": "2022-08-04T18:40:39.116Z"
   },
   {
    "duration": 4,
    "start_time": "2022-08-04T18:40:39.158Z"
   },
   {
    "duration": 116,
    "start_time": "2022-08-04T18:40:39.164Z"
   },
   {
    "duration": 156,
    "start_time": "2022-08-04T18:40:39.282Z"
   },
   {
    "duration": 447,
    "start_time": "2022-08-04T18:40:39.439Z"
   },
   {
    "duration": 4,
    "start_time": "2022-08-04T18:40:39.888Z"
   },
   {
    "duration": 23,
    "start_time": "2022-08-04T18:40:39.894Z"
   },
   {
    "duration": 286,
    "start_time": "2022-08-04T18:40:39.919Z"
   },
   {
    "duration": 7,
    "start_time": "2022-08-04T18:40:40.208Z"
   },
   {
    "duration": 151,
    "start_time": "2022-08-04T18:40:40.217Z"
   },
   {
    "duration": 1412,
    "start_time": "2022-08-04T18:40:40.371Z"
   },
   {
    "duration": 30,
    "start_time": "2022-08-04T18:40:41.784Z"
   },
   {
    "duration": 31,
    "start_time": "2022-08-04T18:40:41.816Z"
   },
   {
    "duration": 120,
    "start_time": "2022-08-04T18:40:41.849Z"
   },
   {
    "duration": 12,
    "start_time": "2022-08-04T18:40:41.970Z"
   },
   {
    "duration": 48,
    "start_time": "2022-08-04T18:40:41.984Z"
   },
   {
    "duration": 18,
    "start_time": "2022-08-04T18:40:42.034Z"
   },
   {
    "duration": 9,
    "start_time": "2022-08-04T18:40:42.054Z"
   },
   {
    "duration": 25,
    "start_time": "2022-08-04T18:41:41.046Z"
   },
   {
    "duration": 25,
    "start_time": "2022-08-04T18:41:53.746Z"
   },
   {
    "duration": 26,
    "start_time": "2022-08-04T18:42:03.944Z"
   },
   {
    "duration": 24,
    "start_time": "2022-08-04T18:42:32.450Z"
   },
   {
    "duration": 15,
    "start_time": "2022-08-04T18:45:26.561Z"
   },
   {
    "duration": 24,
    "start_time": "2022-08-04T18:45:36.745Z"
   },
   {
    "duration": 46,
    "start_time": "2022-08-04T18:45:53.301Z"
   },
   {
    "duration": 15,
    "start_time": "2022-08-04T18:46:10.902Z"
   },
   {
    "duration": 14,
    "start_time": "2022-08-04T18:46:18.476Z"
   },
   {
    "duration": 13,
    "start_time": "2022-08-04T18:48:17.046Z"
   },
   {
    "duration": 9,
    "start_time": "2022-08-04T18:48:35.107Z"
   },
   {
    "duration": 13,
    "start_time": "2022-08-04T18:48:48.379Z"
   },
   {
    "duration": 59,
    "start_time": "2022-08-05T07:07:33.658Z"
   },
   {
    "duration": 1564,
    "start_time": "2022-08-05T07:07:38.703Z"
   },
   {
    "duration": 929,
    "start_time": "2022-08-05T07:07:40.273Z"
   },
   {
    "duration": 5,
    "start_time": "2022-08-05T07:07:41.204Z"
   },
   {
    "duration": 176,
    "start_time": "2022-08-05T07:07:41.210Z"
   },
   {
    "duration": 28,
    "start_time": "2022-08-05T07:07:41.389Z"
   },
   {
    "duration": 9,
    "start_time": "2022-08-05T07:07:41.419Z"
   },
   {
    "duration": 138,
    "start_time": "2022-08-05T07:07:41.429Z"
   },
   {
    "duration": 33,
    "start_time": "2022-08-05T07:07:41.569Z"
   },
   {
    "duration": 36,
    "start_time": "2022-08-05T07:07:41.604Z"
   },
   {
    "duration": 50,
    "start_time": "2022-08-05T07:07:41.642Z"
   },
   {
    "duration": 21,
    "start_time": "2022-08-05T07:07:41.693Z"
   },
   {
    "duration": 4,
    "start_time": "2022-08-05T07:07:41.716Z"
   },
   {
    "duration": 10,
    "start_time": "2022-08-05T07:07:41.721Z"
   },
   {
    "duration": 46,
    "start_time": "2022-08-05T07:07:41.734Z"
   },
   {
    "duration": 23,
    "start_time": "2022-08-05T07:07:41.782Z"
   },
   {
    "duration": 4,
    "start_time": "2022-08-05T07:07:41.807Z"
   },
   {
    "duration": 112,
    "start_time": "2022-08-05T07:07:41.813Z"
   },
   {
    "duration": 164,
    "start_time": "2022-08-05T07:07:41.926Z"
   },
   {
    "duration": 526,
    "start_time": "2022-08-05T07:07:42.092Z"
   },
   {
    "duration": 5,
    "start_time": "2022-08-05T07:07:42.620Z"
   },
   {
    "duration": 63,
    "start_time": "2022-08-05T07:07:42.626Z"
   },
   {
    "duration": 361,
    "start_time": "2022-08-05T07:07:42.690Z"
   },
   {
    "duration": 16,
    "start_time": "2022-08-05T07:07:43.053Z"
   },
   {
    "duration": 130,
    "start_time": "2022-08-05T07:07:43.072Z"
   },
   {
    "duration": 1301,
    "start_time": "2022-08-05T07:07:43.204Z"
   },
   {
    "duration": 17,
    "start_time": "2022-08-05T07:07:44.507Z"
   },
   {
    "duration": 51,
    "start_time": "2022-08-05T07:07:44.526Z"
   },
   {
    "duration": 108,
    "start_time": "2022-08-05T07:07:44.582Z"
   },
   {
    "duration": 13,
    "start_time": "2022-08-05T07:07:44.692Z"
   },
   {
    "duration": 96,
    "start_time": "2022-08-05T07:07:44.706Z"
   },
   {
    "duration": 26,
    "start_time": "2022-08-05T07:07:44.804Z"
   },
   {
    "duration": 9,
    "start_time": "2022-08-05T07:07:44.832Z"
   },
   {
    "duration": 15,
    "start_time": "2022-08-05T07:19:12.658Z"
   },
   {
    "duration": 45,
    "start_time": "2022-08-05T07:19:29.238Z"
   },
   {
    "duration": 4,
    "start_time": "2022-08-05T07:20:55.849Z"
   },
   {
    "duration": 293,
    "start_time": "2022-08-05T07:20:55.855Z"
   },
   {
    "duration": 4,
    "start_time": "2022-08-05T07:20:56.151Z"
   },
   {
    "duration": 152,
    "start_time": "2022-08-05T07:20:56.157Z"
   },
   {
    "duration": 25,
    "start_time": "2022-08-05T07:20:56.311Z"
   },
   {
    "duration": 9,
    "start_time": "2022-08-05T07:20:56.338Z"
   },
   {
    "duration": 105,
    "start_time": "2022-08-05T07:20:56.348Z"
   },
   {
    "duration": 35,
    "start_time": "2022-08-05T07:20:56.455Z"
   },
   {
    "duration": 94,
    "start_time": "2022-08-05T07:20:56.493Z"
   },
   {
    "duration": 67,
    "start_time": "2022-08-05T07:20:56.590Z"
   },
   {
    "duration": 45,
    "start_time": "2022-08-05T07:20:56.660Z"
   },
   {
    "duration": 24,
    "start_time": "2022-08-05T07:20:56.708Z"
   },
   {
    "duration": 28,
    "start_time": "2022-08-05T07:20:56.734Z"
   },
   {
    "duration": 30,
    "start_time": "2022-08-05T07:20:56.764Z"
   },
   {
    "duration": 43,
    "start_time": "2022-08-05T07:20:56.797Z"
   },
   {
    "duration": 11,
    "start_time": "2022-08-05T07:20:56.842Z"
   },
   {
    "duration": 92,
    "start_time": "2022-08-05T07:20:56.855Z"
   },
   {
    "duration": 137,
    "start_time": "2022-08-05T07:20:56.949Z"
   },
   {
    "duration": 389,
    "start_time": "2022-08-05T07:20:57.088Z"
   },
   {
    "duration": 4,
    "start_time": "2022-08-05T07:20:57.479Z"
   },
   {
    "duration": 9,
    "start_time": "2022-08-05T07:20:57.485Z"
   },
   {
    "duration": 294,
    "start_time": "2022-08-05T07:20:57.496Z"
   },
   {
    "duration": 7,
    "start_time": "2022-08-05T07:20:57.791Z"
   },
   {
    "duration": 124,
    "start_time": "2022-08-05T07:20:57.799Z"
   },
   {
    "duration": 1296,
    "start_time": "2022-08-05T07:20:57.924Z"
   },
   {
    "duration": 16,
    "start_time": "2022-08-05T07:20:59.222Z"
   },
   {
    "duration": 44,
    "start_time": "2022-08-05T07:20:59.240Z"
   },
   {
    "duration": 108,
    "start_time": "2022-08-05T07:20:59.285Z"
   },
   {
    "duration": 29,
    "start_time": "2022-08-05T07:20:59.396Z"
   },
   {
    "duration": 13,
    "start_time": "2022-08-05T07:20:59.427Z"
   },
   {
    "duration": 35,
    "start_time": "2022-08-05T07:20:59.441Z"
   },
   {
    "duration": 29,
    "start_time": "2022-08-05T07:20:59.478Z"
   },
   {
    "duration": 16,
    "start_time": "2022-08-05T07:20:59.509Z"
   },
   {
    "duration": 127,
    "start_time": "2022-08-05T07:27:31.660Z"
   },
   {
    "duration": 3,
    "start_time": "2022-08-05T07:27:43.573Z"
   },
   {
    "duration": 289,
    "start_time": "2022-08-05T07:27:43.578Z"
   },
   {
    "duration": 4,
    "start_time": "2022-08-05T07:27:43.869Z"
   },
   {
    "duration": 151,
    "start_time": "2022-08-05T07:27:43.874Z"
   },
   {
    "duration": 22,
    "start_time": "2022-08-05T07:27:44.027Z"
   },
   {
    "duration": 19,
    "start_time": "2022-08-05T07:27:44.051Z"
   },
   {
    "duration": 98,
    "start_time": "2022-08-05T07:27:44.072Z"
   },
   {
    "duration": 22,
    "start_time": "2022-08-05T07:27:44.172Z"
   },
   {
    "duration": 36,
    "start_time": "2022-08-05T07:27:44.195Z"
   },
   {
    "duration": 45,
    "start_time": "2022-08-05T07:27:44.233Z"
   },
   {
    "duration": 19,
    "start_time": "2022-08-05T07:27:44.280Z"
   },
   {
    "duration": 4,
    "start_time": "2022-08-05T07:27:44.301Z"
   },
   {
    "duration": 7,
    "start_time": "2022-08-05T07:27:44.306Z"
   },
   {
    "duration": 12,
    "start_time": "2022-08-05T07:27:44.316Z"
   },
   {
    "duration": 25,
    "start_time": "2022-08-05T07:27:44.368Z"
   },
   {
    "duration": 4,
    "start_time": "2022-08-05T07:27:44.395Z"
   },
   {
    "duration": 109,
    "start_time": "2022-08-05T07:27:44.401Z"
   },
   {
    "duration": 131,
    "start_time": "2022-08-05T07:27:44.512Z"
   },
   {
    "duration": 474,
    "start_time": "2022-08-05T07:27:44.645Z"
   },
   {
    "duration": 4,
    "start_time": "2022-08-05T07:27:45.120Z"
   },
   {
    "duration": 7,
    "start_time": "2022-08-05T07:27:45.126Z"
   },
   {
    "duration": 288,
    "start_time": "2022-08-05T07:27:45.135Z"
   },
   {
    "duration": 6,
    "start_time": "2022-08-05T07:27:45.425Z"
   },
   {
    "duration": 126,
    "start_time": "2022-08-05T07:27:45.433Z"
   },
   {
    "duration": 1264,
    "start_time": "2022-08-05T07:27:45.561Z"
   },
   {
    "duration": 16,
    "start_time": "2022-08-05T07:27:46.827Z"
   },
   {
    "duration": 44,
    "start_time": "2022-08-05T07:27:46.845Z"
   },
   {
    "duration": 126,
    "start_time": "2022-08-05T07:27:46.890Z"
   },
   {
    "duration": 13,
    "start_time": "2022-08-05T07:27:47.018Z"
   },
   {
    "duration": 96,
    "start_time": "2022-08-05T07:27:47.033Z"
   },
   {
    "duration": 25,
    "start_time": "2022-08-05T07:27:47.131Z"
   },
   {
    "duration": 10,
    "start_time": "2022-08-05T07:27:47.167Z"
   },
   {
    "duration": 5,
    "start_time": "2022-08-05T07:40:00.097Z"
   },
   {
    "duration": 1460,
    "start_time": "2022-08-05T07:41:28.254Z"
   },
   {
    "duration": 4,
    "start_time": "2022-08-05T07:42:01.279Z"
   },
   {
    "duration": 219,
    "start_time": "2022-08-05T07:42:02.287Z"
   },
   {
    "duration": 15,
    "start_time": "2022-08-05T07:42:50.746Z"
   },
   {
    "duration": 4,
    "start_time": "2022-08-05T07:44:00.665Z"
   },
   {
    "duration": 218,
    "start_time": "2022-08-05T07:44:02.216Z"
   },
   {
    "duration": 11,
    "start_time": "2022-08-05T07:44:02.986Z"
   },
   {
    "duration": 10,
    "start_time": "2022-08-05T07:45:34.192Z"
   },
   {
    "duration": 9,
    "start_time": "2022-08-05T07:45:44.242Z"
   },
   {
    "duration": 10,
    "start_time": "2022-08-05T07:46:00.795Z"
   },
   {
    "duration": 13,
    "start_time": "2022-08-05T07:46:31.978Z"
   },
   {
    "duration": 19,
    "start_time": "2022-08-05T07:50:20.796Z"
   },
   {
    "duration": 14,
    "start_time": "2022-08-05T07:50:26.515Z"
   },
   {
    "duration": 30,
    "start_time": "2022-08-05T07:51:03.164Z"
   },
   {
    "duration": 18,
    "start_time": "2022-08-05T07:51:39.892Z"
   },
   {
    "duration": 28,
    "start_time": "2022-08-05T07:51:48.090Z"
   },
   {
    "duration": 1531,
    "start_time": "2022-08-05T07:58:58.947Z"
   },
   {
    "duration": 21,
    "start_time": "2022-08-05T07:59:15.012Z"
   },
   {
    "duration": 35,
    "start_time": "2022-08-05T07:59:20.553Z"
   },
   {
    "duration": 29,
    "start_time": "2022-08-05T08:00:20.207Z"
   },
   {
    "duration": 21,
    "start_time": "2022-08-05T08:01:18.079Z"
   },
   {
    "duration": 37,
    "start_time": "2022-08-05T08:01:27.248Z"
   },
   {
    "duration": 31,
    "start_time": "2022-08-05T08:03:47.296Z"
   },
   {
    "duration": 44,
    "start_time": "2022-08-05T08:05:16.716Z"
   },
   {
    "duration": 33,
    "start_time": "2022-08-05T08:08:58.346Z"
   },
   {
    "duration": 3,
    "start_time": "2022-08-05T08:13:35.568Z"
   },
   {
    "duration": 73,
    "start_time": "2022-08-05T08:13:56.775Z"
   },
   {
    "duration": 3,
    "start_time": "2022-08-05T08:14:11.912Z"
   },
   {
    "duration": 55,
    "start_time": "2022-08-05T08:14:48.161Z"
   },
   {
    "duration": 50,
    "start_time": "2022-08-05T12:16:16.999Z"
   },
   {
    "duration": 1359,
    "start_time": "2022-08-05T12:16:29.856Z"
   },
   {
    "duration": 805,
    "start_time": "2022-08-05T12:16:31.217Z"
   },
   {
    "duration": 4,
    "start_time": "2022-08-05T12:16:32.024Z"
   },
   {
    "duration": 143,
    "start_time": "2022-08-05T12:16:32.029Z"
   },
   {
    "duration": 23,
    "start_time": "2022-08-05T12:16:32.174Z"
   },
   {
    "duration": 8,
    "start_time": "2022-08-05T12:16:32.198Z"
   },
   {
    "duration": 118,
    "start_time": "2022-08-05T12:16:32.208Z"
   },
   {
    "duration": 29,
    "start_time": "2022-08-05T12:16:32.328Z"
   },
   {
    "duration": 31,
    "start_time": "2022-08-05T12:16:32.358Z"
   },
   {
    "duration": 27,
    "start_time": "2022-08-05T12:16:32.391Z"
   },
   {
    "duration": 47,
    "start_time": "2022-08-05T12:16:32.420Z"
   },
   {
    "duration": 5,
    "start_time": "2022-08-05T12:16:32.469Z"
   },
   {
    "duration": 17,
    "start_time": "2022-08-05T12:16:32.476Z"
   },
   {
    "duration": 12,
    "start_time": "2022-08-05T12:16:32.495Z"
   },
   {
    "duration": 22,
    "start_time": "2022-08-05T12:16:32.509Z"
   },
   {
    "duration": 4,
    "start_time": "2022-08-05T12:16:32.532Z"
   },
   {
    "duration": 100,
    "start_time": "2022-08-05T12:16:32.538Z"
   },
   {
    "duration": 136,
    "start_time": "2022-08-05T12:16:32.640Z"
   },
   {
    "duration": 421,
    "start_time": "2022-08-05T12:16:32.777Z"
   },
   {
    "duration": 3,
    "start_time": "2022-08-05T12:16:33.200Z"
   },
   {
    "duration": 11,
    "start_time": "2022-08-05T12:16:33.204Z"
   },
   {
    "duration": 319,
    "start_time": "2022-08-05T12:16:33.216Z"
   },
   {
    "duration": 6,
    "start_time": "2022-08-05T12:16:33.537Z"
   },
   {
    "duration": 115,
    "start_time": "2022-08-05T12:16:33.554Z"
   },
   {
    "duration": 1064,
    "start_time": "2022-08-05T12:16:33.670Z"
   },
   {
    "duration": 20,
    "start_time": "2022-08-05T12:16:34.735Z"
   },
   {
    "duration": 25,
    "start_time": "2022-08-05T12:16:34.756Z"
   },
   {
    "duration": 118,
    "start_time": "2022-08-05T12:16:34.784Z"
   },
   {
    "duration": 92,
    "start_time": "2022-08-05T12:16:34.904Z"
   },
   {
    "duration": 4,
    "start_time": "2022-08-05T12:16:34.998Z"
   },
   {
    "duration": 247,
    "start_time": "2022-08-05T12:16:35.004Z"
   },
   {
    "duration": 12,
    "start_time": "2022-08-05T12:16:35.254Z"
   },
   {
    "duration": 5,
    "start_time": "2022-08-05T12:16:35.268Z"
   },
   {
    "duration": 63,
    "start_time": "2022-08-05T12:16:35.274Z"
   },
   {
    "duration": 123,
    "start_time": "2022-08-05T12:17:09.628Z"
   },
   {
    "duration": 51,
    "start_time": "2022-08-05T12:26:33.342Z"
   },
   {
    "duration": 51,
    "start_time": "2022-08-05T12:27:05.566Z"
   },
   {
    "duration": 35,
    "start_time": "2022-08-05T12:31:10.753Z"
   },
   {
    "duration": 32,
    "start_time": "2022-08-05T12:32:35.241Z"
   },
   {
    "duration": 38,
    "start_time": "2022-08-05T12:35:03.706Z"
   },
   {
    "duration": 111,
    "start_time": "2022-08-05T12:37:55.420Z"
   },
   {
    "duration": 34,
    "start_time": "2022-08-05T12:39:20.055Z"
   },
   {
    "duration": 32,
    "start_time": "2022-08-05T12:39:33.138Z"
   },
   {
    "duration": 37,
    "start_time": "2022-08-05T12:39:48.635Z"
   },
   {
    "duration": 48,
    "start_time": "2022-08-05T12:40:21.516Z"
   },
   {
    "duration": 37,
    "start_time": "2022-08-05T12:42:39.964Z"
   },
   {
    "duration": 35,
    "start_time": "2022-08-05T12:43:18.075Z"
   },
   {
    "duration": 86,
    "start_time": "2022-08-05T12:52:12.263Z"
   },
   {
    "duration": 22,
    "start_time": "2022-08-05T12:52:27.343Z"
   },
   {
    "duration": 37,
    "start_time": "2022-08-05T12:55:50.409Z"
   },
   {
    "duration": 61,
    "start_time": "2022-08-05T12:56:05.162Z"
   },
   {
    "duration": 65,
    "start_time": "2022-08-05T12:56:33.128Z"
   },
   {
    "duration": 68,
    "start_time": "2022-08-05T12:57:27.143Z"
   },
   {
    "duration": 14,
    "start_time": "2022-08-05T13:50:29.143Z"
   },
   {
    "duration": 3,
    "start_time": "2022-08-05T13:50:36.186Z"
   },
   {
    "duration": 548,
    "start_time": "2022-08-05T13:50:36.191Z"
   },
   {
    "duration": 4,
    "start_time": "2022-08-05T13:50:36.741Z"
   },
   {
    "duration": 158,
    "start_time": "2022-08-05T13:50:36.747Z"
   },
   {
    "duration": 20,
    "start_time": "2022-08-05T13:50:36.907Z"
   },
   {
    "duration": 9,
    "start_time": "2022-08-05T13:50:36.928Z"
   },
   {
    "duration": 82,
    "start_time": "2022-08-05T13:50:36.955Z"
   },
   {
    "duration": 43,
    "start_time": "2022-08-05T13:50:37.038Z"
   },
   {
    "duration": 36,
    "start_time": "2022-08-05T13:50:37.083Z"
   },
   {
    "duration": 62,
    "start_time": "2022-08-05T13:50:37.121Z"
   },
   {
    "duration": 20,
    "start_time": "2022-08-05T13:50:37.185Z"
   },
   {
    "duration": 3,
    "start_time": "2022-08-05T13:50:37.207Z"
   },
   {
    "duration": 50,
    "start_time": "2022-08-05T13:50:37.212Z"
   },
   {
    "duration": 34,
    "start_time": "2022-08-05T13:50:37.267Z"
   },
   {
    "duration": 39,
    "start_time": "2022-08-05T13:50:37.303Z"
   },
   {
    "duration": 5,
    "start_time": "2022-08-05T13:50:37.344Z"
   },
   {
    "duration": 137,
    "start_time": "2022-08-05T13:50:37.350Z"
   },
   {
    "duration": 155,
    "start_time": "2022-08-05T13:50:37.489Z"
   },
   {
    "duration": 449,
    "start_time": "2022-08-05T13:50:37.645Z"
   },
   {
    "duration": 4,
    "start_time": "2022-08-05T13:50:38.096Z"
   },
   {
    "duration": 13,
    "start_time": "2022-08-05T13:50:38.102Z"
   },
   {
    "duration": 390,
    "start_time": "2022-08-05T13:50:38.117Z"
   },
   {
    "duration": 7,
    "start_time": "2022-08-05T13:50:38.508Z"
   },
   {
    "duration": 117,
    "start_time": "2022-08-05T13:50:38.517Z"
   },
   {
    "duration": 1167,
    "start_time": "2022-08-05T13:50:38.644Z"
   },
   {
    "duration": 11,
    "start_time": "2022-08-05T13:50:39.813Z"
   },
   {
    "duration": 0,
    "start_time": "2022-08-05T13:50:39.825Z"
   },
   {
    "duration": 0,
    "start_time": "2022-08-05T13:50:39.826Z"
   },
   {
    "duration": 0,
    "start_time": "2022-08-05T13:50:39.827Z"
   },
   {
    "duration": 0,
    "start_time": "2022-08-05T13:50:39.829Z"
   },
   {
    "duration": 0,
    "start_time": "2022-08-05T13:50:39.831Z"
   },
   {
    "duration": 0,
    "start_time": "2022-08-05T13:50:39.832Z"
   },
   {
    "duration": 0,
    "start_time": "2022-08-05T13:50:39.833Z"
   },
   {
    "duration": 0,
    "start_time": "2022-08-05T13:50:39.834Z"
   },
   {
    "duration": 1203,
    "start_time": "2022-08-05T13:51:48.476Z"
   },
   {
    "duration": 23,
    "start_time": "2022-08-05T13:51:54.465Z"
   },
   {
    "duration": 5,
    "start_time": "2022-08-05T13:53:02.775Z"
   },
   {
    "duration": 218,
    "start_time": "2022-08-05T13:53:04.815Z"
   },
   {
    "duration": 14,
    "start_time": "2022-08-05T13:53:07.391Z"
   },
   {
    "duration": 3,
    "start_time": "2022-08-05T13:54:59.497Z"
   },
   {
    "duration": 253,
    "start_time": "2022-08-05T13:55:01.954Z"
   },
   {
    "duration": 13,
    "start_time": "2022-08-05T13:55:02.651Z"
   },
   {
    "duration": 237,
    "start_time": "2022-08-05T13:55:37.466Z"
   },
   {
    "duration": 201,
    "start_time": "2022-08-05T13:56:33.951Z"
   },
   {
    "duration": 62,
    "start_time": "2022-08-05T14:00:21.466Z"
   },
   {
    "duration": 6,
    "start_time": "2022-08-05T14:01:20.259Z"
   },
   {
    "duration": 301,
    "start_time": "2022-08-05T14:01:20.268Z"
   },
   {
    "duration": 9,
    "start_time": "2022-08-05T14:01:20.570Z"
   },
   {
    "duration": 118,
    "start_time": "2022-08-05T14:01:20.585Z"
   },
   {
    "duration": 19,
    "start_time": "2022-08-05T14:01:20.704Z"
   },
   {
    "duration": 9,
    "start_time": "2022-08-05T14:01:20.724Z"
   },
   {
    "duration": 88,
    "start_time": "2022-08-05T14:01:20.734Z"
   },
   {
    "duration": 18,
    "start_time": "2022-08-05T14:01:20.824Z"
   },
   {
    "duration": 36,
    "start_time": "2022-08-05T14:01:20.843Z"
   },
   {
    "duration": 24,
    "start_time": "2022-08-05T14:01:20.883Z"
   },
   {
    "duration": 15,
    "start_time": "2022-08-05T14:01:20.909Z"
   },
   {
    "duration": 30,
    "start_time": "2022-08-05T14:01:20.925Z"
   },
   {
    "duration": 5,
    "start_time": "2022-08-05T14:01:20.957Z"
   },
   {
    "duration": 24,
    "start_time": "2022-08-05T14:01:20.964Z"
   },
   {
    "duration": 28,
    "start_time": "2022-08-05T14:01:20.990Z"
   },
   {
    "duration": 5,
    "start_time": "2022-08-05T14:01:21.019Z"
   },
   {
    "duration": 104,
    "start_time": "2022-08-05T14:01:21.025Z"
   },
   {
    "duration": 140,
    "start_time": "2022-08-05T14:01:21.131Z"
   },
   {
    "duration": 462,
    "start_time": "2022-08-05T14:01:21.273Z"
   },
   {
    "duration": 4,
    "start_time": "2022-08-05T14:01:21.737Z"
   },
   {
    "duration": 14,
    "start_time": "2022-08-05T14:01:21.743Z"
   },
   {
    "duration": 250,
    "start_time": "2022-08-05T14:01:21.759Z"
   },
   {
    "duration": 6,
    "start_time": "2022-08-05T14:01:22.011Z"
   },
   {
    "duration": 111,
    "start_time": "2022-08-05T14:01:22.019Z"
   },
   {
    "duration": 1214,
    "start_time": "2022-08-05T14:01:22.132Z"
   },
   {
    "duration": 21,
    "start_time": "2022-08-05T14:01:23.347Z"
   },
   {
    "duration": 29,
    "start_time": "2022-08-05T14:01:23.371Z"
   },
   {
    "duration": 118,
    "start_time": "2022-08-05T14:01:23.403Z"
   },
   {
    "duration": 1252,
    "start_time": "2022-08-05T14:01:23.523Z"
   },
   {
    "duration": 0,
    "start_time": "2022-08-05T14:01:24.780Z"
   },
   {
    "duration": 0,
    "start_time": "2022-08-05T14:01:24.781Z"
   },
   {
    "duration": 0,
    "start_time": "2022-08-05T14:01:24.783Z"
   },
   {
    "duration": 0,
    "start_time": "2022-08-05T14:01:24.784Z"
   },
   {
    "duration": 16,
    "start_time": "2022-08-05T14:01:59.905Z"
   },
   {
    "duration": 14,
    "start_time": "2022-08-05T14:02:10.938Z"
   },
   {
    "duration": 19,
    "start_time": "2022-08-05T14:02:10.954Z"
   },
   {
    "duration": 192,
    "start_time": "2022-08-05T14:02:10.975Z"
   },
   {
    "duration": 51,
    "start_time": "2022-08-05T14:02:11.168Z"
   },
   {
    "duration": 83,
    "start_time": "2022-08-05T14:02:11.221Z"
   },
   {
    "duration": 4,
    "start_time": "2022-08-05T14:08:03.245Z"
   },
   {
    "duration": 268,
    "start_time": "2022-08-05T14:08:03.251Z"
   },
   {
    "duration": 4,
    "start_time": "2022-08-05T14:08:03.521Z"
   },
   {
    "duration": 147,
    "start_time": "2022-08-05T14:08:03.527Z"
   },
   {
    "duration": 22,
    "start_time": "2022-08-05T14:08:03.676Z"
   },
   {
    "duration": 10,
    "start_time": "2022-08-05T14:08:03.699Z"
   },
   {
    "duration": 116,
    "start_time": "2022-08-05T14:08:03.711Z"
   },
   {
    "duration": 31,
    "start_time": "2022-08-05T14:08:03.829Z"
   },
   {
    "duration": 38,
    "start_time": "2022-08-05T14:08:03.861Z"
   },
   {
    "duration": 28,
    "start_time": "2022-08-05T14:08:03.901Z"
   },
   {
    "duration": 48,
    "start_time": "2022-08-05T14:08:03.932Z"
   },
   {
    "duration": 8,
    "start_time": "2022-08-05T14:08:03.982Z"
   },
   {
    "duration": 9,
    "start_time": "2022-08-05T14:08:03.991Z"
   },
   {
    "duration": 16,
    "start_time": "2022-08-05T14:08:04.002Z"
   },
   {
    "duration": 47,
    "start_time": "2022-08-05T14:08:04.020Z"
   },
   {
    "duration": 7,
    "start_time": "2022-08-05T14:08:04.070Z"
   },
   {
    "duration": 114,
    "start_time": "2022-08-05T14:08:04.078Z"
   },
   {
    "duration": 130,
    "start_time": "2022-08-05T14:08:04.194Z"
   },
   {
    "duration": 481,
    "start_time": "2022-08-05T14:08:04.325Z"
   },
   {
    "duration": 4,
    "start_time": "2022-08-05T14:08:04.807Z"
   },
   {
    "duration": 10,
    "start_time": "2022-08-05T14:08:04.812Z"
   },
   {
    "duration": 286,
    "start_time": "2022-08-05T14:08:04.824Z"
   },
   {
    "duration": 6,
    "start_time": "2022-08-05T14:08:05.112Z"
   },
   {
    "duration": 111,
    "start_time": "2022-08-05T14:08:05.120Z"
   },
   {
    "duration": 1344,
    "start_time": "2022-08-05T14:08:05.232Z"
   },
   {
    "duration": 20,
    "start_time": "2022-08-05T14:08:06.578Z"
   },
   {
    "duration": 28,
    "start_time": "2022-08-05T14:08:06.600Z"
   },
   {
    "duration": 158,
    "start_time": "2022-08-05T14:08:06.630Z"
   },
   {
    "duration": 14,
    "start_time": "2022-08-05T14:08:06.792Z"
   },
   {
    "duration": 21,
    "start_time": "2022-08-05T14:08:06.808Z"
   },
   {
    "duration": 192,
    "start_time": "2022-08-05T14:08:06.831Z"
   },
   {
    "duration": 62,
    "start_time": "2022-08-05T14:08:07.024Z"
   },
   {
    "duration": 2,
    "start_time": "2022-08-05T14:08:07.088Z"
   },
   {
    "duration": 92,
    "start_time": "2022-08-05T14:08:07.091Z"
   },
   {
    "duration": 14,
    "start_time": "2022-08-05T14:10:21.408Z"
   },
   {
    "duration": 4,
    "start_time": "2022-08-05T14:10:24.094Z"
   },
   {
    "duration": 202,
    "start_time": "2022-08-05T14:10:24.499Z"
   },
   {
    "duration": 65,
    "start_time": "2022-08-05T14:10:27.757Z"
   },
   {
    "duration": 94,
    "start_time": "2022-08-05T14:11:50.627Z"
   },
   {
    "duration": 75,
    "start_time": "2022-08-05T14:12:48.418Z"
   },
   {
    "duration": 1064,
    "start_time": "2022-08-05T14:13:07.378Z"
   },
   {
    "duration": 1073,
    "start_time": "2022-08-05T14:13:50.826Z"
   },
   {
    "duration": 1049,
    "start_time": "2022-08-05T14:14:26.447Z"
   },
   {
    "duration": 910,
    "start_time": "2022-08-05T14:15:08.968Z"
   },
   {
    "duration": 12,
    "start_time": "2022-08-05T14:19:05.053Z"
   },
   {
    "duration": 21,
    "start_time": "2022-08-05T14:20:48.066Z"
   },
   {
    "duration": 14,
    "start_time": "2022-08-05T14:21:02.438Z"
   },
   {
    "duration": 42,
    "start_time": "2022-08-05T14:22:05.536Z"
   },
   {
    "duration": 3,
    "start_time": "2022-08-05T14:29:48.860Z"
   },
   {
    "duration": 237,
    "start_time": "2022-08-05T14:29:48.867Z"
   },
   {
    "duration": 4,
    "start_time": "2022-08-05T14:29:49.106Z"
   },
   {
    "duration": 118,
    "start_time": "2022-08-05T14:29:49.112Z"
   },
   {
    "duration": 26,
    "start_time": "2022-08-05T14:29:49.232Z"
   },
   {
    "duration": 9,
    "start_time": "2022-08-05T14:29:49.260Z"
   },
   {
    "duration": 70,
    "start_time": "2022-08-05T14:29:49.271Z"
   },
   {
    "duration": 18,
    "start_time": "2022-08-05T14:29:49.355Z"
   },
   {
    "duration": 29,
    "start_time": "2022-08-05T14:29:49.374Z"
   },
   {
    "duration": 26,
    "start_time": "2022-08-05T14:29:49.404Z"
   },
   {
    "duration": 41,
    "start_time": "2022-08-05T14:29:49.431Z"
   },
   {
    "duration": 3,
    "start_time": "2022-08-05T14:29:49.474Z"
   },
   {
    "duration": 9,
    "start_time": "2022-08-05T14:29:49.479Z"
   },
   {
    "duration": 10,
    "start_time": "2022-08-05T14:29:49.489Z"
   },
   {
    "duration": 21,
    "start_time": "2022-08-05T14:29:49.502Z"
   },
   {
    "duration": 31,
    "start_time": "2022-08-05T14:29:49.525Z"
   },
   {
    "duration": 78,
    "start_time": "2022-08-05T14:29:49.557Z"
   },
   {
    "duration": 125,
    "start_time": "2022-08-05T14:29:49.637Z"
   },
   {
    "duration": 339,
    "start_time": "2022-08-05T14:29:49.763Z"
   },
   {
    "duration": 3,
    "start_time": "2022-08-05T14:29:50.104Z"
   },
   {
    "duration": 10,
    "start_time": "2022-08-05T14:29:50.109Z"
   },
   {
    "duration": 250,
    "start_time": "2022-08-05T14:29:50.120Z"
   },
   {
    "duration": 5,
    "start_time": "2022-08-05T14:29:50.372Z"
   },
   {
    "duration": 110,
    "start_time": "2022-08-05T14:29:50.379Z"
   },
   {
    "duration": 1180,
    "start_time": "2022-08-05T14:29:50.491Z"
   },
   {
    "duration": 15,
    "start_time": "2022-08-05T14:29:51.672Z"
   },
   {
    "duration": 25,
    "start_time": "2022-08-05T14:29:51.689Z"
   },
   {
    "duration": 120,
    "start_time": "2022-08-05T14:29:51.715Z"
   },
   {
    "duration": 21,
    "start_time": "2022-08-05T14:29:51.836Z"
   },
   {
    "duration": 20,
    "start_time": "2022-08-05T14:29:51.859Z"
   },
   {
    "duration": 254,
    "start_time": "2022-08-05T14:29:51.881Z"
   },
   {
    "duration": 51,
    "start_time": "2022-08-05T14:29:52.137Z"
   },
   {
    "duration": 25,
    "start_time": "2022-08-05T14:29:52.190Z"
   },
   {
    "duration": 71,
    "start_time": "2022-08-05T14:29:52.216Z"
   },
   {
    "duration": 13,
    "start_time": "2022-08-05T14:30:18.872Z"
   },
   {
    "duration": 32,
    "start_time": "2022-08-05T14:30:47.277Z"
   },
   {
    "duration": 30,
    "start_time": "2022-08-05T14:31:04.692Z"
   },
   {
    "duration": 54,
    "start_time": "2022-08-05T14:31:25.890Z"
   },
   {
    "duration": 1058,
    "start_time": "2022-08-05T14:42:51.367Z"
   },
   {
    "duration": 1168,
    "start_time": "2022-08-05T14:43:15.693Z"
   },
   {
    "duration": 20,
    "start_time": "2022-08-05T14:43:28.207Z"
   },
   {
    "duration": 24,
    "start_time": "2022-08-05T14:43:32.527Z"
   },
   {
    "duration": 120,
    "start_time": "2022-08-05T14:43:37.046Z"
   },
   {
    "duration": 1401,
    "start_time": "2022-08-05T14:43:46.218Z"
   },
   {
    "duration": 3,
    "start_time": "2022-08-05T14:43:48.116Z"
   },
   {
    "duration": 1232,
    "start_time": "2022-08-05T14:46:52.638Z"
   },
   {
    "duration": 15,
    "start_time": "2022-08-05T14:47:03.279Z"
   },
   {
    "duration": 3,
    "start_time": "2022-08-05T14:47:07.278Z"
   },
   {
    "duration": 255,
    "start_time": "2022-08-05T14:47:09.258Z"
   },
   {
    "duration": 50,
    "start_time": "2022-08-05T14:47:11.828Z"
   },
   {
    "duration": 28,
    "start_time": "2022-08-05T14:47:18.179Z"
   },
   {
    "duration": 16,
    "start_time": "2022-08-05T14:48:30.068Z"
   },
   {
    "duration": 20,
    "start_time": "2022-08-05T14:51:05.199Z"
   },
   {
    "duration": 19,
    "start_time": "2022-08-05T14:51:40.007Z"
   },
   {
    "duration": 15,
    "start_time": "2022-08-05T14:51:51.910Z"
   },
   {
    "duration": 97,
    "start_time": "2022-08-05T14:53:33.846Z"
   },
   {
    "duration": 18,
    "start_time": "2022-08-05T14:54:06.784Z"
   },
   {
    "duration": 16,
    "start_time": "2022-08-05T14:57:25.087Z"
   },
   {
    "duration": 13,
    "start_time": "2022-08-05T14:58:10.198Z"
   },
   {
    "duration": 22,
    "start_time": "2022-08-05T14:58:24.288Z"
   },
   {
    "duration": 15,
    "start_time": "2022-08-05T14:58:49.530Z"
   },
   {
    "duration": 26,
    "start_time": "2022-08-05T14:59:03.408Z"
   },
   {
    "duration": 12,
    "start_time": "2022-08-05T15:05:36.918Z"
   },
   {
    "duration": 24,
    "start_time": "2022-08-05T15:05:44.988Z"
   },
   {
    "duration": 21,
    "start_time": "2022-08-05T16:09:18.447Z"
   },
   {
    "duration": 23,
    "start_time": "2022-08-05T16:09:42.256Z"
   },
   {
    "duration": 4,
    "start_time": "2022-08-05T16:09:53.334Z"
   },
   {
    "duration": 249,
    "start_time": "2022-08-05T16:09:53.342Z"
   },
   {
    "duration": 4,
    "start_time": "2022-08-05T16:09:53.593Z"
   },
   {
    "duration": 120,
    "start_time": "2022-08-05T16:09:53.599Z"
   },
   {
    "duration": 20,
    "start_time": "2022-08-05T16:09:53.721Z"
   },
   {
    "duration": 24,
    "start_time": "2022-08-05T16:09:53.743Z"
   },
   {
    "duration": 75,
    "start_time": "2022-08-05T16:09:53.770Z"
   },
   {
    "duration": 28,
    "start_time": "2022-08-05T16:09:53.846Z"
   },
   {
    "duration": 28,
    "start_time": "2022-08-05T16:09:53.876Z"
   },
   {
    "duration": 24,
    "start_time": "2022-08-05T16:09:53.906Z"
   },
   {
    "duration": 40,
    "start_time": "2022-08-05T16:09:53.931Z"
   },
   {
    "duration": 6,
    "start_time": "2022-08-05T16:09:53.972Z"
   },
   {
    "duration": 6,
    "start_time": "2022-08-05T16:09:53.980Z"
   },
   {
    "duration": 11,
    "start_time": "2022-08-05T16:09:53.987Z"
   },
   {
    "duration": 20,
    "start_time": "2022-08-05T16:09:54.001Z"
   },
   {
    "duration": 4,
    "start_time": "2022-08-05T16:09:54.023Z"
   },
   {
    "duration": 103,
    "start_time": "2022-08-05T16:09:54.028Z"
   },
   {
    "duration": 129,
    "start_time": "2022-08-05T16:09:54.133Z"
   },
   {
    "duration": 352,
    "start_time": "2022-08-05T16:09:54.264Z"
   },
   {
    "duration": 4,
    "start_time": "2022-08-05T16:09:54.618Z"
   },
   {
    "duration": 12,
    "start_time": "2022-08-05T16:09:54.623Z"
   },
   {
    "duration": 252,
    "start_time": "2022-08-05T16:09:54.636Z"
   },
   {
    "duration": 8,
    "start_time": "2022-08-05T16:09:54.890Z"
   },
   {
    "duration": 130,
    "start_time": "2022-08-05T16:09:54.899Z"
   },
   {
    "duration": 1267,
    "start_time": "2022-08-05T16:09:55.031Z"
   },
   {
    "duration": 14,
    "start_time": "2022-08-05T16:09:56.299Z"
   },
   {
    "duration": 23,
    "start_time": "2022-08-05T16:09:56.315Z"
   },
   {
    "duration": 111,
    "start_time": "2022-08-05T16:09:56.355Z"
   },
   {
    "duration": 16,
    "start_time": "2022-08-05T16:09:56.467Z"
   },
   {
    "duration": 6,
    "start_time": "2022-08-05T16:09:56.484Z"
   },
   {
    "duration": 202,
    "start_time": "2022-08-05T16:09:56.491Z"
   },
   {
    "duration": 79,
    "start_time": "2022-08-05T16:09:56.695Z"
   },
   {
    "duration": 31,
    "start_time": "2022-08-05T16:09:56.776Z"
   },
   {
    "duration": 21,
    "start_time": "2022-08-05T16:09:56.809Z"
   },
   {
    "duration": 1,
    "start_time": "2022-08-05T16:09:56.832Z"
   },
   {
    "duration": 0,
    "start_time": "2022-08-05T16:09:56.834Z"
   },
   {
    "duration": 14,
    "start_time": "2022-08-05T16:10:21.092Z"
   },
   {
    "duration": 14,
    "start_time": "2022-08-05T16:11:18.243Z"
   },
   {
    "duration": 23,
    "start_time": "2022-08-05T16:13:59.299Z"
   },
   {
    "duration": 23,
    "start_time": "2022-08-05T16:14:31.399Z"
   },
   {
    "duration": 23,
    "start_time": "2022-08-05T16:15:51.933Z"
   },
   {
    "duration": 25,
    "start_time": "2022-08-05T16:15:58.652Z"
   },
   {
    "duration": 20,
    "start_time": "2022-08-05T16:16:24.771Z"
   },
   {
    "duration": 16,
    "start_time": "2022-08-05T16:26:10.801Z"
   },
   {
    "duration": 28,
    "start_time": "2022-08-05T16:28:25.844Z"
   },
   {
    "duration": 170,
    "start_time": "2022-08-05T16:29:34.938Z"
   },
   {
    "duration": 143,
    "start_time": "2022-08-05T16:30:39.898Z"
   },
   {
    "duration": 157,
    "start_time": "2022-08-05T16:31:12.337Z"
   },
   {
    "duration": 536,
    "start_time": "2022-08-05T16:31:49.193Z"
   },
   {
    "duration": 44,
    "start_time": "2022-08-05T16:33:20.444Z"
   },
   {
    "duration": 31,
    "start_time": "2022-08-05T16:34:07.524Z"
   },
   {
    "duration": 9,
    "start_time": "2022-08-05T16:42:40.282Z"
   },
   {
    "duration": 4,
    "start_time": "2022-08-05T16:43:17.138Z"
   },
   {
    "duration": 5,
    "start_time": "2022-08-05T16:43:25.960Z"
   },
   {
    "duration": 82,
    "start_time": "2022-08-05T16:46:03.105Z"
   },
   {
    "duration": 118,
    "start_time": "2022-08-05T16:47:08.001Z"
   },
   {
    "duration": 157,
    "start_time": "2022-08-05T16:47:20.490Z"
   },
   {
    "duration": 277,
    "start_time": "2022-08-05T16:48:01.147Z"
   },
   {
    "duration": 166,
    "start_time": "2022-08-05T16:48:48.616Z"
   },
   {
    "duration": 186,
    "start_time": "2022-08-05T16:49:48.323Z"
   },
   {
    "duration": 130,
    "start_time": "2022-08-05T16:52:06.269Z"
   },
   {
    "duration": 70,
    "start_time": "2022-08-05T16:53:33.079Z"
   },
   {
    "duration": 1552,
    "start_time": "2022-08-05T16:53:39.694Z"
   },
   {
    "duration": 142,
    "start_time": "2022-08-05T16:55:37.050Z"
   },
   {
    "duration": 126,
    "start_time": "2022-08-05T16:56:09.534Z"
   },
   {
    "duration": 119,
    "start_time": "2022-08-05T16:57:00.026Z"
   },
   {
    "duration": 140,
    "start_time": "2022-08-05T16:57:59.044Z"
   },
   {
    "duration": 191,
    "start_time": "2022-08-05T16:58:10.389Z"
   },
   {
    "duration": 200,
    "start_time": "2022-08-05T16:59:26.693Z"
   },
   {
    "duration": 178,
    "start_time": "2022-08-05T17:00:12.487Z"
   },
   {
    "duration": 8,
    "start_time": "2022-08-05T17:05:58.359Z"
   },
   {
    "duration": 21,
    "start_time": "2022-08-05T17:06:06.985Z"
   },
   {
    "duration": 8,
    "start_time": "2022-08-05T17:07:44.540Z"
   },
   {
    "duration": 73,
    "start_time": "2022-08-05T17:11:11.897Z"
   },
   {
    "duration": 94,
    "start_time": "2022-08-05T17:12:18.616Z"
   },
   {
    "duration": 79,
    "start_time": "2022-08-05T17:16:04.214Z"
   },
   {
    "duration": 78,
    "start_time": "2022-08-05T17:16:35.534Z"
   },
   {
    "duration": 79,
    "start_time": "2022-08-05T17:17:30.303Z"
   },
   {
    "duration": 383,
    "start_time": "2022-08-05T17:17:40.588Z"
   },
   {
    "duration": 84,
    "start_time": "2022-08-05T17:18:35.551Z"
   },
   {
    "duration": 99,
    "start_time": "2022-08-05T17:18:51.232Z"
   },
   {
    "duration": 80,
    "start_time": "2022-08-05T17:19:10.782Z"
   },
   {
    "duration": 98,
    "start_time": "2022-08-05T17:19:23.070Z"
   },
   {
    "duration": 86,
    "start_time": "2022-08-05T17:19:35.127Z"
   },
   {
    "duration": 80,
    "start_time": "2022-08-05T17:19:49.103Z"
   },
   {
    "duration": 80,
    "start_time": "2022-08-05T17:20:05.182Z"
   },
   {
    "duration": 80,
    "start_time": "2022-08-05T17:20:15.296Z"
   },
   {
    "duration": 92,
    "start_time": "2022-08-05T17:20:33.023Z"
   },
   {
    "duration": 78,
    "start_time": "2022-08-05T17:20:50.182Z"
   },
   {
    "duration": 79,
    "start_time": "2022-08-05T17:21:08.663Z"
   },
   {
    "duration": 80,
    "start_time": "2022-08-05T17:21:21.093Z"
   },
   {
    "duration": 89,
    "start_time": "2022-08-05T17:21:40.463Z"
   },
   {
    "duration": 86,
    "start_time": "2022-08-05T17:21:53.046Z"
   },
   {
    "duration": 82,
    "start_time": "2022-08-05T17:22:14.554Z"
   },
   {
    "duration": 97,
    "start_time": "2022-08-05T17:22:22.938Z"
   },
   {
    "duration": 82,
    "start_time": "2022-08-05T17:22:30.752Z"
   },
   {
    "duration": 90,
    "start_time": "2022-08-05T17:22:38.898Z"
   },
   {
    "duration": 77,
    "start_time": "2022-08-05T17:22:53.104Z"
   },
   {
    "duration": 80,
    "start_time": "2022-08-05T17:22:59.945Z"
   },
   {
    "duration": 102,
    "start_time": "2022-08-05T17:23:12.055Z"
   },
   {
    "duration": 79,
    "start_time": "2022-08-05T17:23:18.645Z"
   },
   {
    "duration": 92,
    "start_time": "2022-08-05T17:23:27.663Z"
   },
   {
    "duration": 80,
    "start_time": "2022-08-05T17:23:44.343Z"
   },
   {
    "duration": 10,
    "start_time": "2022-08-05T17:43:40.728Z"
   },
   {
    "duration": 13,
    "start_time": "2022-08-05T17:43:48.504Z"
   },
   {
    "duration": 44,
    "start_time": "2022-08-06T08:25:09.574Z"
   },
   {
    "duration": 1391,
    "start_time": "2022-08-06T08:25:13.866Z"
   },
   {
    "duration": 628,
    "start_time": "2022-08-06T08:25:15.259Z"
   },
   {
    "duration": 4,
    "start_time": "2022-08-06T08:25:15.889Z"
   },
   {
    "duration": 144,
    "start_time": "2022-08-06T08:25:15.895Z"
   },
   {
    "duration": 28,
    "start_time": "2022-08-06T08:25:16.040Z"
   },
   {
    "duration": 30,
    "start_time": "2022-08-06T08:25:16.070Z"
   },
   {
    "duration": 105,
    "start_time": "2022-08-06T08:25:16.102Z"
   },
   {
    "duration": 18,
    "start_time": "2022-08-06T08:25:16.209Z"
   },
   {
    "duration": 31,
    "start_time": "2022-08-06T08:25:16.229Z"
   },
   {
    "duration": 45,
    "start_time": "2022-08-06T08:25:16.262Z"
   },
   {
    "duration": 19,
    "start_time": "2022-08-06T08:25:16.308Z"
   },
   {
    "duration": 4,
    "start_time": "2022-08-06T08:25:16.328Z"
   },
   {
    "duration": 35,
    "start_time": "2022-08-06T08:25:16.333Z"
   },
   {
    "duration": 41,
    "start_time": "2022-08-06T08:25:16.370Z"
   },
   {
    "duration": 54,
    "start_time": "2022-08-06T08:25:16.413Z"
   },
   {
    "duration": 5,
    "start_time": "2022-08-06T08:25:16.468Z"
   },
   {
    "duration": 98,
    "start_time": "2022-08-06T08:25:16.475Z"
   },
   {
    "duration": 145,
    "start_time": "2022-08-06T08:25:16.575Z"
   },
   {
    "duration": 427,
    "start_time": "2022-08-06T08:25:16.722Z"
   },
   {
    "duration": 4,
    "start_time": "2022-08-06T08:25:17.151Z"
   },
   {
    "duration": 16,
    "start_time": "2022-08-06T08:25:17.156Z"
   },
   {
    "duration": 328,
    "start_time": "2022-08-06T08:25:17.173Z"
   },
   {
    "duration": 7,
    "start_time": "2022-08-06T08:25:17.502Z"
   },
   {
    "duration": 110,
    "start_time": "2022-08-06T08:25:17.510Z"
   },
   {
    "duration": 1135,
    "start_time": "2022-08-06T08:25:17.621Z"
   },
   {
    "duration": 16,
    "start_time": "2022-08-06T08:25:18.758Z"
   },
   {
    "duration": 38,
    "start_time": "2022-08-06T08:25:18.775Z"
   },
   {
    "duration": 124,
    "start_time": "2022-08-06T08:25:18.816Z"
   },
   {
    "duration": 101,
    "start_time": "2022-08-06T08:25:18.942Z"
   },
   {
    "duration": 9,
    "start_time": "2022-08-06T08:25:19.045Z"
   },
   {
    "duration": 202,
    "start_time": "2022-08-06T08:25:19.055Z"
   },
   {
    "duration": 62,
    "start_time": "2022-08-06T08:25:19.259Z"
   },
   {
    "duration": 27,
    "start_time": "2022-08-06T08:25:19.323Z"
   },
   {
    "duration": 54,
    "start_time": "2022-08-06T08:25:19.352Z"
   },
   {
    "duration": 5,
    "start_time": "2022-08-06T08:25:19.407Z"
   },
   {
    "duration": 98,
    "start_time": "2022-08-06T08:25:19.413Z"
   },
   {
    "duration": 177,
    "start_time": "2022-08-06T08:25:19.513Z"
   },
   {
    "duration": 9,
    "start_time": "2022-08-06T08:25:19.692Z"
   },
   {
    "duration": 124,
    "start_time": "2022-08-06T08:25:19.703Z"
   },
   {
    "duration": 46,
    "start_time": "2022-08-06T08:25:19.829Z"
   },
   {
    "duration": 0,
    "start_time": "2022-08-06T08:25:19.877Z"
   },
   {
    "duration": 48,
    "start_time": "2022-08-06T08:30:36.699Z"
   },
   {
    "duration": 27,
    "start_time": "2022-08-06T08:31:02.299Z"
   },
   {
    "duration": 2,
    "start_time": "2022-08-06T08:38:54.745Z"
   },
   {
    "duration": 178,
    "start_time": "2022-08-06T08:38:57.355Z"
   },
   {
    "duration": 29,
    "start_time": "2022-08-06T08:39:49.794Z"
   },
   {
    "duration": 54,
    "start_time": "2022-08-06T08:44:19.694Z"
   },
   {
    "duration": 2,
    "start_time": "2022-08-06T08:47:43.596Z"
   },
   {
    "duration": 381,
    "start_time": "2022-08-06T08:47:48.251Z"
   },
   {
    "duration": 3,
    "start_time": "2022-08-06T08:49:04.642Z"
   },
   {
    "duration": 432,
    "start_time": "2022-08-06T08:49:05.538Z"
   },
   {
    "duration": 8,
    "start_time": "2022-08-06T08:54:18.906Z"
   },
   {
    "duration": 8,
    "start_time": "2022-08-06T08:55:03.814Z"
   },
   {
    "duration": 10,
    "start_time": "2022-08-06T08:56:06.037Z"
   },
   {
    "duration": 11,
    "start_time": "2022-08-06T08:56:55.635Z"
   },
   {
    "duration": 1306,
    "start_time": "2022-08-06T12:10:48.363Z"
   },
   {
    "duration": 638,
    "start_time": "2022-08-06T12:10:49.671Z"
   },
   {
    "duration": 4,
    "start_time": "2022-08-06T12:10:50.310Z"
   },
   {
    "duration": 134,
    "start_time": "2022-08-06T12:10:50.316Z"
   },
   {
    "duration": 25,
    "start_time": "2022-08-06T12:10:50.452Z"
   },
   {
    "duration": 7,
    "start_time": "2022-08-06T12:10:50.478Z"
   },
   {
    "duration": 106,
    "start_time": "2022-08-06T12:10:50.486Z"
   },
   {
    "duration": 28,
    "start_time": "2022-08-06T12:10:50.594Z"
   },
   {
    "duration": 36,
    "start_time": "2022-08-06T12:10:50.624Z"
   },
   {
    "duration": 24,
    "start_time": "2022-08-06T12:10:50.663Z"
   },
   {
    "duration": 32,
    "start_time": "2022-08-06T12:10:50.689Z"
   },
   {
    "duration": 10,
    "start_time": "2022-08-06T12:10:50.723Z"
   },
   {
    "duration": 7,
    "start_time": "2022-08-06T12:10:50.734Z"
   },
   {
    "duration": 10,
    "start_time": "2022-08-06T12:10:50.743Z"
   },
   {
    "duration": 36,
    "start_time": "2022-08-06T12:10:50.754Z"
   },
   {
    "duration": 20,
    "start_time": "2022-08-06T12:10:50.792Z"
   },
   {
    "duration": 100,
    "start_time": "2022-08-06T12:10:50.813Z"
   },
   {
    "duration": 145,
    "start_time": "2022-08-06T12:10:50.915Z"
   },
   {
    "duration": 415,
    "start_time": "2022-08-06T12:10:51.061Z"
   },
   {
    "duration": 3,
    "start_time": "2022-08-06T12:10:51.478Z"
   },
   {
    "duration": 11,
    "start_time": "2022-08-06T12:10:51.482Z"
   },
   {
    "duration": 302,
    "start_time": "2022-08-06T12:10:51.494Z"
   },
   {
    "duration": 6,
    "start_time": "2022-08-06T12:10:51.797Z"
   },
   {
    "duration": 120,
    "start_time": "2022-08-06T12:10:51.804Z"
   },
   {
    "duration": 1228,
    "start_time": "2022-08-06T12:10:51.925Z"
   },
   {
    "duration": 13,
    "start_time": "2022-08-06T12:10:53.155Z"
   },
   {
    "duration": 24,
    "start_time": "2022-08-06T12:10:53.169Z"
   },
   {
    "duration": 126,
    "start_time": "2022-08-06T12:10:53.197Z"
   },
   {
    "duration": 66,
    "start_time": "2022-08-06T12:10:53.324Z"
   },
   {
    "duration": 10,
    "start_time": "2022-08-06T12:10:53.392Z"
   },
   {
    "duration": 204,
    "start_time": "2022-08-06T12:10:53.410Z"
   },
   {
    "duration": 49,
    "start_time": "2022-08-06T12:10:53.615Z"
   },
   {
    "duration": 25,
    "start_time": "2022-08-06T12:10:53.666Z"
   },
   {
    "duration": 28,
    "start_time": "2022-08-06T12:10:53.711Z"
   },
   {
    "duration": 105,
    "start_time": "2022-08-06T12:10:53.740Z"
   },
   {
    "duration": 184,
    "start_time": "2022-08-06T12:10:53.846Z"
   },
   {
    "duration": 8,
    "start_time": "2022-08-06T12:10:54.032Z"
   },
   {
    "duration": 75,
    "start_time": "2022-08-06T12:10:54.041Z"
   },
   {
    "duration": 0,
    "start_time": "2022-08-06T12:10:54.118Z"
   },
   {
    "duration": 9,
    "start_time": "2022-08-06T12:11:24.026Z"
   },
   {
    "duration": 103,
    "start_time": "2022-08-06T12:13:48.949Z"
   },
   {
    "duration": 3,
    "start_time": "2022-08-06T12:13:53.644Z"
   },
   {
    "duration": 240,
    "start_time": "2022-08-06T12:13:53.649Z"
   },
   {
    "duration": 4,
    "start_time": "2022-08-06T12:13:53.890Z"
   },
   {
    "duration": 114,
    "start_time": "2022-08-06T12:13:53.895Z"
   },
   {
    "duration": 21,
    "start_time": "2022-08-06T12:13:54.011Z"
   },
   {
    "duration": 7,
    "start_time": "2022-08-06T12:13:54.033Z"
   },
   {
    "duration": 90,
    "start_time": "2022-08-06T12:13:54.041Z"
   },
   {
    "duration": 19,
    "start_time": "2022-08-06T12:13:54.133Z"
   },
   {
    "duration": 31,
    "start_time": "2022-08-06T12:13:54.154Z"
   },
   {
    "duration": 38,
    "start_time": "2022-08-06T12:13:54.186Z"
   },
   {
    "duration": 16,
    "start_time": "2022-08-06T12:13:54.225Z"
   },
   {
    "duration": 3,
    "start_time": "2022-08-06T12:13:54.243Z"
   },
   {
    "duration": 8,
    "start_time": "2022-08-06T12:13:54.247Z"
   },
   {
    "duration": 15,
    "start_time": "2022-08-06T12:13:54.258Z"
   },
   {
    "duration": 49,
    "start_time": "2022-08-06T12:13:54.275Z"
   },
   {
    "duration": 4,
    "start_time": "2022-08-06T12:13:54.326Z"
   },
   {
    "duration": 87,
    "start_time": "2022-08-06T12:13:54.331Z"
   },
   {
    "duration": 115,
    "start_time": "2022-08-06T12:13:54.420Z"
   },
   {
    "duration": 346,
    "start_time": "2022-08-06T12:13:54.537Z"
   },
   {
    "duration": 4,
    "start_time": "2022-08-06T12:13:54.885Z"
   },
   {
    "duration": 8,
    "start_time": "2022-08-06T12:13:54.890Z"
   },
   {
    "duration": 306,
    "start_time": "2022-08-06T12:13:54.910Z"
   },
   {
    "duration": 5,
    "start_time": "2022-08-06T12:13:55.218Z"
   },
   {
    "duration": 115,
    "start_time": "2022-08-06T12:13:55.225Z"
   },
   {
    "duration": 1210,
    "start_time": "2022-08-06T12:13:55.342Z"
   },
   {
    "duration": 14,
    "start_time": "2022-08-06T12:13:56.554Z"
   },
   {
    "duration": 23,
    "start_time": "2022-08-06T12:13:56.570Z"
   },
   {
    "duration": 105,
    "start_time": "2022-08-06T12:13:56.611Z"
   },
   {
    "duration": 75,
    "start_time": "2022-08-06T12:13:56.718Z"
   },
   {
    "duration": 17,
    "start_time": "2022-08-06T12:13:56.794Z"
   },
   {
    "duration": 199,
    "start_time": "2022-08-06T12:13:56.812Z"
   },
   {
    "duration": 48,
    "start_time": "2022-08-06T12:13:57.013Z"
   },
   {
    "duration": 26,
    "start_time": "2022-08-06T12:13:57.062Z"
   },
   {
    "duration": 44,
    "start_time": "2022-08-06T12:13:57.089Z"
   },
   {
    "duration": 97,
    "start_time": "2022-08-06T12:13:57.134Z"
   },
   {
    "duration": 187,
    "start_time": "2022-08-06T12:13:57.232Z"
   },
   {
    "duration": 10,
    "start_time": "2022-08-06T12:13:57.421Z"
   },
   {
    "duration": 10,
    "start_time": "2022-08-06T12:13:57.433Z"
   },
   {
    "duration": 0,
    "start_time": "2022-08-06T12:13:57.445Z"
   },
   {
    "duration": 6,
    "start_time": "2022-08-06T12:14:09.344Z"
   },
   {
    "duration": 10,
    "start_time": "2022-08-06T12:16:03.812Z"
   },
   {
    "duration": 10,
    "start_time": "2022-08-06T12:16:23.131Z"
   },
   {
    "duration": 12,
    "start_time": "2022-08-06T12:16:40.252Z"
   },
   {
    "duration": 10,
    "start_time": "2022-08-06T12:16:56.211Z"
   },
   {
    "duration": 12,
    "start_time": "2022-08-06T12:17:36.131Z"
   },
   {
    "duration": 13,
    "start_time": "2022-08-06T12:17:42.686Z"
   },
   {
    "duration": 9,
    "start_time": "2022-08-06T12:17:53.196Z"
   },
   {
    "duration": 10,
    "start_time": "2022-08-06T12:18:51.365Z"
   },
   {
    "duration": 11,
    "start_time": "2022-08-06T12:19:39.422Z"
   },
   {
    "duration": 13,
    "start_time": "2022-08-06T12:20:31.293Z"
   },
   {
    "duration": 12,
    "start_time": "2022-08-06T12:21:01.735Z"
   },
   {
    "duration": 10,
    "start_time": "2022-08-06T12:24:03.746Z"
   },
   {
    "duration": 12,
    "start_time": "2022-08-06T12:25:54.283Z"
   },
   {
    "duration": 8,
    "start_time": "2022-08-06T12:32:31.365Z"
   },
   {
    "duration": 110,
    "start_time": "2022-08-06T12:32:59.244Z"
   },
   {
    "duration": 8,
    "start_time": "2022-08-06T12:33:33.375Z"
   },
   {
    "duration": 11,
    "start_time": "2022-08-06T12:34:00.390Z"
   },
   {
    "duration": 190,
    "start_time": "2022-08-06T12:34:19.635Z"
   },
   {
    "duration": 228,
    "start_time": "2022-08-06T12:34:41.556Z"
   },
   {
    "duration": 137,
    "start_time": "2022-08-06T12:34:51.081Z"
   },
   {
    "duration": 13,
    "start_time": "2022-08-06T12:36:07.866Z"
   },
   {
    "duration": 13,
    "start_time": "2022-08-06T12:36:15.996Z"
   },
   {
    "duration": 63,
    "start_time": "2022-08-06T12:36:58.935Z"
   },
   {
    "duration": 13,
    "start_time": "2022-08-06T12:37:27.205Z"
   },
   {
    "duration": 14,
    "start_time": "2022-08-06T12:38:39.176Z"
   },
   {
    "duration": 13,
    "start_time": "2022-08-06T12:38:47.295Z"
   },
   {
    "duration": 22,
    "start_time": "2022-08-06T12:39:10.307Z"
   },
   {
    "duration": 12,
    "start_time": "2022-08-06T12:45:11.404Z"
   },
   {
    "duration": 13,
    "start_time": "2022-08-06T12:52:13.429Z"
   },
   {
    "duration": 9,
    "start_time": "2022-08-06T12:52:28.109Z"
   },
   {
    "duration": 20,
    "start_time": "2022-08-06T12:53:57.881Z"
   },
   {
    "duration": 2,
    "start_time": "2022-08-06T12:58:55.940Z"
   },
   {
    "duration": 19,
    "start_time": "2022-08-06T12:59:12.106Z"
   },
   {
    "duration": 415,
    "start_time": "2022-08-06T12:59:28.620Z"
   },
   {
    "duration": 2,
    "start_time": "2022-08-06T13:00:16.936Z"
   },
   {
    "duration": 592,
    "start_time": "2022-08-06T13:00:20.757Z"
   },
   {
    "duration": 60,
    "start_time": "2022-08-06T13:02:25.719Z"
   },
   {
    "duration": 3,
    "start_time": "2022-08-06T13:02:38.018Z"
   },
   {
    "duration": 427,
    "start_time": "2022-08-06T13:02:38.920Z"
   },
   {
    "duration": 18,
    "start_time": "2022-08-06T13:03:23.539Z"
   },
   {
    "duration": 9,
    "start_time": "2022-08-06T13:05:46.757Z"
   },
   {
    "duration": 1120,
    "start_time": "2022-08-06T13:36:33.966Z"
   },
   {
    "duration": 241,
    "start_time": "2022-08-06T13:36:35.088Z"
   },
   {
    "duration": 4,
    "start_time": "2022-08-06T13:36:35.330Z"
   },
   {
    "duration": 145,
    "start_time": "2022-08-06T13:36:35.336Z"
   },
   {
    "duration": 29,
    "start_time": "2022-08-06T13:36:35.483Z"
   },
   {
    "duration": 9,
    "start_time": "2022-08-06T13:36:35.514Z"
   },
   {
    "duration": 102,
    "start_time": "2022-08-06T13:36:35.524Z"
   },
   {
    "duration": 22,
    "start_time": "2022-08-06T13:36:35.627Z"
   },
   {
    "duration": 32,
    "start_time": "2022-08-06T13:36:35.651Z"
   },
   {
    "duration": 42,
    "start_time": "2022-08-06T13:36:35.686Z"
   },
   {
    "duration": 16,
    "start_time": "2022-08-06T13:36:35.730Z"
   },
   {
    "duration": 3,
    "start_time": "2022-08-06T13:36:35.747Z"
   },
   {
    "duration": 5,
    "start_time": "2022-08-06T13:36:35.752Z"
   },
   {
    "duration": 13,
    "start_time": "2022-08-06T13:36:35.759Z"
   },
   {
    "duration": 51,
    "start_time": "2022-08-06T13:36:35.774Z"
   },
   {
    "duration": 4,
    "start_time": "2022-08-06T13:36:35.827Z"
   },
   {
    "duration": 95,
    "start_time": "2022-08-06T13:36:35.833Z"
   },
   {
    "duration": 142,
    "start_time": "2022-08-06T13:36:35.930Z"
   },
   {
    "duration": 437,
    "start_time": "2022-08-06T13:36:36.073Z"
   },
   {
    "duration": 4,
    "start_time": "2022-08-06T13:36:36.512Z"
   },
   {
    "duration": 7,
    "start_time": "2022-08-06T13:36:36.517Z"
   },
   {
    "duration": 313,
    "start_time": "2022-08-06T13:36:36.526Z"
   },
   {
    "duration": 5,
    "start_time": "2022-08-06T13:36:36.841Z"
   },
   {
    "duration": 115,
    "start_time": "2022-08-06T13:36:36.848Z"
   },
   {
    "duration": 1179,
    "start_time": "2022-08-06T13:36:36.964Z"
   },
   {
    "duration": 13,
    "start_time": "2022-08-06T13:36:38.144Z"
   },
   {
    "duration": 22,
    "start_time": "2022-08-06T13:36:38.158Z"
   },
   {
    "duration": 120,
    "start_time": "2022-08-06T13:36:38.183Z"
   },
   {
    "duration": 78,
    "start_time": "2022-08-06T13:36:38.304Z"
   },
   {
    "duration": 4,
    "start_time": "2022-08-06T13:36:38.384Z"
   },
   {
    "duration": 207,
    "start_time": "2022-08-06T13:36:38.389Z"
   },
   {
    "duration": 55,
    "start_time": "2022-08-06T13:36:38.597Z"
   },
   {
    "duration": 27,
    "start_time": "2022-08-06T13:36:38.654Z"
   },
   {
    "duration": 45,
    "start_time": "2022-08-06T13:36:38.682Z"
   },
   {
    "duration": 100,
    "start_time": "2022-08-06T13:36:38.729Z"
   },
   {
    "duration": 190,
    "start_time": "2022-08-06T13:36:38.832Z"
   },
   {
    "duration": 9,
    "start_time": "2022-08-06T13:36:39.024Z"
   },
   {
    "duration": 11,
    "start_time": "2022-08-06T13:36:39.035Z"
   },
   {
    "duration": 7,
    "start_time": "2022-08-06T13:36:39.048Z"
   },
   {
    "duration": 136,
    "start_time": "2022-08-06T13:36:39.056Z"
   },
   {
    "duration": 11,
    "start_time": "2022-08-06T13:38:34.452Z"
   },
   {
    "duration": 3,
    "start_time": "2022-08-06T13:49:50.521Z"
   },
   {
    "duration": 398,
    "start_time": "2022-08-06T13:49:52.928Z"
   },
   {
    "duration": 3,
    "start_time": "2022-08-06T13:53:47.633Z"
   },
   {
    "duration": 404,
    "start_time": "2022-08-06T13:53:50.285Z"
   },
   {
    "duration": 13,
    "start_time": "2022-08-06T13:56:59.971Z"
   },
   {
    "duration": 16,
    "start_time": "2022-08-06T13:57:42.763Z"
   },
   {
    "duration": 10,
    "start_time": "2022-08-06T13:58:06.643Z"
   },
   {
    "duration": 10,
    "start_time": "2022-08-06T13:58:28.322Z"
   },
   {
    "duration": 26,
    "start_time": "2022-08-06T14:27:22.882Z"
   },
   {
    "duration": 3,
    "start_time": "2022-08-06T14:27:37.549Z"
   },
   {
    "duration": 230,
    "start_time": "2022-08-06T14:27:37.554Z"
   },
   {
    "duration": 4,
    "start_time": "2022-08-06T14:27:37.786Z"
   },
   {
    "duration": 122,
    "start_time": "2022-08-06T14:27:37.791Z"
   },
   {
    "duration": 20,
    "start_time": "2022-08-06T14:27:37.915Z"
   },
   {
    "duration": 10,
    "start_time": "2022-08-06T14:27:37.936Z"
   },
   {
    "duration": 92,
    "start_time": "2022-08-06T14:27:37.947Z"
   },
   {
    "duration": 21,
    "start_time": "2022-08-06T14:27:38.041Z"
   },
   {
    "duration": 52,
    "start_time": "2022-08-06T14:27:38.063Z"
   },
   {
    "duration": 27,
    "start_time": "2022-08-06T14:27:38.117Z"
   },
   {
    "duration": 17,
    "start_time": "2022-08-06T14:27:38.146Z"
   },
   {
    "duration": 3,
    "start_time": "2022-08-06T14:27:38.164Z"
   },
   {
    "duration": 21,
    "start_time": "2022-08-06T14:27:38.169Z"
   },
   {
    "duration": 24,
    "start_time": "2022-08-06T14:27:38.191Z"
   },
   {
    "duration": 23,
    "start_time": "2022-08-06T14:27:38.216Z"
   },
   {
    "duration": 4,
    "start_time": "2022-08-06T14:27:38.240Z"
   },
   {
    "duration": 92,
    "start_time": "2022-08-06T14:27:38.246Z"
   },
   {
    "duration": 118,
    "start_time": "2022-08-06T14:27:38.340Z"
   },
   {
    "duration": 410,
    "start_time": "2022-08-06T14:27:38.459Z"
   },
   {
    "duration": 4,
    "start_time": "2022-08-06T14:27:38.870Z"
   },
   {
    "duration": 6,
    "start_time": "2022-08-06T14:27:38.877Z"
   },
   {
    "duration": 253,
    "start_time": "2022-08-06T14:27:38.885Z"
   },
   {
    "duration": 6,
    "start_time": "2022-08-06T14:27:39.140Z"
   },
   {
    "duration": 119,
    "start_time": "2022-08-06T14:27:39.147Z"
   },
   {
    "duration": 1301,
    "start_time": "2022-08-06T14:27:39.267Z"
   },
   {
    "duration": 14,
    "start_time": "2022-08-06T14:27:40.569Z"
   },
   {
    "duration": 36,
    "start_time": "2022-08-06T14:27:40.585Z"
   },
   {
    "duration": 109,
    "start_time": "2022-08-06T14:27:40.623Z"
   },
   {
    "duration": 25,
    "start_time": "2022-08-06T14:27:40.734Z"
   },
   {
    "duration": 3,
    "start_time": "2022-08-06T14:27:40.761Z"
   },
   {
    "duration": 211,
    "start_time": "2022-08-06T14:27:40.765Z"
   },
   {
    "duration": 63,
    "start_time": "2022-08-06T14:27:40.978Z"
   },
   {
    "duration": 28,
    "start_time": "2022-08-06T14:27:41.043Z"
   },
   {
    "duration": 46,
    "start_time": "2022-08-06T14:27:41.074Z"
   },
   {
    "duration": 97,
    "start_time": "2022-08-06T14:27:41.122Z"
   },
   {
    "duration": 199,
    "start_time": "2022-08-06T14:27:41.220Z"
   },
   {
    "duration": 11,
    "start_time": "2022-08-06T14:27:41.421Z"
   },
   {
    "duration": 13,
    "start_time": "2022-08-06T14:27:41.433Z"
   },
   {
    "duration": 16,
    "start_time": "2022-08-06T14:27:41.447Z"
   },
   {
    "duration": 22,
    "start_time": "2022-08-06T14:29:47.519Z"
   },
   {
    "duration": 1127,
    "start_time": "2022-08-06T14:29:58.036Z"
   },
   {
    "duration": 259,
    "start_time": "2022-08-06T14:29:59.165Z"
   },
   {
    "duration": 5,
    "start_time": "2022-08-06T14:29:59.425Z"
   },
   {
    "duration": 154,
    "start_time": "2022-08-06T14:29:59.433Z"
   },
   {
    "duration": 34,
    "start_time": "2022-08-06T14:29:59.589Z"
   },
   {
    "duration": 11,
    "start_time": "2022-08-06T14:29:59.625Z"
   },
   {
    "duration": 103,
    "start_time": "2022-08-06T14:29:59.637Z"
   },
   {
    "duration": 21,
    "start_time": "2022-08-06T14:29:59.742Z"
   },
   {
    "duration": 50,
    "start_time": "2022-08-06T14:29:59.764Z"
   },
   {
    "duration": 26,
    "start_time": "2022-08-06T14:29:59.816Z"
   },
   {
    "duration": 24,
    "start_time": "2022-08-06T14:29:59.843Z"
   },
   {
    "duration": 5,
    "start_time": "2022-08-06T14:29:59.869Z"
   },
   {
    "duration": 5,
    "start_time": "2022-08-06T14:29:59.876Z"
   },
   {
    "duration": 35,
    "start_time": "2022-08-06T14:29:59.882Z"
   },
   {
    "duration": 26,
    "start_time": "2022-08-06T14:29:59.919Z"
   },
   {
    "duration": 4,
    "start_time": "2022-08-06T14:29:59.947Z"
   },
   {
    "duration": 106,
    "start_time": "2022-08-06T14:29:59.952Z"
   },
   {
    "duration": 132,
    "start_time": "2022-08-06T14:30:00.059Z"
   },
   {
    "duration": 432,
    "start_time": "2022-08-06T14:30:00.192Z"
   },
   {
    "duration": 4,
    "start_time": "2022-08-06T14:30:00.625Z"
   },
   {
    "duration": 24,
    "start_time": "2022-08-06T14:30:00.630Z"
   },
   {
    "duration": 373,
    "start_time": "2022-08-06T14:30:00.656Z"
   },
   {
    "duration": 7,
    "start_time": "2022-08-06T14:30:01.031Z"
   },
   {
    "duration": 133,
    "start_time": "2022-08-06T14:30:01.040Z"
   },
   {
    "duration": 1380,
    "start_time": "2022-08-06T14:30:01.175Z"
   },
   {
    "duration": 19,
    "start_time": "2022-08-06T14:30:02.557Z"
   },
   {
    "duration": 43,
    "start_time": "2022-08-06T14:30:02.577Z"
   },
   {
    "duration": 151,
    "start_time": "2022-08-06T14:30:02.624Z"
   },
   {
    "duration": 107,
    "start_time": "2022-08-06T14:30:02.778Z"
   },
   {
    "duration": 3,
    "start_time": "2022-08-06T14:30:02.887Z"
   },
   {
    "duration": 231,
    "start_time": "2022-08-06T14:30:02.891Z"
   },
   {
    "duration": 59,
    "start_time": "2022-08-06T14:30:03.123Z"
   },
   {
    "duration": 48,
    "start_time": "2022-08-06T14:30:03.184Z"
   },
   {
    "duration": 47,
    "start_time": "2022-08-06T14:30:03.234Z"
   },
   {
    "duration": 105,
    "start_time": "2022-08-06T14:30:03.283Z"
   },
   {
    "duration": 229,
    "start_time": "2022-08-06T14:30:03.390Z"
   },
   {
    "duration": 9,
    "start_time": "2022-08-06T14:30:03.621Z"
   },
   {
    "duration": 12,
    "start_time": "2022-08-06T14:30:03.632Z"
   },
   {
    "duration": 135,
    "start_time": "2022-08-06T14:30:03.646Z"
   },
   {
    "duration": 2,
    "start_time": "2022-08-06T14:32:50.386Z"
   },
   {
    "duration": 2,
    "start_time": "2022-08-06T14:36:53.309Z"
   },
   {
    "duration": 14,
    "start_time": "2022-08-06T14:36:53.903Z"
   },
   {
    "duration": 3,
    "start_time": "2022-08-06T14:37:48.260Z"
   },
   {
    "duration": 243,
    "start_time": "2022-08-06T14:37:48.264Z"
   },
   {
    "duration": 3,
    "start_time": "2022-08-06T14:37:48.509Z"
   },
   {
    "duration": 117,
    "start_time": "2022-08-06T14:37:48.514Z"
   },
   {
    "duration": 20,
    "start_time": "2022-08-06T14:37:48.633Z"
   },
   {
    "duration": 9,
    "start_time": "2022-08-06T14:37:48.654Z"
   },
   {
    "duration": 95,
    "start_time": "2022-08-06T14:37:48.664Z"
   },
   {
    "duration": 20,
    "start_time": "2022-08-06T14:37:48.761Z"
   },
   {
    "duration": 37,
    "start_time": "2022-08-06T14:37:48.783Z"
   },
   {
    "duration": 25,
    "start_time": "2022-08-06T14:37:48.821Z"
   },
   {
    "duration": 18,
    "start_time": "2022-08-06T14:37:48.849Z"
   },
   {
    "duration": 4,
    "start_time": "2022-08-06T14:37:48.868Z"
   },
   {
    "duration": 12,
    "start_time": "2022-08-06T14:37:48.873Z"
   },
   {
    "duration": 30,
    "start_time": "2022-08-06T14:37:48.887Z"
   },
   {
    "duration": 20,
    "start_time": "2022-08-06T14:37:48.919Z"
   },
   {
    "duration": 4,
    "start_time": "2022-08-06T14:37:48.941Z"
   },
   {
    "duration": 105,
    "start_time": "2022-08-06T14:37:48.946Z"
   },
   {
    "duration": 117,
    "start_time": "2022-08-06T14:37:49.052Z"
   },
   {
    "duration": 415,
    "start_time": "2022-08-06T14:37:49.170Z"
   },
   {
    "duration": 4,
    "start_time": "2022-08-06T14:37:49.586Z"
   },
   {
    "duration": 20,
    "start_time": "2022-08-06T14:37:49.591Z"
   },
   {
    "duration": 248,
    "start_time": "2022-08-06T14:37:49.613Z"
   },
   {
    "duration": 5,
    "start_time": "2022-08-06T14:37:49.863Z"
   },
   {
    "duration": 111,
    "start_time": "2022-08-06T14:37:49.870Z"
   },
   {
    "duration": 1252,
    "start_time": "2022-08-06T14:37:49.983Z"
   },
   {
    "duration": 14,
    "start_time": "2022-08-06T14:37:51.236Z"
   },
   {
    "duration": 22,
    "start_time": "2022-08-06T14:37:51.252Z"
   },
   {
    "duration": 116,
    "start_time": "2022-08-06T14:37:51.276Z"
   },
   {
    "duration": 93,
    "start_time": "2022-08-06T14:37:51.395Z"
   },
   {
    "duration": 4,
    "start_time": "2022-08-06T14:37:51.489Z"
   },
   {
    "duration": 206,
    "start_time": "2022-08-06T14:37:51.494Z"
   },
   {
    "duration": 60,
    "start_time": "2022-08-06T14:37:51.701Z"
   },
   {
    "duration": 24,
    "start_time": "2022-08-06T14:37:51.763Z"
   },
   {
    "duration": 45,
    "start_time": "2022-08-06T14:37:51.789Z"
   },
   {
    "duration": 100,
    "start_time": "2022-08-06T14:37:51.836Z"
   },
   {
    "duration": 187,
    "start_time": "2022-08-06T14:37:51.937Z"
   },
   {
    "duration": 9,
    "start_time": "2022-08-06T14:37:52.125Z"
   },
   {
    "duration": 12,
    "start_time": "2022-08-06T14:37:52.135Z"
   },
   {
    "duration": 3,
    "start_time": "2022-08-06T14:37:52.148Z"
   },
   {
    "duration": 16,
    "start_time": "2022-08-06T14:37:52.153Z"
   },
   {
    "duration": 0,
    "start_time": "2022-08-06T14:37:52.171Z"
   },
   {
    "duration": 2,
    "start_time": "2022-08-06T14:38:57.551Z"
   },
   {
    "duration": 489,
    "start_time": "2022-08-06T14:38:59.621Z"
   },
   {
    "duration": 6,
    "start_time": "2022-08-06T14:40:02.950Z"
   },
   {
    "duration": 7,
    "start_time": "2022-08-06T14:41:38.750Z"
   },
   {
    "duration": 521,
    "start_time": "2022-08-06T14:41:49.459Z"
   },
   {
    "duration": 279,
    "start_time": "2022-08-06T14:42:33.972Z"
   },
   {
    "duration": 322,
    "start_time": "2022-08-06T14:45:03.775Z"
   },
   {
    "duration": 127,
    "start_time": "2022-08-06T14:45:12.095Z"
   },
   {
    "duration": 432,
    "start_time": "2022-08-06T14:46:10.335Z"
   },
   {
    "duration": 612,
    "start_time": "2022-08-06T14:48:37.650Z"
   },
   {
    "duration": 214,
    "start_time": "2022-08-06T14:53:46.270Z"
   },
   {
    "duration": 501,
    "start_time": "2022-08-06T14:53:52.527Z"
   },
   {
    "duration": 588,
    "start_time": "2022-08-06T15:00:06.267Z"
   },
   {
    "duration": 876,
    "start_time": "2022-08-06T15:07:57.037Z"
   },
   {
    "duration": 983,
    "start_time": "2022-08-06T15:08:11.326Z"
   },
   {
    "duration": 6,
    "start_time": "2022-08-06T15:08:30.647Z"
   },
   {
    "duration": 10,
    "start_time": "2022-08-06T15:10:44.987Z"
   },
   {
    "duration": 16,
    "start_time": "2022-08-06T15:13:07.177Z"
   },
   {
    "duration": 12,
    "start_time": "2022-08-06T15:14:28.926Z"
   },
   {
    "duration": 54,
    "start_time": "2022-08-06T15:14:54.127Z"
   },
   {
    "duration": 13,
    "start_time": "2022-08-06T15:15:41.643Z"
   },
   {
    "duration": 14,
    "start_time": "2022-08-06T15:16:11.477Z"
   },
   {
    "duration": 26,
    "start_time": "2022-08-06T15:16:37.397Z"
   },
   {
    "duration": 14,
    "start_time": "2022-08-06T15:17:04.136Z"
   },
   {
    "duration": 16,
    "start_time": "2022-08-06T15:17:10.447Z"
   },
   {
    "duration": 17,
    "start_time": "2022-08-06T15:19:46.149Z"
   },
   {
    "duration": 4,
    "start_time": "2022-08-06T15:34:52.337Z"
   },
   {
    "duration": 11,
    "start_time": "2022-08-06T15:35:59.969Z"
   },
   {
    "duration": 102,
    "start_time": "2022-08-06T15:37:30.977Z"
   },
   {
    "duration": 18,
    "start_time": "2022-08-06T15:40:21.386Z"
   },
   {
    "duration": 18,
    "start_time": "2022-08-06T15:40:37.496Z"
   },
   {
    "duration": 13,
    "start_time": "2022-08-06T15:42:07.116Z"
   },
   {
    "duration": 23,
    "start_time": "2022-08-06T15:42:18.994Z"
   },
   {
    "duration": 10,
    "start_time": "2022-08-06T15:43:48.949Z"
   },
   {
    "duration": 13,
    "start_time": "2022-08-06T15:49:31.024Z"
   },
   {
    "duration": 59,
    "start_time": "2022-08-06T15:50:13.843Z"
   },
   {
    "duration": 9,
    "start_time": "2022-08-06T15:50:19.728Z"
   },
   {
    "duration": 10,
    "start_time": "2022-08-06T15:52:20.684Z"
   },
   {
    "duration": 8,
    "start_time": "2022-08-06T15:52:50.146Z"
   },
   {
    "duration": 11,
    "start_time": "2022-08-06T15:53:26.855Z"
   },
   {
    "duration": 7,
    "start_time": "2022-08-06T15:53:34.974Z"
   },
   {
    "duration": 9,
    "start_time": "2022-08-06T15:54:27.715Z"
   },
   {
    "duration": 9,
    "start_time": "2022-08-06T15:54:47.852Z"
   },
   {
    "duration": 10,
    "start_time": "2022-08-06T15:55:37.485Z"
   },
   {
    "duration": 3,
    "start_time": "2022-08-06T16:02:24.095Z"
   },
   {
    "duration": 494,
    "start_time": "2022-08-06T16:03:23.555Z"
   },
   {
    "duration": 3,
    "start_time": "2022-08-06T16:05:58.064Z"
   },
   {
    "duration": 9,
    "start_time": "2022-08-06T16:06:49.995Z"
   },
   {
    "duration": 3,
    "start_time": "2022-08-06T16:14:13.514Z"
   },
   {
    "duration": 11,
    "start_time": "2022-08-06T16:14:29.276Z"
   },
   {
    "duration": 4,
    "start_time": "2022-08-06T16:16:53.701Z"
   },
   {
    "duration": 9,
    "start_time": "2022-08-06T16:16:55.295Z"
   },
   {
    "duration": 9,
    "start_time": "2022-08-06T16:18:13.894Z"
   },
   {
    "duration": 4,
    "start_time": "2022-08-06T16:18:33.355Z"
   },
   {
    "duration": 5,
    "start_time": "2022-08-06T16:18:39.035Z"
   },
   {
    "duration": 28,
    "start_time": "2022-08-06T16:19:06.894Z"
   },
   {
    "duration": 49,
    "start_time": "2022-08-06T16:23:15.350Z"
   },
   {
    "duration": 145,
    "start_time": "2022-08-06T16:23:25.985Z"
   },
   {
    "duration": 47,
    "start_time": "2022-08-06T16:24:01.053Z"
   },
   {
    "duration": 46,
    "start_time": "2022-08-06T16:27:10.486Z"
   },
   {
    "duration": 14,
    "start_time": "2022-08-06T16:28:24.125Z"
   },
   {
    "duration": 89,
    "start_time": "2022-08-06T16:28:51.785Z"
   },
   {
    "duration": 99,
    "start_time": "2022-08-06T16:29:12.677Z"
   },
   {
    "duration": 15,
    "start_time": "2022-08-06T16:35:33.168Z"
   },
   {
    "duration": 9,
    "start_time": "2022-08-06T16:42:46.853Z"
   },
   {
    "duration": 10,
    "start_time": "2022-08-06T16:43:51.593Z"
   },
   {
    "duration": 5,
    "start_time": "2022-08-06T16:45:05.595Z"
   },
   {
    "duration": 27,
    "start_time": "2022-08-06T16:45:39.563Z"
   },
   {
    "duration": 3,
    "start_time": "2022-08-06T16:47:33.307Z"
   },
   {
    "duration": 28,
    "start_time": "2022-08-06T16:47:35.546Z"
   },
   {
    "duration": 3,
    "start_time": "2022-08-06T16:47:51.782Z"
   },
   {
    "duration": 27,
    "start_time": "2022-08-06T16:47:56.215Z"
   },
   {
    "duration": 4,
    "start_time": "2022-08-06T16:56:39.301Z"
   },
   {
    "duration": 28,
    "start_time": "2022-08-06T16:56:41.203Z"
   },
   {
    "duration": 54,
    "start_time": "2022-08-06T17:06:09.978Z"
   },
   {
    "duration": 8,
    "start_time": "2022-08-06T17:10:01.613Z"
   },
   {
    "duration": 14,
    "start_time": "2022-08-06T17:10:08.787Z"
   },
   {
    "duration": 12,
    "start_time": "2022-08-06T17:12:41.690Z"
   },
   {
    "duration": 11,
    "start_time": "2022-08-06T17:13:31.807Z"
   },
   {
    "duration": 16,
    "start_time": "2022-08-06T17:16:36.647Z"
   },
   {
    "duration": 10,
    "start_time": "2022-08-06T17:16:50.458Z"
   },
   {
    "duration": 12,
    "start_time": "2022-08-06T17:30:19.533Z"
   },
   {
    "duration": 11,
    "start_time": "2022-08-06T17:30:49.469Z"
   },
   {
    "duration": 3,
    "start_time": "2022-08-06T17:35:05.345Z"
   },
   {
    "duration": 10,
    "start_time": "2022-08-06T17:35:05.878Z"
   },
   {
    "duration": 3,
    "start_time": "2022-08-06T17:35:14.113Z"
   },
   {
    "duration": 28,
    "start_time": "2022-08-06T17:35:14.750Z"
   },
   {
    "duration": 32,
    "start_time": "2022-08-06T17:37:36.121Z"
   },
   {
    "duration": 14,
    "start_time": "2022-08-06T17:40:08.585Z"
   },
   {
    "duration": 16,
    "start_time": "2022-08-06T17:40:33.018Z"
   },
   {
    "duration": 25,
    "start_time": "2022-08-06T17:41:14.011Z"
   },
   {
    "duration": 11,
    "start_time": "2022-08-06T17:43:47.181Z"
   },
   {
    "duration": 16,
    "start_time": "2022-08-06T17:48:14.562Z"
   },
   {
    "duration": 16,
    "start_time": "2022-08-06T17:48:22.128Z"
   },
   {
    "duration": 3,
    "start_time": "2022-08-06T18:02:08.037Z"
   },
   {
    "duration": 9,
    "start_time": "2022-08-06T18:02:38.673Z"
   },
   {
    "duration": 16,
    "start_time": "2022-08-06T18:12:15.289Z"
   },
   {
    "duration": 12,
    "start_time": "2022-08-06T18:13:07.618Z"
   },
   {
    "duration": 3,
    "start_time": "2022-08-06T18:13:29.491Z"
   },
   {
    "duration": 8,
    "start_time": "2022-08-06T18:13:43.985Z"
   },
   {
    "duration": 4,
    "start_time": "2022-08-06T18:13:50.267Z"
   },
   {
    "duration": 58,
    "start_time": "2022-08-07T03:21:43.001Z"
   },
   {
    "duration": 1661,
    "start_time": "2022-08-07T03:21:46.612Z"
   },
   {
    "duration": 915,
    "start_time": "2022-08-07T03:21:48.275Z"
   },
   {
    "duration": 6,
    "start_time": "2022-08-07T03:21:49.192Z"
   },
   {
    "duration": 217,
    "start_time": "2022-08-07T03:21:49.201Z"
   },
   {
    "duration": 32,
    "start_time": "2022-08-07T03:21:49.421Z"
   },
   {
    "duration": 9,
    "start_time": "2022-08-07T03:21:49.455Z"
   },
   {
    "duration": 126,
    "start_time": "2022-08-07T03:21:49.466Z"
   },
   {
    "duration": 25,
    "start_time": "2022-08-07T03:21:49.594Z"
   },
   {
    "duration": 35,
    "start_time": "2022-08-07T03:21:49.621Z"
   },
   {
    "duration": 60,
    "start_time": "2022-08-07T03:21:49.658Z"
   },
   {
    "duration": 22,
    "start_time": "2022-08-07T03:21:49.720Z"
   },
   {
    "duration": 5,
    "start_time": "2022-08-07T03:21:49.744Z"
   },
   {
    "duration": 10,
    "start_time": "2022-08-07T03:21:49.751Z"
   },
   {
    "duration": 26,
    "start_time": "2022-08-07T03:21:49.794Z"
   },
   {
    "duration": 36,
    "start_time": "2022-08-07T03:21:49.822Z"
   },
   {
    "duration": 5,
    "start_time": "2022-08-07T03:21:49.860Z"
   },
   {
    "duration": 131,
    "start_time": "2022-08-07T03:21:49.868Z"
   },
   {
    "duration": 163,
    "start_time": "2022-08-07T03:21:50.001Z"
   },
   {
    "duration": 535,
    "start_time": "2022-08-07T03:21:50.166Z"
   },
   {
    "duration": 4,
    "start_time": "2022-08-07T03:21:50.703Z"
   },
   {
    "duration": 8,
    "start_time": "2022-08-07T03:21:50.709Z"
   },
   {
    "duration": 380,
    "start_time": "2022-08-07T03:21:50.719Z"
   },
   {
    "duration": 7,
    "start_time": "2022-08-07T03:21:51.101Z"
   },
   {
    "duration": 139,
    "start_time": "2022-08-07T03:21:51.110Z"
   },
   {
    "duration": 1394,
    "start_time": "2022-08-07T03:21:51.251Z"
   },
   {
    "duration": 17,
    "start_time": "2022-08-07T03:21:52.646Z"
   },
   {
    "duration": 48,
    "start_time": "2022-08-07T03:21:52.665Z"
   },
   {
    "duration": 122,
    "start_time": "2022-08-07T03:21:52.715Z"
   },
   {
    "duration": 101,
    "start_time": "2022-08-07T03:21:52.839Z"
   },
   {
    "duration": 4,
    "start_time": "2022-08-07T03:21:52.942Z"
   },
   {
    "duration": 213,
    "start_time": "2022-08-07T03:21:52.948Z"
   },
   {
    "duration": 69,
    "start_time": "2022-08-07T03:21:53.163Z"
   },
   {
    "duration": 29,
    "start_time": "2022-08-07T03:21:53.234Z"
   },
   {
    "duration": 57,
    "start_time": "2022-08-07T03:21:53.265Z"
   },
   {
    "duration": 119,
    "start_time": "2022-08-07T03:21:53.324Z"
   },
   {
    "duration": 209,
    "start_time": "2022-08-07T03:21:53.445Z"
   },
   {
    "duration": 11,
    "start_time": "2022-08-07T03:21:53.656Z"
   },
   {
    "duration": 31,
    "start_time": "2022-08-07T03:21:53.669Z"
   },
   {
    "duration": 17,
    "start_time": "2022-08-07T03:21:53.702Z"
   },
   {
    "duration": 21,
    "start_time": "2022-08-07T03:21:53.721Z"
   },
   {
    "duration": 4,
    "start_time": "2022-08-07T03:21:53.746Z"
   },
   {
    "duration": 51,
    "start_time": "2022-08-07T03:21:53.751Z"
   },
   {
    "duration": 12,
    "start_time": "2022-08-07T03:21:53.803Z"
   },
   {
    "duration": 19,
    "start_time": "2022-08-07T03:21:53.817Z"
   },
   {
    "duration": 19,
    "start_time": "2022-08-07T03:21:53.838Z"
   },
   {
    "duration": 35,
    "start_time": "2022-08-07T03:21:53.859Z"
   },
   {
    "duration": 10,
    "start_time": "2022-08-07T03:21:53.896Z"
   },
   {
    "duration": 14,
    "start_time": "2022-08-07T03:21:53.908Z"
   },
   {
    "duration": 4,
    "start_time": "2022-08-07T03:21:53.923Z"
   },
   {
    "duration": 120,
    "start_time": "2022-08-07T03:21:53.928Z"
   },
   {
    "duration": 4,
    "start_time": "2022-08-07T03:23:26.391Z"
   },
   {
    "duration": 4,
    "start_time": "2022-08-07T03:27:32.879Z"
   },
   {
    "duration": 295,
    "start_time": "2022-08-07T03:27:32.887Z"
   },
   {
    "duration": 4,
    "start_time": "2022-08-07T03:27:33.185Z"
   },
   {
    "duration": 156,
    "start_time": "2022-08-07T03:27:33.191Z"
   },
   {
    "duration": 26,
    "start_time": "2022-08-07T03:27:33.349Z"
   },
   {
    "duration": 19,
    "start_time": "2022-08-07T03:27:33.376Z"
   },
   {
    "duration": 111,
    "start_time": "2022-08-07T03:27:33.398Z"
   },
   {
    "duration": 24,
    "start_time": "2022-08-07T03:27:33.511Z"
   },
   {
    "duration": 35,
    "start_time": "2022-08-07T03:27:33.537Z"
   },
   {
    "duration": 46,
    "start_time": "2022-08-07T03:27:33.574Z"
   },
   {
    "duration": 22,
    "start_time": "2022-08-07T03:27:33.623Z"
   },
   {
    "duration": 5,
    "start_time": "2022-08-07T03:27:33.646Z"
   },
   {
    "duration": 47,
    "start_time": "2022-08-07T03:27:33.653Z"
   },
   {
    "duration": 12,
    "start_time": "2022-08-07T03:27:33.702Z"
   },
   {
    "duration": 29,
    "start_time": "2022-08-07T03:27:33.716Z"
   },
   {
    "duration": 5,
    "start_time": "2022-08-07T03:27:33.746Z"
   },
   {
    "duration": 124,
    "start_time": "2022-08-07T03:27:33.752Z"
   },
   {
    "duration": 155,
    "start_time": "2022-08-07T03:27:33.877Z"
   },
   {
    "duration": 517,
    "start_time": "2022-08-07T03:27:34.034Z"
   },
   {
    "duration": 4,
    "start_time": "2022-08-07T03:27:34.553Z"
   },
   {
    "duration": 15,
    "start_time": "2022-08-07T03:27:34.559Z"
   },
   {
    "duration": 320,
    "start_time": "2022-08-07T03:27:34.576Z"
   },
   {
    "duration": 8,
    "start_time": "2022-08-07T03:27:34.897Z"
   },
   {
    "duration": 137,
    "start_time": "2022-08-07T03:27:34.907Z"
   },
   {
    "duration": 1362,
    "start_time": "2022-08-07T03:27:35.045Z"
   },
   {
    "duration": 16,
    "start_time": "2022-08-07T03:27:36.409Z"
   },
   {
    "duration": 28,
    "start_time": "2022-08-07T03:27:36.427Z"
   },
   {
    "duration": 146,
    "start_time": "2022-08-07T03:27:36.457Z"
   },
   {
    "duration": 104,
    "start_time": "2022-08-07T03:27:36.607Z"
   },
   {
    "duration": 21,
    "start_time": "2022-08-07T03:27:36.713Z"
   },
   {
    "duration": 246,
    "start_time": "2022-08-07T03:27:36.736Z"
   },
   {
    "duration": 67,
    "start_time": "2022-08-07T03:27:36.984Z"
   },
   {
    "duration": 50,
    "start_time": "2022-08-07T03:27:37.054Z"
   },
   {
    "duration": 37,
    "start_time": "2022-08-07T03:27:37.106Z"
   },
   {
    "duration": 132,
    "start_time": "2022-08-07T03:27:37.145Z"
   },
   {
    "duration": 227,
    "start_time": "2022-08-07T03:27:37.279Z"
   },
   {
    "duration": 11,
    "start_time": "2022-08-07T03:27:37.509Z"
   },
   {
    "duration": 29,
    "start_time": "2022-08-07T03:27:37.523Z"
   },
   {
    "duration": 49,
    "start_time": "2022-08-07T03:27:37.553Z"
   },
   {
    "duration": 13,
    "start_time": "2022-08-07T03:27:37.604Z"
   },
   {
    "duration": 24,
    "start_time": "2022-08-07T03:27:37.619Z"
   },
   {
    "duration": 44,
    "start_time": "2022-08-07T03:27:37.645Z"
   },
   {
    "duration": 12,
    "start_time": "2022-08-07T03:27:37.691Z"
   },
   {
    "duration": 36,
    "start_time": "2022-08-07T03:27:37.705Z"
   },
   {
    "duration": 20,
    "start_time": "2022-08-07T03:27:37.742Z"
   },
   {
    "duration": 22,
    "start_time": "2022-08-07T03:27:37.764Z"
   },
   {
    "duration": 19,
    "start_time": "2022-08-07T03:27:37.788Z"
   },
   {
    "duration": 18,
    "start_time": "2022-08-07T03:27:37.809Z"
   },
   {
    "duration": 5,
    "start_time": "2022-08-07T03:27:37.829Z"
   },
   {
    "duration": 25,
    "start_time": "2022-08-07T03:27:37.836Z"
   },
   {
    "duration": 1240,
    "start_time": "2022-08-07T03:28:08.053Z"
   },
   {
    "duration": 289,
    "start_time": "2022-08-07T03:28:09.295Z"
   },
   {
    "duration": 5,
    "start_time": "2022-08-07T03:28:09.586Z"
   },
   {
    "duration": 172,
    "start_time": "2022-08-07T03:28:09.593Z"
   },
   {
    "duration": 35,
    "start_time": "2022-08-07T03:28:09.767Z"
   },
   {
    "duration": 10,
    "start_time": "2022-08-07T03:28:09.804Z"
   },
   {
    "duration": 129,
    "start_time": "2022-08-07T03:28:09.816Z"
   },
   {
    "duration": 25,
    "start_time": "2022-08-07T03:28:09.947Z"
   },
   {
    "duration": 49,
    "start_time": "2022-08-07T03:28:09.974Z"
   },
   {
    "duration": 34,
    "start_time": "2022-08-07T03:28:10.027Z"
   },
   {
    "duration": 41,
    "start_time": "2022-08-07T03:28:10.063Z"
   },
   {
    "duration": 4,
    "start_time": "2022-08-07T03:28:10.106Z"
   },
   {
    "duration": 19,
    "start_time": "2022-08-07T03:28:10.112Z"
   },
   {
    "duration": 20,
    "start_time": "2022-08-07T03:28:10.133Z"
   },
   {
    "duration": 44,
    "start_time": "2022-08-07T03:28:10.154Z"
   },
   {
    "duration": 5,
    "start_time": "2022-08-07T03:28:10.200Z"
   },
   {
    "duration": 126,
    "start_time": "2022-08-07T03:28:10.206Z"
   },
   {
    "duration": 175,
    "start_time": "2022-08-07T03:28:10.334Z"
   },
   {
    "duration": 513,
    "start_time": "2022-08-07T03:28:10.510Z"
   },
   {
    "duration": 4,
    "start_time": "2022-08-07T03:28:11.025Z"
   },
   {
    "duration": 15,
    "start_time": "2022-08-07T03:28:11.031Z"
   },
   {
    "duration": 365,
    "start_time": "2022-08-07T03:28:11.048Z"
   },
   {
    "duration": 7,
    "start_time": "2022-08-07T03:28:11.415Z"
   },
   {
    "duration": 129,
    "start_time": "2022-08-07T03:28:11.424Z"
   },
   {
    "duration": 1293,
    "start_time": "2022-08-07T03:28:11.554Z"
   },
   {
    "duration": 16,
    "start_time": "2022-08-07T03:28:12.849Z"
   },
   {
    "duration": 37,
    "start_time": "2022-08-07T03:28:12.867Z"
   },
   {
    "duration": 146,
    "start_time": "2022-08-07T03:28:12.907Z"
   },
   {
    "duration": 106,
    "start_time": "2022-08-07T03:28:13.055Z"
   },
   {
    "duration": 25,
    "start_time": "2022-08-07T03:28:13.163Z"
   },
   {
    "duration": 208,
    "start_time": "2022-08-07T03:28:13.191Z"
   },
   {
    "duration": 66,
    "start_time": "2022-08-07T03:28:13.401Z"
   },
   {
    "duration": 48,
    "start_time": "2022-08-07T03:28:13.470Z"
   },
   {
    "duration": 37,
    "start_time": "2022-08-07T03:28:13.520Z"
   },
   {
    "duration": 124,
    "start_time": "2022-08-07T03:28:13.558Z"
   },
   {
    "duration": 224,
    "start_time": "2022-08-07T03:28:13.691Z"
   },
   {
    "duration": 10,
    "start_time": "2022-08-07T03:28:13.917Z"
   },
   {
    "duration": 15,
    "start_time": "2022-08-07T03:28:13.929Z"
   },
   {
    "duration": 17,
    "start_time": "2022-08-07T03:28:13.946Z"
   },
   {
    "duration": 40,
    "start_time": "2022-08-07T03:28:13.966Z"
   },
   {
    "duration": 4,
    "start_time": "2022-08-07T03:28:14.008Z"
   },
   {
    "duration": 37,
    "start_time": "2022-08-07T03:28:14.014Z"
   },
   {
    "duration": 39,
    "start_time": "2022-08-07T03:28:14.053Z"
   },
   {
    "duration": 28,
    "start_time": "2022-08-07T03:28:14.094Z"
   },
   {
    "duration": 28,
    "start_time": "2022-08-07T03:28:14.124Z"
   },
   {
    "duration": 26,
    "start_time": "2022-08-07T03:28:14.154Z"
   },
   {
    "duration": 11,
    "start_time": "2022-08-07T03:28:14.181Z"
   },
   {
    "duration": 29,
    "start_time": "2022-08-07T03:28:14.194Z"
   },
   {
    "duration": 5,
    "start_time": "2022-08-07T03:28:14.224Z"
   },
   {
    "duration": 124,
    "start_time": "2022-08-07T03:28:14.231Z"
   },
   {
    "duration": 142,
    "start_time": "2022-08-07T03:30:01.352Z"
   },
   {
    "duration": 561,
    "start_time": "2022-08-07T03:31:27.973Z"
   },
   {
    "duration": 520,
    "start_time": "2022-08-07T03:32:33.894Z"
   },
   {
    "duration": 233,
    "start_time": "2022-08-07T03:33:46.914Z"
   },
   {
    "duration": 496,
    "start_time": "2022-08-07T03:36:48.498Z"
   },
   {
    "duration": 21,
    "start_time": "2022-08-07T03:41:45.176Z"
   },
   {
    "duration": 22,
    "start_time": "2022-08-07T03:46:24.868Z"
   },
   {
    "duration": 18,
    "start_time": "2022-08-07T03:48:10.312Z"
   },
   {
    "duration": 17,
    "start_time": "2022-08-07T03:48:49.880Z"
   },
   {
    "duration": 14,
    "start_time": "2022-08-07T03:49:09.862Z"
   },
   {
    "duration": 16,
    "start_time": "2022-08-07T03:49:17.861Z"
   },
   {
    "duration": 9,
    "start_time": "2022-08-07T03:50:46.579Z"
   },
   {
    "duration": 17,
    "start_time": "2022-08-07T03:51:56.700Z"
   },
   {
    "duration": 17,
    "start_time": "2022-08-07T03:52:29.180Z"
   },
   {
    "duration": 16,
    "start_time": "2022-08-07T03:54:32.771Z"
   },
   {
    "duration": 1216,
    "start_time": "2022-08-07T03:55:12.421Z"
   },
   {
    "duration": 25,
    "start_time": "2022-08-07T03:55:56.883Z"
   },
   {
    "duration": 17,
    "start_time": "2022-08-07T03:57:13.911Z"
   },
   {
    "duration": 10,
    "start_time": "2022-08-07T03:58:56.308Z"
   },
   {
    "duration": 9,
    "start_time": "2022-08-07T03:59:05.192Z"
   },
   {
    "duration": 17,
    "start_time": "2022-08-07T03:59:16.191Z"
   },
   {
    "duration": 17,
    "start_time": "2022-08-07T03:59:23.552Z"
   },
   {
    "duration": 19,
    "start_time": "2022-08-07T03:59:35.571Z"
   },
   {
    "duration": 17,
    "start_time": "2022-08-07T03:59:48.379Z"
   },
   {
    "duration": 17,
    "start_time": "2022-08-07T04:01:05.572Z"
   },
   {
    "duration": 20,
    "start_time": "2022-08-07T04:01:26.751Z"
   },
   {
    "duration": 17,
    "start_time": "2022-08-07T04:01:54.580Z"
   },
   {
    "duration": 19,
    "start_time": "2022-08-07T04:02:38.332Z"
   },
   {
    "duration": 15,
    "start_time": "2022-08-07T04:05:10.824Z"
   },
   {
    "duration": 17,
    "start_time": "2022-08-07T04:05:38.111Z"
   },
   {
    "duration": 4,
    "start_time": "2022-08-07T04:21:26.149Z"
   },
   {
    "duration": 34,
    "start_time": "2022-08-07T04:22:57.413Z"
   },
   {
    "duration": 102,
    "start_time": "2022-08-07T04:23:41.700Z"
   },
   {
    "duration": 31,
    "start_time": "2022-08-07T04:23:49.692Z"
   },
   {
    "duration": 33,
    "start_time": "2022-08-07T04:24:03.131Z"
   },
   {
    "duration": 30,
    "start_time": "2022-08-07T04:24:30.729Z"
   },
   {
    "duration": 38,
    "start_time": "2022-08-07T04:25:44.482Z"
   },
   {
    "duration": 46,
    "start_time": "2022-08-07T06:47:57.045Z"
   },
   {
    "duration": 1438,
    "start_time": "2022-08-07T06:48:00.951Z"
   },
   {
    "duration": 652,
    "start_time": "2022-08-07T06:48:02.391Z"
   },
   {
    "duration": 4,
    "start_time": "2022-08-07T06:48:03.045Z"
   },
   {
    "duration": 147,
    "start_time": "2022-08-07T06:48:03.051Z"
   },
   {
    "duration": 30,
    "start_time": "2022-08-07T06:48:03.200Z"
   },
   {
    "duration": 8,
    "start_time": "2022-08-07T06:48:03.232Z"
   },
   {
    "duration": 108,
    "start_time": "2022-08-07T06:48:03.241Z"
   },
   {
    "duration": 21,
    "start_time": "2022-08-07T06:48:03.350Z"
   },
   {
    "duration": 48,
    "start_time": "2022-08-07T06:48:03.373Z"
   },
   {
    "duration": 31,
    "start_time": "2022-08-07T06:48:03.424Z"
   },
   {
    "duration": 18,
    "start_time": "2022-08-07T06:48:03.457Z"
   },
   {
    "duration": 33,
    "start_time": "2022-08-07T06:48:03.477Z"
   },
   {
    "duration": 9,
    "start_time": "2022-08-07T06:48:03.512Z"
   },
   {
    "duration": 14,
    "start_time": "2022-08-07T06:48:03.523Z"
   },
   {
    "duration": 33,
    "start_time": "2022-08-07T06:48:03.539Z"
   },
   {
    "duration": 4,
    "start_time": "2022-08-07T06:48:03.574Z"
   },
   {
    "duration": 140,
    "start_time": "2022-08-07T06:48:03.580Z"
   },
   {
    "duration": 141,
    "start_time": "2022-08-07T06:48:03.722Z"
   },
   {
    "duration": 467,
    "start_time": "2022-08-07T06:48:03.864Z"
   },
   {
    "duration": 4,
    "start_time": "2022-08-07T06:48:04.333Z"
   },
   {
    "duration": 10,
    "start_time": "2022-08-07T06:48:04.339Z"
   },
   {
    "duration": 346,
    "start_time": "2022-08-07T06:48:04.350Z"
   },
   {
    "duration": 15,
    "start_time": "2022-08-07T06:48:04.698Z"
   },
   {
    "duration": 107,
    "start_time": "2022-08-07T06:48:04.715Z"
   },
   {
    "duration": 1178,
    "start_time": "2022-08-07T06:48:04.824Z"
   },
   {
    "duration": 17,
    "start_time": "2022-08-07T06:48:06.004Z"
   },
   {
    "duration": 32,
    "start_time": "2022-08-07T06:48:06.024Z"
   },
   {
    "duration": 132,
    "start_time": "2022-08-07T06:48:06.059Z"
   },
   {
    "duration": 104,
    "start_time": "2022-08-07T06:48:06.192Z"
   },
   {
    "duration": 4,
    "start_time": "2022-08-07T06:48:06.298Z"
   },
   {
    "duration": 187,
    "start_time": "2022-08-07T06:48:06.309Z"
   },
   {
    "duration": 60,
    "start_time": "2022-08-07T06:48:06.497Z"
   },
   {
    "duration": 26,
    "start_time": "2022-08-07T06:48:06.559Z"
   },
   {
    "duration": 49,
    "start_time": "2022-08-07T06:48:06.586Z"
   },
   {
    "duration": 107,
    "start_time": "2022-08-07T06:48:06.636Z"
   },
   {
    "duration": 206,
    "start_time": "2022-08-07T06:48:06.745Z"
   },
   {
    "duration": 9,
    "start_time": "2022-08-07T06:48:06.953Z"
   },
   {
    "duration": 13,
    "start_time": "2022-08-07T06:48:06.964Z"
   },
   {
    "duration": 35,
    "start_time": "2022-08-07T06:48:06.978Z"
   },
   {
    "duration": 10,
    "start_time": "2022-08-07T06:48:07.015Z"
   },
   {
    "duration": 3,
    "start_time": "2022-08-07T06:48:07.026Z"
   },
   {
    "duration": 32,
    "start_time": "2022-08-07T06:48:07.030Z"
   },
   {
    "duration": 11,
    "start_time": "2022-08-07T06:48:07.064Z"
   },
   {
    "duration": 40,
    "start_time": "2022-08-07T06:48:07.077Z"
   },
   {
    "duration": 19,
    "start_time": "2022-08-07T06:48:07.119Z"
   },
   {
    "duration": 22,
    "start_time": "2022-08-07T06:48:07.140Z"
   },
   {
    "duration": 12,
    "start_time": "2022-08-07T06:48:07.164Z"
   },
   {
    "duration": 48,
    "start_time": "2022-08-07T06:48:07.178Z"
   },
   {
    "duration": 4,
    "start_time": "2022-08-07T06:48:07.228Z"
   },
   {
    "duration": 14,
    "start_time": "2022-08-07T06:48:07.234Z"
   },
   {
    "duration": 33,
    "start_time": "2022-08-07T06:48:07.250Z"
   },
   {
    "duration": 58,
    "start_time": "2022-08-07T06:48:07.285Z"
   },
   {
    "duration": 35,
    "start_time": "2022-08-07T06:48:07.345Z"
   },
   {
    "duration": 52,
    "start_time": "2022-08-07T06:48:07.382Z"
   },
   {
    "duration": 27,
    "start_time": "2022-08-07T06:48:07.436Z"
   },
   {
    "duration": 91,
    "start_time": "2022-08-07T06:48:07.464Z"
   },
   {
    "duration": 27,
    "start_time": "2022-08-07T06:57:30.453Z"
   },
   {
    "duration": 56,
    "start_time": "2022-08-07T07:01:55.053Z"
   },
   {
    "duration": 12,
    "start_time": "2022-08-07T07:02:00.222Z"
   },
   {
    "duration": 38,
    "start_time": "2022-08-07T07:03:37.667Z"
   },
   {
    "duration": 99,
    "start_time": "2022-08-07T07:03:54.672Z"
   },
   {
    "duration": 95,
    "start_time": "2022-08-07T07:04:21.326Z"
   },
   {
    "duration": 151,
    "start_time": "2022-08-07T07:04:38.122Z"
   },
   {
    "duration": 85,
    "start_time": "2022-08-07T07:09:21.260Z"
   },
   {
    "duration": 3,
    "start_time": "2022-08-07T07:13:03.535Z"
   },
   {
    "duration": 53,
    "start_time": "2022-08-07T07:13:14.326Z"
   },
   {
    "duration": 5,
    "start_time": "2022-08-07T07:16:44.445Z"
   },
   {
    "duration": 5,
    "start_time": "2022-08-07T07:16:50.217Z"
   },
   {
    "duration": 16,
    "start_time": "2022-08-07T07:16:57.356Z"
   },
   {
    "duration": 52,
    "start_time": "2022-08-07T07:19:42.992Z"
   },
   {
    "duration": 71,
    "start_time": "2022-08-07T07:27:40.834Z"
   },
   {
    "duration": 58,
    "start_time": "2022-08-07T07:28:21.688Z"
   },
   {
    "duration": 15,
    "start_time": "2022-08-07T07:29:00.580Z"
   },
   {
    "duration": 59,
    "start_time": "2022-08-07T07:31:41.187Z"
   },
   {
    "duration": 15,
    "start_time": "2022-08-07T07:32:12.185Z"
   },
   {
    "duration": 76,
    "start_time": "2022-08-07T07:37:29.394Z"
   },
   {
    "duration": 56,
    "start_time": "2022-08-07T07:38:04.610Z"
   },
   {
    "duration": 14,
    "start_time": "2022-08-07T07:38:42.654Z"
   },
   {
    "duration": 4,
    "start_time": "2022-08-07T07:42:46.588Z"
   },
   {
    "duration": 4,
    "start_time": "2022-08-07T07:43:56.212Z"
   },
   {
    "duration": 10,
    "start_time": "2022-08-07T07:50:34.173Z"
   },
   {
    "duration": 6,
    "start_time": "2022-08-07T07:51:04.408Z"
   },
   {
    "duration": 13,
    "start_time": "2022-08-07T07:51:27.597Z"
   },
   {
    "duration": 13,
    "start_time": "2022-08-07T07:51:50.525Z"
   },
   {
    "duration": 7,
    "start_time": "2022-08-07T07:52:21.622Z"
   },
   {
    "duration": 8,
    "start_time": "2022-08-07T07:54:11.783Z"
   },
   {
    "duration": 11,
    "start_time": "2022-08-07T07:55:27.315Z"
   },
   {
    "duration": 17,
    "start_time": "2022-08-07T07:55:36.354Z"
   },
   {
    "duration": 17,
    "start_time": "2022-08-07T07:57:14.467Z"
   },
   {
    "duration": 19,
    "start_time": "2022-08-07T07:58:53.583Z"
   },
   {
    "duration": 9,
    "start_time": "2022-08-07T08:06:16.956Z"
   },
   {
    "duration": 4,
    "start_time": "2022-08-07T08:06:24.370Z"
   },
   {
    "duration": 20,
    "start_time": "2022-08-07T08:08:46.348Z"
   },
   {
    "duration": 20,
    "start_time": "2022-08-07T08:10:06.523Z"
   },
   {
    "duration": 22,
    "start_time": "2022-08-07T08:10:36.514Z"
   },
   {
    "duration": 10,
    "start_time": "2022-08-07T08:11:08.146Z"
   },
   {
    "duration": 19,
    "start_time": "2022-08-07T08:11:24.973Z"
   },
   {
    "duration": 4,
    "start_time": "2022-08-07T08:11:34.533Z"
   },
   {
    "duration": 19,
    "start_time": "2022-08-07T08:14:32.987Z"
   },
   {
    "duration": 20,
    "start_time": "2022-08-07T08:19:32.588Z"
   },
   {
    "duration": 28,
    "start_time": "2022-08-07T08:29:55.039Z"
   },
   {
    "duration": 759,
    "start_time": "2022-08-07T08:31:42.499Z"
   },
   {
    "duration": 19,
    "start_time": "2022-08-07T08:31:56.050Z"
   },
   {
    "duration": 742,
    "start_time": "2022-08-07T08:40:13.663Z"
   },
   {
    "duration": 5,
    "start_time": "2022-08-07T08:40:33.216Z"
   },
   {
    "duration": 8,
    "start_time": "2022-08-07T08:40:43.247Z"
   },
   {
    "duration": 3,
    "start_time": "2022-08-07T08:43:41.346Z"
   },
   {
    "duration": 4,
    "start_time": "2022-08-07T08:44:05.308Z"
   },
   {
    "duration": 3,
    "start_time": "2022-08-07T08:51:49.053Z"
   },
   {
    "duration": 5,
    "start_time": "2022-08-07T08:51:52.892Z"
   },
   {
    "duration": 274,
    "start_time": "2022-08-07T08:51:52.900Z"
   },
   {
    "duration": 3,
    "start_time": "2022-08-07T08:51:53.176Z"
   },
   {
    "duration": 134,
    "start_time": "2022-08-07T08:51:53.181Z"
   },
   {
    "duration": 22,
    "start_time": "2022-08-07T08:51:53.317Z"
   },
   {
    "duration": 7,
    "start_time": "2022-08-07T08:51:53.341Z"
   },
   {
    "duration": 100,
    "start_time": "2022-08-07T08:51:53.350Z"
   },
   {
    "duration": 22,
    "start_time": "2022-08-07T08:51:53.451Z"
   },
   {
    "duration": 42,
    "start_time": "2022-08-07T08:51:53.474Z"
   },
   {
    "duration": 28,
    "start_time": "2022-08-07T08:51:53.518Z"
   },
   {
    "duration": 16,
    "start_time": "2022-08-07T08:51:53.548Z"
   },
   {
    "duration": 4,
    "start_time": "2022-08-07T08:51:53.565Z"
   },
   {
    "duration": 5,
    "start_time": "2022-08-07T08:51:53.571Z"
   },
   {
    "duration": 11,
    "start_time": "2022-08-07T08:51:53.608Z"
   },
   {
    "duration": 25,
    "start_time": "2022-08-07T08:51:53.620Z"
   },
   {
    "duration": 5,
    "start_time": "2022-08-07T08:51:53.646Z"
   },
   {
    "duration": 124,
    "start_time": "2022-08-07T08:51:53.653Z"
   },
   {
    "duration": 137,
    "start_time": "2022-08-07T08:51:53.779Z"
   },
   {
    "duration": 386,
    "start_time": "2022-08-07T08:51:53.918Z"
   },
   {
    "duration": 5,
    "start_time": "2022-08-07T08:51:54.308Z"
   },
   {
    "duration": 7,
    "start_time": "2022-08-07T08:51:54.315Z"
   },
   {
    "duration": 268,
    "start_time": "2022-08-07T08:51:54.324Z"
   },
   {
    "duration": 6,
    "start_time": "2022-08-07T08:51:54.594Z"
   },
   {
    "duration": 181,
    "start_time": "2022-08-07T08:51:54.609Z"
   },
   {
    "duration": 1170,
    "start_time": "2022-08-07T08:51:54.791Z"
   },
   {
    "duration": 17,
    "start_time": "2022-08-07T08:51:55.963Z"
   },
   {
    "duration": 51,
    "start_time": "2022-08-07T08:51:55.982Z"
   },
   {
    "duration": 114,
    "start_time": "2022-08-07T08:51:56.035Z"
   },
   {
    "duration": 104,
    "start_time": "2022-08-07T08:51:56.150Z"
   },
   {
    "duration": 10,
    "start_time": "2022-08-07T08:51:56.256Z"
   },
   {
    "duration": 192,
    "start_time": "2022-08-07T08:51:56.268Z"
   },
   {
    "duration": 67,
    "start_time": "2022-08-07T08:51:56.462Z"
   },
   {
    "duration": 25,
    "start_time": "2022-08-07T08:51:56.531Z"
   },
   {
    "duration": 53,
    "start_time": "2022-08-07T08:51:56.557Z"
   },
   {
    "duration": 83,
    "start_time": "2022-08-07T08:51:56.612Z"
   },
   {
    "duration": 195,
    "start_time": "2022-08-07T08:51:56.709Z"
   },
   {
    "duration": 9,
    "start_time": "2022-08-07T08:51:56.908Z"
   },
   {
    "duration": 16,
    "start_time": "2022-08-07T08:51:56.919Z"
   },
   {
    "duration": 16,
    "start_time": "2022-08-07T08:51:56.937Z"
   },
   {
    "duration": 12,
    "start_time": "2022-08-07T08:51:56.955Z"
   },
   {
    "duration": 5,
    "start_time": "2022-08-07T08:51:57.008Z"
   },
   {
    "duration": 37,
    "start_time": "2022-08-07T08:51:57.015Z"
   },
   {
    "duration": 12,
    "start_time": "2022-08-07T08:51:57.054Z"
   },
   {
    "duration": 11,
    "start_time": "2022-08-07T08:51:57.068Z"
   },
   {
    "duration": 41,
    "start_time": "2022-08-07T08:51:57.081Z"
   },
   {
    "duration": 16,
    "start_time": "2022-08-07T08:51:57.125Z"
   },
   {
    "duration": 10,
    "start_time": "2022-08-07T08:51:57.143Z"
   },
   {
    "duration": 15,
    "start_time": "2022-08-07T08:51:57.155Z"
   },
   {
    "duration": 37,
    "start_time": "2022-08-07T08:51:57.173Z"
   },
   {
    "duration": 11,
    "start_time": "2022-08-07T08:51:57.212Z"
   },
   {
    "duration": 40,
    "start_time": "2022-08-07T08:51:57.225Z"
   },
   {
    "duration": 68,
    "start_time": "2022-08-07T08:51:57.267Z"
   },
   {
    "duration": 39,
    "start_time": "2022-08-07T08:51:57.336Z"
   },
   {
    "duration": 53,
    "start_time": "2022-08-07T08:51:57.378Z"
   },
   {
    "duration": 34,
    "start_time": "2022-08-07T08:51:57.435Z"
   },
   {
    "duration": 77,
    "start_time": "2022-08-07T08:51:57.472Z"
   },
   {
    "duration": 17,
    "start_time": "2022-08-07T08:51:57.551Z"
   },
   {
    "duration": 8,
    "start_time": "2022-08-07T08:51:57.569Z"
   },
   {
    "duration": 5,
    "start_time": "2022-08-07T08:51:57.578Z"
   },
   {
    "duration": 25,
    "start_time": "2022-08-07T08:51:57.585Z"
   },
   {
    "duration": 13,
    "start_time": "2022-08-07T08:51:57.612Z"
   },
   {
    "duration": 6,
    "start_time": "2022-08-07T08:52:10.378Z"
   },
   {
    "duration": 4,
    "start_time": "2022-08-07T08:52:11.097Z"
   },
   {
    "duration": 8,
    "start_time": "2022-08-07T08:52:44.469Z"
   },
   {
    "duration": 4,
    "start_time": "2022-08-07T08:53:17.776Z"
   },
   {
    "duration": 10,
    "start_time": "2022-08-07T08:54:07.465Z"
   },
   {
    "duration": 4,
    "start_time": "2022-08-07T08:54:41.664Z"
   },
   {
    "duration": 6,
    "start_time": "2022-08-07T08:54:52.426Z"
   },
   {
    "duration": 4,
    "start_time": "2022-08-07T08:55:04.017Z"
   },
   {
    "duration": 10,
    "start_time": "2022-08-07T08:57:42.391Z"
   },
   {
    "duration": 5,
    "start_time": "2022-08-07T08:58:14.619Z"
   },
   {
    "duration": 4,
    "start_time": "2022-08-07T08:59:25.785Z"
   },
   {
    "duration": 3,
    "start_time": "2022-08-07T09:13:11.990Z"
   },
   {
    "duration": 13,
    "start_time": "2022-08-07T09:19:29.303Z"
   },
   {
    "duration": 4,
    "start_time": "2022-08-07T09:20:59.479Z"
   },
   {
    "duration": 293,
    "start_time": "2022-08-07T09:20:59.486Z"
   },
   {
    "duration": 4,
    "start_time": "2022-08-07T09:20:59.781Z"
   },
   {
    "duration": 148,
    "start_time": "2022-08-07T09:20:59.786Z"
   },
   {
    "duration": 22,
    "start_time": "2022-08-07T09:20:59.936Z"
   },
   {
    "duration": 8,
    "start_time": "2022-08-07T09:20:59.960Z"
   },
   {
    "duration": 110,
    "start_time": "2022-08-07T09:20:59.970Z"
   },
   {
    "duration": 35,
    "start_time": "2022-08-07T09:21:00.081Z"
   },
   {
    "duration": 34,
    "start_time": "2022-08-07T09:21:00.117Z"
   },
   {
    "duration": 32,
    "start_time": "2022-08-07T09:21:00.153Z"
   },
   {
    "duration": 40,
    "start_time": "2022-08-07T09:21:00.187Z"
   },
   {
    "duration": 4,
    "start_time": "2022-08-07T09:21:00.229Z"
   },
   {
    "duration": 7,
    "start_time": "2022-08-07T09:21:00.234Z"
   },
   {
    "duration": 22,
    "start_time": "2022-08-07T09:21:00.244Z"
   },
   {
    "duration": 55,
    "start_time": "2022-08-07T09:21:00.267Z"
   },
   {
    "duration": 5,
    "start_time": "2022-08-07T09:21:00.324Z"
   },
   {
    "duration": 115,
    "start_time": "2022-08-07T09:21:00.330Z"
   },
   {
    "duration": 123,
    "start_time": "2022-08-07T09:21:00.447Z"
   },
   {
    "duration": 407,
    "start_time": "2022-08-07T09:21:00.571Z"
   },
   {
    "duration": 4,
    "start_time": "2022-08-07T09:21:00.981Z"
   },
   {
    "duration": 51,
    "start_time": "2022-08-07T09:21:00.987Z"
   },
   {
    "duration": 353,
    "start_time": "2022-08-07T09:21:01.040Z"
   },
   {
    "duration": 22,
    "start_time": "2022-08-07T09:21:01.395Z"
   },
   {
    "duration": 127,
    "start_time": "2022-08-07T09:21:01.421Z"
   },
   {
    "duration": 1319,
    "start_time": "2022-08-07T09:21:01.550Z"
   },
   {
    "duration": 20,
    "start_time": "2022-08-07T09:21:02.871Z"
   },
   {
    "duration": 46,
    "start_time": "2022-08-07T09:21:02.893Z"
   },
   {
    "duration": 122,
    "start_time": "2022-08-07T09:21:02.941Z"
   },
   {
    "duration": 113,
    "start_time": "2022-08-07T09:21:03.065Z"
   },
   {
    "duration": 11,
    "start_time": "2022-08-07T09:21:03.180Z"
   },
   {
    "duration": 211,
    "start_time": "2022-08-07T09:21:03.193Z"
   },
   {
    "duration": 67,
    "start_time": "2022-08-07T09:21:03.406Z"
   },
   {
    "duration": 59,
    "start_time": "2022-08-07T09:21:03.475Z"
   },
   {
    "duration": 34,
    "start_time": "2022-08-07T09:21:03.536Z"
   },
   {
    "duration": 126,
    "start_time": "2022-08-07T09:21:03.572Z"
   },
   {
    "duration": 210,
    "start_time": "2022-08-07T09:21:03.700Z"
   },
   {
    "duration": 11,
    "start_time": "2022-08-07T09:21:03.922Z"
   },
   {
    "duration": 14,
    "start_time": "2022-08-07T09:21:03.936Z"
   },
   {
    "duration": 15,
    "start_time": "2022-08-07T09:21:03.952Z"
   },
   {
    "duration": 11,
    "start_time": "2022-08-07T09:21:03.969Z"
   },
   {
    "duration": 11,
    "start_time": "2022-08-07T09:21:04.010Z"
   },
   {
    "duration": 37,
    "start_time": "2022-08-07T09:21:04.022Z"
   },
   {
    "duration": 11,
    "start_time": "2022-08-07T09:21:04.061Z"
   },
   {
    "duration": 10,
    "start_time": "2022-08-07T09:21:04.074Z"
   },
   {
    "duration": 41,
    "start_time": "2022-08-07T09:21:04.086Z"
   },
   {
    "duration": 17,
    "start_time": "2022-08-07T09:21:04.129Z"
   },
   {
    "duration": 10,
    "start_time": "2022-08-07T09:21:04.147Z"
   },
   {
    "duration": 18,
    "start_time": "2022-08-07T09:21:04.159Z"
   },
   {
    "duration": 4,
    "start_time": "2022-08-07T09:21:04.178Z"
   },
   {
    "duration": 38,
    "start_time": "2022-08-07T09:21:04.184Z"
   },
   {
    "duration": 34,
    "start_time": "2022-08-07T09:21:04.223Z"
   },
   {
    "duration": 27,
    "start_time": "2022-08-07T09:21:04.258Z"
   },
   {
    "duration": 42,
    "start_time": "2022-08-07T09:21:04.287Z"
   },
   {
    "duration": 26,
    "start_time": "2022-08-07T09:21:04.331Z"
   },
   {
    "duration": 28,
    "start_time": "2022-08-07T09:21:04.359Z"
   },
   {
    "duration": 67,
    "start_time": "2022-08-07T09:21:04.409Z"
   },
   {
    "duration": 18,
    "start_time": "2022-08-07T09:21:04.478Z"
   },
   {
    "duration": 37,
    "start_time": "2022-08-07T09:21:04.497Z"
   },
   {
    "duration": 10,
    "start_time": "2022-08-07T09:21:04.536Z"
   },
   {
    "duration": 71,
    "start_time": "2022-08-07T09:23:45.509Z"
   },
   {
    "duration": 10,
    "start_time": "2022-08-07T09:28:51.288Z"
   },
   {
    "duration": 16,
    "start_time": "2022-08-07T09:29:22.671Z"
   },
   {
    "duration": 112,
    "start_time": "2022-08-07T09:29:29.689Z"
   },
   {
    "duration": 16,
    "start_time": "2022-08-07T09:33:51.668Z"
   },
   {
    "duration": 19,
    "start_time": "2022-08-07T09:34:20.289Z"
   },
   {
    "duration": 14,
    "start_time": "2022-08-07T09:34:52.558Z"
   },
   {
    "duration": 48,
    "start_time": "2022-08-07T09:35:16.854Z"
   },
   {
    "duration": 48,
    "start_time": "2022-08-07T09:35:35.463Z"
   },
   {
    "duration": 62,
    "start_time": "2022-08-07T09:35:45.237Z"
   },
   {
    "duration": 51,
    "start_time": "2022-08-07T09:35:54.623Z"
   },
   {
    "duration": 23,
    "start_time": "2022-08-07T09:36:01.912Z"
   },
   {
    "duration": 17,
    "start_time": "2022-08-07T09:36:27.287Z"
   },
   {
    "duration": 8,
    "start_time": "2022-08-07T09:36:50.111Z"
   },
   {
    "duration": 11,
    "start_time": "2022-08-07T09:36:54.014Z"
   },
   {
    "duration": 6,
    "start_time": "2022-08-07T09:37:15.023Z"
   },
   {
    "duration": 17,
    "start_time": "2022-08-07T09:37:45.494Z"
   },
   {
    "duration": 9,
    "start_time": "2022-08-07T09:38:05.815Z"
   },
   {
    "duration": 7,
    "start_time": "2022-08-07T09:38:10.348Z"
   },
   {
    "duration": 5,
    "start_time": "2022-08-07T09:39:13.965Z"
   },
   {
    "duration": 5,
    "start_time": "2022-08-07T09:39:37.012Z"
   },
   {
    "duration": 12,
    "start_time": "2022-08-07T12:12:28.927Z"
   },
   {
    "duration": 109,
    "start_time": "2022-08-07T12:13:25.276Z"
   },
   {
    "duration": 7,
    "start_time": "2022-08-07T12:13:30.911Z"
   },
   {
    "duration": 48,
    "start_time": "2022-08-07T12:15:20.681Z"
   },
   {
    "duration": 1527,
    "start_time": "2022-08-07T12:15:25.915Z"
   },
   {
    "duration": 895,
    "start_time": "2022-08-07T12:15:27.444Z"
   },
   {
    "duration": 5,
    "start_time": "2022-08-07T12:15:28.341Z"
   },
   {
    "duration": 163,
    "start_time": "2022-08-07T12:15:28.349Z"
   },
   {
    "duration": 31,
    "start_time": "2022-08-07T12:15:28.514Z"
   },
   {
    "duration": 11,
    "start_time": "2022-08-07T12:15:28.547Z"
   },
   {
    "duration": 131,
    "start_time": "2022-08-07T12:15:28.560Z"
   },
   {
    "duration": 25,
    "start_time": "2022-08-07T12:15:28.694Z"
   },
   {
    "duration": 34,
    "start_time": "2022-08-07T12:15:28.721Z"
   },
   {
    "duration": 54,
    "start_time": "2022-08-07T12:15:28.758Z"
   },
   {
    "duration": 20,
    "start_time": "2022-08-07T12:15:28.814Z"
   },
   {
    "duration": 4,
    "start_time": "2022-08-07T12:15:28.835Z"
   },
   {
    "duration": 7,
    "start_time": "2022-08-07T12:15:28.841Z"
   },
   {
    "duration": 13,
    "start_time": "2022-08-07T12:15:28.849Z"
   },
   {
    "duration": 29,
    "start_time": "2022-08-07T12:15:28.892Z"
   },
   {
    "duration": 5,
    "start_time": "2022-08-07T12:15:28.923Z"
   },
   {
    "duration": 133,
    "start_time": "2022-08-07T12:15:28.930Z"
   },
   {
    "duration": 163,
    "start_time": "2022-08-07T12:15:29.065Z"
   },
   {
    "duration": 566,
    "start_time": "2022-08-07T12:15:29.230Z"
   },
   {
    "duration": 4,
    "start_time": "2022-08-07T12:15:29.798Z"
   },
   {
    "duration": 9,
    "start_time": "2022-08-07T12:15:29.804Z"
   },
   {
    "duration": 397,
    "start_time": "2022-08-07T12:15:29.815Z"
   },
   {
    "duration": 8,
    "start_time": "2022-08-07T12:15:30.214Z"
   },
   {
    "duration": 142,
    "start_time": "2022-08-07T12:15:30.223Z"
   },
   {
    "duration": 1270,
    "start_time": "2022-08-07T12:15:30.367Z"
   },
   {
    "duration": 17,
    "start_time": "2022-08-07T12:15:31.638Z"
   },
   {
    "duration": 52,
    "start_time": "2022-08-07T12:15:31.657Z"
   },
   {
    "duration": 159,
    "start_time": "2022-08-07T12:15:31.714Z"
   },
   {
    "duration": 139,
    "start_time": "2022-08-07T12:15:31.875Z"
   },
   {
    "duration": 9,
    "start_time": "2022-08-07T12:15:32.017Z"
   },
   {
    "duration": 241,
    "start_time": "2022-08-07T12:15:32.028Z"
   },
   {
    "duration": 69,
    "start_time": "2022-08-07T12:15:32.271Z"
   },
   {
    "duration": 59,
    "start_time": "2022-08-07T12:15:32.342Z"
   },
   {
    "duration": 39,
    "start_time": "2022-08-07T12:15:32.403Z"
   },
   {
    "duration": 132,
    "start_time": "2022-08-07T12:15:32.444Z"
   },
   {
    "duration": 247,
    "start_time": "2022-08-07T12:15:32.578Z"
   },
   {
    "duration": 10,
    "start_time": "2022-08-07T12:15:32.827Z"
   },
   {
    "duration": 21,
    "start_time": "2022-08-07T12:15:32.839Z"
   },
   {
    "duration": 39,
    "start_time": "2022-08-07T12:15:32.863Z"
   },
   {
    "duration": 14,
    "start_time": "2022-08-07T12:15:32.904Z"
   },
   {
    "duration": 5,
    "start_time": "2022-08-07T12:15:32.919Z"
   },
   {
    "duration": 67,
    "start_time": "2022-08-07T12:15:32.926Z"
   },
   {
    "duration": 14,
    "start_time": "2022-08-07T12:15:32.995Z"
   },
   {
    "duration": 13,
    "start_time": "2022-08-07T12:15:33.011Z"
   },
   {
    "duration": 20,
    "start_time": "2022-08-07T12:15:33.027Z"
   },
   {
    "duration": 54,
    "start_time": "2022-08-07T12:15:33.050Z"
   },
   {
    "duration": 13,
    "start_time": "2022-08-07T12:15:33.107Z"
   },
   {
    "duration": 25,
    "start_time": "2022-08-07T12:15:33.122Z"
   },
   {
    "duration": 5,
    "start_time": "2022-08-07T12:15:33.150Z"
   },
   {
    "duration": 35,
    "start_time": "2022-08-07T12:15:33.157Z"
   },
   {
    "duration": 34,
    "start_time": "2022-08-07T12:15:33.194Z"
   },
   {
    "duration": 37,
    "start_time": "2022-08-07T12:15:33.230Z"
   },
   {
    "duration": 34,
    "start_time": "2022-08-07T12:15:33.291Z"
   },
   {
    "duration": 39,
    "start_time": "2022-08-07T12:15:33.327Z"
   },
   {
    "duration": 54,
    "start_time": "2022-08-07T12:15:33.368Z"
   },
   {
    "duration": 132,
    "start_time": "2022-08-07T12:15:33.424Z"
   },
   {
    "duration": 19,
    "start_time": "2022-08-07T12:15:33.558Z"
   },
   {
    "duration": 18,
    "start_time": "2022-08-07T12:15:33.579Z"
   },
   {
    "duration": 6,
    "start_time": "2022-08-07T12:15:33.599Z"
   },
   {
    "duration": 20,
    "start_time": "2022-08-07T12:15:33.607Z"
   },
   {
    "duration": 21,
    "start_time": "2022-08-07T12:15:33.629Z"
   },
   {
    "duration": 8,
    "start_time": "2022-08-07T12:15:33.651Z"
   },
   {
    "duration": 6,
    "start_time": "2022-08-07T12:15:50.550Z"
   },
   {
    "duration": 37,
    "start_time": "2022-08-07T12:15:55.283Z"
   },
   {
    "duration": 13,
    "start_time": "2022-08-07T12:19:05.713Z"
   },
   {
    "duration": 78,
    "start_time": "2022-08-07T12:22:57.766Z"
   },
   {
    "duration": 11,
    "start_time": "2022-08-07T12:24:12.975Z"
   },
   {
    "duration": 9,
    "start_time": "2022-08-07T12:24:59.703Z"
   },
   {
    "duration": 5,
    "start_time": "2022-08-07T12:25:09.124Z"
   },
   {
    "duration": 4,
    "start_time": "2022-08-07T12:25:21.372Z"
   },
   {
    "duration": 83,
    "start_time": "2022-08-07T12:26:18.134Z"
   },
   {
    "duration": 14,
    "start_time": "2022-08-07T12:26:32.054Z"
   },
   {
    "duration": 5,
    "start_time": "2022-08-07T12:26:36.864Z"
   },
   {
    "duration": 7,
    "start_time": "2022-08-07T12:27:12.130Z"
   },
   {
    "duration": 14,
    "start_time": "2022-08-07T12:27:17.793Z"
   },
   {
    "duration": 13,
    "start_time": "2022-08-07T12:27:50.324Z"
   },
   {
    "duration": 13,
    "start_time": "2022-08-07T12:28:23.425Z"
   },
   {
    "duration": 9,
    "start_time": "2022-08-07T12:29:05.533Z"
   },
   {
    "duration": 9,
    "start_time": "2022-08-07T12:29:35.221Z"
   },
   {
    "duration": 11,
    "start_time": "2022-08-07T12:29:57.653Z"
   },
   {
    "duration": 10,
    "start_time": "2022-08-07T12:30:15.421Z"
   },
   {
    "duration": 6,
    "start_time": "2022-08-07T12:37:26.602Z"
   },
   {
    "duration": 35,
    "start_time": "2022-08-07T12:37:26.611Z"
   },
   {
    "duration": 33,
    "start_time": "2022-08-07T12:37:26.649Z"
   },
   {
    "duration": 13,
    "start_time": "2022-08-07T12:37:26.683Z"
   },
   {
    "duration": 8,
    "start_time": "2022-08-07T12:37:26.698Z"
   },
   {
    "duration": 8,
    "start_time": "2022-08-07T12:37:26.708Z"
   },
   {
    "duration": 9,
    "start_time": "2022-08-07T12:37:26.718Z"
   },
   {
    "duration": 28,
    "start_time": "2022-08-07T12:37:26.728Z"
   },
   {
    "duration": 11,
    "start_time": "2022-08-07T12:37:26.758Z"
   },
   {
    "duration": 9,
    "start_time": "2022-08-07T12:37:54.724Z"
   },
   {
    "duration": 11,
    "start_time": "2022-08-07T12:37:56.508Z"
   },
   {
    "duration": 11,
    "start_time": "2022-08-07T12:38:06.275Z"
   },
   {
    "duration": 22,
    "start_time": "2022-08-07T12:38:25.324Z"
   },
   {
    "duration": 12,
    "start_time": "2022-08-07T12:38:40.444Z"
   },
   {
    "duration": 12,
    "start_time": "2022-08-07T12:38:54.443Z"
   },
   {
    "duration": 11,
    "start_time": "2022-08-07T12:39:13.700Z"
   },
   {
    "duration": 9,
    "start_time": "2022-08-07T12:39:25.260Z"
   },
   {
    "duration": 10,
    "start_time": "2022-08-07T12:40:12.036Z"
   },
   {
    "duration": 17,
    "start_time": "2022-08-07T12:40:14.308Z"
   },
   {
    "duration": 12,
    "start_time": "2022-08-07T12:40:22.988Z"
   },
   {
    "duration": 12,
    "start_time": "2022-08-07T12:40:30.798Z"
   },
   {
    "duration": 6,
    "start_time": "2022-08-07T12:41:04.041Z"
   },
   {
    "duration": 11,
    "start_time": "2022-08-07T12:42:54.900Z"
   },
   {
    "duration": 8,
    "start_time": "2022-08-07T12:43:01.765Z"
   },
   {
    "duration": 9,
    "start_time": "2022-08-07T12:43:09.228Z"
   },
   {
    "duration": 9,
    "start_time": "2022-08-07T12:43:24.405Z"
   },
   {
    "duration": 7,
    "start_time": "2022-08-07T12:46:19.116Z"
   },
   {
    "duration": 167,
    "start_time": "2022-08-07T12:51:21.252Z"
   },
   {
    "duration": 211,
    "start_time": "2022-08-07T12:52:59.259Z"
   },
   {
    "duration": 197,
    "start_time": "2022-08-07T12:54:35.275Z"
   },
   {
    "duration": 287,
    "start_time": "2022-08-07T12:55:43.272Z"
   },
   {
    "duration": 193,
    "start_time": "2022-08-07T12:56:27.800Z"
   },
   {
    "duration": 211,
    "start_time": "2022-08-07T12:57:35.763Z"
   },
   {
    "duration": 13,
    "start_time": "2022-08-07T13:00:15.151Z"
   },
   {
    "duration": 72,
    "start_time": "2022-08-07T13:01:03.906Z"
   },
   {
    "duration": 126,
    "start_time": "2022-08-07T13:55:03.126Z"
   },
   {
    "duration": 16,
    "start_time": "2022-08-07T13:55:38.925Z"
   },
   {
    "duration": 302,
    "start_time": "2022-08-07T14:04:27.174Z"
   },
   {
    "duration": 77,
    "start_time": "2022-08-07T14:05:20.434Z"
   },
   {
    "duration": 266,
    "start_time": "2022-08-07T14:05:55.854Z"
   },
   {
    "duration": 332,
    "start_time": "2022-08-07T14:06:32.473Z"
   },
   {
    "duration": 390,
    "start_time": "2022-08-07T14:07:00.804Z"
   },
   {
    "duration": 319,
    "start_time": "2022-08-07T14:08:05.444Z"
   },
   {
    "duration": 348,
    "start_time": "2022-08-07T14:08:19.205Z"
   },
   {
    "duration": 354,
    "start_time": "2022-08-07T14:08:33.793Z"
   },
   {
    "duration": 312,
    "start_time": "2022-08-07T14:08:44.464Z"
   },
   {
    "duration": 307,
    "start_time": "2022-08-07T14:08:56.073Z"
   },
   {
    "duration": 441,
    "start_time": "2022-08-07T14:21:07.896Z"
   },
   {
    "duration": 343,
    "start_time": "2022-08-07T14:21:14.703Z"
   },
   {
    "duration": 339,
    "start_time": "2022-08-07T14:21:33.364Z"
   },
   {
    "duration": 342,
    "start_time": "2022-08-07T14:24:34.964Z"
   },
   {
    "duration": 343,
    "start_time": "2022-08-07T14:24:44.516Z"
   },
   {
    "duration": 508,
    "start_time": "2022-08-07T14:25:21.901Z"
   },
   {
    "duration": 342,
    "start_time": "2022-08-07T14:26:05.958Z"
   },
   {
    "duration": 331,
    "start_time": "2022-08-07T14:26:50.124Z"
   },
   {
    "duration": 347,
    "start_time": "2022-08-07T14:28:42.375Z"
   },
   {
    "duration": 361,
    "start_time": "2022-08-07T14:29:12.284Z"
   },
   {
    "duration": 340,
    "start_time": "2022-08-07T14:29:48.035Z"
   },
   {
    "duration": 457,
    "start_time": "2022-08-07T14:33:30.382Z"
   },
   {
    "duration": 350,
    "start_time": "2022-08-07T14:33:42.496Z"
   },
   {
    "duration": 5,
    "start_time": "2022-08-07T14:34:02.333Z"
   },
   {
    "duration": 3,
    "start_time": "2022-08-07T14:34:36.545Z"
   },
   {
    "duration": 3,
    "start_time": "2022-08-07T14:34:39.362Z"
   },
   {
    "duration": 301,
    "start_time": "2022-08-07T14:34:39.371Z"
   },
   {
    "duration": 4,
    "start_time": "2022-08-07T14:34:39.675Z"
   },
   {
    "duration": 159,
    "start_time": "2022-08-07T14:34:39.682Z"
   },
   {
    "duration": 26,
    "start_time": "2022-08-07T14:34:39.843Z"
   },
   {
    "duration": 27,
    "start_time": "2022-08-07T14:34:39.871Z"
   },
   {
    "duration": 113,
    "start_time": "2022-08-07T14:34:39.900Z"
   },
   {
    "duration": 23,
    "start_time": "2022-08-07T14:34:40.015Z"
   },
   {
    "duration": 52,
    "start_time": "2022-08-07T14:34:40.040Z"
   },
   {
    "duration": 34,
    "start_time": "2022-08-07T14:34:40.093Z"
   },
   {
    "duration": 21,
    "start_time": "2022-08-07T14:34:40.129Z"
   },
   {
    "duration": 8,
    "start_time": "2022-08-07T14:34:40.152Z"
   },
   {
    "duration": 6,
    "start_time": "2022-08-07T14:34:40.191Z"
   },
   {
    "duration": 14,
    "start_time": "2022-08-07T14:34:40.198Z"
   },
   {
    "duration": 45,
    "start_time": "2022-08-07T14:34:40.215Z"
   },
   {
    "duration": 5,
    "start_time": "2022-08-07T14:34:40.262Z"
   },
   {
    "duration": 139,
    "start_time": "2022-08-07T14:34:40.269Z"
   },
   {
    "duration": 155,
    "start_time": "2022-08-07T14:34:40.410Z"
   },
   {
    "duration": 431,
    "start_time": "2022-08-07T14:34:40.567Z"
   },
   {
    "duration": 4,
    "start_time": "2022-08-07T14:34:41.000Z"
   },
   {
    "duration": 11,
    "start_time": "2022-08-07T14:34:41.006Z"
   },
   {
    "duration": 298,
    "start_time": "2022-08-07T14:34:41.018Z"
   },
   {
    "duration": 7,
    "start_time": "2022-08-07T14:34:41.318Z"
   },
   {
    "duration": 246,
    "start_time": "2022-08-07T14:34:41.328Z"
   },
   {
    "duration": 1380,
    "start_time": "2022-08-07T14:34:41.577Z"
   },
   {
    "duration": 17,
    "start_time": "2022-08-07T14:34:42.959Z"
   },
   {
    "duration": 40,
    "start_time": "2022-08-07T14:34:42.978Z"
   },
   {
    "duration": 131,
    "start_time": "2022-08-07T14:34:43.020Z"
   },
   {
    "duration": 123,
    "start_time": "2022-08-07T14:34:43.153Z"
   },
   {
    "duration": 7,
    "start_time": "2022-08-07T14:34:43.278Z"
   },
   {
    "duration": 211,
    "start_time": "2022-08-07T14:34:43.286Z"
   },
   {
    "duration": 64,
    "start_time": "2022-08-07T14:34:43.499Z"
   },
   {
    "duration": 46,
    "start_time": "2022-08-07T14:34:43.565Z"
   },
   {
    "duration": 33,
    "start_time": "2022-08-07T14:34:43.613Z"
   },
   {
    "duration": 122,
    "start_time": "2022-08-07T14:34:43.647Z"
   },
   {
    "duration": 225,
    "start_time": "2022-08-07T14:34:43.773Z"
   },
   {
    "duration": 12,
    "start_time": "2022-08-07T14:34:43.999Z"
   },
   {
    "duration": 43,
    "start_time": "2022-08-07T14:34:44.013Z"
   },
   {
    "duration": 32,
    "start_time": "2022-08-07T14:34:44.058Z"
   },
   {
    "duration": 12,
    "start_time": "2022-08-07T14:34:44.091Z"
   },
   {
    "duration": 22,
    "start_time": "2022-08-07T14:34:44.105Z"
   },
   {
    "duration": 43,
    "start_time": "2022-08-07T14:34:44.129Z"
   },
   {
    "duration": 13,
    "start_time": "2022-08-07T14:34:44.174Z"
   },
   {
    "duration": 18,
    "start_time": "2022-08-07T14:34:44.188Z"
   },
   {
    "duration": 18,
    "start_time": "2022-08-07T14:34:44.207Z"
   },
   {
    "duration": 17,
    "start_time": "2022-08-07T14:34:44.227Z"
   },
   {
    "duration": 10,
    "start_time": "2022-08-07T14:34:44.246Z"
   },
   {
    "duration": 42,
    "start_time": "2022-08-07T14:34:44.258Z"
   },
   {
    "duration": 5,
    "start_time": "2022-08-07T14:34:44.302Z"
   },
   {
    "duration": 17,
    "start_time": "2022-08-07T14:34:44.308Z"
   },
   {
    "duration": 31,
    "start_time": "2022-08-07T14:34:44.327Z"
   },
   {
    "duration": 212,
    "start_time": "2022-08-07T14:34:44.360Z"
   },
   {
    "duration": 42,
    "start_time": "2022-08-07T14:34:44.574Z"
   },
   {
    "duration": 201,
    "start_time": "2022-08-07T14:34:44.618Z"
   },
   {
    "duration": 32,
    "start_time": "2022-08-07T14:34:44.821Z"
   },
   {
    "duration": 221,
    "start_time": "2022-08-07T14:34:44.855Z"
   },
   {
    "duration": 41,
    "start_time": "2022-08-07T14:34:45.079Z"
   },
   {
    "duration": 31,
    "start_time": "2022-08-07T14:34:45.122Z"
   },
   {
    "duration": 217,
    "start_time": "2022-08-07T14:34:45.155Z"
   },
   {
    "duration": 201,
    "start_time": "2022-08-07T14:34:45.374Z"
   },
   {
    "duration": 487,
    "start_time": "2022-08-07T14:34:45.577Z"
   },
   {
    "duration": 73,
    "start_time": "2022-08-07T14:34:46.066Z"
   },
   {
    "duration": 18,
    "start_time": "2022-08-07T14:34:46.141Z"
   },
   {
    "duration": 19,
    "start_time": "2022-08-07T14:34:46.161Z"
   },
   {
    "duration": 24,
    "start_time": "2022-08-07T14:34:46.182Z"
   },
   {
    "duration": 12,
    "start_time": "2022-08-07T14:34:46.208Z"
   },
   {
    "duration": 25,
    "start_time": "2022-08-07T14:34:46.221Z"
   },
   {
    "duration": 11,
    "start_time": "2022-08-07T14:34:46.248Z"
   },
   {
    "duration": 9,
    "start_time": "2022-08-07T14:34:46.261Z"
   },
   {
    "duration": 23,
    "start_time": "2022-08-07T14:34:46.272Z"
   },
   {
    "duration": 9,
    "start_time": "2022-08-07T14:34:46.297Z"
   },
   {
    "duration": 12,
    "start_time": "2022-08-07T14:34:46.308Z"
   },
   {
    "duration": 9,
    "start_time": "2022-08-07T14:34:46.322Z"
   },
   {
    "duration": 357,
    "start_time": "2022-08-07T14:35:13.113Z"
   },
   {
    "duration": 343,
    "start_time": "2022-08-07T14:37:30.942Z"
   },
   {
    "duration": 215,
    "start_time": "2022-08-07T14:42:03.334Z"
   },
   {
    "duration": 229,
    "start_time": "2022-08-07T14:42:19.083Z"
   },
   {
    "duration": 193,
    "start_time": "2022-08-07T14:42:28.175Z"
   },
   {
    "duration": 24,
    "start_time": "2022-08-07T14:43:29.060Z"
   },
   {
    "duration": 302,
    "start_time": "2022-08-07T14:46:42.279Z"
   },
   {
    "duration": 535,
    "start_time": "2022-08-07T14:47:17.208Z"
   },
   {
    "duration": 528,
    "start_time": "2022-08-07T14:48:41.027Z"
   },
   {
    "duration": 637,
    "start_time": "2022-08-07T14:50:02.818Z"
   },
   {
    "duration": 536,
    "start_time": "2022-08-07T14:50:12.432Z"
   },
   {
    "duration": 531,
    "start_time": "2022-08-07T14:58:29.764Z"
   },
   {
    "duration": 336,
    "start_time": "2022-08-07T14:58:37.251Z"
   },
   {
    "duration": 796,
    "start_time": "2022-08-07T14:58:54.510Z"
   },
   {
    "duration": 1208,
    "start_time": "2022-08-07T14:59:07.105Z"
   },
   {
    "duration": 824,
    "start_time": "2022-08-07T15:00:12.755Z"
   },
   {
    "duration": 329,
    "start_time": "2022-08-07T15:06:01.225Z"
   },
   {
    "duration": 775,
    "start_time": "2022-08-07T15:06:20.845Z"
   },
   {
    "duration": 1617,
    "start_time": "2022-08-07T15:07:30.113Z"
   },
   {
    "duration": 1592,
    "start_time": "2022-08-07T15:08:07.565Z"
   },
   {
    "duration": 1658,
    "start_time": "2022-08-07T15:09:09.126Z"
   },
   {
    "duration": 1517,
    "start_time": "2022-08-07T15:09:29.958Z"
   },
   {
    "duration": 782,
    "start_time": "2022-08-07T15:10:17.639Z"
   },
   {
    "duration": 777,
    "start_time": "2022-08-07T15:10:59.128Z"
   },
   {
    "duration": 781,
    "start_time": "2022-08-07T15:11:59.185Z"
   },
   {
    "duration": 1669,
    "start_time": "2022-08-07T15:12:24.520Z"
   },
   {
    "duration": 1598,
    "start_time": "2022-08-07T15:12:39.354Z"
   },
   {
    "duration": 1845,
    "start_time": "2022-08-07T15:13:09.253Z"
   },
   {
    "duration": 1778,
    "start_time": "2022-08-07T15:14:04.700Z"
   },
   {
    "duration": 336,
    "start_time": "2022-08-07T15:15:06.569Z"
   },
   {
    "duration": 201,
    "start_time": "2022-08-07T15:15:23.229Z"
   },
   {
    "duration": 377,
    "start_time": "2022-08-07T15:16:52.419Z"
   },
   {
    "duration": 341,
    "start_time": "2022-08-07T15:17:56.437Z"
   },
   {
    "duration": 1914,
    "start_time": "2022-08-07T15:20:40.426Z"
   },
   {
    "duration": 71,
    "start_time": "2022-08-07T15:28:35.325Z"
   },
   {
    "duration": 63,
    "start_time": "2022-08-07T15:29:35.649Z"
   },
   {
    "duration": 71,
    "start_time": "2022-08-07T15:30:06.300Z"
   },
   {
    "duration": 61,
    "start_time": "2022-08-07T15:31:38.068Z"
   },
   {
    "duration": 2062,
    "start_time": "2022-08-07T15:38:59.972Z"
   },
   {
    "duration": 53,
    "start_time": "2022-08-07T15:39:16.477Z"
   },
   {
    "duration": 46,
    "start_time": "2022-08-07T15:39:44.339Z"
   },
   {
    "duration": 10,
    "start_time": "2022-08-07T15:59:52.919Z"
   },
   {
    "duration": 5,
    "start_time": "2022-08-07T15:59:56.620Z"
   },
   {
    "duration": 3,
    "start_time": "2022-08-07T16:02:51.610Z"
   },
   {
    "duration": 581,
    "start_time": "2022-08-07T16:04:01.729Z"
   },
   {
    "duration": 3,
    "start_time": "2022-08-07T16:04:36.339Z"
   },
   {
    "duration": 1079,
    "start_time": "2022-08-07T16:04:39.066Z"
   },
   {
    "duration": 4,
    "start_time": "2022-08-07T16:05:51.870Z"
   },
   {
    "duration": 15,
    "start_time": "2022-08-07T16:05:59.769Z"
   },
   {
    "duration": 131,
    "start_time": "2022-08-07T16:07:57.621Z"
   },
   {
    "duration": 3,
    "start_time": "2022-08-07T16:08:10.350Z"
   },
   {
    "duration": 1018,
    "start_time": "2022-08-07T16:08:20.430Z"
   },
   {
    "duration": 3,
    "start_time": "2022-08-07T16:09:10.940Z"
   },
   {
    "duration": 1063,
    "start_time": "2022-08-07T16:09:13.328Z"
   },
   {
    "duration": 3,
    "start_time": "2022-08-07T16:10:07.588Z"
   },
   {
    "duration": 979,
    "start_time": "2022-08-07T16:10:20.390Z"
   },
   {
    "duration": 23,
    "start_time": "2022-08-07T16:12:43.351Z"
   },
   {
    "duration": 23,
    "start_time": "2022-08-07T16:13:10.566Z"
   },
   {
    "duration": 20,
    "start_time": "2022-08-07T16:13:24.819Z"
   },
   {
    "duration": 19,
    "start_time": "2022-08-07T16:13:46.881Z"
   },
   {
    "duration": 13,
    "start_time": "2022-08-07T16:14:57.920Z"
   },
   {
    "duration": 21,
    "start_time": "2022-08-07T16:15:11.529Z"
   },
   {
    "duration": 21,
    "start_time": "2022-08-07T16:16:26.210Z"
   },
   {
    "duration": 34,
    "start_time": "2022-08-07T16:16:55.310Z"
   },
   {
    "duration": 26,
    "start_time": "2022-08-07T16:18:20.439Z"
   },
   {
    "duration": 28,
    "start_time": "2022-08-07T16:20:16.834Z"
   },
   {
    "duration": 20,
    "start_time": "2022-08-07T16:21:38.114Z"
   },
   {
    "duration": 12,
    "start_time": "2022-08-07T16:24:59.768Z"
   },
   {
    "duration": 24,
    "start_time": "2022-08-07T16:25:16.867Z"
   },
   {
    "duration": 21,
    "start_time": "2022-08-07T16:25:22.754Z"
   },
   {
    "duration": 159,
    "start_time": "2022-08-07T16:29:28.963Z"
   },
   {
    "duration": 15,
    "start_time": "2022-08-07T16:29:37.169Z"
   },
   {
    "duration": 24,
    "start_time": "2022-08-07T16:29:56.307Z"
   },
   {
    "duration": 40,
    "start_time": "2022-08-07T16:30:45.289Z"
   },
   {
    "duration": 25,
    "start_time": "2022-08-07T16:31:06.451Z"
   },
   {
    "duration": 24,
    "start_time": "2022-08-07T16:32:48.932Z"
   },
   {
    "duration": 26,
    "start_time": "2022-08-07T16:33:18.263Z"
   },
   {
    "duration": 4,
    "start_time": "2022-08-07T16:35:47.461Z"
   },
   {
    "duration": 33,
    "start_time": "2022-08-07T16:35:48.589Z"
   },
   {
    "duration": 11,
    "start_time": "2022-08-07T16:57:32.889Z"
   },
   {
    "duration": 10,
    "start_time": "2022-08-07T16:58:15.399Z"
   },
   {
    "duration": 10,
    "start_time": "2022-08-07T17:18:31.635Z"
   },
   {
    "duration": 5,
    "start_time": "2022-08-07T17:19:10.965Z"
   },
   {
    "duration": 13,
    "start_time": "2022-08-07T17:29:57.904Z"
   },
   {
    "duration": 10,
    "start_time": "2022-08-07T17:30:19.904Z"
   },
   {
    "duration": 8,
    "start_time": "2022-08-07T17:30:21.234Z"
   },
   {
    "duration": 9,
    "start_time": "2022-08-07T17:30:22.429Z"
   },
   {
    "duration": 8,
    "start_time": "2022-08-07T17:30:23.425Z"
   },
   {
    "duration": 10,
    "start_time": "2022-08-07T17:30:26.429Z"
   },
   {
    "duration": 8,
    "start_time": "2022-08-07T17:30:27.205Z"
   },
   {
    "duration": 1330,
    "start_time": "2022-08-07T18:10:42.290Z"
   },
   {
    "duration": 291,
    "start_time": "2022-08-07T18:10:43.622Z"
   },
   {
    "duration": 6,
    "start_time": "2022-08-07T18:10:43.915Z"
   },
   {
    "duration": 178,
    "start_time": "2022-08-07T18:10:43.924Z"
   },
   {
    "duration": 30,
    "start_time": "2022-08-07T18:10:44.104Z"
   },
   {
    "duration": 8,
    "start_time": "2022-08-07T18:10:44.136Z"
   },
   {
    "duration": 132,
    "start_time": "2022-08-07T18:10:44.146Z"
   },
   {
    "duration": 29,
    "start_time": "2022-08-07T18:10:44.281Z"
   },
   {
    "duration": 36,
    "start_time": "2022-08-07T18:10:44.312Z"
   },
   {
    "duration": 46,
    "start_time": "2022-08-07T18:10:44.351Z"
   },
   {
    "duration": 23,
    "start_time": "2022-08-07T18:10:44.399Z"
   },
   {
    "duration": 4,
    "start_time": "2022-08-07T18:10:44.424Z"
   },
   {
    "duration": 12,
    "start_time": "2022-08-07T18:10:44.429Z"
   },
   {
    "duration": 14,
    "start_time": "2022-08-07T18:10:44.443Z"
   },
   {
    "duration": 81,
    "start_time": "2022-08-07T18:10:44.459Z"
   },
   {
    "duration": 4,
    "start_time": "2022-08-07T18:10:44.542Z"
   },
   {
    "duration": 120,
    "start_time": "2022-08-07T18:10:44.548Z"
   },
   {
    "duration": 153,
    "start_time": "2022-08-07T18:10:44.670Z"
   },
   {
    "duration": 515,
    "start_time": "2022-08-07T18:10:44.824Z"
   },
   {
    "duration": 5,
    "start_time": "2022-08-07T18:10:45.341Z"
   },
   {
    "duration": 10,
    "start_time": "2022-08-07T18:10:45.348Z"
   },
   {
    "duration": 314,
    "start_time": "2022-08-07T18:10:45.360Z"
   },
   {
    "duration": 17,
    "start_time": "2022-08-07T18:10:45.676Z"
   },
   {
    "duration": 202,
    "start_time": "2022-08-07T18:10:45.694Z"
   },
   {
    "duration": 1253,
    "start_time": "2022-08-07T18:10:45.898Z"
   },
   {
    "duration": 18,
    "start_time": "2022-08-07T18:10:47.155Z"
   },
   {
    "duration": 38,
    "start_time": "2022-08-07T18:10:47.175Z"
   },
   {
    "duration": 141,
    "start_time": "2022-08-07T18:10:47.218Z"
   },
   {
    "duration": 108,
    "start_time": "2022-08-07T18:10:47.361Z"
   },
   {
    "duration": 8,
    "start_time": "2022-08-07T18:10:47.470Z"
   },
   {
    "duration": 225,
    "start_time": "2022-08-07T18:10:47.480Z"
   },
   {
    "duration": 63,
    "start_time": "2022-08-07T18:10:47.707Z"
   },
   {
    "duration": 47,
    "start_time": "2022-08-07T18:10:47.771Z"
   },
   {
    "duration": 35,
    "start_time": "2022-08-07T18:10:47.820Z"
   },
   {
    "duration": 137,
    "start_time": "2022-08-07T18:10:47.857Z"
   },
   {
    "duration": 215,
    "start_time": "2022-08-07T18:10:47.996Z"
   },
   {
    "duration": 11,
    "start_time": "2022-08-07T18:10:48.213Z"
   },
   {
    "duration": 16,
    "start_time": "2022-08-07T18:10:48.226Z"
   },
   {
    "duration": 16,
    "start_time": "2022-08-07T18:10:48.243Z"
   },
   {
    "duration": 40,
    "start_time": "2022-08-07T18:10:48.261Z"
   },
   {
    "duration": 5,
    "start_time": "2022-08-07T18:10:48.303Z"
   },
   {
    "duration": 46,
    "start_time": "2022-08-07T18:10:48.310Z"
   },
   {
    "duration": 13,
    "start_time": "2022-08-07T18:10:48.358Z"
   },
   {
    "duration": 28,
    "start_time": "2022-08-07T18:10:48.372Z"
   },
   {
    "duration": 19,
    "start_time": "2022-08-07T18:10:48.402Z"
   },
   {
    "duration": 18,
    "start_time": "2022-08-07T18:10:48.422Z"
   },
   {
    "duration": 26,
    "start_time": "2022-08-07T18:10:48.442Z"
   },
   {
    "duration": 37,
    "start_time": "2022-08-07T18:10:48.470Z"
   },
   {
    "duration": 19,
    "start_time": "2022-08-07T18:10:48.509Z"
   },
   {
    "duration": 201,
    "start_time": "2022-08-07T18:10:48.530Z"
   },
   {
    "duration": 356,
    "start_time": "2022-08-07T18:10:48.733Z"
   },
   {
    "duration": 372,
    "start_time": "2022-08-07T18:10:49.092Z"
   },
   {
    "duration": 1741,
    "start_time": "2022-08-07T18:10:49.466Z"
   },
   {
    "duration": 91,
    "start_time": "2022-08-07T18:10:51.209Z"
   },
   {
    "duration": 19,
    "start_time": "2022-08-07T18:10:51.302Z"
   },
   {
    "duration": 25,
    "start_time": "2022-08-07T18:10:51.323Z"
   },
   {
    "duration": 9,
    "start_time": "2022-08-07T18:10:51.350Z"
   },
   {
    "duration": 37,
    "start_time": "2022-08-07T18:10:51.361Z"
   },
   {
    "duration": 8,
    "start_time": "2022-08-07T18:10:51.400Z"
   },
   {
    "duration": 16,
    "start_time": "2022-08-07T18:10:51.410Z"
   },
   {
    "duration": 34,
    "start_time": "2022-08-07T18:10:51.428Z"
   },
   {
    "duration": 157,
    "start_time": "2022-08-07T18:10:51.464Z"
   },
   {
    "duration": 0,
    "start_time": "2022-08-07T18:10:51.623Z"
   },
   {
    "duration": 0,
    "start_time": "2022-08-07T18:10:51.624Z"
   },
   {
    "duration": 0,
    "start_time": "2022-08-07T18:10:51.626Z"
   },
   {
    "duration": 0,
    "start_time": "2022-08-07T18:10:51.627Z"
   },
   {
    "duration": 0,
    "start_time": "2022-08-07T18:10:51.628Z"
   },
   {
    "duration": 5,
    "start_time": "2022-08-07T18:15:06.551Z"
   },
   {
    "duration": 1732,
    "start_time": "2022-08-07T18:25:19.399Z"
   },
   {
    "duration": 1716,
    "start_time": "2022-08-07T18:25:42.465Z"
   },
   {
    "duration": 3,
    "start_time": "2022-08-07T18:36:51.067Z"
   },
   {
    "duration": 3,
    "start_time": "2022-08-07T18:36:54.005Z"
   },
   {
    "duration": 305,
    "start_time": "2022-08-07T18:36:54.010Z"
   },
   {
    "duration": 4,
    "start_time": "2022-08-07T18:36:54.318Z"
   },
   {
    "duration": 146,
    "start_time": "2022-08-07T18:36:54.323Z"
   },
   {
    "duration": 95,
    "start_time": "2022-08-07T18:36:54.472Z"
   },
   {
    "duration": 32,
    "start_time": "2022-08-07T18:36:54.569Z"
   },
   {
    "duration": 45,
    "start_time": "2022-08-07T18:36:54.603Z"
   },
   {
    "duration": 41,
    "start_time": "2022-08-07T18:36:54.650Z"
   },
   {
    "duration": 24,
    "start_time": "2022-08-07T18:36:54.693Z"
   },
   {
    "duration": 5,
    "start_time": "2022-08-07T18:36:54.719Z"
   },
   {
    "duration": 9,
    "start_time": "2022-08-07T18:36:54.728Z"
   },
   {
    "duration": 22,
    "start_time": "2022-08-07T18:36:54.739Z"
   },
   {
    "duration": 57,
    "start_time": "2022-08-07T18:36:54.763Z"
   },
   {
    "duration": 6,
    "start_time": "2022-08-07T18:36:54.823Z"
   },
   {
    "duration": 123,
    "start_time": "2022-08-07T18:36:54.831Z"
   },
   {
    "duration": 147,
    "start_time": "2022-08-07T18:36:54.955Z"
   },
   {
    "duration": 544,
    "start_time": "2022-08-07T18:36:55.104Z"
   },
   {
    "duration": 5,
    "start_time": "2022-08-07T18:36:55.649Z"
   },
   {
    "duration": 11,
    "start_time": "2022-08-07T18:36:55.656Z"
   },
   {
    "duration": 294,
    "start_time": "2022-08-07T18:36:55.669Z"
   },
   {
    "duration": 8,
    "start_time": "2022-08-07T18:36:55.964Z"
   },
   {
    "duration": 132,
    "start_time": "2022-08-07T18:36:55.973Z"
   },
   {
    "duration": 1362,
    "start_time": "2022-08-07T18:36:56.107Z"
   },
   {
    "duration": 21,
    "start_time": "2022-08-07T18:36:57.471Z"
   },
   {
    "duration": 28,
    "start_time": "2022-08-07T18:36:57.494Z"
   },
   {
    "duration": 145,
    "start_time": "2022-08-07T18:36:57.524Z"
   },
   {
    "duration": 38,
    "start_time": "2022-08-07T18:36:57.676Z"
   },
   {
    "duration": 7,
    "start_time": "2022-08-07T18:36:57.716Z"
   },
   {
    "duration": 241,
    "start_time": "2022-08-07T18:36:57.727Z"
   },
   {
    "duration": 71,
    "start_time": "2022-08-07T18:36:57.970Z"
   },
   {
    "duration": 49,
    "start_time": "2022-08-07T18:36:58.043Z"
   },
   {
    "duration": 33,
    "start_time": "2022-08-07T18:36:58.094Z"
   },
   {
    "duration": 126,
    "start_time": "2022-08-07T18:36:58.129Z"
   },
   {
    "duration": 220,
    "start_time": "2022-08-07T18:36:58.257Z"
   },
   {
    "duration": 15,
    "start_time": "2022-08-07T18:36:58.479Z"
   },
   {
    "duration": 23,
    "start_time": "2022-08-07T18:36:58.496Z"
   },
   {
    "duration": 23,
    "start_time": "2022-08-07T18:36:58.521Z"
   },
   {
    "duration": 11,
    "start_time": "2022-08-07T18:36:58.547Z"
   },
   {
    "duration": 19,
    "start_time": "2022-08-07T18:36:58.560Z"
   },
   {
    "duration": 56,
    "start_time": "2022-08-07T18:36:58.581Z"
   },
   {
    "duration": 12,
    "start_time": "2022-08-07T18:36:58.639Z"
   },
   {
    "duration": 20,
    "start_time": "2022-08-07T18:36:58.653Z"
   },
   {
    "duration": 23,
    "start_time": "2022-08-07T18:36:58.675Z"
   },
   {
    "duration": 17,
    "start_time": "2022-08-07T18:36:58.700Z"
   },
   {
    "duration": 10,
    "start_time": "2022-08-07T18:36:58.719Z"
   },
   {
    "duration": 15,
    "start_time": "2022-08-07T18:36:58.731Z"
   },
   {
    "duration": 3,
    "start_time": "2022-08-07T18:36:58.748Z"
   },
   {
    "duration": 239,
    "start_time": "2022-08-07T18:36:58.753Z"
   },
   {
    "duration": 470,
    "start_time": "2022-08-07T18:36:58.994Z"
   },
   {
    "duration": 353,
    "start_time": "2022-08-07T18:36:59.466Z"
   },
   {
    "duration": 1757,
    "start_time": "2022-08-07T18:36:59.820Z"
   },
   {
    "duration": 56,
    "start_time": "2022-08-07T18:37:01.579Z"
   },
   {
    "duration": 26,
    "start_time": "2022-08-07T18:37:01.638Z"
   },
   {
    "duration": 37,
    "start_time": "2022-08-07T18:37:01.666Z"
   },
   {
    "duration": 14,
    "start_time": "2022-08-07T18:37:01.705Z"
   },
   {
    "duration": 21,
    "start_time": "2022-08-07T18:37:01.721Z"
   },
   {
    "duration": 20,
    "start_time": "2022-08-07T18:37:01.744Z"
   },
   {
    "duration": 51,
    "start_time": "2022-08-07T18:37:01.766Z"
   },
   {
    "duration": 29,
    "start_time": "2022-08-07T18:37:01.819Z"
   },
   {
    "duration": 22,
    "start_time": "2022-08-07T18:37:01.851Z"
   },
   {
    "duration": 19,
    "start_time": "2022-08-07T18:37:01.875Z"
   },
   {
    "duration": 25,
    "start_time": "2022-08-07T18:37:01.897Z"
   },
   {
    "duration": 23,
    "start_time": "2022-08-07T18:37:01.924Z"
   },
   {
    "duration": 26,
    "start_time": "2022-08-07T18:37:01.950Z"
   },
   {
    "duration": 13,
    "start_time": "2022-08-07T18:37:01.978Z"
   },
   {
    "duration": 1296,
    "start_time": "2022-08-08T16:11:55.498Z"
   },
   {
    "duration": 591,
    "start_time": "2022-08-08T16:11:56.796Z"
   },
   {
    "duration": 4,
    "start_time": "2022-08-08T16:11:57.389Z"
   },
   {
    "duration": 133,
    "start_time": "2022-08-08T16:11:57.395Z"
   },
   {
    "duration": 101,
    "start_time": "2022-08-08T16:11:57.529Z"
   },
   {
    "duration": 19,
    "start_time": "2022-08-08T16:11:57.631Z"
   },
   {
    "duration": 35,
    "start_time": "2022-08-08T16:11:57.651Z"
   },
   {
    "duration": 32,
    "start_time": "2022-08-08T16:11:57.687Z"
   },
   {
    "duration": 20,
    "start_time": "2022-08-08T16:11:57.720Z"
   },
   {
    "duration": 3,
    "start_time": "2022-08-08T16:11:57.743Z"
   },
   {
    "duration": 6,
    "start_time": "2022-08-08T16:11:57.748Z"
   },
   {
    "duration": 19,
    "start_time": "2022-08-08T16:11:57.755Z"
   },
   {
    "duration": 46,
    "start_time": "2022-08-08T16:11:57.775Z"
   },
   {
    "duration": 4,
    "start_time": "2022-08-08T16:11:57.823Z"
   },
   {
    "duration": 141,
    "start_time": "2022-08-08T16:11:57.829Z"
   },
   {
    "duration": 151,
    "start_time": "2022-08-08T16:11:57.972Z"
   },
   {
    "duration": 684,
    "start_time": "2022-08-08T16:11:58.125Z"
   },
   {
    "duration": 5,
    "start_time": "2022-08-08T16:11:58.810Z"
   },
   {
    "duration": 35,
    "start_time": "2022-08-08T16:11:58.816Z"
   },
   {
    "duration": 548,
    "start_time": "2022-08-08T16:11:58.852Z"
   },
   {
    "duration": 6,
    "start_time": "2022-08-08T16:11:59.402Z"
   },
   {
    "duration": 335,
    "start_time": "2022-08-08T16:11:59.409Z"
   },
   {
    "duration": 1210,
    "start_time": "2022-08-08T16:11:59.746Z"
   },
   {
    "duration": 15,
    "start_time": "2022-08-08T16:12:00.957Z"
   },
   {
    "duration": 37,
    "start_time": "2022-08-08T16:12:00.974Z"
   },
   {
    "duration": 112,
    "start_time": "2022-08-08T16:12:01.012Z"
   },
   {
    "duration": 105,
    "start_time": "2022-08-08T16:12:01.125Z"
   },
   {
    "duration": 4,
    "start_time": "2022-08-08T16:12:01.233Z"
   },
   {
    "duration": 195,
    "start_time": "2022-08-08T16:12:01.238Z"
   },
   {
    "duration": 72,
    "start_time": "2022-08-08T16:12:01.435Z"
   },
   {
    "duration": 32,
    "start_time": "2022-08-08T16:12:01.509Z"
   },
   {
    "duration": 60,
    "start_time": "2022-08-08T16:12:01.543Z"
   },
   {
    "duration": 112,
    "start_time": "2022-08-08T16:12:01.604Z"
   },
   {
    "duration": 190,
    "start_time": "2022-08-08T16:12:01.717Z"
   },
   {
    "duration": 9,
    "start_time": "2022-08-08T16:12:01.908Z"
   },
   {
    "duration": 20,
    "start_time": "2022-08-08T16:12:01.918Z"
   },
   {
    "duration": 49,
    "start_time": "2022-08-08T16:12:01.940Z"
   },
   {
    "duration": 21,
    "start_time": "2022-08-08T16:12:01.991Z"
   },
   {
    "duration": 8,
    "start_time": "2022-08-08T16:12:02.014Z"
   },
   {
    "duration": 43,
    "start_time": "2022-08-08T16:12:02.023Z"
   },
   {
    "duration": 12,
    "start_time": "2022-08-08T16:12:02.067Z"
   },
   {
    "duration": 20,
    "start_time": "2022-08-08T16:12:02.081Z"
   },
   {
    "duration": 30,
    "start_time": "2022-08-08T16:12:02.103Z"
   },
   {
    "duration": 19,
    "start_time": "2022-08-08T16:12:02.135Z"
   },
   {
    "duration": 10,
    "start_time": "2022-08-08T16:12:02.156Z"
   },
   {
    "duration": 19,
    "start_time": "2022-08-08T16:12:02.168Z"
   },
   {
    "duration": 4,
    "start_time": "2022-08-08T16:12:02.200Z"
   },
   {
    "duration": 232,
    "start_time": "2022-08-08T16:12:02.206Z"
   },
   {
    "duration": 303,
    "start_time": "2022-08-08T16:12:02.439Z"
   },
   {
    "duration": 309,
    "start_time": "2022-08-08T16:12:02.743Z"
   },
   {
    "duration": 1536,
    "start_time": "2022-08-08T16:12:03.054Z"
   },
   {
    "duration": 75,
    "start_time": "2022-08-08T16:12:04.593Z"
   },
   {
    "duration": 17,
    "start_time": "2022-08-08T16:12:04.670Z"
   },
   {
    "duration": 20,
    "start_time": "2022-08-08T16:12:04.700Z"
   },
   {
    "duration": 10,
    "start_time": "2022-08-08T16:12:04.721Z"
   },
   {
    "duration": 12,
    "start_time": "2022-08-08T16:12:04.732Z"
   },
   {
    "duration": 5,
    "start_time": "2022-08-08T16:12:04.745Z"
   },
   {
    "duration": 15,
    "start_time": "2022-08-08T16:12:04.751Z"
   },
   {
    "duration": 19,
    "start_time": "2022-08-08T16:12:04.768Z"
   },
   {
    "duration": 8,
    "start_time": "2022-08-08T16:12:04.799Z"
   },
   {
    "duration": 12,
    "start_time": "2022-08-08T16:12:04.809Z"
   },
   {
    "duration": 10,
    "start_time": "2022-08-08T16:12:04.823Z"
   },
   {
    "duration": 11,
    "start_time": "2022-08-08T16:12:04.834Z"
   },
   {
    "duration": 33,
    "start_time": "2022-08-08T16:12:04.846Z"
   },
   {
    "duration": 9,
    "start_time": "2022-08-08T16:12:04.881Z"
   }
  ],
  "kernelspec": {
   "display_name": "Python 3 (ipykernel)",
   "language": "python",
   "name": "python3"
  },
  "language_info": {
   "codemirror_mode": {
    "name": "ipython",
    "version": 3
   },
   "file_extension": ".py",
   "mimetype": "text/x-python",
   "name": "python",
   "nbconvert_exporter": "python",
   "pygments_lexer": "ipython3",
   "version": "3.9.12"
  },
  "toc": {
   "base_numbering": 1,
   "nav_menu": {},
   "number_sections": true,
   "sideBar": true,
   "skip_h1_title": true,
   "title_cell": "Table of Contents",
   "title_sidebar": "Contents",
   "toc_cell": false,
   "toc_position": {
    "height": "calc(100% - 180px)",
    "left": "10px",
    "top": "150px",
    "width": "261.663px"
   },
   "toc_section_display": true,
   "toc_window_display": true
  }
 },
 "nbformat": 4,
 "nbformat_minor": 2
}
