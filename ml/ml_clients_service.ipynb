{
 "cells": [
  {
   "cell_type": "markdown",
   "metadata": {},
   "source": [
    "# Выработка стратегии взаимодействия с клиентами на основе аналитических данных"
   ]
  },
  {
   "cell_type": "markdown",
   "metadata": {},
   "source": [
    "## Описание проекта"
   ]
  },
  {
   "cell_type": "markdown",
   "metadata": {},
   "source": [
    "**Заказчик:**\n",
    "Сеть фитнес-центров «Культурист-датасаентист»\n",
    "\n",
    "**ЗАДАЧА**\n",
    "На основе аналитических данных подготовить план действий по удержанию клиентов, а именно:\n",
    "- научиться прогнозировать вероятность оттока (на уровне следующего месяца) для каждого клиента;\n",
    "- сформировать типичные портреты клиентов(выделить несколько наиболее ярких групп и охарактеризовать их основные свойства)\n",
    "- проанализировать основные признаки, наиболее сильно влияющие на отток\n",
    "- сформулировать основные выводы и разработать рекомендации по повышению качества работы с клиентами (выделить целевые группы клиентов, предложить меры по снижению оттока, определить другие особенности взаимодействия с клиентами).\n",
    "\n",
    "**Данные**\n",
    "\n",
    "Заказчик подготовил csv_таблицу, которая содержит данные на месяц до оттока и факт оттока на определённый месяц.\n",
    "\n",
    "**Набор данных включает следующие поля:**\n",
    "\n",
    "Данные клиента за предыдущий до проверки факта оттока месяц:\n",
    "- 'gender' — пол\n",
    "- 'Near_Location' — проживание или работа в районе, где находится фитнес-центр\n",
    "- 'Partner' — сотрудник компании-партнёра клуба (сотрудничество с компаниями, чьи сотрудники могут получать скидки на абонемент — в таком случае фитнес-центр хранит информацию о работодателе клиента)\n",
    "- Promo_friends — факт первоначальной записи в рамках акции «приведи друга» (использовал промо-код от знакомого при оплате первого абонемента)\n",
    "- 'Phone' — наличие контактного телефона\n",
    "- 'Age' — возраст\n",
    "- 'Lifetime' — время с момента первого обращения в фитнес-центр (в месяцах).\n",
    "\n",
    "Информация на основе журнала посещений, покупок и информация о текущем статусе абонемента клиента:\n",
    "- 'Contract_period' — длительность текущего действующего абонемента (месяц, 6 месяцев, год)\n",
    "- 'Month_to_end_contract' — срок до окончания текущего действующего абонемента (в месяцах)\n",
    "- 'Group_visits' — факт посещения групповых занятий\n",
    "- 'Avg_class_frequency_total' — средняя частота посещений в неделю за все время с начала действия абонемента\n",
    "- 'Avg_class_frequency_current_month' — средняя частота посещений в неделю за предыдущий месяц\n",
    "- 'Avg_additional_charges_total' — суммарная выручка от других услуг фитнес-центра: кафе, спорттовары, косметический и массажный салон\n",
    "- 'Churn' — факт оттока в текущем месяце. \n"
   ]
  },
  {
   "cell_type": "markdown",
   "metadata": {},
   "source": [
    "## Обзор данных"
   ]
  },
  {
   "cell_type": "code",
   "execution_count": 1,
   "metadata": {},
   "outputs": [],
   "source": [
    "# импортируем библиотеки\n",
    "import pandas as pd\n",
    "import seaborn as sns\n",
    "import matplotlib.pyplot as plt\n",
    "\n",
    "from sklearn.preprocessing import StandardScaler\n",
    "from sklearn.model_selection import train_test_split\n",
    "from sklearn.linear_model import  LogisticRegression\n",
    "from sklearn.ensemble import RandomForestClassifier\n",
    "from sklearn.metrics import accuracy_score, precision_score, recall_score\n",
    "\n",
    "from scipy.cluster.hierarchy import dendrogram, linkage\n",
    "from sklearn.cluster import KMeans"
   ]
  },
  {
   "cell_type": "code",
   "execution_count": 2,
   "metadata": {},
   "outputs": [],
   "source": [
    "data = pd.read_csv('D:/учеба/портфолио/roots/ml.csv')"
   ]
  },
  {
   "cell_type": "code",
   "execution_count": 3,
   "metadata": {},
   "outputs": [
    {
     "data": {
      "text/html": [
       "<div>\n",
       "<style scoped>\n",
       "    .dataframe tbody tr th:only-of-type {\n",
       "        vertical-align: middle;\n",
       "    }\n",
       "\n",
       "    .dataframe tbody tr th {\n",
       "        vertical-align: top;\n",
       "    }\n",
       "\n",
       "    .dataframe thead th {\n",
       "        text-align: right;\n",
       "    }\n",
       "</style>\n",
       "<table border=\"1\" class=\"dataframe\">\n",
       "  <thead>\n",
       "    <tr style=\"text-align: right;\">\n",
       "      <th></th>\n",
       "      <th>gender</th>\n",
       "      <th>Near_Location</th>\n",
       "      <th>Partner</th>\n",
       "      <th>Promo_friends</th>\n",
       "      <th>Phone</th>\n",
       "      <th>Contract_period</th>\n",
       "      <th>Group_visits</th>\n",
       "      <th>Age</th>\n",
       "      <th>Avg_additional_charges_total</th>\n",
       "      <th>Month_to_end_contract</th>\n",
       "      <th>Lifetime</th>\n",
       "      <th>Avg_class_frequency_total</th>\n",
       "      <th>Avg_class_frequency_current_month</th>\n",
       "      <th>Churn</th>\n",
       "    </tr>\n",
       "  </thead>\n",
       "  <tbody>\n",
       "    <tr>\n",
       "      <th>0</th>\n",
       "      <td>1</td>\n",
       "      <td>1</td>\n",
       "      <td>1</td>\n",
       "      <td>1</td>\n",
       "      <td>0</td>\n",
       "      <td>6</td>\n",
       "      <td>1</td>\n",
       "      <td>29</td>\n",
       "      <td>14.227470</td>\n",
       "      <td>5.0</td>\n",
       "      <td>3</td>\n",
       "      <td>0.020398</td>\n",
       "      <td>0.000000</td>\n",
       "      <td>0</td>\n",
       "    </tr>\n",
       "    <tr>\n",
       "      <th>1</th>\n",
       "      <td>0</td>\n",
       "      <td>1</td>\n",
       "      <td>0</td>\n",
       "      <td>0</td>\n",
       "      <td>1</td>\n",
       "      <td>12</td>\n",
       "      <td>1</td>\n",
       "      <td>31</td>\n",
       "      <td>113.202938</td>\n",
       "      <td>12.0</td>\n",
       "      <td>7</td>\n",
       "      <td>1.922936</td>\n",
       "      <td>1.910244</td>\n",
       "      <td>0</td>\n",
       "    </tr>\n",
       "    <tr>\n",
       "      <th>2</th>\n",
       "      <td>0</td>\n",
       "      <td>1</td>\n",
       "      <td>1</td>\n",
       "      <td>0</td>\n",
       "      <td>1</td>\n",
       "      <td>1</td>\n",
       "      <td>0</td>\n",
       "      <td>28</td>\n",
       "      <td>129.448479</td>\n",
       "      <td>1.0</td>\n",
       "      <td>2</td>\n",
       "      <td>1.859098</td>\n",
       "      <td>1.736502</td>\n",
       "      <td>0</td>\n",
       "    </tr>\n",
       "    <tr>\n",
       "      <th>3</th>\n",
       "      <td>0</td>\n",
       "      <td>1</td>\n",
       "      <td>1</td>\n",
       "      <td>1</td>\n",
       "      <td>1</td>\n",
       "      <td>12</td>\n",
       "      <td>1</td>\n",
       "      <td>33</td>\n",
       "      <td>62.669863</td>\n",
       "      <td>12.0</td>\n",
       "      <td>2</td>\n",
       "      <td>3.205633</td>\n",
       "      <td>3.357215</td>\n",
       "      <td>0</td>\n",
       "    </tr>\n",
       "    <tr>\n",
       "      <th>4</th>\n",
       "      <td>1</td>\n",
       "      <td>1</td>\n",
       "      <td>1</td>\n",
       "      <td>1</td>\n",
       "      <td>1</td>\n",
       "      <td>1</td>\n",
       "      <td>0</td>\n",
       "      <td>26</td>\n",
       "      <td>198.362265</td>\n",
       "      <td>1.0</td>\n",
       "      <td>3</td>\n",
       "      <td>1.113884</td>\n",
       "      <td>1.120078</td>\n",
       "      <td>0</td>\n",
       "    </tr>\n",
       "    <tr>\n",
       "      <th>5</th>\n",
       "      <td>1</td>\n",
       "      <td>1</td>\n",
       "      <td>0</td>\n",
       "      <td>0</td>\n",
       "      <td>1</td>\n",
       "      <td>1</td>\n",
       "      <td>1</td>\n",
       "      <td>34</td>\n",
       "      <td>450.743960</td>\n",
       "      <td>1.0</td>\n",
       "      <td>3</td>\n",
       "      <td>2.623477</td>\n",
       "      <td>2.637007</td>\n",
       "      <td>0</td>\n",
       "    </tr>\n",
       "    <tr>\n",
       "      <th>6</th>\n",
       "      <td>1</td>\n",
       "      <td>1</td>\n",
       "      <td>1</td>\n",
       "      <td>1</td>\n",
       "      <td>0</td>\n",
       "      <td>6</td>\n",
       "      <td>1</td>\n",
       "      <td>32</td>\n",
       "      <td>94.266389</td>\n",
       "      <td>6.0</td>\n",
       "      <td>2</td>\n",
       "      <td>1.138941</td>\n",
       "      <td>1.277242</td>\n",
       "      <td>0</td>\n",
       "    </tr>\n",
       "    <tr>\n",
       "      <th>7</th>\n",
       "      <td>0</td>\n",
       "      <td>1</td>\n",
       "      <td>0</td>\n",
       "      <td>0</td>\n",
       "      <td>1</td>\n",
       "      <td>1</td>\n",
       "      <td>0</td>\n",
       "      <td>30</td>\n",
       "      <td>217.786641</td>\n",
       "      <td>1.0</td>\n",
       "      <td>0</td>\n",
       "      <td>1.213502</td>\n",
       "      <td>1.049387</td>\n",
       "      <td>1</td>\n",
       "    </tr>\n",
       "    <tr>\n",
       "      <th>8</th>\n",
       "      <td>1</td>\n",
       "      <td>1</td>\n",
       "      <td>1</td>\n",
       "      <td>1</td>\n",
       "      <td>1</td>\n",
       "      <td>1</td>\n",
       "      <td>1</td>\n",
       "      <td>23</td>\n",
       "      <td>45.409909</td>\n",
       "      <td>1.0</td>\n",
       "      <td>1</td>\n",
       "      <td>1.106239</td>\n",
       "      <td>1.059333</td>\n",
       "      <td>0</td>\n",
       "    </tr>\n",
       "    <tr>\n",
       "      <th>9</th>\n",
       "      <td>0</td>\n",
       "      <td>1</td>\n",
       "      <td>0</td>\n",
       "      <td>0</td>\n",
       "      <td>1</td>\n",
       "      <td>1</td>\n",
       "      <td>0</td>\n",
       "      <td>31</td>\n",
       "      <td>65.310836</td>\n",
       "      <td>1.0</td>\n",
       "      <td>11</td>\n",
       "      <td>1.810852</td>\n",
       "      <td>1.951368</td>\n",
       "      <td>0</td>\n",
       "    </tr>\n",
       "  </tbody>\n",
       "</table>\n",
       "</div>"
      ],
      "text/plain": [
       "   gender  Near_Location  Partner  Promo_friends  Phone  Contract_period  \\\n",
       "0       1              1        1              1      0                6   \n",
       "1       0              1        0              0      1               12   \n",
       "2       0              1        1              0      1                1   \n",
       "3       0              1        1              1      1               12   \n",
       "4       1              1        1              1      1                1   \n",
       "5       1              1        0              0      1                1   \n",
       "6       1              1        1              1      0                6   \n",
       "7       0              1        0              0      1                1   \n",
       "8       1              1        1              1      1                1   \n",
       "9       0              1        0              0      1                1   \n",
       "\n",
       "   Group_visits  Age  Avg_additional_charges_total  Month_to_end_contract  \\\n",
       "0             1   29                     14.227470                    5.0   \n",
       "1             1   31                    113.202938                   12.0   \n",
       "2             0   28                    129.448479                    1.0   \n",
       "3             1   33                     62.669863                   12.0   \n",
       "4             0   26                    198.362265                    1.0   \n",
       "5             1   34                    450.743960                    1.0   \n",
       "6             1   32                     94.266389                    6.0   \n",
       "7             0   30                    217.786641                    1.0   \n",
       "8             1   23                     45.409909                    1.0   \n",
       "9             0   31                     65.310836                    1.0   \n",
       "\n",
       "   Lifetime  Avg_class_frequency_total  Avg_class_frequency_current_month  \\\n",
       "0         3                   0.020398                           0.000000   \n",
       "1         7                   1.922936                           1.910244   \n",
       "2         2                   1.859098                           1.736502   \n",
       "3         2                   3.205633                           3.357215   \n",
       "4         3                   1.113884                           1.120078   \n",
       "5         3                   2.623477                           2.637007   \n",
       "6         2                   1.138941                           1.277242   \n",
       "7         0                   1.213502                           1.049387   \n",
       "8         1                   1.106239                           1.059333   \n",
       "9        11                   1.810852                           1.951368   \n",
       "\n",
       "   Churn  \n",
       "0      0  \n",
       "1      0  \n",
       "2      0  \n",
       "3      0  \n",
       "4      0  \n",
       "5      0  \n",
       "6      0  \n",
       "7      1  \n",
       "8      0  \n",
       "9      0  "
      ]
     },
     "execution_count": 3,
     "metadata": {},
     "output_type": "execute_result"
    }
   ],
   "source": [
    "# обзорно просматриваем данные\n",
    "data.head(10)"
   ]
  },
  {
   "cell_type": "code",
   "execution_count": 4,
   "metadata": {
    "scrolled": false
   },
   "outputs": [
    {
     "name": "stdout",
     "output_type": "stream",
     "text": [
      "<class 'pandas.core.frame.DataFrame'>\n",
      "RangeIndex: 4000 entries, 0 to 3999\n",
      "Data columns (total 14 columns):\n",
      " #   Column                             Non-Null Count  Dtype  \n",
      "---  ------                             --------------  -----  \n",
      " 0   gender                             4000 non-null   int64  \n",
      " 1   Near_Location                      4000 non-null   int64  \n",
      " 2   Partner                            4000 non-null   int64  \n",
      " 3   Promo_friends                      4000 non-null   int64  \n",
      " 4   Phone                              4000 non-null   int64  \n",
      " 5   Contract_period                    4000 non-null   int64  \n",
      " 6   Group_visits                       4000 non-null   int64  \n",
      " 7   Age                                4000 non-null   int64  \n",
      " 8   Avg_additional_charges_total       4000 non-null   float64\n",
      " 9   Month_to_end_contract              4000 non-null   float64\n",
      " 10  Lifetime                           4000 non-null   int64  \n",
      " 11  Avg_class_frequency_total          4000 non-null   float64\n",
      " 12  Avg_class_frequency_current_month  4000 non-null   float64\n",
      " 13  Churn                              4000 non-null   int64  \n",
      "dtypes: float64(4), int64(10)\n",
      "memory usage: 437.6 KB\n"
     ]
    }
   ],
   "source": [
    "data.info()"
   ]
  },
  {
   "cell_type": "code",
   "execution_count": 5,
   "metadata": {
    "scrolled": true
   },
   "outputs": [
    {
     "data": {
      "text/plain": [
       "0"
      ]
     },
     "execution_count": 5,
     "metadata": {},
     "output_type": "execute_result"
    }
   ],
   "source": [
    "# посчитаем дубликаты\n",
    "data.duplicated().sum()"
   ]
  },
  {
   "cell_type": "code",
   "execution_count": 6,
   "metadata": {},
   "outputs": [
    {
     "data": {
      "text/plain": [
       "['gender',\n",
       " 'near_location',\n",
       " 'partner',\n",
       " 'promo_friends',\n",
       " 'phone',\n",
       " 'contract_period',\n",
       " 'group_visits',\n",
       " 'age',\n",
       " 'avg_additional_charges_total',\n",
       " 'month_to_end_contract',\n",
       " 'lifetime',\n",
       " 'avg_class_frequency_total',\n",
       " 'avg_class_frequency_current_month',\n",
       " 'churn']"
      ]
     },
     "execution_count": 6,
     "metadata": {},
     "output_type": "execute_result"
    }
   ],
   "source": [
    "# приведем названия столбцов к нижнему регистру\n",
    "data.columns = [c.lower() for c in data]\n",
    "data.columns.tolist()"
   ]
  },
  {
   "cell_type": "markdown",
   "metadata": {},
   "source": [
    "**В данных 14 столбцов и 4000 строк. Пропусков нет, дубликатов нет. Все даннные представлены в числовом формате (целые и вещественные числа).**"
   ]
  },
  {
   "cell_type": "markdown",
   "metadata": {},
   "source": [
    "## Исследовательский анализ данных"
   ]
  },
  {
   "cell_type": "code",
   "execution_count": 7,
   "metadata": {
    "scrolled": true
   },
   "outputs": [
    {
     "data": {
      "text/html": [
       "<div>\n",
       "<style scoped>\n",
       "    .dataframe tbody tr th:only-of-type {\n",
       "        vertical-align: middle;\n",
       "    }\n",
       "\n",
       "    .dataframe tbody tr th {\n",
       "        vertical-align: top;\n",
       "    }\n",
       "\n",
       "    .dataframe thead th {\n",
       "        text-align: right;\n",
       "    }\n",
       "</style>\n",
       "<table border=\"1\" class=\"dataframe\">\n",
       "  <thead>\n",
       "    <tr style=\"text-align: right;\">\n",
       "      <th></th>\n",
       "      <th>gender</th>\n",
       "      <th>near_location</th>\n",
       "      <th>partner</th>\n",
       "      <th>promo_friends</th>\n",
       "      <th>phone</th>\n",
       "      <th>contract_period</th>\n",
       "      <th>group_visits</th>\n",
       "      <th>age</th>\n",
       "      <th>avg_additional_charges_total</th>\n",
       "      <th>month_to_end_contract</th>\n",
       "      <th>lifetime</th>\n",
       "      <th>avg_class_frequency_total</th>\n",
       "      <th>avg_class_frequency_current_month</th>\n",
       "      <th>churn</th>\n",
       "    </tr>\n",
       "  </thead>\n",
       "  <tbody>\n",
       "    <tr>\n",
       "      <th>count</th>\n",
       "      <td>4000.000000</td>\n",
       "      <td>4000.000000</td>\n",
       "      <td>4000.000000</td>\n",
       "      <td>4000.000000</td>\n",
       "      <td>4000.000000</td>\n",
       "      <td>4000.000000</td>\n",
       "      <td>4000.000000</td>\n",
       "      <td>4000.000000</td>\n",
       "      <td>4000.000000</td>\n",
       "      <td>4000.000000</td>\n",
       "      <td>4000.000000</td>\n",
       "      <td>4000.000000</td>\n",
       "      <td>4000.000000</td>\n",
       "      <td>4000.000000</td>\n",
       "    </tr>\n",
       "    <tr>\n",
       "      <th>mean</th>\n",
       "      <td>0.510250</td>\n",
       "      <td>0.845250</td>\n",
       "      <td>0.486750</td>\n",
       "      <td>0.308500</td>\n",
       "      <td>0.903500</td>\n",
       "      <td>4.681250</td>\n",
       "      <td>0.412250</td>\n",
       "      <td>29.184250</td>\n",
       "      <td>146.943728</td>\n",
       "      <td>4.322750</td>\n",
       "      <td>3.724750</td>\n",
       "      <td>1.879020</td>\n",
       "      <td>1.767052</td>\n",
       "      <td>0.265250</td>\n",
       "    </tr>\n",
       "    <tr>\n",
       "      <th>std</th>\n",
       "      <td>0.499957</td>\n",
       "      <td>0.361711</td>\n",
       "      <td>0.499887</td>\n",
       "      <td>0.461932</td>\n",
       "      <td>0.295313</td>\n",
       "      <td>4.549706</td>\n",
       "      <td>0.492301</td>\n",
       "      <td>3.258367</td>\n",
       "      <td>96.355602</td>\n",
       "      <td>4.191297</td>\n",
       "      <td>3.749267</td>\n",
       "      <td>0.972245</td>\n",
       "      <td>1.052906</td>\n",
       "      <td>0.441521</td>\n",
       "    </tr>\n",
       "    <tr>\n",
       "      <th>min</th>\n",
       "      <td>0.000000</td>\n",
       "      <td>0.000000</td>\n",
       "      <td>0.000000</td>\n",
       "      <td>0.000000</td>\n",
       "      <td>0.000000</td>\n",
       "      <td>1.000000</td>\n",
       "      <td>0.000000</td>\n",
       "      <td>18.000000</td>\n",
       "      <td>0.148205</td>\n",
       "      <td>1.000000</td>\n",
       "      <td>0.000000</td>\n",
       "      <td>0.000000</td>\n",
       "      <td>0.000000</td>\n",
       "      <td>0.000000</td>\n",
       "    </tr>\n",
       "    <tr>\n",
       "      <th>25%</th>\n",
       "      <td>0.000000</td>\n",
       "      <td>1.000000</td>\n",
       "      <td>0.000000</td>\n",
       "      <td>0.000000</td>\n",
       "      <td>1.000000</td>\n",
       "      <td>1.000000</td>\n",
       "      <td>0.000000</td>\n",
       "      <td>27.000000</td>\n",
       "      <td>68.868830</td>\n",
       "      <td>1.000000</td>\n",
       "      <td>1.000000</td>\n",
       "      <td>1.180875</td>\n",
       "      <td>0.963003</td>\n",
       "      <td>0.000000</td>\n",
       "    </tr>\n",
       "    <tr>\n",
       "      <th>50%</th>\n",
       "      <td>1.000000</td>\n",
       "      <td>1.000000</td>\n",
       "      <td>0.000000</td>\n",
       "      <td>0.000000</td>\n",
       "      <td>1.000000</td>\n",
       "      <td>1.000000</td>\n",
       "      <td>0.000000</td>\n",
       "      <td>29.000000</td>\n",
       "      <td>136.220159</td>\n",
       "      <td>1.000000</td>\n",
       "      <td>3.000000</td>\n",
       "      <td>1.832768</td>\n",
       "      <td>1.719574</td>\n",
       "      <td>0.000000</td>\n",
       "    </tr>\n",
       "    <tr>\n",
       "      <th>75%</th>\n",
       "      <td>1.000000</td>\n",
       "      <td>1.000000</td>\n",
       "      <td>1.000000</td>\n",
       "      <td>1.000000</td>\n",
       "      <td>1.000000</td>\n",
       "      <td>6.000000</td>\n",
       "      <td>1.000000</td>\n",
       "      <td>31.000000</td>\n",
       "      <td>210.949625</td>\n",
       "      <td>6.000000</td>\n",
       "      <td>5.000000</td>\n",
       "      <td>2.536078</td>\n",
       "      <td>2.510336</td>\n",
       "      <td>1.000000</td>\n",
       "    </tr>\n",
       "    <tr>\n",
       "      <th>max</th>\n",
       "      <td>1.000000</td>\n",
       "      <td>1.000000</td>\n",
       "      <td>1.000000</td>\n",
       "      <td>1.000000</td>\n",
       "      <td>1.000000</td>\n",
       "      <td>12.000000</td>\n",
       "      <td>1.000000</td>\n",
       "      <td>41.000000</td>\n",
       "      <td>552.590740</td>\n",
       "      <td>12.000000</td>\n",
       "      <td>31.000000</td>\n",
       "      <td>6.023668</td>\n",
       "      <td>6.146783</td>\n",
       "      <td>1.000000</td>\n",
       "    </tr>\n",
       "  </tbody>\n",
       "</table>\n",
       "</div>"
      ],
      "text/plain": [
       "            gender  near_location      partner  promo_friends        phone  \\\n",
       "count  4000.000000    4000.000000  4000.000000    4000.000000  4000.000000   \n",
       "mean      0.510250       0.845250     0.486750       0.308500     0.903500   \n",
       "std       0.499957       0.361711     0.499887       0.461932     0.295313   \n",
       "min       0.000000       0.000000     0.000000       0.000000     0.000000   \n",
       "25%       0.000000       1.000000     0.000000       0.000000     1.000000   \n",
       "50%       1.000000       1.000000     0.000000       0.000000     1.000000   \n",
       "75%       1.000000       1.000000     1.000000       1.000000     1.000000   \n",
       "max       1.000000       1.000000     1.000000       1.000000     1.000000   \n",
       "\n",
       "       contract_period  group_visits          age  \\\n",
       "count      4000.000000   4000.000000  4000.000000   \n",
       "mean          4.681250      0.412250    29.184250   \n",
       "std           4.549706      0.492301     3.258367   \n",
       "min           1.000000      0.000000    18.000000   \n",
       "25%           1.000000      0.000000    27.000000   \n",
       "50%           1.000000      0.000000    29.000000   \n",
       "75%           6.000000      1.000000    31.000000   \n",
       "max          12.000000      1.000000    41.000000   \n",
       "\n",
       "       avg_additional_charges_total  month_to_end_contract     lifetime  \\\n",
       "count                   4000.000000            4000.000000  4000.000000   \n",
       "mean                     146.943728               4.322750     3.724750   \n",
       "std                       96.355602               4.191297     3.749267   \n",
       "min                        0.148205               1.000000     0.000000   \n",
       "25%                       68.868830               1.000000     1.000000   \n",
       "50%                      136.220159               1.000000     3.000000   \n",
       "75%                      210.949625               6.000000     5.000000   \n",
       "max                      552.590740              12.000000    31.000000   \n",
       "\n",
       "       avg_class_frequency_total  avg_class_frequency_current_month  \\\n",
       "count                4000.000000                        4000.000000   \n",
       "mean                    1.879020                           1.767052   \n",
       "std                     0.972245                           1.052906   \n",
       "min                     0.000000                           0.000000   \n",
       "25%                     1.180875                           0.963003   \n",
       "50%                     1.832768                           1.719574   \n",
       "75%                     2.536078                           2.510336   \n",
       "max                     6.023668                           6.146783   \n",
       "\n",
       "             churn  \n",
       "count  4000.000000  \n",
       "mean      0.265250  \n",
       "std       0.441521  \n",
       "min       0.000000  \n",
       "25%       0.000000  \n",
       "50%       0.000000  \n",
       "75%       1.000000  \n",
       "max       1.000000  "
      ]
     },
     "execution_count": 7,
     "metadata": {},
     "output_type": "execute_result"
    }
   ],
   "source": [
    "# посмотрим на числовые данные по столбцам\n",
    "data.describe()"
   ]
  },
  {
   "cell_type": "markdown",
   "metadata": {},
   "source": [
    "Описание данных показало нам следующее:\n",
    "\n",
    "**общие данные**\n",
    "- 7 столбцов с бинарными значениями, в том числе наша целевая переменная churn\n",
    "- столбец contract_period с тремя значениями (1,6,12)\n",
    "- остальные данные с широким набором значений\n",
    "\n",
    "**портрет клиента**\n",
    "\n",
    "- ушедших клиентов много меньше остающихся\n",
    "- мужчин и женщин примерно поровну\n",
    "- возраст клиентов от 18 до 41 года\n",
    "- лайфтайм от 0 (купили абонемент и скорее всего так и \"не дошли\") до 31 месяца\n",
    "- больше тех клиентов, что живут/работают возле фитнесс-центра\n",
    "- почти половина клиентов приходят от предприятий-партнеров\n",
    "- практически все оставляют свой контактный телефон\n",
    "- траты на сопутствующие услуги неровные (судя по std), кто-то готов потратиться, кто-то - нет"
   ]
  },
  {
   "cell_type": "code",
   "execution_count": 8,
   "metadata": {},
   "outputs": [
    {
     "data": {
      "text/html": [
       "<div>\n",
       "<style scoped>\n",
       "    .dataframe tbody tr th:only-of-type {\n",
       "        vertical-align: middle;\n",
       "    }\n",
       "\n",
       "    .dataframe tbody tr th {\n",
       "        vertical-align: top;\n",
       "    }\n",
       "\n",
       "    .dataframe thead th {\n",
       "        text-align: right;\n",
       "    }\n",
       "</style>\n",
       "<table border=\"1\" class=\"dataframe\">\n",
       "  <thead>\n",
       "    <tr style=\"text-align: right;\">\n",
       "      <th></th>\n",
       "      <th>gender</th>\n",
       "      <th>near_location</th>\n",
       "      <th>partner</th>\n",
       "      <th>promo_friends</th>\n",
       "      <th>phone</th>\n",
       "      <th>contract_period</th>\n",
       "      <th>group_visits</th>\n",
       "      <th>age</th>\n",
       "      <th>avg_additional_charges_total</th>\n",
       "      <th>month_to_end_contract</th>\n",
       "      <th>lifetime</th>\n",
       "      <th>avg_class_frequency_total</th>\n",
       "      <th>avg_class_frequency_current_month</th>\n",
       "    </tr>\n",
       "    <tr>\n",
       "      <th>churn</th>\n",
       "      <th></th>\n",
       "      <th></th>\n",
       "      <th></th>\n",
       "      <th></th>\n",
       "      <th></th>\n",
       "      <th></th>\n",
       "      <th></th>\n",
       "      <th></th>\n",
       "      <th></th>\n",
       "      <th></th>\n",
       "      <th></th>\n",
       "      <th></th>\n",
       "      <th></th>\n",
       "    </tr>\n",
       "  </thead>\n",
       "  <tbody>\n",
       "    <tr>\n",
       "      <th>0</th>\n",
       "      <td>0.510037</td>\n",
       "      <td>0.873086</td>\n",
       "      <td>0.534195</td>\n",
       "      <td>0.353522</td>\n",
       "      <td>0.903709</td>\n",
       "      <td>5.747193</td>\n",
       "      <td>0.464103</td>\n",
       "      <td>29.976523</td>\n",
       "      <td>158.445715</td>\n",
       "      <td>5.283089</td>\n",
       "      <td>4.711807</td>\n",
       "      <td>2.024876</td>\n",
       "      <td>2.027882</td>\n",
       "    </tr>\n",
       "    <tr>\n",
       "      <th>1</th>\n",
       "      <td>0.510839</td>\n",
       "      <td>0.768143</td>\n",
       "      <td>0.355325</td>\n",
       "      <td>0.183789</td>\n",
       "      <td>0.902922</td>\n",
       "      <td>1.728558</td>\n",
       "      <td>0.268615</td>\n",
       "      <td>26.989632</td>\n",
       "      <td>115.082899</td>\n",
       "      <td>1.662582</td>\n",
       "      <td>0.990575</td>\n",
       "      <td>1.474995</td>\n",
       "      <td>1.044546</td>\n",
       "    </tr>\n",
       "  </tbody>\n",
       "</table>\n",
       "</div>"
      ],
      "text/plain": [
       "         gender  near_location   partner  promo_friends     phone  \\\n",
       "churn                                                               \n",
       "0      0.510037       0.873086  0.534195       0.353522  0.903709   \n",
       "1      0.510839       0.768143  0.355325       0.183789  0.902922   \n",
       "\n",
       "       contract_period  group_visits        age  avg_additional_charges_total  \\\n",
       "churn                                                                           \n",
       "0             5.747193      0.464103  29.976523                    158.445715   \n",
       "1             1.728558      0.268615  26.989632                    115.082899   \n",
       "\n",
       "       month_to_end_contract  lifetime  avg_class_frequency_total  \\\n",
       "churn                                                               \n",
       "0                   5.283089  4.711807                   2.024876   \n",
       "1                   1.662582  0.990575                   1.474995   \n",
       "\n",
       "       avg_class_frequency_current_month  \n",
       "churn                                     \n",
       "0                               2.027882  \n",
       "1                               1.044546  "
      ]
     },
     "execution_count": 8,
     "metadata": {},
     "output_type": "execute_result"
    }
   ],
   "source": [
    "# посмотрим на средние значения для ушедших/оставшихся клиентов\n",
    "data.groupby('churn').mean()"
   ]
  },
  {
   "cell_type": "markdown",
   "metadata": {},
   "source": [
    "Опишем те данные, которые показали заметные различия средних значений в группах:\n",
    "- клиенты от предприятий-партнеров уходят реже\n",
    "- у остающихся длиннее срок абонемента (деньги отданы, нужно их \"окупить\")\n",
    "- остающиеся старше, средний возраст почти 30 лет (уходящие - средний возраст пости 27 лет)\n",
    "- у тех кто ушел в среднем оставалось 1.6 месяца до конца абонемента\n",
    "- у остающихся средний лайфтайм 4.7 месяца, средний лайфтайм уходящих 0.99\n",
    "- остающиеся больше тратят на дополнительные услуги"
   ]
  },
  {
   "cell_type": "markdown",
   "metadata": {},
   "source": [
    "Далее посмотрим на визуализацию распределения признаков для тех, кто ушёл (отток) и тех, кто остался (не попали в отток) и дополним выводы."
   ]
  },
  {
   "cell_type": "code",
   "execution_count": 9,
   "metadata": {},
   "outputs": [],
   "source": [
    "# разделим столбцы, чтобы применить разные типы графиков для колонок с бинарным и небинарным набором значений\n",
    "bi = ['churn', 'gender','near_location', 'partner', 'promo_friends', 'phone', 'group_visits']\n",
    "multi = ['contract_period', 'age', 'avg_additional_charges_total', 'month_to_end_contract', 'lifetime', 'avg_class_frequency_total', 'avg_class_frequency_current_month']\n"
   ]
  },
  {
   "cell_type": "code",
   "execution_count": 10,
   "metadata": {},
   "outputs": [],
   "source": [
    "# зададим палитру для всех графиков\n",
    "sns.set_palette('dark')"
   ]
  },
  {
   "cell_type": "code",
   "execution_count": 39,
   "metadata": {
    "scrolled": false
   },
   "outputs": [
    {
     "data": {
      "image/png": "[encoded data removed]",
      "text/plain": [
       "<Figure size 1080x1080 with 7 Axes>"
      ]
     },
     "metadata": {
      "needs_background": "light"
     },
     "output_type": "display_data"
    }
   ],
   "source": [
    "#построим графики распредления\n",
    "\n",
    "\n",
    "number_row = int(len(multi)/2)\n",
    "fig, ax = plt.subplots(nrows = number_row + 1, ncols=2, figsize=(15, 15))\n",
    "ax = ax.flatten()\n",
    "\n",
    "# задаем цикл\n",
    "\n",
    "for i in range(len(multi)):\n",
    "    \n",
    "\n",
    "    sns.histplot(data = data, x = multi[i], hue = 'churn', ax=ax[i]) \n",
    "\n",
    "    ax[i].set_title(f'Распределение по {multi[i]}')\n",
    "    ax[i].set_xlabel(f'{multi[i]}')\n",
    "\n",
    "\n",
    "# удалим последний пустой  \n",
    "fig.delaxes(ax[-1])\n",
    "\n",
    "            \n",
    "# чтобы все надписи вошли   \n",
    "fig.tight_layout()\n",
    "\n",
    "plt.show()\n"
   ]
  },
  {
   "cell_type": "markdown",
   "metadata": {},
   "source": [
    "**Дополним выводы:**\n",
    "- данные по возрасту и лайфтайму распределены нормально\n",
    "- среднее количество визитов за предыдущий месяц и за все время действия абонемента имеют характерную особенность: высокая частота в начале, потом спад и переход к практически нормальному распределению\n",
    "- распределения по остающимся и ушедшим показывают, что остающиеся тратят бОльшие суммы. Характер распределения показывает, что маленькие и средние суммы (размер их в каждой категории свой) тратятся сразу же большим количеством клиентов (высокая и пологая левая часть распределения)."
   ]
  },
  {
   "cell_type": "code",
   "execution_count": 38,
   "metadata": {},
   "outputs": [
    {
     "data": {
      "image/png": "[encoded data removed]",
      "text/plain": [
       "<Figure size 1080x1080 with 7 Axes>"
      ]
     },
     "metadata": {
      "needs_background": "light"
     },
     "output_type": "display_data"
    }
   ],
   "source": [
    "# строим графики распределения для столбцов с бинарными значениями\n",
    "\n",
    "number_row = int(len(bi)/2)\n",
    "fig, ax = plt.subplots(nrows = number_row + 1, ncols=2, figsize=(15, 15))\n",
    "ax = ax.flatten()\n",
    "\n",
    "# задаем цикл\n",
    "\n",
    "for i in range(len(bi)):\n",
    "    \n",
    "\n",
    "    sns.countplot(data = data, x = bi[i], hue = 'churn', ax=ax[i]) \n",
    "\n",
    "    ax[i].set_title(f'Распределение по {bi[i]}')\n",
    "    ax[i].legend(title = 'Факт оттока', labels = ['Остался', 'Ушел'])\n",
    "    ax[i].set_xlabel(f'{bi[i]}')\n",
    "\n",
    "\n",
    "\n",
    "\n",
    "# удалим последний пустой  \n",
    "fig.delaxes(ax[-1])\n",
    "\n",
    "            \n",
    "# чтобы все надписи вошли   \n",
    "fig.tight_layout()\n",
    "\n",
    "plt.show()"
   ]
  },
  {
   "cell_type": "markdown",
   "metadata": {},
   "source": [
    "Дополним выводы:\n",
    "- оставшихся в 3 раза больше ушедших\n",
    "- мужчины и женщины уходят и остаются примерно одинаково\n",
    "- живущие/работающие рядом с клубом уходят реже\n",
    "- промо-коды от знакомых работают хуже партнерской программы"
   ]
  },
  {
   "cell_type": "markdown",
   "metadata": {},
   "source": [
    "#### Предварительные итоги из распределения признаков  данных\n",
    "\n",
    "Целевая аудитория:\n",
    "мужчины и женщины от 18 до 41 года\n",
    "\n",
    "Перспективные клиенты:\n",
    "- живущие/работающие возле спортклуба\n",
    "- сотрудники компаний-партнеров\n",
    "\n",
    "Продавать сопутствующие товары оправдано: клиенты покупают допуслуги охотно, остающиеся клиенты тратят бОльшие суммы\n",
    "\n",
    "Выгоднее продавать \"длинные\" абонементы, такие клиенты уходят реже\n",
    "\n",
    "Работать на удержание в первый месяц (средний лайфтайм уходящих 0.99) и за 2 месяца до конца купленного абонемента (у тех, кто ушел в среднем оставалось 1.6 месяца до окончания срока абонемента).\n"
   ]
  },
  {
   "cell_type": "markdown",
   "metadata": {},
   "source": [
    "## Подготовка данных к машинному обучению"
   ]
  },
  {
   "cell_type": "code",
   "execution_count": 13,
   "metadata": {},
   "outputs": [
    {
     "data": {
      "image/png": "[encoded data removed]",
      "text/plain": [
       "<Figure size 1080x576 with 2 Axes>"
      ]
     },
     "metadata": {
      "needs_background": "light"
     },
     "output_type": "display_data"
    }
   ],
   "source": [
    "#построим и отрисуем матрицу корреляций\n",
    "cm = data.corr() #вычисляем матрицу корреляций\n",
    "\n",
    "f, ax = plt.subplots(figsize=(15,8 ))\n",
    "\n",
    "#нарисуем тепловую карту с подписями для матрицы корреляций\n",
    "\n",
    "sns.heatmap(cm, annot=True, square = True)\n",
    "\n",
    "plt.title('Тепловая карта для матрицы корреляций')\n",
    "plt.show()\n"
   ]
  },
  {
   "cell_type": "markdown",
   "metadata": {},
   "source": [
    "В данных есть мультиколлинеарные признаки (зависящие друг от друга более чем на 0.8).\n",
    "- month_to_end_contract // contract_period\n",
    "- avg_class_frequency_current_month // avg_class_frequency_total\n",
    "\n",
    "Для корректного продолжения работы (решаем проблему нерепрезентативных весов) избавимся от двух признаков (по одному из каждой пары)"
   ]
  },
  {
   "cell_type": "code",
   "execution_count": 14,
   "metadata": {},
   "outputs": [
    {
     "data": {
      "text/plain": [
       "12"
      ]
     },
     "execution_count": 14,
     "metadata": {},
     "output_type": "execute_result"
    }
   ],
   "source": [
    "# удаляем и проверяем (было 14 столбцов)\n",
    "ml_data = data.drop('month_to_end_contract',axis = 1)\n",
    "ml_data = ml_data.drop('avg_class_frequency_current_month', axis = 1)\n",
    "\n",
    "len(ml_data.columns.tolist())"
   ]
  },
  {
   "cell_type": "code",
   "execution_count": 15,
   "metadata": {},
   "outputs": [],
   "source": [
    "# разделяем данные на признаки (матрица X) и целевую переменную (y)\n",
    "X = ml_data.drop('churn', axis = 1)\n",
    "y = ml_data['churn']\n",
    "\n",
    "# разделяем модель на обучающую и валидационную выборку\n",
    "X_train, X_test, y_train, y_test = train_test_split(X, y, test_size=0.2, random_state=0)\n"
   ]
  },
  {
   "cell_type": "code",
   "execution_count": 16,
   "metadata": {},
   "outputs": [],
   "source": [
    "# создадим объект класса StandardScaler и применим его к обучающей выборке\n",
    "scaler = StandardScaler()\n",
    "X_train_st = scaler.fit_transform(\n",
    "    X_train\n",
    ")  # обучаем scaler и одновременно трансформируем матрицу для обучающей выборки\n",
    "\n",
    "# применяем стандартизацию к матрице признаков для тестовой выборки\n",
    "X_test_st = scaler.transform(X_test)"
   ]
  },
  {
   "cell_type": "code",
   "execution_count": 17,
   "metadata": {},
   "outputs": [
    {
     "data": {
      "text/plain": [
       "(0.73475, 0.26525)"
      ]
     },
     "execution_count": 17,
     "metadata": {},
     "output_type": "execute_result"
    }
   ],
   "source": [
    "# посмотрим сбалансированы ли классы целевой переменной\n",
    "len(ml_data[ml_data['churn'] == 0]) / len(ml_data), len(ml_data[ml_data['churn'] == 1]) / len(ml_data), "
   ]
  },
  {
   "cell_type": "markdown",
   "metadata": {},
   "source": [
    "### Итоги\n",
    "\n",
    "Данные имеют достаточное количество наблюдений. Пропусков, дубликатов нет. Были выявлены сильно скоррелированные признаки (по одному из каждой пары удалили). Данные были разделены на признаки и целевую переменную (chern), разделены на обучающую и валидационную (тестовую) выборку, проведена стандартизация данных, с использованием класса StandardScaler. Модель готова к обучению. В интерпретации результатов метрики \"доля правильных ответов\" (accuracy)  стоит учитывать несбалансированность классов целевой переменной."
   ]
  },
  {
   "cell_type": "markdown",
   "metadata": {},
   "source": [
    "## Обучение"
   ]
  },
  {
   "cell_type": "markdown",
   "metadata": {},
   "source": [
    "- Обучим модель на train-выборке двумя способами: логистической регрессией, случайным лесом.\n",
    "- Оценим метрики: доля правильных ответов (accuracy), точность (precision) и полнота (recall) для обеих моделей на валидационной выборке.\n",
    "- Сравним по ним модели. Выберем модель, показавшую лучший результат на основании метрик "
   ]
  },
  {
   "cell_type": "markdown",
   "metadata": {},
   "source": [
    "**Логистическая регрессия**"
   ]
  },
  {
   "cell_type": "code",
   "execution_count": 18,
   "metadata": {
    "scrolled": true
   },
   "outputs": [
    {
     "name": "stdout",
     "output_type": "stream",
     "text": [
      "accuracy(классы не сбалансированы): 0.88, precision: 0.76, recall: 0.77 \n"
     ]
    }
   ],
   "source": [
    "# определяем модель, обучаем ее, делаем предсказания\n",
    "model = LogisticRegression(random_state = 0, solver='liblinear')\n",
    "model.fit(X_train, y_train)\n",
    "pred = model.predict(X_test)\n",
    "print(\n",
    "    'accuracy(классы не сбалансированы): {:.2f}, precision: {:.2f}, recall: {:.2f} '.format(\n",
    "        accuracy_score(y_test, pred),\n",
    "        precision_score (y_test, pred),\n",
    "        recall_score (y_test, pred)\n",
    "        )\n",
    ")\n"
   ]
  },
  {
   "cell_type": "code",
   "execution_count": 19,
   "metadata": {
    "scrolled": true
   },
   "outputs": [
    {
     "name": "stdout",
     "output_type": "stream",
     "text": [
      "accuracy(классы не сбалансированы): 0.86, precision: 0.65, recall: 0.91 \n"
     ]
    }
   ],
   "source": [
    "# определяем модель, обучаем ее, делаем предсказания, используя параметр class_weight='balanced'\n",
    "model = LogisticRegression(random_state = 0, solver='liblinear', class_weight='balanced')\n",
    "model.fit(X_train, y_train)\n",
    "pred = model.predict(X_test)\n",
    "print(\n",
    "    'accuracy(классы не сбалансированы): {:.2f}, precision: {:.2f}, recall: {:.2f} '.format(\n",
    "        accuracy_score(y_test, pred),\n",
    "        precision_score (y_test, pred),\n",
    "        recall_score (y_test, pred)\n",
    "        )\n",
    ")\n"
   ]
  },
  {
   "cell_type": "markdown",
   "metadata": {},
   "source": [
    "**Случайный лес**"
   ]
  },
  {
   "cell_type": "code",
   "execution_count": 20,
   "metadata": {},
   "outputs": [
    {
     "name": "stdout",
     "output_type": "stream",
     "text": [
      "accuracy(классы не сбалансированы): 0.89 precision: 0.79 recall: 0.76 \n"
     ]
    }
   ],
   "source": [
    "# определяем модель, обучаем ее, делаем предсказания\n",
    "r_model = RandomForestClassifier(random_state = 0, n_estimators = 100)\n",
    "r_model.fit(X_train_st, y_train)\n",
    "pred = r_model.predict(X_test_st)\n",
    "print(\n",
    "    'accuracy(классы не сбалансированы): {:.2f} precision: {:.2f} recall: {:.2f} '.format(\n",
    "        accuracy_score(y_test, pred),\n",
    "        precision_score (y_test, pred),\n",
    "        recall_score (y_test, pred)\n",
    "        )\n",
    ")"
   ]
  },
  {
   "cell_type": "code",
   "execution_count": 21,
   "metadata": {},
   "outputs": [
    {
     "name": "stdout",
     "output_type": "stream",
     "text": [
      "accuracy(классы не сбалансированы): 0.90 precision: 0.80 recall: 0.78 \n"
     ]
    }
   ],
   "source": [
    "# определяем модель, обучаем ее, делаем предсказания, изменяя параметры\n",
    "ra_model = RandomForestClassifier(random_state = 0, n_estimators = 200, max_features = 5)\n",
    "ra_model.fit(X_train_st, y_train)\n",
    "pred = ra_model.predict(X_test_st)\n",
    "print(\n",
    "    'accuracy(классы не сбалансированы): {:.2f} precision: {:.2f} recall: {:.2f} '.format(\n",
    "        accuracy_score(y_test, pred),\n",
    "        precision_score (y_test, pred),\n",
    "        recall_score (y_test, pred)\n",
    "        )\n",
    ")"
   ]
  },
  {
   "cell_type": "markdown",
   "metadata": {},
   "source": [
    "#### Итоги\n",
    "\n",
    "Лучшие показатели метрик у модели RandomForestClassifier, работая с дополнительными параметрами мы улучшили показатели метрик до 0.8 - показатель точности (максимум 1), 0.78 - показатель полноты (максимум 1).\n",
    "\n",
    "Что касается метрики \"доля правильных ответов\" - она также улучшена до 0.9 (при том, что в наших данных нет баланса классов (ушедшие/оставшиеся)."
   ]
  },
  {
   "cell_type": "markdown",
   "metadata": {},
   "source": [
    "## Кластеризация"
   ]
  },
  {
   "cell_type": "markdown",
   "metadata": {},
   "source": [
    "- Стандартизируем данные.\n",
    "- Построим матрицу расстояний функцией linkage() на стандартизованной матрице признаков и нарисуем дендрограмму.\n",
    "- Обучим модель кластеризации на основании алгоритма K-Means и спрогнозируем кластеры клиентов.\n"
   ]
  },
  {
   "cell_type": "code",
   "execution_count": 22,
   "metadata": {},
   "outputs": [],
   "source": [
    "# готовим данные для обучения без учителя\n",
    "cluster_data = ml_data.drop('churn', axis=1)"
   ]
  },
  {
   "cell_type": "code",
   "execution_count": 23,
   "metadata": {},
   "outputs": [],
   "source": [
    "# создадим объект класса StandardScaler и применим его к обучающей выборке\n",
    "sc = StandardScaler()\n",
    "X_sc = scaler.fit_transform(cluster_data)    "
   ]
  },
  {
   "cell_type": "code",
   "execution_count": 24,
   "metadata": {},
   "outputs": [],
   "source": [
    "# построим матрицу расстояний функцией linkage() на стандартизованной матрице признаков\n",
    "linked = linkage(X_sc, method='ward')"
   ]
  },
  {
   "cell_type": "code",
   "execution_count": 25,
   "metadata": {},
   "outputs": [
    {
     "data": {
      "image/png": "[encoded data removed]",
      "text/plain": [
       "<Figure size 1080x720 with 1 Axes>"
      ]
     },
     "metadata": {
      "needs_background": "light"
     },
     "output_type": "display_data"
    }
   ],
   "source": [
    "# отрисуем дендрограмму\n",
    "plt.figure(figsize = (15,10))\n",
    "dendrogram(linked, orientation = 'top')\n",
    "plt.title('Дендрограмма признаков')\n",
    "plt.xticks([])\n",
    "plt.show()\n"
   ]
  },
  {
   "cell_type": "markdown",
   "metadata": {},
   "source": [
    "Автоматически цветом на основании признаков было выделено 4 кластера, но мы все же разделим на два кластера самое большое фиолетовое \"дерево\". Далее группировать объекты будем по 5 кластерам."
   ]
  },
  {
   "cell_type": "code",
   "execution_count": 26,
   "metadata": {},
   "outputs": [],
   "source": [
    "# сгруппируем объекты в 5 кластеров\n",
    "km = KMeans(n_clusters = 5, random_state = 0)\n",
    "labels = km.fit_predict(X_sc)\n",
    "data['cluster'] = labels"
   ]
  },
  {
   "cell_type": "code",
   "execution_count": 27,
   "metadata": {},
   "outputs": [
    {
     "data": {
      "text/html": [
       "<div>\n",
       "<style scoped>\n",
       "    .dataframe tbody tr th:only-of-type {\n",
       "        vertical-align: middle;\n",
       "    }\n",
       "\n",
       "    .dataframe tbody tr th {\n",
       "        vertical-align: top;\n",
       "    }\n",
       "\n",
       "    .dataframe thead th {\n",
       "        text-align: right;\n",
       "    }\n",
       "</style>\n",
       "<table border=\"1\" class=\"dataframe\">\n",
       "  <thead>\n",
       "    <tr style=\"text-align: right;\">\n",
       "      <th></th>\n",
       "      <th>gender</th>\n",
       "      <th>near_location</th>\n",
       "      <th>partner</th>\n",
       "      <th>promo_friends</th>\n",
       "      <th>phone</th>\n",
       "      <th>contract_period</th>\n",
       "      <th>group_visits</th>\n",
       "      <th>age</th>\n",
       "      <th>avg_additional_charges_total</th>\n",
       "      <th>month_to_end_contract</th>\n",
       "      <th>lifetime</th>\n",
       "      <th>avg_class_frequency_total</th>\n",
       "      <th>avg_class_frequency_current_month</th>\n",
       "      <th>churn</th>\n",
       "      <th>cluster</th>\n",
       "    </tr>\n",
       "  </thead>\n",
       "  <tbody>\n",
       "    <tr>\n",
       "      <th>0</th>\n",
       "      <td>1</td>\n",
       "      <td>1</td>\n",
       "      <td>1</td>\n",
       "      <td>1</td>\n",
       "      <td>0</td>\n",
       "      <td>6</td>\n",
       "      <td>1</td>\n",
       "      <td>29</td>\n",
       "      <td>14.227470</td>\n",
       "      <td>5.0</td>\n",
       "      <td>3</td>\n",
       "      <td>0.020398</td>\n",
       "      <td>0.000000</td>\n",
       "      <td>0</td>\n",
       "      <td>4</td>\n",
       "    </tr>\n",
       "    <tr>\n",
       "      <th>1</th>\n",
       "      <td>0</td>\n",
       "      <td>1</td>\n",
       "      <td>0</td>\n",
       "      <td>0</td>\n",
       "      <td>1</td>\n",
       "      <td>12</td>\n",
       "      <td>1</td>\n",
       "      <td>31</td>\n",
       "      <td>113.202938</td>\n",
       "      <td>12.0</td>\n",
       "      <td>7</td>\n",
       "      <td>1.922936</td>\n",
       "      <td>1.910244</td>\n",
       "      <td>0</td>\n",
       "      <td>3</td>\n",
       "    </tr>\n",
       "    <tr>\n",
       "      <th>2</th>\n",
       "      <td>0</td>\n",
       "      <td>1</td>\n",
       "      <td>1</td>\n",
       "      <td>0</td>\n",
       "      <td>1</td>\n",
       "      <td>1</td>\n",
       "      <td>0</td>\n",
       "      <td>28</td>\n",
       "      <td>129.448479</td>\n",
       "      <td>1.0</td>\n",
       "      <td>2</td>\n",
       "      <td>1.859098</td>\n",
       "      <td>1.736502</td>\n",
       "      <td>0</td>\n",
       "      <td>2</td>\n",
       "    </tr>\n",
       "    <tr>\n",
       "      <th>3</th>\n",
       "      <td>0</td>\n",
       "      <td>1</td>\n",
       "      <td>1</td>\n",
       "      <td>1</td>\n",
       "      <td>1</td>\n",
       "      <td>12</td>\n",
       "      <td>1</td>\n",
       "      <td>33</td>\n",
       "      <td>62.669863</td>\n",
       "      <td>12.0</td>\n",
       "      <td>2</td>\n",
       "      <td>3.205633</td>\n",
       "      <td>3.357215</td>\n",
       "      <td>0</td>\n",
       "      <td>1</td>\n",
       "    </tr>\n",
       "    <tr>\n",
       "      <th>4</th>\n",
       "      <td>1</td>\n",
       "      <td>1</td>\n",
       "      <td>1</td>\n",
       "      <td>1</td>\n",
       "      <td>1</td>\n",
       "      <td>1</td>\n",
       "      <td>0</td>\n",
       "      <td>26</td>\n",
       "      <td>198.362265</td>\n",
       "      <td>1.0</td>\n",
       "      <td>3</td>\n",
       "      <td>1.113884</td>\n",
       "      <td>1.120078</td>\n",
       "      <td>0</td>\n",
       "      <td>1</td>\n",
       "    </tr>\n",
       "  </tbody>\n",
       "</table>\n",
       "</div>"
      ],
      "text/plain": [
       "   gender  near_location  partner  promo_friends  phone  contract_period  \\\n",
       "0       1              1        1              1      0                6   \n",
       "1       0              1        0              0      1               12   \n",
       "2       0              1        1              0      1                1   \n",
       "3       0              1        1              1      1               12   \n",
       "4       1              1        1              1      1                1   \n",
       "\n",
       "   group_visits  age  avg_additional_charges_total  month_to_end_contract  \\\n",
       "0             1   29                     14.227470                    5.0   \n",
       "1             1   31                    113.202938                   12.0   \n",
       "2             0   28                    129.448479                    1.0   \n",
       "3             1   33                     62.669863                   12.0   \n",
       "4             0   26                    198.362265                    1.0   \n",
       "\n",
       "   lifetime  avg_class_frequency_total  avg_class_frequency_current_month  \\\n",
       "0         3                   0.020398                           0.000000   \n",
       "1         7                   1.922936                           1.910244   \n",
       "2         2                   1.859098                           1.736502   \n",
       "3         2                   3.205633                           3.357215   \n",
       "4         3                   1.113884                           1.120078   \n",
       "\n",
       "   churn  cluster  \n",
       "0      0        4  \n",
       "1      0        3  \n",
       "2      0        2  \n",
       "3      0        1  \n",
       "4      0        1  "
      ]
     },
     "execution_count": 27,
     "metadata": {},
     "output_type": "execute_result"
    }
   ],
   "source": [
    "# посмотрим на данные\n",
    "data.head()"
   ]
  },
  {
   "cell_type": "markdown",
   "metadata": {},
   "source": [
    "- Посмотрим на средние значения признаков для кластеров.\n",
    "- Построим распределение признаков для кластеров. \n",
    "- Посчитайте долю оттока для каждого кластера."
   ]
  },
  {
   "cell_type": "code",
   "execution_count": 28,
   "metadata": {},
   "outputs": [
    {
     "data": {
      "image/png": "[encoded data removed]",
      "text/plain": [
       "<Figure size 432x288 with 1 Axes>"
      ]
     },
     "metadata": {
      "needs_background": "light"
     },
     "output_type": "display_data"
    }
   ],
   "source": [
    "# количество объектов в кластерах после KMeans\n",
    "data['cluster'].value_counts().sort_values(ascending=False).plot(kind='bar')\n",
    "plt.title('Количество объектов в кластерах')\n",
    "plt.show()"
   ]
  },
  {
   "cell_type": "code",
   "execution_count": 29,
   "metadata": {},
   "outputs": [
    {
     "data": {
      "image/png": "[encoded data removed]",
      "text/plain": [
       "<Figure size 432x288 with 1 Axes>"
      ]
     },
     "metadata": {
      "needs_background": "light"
     },
     "output_type": "display_data"
    }
   ],
   "source": [
    "# посчитаем долю оттока для каждого кластера\n",
    "data.groupby('cluster')['churn'].mean().sort_values(ascending=False).plot(kind='bar')\n",
    "plt.title('Доля оттока по кластерам')\n",
    "plt.show()"
   ]
  },
  {
   "cell_type": "markdown",
   "metadata": {},
   "source": [
    "**Самые многочисленные кластеры в нашей подборке - кластеры 1 и 2, меньше всего объектов в кластере 4**\n",
    "\n",
    "**Реже всего уходят клиенты кластера 3, хуже всего удерживаются клиенты из кластера 4, кластера 1**\n"
   ]
  },
  {
   "cell_type": "code",
   "execution_count": 30,
   "metadata": {
    "scrolled": false
   },
   "outputs": [
    {
     "data": {
      "text/html": [
       "<style type=\"text/css\">\n",
       "#T_f65e6_row0_col0, #T_f65e6_row1_col1, #T_f65e6_row2_col0, #T_f65e6_row3_col2, #T_f65e6_row4_col2, #T_f65e6_row5_col4, #T_f65e6_row6_col2, #T_f65e6_row7_col2, #T_f65e6_row8_col0, #T_f65e6_row9_col0, #T_f65e6_row10_col2, #T_f65e6_row11_col0, #T_f65e6_row12_col0, #T_f65e6_row13_col0, #T_f65e6_row14_col1 {\n",
       "  background-color: #3b4cc0;\n",
       "  color: #f1f1f1;\n",
       "}\n",
       "#T_f65e6_row0_col1 {\n",
       "  background-color: #8db0fe;\n",
       "  color: #000000;\n",
       "}\n",
       "#T_f65e6_row0_col2 {\n",
       "  background-color: #dddcdc;\n",
       "  color: #000000;\n",
       "}\n",
       "#T_f65e6_row0_col3 {\n",
       "  background-color: #f4987a;\n",
       "  color: #000000;\n",
       "}\n",
       "#T_f65e6_row0_col4, #T_f65e6_row1_col3, #T_f65e6_row2_col2, #T_f65e6_row2_col3, #T_f65e6_row3_col1, #T_f65e6_row4_col1, #T_f65e6_row5_col0, #T_f65e6_row5_col1, #T_f65e6_row5_col2, #T_f65e6_row5_col3, #T_f65e6_row6_col1, #T_f65e6_row7_col3, #T_f65e6_row8_col1, #T_f65e6_row9_col1, #T_f65e6_row10_col1, #T_f65e6_row11_col1, #T_f65e6_row12_col1, #T_f65e6_row13_col1, #T_f65e6_row14_col0 {\n",
       "  background-color: #b40426;\n",
       "  color: #f1f1f1;\n",
       "}\n",
       "#T_f65e6_row1_col0 {\n",
       "  background-color: #779af7;\n",
       "  color: #f1f1f1;\n",
       "}\n",
       "#T_f65e6_row1_col2 {\n",
       "  background-color: #9ebeff;\n",
       "  color: #000000;\n",
       "}\n",
       "#T_f65e6_row1_col4 {\n",
       "  background-color: #f4c5ad;\n",
       "  color: #000000;\n",
       "}\n",
       "#T_f65e6_row2_col1 {\n",
       "  background-color: #b50927;\n",
       "  color: #f1f1f1;\n",
       "}\n",
       "#T_f65e6_row2_col4 {\n",
       "  background-color: #e16751;\n",
       "  color: #f1f1f1;\n",
       "}\n",
       "#T_f65e6_row3_col0, #T_f65e6_row10_col3 {\n",
       "  background-color: #afcafc;\n",
       "  color: #000000;\n",
       "}\n",
       "#T_f65e6_row3_col3 {\n",
       "  background-color: #3f53c6;\n",
       "  color: #f1f1f1;\n",
       "}\n",
       "#T_f65e6_row3_col4 {\n",
       "  background-color: #a7c5fe;\n",
       "  color: #000000;\n",
       "}\n",
       "#T_f65e6_row4_col0 {\n",
       "  background-color: #4055c8;\n",
       "  color: #f1f1f1;\n",
       "}\n",
       "#T_f65e6_row4_col3 {\n",
       "  background-color: #4257c9;\n",
       "  color: #f1f1f1;\n",
       "}\n",
       "#T_f65e6_row4_col4 {\n",
       "  background-color: #9dbdff;\n",
       "  color: #000000;\n",
       "}\n",
       "#T_f65e6_row6_col0 {\n",
       "  background-color: #485fd1;\n",
       "  color: #f1f1f1;\n",
       "}\n",
       "#T_f65e6_row6_col3 {\n",
       "  background-color: #b1cbfc;\n",
       "  color: #000000;\n",
       "}\n",
       "#T_f65e6_row6_col4 {\n",
       "  background-color: #c1d4f4;\n",
       "  color: #000000;\n",
       "}\n",
       "#T_f65e6_row7_col0 {\n",
       "  background-color: #88abfd;\n",
       "  color: #000000;\n",
       "}\n",
       "#T_f65e6_row7_col1 {\n",
       "  background-color: #d2dbe8;\n",
       "  color: #000000;\n",
       "}\n",
       "#T_f65e6_row7_col4 {\n",
       "  background-color: #c9d7f0;\n",
       "  color: #000000;\n",
       "}\n",
       "#T_f65e6_row8_col2 {\n",
       "  background-color: #4c66d6;\n",
       "  color: #f1f1f1;\n",
       "}\n",
       "#T_f65e6_row8_col3 {\n",
       "  background-color: #b70d28;\n",
       "  color: #f1f1f1;\n",
       "}\n",
       "#T_f65e6_row8_col4 {\n",
       "  background-color: #f7ac8e;\n",
       "  color: #000000;\n",
       "}\n",
       "#T_f65e6_row9_col2 {\n",
       "  background-color: #a5c3fe;\n",
       "  color: #000000;\n",
       "}\n",
       "#T_f65e6_row9_col3 {\n",
       "  background-color: #eed0c0;\n",
       "  color: #000000;\n",
       "}\n",
       "#T_f65e6_row9_col4 {\n",
       "  background-color: #b5cdfa;\n",
       "  color: #000000;\n",
       "}\n",
       "#T_f65e6_row10_col0 {\n",
       "  background-color: #4961d2;\n",
       "  color: #f1f1f1;\n",
       "}\n",
       "#T_f65e6_row10_col4 {\n",
       "  background-color: #c6d6f1;\n",
       "  color: #000000;\n",
       "}\n",
       "#T_f65e6_row11_col2 {\n",
       "  background-color: #80a3fa;\n",
       "  color: #f1f1f1;\n",
       "}\n",
       "#T_f65e6_row11_col3 {\n",
       "  background-color: #e4d9d2;\n",
       "  color: #000000;\n",
       "}\n",
       "#T_f65e6_row11_col4 {\n",
       "  background-color: #f7b89c;\n",
       "  color: #000000;\n",
       "}\n",
       "#T_f65e6_row12_col2 {\n",
       "  background-color: #688aef;\n",
       "  color: #f1f1f1;\n",
       "}\n",
       "#T_f65e6_row12_col3 {\n",
       "  background-color: #ea7b60;\n",
       "  color: #f1f1f1;\n",
       "}\n",
       "#T_f65e6_row12_col4 {\n",
       "  background-color: #c0d4f5;\n",
       "  color: #000000;\n",
       "}\n",
       "#T_f65e6_row13_col2 {\n",
       "  background-color: #5f7fe8;\n",
       "  color: #f1f1f1;\n",
       "}\n",
       "#T_f65e6_row13_col3 {\n",
       "  background-color: #f5a081;\n",
       "  color: #000000;\n",
       "}\n",
       "#T_f65e6_row13_col4 {\n",
       "  background-color: #b2ccfb;\n",
       "  color: #000000;\n",
       "}\n",
       "#T_f65e6_row14_col2 {\n",
       "  background-color: #cb3e38;\n",
       "  color: #f1f1f1;\n",
       "}\n",
       "#T_f65e6_row14_col3 {\n",
       "  background-color: #9abbff;\n",
       "  color: #000000;\n",
       "}\n",
       "#T_f65e6_row14_col4 {\n",
       "  background-color: #e3d9d3;\n",
       "  color: #000000;\n",
       "}\n",
       "</style>\n",
       "<table id=\"T_f65e6\">\n",
       "  <thead>\n",
       "    <tr>\n",
       "      <th class=\"blank level0\" >&nbsp;</th>\n",
       "      <th id=\"T_f65e6_level0_col0\" class=\"col_heading level0 col0\" >0</th>\n",
       "      <th id=\"T_f65e6_level0_col1\" class=\"col_heading level0 col1\" >1</th>\n",
       "      <th id=\"T_f65e6_level0_col2\" class=\"col_heading level0 col2\" >2</th>\n",
       "      <th id=\"T_f65e6_level0_col3\" class=\"col_heading level0 col3\" >3</th>\n",
       "      <th id=\"T_f65e6_level0_col4\" class=\"col_heading level0 col4\" >4</th>\n",
       "    </tr>\n",
       "  </thead>\n",
       "  <tbody>\n",
       "    <tr>\n",
       "      <th id=\"T_f65e6_level0_row0\" class=\"row_heading level0 row0\" >cluster</th>\n",
       "      <td id=\"T_f65e6_row0_col0\" class=\"data row0 col0\" >0.000000</td>\n",
       "      <td id=\"T_f65e6_row0_col1\" class=\"data row0 col1\" >1.000000</td>\n",
       "      <td id=\"T_f65e6_row0_col2\" class=\"data row0 col2\" >2.000000</td>\n",
       "      <td id=\"T_f65e6_row0_col3\" class=\"data row0 col3\" >3.000000</td>\n",
       "      <td id=\"T_f65e6_row0_col4\" class=\"data row0 col4\" >4.000000</td>\n",
       "    </tr>\n",
       "    <tr>\n",
       "      <th id=\"T_f65e6_level0_row1\" class=\"row_heading level0 row1\" >gender</th>\n",
       "      <td id=\"T_f65e6_row1_col0\" class=\"data row1 col0\" >0.499109</td>\n",
       "      <td id=\"T_f65e6_row1_col1\" class=\"data row1 col1\" >0.488571</td>\n",
       "      <td id=\"T_f65e6_row1_col2\" class=\"data row1 col2\" >0.505300</td>\n",
       "      <td id=\"T_f65e6_row1_col3\" class=\"data row1 col3\" >0.544202</td>\n",
       "      <td id=\"T_f65e6_row1_col4\" class=\"data row1 col4\" >0.523316</td>\n",
       "    </tr>\n",
       "    <tr>\n",
       "      <th id=\"T_f65e6_level0_row2\" class=\"row_heading level0 row2\" >near_location</th>\n",
       "      <td id=\"T_f65e6_row2_col0\" class=\"data row2 col0\" >0.000000</td>\n",
       "      <td id=\"T_f65e6_row2_col1\" class=\"data row2 col1\" >0.995238</td>\n",
       "      <td id=\"T_f65e6_row2_col2\" class=\"data row2 col2\" >1.000000</td>\n",
       "      <td id=\"T_f65e6_row2_col3\" class=\"data row2 col3\" >1.000000</td>\n",
       "      <td id=\"T_f65e6_row2_col4\" class=\"data row2 col4\" >0.862694</td>\n",
       "    </tr>\n",
       "    <tr>\n",
       "      <th id=\"T_f65e6_level0_row3\" class=\"row_heading level0 row3\" >partner</th>\n",
       "      <td id=\"T_f65e6_row3_col0\" class=\"data row3 col0\" >0.488414</td>\n",
       "      <td id=\"T_f65e6_row3_col1\" class=\"data row3 col1\" >0.955238</td>\n",
       "      <td id=\"T_f65e6_row3_col2\" class=\"data row3 col2\" >0.238516</td>\n",
       "      <td id=\"T_f65e6_row3_col3\" class=\"data row3 col3\" >0.250287</td>\n",
       "      <td id=\"T_f65e6_row3_col4\" class=\"data row3 col4\" >0.471503</td>\n",
       "    </tr>\n",
       "    <tr>\n",
       "      <th id=\"T_f65e6_level0_row4\" class=\"row_heading level0 row4\" >promo_friends</th>\n",
       "      <td id=\"T_f65e6_row4_col0\" class=\"data row4 col0\" >0.076649</td>\n",
       "      <td id=\"T_f65e6_row4_col1\" class=\"data row4 col1\" >0.892381</td>\n",
       "      <td id=\"T_f65e6_row4_col2\" class=\"data row4 col2\" >0.059187</td>\n",
       "      <td id=\"T_f65e6_row4_col3\" class=\"data row4 col3\" >0.079219</td>\n",
       "      <td id=\"T_f65e6_row4_col4\" class=\"data row4 col4\" >0.305699</td>\n",
       "    </tr>\n",
       "    <tr>\n",
       "      <th id=\"T_f65e6_level0_row5\" class=\"row_heading level0 row5\" >phone</th>\n",
       "      <td id=\"T_f65e6_row5_col0\" class=\"data row5 col0\" >1.000000</td>\n",
       "      <td id=\"T_f65e6_row5_col1\" class=\"data row5 col1\" >1.000000</td>\n",
       "      <td id=\"T_f65e6_row5_col2\" class=\"data row5 col2\" >1.000000</td>\n",
       "      <td id=\"T_f65e6_row5_col3\" class=\"data row5 col3\" >1.000000</td>\n",
       "      <td id=\"T_f65e6_row5_col4\" class=\"data row5 col4\" >0.000000</td>\n",
       "    </tr>\n",
       "    <tr>\n",
       "      <th id=\"T_f65e6_level0_row6\" class=\"row_heading level0 row6\" >contract_period</th>\n",
       "      <td id=\"T_f65e6_row6_col0\" class=\"data row6 col0\" >3.032086</td>\n",
       "      <td id=\"T_f65e6_row6_col1\" class=\"data row6 col1\" >7.660952</td>\n",
       "      <td id=\"T_f65e6_row6_col2\" class=\"data row6 col2\" >2.819788</td>\n",
       "      <td id=\"T_f65e6_row6_col3\" class=\"data row6 col3\" >4.528129</td>\n",
       "      <td id=\"T_f65e6_row6_col4\" class=\"data row6 col4\" >4.777202</td>\n",
       "    </tr>\n",
       "    <tr>\n",
       "      <th id=\"T_f65e6_level0_row7\" class=\"row_heading level0 row7\" >group_visits</th>\n",
       "      <td id=\"T_f65e6_row7_col0\" class=\"data row7 col0\" >0.235294</td>\n",
       "      <td id=\"T_f65e6_row7_col1\" class=\"data row7 col1\" >0.458095</td>\n",
       "      <td id=\"T_f65e6_row7_col2\" class=\"data row7 col2\" >0.000000</td>\n",
       "      <td id=\"T_f65e6_row7_col3\" class=\"data row7 col3\" >1.000000</td>\n",
       "      <td id=\"T_f65e6_row7_col4\" class=\"data row7 col4\" >0.427461</td>\n",
       "    </tr>\n",
       "    <tr>\n",
       "      <th id=\"T_f65e6_level0_row8\" class=\"row_heading level0 row8\" >age</th>\n",
       "      <td id=\"T_f65e6_row8_col0\" class=\"data row8 col0\" >28.721925</td>\n",
       "      <td id=\"T_f65e6_row8_col1\" class=\"data row8 col1\" >29.543810</td>\n",
       "      <td id=\"T_f65e6_row8_col2\" class=\"data row8 col2\" >28.770318</td>\n",
       "      <td id=\"T_f65e6_row8_col3\" class=\"data row8 col3\" >29.536165</td>\n",
       "      <td id=\"T_f65e6_row8_col4\" class=\"data row8 col4\" >29.297927</td>\n",
       "    </tr>\n",
       "    <tr>\n",
       "      <th id=\"T_f65e6_level0_row9\" class=\"row_heading level0 row9\" >avg_additional_charges_total</th>\n",
       "      <td id=\"T_f65e6_row9_col0\" class=\"data row9 col0\" >137.540009</td>\n",
       "      <td id=\"T_f65e6_row9_col1\" class=\"data row9 col1\" >155.861428</td>\n",
       "      <td id=\"T_f65e6_row9_col2\" class=\"data row9 col2\" >143.383993</td>\n",
       "      <td id=\"T_f65e6_row9_col3\" class=\"data row9 col3\" >148.088897</td>\n",
       "      <td id=\"T_f65e6_row9_col4\" class=\"data row9 col4\" >144.208179</td>\n",
       "    </tr>\n",
       "    <tr>\n",
       "      <th id=\"T_f65e6_level0_row10\" class=\"row_heading level0 row10\" >month_to_end_contract</th>\n",
       "      <td id=\"T_f65e6_row10_col0\" class=\"data row10 col0\" >2.853832</td>\n",
       "      <td id=\"T_f65e6_row10_col1\" class=\"data row10 col1\" >6.988571</td>\n",
       "      <td id=\"T_f65e6_row10_col2\" class=\"data row10 col2\" >2.650177</td>\n",
       "      <td id=\"T_f65e6_row10_col3\" class=\"data row10 col3\" >4.165327</td>\n",
       "      <td id=\"T_f65e6_row10_col4\" class=\"data row10 col4\" >4.466321</td>\n",
       "    </tr>\n",
       "    <tr>\n",
       "      <th id=\"T_f65e6_level0_row11\" class=\"row_heading level0 row11\" >lifetime</th>\n",
       "      <td id=\"T_f65e6_row11_col0\" class=\"data row11 col0\" >3.060606</td>\n",
       "      <td id=\"T_f65e6_row11_col1\" class=\"data row11 col1\" >4.380952</td>\n",
       "      <td id=\"T_f65e6_row11_col2\" class=\"data row11 col2\" >3.343640</td>\n",
       "      <td id=\"T_f65e6_row11_col3\" class=\"data row11 col3\" >3.761194</td>\n",
       "      <td id=\"T_f65e6_row11_col4\" class=\"data row11 col4\" >3.940415</td>\n",
       "    </tr>\n",
       "    <tr>\n",
       "      <th id=\"T_f65e6_level0_row12\" class=\"row_heading level0 row12\" >avg_class_frequency_total</th>\n",
       "      <td id=\"T_f65e6_row12_col0\" class=\"data row12 col0\" >1.770413</td>\n",
       "      <td id=\"T_f65e6_row12_col1\" class=\"data row12 col1\" >1.978963</td>\n",
       "      <td id=\"T_f65e6_row12_col2\" class=\"data row12 col2\" >1.800647</td>\n",
       "      <td id=\"T_f65e6_row12_col3\" class=\"data row12 col3\" >1.941342</td>\n",
       "      <td id=\"T_f65e6_row12_col4\" class=\"data row12 col4\" >1.854211</td>\n",
       "    </tr>\n",
       "    <tr>\n",
       "      <th id=\"T_f65e6_level0_row13\" class=\"row_heading level0 row13\" >avg_class_frequency_current_month</th>\n",
       "      <td id=\"T_f65e6_row13_col0\" class=\"data row13 col0\" >1.606619</td>\n",
       "      <td id=\"T_f65e6_row13_col1\" class=\"data row13 col1\" >1.933736</td>\n",
       "      <td id=\"T_f65e6_row13_col2\" class=\"data row13 col2\" >1.645965</td>\n",
       "      <td id=\"T_f65e6_row13_col3\" class=\"data row13 col3\" >1.845911</td>\n",
       "      <td id=\"T_f65e6_row13_col4\" class=\"data row13 col4\" >1.723967</td>\n",
       "    </tr>\n",
       "    <tr>\n",
       "      <th id=\"T_f65e6_level0_row14\" class=\"row_heading level0 row14\" >churn</th>\n",
       "      <td id=\"T_f65e6_row14_col0\" class=\"data row14 col0\" >0.399287</td>\n",
       "      <td id=\"T_f65e6_row14_col1\" class=\"data row14 col1\" >0.120952</td>\n",
       "      <td id=\"T_f65e6_row14_col2\" class=\"data row14 col2\" >0.381625</td>\n",
       "      <td id=\"T_f65e6_row14_col3\" class=\"data row14 col3\" >0.200918</td>\n",
       "      <td id=\"T_f65e6_row14_col4\" class=\"data row14 col4\" >0.266839</td>\n",
       "    </tr>\n",
       "  </tbody>\n",
       "</table>\n"
      ],
      "text/plain": [
       "<pandas.io.formats.style.Styler at 0x1b1708d4df0>"
      ]
     },
     "execution_count": 30,
     "metadata": {},
     "output_type": "execute_result"
    }
   ],
   "source": [
    "# средние значения признаков для каждого кластера\n",
    "cluster_features = data.groupby('cluster').mean().reset_index()\n",
    "cluster_features.T.style.background_gradient(cmap='coolwarm', axis=1)"
   ]
  },
  {
   "cell_type": "markdown",
   "metadata": {},
   "source": [
    "Посмотрим на визуализацию распределения признаков в кластерах. Также применим разные типы графиков для бинарных/небинарных признаков."
   ]
  },
  {
   "cell_type": "code",
   "execution_count": 37,
   "metadata": {},
   "outputs": [
    {
     "data": {
      "image/png": "[encoded data removed]",
      "text/plain": [
       "<Figure size 1080x1080 with 7 Axes>"
      ]
     },
     "metadata": {
      "needs_background": "light"
     },
     "output_type": "display_data"
    }
   ],
   "source": [
    "# строим распределения\n",
    "\n",
    "number_row = int(len(bi)/2)\n",
    "fig, ax = plt.subplots(nrows = number_row + 1, ncols=2, figsize=(15, 15))\n",
    "ax = ax.flatten()\n",
    "\n",
    "# задаем цикл\n",
    "\n",
    "for i in range(len(bi)):\n",
    "    \n",
    "\n",
    "    sns.countplot(data = data, x = bi[i], hue = 'cluster', ax=ax[i]) \n",
    "\n",
    "    ax[i].set_title(f'Распределение по {bi[i]}')\n",
    "    ax[i].set_xlabel(f'{bi[i]}')\n",
    "\n",
    "\n",
    "\n",
    "\n",
    "# удалим последний пустой  \n",
    "fig.delaxes(ax[-1])\n",
    "\n",
    "            \n",
    "# чтобы все надписи вошли   \n",
    "fig.tight_layout()\n",
    "\n",
    "plt.show()"
   ]
  },
  {
   "cell_type": "markdown",
   "metadata": {},
   "source": [
    "- churn - отток - кластер 1 показывает лучшую разницу между оставшимися и ушедшими, в кластере 0 и кластере 2 стоит обратить внимание на удержание (разница между оставшимися и ушедшими небольшая, по сравнению с др.кластерами)\n",
    "- gender - пол - распределение примерно 50\\50 в каждом кластере.\n",
    "- near_location - только клиенты в кластере 0 не живут/работают рядом\n",
    "- partner, promo_friends - партнерская программа, промо-код друга - больше всего таких объектов в кластере 1, кластеры 2 и 3 - клиенты в основном не из партнерской программы/без промо-кода друга\n",
    "- phone - оставили контакт - в кластере 4 никто не оставил свой номер телефона\n",
    "- group_visits - групповые тренировки - кластер 2: не ходят на групповые занятия, кластер 3, наоборот, групповые занятия предпочитают"
   ]
  },
  {
   "cell_type": "code",
   "execution_count": 36,
   "metadata": {
    "scrolled": false
   },
   "outputs": [
    {
     "data": {
      "image/png": "[encoded data removed]",
      "text/plain": [
       "<Figure size 1080x1080 with 7 Axes>"
      ]
     },
     "metadata": {
      "needs_background": "light"
     },
     "output_type": "display_data"
    }
   ],
   "source": [
    "# строим распределения\n",
    "\n",
    "number_row = int(len(multi)/2)\n",
    "fig, ax = plt.subplots(nrows = number_row + 1, ncols=2, figsize=(15, 15))\n",
    "ax = ax.flatten()\n",
    "\n",
    "# задаем цикл\n",
    "\n",
    "for i in range(len(multi)):\n",
    "    \n",
    "\n",
    "    sns.boxplot(data = data,x = 'cluster', y = multi[i], ax=ax[i]) \n",
    "\n",
    "    ax[i].set_title(f'Распределение по {multi[i]}')\n",
    "    ax[i].set_xlabel(f'{multi[i]}')\n",
    "\n",
    "\n",
    "\n",
    "\n",
    "# удалим последний пустой  \n",
    "fig.delaxes(ax[-1])\n",
    "\n",
    "            \n",
    "# чтобы все надписи вошли   \n",
    "fig.tight_layout()\n",
    "\n",
    "plt.show()"
   ]
  },
  {
   "cell_type": "markdown",
   "metadata": {},
   "source": [
    "- в кластере 1 самые длинные абонементы\n",
    "- остальные признаки в кластерах примерно одинаковые"
   ]
  },
  {
   "cell_type": "markdown",
   "metadata": {},
   "source": [
    "#### Итоги\n",
    "\n",
    "В кластере 1 - много объектов, они хорошо удерживаются, в кластере 2, также много объектов, но доля оттока одна из самых высоких.\n",
    "\n",
    "**Кластеризация дала нам портрет перспективной аудитории - это кластер 1 - и показала ее основные характеристики.**\n",
    "Женщины и мужчины около 30 лет, живущие/работающие рядом, пришедшие от предприятий-партнеров или по промо-коду друга, оставляющие номер телефона, покупающие достаточно длинные абонементы (среднее contract_period\t- 7.66 месяца). На допуслуги они тратят больше других, лайфтайм тоже длиннее - 4 месяца, ходят чаще всех в месяц/в неделю.\n",
    "\n",
    "**Так как клиентов во 2 кластере также много, опишем его отличия от 1 кластера.** Объекты этого кластера меньше всего приходили в фитнесс-центр по программе партнеров и промо-коду друга, они не ходят на групповые занятия и берут самые \"короткие\" абонементы.\n",
    "\n",
    "**кластер 0** - самая большая доля оттока, практически все признаки показывают худшие значения. Клиенты - мужчины и женщины, 28 лет, не живущие/работающие рядом, часть из них пришли по партнерской программе, практически никто по промо-коду друга. Но здесь есть плюс, эти клиенты все оставили свой номер телефона.\n",
    "\n",
    "**кластер 3** - невысокая доля оттока, среди кластеров. Эти клиенты в среднем 29,5 лет живут/работают рядом, но пришли в большинстве случаев не по партнерской программе и не по промо-коду. Они ходят на групповые программы, покупают средние по длительности абонементы и остаются в фитнесс-центре на почти 4 месяца\n",
    "\n",
    "**кластер 4** - средняя доля оттока, клиенты 29 лет, живут рядом, покупают абонементы средние по длительности при этом остаются в клубе достаточно долго (показатель лайфтайм второй среди кластеров). Большой недостаток этого кластера - они не оставляют номер телефона, соответственно вернуть их назад будет сложнее"
   ]
  },
  {
   "cell_type": "markdown",
   "metadata": {},
   "source": [
    "## Общие выводы и рекомендации"
   ]
  },
  {
   "cell_type": "markdown",
   "metadata": {},
   "source": [
    "**Данные для анализа были собраны из анкет клиентов и данных по абонементам, включали в себя информацию на месяц до оттока и факт оттока на определенный месяц. Для предсказания оттока клиентов были выбраны две модели - логистическая регрессия и случайный лес(RandomForestClassifier). Оценены метрики - доля правильных ответов, полнота и точность. Метрики модели случайный лес(RandomForestClassifier)  показали лучшие результаты. Кроме того для кластеризации клиентов была отрисована дендрограмма, по которой было принято решение разделить базу на 5 кластеров. Кластеры были описаны, выбран наиболее надежный из них - кластер 1.**\n",
    "\n",
    "Для лучшего привлечения и удержания клиентов рекомендуем:\n",
    "- своевременно вносить данные о новых клиентах в базу, определять клиентов в кластеры, получать ответ на вопрос - останется клиент или нет? - используя ML, для того, чтобы предупреждать отток, а не возвращать клиентов\n",
    "- pаботать на удержание в первый месяц (средний лайфтайм уходящих 0.99) и за 2 месяца до конца купленного абонемента (у тех, кто ушел в среднем оставалось 1.6 месяца до окончания срока абонемента).\n",
    "- наращивать клиентскую базу из близлежащих домов, близких районов\n",
    "- усиливать партнерскую программу\n",
    "- развивать линейку сопутствующих товаров и услуг\n",
    "- продолжать продавать более длинные абонементы"
   ]
  }
 ],
 "metadata": {
  "ExecuteTimeLog": [
   {
    "duration": 1532,
    "start_time": "2022-07-21T16:59:20.906Z"
   },
   {
    "duration": 73,
    "start_time": "2022-07-21T17:00:22.610Z"
   },
   {
    "duration": 15,
    "start_time": "2022-07-21T17:00:33.318Z"
   },
   {
    "duration": 131,
    "start_time": "2022-07-21T17:06:34.430Z"
   },
   {
    "duration": 3,
    "start_time": "2022-07-21T17:06:41.525Z"
   },
   {
    "duration": 14,
    "start_time": "2022-07-21T17:06:42.179Z"
   },
   {
    "duration": 3,
    "start_time": "2022-07-21T17:07:07.351Z"
   },
   {
    "duration": 55,
    "start_time": "2022-07-21T17:07:07.355Z"
   },
   {
    "duration": 4,
    "start_time": "2022-07-21T17:07:07.412Z"
   },
   {
    "duration": 17,
    "start_time": "2022-07-21T17:07:07.418Z"
   },
   {
    "duration": 11,
    "start_time": "2022-07-21T17:07:34.835Z"
   },
   {
    "duration": 54,
    "start_time": "2022-07-21T17:07:55.311Z"
   },
   {
    "duration": 15,
    "start_time": "2022-07-21T17:08:08.902Z"
   },
   {
    "duration": 12,
    "start_time": "2022-07-21T17:08:49.169Z"
   },
   {
    "duration": 6,
    "start_time": "2022-07-21T17:11:50.489Z"
   },
   {
    "duration": 16,
    "start_time": "2022-07-21T17:12:33.017Z"
   },
   {
    "duration": 33,
    "start_time": "2022-07-21T17:14:26.310Z"
   },
   {
    "duration": 1070,
    "start_time": "2022-07-21T17:15:23.421Z"
   },
   {
    "duration": 401,
    "start_time": "2022-07-21T17:16:38.758Z"
   },
   {
    "duration": 26,
    "start_time": "2022-07-21T17:17:44.780Z"
   },
   {
    "duration": 311,
    "start_time": "2022-07-21T17:18:03.894Z"
   },
   {
    "duration": 79,
    "start_time": "2022-07-22T13:55:41.116Z"
   },
   {
    "duration": 1598,
    "start_time": "2022-07-22T13:55:48.733Z"
   },
   {
    "duration": 72,
    "start_time": "2022-07-22T13:55:50.333Z"
   },
   {
    "duration": 17,
    "start_time": "2022-07-22T13:55:50.407Z"
   },
   {
    "duration": 13,
    "start_time": "2022-07-22T13:55:50.426Z"
   },
   {
    "duration": 7,
    "start_time": "2022-07-22T13:55:50.440Z"
   },
   {
    "duration": 96,
    "start_time": "2022-07-22T13:55:50.449Z"
   },
   {
    "duration": 0,
    "start_time": "2022-07-22T13:55:50.546Z"
   },
   {
    "duration": 0,
    "start_time": "2022-07-22T13:55:50.548Z"
   },
   {
    "duration": 0,
    "start_time": "2022-07-22T13:55:50.549Z"
   },
   {
    "duration": 0,
    "start_time": "2022-07-22T13:55:50.550Z"
   },
   {
    "duration": 0,
    "start_time": "2022-07-22T13:55:50.551Z"
   },
   {
    "duration": 3,
    "start_time": "2022-07-22T13:56:18.716Z"
   },
   {
    "duration": 8,
    "start_time": "2022-07-22T13:56:49.006Z"
   },
   {
    "duration": 8,
    "start_time": "2022-07-22T13:56:59.735Z"
   },
   {
    "duration": 3,
    "start_time": "2022-07-22T13:57:07.219Z"
   },
   {
    "duration": 36,
    "start_time": "2022-07-22T13:57:07.228Z"
   },
   {
    "duration": 16,
    "start_time": "2022-07-22T13:57:07.267Z"
   },
   {
    "duration": 15,
    "start_time": "2022-07-22T13:57:07.284Z"
   },
   {
    "duration": 6,
    "start_time": "2022-07-22T13:57:07.301Z"
   },
   {
    "duration": 4,
    "start_time": "2022-07-22T13:57:07.310Z"
   },
   {
    "duration": 15,
    "start_time": "2022-07-22T13:57:07.315Z"
   },
   {
    "duration": 0,
    "start_time": "2022-07-22T13:57:07.332Z"
   },
   {
    "duration": 0,
    "start_time": "2022-07-22T13:57:07.333Z"
   },
   {
    "duration": 0,
    "start_time": "2022-07-22T13:57:07.334Z"
   },
   {
    "duration": 0,
    "start_time": "2022-07-22T13:57:07.336Z"
   },
   {
    "duration": 8,
    "start_time": "2022-07-22T13:57:18.362Z"
   },
   {
    "duration": 8,
    "start_time": "2022-07-22T13:57:24.358Z"
   },
   {
    "duration": 8,
    "start_time": "2022-07-22T13:58:25.158Z"
   },
   {
    "duration": 3,
    "start_time": "2022-07-22T14:05:15.924Z"
   },
   {
    "duration": 43,
    "start_time": "2022-07-22T14:05:15.929Z"
   },
   {
    "duration": 13,
    "start_time": "2022-07-22T14:05:15.973Z"
   },
   {
    "duration": 18,
    "start_time": "2022-07-22T14:05:15.988Z"
   },
   {
    "duration": 7,
    "start_time": "2022-07-22T14:05:16.008Z"
   },
   {
    "duration": 46,
    "start_time": "2022-07-22T14:05:16.016Z"
   },
   {
    "duration": 17,
    "start_time": "2022-07-22T14:05:16.064Z"
   },
   {
    "duration": 1045,
    "start_time": "2022-07-22T14:05:16.082Z"
   },
   {
    "duration": 315,
    "start_time": "2022-07-22T14:05:17.129Z"
   },
   {
    "duration": 20,
    "start_time": "2022-07-22T14:05:17.445Z"
   },
   {
    "duration": 102,
    "start_time": "2022-07-22T14:07:59.055Z"
   },
   {
    "duration": 151,
    "start_time": "2022-07-22T14:08:11.183Z"
   },
   {
    "duration": 298,
    "start_time": "2022-07-22T14:08:31.067Z"
   },
   {
    "duration": 142,
    "start_time": "2022-07-22T14:09:36.607Z"
   },
   {
    "duration": 129,
    "start_time": "2022-07-22T14:11:28.772Z"
   },
   {
    "duration": 134,
    "start_time": "2022-07-22T14:11:57.055Z"
   },
   {
    "duration": 273,
    "start_time": "2022-07-22T14:12:26.555Z"
   },
   {
    "duration": 173,
    "start_time": "2022-07-22T14:13:22.263Z"
   },
   {
    "duration": 171,
    "start_time": "2022-07-22T14:17:13.376Z"
   },
   {
    "duration": 267,
    "start_time": "2022-07-22T14:17:34.212Z"
   },
   {
    "duration": 63,
    "start_time": "2022-07-22T14:18:38.173Z"
   },
   {
    "duration": 293,
    "start_time": "2022-07-22T14:19:09.455Z"
   },
   {
    "duration": 296,
    "start_time": "2022-07-22T14:19:30.797Z"
   },
   {
    "duration": 274,
    "start_time": "2022-07-22T14:22:05.923Z"
   },
   {
    "duration": 272,
    "start_time": "2022-07-22T14:27:42.995Z"
   },
   {
    "duration": 437,
    "start_time": "2022-07-22T14:33:11.404Z"
   },
   {
    "duration": 1121,
    "start_time": "2022-07-22T14:35:25.559Z"
   },
   {
    "duration": 1108,
    "start_time": "2022-07-22T14:35:40.447Z"
   },
   {
    "duration": 2124,
    "start_time": "2022-07-22T14:36:04.248Z"
   },
   {
    "duration": 1455,
    "start_time": "2022-07-22T14:41:38.513Z"
   },
   {
    "duration": 1459,
    "start_time": "2022-07-22T14:42:34.990Z"
   },
   {
    "duration": 1539,
    "start_time": "2022-07-22T14:42:51.361Z"
   },
   {
    "duration": 148,
    "start_time": "2022-07-22T14:43:27.710Z"
   },
   {
    "duration": 1557,
    "start_time": "2022-07-22T14:43:36.511Z"
   },
   {
    "duration": 104,
    "start_time": "2022-07-22T14:45:57.360Z"
   },
   {
    "duration": 1492,
    "start_time": "2022-07-22T14:46:08.402Z"
   },
   {
    "duration": 1410,
    "start_time": "2022-07-22T14:46:36.402Z"
   },
   {
    "duration": 1402,
    "start_time": "2022-07-22T14:47:11.962Z"
   },
   {
    "duration": 80,
    "start_time": "2022-07-22T14:49:14.378Z"
   },
   {
    "duration": 1557,
    "start_time": "2022-07-22T14:49:27.606Z"
   },
   {
    "duration": 1429,
    "start_time": "2022-07-22T14:50:11.603Z"
   },
   {
    "duration": 1416,
    "start_time": "2022-07-22T14:50:57.002Z"
   },
   {
    "duration": 1435,
    "start_time": "2022-07-22T14:51:09.565Z"
   },
   {
    "duration": 1433,
    "start_time": "2022-07-22T14:51:23.460Z"
   },
   {
    "duration": 1443,
    "start_time": "2022-07-22T14:51:40.809Z"
   },
   {
    "duration": 128,
    "start_time": "2022-07-22T14:55:02.703Z"
   },
   {
    "duration": 10,
    "start_time": "2022-07-22T14:55:26.078Z"
   },
   {
    "duration": 2211,
    "start_time": "2022-07-22T14:58:53.942Z"
   },
   {
    "duration": 2297,
    "start_time": "2022-07-22T15:00:59.901Z"
   },
   {
    "duration": 2115,
    "start_time": "2022-07-22T15:01:17.728Z"
   },
   {
    "duration": 2094,
    "start_time": "2022-07-22T15:01:26.934Z"
   },
   {
    "duration": 2181,
    "start_time": "2022-07-22T15:01:37.235Z"
   },
   {
    "duration": 2284,
    "start_time": "2022-07-22T15:02:03.111Z"
   },
   {
    "duration": 2069,
    "start_time": "2022-07-22T15:02:22.865Z"
   },
   {
    "duration": 2337,
    "start_time": "2022-07-22T15:03:38.710Z"
   },
   {
    "duration": 1949,
    "start_time": "2022-07-22T15:03:52.198Z"
   },
   {
    "duration": 9,
    "start_time": "2022-07-22T15:04:20.366Z"
   },
   {
    "duration": 71,
    "start_time": "2022-07-22T15:04:37.665Z"
   },
   {
    "duration": 11,
    "start_time": "2022-07-22T15:04:54.919Z"
   },
   {
    "duration": 2768,
    "start_time": "2022-07-22T15:05:04.009Z"
   },
   {
    "duration": 2779,
    "start_time": "2022-07-22T15:05:23.030Z"
   },
   {
    "duration": 2688,
    "start_time": "2022-07-22T15:06:14.079Z"
   },
   {
    "duration": 12,
    "start_time": "2022-07-22T15:06:59.770Z"
   },
   {
    "duration": 1215,
    "start_time": "2022-07-22T15:07:06.001Z"
   },
   {
    "duration": 2780,
    "start_time": "2022-07-22T15:07:16.476Z"
   },
   {
    "duration": 3022,
    "start_time": "2022-07-22T15:07:31.369Z"
   },
   {
    "duration": 2386,
    "start_time": "2022-07-22T15:07:47.773Z"
   },
   {
    "duration": 2982,
    "start_time": "2022-07-22T15:07:59.788Z"
   },
   {
    "duration": 2638,
    "start_time": "2022-07-22T15:08:18.871Z"
   },
   {
    "duration": 2737,
    "start_time": "2022-07-22T15:09:05.515Z"
   },
   {
    "duration": 988,
    "start_time": "2022-07-22T15:10:46.020Z"
   },
   {
    "duration": 1313,
    "start_time": "2022-07-22T15:11:22.029Z"
   },
   {
    "duration": 1667,
    "start_time": "2022-07-22T15:12:09.949Z"
   },
   {
    "duration": 1291,
    "start_time": "2022-07-22T15:12:24.561Z"
   },
   {
    "duration": 1365,
    "start_time": "2022-07-22T15:12:42.974Z"
   },
   {
    "duration": 1616,
    "start_time": "2022-07-22T15:14:09.268Z"
   },
   {
    "duration": 2908,
    "start_time": "2022-07-22T15:16:08.161Z"
   },
   {
    "duration": 1319,
    "start_time": "2022-07-22T15:17:05.210Z"
   },
   {
    "duration": 64,
    "start_time": "2022-07-22T15:17:11.202Z"
   },
   {
    "duration": 1220,
    "start_time": "2022-07-22T15:17:22.782Z"
   },
   {
    "duration": 1021,
    "start_time": "2022-07-22T15:19:04.654Z"
   },
   {
    "duration": 1570,
    "start_time": "2022-07-22T15:19:23.168Z"
   },
   {
    "duration": 1341,
    "start_time": "2022-07-22T15:19:51.970Z"
   },
   {
    "duration": 2265,
    "start_time": "2022-07-22T15:22:21.645Z"
   },
   {
    "duration": 2482,
    "start_time": "2022-07-22T15:23:22.883Z"
   },
   {
    "duration": 2720,
    "start_time": "2022-07-22T15:26:55.728Z"
   },
   {
    "duration": 2628,
    "start_time": "2022-07-22T15:27:24.692Z"
   },
   {
    "duration": 3521,
    "start_time": "2022-07-22T15:28:21.983Z"
   },
   {
    "duration": 5468,
    "start_time": "2022-07-22T15:29:35.502Z"
   },
   {
    "duration": 2705,
    "start_time": "2022-07-22T15:30:44.507Z"
   },
   {
    "duration": 2088,
    "start_time": "2022-07-22T15:30:53.001Z"
   },
   {
    "duration": 2890,
    "start_time": "2022-07-22T15:33:31.342Z"
   },
   {
    "duration": 989,
    "start_time": "2022-07-22T15:33:57.820Z"
   },
   {
    "duration": 2774,
    "start_time": "2022-07-22T15:38:26.516Z"
   },
   {
    "duration": 148,
    "start_time": "2022-07-22T15:44:35.479Z"
   },
   {
    "duration": 62680,
    "start_time": "2022-07-22T15:46:08.107Z"
   },
   {
    "duration": 159,
    "start_time": "2022-07-22T15:53:38.052Z"
   },
   {
    "duration": 179,
    "start_time": "2022-07-22T15:53:58.248Z"
   },
   {
    "duration": 147,
    "start_time": "2022-07-22T15:54:22.969Z"
   },
   {
    "duration": 128,
    "start_time": "2022-07-22T15:54:45.757Z"
   },
   {
    "duration": 47,
    "start_time": "2022-07-23T06:16:38.193Z"
   },
   {
    "duration": 1726,
    "start_time": "2022-07-23T06:16:46.468Z"
   },
   {
    "duration": 115,
    "start_time": "2022-07-23T06:16:48.196Z"
   },
   {
    "duration": 20,
    "start_time": "2022-07-23T06:16:48.313Z"
   },
   {
    "duration": 24,
    "start_time": "2022-07-23T06:16:48.334Z"
   },
   {
    "duration": 19,
    "start_time": "2022-07-23T06:16:48.361Z"
   },
   {
    "duration": 13,
    "start_time": "2022-07-23T06:16:48.382Z"
   },
   {
    "duration": 60,
    "start_time": "2022-07-23T06:16:48.397Z"
   },
   {
    "duration": 229,
    "start_time": "2022-07-23T06:16:48.459Z"
   },
   {
    "duration": 0,
    "start_time": "2022-07-23T06:16:48.690Z"
   },
   {
    "duration": 0,
    "start_time": "2022-07-23T06:16:48.692Z"
   },
   {
    "duration": 0,
    "start_time": "2022-07-23T06:16:48.703Z"
   },
   {
    "duration": 0,
    "start_time": "2022-07-23T06:16:48.705Z"
   },
   {
    "duration": 0,
    "start_time": "2022-07-23T06:16:48.707Z"
   },
   {
    "duration": 0,
    "start_time": "2022-07-23T06:16:48.708Z"
   },
   {
    "duration": 5,
    "start_time": "2022-07-23T06:17:43.597Z"
   },
   {
    "duration": 5,
    "start_time": "2022-07-23T06:18:30.201Z"
   },
   {
    "duration": 13,
    "start_time": "2022-07-23T06:20:17.129Z"
   },
   {
    "duration": 3,
    "start_time": "2022-07-23T06:20:29.727Z"
   },
   {
    "duration": 34,
    "start_time": "2022-07-23T06:20:29.733Z"
   },
   {
    "duration": 14,
    "start_time": "2022-07-23T06:20:29.769Z"
   },
   {
    "duration": 14,
    "start_time": "2022-07-23T06:20:29.786Z"
   },
   {
    "duration": 7,
    "start_time": "2022-07-23T06:20:29.802Z"
   },
   {
    "duration": 5,
    "start_time": "2022-07-23T06:20:29.811Z"
   },
   {
    "duration": 46,
    "start_time": "2022-07-23T06:20:29.817Z"
   },
   {
    "duration": 12,
    "start_time": "2022-07-23T06:20:29.865Z"
   },
   {
    "duration": 0,
    "start_time": "2022-07-23T06:20:29.878Z"
   },
   {
    "duration": 0,
    "start_time": "2022-07-23T06:20:29.880Z"
   },
   {
    "duration": 0,
    "start_time": "2022-07-23T06:20:29.904Z"
   },
   {
    "duration": 0,
    "start_time": "2022-07-23T06:20:29.905Z"
   },
   {
    "duration": 0,
    "start_time": "2022-07-23T06:20:29.906Z"
   },
   {
    "duration": 17,
    "start_time": "2022-07-23T06:21:05.953Z"
   },
   {
    "duration": 69405,
    "start_time": "2022-07-23T06:33:32.844Z"
   },
   {
    "duration": 19,
    "start_time": "2022-07-23T06:36:32.817Z"
   },
   {
    "duration": 19,
    "start_time": "2022-07-23T06:37:25.945Z"
   },
   {
    "duration": 76621,
    "start_time": "2022-07-23T06:38:51.067Z"
   },
   {
    "duration": 166,
    "start_time": "2022-07-23T06:41:59.264Z"
   },
   {
    "duration": 1623,
    "start_time": "2022-07-23T06:42:23.773Z"
   },
   {
    "duration": 1487,
    "start_time": "2022-07-23T06:42:35.505Z"
   },
   {
    "duration": 1499,
    "start_time": "2022-07-23T06:42:52.427Z"
   },
   {
    "duration": 13,
    "start_time": "2022-07-23T06:55:28.407Z"
   },
   {
    "duration": 10,
    "start_time": "2022-07-23T06:57:58.634Z"
   },
   {
    "duration": 14,
    "start_time": "2022-07-23T07:08:17.150Z"
   },
   {
    "duration": 13,
    "start_time": "2022-07-23T07:08:26.712Z"
   },
   {
    "duration": 43,
    "start_time": "2022-07-23T07:08:26.727Z"
   },
   {
    "duration": 18,
    "start_time": "2022-07-23T07:08:26.772Z"
   },
   {
    "duration": 20,
    "start_time": "2022-07-23T07:08:26.792Z"
   },
   {
    "duration": 35,
    "start_time": "2022-07-23T07:08:26.815Z"
   },
   {
    "duration": 12,
    "start_time": "2022-07-23T07:08:26.853Z"
   },
   {
    "duration": 83,
    "start_time": "2022-07-23T07:08:26.868Z"
   },
   {
    "duration": 19,
    "start_time": "2022-07-23T07:08:26.953Z"
   },
   {
    "duration": 1786,
    "start_time": "2022-07-23T07:08:26.974Z"
   },
   {
    "duration": 1642,
    "start_time": "2022-07-23T07:08:28.762Z"
   },
   {
    "duration": 1696,
    "start_time": "2022-07-23T07:08:30.408Z"
   },
   {
    "duration": 22,
    "start_time": "2022-07-23T07:08:32.106Z"
   },
   {
    "duration": 20,
    "start_time": "2022-07-23T07:08:32.130Z"
   },
   {
    "duration": 8,
    "start_time": "2022-07-23T07:08:32.153Z"
   },
   {
    "duration": 12,
    "start_time": "2022-07-23T07:14:36.170Z"
   },
   {
    "duration": 6,
    "start_time": "2022-07-23T07:15:57.906Z"
   },
   {
    "duration": 4,
    "start_time": "2022-07-23T07:16:23.556Z"
   },
   {
    "duration": 6,
    "start_time": "2022-07-23T07:20:40.358Z"
   },
   {
    "duration": 14,
    "start_time": "2022-07-23T07:21:43.151Z"
   },
   {
    "duration": 4,
    "start_time": "2022-07-23T07:22:27.970Z"
   },
   {
    "duration": 3752,
    "start_time": "2022-07-23T07:22:29.021Z"
   },
   {
    "duration": 5,
    "start_time": "2022-07-23T07:23:51.114Z"
   },
   {
    "duration": 1774,
    "start_time": "2022-07-23T07:23:52.409Z"
   },
   {
    "duration": 5,
    "start_time": "2022-07-23T07:26:03.210Z"
   },
   {
    "duration": 41,
    "start_time": "2022-07-23T07:26:03.218Z"
   },
   {
    "duration": 13,
    "start_time": "2022-07-23T07:26:03.262Z"
   },
   {
    "duration": 20,
    "start_time": "2022-07-23T07:26:03.277Z"
   },
   {
    "duration": 8,
    "start_time": "2022-07-23T07:26:03.300Z"
   },
   {
    "duration": 14,
    "start_time": "2022-07-23T07:26:03.311Z"
   },
   {
    "duration": 63,
    "start_time": "2022-07-23T07:26:03.328Z"
   },
   {
    "duration": 30,
    "start_time": "2022-07-23T07:26:03.405Z"
   },
   {
    "duration": 1776,
    "start_time": "2022-07-23T07:26:03.437Z"
   },
   {
    "duration": 1706,
    "start_time": "2022-07-23T07:26:05.214Z"
   },
   {
    "duration": 1486,
    "start_time": "2022-07-23T07:26:06.924Z"
   },
   {
    "duration": 9,
    "start_time": "2022-07-23T07:26:08.413Z"
   },
   {
    "duration": 22,
    "start_time": "2022-07-23T07:26:08.424Z"
   },
   {
    "duration": 6,
    "start_time": "2022-07-23T07:26:08.448Z"
   },
   {
    "duration": 14,
    "start_time": "2022-07-23T07:26:08.455Z"
   },
   {
    "duration": 4202,
    "start_time": "2022-07-23T07:26:08.471Z"
   },
   {
    "duration": 10,
    "start_time": "2022-07-23T07:26:12.675Z"
   },
   {
    "duration": 3,
    "start_time": "2022-07-23T07:30:52.793Z"
   },
   {
    "duration": 1547,
    "start_time": "2022-07-23T07:31:32.459Z"
   },
   {
    "duration": 2604,
    "start_time": "2022-07-23T07:32:08.414Z"
   },
   {
    "duration": 4,
    "start_time": "2022-07-23T07:33:46.714Z"
   },
   {
    "duration": 53,
    "start_time": "2022-07-23T07:33:46.721Z"
   },
   {
    "duration": 18,
    "start_time": "2022-07-23T07:33:46.777Z"
   },
   {
    "duration": 56,
    "start_time": "2022-07-23T07:33:46.798Z"
   },
   {
    "duration": 21,
    "start_time": "2022-07-23T07:33:46.856Z"
   },
   {
    "duration": 50,
    "start_time": "2022-07-23T07:33:46.879Z"
   },
   {
    "duration": 97,
    "start_time": "2022-07-23T07:33:46.931Z"
   },
   {
    "duration": 18,
    "start_time": "2022-07-23T07:33:47.030Z"
   },
   {
    "duration": 1753,
    "start_time": "2022-07-23T07:33:47.051Z"
   },
   {
    "duration": 1485,
    "start_time": "2022-07-23T07:33:48.807Z"
   },
   {
    "duration": 1551,
    "start_time": "2022-07-23T07:33:50.294Z"
   },
   {
    "duration": 7,
    "start_time": "2022-07-23T07:33:51.847Z"
   },
   {
    "duration": 2350,
    "start_time": "2022-07-23T07:33:51.855Z"
   },
   {
    "duration": 16,
    "start_time": "2022-07-23T07:33:54.207Z"
   },
   {
    "duration": 89,
    "start_time": "2022-07-23T07:33:54.225Z"
   },
   {
    "duration": 12,
    "start_time": "2022-07-23T07:33:54.316Z"
   },
   {
    "duration": 3442,
    "start_time": "2022-07-23T07:33:54.330Z"
   },
   {
    "duration": 11,
    "start_time": "2022-07-23T07:33:57.774Z"
   },
   {
    "duration": 1758,
    "start_time": "2022-07-23T07:36:12.552Z"
   },
   {
    "duration": 1549,
    "start_time": "2022-07-23T07:37:37.267Z"
   },
   {
    "duration": 1849,
    "start_time": "2022-07-23T07:38:20.867Z"
   },
   {
    "duration": 4,
    "start_time": "2022-07-23T07:39:16.596Z"
   },
   {
    "duration": 98,
    "start_time": "2022-07-23T07:39:16.603Z"
   },
   {
    "duration": 29,
    "start_time": "2022-07-23T07:39:16.703Z"
   },
   {
    "duration": 34,
    "start_time": "2022-07-23T07:39:16.734Z"
   },
   {
    "duration": 38,
    "start_time": "2022-07-23T07:39:16.771Z"
   },
   {
    "duration": 26,
    "start_time": "2022-07-23T07:39:16.812Z"
   },
   {
    "duration": 77,
    "start_time": "2022-07-23T07:39:16.840Z"
   },
   {
    "duration": 17,
    "start_time": "2022-07-23T07:39:16.921Z"
   },
   {
    "duration": 1576,
    "start_time": "2022-07-23T07:39:16.941Z"
   },
   {
    "duration": 1584,
    "start_time": "2022-07-23T07:39:18.520Z"
   },
   {
    "duration": 1637,
    "start_time": "2022-07-23T07:39:20.107Z"
   },
   {
    "duration": 7,
    "start_time": "2022-07-23T07:39:21.746Z"
   },
   {
    "duration": 3654,
    "start_time": "2022-07-23T07:39:21.755Z"
   },
   {
    "duration": 99,
    "start_time": "2022-07-23T07:39:25.415Z"
   },
   {
    "duration": 10,
    "start_time": "2022-07-23T07:39:25.516Z"
   },
   {
    "duration": 5,
    "start_time": "2022-07-23T07:39:25.529Z"
   },
   {
    "duration": 1839,
    "start_time": "2022-07-23T07:39:25.536Z"
   },
   {
    "duration": 10,
    "start_time": "2022-07-23T07:39:27.377Z"
   },
   {
    "duration": 46,
    "start_time": "2022-07-23T14:55:28.403Z"
   },
   {
    "duration": 1421,
    "start_time": "2022-07-23T14:55:32.190Z"
   },
   {
    "duration": 236,
    "start_time": "2022-07-23T14:55:33.613Z"
   },
   {
    "duration": 16,
    "start_time": "2022-07-23T14:55:33.851Z"
   },
   {
    "duration": 11,
    "start_time": "2022-07-23T14:55:33.869Z"
   },
   {
    "duration": 6,
    "start_time": "2022-07-23T14:55:33.882Z"
   },
   {
    "duration": 5,
    "start_time": "2022-07-23T14:55:33.889Z"
   },
   {
    "duration": 68,
    "start_time": "2022-07-23T14:55:33.895Z"
   },
   {
    "duration": 15,
    "start_time": "2022-07-23T14:55:33.965Z"
   },
   {
    "duration": 1334,
    "start_time": "2022-07-23T14:55:33.981Z"
   },
   {
    "duration": 1191,
    "start_time": "2022-07-23T14:55:35.318Z"
   },
   {
    "duration": 1479,
    "start_time": "2022-07-23T14:55:36.511Z"
   },
   {
    "duration": 5,
    "start_time": "2022-07-23T14:55:37.992Z"
   },
   {
    "duration": 1361,
    "start_time": "2022-07-23T14:55:37.999Z"
   },
   {
    "duration": 94,
    "start_time": "2022-07-23T14:55:39.363Z"
   },
   {
    "duration": 12,
    "start_time": "2022-07-23T14:55:39.459Z"
   },
   {
    "duration": 85,
    "start_time": "2022-07-23T14:55:39.473Z"
   },
   {
    "duration": 1415,
    "start_time": "2022-07-23T14:55:39.560Z"
   },
   {
    "duration": 66,
    "start_time": "2022-07-23T14:55:40.977Z"
   },
   {
    "duration": 16,
    "start_time": "2022-07-23T15:21:06.367Z"
   },
   {
    "duration": 2103,
    "start_time": "2022-07-23T15:35:50.320Z"
   },
   {
    "duration": 1820,
    "start_time": "2022-07-23T15:36:52.751Z"
   },
   {
    "duration": 13,
    "start_time": "2022-07-23T15:37:38.091Z"
   },
   {
    "duration": 3113,
    "start_time": "2022-07-23T15:41:11.451Z"
   },
   {
    "duration": 1261,
    "start_time": "2022-07-23T15:43:13.759Z"
   },
   {
    "duration": 1789,
    "start_time": "2022-07-23T15:43:27.699Z"
   },
   {
    "duration": 3221,
    "start_time": "2022-07-23T15:43:42.185Z"
   },
   {
    "duration": 3403,
    "start_time": "2022-07-23T15:48:58.569Z"
   },
   {
    "duration": 5,
    "start_time": "2022-07-23T15:49:12.624Z"
   },
   {
    "duration": 2136,
    "start_time": "2022-07-23T15:52:41.780Z"
   },
   {
    "duration": 4,
    "start_time": "2022-07-23T15:55:06.301Z"
   },
   {
    "duration": 11,
    "start_time": "2022-07-23T15:57:29.511Z"
   },
   {
    "duration": 2397,
    "start_time": "2022-07-23T15:57:51.587Z"
   },
   {
    "duration": 469,
    "start_time": "2022-07-23T15:58:34.042Z"
   },
   {
    "duration": 638,
    "start_time": "2022-07-23T16:05:29.644Z"
   },
   {
    "duration": 2787,
    "start_time": "2022-07-23T16:05:38.666Z"
   },
   {
    "duration": 2404,
    "start_time": "2022-07-23T16:06:24.340Z"
   },
   {
    "duration": 1992,
    "start_time": "2022-07-23T16:11:37.714Z"
   },
   {
    "duration": 1940,
    "start_time": "2022-07-23T16:12:37.939Z"
   },
   {
    "duration": 1909,
    "start_time": "2022-07-23T16:15:10.283Z"
   },
   {
    "duration": 2152,
    "start_time": "2022-07-23T16:15:34.054Z"
   },
   {
    "duration": 2362,
    "start_time": "2022-07-23T16:16:11.042Z"
   },
   {
    "duration": 123,
    "start_time": "2022-07-23T16:17:17.561Z"
   },
   {
    "duration": 7,
    "start_time": "2022-07-23T16:17:42.220Z"
   },
   {
    "duration": 249,
    "start_time": "2022-07-23T16:17:50.148Z"
   },
   {
    "duration": 1913,
    "start_time": "2022-07-23T16:18:02.380Z"
   },
   {
    "duration": 1869,
    "start_time": "2022-07-23T16:20:11.372Z"
   },
   {
    "duration": 2104,
    "start_time": "2022-07-23T16:20:42.898Z"
   },
   {
    "duration": 9,
    "start_time": "2022-07-23T16:51:37.544Z"
   },
   {
    "duration": 695,
    "start_time": "2022-07-23T16:51:50.348Z"
   },
   {
    "duration": 1168,
    "start_time": "2022-07-23T17:12:58.299Z"
   },
   {
    "duration": 1034,
    "start_time": "2022-07-23T17:13:26.794Z"
   },
   {
    "duration": 4,
    "start_time": "2022-07-23T17:14:26.878Z"
   },
   {
    "duration": 2098,
    "start_time": "2022-07-23T17:14:28.467Z"
   },
   {
    "duration": 928,
    "start_time": "2022-07-23T17:14:38.497Z"
   },
   {
    "duration": 735,
    "start_time": "2022-07-23T17:22:04.509Z"
   },
   {
    "duration": 4,
    "start_time": "2022-07-23T17:22:57.824Z"
   },
   {
    "duration": 75,
    "start_time": "2022-07-23T17:23:03.399Z"
   },
   {
    "duration": 782,
    "start_time": "2022-07-23T17:23:08.324Z"
   },
   {
    "duration": 790,
    "start_time": "2022-07-23T17:27:53.562Z"
   },
   {
    "duration": 810,
    "start_time": "2022-07-23T17:29:44.890Z"
   },
   {
    "duration": 5,
    "start_time": "2022-07-23T17:58:43.721Z"
   },
   {
    "duration": 3,
    "start_time": "2022-07-23T17:59:11.957Z"
   },
   {
    "duration": 16,
    "start_time": "2022-07-23T18:00:22.796Z"
   },
   {
    "duration": 4,
    "start_time": "2022-07-23T18:00:38.920Z"
   },
   {
    "duration": 40,
    "start_time": "2022-07-23T18:00:38.926Z"
   },
   {
    "duration": 17,
    "start_time": "2022-07-23T18:00:38.969Z"
   },
   {
    "duration": 11,
    "start_time": "2022-07-23T18:00:38.988Z"
   },
   {
    "duration": 6,
    "start_time": "2022-07-23T18:00:39.001Z"
   },
   {
    "duration": 5,
    "start_time": "2022-07-23T18:00:39.074Z"
   },
   {
    "duration": 51,
    "start_time": "2022-07-23T18:00:39.081Z"
   },
   {
    "duration": 15,
    "start_time": "2022-07-23T18:00:39.133Z"
   },
   {
    "duration": 5,
    "start_time": "2022-07-23T18:00:39.149Z"
   },
   {
    "duration": 1879,
    "start_time": "2022-07-23T18:00:39.155Z"
   },
   {
    "duration": 810,
    "start_time": "2022-07-23T18:00:41.037Z"
   },
   {
    "duration": 1311,
    "start_time": "2022-07-23T18:00:41.851Z"
   },
   {
    "duration": 7,
    "start_time": "2022-07-23T18:00:43.164Z"
   },
   {
    "duration": 7,
    "start_time": "2022-07-23T18:00:43.173Z"
   },
   {
    "duration": 671,
    "start_time": "2022-07-23T18:00:43.183Z"
   },
   {
    "duration": 98,
    "start_time": "2022-07-23T18:00:43.855Z"
   },
   {
    "duration": 5,
    "start_time": "2022-07-23T18:00:43.955Z"
   },
   {
    "duration": 4,
    "start_time": "2022-07-23T18:00:43.962Z"
   },
   {
    "duration": 1529,
    "start_time": "2022-07-23T18:00:43.968Z"
   },
   {
    "duration": 11,
    "start_time": "2022-07-23T18:00:45.498Z"
   },
   {
    "duration": 7,
    "start_time": "2022-07-23T18:03:01.798Z"
   },
   {
    "duration": 770,
    "start_time": "2022-07-23T18:03:50.020Z"
   },
   {
    "duration": 908,
    "start_time": "2022-07-23T18:04:05.947Z"
   },
   {
    "duration": 30,
    "start_time": "2022-07-23T18:05:29.760Z"
   },
   {
    "duration": 3,
    "start_time": "2022-07-23T18:06:36.347Z"
   },
   {
    "duration": 36,
    "start_time": "2022-07-23T18:06:36.354Z"
   },
   {
    "duration": 12,
    "start_time": "2022-07-23T18:06:36.392Z"
   },
   {
    "duration": 13,
    "start_time": "2022-07-23T18:06:36.406Z"
   },
   {
    "duration": 8,
    "start_time": "2022-07-23T18:06:36.564Z"
   },
   {
    "duration": 5,
    "start_time": "2022-07-23T18:06:36.574Z"
   },
   {
    "duration": 49,
    "start_time": "2022-07-23T18:06:36.580Z"
   },
   {
    "duration": 35,
    "start_time": "2022-07-23T18:06:36.631Z"
   },
   {
    "duration": 4,
    "start_time": "2022-07-23T18:06:36.794Z"
   },
   {
    "duration": 1944,
    "start_time": "2022-07-23T18:06:36.804Z"
   },
   {
    "duration": 756,
    "start_time": "2022-07-23T18:06:38.752Z"
   },
   {
    "duration": 1330,
    "start_time": "2022-07-23T18:06:39.510Z"
   },
   {
    "duration": 13,
    "start_time": "2022-07-23T18:06:40.842Z"
   },
   {
    "duration": 7,
    "start_time": "2022-07-23T18:06:40.857Z"
   },
   {
    "duration": 9,
    "start_time": "2022-07-23T18:06:40.866Z"
   },
   {
    "duration": 31,
    "start_time": "2022-07-23T18:06:40.876Z"
   },
   {
    "duration": 3,
    "start_time": "2022-07-23T18:06:40.908Z"
   },
   {
    "duration": 5,
    "start_time": "2022-07-23T18:06:40.912Z"
   },
   {
    "duration": 1208,
    "start_time": "2022-07-23T18:06:40.918Z"
   },
   {
    "duration": 10,
    "start_time": "2022-07-23T18:06:42.127Z"
   },
   {
    "duration": 25,
    "start_time": "2022-07-23T18:07:12.955Z"
   },
   {
    "duration": 26,
    "start_time": "2022-07-23T18:07:19.654Z"
   },
   {
    "duration": 26,
    "start_time": "2022-07-23T18:08:22.906Z"
   },
   {
    "duration": 32,
    "start_time": "2022-07-23T18:18:36.579Z"
   },
   {
    "duration": 20,
    "start_time": "2022-07-23T18:19:52.206Z"
   },
   {
    "duration": 1416,
    "start_time": "2022-07-23T18:20:14.496Z"
   },
   {
    "duration": 33,
    "start_time": "2022-07-23T18:20:15.914Z"
   },
   {
    "duration": 18,
    "start_time": "2022-07-23T18:20:15.948Z"
   },
   {
    "duration": 15,
    "start_time": "2022-07-23T18:20:15.968Z"
   },
   {
    "duration": 8,
    "start_time": "2022-07-23T18:20:15.985Z"
   },
   {
    "duration": 5,
    "start_time": "2022-07-23T18:20:15.995Z"
   },
   {
    "duration": 78,
    "start_time": "2022-07-23T18:20:16.002Z"
   },
   {
    "duration": 22,
    "start_time": "2022-07-23T18:20:16.082Z"
   },
   {
    "duration": 4,
    "start_time": "2022-07-23T18:20:16.105Z"
   },
   {
    "duration": 1858,
    "start_time": "2022-07-23T18:20:16.113Z"
   },
   {
    "duration": 824,
    "start_time": "2022-07-23T18:20:17.973Z"
   },
   {
    "duration": 1304,
    "start_time": "2022-07-23T18:20:18.799Z"
   },
   {
    "duration": 8,
    "start_time": "2022-07-23T18:20:20.105Z"
   },
   {
    "duration": 9,
    "start_time": "2022-07-23T18:20:20.115Z"
   },
   {
    "duration": 11,
    "start_time": "2022-07-23T18:20:20.125Z"
   },
   {
    "duration": 26,
    "start_time": "2022-07-23T18:20:20.138Z"
   },
   {
    "duration": 2,
    "start_time": "2022-07-23T18:20:20.165Z"
   },
   {
    "duration": 5,
    "start_time": "2022-07-23T18:20:20.169Z"
   },
   {
    "duration": 1143,
    "start_time": "2022-07-23T18:20:20.176Z"
   },
   {
    "duration": 99,
    "start_time": "2022-07-23T18:20:21.320Z"
   },
   {
    "duration": 13,
    "start_time": "2022-07-23T18:41:24.543Z"
   },
   {
    "duration": 14,
    "start_time": "2022-07-23T18:41:49.208Z"
   },
   {
    "duration": 10,
    "start_time": "2022-07-23T18:42:23.331Z"
   },
   {
    "duration": 3,
    "start_time": "2022-07-23T18:43:04.446Z"
   },
   {
    "duration": 13,
    "start_time": "2022-07-23T18:43:21.286Z"
   },
   {
    "duration": 1278,
    "start_time": "2022-07-23T18:43:51.612Z"
   },
   {
    "duration": 32,
    "start_time": "2022-07-23T18:43:52.892Z"
   },
   {
    "duration": 16,
    "start_time": "2022-07-23T18:43:52.925Z"
   },
   {
    "duration": 12,
    "start_time": "2022-07-23T18:43:52.942Z"
   },
   {
    "duration": 7,
    "start_time": "2022-07-23T18:43:52.955Z"
   },
   {
    "duration": 6,
    "start_time": "2022-07-23T18:43:52.964Z"
   },
   {
    "duration": 52,
    "start_time": "2022-07-23T18:43:52.972Z"
   },
   {
    "duration": 26,
    "start_time": "2022-07-23T18:43:53.026Z"
   },
   {
    "duration": 3,
    "start_time": "2022-07-23T18:43:53.054Z"
   },
   {
    "duration": 1760,
    "start_time": "2022-07-23T18:43:53.059Z"
   },
   {
    "duration": 817,
    "start_time": "2022-07-23T18:43:54.820Z"
   },
   {
    "duration": 1360,
    "start_time": "2022-07-23T18:43:55.639Z"
   },
   {
    "duration": 7,
    "start_time": "2022-07-23T18:43:57.000Z"
   },
   {
    "duration": 6,
    "start_time": "2022-07-23T18:43:57.010Z"
   },
   {
    "duration": 10,
    "start_time": "2022-07-23T18:43:57.017Z"
   },
   {
    "duration": 29,
    "start_time": "2022-07-23T18:43:57.028Z"
   },
   {
    "duration": 12,
    "start_time": "2022-07-23T18:43:57.058Z"
   },
   {
    "duration": 11,
    "start_time": "2022-07-23T18:43:57.072Z"
   },
   {
    "duration": 2,
    "start_time": "2022-07-23T18:43:57.085Z"
   },
   {
    "duration": 19,
    "start_time": "2022-07-23T18:44:14.990Z"
   },
   {
    "duration": 18,
    "start_time": "2022-07-23T18:44:16.650Z"
   },
   {
    "duration": 13,
    "start_time": "2022-07-23T18:44:34.612Z"
   },
   {
    "duration": 13,
    "start_time": "2022-07-23T18:44:42.412Z"
   },
   {
    "duration": 14,
    "start_time": "2022-07-23T18:44:50.113Z"
   },
   {
    "duration": 597,
    "start_time": "2022-07-23T18:45:35.025Z"
   },
   {
    "duration": 316,
    "start_time": "2022-07-23T18:46:09.704Z"
   },
   {
    "duration": 3,
    "start_time": "2022-07-23T18:47:04.272Z"
   },
   {
    "duration": 3,
    "start_time": "2022-07-23T18:47:08.167Z"
   },
   {
    "duration": 38,
    "start_time": "2022-07-23T18:47:08.172Z"
   },
   {
    "duration": 12,
    "start_time": "2022-07-23T18:47:08.211Z"
   },
   {
    "duration": 11,
    "start_time": "2022-07-23T18:47:08.225Z"
   },
   {
    "duration": 7,
    "start_time": "2022-07-23T18:47:08.238Z"
   },
   {
    "duration": 6,
    "start_time": "2022-07-23T18:47:08.247Z"
   },
   {
    "duration": 53,
    "start_time": "2022-07-23T18:47:08.255Z"
   },
   {
    "duration": 20,
    "start_time": "2022-07-23T18:47:08.311Z"
   },
   {
    "duration": 3,
    "start_time": "2022-07-23T18:47:08.333Z"
   },
   {
    "duration": 1860,
    "start_time": "2022-07-23T18:47:08.351Z"
   },
   {
    "duration": 811,
    "start_time": "2022-07-23T18:47:10.213Z"
   },
   {
    "duration": 1299,
    "start_time": "2022-07-23T18:47:11.025Z"
   },
   {
    "duration": 6,
    "start_time": "2022-07-23T18:47:12.326Z"
   },
   {
    "duration": 19,
    "start_time": "2022-07-23T18:47:12.333Z"
   },
   {
    "duration": 10,
    "start_time": "2022-07-23T18:47:12.354Z"
   },
   {
    "duration": 28,
    "start_time": "2022-07-23T18:47:12.365Z"
   },
   {
    "duration": 314,
    "start_time": "2022-07-23T18:47:12.395Z"
   },
   {
    "duration": 3,
    "start_time": "2022-07-23T18:47:12.711Z"
   },
   {
    "duration": 363,
    "start_time": "2022-07-23T18:47:26.606Z"
   },
   {
    "duration": 326,
    "start_time": "2022-07-23T18:48:35.277Z"
   },
   {
    "duration": 327,
    "start_time": "2022-07-23T18:48:45.594Z"
   },
   {
    "duration": 328,
    "start_time": "2022-07-23T18:48:58.433Z"
   },
   {
    "duration": 295,
    "start_time": "2022-07-23T18:49:06.957Z"
   },
   {
    "duration": 295,
    "start_time": "2022-07-23T18:49:14.504Z"
   },
   {
    "duration": 638,
    "start_time": "2022-07-23T18:49:45.798Z"
   },
   {
    "duration": 618,
    "start_time": "2022-07-23T18:49:58.442Z"
   },
   {
    "duration": 354,
    "start_time": "2022-07-23T18:50:07.708Z"
   },
   {
    "duration": 705,
    "start_time": "2022-07-23T18:50:18.557Z"
   },
   {
    "duration": 680,
    "start_time": "2022-07-23T18:50:45.580Z"
   },
   {
    "duration": 792,
    "start_time": "2022-07-23T18:51:23.476Z"
   },
   {
    "duration": 1077,
    "start_time": "2022-07-23T18:51:38.251Z"
   },
   {
    "duration": 750,
    "start_time": "2022-07-23T18:51:46.734Z"
   },
   {
    "duration": 280,
    "start_time": "2022-07-23T18:52:54.366Z"
   },
   {
    "duration": 555,
    "start_time": "2022-07-23T18:53:05.105Z"
   },
   {
    "duration": 326,
    "start_time": "2022-07-23T18:53:44.464Z"
   },
   {
    "duration": 318,
    "start_time": "2022-07-23T18:53:54.560Z"
   },
   {
    "duration": 595,
    "start_time": "2022-07-23T18:54:04.401Z"
   },
   {
    "duration": 598,
    "start_time": "2022-07-23T18:54:17.413Z"
   },
   {
    "duration": 325,
    "start_time": "2022-07-23T18:54:47.504Z"
   },
   {
    "duration": 298,
    "start_time": "2022-07-23T18:54:56.611Z"
   },
   {
    "duration": 1805,
    "start_time": "2022-07-24T02:36:10.606Z"
   },
   {
    "duration": 121,
    "start_time": "2022-07-24T02:36:12.413Z"
   },
   {
    "duration": 20,
    "start_time": "2022-07-24T02:36:12.536Z"
   },
   {
    "duration": 14,
    "start_time": "2022-07-24T02:36:12.559Z"
   },
   {
    "duration": 12,
    "start_time": "2022-07-24T02:36:12.575Z"
   },
   {
    "duration": 5,
    "start_time": "2022-07-24T02:36:12.590Z"
   },
   {
    "duration": 50,
    "start_time": "2022-07-24T02:36:12.609Z"
   },
   {
    "duration": 19,
    "start_time": "2022-07-24T02:36:12.661Z"
   },
   {
    "duration": 3,
    "start_time": "2022-07-24T02:36:12.682Z"
   },
   {
    "duration": 2202,
    "start_time": "2022-07-24T02:36:12.711Z"
   },
   {
    "duration": 1053,
    "start_time": "2022-07-24T02:36:14.914Z"
   },
   {
    "duration": 1673,
    "start_time": "2022-07-24T02:36:15.969Z"
   },
   {
    "duration": 7,
    "start_time": "2022-07-24T02:36:17.644Z"
   },
   {
    "duration": 22,
    "start_time": "2022-07-24T02:36:17.653Z"
   },
   {
    "duration": 24,
    "start_time": "2022-07-24T02:36:17.678Z"
   },
   {
    "duration": 48,
    "start_time": "2022-07-24T02:36:17.704Z"
   },
   {
    "duration": 385,
    "start_time": "2022-07-24T02:36:17.755Z"
   },
   {
    "duration": 924,
    "start_time": "2022-07-24T02:36:18.142Z"
   },
   {
    "duration": 4,
    "start_time": "2022-07-24T02:42:07.386Z"
   },
   {
    "duration": 3,
    "start_time": "2022-07-24T02:42:29.143Z"
   },
   {
    "duration": 36,
    "start_time": "2022-07-24T02:42:29.149Z"
   },
   {
    "duration": 18,
    "start_time": "2022-07-24T02:42:29.188Z"
   },
   {
    "duration": 19,
    "start_time": "2022-07-24T02:42:29.208Z"
   },
   {
    "duration": 10,
    "start_time": "2022-07-24T02:42:29.230Z"
   },
   {
    "duration": 7,
    "start_time": "2022-07-24T02:42:29.242Z"
   },
   {
    "duration": 76,
    "start_time": "2022-07-24T02:42:29.251Z"
   },
   {
    "duration": 17,
    "start_time": "2022-07-24T02:42:29.329Z"
   },
   {
    "duration": 23,
    "start_time": "2022-07-24T02:42:29.348Z"
   },
   {
    "duration": 2207,
    "start_time": "2022-07-24T02:42:29.373Z"
   },
   {
    "duration": 1090,
    "start_time": "2022-07-24T02:42:31.582Z"
   },
   {
    "duration": 1595,
    "start_time": "2022-07-24T02:42:32.674Z"
   },
   {
    "duration": 7,
    "start_time": "2022-07-24T02:42:34.271Z"
   },
   {
    "duration": 10,
    "start_time": "2022-07-24T02:42:34.280Z"
   },
   {
    "duration": 23,
    "start_time": "2022-07-24T02:42:34.311Z"
   },
   {
    "duration": 36,
    "start_time": "2022-07-24T02:42:34.336Z"
   },
   {
    "duration": 403,
    "start_time": "2022-07-24T02:42:34.374Z"
   },
   {
    "duration": 987,
    "start_time": "2022-07-24T02:42:34.780Z"
   },
   {
    "duration": 44252,
    "start_time": "2022-07-24T02:50:37.205Z"
   },
   {
    "duration": 125,
    "start_time": "2022-07-24T02:52:24.282Z"
   },
   {
    "duration": 329776,
    "start_time": "2022-07-24T02:52:33.714Z"
   },
   {
    "duration": 27,
    "start_time": "2022-07-24T02:58:03.492Z"
   },
   {
    "duration": 138,
    "start_time": "2022-07-24T02:58:29.123Z"
   },
   {
    "duration": 13972,
    "start_time": "2022-07-24T02:58:39.085Z"
   },
   {
    "duration": 12,
    "start_time": "2022-07-24T03:00:32.761Z"
   },
   {
    "duration": 77,
    "start_time": "2022-07-24T03:02:46.101Z"
   },
   {
    "duration": 74,
    "start_time": "2022-07-24T03:02:59.574Z"
   },
   {
    "duration": 108,
    "start_time": "2022-07-24T03:03:10.476Z"
   },
   {
    "duration": 7,
    "start_time": "2022-07-24T03:03:42.794Z"
   },
   {
    "duration": 18662,
    "start_time": "2022-07-24T03:07:06.797Z"
   },
   {
    "duration": 52463,
    "start_time": "2022-07-24T03:07:46.424Z"
   },
   {
    "duration": 3,
    "start_time": "2022-07-24T03:08:38.890Z"
   },
   {
    "duration": 34,
    "start_time": "2022-07-24T03:08:38.894Z"
   },
   {
    "duration": 907,
    "start_time": "2022-07-24T03:08:38.930Z"
   },
   {
    "duration": 0,
    "start_time": "2022-07-24T03:08:39.838Z"
   },
   {
    "duration": 1090,
    "start_time": "2022-07-24T03:08:47.075Z"
   },
   {
    "duration": 7,
    "start_time": "2022-07-24T03:13:07.830Z"
   },
   {
    "duration": 8,
    "start_time": "2022-07-24T03:13:27.715Z"
   },
   {
    "duration": 9,
    "start_time": "2022-07-24T03:14:35.873Z"
   },
   {
    "duration": 33,
    "start_time": "2022-07-24T03:30:45.491Z"
   },
   {
    "duration": 31,
    "start_time": "2022-07-24T03:31:00.713Z"
   },
   {
    "duration": 32,
    "start_time": "2022-07-24T03:31:21.076Z"
   },
   {
    "duration": 32,
    "start_time": "2022-07-24T03:31:34.940Z"
   },
   {
    "duration": 32,
    "start_time": "2022-07-24T03:31:57.671Z"
   },
   {
    "duration": 383,
    "start_time": "2022-07-24T03:32:25.149Z"
   },
   {
    "duration": 920,
    "start_time": "2022-07-24T03:32:51.399Z"
   },
   {
    "duration": 22,
    "start_time": "2022-07-24T03:37:39.568Z"
   },
   {
    "duration": 4,
    "start_time": "2022-07-24T03:39:36.238Z"
   },
   {
    "duration": 11,
    "start_time": "2022-07-24T03:42:14.793Z"
   },
   {
    "duration": 622,
    "start_time": "2022-07-24T03:43:59.972Z"
   },
   {
    "duration": 121734,
    "start_time": "2022-07-24T03:49:35.067Z"
   },
   {
    "duration": 606,
    "start_time": "2022-07-24T03:57:07.951Z"
   },
   {
    "duration": 772,
    "start_time": "2022-07-24T03:57:31.688Z"
   },
   {
    "duration": 189,
    "start_time": "2022-07-24T03:58:09.142Z"
   },
   {
    "duration": 685,
    "start_time": "2022-07-24T03:58:24.242Z"
   },
   {
    "duration": 688,
    "start_time": "2022-07-24T03:59:09.323Z"
   },
   {
    "duration": 1004,
    "start_time": "2022-07-24T03:59:25.989Z"
   },
   {
    "duration": 858,
    "start_time": "2022-07-24T04:00:09.288Z"
   },
   {
    "duration": 1042,
    "start_time": "2022-07-24T04:00:16.333Z"
   },
   {
    "duration": 918,
    "start_time": "2022-07-24T04:00:42.760Z"
   },
   {
    "duration": 1571,
    "start_time": "2022-07-24T04:00:57.104Z"
   },
   {
    "duration": 34,
    "start_time": "2022-07-24T04:00:58.677Z"
   },
   {
    "duration": 19,
    "start_time": "2022-07-24T04:00:58.713Z"
   },
   {
    "duration": 12,
    "start_time": "2022-07-24T04:00:58.735Z"
   },
   {
    "duration": 8,
    "start_time": "2022-07-24T04:00:58.749Z"
   },
   {
    "duration": 12,
    "start_time": "2022-07-24T04:00:58.759Z"
   },
   {
    "duration": 78,
    "start_time": "2022-07-24T04:00:58.773Z"
   },
   {
    "duration": 18,
    "start_time": "2022-07-24T04:00:58.852Z"
   },
   {
    "duration": 3,
    "start_time": "2022-07-24T04:00:58.872Z"
   },
   {
    "duration": 2226,
    "start_time": "2022-07-24T04:00:58.877Z"
   },
   {
    "duration": 1208,
    "start_time": "2022-07-24T04:01:01.105Z"
   },
   {
    "duration": 1567,
    "start_time": "2022-07-24T04:01:02.315Z"
   },
   {
    "duration": 7,
    "start_time": "2022-07-24T04:01:03.884Z"
   },
   {
    "duration": 20,
    "start_time": "2022-07-24T04:01:03.893Z"
   },
   {
    "duration": 16,
    "start_time": "2022-07-24T04:01:03.914Z"
   },
   {
    "duration": 9,
    "start_time": "2022-07-24T04:01:03.932Z"
   },
   {
    "duration": 37,
    "start_time": "2022-07-24T04:01:03.943Z"
   },
   {
    "duration": 388,
    "start_time": "2022-07-24T04:01:03.982Z"
   },
   {
    "duration": 923,
    "start_time": "2022-07-24T04:01:04.373Z"
   },
   {
    "duration": 9,
    "start_time": "2022-07-24T04:01:05.301Z"
   },
   {
    "duration": 17,
    "start_time": "2022-07-24T04:01:05.312Z"
   },
   {
    "duration": 653,
    "start_time": "2022-07-24T04:01:05.331Z"
   },
   {
    "duration": 123186,
    "start_time": "2022-07-24T04:01:05.986Z"
   },
   {
    "duration": 1329,
    "start_time": "2022-07-24T04:03:09.175Z"
   },
   {
    "duration": 898,
    "start_time": "2022-07-24T04:03:28.923Z"
   },
   {
    "duration": 6,
    "start_time": "2022-07-24T04:03:36.582Z"
   },
   {
    "duration": 44,
    "start_time": "2022-07-24T04:03:36.591Z"
   },
   {
    "duration": 15,
    "start_time": "2022-07-24T04:03:36.637Z"
   },
   {
    "duration": 14,
    "start_time": "2022-07-24T04:03:36.654Z"
   },
   {
    "duration": 9,
    "start_time": "2022-07-24T04:03:36.671Z"
   },
   {
    "duration": 7,
    "start_time": "2022-07-24T04:03:36.681Z"
   },
   {
    "duration": 49,
    "start_time": "2022-07-24T04:03:36.710Z"
   },
   {
    "duration": 24,
    "start_time": "2022-07-24T04:03:36.762Z"
   },
   {
    "duration": 23,
    "start_time": "2022-07-24T04:03:36.788Z"
   },
   {
    "duration": 2287,
    "start_time": "2022-07-24T04:03:36.813Z"
   },
   {
    "duration": 1140,
    "start_time": "2022-07-24T04:03:39.102Z"
   },
   {
    "duration": 1557,
    "start_time": "2022-07-24T04:03:40.244Z"
   },
   {
    "duration": 11,
    "start_time": "2022-07-24T04:03:41.803Z"
   },
   {
    "duration": 14,
    "start_time": "2022-07-24T04:03:41.818Z"
   },
   {
    "duration": 29,
    "start_time": "2022-07-24T04:03:41.835Z"
   },
   {
    "duration": 21,
    "start_time": "2022-07-24T04:03:41.867Z"
   },
   {
    "duration": 56,
    "start_time": "2022-07-24T04:03:41.890Z"
   },
   {
    "duration": 380,
    "start_time": "2022-07-24T04:03:41.948Z"
   },
   {
    "duration": 942,
    "start_time": "2022-07-24T04:03:42.330Z"
   },
   {
    "duration": 4,
    "start_time": "2022-07-24T04:03:43.274Z"
   },
   {
    "duration": 12,
    "start_time": "2022-07-24T04:03:43.280Z"
   },
   {
    "duration": 652,
    "start_time": "2022-07-24T04:03:43.294Z"
   },
   {
    "duration": 5863,
    "start_time": "2022-07-24T04:05:48.666Z"
   },
   {
    "duration": 2,
    "start_time": "2022-07-24T04:10:49.037Z"
   },
   {
    "duration": 1822,
    "start_time": "2022-07-24T04:11:27.700Z"
   },
   {
    "duration": 10,
    "start_time": "2022-07-24T04:11:39.603Z"
   },
   {
    "duration": 5,
    "start_time": "2022-07-24T04:11:45.380Z"
   },
   {
    "duration": 1628,
    "start_time": "2022-07-24T04:13:33.884Z"
   },
   {
    "duration": 13,
    "start_time": "2022-07-24T04:13:42.225Z"
   },
   {
    "duration": 53,
    "start_time": "2022-07-24T12:49:26.456Z"
   },
   {
    "duration": 1490,
    "start_time": "2022-07-24T12:49:32.629Z"
   },
   {
    "duration": 70,
    "start_time": "2022-07-24T12:49:34.121Z"
   },
   {
    "duration": 17,
    "start_time": "2022-07-24T12:49:34.192Z"
   },
   {
    "duration": 11,
    "start_time": "2022-07-24T12:49:34.211Z"
   },
   {
    "duration": 7,
    "start_time": "2022-07-24T12:49:34.224Z"
   },
   {
    "duration": 20,
    "start_time": "2022-07-24T12:49:34.232Z"
   },
   {
    "duration": 52,
    "start_time": "2022-07-24T12:49:34.253Z"
   },
   {
    "duration": 14,
    "start_time": "2022-07-24T12:49:34.307Z"
   },
   {
    "duration": 3,
    "start_time": "2022-07-24T12:49:34.323Z"
   },
   {
    "duration": 1940,
    "start_time": "2022-07-24T12:49:34.327Z"
   },
   {
    "duration": 980,
    "start_time": "2022-07-24T12:49:36.268Z"
   },
   {
    "duration": 1386,
    "start_time": "2022-07-24T12:49:37.250Z"
   },
   {
    "duration": 6,
    "start_time": "2022-07-24T12:49:38.638Z"
   },
   {
    "duration": 10,
    "start_time": "2022-07-24T12:49:38.647Z"
   },
   {
    "duration": 11,
    "start_time": "2022-07-24T12:49:38.659Z"
   },
   {
    "duration": 9,
    "start_time": "2022-07-24T12:49:38.671Z"
   },
   {
    "duration": 31,
    "start_time": "2022-07-24T12:49:38.682Z"
   },
   {
    "duration": 336,
    "start_time": "2022-07-24T12:49:38.715Z"
   },
   {
    "duration": 778,
    "start_time": "2022-07-24T12:49:39.052Z"
   },
   {
    "duration": 4,
    "start_time": "2022-07-24T12:49:39.832Z"
   },
   {
    "duration": 15,
    "start_time": "2022-07-24T12:49:39.837Z"
   },
   {
    "duration": 522,
    "start_time": "2022-07-24T12:49:39.853Z"
   },
   {
    "duration": 4465,
    "start_time": "2022-07-24T12:49:40.377Z"
   },
   {
    "duration": 1522,
    "start_time": "2022-07-24T12:49:44.844Z"
   },
   {
    "duration": 15,
    "start_time": "2022-07-24T12:49:46.368Z"
   },
   {
    "duration": 30,
    "start_time": "2022-07-24T12:49:46.386Z"
   },
   {
    "duration": 6,
    "start_time": "2022-07-24T12:53:39.531Z"
   },
   {
    "duration": 117,
    "start_time": "2022-07-24T12:54:26.936Z"
   },
   {
    "duration": 112,
    "start_time": "2022-07-24T12:58:51.124Z"
   },
   {
    "duration": 1479,
    "start_time": "2022-07-24T13:01:19.291Z"
   },
   {
    "duration": 16,
    "start_time": "2022-07-24T13:06:42.502Z"
   },
   {
    "duration": 4,
    "start_time": "2022-07-24T13:06:49.863Z"
   },
   {
    "duration": 33,
    "start_time": "2022-07-24T13:06:49.869Z"
   },
   {
    "duration": 12,
    "start_time": "2022-07-24T13:06:49.903Z"
   },
   {
    "duration": 12,
    "start_time": "2022-07-24T13:06:49.917Z"
   },
   {
    "duration": 8,
    "start_time": "2022-07-24T13:06:49.931Z"
   },
   {
    "duration": 4,
    "start_time": "2022-07-24T13:06:49.940Z"
   },
   {
    "duration": 53,
    "start_time": "2022-07-24T13:06:49.946Z"
   },
   {
    "duration": 14,
    "start_time": "2022-07-24T13:06:50.001Z"
   },
   {
    "duration": 3,
    "start_time": "2022-07-24T13:06:50.017Z"
   },
   {
    "duration": 1850,
    "start_time": "2022-07-24T13:06:50.021Z"
   },
   {
    "duration": 1003,
    "start_time": "2022-07-24T13:06:51.873Z"
   },
   {
    "duration": 1347,
    "start_time": "2022-07-24T13:06:52.878Z"
   },
   {
    "duration": 11,
    "start_time": "2022-07-24T13:06:54.226Z"
   },
   {
    "duration": 1,
    "start_time": "2022-07-24T13:06:54.238Z"
   },
   {
    "duration": 0,
    "start_time": "2022-07-24T13:06:54.240Z"
   },
   {
    "duration": 0,
    "start_time": "2022-07-24T13:06:54.241Z"
   },
   {
    "duration": 0,
    "start_time": "2022-07-24T13:06:54.242Z"
   },
   {
    "duration": 0,
    "start_time": "2022-07-24T13:06:54.260Z"
   },
   {
    "duration": 0,
    "start_time": "2022-07-24T13:06:54.261Z"
   },
   {
    "duration": 0,
    "start_time": "2022-07-24T13:06:54.262Z"
   },
   {
    "duration": 0,
    "start_time": "2022-07-24T13:06:54.263Z"
   },
   {
    "duration": 0,
    "start_time": "2022-07-24T13:06:54.264Z"
   },
   {
    "duration": 0,
    "start_time": "2022-07-24T13:06:54.265Z"
   },
   {
    "duration": 0,
    "start_time": "2022-07-24T13:06:54.265Z"
   },
   {
    "duration": 0,
    "start_time": "2022-07-24T13:06:54.266Z"
   },
   {
    "duration": 0,
    "start_time": "2022-07-24T13:06:54.268Z"
   },
   {
    "duration": 0,
    "start_time": "2022-07-24T13:06:54.269Z"
   },
   {
    "duration": 14,
    "start_time": "2022-07-24T13:08:04.751Z"
   },
   {
    "duration": 4,
    "start_time": "2022-07-24T13:08:28.982Z"
   },
   {
    "duration": 48,
    "start_time": "2022-07-24T13:08:28.987Z"
   },
   {
    "duration": 12,
    "start_time": "2022-07-24T13:08:29.037Z"
   },
   {
    "duration": 13,
    "start_time": "2022-07-24T13:08:29.051Z"
   },
   {
    "duration": 8,
    "start_time": "2022-07-24T13:08:29.066Z"
   },
   {
    "duration": 5,
    "start_time": "2022-07-24T13:08:29.075Z"
   },
   {
    "duration": 47,
    "start_time": "2022-07-24T13:08:29.081Z"
   },
   {
    "duration": 15,
    "start_time": "2022-07-24T13:08:29.130Z"
   },
   {
    "duration": 14,
    "start_time": "2022-07-24T13:08:29.147Z"
   },
   {
    "duration": 1799,
    "start_time": "2022-07-24T13:08:29.163Z"
   },
   {
    "duration": 974,
    "start_time": "2022-07-24T13:08:30.964Z"
   },
   {
    "duration": 1328,
    "start_time": "2022-07-24T13:08:31.939Z"
   },
   {
    "duration": 11,
    "start_time": "2022-07-24T13:08:33.268Z"
   },
   {
    "duration": 14,
    "start_time": "2022-07-24T13:09:23.679Z"
   },
   {
    "duration": 1335,
    "start_time": "2022-07-24T13:09:34.887Z"
   },
   {
    "duration": 39,
    "start_time": "2022-07-24T13:09:36.225Z"
   },
   {
    "duration": 20,
    "start_time": "2022-07-24T13:09:36.265Z"
   },
   {
    "duration": 33,
    "start_time": "2022-07-24T13:09:36.287Z"
   },
   {
    "duration": 24,
    "start_time": "2022-07-24T13:09:36.322Z"
   },
   {
    "duration": 18,
    "start_time": "2022-07-24T13:09:36.348Z"
   },
   {
    "duration": 79,
    "start_time": "2022-07-24T13:09:36.368Z"
   },
   {
    "duration": 21,
    "start_time": "2022-07-24T13:09:36.449Z"
   },
   {
    "duration": 11,
    "start_time": "2022-07-24T13:09:36.472Z"
   },
   {
    "duration": 1863,
    "start_time": "2022-07-24T13:09:36.486Z"
   },
   {
    "duration": 982,
    "start_time": "2022-07-24T13:09:38.350Z"
   },
   {
    "duration": 1431,
    "start_time": "2022-07-24T13:09:39.333Z"
   },
   {
    "duration": 7,
    "start_time": "2022-07-24T13:09:40.766Z"
   },
   {
    "duration": 15,
    "start_time": "2022-07-24T13:09:40.775Z"
   },
   {
    "duration": 14,
    "start_time": "2022-07-24T13:09:40.792Z"
   },
   {
    "duration": 9,
    "start_time": "2022-07-24T13:09:40.808Z"
   },
   {
    "duration": 29,
    "start_time": "2022-07-24T13:09:40.818Z"
   },
   {
    "duration": 328,
    "start_time": "2022-07-24T13:09:40.849Z"
   },
   {
    "duration": 760,
    "start_time": "2022-07-24T13:09:41.178Z"
   },
   {
    "duration": 4,
    "start_time": "2022-07-24T13:09:41.939Z"
   },
   {
    "duration": 16,
    "start_time": "2022-07-24T13:09:41.944Z"
   },
   {
    "duration": 489,
    "start_time": "2022-07-24T13:09:41.962Z"
   },
   {
    "duration": 4570,
    "start_time": "2022-07-24T13:09:42.453Z"
   },
   {
    "duration": 1537,
    "start_time": "2022-07-24T13:09:47.025Z"
   },
   {
    "duration": 9,
    "start_time": "2022-07-24T13:09:48.564Z"
   },
   {
    "duration": 140,
    "start_time": "2022-07-24T13:09:48.574Z"
   },
   {
    "duration": 1535,
    "start_time": "2022-07-24T13:09:48.716Z"
   },
   {
    "duration": 16,
    "start_time": "2022-07-24T13:12:52.114Z"
   },
   {
    "duration": 1337,
    "start_time": "2022-07-24T13:13:14.616Z"
   },
   {
    "duration": 33,
    "start_time": "2022-07-24T13:13:15.955Z"
   },
   {
    "duration": 16,
    "start_time": "2022-07-24T13:13:15.990Z"
   },
   {
    "duration": 13,
    "start_time": "2022-07-24T13:13:16.008Z"
   },
   {
    "duration": 7,
    "start_time": "2022-07-24T13:13:16.023Z"
   },
   {
    "duration": 10,
    "start_time": "2022-07-24T13:13:16.031Z"
   },
   {
    "duration": 48,
    "start_time": "2022-07-24T13:13:16.042Z"
   },
   {
    "duration": 14,
    "start_time": "2022-07-24T13:13:16.092Z"
   },
   {
    "duration": 4,
    "start_time": "2022-07-24T13:13:16.108Z"
   },
   {
    "duration": 2038,
    "start_time": "2022-07-24T13:13:16.114Z"
   },
   {
    "duration": 944,
    "start_time": "2022-07-24T13:13:18.154Z"
   },
   {
    "duration": 1320,
    "start_time": "2022-07-24T13:13:19.100Z"
   },
   {
    "duration": 6,
    "start_time": "2022-07-24T13:13:20.422Z"
   },
   {
    "duration": 8,
    "start_time": "2022-07-24T13:13:20.430Z"
   },
   {
    "duration": 19,
    "start_time": "2022-07-24T13:13:20.440Z"
   },
   {
    "duration": 6,
    "start_time": "2022-07-24T13:13:20.460Z"
   },
   {
    "duration": 32,
    "start_time": "2022-07-24T13:13:20.467Z"
   },
   {
    "duration": 334,
    "start_time": "2022-07-24T13:13:20.502Z"
   },
   {
    "duration": 762,
    "start_time": "2022-07-24T13:13:20.838Z"
   },
   {
    "duration": 4,
    "start_time": "2022-07-24T13:13:21.602Z"
   },
   {
    "duration": 11,
    "start_time": "2022-07-24T13:13:21.607Z"
   },
   {
    "duration": 547,
    "start_time": "2022-07-24T13:13:21.619Z"
   },
   {
    "duration": 4610,
    "start_time": "2022-07-24T13:13:22.168Z"
   },
   {
    "duration": 1486,
    "start_time": "2022-07-24T13:13:26.780Z"
   },
   {
    "duration": 11,
    "start_time": "2022-07-24T13:13:28.268Z"
   },
   {
    "duration": 136,
    "start_time": "2022-07-24T13:13:28.281Z"
   },
   {
    "duration": 1557,
    "start_time": "2022-07-24T13:13:28.419Z"
   },
   {
    "duration": 7,
    "start_time": "2022-07-24T13:14:01.938Z"
   },
   {
    "duration": 9,
    "start_time": "2022-07-24T13:14:11.574Z"
   },
   {
    "duration": 6,
    "start_time": "2022-07-24T13:14:42.010Z"
   },
   {
    "duration": 4,
    "start_time": "2022-07-24T13:15:16.733Z"
   },
   {
    "duration": 8,
    "start_time": "2022-07-24T13:15:27.117Z"
   },
   {
    "duration": 491,
    "start_time": "2022-07-24T13:15:33.668Z"
   },
   {
    "duration": 4773,
    "start_time": "2022-07-24T13:15:34.161Z"
   },
   {
    "duration": 1447,
    "start_time": "2022-07-24T13:20:29.922Z"
   },
   {
    "duration": 12,
    "start_time": "2022-07-24T13:20:32.131Z"
   },
   {
    "duration": 128,
    "start_time": "2022-07-24T13:20:34.624Z"
   },
   {
    "duration": 3,
    "start_time": "2022-07-24T13:23:51.016Z"
   },
   {
    "duration": 8,
    "start_time": "2022-07-24T13:23:54.001Z"
   },
   {
    "duration": 612,
    "start_time": "2022-07-24T13:23:55.451Z"
   },
   {
    "duration": 4712,
    "start_time": "2022-07-24T13:23:57.051Z"
   },
   {
    "duration": 1031,
    "start_time": "2022-07-24T13:24:25.431Z"
   },
   {
    "duration": 10,
    "start_time": "2022-07-24T13:24:28.938Z"
   },
   {
    "duration": 118,
    "start_time": "2022-07-24T13:24:33.944Z"
   },
   {
    "duration": 1584,
    "start_time": "2022-07-24T13:30:15.204Z"
   },
   {
    "duration": 1348,
    "start_time": "2022-07-24T13:30:45.111Z"
   },
   {
    "duration": 38,
    "start_time": "2022-07-24T13:30:46.462Z"
   },
   {
    "duration": 16,
    "start_time": "2022-07-24T13:30:46.501Z"
   },
   {
    "duration": 10,
    "start_time": "2022-07-24T13:30:46.519Z"
   },
   {
    "duration": 7,
    "start_time": "2022-07-24T13:30:46.531Z"
   },
   {
    "duration": 4,
    "start_time": "2022-07-24T13:30:46.539Z"
   },
   {
    "duration": 51,
    "start_time": "2022-07-24T13:30:46.545Z"
   },
   {
    "duration": 15,
    "start_time": "2022-07-24T13:30:46.597Z"
   },
   {
    "duration": 3,
    "start_time": "2022-07-24T13:30:46.614Z"
   },
   {
    "duration": 1857,
    "start_time": "2022-07-24T13:30:46.619Z"
   },
   {
    "duration": 965,
    "start_time": "2022-07-24T13:30:48.478Z"
   },
   {
    "duration": 1384,
    "start_time": "2022-07-24T13:30:49.444Z"
   },
   {
    "duration": 7,
    "start_time": "2022-07-24T13:30:50.829Z"
   },
   {
    "duration": 11,
    "start_time": "2022-07-24T13:30:50.838Z"
   },
   {
    "duration": 14,
    "start_time": "2022-07-24T13:30:50.851Z"
   },
   {
    "duration": 7,
    "start_time": "2022-07-24T13:30:50.867Z"
   },
   {
    "duration": 30,
    "start_time": "2022-07-24T13:30:50.876Z"
   },
   {
    "duration": 318,
    "start_time": "2022-07-24T13:30:50.908Z"
   },
   {
    "duration": 855,
    "start_time": "2022-07-24T13:30:51.228Z"
   },
   {
    "duration": 3,
    "start_time": "2022-07-24T13:30:52.085Z"
   },
   {
    "duration": 11,
    "start_time": "2022-07-24T13:30:52.090Z"
   },
   {
    "duration": 537,
    "start_time": "2022-07-24T13:30:52.103Z"
   },
   {
    "duration": 4647,
    "start_time": "2022-07-24T13:30:52.642Z"
   },
   {
    "duration": 1469,
    "start_time": "2022-07-24T13:30:57.291Z"
   },
   {
    "duration": 10,
    "start_time": "2022-07-24T13:30:58.762Z"
   },
   {
    "duration": 139,
    "start_time": "2022-07-24T13:30:58.773Z"
   },
   {
    "duration": 1493,
    "start_time": "2022-07-24T13:30:58.914Z"
   },
   {
    "duration": 5229,
    "start_time": "2022-07-24T13:38:43.232Z"
   },
   {
    "duration": 1743,
    "start_time": "2022-07-24T13:40:53.657Z"
   },
   {
    "duration": 12,
    "start_time": "2022-07-24T13:41:26.369Z"
   },
   {
    "duration": 4667,
    "start_time": "2022-07-24T13:41:36.494Z"
   },
   {
    "duration": 13,
    "start_time": "2022-07-24T13:44:16.241Z"
   },
   {
    "duration": 22,
    "start_time": "2022-07-24T13:44:27.856Z"
   },
   {
    "duration": 5125,
    "start_time": "2022-07-24T13:44:44.598Z"
   },
   {
    "duration": 17,
    "start_time": "2022-07-24T13:47:50.931Z"
   },
   {
    "duration": 7,
    "start_time": "2022-07-24T13:48:24.531Z"
   },
   {
    "duration": 754,
    "start_time": "2022-07-24T13:49:04.552Z"
   },
   {
    "duration": 7,
    "start_time": "2022-07-24T13:49:27.607Z"
   },
   {
    "duration": 16,
    "start_time": "2022-07-24T13:49:35.801Z"
   },
   {
    "duration": 15,
    "start_time": "2022-07-24T13:49:42.653Z"
   },
   {
    "duration": 23,
    "start_time": "2022-07-24T13:58:13.906Z"
   },
   {
    "duration": 1461,
    "start_time": "2022-07-24T13:58:25.975Z"
   },
   {
    "duration": 42,
    "start_time": "2022-07-24T13:58:27.437Z"
   },
   {
    "duration": 24,
    "start_time": "2022-07-24T13:58:27.482Z"
   },
   {
    "duration": 15,
    "start_time": "2022-07-24T13:58:27.509Z"
   },
   {
    "duration": 13,
    "start_time": "2022-07-24T13:58:27.526Z"
   },
   {
    "duration": 6,
    "start_time": "2022-07-24T13:58:27.541Z"
   },
   {
    "duration": 60,
    "start_time": "2022-07-24T13:58:27.561Z"
   },
   {
    "duration": 16,
    "start_time": "2022-07-24T13:58:27.623Z"
   },
   {
    "duration": 19,
    "start_time": "2022-07-24T13:58:27.641Z"
   },
   {
    "duration": 1918,
    "start_time": "2022-07-24T13:58:27.663Z"
   },
   {
    "duration": 1008,
    "start_time": "2022-07-24T13:58:29.583Z"
   },
   {
    "duration": 1375,
    "start_time": "2022-07-24T13:58:30.593Z"
   },
   {
    "duration": 112,
    "start_time": "2022-07-24T13:58:31.971Z"
   },
   {
    "duration": 0,
    "start_time": "2022-07-24T13:58:32.086Z"
   },
   {
    "duration": 0,
    "start_time": "2022-07-24T13:58:32.087Z"
   },
   {
    "duration": 0,
    "start_time": "2022-07-24T13:58:32.088Z"
   },
   {
    "duration": 0,
    "start_time": "2022-07-24T13:58:32.090Z"
   },
   {
    "duration": 0,
    "start_time": "2022-07-24T13:58:32.091Z"
   },
   {
    "duration": 0,
    "start_time": "2022-07-24T13:58:32.092Z"
   },
   {
    "duration": 0,
    "start_time": "2022-07-24T13:58:32.093Z"
   },
   {
    "duration": 0,
    "start_time": "2022-07-24T13:58:32.095Z"
   },
   {
    "duration": 0,
    "start_time": "2022-07-24T13:58:32.095Z"
   },
   {
    "duration": 0,
    "start_time": "2022-07-24T13:58:32.096Z"
   },
   {
    "duration": 0,
    "start_time": "2022-07-24T13:58:32.097Z"
   },
   {
    "duration": 0,
    "start_time": "2022-07-24T13:58:32.098Z"
   },
   {
    "duration": 0,
    "start_time": "2022-07-24T13:58:32.100Z"
   },
   {
    "duration": 0,
    "start_time": "2022-07-24T13:58:32.100Z"
   },
   {
    "duration": 18,
    "start_time": "2022-07-24T13:59:31.540Z"
   },
   {
    "duration": 13,
    "start_time": "2022-07-24T13:59:53.593Z"
   },
   {
    "duration": 18,
    "start_time": "2022-07-24T14:01:31.727Z"
   },
   {
    "duration": 16,
    "start_time": "2022-07-24T14:02:28.086Z"
   },
   {
    "duration": 1392,
    "start_time": "2022-07-24T14:02:41.941Z"
   },
   {
    "duration": 33,
    "start_time": "2022-07-24T14:02:43.335Z"
   },
   {
    "duration": 24,
    "start_time": "2022-07-24T14:02:43.370Z"
   },
   {
    "duration": 15,
    "start_time": "2022-07-24T14:02:43.396Z"
   },
   {
    "duration": 7,
    "start_time": "2022-07-24T14:02:43.414Z"
   },
   {
    "duration": 6,
    "start_time": "2022-07-24T14:02:43.423Z"
   },
   {
    "duration": 70,
    "start_time": "2022-07-24T14:02:43.430Z"
   },
   {
    "duration": 16,
    "start_time": "2022-07-24T14:02:43.501Z"
   },
   {
    "duration": 3,
    "start_time": "2022-07-24T14:02:43.518Z"
   },
   {
    "duration": 1996,
    "start_time": "2022-07-24T14:02:43.522Z"
   },
   {
    "duration": 1136,
    "start_time": "2022-07-24T14:02:45.520Z"
   },
   {
    "duration": 1406,
    "start_time": "2022-07-24T14:02:46.658Z"
   },
   {
    "duration": 120,
    "start_time": "2022-07-24T14:02:48.067Z"
   },
   {
    "duration": 0,
    "start_time": "2022-07-24T14:02:48.190Z"
   },
   {
    "duration": 0,
    "start_time": "2022-07-24T14:02:48.192Z"
   },
   {
    "duration": 0,
    "start_time": "2022-07-24T14:02:48.193Z"
   },
   {
    "duration": 0,
    "start_time": "2022-07-24T14:02:48.194Z"
   },
   {
    "duration": 0,
    "start_time": "2022-07-24T14:02:48.196Z"
   },
   {
    "duration": 0,
    "start_time": "2022-07-24T14:02:48.197Z"
   },
   {
    "duration": 1,
    "start_time": "2022-07-24T14:02:48.198Z"
   },
   {
    "duration": 0,
    "start_time": "2022-07-24T14:02:48.200Z"
   },
   {
    "duration": 0,
    "start_time": "2022-07-24T14:02:48.201Z"
   },
   {
    "duration": 0,
    "start_time": "2022-07-24T14:02:48.202Z"
   },
   {
    "duration": 0,
    "start_time": "2022-07-24T14:02:48.203Z"
   },
   {
    "duration": 0,
    "start_time": "2022-07-24T14:02:48.204Z"
   },
   {
    "duration": 0,
    "start_time": "2022-07-24T14:02:48.206Z"
   },
   {
    "duration": 0,
    "start_time": "2022-07-24T14:02:48.206Z"
   },
   {
    "duration": 17,
    "start_time": "2022-07-24T14:04:55.977Z"
   },
   {
    "duration": 3,
    "start_time": "2022-07-24T14:05:18.266Z"
   },
   {
    "duration": 43,
    "start_time": "2022-07-24T14:05:18.271Z"
   },
   {
    "duration": 12,
    "start_time": "2022-07-24T14:05:18.316Z"
   },
   {
    "duration": 15,
    "start_time": "2022-07-24T14:05:18.330Z"
   },
   {
    "duration": 12,
    "start_time": "2022-07-24T14:05:18.347Z"
   },
   {
    "duration": 6,
    "start_time": "2022-07-24T14:05:18.361Z"
   },
   {
    "duration": 55,
    "start_time": "2022-07-24T14:05:18.369Z"
   },
   {
    "duration": 14,
    "start_time": "2022-07-24T14:05:18.426Z"
   },
   {
    "duration": 22,
    "start_time": "2022-07-24T14:05:18.442Z"
   },
   {
    "duration": 2019,
    "start_time": "2022-07-24T14:05:18.466Z"
   },
   {
    "duration": 1032,
    "start_time": "2022-07-24T14:05:20.487Z"
   },
   {
    "duration": 1479,
    "start_time": "2022-07-24T14:05:21.521Z"
   },
   {
    "duration": 11,
    "start_time": "2022-07-24T14:05:23.002Z"
   },
   {
    "duration": 18,
    "start_time": "2022-07-24T14:08:05.670Z"
   },
   {
    "duration": 1397,
    "start_time": "2022-07-24T14:08:16.863Z"
   },
   {
    "duration": 33,
    "start_time": "2022-07-24T14:08:18.262Z"
   },
   {
    "duration": 17,
    "start_time": "2022-07-24T14:08:18.296Z"
   },
   {
    "duration": 11,
    "start_time": "2022-07-24T14:08:18.315Z"
   },
   {
    "duration": 8,
    "start_time": "2022-07-24T14:08:18.328Z"
   },
   {
    "duration": 4,
    "start_time": "2022-07-24T14:08:18.338Z"
   },
   {
    "duration": 49,
    "start_time": "2022-07-24T14:08:18.344Z"
   },
   {
    "duration": 16,
    "start_time": "2022-07-24T14:08:18.394Z"
   },
   {
    "duration": 2,
    "start_time": "2022-07-24T14:08:18.412Z"
   },
   {
    "duration": 1870,
    "start_time": "2022-07-24T14:08:18.416Z"
   },
   {
    "duration": 953,
    "start_time": "2022-07-24T14:08:20.288Z"
   },
   {
    "duration": 1397,
    "start_time": "2022-07-24T14:08:21.243Z"
   },
   {
    "duration": 6,
    "start_time": "2022-07-24T14:08:22.642Z"
   },
   {
    "duration": 9,
    "start_time": "2022-07-24T14:08:22.652Z"
   },
   {
    "duration": 14,
    "start_time": "2022-07-24T14:08:22.663Z"
   },
   {
    "duration": 9,
    "start_time": "2022-07-24T14:08:22.678Z"
   },
   {
    "duration": 79,
    "start_time": "2022-07-24T14:08:22.689Z"
   },
   {
    "duration": 467,
    "start_time": "2022-07-24T14:08:22.772Z"
   },
   {
    "duration": 822,
    "start_time": "2022-07-24T14:08:23.240Z"
   },
   {
    "duration": 5,
    "start_time": "2022-07-24T14:08:24.063Z"
   },
   {
    "duration": 20,
    "start_time": "2022-07-24T14:08:24.069Z"
   },
   {
    "duration": 606,
    "start_time": "2022-07-24T14:08:24.091Z"
   },
   {
    "duration": 4730,
    "start_time": "2022-07-24T14:08:24.699Z"
   },
   {
    "duration": 1631,
    "start_time": "2022-07-24T14:08:29.431Z"
   },
   {
    "duration": 12,
    "start_time": "2022-07-24T14:08:31.064Z"
   },
   {
    "duration": 131,
    "start_time": "2022-07-24T14:08:31.077Z"
   },
   {
    "duration": 14,
    "start_time": "2022-07-24T14:08:31.210Z"
   },
   {
    "duration": 6,
    "start_time": "2022-07-24T14:08:56.509Z"
   },
   {
    "duration": 7,
    "start_time": "2022-07-24T14:09:16.057Z"
   },
   {
    "duration": 8,
    "start_time": "2022-07-24T14:09:26.193Z"
   },
   {
    "duration": 4,
    "start_time": "2022-07-24T14:09:32.124Z"
   },
   {
    "duration": 46,
    "start_time": "2022-07-24T14:09:32.131Z"
   },
   {
    "duration": 20,
    "start_time": "2022-07-24T14:09:32.180Z"
   },
   {
    "duration": 22,
    "start_time": "2022-07-24T14:09:32.202Z"
   },
   {
    "duration": 10,
    "start_time": "2022-07-24T14:09:32.227Z"
   },
   {
    "duration": 6,
    "start_time": "2022-07-24T14:09:32.239Z"
   },
   {
    "duration": 52,
    "start_time": "2022-07-24T14:09:32.261Z"
   },
   {
    "duration": 16,
    "start_time": "2022-07-24T14:09:32.314Z"
   },
   {
    "duration": 3,
    "start_time": "2022-07-24T14:09:32.332Z"
   },
   {
    "duration": 2064,
    "start_time": "2022-07-24T14:09:32.337Z"
   },
   {
    "duration": 1006,
    "start_time": "2022-07-24T14:09:34.403Z"
   },
   {
    "duration": 1445,
    "start_time": "2022-07-24T14:09:35.410Z"
   },
   {
    "duration": 7,
    "start_time": "2022-07-24T14:09:36.857Z"
   },
   {
    "duration": 5,
    "start_time": "2022-07-24T14:09:44.412Z"
   },
   {
    "duration": 6,
    "start_time": "2022-07-24T14:09:45.612Z"
   },
   {
    "duration": 13,
    "start_time": "2022-07-24T14:09:46.747Z"
   },
   {
    "duration": 10,
    "start_time": "2022-07-24T14:09:47.667Z"
   },
   {
    "duration": 28,
    "start_time": "2022-07-24T14:09:57.630Z"
   },
   {
    "duration": 322,
    "start_time": "2022-07-24T14:10:03.991Z"
   },
   {
    "duration": 780,
    "start_time": "2022-07-24T14:10:06.700Z"
   },
   {
    "duration": 4,
    "start_time": "2022-07-24T14:10:19.760Z"
   },
   {
    "duration": 8,
    "start_time": "2022-07-24T14:10:24.898Z"
   },
   {
    "duration": 583,
    "start_time": "2022-07-24T14:10:34.849Z"
   },
   {
    "duration": 4772,
    "start_time": "2022-07-24T14:10:36.365Z"
   },
   {
    "duration": 1678,
    "start_time": "2022-07-24T14:10:48.093Z"
   },
   {
    "duration": 13,
    "start_time": "2022-07-24T14:10:50.508Z"
   },
   {
    "duration": 117,
    "start_time": "2022-07-24T14:10:54.976Z"
   },
   {
    "duration": 18,
    "start_time": "2022-07-24T14:11:06.722Z"
   },
   {
    "duration": 8,
    "start_time": "2022-07-24T14:18:56.532Z"
   },
   {
    "duration": 105,
    "start_time": "2022-07-24T14:20:02.405Z"
   },
   {
    "duration": 1208,
    "start_time": "2022-07-24T15:14:11.923Z"
   },
   {
    "duration": 3899,
    "start_time": "2022-07-24T15:37:04.176Z"
   },
   {
    "duration": 6137,
    "start_time": "2022-07-24T15:41:39.315Z"
   },
   {
    "duration": 771,
    "start_time": "2022-07-24T15:44:56.644Z"
   },
   {
    "duration": 1185,
    "start_time": "2022-07-24T15:46:00.786Z"
   },
   {
    "duration": 257,
    "start_time": "2022-07-24T15:52:50.085Z"
   },
   {
    "duration": 54,
    "start_time": "2022-07-24T15:53:27.287Z"
   },
   {
    "duration": 1912,
    "start_time": "2022-07-24T15:53:34.589Z"
   },
   {
    "duration": 1070,
    "start_time": "2022-07-24T15:53:50.706Z"
   },
   {
    "duration": 11,
    "start_time": "2022-07-24T16:01:09.270Z"
   },
   {
    "duration": 2232,
    "start_time": "2022-07-24T16:04:50.055Z"
   },
   {
    "duration": 1641,
    "start_time": "2022-07-24T16:05:21.495Z"
   },
   {
    "duration": 2749,
    "start_time": "2022-07-24T16:07:14.823Z"
   },
   {
    "duration": 2633,
    "start_time": "2022-07-24T16:08:30.795Z"
   },
   {
    "duration": 2827,
    "start_time": "2022-07-24T16:10:03.860Z"
   },
   {
    "duration": 3,
    "start_time": "2022-07-24T16:32:04.251Z"
   },
   {
    "duration": 2144,
    "start_time": "2022-07-24T16:32:05.182Z"
   },
   {
    "duration": 1162,
    "start_time": "2022-07-24T16:32:15.632Z"
   },
   {
    "duration": 1566,
    "start_time": "2022-07-24T16:32:24.342Z"
   },
   {
    "duration": 126,
    "start_time": "2022-07-24T16:33:47.402Z"
   },
   {
    "duration": 125,
    "start_time": "2022-07-24T16:33:57.226Z"
   },
   {
    "duration": 238,
    "start_time": "2022-07-24T16:34:21.359Z"
   },
   {
    "duration": 1611,
    "start_time": "2022-07-24T16:34:29.827Z"
   },
   {
    "duration": 4,
    "start_time": "2022-07-24T16:34:39.024Z"
   },
   {
    "duration": 36,
    "start_time": "2022-07-24T16:34:39.030Z"
   },
   {
    "duration": 13,
    "start_time": "2022-07-24T16:34:39.068Z"
   },
   {
    "duration": 12,
    "start_time": "2022-07-24T16:34:39.083Z"
   },
   {
    "duration": 7,
    "start_time": "2022-07-24T16:34:39.097Z"
   },
   {
    "duration": 5,
    "start_time": "2022-07-24T16:34:39.283Z"
   },
   {
    "duration": 49,
    "start_time": "2022-07-24T16:34:39.290Z"
   },
   {
    "duration": 16,
    "start_time": "2022-07-24T16:34:39.341Z"
   },
   {
    "duration": 5,
    "start_time": "2022-07-24T16:34:39.360Z"
   },
   {
    "duration": 6,
    "start_time": "2022-07-24T16:34:39.367Z"
   },
   {
    "duration": 1938,
    "start_time": "2022-07-24T16:34:39.584Z"
   },
   {
    "duration": 988,
    "start_time": "2022-07-24T16:34:41.524Z"
   },
   {
    "duration": 1426,
    "start_time": "2022-07-24T16:34:42.514Z"
   },
   {
    "duration": 6,
    "start_time": "2022-07-24T16:34:43.942Z"
   },
   {
    "duration": 6,
    "start_time": "2022-07-24T16:34:43.960Z"
   },
   {
    "duration": 11,
    "start_time": "2022-07-24T16:34:43.967Z"
   },
   {
    "duration": 7,
    "start_time": "2022-07-24T16:34:43.980Z"
   },
   {
    "duration": 34,
    "start_time": "2022-07-24T16:34:43.989Z"
   },
   {
    "duration": 365,
    "start_time": "2022-07-24T16:34:44.025Z"
   },
   {
    "duration": 815,
    "start_time": "2022-07-24T16:34:44.392Z"
   },
   {
    "duration": 4,
    "start_time": "2022-07-24T16:34:45.209Z"
   },
   {
    "duration": 18,
    "start_time": "2022-07-24T16:34:45.214Z"
   },
   {
    "duration": 548,
    "start_time": "2022-07-24T16:34:45.234Z"
   },
   {
    "duration": 4903,
    "start_time": "2022-07-24T16:34:45.785Z"
   },
   {
    "duration": 1872,
    "start_time": "2022-07-24T16:34:50.690Z"
   },
   {
    "duration": 12,
    "start_time": "2022-07-24T16:34:52.564Z"
   },
   {
    "duration": 133,
    "start_time": "2022-07-24T16:34:52.578Z"
   },
   {
    "duration": 134,
    "start_time": "2022-07-24T16:34:52.713Z"
   },
   {
    "duration": 28,
    "start_time": "2022-07-24T16:34:52.849Z"
   },
   {
    "duration": 1396,
    "start_time": "2022-07-24T16:34:52.879Z"
   },
   {
    "duration": 2781,
    "start_time": "2022-07-24T16:34:54.276Z"
   },
   {
    "duration": 1369,
    "start_time": "2022-07-24T16:38:11.062Z"
   },
   {
    "duration": 33,
    "start_time": "2022-07-24T16:38:12.433Z"
   },
   {
    "duration": 18,
    "start_time": "2022-07-24T16:38:12.468Z"
   },
   {
    "duration": 13,
    "start_time": "2022-07-24T16:38:12.489Z"
   },
   {
    "duration": 11,
    "start_time": "2022-07-24T16:38:12.503Z"
   },
   {
    "duration": 5,
    "start_time": "2022-07-24T16:38:12.515Z"
   },
   {
    "duration": 85,
    "start_time": "2022-07-24T16:38:12.521Z"
   },
   {
    "duration": 18,
    "start_time": "2022-07-24T16:38:12.607Z"
   },
   {
    "duration": 7,
    "start_time": "2022-07-24T16:38:12.627Z"
   },
   {
    "duration": 24,
    "start_time": "2022-07-24T16:38:12.637Z"
   },
   {
    "duration": 2008,
    "start_time": "2022-07-24T16:38:12.663Z"
   },
   {
    "duration": 1066,
    "start_time": "2022-07-24T16:38:14.674Z"
   },
   {
    "duration": 1626,
    "start_time": "2022-07-24T16:38:15.742Z"
   },
   {
    "duration": 7,
    "start_time": "2022-07-24T16:38:17.370Z"
   },
   {
    "duration": 9,
    "start_time": "2022-07-24T16:38:17.379Z"
   },
   {
    "duration": 15,
    "start_time": "2022-07-24T16:38:17.389Z"
   },
   {
    "duration": 6,
    "start_time": "2022-07-24T16:38:17.406Z"
   },
   {
    "duration": 31,
    "start_time": "2022-07-24T16:38:17.413Z"
   },
   {
    "duration": 342,
    "start_time": "2022-07-24T16:38:17.446Z"
   },
   {
    "duration": 773,
    "start_time": "2022-07-24T16:38:17.790Z"
   },
   {
    "duration": 3,
    "start_time": "2022-07-24T16:38:18.565Z"
   },
   {
    "duration": 13,
    "start_time": "2022-07-24T16:38:18.570Z"
   },
   {
    "duration": 573,
    "start_time": "2022-07-24T16:38:18.585Z"
   },
   {
    "duration": 4544,
    "start_time": "2022-07-24T16:38:19.160Z"
   },
   {
    "duration": 1456,
    "start_time": "2022-07-24T16:38:23.705Z"
   },
   {
    "duration": 14,
    "start_time": "2022-07-24T16:38:25.163Z"
   },
   {
    "duration": 131,
    "start_time": "2022-07-24T16:38:25.178Z"
   },
   {
    "duration": 133,
    "start_time": "2022-07-24T16:38:25.313Z"
   },
   {
    "duration": 20,
    "start_time": "2022-07-24T16:38:25.448Z"
   },
   {
    "duration": 1379,
    "start_time": "2022-07-24T16:38:25.470Z"
   },
   {
    "duration": 2614,
    "start_time": "2022-07-24T16:38:26.851Z"
   },
   {
    "duration": 1687,
    "start_time": "2022-07-25T06:55:25.041Z"
   },
   {
    "duration": 33,
    "start_time": "2022-07-25T06:55:26.730Z"
   },
   {
    "duration": 17,
    "start_time": "2022-07-25T06:55:26.765Z"
   },
   {
    "duration": 11,
    "start_time": "2022-07-25T06:55:26.784Z"
   },
   {
    "duration": 8,
    "start_time": "2022-07-25T06:55:26.797Z"
   },
   {
    "duration": 5,
    "start_time": "2022-07-25T06:55:26.806Z"
   },
   {
    "duration": 73,
    "start_time": "2022-07-25T06:55:26.812Z"
   },
   {
    "duration": 22,
    "start_time": "2022-07-25T06:55:26.887Z"
   },
   {
    "duration": 6,
    "start_time": "2022-07-25T06:55:26.911Z"
   },
   {
    "duration": 9,
    "start_time": "2022-07-25T06:55:26.920Z"
   },
   {
    "duration": 1930,
    "start_time": "2022-07-25T06:55:26.930Z"
   },
   {
    "duration": 1024,
    "start_time": "2022-07-25T06:55:28.862Z"
   },
   {
    "duration": 1436,
    "start_time": "2022-07-25T06:55:29.888Z"
   },
   {
    "duration": 7,
    "start_time": "2022-07-25T06:55:31.327Z"
   },
   {
    "duration": 15,
    "start_time": "2022-07-25T06:55:31.336Z"
   },
   {
    "duration": 30,
    "start_time": "2022-07-25T06:55:31.353Z"
   },
   {
    "duration": 34,
    "start_time": "2022-07-25T06:55:31.384Z"
   },
   {
    "duration": 56,
    "start_time": "2022-07-25T06:55:31.420Z"
   },
   {
    "duration": 330,
    "start_time": "2022-07-25T06:55:31.478Z"
   },
   {
    "duration": 809,
    "start_time": "2022-07-25T06:55:31.810Z"
   },
   {
    "duration": 5,
    "start_time": "2022-07-25T06:55:32.620Z"
   },
   {
    "duration": 10,
    "start_time": "2022-07-25T06:55:32.627Z"
   },
   {
    "duration": 551,
    "start_time": "2022-07-25T06:55:32.639Z"
   },
   {
    "duration": 4628,
    "start_time": "2022-07-25T06:55:33.191Z"
   },
   {
    "duration": 1541,
    "start_time": "2022-07-25T06:55:37.821Z"
   },
   {
    "duration": 12,
    "start_time": "2022-07-25T06:55:39.364Z"
   },
   {
    "duration": 127,
    "start_time": "2022-07-25T06:55:39.378Z"
   },
   {
    "duration": 126,
    "start_time": "2022-07-25T06:55:39.507Z"
   },
   {
    "duration": 15,
    "start_time": "2022-07-25T06:55:39.634Z"
   },
   {
    "duration": 1211,
    "start_time": "2022-07-25T06:55:39.661Z"
   },
   {
    "duration": 2596,
    "start_time": "2022-07-25T06:55:40.874Z"
   },
   {
    "duration": 2310,
    "start_time": "2022-07-25T07:10:25.169Z"
   },
   {
    "duration": 31,
    "start_time": "2022-07-25T07:10:27.481Z"
   },
   {
    "duration": 17,
    "start_time": "2022-07-25T07:10:27.514Z"
   },
   {
    "duration": 11,
    "start_time": "2022-07-25T07:10:27.533Z"
   },
   {
    "duration": 11,
    "start_time": "2022-07-25T07:10:27.546Z"
   },
   {
    "duration": 5,
    "start_time": "2022-07-25T07:10:27.558Z"
   },
   {
    "duration": 46,
    "start_time": "2022-07-25T07:10:27.564Z"
   },
   {
    "duration": 15,
    "start_time": "2022-07-25T07:10:27.612Z"
   },
   {
    "duration": 13,
    "start_time": "2022-07-25T07:10:27.629Z"
   },
   {
    "duration": 16,
    "start_time": "2022-07-25T07:10:27.645Z"
   },
   {
    "duration": 2092,
    "start_time": "2022-07-25T07:10:27.662Z"
   },
   {
    "duration": 1037,
    "start_time": "2022-07-25T07:10:29.760Z"
   },
   {
    "duration": 1533,
    "start_time": "2022-07-25T07:10:30.799Z"
   },
   {
    "duration": 7,
    "start_time": "2022-07-25T07:10:32.334Z"
   },
   {
    "duration": 39,
    "start_time": "2022-07-25T07:10:32.343Z"
   },
   {
    "duration": 28,
    "start_time": "2022-07-25T07:10:32.384Z"
   },
   {
    "duration": 32,
    "start_time": "2022-07-25T07:10:32.413Z"
   },
   {
    "duration": 46,
    "start_time": "2022-07-25T07:10:32.446Z"
   },
   {
    "duration": 358,
    "start_time": "2022-07-25T07:10:32.494Z"
   },
   {
    "duration": 782,
    "start_time": "2022-07-25T07:10:32.854Z"
   },
   {
    "duration": 3,
    "start_time": "2022-07-25T07:10:33.638Z"
   },
   {
    "duration": 25,
    "start_time": "2022-07-25T07:10:33.643Z"
   },
   {
    "duration": 527,
    "start_time": "2022-07-25T07:10:33.670Z"
   },
   {
    "duration": 4890,
    "start_time": "2022-07-25T07:10:34.199Z"
   },
   {
    "duration": 1270,
    "start_time": "2022-07-25T07:10:39.091Z"
   },
   {
    "duration": 15,
    "start_time": "2022-07-25T07:10:40.364Z"
   },
   {
    "duration": 122,
    "start_time": "2022-07-25T07:10:40.381Z"
   },
   {
    "duration": 123,
    "start_time": "2022-07-25T07:10:40.506Z"
   },
   {
    "duration": 16,
    "start_time": "2022-07-25T07:10:40.633Z"
   },
   {
    "duration": 1394,
    "start_time": "2022-07-25T07:10:40.661Z"
   },
   {
    "duration": 2941,
    "start_time": "2022-07-25T07:10:42.057Z"
   },
   {
    "duration": 60,
    "start_time": "2022-07-25T07:47:33.623Z"
   },
   {
    "duration": 1589,
    "start_time": "2022-07-25T07:47:39.219Z"
   },
   {
    "duration": 77,
    "start_time": "2022-07-25T07:47:40.810Z"
   },
   {
    "duration": 26,
    "start_time": "2022-07-25T07:47:40.889Z"
   },
   {
    "duration": 13,
    "start_time": "2022-07-25T07:47:40.921Z"
   },
   {
    "duration": 13,
    "start_time": "2022-07-25T07:47:40.936Z"
   },
   {
    "duration": 11,
    "start_time": "2022-07-25T07:47:40.952Z"
   },
   {
    "duration": 59,
    "start_time": "2022-07-25T07:47:40.965Z"
   },
   {
    "duration": 16,
    "start_time": "2022-07-25T07:47:41.026Z"
   },
   {
    "duration": 8,
    "start_time": "2022-07-25T07:47:41.043Z"
   },
   {
    "duration": 7,
    "start_time": "2022-07-25T07:47:41.054Z"
   },
   {
    "duration": 2246,
    "start_time": "2022-07-25T07:47:41.063Z"
   },
   {
    "duration": 1077,
    "start_time": "2022-07-25T07:47:43.311Z"
   },
   {
    "duration": 1536,
    "start_time": "2022-07-25T07:47:44.390Z"
   },
   {
    "duration": 8,
    "start_time": "2022-07-25T07:47:45.927Z"
   },
   {
    "duration": 35,
    "start_time": "2022-07-25T07:47:45.937Z"
   },
   {
    "duration": 39,
    "start_time": "2022-07-25T07:47:45.974Z"
   },
   {
    "duration": 31,
    "start_time": "2022-07-25T07:47:46.015Z"
   },
   {
    "duration": 56,
    "start_time": "2022-07-25T07:47:46.049Z"
   },
   {
    "duration": 386,
    "start_time": "2022-07-25T07:47:46.108Z"
   },
   {
    "duration": 863,
    "start_time": "2022-07-25T07:47:46.497Z"
   },
   {
    "duration": 4,
    "start_time": "2022-07-25T07:47:47.362Z"
   },
   {
    "duration": 31,
    "start_time": "2022-07-25T07:47:47.368Z"
   },
   {
    "duration": 576,
    "start_time": "2022-07-25T07:47:47.402Z"
   },
   {
    "duration": 5059,
    "start_time": "2022-07-25T07:47:47.980Z"
   },
   {
    "duration": 1481,
    "start_time": "2022-07-25T07:47:53.042Z"
   },
   {
    "duration": 14,
    "start_time": "2022-07-25T07:47:54.525Z"
   },
   {
    "duration": 142,
    "start_time": "2022-07-25T07:47:54.541Z"
   },
   {
    "duration": 136,
    "start_time": "2022-07-25T07:47:54.687Z"
   },
   {
    "duration": 15,
    "start_time": "2022-07-25T07:47:54.825Z"
   },
   {
    "duration": 1387,
    "start_time": "2022-07-25T07:47:54.842Z"
   },
   {
    "duration": 2390,
    "start_time": "2022-07-25T07:47:56.231Z"
   },
   {
    "duration": 1355,
    "start_time": "2022-07-25T07:49:53.142Z"
   },
   {
    "duration": 118,
    "start_time": "2022-07-25T07:52:23.357Z"
   },
   {
    "duration": 20,
    "start_time": "2022-07-25T07:53:06.362Z"
   },
   {
    "duration": 31,
    "start_time": "2022-07-25T07:53:26.768Z"
   },
   {
    "duration": 44,
    "start_time": "2022-07-25T07:53:58.174Z"
   },
   {
    "duration": 35,
    "start_time": "2022-07-25T07:54:23.786Z"
   },
   {
    "duration": 25,
    "start_time": "2022-07-25T07:54:48.689Z"
   },
   {
    "duration": 30,
    "start_time": "2022-07-25T07:55:21.796Z"
   },
   {
    "duration": 33,
    "start_time": "2022-07-25T07:56:09.969Z"
   },
   {
    "duration": 119,
    "start_time": "2022-07-25T09:14:34.510Z"
   },
   {
    "duration": 9,
    "start_time": "2022-07-25T09:14:52.089Z"
   },
   {
    "duration": 40,
    "start_time": "2022-07-25T09:15:17.978Z"
   },
   {
    "duration": 4,
    "start_time": "2022-07-25T09:15:30.848Z"
   },
   {
    "duration": 56,
    "start_time": "2022-07-25T09:15:30.854Z"
   },
   {
    "duration": 33,
    "start_time": "2022-07-25T09:15:30.913Z"
   },
   {
    "duration": 38,
    "start_time": "2022-07-25T09:15:30.948Z"
   },
   {
    "duration": 20,
    "start_time": "2022-07-25T09:15:30.989Z"
   },
   {
    "duration": 15,
    "start_time": "2022-07-25T09:15:31.012Z"
   },
   {
    "duration": 73,
    "start_time": "2022-07-25T09:15:31.029Z"
   },
   {
    "duration": 23,
    "start_time": "2022-07-25T09:15:31.105Z"
   },
   {
    "duration": 4,
    "start_time": "2022-07-25T09:15:31.130Z"
   },
   {
    "duration": 36,
    "start_time": "2022-07-25T09:15:31.136Z"
   },
   {
    "duration": 2688,
    "start_time": "2022-07-25T09:15:31.174Z"
   },
   {
    "duration": 1592,
    "start_time": "2022-07-25T09:15:33.864Z"
   },
   {
    "duration": 1633,
    "start_time": "2022-07-25T09:15:35.459Z"
   },
   {
    "duration": 7,
    "start_time": "2022-07-25T09:15:37.096Z"
   },
   {
    "duration": 21,
    "start_time": "2022-07-25T09:15:37.105Z"
   },
   {
    "duration": 20,
    "start_time": "2022-07-25T09:15:37.128Z"
   },
   {
    "duration": 8,
    "start_time": "2022-07-25T09:15:37.150Z"
   },
   {
    "duration": 35,
    "start_time": "2022-07-25T09:15:37.160Z"
   },
   {
    "duration": 369,
    "start_time": "2022-07-25T09:15:37.198Z"
   },
   {
    "duration": 813,
    "start_time": "2022-07-25T09:15:37.570Z"
   },
   {
    "duration": 5,
    "start_time": "2022-07-25T09:15:38.385Z"
   },
   {
    "duration": 21,
    "start_time": "2022-07-25T09:15:38.392Z"
   },
   {
    "duration": 614,
    "start_time": "2022-07-25T09:15:38.422Z"
   },
   {
    "duration": 4999,
    "start_time": "2022-07-25T09:15:39.037Z"
   },
   {
    "duration": 1293,
    "start_time": "2022-07-25T09:15:44.039Z"
   },
   {
    "duration": 20,
    "start_time": "2022-07-25T09:15:45.334Z"
   },
   {
    "duration": 156,
    "start_time": "2022-07-25T09:15:45.356Z"
   },
   {
    "duration": 174,
    "start_time": "2022-07-25T09:15:45.514Z"
   },
   {
    "duration": 60,
    "start_time": "2022-07-25T09:15:45.690Z"
   },
   {
    "duration": 1464,
    "start_time": "2022-07-25T09:15:45.752Z"
   },
   {
    "duration": 1182,
    "start_time": "2022-07-25T09:15:47.224Z"
   },
   {
    "duration": 34,
    "start_time": "2022-07-25T09:16:31.498Z"
   },
   {
    "duration": 38,
    "start_time": "2022-07-25T09:16:47.598Z"
   },
   {
    "duration": 30,
    "start_time": "2022-07-25T09:17:56.764Z"
   },
   {
    "duration": 46,
    "start_time": "2022-07-25T09:20:06.759Z"
   },
   {
    "duration": 381,
    "start_time": "2022-07-25T09:24:09.159Z"
   },
   {
    "duration": 371,
    "start_time": "2022-07-25T09:24:24.308Z"
   },
   {
    "duration": 328,
    "start_time": "2022-07-25T09:24:53.628Z"
   },
   {
    "duration": 937,
    "start_time": "2022-07-25T09:25:24.229Z"
   },
   {
    "duration": 832,
    "start_time": "2022-07-25T09:26:07.027Z"
   },
   {
    "duration": 853,
    "start_time": "2022-07-25T09:26:20.422Z"
   },
   {
    "duration": 852,
    "start_time": "2022-07-25T09:27:59.304Z"
   },
   {
    "duration": 55,
    "start_time": "2022-07-25T10:49:50.945Z"
   },
   {
    "duration": 1084,
    "start_time": "2022-07-25T10:51:08.451Z"
   },
   {
    "duration": 43,
    "start_time": "2022-07-25T10:52:03.845Z"
   },
   {
    "duration": 38,
    "start_time": "2022-07-25T10:52:52.100Z"
   },
   {
    "duration": 912,
    "start_time": "2022-07-25T10:54:00.083Z"
   },
   {
    "duration": 119,
    "start_time": "2022-07-25T10:55:20.555Z"
   },
   {
    "duration": 1259,
    "start_time": "2022-07-25T10:56:34.856Z"
   },
   {
    "duration": 1662,
    "start_time": "2022-07-25T11:06:21.888Z"
   },
   {
    "duration": 37,
    "start_time": "2022-07-25T11:06:23.553Z"
   },
   {
    "duration": 20,
    "start_time": "2022-07-25T11:06:23.592Z"
   },
   {
    "duration": 27,
    "start_time": "2022-07-25T11:06:23.614Z"
   },
   {
    "duration": 16,
    "start_time": "2022-07-25T11:06:23.646Z"
   },
   {
    "duration": 8,
    "start_time": "2022-07-25T11:06:23.664Z"
   },
   {
    "duration": 67,
    "start_time": "2022-07-25T11:06:23.674Z"
   },
   {
    "duration": 20,
    "start_time": "2022-07-25T11:06:23.744Z"
   },
   {
    "duration": 23,
    "start_time": "2022-07-25T11:06:23.766Z"
   },
   {
    "duration": 17,
    "start_time": "2022-07-25T11:06:23.792Z"
   },
   {
    "duration": 2348,
    "start_time": "2022-07-25T11:06:23.811Z"
   },
   {
    "duration": 1302,
    "start_time": "2022-07-25T11:06:26.161Z"
   },
   {
    "duration": 1591,
    "start_time": "2022-07-25T11:06:27.465Z"
   },
   {
    "duration": 9,
    "start_time": "2022-07-25T11:06:29.059Z"
   },
   {
    "duration": 42,
    "start_time": "2022-07-25T11:06:29.070Z"
   },
   {
    "duration": 53,
    "start_time": "2022-07-25T11:06:29.114Z"
   },
   {
    "duration": 103,
    "start_time": "2022-07-25T11:06:29.169Z"
   },
   {
    "duration": 86,
    "start_time": "2022-07-25T11:06:29.275Z"
   },
   {
    "duration": 49,
    "start_time": "2022-07-25T11:06:29.363Z"
   },
   {
    "duration": 448,
    "start_time": "2022-07-25T11:06:29.414Z"
   },
   {
    "duration": 962,
    "start_time": "2022-07-25T11:06:29.864Z"
   },
   {
    "duration": 8,
    "start_time": "2022-07-25T11:06:30.827Z"
   },
   {
    "duration": 60,
    "start_time": "2022-07-25T11:06:30.839Z"
   },
   {
    "duration": 798,
    "start_time": "2022-07-25T11:06:30.901Z"
   },
   {
    "duration": 5412,
    "start_time": "2022-07-25T11:06:31.702Z"
   },
   {
    "duration": 1445,
    "start_time": "2022-07-25T11:06:37.116Z"
   },
   {
    "duration": 24,
    "start_time": "2022-07-25T11:06:38.623Z"
   },
   {
    "duration": 146,
    "start_time": "2022-07-25T11:06:38.651Z"
   },
   {
    "duration": 176,
    "start_time": "2022-07-25T11:06:38.802Z"
   },
   {
    "duration": 109,
    "start_time": "2022-07-25T11:06:38.980Z"
   },
   {
    "duration": 1599,
    "start_time": "2022-07-25T11:06:39.091Z"
   },
   {
    "duration": 1563,
    "start_time": "2022-07-25T11:06:40.693Z"
   },
   {
    "duration": 272,
    "start_time": "2022-07-25T13:42:14.422Z"
   },
   {
    "duration": 320,
    "start_time": "2022-07-25T13:42:50.570Z"
   },
   {
    "duration": 757,
    "start_time": "2022-07-25T13:43:50.124Z"
   },
   {
    "duration": 627,
    "start_time": "2022-07-25T13:44:45.338Z"
   },
   {
    "duration": 15,
    "start_time": "2022-07-25T13:45:03.221Z"
   },
   {
    "duration": 403,
    "start_time": "2022-07-25T13:45:19.465Z"
   },
   {
    "duration": 299,
    "start_time": "2022-07-25T13:45:25.170Z"
   },
   {
    "duration": 294,
    "start_time": "2022-07-25T13:45:25.481Z"
   },
   {
    "duration": 5,
    "start_time": "2022-07-25T13:45:36.274Z"
   },
   {
    "duration": 1102,
    "start_time": "2022-07-25T13:45:46.770Z"
   },
   {
    "duration": 4,
    "start_time": "2022-07-25T13:45:51.472Z"
   },
   {
    "duration": 322,
    "start_time": "2022-07-25T13:46:01.602Z"
   },
   {
    "duration": 1171,
    "start_time": "2022-07-25T13:46:16.947Z"
   },
   {
    "duration": 1394,
    "start_time": "2022-07-25T13:46:31.313Z"
   },
   {
    "duration": 1407,
    "start_time": "2022-07-25T13:46:48.144Z"
   },
   {
    "duration": 942,
    "start_time": "2022-07-25T13:47:04.257Z"
   },
   {
    "duration": 15,
    "start_time": "2022-07-25T13:55:24.835Z"
   },
   {
    "duration": 1111,
    "start_time": "2022-07-25T13:55:30.012Z"
   },
   {
    "duration": 1161,
    "start_time": "2022-07-25T13:56:00.445Z"
   },
   {
    "duration": 1199,
    "start_time": "2022-07-25T13:56:22.196Z"
   }
  ],
  "kernelspec": {
   "display_name": "Python 3 (ipykernel)",
   "language": "python",
   "name": "python3"
  },
  "language_info": {
   "codemirror_mode": {
    "name": "ipython",
    "version": 3
   },
   "file_extension": ".py",
   "mimetype": "text/x-python",
   "name": "python",
   "nbconvert_exporter": "python",
   "pygments_lexer": "ipython3",
   "version": "3.9.12"
  },
  "toc": {
   "base_numbering": 1,
   "nav_menu": {},
   "number_sections": true,
   "sideBar": true,
   "skip_h1_title": true,
   "title_cell": "Table of Contents",
   "title_sidebar": "Contents",
   "toc_cell": false,
   "toc_position": {
    "height": "calc(100% - 180px)",
    "left": "10px",
    "top": "150px",
    "width": "261.67px"
   },
   "toc_section_display": true,
   "toc_window_display": false
  }
 },
 "nbformat": 4,
 "nbformat_minor": 2
}
