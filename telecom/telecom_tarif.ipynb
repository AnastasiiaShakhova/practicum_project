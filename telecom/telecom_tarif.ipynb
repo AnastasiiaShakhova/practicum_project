{
 "cells": [
  {
   "cell_type": "markdown",
   "metadata": {},
   "source": [
    "# Определение перспективного тарифа для телеком-компании"
   ]
  },
  {
   "cell_type": "markdown",
   "metadata": {},
   "source": [
    "*Заказчик: Коммерческий департамент федерального оператора сотовой связи \"Мегалайн\".*\n",
    "\n",
    "\n",
    "\n",
    "**Цель проекта:**\n",
    "\n",
    "**Из двух тарифов \"Смарт\" и \"Ультра\" выбрать более доходный для дальнейшей корректировки рекламного бюджета.**\n",
    "\n",
    "**Задачи проекта:**\n",
    "- Проанализировать поведение клиентов: дать портрет клиента в каждом тарифе.\n",
    "- На основе небольшой выборки проверить гипотезы: \n",
    "1) средняя выручка пользователей тарифов «Ультра» и «Смарт» различаются;\n",
    "2) средняя выручка пользователей из Москвы отличается от выручки пользователей из других регионов.\n",
    "- Определить наиболее доходный тариф."
   ]
  },
  {
   "cell_type": "markdown",
   "metadata": {},
   "source": [
    "**Описание тарифов**"
   ]
  },
  {
   "cell_type": "markdown",
   "metadata": {},
   "source": [
    "* tariff_name — название тарифа\n",
    "* rub_monthly_fee — ежемесячная абонентская плата в рублях\n",
    "* minutes_included — количество минут разговора в месяц, включённых в абонентскую плату\n",
    "* messages_included — количество сообщений в месяц, включённых в абонентскую плату\n",
    "* mb_per_month_included — объём интернет-трафика, включённого в абонентскую плату (в мегабайтах)\n",
    "* rub_per_minute — стоимость минуты разговора сверх тарифного пакета (например, если в тарифе 100 минут разговора в месяц, то со 101 минуты будет взиматься плата)\n",
    "* rub_per_message — стоимость отправки сообщения сверх тарифного пакета\n",
    "* rub_per_gb — стоимость дополнительного гигабайта интернет-трафика сверх тарифного пакета (1 гигабайт = 1024 мегабайта)"
   ]
  },
  {
   "cell_type": "markdown",
   "metadata": {},
   "source": [
    "*Примечание*\n",
    "- *«Мегалайн» всегда округляет секунды до минут, а мегабайты — до гигабайт.*\n",
    "- *Каждый звонок округляется отдельно: даже если он длился всего 1 секунду, будет засчитан как 1 минута.*\n",
    "- *Для веб-трафика отдельные сессии не считаются. Вместо этого общая сумма за месяц округляется в бо́льшую сторону (если абонент использует 1025 мегабайт в этом месяце, с него возьмут плату за 2 гигабайта*\n",
    "- *Примем, что неиспользованные за предыдущий месяц звонки, смс, интернет на следующий месяц не переносятся.*"
   ]
  },
  {
   "cell_type": "markdown",
   "metadata": {},
   "source": [
    "**Для анализа были предоставлены:**\n",
    "- информация о 500 пользователях / таблица users (user_id — уникальный идентификатор пользователя, first_name — имя пользователя, last_name — фамилия пользователя, age — возраст пользователя (годы), reg_date — дата подключения тарифа (день, месяц, год), churn_date — дата прекращения пользования тарифом (если значение пропущено, то тариф ещё действовал на момент выгрузки данных), city — город проживания пользователя, tariff — название тарифного плана).\n",
    "- информация о совершенных звонках / таблица calls (id — уникальный номер звонка, call_date — дата звонка, duration — длительность звонка в минутах, user_id — идентификатор пользователя, сделавшего звонок).\n",
    "- информация об отправленных смс-сообщениях / таблица messages (id — уникальный номер сообщения, message_date — дата сообщения, user_id — идентификатор пользователя, отправившего сообщение).\n",
    "- информация о проведенных интернет-сессиях / Таблица internet (id — уникальный номер сессии, mb_used — объём потраченного за сессию интернет-трафика (в мегабайтах), session_date — дата интернет-сессии, user_id — идентификатор пользователя)."
   ]
  },
  {
   "cell_type": "markdown",
   "metadata": {},
   "source": [
    "## Обработка данных и вненение дополнительных "
   ]
  },
  {
   "cell_type": "markdown",
   "metadata": {},
   "source": [
    "Импортируем нужные библиотеки, просмотрим и опишем подробнее полученные данные, есть ли в них проблемы, обработаем пропуски, внесем необходимые исправления, скорректируем при необходимости типы данных."
   ]
  },
  {
   "cell_type": "code",
   "execution_count": 299,
   "metadata": {},
   "outputs": [],
   "source": [
    "import pandas as pd\n",
    "\n",
    "import matplotlib.pyplot as plt\n",
    "import numpy as np\n",
    "\n",
    "from datetime import datetime\n",
    "from scipy import stats as st\n"
   ]
  },
  {
   "cell_type": "code",
   "execution_count": 300,
   "metadata": {},
   "outputs": [],
   "source": [
    "calls = pd.read_csv('/datasets/calls.csv')\n",
    "internet = pd.read_csv('/datasets/internet.csv')\n",
    "messages = pd.read_csv('/datasets/messages.csv')\n",
    "users = pd.read_csv('/datasets/users.csv')"
   ]
  },
  {
   "cell_type": "code",
   "execution_count": 298,
   "metadata": {
    "scrolled": true
   },
   "outputs": [
    {
     "data": {
      "text/html": [
       "<div>\n",
       "<style scoped>\n",
       "    .dataframe tbody tr th:only-of-type {\n",
       "        vertical-align: middle;\n",
       "    }\n",
       "\n",
       "    .dataframe tbody tr th {\n",
       "        vertical-align: top;\n",
       "    }\n",
       "\n",
       "    .dataframe thead th {\n",
       "        text-align: right;\n",
       "    }\n",
       "</style>\n",
       "<table border=\"1\" class=\"dataframe\">\n",
       "  <thead>\n",
       "    <tr style=\"text-align: right;\">\n",
       "      <th></th>\n",
       "      <th>messages_included</th>\n",
       "      <th>mb_per_month_included</th>\n",
       "      <th>minutes_included</th>\n",
       "      <th>rub_monthly_fee</th>\n",
       "      <th>rub_per_gb</th>\n",
       "      <th>rub_per_message</th>\n",
       "      <th>rub_per_minute</th>\n",
       "      <th>tariff_name</th>\n",
       "    </tr>\n",
       "  </thead>\n",
       "  <tbody>\n",
       "    <tr>\n",
       "      <th>0</th>\n",
       "      <td>50</td>\n",
       "      <td>15360</td>\n",
       "      <td>500</td>\n",
       "      <td>550</td>\n",
       "      <td>200</td>\n",
       "      <td>3</td>\n",
       "      <td>3</td>\n",
       "      <td>smart</td>\n",
       "    </tr>\n",
       "    <tr>\n",
       "      <th>1</th>\n",
       "      <td>1000</td>\n",
       "      <td>30720</td>\n",
       "      <td>3000</td>\n",
       "      <td>1950</td>\n",
       "      <td>150</td>\n",
       "      <td>1</td>\n",
       "      <td>1</td>\n",
       "      <td>ultra</td>\n",
       "    </tr>\n",
       "  </tbody>\n",
       "</table>\n",
       "</div>"
      ],
      "text/plain": [
       "   messages_included  mb_per_month_included  minutes_included  \\\n",
       "0                 50                  15360               500   \n",
       "1               1000                  30720              3000   \n",
       "\n",
       "   rub_monthly_fee  rub_per_gb  rub_per_message  rub_per_minute tariff_name  \n",
       "0              550         200                3               3       smart  \n",
       "1             1950         150                1               1       ultra  "
      ]
     },
     "execution_count": 298,
     "metadata": {},
     "output_type": "execute_result"
    }
   ],
   "source": [
    "tariffs = pd.read_csv('/datasets/tariffs.csv')\n",
    "tariffs"
   ]
  },
  {
   "cell_type": "markdown",
   "metadata": {},
   "source": [
    "### Просмотр и описание"
   ]
  },
  {
   "cell_type": "code",
   "execution_count": 301,
   "metadata": {},
   "outputs": [],
   "source": [
    "def look (data):\n",
    "    if str(data) == str(calls):\n",
    "        print('--------------------------------------------------------')\n",
    "        print('Посмотрим данные о звонках')\n",
    "        print()\n",
    "    elif str(data) == str(internet):\n",
    "        print('--------------------------------------------------------')\n",
    "        print('Посмотрим данные о Интернет-трафике')\n",
    "        print()\n",
    "    elif str(data) == str(messages):\n",
    "        print('--------------------------------------------------------')\n",
    "        print('Посмотрим данные о смс-сообщениях')\n",
    "        print()\n",
    "    else:\n",
    "        print('--------------------------------------------------------')\n",
    "        print('Посмотрим данные об абонентах')\n",
    "        print()\n",
    "    print(data.info())\n",
    "    display(data.describe())\n",
    "    display(data.head())"
   ]
  },
  {
   "cell_type": "code",
   "execution_count": 302,
   "metadata": {
    "scrolled": true
   },
   "outputs": [
    {
     "name": "stdout",
     "output_type": "stream",
     "text": [
      "--------------------------------------------------------\n",
      "Посмотрим данные об абонентах\n",
      "\n",
      "<class 'pandas.core.frame.DataFrame'>\n",
      "RangeIndex: 500 entries, 0 to 499\n",
      "Data columns (total 8 columns):\n",
      " #   Column      Non-Null Count  Dtype \n",
      "---  ------      --------------  ----- \n",
      " 0   user_id     500 non-null    int64 \n",
      " 1   age         500 non-null    int64 \n",
      " 2   churn_date  38 non-null     object\n",
      " 3   city        500 non-null    object\n",
      " 4   first_name  500 non-null    object\n",
      " 5   last_name   500 non-null    object\n",
      " 6   reg_date    500 non-null    object\n",
      " 7   tariff      500 non-null    object\n",
      "dtypes: int64(2), object(6)\n",
      "memory usage: 31.4+ KB\n",
      "None\n"
     ]
    },
    {
     "data": {
      "text/html": [
       "<div>\n",
       "<style scoped>\n",
       "    .dataframe tbody tr th:only-of-type {\n",
       "        vertical-align: middle;\n",
       "    }\n",
       "\n",
       "    .dataframe tbody tr th {\n",
       "        vertical-align: top;\n",
       "    }\n",
       "\n",
       "    .dataframe thead th {\n",
       "        text-align: right;\n",
       "    }\n",
       "</style>\n",
       "<table border=\"1\" class=\"dataframe\">\n",
       "  <thead>\n",
       "    <tr style=\"text-align: right;\">\n",
       "      <th></th>\n",
       "      <th>user_id</th>\n",
       "      <th>age</th>\n",
       "    </tr>\n",
       "  </thead>\n",
       "  <tbody>\n",
       "    <tr>\n",
       "      <th>count</th>\n",
       "      <td>500.000000</td>\n",
       "      <td>500.00000</td>\n",
       "    </tr>\n",
       "    <tr>\n",
       "      <th>mean</th>\n",
       "      <td>1249.500000</td>\n",
       "      <td>46.58800</td>\n",
       "    </tr>\n",
       "    <tr>\n",
       "      <th>std</th>\n",
       "      <td>144.481833</td>\n",
       "      <td>16.66763</td>\n",
       "    </tr>\n",
       "    <tr>\n",
       "      <th>min</th>\n",
       "      <td>1000.000000</td>\n",
       "      <td>18.00000</td>\n",
       "    </tr>\n",
       "    <tr>\n",
       "      <th>25%</th>\n",
       "      <td>1124.750000</td>\n",
       "      <td>32.00000</td>\n",
       "    </tr>\n",
       "    <tr>\n",
       "      <th>50%</th>\n",
       "      <td>1249.500000</td>\n",
       "      <td>46.00000</td>\n",
       "    </tr>\n",
       "    <tr>\n",
       "      <th>75%</th>\n",
       "      <td>1374.250000</td>\n",
       "      <td>62.00000</td>\n",
       "    </tr>\n",
       "    <tr>\n",
       "      <th>max</th>\n",
       "      <td>1499.000000</td>\n",
       "      <td>75.00000</td>\n",
       "    </tr>\n",
       "  </tbody>\n",
       "</table>\n",
       "</div>"
      ],
      "text/plain": [
       "           user_id        age\n",
       "count   500.000000  500.00000\n",
       "mean   1249.500000   46.58800\n",
       "std     144.481833   16.66763\n",
       "min    1000.000000   18.00000\n",
       "25%    1124.750000   32.00000\n",
       "50%    1249.500000   46.00000\n",
       "75%    1374.250000   62.00000\n",
       "max    1499.000000   75.00000"
      ]
     },
     "metadata": {},
     "output_type": "display_data"
    },
    {
     "data": {
      "text/html": [
       "<div>\n",
       "<style scoped>\n",
       "    .dataframe tbody tr th:only-of-type {\n",
       "        vertical-align: middle;\n",
       "    }\n",
       "\n",
       "    .dataframe tbody tr th {\n",
       "        vertical-align: top;\n",
       "    }\n",
       "\n",
       "    .dataframe thead th {\n",
       "        text-align: right;\n",
       "    }\n",
       "</style>\n",
       "<table border=\"1\" class=\"dataframe\">\n",
       "  <thead>\n",
       "    <tr style=\"text-align: right;\">\n",
       "      <th></th>\n",
       "      <th>user_id</th>\n",
       "      <th>age</th>\n",
       "      <th>churn_date</th>\n",
       "      <th>city</th>\n",
       "      <th>first_name</th>\n",
       "      <th>last_name</th>\n",
       "      <th>reg_date</th>\n",
       "      <th>tariff</th>\n",
       "    </tr>\n",
       "  </thead>\n",
       "  <tbody>\n",
       "    <tr>\n",
       "      <th>0</th>\n",
       "      <td>1000</td>\n",
       "      <td>52</td>\n",
       "      <td>NaN</td>\n",
       "      <td>Краснодар</td>\n",
       "      <td>Рафаил</td>\n",
       "      <td>Верещагин</td>\n",
       "      <td>2018-05-25</td>\n",
       "      <td>ultra</td>\n",
       "    </tr>\n",
       "    <tr>\n",
       "      <th>1</th>\n",
       "      <td>1001</td>\n",
       "      <td>41</td>\n",
       "      <td>NaN</td>\n",
       "      <td>Москва</td>\n",
       "      <td>Иван</td>\n",
       "      <td>Ежов</td>\n",
       "      <td>2018-11-01</td>\n",
       "      <td>smart</td>\n",
       "    </tr>\n",
       "    <tr>\n",
       "      <th>2</th>\n",
       "      <td>1002</td>\n",
       "      <td>59</td>\n",
       "      <td>NaN</td>\n",
       "      <td>Стерлитамак</td>\n",
       "      <td>Евгений</td>\n",
       "      <td>Абрамович</td>\n",
       "      <td>2018-06-17</td>\n",
       "      <td>smart</td>\n",
       "    </tr>\n",
       "    <tr>\n",
       "      <th>3</th>\n",
       "      <td>1003</td>\n",
       "      <td>23</td>\n",
       "      <td>NaN</td>\n",
       "      <td>Москва</td>\n",
       "      <td>Белла</td>\n",
       "      <td>Белякова</td>\n",
       "      <td>2018-08-17</td>\n",
       "      <td>ultra</td>\n",
       "    </tr>\n",
       "    <tr>\n",
       "      <th>4</th>\n",
       "      <td>1004</td>\n",
       "      <td>68</td>\n",
       "      <td>NaN</td>\n",
       "      <td>Новокузнецк</td>\n",
       "      <td>Татьяна</td>\n",
       "      <td>Авдеенко</td>\n",
       "      <td>2018-05-14</td>\n",
       "      <td>ultra</td>\n",
       "    </tr>\n",
       "  </tbody>\n",
       "</table>\n",
       "</div>"
      ],
      "text/plain": [
       "   user_id  age churn_date         city first_name  last_name    reg_date  \\\n",
       "0     1000   52        NaN    Краснодар     Рафаил  Верещагин  2018-05-25   \n",
       "1     1001   41        NaN       Москва       Иван       Ежов  2018-11-01   \n",
       "2     1002   59        NaN  Стерлитамак    Евгений  Абрамович  2018-06-17   \n",
       "3     1003   23        NaN       Москва      Белла   Белякова  2018-08-17   \n",
       "4     1004   68        NaN  Новокузнецк    Татьяна   Авдеенко  2018-05-14   \n",
       "\n",
       "  tariff  \n",
       "0  ultra  \n",
       "1  smart  \n",
       "2  smart  \n",
       "3  ultra  \n",
       "4  ultra  "
      ]
     },
     "metadata": {},
     "output_type": "display_data"
    },
    {
     "name": "stdout",
     "output_type": "stream",
     "text": [
      "--------------------------------------------------------\n",
      "Посмотрим данные о звонках\n",
      "\n",
      "<class 'pandas.core.frame.DataFrame'>\n",
      "RangeIndex: 202607 entries, 0 to 202606\n",
      "Data columns (total 4 columns):\n",
      " #   Column     Non-Null Count   Dtype  \n",
      "---  ------     --------------   -----  \n",
      " 0   id         202607 non-null  object \n",
      " 1   call_date  202607 non-null  object \n",
      " 2   duration   202607 non-null  float64\n",
      " 3   user_id    202607 non-null  int64  \n",
      "dtypes: float64(1), int64(1), object(2)\n",
      "memory usage: 6.2+ MB\n",
      "None\n"
     ]
    },
    {
     "data": {
      "text/html": [
       "<div>\n",
       "<style scoped>\n",
       "    .dataframe tbody tr th:only-of-type {\n",
       "        vertical-align: middle;\n",
       "    }\n",
       "\n",
       "    .dataframe tbody tr th {\n",
       "        vertical-align: top;\n",
       "    }\n",
       "\n",
       "    .dataframe thead th {\n",
       "        text-align: right;\n",
       "    }\n",
       "</style>\n",
       "<table border=\"1\" class=\"dataframe\">\n",
       "  <thead>\n",
       "    <tr style=\"text-align: right;\">\n",
       "      <th></th>\n",
       "      <th>duration</th>\n",
       "      <th>user_id</th>\n",
       "    </tr>\n",
       "  </thead>\n",
       "  <tbody>\n",
       "    <tr>\n",
       "      <th>count</th>\n",
       "      <td>202607.000000</td>\n",
       "      <td>202607.000000</td>\n",
       "    </tr>\n",
       "    <tr>\n",
       "      <th>mean</th>\n",
       "      <td>6.755887</td>\n",
       "      <td>1253.940619</td>\n",
       "    </tr>\n",
       "    <tr>\n",
       "      <th>std</th>\n",
       "      <td>5.843365</td>\n",
       "      <td>144.722751</td>\n",
       "    </tr>\n",
       "    <tr>\n",
       "      <th>min</th>\n",
       "      <td>0.000000</td>\n",
       "      <td>1000.000000</td>\n",
       "    </tr>\n",
       "    <tr>\n",
       "      <th>25%</th>\n",
       "      <td>1.300000</td>\n",
       "      <td>1126.000000</td>\n",
       "    </tr>\n",
       "    <tr>\n",
       "      <th>50%</th>\n",
       "      <td>6.000000</td>\n",
       "      <td>1260.000000</td>\n",
       "    </tr>\n",
       "    <tr>\n",
       "      <th>75%</th>\n",
       "      <td>10.700000</td>\n",
       "      <td>1379.000000</td>\n",
       "    </tr>\n",
       "    <tr>\n",
       "      <th>max</th>\n",
       "      <td>38.000000</td>\n",
       "      <td>1499.000000</td>\n",
       "    </tr>\n",
       "  </tbody>\n",
       "</table>\n",
       "</div>"
      ],
      "text/plain": [
       "            duration        user_id\n",
       "count  202607.000000  202607.000000\n",
       "mean        6.755887    1253.940619\n",
       "std         5.843365     144.722751\n",
       "min         0.000000    1000.000000\n",
       "25%         1.300000    1126.000000\n",
       "50%         6.000000    1260.000000\n",
       "75%        10.700000    1379.000000\n",
       "max        38.000000    1499.000000"
      ]
     },
     "metadata": {},
     "output_type": "display_data"
    },
    {
     "data": {
      "text/html": [
       "<div>\n",
       "<style scoped>\n",
       "    .dataframe tbody tr th:only-of-type {\n",
       "        vertical-align: middle;\n",
       "    }\n",
       "\n",
       "    .dataframe tbody tr th {\n",
       "        vertical-align: top;\n",
       "    }\n",
       "\n",
       "    .dataframe thead th {\n",
       "        text-align: right;\n",
       "    }\n",
       "</style>\n",
       "<table border=\"1\" class=\"dataframe\">\n",
       "  <thead>\n",
       "    <tr style=\"text-align: right;\">\n",
       "      <th></th>\n",
       "      <th>id</th>\n",
       "      <th>call_date</th>\n",
       "      <th>duration</th>\n",
       "      <th>user_id</th>\n",
       "    </tr>\n",
       "  </thead>\n",
       "  <tbody>\n",
       "    <tr>\n",
       "      <th>0</th>\n",
       "      <td>1000_0</td>\n",
       "      <td>2018-07-25</td>\n",
       "      <td>0.00</td>\n",
       "      <td>1000</td>\n",
       "    </tr>\n",
       "    <tr>\n",
       "      <th>1</th>\n",
       "      <td>1000_1</td>\n",
       "      <td>2018-08-17</td>\n",
       "      <td>0.00</td>\n",
       "      <td>1000</td>\n",
       "    </tr>\n",
       "    <tr>\n",
       "      <th>2</th>\n",
       "      <td>1000_2</td>\n",
       "      <td>2018-06-11</td>\n",
       "      <td>2.85</td>\n",
       "      <td>1000</td>\n",
       "    </tr>\n",
       "    <tr>\n",
       "      <th>3</th>\n",
       "      <td>1000_3</td>\n",
       "      <td>2018-09-21</td>\n",
       "      <td>13.80</td>\n",
       "      <td>1000</td>\n",
       "    </tr>\n",
       "    <tr>\n",
       "      <th>4</th>\n",
       "      <td>1000_4</td>\n",
       "      <td>2018-12-15</td>\n",
       "      <td>5.18</td>\n",
       "      <td>1000</td>\n",
       "    </tr>\n",
       "  </tbody>\n",
       "</table>\n",
       "</div>"
      ],
      "text/plain": [
       "       id   call_date  duration  user_id\n",
       "0  1000_0  2018-07-25      0.00     1000\n",
       "1  1000_1  2018-08-17      0.00     1000\n",
       "2  1000_2  2018-06-11      2.85     1000\n",
       "3  1000_3  2018-09-21     13.80     1000\n",
       "4  1000_4  2018-12-15      5.18     1000"
      ]
     },
     "metadata": {},
     "output_type": "display_data"
    },
    {
     "name": "stdout",
     "output_type": "stream",
     "text": [
      "--------------------------------------------------------\n",
      "Посмотрим данные о Интернет-трафике\n",
      "\n",
      "<class 'pandas.core.frame.DataFrame'>\n",
      "RangeIndex: 149396 entries, 0 to 149395\n",
      "Data columns (total 5 columns):\n",
      " #   Column        Non-Null Count   Dtype  \n",
      "---  ------        --------------   -----  \n",
      " 0   Unnamed: 0    149396 non-null  int64  \n",
      " 1   id            149396 non-null  object \n",
      " 2   mb_used       149396 non-null  float64\n",
      " 3   session_date  149396 non-null  object \n",
      " 4   user_id       149396 non-null  int64  \n",
      "dtypes: float64(1), int64(2), object(2)\n",
      "memory usage: 5.7+ MB\n",
      "None\n"
     ]
    },
    {
     "data": {
      "text/html": [
       "<div>\n",
       "<style scoped>\n",
       "    .dataframe tbody tr th:only-of-type {\n",
       "        vertical-align: middle;\n",
       "    }\n",
       "\n",
       "    .dataframe tbody tr th {\n",
       "        vertical-align: top;\n",
       "    }\n",
       "\n",
       "    .dataframe thead th {\n",
       "        text-align: right;\n",
       "    }\n",
       "</style>\n",
       "<table border=\"1\" class=\"dataframe\">\n",
       "  <thead>\n",
       "    <tr style=\"text-align: right;\">\n",
       "      <th></th>\n",
       "      <th>Unnamed: 0</th>\n",
       "      <th>mb_used</th>\n",
       "      <th>user_id</th>\n",
       "    </tr>\n",
       "  </thead>\n",
       "  <tbody>\n",
       "    <tr>\n",
       "      <th>count</th>\n",
       "      <td>149396.000000</td>\n",
       "      <td>149396.000000</td>\n",
       "      <td>149396.000000</td>\n",
       "    </tr>\n",
       "    <tr>\n",
       "      <th>mean</th>\n",
       "      <td>74697.500000</td>\n",
       "      <td>370.192426</td>\n",
       "      <td>1252.099842</td>\n",
       "    </tr>\n",
       "    <tr>\n",
       "      <th>std</th>\n",
       "      <td>43127.054745</td>\n",
       "      <td>278.300951</td>\n",
       "      <td>144.050823</td>\n",
       "    </tr>\n",
       "    <tr>\n",
       "      <th>min</th>\n",
       "      <td>0.000000</td>\n",
       "      <td>0.000000</td>\n",
       "      <td>1000.000000</td>\n",
       "    </tr>\n",
       "    <tr>\n",
       "      <th>25%</th>\n",
       "      <td>37348.750000</td>\n",
       "      <td>138.187500</td>\n",
       "      <td>1130.000000</td>\n",
       "    </tr>\n",
       "    <tr>\n",
       "      <th>50%</th>\n",
       "      <td>74697.500000</td>\n",
       "      <td>348.015000</td>\n",
       "      <td>1251.000000</td>\n",
       "    </tr>\n",
       "    <tr>\n",
       "      <th>75%</th>\n",
       "      <td>112046.250000</td>\n",
       "      <td>559.552500</td>\n",
       "      <td>1380.000000</td>\n",
       "    </tr>\n",
       "    <tr>\n",
       "      <th>max</th>\n",
       "      <td>149395.000000</td>\n",
       "      <td>1724.830000</td>\n",
       "      <td>1499.000000</td>\n",
       "    </tr>\n",
       "  </tbody>\n",
       "</table>\n",
       "</div>"
      ],
      "text/plain": [
       "          Unnamed: 0        mb_used        user_id\n",
       "count  149396.000000  149396.000000  149396.000000\n",
       "mean    74697.500000     370.192426    1252.099842\n",
       "std     43127.054745     278.300951     144.050823\n",
       "min         0.000000       0.000000    1000.000000\n",
       "25%     37348.750000     138.187500    1130.000000\n",
       "50%     74697.500000     348.015000    1251.000000\n",
       "75%    112046.250000     559.552500    1380.000000\n",
       "max    149395.000000    1724.830000    1499.000000"
      ]
     },
     "metadata": {},
     "output_type": "display_data"
    },
    {
     "data": {
      "text/html": [
       "<div>\n",
       "<style scoped>\n",
       "    .dataframe tbody tr th:only-of-type {\n",
       "        vertical-align: middle;\n",
       "    }\n",
       "\n",
       "    .dataframe tbody tr th {\n",
       "        vertical-align: top;\n",
       "    }\n",
       "\n",
       "    .dataframe thead th {\n",
       "        text-align: right;\n",
       "    }\n",
       "</style>\n",
       "<table border=\"1\" class=\"dataframe\">\n",
       "  <thead>\n",
       "    <tr style=\"text-align: right;\">\n",
       "      <th></th>\n",
       "      <th>Unnamed: 0</th>\n",
       "      <th>id</th>\n",
       "      <th>mb_used</th>\n",
       "      <th>session_date</th>\n",
       "      <th>user_id</th>\n",
       "    </tr>\n",
       "  </thead>\n",
       "  <tbody>\n",
       "    <tr>\n",
       "      <th>0</th>\n",
       "      <td>0</td>\n",
       "      <td>1000_0</td>\n",
       "      <td>112.95</td>\n",
       "      <td>2018-11-25</td>\n",
       "      <td>1000</td>\n",
       "    </tr>\n",
       "    <tr>\n",
       "      <th>1</th>\n",
       "      <td>1</td>\n",
       "      <td>1000_1</td>\n",
       "      <td>1052.81</td>\n",
       "      <td>2018-09-07</td>\n",
       "      <td>1000</td>\n",
       "    </tr>\n",
       "    <tr>\n",
       "      <th>2</th>\n",
       "      <td>2</td>\n",
       "      <td>1000_2</td>\n",
       "      <td>1197.26</td>\n",
       "      <td>2018-06-25</td>\n",
       "      <td>1000</td>\n",
       "    </tr>\n",
       "    <tr>\n",
       "      <th>3</th>\n",
       "      <td>3</td>\n",
       "      <td>1000_3</td>\n",
       "      <td>550.27</td>\n",
       "      <td>2018-08-22</td>\n",
       "      <td>1000</td>\n",
       "    </tr>\n",
       "    <tr>\n",
       "      <th>4</th>\n",
       "      <td>4</td>\n",
       "      <td>1000_4</td>\n",
       "      <td>302.56</td>\n",
       "      <td>2018-09-24</td>\n",
       "      <td>1000</td>\n",
       "    </tr>\n",
       "  </tbody>\n",
       "</table>\n",
       "</div>"
      ],
      "text/plain": [
       "   Unnamed: 0      id  mb_used session_date  user_id\n",
       "0           0  1000_0   112.95   2018-11-25     1000\n",
       "1           1  1000_1  1052.81   2018-09-07     1000\n",
       "2           2  1000_2  1197.26   2018-06-25     1000\n",
       "3           3  1000_3   550.27   2018-08-22     1000\n",
       "4           4  1000_4   302.56   2018-09-24     1000"
      ]
     },
     "metadata": {},
     "output_type": "display_data"
    },
    {
     "name": "stdout",
     "output_type": "stream",
     "text": [
      "--------------------------------------------------------\n",
      "Посмотрим данные о смс-сообщениях\n",
      "\n",
      "<class 'pandas.core.frame.DataFrame'>\n",
      "RangeIndex: 123036 entries, 0 to 123035\n",
      "Data columns (total 3 columns):\n",
      " #   Column        Non-Null Count   Dtype \n",
      "---  ------        --------------   ----- \n",
      " 0   id            123036 non-null  object\n",
      " 1   message_date  123036 non-null  object\n",
      " 2   user_id       123036 non-null  int64 \n",
      "dtypes: int64(1), object(2)\n",
      "memory usage: 2.8+ MB\n",
      "None\n"
     ]
    },
    {
     "data": {
      "text/html": [
       "<div>\n",
       "<style scoped>\n",
       "    .dataframe tbody tr th:only-of-type {\n",
       "        vertical-align: middle;\n",
       "    }\n",
       "\n",
       "    .dataframe tbody tr th {\n",
       "        vertical-align: top;\n",
       "    }\n",
       "\n",
       "    .dataframe thead th {\n",
       "        text-align: right;\n",
       "    }\n",
       "</style>\n",
       "<table border=\"1\" class=\"dataframe\">\n",
       "  <thead>\n",
       "    <tr style=\"text-align: right;\">\n",
       "      <th></th>\n",
       "      <th>user_id</th>\n",
       "    </tr>\n",
       "  </thead>\n",
       "  <tbody>\n",
       "    <tr>\n",
       "      <th>count</th>\n",
       "      <td>123036.000000</td>\n",
       "    </tr>\n",
       "    <tr>\n",
       "      <th>mean</th>\n",
       "      <td>1256.989410</td>\n",
       "    </tr>\n",
       "    <tr>\n",
       "      <th>std</th>\n",
       "      <td>143.523967</td>\n",
       "    </tr>\n",
       "    <tr>\n",
       "      <th>min</th>\n",
       "      <td>1000.000000</td>\n",
       "    </tr>\n",
       "    <tr>\n",
       "      <th>25%</th>\n",
       "      <td>1134.000000</td>\n",
       "    </tr>\n",
       "    <tr>\n",
       "      <th>50%</th>\n",
       "      <td>1271.000000</td>\n",
       "    </tr>\n",
       "    <tr>\n",
       "      <th>75%</th>\n",
       "      <td>1381.000000</td>\n",
       "    </tr>\n",
       "    <tr>\n",
       "      <th>max</th>\n",
       "      <td>1499.000000</td>\n",
       "    </tr>\n",
       "  </tbody>\n",
       "</table>\n",
       "</div>"
      ],
      "text/plain": [
       "             user_id\n",
       "count  123036.000000\n",
       "mean     1256.989410\n",
       "std       143.523967\n",
       "min      1000.000000\n",
       "25%      1134.000000\n",
       "50%      1271.000000\n",
       "75%      1381.000000\n",
       "max      1499.000000"
      ]
     },
     "metadata": {},
     "output_type": "display_data"
    },
    {
     "data": {
      "text/html": [
       "<div>\n",
       "<style scoped>\n",
       "    .dataframe tbody tr th:only-of-type {\n",
       "        vertical-align: middle;\n",
       "    }\n",
       "\n",
       "    .dataframe tbody tr th {\n",
       "        vertical-align: top;\n",
       "    }\n",
       "\n",
       "    .dataframe thead th {\n",
       "        text-align: right;\n",
       "    }\n",
       "</style>\n",
       "<table border=\"1\" class=\"dataframe\">\n",
       "  <thead>\n",
       "    <tr style=\"text-align: right;\">\n",
       "      <th></th>\n",
       "      <th>id</th>\n",
       "      <th>message_date</th>\n",
       "      <th>user_id</th>\n",
       "    </tr>\n",
       "  </thead>\n",
       "  <tbody>\n",
       "    <tr>\n",
       "      <th>0</th>\n",
       "      <td>1000_0</td>\n",
       "      <td>2018-06-27</td>\n",
       "      <td>1000</td>\n",
       "    </tr>\n",
       "    <tr>\n",
       "      <th>1</th>\n",
       "      <td>1000_1</td>\n",
       "      <td>2018-10-08</td>\n",
       "      <td>1000</td>\n",
       "    </tr>\n",
       "    <tr>\n",
       "      <th>2</th>\n",
       "      <td>1000_2</td>\n",
       "      <td>2018-08-04</td>\n",
       "      <td>1000</td>\n",
       "    </tr>\n",
       "    <tr>\n",
       "      <th>3</th>\n",
       "      <td>1000_3</td>\n",
       "      <td>2018-06-16</td>\n",
       "      <td>1000</td>\n",
       "    </tr>\n",
       "    <tr>\n",
       "      <th>4</th>\n",
       "      <td>1000_4</td>\n",
       "      <td>2018-12-05</td>\n",
       "      <td>1000</td>\n",
       "    </tr>\n",
       "  </tbody>\n",
       "</table>\n",
       "</div>"
      ],
      "text/plain": [
       "       id message_date  user_id\n",
       "0  1000_0   2018-06-27     1000\n",
       "1  1000_1   2018-10-08     1000\n",
       "2  1000_2   2018-08-04     1000\n",
       "3  1000_3   2018-06-16     1000\n",
       "4  1000_4   2018-12-05     1000"
      ]
     },
     "metadata": {},
     "output_type": "display_data"
    }
   ],
   "source": [
    "data_list = [users, calls, internet, messages]\n",
    "for data in data_list:\n",
    "    look(data)"
   ]
  },
  {
   "cell_type": "markdown",
   "metadata": {},
   "source": [
    "Абоненты:\n",
    "- в таблице дана информация о 500 абонентах, 38 из которых уже завершили пользование тарифом ( churn_date - информация с датой завершения договоря на один из анализируемых тарифов.)\n",
    "- даты в типе object, нужно привести к нужному формату \n",
    "- минимальный возраст лица, заключившего договор 18 лет (здесь все в порядке), в название столбца добавим единицу измерения возраста - годы/years\n",
    "\n",
    "- в колонке с данными о городе нужно будет посмотреть неявные дубликаты.\n",
    "\n",
    "Звонки:\n",
    "- данные о 202607 звонках, пропусков нет\n",
    "- вновь формат даты object, нужно привести к нужному формату \n",
    "- id звонка в типе object, нужно привести к нужному формату \n",
    "- длительность формат float64, можно привести в формат int, округлив в большую сторону (мы считаем доходность, оператор при выставлении счетов время округляет, поэтому точное время звонка до секунды  в данном анализе не нужно).\n",
    "- длительность звонка минимальная 0 минут, это не ошибка, так как нулями обозначены пропущенные звонки(так указано в пояснительной записке к проекту)\n",
    "- в названии столбца duration не указана единица изменения, добавим ее\n",
    "\n",
    "Интернет:\n",
    "- данные о 149396 интернет-сессиях, пропусков нет\n",
    "- столбец 'Unnamed: 0' - в нем нет пропусков, судя по данным describe он дублирует индексы. Оставим его как есть.\n",
    "- вновь формат даты object, тот же формат у id интернет-сессии. Нужно привести к нужным форматам.\n",
    "- минимальное значение длительности интернет-сессии 0 мб, вероятно означающее, что интернет абонент не использовал.\n",
    "\n",
    "СМС-сообщения:\n",
    "- данные 123036 сообщениях, пропусков нет\n",
    "- дата вновь в формате object, нужно привести к нужному формату \n",
    "- id смс-сообщения в типе object, нужно привести к нужному формату\n"
   ]
  },
  {
   "cell_type": "markdown",
   "metadata": {},
   "source": [
    "### Обработка данных"
   ]
  },
  {
   "cell_type": "markdown",
   "metadata": {},
   "source": [
    "#### Дубликаты"
   ]
  },
  {
   "cell_type": "markdown",
   "metadata": {},
   "source": [
    "Поищем явные дубликаты в каждой из таблиц (кроме таблицы с описанием тарифа)."
   ]
  },
  {
   "cell_type": "code",
   "execution_count": 303,
   "metadata": {},
   "outputs": [
    {
     "name": "stdout",
     "output_type": "stream",
     "text": [
      "0\n",
      "0\n",
      "0\n",
      "0\n"
     ]
    }
   ],
   "source": [
    "for data in data_list:\n",
    "    print(data.duplicated().sum())"
   ]
  },
  {
   "cell_type": "markdown",
   "metadata": {},
   "source": [
    "*Явных дубликатов нет.*"
   ]
  },
  {
   "cell_type": "markdown",
   "metadata": {},
   "source": [
    "#### Обработка таблиц и добавление столбцов"
   ]
  },
  {
   "cell_type": "code",
   "execution_count": 304,
   "metadata": {},
   "outputs": [],
   "source": [
    "#для приведения к формату datetime\n",
    "def date_type(date):\n",
    "    date = pd.to_datetime(date, format='%Y-%m-%d')\n",
    "    return date"
   ]
  },
  {
   "cell_type": "markdown",
   "metadata": {},
   "source": [
    "**Тарифы/tariffs**"
   ]
  },
  {
   "cell_type": "markdown",
   "metadata": {},
   "source": [
    "Обработаем название столбцов."
   ]
  },
  {
   "cell_type": "code",
   "execution_count": 305,
   "metadata": {
    "scrolled": true
   },
   "outputs": [
    {
     "data": {
      "text/plain": [
       "Index(['messages_included', 'mb_per_month_included', 'minutes_included',\n",
       "       'rub_monthly_fee', 'rub_per_gb', 'rub_per_message', 'rub_per_minute',\n",
       "       'tariff_name'],\n",
       "      dtype='object')"
      ]
     },
     "execution_count": 305,
     "metadata": {},
     "output_type": "execute_result"
    }
   ],
   "source": [
    "tariffs.columns"
   ]
  },
  {
   "cell_type": "code",
   "execution_count": 306,
   "metadata": {},
   "outputs": [
    {
     "data": {
      "text/html": [
       "<div>\n",
       "<style scoped>\n",
       "    .dataframe tbody tr th:only-of-type {\n",
       "        vertical-align: middle;\n",
       "    }\n",
       "\n",
       "    .dataframe tbody tr th {\n",
       "        vertical-align: top;\n",
       "    }\n",
       "\n",
       "    .dataframe thead th {\n",
       "        text-align: right;\n",
       "    }\n",
       "</style>\n",
       "<table border=\"1\" class=\"dataframe\">\n",
       "  <thead>\n",
       "    <tr style=\"text-align: right;\">\n",
       "      <th></th>\n",
       "      <th>messages_included</th>\n",
       "      <th>mb_included</th>\n",
       "      <th>minutes_included</th>\n",
       "      <th>rub_monthly_fee</th>\n",
       "      <th>rub_per_gb</th>\n",
       "      <th>rub_per_message</th>\n",
       "      <th>rub_per_minute</th>\n",
       "      <th>tariff</th>\n",
       "    </tr>\n",
       "  </thead>\n",
       "  <tbody>\n",
       "    <tr>\n",
       "      <th>0</th>\n",
       "      <td>50</td>\n",
       "      <td>15360</td>\n",
       "      <td>500</td>\n",
       "      <td>550</td>\n",
       "      <td>200</td>\n",
       "      <td>3</td>\n",
       "      <td>3</td>\n",
       "      <td>smart</td>\n",
       "    </tr>\n",
       "    <tr>\n",
       "      <th>1</th>\n",
       "      <td>1000</td>\n",
       "      <td>30720</td>\n",
       "      <td>3000</td>\n",
       "      <td>1950</td>\n",
       "      <td>150</td>\n",
       "      <td>1</td>\n",
       "      <td>1</td>\n",
       "      <td>ultra</td>\n",
       "    </tr>\n",
       "  </tbody>\n",
       "</table>\n",
       "</div>"
      ],
      "text/plain": [
       "   messages_included  mb_included  minutes_included  rub_monthly_fee  \\\n",
       "0                 50        15360               500              550   \n",
       "1               1000        30720              3000             1950   \n",
       "\n",
       "   rub_per_gb  rub_per_message  rub_per_minute tariff  \n",
       "0         200                3               3  smart  \n",
       "1         150                1               1  ultra  "
      ]
     },
     "execution_count": 306,
     "metadata": {},
     "output_type": "execute_result"
    }
   ],
   "source": [
    "tariffs = tariffs.rename(columns={'mb_per_month_included':'mb_included', 'tariff_name':'tariff'})\n",
    "tariffs"
   ]
  },
  {
   "cell_type": "markdown",
   "metadata": {},
   "source": [
    "**Абоненты / users**\n",
    "\n",
    "- для дальнейшей работы с датами переведем информацию 'churn_date', 'reg_date' из типа object  к типу datetime64\n",
    "- в название столбца 'age' добавим единицу измерения возраста - годы/years\n",
    "- поищем неявные дубликаты в столбце city"
   ]
  },
  {
   "cell_type": "code",
   "execution_count": 307,
   "metadata": {},
   "outputs": [],
   "source": [
    "# работаем с датами\n",
    "users['reg_date'] = users['reg_date'].apply(date_type)\n",
    "users['churn_date'] = users['churn_date'].apply(date_type)"
   ]
  },
  {
   "cell_type": "code",
   "execution_count": 308,
   "metadata": {},
   "outputs": [
    {
     "data": {
      "text/plain": [
       "Index(['user_id', 'age_years', 'churn_date', 'city', 'first_name', 'last_name',\n",
       "       'reg_date', 'tariff'],\n",
       "      dtype='object')"
      ]
     },
     "execution_count": 308,
     "metadata": {},
     "output_type": "execute_result"
    }
   ],
   "source": [
    "# переименовываем столбец\n",
    "users = users.rename(columns={'age':'age_years'})\n",
    "users.columns"
   ]
  },
  {
   "cell_type": "code",
   "execution_count": 309,
   "metadata": {},
   "outputs": [
    {
     "data": {
      "text/plain": [
       "76"
      ]
     },
     "execution_count": 309,
     "metadata": {},
     "output_type": "execute_result"
    }
   ],
   "source": [
    "# считаем количество значений в столбце city\n",
    "len(users['city'].unique())"
   ]
  },
  {
   "cell_type": "code",
   "execution_count": 310,
   "metadata": {},
   "outputs": [
    {
     "data": {
      "text/plain": [
       "(array(['краснодар', 'москва', 'стерлитамак', 'новокузнецк',\n",
       "        'набережные челны', 'ульяновск', 'челябинск', 'пермь', 'тюмень',\n",
       "        'самара', 'санкт-петербург', 'иваново', 'чебоксары', 'омск', 'уфа',\n",
       "        'томск', 'чита', 'мурманск', 'петрозаводск', 'тверь',\n",
       "        'екатеринбург', 'махачкала', 'вологда', 'череповец', 'ярославль',\n",
       "        'сочи', 'хабаровск', 'ставрополь', 'рязань', 'улан-удэ', 'тула',\n",
       "        'саратов', 'ростов-на-дону', 'казань', 'иркутск', 'курск',\n",
       "        'калуга', 'якутск', 'астрахань', 'химки', 'владикавказ',\n",
       "        'волгоград', 'саранск', 'ижевск', 'новосибирск', 'брянск',\n",
       "        'тольятти', 'нижний тагил', 'орёл', 'белгород', 'воронеж',\n",
       "        'волжский', 'курган', 'барнаул', 'красноярск', 'архангельск',\n",
       "        'липецк', 'кемерово', 'киров', 'сургут', 'пенза', 'магнитогорск',\n",
       "        'нижний новгород', 'кострома', 'владивосток', 'тамбов', 'балашиха',\n",
       "        'севастополь', 'калининград', 'оренбург', 'смоленск',\n",
       "        'нижневартовск', 'владимир', 'новороссийск', 'грозный', 'подольск'],\n",
       "       dtype=object),\n",
       " 76)"
      ]
     },
     "execution_count": 310,
     "metadata": {},
     "output_type": "execute_result"
    }
   ],
   "source": [
    "# приводим все названия городов к нижнему регистру и смотрим итог\n",
    "users['city'] = users['city'].str.lower()\n",
    "users['city'].unique(), len(users['city'].unique())"
   ]
  },
  {
   "cell_type": "code",
   "execution_count": 311,
   "metadata": {
    "scrolled": false
   },
   "outputs": [
    {
     "name": "stdout",
     "output_type": "stream",
     "text": [
      "<class 'pandas.core.frame.DataFrame'>\n",
      "RangeIndex: 500 entries, 0 to 499\n",
      "Data columns (total 8 columns):\n",
      " #   Column      Non-Null Count  Dtype         \n",
      "---  ------      --------------  -----         \n",
      " 0   user_id     500 non-null    int64         \n",
      " 1   age_years   500 non-null    int64         \n",
      " 2   churn_date  38 non-null     datetime64[ns]\n",
      " 3   city        500 non-null    object        \n",
      " 4   first_name  500 non-null    object        \n",
      " 5   last_name   500 non-null    object        \n",
      " 6   reg_date    500 non-null    datetime64[ns]\n",
      " 7   tariff      500 non-null    object        \n",
      "dtypes: datetime64[ns](2), int64(2), object(4)\n",
      "memory usage: 31.4+ KB\n"
     ]
    }
   ],
   "source": [
    "users.info()"
   ]
  },
  {
   "cell_type": "markdown",
   "metadata": {},
   "source": [
    "*Неявных дублей нет. Все изменения внесены. В данном анализе нам не потребуется столбец churn_date, пропуски в нем оставим не заполняя.*"
   ]
  },
  {
   "cell_type": "markdown",
   "metadata": {},
   "source": [
    "**Звонки / calls**\n",
    "\n",
    "- для дальнейшей работы с датами переведем информацию 'call_date' из типа object  к типу datetime64, отдельно выделим в столбец месяцы\n",
    "- приведем данные в столбце id к формату 'int'\n",
    "- к названию столбца 'id' добаыим пояснение 'calls'\n",
    "- для дальнейших рассчетов каждый звонок округлим в большую сторону\n",
    "- проанализируем нулевые значения и примем по ним решение"
   ]
  },
  {
   "cell_type": "code",
   "execution_count": 312,
   "metadata": {},
   "outputs": [
    {
     "data": {
      "text/html": [
       "<div>\n",
       "<style scoped>\n",
       "    .dataframe tbody tr th:only-of-type {\n",
       "        vertical-align: middle;\n",
       "    }\n",
       "\n",
       "    .dataframe tbody tr th {\n",
       "        vertical-align: top;\n",
       "    }\n",
       "\n",
       "    .dataframe thead th {\n",
       "        text-align: right;\n",
       "    }\n",
       "</style>\n",
       "<table border=\"1\" class=\"dataframe\">\n",
       "  <thead>\n",
       "    <tr style=\"text-align: right;\">\n",
       "      <th></th>\n",
       "      <th>call_date</th>\n",
       "      <th>month</th>\n",
       "    </tr>\n",
       "  </thead>\n",
       "  <tbody>\n",
       "    <tr>\n",
       "      <th>0</th>\n",
       "      <td>2018-07-25</td>\n",
       "      <td>2018-07-01</td>\n",
       "    </tr>\n",
       "    <tr>\n",
       "      <th>1</th>\n",
       "      <td>2018-08-17</td>\n",
       "      <td>2018-08-01</td>\n",
       "    </tr>\n",
       "    <tr>\n",
       "      <th>2</th>\n",
       "      <td>2018-06-11</td>\n",
       "      <td>2018-06-01</td>\n",
       "    </tr>\n",
       "    <tr>\n",
       "      <th>3</th>\n",
       "      <td>2018-09-21</td>\n",
       "      <td>2018-09-01</td>\n",
       "    </tr>\n",
       "    <tr>\n",
       "      <th>4</th>\n",
       "      <td>2018-12-15</td>\n",
       "      <td>2018-12-01</td>\n",
       "    </tr>\n",
       "  </tbody>\n",
       "</table>\n",
       "</div>"
      ],
      "text/plain": [
       "   call_date      month\n",
       "0 2018-07-25 2018-07-01\n",
       "1 2018-08-17 2018-08-01\n",
       "2 2018-06-11 2018-06-01\n",
       "3 2018-09-21 2018-09-01\n",
       "4 2018-12-15 2018-12-01"
      ]
     },
     "execution_count": 312,
     "metadata": {},
     "output_type": "execute_result"
    }
   ],
   "source": [
    "# работаем с датой\n",
    "calls['call_date'] = calls['call_date'].apply(date_type)\n",
    "calls['month'] = calls['call_date'].astype('datetime64[M]')\n",
    "calls[['call_date', 'month']].head()"
   ]
  },
  {
   "cell_type": "code",
   "execution_count": 313,
   "metadata": {},
   "outputs": [],
   "source": [
    "#переименовываем столбцы\n",
    "calls = calls.rename(columns={'duration':'duration_minutes', 'id':'id_calls'})"
   ]
  },
  {
   "cell_type": "markdown",
   "metadata": {},
   "source": [
    "Посмотрим популярные варианты длительности звонка."
   ]
  },
  {
   "cell_type": "code",
   "execution_count": 314,
   "metadata": {},
   "outputs": [
    {
     "data": {
      "text/plain": [
       "0.00    39613\n",
       "5.50      142\n",
       "4.49      142\n",
       "6.15      141\n",
       "6.38      141\n",
       "4.92      139\n",
       "8.41      138\n",
       "5.45      138\n",
       "5.05      138\n",
       "5.25      137\n",
       "Name: duration_minutes, dtype: int64"
      ]
     },
     "execution_count": 314,
     "metadata": {},
     "output_type": "execute_result"
    }
   ],
   "source": [
    "# на продолжительность звонка\n",
    "calls['duration_minutes'].value_counts().head(10)"
   ]
  },
  {
   "cell_type": "markdown",
   "metadata": {},
   "source": [
    "Самый популярный вариант - 0, остальные показывают варианты длительности от 3 до 11 минут.\n",
    "\n",
    "Из пояснительной записки к проекту мы знаем, что звонки с длительностью 0 - это пропущенные звонки. Но как их обрабатывает оператор \"Мегалайн\" не уточнено, есть лишь пояснение, что 0 (пропущенный звонок - не ошибка, удалять его не нужно).\n",
    "\n",
    "Посмотрим долю нулевых звонков"
   ]
  },
  {
   "cell_type": "code",
   "execution_count": 315,
   "metadata": {},
   "outputs": [
    {
     "data": {
      "text/plain": [
       "0.19551644316336553"
      ]
     },
     "execution_count": 315,
     "metadata": {},
     "output_type": "execute_result"
    }
   ],
   "source": [
    "#посчитаем долю пропущенных звонков\n",
    "39613/len(calls)"
   ]
  },
  {
   "cell_type": "markdown",
   "metadata": {},
   "source": [
    "Достаточно много, 19%. Посмотрим как они распределены по тарифам. Для этого объединим данные о звонках и абонентах, а далее сделаем срез данных."
   ]
  },
  {
   "cell_type": "code",
   "execution_count": 316,
   "metadata": {},
   "outputs": [
    {
     "data": {
      "text/plain": [
       "0.19697353376765886"
      ]
     },
     "execution_count": 316,
     "metadata": {},
     "output_type": "execute_result"
    }
   ],
   "source": [
    "test = calls.merge(users, on='user_id', how='outer')\n",
    "len(test.query('tariff == \"smart\" and duration_minutes==0')) / len(test.query('tariff == \"smart\"'))"
   ]
  },
  {
   "cell_type": "code",
   "execution_count": 317,
   "metadata": {},
   "outputs": [
    {
     "data": {
      "text/plain": [
       "0.1928684057650281"
      ]
     },
     "execution_count": 317,
     "metadata": {},
     "output_type": "execute_result"
    }
   ],
   "source": [
    "len(test.query('tariff == \"ultra\" and duration_minutes==0')) / len(test.query('tariff == \"ultra\"'))"
   ]
  },
  {
   "cell_type": "markdown",
   "metadata": {},
   "source": [
    "Удивительно, но пропущенные звонки распределены по нашим выборкам равномерно. И в Смарт и в Ультра таких звонков 19%\n",
    "\n",
    "Далее посмотрим минимальное значение длительности звонка (кроме 0)."
   ]
  },
  {
   "cell_type": "code",
   "execution_count": 318,
   "metadata": {},
   "outputs": [
    {
     "data": {
      "text/plain": [
       "0.01"
      ]
     },
     "execution_count": 318,
     "metadata": {},
     "output_type": "execute_result"
    }
   ],
   "source": [
    "calls[calls['duration_minutes'] > 0]['duration_minutes'].min()"
   ]
  },
  {
   "cell_type": "markdown",
   "metadata": {},
   "source": [
    "Минимум - одна сотая минуты, если бы у оператора в настройках где-то стояло округление в минимальную сторону (np.floor()) здесь мы бы тоже получили 0.\n",
    "\n",
    "На основании соразмерного распределения нулевых звонков в группах абонентов по тарифам (по 19% от общего количества информации о длительности звонков в каждом тарифе), а также достаточной точности измерений (сотые минуты) - примем решение оставить пропущенные звонки с прежним значением 0, не меняя его."
   ]
  },
  {
   "cell_type": "code",
   "execution_count": 319,
   "metadata": {},
   "outputs": [],
   "source": [
    "#округляем каждый звонок в большую сторону\n",
    "calls['duration_minutes'] = calls['duration_minutes'].apply(np.ceil)"
   ]
  },
  {
   "cell_type": "code",
   "execution_count": 320,
   "metadata": {
    "scrolled": false
   },
   "outputs": [
    {
     "name": "stdout",
     "output_type": "stream",
     "text": [
      "<class 'pandas.core.frame.DataFrame'>\n",
      "RangeIndex: 202607 entries, 0 to 202606\n",
      "Data columns (total 5 columns):\n",
      " #   Column            Non-Null Count   Dtype         \n",
      "---  ------            --------------   -----         \n",
      " 0   id_calls          202607 non-null  object        \n",
      " 1   call_date         202607 non-null  datetime64[ns]\n",
      " 2   duration_minutes  202607 non-null  float64       \n",
      " 3   user_id           202607 non-null  int64         \n",
      " 4   month             202607 non-null  datetime64[ns]\n",
      "dtypes: datetime64[ns](2), float64(1), int64(1), object(1)\n",
      "memory usage: 7.7+ MB\n"
     ]
    },
    {
     "data": {
      "text/plain": [
       "(None,\n",
       "   id_calls  call_date  duration_minutes  user_id      month\n",
       " 0   1000_0 2018-07-25               0.0     1000 2018-07-01\n",
       " 1   1000_1 2018-08-17               0.0     1000 2018-08-01\n",
       " 2   1000_2 2018-06-11               3.0     1000 2018-06-01\n",
       " 3   1000_3 2018-09-21              14.0     1000 2018-09-01\n",
       " 4   1000_4 2018-12-15               6.0     1000 2018-12-01)"
      ]
     },
     "execution_count": 320,
     "metadata": {},
     "output_type": "execute_result"
    }
   ],
   "source": [
    "#проверяем проведенные изменения\n",
    "calls.info(), calls.head()"
   ]
  },
  {
   "cell_type": "markdown",
   "metadata": {},
   "source": [
    "*Видим все внесенные изменения*"
   ]
  },
  {
   "cell_type": "markdown",
   "metadata": {},
   "source": [
    "**Интернет**\n",
    "- приведем данные в столбце id к формату 'int', к названию столбца 'id' добавим пояснение 'session'\n",
    "- формат даты object переводим в нужный тип datetime64 и добавляем столбец с месяцем "
   ]
  },
  {
   "cell_type": "code",
   "execution_count": 321,
   "metadata": {},
   "outputs": [],
   "source": [
    "#переименовываем, приводим к 'int'\n",
    "internet = internet.rename(columns={'id':'id_session'})\n",
    "internet['id_session'] = internet['id_session'].astype('int')"
   ]
  },
  {
   "cell_type": "code",
   "execution_count": 322,
   "metadata": {},
   "outputs": [],
   "source": [
    "#работаем с датой\n",
    "internet['session_date'] = internet['session_date'].apply(date_type)\n",
    "internet['month'] = internet['session_date'].astype('datetime64[M]')"
   ]
  },
  {
   "cell_type": "code",
   "execution_count": 323,
   "metadata": {},
   "outputs": [
    {
     "name": "stdout",
     "output_type": "stream",
     "text": [
      "<class 'pandas.core.frame.DataFrame'>\n",
      "RangeIndex: 149396 entries, 0 to 149395\n",
      "Data columns (total 6 columns):\n",
      " #   Column        Non-Null Count   Dtype         \n",
      "---  ------        --------------   -----         \n",
      " 0   Unnamed: 0    149396 non-null  int64         \n",
      " 1   id_session    149396 non-null  int64         \n",
      " 2   mb_used       149396 non-null  float64       \n",
      " 3   session_date  149396 non-null  datetime64[ns]\n",
      " 4   user_id       149396 non-null  int64         \n",
      " 5   month         149396 non-null  datetime64[ns]\n",
      "dtypes: datetime64[ns](2), float64(1), int64(3)\n",
      "memory usage: 6.8 MB\n"
     ]
    }
   ],
   "source": [
    "internet.info()"
   ]
  },
  {
   "cell_type": "markdown",
   "metadata": {},
   "source": [
    "*Есть все новые названия и нужные типы данных.*"
   ]
  },
  {
   "cell_type": "markdown",
   "metadata": {},
   "source": [
    "**СМС-сообщения**\n",
    "- приведем данные в столбце id к формату 'int' и переименуем в 'id_messages'\n",
    "- формат даты object переводим в нужный тип datetime64, добавляем месяц в отдельный столбец"
   ]
  },
  {
   "cell_type": "code",
   "execution_count": 324,
   "metadata": {},
   "outputs": [],
   "source": [
    "#переименовываем и приводим в тип 'int'\n",
    "messages = messages.rename(columns={'id':'id_messages'})\n",
    "messages['id_messages'] = messages['id_messages'].astype('int')"
   ]
  },
  {
   "cell_type": "code",
   "execution_count": 325,
   "metadata": {},
   "outputs": [],
   "source": [
    "#работаем с датой\n",
    "messages['message_date'] = messages['message_date'].apply(date_type)\n",
    "messages['month'] = messages['message_date'].astype('datetime64[M]')\n",
    "#pd.DatetimeIndex(messages['message_date']).month"
   ]
  },
  {
   "cell_type": "code",
   "execution_count": 326,
   "metadata": {},
   "outputs": [
    {
     "name": "stdout",
     "output_type": "stream",
     "text": [
      "<class 'pandas.core.frame.DataFrame'>\n",
      "RangeIndex: 123036 entries, 0 to 123035\n",
      "Data columns (total 4 columns):\n",
      " #   Column        Non-Null Count   Dtype         \n",
      "---  ------        --------------   -----         \n",
      " 0   id_messages   123036 non-null  int64         \n",
      " 1   message_date  123036 non-null  datetime64[ns]\n",
      " 2   user_id       123036 non-null  int64         \n",
      " 3   month         123036 non-null  datetime64[ns]\n",
      "dtypes: datetime64[ns](2), int64(2)\n",
      "memory usage: 3.8 MB\n"
     ]
    }
   ],
   "source": [
    "#проверяем\n",
    "messages.info()"
   ]
  },
  {
   "cell_type": "markdown",
   "metadata": {},
   "source": [
    "*Есть все внесенные изменения*"
   ]
  },
  {
   "cell_type": "markdown",
   "metadata": {},
   "source": [
    "### Выводы"
   ]
  },
  {
   "cell_type": "markdown",
   "metadata": {},
   "source": [
    "**Были обработаны таблицы с данными об абонентах, звонках, интернет-сессиях и смс-сообщениях 500 клиентов оператора сотовой связи, данные за 2018 год.**\n",
    "- **Дубликатов в таблицах не было.**\n",
    "- **Пропущенные значения есть только в таблице users/абоненты, пропуски обозначают, что нет даты окончания договора на тариф. Из 500 абонентов только 38 завершили использование тарифов. Пропуски оставили как есть, в  дальнейшем анализе они мешать не будут.**\n",
    "- **Вся информация о датах во всех таблицах была приведена к типу datetime, в таблицы добавлены отдельные столбцы с номерами месяцев**\n",
    "- **К формату 'int' - приведены данные id из всех таблиц.**\n",
    "- **Удаления данных не было**\n",
    "- **Длительность звонков 0, оставили как 0 (основания - пояснительная записка к проекту, соразмерное распределение по тарифам, не будем увеличивать показатели дохода, не имея на то веских оснований)**"
   ]
  },
  {
   "cell_type": "markdown",
   "metadata": {},
   "source": [
    "## Расчеты и формирование единой таблицы"
   ]
  },
  {
   "cell_type": "markdown",
   "metadata": {},
   "source": [
    "Посчитаем для каждого пользователя (по user_id) по месяцам:\n",
    "- количество сделанных звонков и израсходованных минут разговора;\n",
    "- количество отправленных сообщений;\n",
    "- объем израсходованного интернет-трафика."
   ]
  },
  {
   "cell_type": "code",
   "execution_count": 327,
   "metadata": {},
   "outputs": [
    {
     "data": {
      "text/html": [
       "<div>\n",
       "<style scoped>\n",
       "    .dataframe tbody tr th:only-of-type {\n",
       "        vertical-align: middle;\n",
       "    }\n",
       "\n",
       "    .dataframe tbody tr th {\n",
       "        vertical-align: top;\n",
       "    }\n",
       "\n",
       "    .dataframe thead th {\n",
       "        text-align: right;\n",
       "    }\n",
       "</style>\n",
       "<table border=\"1\" class=\"dataframe\">\n",
       "  <thead>\n",
       "    <tr style=\"text-align: right;\">\n",
       "      <th></th>\n",
       "      <th>user_id</th>\n",
       "      <th>month</th>\n",
       "      <th>minutes_month</th>\n",
       "      <th>calls_count</th>\n",
       "    </tr>\n",
       "  </thead>\n",
       "  <tbody>\n",
       "    <tr>\n",
       "      <th>0</th>\n",
       "      <td>1000</td>\n",
       "      <td>2018-05-01</td>\n",
       "      <td>159.0</td>\n",
       "      <td>22</td>\n",
       "    </tr>\n",
       "    <tr>\n",
       "      <th>1</th>\n",
       "      <td>1000</td>\n",
       "      <td>2018-06-01</td>\n",
       "      <td>172.0</td>\n",
       "      <td>43</td>\n",
       "    </tr>\n",
       "    <tr>\n",
       "      <th>2</th>\n",
       "      <td>1000</td>\n",
       "      <td>2018-07-01</td>\n",
       "      <td>340.0</td>\n",
       "      <td>47</td>\n",
       "    </tr>\n",
       "    <tr>\n",
       "      <th>3</th>\n",
       "      <td>1000</td>\n",
       "      <td>2018-08-01</td>\n",
       "      <td>408.0</td>\n",
       "      <td>52</td>\n",
       "    </tr>\n",
       "    <tr>\n",
       "      <th>4</th>\n",
       "      <td>1000</td>\n",
       "      <td>2018-09-01</td>\n",
       "      <td>466.0</td>\n",
       "      <td>58</td>\n",
       "    </tr>\n",
       "  </tbody>\n",
       "</table>\n",
       "</div>"
      ],
      "text/plain": [
       "   user_id      month  minutes_month  calls_count\n",
       "0     1000 2018-05-01          159.0           22\n",
       "1     1000 2018-06-01          172.0           43\n",
       "2     1000 2018-07-01          340.0           47\n",
       "3     1000 2018-08-01          408.0           52\n",
       "4     1000 2018-09-01          466.0           58"
      ]
     },
     "execution_count": 327,
     "metadata": {},
     "output_type": "execute_result"
    }
   ],
   "source": [
    "#группировка для звонков\n",
    "calls_group = calls.groupby(['user_id', 'month']).agg({'duration_minutes':'sum', 'id_calls':'count'}).reset_index()\n",
    "calls_group = calls_group.rename(columns={'duration_minutes':'minutes_month', 'id_calls':'calls_count'})\n",
    "calls_group.head()"
   ]
  },
  {
   "cell_type": "code",
   "execution_count": 328,
   "metadata": {},
   "outputs": [
    {
     "data": {
      "text/html": [
       "<div>\n",
       "<style scoped>\n",
       "    .dataframe tbody tr th:only-of-type {\n",
       "        vertical-align: middle;\n",
       "    }\n",
       "\n",
       "    .dataframe tbody tr th {\n",
       "        vertical-align: top;\n",
       "    }\n",
       "\n",
       "    .dataframe thead th {\n",
       "        text-align: right;\n",
       "    }\n",
       "</style>\n",
       "<table border=\"1\" class=\"dataframe\">\n",
       "  <thead>\n",
       "    <tr style=\"text-align: right;\">\n",
       "      <th></th>\n",
       "      <th>user_id</th>\n",
       "      <th>month</th>\n",
       "      <th>mb_used</th>\n",
       "    </tr>\n",
       "  </thead>\n",
       "  <tbody>\n",
       "    <tr>\n",
       "      <th>0</th>\n",
       "      <td>1000</td>\n",
       "      <td>2018-05-01</td>\n",
       "      <td>2254.0</td>\n",
       "    </tr>\n",
       "    <tr>\n",
       "      <th>1</th>\n",
       "      <td>1000</td>\n",
       "      <td>2018-06-01</td>\n",
       "      <td>23234.0</td>\n",
       "    </tr>\n",
       "    <tr>\n",
       "      <th>2</th>\n",
       "      <td>1000</td>\n",
       "      <td>2018-07-01</td>\n",
       "      <td>14004.0</td>\n",
       "    </tr>\n",
       "    <tr>\n",
       "      <th>3</th>\n",
       "      <td>1000</td>\n",
       "      <td>2018-08-01</td>\n",
       "      <td>14056.0</td>\n",
       "    </tr>\n",
       "    <tr>\n",
       "      <th>4</th>\n",
       "      <td>1000</td>\n",
       "      <td>2018-09-01</td>\n",
       "      <td>14569.0</td>\n",
       "    </tr>\n",
       "  </tbody>\n",
       "</table>\n",
       "</div>"
      ],
      "text/plain": [
       "   user_id      month  mb_used\n",
       "0     1000 2018-05-01   2254.0\n",
       "1     1000 2018-06-01  23234.0\n",
       "2     1000 2018-07-01  14004.0\n",
       "3     1000 2018-08-01  14056.0\n",
       "4     1000 2018-09-01  14569.0"
      ]
     },
     "execution_count": 328,
     "metadata": {},
     "output_type": "execute_result"
    }
   ],
   "source": [
    "#группировка для интернет-трафика\n",
    "internet_group = internet.groupby(['user_id', 'month']).agg({'mb_used':'sum'}).reset_index()\n",
    "internet_group['mb_used'] = internet_group['mb_used'].apply(np.ceil) \n",
    "internet_group.head()"
   ]
  },
  {
   "cell_type": "code",
   "execution_count": 329,
   "metadata": {},
   "outputs": [
    {
     "data": {
      "text/html": [
       "<div>\n",
       "<style scoped>\n",
       "    .dataframe tbody tr th:only-of-type {\n",
       "        vertical-align: middle;\n",
       "    }\n",
       "\n",
       "    .dataframe tbody tr th {\n",
       "        vertical-align: top;\n",
       "    }\n",
       "\n",
       "    .dataframe thead th {\n",
       "        text-align: right;\n",
       "    }\n",
       "</style>\n",
       "<table border=\"1\" class=\"dataframe\">\n",
       "  <thead>\n",
       "    <tr style=\"text-align: right;\">\n",
       "      <th></th>\n",
       "      <th>user_id</th>\n",
       "      <th>month</th>\n",
       "      <th>messages_month</th>\n",
       "    </tr>\n",
       "  </thead>\n",
       "  <tbody>\n",
       "    <tr>\n",
       "      <th>0</th>\n",
       "      <td>1000</td>\n",
       "      <td>2018-05-01</td>\n",
       "      <td>22</td>\n",
       "    </tr>\n",
       "    <tr>\n",
       "      <th>1</th>\n",
       "      <td>1000</td>\n",
       "      <td>2018-06-01</td>\n",
       "      <td>60</td>\n",
       "    </tr>\n",
       "    <tr>\n",
       "      <th>2</th>\n",
       "      <td>1000</td>\n",
       "      <td>2018-07-01</td>\n",
       "      <td>75</td>\n",
       "    </tr>\n",
       "    <tr>\n",
       "      <th>3</th>\n",
       "      <td>1000</td>\n",
       "      <td>2018-08-01</td>\n",
       "      <td>81</td>\n",
       "    </tr>\n",
       "    <tr>\n",
       "      <th>4</th>\n",
       "      <td>1000</td>\n",
       "      <td>2018-09-01</td>\n",
       "      <td>57</td>\n",
       "    </tr>\n",
       "  </tbody>\n",
       "</table>\n",
       "</div>"
      ],
      "text/plain": [
       "   user_id      month  messages_month\n",
       "0     1000 2018-05-01              22\n",
       "1     1000 2018-06-01              60\n",
       "2     1000 2018-07-01              75\n",
       "3     1000 2018-08-01              81\n",
       "4     1000 2018-09-01              57"
      ]
     },
     "execution_count": 329,
     "metadata": {},
     "output_type": "execute_result"
    }
   ],
   "source": [
    "#группировка для смс-сообщений\n",
    "messages_group = messages.groupby(\n",
    "    ['user_id', 'month']).agg({'id_messages':'count'}).rename(columns={'id_messages':'messages_month'}).reset_index()\n",
    "messages_group.head()"
   ]
  },
  {
   "cell_type": "markdown",
   "metadata": {},
   "source": [
    "Соединим рассчестные таблицы с таблицей users/пользователи и добавим к ней данные о тарифном плане каждого пользователя"
   ]
  },
  {
   "cell_type": "code",
   "execution_count": 330,
   "metadata": {
    "scrolled": false
   },
   "outputs": [],
   "source": [
    "#объединяем по user_id, month, далее по столбцу tariff\n",
    "final_data = pd.merge(users, calls_group, how='outer')\n",
    "final_data = final_data.merge(messages_group, on=('user_id', 'month'), how='outer')\n",
    "final_data = final_data.merge(internet_group, on=('user_id', 'month'), how='outer')\n",
    "final_data = final_data.merge(tariffs, on='tariff', how='outer')"
   ]
  },
  {
   "cell_type": "code",
   "execution_count": 331,
   "metadata": {},
   "outputs": [
    {
     "data": {
      "text/plain": [
       "500"
      ]
     },
     "execution_count": 331,
     "metadata": {},
     "output_type": "execute_result"
    }
   ],
   "source": [
    "#проверим все ли абоненты в нашей итоговой таблице\n",
    "len(final_data['user_id'].unique())"
   ]
  },
  {
   "cell_type": "markdown",
   "metadata": {},
   "source": [
    "Проверим пропуски"
   ]
  },
  {
   "cell_type": "code",
   "execution_count": 332,
   "metadata": {
    "scrolled": false
   },
   "outputs": [
    {
     "data": {
      "text/plain": [
       "user_id                 0\n",
       "age_years              40\n",
       "churn_date           3033\n",
       "city                   40\n",
       "first_name             40\n",
       "last_name              40\n",
       "reg_date               40\n",
       "tariff                 40\n",
       "month                   8\n",
       "minutes_month          48\n",
       "calls_count            48\n",
       "messages_month        505\n",
       "mb_used                19\n",
       "messages_included      40\n",
       "mb_included            40\n",
       "minutes_included       40\n",
       "rub_monthly_fee        40\n",
       "rub_per_gb             40\n",
       "rub_per_message        40\n",
       "rub_per_minute         40\n",
       "dtype: int64"
      ]
     },
     "execution_count": 332,
     "metadata": {},
     "output_type": "execute_result"
    }
   ],
   "source": [
    "final_data.isna().sum()"
   ]
  },
  {
   "cell_type": "markdown",
   "metadata": {},
   "source": [
    "Есть абоненты, которые в какой-то период времени не пользовались услугами телефонии (их немного, доля пропусков 1%), интернетом (еще меньше, доля пропусков менее 1%) и смс_сообщениями - значительно больше, доля пропусков практически 16% (вероятно, что в дальнейшем анализе, доходность от смс-сообщений в тарифах будет ниже доходности от звонков и интернет-трафика абоненета). Эти пропуски заменим нолями."
   ]
  },
  {
   "cell_type": "code",
   "execution_count": 333,
   "metadata": {},
   "outputs": [],
   "source": [
    "fillna_list = ['minutes_month', 'calls_count', 'messages_month', 'mb_used']\n",
    "for column in fillna_list:\n",
    "    final_data[column] = final_data[column].fillna(0)"
   ]
  },
  {
   "cell_type": "code",
   "execution_count": 334,
   "metadata": {},
   "outputs": [
    {
     "data": {
      "text/plain": [
       "user_id                 0\n",
       "age_years              40\n",
       "churn_date           3033\n",
       "city                   40\n",
       "first_name             40\n",
       "last_name              40\n",
       "reg_date               40\n",
       "tariff                 40\n",
       "month                   8\n",
       "minutes_month           0\n",
       "calls_count             0\n",
       "messages_month          0\n",
       "mb_used                 0\n",
       "messages_included      40\n",
       "mb_included            40\n",
       "minutes_included       40\n",
       "rub_monthly_fee        40\n",
       "rub_per_gb             40\n",
       "rub_per_message        40\n",
       "rub_per_minute         40\n",
       "dtype: int64"
      ]
     },
     "execution_count": 334,
     "metadata": {},
     "output_type": "execute_result"
    }
   ],
   "source": [
    "final_data.isna().sum()"
   ]
  },
  {
   "cell_type": "markdown",
   "metadata": {},
   "source": [
    "Далее посчитаем помесячную выручку с каждого абонента, добавим данные в таблицу."
   ]
  },
  {
   "cell_type": "code",
   "execution_count": 335,
   "metadata": {},
   "outputs": [],
   "source": [
    "#считаем ежемесячный платеж абонента\n",
    "def count_month_income(row):\n",
    "    i = 0\n",
    "    if row['minutes_month'] > row['minutes_included']:\n",
    "        calls_income = (row['minutes_month'] - row['minutes_included']) * row['rub_per_minute']\n",
    "        i += calls_income\n",
    "    if row['mb_used'] > row['mb_included']:\n",
    "        internet_income = np.ceil((row['mb_used'] - row['mb_included']) / 1024) * row['rub_per_gb']\n",
    "        i += internet_income\n",
    "    if row['messages_month'] > row['messages_included']:\n",
    "        messages_income = (row['messages_month'] - row['messages_included']) * row['rub_per_message']\n",
    "        i += messages_income\n",
    "    else:\n",
    "        i += 0\n",
    "    month_income = row['rub_monthly_fee'] + i\n",
    "    \n",
    "    return month_income  \n",
    "        "
   ]
  },
  {
   "cell_type": "code",
   "execution_count": 336,
   "metadata": {},
   "outputs": [
    {
     "data": {
      "text/html": [
       "<div>\n",
       "<style scoped>\n",
       "    .dataframe tbody tr th:only-of-type {\n",
       "        vertical-align: middle;\n",
       "    }\n",
       "\n",
       "    .dataframe tbody tr th {\n",
       "        vertical-align: top;\n",
       "    }\n",
       "\n",
       "    .dataframe thead th {\n",
       "        text-align: right;\n",
       "    }\n",
       "</style>\n",
       "<table border=\"1\" class=\"dataframe\">\n",
       "  <thead>\n",
       "    <tr style=\"text-align: right;\">\n",
       "      <th></th>\n",
       "      <th>user_id</th>\n",
       "      <th>age_years</th>\n",
       "      <th>churn_date</th>\n",
       "      <th>city</th>\n",
       "      <th>first_name</th>\n",
       "      <th>last_name</th>\n",
       "      <th>reg_date</th>\n",
       "      <th>tariff</th>\n",
       "      <th>month</th>\n",
       "      <th>minutes_month</th>\n",
       "      <th>...</th>\n",
       "      <th>messages_month</th>\n",
       "      <th>mb_used</th>\n",
       "      <th>messages_included</th>\n",
       "      <th>mb_included</th>\n",
       "      <th>minutes_included</th>\n",
       "      <th>rub_monthly_fee</th>\n",
       "      <th>rub_per_gb</th>\n",
       "      <th>rub_per_message</th>\n",
       "      <th>rub_per_minute</th>\n",
       "      <th>month_income</th>\n",
       "    </tr>\n",
       "  </thead>\n",
       "  <tbody>\n",
       "    <tr>\n",
       "      <th>534</th>\n",
       "      <td>1310</td>\n",
       "      <td>28.0</td>\n",
       "      <td>NaT</td>\n",
       "      <td>уфа</td>\n",
       "      <td>Рудольф</td>\n",
       "      <td>Нестеров</td>\n",
       "      <td>2018-03-22</td>\n",
       "      <td>ultra</td>\n",
       "      <td>2018-10-01</td>\n",
       "      <td>469.0</td>\n",
       "      <td>...</td>\n",
       "      <td>56.0</td>\n",
       "      <td>16212.0</td>\n",
       "      <td>1000.0</td>\n",
       "      <td>30720.0</td>\n",
       "      <td>3000.0</td>\n",
       "      <td>1950.0</td>\n",
       "      <td>150.0</td>\n",
       "      <td>1.0</td>\n",
       "      <td>1.0</td>\n",
       "      <td>1950.0</td>\n",
       "    </tr>\n",
       "    <tr>\n",
       "      <th>1781</th>\n",
       "      <td>1176</td>\n",
       "      <td>37.0</td>\n",
       "      <td>NaT</td>\n",
       "      <td>волгоград</td>\n",
       "      <td>Радим</td>\n",
       "      <td>Куприянов</td>\n",
       "      <td>2018-01-20</td>\n",
       "      <td>smart</td>\n",
       "      <td>2018-12-01</td>\n",
       "      <td>485.0</td>\n",
       "      <td>...</td>\n",
       "      <td>55.0</td>\n",
       "      <td>15363.0</td>\n",
       "      <td>50.0</td>\n",
       "      <td>15360.0</td>\n",
       "      <td>500.0</td>\n",
       "      <td>550.0</td>\n",
       "      <td>200.0</td>\n",
       "      <td>3.0</td>\n",
       "      <td>3.0</td>\n",
       "      <td>765.0</td>\n",
       "    </tr>\n",
       "    <tr>\n",
       "      <th>2408</th>\n",
       "      <td>1317</td>\n",
       "      <td>45.0</td>\n",
       "      <td>NaT</td>\n",
       "      <td>москва</td>\n",
       "      <td>Всеволод</td>\n",
       "      <td>Зыков</td>\n",
       "      <td>2018-07-09</td>\n",
       "      <td>smart</td>\n",
       "      <td>2018-11-01</td>\n",
       "      <td>641.0</td>\n",
       "      <td>...</td>\n",
       "      <td>32.0</td>\n",
       "      <td>18176.0</td>\n",
       "      <td>50.0</td>\n",
       "      <td>15360.0</td>\n",
       "      <td>500.0</td>\n",
       "      <td>550.0</td>\n",
       "      <td>200.0</td>\n",
       "      <td>3.0</td>\n",
       "      <td>3.0</td>\n",
       "      <td>1573.0</td>\n",
       "    </tr>\n",
       "    <tr>\n",
       "      <th>1480</th>\n",
       "      <td>1115</td>\n",
       "      <td>71.0</td>\n",
       "      <td>NaT</td>\n",
       "      <td>москва</td>\n",
       "      <td>Рашид</td>\n",
       "      <td>Толкачев</td>\n",
       "      <td>2018-07-28</td>\n",
       "      <td>smart</td>\n",
       "      <td>2018-12-01</td>\n",
       "      <td>622.0</td>\n",
       "      <td>...</td>\n",
       "      <td>39.0</td>\n",
       "      <td>11501.0</td>\n",
       "      <td>50.0</td>\n",
       "      <td>15360.0</td>\n",
       "      <td>500.0</td>\n",
       "      <td>550.0</td>\n",
       "      <td>200.0</td>\n",
       "      <td>3.0</td>\n",
       "      <td>3.0</td>\n",
       "      <td>916.0</td>\n",
       "    </tr>\n",
       "    <tr>\n",
       "      <th>454</th>\n",
       "      <td>1272</td>\n",
       "      <td>61.0</td>\n",
       "      <td>NaT</td>\n",
       "      <td>пенза</td>\n",
       "      <td>Мстислав</td>\n",
       "      <td>Демьянов</td>\n",
       "      <td>2018-08-29</td>\n",
       "      <td>ultra</td>\n",
       "      <td>2018-12-01</td>\n",
       "      <td>343.0</td>\n",
       "      <td>...</td>\n",
       "      <td>61.0</td>\n",
       "      <td>23574.0</td>\n",
       "      <td>1000.0</td>\n",
       "      <td>30720.0</td>\n",
       "      <td>3000.0</td>\n",
       "      <td>1950.0</td>\n",
       "      <td>150.0</td>\n",
       "      <td>1.0</td>\n",
       "      <td>1.0</td>\n",
       "      <td>1950.0</td>\n",
       "    </tr>\n",
       "    <tr>\n",
       "      <th>1528</th>\n",
       "      <td>1125</td>\n",
       "      <td>69.0</td>\n",
       "      <td>NaT</td>\n",
       "      <td>волгоград</td>\n",
       "      <td>Сабина</td>\n",
       "      <td>Озерова</td>\n",
       "      <td>2018-09-01</td>\n",
       "      <td>smart</td>\n",
       "      <td>2018-09-01</td>\n",
       "      <td>332.0</td>\n",
       "      <td>...</td>\n",
       "      <td>8.0</td>\n",
       "      <td>13027.0</td>\n",
       "      <td>50.0</td>\n",
       "      <td>15360.0</td>\n",
       "      <td>500.0</td>\n",
       "      <td>550.0</td>\n",
       "      <td>200.0</td>\n",
       "      <td>3.0</td>\n",
       "      <td>3.0</td>\n",
       "      <td>550.0</td>\n",
       "    </tr>\n",
       "    <tr>\n",
       "      <th>1057</th>\n",
       "      <td>1017</td>\n",
       "      <td>73.0</td>\n",
       "      <td>NaT</td>\n",
       "      <td>краснодар</td>\n",
       "      <td>Мария</td>\n",
       "      <td>Аленникова</td>\n",
       "      <td>2018-05-22</td>\n",
       "      <td>smart</td>\n",
       "      <td>2018-11-01</td>\n",
       "      <td>463.0</td>\n",
       "      <td>...</td>\n",
       "      <td>0.0</td>\n",
       "      <td>20701.0</td>\n",
       "      <td>50.0</td>\n",
       "      <td>15360.0</td>\n",
       "      <td>500.0</td>\n",
       "      <td>550.0</td>\n",
       "      <td>200.0</td>\n",
       "      <td>3.0</td>\n",
       "      <td>3.0</td>\n",
       "      <td>1750.0</td>\n",
       "    </tr>\n",
       "    <tr>\n",
       "      <th>1703</th>\n",
       "      <td>1162</td>\n",
       "      <td>63.0</td>\n",
       "      <td>NaT</td>\n",
       "      <td>москва</td>\n",
       "      <td>Марта</td>\n",
       "      <td>Минаева</td>\n",
       "      <td>2018-10-09</td>\n",
       "      <td>smart</td>\n",
       "      <td>2018-10-01</td>\n",
       "      <td>112.0</td>\n",
       "      <td>...</td>\n",
       "      <td>0.0</td>\n",
       "      <td>11664.0</td>\n",
       "      <td>50.0</td>\n",
       "      <td>15360.0</td>\n",
       "      <td>500.0</td>\n",
       "      <td>550.0</td>\n",
       "      <td>200.0</td>\n",
       "      <td>3.0</td>\n",
       "      <td>3.0</td>\n",
       "      <td>550.0</td>\n",
       "    </tr>\n",
       "    <tr>\n",
       "      <th>2915</th>\n",
       "      <td>1437</td>\n",
       "      <td>73.0</td>\n",
       "      <td>NaT</td>\n",
       "      <td>казань</td>\n",
       "      <td>Лилия</td>\n",
       "      <td>Селезнева</td>\n",
       "      <td>2018-08-03</td>\n",
       "      <td>smart</td>\n",
       "      <td>2018-10-01</td>\n",
       "      <td>297.0</td>\n",
       "      <td>...</td>\n",
       "      <td>14.0</td>\n",
       "      <td>18473.0</td>\n",
       "      <td>50.0</td>\n",
       "      <td>15360.0</td>\n",
       "      <td>500.0</td>\n",
       "      <td>550.0</td>\n",
       "      <td>200.0</td>\n",
       "      <td>3.0</td>\n",
       "      <td>3.0</td>\n",
       "      <td>1350.0</td>\n",
       "    </tr>\n",
       "    <tr>\n",
       "      <th>1812</th>\n",
       "      <td>1183</td>\n",
       "      <td>20.0</td>\n",
       "      <td>NaT</td>\n",
       "      <td>владивосток</td>\n",
       "      <td>Снежана</td>\n",
       "      <td>Озерова</td>\n",
       "      <td>2018-07-12</td>\n",
       "      <td>smart</td>\n",
       "      <td>2018-11-01</td>\n",
       "      <td>369.0</td>\n",
       "      <td>...</td>\n",
       "      <td>46.0</td>\n",
       "      <td>8790.0</td>\n",
       "      <td>50.0</td>\n",
       "      <td>15360.0</td>\n",
       "      <td>500.0</td>\n",
       "      <td>550.0</td>\n",
       "      <td>200.0</td>\n",
       "      <td>3.0</td>\n",
       "      <td>3.0</td>\n",
       "      <td>550.0</td>\n",
       "    </tr>\n",
       "  </tbody>\n",
       "</table>\n",
       "<p>10 rows × 21 columns</p>\n",
       "</div>"
      ],
      "text/plain": [
       "      user_id  age_years churn_date         city first_name   last_name  \\\n",
       "534      1310       28.0        NaT          уфа    Рудольф    Нестеров   \n",
       "1781     1176       37.0        NaT    волгоград      Радим   Куприянов   \n",
       "2408     1317       45.0        NaT       москва   Всеволод       Зыков   \n",
       "1480     1115       71.0        NaT       москва      Рашид    Толкачев   \n",
       "454      1272       61.0        NaT        пенза   Мстислав    Демьянов   \n",
       "1528     1125       69.0        NaT    волгоград     Сабина     Озерова   \n",
       "1057     1017       73.0        NaT    краснодар      Мария  Аленникова   \n",
       "1703     1162       63.0        NaT       москва      Марта     Минаева   \n",
       "2915     1437       73.0        NaT       казань      Лилия   Селезнева   \n",
       "1812     1183       20.0        NaT  владивосток    Снежана     Озерова   \n",
       "\n",
       "       reg_date tariff      month  minutes_month  ...  messages_month  \\\n",
       "534  2018-03-22  ultra 2018-10-01          469.0  ...            56.0   \n",
       "1781 2018-01-20  smart 2018-12-01          485.0  ...            55.0   \n",
       "2408 2018-07-09  smart 2018-11-01          641.0  ...            32.0   \n",
       "1480 2018-07-28  smart 2018-12-01          622.0  ...            39.0   \n",
       "454  2018-08-29  ultra 2018-12-01          343.0  ...            61.0   \n",
       "1528 2018-09-01  smart 2018-09-01          332.0  ...             8.0   \n",
       "1057 2018-05-22  smart 2018-11-01          463.0  ...             0.0   \n",
       "1703 2018-10-09  smart 2018-10-01          112.0  ...             0.0   \n",
       "2915 2018-08-03  smart 2018-10-01          297.0  ...            14.0   \n",
       "1812 2018-07-12  smart 2018-11-01          369.0  ...            46.0   \n",
       "\n",
       "      mb_used  messages_included  mb_included  minutes_included  \\\n",
       "534   16212.0             1000.0      30720.0            3000.0   \n",
       "1781  15363.0               50.0      15360.0             500.0   \n",
       "2408  18176.0               50.0      15360.0             500.0   \n",
       "1480  11501.0               50.0      15360.0             500.0   \n",
       "454   23574.0             1000.0      30720.0            3000.0   \n",
       "1528  13027.0               50.0      15360.0             500.0   \n",
       "1057  20701.0               50.0      15360.0             500.0   \n",
       "1703  11664.0               50.0      15360.0             500.0   \n",
       "2915  18473.0               50.0      15360.0             500.0   \n",
       "1812   8790.0               50.0      15360.0             500.0   \n",
       "\n",
       "      rub_monthly_fee  rub_per_gb  rub_per_message  rub_per_minute  \\\n",
       "534            1950.0       150.0              1.0             1.0   \n",
       "1781            550.0       200.0              3.0             3.0   \n",
       "2408            550.0       200.0              3.0             3.0   \n",
       "1480            550.0       200.0              3.0             3.0   \n",
       "454            1950.0       150.0              1.0             1.0   \n",
       "1528            550.0       200.0              3.0             3.0   \n",
       "1057            550.0       200.0              3.0             3.0   \n",
       "1703            550.0       200.0              3.0             3.0   \n",
       "2915            550.0       200.0              3.0             3.0   \n",
       "1812            550.0       200.0              3.0             3.0   \n",
       "\n",
       "      month_income  \n",
       "534         1950.0  \n",
       "1781         765.0  \n",
       "2408        1573.0  \n",
       "1480         916.0  \n",
       "454         1950.0  \n",
       "1528         550.0  \n",
       "1057        1750.0  \n",
       "1703         550.0  \n",
       "2915        1350.0  \n",
       "1812         550.0  \n",
       "\n",
       "[10 rows x 21 columns]"
      ]
     },
     "execution_count": 336,
     "metadata": {},
     "output_type": "execute_result"
    }
   ],
   "source": [
    "#применяем функцию и проверяем\n",
    "final_data['month_income'] = final_data.apply(count_month_income, axis=1)\n",
    "final_data.sample(10)"
   ]
  },
  {
   "cell_type": "markdown",
   "metadata": {},
   "source": [
    "**Подготовлены сгруппированыее по месяцам данные о звонках/сообщениях/интерент_трафике каждого абонента. Данные объединены в общую таблицу, посчитан ежемесячный платеж каждого абонента.**"
   ]
  },
  {
   "cell_type": "markdown",
   "metadata": {},
   "source": [
    "## Описание данных и исследовательский анализ"
   ]
  },
  {
   "cell_type": "markdown",
   "metadata": {},
   "source": [
    "### Портрет абоненета"
   ]
  },
  {
   "cell_type": "markdown",
   "metadata": {},
   "source": [
    "Начнем с портрета абонента в каждом тарифе. Посмотрим какое количество абонентов в каждом тарифе, из каких они городов, сколько им лет. Воспользуемся таблицей users"
   ]
  },
  {
   "cell_type": "code",
   "execution_count": 337,
   "metadata": {},
   "outputs": [
    {
     "data": {
      "text/plain": [
       "smart    351\n",
       "ultra    149\n",
       "Name: tariff, dtype: int64"
      ]
     },
     "execution_count": 337,
     "metadata": {},
     "output_type": "execute_result"
    }
   ],
   "source": [
    "#сколько абонентов на каждом тарифе\n",
    "users['tariff'].value_counts()"
   ]
  },
  {
   "cell_type": "markdown",
   "metadata": {},
   "source": [
    "В выборке большинство абонентов используют тариф smart c меньшей абонентской платой. Примем, что выборка сформирована так, чтобы отразить соразмерность абонентов в каждом тарифе, которая есть в генеральной совокупности (выборка стратифицирована). "
   ]
  },
  {
   "cell_type": "code",
   "execution_count": 338,
   "metadata": {},
   "outputs": [
    {
     "data": {
      "text/plain": [
       "42    12\n",
       "21    11\n",
       "64    10\n",
       "73    10\n",
       "53    10\n",
       "37     9\n",
       "52     9\n",
       "70     9\n",
       "47     8\n",
       "56     8\n",
       "Name: age_years, dtype: int64"
      ]
     },
     "execution_count": 338,
     "metadata": {},
     "output_type": "execute_result"
    }
   ],
   "source": [
    "#Возраст абонентов смарт\n",
    "users[users['tariff'] == 'smart']['age_years'].value_counts().head(10)"
   ]
  },
  {
   "cell_type": "code",
   "execution_count": 339,
   "metadata": {},
   "outputs": [
    {
     "data": {
      "text/plain": [
       "63    6\n",
       "30    5\n",
       "71    5\n",
       "69    5\n",
       "36    5\n",
       "54    5\n",
       "29    4\n",
       "40    4\n",
       "53    4\n",
       "60    4\n",
       "Name: age_years, dtype: int64"
      ]
     },
     "execution_count": 339,
     "metadata": {},
     "output_type": "execute_result"
    }
   ],
   "source": [
    "#возраст абонентов ультра\n",
    "users[users['tariff'] == 'ultra']['age_years'].value_counts().head(10)"
   ]
  },
  {
   "cell_type": "markdown",
   "metadata": {},
   "source": [
    "По нашей выборке из 500 абонентов видим, что оба тарифа в большинстве своем популярны у людей от 29-30 лет и более старшего возраста (трудоспособных и пенсионеров), но в тарифе smart все же есть в топе группа абонентов 21 года(молодежь, студенты) - что скорее всего связано с привлекательностью тарифа с небольшой абонентской платой."
   ]
  },
  {
   "cell_type": "code",
   "execution_count": 340,
   "metadata": {},
   "outputs": [
    {
     "data": {
      "text/plain": [
       "москва              67\n",
       "санкт-петербург     30\n",
       "казань              13\n",
       "новосибирск         11\n",
       "ульяновск           10\n",
       "омск                10\n",
       "екатеринбург         9\n",
       "улан-удэ             7\n",
       "самара               7\n",
       "набережные челны     7\n",
       "Name: city, dtype: int64"
      ]
     },
     "execution_count": 340,
     "metadata": {},
     "output_type": "execute_result"
    }
   ],
   "source": [
    "#география тарифа смарт\n",
    "users[users['tariff'] == 'smart']['city'].value_counts().head(10)"
   ]
  },
  {
   "cell_type": "code",
   "execution_count": 341,
   "metadata": {},
   "outputs": [
    {
     "data": {
      "text/plain": [
       "москва              32\n",
       "санкт-петербург      9\n",
       "уфа                  6\n",
       "краснодар            5\n",
       "воронеж              5\n",
       "пенза                5\n",
       "новосибирск          5\n",
       "омск                 4\n",
       "набережные челны     4\n",
       "нижний новгород      3\n",
       "Name: city, dtype: int64"
      ]
     },
     "execution_count": 341,
     "metadata": {},
     "output_type": "execute_result"
    }
   ],
   "source": [
    "#география тарифа ультра\n",
    "users[users['tariff'] == 'ultra']['city'].value_counts().head(10)"
   ]
  },
  {
   "cell_type": "markdown",
   "metadata": {},
   "source": [
    "В выборке закономерно много абонентов из двух столиц, в целом география охвата у тарифов обширная, но можно сказать, что топ_городов у тарифа smart захватывает трерриторию и Дальнего Востока тоже (Улан_Удэ, Бурятия), в то время как в топе ultra представлены города центральной и южной России, Сибири."
   ]
  },
  {
   "cell_type": "markdown",
   "metadata": {},
   "source": [
    "Количество абонентов, завершивших договор на тарифный план у нас всего 38. Это небольшая выборка для получения какого-либо достовеного анализа по \"отказникам\". Посмотрим только их количество в каждом тарифе."
   ]
  },
  {
   "cell_type": "code",
   "execution_count": 342,
   "metadata": {},
   "outputs": [
    {
     "data": {
      "text/plain": [
       "0.06552706552706553"
      ]
     },
     "execution_count": 342,
     "metadata": {},
     "output_type": "execute_result"
    }
   ],
   "source": [
    "len(users[(users['churn_date'].isna() == False) & (users['tariff'] == 'smart')]) / len(users[users['tariff'] == 'smart'])"
   ]
  },
  {
   "cell_type": "code",
   "execution_count": 343,
   "metadata": {},
   "outputs": [
    {
     "data": {
      "text/plain": [
       "0.10067114093959731"
      ]
     },
     "execution_count": 343,
     "metadata": {},
     "output_type": "execute_result"
    }
   ],
   "source": [
    "len(users[(users['churn_date'].isna() == False) & (users['tariff'] == 'ultra')]) / len(users[users['tariff'] == 'ultra'])"
   ]
  },
  {
   "cell_type": "markdown",
   "metadata": {},
   "source": [
    "Даже в такой минимальной выборке доля отказников на Ультре выше."
   ]
  },
  {
   "cell_type": "markdown",
   "metadata": {},
   "source": [
    "### Сравнение абонентов тарифов"
   ]
  },
  {
   "cell_type": "markdown",
   "metadata": {},
   "source": [
    "**Посчитаем средние значения, дисперсию и стандартное отклонение.**"
   ]
  },
  {
   "cell_type": "code",
   "execution_count": 344,
   "metadata": {},
   "outputs": [
    {
     "data": {
      "text/html": [
       "<style  type=\"text/css\" >\n",
       "</style><table id=\"T_3cfd1_\" ><thead>    <tr>        <th class=\"blank level0\" ></th>        <th class=\"col_heading level0 col0\" colspan=\"3\">mb_used</th>        <th class=\"col_heading level0 col3\" colspan=\"3\">messages_month</th>        <th class=\"col_heading level0 col6\" colspan=\"3\">minutes_month</th>        <th class=\"col_heading level0 col9\" colspan=\"3\">month_income</th>    </tr>    <tr>        <th class=\"blank level1\" ></th>        <th class=\"col_heading level1 col0\" >mean</th>        <th class=\"col_heading level1 col1\" >std</th>        <th class=\"col_heading level1 col2\" >var</th>        <th class=\"col_heading level1 col3\" >mean</th>        <th class=\"col_heading level1 col4\" >std</th>        <th class=\"col_heading level1 col5\" >var</th>        <th class=\"col_heading level1 col6\" >mean</th>        <th class=\"col_heading level1 col7\" >std</th>        <th class=\"col_heading level1 col8\" >var</th>        <th class=\"col_heading level1 col9\" >mean</th>        <th class=\"col_heading level1 col10\" >std</th>        <th class=\"col_heading level1 col11\" >var</th>    </tr>    <tr>        <th class=\"index_name level0\" >tariff</th>        <th class=\"blank\" ></th>        <th class=\"blank\" ></th>        <th class=\"blank\" ></th>        <th class=\"blank\" ></th>        <th class=\"blank\" ></th>        <th class=\"blank\" ></th>        <th class=\"blank\" ></th>        <th class=\"blank\" ></th>        <th class=\"blank\" ></th>        <th class=\"blank\" ></th>        <th class=\"blank\" ></th>        <th class=\"blank\" ></th>    </tr></thead><tbody>\n",
       "                <tr>\n",
       "                        <th id=\"T_3cfd1_level0_row0\" class=\"row_heading level0 row0\" >smart</th>\n",
       "                        <td id=\"T_3cfd1_row0_col0\" class=\"data row0 col0\" >16195.28</td>\n",
       "                        <td id=\"T_3cfd1_row0_col1\" class=\"data row0 col1\" >5893.68</td>\n",
       "                        <td id=\"T_3cfd1_row0_col2\" class=\"data row0 col2\" >34735492.19</td>\n",
       "                        <td id=\"T_3cfd1_row0_col3\" class=\"data row0 col3\" >33.37</td>\n",
       "                        <td id=\"T_3cfd1_row0_col4\" class=\"data row0 col4\" >28.26</td>\n",
       "                        <td id=\"T_3cfd1_row0_col5\" class=\"data row0 col5\" >798.88</td>\n",
       "                        <td id=\"T_3cfd1_row0_col6\" class=\"data row0 col6\" >418.69</td>\n",
       "                        <td id=\"T_3cfd1_row0_col7\" class=\"data row0 col7\" >189.66</td>\n",
       "                        <td id=\"T_3cfd1_row0_col8\" class=\"data row0 col8\" >35969.74</td>\n",
       "                        <td id=\"T_3cfd1_row0_col9\" class=\"data row0 col9\" >1290.23</td>\n",
       "                        <td id=\"T_3cfd1_row0_col10\" class=\"data row0 col10\" >819.05</td>\n",
       "                        <td id=\"T_3cfd1_row0_col11\" class=\"data row0 col11\" >670847.14</td>\n",
       "            </tr>\n",
       "            <tr>\n",
       "                        <th id=\"T_3cfd1_level0_row1\" class=\"row_heading level0 row1\" >ultra</th>\n",
       "                        <td id=\"T_3cfd1_row1_col0\" class=\"data row1 col0\" >19340.94</td>\n",
       "                        <td id=\"T_3cfd1_row1_col1\" class=\"data row1 col1\" >10211.37</td>\n",
       "                        <td id=\"T_3cfd1_row1_col2\" class=\"data row1 col2\" >104272010.30</td>\n",
       "                        <td id=\"T_3cfd1_row1_col3\" class=\"data row1 col3\" >48.73</td>\n",
       "                        <td id=\"T_3cfd1_row1_col4\" class=\"data row1 col4\" >46.90</td>\n",
       "                        <td id=\"T_3cfd1_row1_col5\" class=\"data row1 col5\" >2199.93</td>\n",
       "                        <td id=\"T_3cfd1_row1_col6\" class=\"data row1 col6\" >542.03</td>\n",
       "                        <td id=\"T_3cfd1_row1_col7\" class=\"data row1 col7\" >308.98</td>\n",
       "                        <td id=\"T_3cfd1_row1_col8\" class=\"data row1 col8\" >95467.74</td>\n",
       "                        <td id=\"T_3cfd1_row1_col9\" class=\"data row1 col9\" >2070.22</td>\n",
       "                        <td id=\"T_3cfd1_row1_col10\" class=\"data row1 col10\" >378.35</td>\n",
       "                        <td id=\"T_3cfd1_row1_col11\" class=\"data row1 col11\" >143149.85</td>\n",
       "            </tr>\n",
       "    </tbody></table>"
      ],
      "text/plain": [
       "<pandas.io.formats.style.Styler at 0x7f2020160bb0>"
      ]
     },
     "execution_count": 344,
     "metadata": {},
     "output_type": "execute_result"
    }
   ],
   "source": [
    "final_data_pivot = final_data.pivot_table(\n",
    "    index=['tariff'],\n",
    "    values = ('minutes_month', 'messages_month', 'mb_used', 'month_income'),\n",
    "    aggfunc=('mean', np.std, np.var)\n",
    ").style.format('{:.2f}')\n",
    "final_data_pivot"
   ]
  },
  {
   "cell_type": "markdown",
   "metadata": {},
   "source": [
    "**Интернет_трафик**\n",
    "- Средние значения отличаются. Абоненты Ультра используют в среднем больше мегабайт в месяц, чем абоненты Смарт. Но если в Ультра интернета много, и они не успевают его выбрать (включено 30720 мб), то на Смарте абоненты немного но все же перебирают норму (включено 15360 мб.)\n",
    "- Стандартное отклонение и дисперсия в тарифе Ультра выше - но даже такой разброс данных не выводит абонентов за рамки включенного в тариф объема мегабайт.\n",
    "\n",
    "**СМС_сообщения**\n",
    "- В обоих тарифах абоненты в среднем отправляют меньше СМС, чем включено в тариф. Абоненты Смарт отправляют в среднем 33 из 50 включенных в тариф, абоненты Ультра - 48 из 1000!!!\n",
    "- При этом стандартное отклонение в тарифах достаточно близко к среднему - что означает большой разброс данных. Кому то из абонентов смс-нужны, а кому-то совсем нет.\n",
    "\n",
    "**Длительность звонка**\n",
    "- Абоненты Ультра разговаривают дольше. Но среднее количество их минут значительно меньше предлагаемого в рамках тарифа (включено 3000 мин.) Абоненты Смарт очень близки к бесплатному максимуму и судя по стандартному отклонению - ряд абонентов выходит за рамки включенных в тариф минут. \n",
    "- Стандартное отклонение и дисперсия в тарифе Ультра выше, бОльший разброс данных связан с тем, что у пользователей более обширная \"площадь\" включенных минут.\n",
    "\n",
    "**Доходность**\n",
    "- Абоненты Смарт переплачивают с среднем вдвое. Примерно половина среднего ежемесячного платежа - абонентская плата. Остальное - услуги сверх тарифа. Абоненты Ультра тоже в среднем переплачивают, но не так много.\n",
    "- Стандартное отклонение и дисперсия в Ультра соответственно меньше. Разброс данных в доходности небольшой, так как объем включенных минут и смс-сообщений по максимуму почти не используется, доплачивают ряд абонентов только за Интернет."
   ]
  },
  {
   "cell_type": "markdown",
   "metadata": {},
   "source": [
    "**Далее посмотрим на распределение данных и более подробно на их разброс**"
   ]
  },
  {
   "cell_type": "code",
   "execution_count": 345,
   "metadata": {},
   "outputs": [],
   "source": [
    "#для построения гистограмм из двух data\n",
    "def hist_two_data(data1, data2, column, bins=50, title=''):\n",
    "    ax = data1.plot(y = column, kind='hist', histtype='step', bins=bins, figsize=(10,5), title=title, linewidth=5, alpha=0.7, label='smart')\n",
    "    data2.plot(y = column, kind='hist', histtype='step', bins=bins, figsize=(10,5), grid=True, linewidth=5, alpha=0.7, ax=ax, label='ultra', legend=True)\n",
    "    ax.set_xlabel(title)\n",
    "    return ax"
   ]
  },
  {
   "cell_type": "code",
   "execution_count": 346,
   "metadata": {},
   "outputs": [],
   "source": [
    "#разделим данные по тарифам\n",
    "smart = final_data[final_data['tariff'] == 'smart']\n",
    "ultra = final_data[final_data['tariff'] == 'ultra']"
   ]
  },
  {
   "cell_type": "code",
   "execution_count": 347,
   "metadata": {},
   "outputs": [
    {
     "data": {
      "text/plain": [
       "(2225, 957)"
      ]
     },
     "execution_count": 347,
     "metadata": {},
     "output_type": "execute_result"
    }
   ],
   "source": [
    "len(smart), len(ultra)"
   ]
  },
  {
   "cell_type": "markdown",
   "metadata": {},
   "source": [
    "Количество данных в Ультра закономерно меньше, так как и абонентов Ультра в нашей выборке меньше. Поэтому гистограммы Ультра по сравнению со Смарт будут более широкими в своей центральной части, более сглаженными."
   ]
  },
  {
   "cell_type": "markdown",
   "metadata": {},
   "source": [
    "**Минуты по тарифам**"
   ]
  },
  {
   "cell_type": "code",
   "execution_count": 348,
   "metadata": {
    "scrolled": false
   },
   "outputs": [
    {
     "data": {
      "image/png": "[encoded data removed]",
      "text/plain": [
       "<Figure size 720x720 with 1 Axes>"
      ]
     },
     "metadata": {
      "needs_background": "light"
     },
     "output_type": "display_data"
    }
   ],
   "source": [
    "plot = final_data.boxplot('minutes_month', by='tariff', figsize=(10,10))"
   ]
  },
  {
   "cell_type": "code",
   "execution_count": 349,
   "metadata": {},
   "outputs": [
    {
     "data": {
      "text/plain": [
       "<AxesSubplot:title={'center':'Минуты в месяц'}, xlabel='Минуты в месяц', ylabel='Frequency'>"
      ]
     },
     "execution_count": 349,
     "metadata": {},
     "output_type": "execute_result"
    },
    {
     "data": {
      "image/png": "[encoded data removed]",
      "text/plain": [
       "<Figure size 720x360 with 1 Axes>"
      ]
     },
     "metadata": {
      "needs_background": "light"
     },
     "output_type": "display_data"
    }
   ],
   "source": [
    "hist_two_data(smart, ultra, 'minutes_month', title = 'Минуты в месяц')"
   ]
  },
  {
   "cell_type": "markdown",
   "metadata": {},
   "source": [
    "Данные скошены вправо, медиана меньше среднего. В наборе данных есть выбросы - закономерно в Смарт выбросов больше, так как ряду абонентов не хватает включенных в тариф 500 минут. Больше 750 минут в месяц абоненты Смарт говорят даже чаще абонентов Ультра."
   ]
  },
  {
   "cell_type": "markdown",
   "metadata": {},
   "source": [
    "**Сообщения по тарифам**"
   ]
  },
  {
   "cell_type": "code",
   "execution_count": 350,
   "metadata": {},
   "outputs": [
    {
     "data": {
      "image/png": "[encoded data removed]",
      "text/plain": [
       "<Figure size 720x720 with 1 Axes>"
      ]
     },
     "metadata": {
      "needs_background": "light"
     },
     "output_type": "display_data"
    }
   ],
   "source": [
    "plot = final_data.boxplot('messages_month', by='tariff', figsize=(10,10))"
   ]
  },
  {
   "cell_type": "code",
   "execution_count": 351,
   "metadata": {},
   "outputs": [
    {
     "data": {
      "text/plain": [
       "<AxesSubplot:title={'center':'СМС-сообщения в месяц'}, xlabel='СМС-сообщения в месяц', ylabel='Frequency'>"
      ]
     },
     "execution_count": 351,
     "metadata": {},
     "output_type": "execute_result"
    },
    {
     "data": {
      "image/png": "[encoded data removed]",
      "text/plain": [
       "<Figure size 720x360 with 1 Axes>"
      ]
     },
     "metadata": {
      "needs_background": "light"
     },
     "output_type": "display_data"
    }
   ],
   "source": [
    "hist_two_data(smart, ultra, 'messages_month', title = 'СМС-сообщения в месяц')"
   ]
  },
  {
   "cell_type": "markdown",
   "metadata": {},
   "source": [
    "СМС-сообщения в большинстве своем абоненты двух тарифов пишут нечасто, высокий пик со значением примерно 10 смс в месяц и далее резкий спад, но в то же время данные очень сильно скошены вправо, особенно в тарифе Ультра, что говорит, о  большем количестве нечастых дополнительных значений. Несмотря на длинный \"хвост\" в гистограммах тарифов справа (много редких значений, выбросы), абоненты Ультра умещаются в тарифный план. Абоненты Смарт пишут СМС больше и ряд из них выходит за рамки тарифного плана."
   ]
  },
  {
   "cell_type": "markdown",
   "metadata": {},
   "source": [
    "**Интернет-трафик в месяц**"
   ]
  },
  {
   "cell_type": "code",
   "execution_count": 352,
   "metadata": {},
   "outputs": [
    {
     "data": {
      "image/png": "[encoded data removed]",
      "text/plain": [
       "<Figure size 720x720 with 1 Axes>"
      ]
     },
     "metadata": {
      "needs_background": "light"
     },
     "output_type": "display_data"
    }
   ],
   "source": [
    "plot = final_data.boxplot('mb_used', by='tariff', figsize=(10,10))"
   ]
  },
  {
   "cell_type": "code",
   "execution_count": 353,
   "metadata": {
    "scrolled": false
   },
   "outputs": [
    {
     "data": {
      "text/plain": [
       "<AxesSubplot:title={'center':'Интернет_трафик в месяц'}, xlabel='Интернет_трафик в месяц', ylabel='Frequency'>"
      ]
     },
     "execution_count": 353,
     "metadata": {},
     "output_type": "execute_result"
    },
    {
     "data": {
      "image/png": "[encoded data removed]",
      "text/plain": [
       "<Figure size 720x360 with 1 Axes>"
      ]
     },
     "metadata": {
      "needs_background": "light"
     },
     "output_type": "display_data"
    }
   ],
   "source": [
    "hist_two_data(smart, ultra, 'mb_used', title = 'Интернет_трафик в месяц')"
   ]
  },
  {
   "cell_type": "markdown",
   "metadata": {},
   "source": [
    "Графики по Интерент-трафику в месяц наиболее приближены к нормальному распределению. Связано это скорее всего с возрастом абонентов. Анализируя их портрет мы видели, что в топе много абонентов старшего возраста, скорее всего именно они \"дали нам\" низкие значения интернет-трафика. Все остальные \"распределили\" центр и максимальные значения. На гистограмме видно, что абоненты двух тарифов выходят за тарифный план (для абонентов Ультра - 30720 мб, для Смарт - 15360 мб.), но абоненты Смарт делают это чаще."
   ]
  },
  {
   "cell_type": "markdown",
   "metadata": {},
   "source": [
    "**Доход по тарифам**"
   ]
  },
  {
   "cell_type": "code",
   "execution_count": 354,
   "metadata": {
    "scrolled": false
   },
   "outputs": [
    {
     "data": {
      "text/plain": [
       "<AxesSubplot:title={'center':'Доход в месяц'}, xlabel='Доход в месяц', ylabel='Frequency'>"
      ]
     },
     "execution_count": 354,
     "metadata": {},
     "output_type": "execute_result"
    },
    {
     "data": {
      "image/png": "[encoded data removed]",
      "text/plain": [
       "<Figure size 720x360 with 1 Axes>"
      ]
     },
     "metadata": {
      "needs_background": "light"
     },
     "output_type": "display_data"
    }
   ],
   "source": [
    "hist_two_data(smart, ultra, 'month_income', title = 'Доход в месяц')"
   ]
  },
  {
   "cell_type": "markdown",
   "metadata": {},
   "source": [
    "Мы видим, что хоть пик доходности в Ультра выше да и само значение, принадлежащее пику (2000 руб) больше, чем у Смарт, после взлета идет моментальное падение и \"хвост\" из редких значений справа небольшой - переплаты случаются достаточно редко. Доходность Смарт после пика дает более плавную скошенность вправо и более длинный список дополнительных значений справа, которые увеличивают среднее. А за счет многочисленности абонентов в тарифе Смарт, перед проверкой гипотез, мы уже можем предположить, что тариф Смарт более доходен, чем Ультра."
   ]
  },
  {
   "cell_type": "code",
   "execution_count": 355,
   "metadata": {},
   "outputs": [],
   "source": [
    "#для удаления выбросов по столбцу из датафрейма\n",
    "def clean_data(data, column):\n",
    "    q1 = data[column].quantile(0.25)\n",
    "    q3 = data[column].quantile(0.75)\n",
    "    iqr = q3-q1\n",
    "    \n",
    "    clean_column = (data[column] >= (q1-1.5*iqr)) & (data[column] <= (q3+1.5*iqr ))\n",
    "    \n",
    "    return data.loc[clean_column]"
   ]
  },
  {
   "cell_type": "code",
   "execution_count": 356,
   "metadata": {},
   "outputs": [
    {
     "data": {
      "text/plain": [
       "2194"
      ]
     },
     "execution_count": 356,
     "metadata": {},
     "output_type": "execute_result"
    }
   ],
   "source": [
    "# удаляем выбросы\n",
    "clean_smart = clean_data(smart, 'month_income')\n",
    "len(clean_smart)"
   ]
  },
  {
   "cell_type": "code",
   "execution_count": 357,
   "metadata": {},
   "outputs": [
    {
     "data": {
      "text/plain": [
       "829"
      ]
     },
     "execution_count": 357,
     "metadata": {},
     "output_type": "execute_result"
    }
   ],
   "source": [
    "# удаляем выбросы\n",
    "clean_ultra = clean_data(ultra, 'month_income')\n",
    "len(clean_ultra)"
   ]
  },
  {
   "cell_type": "markdown",
   "metadata": {},
   "source": [
    "## Гипотезы и их проверка"
   ]
  },
  {
   "cell_type": "markdown",
   "metadata": {},
   "source": [
    "Далее проверим гипотезы о равенстве средних двух генеральных совокупностей, проведя т-тесты."
   ]
  },
  {
   "cell_type": "markdown",
   "metadata": {},
   "source": [
    "### Средняя выручка пользователей тарифов «Ультра» и «Смарт» различаются"
   ]
  },
  {
   "cell_type": "markdown",
   "metadata": {},
   "source": [
    "**Н0 (нулевая гипотеза)**\n",
    "Средняя выручка пользователей тарифов «Ультра» и «Смарт» равны\n",
    "\n",
    "**Н1 (альтернативная гипотеза)**\n",
    "Средняя выручка пользователей тарифов «Ультра» и «Смарт» не равны"
   ]
  },
  {
   "cell_type": "markdown",
   "metadata": {},
   "source": [
    "Уровень значимости alpha примем за 0.05, общепринятое значение, которое позволит уменьшить риск (в отличие от 0,01) ошибки (например, риск не отвергнуть ложную нулевую гипотезу)"
   ]
  },
  {
   "cell_type": "code",
   "execution_count": 358,
   "metadata": {},
   "outputs": [],
   "source": [
    "#выборки\n",
    "smart_income = clean_smart['month_income']\n",
    "ultra_income = clean_ultra['month_income']"
   ]
  },
  {
   "cell_type": "code",
   "execution_count": 359,
   "metadata": {},
   "outputs": [
    {
     "name": "stdout",
     "output_type": "stream",
     "text": [
      "р-значение 5.22963757e-315\n"
     ]
    }
   ],
   "source": [
    "# тест, equal_var=False - так как выборки разного размера\n",
    "alpha = 0.05\n",
    "result = st.ttest_ind(smart_income, ultra_income, equal_var=False)\n",
    "print('р-значение', result.pvalue)"
   ]
  },
  {
   "cell_type": "code",
   "execution_count": 360,
   "metadata": {},
   "outputs": [
    {
     "name": "stdout",
     "output_type": "stream",
     "text": [
      "Принимаем альтернативную гипотезу\n"
     ]
    }
   ],
   "source": [
    "#интерпретация результата\n",
    "if result.pvalue < alpha:\n",
    "    print('Принимаем альтернативную гипотезу')\n",
    "else:\n",
    "    print('Опровергнуть нулевую гипотезу нельзя')"
   ]
  },
  {
   "cell_type": "markdown",
   "metadata": {},
   "source": [
    "По результатам т-теста нулевая гипотеза о равенстве средних не подтвердилась, была принята альтернативная гипотеза, о том что средние выручки пользователей Смарт и Ультра не равны. \n",
    "Разница неслучайна, есть значимые отличия между двумя выборками."
   ]
  },
  {
   "cell_type": "markdown",
   "metadata": {},
   "source": [
    "### Cредняя выручка пользователей из Москвы отличается от выручки пользователей из других регионов"
   ]
  },
  {
   "cell_type": "markdown",
   "metadata": {},
   "source": [
    "**Н0 (нулевая гипотеза)**\n",
    "Cредняя выручка пользователей из Москвы равна средней выручке пользователей из других регионов\n",
    "\n",
    "**Н1 (альтернативная гипотеза)**\n",
    "Средняя выручка пользователей  из Москвы  не равна средней выручке пользователей из других регионов"
   ]
  },
  {
   "cell_type": "code",
   "execution_count": 361,
   "metadata": {},
   "outputs": [],
   "source": [
    "#подготовим выборку по Москве\n",
    "moscow_data = final_data.loc[final_data['city'] == 'москва']\n",
    "clean_moscow_data = clean_data(moscow_data, 'month_income')\n",
    "test_moscow = clean_moscow_data['month_income']"
   ]
  },
  {
   "cell_type": "code",
   "execution_count": 362,
   "metadata": {},
   "outputs": [
    {
     "data": {
      "text/plain": [
       "(605, 0.9918032786885246)"
      ]
     },
     "execution_count": 362,
     "metadata": {},
     "output_type": "execute_result"
    }
   ],
   "source": [
    "#оценим размер выборки\n",
    "len(clean_moscow_data), len(clean_moscow_data)/len(moscow_data)"
   ]
  },
  {
   "cell_type": "code",
   "execution_count": 363,
   "metadata": {},
   "outputs": [],
   "source": [
    "#подготовим выборку по регионам\n",
    "region_data = final_data.loc[final_data['city'] != 'москва']\n",
    "clean_region_data = clean_data(region_data, 'month_income')\n",
    "test_region = clean_region_data['month_income']"
   ]
  },
  {
   "cell_type": "code",
   "execution_count": 364,
   "metadata": {},
   "outputs": [
    {
     "data": {
      "text/plain": [
       "(2541, 0.9728177641653905)"
      ]
     },
     "execution_count": 364,
     "metadata": {},
     "output_type": "execute_result"
    }
   ],
   "source": [
    "#оценим размер выборки\n",
    "len(clean_region_data), len(clean_region_data)/len(region_data)"
   ]
  },
  {
   "cell_type": "code",
   "execution_count": 365,
   "metadata": {},
   "outputs": [
    {
     "name": "stdout",
     "output_type": "stream",
     "text": [
      "р-значение 0.2324185702354845\n"
     ]
    }
   ],
   "source": [
    "#проведем тест\n",
    "alpha = 0.05\n",
    "result = st.ttest_ind(test_moscow,test_region)\n",
    "print('р-значение', result.pvalue)"
   ]
  },
  {
   "cell_type": "code",
   "execution_count": 366,
   "metadata": {},
   "outputs": [
    {
     "name": "stdout",
     "output_type": "stream",
     "text": [
      "Опровергнуть нулевую гипотезу нельзя\n"
     ]
    }
   ],
   "source": [
    "#интерпретация результата\n",
    "if result.pvalue < alpha:\n",
    "    print('Принимаем альтернативную гипотезу')\n",
    "else:\n",
    "    print('Опровергнуть нулевую гипотезу нельзя')"
   ]
  },
  {
   "cell_type": "markdown",
   "metadata": {},
   "source": [
    "По результатам т-теста отвергнуть нулевую гипотезу о равенстве средних не получилось. Полученное р-значение говорит о том, что с вероятностью в 23% мы можем получить такое или большее различие случайно, и хотя средние в группировке по тарифам и не равны, значимых различий между Москвой и регионами выявить не получилось."
   ]
  },
  {
   "cell_type": "markdown",
   "metadata": {},
   "source": [
    "## Выводы"
   ]
  },
  {
   "cell_type": "markdown",
   "metadata": {},
   "source": [
    "В рамках проекта мы исследовали выборку из 500 абонентов \"Мегалайн\" (выборка, вероятно, стратифицированная, судя по разному количеству абонентов в каждом из тарифов, и соответственно более репрезентативная).\n",
    "\n",
    "Были обработаны таблицы с данными об абонентах, звонках, интернет-сессиях и смс-сообщениях за 2018 год.\n",
    "\n",
    "Цель проекта - определить более доходный тариф.\n",
    "\n",
    "В процессе подготовки данных удаления информации не было, звонки длительностью 0, оставили как 0 (основания - пояснительная записка к проекту, соразмерное распределение по тарифам, не стали увеличивать показатели дохода, не имея на то веских оснований).\n",
    "\n",
    "**Проверка гипотезы о равенстве средних Ультра и Смарт, отвергла это равенство и подтвердила различия между выборками по тарифам. На основании исследовательского анализа и проверки гипотезы более доходным признаем тариф Смарт:**\n",
    "- **Абоненты Смарт переплачивают в среднем вдвое. Примерно половина среднего ежемесячного платежа - абонентская плата. Остальное - услуги сверх тарифа.**\n",
    "- **Абоненты с большoй вероятностью доплачивают за интернет, с чуть меньшей за звонки и почти не переплачивают за смс-сообщения.**\n",
    "- **За счет массовости тарифа Смарт, все вышеперечисленное дает бОльший доход.**\n",
    "- **Пользователи Ультра хоть и платят бОльшую абонентскую плату, их меньше и переплачивают они меньшие суммы сверх тарифа и реже. Самый частый вид переплат - за Интернет.**\n",
    "\n",
    "При корректировке рекламного бюджета нужно учесть, что гипотеза о равенстве средних доходов из Москвы и из регионов не была отвергнута, то есть значимых различий между доходностью Москвы и регионов выявить не удалось.\n",
    "\n",
    "*Наблюдения:*\n",
    "- *при дальшейшей выгрузке данных и подготовке сопроводительной записки к проектам нужно все же разобраться со звонками длительностью 0 и прописать их особенность в документации*\n",
    "- *выборка по закончившим договор была небольшой, но даже в ней \"лидирует\" Ультра, куда потом ушли отказники?, на какой тариф? или вообще к другому оператору?*\n",
    "- *смс-сообщения - \"вымирающий жанр\", может быть и не нужно их так много предлагать в пакете услуг?*\n"
   ]
  }
 ],
 "metadata": {
  "ExecuteTimeLog": [
   {
    "duration": 581,
    "start_time": "2022-04-25T06:35:29.180Z"
   },
   {
    "duration": 18,
    "start_time": "2022-04-25T06:36:28.426Z"
   },
   {
    "duration": 34,
    "start_time": "2022-04-25T06:36:53.322Z"
   },
   {
    "duration": 199,
    "start_time": "2022-04-25T07:02:44.759Z"
   },
   {
    "duration": 406,
    "start_time": "2022-04-25T07:02:55.602Z"
   },
   {
    "duration": 5,
    "start_time": "2022-04-25T07:03:54.713Z"
   },
   {
    "duration": 335,
    "start_time": "2022-04-25T07:04:17.552Z"
   },
   {
    "duration": 5,
    "start_time": "2022-04-25T07:07:01.232Z"
   },
   {
    "duration": 230,
    "start_time": "2022-04-25T07:07:20.842Z"
   },
   {
    "duration": 63,
    "start_time": "2022-04-25T09:37:00.005Z"
   },
   {
    "duration": 4,
    "start_time": "2022-04-25T09:47:48.647Z"
   },
   {
    "duration": 9,
    "start_time": "2022-04-25T09:48:15.240Z"
   },
   {
    "duration": 14,
    "start_time": "2022-04-25T10:28:35.832Z"
   },
   {
    "duration": 2507,
    "start_time": "2022-04-25T10:29:22.971Z"
   },
   {
    "duration": 6,
    "start_time": "2022-04-25T10:30:25.784Z"
   },
   {
    "duration": 2582,
    "start_time": "2022-04-25T10:30:27.620Z"
   },
   {
    "duration": 3,
    "start_time": "2022-04-25T10:30:38.930Z"
   },
   {
    "duration": 23,
    "start_time": "2022-04-25T10:30:38.944Z"
   },
   {
    "duration": 469,
    "start_time": "2022-04-25T10:30:38.970Z"
   },
   {
    "duration": 5,
    "start_time": "2022-04-25T10:30:39.444Z"
   },
   {
    "duration": 326,
    "start_time": "2022-04-25T10:30:39.451Z"
   },
   {
    "duration": 5,
    "start_time": "2022-04-25T10:30:39.779Z"
   },
   {
    "duration": 7,
    "start_time": "2022-04-25T10:30:39.786Z"
   },
   {
    "duration": 9,
    "start_time": "2022-04-25T10:31:30.016Z"
   },
   {
    "duration": 15,
    "start_time": "2022-04-25T10:33:49.025Z"
   },
   {
    "duration": 13,
    "start_time": "2022-04-25T10:34:07.817Z"
   },
   {
    "duration": 24,
    "start_time": "2022-04-25T10:34:22.231Z"
   },
   {
    "duration": 6,
    "start_time": "2022-04-25T10:35:02.963Z"
   },
   {
    "duration": 14,
    "start_time": "2022-04-25T10:35:17.746Z"
   },
   {
    "duration": 8,
    "start_time": "2022-04-25T10:35:43.821Z"
   },
   {
    "duration": 9,
    "start_time": "2022-04-25T10:35:45.565Z"
   },
   {
    "duration": 14,
    "start_time": "2022-04-25T10:36:00.625Z"
   },
   {
    "duration": 3,
    "start_time": "2022-04-25T10:36:07.282Z"
   },
   {
    "duration": 37,
    "start_time": "2022-04-25T10:36:07.295Z"
   },
   {
    "duration": 474,
    "start_time": "2022-04-25T10:36:07.335Z"
   },
   {
    "duration": 4,
    "start_time": "2022-04-25T10:36:07.812Z"
   },
   {
    "duration": 304,
    "start_time": "2022-04-25T10:36:07.819Z"
   },
   {
    "duration": 10,
    "start_time": "2022-04-25T10:36:08.126Z"
   },
   {
    "duration": 14,
    "start_time": "2022-04-25T10:36:08.139Z"
   },
   {
    "duration": 6,
    "start_time": "2022-04-25T10:36:36.904Z"
   },
   {
    "duration": 13,
    "start_time": "2022-04-25T10:36:39.819Z"
   },
   {
    "duration": 5,
    "start_time": "2022-04-25T10:37:55.465Z"
   },
   {
    "duration": 10,
    "start_time": "2022-04-25T10:38:00.436Z"
   },
   {
    "duration": 6,
    "start_time": "2022-04-25T10:38:32.957Z"
   },
   {
    "duration": 12,
    "start_time": "2022-04-25T10:38:34.255Z"
   },
   {
    "duration": 10,
    "start_time": "2022-04-25T10:38:42.614Z"
   },
   {
    "duration": 5009,
    "start_time": "2022-04-25T10:39:18.540Z"
   },
   {
    "duration": 4,
    "start_time": "2022-04-25T10:40:44.643Z"
   },
   {
    "duration": 3,
    "start_time": "2022-04-25T10:40:51.026Z"
   },
   {
    "duration": 22,
    "start_time": "2022-04-25T10:40:51.036Z"
   },
   {
    "duration": 501,
    "start_time": "2022-04-25T10:40:51.060Z"
   },
   {
    "duration": 5,
    "start_time": "2022-04-25T10:40:51.563Z"
   },
   {
    "duration": 253,
    "start_time": "2022-04-25T10:40:51.571Z"
   },
   {
    "duration": 7,
    "start_time": "2022-04-25T10:40:51.826Z"
   },
   {
    "duration": 10,
    "start_time": "2022-04-25T10:40:51.835Z"
   },
   {
    "duration": 5,
    "start_time": "2022-04-25T10:41:02.359Z"
   },
   {
    "duration": 12,
    "start_time": "2022-04-25T10:41:58.707Z"
   },
   {
    "duration": 8,
    "start_time": "2022-04-25T10:43:05.286Z"
   },
   {
    "duration": 14,
    "start_time": "2022-04-25T10:43:28.661Z"
   },
   {
    "duration": 7,
    "start_time": "2022-04-25T10:44:50.925Z"
   },
   {
    "duration": 1610,
    "start_time": "2022-04-25T10:44:52.815Z"
   },
   {
    "duration": 5,
    "start_time": "2022-04-25T10:45:11.896Z"
   },
   {
    "duration": 1826,
    "start_time": "2022-04-25T10:45:12.598Z"
   },
   {
    "duration": 3,
    "start_time": "2022-04-25T10:45:30.121Z"
   },
   {
    "duration": 40,
    "start_time": "2022-04-25T10:45:30.127Z"
   },
   {
    "duration": 410,
    "start_time": "2022-04-25T10:45:30.169Z"
   },
   {
    "duration": 8,
    "start_time": "2022-04-25T10:45:30.581Z"
   },
   {
    "duration": 258,
    "start_time": "2022-04-25T10:45:30.591Z"
   },
   {
    "duration": 6,
    "start_time": "2022-04-25T10:45:30.851Z"
   },
   {
    "duration": 1717,
    "start_time": "2022-04-25T10:45:30.858Z"
   },
   {
    "duration": 5,
    "start_time": "2022-04-25T10:45:55.122Z"
   },
   {
    "duration": 1688,
    "start_time": "2022-04-25T10:45:59.112Z"
   },
   {
    "duration": 5,
    "start_time": "2022-04-25T10:46:17.368Z"
   },
   {
    "duration": 1785,
    "start_time": "2022-04-25T10:46:24.468Z"
   },
   {
    "duration": 3,
    "start_time": "2022-04-25T10:46:31.684Z"
   },
   {
    "duration": 24,
    "start_time": "2022-04-25T10:46:31.690Z"
   },
   {
    "duration": 388,
    "start_time": "2022-04-25T10:46:31.716Z"
   },
   {
    "duration": 5,
    "start_time": "2022-04-25T10:46:32.106Z"
   },
   {
    "duration": 236,
    "start_time": "2022-04-25T10:46:32.114Z"
   },
   {
    "duration": 5,
    "start_time": "2022-04-25T10:46:32.352Z"
   },
   {
    "duration": 2070,
    "start_time": "2022-04-25T10:46:32.359Z"
   },
   {
    "duration": 14,
    "start_time": "2022-04-25T10:50:56.833Z"
   },
   {
    "duration": 7,
    "start_time": "2022-04-25T10:51:25.088Z"
   },
   {
    "duration": 5,
    "start_time": "2022-04-25T10:53:07.407Z"
   },
   {
    "duration": 3,
    "start_time": "2022-04-25T10:53:16.130Z"
   },
   {
    "duration": 24,
    "start_time": "2022-04-25T10:53:16.135Z"
   },
   {
    "duration": 493,
    "start_time": "2022-04-25T10:53:16.162Z"
   },
   {
    "duration": 6,
    "start_time": "2022-04-25T10:53:16.657Z"
   },
   {
    "duration": 357,
    "start_time": "2022-04-25T10:53:16.666Z"
   },
   {
    "duration": 7,
    "start_time": "2022-04-25T10:53:17.025Z"
   },
   {
    "duration": 205,
    "start_time": "2022-04-25T10:53:33.886Z"
   },
   {
    "duration": 7,
    "start_time": "2022-04-25T10:53:50.281Z"
   },
   {
    "duration": 6,
    "start_time": "2022-04-25T10:54:31.135Z"
   },
   {
    "duration": 12,
    "start_time": "2022-04-25T11:39:54.654Z"
   },
   {
    "duration": 4,
    "start_time": "2022-04-25T11:43:08.255Z"
   },
   {
    "duration": 7,
    "start_time": "2022-04-25T11:43:25.136Z"
   },
   {
    "duration": 6,
    "start_time": "2022-04-25T11:45:45.571Z"
   },
   {
    "duration": 7,
    "start_time": "2022-04-25T11:47:19.824Z"
   },
   {
    "duration": 8,
    "start_time": "2022-04-25T11:48:29.326Z"
   },
   {
    "duration": 4,
    "start_time": "2022-04-25T11:48:38.286Z"
   },
   {
    "duration": 5,
    "start_time": "2022-04-25T11:49:18.402Z"
   },
   {
    "duration": 8,
    "start_time": "2022-04-25T11:49:28.843Z"
   },
   {
    "duration": 192,
    "start_time": "2022-04-25T11:54:36.180Z"
   },
   {
    "duration": 196,
    "start_time": "2022-04-25T11:54:49.593Z"
   },
   {
    "duration": 177,
    "start_time": "2022-04-25T11:55:58.618Z"
   },
   {
    "duration": 4,
    "start_time": "2022-04-25T11:58:48.008Z"
   },
   {
    "duration": 5,
    "start_time": "2022-04-25T11:59:21.255Z"
   },
   {
    "duration": 6,
    "start_time": "2022-04-25T11:59:54.516Z"
   },
   {
    "duration": 200,
    "start_time": "2022-04-25T12:01:28.727Z"
   },
   {
    "duration": 10,
    "start_time": "2022-04-25T12:01:49.277Z"
   },
   {
    "duration": 36,
    "start_time": "2022-04-25T12:02:10.145Z"
   },
   {
    "duration": 11,
    "start_time": "2022-04-25T12:03:13.780Z"
   },
   {
    "duration": 4,
    "start_time": "2022-04-25T12:03:51.085Z"
   },
   {
    "duration": 12,
    "start_time": "2022-04-25T12:04:04.444Z"
   },
   {
    "duration": 11,
    "start_time": "2022-04-25T12:06:55.613Z"
   },
   {
    "duration": 2,
    "start_time": "2022-04-25T12:07:04.192Z"
   },
   {
    "duration": 10,
    "start_time": "2022-04-25T12:09:33.299Z"
   },
   {
    "duration": 3,
    "start_time": "2022-04-25T12:09:46.792Z"
   },
   {
    "duration": 36,
    "start_time": "2022-04-25T12:09:46.799Z"
   },
   {
    "duration": 3,
    "start_time": "2022-04-25T12:09:46.837Z"
   },
   {
    "duration": 558,
    "start_time": "2022-04-25T12:09:46.842Z"
   },
   {
    "duration": 6,
    "start_time": "2022-04-25T12:09:47.402Z"
   },
   {
    "duration": 241,
    "start_time": "2022-04-25T12:09:47.410Z"
   },
   {
    "duration": 237,
    "start_time": "2022-04-25T12:09:47.653Z"
   },
   {
    "duration": 5,
    "start_time": "2022-04-25T12:09:47.892Z"
   },
   {
    "duration": 25,
    "start_time": "2022-04-25T12:09:47.899Z"
   },
   {
    "duration": 8,
    "start_time": "2022-04-25T12:09:47.925Z"
   },
   {
    "duration": 25,
    "start_time": "2022-04-25T12:09:47.936Z"
   },
   {
    "duration": 8,
    "start_time": "2022-04-25T12:09:47.964Z"
   },
   {
    "duration": 9,
    "start_time": "2022-04-25T12:09:47.974Z"
   },
   {
    "duration": 10,
    "start_time": "2022-04-25T12:10:29.793Z"
   },
   {
    "duration": 2,
    "start_time": "2022-04-25T12:10:42.747Z"
   },
   {
    "duration": 61,
    "start_time": "2022-04-25T12:10:42.754Z"
   },
   {
    "duration": 2,
    "start_time": "2022-04-25T12:10:42.818Z"
   },
   {
    "duration": 525,
    "start_time": "2022-04-25T12:10:42.822Z"
   },
   {
    "duration": 5,
    "start_time": "2022-04-25T12:10:43.349Z"
   },
   {
    "duration": 273,
    "start_time": "2022-04-25T12:10:43.355Z"
   },
   {
    "duration": 231,
    "start_time": "2022-04-25T12:10:43.630Z"
   },
   {
    "duration": 6,
    "start_time": "2022-04-25T12:10:43.862Z"
   },
   {
    "duration": 11,
    "start_time": "2022-04-25T12:10:43.869Z"
   },
   {
    "duration": 5,
    "start_time": "2022-04-25T12:10:43.882Z"
   },
   {
    "duration": 49,
    "start_time": "2022-04-25T12:10:43.890Z"
   },
   {
    "duration": 8,
    "start_time": "2022-04-25T12:10:43.941Z"
   },
   {
    "duration": 9,
    "start_time": "2022-04-25T12:10:43.951Z"
   },
   {
    "duration": 8,
    "start_time": "2022-04-25T12:11:50.014Z"
   },
   {
    "duration": 6,
    "start_time": "2022-04-25T12:12:12.726Z"
   },
   {
    "duration": 11,
    "start_time": "2022-04-25T12:12:36.718Z"
   },
   {
    "duration": 9,
    "start_time": "2022-04-25T12:13:08.618Z"
   },
   {
    "duration": 3,
    "start_time": "2022-04-25T12:13:16.875Z"
   },
   {
    "duration": 26,
    "start_time": "2022-04-25T12:13:16.884Z"
   },
   {
    "duration": 3,
    "start_time": "2022-04-25T12:13:16.912Z"
   },
   {
    "duration": 422,
    "start_time": "2022-04-25T12:13:16.917Z"
   },
   {
    "duration": 5,
    "start_time": "2022-04-25T12:13:17.341Z"
   },
   {
    "duration": 229,
    "start_time": "2022-04-25T12:13:17.348Z"
   },
   {
    "duration": 344,
    "start_time": "2022-04-25T12:13:17.579Z"
   },
   {
    "duration": 5,
    "start_time": "2022-04-25T12:13:17.926Z"
   },
   {
    "duration": 15,
    "start_time": "2022-04-25T12:13:17.933Z"
   },
   {
    "duration": 27,
    "start_time": "2022-04-25T12:13:17.949Z"
   },
   {
    "duration": 43,
    "start_time": "2022-04-25T12:13:17.978Z"
   },
   {
    "duration": 8,
    "start_time": "2022-04-25T12:13:18.022Z"
   },
   {
    "duration": 21,
    "start_time": "2022-04-25T12:13:18.032Z"
   },
   {
    "duration": 9,
    "start_time": "2022-04-25T12:13:28.643Z"
   },
   {
    "duration": 3,
    "start_time": "2022-04-25T12:16:13.727Z"
   },
   {
    "duration": 3,
    "start_time": "2022-04-25T12:16:25.227Z"
   },
   {
    "duration": 1015,
    "start_time": "2022-04-25T12:18:19.968Z"
   },
   {
    "duration": 3,
    "start_time": "2022-04-25T12:18:25.358Z"
   },
   {
    "duration": 29,
    "start_time": "2022-04-25T12:18:25.367Z"
   },
   {
    "duration": 3,
    "start_time": "2022-04-25T12:18:25.399Z"
   },
   {
    "duration": 414,
    "start_time": "2022-04-25T12:18:25.403Z"
   },
   {
    "duration": 5,
    "start_time": "2022-04-25T12:18:25.819Z"
   },
   {
    "duration": 244,
    "start_time": "2022-04-25T12:18:25.826Z"
   },
   {
    "duration": 238,
    "start_time": "2022-04-25T12:18:26.072Z"
   },
   {
    "duration": 15,
    "start_time": "2022-04-25T12:18:26.311Z"
   },
   {
    "duration": 8,
    "start_time": "2022-04-25T12:18:26.329Z"
   },
   {
    "duration": 11,
    "start_time": "2022-04-25T12:18:26.339Z"
   },
   {
    "duration": 30,
    "start_time": "2022-04-25T12:18:26.352Z"
   },
   {
    "duration": 8,
    "start_time": "2022-04-25T12:18:26.383Z"
   },
   {
    "duration": 8,
    "start_time": "2022-04-25T12:20:24.680Z"
   },
   {
    "duration": 3,
    "start_time": "2022-04-25T12:20:38.974Z"
   },
   {
    "duration": 885,
    "start_time": "2022-04-25T12:21:23.607Z"
   },
   {
    "duration": 4,
    "start_time": "2022-04-25T12:21:35.465Z"
   },
   {
    "duration": 5216,
    "start_time": "2022-04-25T12:23:20.967Z"
   },
   {
    "duration": 4730,
    "start_time": "2022-04-25T12:24:26.364Z"
   },
   {
    "duration": 3,
    "start_time": "2022-04-25T12:24:37.746Z"
   },
   {
    "duration": 20,
    "start_time": "2022-04-25T12:24:37.762Z"
   },
   {
    "duration": 3,
    "start_time": "2022-04-25T12:24:37.784Z"
   },
   {
    "duration": 374,
    "start_time": "2022-04-25T12:24:37.788Z"
   },
   {
    "duration": 4,
    "start_time": "2022-04-25T12:24:38.164Z"
   },
   {
    "duration": 208,
    "start_time": "2022-04-25T12:24:38.170Z"
   },
   {
    "duration": 211,
    "start_time": "2022-04-25T12:24:38.379Z"
   },
   {
    "duration": 12,
    "start_time": "2022-04-25T12:24:38.592Z"
   },
   {
    "duration": 18,
    "start_time": "2022-04-25T12:24:38.606Z"
   },
   {
    "duration": 10,
    "start_time": "2022-04-25T12:24:38.625Z"
   },
   {
    "duration": 8,
    "start_time": "2022-04-25T12:24:38.637Z"
   },
   {
    "duration": 26,
    "start_time": "2022-04-25T12:24:38.647Z"
   },
   {
    "duration": 7,
    "start_time": "2022-04-25T12:24:38.675Z"
   },
   {
    "duration": 14,
    "start_time": "2022-04-25T12:25:22.704Z"
   },
   {
    "duration": 18,
    "start_time": "2022-04-25T12:25:27.178Z"
   },
   {
    "duration": 13,
    "start_time": "2022-04-25T12:25:41.713Z"
   },
   {
    "duration": 11,
    "start_time": "2022-04-25T12:26:42.331Z"
   },
   {
    "duration": 7,
    "start_time": "2022-04-25T12:27:05.117Z"
   },
   {
    "duration": 13,
    "start_time": "2022-04-25T12:27:32.443Z"
   },
   {
    "duration": 14,
    "start_time": "2022-04-25T12:28:49.674Z"
   },
   {
    "duration": 21,
    "start_time": "2022-04-25T12:32:32.914Z"
   },
   {
    "duration": 32,
    "start_time": "2022-04-25T12:35:50.367Z"
   },
   {
    "duration": 6,
    "start_time": "2022-04-25T12:38:55.055Z"
   },
   {
    "duration": 8,
    "start_time": "2022-04-25T12:40:08.016Z"
   },
   {
    "duration": 9,
    "start_time": "2022-04-25T12:40:24.951Z"
   },
   {
    "duration": 7,
    "start_time": "2022-04-25T12:41:30.153Z"
   },
   {
    "duration": 3,
    "start_time": "2022-04-25T12:41:41.491Z"
   },
   {
    "duration": 29,
    "start_time": "2022-04-25T12:41:41.498Z"
   },
   {
    "duration": 3,
    "start_time": "2022-04-25T12:41:41.530Z"
   },
   {
    "duration": 400,
    "start_time": "2022-04-25T12:41:41.535Z"
   },
   {
    "duration": 6,
    "start_time": "2022-04-25T12:41:41.938Z"
   },
   {
    "duration": 280,
    "start_time": "2022-04-25T12:41:41.948Z"
   },
   {
    "duration": 221,
    "start_time": "2022-04-25T12:41:42.230Z"
   },
   {
    "duration": 15,
    "start_time": "2022-04-25T12:41:42.452Z"
   },
   {
    "duration": 10,
    "start_time": "2022-04-25T12:41:42.469Z"
   },
   {
    "duration": 7,
    "start_time": "2022-04-25T12:41:42.481Z"
   },
   {
    "duration": 34,
    "start_time": "2022-04-25T12:41:42.491Z"
   },
   {
    "duration": 11,
    "start_time": "2022-04-25T12:41:42.527Z"
   },
   {
    "duration": 7,
    "start_time": "2022-04-25T12:42:24.579Z"
   },
   {
    "duration": 9,
    "start_time": "2022-04-25T12:42:40.334Z"
   },
   {
    "duration": 8,
    "start_time": "2022-04-25T12:43:06.024Z"
   },
   {
    "duration": 1701,
    "start_time": "2022-04-25T12:45:41.091Z"
   },
   {
    "duration": 1736,
    "start_time": "2022-04-25T13:25:43.833Z"
   },
   {
    "duration": 1567,
    "start_time": "2022-04-25T13:28:22.651Z"
   },
   {
    "duration": 15,
    "start_time": "2022-04-25T13:29:25.474Z"
   },
   {
    "duration": 4,
    "start_time": "2022-04-25T13:30:42.483Z"
   },
   {
    "duration": 6,
    "start_time": "2022-04-25T13:31:06.399Z"
   },
   {
    "duration": 10,
    "start_time": "2022-04-25T13:31:21.388Z"
   },
   {
    "duration": 14,
    "start_time": "2022-04-25T13:31:58.564Z"
   },
   {
    "duration": 9,
    "start_time": "2022-04-25T13:33:55.190Z"
   },
   {
    "duration": 15,
    "start_time": "2022-04-25T13:37:04.299Z"
   },
   {
    "duration": 15,
    "start_time": "2022-04-25T13:37:40.706Z"
   },
   {
    "duration": 10,
    "start_time": "2022-04-25T13:37:57.543Z"
   },
   {
    "duration": 3,
    "start_time": "2022-04-25T13:38:08.009Z"
   },
   {
    "duration": 37,
    "start_time": "2022-04-25T13:38:08.016Z"
   },
   {
    "duration": 4,
    "start_time": "2022-04-25T13:38:08.056Z"
   },
   {
    "duration": 573,
    "start_time": "2022-04-25T13:38:08.062Z"
   },
   {
    "duration": 7,
    "start_time": "2022-04-25T13:38:08.638Z"
   },
   {
    "duration": 359,
    "start_time": "2022-04-25T13:38:08.647Z"
   },
   {
    "duration": 327,
    "start_time": "2022-04-25T13:38:09.022Z"
   },
   {
    "duration": 16,
    "start_time": "2022-04-25T13:38:09.353Z"
   },
   {
    "duration": 9,
    "start_time": "2022-04-25T13:38:09.372Z"
   },
   {
    "duration": 7,
    "start_time": "2022-04-25T13:38:09.383Z"
   },
   {
    "duration": 8,
    "start_time": "2022-04-25T13:38:09.421Z"
   },
   {
    "duration": 35,
    "start_time": "2022-04-25T13:38:09.431Z"
   },
   {
    "duration": 11,
    "start_time": "2022-04-25T13:38:09.468Z"
   },
   {
    "duration": 74,
    "start_time": "2022-04-25T13:38:09.481Z"
   },
   {
    "duration": 13,
    "start_time": "2022-04-25T13:38:09.558Z"
   },
   {
    "duration": 18,
    "start_time": "2022-04-25T13:38:22.499Z"
   },
   {
    "duration": 13,
    "start_time": "2022-04-25T13:38:50.062Z"
   },
   {
    "duration": 24,
    "start_time": "2022-04-25T13:38:51.500Z"
   },
   {
    "duration": 13,
    "start_time": "2022-04-25T13:38:59.576Z"
   },
   {
    "duration": 4,
    "start_time": "2022-04-25T13:39:25.299Z"
   },
   {
    "duration": 41,
    "start_time": "2022-04-25T13:39:25.307Z"
   },
   {
    "duration": 3,
    "start_time": "2022-04-25T13:39:25.352Z"
   },
   {
    "duration": 576,
    "start_time": "2022-04-25T13:39:25.358Z"
   },
   {
    "duration": 6,
    "start_time": "2022-04-25T13:39:25.937Z"
   },
   {
    "duration": 380,
    "start_time": "2022-04-25T13:39:25.945Z"
   },
   {
    "duration": 328,
    "start_time": "2022-04-25T13:39:26.331Z"
   },
   {
    "duration": 21,
    "start_time": "2022-04-25T13:39:26.662Z"
   },
   {
    "duration": 10,
    "start_time": "2022-04-25T13:39:26.685Z"
   },
   {
    "duration": 28,
    "start_time": "2022-04-25T13:39:26.698Z"
   },
   {
    "duration": 11,
    "start_time": "2022-04-25T13:39:26.728Z"
   },
   {
    "duration": 49,
    "start_time": "2022-04-25T13:39:26.741Z"
   },
   {
    "duration": 16,
    "start_time": "2022-04-25T13:39:26.792Z"
   },
   {
    "duration": 55,
    "start_time": "2022-04-25T13:39:26.822Z"
   },
   {
    "duration": 14,
    "start_time": "2022-04-25T13:39:26.879Z"
   },
   {
    "duration": 12,
    "start_time": "2022-04-25T13:39:52.507Z"
   },
   {
    "duration": 14,
    "start_time": "2022-04-25T13:39:58.901Z"
   },
   {
    "duration": 82,
    "start_time": "2022-04-25T13:41:53.456Z"
   },
   {
    "duration": 32,
    "start_time": "2022-04-25T13:43:15.872Z"
   },
   {
    "duration": 4,
    "start_time": "2022-04-25T13:43:31.944Z"
   },
   {
    "duration": 36,
    "start_time": "2022-04-25T13:43:31.951Z"
   },
   {
    "duration": 4,
    "start_time": "2022-04-25T13:43:31.989Z"
   },
   {
    "duration": 503,
    "start_time": "2022-04-25T13:43:31.996Z"
   },
   {
    "duration": 6,
    "start_time": "2022-04-25T13:43:32.502Z"
   },
   {
    "duration": 274,
    "start_time": "2022-04-25T13:43:32.510Z"
   },
   {
    "duration": 399,
    "start_time": "2022-04-25T13:43:32.786Z"
   },
   {
    "duration": 18,
    "start_time": "2022-04-25T13:43:33.187Z"
   },
   {
    "duration": 26,
    "start_time": "2022-04-25T13:43:33.207Z"
   },
   {
    "duration": 13,
    "start_time": "2022-04-25T13:43:33.235Z"
   },
   {
    "duration": 16,
    "start_time": "2022-04-25T13:43:33.250Z"
   },
   {
    "duration": 43,
    "start_time": "2022-04-25T13:43:33.269Z"
   },
   {
    "duration": 11,
    "start_time": "2022-04-25T13:43:33.323Z"
   },
   {
    "duration": 48,
    "start_time": "2022-04-25T13:43:33.336Z"
   },
   {
    "duration": 49,
    "start_time": "2022-04-25T13:43:33.387Z"
   },
   {
    "duration": 20,
    "start_time": "2022-04-25T13:46:53.908Z"
   },
   {
    "duration": 10,
    "start_time": "2022-04-25T13:47:26.246Z"
   },
   {
    "duration": 16,
    "start_time": "2022-04-25T13:47:34.729Z"
   },
   {
    "duration": 20,
    "start_time": "2022-04-25T13:48:14.448Z"
   },
   {
    "duration": 230,
    "start_time": "2022-04-25T13:48:56.790Z"
   },
   {
    "duration": 192,
    "start_time": "2022-04-25T13:50:54.737Z"
   },
   {
    "duration": 202,
    "start_time": "2022-04-25T13:51:36.325Z"
   },
   {
    "duration": 185,
    "start_time": "2022-04-25T13:51:50.879Z"
   },
   {
    "duration": 185,
    "start_time": "2022-04-25T13:52:06.870Z"
   },
   {
    "duration": 29,
    "start_time": "2022-04-25T13:52:36.983Z"
   },
   {
    "duration": 10,
    "start_time": "2022-04-25T13:53:12.603Z"
   },
   {
    "duration": 18,
    "start_time": "2022-04-25T13:53:20.852Z"
   },
   {
    "duration": 10,
    "start_time": "2022-04-25T13:53:46.615Z"
   },
   {
    "duration": 18,
    "start_time": "2022-04-25T13:58:14.600Z"
   },
   {
    "duration": 3,
    "start_time": "2022-04-25T14:00:27.248Z"
   },
   {
    "duration": 13,
    "start_time": "2022-04-25T14:00:58.904Z"
   },
   {
    "duration": 4,
    "start_time": "2022-04-25T14:01:11.720Z"
   },
   {
    "duration": 26,
    "start_time": "2022-04-25T14:01:11.729Z"
   },
   {
    "duration": 3,
    "start_time": "2022-04-25T14:01:11.757Z"
   },
   {
    "duration": 440,
    "start_time": "2022-04-25T14:01:11.761Z"
   },
   {
    "duration": 8,
    "start_time": "2022-04-25T14:01:12.204Z"
   },
   {
    "duration": 354,
    "start_time": "2022-04-25T14:01:12.214Z"
   },
   {
    "duration": 220,
    "start_time": "2022-04-25T14:01:12.570Z"
   },
   {
    "duration": 34,
    "start_time": "2022-04-25T14:01:12.791Z"
   },
   {
    "duration": 6,
    "start_time": "2022-04-25T14:01:12.827Z"
   },
   {
    "duration": 6,
    "start_time": "2022-04-25T14:01:12.835Z"
   },
   {
    "duration": 7,
    "start_time": "2022-04-25T14:01:12.844Z"
   },
   {
    "duration": 29,
    "start_time": "2022-04-25T14:01:12.853Z"
   },
   {
    "duration": 13,
    "start_time": "2022-04-25T14:01:12.923Z"
   },
   {
    "duration": 32,
    "start_time": "2022-04-25T14:01:12.938Z"
   },
   {
    "duration": 13,
    "start_time": "2022-04-25T14:01:12.972Z"
   },
   {
    "duration": 0,
    "start_time": "2022-04-25T14:01:12.987Z"
   },
   {
    "duration": 13,
    "start_time": "2022-04-25T14:01:29.136Z"
   },
   {
    "duration": 203,
    "start_time": "2022-04-25T14:02:31.935Z"
   },
   {
    "duration": 10,
    "start_time": "2022-04-25T14:02:41.771Z"
   },
   {
    "duration": 16,
    "start_time": "2022-04-25T14:03:06.075Z"
   },
   {
    "duration": 13,
    "start_time": "2022-04-25T14:54:05.257Z"
   },
   {
    "duration": 8,
    "start_time": "2022-04-25T14:55:34.679Z"
   },
   {
    "duration": 10,
    "start_time": "2022-04-25T14:56:05.774Z"
   },
   {
    "duration": 11,
    "start_time": "2022-04-25T14:56:18.779Z"
   },
   {
    "duration": 6,
    "start_time": "2022-04-25T14:56:27.256Z"
   },
   {
    "duration": 28,
    "start_time": "2022-04-25T14:56:27.265Z"
   },
   {
    "duration": 4,
    "start_time": "2022-04-25T14:56:27.296Z"
   },
   {
    "duration": 407,
    "start_time": "2022-04-25T14:56:27.302Z"
   },
   {
    "duration": 5,
    "start_time": "2022-04-25T14:56:27.712Z"
   },
   {
    "duration": 334,
    "start_time": "2022-04-25T14:56:27.719Z"
   },
   {
    "duration": 419,
    "start_time": "2022-04-25T14:56:28.055Z"
   },
   {
    "duration": 23,
    "start_time": "2022-04-25T14:56:28.477Z"
   },
   {
    "duration": 26,
    "start_time": "2022-04-25T14:56:28.503Z"
   },
   {
    "duration": 8,
    "start_time": "2022-04-25T14:56:28.531Z"
   },
   {
    "duration": 8,
    "start_time": "2022-04-25T14:56:28.543Z"
   },
   {
    "duration": 70,
    "start_time": "2022-04-25T14:56:28.553Z"
   },
   {
    "duration": 57,
    "start_time": "2022-04-25T14:56:28.626Z"
   },
   {
    "duration": 12,
    "start_time": "2022-04-25T14:56:28.686Z"
   },
   {
    "duration": 33,
    "start_time": "2022-04-25T14:56:28.700Z"
   },
   {
    "duration": 6,
    "start_time": "2022-04-25T14:59:01.933Z"
   },
   {
    "duration": 3099,
    "start_time": "2022-04-25T14:59:38.073Z"
   },
   {
    "duration": 3,
    "start_time": "2022-04-25T15:00:02.472Z"
   },
   {
    "duration": 29,
    "start_time": "2022-04-25T15:00:02.481Z"
   },
   {
    "duration": 3,
    "start_time": "2022-04-25T15:00:02.513Z"
   },
   {
    "duration": 425,
    "start_time": "2022-04-25T15:00:02.518Z"
   },
   {
    "duration": 6,
    "start_time": "2022-04-25T15:00:02.945Z"
   },
   {
    "duration": 324,
    "start_time": "2022-04-25T15:00:02.952Z"
   },
   {
    "duration": 275,
    "start_time": "2022-04-25T15:00:03.278Z"
   },
   {
    "duration": 15,
    "start_time": "2022-04-25T15:00:03.554Z"
   },
   {
    "duration": 12,
    "start_time": "2022-04-25T15:00:03.571Z"
   },
   {
    "duration": 15,
    "start_time": "2022-04-25T15:00:03.585Z"
   },
   {
    "duration": 20,
    "start_time": "2022-04-25T15:00:03.603Z"
   },
   {
    "duration": 28,
    "start_time": "2022-04-25T15:00:03.625Z"
   },
   {
    "duration": 36,
    "start_time": "2022-04-25T15:00:03.655Z"
   },
   {
    "duration": 9,
    "start_time": "2022-04-25T15:00:03.693Z"
   },
   {
    "duration": 20,
    "start_time": "2022-04-25T15:00:03.722Z"
   },
   {
    "duration": 8,
    "start_time": "2022-04-25T15:00:03.744Z"
   },
   {
    "duration": 12,
    "start_time": "2022-04-25T15:00:57.900Z"
   },
   {
    "duration": 20,
    "start_time": "2022-04-25T15:01:39.071Z"
   },
   {
    "duration": 41,
    "start_time": "2022-04-25T15:06:30.736Z"
   },
   {
    "duration": 15,
    "start_time": "2022-04-25T15:07:06.420Z"
   },
   {
    "duration": 19,
    "start_time": "2022-04-25T15:20:33.045Z"
   },
   {
    "duration": 11,
    "start_time": "2022-04-25T15:20:52.023Z"
   },
   {
    "duration": 42,
    "start_time": "2022-04-25T15:21:04.399Z"
   },
   {
    "duration": 21,
    "start_time": "2022-04-25T15:21:18.299Z"
   },
   {
    "duration": 7,
    "start_time": "2022-04-25T15:22:07.642Z"
   },
   {
    "duration": 9,
    "start_time": "2022-04-25T15:22:40.862Z"
   },
   {
    "duration": 9,
    "start_time": "2022-04-25T15:23:42.259Z"
   },
   {
    "duration": 23,
    "start_time": "2022-04-25T15:25:57.332Z"
   },
   {
    "duration": 8,
    "start_time": "2022-04-25T15:26:16.748Z"
   },
   {
    "duration": 17,
    "start_time": "2022-04-25T15:27:42.991Z"
   },
   {
    "duration": 3155,
    "start_time": "2022-04-25T15:28:55.025Z"
   },
   {
    "duration": 3,
    "start_time": "2022-04-25T15:29:23.950Z"
   },
   {
    "duration": 32,
    "start_time": "2022-04-25T15:29:23.960Z"
   },
   {
    "duration": 3,
    "start_time": "2022-04-25T15:29:23.994Z"
   },
   {
    "duration": 574,
    "start_time": "2022-04-25T15:29:23.999Z"
   },
   {
    "duration": 6,
    "start_time": "2022-04-25T15:29:24.576Z"
   },
   {
    "duration": 300,
    "start_time": "2022-04-25T15:29:24.583Z"
   },
   {
    "duration": 228,
    "start_time": "2022-04-25T15:29:24.885Z"
   },
   {
    "duration": 13,
    "start_time": "2022-04-25T15:29:25.122Z"
   },
   {
    "duration": 7,
    "start_time": "2022-04-25T15:29:25.137Z"
   },
   {
    "duration": 7,
    "start_time": "2022-04-25T15:29:25.146Z"
   },
   {
    "duration": 9,
    "start_time": "2022-04-25T15:29:25.155Z"
   },
   {
    "duration": 64,
    "start_time": "2022-04-25T15:29:25.165Z"
   },
   {
    "duration": 9,
    "start_time": "2022-04-25T15:29:25.231Z"
   },
   {
    "duration": 17,
    "start_time": "2022-04-25T15:29:25.242Z"
   },
   {
    "duration": 7,
    "start_time": "2022-04-25T15:29:25.261Z"
   },
   {
    "duration": 21,
    "start_time": "2022-04-25T15:29:25.270Z"
   },
   {
    "duration": 23,
    "start_time": "2022-04-25T15:29:25.323Z"
   },
   {
    "duration": 6,
    "start_time": "2022-04-25T15:29:25.348Z"
   },
   {
    "duration": 4,
    "start_time": "2022-04-25T15:29:25.356Z"
   },
   {
    "duration": 3266,
    "start_time": "2022-04-25T15:29:30.753Z"
   },
   {
    "duration": 3354,
    "start_time": "2022-04-25T15:32:38.432Z"
   },
   {
    "duration": 4,
    "start_time": "2022-04-25T15:32:52.273Z"
   },
   {
    "duration": 39,
    "start_time": "2022-04-25T15:32:52.279Z"
   },
   {
    "duration": 3,
    "start_time": "2022-04-25T15:32:52.321Z"
   },
   {
    "duration": 403,
    "start_time": "2022-04-25T15:32:52.326Z"
   },
   {
    "duration": 4,
    "start_time": "2022-04-25T15:32:52.731Z"
   },
   {
    "duration": 243,
    "start_time": "2022-04-25T15:32:52.737Z"
   },
   {
    "duration": 344,
    "start_time": "2022-04-25T15:32:52.981Z"
   },
   {
    "duration": 20,
    "start_time": "2022-04-25T15:32:53.328Z"
   },
   {
    "duration": 9,
    "start_time": "2022-04-25T15:32:53.350Z"
   },
   {
    "duration": 8,
    "start_time": "2022-04-25T15:32:53.361Z"
   },
   {
    "duration": 7,
    "start_time": "2022-04-25T15:32:53.372Z"
   },
   {
    "duration": 69,
    "start_time": "2022-04-25T15:32:53.381Z"
   },
   {
    "duration": 9,
    "start_time": "2022-04-25T15:32:53.454Z"
   },
   {
    "duration": 62,
    "start_time": "2022-04-25T15:32:53.465Z"
   },
   {
    "duration": 8,
    "start_time": "2022-04-25T15:32:53.529Z"
   },
   {
    "duration": 21,
    "start_time": "2022-04-25T15:32:53.539Z"
   },
   {
    "duration": 61,
    "start_time": "2022-04-25T15:32:53.563Z"
   },
   {
    "duration": 8,
    "start_time": "2022-04-25T15:32:53.626Z"
   },
   {
    "duration": 10,
    "start_time": "2022-04-25T15:32:53.635Z"
   },
   {
    "duration": 6,
    "start_time": "2022-04-25T15:32:53.647Z"
   },
   {
    "duration": 3177,
    "start_time": "2022-04-25T15:39:11.523Z"
   },
   {
    "duration": 5,
    "start_time": "2022-04-25T15:41:02.571Z"
   },
   {
    "duration": 10,
    "start_time": "2022-04-25T15:41:29.568Z"
   },
   {
    "duration": 8,
    "start_time": "2022-04-25T15:43:03.335Z"
   },
   {
    "duration": 16,
    "start_time": "2022-04-25T15:43:16.122Z"
   },
   {
    "duration": 13,
    "start_time": "2022-04-25T15:43:39.086Z"
   },
   {
    "duration": 3,
    "start_time": "2022-04-25T15:44:00.004Z"
   },
   {
    "duration": 30,
    "start_time": "2022-04-25T15:44:00.012Z"
   },
   {
    "duration": 3,
    "start_time": "2022-04-25T15:44:00.045Z"
   },
   {
    "duration": 485,
    "start_time": "2022-04-25T15:44:00.050Z"
   },
   {
    "duration": 4,
    "start_time": "2022-04-25T15:44:00.538Z"
   },
   {
    "duration": 335,
    "start_time": "2022-04-25T15:44:00.544Z"
   },
   {
    "duration": 255,
    "start_time": "2022-04-25T15:44:00.881Z"
   },
   {
    "duration": 15,
    "start_time": "2022-04-25T15:44:01.138Z"
   },
   {
    "duration": 26,
    "start_time": "2022-04-25T15:44:01.156Z"
   },
   {
    "duration": 27,
    "start_time": "2022-04-25T15:44:01.183Z"
   },
   {
    "duration": 28,
    "start_time": "2022-04-25T15:44:01.213Z"
   },
   {
    "duration": 60,
    "start_time": "2022-04-25T15:44:01.244Z"
   },
   {
    "duration": 13,
    "start_time": "2022-04-25T15:44:01.307Z"
   },
   {
    "duration": 53,
    "start_time": "2022-04-25T15:44:01.322Z"
   },
   {
    "duration": 6,
    "start_time": "2022-04-25T15:44:01.377Z"
   },
   {
    "duration": 43,
    "start_time": "2022-04-25T15:44:01.385Z"
   },
   {
    "duration": 54,
    "start_time": "2022-04-25T15:44:01.430Z"
   },
   {
    "duration": 11,
    "start_time": "2022-04-25T15:44:01.487Z"
   },
   {
    "duration": 34,
    "start_time": "2022-04-25T15:44:01.501Z"
   },
   {
    "duration": 8,
    "start_time": "2022-04-25T15:44:28.909Z"
   },
   {
    "duration": 21,
    "start_time": "2022-04-25T15:49:49.959Z"
   },
   {
    "duration": 10,
    "start_time": "2022-04-25T15:49:58.455Z"
   },
   {
    "duration": 3031,
    "start_time": "2022-04-25T15:50:09.630Z"
   },
   {
    "duration": 16,
    "start_time": "2022-04-25T15:50:17.824Z"
   },
   {
    "duration": 25,
    "start_time": "2022-04-25T15:50:17.843Z"
   },
   {
    "duration": 4,
    "start_time": "2022-04-25T15:50:17.870Z"
   },
   {
    "duration": 576,
    "start_time": "2022-04-25T15:50:17.877Z"
   },
   {
    "duration": 5,
    "start_time": "2022-04-25T15:50:18.455Z"
   },
   {
    "duration": 265,
    "start_time": "2022-04-25T15:50:18.462Z"
   },
   {
    "duration": 230,
    "start_time": "2022-04-25T15:50:18.728Z"
   },
   {
    "duration": 19,
    "start_time": "2022-04-25T15:50:18.960Z"
   },
   {
    "duration": 7,
    "start_time": "2022-04-25T15:50:18.981Z"
   },
   {
    "duration": 34,
    "start_time": "2022-04-25T15:50:18.990Z"
   },
   {
    "duration": 8,
    "start_time": "2022-04-25T15:50:19.027Z"
   },
   {
    "duration": 63,
    "start_time": "2022-04-25T15:50:19.038Z"
   },
   {
    "duration": 14,
    "start_time": "2022-04-25T15:50:19.123Z"
   },
   {
    "duration": 31,
    "start_time": "2022-04-25T15:50:19.139Z"
   },
   {
    "duration": 5,
    "start_time": "2022-04-25T15:50:19.171Z"
   },
   {
    "duration": 45,
    "start_time": "2022-04-25T15:50:19.178Z"
   },
   {
    "duration": 28,
    "start_time": "2022-04-25T15:50:19.225Z"
   },
   {
    "duration": 6,
    "start_time": "2022-04-25T15:50:19.256Z"
   },
   {
    "duration": 5,
    "start_time": "2022-04-25T15:53:07.351Z"
   },
   {
    "duration": 11,
    "start_time": "2022-04-25T15:53:09.483Z"
   },
   {
    "duration": 14,
    "start_time": "2022-04-25T15:54:33.230Z"
   },
   {
    "duration": 8,
    "start_time": "2022-04-25T15:54:33.987Z"
   },
   {
    "duration": 0,
    "start_time": "2022-04-25T15:54:41.274Z"
   },
   {
    "duration": 0,
    "start_time": "2022-04-25T15:54:41.275Z"
   },
   {
    "duration": 0,
    "start_time": "2022-04-25T15:54:41.276Z"
   },
   {
    "duration": 0,
    "start_time": "2022-04-25T15:54:41.278Z"
   },
   {
    "duration": 0,
    "start_time": "2022-04-25T15:54:41.279Z"
   },
   {
    "duration": 0,
    "start_time": "2022-04-25T15:54:41.280Z"
   },
   {
    "duration": 0,
    "start_time": "2022-04-25T15:54:41.281Z"
   },
   {
    "duration": 0,
    "start_time": "2022-04-25T15:54:41.282Z"
   },
   {
    "duration": 0,
    "start_time": "2022-04-25T15:54:41.284Z"
   },
   {
    "duration": 0,
    "start_time": "2022-04-25T15:54:41.286Z"
   },
   {
    "duration": 0,
    "start_time": "2022-04-25T15:54:41.287Z"
   },
   {
    "duration": 0,
    "start_time": "2022-04-25T15:54:41.288Z"
   },
   {
    "duration": 0,
    "start_time": "2022-04-25T15:54:41.290Z"
   },
   {
    "duration": 0,
    "start_time": "2022-04-25T15:54:41.291Z"
   },
   {
    "duration": 0,
    "start_time": "2022-04-25T15:54:41.292Z"
   },
   {
    "duration": 0,
    "start_time": "2022-04-25T15:54:41.293Z"
   },
   {
    "duration": 0,
    "start_time": "2022-04-25T15:54:41.294Z"
   },
   {
    "duration": 0,
    "start_time": "2022-04-25T15:54:41.295Z"
   },
   {
    "duration": 2,
    "start_time": "2022-04-25T15:54:50.303Z"
   },
   {
    "duration": 33,
    "start_time": "2022-04-25T15:54:50.309Z"
   },
   {
    "duration": 3,
    "start_time": "2022-04-25T15:54:50.344Z"
   },
   {
    "duration": 409,
    "start_time": "2022-04-25T15:54:50.349Z"
   },
   {
    "duration": 6,
    "start_time": "2022-04-25T15:54:50.760Z"
   },
   {
    "duration": 230,
    "start_time": "2022-04-25T15:54:50.768Z"
   },
   {
    "duration": 354,
    "start_time": "2022-04-25T15:54:51.000Z"
   },
   {
    "duration": 21,
    "start_time": "2022-04-25T15:54:51.357Z"
   },
   {
    "duration": 6,
    "start_time": "2022-04-25T15:54:51.380Z"
   },
   {
    "duration": 6,
    "start_time": "2022-04-25T15:54:51.388Z"
   },
   {
    "duration": 32,
    "start_time": "2022-04-25T15:54:51.396Z"
   },
   {
    "duration": 61,
    "start_time": "2022-04-25T15:54:51.430Z"
   },
   {
    "duration": 31,
    "start_time": "2022-04-25T15:54:51.494Z"
   },
   {
    "duration": 31,
    "start_time": "2022-04-25T15:54:51.527Z"
   },
   {
    "duration": 5,
    "start_time": "2022-04-25T15:54:51.560Z"
   },
   {
    "duration": 27,
    "start_time": "2022-04-25T15:54:51.567Z"
   },
   {
    "duration": 35,
    "start_time": "2022-04-25T15:54:51.597Z"
   },
   {
    "duration": 5,
    "start_time": "2022-04-25T15:54:51.634Z"
   },
   {
    "duration": 6,
    "start_time": "2022-04-25T15:55:14.593Z"
   },
   {
    "duration": 27,
    "start_time": "2022-04-25T15:57:43.037Z"
   },
   {
    "duration": 5,
    "start_time": "2022-04-25T15:58:46.095Z"
   },
   {
    "duration": 7,
    "start_time": "2022-04-25T15:59:33.855Z"
   },
   {
    "duration": 10,
    "start_time": "2022-04-25T16:00:03.125Z"
   },
   {
    "duration": 7,
    "start_time": "2022-04-25T16:00:06.861Z"
   },
   {
    "duration": 33,
    "start_time": "2022-04-25T16:00:15.830Z"
   },
   {
    "duration": 23,
    "start_time": "2022-04-25T16:01:01.096Z"
   },
   {
    "duration": 24,
    "start_time": "2022-04-25T16:01:01.842Z"
   },
   {
    "duration": 17,
    "start_time": "2022-04-25T16:01:02.532Z"
   },
   {
    "duration": 9,
    "start_time": "2022-04-25T16:45:33.069Z"
   },
   {
    "duration": 21,
    "start_time": "2022-04-25T16:48:57.095Z"
   },
   {
    "duration": 4,
    "start_time": "2022-04-25T16:49:48.090Z"
   },
   {
    "duration": 10,
    "start_time": "2022-04-25T16:50:09.143Z"
   },
   {
    "duration": 13,
    "start_time": "2022-04-25T16:51:38.487Z"
   },
   {
    "duration": 13,
    "start_time": "2022-04-25T16:51:59.921Z"
   },
   {
    "duration": 13,
    "start_time": "2022-04-25T16:52:09.319Z"
   },
   {
    "duration": 8,
    "start_time": "2022-04-25T16:52:45.695Z"
   },
   {
    "duration": 10,
    "start_time": "2022-04-25T16:53:37.710Z"
   },
   {
    "duration": 3,
    "start_time": "2022-04-25T16:53:47.143Z"
   },
   {
    "duration": 23,
    "start_time": "2022-04-25T16:53:47.149Z"
   },
   {
    "duration": 3,
    "start_time": "2022-04-25T16:53:47.174Z"
   },
   {
    "duration": 409,
    "start_time": "2022-04-25T16:53:47.179Z"
   },
   {
    "duration": 5,
    "start_time": "2022-04-25T16:53:47.591Z"
   },
   {
    "duration": 281,
    "start_time": "2022-04-25T16:53:47.598Z"
   },
   {
    "duration": 225,
    "start_time": "2022-04-25T16:53:47.881Z"
   },
   {
    "duration": 25,
    "start_time": "2022-04-25T16:53:48.108Z"
   },
   {
    "duration": 18,
    "start_time": "2022-04-25T16:53:48.135Z"
   },
   {
    "duration": 45,
    "start_time": "2022-04-25T16:53:48.155Z"
   },
   {
    "duration": 19,
    "start_time": "2022-04-25T16:53:48.203Z"
   },
   {
    "duration": 42,
    "start_time": "2022-04-25T16:53:48.224Z"
   },
   {
    "duration": 9,
    "start_time": "2022-04-25T16:53:48.268Z"
   },
   {
    "duration": 42,
    "start_time": "2022-04-25T16:53:48.279Z"
   },
   {
    "duration": 5,
    "start_time": "2022-04-25T16:53:48.323Z"
   },
   {
    "duration": 11,
    "start_time": "2022-04-25T16:53:48.330Z"
   },
   {
    "duration": 28,
    "start_time": "2022-04-25T16:53:48.343Z"
   },
   {
    "duration": 21,
    "start_time": "2022-04-25T16:53:48.373Z"
   },
   {
    "duration": 41,
    "start_time": "2022-04-25T16:53:48.395Z"
   },
   {
    "duration": 11,
    "start_time": "2022-04-25T16:53:48.438Z"
   },
   {
    "duration": 22,
    "start_time": "2022-04-25T16:53:48.451Z"
   },
   {
    "duration": 5,
    "start_time": "2022-04-25T16:54:33.633Z"
   },
   {
    "duration": 3,
    "start_time": "2022-04-25T16:54:43.507Z"
   },
   {
    "duration": 21,
    "start_time": "2022-04-25T16:54:43.515Z"
   },
   {
    "duration": 2,
    "start_time": "2022-04-25T16:54:43.544Z"
   },
   {
    "duration": 383,
    "start_time": "2022-04-25T16:54:43.552Z"
   },
   {
    "duration": 6,
    "start_time": "2022-04-25T16:54:43.937Z"
   },
   {
    "duration": 216,
    "start_time": "2022-04-25T16:54:43.944Z"
   },
   {
    "duration": 194,
    "start_time": "2022-04-25T16:54:44.163Z"
   },
   {
    "duration": 13,
    "start_time": "2022-04-25T16:54:44.359Z"
   },
   {
    "duration": 7,
    "start_time": "2022-04-25T16:54:44.373Z"
   },
   {
    "duration": 6,
    "start_time": "2022-04-25T16:54:44.381Z"
   },
   {
    "duration": 5,
    "start_time": "2022-04-25T16:54:44.389Z"
   },
   {
    "duration": 52,
    "start_time": "2022-04-25T16:54:44.396Z"
   },
   {
    "duration": 8,
    "start_time": "2022-04-25T16:54:44.451Z"
   },
   {
    "duration": 27,
    "start_time": "2022-04-25T16:54:44.461Z"
   },
   {
    "duration": 34,
    "start_time": "2022-04-25T16:54:44.490Z"
   },
   {
    "duration": 12,
    "start_time": "2022-04-25T16:54:44.525Z"
   },
   {
    "duration": 21,
    "start_time": "2022-04-25T16:54:44.539Z"
   },
   {
    "duration": 20,
    "start_time": "2022-04-25T16:54:44.562Z"
   },
   {
    "duration": 52,
    "start_time": "2022-04-25T16:54:44.583Z"
   },
   {
    "duration": 6,
    "start_time": "2022-04-25T16:54:44.637Z"
   },
   {
    "duration": 90,
    "start_time": "2022-04-25T16:54:44.644Z"
   },
   {
    "duration": 8,
    "start_time": "2022-04-25T17:07:26.981Z"
   },
   {
    "duration": 3069,
    "start_time": "2022-04-25T17:07:44.069Z"
   },
   {
    "duration": 3,
    "start_time": "2022-04-25T17:07:55.938Z"
   },
   {
    "duration": 33,
    "start_time": "2022-04-25T17:07:55.946Z"
   },
   {
    "duration": 3,
    "start_time": "2022-04-25T17:07:55.980Z"
   },
   {
    "duration": 413,
    "start_time": "2022-04-25T17:07:55.985Z"
   },
   {
    "duration": 4,
    "start_time": "2022-04-25T17:07:56.400Z"
   },
   {
    "duration": 221,
    "start_time": "2022-04-25T17:07:56.406Z"
   },
   {
    "duration": 207,
    "start_time": "2022-04-25T17:07:56.629Z"
   },
   {
    "duration": 13,
    "start_time": "2022-04-25T17:07:56.837Z"
   },
   {
    "duration": 6,
    "start_time": "2022-04-25T17:07:56.852Z"
   },
   {
    "duration": 6,
    "start_time": "2022-04-25T17:07:56.859Z"
   },
   {
    "duration": 6,
    "start_time": "2022-04-25T17:07:56.867Z"
   },
   {
    "duration": 65,
    "start_time": "2022-04-25T17:07:56.874Z"
   },
   {
    "duration": 8,
    "start_time": "2022-04-25T17:07:56.940Z"
   },
   {
    "duration": 29,
    "start_time": "2022-04-25T17:07:56.950Z"
   },
   {
    "duration": 7,
    "start_time": "2022-04-25T17:07:56.981Z"
   },
   {
    "duration": 33,
    "start_time": "2022-04-25T17:07:56.989Z"
   },
   {
    "duration": 22,
    "start_time": "2022-04-25T17:07:57.024Z"
   },
   {
    "duration": 25,
    "start_time": "2022-04-25T17:07:57.048Z"
   },
   {
    "duration": 22,
    "start_time": "2022-04-25T17:07:57.075Z"
   },
   {
    "duration": 5,
    "start_time": "2022-04-25T17:07:57.122Z"
   },
   {
    "duration": 11,
    "start_time": "2022-04-25T17:07:57.129Z"
   },
   {
    "duration": 12,
    "start_time": "2022-04-25T17:08:26.698Z"
   },
   {
    "duration": 19,
    "start_time": "2022-04-25T17:11:01.899Z"
   },
   {
    "duration": 23,
    "start_time": "2022-04-25T17:12:52.468Z"
   },
   {
    "duration": 5,
    "start_time": "2022-04-25T17:13:00.654Z"
   },
   {
    "duration": 18,
    "start_time": "2022-04-25T17:13:32.906Z"
   },
   {
    "duration": 7,
    "start_time": "2022-04-25T17:14:00.973Z"
   },
   {
    "duration": 19,
    "start_time": "2022-04-25T17:15:59.062Z"
   },
   {
    "duration": 12,
    "start_time": "2022-04-25T17:16:13.596Z"
   },
   {
    "duration": 12,
    "start_time": "2022-04-25T17:17:14.841Z"
   },
   {
    "duration": 14,
    "start_time": "2022-04-25T17:43:24.289Z"
   },
   {
    "duration": 3163,
    "start_time": "2022-04-25T17:45:56.971Z"
   },
   {
    "duration": 0,
    "start_time": "2022-04-25T17:46:00.136Z"
   },
   {
    "duration": 3,
    "start_time": "2022-04-25T17:46:10.159Z"
   },
   {
    "duration": 70,
    "start_time": "2022-04-25T17:46:10.168Z"
   },
   {
    "duration": 3,
    "start_time": "2022-04-25T17:46:10.273Z"
   },
   {
    "duration": 1758,
    "start_time": "2022-04-25T17:46:10.279Z"
   },
   {
    "duration": 5,
    "start_time": "2022-04-25T17:46:12.039Z"
   },
   {
    "duration": 221,
    "start_time": "2022-04-25T17:46:12.046Z"
   },
   {
    "duration": 216,
    "start_time": "2022-04-25T17:46:12.269Z"
   },
   {
    "duration": 3238,
    "start_time": "2022-04-25T17:46:12.487Z"
   },
   {
    "duration": 0,
    "start_time": "2022-04-25T17:46:15.727Z"
   },
   {
    "duration": 0,
    "start_time": "2022-04-25T17:46:15.728Z"
   },
   {
    "duration": 0,
    "start_time": "2022-04-25T17:46:15.729Z"
   },
   {
    "duration": 15,
    "start_time": "2022-04-25T17:46:34.391Z"
   },
   {
    "duration": 12,
    "start_time": "2022-04-25T17:47:52.375Z"
   },
   {
    "duration": 7,
    "start_time": "2022-04-25T17:54:07.263Z"
   },
   {
    "duration": 3,
    "start_time": "2022-04-25T17:54:12.797Z"
   },
   {
    "duration": 28,
    "start_time": "2022-04-25T17:54:12.805Z"
   },
   {
    "duration": 4,
    "start_time": "2022-04-25T17:54:12.835Z"
   },
   {
    "duration": 496,
    "start_time": "2022-04-25T17:54:12.841Z"
   },
   {
    "duration": 5,
    "start_time": "2022-04-25T17:54:13.339Z"
   },
   {
    "duration": 303,
    "start_time": "2022-04-25T17:54:13.346Z"
   },
   {
    "duration": 322,
    "start_time": "2022-04-25T17:54:13.651Z"
   },
   {
    "duration": 14,
    "start_time": "2022-04-25T17:54:13.975Z"
   },
   {
    "duration": 7,
    "start_time": "2022-04-25T17:54:13.992Z"
   },
   {
    "duration": 24,
    "start_time": "2022-04-25T17:54:14.002Z"
   },
   {
    "duration": 7,
    "start_time": "2022-04-25T17:54:14.029Z"
   },
   {
    "duration": 38,
    "start_time": "2022-04-25T17:54:14.038Z"
   },
   {
    "duration": 10,
    "start_time": "2022-04-25T17:54:14.077Z"
   },
   {
    "duration": 58,
    "start_time": "2022-04-25T17:54:14.089Z"
   },
   {
    "duration": 4,
    "start_time": "2022-04-25T17:54:14.149Z"
   },
   {
    "duration": 18,
    "start_time": "2022-04-25T17:54:14.156Z"
   },
   {
    "duration": 50,
    "start_time": "2022-04-25T17:54:14.176Z"
   },
   {
    "duration": 21,
    "start_time": "2022-04-25T17:54:14.228Z"
   },
   {
    "duration": 23,
    "start_time": "2022-04-25T17:54:14.251Z"
   },
   {
    "duration": 6,
    "start_time": "2022-04-25T17:54:14.275Z"
   },
   {
    "duration": 44,
    "start_time": "2022-04-25T17:54:14.283Z"
   },
   {
    "duration": 12,
    "start_time": "2022-04-25T17:54:14.330Z"
   },
   {
    "duration": 19,
    "start_time": "2022-04-25T17:54:14.343Z"
   },
   {
    "duration": 58,
    "start_time": "2022-04-25T17:54:14.365Z"
   },
   {
    "duration": 16,
    "start_time": "2022-04-25T17:54:14.425Z"
   },
   {
    "duration": 49,
    "start_time": "2022-04-25T17:57:09.671Z"
   },
   {
    "duration": 47,
    "start_time": "2022-04-25T17:57:53.109Z"
   },
   {
    "duration": 3,
    "start_time": "2022-04-25T17:58:17.100Z"
   },
   {
    "duration": 23,
    "start_time": "2022-04-25T17:58:17.108Z"
   },
   {
    "duration": 3,
    "start_time": "2022-04-25T17:58:17.134Z"
   },
   {
    "duration": 436,
    "start_time": "2022-04-25T17:58:17.139Z"
   },
   {
    "duration": 5,
    "start_time": "2022-04-25T17:58:17.578Z"
   },
   {
    "duration": 244,
    "start_time": "2022-04-25T17:58:17.584Z"
   },
   {
    "duration": 224,
    "start_time": "2022-04-25T17:58:17.830Z"
   },
   {
    "duration": 15,
    "start_time": "2022-04-25T17:58:18.056Z"
   },
   {
    "duration": 8,
    "start_time": "2022-04-25T17:58:18.072Z"
   },
   {
    "duration": 8,
    "start_time": "2022-04-25T17:58:18.082Z"
   },
   {
    "duration": 32,
    "start_time": "2022-04-25T17:58:18.092Z"
   },
   {
    "duration": 68,
    "start_time": "2022-04-25T17:58:18.126Z"
   },
   {
    "duration": 8,
    "start_time": "2022-04-25T17:58:18.196Z"
   },
   {
    "duration": 39,
    "start_time": "2022-04-25T17:58:18.206Z"
   },
   {
    "duration": 6,
    "start_time": "2022-04-25T17:58:18.247Z"
   },
   {
    "duration": 12,
    "start_time": "2022-04-25T17:58:18.255Z"
   },
   {
    "duration": 40,
    "start_time": "2022-04-25T18:01:29.836Z"
   },
   {
    "duration": 3,
    "start_time": "2022-04-25T18:02:08.014Z"
   },
   {
    "duration": 36,
    "start_time": "2022-04-25T18:02:08.022Z"
   },
   {
    "duration": 3,
    "start_time": "2022-04-25T18:02:08.060Z"
   },
   {
    "duration": 436,
    "start_time": "2022-04-25T18:02:08.065Z"
   },
   {
    "duration": 6,
    "start_time": "2022-04-25T18:02:08.504Z"
   },
   {
    "duration": 244,
    "start_time": "2022-04-25T18:02:08.511Z"
   },
   {
    "duration": 203,
    "start_time": "2022-04-25T18:02:08.757Z"
   },
   {
    "duration": 14,
    "start_time": "2022-04-25T18:02:08.961Z"
   },
   {
    "duration": 9,
    "start_time": "2022-04-25T18:02:08.977Z"
   },
   {
    "duration": 11,
    "start_time": "2022-04-25T18:02:08.987Z"
   },
   {
    "duration": 6,
    "start_time": "2022-04-25T18:02:09.022Z"
   },
   {
    "duration": 64,
    "start_time": "2022-04-25T18:02:09.030Z"
   },
   {
    "duration": 9,
    "start_time": "2022-04-25T18:02:09.095Z"
   },
   {
    "duration": 29,
    "start_time": "2022-04-25T18:02:09.122Z"
   },
   {
    "duration": 6,
    "start_time": "2022-04-25T18:02:09.153Z"
   },
   {
    "duration": 13,
    "start_time": "2022-04-25T18:02:09.161Z"
   },
   {
    "duration": 56,
    "start_time": "2022-04-25T18:02:09.176Z"
   },
   {
    "duration": 39,
    "start_time": "2022-04-25T18:02:09.235Z"
   },
   {
    "duration": 13,
    "start_time": "2022-04-25T18:02:09.276Z"
   },
   {
    "duration": 52,
    "start_time": "2022-04-25T18:04:19.540Z"
   },
   {
    "duration": 15,
    "start_time": "2022-04-25T18:04:27.392Z"
   },
   {
    "duration": 12,
    "start_time": "2022-04-25T18:14:42.149Z"
   },
   {
    "duration": 20,
    "start_time": "2022-04-25T18:15:45.532Z"
   },
   {
    "duration": 30,
    "start_time": "2022-04-25T18:15:58.338Z"
   },
   {
    "duration": 48,
    "start_time": "2022-04-25T18:17:34.548Z"
   },
   {
    "duration": 17,
    "start_time": "2022-04-25T18:19:12.986Z"
   },
   {
    "duration": 38,
    "start_time": "2022-04-25T18:19:23.682Z"
   },
   {
    "duration": 9,
    "start_time": "2022-04-25T18:24:26.160Z"
   },
   {
    "duration": 14,
    "start_time": "2022-04-25T18:24:34.731Z"
   },
   {
    "duration": 202,
    "start_time": "2022-04-25T18:24:57.041Z"
   },
   {
    "duration": 13,
    "start_time": "2022-04-25T18:25:43.213Z"
   },
   {
    "duration": 19,
    "start_time": "2022-04-25T18:26:34.174Z"
   },
   {
    "duration": 8,
    "start_time": "2022-04-25T18:33:52.923Z"
   },
   {
    "duration": 26,
    "start_time": "2022-04-25T18:33:58.954Z"
   },
   {
    "duration": 89,
    "start_time": "2022-04-25T18:34:15.493Z"
   },
   {
    "duration": 49,
    "start_time": "2022-04-25T18:34:31.889Z"
   },
   {
    "duration": 47,
    "start_time": "2022-04-25T18:36:40.898Z"
   },
   {
    "duration": 46,
    "start_time": "2022-04-25T18:37:39.476Z"
   },
   {
    "duration": 14,
    "start_time": "2022-04-25T18:38:01.427Z"
   },
   {
    "duration": 35,
    "start_time": "2022-04-25T18:39:51.101Z"
   },
   {
    "duration": 2,
    "start_time": "2022-04-25T18:40:16.854Z"
   },
   {
    "duration": 21,
    "start_time": "2022-04-25T18:40:16.860Z"
   },
   {
    "duration": 3,
    "start_time": "2022-04-25T18:40:16.883Z"
   },
   {
    "duration": 388,
    "start_time": "2022-04-25T18:40:16.888Z"
   },
   {
    "duration": 4,
    "start_time": "2022-04-25T18:40:17.279Z"
   },
   {
    "duration": 241,
    "start_time": "2022-04-25T18:40:17.285Z"
   },
   {
    "duration": 210,
    "start_time": "2022-04-25T18:40:17.527Z"
   },
   {
    "duration": 13,
    "start_time": "2022-04-25T18:40:17.739Z"
   },
   {
    "duration": 11,
    "start_time": "2022-04-25T18:40:17.753Z"
   },
   {
    "duration": 8,
    "start_time": "2022-04-25T18:40:17.766Z"
   },
   {
    "duration": 17,
    "start_time": "2022-04-25T18:40:17.775Z"
   },
   {
    "duration": 82,
    "start_time": "2022-04-25T18:40:17.794Z"
   },
   {
    "duration": 9,
    "start_time": "2022-04-25T18:40:17.878Z"
   },
   {
    "duration": 44,
    "start_time": "2022-04-25T18:40:17.889Z"
   },
   {
    "duration": 5,
    "start_time": "2022-04-25T18:40:17.935Z"
   },
   {
    "duration": 18,
    "start_time": "2022-04-25T18:40:17.942Z"
   },
   {
    "duration": 22,
    "start_time": "2022-04-25T18:40:17.962Z"
   },
   {
    "duration": 76,
    "start_time": "2022-04-25T18:40:17.986Z"
   },
   {
    "duration": 16,
    "start_time": "2022-04-25T18:40:18.064Z"
   },
   {
    "duration": 18,
    "start_time": "2022-04-25T18:40:18.081Z"
   },
   {
    "duration": 51,
    "start_time": "2022-04-25T18:40:18.100Z"
   },
   {
    "duration": 11,
    "start_time": "2022-04-25T18:40:18.153Z"
   },
   {
    "duration": 12,
    "start_time": "2022-04-25T18:40:18.166Z"
   },
   {
    "duration": 109,
    "start_time": "2022-04-25T18:40:18.180Z"
   },
   {
    "duration": 61,
    "start_time": "2022-04-25T18:40:18.294Z"
   },
   {
    "duration": 12,
    "start_time": "2022-04-25T18:40:39.980Z"
   },
   {
    "duration": 3,
    "start_time": "2022-04-25T18:41:19.407Z"
   },
   {
    "duration": 30,
    "start_time": "2022-04-25T18:41:19.416Z"
   },
   {
    "duration": 4,
    "start_time": "2022-04-25T18:41:19.449Z"
   },
   {
    "duration": 605,
    "start_time": "2022-04-25T18:41:19.456Z"
   },
   {
    "duration": 6,
    "start_time": "2022-04-25T18:41:20.064Z"
   },
   {
    "duration": 265,
    "start_time": "2022-04-25T18:41:20.073Z"
   },
   {
    "duration": 232,
    "start_time": "2022-04-25T18:41:20.340Z"
   },
   {
    "duration": 15,
    "start_time": "2022-04-25T18:41:20.574Z"
   },
   {
    "duration": 7,
    "start_time": "2022-04-25T18:41:20.591Z"
   },
   {
    "duration": 29,
    "start_time": "2022-04-25T18:41:20.600Z"
   },
   {
    "duration": 7,
    "start_time": "2022-04-25T18:41:20.632Z"
   },
   {
    "duration": 64,
    "start_time": "2022-04-25T18:41:20.641Z"
   },
   {
    "duration": 23,
    "start_time": "2022-04-25T18:41:20.706Z"
   },
   {
    "duration": 8,
    "start_time": "2022-04-25T18:41:20.731Z"
   },
   {
    "duration": 19,
    "start_time": "2022-04-25T18:41:20.740Z"
   },
   {
    "duration": 22,
    "start_time": "2022-04-25T18:41:20.761Z"
   },
   {
    "duration": 71,
    "start_time": "2022-04-25T18:41:20.785Z"
   },
   {
    "duration": 12,
    "start_time": "2022-04-25T18:41:20.859Z"
   },
   {
    "duration": 18,
    "start_time": "2022-04-25T18:41:20.873Z"
   },
   {
    "duration": 58,
    "start_time": "2022-04-25T18:41:20.892Z"
   },
   {
    "duration": 12,
    "start_time": "2022-04-25T18:41:20.952Z"
   },
   {
    "duration": 20,
    "start_time": "2022-04-25T18:41:20.967Z"
   },
   {
    "duration": 84,
    "start_time": "2022-04-25T18:41:20.988Z"
   },
   {
    "duration": 53,
    "start_time": "2022-04-25T18:41:21.074Z"
   },
   {
    "duration": 24,
    "start_time": "2022-04-25T18:43:15.092Z"
   },
   {
    "duration": 30,
    "start_time": "2022-04-25T18:44:42.611Z"
   },
   {
    "duration": 198,
    "start_time": "2022-04-25T18:47:24.016Z"
   },
   {
    "duration": 174,
    "start_time": "2022-04-25T18:47:41.151Z"
   },
   {
    "duration": 192,
    "start_time": "2022-04-25T18:47:51.263Z"
   },
   {
    "duration": 10,
    "start_time": "2022-04-25T18:48:10.185Z"
   },
   {
    "duration": 51,
    "start_time": "2022-04-26T07:56:28.886Z"
   },
   {
    "duration": 438,
    "start_time": "2022-04-26T07:56:33.028Z"
   },
   {
    "duration": 36,
    "start_time": "2022-04-26T07:56:33.468Z"
   },
   {
    "duration": 932,
    "start_time": "2022-04-26T07:56:33.506Z"
   },
   {
    "duration": 411,
    "start_time": "2022-04-26T07:56:34.440Z"
   },
   {
    "duration": 5,
    "start_time": "2022-04-26T07:56:34.853Z"
   },
   {
    "duration": 279,
    "start_time": "2022-04-26T07:56:34.860Z"
   },
   {
    "duration": 296,
    "start_time": "2022-04-26T07:56:35.140Z"
   },
   {
    "duration": 15,
    "start_time": "2022-04-26T07:56:35.438Z"
   },
   {
    "duration": 24,
    "start_time": "2022-04-26T07:56:35.454Z"
   },
   {
    "duration": 23,
    "start_time": "2022-04-26T07:56:35.481Z"
   },
   {
    "duration": 11,
    "start_time": "2022-04-26T07:56:35.506Z"
   },
   {
    "duration": 93,
    "start_time": "2022-04-26T07:56:35.519Z"
   },
   {
    "duration": 11,
    "start_time": "2022-04-26T07:56:35.614Z"
   },
   {
    "duration": 25,
    "start_time": "2022-04-26T07:56:35.627Z"
   },
   {
    "duration": 56,
    "start_time": "2022-04-26T07:56:35.653Z"
   },
   {
    "duration": 28,
    "start_time": "2022-04-26T07:56:35.711Z"
   },
   {
    "duration": 44,
    "start_time": "2022-04-26T07:56:35.741Z"
   },
   {
    "duration": 14,
    "start_time": "2022-04-26T07:56:35.787Z"
   },
   {
    "duration": 20,
    "start_time": "2022-04-26T07:56:35.802Z"
   },
   {
    "duration": 31,
    "start_time": "2022-04-26T07:56:35.823Z"
   },
   {
    "duration": 35,
    "start_time": "2022-04-26T07:56:35.856Z"
   },
   {
    "duration": 54,
    "start_time": "2022-04-26T07:56:35.893Z"
   },
   {
    "duration": 65,
    "start_time": "2022-04-26T07:56:35.948Z"
   },
   {
    "duration": 0,
    "start_time": "2022-04-26T07:56:36.015Z"
   },
   {
    "duration": 3,
    "start_time": "2022-04-26T08:04:03.747Z"
   },
   {
    "duration": 857,
    "start_time": "2022-04-26T08:04:54.479Z"
   },
   {
    "duration": 882,
    "start_time": "2022-04-26T08:05:21.926Z"
   },
   {
    "duration": 10,
    "start_time": "2022-04-26T08:05:44.712Z"
   },
   {
    "duration": 3,
    "start_time": "2022-04-26T08:05:51.618Z"
   },
   {
    "duration": 21,
    "start_time": "2022-04-26T08:05:51.627Z"
   },
   {
    "duration": 3,
    "start_time": "2022-04-26T08:05:51.650Z"
   },
   {
    "duration": 466,
    "start_time": "2022-04-26T08:05:51.654Z"
   },
   {
    "duration": 4,
    "start_time": "2022-04-26T08:05:52.122Z"
   },
   {
    "duration": 281,
    "start_time": "2022-04-26T08:05:52.128Z"
   },
   {
    "duration": 244,
    "start_time": "2022-04-26T08:05:52.411Z"
   },
   {
    "duration": 18,
    "start_time": "2022-04-26T08:05:52.675Z"
   },
   {
    "duration": 17,
    "start_time": "2022-04-26T08:05:52.695Z"
   },
   {
    "duration": 12,
    "start_time": "2022-04-26T08:05:52.714Z"
   },
   {
    "duration": 10,
    "start_time": "2022-04-26T08:05:52.728Z"
   },
   {
    "duration": 5,
    "start_time": "2022-04-26T08:05:52.740Z"
   },
   {
    "duration": 14182,
    "start_time": "2022-04-26T08:05:52.747Z"
   },
   {
    "duration": 72,
    "start_time": "2022-04-26T08:06:06.931Z"
   },
   {
    "duration": 9,
    "start_time": "2022-04-26T08:06:07.005Z"
   },
   {
    "duration": 13,
    "start_time": "2022-04-26T08:06:07.016Z"
   },
   {
    "duration": 25,
    "start_time": "2022-04-26T08:06:07.031Z"
   },
   {
    "duration": 51,
    "start_time": "2022-04-26T08:06:07.057Z"
   },
   {
    "duration": 37,
    "start_time": "2022-04-26T08:06:07.110Z"
   },
   {
    "duration": 32,
    "start_time": "2022-04-26T08:06:07.148Z"
   },
   {
    "duration": 29,
    "start_time": "2022-04-26T08:06:07.183Z"
   },
   {
    "duration": 33,
    "start_time": "2022-04-26T08:06:07.214Z"
   },
   {
    "duration": 11,
    "start_time": "2022-04-26T08:06:07.249Z"
   },
   {
    "duration": 41,
    "start_time": "2022-04-26T08:06:07.262Z"
   },
   {
    "duration": 9,
    "start_time": "2022-04-26T08:06:07.309Z"
   },
   {
    "duration": 0,
    "start_time": "2022-04-26T08:06:07.319Z"
   },
   {
    "duration": 3,
    "start_time": "2022-04-26T08:06:43.306Z"
   },
   {
    "duration": 822,
    "start_time": "2022-04-26T08:06:44.248Z"
   },
   {
    "duration": 4,
    "start_time": "2022-04-26T08:07:09.143Z"
   },
   {
    "duration": 98,
    "start_time": "2022-04-26T08:07:10.208Z"
   },
   {
    "duration": 2,
    "start_time": "2022-04-26T08:07:19.017Z"
   },
   {
    "duration": 22,
    "start_time": "2022-04-26T08:07:19.025Z"
   },
   {
    "duration": 3,
    "start_time": "2022-04-26T08:07:19.050Z"
   },
   {
    "duration": 404,
    "start_time": "2022-04-26T08:07:19.055Z"
   },
   {
    "duration": 4,
    "start_time": "2022-04-26T08:07:19.461Z"
   },
   {
    "duration": 251,
    "start_time": "2022-04-26T08:07:19.466Z"
   },
   {
    "duration": 233,
    "start_time": "2022-04-26T08:07:19.718Z"
   },
   {
    "duration": 28,
    "start_time": "2022-04-26T08:07:19.952Z"
   },
   {
    "duration": 40,
    "start_time": "2022-04-26T08:07:19.982Z"
   },
   {
    "duration": 13,
    "start_time": "2022-04-26T08:07:20.024Z"
   },
   {
    "duration": 16,
    "start_time": "2022-04-26T08:07:20.039Z"
   },
   {
    "duration": 11,
    "start_time": "2022-04-26T08:07:20.056Z"
   },
   {
    "duration": 905,
    "start_time": "2022-04-26T08:07:33.804Z"
   },
   {
    "duration": 3,
    "start_time": "2022-04-26T08:09:18.003Z"
   },
   {
    "duration": 452,
    "start_time": "2022-04-26T08:10:58.796Z"
   },
   {
    "duration": 36,
    "start_time": "2022-04-26T08:10:59.250Z"
   },
   {
    "duration": 759,
    "start_time": "2022-04-26T08:10:59.289Z"
   },
   {
    "duration": 478,
    "start_time": "2022-04-26T08:11:00.050Z"
   },
   {
    "duration": 5,
    "start_time": "2022-04-26T08:11:00.531Z"
   },
   {
    "duration": 294,
    "start_time": "2022-04-26T08:11:00.538Z"
   },
   {
    "duration": 284,
    "start_time": "2022-04-26T08:11:00.834Z"
   },
   {
    "duration": 15,
    "start_time": "2022-04-26T08:11:01.119Z"
   },
   {
    "duration": 10,
    "start_time": "2022-04-26T08:11:01.136Z"
   },
   {
    "duration": 11,
    "start_time": "2022-04-26T08:11:01.148Z"
   },
   {
    "duration": 17,
    "start_time": "2022-04-26T08:11:01.176Z"
   },
   {
    "duration": 18,
    "start_time": "2022-04-26T08:11:01.195Z"
   },
   {
    "duration": 408,
    "start_time": "2022-04-26T08:15:38.702Z"
   },
   {
    "duration": 22,
    "start_time": "2022-04-26T08:15:39.112Z"
   },
   {
    "duration": 737,
    "start_time": "2022-04-26T08:15:39.135Z"
   },
   {
    "duration": 432,
    "start_time": "2022-04-26T08:15:39.880Z"
   },
   {
    "duration": 5,
    "start_time": "2022-04-26T08:15:40.313Z"
   },
   {
    "duration": 281,
    "start_time": "2022-04-26T08:15:40.320Z"
   },
   {
    "duration": 275,
    "start_time": "2022-04-26T08:15:40.603Z"
   },
   {
    "duration": 23,
    "start_time": "2022-04-26T08:15:40.880Z"
   },
   {
    "duration": 6,
    "start_time": "2022-04-26T08:15:40.905Z"
   },
   {
    "duration": 7,
    "start_time": "2022-04-26T08:15:40.914Z"
   },
   {
    "duration": 9,
    "start_time": "2022-04-26T08:15:40.923Z"
   },
   {
    "duration": 9,
    "start_time": "2022-04-26T08:15:40.933Z"
   },
   {
    "duration": 403,
    "start_time": "2022-04-26T08:20:17.788Z"
   },
   {
    "duration": 23,
    "start_time": "2022-04-26T08:20:19.509Z"
   },
   {
    "duration": 789,
    "start_time": "2022-04-26T08:20:24.769Z"
   },
   {
    "duration": 472,
    "start_time": "2022-04-26T08:20:25.665Z"
   },
   {
    "duration": 5,
    "start_time": "2022-04-26T08:20:28.430Z"
   },
   {
    "duration": 258,
    "start_time": "2022-04-26T08:20:29.241Z"
   },
   {
    "duration": 283,
    "start_time": "2022-04-26T08:20:38.886Z"
   },
   {
    "duration": 15,
    "start_time": "2022-04-26T08:20:43.298Z"
   },
   {
    "duration": 5,
    "start_time": "2022-04-26T08:20:44.602Z"
   },
   {
    "duration": 4,
    "start_time": "2022-04-26T08:20:52.635Z"
   },
   {
    "duration": 7,
    "start_time": "2022-04-26T08:20:54.724Z"
   },
   {
    "duration": 3,
    "start_time": "2022-04-26T08:21:00.791Z"
   },
   {
    "duration": 13608,
    "start_time": "2022-04-26T08:21:01.689Z"
   },
   {
    "duration": 47,
    "start_time": "2022-04-26T08:21:15.299Z"
   },
   {
    "duration": 9,
    "start_time": "2022-04-26T08:21:24.491Z"
   },
   {
    "duration": 41,
    "start_time": "2022-04-26T08:21:27.631Z"
   },
   {
    "duration": 10,
    "start_time": "2022-04-26T08:21:31.436Z"
   },
   {
    "duration": 14,
    "start_time": "2022-04-26T08:21:33.271Z"
   },
   {
    "duration": 21,
    "start_time": "2022-04-26T08:21:38.594Z"
   },
   {
    "duration": 2,
    "start_time": "2022-04-26T08:21:47.099Z"
   },
   {
    "duration": 36,
    "start_time": "2022-04-26T08:21:47.103Z"
   },
   {
    "duration": 7,
    "start_time": "2022-04-26T08:21:47.141Z"
   },
   {
    "duration": 432,
    "start_time": "2022-04-26T08:21:47.150Z"
   },
   {
    "duration": 9,
    "start_time": "2022-04-26T08:21:47.586Z"
   },
   {
    "duration": 249,
    "start_time": "2022-04-26T08:21:47.596Z"
   },
   {
    "duration": 262,
    "start_time": "2022-04-26T08:21:47.846Z"
   },
   {
    "duration": 13,
    "start_time": "2022-04-26T08:21:48.110Z"
   },
   {
    "duration": 8,
    "start_time": "2022-04-26T08:21:48.125Z"
   },
   {
    "duration": 5,
    "start_time": "2022-04-26T08:21:48.134Z"
   },
   {
    "duration": 7,
    "start_time": "2022-04-26T08:21:48.142Z"
   },
   {
    "duration": 72,
    "start_time": "2022-04-26T08:21:48.173Z"
   },
   {
    "duration": 8,
    "start_time": "2022-04-26T08:21:48.246Z"
   },
   {
    "duration": 50,
    "start_time": "2022-04-26T08:21:48.256Z"
   },
   {
    "duration": 20,
    "start_time": "2022-04-26T08:21:48.307Z"
   },
   {
    "duration": 23,
    "start_time": "2022-04-26T08:21:48.328Z"
   },
   {
    "duration": 39,
    "start_time": "2022-04-26T08:21:48.352Z"
   },
   {
    "duration": 13,
    "start_time": "2022-04-26T08:21:48.393Z"
   },
   {
    "duration": 20,
    "start_time": "2022-04-26T08:21:48.407Z"
   },
   {
    "duration": 47,
    "start_time": "2022-04-26T08:21:48.429Z"
   },
   {
    "duration": 15,
    "start_time": "2022-04-26T08:21:48.478Z"
   },
   {
    "duration": 25,
    "start_time": "2022-04-26T08:21:48.497Z"
   },
   {
    "duration": 106,
    "start_time": "2022-04-26T08:21:48.523Z"
   },
   {
    "duration": 0,
    "start_time": "2022-04-26T08:21:48.631Z"
   },
   {
    "duration": 3,
    "start_time": "2022-04-26T08:23:07.963Z"
   },
   {
    "duration": 6,
    "start_time": "2022-04-26T08:23:57.146Z"
   },
   {
    "duration": 14,
    "start_time": "2022-04-26T08:24:16.701Z"
   },
   {
    "duration": 3,
    "start_time": "2022-04-26T08:24:27.446Z"
   },
   {
    "duration": 16,
    "start_time": "2022-04-26T08:24:27.454Z"
   },
   {
    "duration": 8,
    "start_time": "2022-04-26T08:24:27.473Z"
   },
   {
    "duration": 453,
    "start_time": "2022-04-26T08:24:27.482Z"
   },
   {
    "duration": 5,
    "start_time": "2022-04-26T08:24:27.937Z"
   },
   {
    "duration": 275,
    "start_time": "2022-04-26T08:24:27.943Z"
   },
   {
    "duration": 237,
    "start_time": "2022-04-26T08:24:28.219Z"
   },
   {
    "duration": 25,
    "start_time": "2022-04-26T08:24:28.458Z"
   },
   {
    "duration": 159,
    "start_time": "2022-04-26T08:24:28.486Z"
   },
   {
    "duration": 12,
    "start_time": "2022-04-26T08:24:28.647Z"
   },
   {
    "duration": 60,
    "start_time": "2022-04-26T08:25:29.656Z"
   },
   {
    "duration": 16,
    "start_time": "2022-04-26T08:25:30.369Z"
   },
   {
    "duration": 3,
    "start_time": "2022-04-26T08:26:26.142Z"
   },
   {
    "duration": 36,
    "start_time": "2022-04-26T08:26:41.916Z"
   },
   {
    "duration": 13,
    "start_time": "2022-04-26T08:26:43.001Z"
   },
   {
    "duration": 37,
    "start_time": "2022-04-26T08:28:27.701Z"
   },
   {
    "duration": 11,
    "start_time": "2022-04-26T08:28:52.637Z"
   },
   {
    "duration": 18,
    "start_time": "2022-04-26T08:28:58.088Z"
   },
   {
    "duration": 19,
    "start_time": "2022-04-26T08:29:36.183Z"
   },
   {
    "duration": 4,
    "start_time": "2022-04-26T08:29:57.995Z"
   },
   {
    "duration": 22,
    "start_time": "2022-04-26T08:29:58.001Z"
   },
   {
    "duration": 3,
    "start_time": "2022-04-26T08:29:58.024Z"
   },
   {
    "duration": 413,
    "start_time": "2022-04-26T08:29:58.029Z"
   },
   {
    "duration": 5,
    "start_time": "2022-04-26T08:29:58.444Z"
   },
   {
    "duration": 284,
    "start_time": "2022-04-26T08:29:58.451Z"
   },
   {
    "duration": 258,
    "start_time": "2022-04-26T08:29:58.737Z"
   },
   {
    "duration": 4,
    "start_time": "2022-04-26T08:29:58.997Z"
   },
   {
    "duration": 105,
    "start_time": "2022-04-26T08:29:59.002Z"
   },
   {
    "duration": 5,
    "start_time": "2022-04-26T08:29:59.109Z"
   },
   {
    "duration": 9,
    "start_time": "2022-04-26T08:29:59.117Z"
   },
   {
    "duration": 11,
    "start_time": "2022-04-26T08:29:59.127Z"
   },
   {
    "duration": 14,
    "start_time": "2022-04-26T08:29:59.140Z"
   },
   {
    "duration": 14115,
    "start_time": "2022-04-26T08:31:16.672Z"
   },
   {
    "duration": 3,
    "start_time": "2022-04-26T08:35:00.142Z"
   },
   {
    "duration": 663,
    "start_time": "2022-04-26T08:36:10.011Z"
   },
   {
    "duration": 1555,
    "start_time": "2022-04-26T08:37:17.944Z"
   },
   {
    "duration": 3,
    "start_time": "2022-04-26T08:37:26.653Z"
   },
   {
    "duration": 43,
    "start_time": "2022-04-26T08:37:26.663Z"
   },
   {
    "duration": 3,
    "start_time": "2022-04-26T08:37:26.708Z"
   },
   {
    "duration": 418,
    "start_time": "2022-04-26T08:37:26.712Z"
   },
   {
    "duration": 5,
    "start_time": "2022-04-26T08:37:27.132Z"
   },
   {
    "duration": 280,
    "start_time": "2022-04-26T08:37:27.138Z"
   },
   {
    "duration": 231,
    "start_time": "2022-04-26T08:37:27.420Z"
   },
   {
    "duration": 3,
    "start_time": "2022-04-26T08:37:27.652Z"
   },
   {
    "duration": 90,
    "start_time": "2022-04-26T08:37:27.673Z"
   },
   {
    "duration": 5,
    "start_time": "2022-04-26T08:37:27.765Z"
   },
   {
    "duration": 33,
    "start_time": "2022-04-26T08:37:27.772Z"
   },
   {
    "duration": 14,
    "start_time": "2022-04-26T08:37:27.808Z"
   },
   {
    "duration": 14,
    "start_time": "2022-04-26T08:37:27.824Z"
   },
   {
    "duration": 9,
    "start_time": "2022-04-26T08:37:27.840Z"
   },
   {
    "duration": 14351,
    "start_time": "2022-04-26T08:37:27.851Z"
   },
   {
    "duration": 3,
    "start_time": "2022-04-26T08:38:31.833Z"
   },
   {
    "duration": 2318,
    "start_time": "2022-04-26T08:39:01.671Z"
   },
   {
    "duration": 3,
    "start_time": "2022-04-26T08:39:28.116Z"
   },
   {
    "duration": 1501,
    "start_time": "2022-04-26T08:39:28.136Z"
   },
   {
    "duration": 3,
    "start_time": "2022-04-26T08:39:29.639Z"
   },
   {
    "duration": 420,
    "start_time": "2022-04-26T08:39:29.644Z"
   },
   {
    "duration": 4,
    "start_time": "2022-04-26T08:39:30.067Z"
   },
   {
    "duration": 253,
    "start_time": "2022-04-26T08:39:30.073Z"
   },
   {
    "duration": 235,
    "start_time": "2022-04-26T08:39:30.328Z"
   },
   {
    "duration": 4,
    "start_time": "2022-04-26T08:39:30.573Z"
   },
   {
    "duration": 89,
    "start_time": "2022-04-26T08:39:30.578Z"
   },
   {
    "duration": 9,
    "start_time": "2022-04-26T08:39:30.669Z"
   },
   {
    "duration": 12,
    "start_time": "2022-04-26T08:39:30.685Z"
   },
   {
    "duration": 30,
    "start_time": "2022-04-26T08:39:30.698Z"
   },
   {
    "duration": 14,
    "start_time": "2022-04-26T08:39:30.730Z"
   },
   {
    "duration": 13,
    "start_time": "2022-04-26T08:39:30.746Z"
   },
   {
    "duration": 0,
    "start_time": "2022-04-26T08:39:45.321Z"
   },
   {
    "duration": 13,
    "start_time": "2022-04-26T08:40:23.556Z"
   },
   {
    "duration": 3,
    "start_time": "2022-04-26T08:40:51.437Z"
   },
   {
    "duration": 15,
    "start_time": "2022-04-26T08:40:51.445Z"
   },
   {
    "duration": 2,
    "start_time": "2022-04-26T08:40:51.462Z"
   },
   {
    "duration": 393,
    "start_time": "2022-04-26T08:40:51.466Z"
   },
   {
    "duration": 5,
    "start_time": "2022-04-26T08:40:51.861Z"
   },
   {
    "duration": 244,
    "start_time": "2022-04-26T08:40:51.868Z"
   },
   {
    "duration": 226,
    "start_time": "2022-04-26T08:40:52.115Z"
   },
   {
    "duration": 3,
    "start_time": "2022-04-26T08:40:52.344Z"
   },
   {
    "duration": 85,
    "start_time": "2022-04-26T08:40:52.348Z"
   },
   {
    "duration": 5,
    "start_time": "2022-04-26T08:40:52.435Z"
   },
   {
    "duration": 20,
    "start_time": "2022-04-26T08:40:52.441Z"
   },
   {
    "duration": 32,
    "start_time": "2022-04-26T08:40:52.463Z"
   },
   {
    "duration": 11,
    "start_time": "2022-04-26T08:40:52.497Z"
   },
   {
    "duration": 7,
    "start_time": "2022-04-26T08:40:52.509Z"
   },
   {
    "duration": 14672,
    "start_time": "2022-04-26T08:40:52.517Z"
   },
   {
    "duration": 0,
    "start_time": "2022-04-26T08:41:07.191Z"
   },
   {
    "duration": 0,
    "start_time": "2022-04-26T08:41:07.193Z"
   },
   {
    "duration": 0,
    "start_time": "2022-04-26T08:41:07.193Z"
   },
   {
    "duration": 0,
    "start_time": "2022-04-26T08:41:07.195Z"
   },
   {
    "duration": 0,
    "start_time": "2022-04-26T08:41:07.196Z"
   },
   {
    "duration": 0,
    "start_time": "2022-04-26T08:41:07.197Z"
   },
   {
    "duration": 0,
    "start_time": "2022-04-26T08:41:07.198Z"
   },
   {
    "duration": 0,
    "start_time": "2022-04-26T08:41:07.199Z"
   },
   {
    "duration": 0,
    "start_time": "2022-04-26T08:41:07.200Z"
   },
   {
    "duration": 0,
    "start_time": "2022-04-26T08:41:07.201Z"
   },
   {
    "duration": 0,
    "start_time": "2022-04-26T08:41:07.202Z"
   },
   {
    "duration": 0,
    "start_time": "2022-04-26T08:41:07.203Z"
   },
   {
    "duration": 0,
    "start_time": "2022-04-26T08:41:07.204Z"
   },
   {
    "duration": 3,
    "start_time": "2022-04-26T08:41:43.639Z"
   },
   {
    "duration": 2066,
    "start_time": "2022-04-26T08:41:44.851Z"
   },
   {
    "duration": 876,
    "start_time": "2022-04-26T08:42:33.967Z"
   },
   {
    "duration": 9,
    "start_time": "2022-04-26T08:42:40.499Z"
   },
   {
    "duration": 7,
    "start_time": "2022-04-26T08:42:45.824Z"
   },
   {
    "duration": 22,
    "start_time": "2022-04-26T08:42:49.281Z"
   },
   {
    "duration": 11,
    "start_time": "2022-04-26T08:43:31.987Z"
   },
   {
    "duration": 548,
    "start_time": "2022-04-26T08:43:48.182Z"
   },
   {
    "duration": 19,
    "start_time": "2022-04-26T08:43:48.732Z"
   },
   {
    "duration": 2,
    "start_time": "2022-04-26T08:44:50.515Z"
   },
   {
    "duration": 29,
    "start_time": "2022-04-26T08:44:50.522Z"
   },
   {
    "duration": 3,
    "start_time": "2022-04-26T08:44:50.553Z"
   },
   {
    "duration": 390,
    "start_time": "2022-04-26T08:44:50.558Z"
   },
   {
    "duration": 5,
    "start_time": "2022-04-26T08:44:50.950Z"
   },
   {
    "duration": 262,
    "start_time": "2022-04-26T08:44:50.957Z"
   },
   {
    "duration": 235,
    "start_time": "2022-04-26T08:44:51.221Z"
   },
   {
    "duration": 23,
    "start_time": "2022-04-26T08:44:51.458Z"
   },
   {
    "duration": 79,
    "start_time": "2022-04-26T08:44:51.484Z"
   },
   {
    "duration": 11,
    "start_time": "2022-04-26T08:44:51.564Z"
   },
   {
    "duration": 10,
    "start_time": "2022-04-26T08:44:51.579Z"
   },
   {
    "duration": 15,
    "start_time": "2022-04-26T08:44:51.591Z"
   },
   {
    "duration": 19,
    "start_time": "2022-04-26T08:44:51.608Z"
   },
   {
    "duration": 13483,
    "start_time": "2022-04-26T08:44:51.630Z"
   },
   {
    "duration": 9,
    "start_time": "2022-04-26T08:45:05.115Z"
   },
   {
    "duration": 15,
    "start_time": "2022-04-26T08:45:05.126Z"
   },
   {
    "duration": 29,
    "start_time": "2022-04-26T08:45:05.145Z"
   },
   {
    "duration": 27,
    "start_time": "2022-04-26T08:45:05.177Z"
   },
   {
    "duration": 10079,
    "start_time": "2022-04-26T08:45:05.206Z"
   },
   {
    "duration": 12,
    "start_time": "2022-04-26T08:45:15.287Z"
   },
   {
    "duration": 17,
    "start_time": "2022-04-26T08:45:15.301Z"
   },
   {
    "duration": 8247,
    "start_time": "2022-04-26T08:45:15.320Z"
   },
   {
    "duration": 14,
    "start_time": "2022-04-26T08:45:23.568Z"
   },
   {
    "duration": 31,
    "start_time": "2022-04-26T08:46:07.644Z"
   },
   {
    "duration": 10,
    "start_time": "2022-04-26T08:48:05.433Z"
   },
   {
    "duration": 3,
    "start_time": "2022-04-26T08:48:20.215Z"
   },
   {
    "duration": 16,
    "start_time": "2022-04-26T08:48:20.223Z"
   },
   {
    "duration": 2,
    "start_time": "2022-04-26T08:48:20.241Z"
   },
   {
    "duration": 392,
    "start_time": "2022-04-26T08:48:20.245Z"
   },
   {
    "duration": 5,
    "start_time": "2022-04-26T08:48:20.639Z"
   },
   {
    "duration": 249,
    "start_time": "2022-04-26T08:48:20.645Z"
   },
   {
    "duration": 233,
    "start_time": "2022-04-26T08:48:20.896Z"
   },
   {
    "duration": 3,
    "start_time": "2022-04-26T08:48:21.130Z"
   },
   {
    "duration": 90,
    "start_time": "2022-04-26T08:48:21.136Z"
   },
   {
    "duration": 5,
    "start_time": "2022-04-26T08:48:21.229Z"
   },
   {
    "duration": 8,
    "start_time": "2022-04-26T08:48:21.235Z"
   },
   {
    "duration": 31,
    "start_time": "2022-04-26T08:48:21.245Z"
   },
   {
    "duration": 14,
    "start_time": "2022-04-26T08:48:21.281Z"
   },
   {
    "duration": 13069,
    "start_time": "2022-04-26T08:48:21.297Z"
   },
   {
    "duration": 16,
    "start_time": "2022-04-26T08:48:34.368Z"
   },
   {
    "duration": 44,
    "start_time": "2022-04-26T08:48:34.385Z"
   },
   {
    "duration": 32,
    "start_time": "2022-04-26T08:48:34.431Z"
   },
   {
    "duration": 41,
    "start_time": "2022-04-26T08:48:34.465Z"
   },
   {
    "duration": 9634,
    "start_time": "2022-04-26T08:48:34.508Z"
   },
   {
    "duration": 13,
    "start_time": "2022-04-26T08:48:44.143Z"
   },
   {
    "duration": 33,
    "start_time": "2022-04-26T08:48:44.159Z"
   },
   {
    "duration": 7844,
    "start_time": "2022-04-26T08:48:44.194Z"
   },
   {
    "duration": 11,
    "start_time": "2022-04-26T08:48:52.039Z"
   },
   {
    "duration": 33,
    "start_time": "2022-04-26T08:48:52.052Z"
   },
   {
    "duration": 14,
    "start_time": "2022-04-26T08:48:52.086Z"
   },
   {
    "duration": 108,
    "start_time": "2022-04-26T08:50:32.129Z"
   },
   {
    "duration": 9,
    "start_time": "2022-04-26T08:50:49.164Z"
   },
   {
    "duration": 9,
    "start_time": "2022-04-26T08:54:40.475Z"
   },
   {
    "duration": 10,
    "start_time": "2022-04-26T08:55:52.319Z"
   },
   {
    "duration": 23,
    "start_time": "2022-04-26T08:56:18.279Z"
   },
   {
    "duration": 24,
    "start_time": "2022-04-26T08:56:41.844Z"
   },
   {
    "duration": 14,
    "start_time": "2022-04-26T08:59:23.837Z"
   },
   {
    "duration": 12,
    "start_time": "2022-04-26T09:02:14.140Z"
   },
   {
    "duration": 17,
    "start_time": "2022-04-26T09:02:32.733Z"
   },
   {
    "duration": 110,
    "start_time": "2022-04-26T09:04:24.355Z"
   },
   {
    "duration": 20,
    "start_time": "2022-04-26T09:04:45.553Z"
   },
   {
    "duration": 17,
    "start_time": "2022-04-26T09:05:41.563Z"
   },
   {
    "duration": 18,
    "start_time": "2022-04-26T09:06:01.548Z"
   },
   {
    "duration": 18,
    "start_time": "2022-04-26T09:07:14.100Z"
   },
   {
    "duration": 20,
    "start_time": "2022-04-26T09:08:14.721Z"
   },
   {
    "duration": 20,
    "start_time": "2022-04-26T09:08:31.302Z"
   },
   {
    "duration": 20,
    "start_time": "2022-04-26T09:08:59.037Z"
   },
   {
    "duration": 3,
    "start_time": "2022-04-26T09:09:12.165Z"
   },
   {
    "duration": 23,
    "start_time": "2022-04-26T09:09:12.173Z"
   },
   {
    "duration": 4,
    "start_time": "2022-04-26T09:09:12.198Z"
   },
   {
    "duration": 427,
    "start_time": "2022-04-26T09:09:12.204Z"
   },
   {
    "duration": 6,
    "start_time": "2022-04-26T09:09:12.635Z"
   },
   {
    "duration": 267,
    "start_time": "2022-04-26T09:09:12.643Z"
   },
   {
    "duration": 241,
    "start_time": "2022-04-26T09:09:12.912Z"
   },
   {
    "duration": 3,
    "start_time": "2022-04-26T09:09:13.156Z"
   },
   {
    "duration": 88,
    "start_time": "2022-04-26T09:09:13.160Z"
   },
   {
    "duration": 5,
    "start_time": "2022-04-26T09:09:13.251Z"
   },
   {
    "duration": 6,
    "start_time": "2022-04-26T09:09:13.274Z"
   },
   {
    "duration": 17,
    "start_time": "2022-04-26T09:09:13.282Z"
   },
   {
    "duration": 14,
    "start_time": "2022-04-26T09:09:13.301Z"
   },
   {
    "duration": 14156,
    "start_time": "2022-04-26T09:09:13.317Z"
   },
   {
    "duration": 10,
    "start_time": "2022-04-26T09:09:27.475Z"
   },
   {
    "duration": 11,
    "start_time": "2022-04-26T09:09:27.487Z"
   },
   {
    "duration": 22,
    "start_time": "2022-04-26T09:09:27.500Z"
   },
   {
    "duration": 50,
    "start_time": "2022-04-26T09:09:27.524Z"
   },
   {
    "duration": 9716,
    "start_time": "2022-04-26T09:09:27.576Z"
   },
   {
    "duration": 12,
    "start_time": "2022-04-26T09:09:37.294Z"
   },
   {
    "duration": 18,
    "start_time": "2022-04-26T09:09:37.308Z"
   },
   {
    "duration": 7829,
    "start_time": "2022-04-26T09:09:37.328Z"
   },
   {
    "duration": 20,
    "start_time": "2022-04-26T09:09:45.158Z"
   },
   {
    "duration": 16,
    "start_time": "2022-04-26T09:09:45.180Z"
   },
   {
    "duration": 33,
    "start_time": "2022-04-26T09:09:45.200Z"
   },
   {
    "duration": 45,
    "start_time": "2022-04-26T09:09:45.235Z"
   },
   {
    "duration": 20,
    "start_time": "2022-04-26T09:10:07.492Z"
   },
   {
    "duration": 119,
    "start_time": "2022-04-26T09:11:08.255Z"
   },
   {
    "duration": 19,
    "start_time": "2022-04-26T09:12:38.317Z"
   },
   {
    "duration": 19,
    "start_time": "2022-04-26T09:13:06.641Z"
   },
   {
    "duration": 28,
    "start_time": "2022-04-26T09:17:46.086Z"
   },
   {
    "duration": 3,
    "start_time": "2022-04-26T09:19:50.481Z"
   },
   {
    "duration": 19,
    "start_time": "2022-04-26T09:19:50.488Z"
   },
   {
    "duration": 3,
    "start_time": "2022-04-26T09:19:50.509Z"
   },
   {
    "duration": 427,
    "start_time": "2022-04-26T09:19:50.513Z"
   },
   {
    "duration": 4,
    "start_time": "2022-04-26T09:19:50.942Z"
   },
   {
    "duration": 252,
    "start_time": "2022-04-26T09:19:50.948Z"
   },
   {
    "duration": 221,
    "start_time": "2022-04-26T09:19:51.201Z"
   },
   {
    "duration": 3,
    "start_time": "2022-04-26T09:19:51.424Z"
   },
   {
    "duration": 85,
    "start_time": "2022-04-26T09:19:51.429Z"
   },
   {
    "duration": 6,
    "start_time": "2022-04-26T09:19:51.515Z"
   },
   {
    "duration": 11,
    "start_time": "2022-04-26T09:19:51.523Z"
   },
   {
    "duration": 9,
    "start_time": "2022-04-26T09:19:51.535Z"
   },
   {
    "duration": 28,
    "start_time": "2022-04-26T09:19:51.546Z"
   },
   {
    "duration": 13250,
    "start_time": "2022-04-26T09:19:51.576Z"
   },
   {
    "duration": 0,
    "start_time": "2022-04-26T09:20:04.828Z"
   },
   {
    "duration": 0,
    "start_time": "2022-04-26T09:20:04.829Z"
   },
   {
    "duration": 0,
    "start_time": "2022-04-26T09:20:04.830Z"
   },
   {
    "duration": 0,
    "start_time": "2022-04-26T09:20:04.832Z"
   },
   {
    "duration": 0,
    "start_time": "2022-04-26T09:20:04.833Z"
   },
   {
    "duration": 0,
    "start_time": "2022-04-26T09:20:04.834Z"
   },
   {
    "duration": 0,
    "start_time": "2022-04-26T09:20:04.836Z"
   },
   {
    "duration": 0,
    "start_time": "2022-04-26T09:20:04.837Z"
   },
   {
    "duration": 0,
    "start_time": "2022-04-26T09:20:04.838Z"
   },
   {
    "duration": 0,
    "start_time": "2022-04-26T09:20:04.839Z"
   },
   {
    "duration": 0,
    "start_time": "2022-04-26T09:20:04.840Z"
   },
   {
    "duration": 0,
    "start_time": "2022-04-26T09:20:04.841Z"
   },
   {
    "duration": 797,
    "start_time": "2022-04-26T09:20:19.706Z"
   },
   {
    "duration": 10,
    "start_time": "2022-04-26T09:20:29.207Z"
   },
   {
    "duration": 11,
    "start_time": "2022-04-26T09:20:29.219Z"
   },
   {
    "duration": 20,
    "start_time": "2022-04-26T09:20:29.232Z"
   },
   {
    "duration": 21,
    "start_time": "2022-04-26T09:20:29.254Z"
   },
   {
    "duration": 9276,
    "start_time": "2022-04-26T09:20:29.277Z"
   },
   {
    "duration": 17,
    "start_time": "2022-04-26T09:20:38.556Z"
   },
   {
    "duration": 18,
    "start_time": "2022-04-26T09:20:38.575Z"
   },
   {
    "duration": 8177,
    "start_time": "2022-04-26T09:20:38.594Z"
   },
   {
    "duration": 12,
    "start_time": "2022-04-26T09:20:46.773Z"
   },
   {
    "duration": 11,
    "start_time": "2022-04-26T09:20:46.787Z"
   },
   {
    "duration": 14,
    "start_time": "2022-04-26T09:20:46.801Z"
   },
   {
    "duration": 0,
    "start_time": "2022-04-26T09:20:46.817Z"
   },
   {
    "duration": 40,
    "start_time": "2022-04-26T09:21:10.141Z"
   },
   {
    "duration": 20,
    "start_time": "2022-04-26T09:21:24.786Z"
   },
   {
    "duration": 28,
    "start_time": "2022-04-26T09:21:58.198Z"
   },
   {
    "duration": 23,
    "start_time": "2022-04-26T09:22:57.186Z"
   },
   {
    "duration": 27,
    "start_time": "2022-04-26T09:23:22.257Z"
   },
   {
    "duration": 19,
    "start_time": "2022-04-26T09:23:57.041Z"
   },
   {
    "duration": 32,
    "start_time": "2022-04-26T09:24:29.551Z"
   },
   {
    "duration": 37,
    "start_time": "2022-04-26T09:25:27.233Z"
   },
   {
    "duration": 12,
    "start_time": "2022-04-26T09:25:50.571Z"
   },
   {
    "duration": 34,
    "start_time": "2022-04-26T09:25:52.149Z"
   },
   {
    "duration": 3,
    "start_time": "2022-04-26T09:26:38.356Z"
   },
   {
    "duration": 24,
    "start_time": "2022-04-26T09:26:38.363Z"
   },
   {
    "duration": 3,
    "start_time": "2022-04-26T09:26:38.389Z"
   },
   {
    "duration": 415,
    "start_time": "2022-04-26T09:26:38.394Z"
   },
   {
    "duration": 5,
    "start_time": "2022-04-26T09:26:38.812Z"
   },
   {
    "duration": 238,
    "start_time": "2022-04-26T09:26:38.819Z"
   },
   {
    "duration": 231,
    "start_time": "2022-04-26T09:26:39.074Z"
   },
   {
    "duration": 3,
    "start_time": "2022-04-26T09:26:39.307Z"
   },
   {
    "duration": 83,
    "start_time": "2022-04-26T09:26:39.312Z"
   },
   {
    "duration": 6,
    "start_time": "2022-04-26T09:26:39.398Z"
   },
   {
    "duration": 9,
    "start_time": "2022-04-26T09:26:39.406Z"
   },
   {
    "duration": 9,
    "start_time": "2022-04-26T09:26:39.416Z"
   },
   {
    "duration": 14,
    "start_time": "2022-04-26T09:26:39.426Z"
   },
   {
    "duration": 12571,
    "start_time": "2022-04-26T09:26:39.441Z"
   },
   {
    "duration": 9,
    "start_time": "2022-04-26T09:26:52.014Z"
   },
   {
    "duration": 12,
    "start_time": "2022-04-26T09:26:52.025Z"
   },
   {
    "duration": 38,
    "start_time": "2022-04-26T09:26:52.039Z"
   },
   {
    "duration": 23,
    "start_time": "2022-04-26T09:26:52.079Z"
   },
   {
    "duration": 9450,
    "start_time": "2022-04-26T09:26:52.103Z"
   },
   {
    "duration": 19,
    "start_time": "2022-04-26T09:27:01.555Z"
   },
   {
    "duration": 20,
    "start_time": "2022-04-26T09:27:01.576Z"
   },
   {
    "duration": 8098,
    "start_time": "2022-04-26T09:27:01.598Z"
   },
   {
    "duration": 12,
    "start_time": "2022-04-26T09:27:09.698Z"
   },
   {
    "duration": 15,
    "start_time": "2022-04-26T09:27:09.711Z"
   },
   {
    "duration": 50,
    "start_time": "2022-04-26T09:27:09.729Z"
   },
   {
    "duration": 19,
    "start_time": "2022-04-26T09:27:09.781Z"
   },
   {
    "duration": 30,
    "start_time": "2022-04-26T09:27:16.433Z"
   },
   {
    "duration": 37,
    "start_time": "2022-04-26T09:28:29.290Z"
   },
   {
    "duration": 30,
    "start_time": "2022-04-26T09:28:40.455Z"
   },
   {
    "duration": 29,
    "start_time": "2022-04-26T09:28:47.679Z"
   },
   {
    "duration": 11,
    "start_time": "2022-04-26T09:29:59.661Z"
   },
   {
    "duration": 15,
    "start_time": "2022-04-26T09:30:15.489Z"
   },
   {
    "duration": 15,
    "start_time": "2022-04-26T09:32:05.750Z"
   },
   {
    "duration": 16,
    "start_time": "2022-04-26T09:32:31.834Z"
   },
   {
    "duration": 23,
    "start_time": "2022-04-26T09:35:57.682Z"
   },
   {
    "duration": 118,
    "start_time": "2022-04-26T09:38:08.053Z"
   },
   {
    "duration": 19,
    "start_time": "2022-04-26T09:38:26.825Z"
   },
   {
    "duration": 126,
    "start_time": "2022-04-26T09:38:34.411Z"
   },
   {
    "duration": 15,
    "start_time": "2022-04-26T09:38:49.936Z"
   },
   {
    "duration": 31,
    "start_time": "2022-04-26T09:39:52.480Z"
   },
   {
    "duration": 32,
    "start_time": "2022-04-26T09:42:12.707Z"
   },
   {
    "duration": 20,
    "start_time": "2022-04-26T09:42:24.363Z"
   },
   {
    "duration": 15,
    "start_time": "2022-04-26T09:42:25.410Z"
   },
   {
    "duration": 23,
    "start_time": "2022-04-26T09:42:26.915Z"
   },
   {
    "duration": 20,
    "start_time": "2022-04-26T10:35:43.633Z"
   },
   {
    "duration": 23,
    "start_time": "2022-04-26T10:35:57.536Z"
   },
   {
    "duration": 34,
    "start_time": "2022-04-26T10:36:54.982Z"
   },
   {
    "duration": 16,
    "start_time": "2022-04-26T10:37:52.629Z"
   },
   {
    "duration": 9,
    "start_time": "2022-04-26T10:38:04.032Z"
   },
   {
    "duration": 4,
    "start_time": "2022-04-26T10:38:11.843Z"
   },
   {
    "duration": 28,
    "start_time": "2022-04-26T10:38:11.849Z"
   },
   {
    "duration": 4,
    "start_time": "2022-04-26T10:38:11.879Z"
   },
   {
    "duration": 385,
    "start_time": "2022-04-26T10:38:11.885Z"
   },
   {
    "duration": 4,
    "start_time": "2022-04-26T10:38:12.273Z"
   },
   {
    "duration": 253,
    "start_time": "2022-04-26T10:38:12.279Z"
   },
   {
    "duration": 228,
    "start_time": "2022-04-26T10:38:12.534Z"
   },
   {
    "duration": 3,
    "start_time": "2022-04-26T10:38:12.773Z"
   },
   {
    "duration": 97,
    "start_time": "2022-04-26T10:38:12.778Z"
   },
   {
    "duration": 5,
    "start_time": "2022-04-26T10:38:12.878Z"
   },
   {
    "duration": 6,
    "start_time": "2022-04-26T10:38:12.885Z"
   },
   {
    "duration": 9,
    "start_time": "2022-04-26T10:38:12.893Z"
   },
   {
    "duration": 15,
    "start_time": "2022-04-26T10:38:12.904Z"
   },
   {
    "duration": 13295,
    "start_time": "2022-04-26T10:38:12.921Z"
   },
   {
    "duration": 9,
    "start_time": "2022-04-26T10:38:26.217Z"
   },
   {
    "duration": 13,
    "start_time": "2022-04-26T10:38:26.227Z"
   },
   {
    "duration": 32,
    "start_time": "2022-04-26T10:38:26.242Z"
   },
   {
    "duration": 21,
    "start_time": "2022-04-26T10:38:26.276Z"
   },
   {
    "duration": 9432,
    "start_time": "2022-04-26T10:38:26.298Z"
   },
   {
    "duration": 12,
    "start_time": "2022-04-26T10:38:35.732Z"
   },
   {
    "duration": 31,
    "start_time": "2022-04-26T10:38:35.746Z"
   },
   {
    "duration": 7838,
    "start_time": "2022-04-26T10:38:35.779Z"
   },
   {
    "duration": 11,
    "start_time": "2022-04-26T10:38:43.619Z"
   },
   {
    "duration": 10,
    "start_time": "2022-04-26T10:38:43.632Z"
   },
   {
    "duration": 46,
    "start_time": "2022-04-26T10:38:43.644Z"
   },
   {
    "duration": 20,
    "start_time": "2022-04-26T10:38:43.691Z"
   },
   {
    "duration": 16,
    "start_time": "2022-04-26T10:38:43.713Z"
   },
   {
    "duration": 7,
    "start_time": "2022-04-26T10:38:43.731Z"
   },
   {
    "duration": 31,
    "start_time": "2022-04-26T10:39:10.454Z"
   },
   {
    "duration": 8,
    "start_time": "2022-04-26T10:40:51.782Z"
   },
   {
    "duration": 34,
    "start_time": "2022-04-26T10:41:01.941Z"
   },
   {
    "duration": 35,
    "start_time": "2022-04-26T10:42:00.783Z"
   },
   {
    "duration": 108,
    "start_time": "2022-04-26T10:42:52.713Z"
   },
   {
    "duration": 34,
    "start_time": "2022-04-26T10:43:13.006Z"
   },
   {
    "duration": 40,
    "start_time": "2022-04-26T10:43:52.529Z"
   },
   {
    "duration": 34,
    "start_time": "2022-04-26T10:45:04.360Z"
   },
   {
    "duration": 23,
    "start_time": "2022-04-26T10:46:08.827Z"
   },
   {
    "duration": 24,
    "start_time": "2022-04-26T10:46:32.794Z"
   },
   {
    "duration": 22,
    "start_time": "2022-04-26T10:46:46.075Z"
   },
   {
    "duration": 38,
    "start_time": "2022-04-26T10:47:40.397Z"
   },
   {
    "duration": 22,
    "start_time": "2022-04-26T10:48:16.847Z"
   },
   {
    "duration": 32,
    "start_time": "2022-04-26T10:50:02.678Z"
   },
   {
    "duration": 37,
    "start_time": "2022-04-26T10:52:18.576Z"
   },
   {
    "duration": 43,
    "start_time": "2022-04-26T10:52:26.124Z"
   },
   {
    "duration": 5,
    "start_time": "2022-04-26T11:04:13.143Z"
   },
   {
    "duration": 4,
    "start_time": "2022-04-26T11:06:56.955Z"
   },
   {
    "duration": 10,
    "start_time": "2022-04-26T11:07:08.864Z"
   },
   {
    "duration": 52,
    "start_time": "2022-04-26T11:07:58.364Z"
   },
   {
    "duration": 9,
    "start_time": "2022-04-26T11:08:48.255Z"
   },
   {
    "duration": 1796,
    "start_time": "2022-04-26T11:12:39.372Z"
   },
   {
    "duration": 4,
    "start_time": "2022-04-26T11:13:09.079Z"
   },
   {
    "duration": 9,
    "start_time": "2022-04-26T11:13:30.083Z"
   },
   {
    "duration": 19,
    "start_time": "2022-04-26T11:17:33.624Z"
   },
   {
    "duration": 18,
    "start_time": "2022-04-26T11:18:47.275Z"
   },
   {
    "duration": 24,
    "start_time": "2022-04-26T11:19:12.704Z"
   },
   {
    "duration": 55,
    "start_time": "2022-04-26T11:19:14.053Z"
   },
   {
    "duration": 9,
    "start_time": "2022-04-26T11:19:19.890Z"
   },
   {
    "duration": 1863,
    "start_time": "2022-04-26T11:19:23.457Z"
   },
   {
    "duration": 7,
    "start_time": "2022-04-26T11:19:46.341Z"
   },
   {
    "duration": 10,
    "start_time": "2022-04-26T11:19:48.686Z"
   },
   {
    "duration": 12,
    "start_time": "2022-04-26T11:26:52.782Z"
   },
   {
    "duration": 20,
    "start_time": "2022-04-26T11:27:02.149Z"
   },
   {
    "duration": 12,
    "start_time": "2022-04-26T11:27:25.742Z"
   },
   {
    "duration": 20,
    "start_time": "2022-04-26T11:27:29.109Z"
   },
   {
    "duration": 3,
    "start_time": "2022-04-26T11:27:40.303Z"
   },
   {
    "duration": 20,
    "start_time": "2022-04-26T11:27:40.311Z"
   },
   {
    "duration": 5,
    "start_time": "2022-04-26T11:27:40.333Z"
   },
   {
    "duration": 379,
    "start_time": "2022-04-26T11:27:40.339Z"
   },
   {
    "duration": 4,
    "start_time": "2022-04-26T11:27:40.720Z"
   },
   {
    "duration": 235,
    "start_time": "2022-04-26T11:27:40.725Z"
   },
   {
    "duration": 220,
    "start_time": "2022-04-26T11:27:40.973Z"
   },
   {
    "duration": 4,
    "start_time": "2022-04-26T11:27:41.195Z"
   },
   {
    "duration": 22,
    "start_time": "2022-04-26T11:27:41.200Z"
   },
   {
    "duration": 11,
    "start_time": "2022-04-26T11:27:41.224Z"
   },
   {
    "duration": 85,
    "start_time": "2022-04-26T11:27:41.236Z"
   },
   {
    "duration": 5,
    "start_time": "2022-04-26T11:27:41.323Z"
   },
   {
    "duration": 10,
    "start_time": "2022-04-26T11:27:41.331Z"
   },
   {
    "duration": 14,
    "start_time": "2022-04-26T11:27:41.343Z"
   },
   {
    "duration": 20,
    "start_time": "2022-04-26T11:27:41.358Z"
   },
   {
    "duration": 13299,
    "start_time": "2022-04-26T11:27:41.379Z"
   },
   {
    "duration": 11,
    "start_time": "2022-04-26T11:27:54.680Z"
   },
   {
    "duration": 26,
    "start_time": "2022-04-26T11:27:54.693Z"
   },
   {
    "duration": 21,
    "start_time": "2022-04-26T11:27:54.722Z"
   },
   {
    "duration": 53,
    "start_time": "2022-04-26T11:27:54.746Z"
   },
   {
    "duration": 11256,
    "start_time": "2022-04-26T11:27:54.802Z"
   },
   {
    "duration": 13,
    "start_time": "2022-04-26T11:28:06.060Z"
   },
   {
    "duration": 20,
    "start_time": "2022-04-26T11:28:06.075Z"
   },
   {
    "duration": 8960,
    "start_time": "2022-04-26T11:28:06.098Z"
   },
   {
    "duration": 13,
    "start_time": "2022-04-26T11:28:15.060Z"
   },
   {
    "duration": 36,
    "start_time": "2022-04-26T11:28:15.074Z"
   },
   {
    "duration": 18,
    "start_time": "2022-04-26T11:28:15.111Z"
   },
   {
    "duration": 46,
    "start_time": "2022-04-26T11:28:15.131Z"
   },
   {
    "duration": 36,
    "start_time": "2022-04-26T11:28:15.179Z"
   },
   {
    "duration": 8,
    "start_time": "2022-04-26T11:28:15.217Z"
   },
   {
    "duration": 5,
    "start_time": "2022-04-26T11:28:15.228Z"
   },
   {
    "duration": 13,
    "start_time": "2022-04-26T11:28:15.235Z"
   },
   {
    "duration": 51,
    "start_time": "2022-04-28T05:48:23.347Z"
   },
   {
    "duration": 405,
    "start_time": "2022-04-28T05:48:28.835Z"
   },
   {
    "duration": 33,
    "start_time": "2022-04-28T05:48:29.241Z"
   },
   {
    "duration": 942,
    "start_time": "2022-04-28T05:48:29.275Z"
   },
   {
    "duration": 437,
    "start_time": "2022-04-28T05:48:30.219Z"
   },
   {
    "duration": 5,
    "start_time": "2022-04-28T05:48:30.658Z"
   },
   {
    "duration": 265,
    "start_time": "2022-04-28T05:48:30.665Z"
   },
   {
    "duration": 312,
    "start_time": "2022-04-28T05:48:30.931Z"
   },
   {
    "duration": 5,
    "start_time": "2022-04-28T05:48:31.245Z"
   },
   {
    "duration": 22,
    "start_time": "2022-04-28T05:48:31.253Z"
   },
   {
    "duration": 4,
    "start_time": "2022-04-28T05:48:31.278Z"
   },
   {
    "duration": 90,
    "start_time": "2022-04-28T05:48:31.284Z"
   },
   {
    "duration": 6,
    "start_time": "2022-04-28T05:48:31.376Z"
   },
   {
    "duration": 12,
    "start_time": "2022-04-28T05:48:31.383Z"
   },
   {
    "duration": 10,
    "start_time": "2022-04-28T05:48:31.397Z"
   },
   {
    "duration": 20,
    "start_time": "2022-04-28T05:48:31.409Z"
   },
   {
    "duration": 12636,
    "start_time": "2022-04-28T05:48:31.431Z"
   },
   {
    "duration": 10,
    "start_time": "2022-04-28T05:48:44.072Z"
   },
   {
    "duration": 17,
    "start_time": "2022-04-28T05:48:44.083Z"
   },
   {
    "duration": 19,
    "start_time": "2022-04-28T05:48:44.102Z"
   },
   {
    "duration": 57,
    "start_time": "2022-04-28T05:48:44.122Z"
   },
   {
    "duration": 9154,
    "start_time": "2022-04-28T05:48:44.181Z"
   },
   {
    "duration": 13,
    "start_time": "2022-04-28T05:48:53.336Z"
   },
   {
    "duration": 32,
    "start_time": "2022-04-28T05:48:53.350Z"
   },
   {
    "duration": 7676,
    "start_time": "2022-04-28T05:48:53.384Z"
   },
   {
    "duration": 17,
    "start_time": "2022-04-28T05:49:01.062Z"
   },
   {
    "duration": 45,
    "start_time": "2022-04-28T05:49:01.081Z"
   },
   {
    "duration": 25,
    "start_time": "2022-04-28T05:49:01.128Z"
   },
   {
    "duration": 22,
    "start_time": "2022-04-28T05:49:01.174Z"
   },
   {
    "duration": 40,
    "start_time": "2022-04-28T05:49:01.198Z"
   },
   {
    "duration": 38,
    "start_time": "2022-04-28T05:49:01.240Z"
   },
   {
    "duration": 6,
    "start_time": "2022-04-28T05:49:01.280Z"
   },
   {
    "duration": 33,
    "start_time": "2022-04-28T05:49:01.288Z"
   },
   {
    "duration": 36,
    "start_time": "2022-04-28T05:50:10.768Z"
   },
   {
    "duration": 37,
    "start_time": "2022-04-28T05:51:01.512Z"
   },
   {
    "duration": 20,
    "start_time": "2022-04-28T05:52:10.610Z"
   },
   {
    "duration": 21,
    "start_time": "2022-04-28T05:52:48.399Z"
   },
   {
    "duration": 21,
    "start_time": "2022-04-28T05:53:01.169Z"
   },
   {
    "duration": 35,
    "start_time": "2022-04-28T05:53:57.330Z"
   },
   {
    "duration": 10,
    "start_time": "2022-04-28T05:54:01.378Z"
   },
   {
    "duration": 5,
    "start_time": "2022-04-28T05:54:02.457Z"
   },
   {
    "duration": 8,
    "start_time": "2022-04-28T05:54:03.311Z"
   },
   {
    "duration": 34,
    "start_time": "2022-04-28T05:55:53.247Z"
   },
   {
    "duration": 20,
    "start_time": "2022-04-28T05:56:43.846Z"
   },
   {
    "duration": 35,
    "start_time": "2022-04-28T05:59:57.645Z"
   },
   {
    "duration": 35,
    "start_time": "2022-04-28T06:04:01.136Z"
   },
   {
    "duration": 32,
    "start_time": "2022-04-28T06:04:19.252Z"
   },
   {
    "duration": 34,
    "start_time": "2022-04-28T06:06:11.238Z"
   },
   {
    "duration": 31,
    "start_time": "2022-04-28T06:08:47.638Z"
   },
   {
    "duration": 7,
    "start_time": "2022-04-28T06:25:11.024Z"
   },
   {
    "duration": 8,
    "start_time": "2022-04-28T06:25:11.886Z"
   },
   {
    "duration": 18,
    "start_time": "2022-04-28T06:27:33.835Z"
   },
   {
    "duration": 3,
    "start_time": "2022-04-28T06:29:28.387Z"
   },
   {
    "duration": 26,
    "start_time": "2022-04-28T06:29:48.287Z"
   },
   {
    "duration": 8,
    "start_time": "2022-04-28T06:30:49.430Z"
   },
   {
    "duration": 27,
    "start_time": "2022-04-28T06:37:55.561Z"
   },
   {
    "duration": 25,
    "start_time": "2022-04-28T06:38:02.694Z"
   },
   {
    "duration": 26,
    "start_time": "2022-04-28T06:38:07.840Z"
   },
   {
    "duration": 23,
    "start_time": "2022-04-28T06:38:08.759Z"
   },
   {
    "duration": 31,
    "start_time": "2022-04-28T06:38:10.725Z"
   },
   {
    "duration": 8,
    "start_time": "2022-04-28T06:38:15.838Z"
   },
   {
    "duration": 5,
    "start_time": "2022-04-28T06:38:18.002Z"
   },
   {
    "duration": 8,
    "start_time": "2022-04-28T06:38:18.886Z"
   },
   {
    "duration": 17,
    "start_time": "2022-04-28T06:38:26.994Z"
   },
   {
    "duration": 167,
    "start_time": "2022-04-28T06:41:00.042Z"
   },
   {
    "duration": 25,
    "start_time": "2022-04-28T06:41:07.268Z"
   },
   {
    "duration": 28,
    "start_time": "2022-04-28T06:42:38.570Z"
   },
   {
    "duration": 25,
    "start_time": "2022-04-28T06:43:44.645Z"
   },
   {
    "duration": 30,
    "start_time": "2022-04-28T06:45:04.511Z"
   },
   {
    "duration": 26,
    "start_time": "2022-04-28T06:45:18.513Z"
   },
   {
    "duration": 92,
    "start_time": "2022-04-28T06:45:40.070Z"
   },
   {
    "duration": 2,
    "start_time": "2022-04-28T06:46:16.402Z"
   },
   {
    "duration": 20,
    "start_time": "2022-04-28T06:46:16.409Z"
   },
   {
    "duration": 3,
    "start_time": "2022-04-28T06:46:16.431Z"
   },
   {
    "duration": 402,
    "start_time": "2022-04-28T06:46:16.436Z"
   },
   {
    "duration": 5,
    "start_time": "2022-04-28T06:46:16.840Z"
   },
   {
    "duration": 248,
    "start_time": "2022-04-28T06:46:16.847Z"
   },
   {
    "duration": 233,
    "start_time": "2022-04-28T06:46:17.098Z"
   },
   {
    "duration": 4,
    "start_time": "2022-04-28T06:46:17.333Z"
   },
   {
    "duration": 10,
    "start_time": "2022-04-28T06:46:17.340Z"
   },
   {
    "duration": 3,
    "start_time": "2022-04-28T06:46:17.374Z"
   },
   {
    "duration": 100,
    "start_time": "2022-04-28T06:46:17.379Z"
   },
   {
    "duration": 5,
    "start_time": "2022-04-28T06:46:17.481Z"
   },
   {
    "duration": 8,
    "start_time": "2022-04-28T06:46:17.488Z"
   },
   {
    "duration": 11,
    "start_time": "2022-04-28T06:46:17.498Z"
   },
   {
    "duration": 13,
    "start_time": "2022-04-28T06:46:17.511Z"
   },
   {
    "duration": 12533,
    "start_time": "2022-04-28T06:46:17.526Z"
   },
   {
    "duration": 14,
    "start_time": "2022-04-28T06:46:30.060Z"
   },
   {
    "duration": 20,
    "start_time": "2022-04-28T06:46:30.076Z"
   },
   {
    "duration": 28,
    "start_time": "2022-04-28T06:46:30.098Z"
   },
   {
    "duration": 44,
    "start_time": "2022-04-28T06:46:30.129Z"
   },
   {
    "duration": 9217,
    "start_time": "2022-04-28T06:46:30.176Z"
   },
   {
    "duration": 12,
    "start_time": "2022-04-28T06:46:39.395Z"
   },
   {
    "duration": 20,
    "start_time": "2022-04-28T06:46:39.409Z"
   },
   {
    "duration": 7552,
    "start_time": "2022-04-28T06:46:39.431Z"
   },
   {
    "duration": 11,
    "start_time": "2022-04-28T06:46:46.985Z"
   },
   {
    "duration": 35,
    "start_time": "2022-04-28T06:46:46.998Z"
   },
   {
    "duration": 60,
    "start_time": "2022-04-28T06:46:47.035Z"
   },
   {
    "duration": 0,
    "start_time": "2022-04-28T06:46:47.097Z"
   },
   {
    "duration": 0,
    "start_time": "2022-04-28T06:46:47.098Z"
   },
   {
    "duration": 0,
    "start_time": "2022-04-28T06:46:47.099Z"
   },
   {
    "duration": 0,
    "start_time": "2022-04-28T06:46:47.100Z"
   },
   {
    "duration": 0,
    "start_time": "2022-04-28T06:46:47.101Z"
   },
   {
    "duration": 0,
    "start_time": "2022-04-28T06:46:47.102Z"
   },
   {
    "duration": 0,
    "start_time": "2022-04-28T06:46:47.103Z"
   },
   {
    "duration": 26,
    "start_time": "2022-04-28T06:46:51.175Z"
   },
   {
    "duration": 20,
    "start_time": "2022-04-28T06:46:54.462Z"
   },
   {
    "duration": 31,
    "start_time": "2022-04-28T06:46:56.214Z"
   },
   {
    "duration": 8,
    "start_time": "2022-04-28T06:46:57.843Z"
   },
   {
    "duration": 2262,
    "start_time": "2022-04-28T06:46:59.496Z"
   },
   {
    "duration": 0,
    "start_time": "2022-04-28T06:47:01.760Z"
   },
   {
    "duration": 0,
    "start_time": "2022-04-28T06:47:01.762Z"
   },
   {
    "duration": 1998,
    "start_time": "2022-04-28T06:47:15.643Z"
   },
   {
    "duration": 6,
    "start_time": "2022-04-28T06:47:24.422Z"
   },
   {
    "duration": 8,
    "start_time": "2022-04-28T06:47:28.165Z"
   },
   {
    "duration": 17,
    "start_time": "2022-04-28T06:47:33.374Z"
   },
   {
    "duration": 24,
    "start_time": "2022-04-28T06:49:23.761Z"
   },
   {
    "duration": 20,
    "start_time": "2022-04-28T06:49:27.564Z"
   },
   {
    "duration": 29,
    "start_time": "2022-04-28T06:49:29.681Z"
   },
   {
    "duration": 9,
    "start_time": "2022-04-28T06:49:31.949Z"
   },
   {
    "duration": 5,
    "start_time": "2022-04-28T06:49:46.997Z"
   },
   {
    "duration": 8,
    "start_time": "2022-04-28T06:49:48.560Z"
   },
   {
    "duration": 17,
    "start_time": "2022-04-28T06:49:50.622Z"
   },
   {
    "duration": 24,
    "start_time": "2022-04-28T06:51:12.587Z"
   },
   {
    "duration": 20,
    "start_time": "2022-04-28T06:51:18.436Z"
   },
   {
    "duration": 31,
    "start_time": "2022-04-28T06:51:20.035Z"
   },
   {
    "duration": 9,
    "start_time": "2022-04-28T06:51:21.515Z"
   },
   {
    "duration": 5,
    "start_time": "2022-04-28T06:51:23.029Z"
   },
   {
    "duration": 9,
    "start_time": "2022-04-28T06:51:23.808Z"
   },
   {
    "duration": 19,
    "start_time": "2022-04-28T06:51:25.826Z"
   },
   {
    "duration": 5,
    "start_time": "2022-04-28T07:12:53.384Z"
   },
   {
    "duration": 4,
    "start_time": "2022-04-28T07:13:11.012Z"
   },
   {
    "duration": 115,
    "start_time": "2022-04-28T07:14:16.298Z"
   },
   {
    "duration": 245,
    "start_time": "2022-04-28T07:14:23.517Z"
   },
   {
    "duration": 5,
    "start_time": "2022-04-28T07:14:36.155Z"
   },
   {
    "duration": 5,
    "start_time": "2022-04-28T07:25:37.120Z"
   },
   {
    "duration": 4,
    "start_time": "2022-04-28T07:25:57.330Z"
   },
   {
    "duration": 4,
    "start_time": "2022-04-28T07:26:06.578Z"
   },
   {
    "duration": 5,
    "start_time": "2022-04-28T07:27:08.038Z"
   },
   {
    "duration": 117,
    "start_time": "2022-04-28T07:27:52.051Z"
   },
   {
    "duration": 4,
    "start_time": "2022-04-28T07:28:02.265Z"
   },
   {
    "duration": 119,
    "start_time": "2022-04-28T07:28:04.913Z"
   },
   {
    "duration": 132,
    "start_time": "2022-04-28T07:28:24.646Z"
   },
   {
    "duration": 143,
    "start_time": "2022-04-28T07:28:47.875Z"
   },
   {
    "duration": 120,
    "start_time": "2022-04-28T07:29:50.651Z"
   },
   {
    "duration": 151,
    "start_time": "2022-04-28T07:29:59.401Z"
   },
   {
    "duration": 115,
    "start_time": "2022-04-28T07:30:20.299Z"
   },
   {
    "duration": 133,
    "start_time": "2022-04-28T07:31:18.724Z"
   },
   {
    "duration": 143,
    "start_time": "2022-04-28T07:36:41.080Z"
   },
   {
    "duration": 5,
    "start_time": "2022-04-28T08:00:06.132Z"
   },
   {
    "duration": 146,
    "start_time": "2022-04-28T08:02:20.631Z"
   },
   {
    "duration": 9,
    "start_time": "2022-04-28T08:17:00.397Z"
   },
   {
    "duration": 6,
    "start_time": "2022-04-28T08:17:09.872Z"
   },
   {
    "duration": 5,
    "start_time": "2022-04-28T08:17:52.685Z"
   },
   {
    "duration": 6,
    "start_time": "2022-04-28T08:20:42.065Z"
   },
   {
    "duration": 10,
    "start_time": "2022-04-28T08:20:55.720Z"
   },
   {
    "duration": 5,
    "start_time": "2022-04-28T08:21:25.713Z"
   },
   {
    "duration": 9,
    "start_time": "2022-04-28T08:23:05.206Z"
   },
   {
    "duration": 6,
    "start_time": "2022-04-28T08:25:10.728Z"
   },
   {
    "duration": 7,
    "start_time": "2022-04-28T08:30:16.898Z"
   },
   {
    "duration": 7,
    "start_time": "2022-04-28T08:30:26.123Z"
   },
   {
    "duration": 9,
    "start_time": "2022-04-28T08:31:47.206Z"
   },
   {
    "duration": 7,
    "start_time": "2022-04-28T08:32:04.083Z"
   },
   {
    "duration": 9,
    "start_time": "2022-04-28T08:33:24.805Z"
   },
   {
    "duration": 14,
    "start_time": "2022-04-28T08:34:23.368Z"
   },
   {
    "duration": 10,
    "start_time": "2022-04-28T08:34:54.778Z"
   },
   {
    "duration": 8,
    "start_time": "2022-04-28T08:35:07.136Z"
   },
   {
    "duration": 7,
    "start_time": "2022-04-28T08:35:17.416Z"
   },
   {
    "duration": 7,
    "start_time": "2022-04-28T08:36:30.254Z"
   },
   {
    "duration": 7,
    "start_time": "2022-04-28T08:45:28.186Z"
   },
   {
    "duration": 7,
    "start_time": "2022-04-28T08:46:15.286Z"
   },
   {
    "duration": 23,
    "start_time": "2022-04-28T09:08:26.677Z"
   },
   {
    "duration": 7,
    "start_time": "2022-04-28T09:09:04.157Z"
   },
   {
    "duration": 11,
    "start_time": "2022-04-28T09:10:42.369Z"
   },
   {
    "duration": 11,
    "start_time": "2022-04-28T09:10:59.690Z"
   },
   {
    "duration": 10,
    "start_time": "2022-04-28T09:11:19.637Z"
   },
   {
    "duration": 10,
    "start_time": "2022-04-28T09:11:45.383Z"
   },
   {
    "duration": 17,
    "start_time": "2022-04-28T09:13:34.106Z"
   },
   {
    "duration": 17,
    "start_time": "2022-04-28T09:14:11.339Z"
   },
   {
    "duration": 13,
    "start_time": "2022-04-28T09:15:03.849Z"
   },
   {
    "duration": 11,
    "start_time": "2022-04-28T09:15:50.883Z"
   },
   {
    "duration": 128,
    "start_time": "2022-04-28T09:18:13.733Z"
   },
   {
    "duration": 4,
    "start_time": "2022-04-28T09:21:42.287Z"
   },
   {
    "duration": 6,
    "start_time": "2022-04-28T09:21:56.465Z"
   },
   {
    "duration": 13,
    "start_time": "2022-04-28T09:22:24.940Z"
   },
   {
    "duration": 11,
    "start_time": "2022-04-28T09:22:51.897Z"
   },
   {
    "duration": 7,
    "start_time": "2022-04-28T09:23:12.617Z"
   },
   {
    "duration": 7,
    "start_time": "2022-04-28T09:23:50.418Z"
   },
   {
    "duration": 5,
    "start_time": "2022-04-28T09:24:20.644Z"
   },
   {
    "duration": 7,
    "start_time": "2022-04-28T09:24:44.470Z"
   },
   {
    "duration": 7,
    "start_time": "2022-04-28T09:24:54.742Z"
   },
   {
    "duration": 3,
    "start_time": "2022-04-28T09:27:47.849Z"
   },
   {
    "duration": 5,
    "start_time": "2022-04-28T09:27:55.052Z"
   },
   {
    "duration": 9,
    "start_time": "2022-04-28T09:28:21.687Z"
   },
   {
    "duration": 10,
    "start_time": "2022-04-28T09:28:31.136Z"
   },
   {
    "duration": 13,
    "start_time": "2022-04-28T09:28:41.172Z"
   },
   {
    "duration": 8,
    "start_time": "2022-04-28T09:29:32.854Z"
   },
   {
    "duration": 4,
    "start_time": "2022-04-28T09:29:43.536Z"
   },
   {
    "duration": 4,
    "start_time": "2022-04-28T09:30:20.795Z"
   },
   {
    "duration": 3,
    "start_time": "2022-04-28T09:32:36.323Z"
   },
   {
    "duration": 4,
    "start_time": "2022-04-28T09:32:41.527Z"
   },
   {
    "duration": 4,
    "start_time": "2022-04-28T09:33:11.948Z"
   },
   {
    "duration": 6,
    "start_time": "2022-04-28T09:35:35.966Z"
   },
   {
    "duration": 8,
    "start_time": "2022-04-28T09:35:46.636Z"
   },
   {
    "duration": 7,
    "start_time": "2022-04-28T09:36:26.650Z"
   },
   {
    "duration": 4,
    "start_time": "2022-04-28T09:36:40.355Z"
   },
   {
    "duration": 4,
    "start_time": "2022-04-28T09:38:21.126Z"
   },
   {
    "duration": 4,
    "start_time": "2022-04-28T09:41:01.346Z"
   },
   {
    "duration": 7,
    "start_time": "2022-04-28T09:43:22.604Z"
   },
   {
    "duration": 25,
    "start_time": "2022-04-28T09:43:36.519Z"
   },
   {
    "duration": 237,
    "start_time": "2022-04-28T09:44:54.727Z"
   },
   {
    "duration": 489,
    "start_time": "2022-04-28T09:47:22.703Z"
   },
   {
    "duration": 12,
    "start_time": "2022-04-28T09:49:10.029Z"
   },
   {
    "duration": 3,
    "start_time": "2022-04-28T09:49:18.737Z"
   },
   {
    "duration": 3,
    "start_time": "2022-04-28T09:49:19.518Z"
   },
   {
    "duration": 244,
    "start_time": "2022-04-28T09:49:21.098Z"
   },
   {
    "duration": 18,
    "start_time": "2022-04-28T10:00:28.660Z"
   },
   {
    "duration": 27,
    "start_time": "2022-04-28T10:00:39.366Z"
   },
   {
    "duration": 11,
    "start_time": "2022-04-28T10:00:55.809Z"
   },
   {
    "duration": 10,
    "start_time": "2022-04-28T10:01:19.554Z"
   },
   {
    "duration": 121,
    "start_time": "2022-04-28T10:01:52.625Z"
   },
   {
    "duration": 277,
    "start_time": "2022-04-28T10:02:04.990Z"
   },
   {
    "duration": 134,
    "start_time": "2022-04-28T10:02:46.933Z"
   },
   {
    "duration": 27,
    "start_time": "2022-04-28T10:03:00.327Z"
   },
   {
    "duration": 27,
    "start_time": "2022-04-28T10:04:11.732Z"
   },
   {
    "duration": 147,
    "start_time": "2022-04-28T10:11:03.301Z"
   },
   {
    "duration": 1434,
    "start_time": "2022-04-28T10:15:59.286Z"
   },
   {
    "duration": 213,
    "start_time": "2022-04-28T10:18:17.325Z"
   },
   {
    "duration": 9,
    "start_time": "2022-04-28T10:18:44.807Z"
   },
   {
    "duration": 4,
    "start_time": "2022-04-28T10:25:27.832Z"
   },
   {
    "duration": 148,
    "start_time": "2022-04-28T10:25:29.243Z"
   },
   {
    "duration": 5,
    "start_time": "2022-04-28T10:28:09.127Z"
   },
   {
    "duration": 3,
    "start_time": "2022-04-28T10:30:12.140Z"
   },
   {
    "duration": 311,
    "start_time": "2022-04-28T10:31:33.939Z"
   },
   {
    "duration": 4,
    "start_time": "2022-04-28T10:34:38.892Z"
   },
   {
    "duration": 18,
    "start_time": "2022-04-28T10:35:00.559Z"
   },
   {
    "duration": 18,
    "start_time": "2022-04-28T10:35:12.189Z"
   },
   {
    "duration": 3,
    "start_time": "2022-04-28T10:35:22.796Z"
   },
   {
    "duration": 156,
    "start_time": "2022-04-28T10:35:23.721Z"
   },
   {
    "duration": 19,
    "start_time": "2022-04-28T10:35:24.455Z"
   },
   {
    "duration": 10,
    "start_time": "2022-04-28T10:35:25.457Z"
   },
   {
    "duration": 4,
    "start_time": "2022-04-28T10:35:39.177Z"
   },
   {
    "duration": 147,
    "start_time": "2022-04-28T10:35:41.038Z"
   },
   {
    "duration": 297,
    "start_time": "2022-04-28T10:35:43.628Z"
   },
   {
    "duration": 4,
    "start_time": "2022-04-28T10:36:26.578Z"
   },
   {
    "duration": 239,
    "start_time": "2022-04-28T10:36:28.794Z"
   },
   {
    "duration": 304,
    "start_time": "2022-04-28T10:36:29.616Z"
   },
   {
    "duration": 129,
    "start_time": "2022-04-28T10:42:22.211Z"
   },
   {
    "duration": 4,
    "start_time": "2022-04-28T10:42:57.986Z"
   },
   {
    "duration": 188,
    "start_time": "2022-04-28T10:44:30.319Z"
   },
   {
    "duration": 8,
    "start_time": "2022-04-28T11:28:00.434Z"
   },
   {
    "duration": 13,
    "start_time": "2022-04-28T11:28:14.914Z"
   },
   {
    "duration": 9,
    "start_time": "2022-04-28T11:30:19.092Z"
   },
   {
    "duration": 7,
    "start_time": "2022-04-28T11:30:45.773Z"
   },
   {
    "duration": 11,
    "start_time": "2022-04-28T11:32:35.360Z"
   },
   {
    "duration": 38,
    "start_time": "2022-04-28T11:32:47.760Z"
   },
   {
    "duration": 12,
    "start_time": "2022-04-28T11:36:17.532Z"
   },
   {
    "duration": 12,
    "start_time": "2022-04-28T11:38:24.526Z"
   },
   {
    "duration": 28,
    "start_time": "2022-04-28T11:38:26.788Z"
   },
   {
    "duration": 136,
    "start_time": "2022-04-28T11:43:18.127Z"
   },
   {
    "duration": 180,
    "start_time": "2022-04-28T11:46:50.075Z"
   },
   {
    "duration": 163,
    "start_time": "2022-04-28T11:46:56.445Z"
   },
   {
    "duration": 161,
    "start_time": "2022-04-28T11:47:49.158Z"
   },
   {
    "duration": 4,
    "start_time": "2022-04-28T11:49:30.423Z"
   },
   {
    "duration": 194,
    "start_time": "2022-04-28T11:49:38.941Z"
   },
   {
    "duration": 4,
    "start_time": "2022-04-28T11:50:02.203Z"
   },
   {
    "duration": 148,
    "start_time": "2022-04-28T11:50:05.193Z"
   },
   {
    "duration": 204,
    "start_time": "2022-04-28T11:50:06.900Z"
   },
   {
    "duration": 138,
    "start_time": "2022-04-28T11:50:13.552Z"
   },
   {
    "duration": 187,
    "start_time": "2022-04-28T11:50:17.533Z"
   },
   {
    "duration": 4,
    "start_time": "2022-04-28T11:50:57.900Z"
   },
   {
    "duration": 4,
    "start_time": "2022-04-28T11:51:09.404Z"
   },
   {
    "duration": 148,
    "start_time": "2022-04-28T11:51:12.038Z"
   },
   {
    "duration": 270,
    "start_time": "2022-04-28T11:51:13.536Z"
   },
   {
    "duration": 4,
    "start_time": "2022-04-28T11:51:50.824Z"
   },
   {
    "duration": 147,
    "start_time": "2022-04-28T11:51:53.072Z"
   },
   {
    "duration": 171,
    "start_time": "2022-04-28T11:51:54.047Z"
   },
   {
    "duration": 170,
    "start_time": "2022-04-28T11:59:45.927Z"
   },
   {
    "duration": 136,
    "start_time": "2022-04-28T12:02:16.243Z"
   },
   {
    "duration": 155,
    "start_time": "2022-04-28T12:03:49.006Z"
   },
   {
    "duration": 129,
    "start_time": "2022-04-28T12:04:03.595Z"
   },
   {
    "duration": 156,
    "start_time": "2022-04-28T12:05:29.734Z"
   },
   {
    "duration": 136,
    "start_time": "2022-04-28T12:05:46.633Z"
   },
   {
    "duration": 158,
    "start_time": "2022-04-28T12:17:28.780Z"
   },
   {
    "duration": 161,
    "start_time": "2022-04-28T12:17:29.979Z"
   },
   {
    "duration": 153,
    "start_time": "2022-04-28T12:18:15.642Z"
   },
   {
    "duration": 158,
    "start_time": "2022-04-28T12:18:32.821Z"
   },
   {
    "duration": 146,
    "start_time": "2022-04-28T12:27:25.056Z"
   },
   {
    "duration": 163,
    "start_time": "2022-04-28T12:28:19.662Z"
   },
   {
    "duration": 5,
    "start_time": "2022-04-28T12:38:01.297Z"
   },
   {
    "duration": 290,
    "start_time": "2022-04-28T12:38:04.715Z"
   },
   {
    "duration": 766,
    "start_time": "2022-04-28T12:38:06.008Z"
   },
   {
    "duration": 3,
    "start_time": "2022-04-28T12:38:55.864Z"
   },
   {
    "duration": 165,
    "start_time": "2022-04-28T12:38:58.778Z"
   },
   {
    "duration": 186,
    "start_time": "2022-04-28T12:38:59.779Z"
   },
   {
    "duration": 5,
    "start_time": "2022-04-28T12:40:23.028Z"
   },
   {
    "duration": 148,
    "start_time": "2022-04-28T12:40:25.504Z"
   },
   {
    "duration": 176,
    "start_time": "2022-04-28T12:40:26.879Z"
   },
   {
    "duration": 141,
    "start_time": "2022-04-28T12:41:04.256Z"
   },
   {
    "duration": 167,
    "start_time": "2022-04-28T12:41:05.346Z"
   },
   {
    "duration": 4,
    "start_time": "2022-04-28T12:42:16.919Z"
   },
   {
    "duration": 157,
    "start_time": "2022-04-28T12:42:19.012Z"
   },
   {
    "duration": 195,
    "start_time": "2022-04-28T12:42:20.836Z"
   },
   {
    "duration": 136,
    "start_time": "2022-04-28T12:42:55.972Z"
   },
   {
    "duration": 180,
    "start_time": "2022-04-28T12:43:44.070Z"
   },
   {
    "duration": 4,
    "start_time": "2022-04-28T12:44:40.938Z"
   },
   {
    "duration": 4,
    "start_time": "2022-04-28T12:44:46.344Z"
   },
   {
    "duration": 147,
    "start_time": "2022-04-28T12:44:50.047Z"
   },
   {
    "duration": 173,
    "start_time": "2022-04-28T12:44:51.245Z"
   },
   {
    "duration": 186,
    "start_time": "2022-04-28T12:47:06.872Z"
   },
   {
    "duration": 331,
    "start_time": "2022-04-28T12:47:41.884Z"
   },
   {
    "duration": 117,
    "start_time": "2022-04-28T12:50:25.963Z"
   },
   {
    "duration": 4,
    "start_time": "2022-04-28T12:51:01.255Z"
   },
   {
    "duration": 147,
    "start_time": "2022-04-28T12:51:03.905Z"
   },
   {
    "duration": 180,
    "start_time": "2022-04-28T12:51:05.503Z"
   },
   {
    "duration": 133,
    "start_time": "2022-04-28T12:51:38.521Z"
   },
   {
    "duration": 155,
    "start_time": "2022-04-28T12:51:39.493Z"
   },
   {
    "duration": 141,
    "start_time": "2022-04-28T12:51:42.133Z"
   },
   {
    "duration": 172,
    "start_time": "2022-04-28T12:51:43.116Z"
   },
   {
    "duration": 6,
    "start_time": "2022-04-28T12:58:37.573Z"
   },
   {
    "duration": 258,
    "start_time": "2022-04-28T12:59:35.419Z"
   },
   {
    "duration": 73,
    "start_time": "2022-04-28T13:08:27.205Z"
   },
   {
    "duration": 4,
    "start_time": "2022-04-28T13:10:06.093Z"
   },
   {
    "duration": 35,
    "start_time": "2022-04-28T13:12:23.334Z"
   },
   {
    "duration": 36,
    "start_time": "2022-04-28T13:14:03.013Z"
   },
   {
    "duration": 4,
    "start_time": "2022-04-28T13:14:16.042Z"
   },
   {
    "duration": 26,
    "start_time": "2022-04-28T13:14:27.634Z"
   },
   {
    "duration": 3,
    "start_time": "2022-04-28T13:24:35.326Z"
   },
   {
    "duration": 5,
    "start_time": "2022-04-28T13:27:46.204Z"
   },
   {
    "duration": 4,
    "start_time": "2022-04-28T13:27:59.761Z"
   },
   {
    "duration": 35,
    "start_time": "2022-04-28T13:28:20.348Z"
   },
   {
    "duration": 4,
    "start_time": "2022-04-28T13:28:35.618Z"
   },
   {
    "duration": 11,
    "start_time": "2022-04-28T13:34:31.859Z"
   },
   {
    "duration": 9,
    "start_time": "2022-04-28T13:35:58.221Z"
   },
   {
    "duration": 9,
    "start_time": "2022-04-28T13:36:09.878Z"
   },
   {
    "duration": 4,
    "start_time": "2022-04-28T13:36:14.033Z"
   },
   {
    "duration": 8,
    "start_time": "2022-04-28T13:36:14.839Z"
   },
   {
    "duration": 10,
    "start_time": "2022-04-28T13:36:34.077Z"
   },
   {
    "duration": 4,
    "start_time": "2022-04-28T13:39:11.686Z"
   },
   {
    "duration": 10,
    "start_time": "2022-04-28T13:39:44.448Z"
   },
   {
    "duration": 8,
    "start_time": "2022-04-28T13:40:22.490Z"
   },
   {
    "duration": 8,
    "start_time": "2022-04-28T13:41:04.158Z"
   },
   {
    "duration": 9,
    "start_time": "2022-04-28T13:41:06.457Z"
   },
   {
    "duration": 9,
    "start_time": "2022-04-28T13:41:23.969Z"
   },
   {
    "duration": 9,
    "start_time": "2022-04-28T13:41:25.057Z"
   },
   {
    "duration": 9,
    "start_time": "2022-04-28T13:44:24.549Z"
   },
   {
    "duration": 165,
    "start_time": "2022-04-28T13:44:26.949Z"
   },
   {
    "duration": 187,
    "start_time": "2022-04-28T13:44:28.710Z"
   },
   {
    "duration": 144,
    "start_time": "2022-04-28T13:44:30.325Z"
   },
   {
    "duration": 161,
    "start_time": "2022-04-28T13:44:31.121Z"
   },
   {
    "duration": 147,
    "start_time": "2022-04-28T13:44:32.740Z"
   },
   {
    "duration": 176,
    "start_time": "2022-04-28T13:44:33.751Z"
   },
   {
    "duration": 23,
    "start_time": "2022-04-28T13:44:35.759Z"
   },
   {
    "duration": 8,
    "start_time": "2022-04-28T13:44:38.557Z"
   },
   {
    "duration": 13,
    "start_time": "2022-04-28T13:44:39.684Z"
   },
   {
    "duration": 8,
    "start_time": "2022-04-28T13:45:47.390Z"
   },
   {
    "duration": 13,
    "start_time": "2022-04-28T13:45:48.608Z"
   },
   {
    "duration": 10,
    "start_time": "2022-04-28T13:46:41.788Z"
   },
   {
    "duration": 4,
    "start_time": "2022-04-28T13:47:18.206Z"
   },
   {
    "duration": 10,
    "start_time": "2022-04-28T13:47:19.693Z"
   },
   {
    "duration": 10,
    "start_time": "2022-04-28T13:49:50.607Z"
   },
   {
    "duration": 2,
    "start_time": "2022-04-28T13:50:03.933Z"
   },
   {
    "duration": 37,
    "start_time": "2022-04-28T13:50:03.941Z"
   },
   {
    "duration": 3,
    "start_time": "2022-04-28T13:50:03.980Z"
   },
   {
    "duration": 748,
    "start_time": "2022-04-28T13:50:03.985Z"
   },
   {
    "duration": 4,
    "start_time": "2022-04-28T13:50:04.736Z"
   },
   {
    "duration": 246,
    "start_time": "2022-04-28T13:50:04.742Z"
   },
   {
    "duration": 232,
    "start_time": "2022-04-28T13:50:04.990Z"
   },
   {
    "duration": 4,
    "start_time": "2022-04-28T13:50:05.224Z"
   },
   {
    "duration": 14,
    "start_time": "2022-04-28T13:50:05.230Z"
   },
   {
    "duration": 6,
    "start_time": "2022-04-28T13:50:05.246Z"
   },
   {
    "duration": 98,
    "start_time": "2022-04-28T13:50:05.255Z"
   },
   {
    "duration": 19,
    "start_time": "2022-04-28T13:50:05.355Z"
   },
   {
    "duration": 10,
    "start_time": "2022-04-28T13:50:05.376Z"
   },
   {
    "duration": 8,
    "start_time": "2022-04-28T13:50:05.387Z"
   },
   {
    "duration": 14,
    "start_time": "2022-04-28T13:50:05.397Z"
   },
   {
    "duration": 12738,
    "start_time": "2022-04-28T13:50:05.413Z"
   },
   {
    "duration": 9,
    "start_time": "2022-04-28T13:50:18.152Z"
   },
   {
    "duration": 19,
    "start_time": "2022-04-28T13:50:18.162Z"
   },
   {
    "duration": 23,
    "start_time": "2022-04-28T13:50:18.182Z"
   },
   {
    "duration": 22,
    "start_time": "2022-04-28T13:50:18.206Z"
   },
   {
    "duration": 9561,
    "start_time": "2022-04-28T13:50:18.230Z"
   },
   {
    "duration": 12,
    "start_time": "2022-04-28T13:50:27.793Z"
   },
   {
    "duration": 18,
    "start_time": "2022-04-28T13:50:27.807Z"
   },
   {
    "duration": 7586,
    "start_time": "2022-04-28T13:50:27.827Z"
   },
   {
    "duration": 12,
    "start_time": "2022-04-28T13:50:35.414Z"
   },
   {
    "duration": 46,
    "start_time": "2022-04-28T13:50:35.427Z"
   },
   {
    "duration": 18,
    "start_time": "2022-04-28T13:50:35.475Z"
   },
   {
    "duration": 16,
    "start_time": "2022-04-28T13:50:35.495Z"
   },
   {
    "duration": 86,
    "start_time": "2022-04-28T13:50:35.544Z"
   },
   {
    "duration": 20,
    "start_time": "2022-04-28T13:50:35.632Z"
   },
   {
    "duration": 9,
    "start_time": "2022-04-28T13:50:35.654Z"
   },
   {
    "duration": 19,
    "start_time": "2022-04-28T13:50:35.664Z"
   },
   {
    "duration": 13,
    "start_time": "2022-04-28T13:50:35.684Z"
   },
   {
    "duration": 154,
    "start_time": "2022-04-28T13:50:35.698Z"
   },
   {
    "duration": 5,
    "start_time": "2022-04-28T13:50:35.854Z"
   },
   {
    "duration": 16,
    "start_time": "2022-04-28T13:50:35.861Z"
   },
   {
    "duration": 8,
    "start_time": "2022-04-28T13:50:35.879Z"
   },
   {
    "duration": 9,
    "start_time": "2022-04-28T13:50:35.888Z"
   },
   {
    "duration": 8,
    "start_time": "2022-04-28T13:50:35.899Z"
   },
   {
    "duration": 8,
    "start_time": "2022-04-28T13:50:35.909Z"
   },
   {
    "duration": 8,
    "start_time": "2022-04-28T13:50:35.919Z"
   },
   {
    "duration": 185,
    "start_time": "2022-04-28T13:50:35.929Z"
   },
   {
    "duration": 189,
    "start_time": "2022-04-28T13:50:36.116Z"
   },
   {
    "duration": 154,
    "start_time": "2022-04-28T13:50:36.306Z"
   },
   {
    "duration": 182,
    "start_time": "2022-04-28T13:50:36.462Z"
   },
   {
    "duration": 148,
    "start_time": "2022-04-28T13:50:36.646Z"
   },
   {
    "duration": 184,
    "start_time": "2022-04-28T13:50:36.796Z"
   },
   {
    "duration": 24,
    "start_time": "2022-04-28T13:50:36.982Z"
   },
   {
    "duration": 4,
    "start_time": "2022-04-28T13:50:37.008Z"
   },
   {
    "duration": 15,
    "start_time": "2022-04-28T13:50:37.013Z"
   },
   {
    "duration": 9,
    "start_time": "2022-04-28T13:50:53.207Z"
   },
   {
    "duration": 12,
    "start_time": "2022-04-28T13:52:16.326Z"
   },
   {
    "duration": 6,
    "start_time": "2022-04-28T13:52:32.657Z"
   },
   {
    "duration": 9,
    "start_time": "2022-04-28T13:56:01.099Z"
   },
   {
    "duration": 10,
    "start_time": "2022-04-28T13:56:38.266Z"
   },
   {
    "duration": 5,
    "start_time": "2022-04-28T13:56:51.672Z"
   },
   {
    "duration": 6,
    "start_time": "2022-04-28T13:58:02.723Z"
   },
   {
    "duration": 5,
    "start_time": "2022-04-28T13:58:53.737Z"
   },
   {
    "duration": 10,
    "start_time": "2022-04-28T14:56:57.239Z"
   },
   {
    "duration": 5,
    "start_time": "2022-04-28T14:58:18.828Z"
   },
   {
    "duration": 23,
    "start_time": "2022-04-28T14:58:21.797Z"
   },
   {
    "duration": 17,
    "start_time": "2022-04-28T14:58:39.576Z"
   },
   {
    "duration": 3,
    "start_time": "2022-04-28T14:58:42.231Z"
   },
   {
    "duration": 24,
    "start_time": "2022-04-28T14:58:43.079Z"
   },
   {
    "duration": 3,
    "start_time": "2022-04-28T14:58:53.180Z"
   },
   {
    "duration": 21,
    "start_time": "2022-04-28T14:58:53.189Z"
   },
   {
    "duration": 2,
    "start_time": "2022-04-28T14:58:53.212Z"
   },
   {
    "duration": 406,
    "start_time": "2022-04-28T14:58:53.219Z"
   },
   {
    "duration": 4,
    "start_time": "2022-04-28T14:58:53.628Z"
   },
   {
    "duration": 226,
    "start_time": "2022-04-28T14:58:53.634Z"
   },
   {
    "duration": 210,
    "start_time": "2022-04-28T14:58:53.872Z"
   },
   {
    "duration": 5,
    "start_time": "2022-04-28T14:58:54.083Z"
   },
   {
    "duration": 18,
    "start_time": "2022-04-28T14:58:54.089Z"
   },
   {
    "duration": 10,
    "start_time": "2022-04-28T14:58:54.108Z"
   },
   {
    "duration": 74,
    "start_time": "2022-04-28T14:58:54.119Z"
   },
   {
    "duration": 5,
    "start_time": "2022-04-28T14:58:54.195Z"
   },
   {
    "duration": 6,
    "start_time": "2022-04-28T14:58:54.202Z"
   },
   {
    "duration": 8,
    "start_time": "2022-04-28T14:58:54.210Z"
   },
   {
    "duration": 11,
    "start_time": "2022-04-28T14:58:54.220Z"
   },
   {
    "duration": 12936,
    "start_time": "2022-04-28T14:58:54.233Z"
   },
   {
    "duration": 10,
    "start_time": "2022-04-28T14:59:07.171Z"
   },
   {
    "duration": 13,
    "start_time": "2022-04-28T14:59:07.182Z"
   },
   {
    "duration": 2,
    "start_time": "2022-04-28T14:59:07.197Z"
   },
   {
    "duration": 29,
    "start_time": "2022-04-28T14:59:07.201Z"
   },
   {
    "duration": 6,
    "start_time": "2022-04-28T14:59:57.176Z"
   },
   {
    "duration": 22,
    "start_time": "2022-04-28T14:59:58.125Z"
   },
   {
    "duration": 5,
    "start_time": "2022-04-28T15:01:39.762Z"
   },
   {
    "duration": 24,
    "start_time": "2022-04-28T15:01:42.027Z"
   },
   {
    "duration": 3,
    "start_time": "2022-04-28T15:01:58.664Z"
   },
   {
    "duration": 22,
    "start_time": "2022-04-28T15:01:58.673Z"
   },
   {
    "duration": 3,
    "start_time": "2022-04-28T15:01:58.697Z"
   },
   {
    "duration": 404,
    "start_time": "2022-04-28T15:01:58.702Z"
   },
   {
    "duration": 4,
    "start_time": "2022-04-28T15:01:59.108Z"
   },
   {
    "duration": 278,
    "start_time": "2022-04-28T15:01:59.114Z"
   },
   {
    "duration": 244,
    "start_time": "2022-04-28T15:01:59.394Z"
   },
   {
    "duration": 4,
    "start_time": "2022-04-28T15:01:59.640Z"
   },
   {
    "duration": 45,
    "start_time": "2022-04-28T15:01:59.646Z"
   },
   {
    "duration": 19,
    "start_time": "2022-04-28T15:01:59.693Z"
   },
   {
    "duration": 110,
    "start_time": "2022-04-28T15:01:59.714Z"
   },
   {
    "duration": 13,
    "start_time": "2022-04-28T15:01:59.826Z"
   },
   {
    "duration": 32,
    "start_time": "2022-04-28T15:01:59.841Z"
   },
   {
    "duration": 22,
    "start_time": "2022-04-28T15:01:59.874Z"
   },
   {
    "duration": 46,
    "start_time": "2022-04-28T15:01:59.898Z"
   },
   {
    "duration": 12467,
    "start_time": "2022-04-28T15:01:59.946Z"
   },
   {
    "duration": 10,
    "start_time": "2022-04-28T15:02:12.415Z"
   },
   {
    "duration": 18,
    "start_time": "2022-04-28T15:02:12.426Z"
   },
   {
    "duration": 5,
    "start_time": "2022-04-28T15:02:12.446Z"
   },
   {
    "duration": 39,
    "start_time": "2022-04-28T15:02:12.453Z"
   },
   {
    "duration": 3,
    "start_time": "2022-04-28T15:02:51.747Z"
   },
   {
    "duration": 18,
    "start_time": "2022-04-28T15:02:51.754Z"
   },
   {
    "duration": 3,
    "start_time": "2022-04-28T15:02:51.774Z"
   },
   {
    "duration": 395,
    "start_time": "2022-04-28T15:02:51.787Z"
   },
   {
    "duration": 5,
    "start_time": "2022-04-28T15:02:52.184Z"
   },
   {
    "duration": 242,
    "start_time": "2022-04-28T15:02:52.190Z"
   },
   {
    "duration": 239,
    "start_time": "2022-04-28T15:02:52.434Z"
   },
   {
    "duration": 4,
    "start_time": "2022-04-28T15:02:52.675Z"
   },
   {
    "duration": 12,
    "start_time": "2022-04-28T15:02:52.681Z"
   },
   {
    "duration": 8,
    "start_time": "2022-04-28T15:02:52.695Z"
   },
   {
    "duration": 84,
    "start_time": "2022-04-28T15:02:52.705Z"
   },
   {
    "duration": 5,
    "start_time": "2022-04-28T15:02:52.791Z"
   },
   {
    "duration": 5,
    "start_time": "2022-04-28T15:02:52.798Z"
   },
   {
    "duration": 7,
    "start_time": "2022-04-28T15:02:52.805Z"
   },
   {
    "duration": 11,
    "start_time": "2022-04-28T15:02:52.814Z"
   },
   {
    "duration": 12527,
    "start_time": "2022-04-28T15:02:52.827Z"
   },
   {
    "duration": 9,
    "start_time": "2022-04-28T15:03:05.356Z"
   },
   {
    "duration": 17,
    "start_time": "2022-04-28T15:03:05.366Z"
   },
   {
    "duration": 4,
    "start_time": "2022-04-28T15:03:05.385Z"
   },
   {
    "duration": 26,
    "start_time": "2022-04-28T15:03:05.391Z"
   },
   {
    "duration": 22,
    "start_time": "2022-04-28T15:03:05.418Z"
   },
   {
    "duration": 9210,
    "start_time": "2022-04-28T15:03:05.441Z"
   },
   {
    "duration": 12,
    "start_time": "2022-04-28T15:03:14.653Z"
   },
   {
    "duration": 16,
    "start_time": "2022-04-28T15:03:14.674Z"
   },
   {
    "duration": 7557,
    "start_time": "2022-04-28T15:03:14.692Z"
   },
   {
    "duration": 11,
    "start_time": "2022-04-28T15:03:22.251Z"
   },
   {
    "duration": 44,
    "start_time": "2022-04-28T15:03:22.264Z"
   },
   {
    "duration": 21,
    "start_time": "2022-04-28T15:03:22.310Z"
   },
   {
    "duration": 17,
    "start_time": "2022-04-28T15:03:22.333Z"
   },
   {
    "duration": 29,
    "start_time": "2022-04-28T15:03:22.374Z"
   },
   {
    "duration": 7,
    "start_time": "2022-04-28T15:03:22.407Z"
   },
   {
    "duration": 4,
    "start_time": "2022-04-28T15:03:22.416Z"
   },
   {
    "duration": 9,
    "start_time": "2022-04-28T15:03:22.422Z"
   },
   {
    "duration": 5,
    "start_time": "2022-04-28T15:03:22.433Z"
   },
   {
    "duration": 175,
    "start_time": "2022-04-28T15:03:22.439Z"
   },
   {
    "duration": 5,
    "start_time": "2022-04-28T15:03:22.616Z"
   },
   {
    "duration": 13,
    "start_time": "2022-04-28T15:03:22.622Z"
   },
   {
    "duration": 8,
    "start_time": "2022-04-28T15:03:22.637Z"
   },
   {
    "duration": 8,
    "start_time": "2022-04-28T15:03:22.647Z"
   },
   {
    "duration": 7,
    "start_time": "2022-04-28T15:03:22.673Z"
   },
   {
    "duration": 5,
    "start_time": "2022-04-28T15:03:22.681Z"
   },
   {
    "duration": 9,
    "start_time": "2022-04-28T15:03:22.688Z"
   },
   {
    "duration": 166,
    "start_time": "2022-04-28T15:03:22.698Z"
   },
   {
    "duration": 183,
    "start_time": "2022-04-28T15:03:22.865Z"
   },
   {
    "duration": 143,
    "start_time": "2022-04-28T15:03:23.049Z"
   },
   {
    "duration": 175,
    "start_time": "2022-04-28T15:03:23.194Z"
   },
   {
    "duration": 146,
    "start_time": "2022-04-28T15:03:23.372Z"
   },
   {
    "duration": 196,
    "start_time": "2022-04-28T15:03:23.520Z"
   },
   {
    "duration": 25,
    "start_time": "2022-04-28T15:03:23.717Z"
   },
   {
    "duration": 4,
    "start_time": "2022-04-28T15:03:23.744Z"
   },
   {
    "duration": 25,
    "start_time": "2022-04-28T15:03:23.749Z"
   },
   {
    "duration": 17,
    "start_time": "2022-04-28T15:03:23.775Z"
   },
   {
    "duration": 8,
    "start_time": "2022-04-28T15:03:23.794Z"
   },
   {
    "duration": 3,
    "start_time": "2022-04-28T15:04:51.214Z"
   },
   {
    "duration": 18,
    "start_time": "2022-04-28T15:04:51.223Z"
   },
   {
    "duration": 3,
    "start_time": "2022-04-28T15:04:51.243Z"
   },
   {
    "duration": 386,
    "start_time": "2022-04-28T15:04:51.249Z"
   },
   {
    "duration": 5,
    "start_time": "2022-04-28T15:04:51.637Z"
   },
   {
    "duration": 257,
    "start_time": "2022-04-28T15:04:51.643Z"
   },
   {
    "duration": 239,
    "start_time": "2022-04-28T15:04:51.902Z"
   },
   {
    "duration": 5,
    "start_time": "2022-04-28T15:04:52.143Z"
   },
   {
    "duration": 26,
    "start_time": "2022-04-28T15:04:52.150Z"
   },
   {
    "duration": 6,
    "start_time": "2022-04-28T15:04:52.178Z"
   },
   {
    "duration": 72,
    "start_time": "2022-04-28T15:04:52.186Z"
   },
   {
    "duration": 15,
    "start_time": "2022-04-28T15:04:52.260Z"
   },
   {
    "duration": 9,
    "start_time": "2022-04-28T15:04:52.278Z"
   },
   {
    "duration": 14,
    "start_time": "2022-04-28T15:04:52.289Z"
   },
   {
    "duration": 13,
    "start_time": "2022-04-28T15:04:52.305Z"
   },
   {
    "duration": 12589,
    "start_time": "2022-04-28T15:04:52.320Z"
   },
   {
    "duration": 11,
    "start_time": "2022-04-28T15:05:04.911Z"
   },
   {
    "duration": 21,
    "start_time": "2022-04-28T15:05:04.923Z"
   },
   {
    "duration": 4,
    "start_time": "2022-04-28T15:05:04.946Z"
   },
   {
    "duration": 42,
    "start_time": "2022-04-28T15:05:04.951Z"
   },
   {
    "duration": 23,
    "start_time": "2022-04-28T15:05:04.995Z"
   },
   {
    "duration": 9409,
    "start_time": "2022-04-28T15:05:05.020Z"
   },
   {
    "duration": 12,
    "start_time": "2022-04-28T15:05:14.431Z"
   },
   {
    "duration": 31,
    "start_time": "2022-04-28T15:05:14.444Z"
   },
   {
    "duration": 7686,
    "start_time": "2022-04-28T15:05:14.477Z"
   },
   {
    "duration": 11,
    "start_time": "2022-04-28T15:05:22.165Z"
   },
   {
    "duration": 37,
    "start_time": "2022-04-28T15:05:22.178Z"
   },
   {
    "duration": 21,
    "start_time": "2022-04-28T15:05:22.216Z"
   },
   {
    "duration": 43,
    "start_time": "2022-04-28T15:05:22.239Z"
   },
   {
    "duration": 34,
    "start_time": "2022-04-28T15:05:22.284Z"
   },
   {
    "duration": 12,
    "start_time": "2022-04-28T15:05:22.324Z"
   },
   {
    "duration": 6,
    "start_time": "2022-04-28T15:05:22.338Z"
   },
   {
    "duration": 34,
    "start_time": "2022-04-28T15:05:22.345Z"
   },
   {
    "duration": 5,
    "start_time": "2022-04-28T15:05:22.381Z"
   },
   {
    "duration": 163,
    "start_time": "2022-04-28T15:05:22.388Z"
   },
   {
    "duration": 6,
    "start_time": "2022-04-28T15:05:22.553Z"
   },
   {
    "duration": 18,
    "start_time": "2022-04-28T15:05:22.560Z"
   },
   {
    "duration": 9,
    "start_time": "2022-04-28T15:05:22.580Z"
   },
   {
    "duration": 12,
    "start_time": "2022-04-28T15:05:22.591Z"
   },
   {
    "duration": 9,
    "start_time": "2022-04-28T15:05:22.605Z"
   },
   {
    "duration": 6,
    "start_time": "2022-04-28T15:05:22.616Z"
   },
   {
    "duration": 9,
    "start_time": "2022-04-28T15:05:22.624Z"
   },
   {
    "duration": 172,
    "start_time": "2022-04-28T15:05:22.635Z"
   },
   {
    "duration": 189,
    "start_time": "2022-04-28T15:05:22.809Z"
   },
   {
    "duration": 153,
    "start_time": "2022-04-28T15:05:22.999Z"
   },
   {
    "duration": 170,
    "start_time": "2022-04-28T15:05:23.154Z"
   },
   {
    "duration": 150,
    "start_time": "2022-04-28T15:05:23.325Z"
   },
   {
    "duration": 178,
    "start_time": "2022-04-28T15:05:23.476Z"
   },
   {
    "duration": 36,
    "start_time": "2022-04-28T15:05:23.656Z"
   },
   {
    "duration": 4,
    "start_time": "2022-04-28T15:05:23.694Z"
   },
   {
    "duration": 9,
    "start_time": "2022-04-28T15:05:23.700Z"
   },
   {
    "duration": 7,
    "start_time": "2022-04-28T15:05:23.711Z"
   },
   {
    "duration": 6,
    "start_time": "2022-04-28T15:05:23.720Z"
   },
   {
    "duration": 9,
    "start_time": "2022-04-28T15:07:22.469Z"
   },
   {
    "duration": 8,
    "start_time": "2022-04-28T15:07:48.780Z"
   },
   {
    "duration": 8,
    "start_time": "2022-04-28T15:08:22.557Z"
   },
   {
    "duration": 4,
    "start_time": "2022-04-28T15:08:44.234Z"
   },
   {
    "duration": 6,
    "start_time": "2022-04-28T15:15:41.739Z"
   },
   {
    "duration": 30,
    "start_time": "2022-04-28T15:16:32.525Z"
   },
   {
    "duration": 16,
    "start_time": "2022-04-28T15:16:57.794Z"
   },
   {
    "duration": 4,
    "start_time": "2022-04-28T15:17:13.718Z"
   },
   {
    "duration": 17,
    "start_time": "2022-04-28T15:17:13.728Z"
   },
   {
    "duration": 3,
    "start_time": "2022-04-28T15:17:13.747Z"
   },
   {
    "duration": 381,
    "start_time": "2022-04-28T15:17:13.756Z"
   },
   {
    "duration": 4,
    "start_time": "2022-04-28T15:17:14.139Z"
   },
   {
    "duration": 239,
    "start_time": "2022-04-28T15:17:14.145Z"
   },
   {
    "duration": 216,
    "start_time": "2022-04-28T15:17:14.386Z"
   },
   {
    "duration": 4,
    "start_time": "2022-04-28T15:17:14.604Z"
   },
   {
    "duration": 13,
    "start_time": "2022-04-28T15:17:14.610Z"
   },
   {
    "duration": 9,
    "start_time": "2022-04-28T15:17:14.625Z"
   },
   {
    "duration": 84,
    "start_time": "2022-04-28T15:17:14.636Z"
   },
   {
    "duration": 5,
    "start_time": "2022-04-28T15:17:14.722Z"
   },
   {
    "duration": 7,
    "start_time": "2022-04-28T15:17:14.730Z"
   },
   {
    "duration": 9,
    "start_time": "2022-04-28T15:17:14.738Z"
   },
   {
    "duration": 33,
    "start_time": "2022-04-28T15:17:14.749Z"
   },
   {
    "duration": 12745,
    "start_time": "2022-04-28T15:17:14.784Z"
   },
   {
    "duration": 8,
    "start_time": "2022-04-28T15:17:27.530Z"
   },
   {
    "duration": 27,
    "start_time": "2022-04-28T15:17:27.540Z"
   },
   {
    "duration": 14,
    "start_time": "2022-04-28T15:17:27.568Z"
   },
   {
    "duration": 7,
    "start_time": "2022-04-28T15:17:27.583Z"
   },
   {
    "duration": 32,
    "start_time": "2022-04-28T15:17:27.592Z"
   },
   {
    "duration": 5,
    "start_time": "2022-04-28T15:18:41.358Z"
   },
   {
    "duration": 5,
    "start_time": "2022-04-28T15:19:01.137Z"
   },
   {
    "duration": 5,
    "start_time": "2022-04-28T15:19:05.284Z"
   },
   {
    "duration": 5,
    "start_time": "2022-04-28T15:19:10.402Z"
   },
   {
    "duration": 5,
    "start_time": "2022-04-28T15:19:15.384Z"
   },
   {
    "duration": 4,
    "start_time": "2022-04-28T15:19:19.354Z"
   },
   {
    "duration": 4,
    "start_time": "2022-04-28T15:19:23.856Z"
   },
   {
    "duration": 5,
    "start_time": "2022-04-28T15:19:28.865Z"
   },
   {
    "duration": 5,
    "start_time": "2022-04-28T15:19:45.030Z"
   },
   {
    "duration": 4,
    "start_time": "2022-04-28T15:20:00.643Z"
   },
   {
    "duration": 5,
    "start_time": "2022-04-28T15:20:19.672Z"
   },
   {
    "duration": 5,
    "start_time": "2022-04-28T15:20:34.104Z"
   },
   {
    "duration": 10,
    "start_time": "2022-04-28T15:22:07.504Z"
   },
   {
    "duration": 11,
    "start_time": "2022-04-28T15:22:31.832Z"
   },
   {
    "duration": 108,
    "start_time": "2022-04-28T15:23:29.532Z"
   },
   {
    "duration": 4,
    "start_time": "2022-04-28T15:23:40.483Z"
   },
   {
    "duration": 7,
    "start_time": "2022-04-28T15:25:37.756Z"
   },
   {
    "duration": 23,
    "start_time": "2022-04-28T15:25:39.647Z"
   },
   {
    "duration": 18,
    "start_time": "2022-04-28T15:29:37.868Z"
   },
   {
    "duration": 3,
    "start_time": "2022-04-28T15:29:57.814Z"
   },
   {
    "duration": 21,
    "start_time": "2022-04-28T15:29:57.827Z"
   },
   {
    "duration": 3,
    "start_time": "2022-04-28T15:29:57.850Z"
   },
   {
    "duration": 385,
    "start_time": "2022-04-28T15:29:57.856Z"
   },
   {
    "duration": 5,
    "start_time": "2022-04-28T15:29:58.244Z"
   },
   {
    "duration": 251,
    "start_time": "2022-04-28T15:29:58.250Z"
   },
   {
    "duration": 238,
    "start_time": "2022-04-28T15:29:58.503Z"
   },
   {
    "duration": 5,
    "start_time": "2022-04-28T15:29:58.742Z"
   },
   {
    "duration": 26,
    "start_time": "2022-04-28T15:29:58.748Z"
   },
   {
    "duration": 4,
    "start_time": "2022-04-28T15:29:58.777Z"
   },
   {
    "duration": 71,
    "start_time": "2022-04-28T15:29:58.783Z"
   },
   {
    "duration": 19,
    "start_time": "2022-04-28T15:29:58.856Z"
   },
   {
    "duration": 5,
    "start_time": "2022-04-28T15:29:58.879Z"
   },
   {
    "duration": 8,
    "start_time": "2022-04-28T15:29:58.886Z"
   },
   {
    "duration": 14,
    "start_time": "2022-04-28T15:29:58.896Z"
   },
   {
    "duration": 12671,
    "start_time": "2022-04-28T15:29:58.912Z"
   },
   {
    "duration": 10,
    "start_time": "2022-04-28T15:30:11.585Z"
   },
   {
    "duration": 12,
    "start_time": "2022-04-28T15:30:11.597Z"
   },
   {
    "duration": 15,
    "start_time": "2022-04-28T15:30:11.611Z"
   },
   {
    "duration": 4,
    "start_time": "2022-04-28T15:30:11.629Z"
   },
   {
    "duration": 48,
    "start_time": "2022-04-28T15:30:11.635Z"
   },
   {
    "duration": 926,
    "start_time": "2022-04-28T15:33:53.755Z"
   },
   {
    "duration": 961,
    "start_time": "2022-04-28T15:34:40.220Z"
   },
   {
    "duration": 11,
    "start_time": "2022-04-28T15:34:57.129Z"
   },
   {
    "duration": 11,
    "start_time": "2022-04-28T15:35:02.768Z"
   },
   {
    "duration": 13,
    "start_time": "2022-04-28T15:35:03.744Z"
   },
   {
    "duration": 4,
    "start_time": "2022-04-28T15:35:05.324Z"
   },
   {
    "duration": 16,
    "start_time": "2022-04-28T15:35:06.169Z"
   },
   {
    "duration": 6,
    "start_time": "2022-04-28T15:35:09.150Z"
   },
   {
    "duration": 24,
    "start_time": "2022-04-28T15:35:10.280Z"
   },
   {
    "duration": 9180,
    "start_time": "2022-04-28T15:39:09.138Z"
   },
   {
    "duration": 17,
    "start_time": "2022-04-28T15:39:18.339Z"
   },
   {
    "duration": 3,
    "start_time": "2022-04-28T15:39:28.272Z"
   },
   {
    "duration": 25,
    "start_time": "2022-04-28T15:39:28.276Z"
   },
   {
    "duration": 2,
    "start_time": "2022-04-28T15:39:28.303Z"
   },
   {
    "duration": 353,
    "start_time": "2022-04-28T15:39:28.315Z"
   },
   {
    "duration": 4,
    "start_time": "2022-04-28T15:39:28.670Z"
   },
   {
    "duration": 232,
    "start_time": "2022-04-28T15:39:28.676Z"
   },
   {
    "duration": 212,
    "start_time": "2022-04-28T15:39:28.910Z"
   },
   {
    "duration": 4,
    "start_time": "2022-04-28T15:39:29.124Z"
   },
   {
    "duration": 11,
    "start_time": "2022-04-28T15:39:29.129Z"
   },
   {
    "duration": 6,
    "start_time": "2022-04-28T15:39:29.142Z"
   },
   {
    "duration": 88,
    "start_time": "2022-04-28T15:39:29.150Z"
   },
   {
    "duration": 5,
    "start_time": "2022-04-28T15:39:29.240Z"
   },
   {
    "duration": 8,
    "start_time": "2022-04-28T15:39:29.247Z"
   },
   {
    "duration": 21,
    "start_time": "2022-04-28T15:39:29.256Z"
   },
   {
    "duration": 25,
    "start_time": "2022-04-28T15:39:29.278Z"
   },
   {
    "duration": 12173,
    "start_time": "2022-04-28T15:39:29.305Z"
   },
   {
    "duration": 9,
    "start_time": "2022-04-28T15:39:41.480Z"
   },
   {
    "duration": 13,
    "start_time": "2022-04-28T15:39:41.490Z"
   },
   {
    "duration": 15,
    "start_time": "2022-04-28T15:39:41.504Z"
   },
   {
    "duration": 3,
    "start_time": "2022-04-28T15:39:41.521Z"
   },
   {
    "duration": 20,
    "start_time": "2022-04-28T15:39:41.526Z"
   },
   {
    "duration": 28,
    "start_time": "2022-04-28T15:39:41.548Z"
   },
   {
    "duration": 23,
    "start_time": "2022-04-28T15:39:41.578Z"
   },
   {
    "duration": 22,
    "start_time": "2022-04-28T15:39:41.602Z"
   },
   {
    "duration": 9418,
    "start_time": "2022-04-28T15:39:41.626Z"
   },
   {
    "duration": 13,
    "start_time": "2022-04-28T15:39:51.072Z"
   },
   {
    "duration": 9758,
    "start_time": "2022-04-28T15:40:35.514Z"
   },
   {
    "duration": 0,
    "start_time": "2022-04-28T15:40:45.274Z"
   },
   {
    "duration": 3,
    "start_time": "2022-04-28T15:40:45.868Z"
   },
   {
    "duration": 21,
    "start_time": "2022-04-28T15:40:45.879Z"
   },
   {
    "duration": 4,
    "start_time": "2022-04-28T15:40:45.902Z"
   },
   {
    "duration": 416,
    "start_time": "2022-04-28T15:40:45.911Z"
   },
   {
    "duration": 5,
    "start_time": "2022-04-28T15:40:46.330Z"
   },
   {
    "duration": 284,
    "start_time": "2022-04-28T15:40:46.337Z"
   },
   {
    "duration": 240,
    "start_time": "2022-04-28T15:40:46.624Z"
   },
   {
    "duration": 5,
    "start_time": "2022-04-28T15:40:46.873Z"
   },
   {
    "duration": 16,
    "start_time": "2022-04-28T15:40:46.880Z"
   },
   {
    "duration": 7,
    "start_time": "2022-04-28T15:40:46.898Z"
   },
   {
    "duration": 88,
    "start_time": "2022-04-28T15:40:46.907Z"
   },
   {
    "duration": 5,
    "start_time": "2022-04-28T15:40:46.997Z"
   },
   {
    "duration": 6,
    "start_time": "2022-04-28T15:40:47.004Z"
   },
   {
    "duration": 7,
    "start_time": "2022-04-28T15:40:47.012Z"
   },
   {
    "duration": 20,
    "start_time": "2022-04-28T15:40:47.022Z"
   },
   {
    "duration": 12909,
    "start_time": "2022-04-28T15:40:47.073Z"
   },
   {
    "duration": 10,
    "start_time": "2022-04-28T15:40:59.983Z"
   },
   {
    "duration": 16,
    "start_time": "2022-04-28T15:40:59.995Z"
   },
   {
    "duration": 16,
    "start_time": "2022-04-28T15:41:00.013Z"
   },
   {
    "duration": 7,
    "start_time": "2022-04-28T15:41:00.031Z"
   },
   {
    "duration": 37,
    "start_time": "2022-04-28T15:41:00.040Z"
   },
   {
    "duration": 7,
    "start_time": "2022-04-28T15:41:00.079Z"
   },
   {
    "duration": 31,
    "start_time": "2022-04-28T15:41:00.088Z"
   },
   {
    "duration": 22,
    "start_time": "2022-04-28T15:41:00.121Z"
   },
   {
    "duration": 9651,
    "start_time": "2022-04-28T15:41:00.145Z"
   },
   {
    "duration": 13,
    "start_time": "2022-04-28T15:41:09.798Z"
   },
   {
    "duration": 19,
    "start_time": "2022-04-28T15:41:09.813Z"
   },
   {
    "duration": 9667,
    "start_time": "2022-04-28T15:41:09.834Z"
   },
   {
    "duration": 0,
    "start_time": "2022-04-28T15:41:19.503Z"
   },
   {
    "duration": 0,
    "start_time": "2022-04-28T15:41:19.505Z"
   },
   {
    "duration": 0,
    "start_time": "2022-04-28T15:41:19.506Z"
   },
   {
    "duration": 0,
    "start_time": "2022-04-28T15:41:19.507Z"
   },
   {
    "duration": 0,
    "start_time": "2022-04-28T15:41:19.508Z"
   },
   {
    "duration": 0,
    "start_time": "2022-04-28T15:41:19.509Z"
   },
   {
    "duration": 0,
    "start_time": "2022-04-28T15:41:19.510Z"
   },
   {
    "duration": 0,
    "start_time": "2022-04-28T15:41:19.511Z"
   },
   {
    "duration": 0,
    "start_time": "2022-04-28T15:41:19.512Z"
   },
   {
    "duration": 0,
    "start_time": "2022-04-28T15:41:19.513Z"
   },
   {
    "duration": 0,
    "start_time": "2022-04-28T15:41:19.514Z"
   },
   {
    "duration": 0,
    "start_time": "2022-04-28T15:41:19.515Z"
   },
   {
    "duration": 0,
    "start_time": "2022-04-28T15:41:19.516Z"
   },
   {
    "duration": 0,
    "start_time": "2022-04-28T15:41:19.517Z"
   },
   {
    "duration": 0,
    "start_time": "2022-04-28T15:41:19.518Z"
   },
   {
    "duration": 0,
    "start_time": "2022-04-28T15:41:19.519Z"
   },
   {
    "duration": 0,
    "start_time": "2022-04-28T15:41:19.520Z"
   },
   {
    "duration": 0,
    "start_time": "2022-04-28T15:41:19.521Z"
   },
   {
    "duration": 0,
    "start_time": "2022-04-28T15:41:19.522Z"
   },
   {
    "duration": 0,
    "start_time": "2022-04-28T15:41:19.523Z"
   },
   {
    "duration": 0,
    "start_time": "2022-04-28T15:41:19.524Z"
   },
   {
    "duration": 0,
    "start_time": "2022-04-28T15:41:19.525Z"
   },
   {
    "duration": 0,
    "start_time": "2022-04-28T15:41:19.526Z"
   },
   {
    "duration": 0,
    "start_time": "2022-04-28T15:41:19.527Z"
   },
   {
    "duration": 0,
    "start_time": "2022-04-28T15:41:19.528Z"
   },
   {
    "duration": 0,
    "start_time": "2022-04-28T15:41:19.529Z"
   },
   {
    "duration": 0,
    "start_time": "2022-04-28T15:41:19.530Z"
   },
   {
    "duration": 0,
    "start_time": "2022-04-28T15:41:19.531Z"
   },
   {
    "duration": 696,
    "start_time": "2022-04-28T15:42:31.330Z"
   },
   {
    "duration": 17,
    "start_time": "2022-04-28T15:42:35.394Z"
   },
   {
    "duration": 51,
    "start_time": "2022-04-28T15:42:35.414Z"
   },
   {
    "duration": 21,
    "start_time": "2022-04-28T15:42:35.468Z"
   },
   {
    "duration": 18,
    "start_time": "2022-04-28T15:42:35.491Z"
   },
   {
    "duration": 41,
    "start_time": "2022-04-28T15:42:35.512Z"
   },
   {
    "duration": 11,
    "start_time": "2022-04-28T15:42:35.574Z"
   },
   {
    "duration": 10,
    "start_time": "2022-04-28T15:42:35.587Z"
   },
   {
    "duration": 14,
    "start_time": "2022-04-28T15:42:35.599Z"
   },
   {
    "duration": 6,
    "start_time": "2022-04-28T15:42:35.615Z"
   },
   {
    "duration": 211,
    "start_time": "2022-04-28T15:42:35.623Z"
   },
   {
    "duration": 6,
    "start_time": "2022-04-28T15:42:35.837Z"
   },
   {
    "duration": 12,
    "start_time": "2022-04-28T15:42:35.845Z"
   },
   {
    "duration": 11,
    "start_time": "2022-04-28T15:42:35.872Z"
   },
   {
    "duration": 10,
    "start_time": "2022-04-28T15:42:35.884Z"
   },
   {
    "duration": 19,
    "start_time": "2022-04-28T15:42:35.895Z"
   },
   {
    "duration": 22,
    "start_time": "2022-04-28T15:42:35.916Z"
   },
   {
    "duration": 9,
    "start_time": "2022-04-28T15:42:35.940Z"
   },
   {
    "duration": 162,
    "start_time": "2022-04-28T15:42:35.950Z"
   },
   {
    "duration": 199,
    "start_time": "2022-04-28T15:42:36.115Z"
   },
   {
    "duration": 148,
    "start_time": "2022-04-28T15:42:36.315Z"
   },
   {
    "duration": 187,
    "start_time": "2022-04-28T15:42:36.465Z"
   },
   {
    "duration": 150,
    "start_time": "2022-04-28T15:42:36.654Z"
   },
   {
    "duration": 197,
    "start_time": "2022-04-28T15:42:36.806Z"
   },
   {
    "duration": 26,
    "start_time": "2022-04-28T15:42:37.005Z"
   },
   {
    "duration": 4,
    "start_time": "2022-04-28T15:42:37.033Z"
   },
   {
    "duration": 7,
    "start_time": "2022-04-28T15:42:37.038Z"
   },
   {
    "duration": 32,
    "start_time": "2022-04-28T15:42:37.047Z"
   },
   {
    "duration": 16,
    "start_time": "2022-04-28T15:42:37.083Z"
   },
   {
    "duration": 3,
    "start_time": "2022-04-28T15:48:01.142Z"
   },
   {
    "duration": 28,
    "start_time": "2022-04-28T15:48:01.151Z"
   },
   {
    "duration": 3,
    "start_time": "2022-04-28T15:48:01.181Z"
   },
   {
    "duration": 423,
    "start_time": "2022-04-28T15:48:01.186Z"
   },
   {
    "duration": 5,
    "start_time": "2022-04-28T15:48:01.612Z"
   },
   {
    "duration": 305,
    "start_time": "2022-04-28T15:48:01.618Z"
   },
   {
    "duration": 275,
    "start_time": "2022-04-28T15:48:01.925Z"
   },
   {
    "duration": 5,
    "start_time": "2022-04-28T15:48:02.203Z"
   },
   {
    "duration": 12,
    "start_time": "2022-04-28T15:48:02.210Z"
   },
   {
    "duration": 11,
    "start_time": "2022-04-28T15:48:02.224Z"
   },
   {
    "duration": 84,
    "start_time": "2022-04-28T15:48:02.237Z"
   },
   {
    "duration": 6,
    "start_time": "2022-04-28T15:48:02.323Z"
   },
   {
    "duration": 9,
    "start_time": "2022-04-28T15:48:02.330Z"
   },
   {
    "duration": 18,
    "start_time": "2022-04-28T15:48:02.340Z"
   },
   {
    "duration": 20,
    "start_time": "2022-04-28T15:48:02.360Z"
   },
   {
    "duration": 12517,
    "start_time": "2022-04-28T15:48:02.382Z"
   },
   {
    "duration": 9,
    "start_time": "2022-04-28T15:48:14.902Z"
   },
   {
    "duration": 9,
    "start_time": "2022-04-28T15:48:14.913Z"
   },
   {
    "duration": 11,
    "start_time": "2022-04-28T15:48:14.924Z"
   },
   {
    "duration": 5,
    "start_time": "2022-04-28T15:48:14.937Z"
   },
   {
    "duration": 16,
    "start_time": "2022-04-28T15:48:14.972Z"
   },
   {
    "duration": 7,
    "start_time": "2022-04-28T15:48:14.990Z"
   },
   {
    "duration": 27,
    "start_time": "2022-04-28T15:48:14.998Z"
   },
   {
    "duration": 56,
    "start_time": "2022-04-28T15:48:15.027Z"
   },
   {
    "duration": 9181,
    "start_time": "2022-04-28T15:48:15.085Z"
   },
   {
    "duration": 13,
    "start_time": "2022-04-28T15:48:24.269Z"
   },
   {
    "duration": 19,
    "start_time": "2022-04-28T15:48:24.284Z"
   },
   {
    "duration": 7523,
    "start_time": "2022-04-28T15:48:24.305Z"
   },
   {
    "duration": 12,
    "start_time": "2022-04-28T15:48:31.830Z"
   },
   {
    "duration": 53,
    "start_time": "2022-04-28T15:48:31.844Z"
   },
   {
    "duration": 23,
    "start_time": "2022-04-28T15:48:31.899Z"
   },
   {
    "duration": 19,
    "start_time": "2022-04-28T15:48:31.924Z"
   },
   {
    "duration": 57,
    "start_time": "2022-04-28T15:48:31.946Z"
   },
   {
    "duration": 10,
    "start_time": "2022-04-28T15:48:32.006Z"
   },
   {
    "duration": 41,
    "start_time": "2022-04-28T15:48:32.018Z"
   },
   {
    "duration": 27,
    "start_time": "2022-04-28T15:48:32.061Z"
   },
   {
    "duration": 21,
    "start_time": "2022-04-28T15:48:32.090Z"
   },
   {
    "duration": 156,
    "start_time": "2022-04-28T15:48:32.113Z"
   },
   {
    "duration": 6,
    "start_time": "2022-04-28T15:48:32.271Z"
   },
   {
    "duration": 18,
    "start_time": "2022-04-28T15:48:32.279Z"
   },
   {
    "duration": 25,
    "start_time": "2022-04-28T15:48:32.299Z"
   },
   {
    "duration": 10,
    "start_time": "2022-04-28T15:48:32.326Z"
   },
   {
    "duration": 11,
    "start_time": "2022-04-28T15:48:32.338Z"
   },
   {
    "duration": 6,
    "start_time": "2022-04-28T15:48:32.351Z"
   },
   {
    "duration": 10,
    "start_time": "2022-04-28T15:48:32.359Z"
   },
   {
    "duration": 156,
    "start_time": "2022-04-28T15:48:32.373Z"
   },
   {
    "duration": 195,
    "start_time": "2022-04-28T15:48:32.531Z"
   },
   {
    "duration": 147,
    "start_time": "2022-04-28T15:48:32.728Z"
   },
   {
    "duration": 182,
    "start_time": "2022-04-28T15:48:32.877Z"
   },
   {
    "duration": 151,
    "start_time": "2022-04-28T15:48:33.061Z"
   },
   {
    "duration": 179,
    "start_time": "2022-04-28T15:48:33.214Z"
   },
   {
    "duration": 31,
    "start_time": "2022-04-28T15:48:33.394Z"
   },
   {
    "duration": 3,
    "start_time": "2022-04-28T15:48:33.427Z"
   },
   {
    "duration": 10,
    "start_time": "2022-04-28T15:48:33.432Z"
   },
   {
    "duration": 32,
    "start_time": "2022-04-28T15:48:33.443Z"
   },
   {
    "duration": 10,
    "start_time": "2022-04-28T15:48:33.476Z"
   },
   {
    "duration": 9,
    "start_time": "2022-04-28T15:52:12.942Z"
   },
   {
    "duration": 4,
    "start_time": "2022-04-28T15:53:31.252Z"
   },
   {
    "duration": 5,
    "start_time": "2022-04-28T15:55:35.621Z"
   },
   {
    "duration": 24,
    "start_time": "2022-04-28T15:55:39.393Z"
   },
   {
    "duration": 3,
    "start_time": "2022-04-28T15:58:03.122Z"
   },
   {
    "duration": 4,
    "start_time": "2022-04-28T15:58:26.492Z"
   },
   {
    "duration": 5,
    "start_time": "2022-04-28T16:00:12.561Z"
   },
   {
    "duration": 7,
    "start_time": "2022-04-28T16:00:16.659Z"
   },
   {
    "duration": 4,
    "start_time": "2022-04-28T16:00:17.922Z"
   },
   {
    "duration": 7,
    "start_time": "2022-04-28T16:00:31.834Z"
   },
   {
    "duration": 3,
    "start_time": "2022-04-28T16:00:43.454Z"
   },
   {
    "duration": 5,
    "start_time": "2022-04-28T16:00:44.568Z"
   },
   {
    "duration": 7,
    "start_time": "2022-04-28T16:00:45.897Z"
   },
   {
    "duration": 5,
    "start_time": "2022-04-28T16:00:47.591Z"
   },
   {
    "duration": 6,
    "start_time": "2022-04-28T16:01:39.788Z"
   },
   {
    "duration": 6,
    "start_time": "2022-04-28T16:02:20.758Z"
   },
   {
    "duration": 6,
    "start_time": "2022-04-28T16:02:30.927Z"
   },
   {
    "duration": 7,
    "start_time": "2022-04-28T16:02:38.993Z"
   },
   {
    "duration": 7,
    "start_time": "2022-04-28T16:12:59.714Z"
   },
   {
    "duration": 8,
    "start_time": "2022-04-28T16:13:24.805Z"
   },
   {
    "duration": 5,
    "start_time": "2022-04-28T16:14:19.356Z"
   },
   {
    "duration": 5,
    "start_time": "2022-04-28T16:15:41.026Z"
   },
   {
    "duration": 10,
    "start_time": "2022-04-28T16:27:55.073Z"
   },
   {
    "duration": 5,
    "start_time": "2022-04-28T16:28:08.810Z"
   },
   {
    "duration": 7,
    "start_time": "2022-04-28T16:28:09.787Z"
   },
   {
    "duration": 166,
    "start_time": "2022-04-28T16:28:11.426Z"
   },
   {
    "duration": 359,
    "start_time": "2022-04-28T16:28:15.593Z"
   },
   {
    "duration": 35,
    "start_time": "2022-04-28T16:28:17.963Z"
   },
   {
    "duration": 6,
    "start_time": "2022-04-28T16:29:30.218Z"
   },
   {
    "duration": 7,
    "start_time": "2022-04-28T16:31:20.889Z"
   },
   {
    "duration": 10,
    "start_time": "2022-04-28T16:31:49.780Z"
   },
   {
    "duration": 10,
    "start_time": "2022-04-28T16:33:00.366Z"
   },
   {
    "duration": 9,
    "start_time": "2022-04-28T16:34:16.302Z"
   },
   {
    "duration": 25,
    "start_time": "2022-04-28T16:35:01.224Z"
   },
   {
    "duration": 23,
    "start_time": "2022-04-28T16:35:33.415Z"
   },
   {
    "duration": 4,
    "start_time": "2022-04-28T16:37:17.596Z"
   },
   {
    "duration": 5,
    "start_time": "2022-04-28T16:37:19.625Z"
   },
   {
    "duration": 6,
    "start_time": "2022-04-28T16:37:59.600Z"
   },
   {
    "duration": 6,
    "start_time": "2022-04-28T16:38:20.801Z"
   },
   {
    "duration": 7,
    "start_time": "2022-04-28T16:38:29.380Z"
   },
   {
    "duration": 6,
    "start_time": "2022-04-28T16:38:36.699Z"
   },
   {
    "duration": 5,
    "start_time": "2022-04-28T16:38:57.754Z"
   },
   {
    "duration": 6,
    "start_time": "2022-04-28T16:45:20.183Z"
   },
   {
    "duration": 4,
    "start_time": "2022-04-28T16:45:40.182Z"
   },
   {
    "duration": 5,
    "start_time": "2022-04-28T16:46:36.784Z"
   },
   {
    "duration": 5,
    "start_time": "2022-04-28T16:46:57.522Z"
   },
   {
    "duration": 1804,
    "start_time": "2022-04-28T16:49:55.360Z"
   },
   {
    "duration": 0,
    "start_time": "2022-04-28T16:49:57.167Z"
   },
   {
    "duration": 39,
    "start_time": "2022-04-28T16:50:59.269Z"
   },
   {
    "duration": 22,
    "start_time": "2022-04-28T16:51:02.601Z"
   },
   {
    "duration": 23,
    "start_time": "2022-04-28T16:51:04.927Z"
   },
   {
    "duration": 30,
    "start_time": "2022-04-28T16:51:11.028Z"
   },
   {
    "duration": 4,
    "start_time": "2022-04-28T16:51:16.862Z"
   },
   {
    "duration": 10,
    "start_time": "2022-04-28T16:51:23.471Z"
   },
   {
    "duration": 6,
    "start_time": "2022-04-28T16:51:36.810Z"
   },
   {
    "duration": 9,
    "start_time": "2022-04-28T16:51:38.747Z"
   },
   {
    "duration": 5,
    "start_time": "2022-04-28T16:51:52.888Z"
   },
   {
    "duration": 1746,
    "start_time": "2022-04-28T16:51:55.761Z"
   },
   {
    "duration": 7,
    "start_time": "2022-04-28T16:52:28.118Z"
   },
   {
    "duration": 162,
    "start_time": "2022-04-28T16:52:29.359Z"
   },
   {
    "duration": 7,
    "start_time": "2022-04-28T16:52:34.127Z"
   },
   {
    "duration": 8,
    "start_time": "2022-04-28T16:52:39.859Z"
   },
   {
    "duration": 7,
    "start_time": "2022-04-28T16:52:40.689Z"
   },
   {
    "duration": 8,
    "start_time": "2022-04-28T16:52:43.747Z"
   },
   {
    "duration": 7,
    "start_time": "2022-04-28T16:52:44.725Z"
   },
   {
    "duration": 25,
    "start_time": "2022-04-28T16:52:55.653Z"
   },
   {
    "duration": 5,
    "start_time": "2022-04-28T16:53:01.636Z"
   },
   {
    "duration": 4,
    "start_time": "2022-04-28T16:53:02.500Z"
   },
   {
    "duration": 7,
    "start_time": "2022-04-28T16:53:03.293Z"
   },
   {
    "duration": 148,
    "start_time": "2022-04-28T16:53:09.988Z"
   },
   {
    "duration": 1811,
    "start_time": "2022-04-28T16:53:11.422Z"
   },
   {
    "duration": 175,
    "start_time": "2022-04-28T16:53:16.894Z"
   },
   {
    "duration": 10,
    "start_time": "2022-04-28T16:53:28.249Z"
   },
   {
    "duration": 144,
    "start_time": "2022-04-28T16:53:36.989Z"
   },
   {
    "duration": 186,
    "start_time": "2022-04-28T16:53:38.068Z"
   },
   {
    "duration": 11,
    "start_time": "2022-04-28T16:53:39.599Z"
   },
   {
    "duration": 147,
    "start_time": "2022-04-28T16:53:42.082Z"
   },
   {
    "duration": 174,
    "start_time": "2022-04-28T16:53:43.165Z"
   },
   {
    "duration": 10,
    "start_time": "2022-04-28T16:53:44.683Z"
   },
   {
    "duration": 4,
    "start_time": "2022-04-28T16:53:49.418Z"
   },
   {
    "duration": 5,
    "start_time": "2022-04-28T16:53:50.245Z"
   },
   {
    "duration": 12,
    "start_time": "2022-04-28T16:53:58.399Z"
   },
   {
    "duration": 4,
    "start_time": "2022-04-28T16:54:00.573Z"
   },
   {
    "duration": 8,
    "start_time": "2022-04-28T16:55:27.202Z"
   },
   {
    "duration": 12,
    "start_time": "2022-04-28T16:56:15.837Z"
   },
   {
    "duration": 5,
    "start_time": "2022-04-28T16:56:16.714Z"
   },
   {
    "duration": 14,
    "start_time": "2022-04-28T16:57:49.052Z"
   },
   {
    "duration": 5,
    "start_time": "2022-04-28T16:57:59.064Z"
   },
   {
    "duration": 4,
    "start_time": "2022-04-28T16:59:19.445Z"
   },
   {
    "duration": 6,
    "start_time": "2022-04-28T16:59:44.172Z"
   },
   {
    "duration": 4,
    "start_time": "2022-04-28T17:00:27.495Z"
   },
   {
    "duration": 388,
    "start_time": "2022-04-29T05:31:14.548Z"
   },
   {
    "duration": 37,
    "start_time": "2022-04-29T05:31:14.938Z"
   },
   {
    "duration": 921,
    "start_time": "2022-04-29T05:31:14.977Z"
   },
   {
    "duration": 400,
    "start_time": "2022-04-29T05:31:15.900Z"
   },
   {
    "duration": 5,
    "start_time": "2022-04-29T05:31:16.302Z"
   },
   {
    "duration": 228,
    "start_time": "2022-04-29T05:31:16.308Z"
   },
   {
    "duration": 231,
    "start_time": "2022-04-29T05:31:16.537Z"
   },
   {
    "duration": 4,
    "start_time": "2022-04-29T05:31:16.769Z"
   },
   {
    "duration": 9,
    "start_time": "2022-04-29T05:31:16.775Z"
   },
   {
    "duration": 3,
    "start_time": "2022-04-29T05:31:16.787Z"
   },
   {
    "duration": 95,
    "start_time": "2022-04-29T05:31:16.791Z"
   },
   {
    "duration": 5,
    "start_time": "2022-04-29T05:31:16.888Z"
   },
   {
    "duration": 7,
    "start_time": "2022-04-29T05:31:16.894Z"
   },
   {
    "duration": 24,
    "start_time": "2022-04-29T05:31:16.903Z"
   },
   {
    "duration": 11,
    "start_time": "2022-04-29T05:31:16.929Z"
   },
   {
    "duration": 13128,
    "start_time": "2022-04-29T05:31:16.942Z"
   },
   {
    "duration": 8,
    "start_time": "2022-04-29T05:31:30.071Z"
   },
   {
    "duration": 19,
    "start_time": "2022-04-29T05:31:30.081Z"
   },
   {
    "duration": 15,
    "start_time": "2022-04-29T05:31:30.101Z"
   },
   {
    "duration": 9,
    "start_time": "2022-04-29T05:31:30.117Z"
   },
   {
    "duration": 6,
    "start_time": "2022-04-29T05:31:30.128Z"
   },
   {
    "duration": 25,
    "start_time": "2022-04-29T05:31:30.136Z"
   },
   {
    "duration": 23,
    "start_time": "2022-04-29T05:31:30.162Z"
   },
   {
    "duration": 10032,
    "start_time": "2022-04-29T05:31:30.187Z"
   },
   {
    "duration": 16,
    "start_time": "2022-04-29T05:31:40.222Z"
   },
   {
    "duration": 18,
    "start_time": "2022-04-29T05:31:40.240Z"
   },
   {
    "duration": 8332,
    "start_time": "2022-04-29T05:31:40.259Z"
   },
   {
    "duration": 10,
    "start_time": "2022-04-29T05:31:48.595Z"
   },
   {
    "duration": 55,
    "start_time": "2022-04-29T05:31:48.607Z"
   },
   {
    "duration": 23,
    "start_time": "2022-04-29T05:31:48.664Z"
   },
   {
    "duration": 46,
    "start_time": "2022-04-29T05:31:48.688Z"
   },
   {
    "duration": 28,
    "start_time": "2022-04-29T05:31:48.737Z"
   },
   {
    "duration": 5,
    "start_time": "2022-04-29T05:31:48.766Z"
   },
   {
    "duration": 15,
    "start_time": "2022-04-29T05:31:48.772Z"
   },
   {
    "duration": 4,
    "start_time": "2022-04-29T05:31:48.789Z"
   },
   {
    "duration": 36,
    "start_time": "2022-04-29T05:31:48.794Z"
   },
   {
    "duration": 6,
    "start_time": "2022-04-29T05:31:48.832Z"
   },
   {
    "duration": 149,
    "start_time": "2022-04-29T05:31:48.840Z"
   },
   {
    "duration": 5,
    "start_time": "2022-04-29T05:31:48.991Z"
   },
   {
    "duration": 15,
    "start_time": "2022-04-29T05:31:48.997Z"
   },
   {
    "duration": 11,
    "start_time": "2022-04-29T05:31:49.013Z"
   },
   {
    "duration": 24,
    "start_time": "2022-04-29T05:31:49.025Z"
   },
   {
    "duration": 6,
    "start_time": "2022-04-29T05:31:49.050Z"
   },
   {
    "duration": 57,
    "start_time": "2022-04-29T05:31:49.058Z"
   },
   {
    "duration": 10,
    "start_time": "2022-04-29T05:31:49.116Z"
   },
   {
    "duration": 10,
    "start_time": "2022-04-29T05:31:49.128Z"
   },
   {
    "duration": 12,
    "start_time": "2022-04-29T05:31:49.139Z"
   },
   {
    "duration": 163,
    "start_time": "2022-04-29T05:31:49.153Z"
   },
   {
    "duration": 167,
    "start_time": "2022-04-29T05:31:49.322Z"
   },
   {
    "duration": 9,
    "start_time": "2022-04-29T05:31:49.490Z"
   },
   {
    "duration": 157,
    "start_time": "2022-04-29T05:31:49.500Z"
   },
   {
    "duration": 168,
    "start_time": "2022-04-29T05:31:49.659Z"
   },
   {
    "duration": 9,
    "start_time": "2022-04-29T05:31:49.828Z"
   },
   {
    "duration": 158,
    "start_time": "2022-04-29T05:31:49.838Z"
   },
   {
    "duration": 168,
    "start_time": "2022-04-29T05:31:49.999Z"
   },
   {
    "duration": 8,
    "start_time": "2022-04-29T05:31:50.168Z"
   },
   {
    "duration": 3,
    "start_time": "2022-04-29T05:31:50.178Z"
   },
   {
    "duration": 6,
    "start_time": "2022-04-29T05:31:50.183Z"
   },
   {
    "duration": 20,
    "start_time": "2022-04-29T05:31:50.190Z"
   },
   {
    "duration": 4,
    "start_time": "2022-04-29T05:31:50.223Z"
   },
   {
    "duration": 13,
    "start_time": "2022-04-29T05:31:50.229Z"
   },
   {
    "duration": 5,
    "start_time": "2022-04-29T05:31:50.243Z"
   },
   {
    "duration": 6,
    "start_time": "2022-04-29T05:31:50.250Z"
   },
   {
    "duration": 10,
    "start_time": "2022-04-29T05:31:50.258Z"
   },
   {
    "duration": 97,
    "start_time": "2022-04-29T05:31:50.270Z"
   },
   {
    "duration": 6,
    "start_time": "2022-04-29T05:31:50.369Z"
   },
   {
    "duration": 9,
    "start_time": "2022-04-29T05:31:50.377Z"
   },
   {
    "duration": 104,
    "start_time": "2022-04-29T05:34:30.300Z"
   },
   {
    "duration": 15,
    "start_time": "2022-04-29T05:35:02.972Z"
   },
   {
    "duration": 59,
    "start_time": "2022-04-29T05:36:09.831Z"
   },
   {
    "duration": 200,
    "start_time": "2022-04-29T05:38:32.567Z"
   },
   {
    "duration": 62,
    "start_time": "2022-04-29T05:38:40.298Z"
   },
   {
    "duration": 52,
    "start_time": "2022-04-29T05:38:58.396Z"
   },
   {
    "duration": 66,
    "start_time": "2022-04-29T05:39:51.287Z"
   },
   {
    "duration": 64,
    "start_time": "2022-04-29T05:40:27.183Z"
   },
   {
    "duration": 142,
    "start_time": "2022-04-29T05:41:20.388Z"
   },
   {
    "duration": 123,
    "start_time": "2022-04-29T05:42:16.035Z"
   },
   {
    "duration": 91,
    "start_time": "2022-04-29T05:43:58.120Z"
   },
   {
    "duration": 78,
    "start_time": "2022-04-29T05:44:48.783Z"
   },
   {
    "duration": 87,
    "start_time": "2022-04-29T05:45:12.304Z"
   },
   {
    "duration": 14,
    "start_time": "2022-04-29T05:45:56.821Z"
   },
   {
    "duration": 192,
    "start_time": "2022-04-29T05:47:45.950Z"
   },
   {
    "duration": 105,
    "start_time": "2022-04-29T05:47:57.739Z"
   },
   {
    "duration": 25,
    "start_time": "2022-04-29T05:48:21.902Z"
   },
   {
    "duration": 470,
    "start_time": "2022-04-29T10:03:30.941Z"
   },
   {
    "duration": 50,
    "start_time": "2022-04-29T10:03:31.413Z"
   },
   {
    "duration": 984,
    "start_time": "2022-04-29T10:03:31.465Z"
   },
   {
    "duration": 455,
    "start_time": "2022-04-29T10:03:32.452Z"
   },
   {
    "duration": 5,
    "start_time": "2022-04-29T10:03:32.908Z"
   },
   {
    "duration": 282,
    "start_time": "2022-04-29T10:03:32.914Z"
   },
   {
    "duration": 287,
    "start_time": "2022-04-29T10:03:33.199Z"
   },
   {
    "duration": 4,
    "start_time": "2022-04-29T10:03:33.488Z"
   },
   {
    "duration": 11,
    "start_time": "2022-04-29T10:03:33.494Z"
   },
   {
    "duration": 20,
    "start_time": "2022-04-29T10:03:33.507Z"
   },
   {
    "duration": 77,
    "start_time": "2022-04-29T10:03:33.529Z"
   },
   {
    "duration": 18,
    "start_time": "2022-04-29T10:03:33.608Z"
   },
   {
    "duration": 5,
    "start_time": "2022-04-29T10:03:33.633Z"
   },
   {
    "duration": 16,
    "start_time": "2022-04-29T10:03:33.639Z"
   },
   {
    "duration": 10,
    "start_time": "2022-04-29T10:03:33.657Z"
   },
   {
    "duration": 14469,
    "start_time": "2022-04-29T10:03:33.668Z"
   },
   {
    "duration": 14,
    "start_time": "2022-04-29T10:03:48.141Z"
   },
   {
    "duration": 11,
    "start_time": "2022-04-29T10:03:48.158Z"
   },
   {
    "duration": 11,
    "start_time": "2022-04-29T10:03:48.171Z"
   },
   {
    "duration": 3,
    "start_time": "2022-04-29T10:03:48.184Z"
   },
   {
    "duration": 159,
    "start_time": "2022-04-29T10:03:48.189Z"
   },
   {
    "duration": 31,
    "start_time": "2022-04-29T10:03:48.350Z"
   },
   {
    "duration": 5,
    "start_time": "2022-04-29T10:03:48.383Z"
   },
   {
    "duration": 50,
    "start_time": "2022-04-29T10:03:48.390Z"
   },
   {
    "duration": 26,
    "start_time": "2022-04-29T10:03:48.442Z"
   },
   {
    "duration": 10727,
    "start_time": "2022-04-29T10:03:48.469Z"
   },
   {
    "duration": 14,
    "start_time": "2022-04-29T10:03:59.198Z"
   },
   {
    "duration": 27,
    "start_time": "2022-04-29T10:03:59.225Z"
   },
   {
    "duration": 10035,
    "start_time": "2022-04-29T10:03:59.256Z"
   },
   {
    "duration": 16,
    "start_time": "2022-04-29T10:04:09.294Z"
   },
   {
    "duration": 55,
    "start_time": "2022-04-29T10:04:09.312Z"
   },
   {
    "duration": 27,
    "start_time": "2022-04-29T10:04:09.369Z"
   },
   {
    "duration": 41,
    "start_time": "2022-04-29T10:04:09.398Z"
   },
   {
    "duration": 42,
    "start_time": "2022-04-29T10:04:09.440Z"
   },
   {
    "duration": 4,
    "start_time": "2022-04-29T10:04:09.484Z"
   },
   {
    "duration": 40,
    "start_time": "2022-04-29T10:04:09.490Z"
   },
   {
    "duration": 5,
    "start_time": "2022-04-29T10:04:09.532Z"
   },
   {
    "duration": 23,
    "start_time": "2022-04-29T10:04:09.541Z"
   },
   {
    "duration": 5,
    "start_time": "2022-04-29T10:04:09.565Z"
   },
   {
    "duration": 158,
    "start_time": "2022-04-29T10:04:09.571Z"
   },
   {
    "duration": 9,
    "start_time": "2022-04-29T10:04:09.731Z"
   },
   {
    "duration": 10,
    "start_time": "2022-04-29T10:04:09.749Z"
   },
   {
    "duration": 8,
    "start_time": "2022-04-29T10:04:09.761Z"
   },
   {
    "duration": 11,
    "start_time": "2022-04-29T10:04:09.771Z"
   },
   {
    "duration": 11,
    "start_time": "2022-04-29T10:04:09.783Z"
   },
   {
    "duration": 98,
    "start_time": "2022-04-29T10:04:09.797Z"
   },
   {
    "duration": 4,
    "start_time": "2022-04-29T10:04:09.897Z"
   },
   {
    "duration": 5,
    "start_time": "2022-04-29T10:04:09.903Z"
   },
   {
    "duration": 13,
    "start_time": "2022-04-29T10:04:09.910Z"
   },
   {
    "duration": 181,
    "start_time": "2022-04-29T10:04:09.927Z"
   },
   {
    "duration": 206,
    "start_time": "2022-04-29T10:04:10.110Z"
   },
   {
    "duration": 16,
    "start_time": "2022-04-29T10:04:10.325Z"
   },
   {
    "duration": 153,
    "start_time": "2022-04-29T10:04:10.344Z"
   },
   {
    "duration": 194,
    "start_time": "2022-04-29T10:04:10.499Z"
   },
   {
    "duration": 9,
    "start_time": "2022-04-29T10:04:10.695Z"
   },
   {
    "duration": 182,
    "start_time": "2022-04-29T10:04:10.707Z"
   },
   {
    "duration": 199,
    "start_time": "2022-04-29T10:04:10.890Z"
   },
   {
    "duration": 11,
    "start_time": "2022-04-29T10:04:11.092Z"
   },
   {
    "duration": 20,
    "start_time": "2022-04-29T10:04:11.105Z"
   },
   {
    "duration": 10,
    "start_time": "2022-04-29T10:04:11.134Z"
   },
   {
    "duration": 17,
    "start_time": "2022-04-29T10:04:11.147Z"
   },
   {
    "duration": 5,
    "start_time": "2022-04-29T10:04:11.166Z"
   },
   {
    "duration": 15,
    "start_time": "2022-04-29T10:04:11.173Z"
   },
   {
    "duration": 37,
    "start_time": "2022-04-29T10:04:11.190Z"
   },
   {
    "duration": 122,
    "start_time": "2022-04-29T10:04:11.232Z"
   },
   {
    "duration": 0,
    "start_time": "2022-04-29T10:04:11.356Z"
   },
   {
    "duration": 0,
    "start_time": "2022-04-29T10:04:11.358Z"
   },
   {
    "duration": 0,
    "start_time": "2022-04-29T10:04:11.359Z"
   },
   {
    "duration": 0,
    "start_time": "2022-04-29T10:04:11.360Z"
   },
   {
    "duration": 0,
    "start_time": "2022-04-29T10:04:11.361Z"
   },
   {
    "duration": 5,
    "start_time": "2022-04-29T10:04:46.712Z"
   },
   {
    "duration": 7,
    "start_time": "2022-04-29T10:05:09.089Z"
   },
   {
    "duration": 6,
    "start_time": "2022-04-29T10:05:58.035Z"
   },
   {
    "duration": 8,
    "start_time": "2022-04-29T10:06:33.277Z"
   },
   {
    "duration": 7,
    "start_time": "2022-04-29T10:08:30.463Z"
   },
   {
    "duration": 2716,
    "start_time": "2022-04-29T10:09:16.131Z"
   },
   {
    "duration": 2421,
    "start_time": "2022-04-29T10:09:52.519Z"
   },
   {
    "duration": 2618,
    "start_time": "2022-04-29T10:11:55.648Z"
   },
   {
    "duration": 2615,
    "start_time": "2022-04-29T10:14:16.856Z"
   },
   {
    "duration": 48,
    "start_time": "2022-04-29T10:14:43.026Z"
   },
   {
    "duration": 28,
    "start_time": "2022-04-29T10:15:18.049Z"
   },
   {
    "duration": 14,
    "start_time": "2022-04-29T10:15:35.956Z"
   },
   {
    "duration": 19,
    "start_time": "2022-04-29T10:16:11.518Z"
   },
   {
    "duration": 27,
    "start_time": "2022-04-29T10:16:12.729Z"
   },
   {
    "duration": 5,
    "start_time": "2022-04-29T10:17:07.056Z"
   },
   {
    "duration": 6,
    "start_time": "2022-04-29T10:20:14.094Z"
   },
   {
    "duration": 9,
    "start_time": "2022-04-29T10:20:15.051Z"
   },
   {
    "duration": 6,
    "start_time": "2022-04-29T10:20:16.013Z"
   },
   {
    "duration": 7,
    "start_time": "2022-04-29T10:20:16.864Z"
   },
   {
    "duration": 9,
    "start_time": "2022-04-29T10:20:18.051Z"
   },
   {
    "duration": 3,
    "start_time": "2022-04-29T10:29:47.670Z"
   },
   {
    "duration": 24,
    "start_time": "2022-04-29T10:30:26.606Z"
   },
   {
    "duration": 5,
    "start_time": "2022-04-29T10:30:36.167Z"
   },
   {
    "duration": 8,
    "start_time": "2022-04-29T10:30:50.336Z"
   },
   {
    "duration": 15,
    "start_time": "2022-04-29T10:31:25.748Z"
   },
   {
    "duration": 5,
    "start_time": "2022-04-29T10:31:45.290Z"
   },
   {
    "duration": 4,
    "start_time": "2022-04-29T10:31:57.782Z"
   },
   {
    "duration": 10,
    "start_time": "2022-04-29T10:33:58.824Z"
   },
   {
    "duration": 9,
    "start_time": "2022-04-29T10:34:15.182Z"
   },
   {
    "duration": 10,
    "start_time": "2022-04-29T10:34:48.616Z"
   },
   {
    "duration": 9,
    "start_time": "2022-04-29T10:35:12.140Z"
   },
   {
    "duration": 8,
    "start_time": "2022-04-29T10:36:08.058Z"
   },
   {
    "duration": 16,
    "start_time": "2022-04-29T10:36:10.634Z"
   },
   {
    "duration": 26,
    "start_time": "2022-04-29T10:38:46.828Z"
   },
   {
    "duration": 13,
    "start_time": "2022-04-29T10:39:17.940Z"
   },
   {
    "duration": 3,
    "start_time": "2022-04-29T10:43:32.725Z"
   },
   {
    "duration": 5,
    "start_time": "2022-04-29T10:43:33.605Z"
   },
   {
    "duration": 4,
    "start_time": "2022-04-29T10:43:35.321Z"
   },
   {
    "duration": 12,
    "start_time": "2022-04-29T10:43:36.139Z"
   },
   {
    "duration": 11,
    "start_time": "2022-04-29T10:44:46.743Z"
   },
   {
    "duration": 26,
    "start_time": "2022-04-29T10:44:47.774Z"
   },
   {
    "duration": 3,
    "start_time": "2022-04-29T10:45:19.035Z"
   },
   {
    "duration": 27,
    "start_time": "2022-04-29T10:45:19.046Z"
   },
   {
    "duration": 3,
    "start_time": "2022-04-29T10:45:19.075Z"
   },
   {
    "duration": 472,
    "start_time": "2022-04-29T10:45:19.081Z"
   },
   {
    "duration": 5,
    "start_time": "2022-04-29T10:45:19.559Z"
   },
   {
    "duration": 307,
    "start_time": "2022-04-29T10:45:19.566Z"
   },
   {
    "duration": 280,
    "start_time": "2022-04-29T10:45:19.876Z"
   },
   {
    "duration": 4,
    "start_time": "2022-04-29T10:45:20.158Z"
   },
   {
    "duration": 37,
    "start_time": "2022-04-29T10:45:20.164Z"
   },
   {
    "duration": 18,
    "start_time": "2022-04-29T10:45:20.203Z"
   },
   {
    "duration": 108,
    "start_time": "2022-04-29T10:45:20.225Z"
   },
   {
    "duration": 12,
    "start_time": "2022-04-29T10:45:20.335Z"
   },
   {
    "duration": 13,
    "start_time": "2022-04-29T10:45:20.351Z"
   },
   {
    "duration": 28,
    "start_time": "2022-04-29T10:45:20.365Z"
   },
   {
    "duration": 20,
    "start_time": "2022-04-29T10:45:20.395Z"
   },
   {
    "duration": 15210,
    "start_time": "2022-04-29T10:45:20.417Z"
   },
   {
    "duration": 18,
    "start_time": "2022-04-29T10:45:35.631Z"
   },
   {
    "duration": 8,
    "start_time": "2022-04-29T10:45:35.653Z"
   },
   {
    "duration": 13,
    "start_time": "2022-04-29T10:45:35.663Z"
   },
   {
    "duration": 4,
    "start_time": "2022-04-29T10:45:35.678Z"
   },
   {
    "duration": 184,
    "start_time": "2022-04-29T10:45:35.684Z"
   },
   {
    "duration": 38,
    "start_time": "2022-04-29T10:45:35.870Z"
   },
   {
    "duration": 20,
    "start_time": "2022-04-29T10:45:35.910Z"
   },
   {
    "duration": 37,
    "start_time": "2022-04-29T10:45:35.932Z"
   },
   {
    "duration": 30,
    "start_time": "2022-04-29T10:45:35.971Z"
   },
   {
    "duration": 12099,
    "start_time": "2022-04-29T10:45:36.003Z"
   },
   {
    "duration": 11,
    "start_time": "2022-04-29T10:45:48.104Z"
   },
   {
    "duration": 34,
    "start_time": "2022-04-29T10:45:48.122Z"
   },
   {
    "duration": 9239,
    "start_time": "2022-04-29T10:45:48.159Z"
   },
   {
    "duration": 25,
    "start_time": "2022-04-29T10:45:57.400Z"
   },
   {
    "duration": 37,
    "start_time": "2022-04-29T10:45:57.436Z"
   },
   {
    "duration": 20,
    "start_time": "2022-04-29T10:45:57.475Z"
   },
   {
    "duration": 29,
    "start_time": "2022-04-29T10:45:57.497Z"
   },
   {
    "duration": 35,
    "start_time": "2022-04-29T10:45:57.530Z"
   },
   {
    "duration": 4,
    "start_time": "2022-04-29T10:45:57.567Z"
   },
   {
    "duration": 8,
    "start_time": "2022-04-29T10:45:57.572Z"
   },
   {
    "duration": 5,
    "start_time": "2022-04-29T10:45:57.581Z"
   },
   {
    "duration": 8,
    "start_time": "2022-04-29T10:45:57.587Z"
   },
   {
    "duration": 39,
    "start_time": "2022-04-29T10:45:57.596Z"
   },
   {
    "duration": 152,
    "start_time": "2022-04-29T10:45:57.637Z"
   },
   {
    "duration": 5,
    "start_time": "2022-04-29T10:45:57.790Z"
   },
   {
    "duration": 9,
    "start_time": "2022-04-29T10:45:57.797Z"
   },
   {
    "duration": 22,
    "start_time": "2022-04-29T10:45:57.807Z"
   },
   {
    "duration": 11,
    "start_time": "2022-04-29T10:45:57.831Z"
   },
   {
    "duration": 11,
    "start_time": "2022-04-29T10:45:57.843Z"
   },
   {
    "duration": 21,
    "start_time": "2022-04-29T10:45:57.855Z"
   },
   {
    "duration": 4,
    "start_time": "2022-04-29T10:45:57.878Z"
   },
   {
    "duration": 4,
    "start_time": "2022-04-29T10:45:57.884Z"
   },
   {
    "duration": 12,
    "start_time": "2022-04-29T10:45:57.890Z"
   },
   {
    "duration": 163,
    "start_time": "2022-04-29T10:45:57.924Z"
   },
   {
    "duration": 195,
    "start_time": "2022-04-29T10:45:58.090Z"
   },
   {
    "duration": 8,
    "start_time": "2022-04-29T10:45:58.287Z"
   },
   {
    "duration": 10,
    "start_time": "2022-04-29T10:45:58.296Z"
   },
   {
    "duration": 148,
    "start_time": "2022-04-29T10:45:58.321Z"
   },
   {
    "duration": 188,
    "start_time": "2022-04-29T10:45:58.471Z"
   },
   {
    "duration": 8,
    "start_time": "2022-04-29T10:45:58.661Z"
   },
   {
    "duration": 8,
    "start_time": "2022-04-29T10:45:58.670Z"
   },
   {
    "duration": 177,
    "start_time": "2022-04-29T10:45:58.679Z"
   },
   {
    "duration": 253,
    "start_time": "2022-04-29T10:45:58.858Z"
   },
   {
    "duration": 21,
    "start_time": "2022-04-29T10:45:59.113Z"
   },
   {
    "duration": 13,
    "start_time": "2022-04-29T10:45:59.135Z"
   },
   {
    "duration": 3,
    "start_time": "2022-04-29T10:45:59.150Z"
   },
   {
    "duration": 8,
    "start_time": "2022-04-29T10:45:59.155Z"
   },
   {
    "duration": 4,
    "start_time": "2022-04-29T10:45:59.164Z"
   },
   {
    "duration": 5,
    "start_time": "2022-04-29T10:45:59.170Z"
   },
   {
    "duration": 14,
    "start_time": "2022-04-29T10:45:59.177Z"
   },
   {
    "duration": 34,
    "start_time": "2022-04-29T10:45:59.194Z"
   },
   {
    "duration": 19,
    "start_time": "2022-04-29T10:45:59.234Z"
   },
   {
    "duration": 6,
    "start_time": "2022-04-29T10:45:59.256Z"
   },
   {
    "duration": 5,
    "start_time": "2022-04-29T10:45:59.266Z"
   },
   {
    "duration": 11,
    "start_time": "2022-04-29T10:45:59.273Z"
   },
   {
    "duration": 13,
    "start_time": "2022-04-29T10:45:59.285Z"
   },
   {
    "duration": 15,
    "start_time": "2022-04-29T10:53:21.769Z"
   },
   {
    "duration": 15,
    "start_time": "2022-04-29T10:53:37.488Z"
   },
   {
    "duration": 3,
    "start_time": "2022-04-29T10:53:52.193Z"
   },
   {
    "duration": 20,
    "start_time": "2022-04-29T10:53:52.201Z"
   },
   {
    "duration": 8,
    "start_time": "2022-04-29T10:53:52.225Z"
   },
   {
    "duration": 423,
    "start_time": "2022-04-29T10:53:52.236Z"
   },
   {
    "duration": 5,
    "start_time": "2022-04-29T10:53:52.662Z"
   },
   {
    "duration": 279,
    "start_time": "2022-04-29T10:53:52.669Z"
   },
   {
    "duration": 212,
    "start_time": "2022-04-29T10:53:52.950Z"
   },
   {
    "duration": 4,
    "start_time": "2022-04-29T10:53:53.164Z"
   },
   {
    "duration": 10,
    "start_time": "2022-04-29T10:53:53.170Z"
   },
   {
    "duration": 8,
    "start_time": "2022-04-29T10:53:53.181Z"
   },
   {
    "duration": 103,
    "start_time": "2022-04-29T10:53:53.191Z"
   },
   {
    "duration": 6,
    "start_time": "2022-04-29T10:53:53.295Z"
   },
   {
    "duration": 24,
    "start_time": "2022-04-29T10:53:53.304Z"
   },
   {
    "duration": 22,
    "start_time": "2022-04-29T10:53:53.330Z"
   },
   {
    "duration": 11,
    "start_time": "2022-04-29T10:53:53.354Z"
   },
   {
    "duration": 15188,
    "start_time": "2022-04-29T10:53:53.366Z"
   },
   {
    "duration": 10,
    "start_time": "2022-04-29T10:54:08.557Z"
   },
   {
    "duration": 7,
    "start_time": "2022-04-29T10:54:08.569Z"
   },
   {
    "duration": 10,
    "start_time": "2022-04-29T10:54:08.578Z"
   },
   {
    "duration": 33,
    "start_time": "2022-04-29T10:54:08.590Z"
   },
   {
    "duration": 147,
    "start_time": "2022-04-29T10:54:08.630Z"
   },
   {
    "duration": 30,
    "start_time": "2022-04-29T10:54:08.779Z"
   },
   {
    "duration": 17,
    "start_time": "2022-04-29T10:54:08.829Z"
   },
   {
    "duration": 44,
    "start_time": "2022-04-29T10:58:26.172Z"
   },
   {
    "duration": 16,
    "start_time": "2022-04-29T10:58:57.835Z"
   },
   {
    "duration": 28,
    "start_time": "2022-04-29T11:00:40.107Z"
   },
   {
    "duration": 59,
    "start_time": "2022-04-29T11:04:04.283Z"
   },
   {
    "duration": 59,
    "start_time": "2022-04-29T11:05:53.130Z"
   },
   {
    "duration": 45,
    "start_time": "2022-04-29T11:06:10.879Z"
   },
   {
    "duration": 40,
    "start_time": "2022-04-29T11:06:33.533Z"
   },
   {
    "duration": 42,
    "start_time": "2022-04-29T11:06:44.753Z"
   },
   {
    "duration": 22,
    "start_time": "2022-04-29T11:07:17.882Z"
   },
   {
    "duration": 6,
    "start_time": "2022-04-29T11:11:54.466Z"
   },
   {
    "duration": 6,
    "start_time": "2022-04-29T11:13:56.845Z"
   },
   {
    "duration": 6,
    "start_time": "2022-04-29T11:14:21.831Z"
   },
   {
    "duration": 6,
    "start_time": "2022-04-29T11:14:44.698Z"
   },
   {
    "duration": 433,
    "start_time": "2022-04-29T19:20:20.924Z"
   },
   {
    "duration": 37,
    "start_time": "2022-04-29T19:20:21.359Z"
   },
   {
    "duration": 1006,
    "start_time": "2022-04-29T19:20:21.397Z"
   },
   {
    "duration": 419,
    "start_time": "2022-04-29T19:20:22.405Z"
   },
   {
    "duration": 4,
    "start_time": "2022-04-29T19:20:22.826Z"
   },
   {
    "duration": 233,
    "start_time": "2022-04-29T19:20:22.832Z"
   },
   {
    "duration": 256,
    "start_time": "2022-04-29T19:20:23.067Z"
   },
   {
    "duration": 4,
    "start_time": "2022-04-29T19:20:23.324Z"
   },
   {
    "duration": 19,
    "start_time": "2022-04-29T19:20:23.330Z"
   },
   {
    "duration": 5,
    "start_time": "2022-04-29T19:20:23.352Z"
   },
   {
    "duration": 112,
    "start_time": "2022-04-29T19:20:23.358Z"
   },
   {
    "duration": 5,
    "start_time": "2022-04-29T19:20:23.471Z"
   },
   {
    "duration": 18,
    "start_time": "2022-04-29T19:20:23.478Z"
   },
   {
    "duration": 18,
    "start_time": "2022-04-29T19:20:23.498Z"
   },
   {
    "duration": 23,
    "start_time": "2022-04-29T19:20:23.519Z"
   },
   {
    "duration": 12688,
    "start_time": "2022-04-29T19:20:23.544Z"
   },
   {
    "duration": 8,
    "start_time": "2022-04-29T19:20:36.234Z"
   },
   {
    "duration": 17,
    "start_time": "2022-04-29T19:20:36.244Z"
   },
   {
    "duration": 11,
    "start_time": "2022-04-29T19:20:36.263Z"
   },
   {
    "duration": 4,
    "start_time": "2022-04-29T19:20:36.275Z"
   },
   {
    "duration": 152,
    "start_time": "2022-04-29T19:20:36.281Z"
   },
   {
    "duration": 27,
    "start_time": "2022-04-29T19:20:36.435Z"
   },
   {
    "duration": 14,
    "start_time": "2022-04-29T19:20:36.464Z"
   },
   {
    "duration": 4,
    "start_time": "2022-04-29T19:20:36.480Z"
   },
   {
    "duration": 52,
    "start_time": "2022-04-29T19:20:36.486Z"
   },
   {
    "duration": 93,
    "start_time": "2022-04-29T19:20:36.540Z"
   },
   {
    "duration": 0,
    "start_time": "2022-04-29T19:20:36.636Z"
   },
   {
    "duration": 0,
    "start_time": "2022-04-29T19:20:36.638Z"
   },
   {
    "duration": 0,
    "start_time": "2022-04-29T19:20:36.639Z"
   },
   {
    "duration": 0,
    "start_time": "2022-04-29T19:20:36.641Z"
   },
   {
    "duration": 0,
    "start_time": "2022-04-29T19:20:36.642Z"
   },
   {
    "duration": 0,
    "start_time": "2022-04-29T19:20:36.644Z"
   },
   {
    "duration": 0,
    "start_time": "2022-04-29T19:20:36.645Z"
   },
   {
    "duration": 0,
    "start_time": "2022-04-29T19:20:36.647Z"
   },
   {
    "duration": 0,
    "start_time": "2022-04-29T19:20:36.648Z"
   },
   {
    "duration": 0,
    "start_time": "2022-04-29T19:20:36.649Z"
   },
   {
    "duration": 0,
    "start_time": "2022-04-29T19:20:36.651Z"
   },
   {
    "duration": 0,
    "start_time": "2022-04-29T19:20:36.652Z"
   },
   {
    "duration": 0,
    "start_time": "2022-04-29T19:20:36.653Z"
   },
   {
    "duration": 0,
    "start_time": "2022-04-29T19:20:36.655Z"
   },
   {
    "duration": 0,
    "start_time": "2022-04-29T19:20:36.656Z"
   },
   {
    "duration": 0,
    "start_time": "2022-04-29T19:20:36.657Z"
   },
   {
    "duration": 0,
    "start_time": "2022-04-29T19:20:36.658Z"
   },
   {
    "duration": 0,
    "start_time": "2022-04-29T19:20:36.660Z"
   },
   {
    "duration": 0,
    "start_time": "2022-04-29T19:20:36.661Z"
   },
   {
    "duration": 0,
    "start_time": "2022-04-29T19:20:36.662Z"
   },
   {
    "duration": 0,
    "start_time": "2022-04-29T19:20:36.664Z"
   },
   {
    "duration": 0,
    "start_time": "2022-04-29T19:20:36.665Z"
   },
   {
    "duration": 0,
    "start_time": "2022-04-29T19:20:36.666Z"
   },
   {
    "duration": 0,
    "start_time": "2022-04-29T19:20:36.668Z"
   },
   {
    "duration": 0,
    "start_time": "2022-04-29T19:20:36.669Z"
   },
   {
    "duration": 0,
    "start_time": "2022-04-29T19:20:36.670Z"
   },
   {
    "duration": 0,
    "start_time": "2022-04-29T19:20:36.723Z"
   },
   {
    "duration": 0,
    "start_time": "2022-04-29T19:20:36.724Z"
   },
   {
    "duration": 0,
    "start_time": "2022-04-29T19:20:36.726Z"
   },
   {
    "duration": 0,
    "start_time": "2022-04-29T19:20:36.727Z"
   },
   {
    "duration": 1,
    "start_time": "2022-04-29T19:20:36.728Z"
   },
   {
    "duration": 0,
    "start_time": "2022-04-29T19:20:36.730Z"
   },
   {
    "duration": 0,
    "start_time": "2022-04-29T19:20:36.731Z"
   },
   {
    "duration": 0,
    "start_time": "2022-04-29T19:20:36.732Z"
   },
   {
    "duration": 0,
    "start_time": "2022-04-29T19:20:36.734Z"
   },
   {
    "duration": 0,
    "start_time": "2022-04-29T19:20:36.735Z"
   },
   {
    "duration": 0,
    "start_time": "2022-04-29T19:20:36.736Z"
   },
   {
    "duration": 0,
    "start_time": "2022-04-29T19:20:36.737Z"
   },
   {
    "duration": 0,
    "start_time": "2022-04-29T19:20:36.739Z"
   },
   {
    "duration": 0,
    "start_time": "2022-04-29T19:20:36.740Z"
   },
   {
    "duration": 0,
    "start_time": "2022-04-29T19:20:36.741Z"
   },
   {
    "duration": 0,
    "start_time": "2022-04-29T19:20:36.743Z"
   },
   {
    "duration": 0,
    "start_time": "2022-04-29T19:20:36.744Z"
   },
   {
    "duration": 0,
    "start_time": "2022-04-29T19:20:36.745Z"
   },
   {
    "duration": 0,
    "start_time": "2022-04-29T19:20:36.747Z"
   },
   {
    "duration": 0,
    "start_time": "2022-04-29T19:20:36.748Z"
   },
   {
    "duration": 0,
    "start_time": "2022-04-29T19:20:36.749Z"
   },
   {
    "duration": 0,
    "start_time": "2022-04-29T19:20:36.750Z"
   },
   {
    "duration": 1,
    "start_time": "2022-04-29T19:20:36.751Z"
   },
   {
    "duration": 19,
    "start_time": "2022-04-29T19:22:45.018Z"
   },
   {
    "duration": 9097,
    "start_time": "2022-04-29T19:22:45.039Z"
   },
   {
    "duration": 11,
    "start_time": "2022-04-29T19:22:54.138Z"
   },
   {
    "duration": 16,
    "start_time": "2022-04-29T19:22:54.151Z"
   },
   {
    "duration": 7662,
    "start_time": "2022-04-29T19:22:54.169Z"
   },
   {
    "duration": 11,
    "start_time": "2022-04-29T19:23:01.832Z"
   },
   {
    "duration": 29,
    "start_time": "2022-04-29T19:23:01.844Z"
   },
   {
    "duration": 18,
    "start_time": "2022-04-29T19:23:01.874Z"
   },
   {
    "duration": 42,
    "start_time": "2022-04-29T19:23:01.893Z"
   },
   {
    "duration": 26,
    "start_time": "2022-04-29T19:23:01.937Z"
   },
   {
    "duration": 4,
    "start_time": "2022-04-29T19:23:01.965Z"
   },
   {
    "duration": 7,
    "start_time": "2022-04-29T19:23:01.971Z"
   },
   {
    "duration": 4,
    "start_time": "2022-04-29T19:23:01.979Z"
   },
   {
    "duration": 12,
    "start_time": "2022-04-29T19:23:01.985Z"
   },
   {
    "duration": 4,
    "start_time": "2022-04-29T19:23:02.023Z"
   },
   {
    "duration": 137,
    "start_time": "2022-04-29T19:23:02.029Z"
   },
   {
    "duration": 5,
    "start_time": "2022-04-29T19:23:02.168Z"
   },
   {
    "duration": 12,
    "start_time": "2022-04-29T19:23:02.175Z"
   },
   {
    "duration": 13,
    "start_time": "2022-04-29T19:23:02.188Z"
   },
   {
    "duration": 7,
    "start_time": "2022-04-29T19:23:02.203Z"
   },
   {
    "duration": 11,
    "start_time": "2022-04-29T19:23:02.212Z"
   },
   {
    "duration": 9,
    "start_time": "2022-04-29T19:23:02.224Z"
   },
   {
    "duration": 59,
    "start_time": "2022-04-29T19:23:02.235Z"
   },
   {
    "duration": 4,
    "start_time": "2022-04-29T19:23:02.295Z"
   },
   {
    "duration": 4,
    "start_time": "2022-04-29T19:23:02.301Z"
   },
   {
    "duration": 17,
    "start_time": "2022-04-29T19:23:02.307Z"
   },
   {
    "duration": 148,
    "start_time": "2022-04-29T19:23:02.326Z"
   },
   {
    "duration": 163,
    "start_time": "2022-04-29T19:23:02.476Z"
   },
   {
    "duration": 7,
    "start_time": "2022-04-29T19:23:02.642Z"
   },
   {
    "duration": 6,
    "start_time": "2022-04-29T19:23:02.651Z"
   },
   {
    "duration": 143,
    "start_time": "2022-04-29T19:23:02.659Z"
   },
   {
    "duration": 161,
    "start_time": "2022-04-29T19:23:02.804Z"
   },
   {
    "duration": 10,
    "start_time": "2022-04-29T19:23:02.967Z"
   },
   {
    "duration": 10,
    "start_time": "2022-04-29T19:23:02.979Z"
   },
   {
    "duration": 163,
    "start_time": "2022-04-29T19:23:02.990Z"
   },
   {
    "duration": 169,
    "start_time": "2022-04-29T19:23:03.155Z"
   },
   {
    "duration": 7,
    "start_time": "2022-04-29T19:23:03.326Z"
   },
   {
    "duration": 6,
    "start_time": "2022-04-29T19:23:03.334Z"
   },
   {
    "duration": 3,
    "start_time": "2022-04-29T19:23:03.342Z"
   },
   {
    "duration": 6,
    "start_time": "2022-04-29T19:23:03.346Z"
   },
   {
    "duration": 4,
    "start_time": "2022-04-29T19:23:03.353Z"
   },
   {
    "duration": 5,
    "start_time": "2022-04-29T19:23:03.359Z"
   },
   {
    "duration": 13,
    "start_time": "2022-04-29T19:23:03.366Z"
   },
   {
    "duration": 25,
    "start_time": "2022-04-29T19:23:03.381Z"
   },
   {
    "duration": 75,
    "start_time": "2022-04-29T19:23:03.408Z"
   },
   {
    "duration": 4,
    "start_time": "2022-04-29T19:23:03.485Z"
   },
   {
    "duration": 13,
    "start_time": "2022-04-29T19:23:03.490Z"
   },
   {
    "duration": 68,
    "start_time": "2022-04-29T19:23:03.505Z"
   },
   {
    "duration": 8,
    "start_time": "2022-04-29T19:23:03.575Z"
   },
   {
    "duration": 4,
    "start_time": "2022-04-29T19:41:43.288Z"
   },
   {
    "duration": 126,
    "start_time": "2022-04-29T19:43:56.119Z"
   },
   {
    "duration": 27,
    "start_time": "2022-04-29T19:43:57.193Z"
   },
   {
    "duration": 5,
    "start_time": "2022-04-29T19:54:08.020Z"
   },
   {
    "duration": 22,
    "start_time": "2022-04-29T19:54:08.032Z"
   },
   {
    "duration": 6,
    "start_time": "2022-04-29T19:54:08.056Z"
   },
   {
    "duration": 560,
    "start_time": "2022-04-29T19:54:08.068Z"
   },
   {
    "duration": 13,
    "start_time": "2022-04-29T19:54:08.630Z"
   },
   {
    "duration": 5,
    "start_time": "2022-04-29T19:54:08.644Z"
   },
   {
    "duration": 465,
    "start_time": "2022-04-29T19:54:08.651Z"
   },
   {
    "duration": 13,
    "start_time": "2022-04-29T19:54:09.118Z"
   },
   {
    "duration": 31,
    "start_time": "2022-04-29T19:54:09.132Z"
   },
   {
    "duration": 17,
    "start_time": "2022-04-29T19:54:09.165Z"
   },
   {
    "duration": 40,
    "start_time": "2022-04-29T19:54:09.184Z"
   },
   {
    "duration": 29,
    "start_time": "2022-04-29T19:54:09.226Z"
   },
   {
    "duration": 4,
    "start_time": "2022-04-29T19:54:09.258Z"
   },
   {
    "duration": 12,
    "start_time": "2022-04-29T19:54:09.263Z"
   },
   {
    "duration": 5,
    "start_time": "2022-04-29T19:54:09.276Z"
   },
   {
    "duration": 8,
    "start_time": "2022-04-29T19:54:09.283Z"
   },
   {
    "duration": 5,
    "start_time": "2022-04-29T19:54:09.322Z"
   },
   {
    "duration": 195,
    "start_time": "2022-04-29T19:54:09.329Z"
   },
   {
    "duration": 5,
    "start_time": "2022-04-29T19:54:09.525Z"
   },
   {
    "duration": 7,
    "start_time": "2022-04-29T19:54:09.531Z"
   },
   {
    "duration": 8,
    "start_time": "2022-04-29T19:54:09.540Z"
   },
   {
    "duration": 8,
    "start_time": "2022-04-29T19:54:09.549Z"
   },
   {
    "duration": 7,
    "start_time": "2022-04-29T19:54:09.559Z"
   },
   {
    "duration": 6,
    "start_time": "2022-04-29T19:54:09.568Z"
   },
   {
    "duration": 60,
    "start_time": "2022-04-29T19:54:09.575Z"
   },
   {
    "duration": 4,
    "start_time": "2022-04-29T19:54:09.637Z"
   },
   {
    "duration": 9,
    "start_time": "2022-04-29T19:54:09.643Z"
   },
   {
    "duration": 6,
    "start_time": "2022-04-29T19:54:09.654Z"
   },
   {
    "duration": 163,
    "start_time": "2022-04-29T19:54:09.662Z"
   },
   {
    "duration": 193,
    "start_time": "2022-04-29T19:54:09.826Z"
   },
   {
    "duration": 8,
    "start_time": "2022-04-29T19:54:10.022Z"
   },
   {
    "duration": 7,
    "start_time": "2022-04-29T19:54:10.032Z"
   },
   {
    "duration": 157,
    "start_time": "2022-04-29T19:54:10.040Z"
   },
   {
    "duration": 195,
    "start_time": "2022-04-29T19:54:10.200Z"
   },
   {
    "duration": 9,
    "start_time": "2022-04-29T19:54:10.397Z"
   },
   {
    "duration": 24,
    "start_time": "2022-04-29T19:54:10.408Z"
   },
   {
    "duration": 164,
    "start_time": "2022-04-29T19:54:10.435Z"
   },
   {
    "duration": 168,
    "start_time": "2022-04-29T19:54:10.601Z"
   },
   {
    "duration": 9,
    "start_time": "2022-04-29T19:54:10.772Z"
   },
   {
    "duration": 19,
    "start_time": "2022-04-29T19:54:10.782Z"
   },
   {
    "duration": 19,
    "start_time": "2022-04-29T19:54:10.803Z"
   },
   {
    "duration": 21,
    "start_time": "2022-04-29T19:54:10.824Z"
   },
   {
    "duration": 41,
    "start_time": "2022-04-29T19:54:10.847Z"
   },
   {
    "duration": 23,
    "start_time": "2022-04-29T19:54:10.890Z"
   },
   {
    "duration": 34,
    "start_time": "2022-04-29T19:54:10.915Z"
   },
   {
    "duration": 11,
    "start_time": "2022-04-29T19:54:10.950Z"
   },
   {
    "duration": 30,
    "start_time": "2022-04-29T19:54:10.963Z"
   },
   {
    "duration": 20,
    "start_time": "2022-04-29T19:54:10.995Z"
   },
   {
    "duration": 17,
    "start_time": "2022-04-29T19:54:11.017Z"
   },
   {
    "duration": 28,
    "start_time": "2022-04-29T19:54:11.036Z"
   },
   {
    "duration": 31,
    "start_time": "2022-04-29T19:54:11.066Z"
   },
   {
    "duration": 6,
    "start_time": "2022-04-29T19:54:45.498Z"
   },
   {
    "duration": 572,
    "start_time": "2022-04-29T19:54:46.657Z"
   },
   {
    "duration": 26,
    "start_time": "2022-04-29T19:58:38.877Z"
   },
   {
    "duration": 27,
    "start_time": "2022-04-29T19:59:00.920Z"
   },
   {
    "duration": 21,
    "start_time": "2022-04-29T19:59:21.342Z"
   },
   {
    "duration": 5,
    "start_time": "2022-04-29T19:59:25.301Z"
   },
   {
    "duration": 6,
    "start_time": "2022-04-29T20:01:58.175Z"
   },
   {
    "duration": 7,
    "start_time": "2022-04-29T20:02:42.922Z"
   },
   {
    "duration": 6,
    "start_time": "2022-04-29T20:03:04.619Z"
   },
   {
    "duration": 6,
    "start_time": "2022-04-29T20:03:23.536Z"
   },
   {
    "duration": 3,
    "start_time": "2022-04-29T20:08:52.434Z"
   },
   {
    "duration": 5,
    "start_time": "2022-04-29T20:09:08.068Z"
   },
   {
    "duration": 6,
    "start_time": "2022-04-29T20:09:58.855Z"
   },
   {
    "duration": 6,
    "start_time": "2022-04-29T20:10:36.923Z"
   },
   {
    "duration": 22,
    "start_time": "2022-04-29T20:15:29.798Z"
   },
   {
    "duration": 7,
    "start_time": "2022-04-29T21:24:50.512Z"
   },
   {
    "duration": 3,
    "start_time": "2022-04-29T21:29:15.190Z"
   },
   {
    "duration": 7,
    "start_time": "2022-04-29T21:39:20.942Z"
   },
   {
    "duration": 8,
    "start_time": "2022-04-29T21:39:39.378Z"
   },
   {
    "duration": 117,
    "start_time": "2022-04-29T22:05:42.399Z"
   },
   {
    "duration": 3,
    "start_time": "2022-04-29T22:06:30.979Z"
   },
   {
    "duration": 21,
    "start_time": "2022-04-29T22:06:31.019Z"
   },
   {
    "duration": 3,
    "start_time": "2022-04-29T22:06:31.062Z"
   },
   {
    "duration": 365,
    "start_time": "2022-04-29T22:06:31.080Z"
   },
   {
    "duration": 4,
    "start_time": "2022-04-29T22:06:31.447Z"
   },
   {
    "duration": 217,
    "start_time": "2022-04-29T22:06:31.452Z"
   },
   {
    "duration": 197,
    "start_time": "2022-04-29T22:06:31.671Z"
   },
   {
    "duration": 3,
    "start_time": "2022-04-29T22:06:31.870Z"
   },
   {
    "duration": 13,
    "start_time": "2022-04-29T22:06:31.874Z"
   },
   {
    "duration": 22,
    "start_time": "2022-04-29T22:06:31.888Z"
   },
   {
    "duration": 72,
    "start_time": "2022-04-29T22:06:31.911Z"
   },
   {
    "duration": 5,
    "start_time": "2022-04-29T22:06:31.984Z"
   },
   {
    "duration": 25,
    "start_time": "2022-04-29T22:06:31.992Z"
   },
   {
    "duration": 16,
    "start_time": "2022-04-29T22:06:32.019Z"
   },
   {
    "duration": 30,
    "start_time": "2022-04-29T22:06:32.037Z"
   },
   {
    "duration": 12506,
    "start_time": "2022-04-29T22:06:32.069Z"
   },
   {
    "duration": 6,
    "start_time": "2022-04-29T22:06:44.577Z"
   },
   {
    "duration": 9,
    "start_time": "2022-04-29T22:06:44.584Z"
   },
   {
    "duration": 3,
    "start_time": "2022-04-29T22:06:44.595Z"
   },
   {
    "duration": 141,
    "start_time": "2022-04-29T22:06:44.600Z"
   },
   {
    "duration": 28,
    "start_time": "2022-04-29T22:06:44.743Z"
   },
   {
    "duration": 12,
    "start_time": "2022-04-29T22:06:44.773Z"
   },
   {
    "duration": 4,
    "start_time": "2022-04-29T22:06:44.787Z"
   },
   {
    "duration": 46,
    "start_time": "2022-04-29T22:06:44.792Z"
   },
   {
    "duration": 20,
    "start_time": "2022-04-29T22:06:44.839Z"
   },
   {
    "duration": 9028,
    "start_time": "2022-04-29T22:06:44.860Z"
   },
   {
    "duration": 11,
    "start_time": "2022-04-29T22:06:53.890Z"
   },
   {
    "duration": 28,
    "start_time": "2022-04-29T22:06:53.903Z"
   },
   {
    "duration": 7496,
    "start_time": "2022-04-29T22:06:53.933Z"
   },
   {
    "duration": 9,
    "start_time": "2022-04-29T22:07:01.431Z"
   },
   {
    "duration": 42,
    "start_time": "2022-04-29T22:07:01.444Z"
   },
   {
    "duration": 22,
    "start_time": "2022-04-29T22:07:01.488Z"
   },
   {
    "duration": 19,
    "start_time": "2022-04-29T22:07:01.511Z"
   },
   {
    "duration": 20,
    "start_time": "2022-04-29T22:07:01.532Z"
   },
   {
    "duration": 5,
    "start_time": "2022-04-29T22:07:01.553Z"
   },
   {
    "duration": 9,
    "start_time": "2022-04-29T22:07:01.560Z"
   },
   {
    "duration": 7,
    "start_time": "2022-04-29T22:07:01.571Z"
   },
   {
    "duration": 25,
    "start_time": "2022-04-29T22:07:01.580Z"
   },
   {
    "duration": 15,
    "start_time": "2022-04-29T22:07:01.607Z"
   },
   {
    "duration": 142,
    "start_time": "2022-04-29T22:07:01.624Z"
   },
   {
    "duration": 5,
    "start_time": "2022-04-29T22:07:01.768Z"
   },
   {
    "duration": 11,
    "start_time": "2022-04-29T22:07:01.775Z"
   },
   {
    "duration": 13,
    "start_time": "2022-04-29T22:07:01.787Z"
   },
   {
    "duration": 14,
    "start_time": "2022-04-29T22:07:01.801Z"
   },
   {
    "duration": 16,
    "start_time": "2022-04-29T22:07:01.817Z"
   },
   {
    "duration": 13,
    "start_time": "2022-04-29T22:07:01.835Z"
   },
   {
    "duration": 11,
    "start_time": "2022-04-29T22:07:01.849Z"
   },
   {
    "duration": 31,
    "start_time": "2022-04-29T22:07:01.862Z"
   },
   {
    "duration": 23,
    "start_time": "2022-04-29T22:07:01.895Z"
   },
   {
    "duration": 37,
    "start_time": "2022-04-29T22:07:01.919Z"
   },
   {
    "duration": 9,
    "start_time": "2022-04-29T22:07:01.958Z"
   },
   {
    "duration": 13,
    "start_time": "2022-04-29T22:07:01.968Z"
   },
   {
    "duration": 142,
    "start_time": "2022-04-29T22:07:01.982Z"
   },
   {
    "duration": 167,
    "start_time": "2022-04-29T22:07:02.127Z"
   },
   {
    "duration": 9,
    "start_time": "2022-04-29T22:07:02.296Z"
   },
   {
    "duration": 8,
    "start_time": "2022-04-29T22:07:02.321Z"
   },
   {
    "duration": 136,
    "start_time": "2022-04-29T22:07:02.331Z"
   },
   {
    "duration": 165,
    "start_time": "2022-04-29T22:07:02.469Z"
   },
   {
    "duration": 9,
    "start_time": "2022-04-29T22:07:02.636Z"
   },
   {
    "duration": 8,
    "start_time": "2022-04-29T22:07:02.647Z"
   },
   {
    "duration": 155,
    "start_time": "2022-04-29T22:07:02.657Z"
   },
   {
    "duration": 165,
    "start_time": "2022-04-29T22:07:02.814Z"
   },
   {
    "duration": 7,
    "start_time": "2022-04-29T22:07:02.981Z"
   },
   {
    "duration": 15,
    "start_time": "2022-04-29T22:07:03.008Z"
   },
   {
    "duration": 133,
    "start_time": "2022-04-29T22:07:03.026Z"
   },
   {
    "duration": 229,
    "start_time": "2022-04-29T22:07:31.282Z"
   },
   {
    "duration": 166,
    "start_time": "2022-04-29T22:07:52.905Z"
   },
   {
    "duration": 337,
    "start_time": "2022-04-29T22:08:44.234Z"
   },
   {
    "duration": 159,
    "start_time": "2022-04-29T22:09:01.709Z"
   },
   {
    "duration": 8,
    "start_time": "2022-04-29T22:23:21.951Z"
   },
   {
    "duration": 9,
    "start_time": "2022-04-29T22:23:23.144Z"
   },
   {
    "duration": 4,
    "start_time": "2022-04-29T22:23:40.622Z"
   },
   {
    "duration": 4,
    "start_time": "2022-04-29T22:23:41.583Z"
   },
   {
    "duration": 3,
    "start_time": "2022-04-29T22:23:45.360Z"
   },
   {
    "duration": 4,
    "start_time": "2022-04-29T22:23:46.363Z"
   },
   {
    "duration": 13,
    "start_time": "2022-04-29T22:23:57.456Z"
   },
   {
    "duration": 4,
    "start_time": "2022-04-29T22:23:58.410Z"
   },
   {
    "duration": 13,
    "start_time": "2022-04-29T22:24:00.176Z"
   },
   {
    "duration": 4,
    "start_time": "2022-04-29T22:24:04.311Z"
   },
   {
    "duration": 4,
    "start_time": "2022-04-29T22:24:05.397Z"
   },
   {
    "duration": 7,
    "start_time": "2022-04-29T22:24:06.641Z"
   },
   {
    "duration": 7,
    "start_time": "2022-04-29T22:24:08.455Z"
   },
   {
    "duration": 14,
    "start_time": "2022-04-29T22:25:52.072Z"
   },
   {
    "duration": 4,
    "start_time": "2022-04-29T22:25:53.062Z"
   },
   {
    "duration": 17,
    "start_time": "2022-04-29T22:26:20.242Z"
   },
   {
    "duration": 4,
    "start_time": "2022-04-29T22:26:34.023Z"
   },
   {
    "duration": 5,
    "start_time": "2022-04-29T22:26:37.994Z"
   },
   {
    "duration": 8,
    "start_time": "2022-04-29T22:50:45.837Z"
   },
   {
    "duration": 4,
    "start_time": "2022-04-29T22:51:02.272Z"
   },
   {
    "duration": 3,
    "start_time": "2022-04-29T22:51:34.349Z"
   },
   {
    "duration": 4,
    "start_time": "2022-04-29T22:51:35.573Z"
   },
   {
    "duration": 4,
    "start_time": "2022-04-29T22:51:36.740Z"
   },
   {
    "duration": 8,
    "start_time": "2022-04-29T22:56:20.549Z"
   },
   {
    "duration": 8,
    "start_time": "2022-04-29T22:56:22.246Z"
   },
   {
    "duration": 3,
    "start_time": "2022-04-29T22:56:32.803Z"
   },
   {
    "duration": 4,
    "start_time": "2022-04-29T22:56:33.620Z"
   },
   {
    "duration": 3,
    "start_time": "2022-04-29T22:56:37.677Z"
   },
   {
    "duration": 2,
    "start_time": "2022-04-29T22:56:59.118Z"
   },
   {
    "duration": 3,
    "start_time": "2022-04-29T22:57:10.140Z"
   },
   {
    "duration": 20,
    "start_time": "2022-04-29T22:57:10.233Z"
   },
   {
    "duration": 2,
    "start_time": "2022-04-29T22:57:10.271Z"
   },
   {
    "duration": 384,
    "start_time": "2022-04-29T22:57:10.275Z"
   },
   {
    "duration": 5,
    "start_time": "2022-04-29T22:57:10.660Z"
   },
   {
    "duration": 215,
    "start_time": "2022-04-29T22:57:10.667Z"
   },
   {
    "duration": 228,
    "start_time": "2022-04-29T22:57:10.884Z"
   },
   {
    "duration": 3,
    "start_time": "2022-04-29T22:57:11.123Z"
   },
   {
    "duration": 24,
    "start_time": "2022-04-29T22:57:11.127Z"
   },
   {
    "duration": 21,
    "start_time": "2022-04-29T22:57:11.152Z"
   },
   {
    "duration": 81,
    "start_time": "2022-04-29T22:57:11.174Z"
   },
   {
    "duration": 5,
    "start_time": "2022-04-29T22:57:11.257Z"
   },
   {
    "duration": 19,
    "start_time": "2022-04-29T22:57:11.264Z"
   },
   {
    "duration": 27,
    "start_time": "2022-04-29T22:57:11.284Z"
   },
   {
    "duration": 41,
    "start_time": "2022-04-29T22:57:11.313Z"
   },
   {
    "duration": 12429,
    "start_time": "2022-04-29T22:57:11.355Z"
   },
   {
    "duration": 6,
    "start_time": "2022-04-29T22:57:23.785Z"
   },
   {
    "duration": 8,
    "start_time": "2022-04-29T22:57:23.793Z"
   },
   {
    "duration": 21,
    "start_time": "2022-04-29T22:57:23.802Z"
   },
   {
    "duration": 107,
    "start_time": "2022-04-29T22:57:23.825Z"
   },
   {
    "duration": 28,
    "start_time": "2022-04-29T22:57:23.933Z"
   },
   {
    "duration": 13,
    "start_time": "2022-04-29T22:57:23.962Z"
   },
   {
    "duration": 4,
    "start_time": "2022-04-29T22:57:23.976Z"
   },
   {
    "duration": 60,
    "start_time": "2022-04-29T22:57:23.981Z"
   },
   {
    "duration": 53,
    "start_time": "2022-04-29T22:57:24.047Z"
   },
   {
    "duration": 9163,
    "start_time": "2022-04-29T22:57:24.102Z"
   },
   {
    "duration": 11,
    "start_time": "2022-04-29T22:57:33.266Z"
   },
   {
    "duration": 17,
    "start_time": "2022-04-29T22:57:33.278Z"
   },
   {
    "duration": 7341,
    "start_time": "2022-04-29T22:57:33.296Z"
   },
   {
    "duration": 11,
    "start_time": "2022-04-29T22:57:40.638Z"
   },
   {
    "duration": 27,
    "start_time": "2022-04-29T22:57:40.653Z"
   },
   {
    "duration": 17,
    "start_time": "2022-04-29T22:57:40.681Z"
   },
   {
    "duration": 17,
    "start_time": "2022-04-29T22:57:40.722Z"
   },
   {
    "duration": 20,
    "start_time": "2022-04-29T22:57:40.740Z"
   },
   {
    "duration": 4,
    "start_time": "2022-04-29T22:57:40.762Z"
   },
   {
    "duration": 10,
    "start_time": "2022-04-29T22:57:40.768Z"
   },
   {
    "duration": 5,
    "start_time": "2022-04-29T22:57:40.779Z"
   },
   {
    "duration": 42,
    "start_time": "2022-04-29T22:57:40.785Z"
   },
   {
    "duration": 5,
    "start_time": "2022-04-29T22:57:40.828Z"
   },
   {
    "duration": 136,
    "start_time": "2022-04-29T22:57:40.834Z"
   },
   {
    "duration": 5,
    "start_time": "2022-04-29T22:57:40.971Z"
   },
   {
    "duration": 7,
    "start_time": "2022-04-29T22:57:40.977Z"
   },
   {
    "duration": 9,
    "start_time": "2022-04-29T22:57:40.985Z"
   },
   {
    "duration": 6,
    "start_time": "2022-04-29T22:57:40.996Z"
   },
   {
    "duration": 24,
    "start_time": "2022-04-29T22:57:41.003Z"
   },
   {
    "duration": 7,
    "start_time": "2022-04-29T22:57:41.028Z"
   },
   {
    "duration": 7,
    "start_time": "2022-04-29T22:57:41.036Z"
   },
   {
    "duration": 26,
    "start_time": "2022-04-29T22:57:41.044Z"
   },
   {
    "duration": 4,
    "start_time": "2022-04-29T22:57:41.072Z"
   },
   {
    "duration": 9,
    "start_time": "2022-04-29T22:57:41.077Z"
   },
   {
    "duration": 35,
    "start_time": "2022-04-29T22:57:41.088Z"
   },
   {
    "duration": 6,
    "start_time": "2022-04-29T22:57:41.124Z"
   },
   {
    "duration": 141,
    "start_time": "2022-04-29T22:57:41.131Z"
   },
   {
    "duration": 177,
    "start_time": "2022-04-29T22:57:41.274Z"
   },
   {
    "duration": 3,
    "start_time": "2022-04-29T22:57:41.452Z"
   },
   {
    "duration": 29,
    "start_time": "2022-04-29T22:57:41.456Z"
   },
   {
    "duration": 136,
    "start_time": "2022-04-29T22:57:41.486Z"
   },
   {
    "duration": 229,
    "start_time": "2022-04-29T22:57:41.624Z"
   },
   {
    "duration": 2,
    "start_time": "2022-04-29T22:57:41.855Z"
   },
   {
    "duration": 21,
    "start_time": "2022-04-29T22:57:41.859Z"
   },
   {
    "duration": 138,
    "start_time": "2022-04-29T22:57:41.881Z"
   },
   {
    "duration": 156,
    "start_time": "2022-04-29T22:57:42.020Z"
   },
   {
    "duration": 3,
    "start_time": "2022-04-29T22:57:42.177Z"
   },
   {
    "duration": 16,
    "start_time": "2022-04-29T22:57:42.181Z"
   },
   {
    "duration": 168,
    "start_time": "2022-04-29T22:57:42.198Z"
   },
   {
    "duration": 7,
    "start_time": "2022-04-29T22:57:42.367Z"
   },
   {
    "duration": 19,
    "start_time": "2022-04-29T22:57:42.376Z"
   },
   {
    "duration": 8,
    "start_time": "2022-04-29T22:57:42.397Z"
   },
   {
    "duration": 26,
    "start_time": "2022-04-29T22:57:42.406Z"
   },
   {
    "duration": 21,
    "start_time": "2022-04-29T22:57:42.433Z"
   },
   {
    "duration": 4,
    "start_time": "2022-04-29T22:58:05.996Z"
   },
   {
    "duration": 4,
    "start_time": "2022-04-29T22:58:07.227Z"
   },
   {
    "duration": 3,
    "start_time": "2022-04-29T22:58:49.915Z"
   },
   {
    "duration": 2,
    "start_time": "2022-04-29T22:58:51.007Z"
   },
   {
    "duration": 5,
    "start_time": "2022-04-29T22:58:51.955Z"
   },
   {
    "duration": 3,
    "start_time": "2022-04-29T22:58:53.265Z"
   },
   {
    "duration": 4,
    "start_time": "2022-04-29T22:59:51.554Z"
   },
   {
    "duration": 3,
    "start_time": "2022-04-29T22:59:54.311Z"
   },
   {
    "duration": 4,
    "start_time": "2022-04-29T23:02:21.687Z"
   },
   {
    "duration": 3,
    "start_time": "2022-04-29T23:02:26.387Z"
   },
   {
    "duration": 2,
    "start_time": "2022-04-29T23:05:53.618Z"
   },
   {
    "duration": 4,
    "start_time": "2022-04-29T23:05:54.568Z"
   },
   {
    "duration": 3,
    "start_time": "2022-04-29T23:05:56.167Z"
   },
   {
    "duration": 9,
    "start_time": "2022-04-29T23:13:38.164Z"
   },
   {
    "duration": 4,
    "start_time": "2022-04-29T23:13:39.796Z"
   },
   {
    "duration": 7,
    "start_time": "2022-04-29T23:13:57.958Z"
   },
   {
    "duration": 3,
    "start_time": "2022-04-29T23:14:56.463Z"
   },
   {
    "duration": 9,
    "start_time": "2022-04-29T23:15:13.670Z"
   },
   {
    "duration": 3,
    "start_time": "2022-04-29T23:15:38.942Z"
   },
   {
    "duration": 3,
    "start_time": "2022-04-29T23:16:04.306Z"
   },
   {
    "duration": 4,
    "start_time": "2022-04-29T23:16:22.443Z"
   },
   {
    "duration": 3,
    "start_time": "2022-04-29T23:16:23.503Z"
   },
   {
    "duration": 2,
    "start_time": "2022-04-30T00:02:20.288Z"
   },
   {
    "duration": 37,
    "start_time": "2022-04-30T00:02:20.299Z"
   },
   {
    "duration": 3,
    "start_time": "2022-04-30T00:02:20.338Z"
   },
   {
    "duration": 394,
    "start_time": "2022-04-30T00:02:20.342Z"
   },
   {
    "duration": 4,
    "start_time": "2022-04-30T00:02:20.738Z"
   },
   {
    "duration": 228,
    "start_time": "2022-04-30T00:02:20.744Z"
   },
   {
    "duration": 229,
    "start_time": "2022-04-30T00:02:20.974Z"
   },
   {
    "duration": 19,
    "start_time": "2022-04-30T00:02:21.204Z"
   },
   {
    "duration": 15,
    "start_time": "2022-04-30T00:02:21.225Z"
   },
   {
    "duration": 13,
    "start_time": "2022-04-30T00:02:21.242Z"
   },
   {
    "duration": 95,
    "start_time": "2022-04-30T00:02:21.257Z"
   },
   {
    "duration": 6,
    "start_time": "2022-04-30T00:02:21.354Z"
   },
   {
    "duration": 5,
    "start_time": "2022-04-30T00:02:21.363Z"
   },
   {
    "duration": 7,
    "start_time": "2022-04-30T00:02:21.370Z"
   },
   {
    "duration": 13,
    "start_time": "2022-04-30T00:02:21.378Z"
   },
   {
    "duration": 12498,
    "start_time": "2022-04-30T00:02:21.392Z"
   },
   {
    "duration": 6,
    "start_time": "2022-04-30T00:02:33.892Z"
   },
   {
    "duration": 26,
    "start_time": "2022-04-30T00:02:33.900Z"
   },
   {
    "duration": 5,
    "start_time": "2022-04-30T00:02:33.928Z"
   },
   {
    "duration": 116,
    "start_time": "2022-04-30T00:02:33.934Z"
   },
   {
    "duration": 27,
    "start_time": "2022-04-30T00:02:34.052Z"
   },
   {
    "duration": 13,
    "start_time": "2022-04-30T00:02:34.081Z"
   },
   {
    "duration": 4,
    "start_time": "2022-04-30T00:02:34.096Z"
   },
   {
    "duration": 22,
    "start_time": "2022-04-30T00:02:34.123Z"
   },
   {
    "duration": 18,
    "start_time": "2022-04-30T00:02:34.147Z"
   },
   {
    "duration": 8986,
    "start_time": "2022-04-30T00:02:34.167Z"
   },
   {
    "duration": 10,
    "start_time": "2022-04-30T00:02:43.155Z"
   },
   {
    "duration": 16,
    "start_time": "2022-04-30T00:02:43.167Z"
   },
   {
    "duration": 7548,
    "start_time": "2022-04-30T00:02:43.184Z"
   },
   {
    "duration": 11,
    "start_time": "2022-04-30T00:02:50.734Z"
   },
   {
    "duration": 26,
    "start_time": "2022-04-30T00:02:50.749Z"
   },
   {
    "duration": 17,
    "start_time": "2022-04-30T00:02:50.777Z"
   },
   {
    "duration": 39,
    "start_time": "2022-04-30T00:02:50.795Z"
   },
   {
    "duration": 19,
    "start_time": "2022-04-30T00:02:50.835Z"
   },
   {
    "duration": 4,
    "start_time": "2022-04-30T00:02:50.855Z"
   },
   {
    "duration": 7,
    "start_time": "2022-04-30T00:02:50.861Z"
   },
   {
    "duration": 4,
    "start_time": "2022-04-30T00:02:50.869Z"
   },
   {
    "duration": 8,
    "start_time": "2022-04-30T00:02:50.874Z"
   },
   {
    "duration": 4,
    "start_time": "2022-04-30T00:02:50.884Z"
   },
   {
    "duration": 137,
    "start_time": "2022-04-30T00:02:50.922Z"
   },
   {
    "duration": 5,
    "start_time": "2022-04-30T00:02:51.060Z"
   },
   {
    "duration": 7,
    "start_time": "2022-04-30T00:02:51.067Z"
   },
   {
    "duration": 7,
    "start_time": "2022-04-30T00:02:51.075Z"
   },
   {
    "duration": 12,
    "start_time": "2022-04-30T00:02:51.083Z"
   },
   {
    "duration": 30,
    "start_time": "2022-04-30T00:02:51.097Z"
   },
   {
    "duration": 6,
    "start_time": "2022-04-30T00:02:51.129Z"
   },
   {
    "duration": 5,
    "start_time": "2022-04-30T00:02:51.137Z"
   },
   {
    "duration": 21,
    "start_time": "2022-04-30T00:02:51.144Z"
   },
   {
    "duration": 4,
    "start_time": "2022-04-30T00:02:51.166Z"
   },
   {
    "duration": 12,
    "start_time": "2022-04-30T00:02:51.172Z"
   },
   {
    "duration": 7,
    "start_time": "2022-04-30T00:02:51.185Z"
   },
   {
    "duration": 157,
    "start_time": "2022-04-30T00:02:51.194Z"
   },
   {
    "duration": 164,
    "start_time": "2022-04-30T00:02:51.352Z"
   },
   {
    "duration": 134,
    "start_time": "2022-04-30T00:02:51.517Z"
   },
   {
    "duration": 152,
    "start_time": "2022-04-30T00:02:51.653Z"
   },
   {
    "duration": 133,
    "start_time": "2022-04-30T00:02:51.806Z"
   },
   {
    "duration": 163,
    "start_time": "2022-04-30T00:02:51.940Z"
   },
   {
    "duration": 243,
    "start_time": "2022-04-30T00:02:52.105Z"
   },
   {
    "duration": 3,
    "start_time": "2022-04-30T00:02:52.349Z"
   },
   {
    "duration": 19,
    "start_time": "2022-04-30T00:02:52.354Z"
   },
   {
    "duration": 7,
    "start_time": "2022-04-30T00:02:52.374Z"
   },
   {
    "duration": 4,
    "start_time": "2022-04-30T00:02:52.382Z"
   },
   {
    "duration": 5,
    "start_time": "2022-04-30T00:02:52.387Z"
   },
   {
    "duration": 6,
    "start_time": "2022-04-30T00:02:52.394Z"
   },
   {
    "duration": 26,
    "start_time": "2022-04-30T00:02:52.401Z"
   },
   {
    "duration": 3,
    "start_time": "2022-04-30T00:02:52.428Z"
   },
   {
    "duration": 10,
    "start_time": "2022-04-30T00:02:52.433Z"
   },
   {
    "duration": 6,
    "start_time": "2022-04-30T00:02:52.444Z"
   },
   {
    "duration": 7,
    "start_time": "2022-04-30T00:02:52.452Z"
   },
   {
    "duration": 6,
    "start_time": "2022-04-30T00:02:52.461Z"
   },
   {
    "duration": 435,
    "start_time": "2022-05-04T16:22:52.896Z"
   },
   {
    "duration": 28,
    "start_time": "2022-05-04T16:22:53.334Z"
   },
   {
    "duration": 781,
    "start_time": "2022-05-04T16:22:53.364Z"
   },
   {
    "duration": 463,
    "start_time": "2022-05-04T16:22:54.147Z"
   },
   {
    "duration": 4,
    "start_time": "2022-05-04T16:22:54.612Z"
   },
   {
    "duration": 246,
    "start_time": "2022-05-04T16:22:54.619Z"
   },
   {
    "duration": 376,
    "start_time": "2022-05-04T16:22:54.866Z"
   },
   {
    "duration": 4,
    "start_time": "2022-05-04T16:22:55.244Z"
   },
   {
    "duration": 8,
    "start_time": "2022-05-04T16:22:55.250Z"
   },
   {
    "duration": 33,
    "start_time": "2022-05-04T16:22:55.262Z"
   },
   {
    "duration": 154,
    "start_time": "2022-05-04T16:22:55.297Z"
   },
   {
    "duration": 7,
    "start_time": "2022-05-04T16:22:55.453Z"
   },
   {
    "duration": 27,
    "start_time": "2022-05-04T16:22:55.463Z"
   },
   {
    "duration": 11,
    "start_time": "2022-05-04T16:22:55.492Z"
   },
   {
    "duration": 26,
    "start_time": "2022-05-04T16:22:55.506Z"
   },
   {
    "duration": 16739,
    "start_time": "2022-05-04T16:22:55.534Z"
   },
   {
    "duration": 17,
    "start_time": "2022-05-04T16:23:12.276Z"
   },
   {
    "duration": 13,
    "start_time": "2022-05-04T16:23:12.295Z"
   },
   {
    "duration": 4,
    "start_time": "2022-05-04T16:23:12.310Z"
   },
   {
    "duration": 160,
    "start_time": "2022-05-04T16:23:12.316Z"
   },
   {
    "duration": 36,
    "start_time": "2022-05-04T16:23:12.479Z"
   },
   {
    "duration": 16,
    "start_time": "2022-05-04T16:23:12.517Z"
   },
   {
    "duration": 22,
    "start_time": "2022-05-04T16:23:12.534Z"
   },
   {
    "duration": 47,
    "start_time": "2022-05-04T16:23:12.558Z"
   },
   {
    "duration": 28,
    "start_time": "2022-05-04T16:23:12.607Z"
   },
   {
    "duration": 12326,
    "start_time": "2022-05-04T16:23:12.637Z"
   },
   {
    "duration": 14,
    "start_time": "2022-05-04T16:23:24.965Z"
   },
   {
    "duration": 27,
    "start_time": "2022-05-04T16:23:24.999Z"
   },
   {
    "duration": 12702,
    "start_time": "2022-05-04T16:23:25.028Z"
   },
   {
    "duration": 14,
    "start_time": "2022-05-04T16:23:37.733Z"
   },
   {
    "duration": 44,
    "start_time": "2022-05-04T16:23:37.750Z"
   },
   {
    "duration": 22,
    "start_time": "2022-05-04T16:23:37.796Z"
   },
   {
    "duration": 19,
    "start_time": "2022-05-04T16:23:37.820Z"
   },
   {
    "duration": 22,
    "start_time": "2022-05-04T16:23:37.841Z"
   },
   {
    "duration": 30,
    "start_time": "2022-05-04T16:23:37.866Z"
   },
   {
    "duration": 11,
    "start_time": "2022-05-04T16:23:37.898Z"
   },
   {
    "duration": 12,
    "start_time": "2022-05-04T16:23:37.911Z"
   },
   {
    "duration": 16,
    "start_time": "2022-05-04T16:23:37.925Z"
   },
   {
    "duration": 11,
    "start_time": "2022-05-04T16:23:37.943Z"
   },
   {
    "duration": 254,
    "start_time": "2022-05-04T16:23:37.956Z"
   },
   {
    "duration": 7,
    "start_time": "2022-05-04T16:23:38.212Z"
   },
   {
    "duration": 11,
    "start_time": "2022-05-04T16:23:38.220Z"
   },
   {
    "duration": 8,
    "start_time": "2022-05-04T16:23:38.232Z"
   },
   {
    "duration": 9,
    "start_time": "2022-05-04T16:23:38.242Z"
   },
   {
    "duration": 43,
    "start_time": "2022-05-04T16:23:38.253Z"
   },
   {
    "duration": 22,
    "start_time": "2022-05-04T16:23:38.298Z"
   },
   {
    "duration": 11,
    "start_time": "2022-05-04T16:23:38.321Z"
   },
   {
    "duration": 95,
    "start_time": "2022-05-04T16:23:38.334Z"
   },
   {
    "duration": 7,
    "start_time": "2022-05-04T16:23:38.431Z"
   },
   {
    "duration": 9,
    "start_time": "2022-05-04T16:23:38.442Z"
   },
   {
    "duration": 6,
    "start_time": "2022-05-04T16:23:38.453Z"
   },
   {
    "duration": 266,
    "start_time": "2022-05-04T16:23:38.461Z"
   },
   {
    "duration": 195,
    "start_time": "2022-05-04T16:23:38.730Z"
   },
   {
    "duration": 149,
    "start_time": "2022-05-04T16:23:38.927Z"
   },
   {
    "duration": 182,
    "start_time": "2022-05-04T16:23:39.078Z"
   },
   {
    "duration": 153,
    "start_time": "2022-05-04T16:23:39.261Z"
   },
   {
    "duration": 189,
    "start_time": "2022-05-04T16:23:39.417Z"
   },
   {
    "duration": 220,
    "start_time": "2022-05-04T16:23:39.608Z"
   },
   {
    "duration": 5,
    "start_time": "2022-05-04T16:23:39.831Z"
   },
   {
    "duration": 20,
    "start_time": "2022-05-04T16:23:39.839Z"
   },
   {
    "duration": 10,
    "start_time": "2022-05-04T16:23:39.861Z"
   },
   {
    "duration": 22,
    "start_time": "2022-05-04T16:23:39.873Z"
   },
   {
    "duration": 16,
    "start_time": "2022-05-04T16:23:39.897Z"
   },
   {
    "duration": 10,
    "start_time": "2022-05-04T16:23:39.915Z"
   },
   {
    "duration": 19,
    "start_time": "2022-05-04T16:23:39.927Z"
   },
   {
    "duration": 13,
    "start_time": "2022-05-04T16:23:39.948Z"
   },
   {
    "duration": 11,
    "start_time": "2022-05-04T16:23:39.963Z"
   },
   {
    "duration": 17,
    "start_time": "2022-05-04T16:23:39.976Z"
   },
   {
    "duration": 7,
    "start_time": "2022-05-04T16:23:39.995Z"
   },
   {
    "duration": 13,
    "start_time": "2022-05-04T16:23:40.004Z"
   },
   {
    "duration": 35,
    "start_time": "2022-05-04T16:27:32.553Z"
   },
   {
    "duration": 19,
    "start_time": "2022-05-04T16:27:43.663Z"
   },
   {
    "duration": 21,
    "start_time": "2022-05-04T16:28:01.166Z"
   },
   {
    "duration": 37,
    "start_time": "2022-05-04T16:29:07.092Z"
   },
   {
    "duration": 78,
    "start_time": "2022-05-04T18:17:08.609Z"
   },
   {
    "duration": 660,
    "start_time": "2022-05-04T18:17:27.656Z"
   },
   {
    "duration": 56,
    "start_time": "2022-05-04T18:17:28.319Z"
   },
   {
    "duration": 1597,
    "start_time": "2022-05-04T18:17:28.379Z"
   },
   {
    "duration": 683,
    "start_time": "2022-05-04T18:17:29.978Z"
   },
   {
    "duration": 6,
    "start_time": "2022-05-04T18:17:30.665Z"
   },
   {
    "duration": 349,
    "start_time": "2022-05-04T18:17:30.674Z"
   },
   {
    "duration": 371,
    "start_time": "2022-05-04T18:17:31.025Z"
   },
   {
    "duration": 4,
    "start_time": "2022-05-04T18:17:31.398Z"
   },
   {
    "duration": 33,
    "start_time": "2022-05-04T18:17:31.404Z"
   },
   {
    "duration": 38,
    "start_time": "2022-05-04T18:17:31.440Z"
   },
   {
    "duration": 228,
    "start_time": "2022-05-04T18:17:31.480Z"
   },
   {
    "duration": 9,
    "start_time": "2022-05-04T18:17:31.711Z"
   },
   {
    "duration": 34,
    "start_time": "2022-05-04T18:17:31.722Z"
   },
   {
    "duration": 34,
    "start_time": "2022-05-04T18:17:31.760Z"
   },
   {
    "duration": 35,
    "start_time": "2022-05-04T18:17:31.797Z"
   },
   {
    "duration": 25973,
    "start_time": "2022-05-04T18:17:31.835Z"
   },
   {
    "duration": 11,
    "start_time": "2022-05-04T18:17:57.811Z"
   },
   {
    "duration": 36,
    "start_time": "2022-05-04T18:17:57.824Z"
   },
   {
    "duration": 5,
    "start_time": "2022-05-04T18:17:57.862Z"
   },
   {
    "duration": 201,
    "start_time": "2022-05-04T18:17:57.869Z"
   },
   {
    "duration": 34,
    "start_time": "2022-05-04T18:17:58.072Z"
   },
   {
    "duration": 16,
    "start_time": "2022-05-04T18:17:58.108Z"
   },
   {
    "duration": 30,
    "start_time": "2022-05-04T18:17:58.126Z"
   },
   {
    "duration": 33,
    "start_time": "2022-05-04T18:17:58.158Z"
   },
   {
    "duration": 61,
    "start_time": "2022-05-04T18:17:58.194Z"
   },
   {
    "duration": 19377,
    "start_time": "2022-05-04T18:17:58.257Z"
   },
   {
    "duration": 30,
    "start_time": "2022-05-04T18:18:17.637Z"
   },
   {
    "duration": 40,
    "start_time": "2022-05-04T18:18:17.670Z"
   },
   {
    "duration": 18016,
    "start_time": "2022-05-04T18:18:17.713Z"
   },
   {
    "duration": 33,
    "start_time": "2022-05-04T18:18:35.732Z"
   },
   {
    "duration": 55,
    "start_time": "2022-05-04T18:18:35.768Z"
   },
   {
    "duration": 47,
    "start_time": "2022-05-04T18:18:35.826Z"
   },
   {
    "duration": 24,
    "start_time": "2022-05-04T18:18:35.875Z"
   },
   {
    "duration": 5,
    "start_time": "2022-05-04T18:18:35.901Z"
   },
   {
    "duration": 67,
    "start_time": "2022-05-04T18:18:35.908Z"
   },
   {
    "duration": 7,
    "start_time": "2022-05-04T18:18:35.977Z"
   },
   {
    "duration": 21,
    "start_time": "2022-05-04T18:18:35.986Z"
   },
   {
    "duration": 11,
    "start_time": "2022-05-04T18:18:36.009Z"
   },
   {
    "duration": 39,
    "start_time": "2022-05-04T18:18:36.022Z"
   },
   {
    "duration": 7,
    "start_time": "2022-05-04T18:18:36.063Z"
   },
   {
    "duration": 5333,
    "start_time": "2022-05-04T18:18:36.079Z"
   },
   {
    "duration": 0,
    "start_time": "2022-05-04T18:18:41.415Z"
   },
   {
    "duration": 0,
    "start_time": "2022-05-04T18:18:41.417Z"
   },
   {
    "duration": 0,
    "start_time": "2022-05-04T18:18:41.419Z"
   },
   {
    "duration": 0,
    "start_time": "2022-05-04T18:18:41.420Z"
   },
   {
    "duration": 0,
    "start_time": "2022-05-04T18:18:41.423Z"
   },
   {
    "duration": 0,
    "start_time": "2022-05-04T18:18:41.425Z"
   },
   {
    "duration": 0,
    "start_time": "2022-05-04T18:18:41.427Z"
   },
   {
    "duration": 0,
    "start_time": "2022-05-04T18:18:41.429Z"
   },
   {
    "duration": 0,
    "start_time": "2022-05-04T18:18:41.432Z"
   },
   {
    "duration": 0,
    "start_time": "2022-05-04T18:18:41.434Z"
   },
   {
    "duration": 0,
    "start_time": "2022-05-04T18:18:41.436Z"
   },
   {
    "duration": 0,
    "start_time": "2022-05-04T18:18:41.439Z"
   },
   {
    "duration": 0,
    "start_time": "2022-05-04T18:18:41.441Z"
   },
   {
    "duration": 0,
    "start_time": "2022-05-04T18:18:41.444Z"
   },
   {
    "duration": 0,
    "start_time": "2022-05-04T18:18:41.446Z"
   },
   {
    "duration": 0,
    "start_time": "2022-05-04T18:18:41.449Z"
   },
   {
    "duration": 0,
    "start_time": "2022-05-04T18:18:41.451Z"
   },
   {
    "duration": 0,
    "start_time": "2022-05-04T18:18:41.454Z"
   },
   {
    "duration": 0,
    "start_time": "2022-05-04T18:18:41.455Z"
   },
   {
    "duration": 0,
    "start_time": "2022-05-04T18:18:41.458Z"
   },
   {
    "duration": 0,
    "start_time": "2022-05-04T18:18:41.459Z"
   },
   {
    "duration": 1,
    "start_time": "2022-05-04T18:18:41.461Z"
   },
   {
    "duration": 0,
    "start_time": "2022-05-04T18:18:41.464Z"
   },
   {
    "duration": 0,
    "start_time": "2022-05-04T18:18:41.467Z"
   },
   {
    "duration": 0,
    "start_time": "2022-05-04T18:18:41.468Z"
   },
   {
    "duration": 0,
    "start_time": "2022-05-04T18:18:41.471Z"
   },
   {
    "duration": 0,
    "start_time": "2022-05-04T18:18:41.473Z"
   },
   {
    "duration": 0,
    "start_time": "2022-05-04T18:18:41.474Z"
   },
   {
    "duration": 0,
    "start_time": "2022-05-04T18:18:41.476Z"
   },
   {
    "duration": 0,
    "start_time": "2022-05-04T18:18:41.478Z"
   },
   {
    "duration": 33,
    "start_time": "2022-05-04T18:20:28.428Z"
   },
   {
    "duration": 91,
    "start_time": "2022-05-04T18:20:30.581Z"
   },
   {
    "duration": 46,
    "start_time": "2022-05-04T18:20:38.275Z"
   },
   {
    "duration": 4,
    "start_time": "2022-05-04T18:20:40.166Z"
   },
   {
    "duration": 6,
    "start_time": "2022-05-04T18:20:41.630Z"
   },
   {
    "duration": 14,
    "start_time": "2022-05-04T18:20:45.963Z"
   },
   {
    "duration": 4,
    "start_time": "2022-05-04T18:20:51.421Z"
   },
   {
    "duration": 18,
    "start_time": "2022-05-04T18:20:51.439Z"
   },
   {
    "duration": 4,
    "start_time": "2022-05-04T18:20:51.470Z"
   },
   {
    "duration": 464,
    "start_time": "2022-05-04T18:20:51.494Z"
   },
   {
    "duration": 9,
    "start_time": "2022-05-04T18:20:51.961Z"
   },
   {
    "duration": 514,
    "start_time": "2022-05-04T18:20:51.972Z"
   },
   {
    "duration": 469,
    "start_time": "2022-05-04T18:20:52.489Z"
   },
   {
    "duration": 4,
    "start_time": "2022-05-04T18:20:52.961Z"
   },
   {
    "duration": 32,
    "start_time": "2022-05-04T18:20:52.967Z"
   },
   {
    "duration": 22,
    "start_time": "2022-05-04T18:20:53.001Z"
   },
   {
    "duration": 142,
    "start_time": "2022-05-04T18:20:53.025Z"
   },
   {
    "duration": 7,
    "start_time": "2022-05-04T18:20:53.169Z"
   },
   {
    "duration": 7,
    "start_time": "2022-05-04T18:20:53.182Z"
   },
   {
    "duration": 17,
    "start_time": "2022-05-04T18:20:53.191Z"
   },
   {
    "duration": 48,
    "start_time": "2022-05-04T18:20:53.211Z"
   },
   {
    "duration": 40250,
    "start_time": "2022-05-04T18:20:53.262Z"
   },
   {
    "duration": 9,
    "start_time": "2022-05-04T18:21:33.515Z"
   },
   {
    "duration": 39,
    "start_time": "2022-05-04T18:21:33.526Z"
   },
   {
    "duration": 6,
    "start_time": "2022-05-04T18:21:33.567Z"
   },
   {
    "duration": 180,
    "start_time": "2022-05-04T18:21:33.575Z"
   },
   {
    "duration": 34,
    "start_time": "2022-05-04T18:21:33.757Z"
   },
   {
    "duration": 17,
    "start_time": "2022-05-04T18:21:33.793Z"
   },
   {
    "duration": 40,
    "start_time": "2022-05-04T18:21:33.812Z"
   },
   {
    "duration": 32,
    "start_time": "2022-05-04T18:21:33.854Z"
   },
   {
    "duration": 32,
    "start_time": "2022-05-04T18:21:33.888Z"
   },
   {
    "duration": 23060,
    "start_time": "2022-05-04T18:21:33.922Z"
   },
   {
    "duration": 19,
    "start_time": "2022-05-04T18:21:56.985Z"
   },
   {
    "duration": 51,
    "start_time": "2022-05-04T18:21:57.006Z"
   },
   {
    "duration": 18122,
    "start_time": "2022-05-04T18:21:57.060Z"
   },
   {
    "duration": 16,
    "start_time": "2022-05-04T18:22:15.184Z"
   },
   {
    "duration": 62,
    "start_time": "2022-05-04T18:22:15.206Z"
   },
   {
    "duration": 28,
    "start_time": "2022-05-04T18:22:15.271Z"
   },
   {
    "duration": 52,
    "start_time": "2022-05-04T18:22:15.302Z"
   },
   {
    "duration": 43,
    "start_time": "2022-05-04T18:22:15.356Z"
   },
   {
    "duration": 3,
    "start_time": "2022-05-04T18:22:15.402Z"
   },
   {
    "duration": 12,
    "start_time": "2022-05-04T18:22:15.407Z"
   },
   {
    "duration": 41,
    "start_time": "2022-05-04T18:22:15.421Z"
   },
   {
    "duration": 9,
    "start_time": "2022-05-04T18:22:15.465Z"
   },
   {
    "duration": 15,
    "start_time": "2022-05-04T18:22:15.476Z"
   },
   {
    "duration": 8,
    "start_time": "2022-05-04T18:22:15.493Z"
   },
   {
    "duration": 316,
    "start_time": "2022-05-04T18:22:15.503Z"
   },
   {
    "duration": 9,
    "start_time": "2022-05-04T18:22:15.822Z"
   },
   {
    "duration": 24,
    "start_time": "2022-05-04T18:22:15.833Z"
   },
   {
    "duration": 25,
    "start_time": "2022-05-04T18:22:15.859Z"
   },
   {
    "duration": 11,
    "start_time": "2022-05-04T18:22:15.887Z"
   },
   {
    "duration": 12,
    "start_time": "2022-05-04T18:22:15.901Z"
   },
   {
    "duration": 40,
    "start_time": "2022-05-04T18:22:15.916Z"
   },
   {
    "duration": 31,
    "start_time": "2022-05-04T18:22:15.959Z"
   },
   {
    "duration": 139,
    "start_time": "2022-05-04T18:22:15.992Z"
   },
   {
    "duration": 6,
    "start_time": "2022-05-04T18:22:16.134Z"
   },
   {
    "duration": 38,
    "start_time": "2022-05-04T18:22:16.143Z"
   },
   {
    "duration": 11,
    "start_time": "2022-05-04T18:22:16.183Z"
   },
   {
    "duration": 295,
    "start_time": "2022-05-04T18:22:16.196Z"
   },
   {
    "duration": 439,
    "start_time": "2022-05-04T18:22:16.494Z"
   },
   {
    "duration": 318,
    "start_time": "2022-05-04T18:22:16.937Z"
   },
   {
    "duration": 326,
    "start_time": "2022-05-04T18:22:17.258Z"
   },
   {
    "duration": 292,
    "start_time": "2022-05-04T18:22:17.587Z"
   },
   {
    "duration": 330,
    "start_time": "2022-05-04T18:22:17.881Z"
   },
   {
    "duration": 331,
    "start_time": "2022-05-04T18:22:18.213Z"
   },
   {
    "duration": 9,
    "start_time": "2022-05-04T18:22:18.552Z"
   },
   {
    "duration": 26,
    "start_time": "2022-05-04T18:22:18.565Z"
   },
   {
    "duration": 12,
    "start_time": "2022-05-04T18:22:18.594Z"
   },
   {
    "duration": 8,
    "start_time": "2022-05-04T18:22:18.608Z"
   },
   {
    "duration": 36,
    "start_time": "2022-05-04T18:22:18.619Z"
   },
   {
    "duration": 24,
    "start_time": "2022-05-04T18:22:18.659Z"
   },
   {
    "duration": 15,
    "start_time": "2022-05-04T18:22:18.686Z"
   },
   {
    "duration": 7,
    "start_time": "2022-05-04T18:22:18.703Z"
   },
   {
    "duration": 17,
    "start_time": "2022-05-04T18:22:18.713Z"
   },
   {
    "duration": 20,
    "start_time": "2022-05-04T18:22:18.732Z"
   },
   {
    "duration": 9,
    "start_time": "2022-05-04T18:22:18.755Z"
   },
   {
    "duration": 16,
    "start_time": "2022-05-04T18:22:18.767Z"
   },
   {
    "duration": 24,
    "start_time": "2022-05-04T18:24:59.582Z"
   },
   {
    "duration": 4,
    "start_time": "2022-05-04T18:25:02.361Z"
   },
   {
    "duration": 3,
    "start_time": "2022-05-04T18:25:04.025Z"
   },
   {
    "duration": 4,
    "start_time": "2022-05-04T18:25:15.047Z"
   },
   {
    "duration": 98,
    "start_time": "2022-05-04T18:25:16.319Z"
   },
   {
    "duration": 38,
    "start_time": "2022-05-04T18:25:31.361Z"
   },
   {
    "duration": 8,
    "start_time": "2022-05-04T18:25:33.030Z"
   },
   {
    "duration": 14,
    "start_time": "2022-05-04T18:25:36.073Z"
   },
   {
    "duration": 40,
    "start_time": "2022-05-04T18:26:44.465Z"
   },
   {
    "duration": 8,
    "start_time": "2022-05-04T18:26:45.669Z"
   },
   {
    "duration": 14,
    "start_time": "2022-05-04T18:26:48.286Z"
   },
   {
    "duration": 33,
    "start_time": "2022-05-04T18:27:32.626Z"
   },
   {
    "duration": 6,
    "start_time": "2022-05-04T18:27:34.461Z"
   },
   {
    "duration": 9,
    "start_time": "2022-05-04T18:27:36.618Z"
   },
   {
    "duration": 21,
    "start_time": "2022-05-04T18:28:09.384Z"
   },
   {
    "duration": 6,
    "start_time": "2022-05-04T18:28:10.515Z"
   },
   {
    "duration": 13,
    "start_time": "2022-05-04T18:28:12.220Z"
   },
   {
    "duration": 4,
    "start_time": "2022-05-04T18:28:18.018Z"
   },
   {
    "duration": 25,
    "start_time": "2022-05-04T18:28:18.025Z"
   },
   {
    "duration": 5,
    "start_time": "2022-05-04T18:28:18.054Z"
   },
   {
    "duration": 726,
    "start_time": "2022-05-04T18:28:18.070Z"
   },
   {
    "duration": 8,
    "start_time": "2022-05-04T18:28:18.799Z"
   },
   {
    "duration": 367,
    "start_time": "2022-05-04T18:28:18.810Z"
   },
   {
    "duration": 327,
    "start_time": "2022-05-04T18:28:19.180Z"
   },
   {
    "duration": 4,
    "start_time": "2022-05-04T18:28:19.510Z"
   },
   {
    "duration": 16,
    "start_time": "2022-05-04T18:28:19.517Z"
   },
   {
    "duration": 29,
    "start_time": "2022-05-04T18:28:19.535Z"
   },
   {
    "duration": 171,
    "start_time": "2022-05-04T18:28:19.565Z"
   },
   {
    "duration": 21,
    "start_time": "2022-05-04T18:28:19.738Z"
   },
   {
    "duration": 20,
    "start_time": "2022-05-04T18:28:19.763Z"
   },
   {
    "duration": 13,
    "start_time": "2022-05-04T18:28:19.785Z"
   },
   {
    "duration": 17,
    "start_time": "2022-05-04T18:28:19.801Z"
   },
   {
    "duration": 33544,
    "start_time": "2022-05-04T18:28:19.821Z"
   },
   {
    "duration": 9,
    "start_time": "2022-05-04T18:28:53.367Z"
   },
   {
    "duration": 37,
    "start_time": "2022-05-04T18:28:53.378Z"
   },
   {
    "duration": 37,
    "start_time": "2022-05-04T18:28:53.417Z"
   },
   {
    "duration": 196,
    "start_time": "2022-05-04T18:28:53.456Z"
   },
   {
    "duration": 37,
    "start_time": "2022-05-04T18:28:53.655Z"
   },
   {
    "duration": 19,
    "start_time": "2022-05-04T18:28:53.695Z"
   },
   {
    "duration": 38,
    "start_time": "2022-05-04T18:28:53.716Z"
   },
   {
    "duration": 58,
    "start_time": "2022-05-04T18:28:53.756Z"
   },
   {
    "duration": 57,
    "start_time": "2022-05-04T18:28:53.816Z"
   },
   {
    "duration": 20895,
    "start_time": "2022-05-04T18:28:53.876Z"
   },
   {
    "duration": 17,
    "start_time": "2022-05-04T18:29:14.773Z"
   },
   {
    "duration": 24,
    "start_time": "2022-05-04T18:29:14.792Z"
   },
   {
    "duration": 20428,
    "start_time": "2022-05-04T18:29:14.819Z"
   },
   {
    "duration": 18,
    "start_time": "2022-05-04T18:29:35.251Z"
   },
   {
    "duration": 40,
    "start_time": "2022-05-04T18:29:35.275Z"
   },
   {
    "duration": 66,
    "start_time": "2022-05-04T18:29:35.317Z"
   },
   {
    "duration": 23,
    "start_time": "2022-05-04T18:29:35.385Z"
   },
   {
    "duration": 3,
    "start_time": "2022-05-04T18:29:35.410Z"
   },
   {
    "duration": 22,
    "start_time": "2022-05-04T18:29:35.415Z"
   },
   {
    "duration": 25,
    "start_time": "2022-05-04T18:29:35.439Z"
   },
   {
    "duration": 12,
    "start_time": "2022-05-04T18:29:35.466Z"
   },
   {
    "duration": 21,
    "start_time": "2022-05-04T18:30:07.426Z"
   },
   {
    "duration": 6,
    "start_time": "2022-05-04T18:30:10.806Z"
   },
   {
    "duration": 8,
    "start_time": "2022-05-04T18:30:13.980Z"
   },
   {
    "duration": 4,
    "start_time": "2022-05-04T18:30:21.087Z"
   },
   {
    "duration": 23,
    "start_time": "2022-05-04T18:30:21.098Z"
   },
   {
    "duration": 4,
    "start_time": "2022-05-04T18:30:21.127Z"
   },
   {
    "duration": 490,
    "start_time": "2022-05-04T18:30:21.142Z"
   },
   {
    "duration": 7,
    "start_time": "2022-05-04T18:30:21.634Z"
   },
   {
    "duration": 442,
    "start_time": "2022-05-04T18:30:21.643Z"
   },
   {
    "duration": 389,
    "start_time": "2022-05-04T18:30:22.088Z"
   },
   {
    "duration": 4,
    "start_time": "2022-05-04T18:30:22.479Z"
   },
   {
    "duration": 7,
    "start_time": "2022-05-04T18:30:22.485Z"
   },
   {
    "duration": 17,
    "start_time": "2022-05-04T18:30:22.495Z"
   },
   {
    "duration": 241,
    "start_time": "2022-05-04T18:30:22.513Z"
   },
   {
    "duration": 8,
    "start_time": "2022-05-04T18:30:22.757Z"
   },
   {
    "duration": 16,
    "start_time": "2022-05-04T18:30:22.770Z"
   },
   {
    "duration": 17,
    "start_time": "2022-05-04T18:30:22.787Z"
   },
   {
    "duration": 17,
    "start_time": "2022-05-04T18:30:22.807Z"
   },
   {
    "duration": 28093,
    "start_time": "2022-05-04T18:30:22.827Z"
   },
   {
    "duration": 8,
    "start_time": "2022-05-04T18:30:50.922Z"
   },
   {
    "duration": 33,
    "start_time": "2022-05-04T18:30:50.933Z"
   },
   {
    "duration": 13,
    "start_time": "2022-05-04T18:30:50.969Z"
   },
   {
    "duration": 202,
    "start_time": "2022-05-04T18:30:50.984Z"
   },
   {
    "duration": 37,
    "start_time": "2022-05-04T18:30:51.188Z"
   },
   {
    "duration": 42,
    "start_time": "2022-05-04T18:30:51.227Z"
   },
   {
    "duration": 8,
    "start_time": "2022-05-04T18:30:51.273Z"
   },
   {
    "duration": 35,
    "start_time": "2022-05-04T18:30:51.283Z"
   },
   {
    "duration": 66,
    "start_time": "2022-05-04T18:30:51.321Z"
   },
   {
    "duration": 25490,
    "start_time": "2022-05-04T18:30:51.389Z"
   },
   {
    "duration": 22,
    "start_time": "2022-05-04T18:31:16.882Z"
   },
   {
    "duration": 64,
    "start_time": "2022-05-04T18:31:16.907Z"
   },
   {
    "duration": 18530,
    "start_time": "2022-05-04T18:31:16.974Z"
   },
   {
    "duration": 17,
    "start_time": "2022-05-04T18:31:35.506Z"
   },
   {
    "duration": 67,
    "start_time": "2022-05-04T18:31:35.528Z"
   },
   {
    "duration": 63,
    "start_time": "2022-05-04T18:31:35.599Z"
   },
   {
    "duration": 26,
    "start_time": "2022-05-04T18:31:35.664Z"
   },
   {
    "duration": 5,
    "start_time": "2022-05-04T18:31:35.692Z"
   },
   {
    "duration": 33,
    "start_time": "2022-05-04T18:31:35.700Z"
   },
   {
    "duration": 39,
    "start_time": "2022-05-04T18:31:35.736Z"
   },
   {
    "duration": 38,
    "start_time": "2022-05-04T18:31:35.777Z"
   },
   {
    "duration": 37,
    "start_time": "2022-05-04T18:31:53.750Z"
   },
   {
    "duration": 8,
    "start_time": "2022-05-04T18:31:54.956Z"
   },
   {
    "duration": 14,
    "start_time": "2022-05-04T18:31:56.944Z"
   },
   {
    "duration": 3,
    "start_time": "2022-05-04T18:32:06.244Z"
   },
   {
    "duration": 48,
    "start_time": "2022-05-04T18:32:06.253Z"
   },
   {
    "duration": 4,
    "start_time": "2022-05-04T18:32:06.304Z"
   },
   {
    "duration": 702,
    "start_time": "2022-05-04T18:32:06.310Z"
   },
   {
    "duration": 9,
    "start_time": "2022-05-04T18:32:07.015Z"
   },
   {
    "duration": 495,
    "start_time": "2022-05-04T18:32:07.026Z"
   },
   {
    "duration": 427,
    "start_time": "2022-05-04T18:32:07.524Z"
   },
   {
    "duration": 6,
    "start_time": "2022-05-04T18:32:07.954Z"
   },
   {
    "duration": 25,
    "start_time": "2022-05-04T18:32:07.964Z"
   },
   {
    "duration": 24,
    "start_time": "2022-05-04T18:32:07.991Z"
   },
   {
    "duration": 277,
    "start_time": "2022-05-04T18:32:08.018Z"
   },
   {
    "duration": 11,
    "start_time": "2022-05-04T18:32:08.299Z"
   },
   {
    "duration": 10,
    "start_time": "2022-05-04T18:32:08.313Z"
   },
   {
    "duration": 33,
    "start_time": "2022-05-04T18:32:08.326Z"
   },
   {
    "duration": 40,
    "start_time": "2022-05-04T18:32:08.361Z"
   },
   {
    "duration": 30453,
    "start_time": "2022-05-04T18:32:08.405Z"
   },
   {
    "duration": 10,
    "start_time": "2022-05-04T18:32:38.860Z"
   },
   {
    "duration": 35,
    "start_time": "2022-05-04T18:32:38.873Z"
   },
   {
    "duration": 7,
    "start_time": "2022-05-04T18:32:38.910Z"
   },
   {
    "duration": 169,
    "start_time": "2022-05-04T18:32:38.920Z"
   },
   {
    "duration": 33,
    "start_time": "2022-05-04T18:32:39.094Z"
   },
   {
    "duration": 34,
    "start_time": "2022-05-04T18:32:39.130Z"
   },
   {
    "duration": 5,
    "start_time": "2022-05-04T18:32:39.166Z"
   },
   {
    "duration": 40,
    "start_time": "2022-05-04T18:32:39.173Z"
   },
   {
    "duration": 65,
    "start_time": "2022-05-04T18:32:39.215Z"
   },
   {
    "duration": 25740,
    "start_time": "2022-05-04T18:32:39.283Z"
   },
   {
    "duration": 31,
    "start_time": "2022-05-04T18:33:05.026Z"
   },
   {
    "duration": 28,
    "start_time": "2022-05-04T18:33:05.060Z"
   },
   {
    "duration": 16904,
    "start_time": "2022-05-04T18:33:05.091Z"
   },
   {
    "duration": 17,
    "start_time": "2022-05-04T18:33:21.997Z"
   },
   {
    "duration": 70,
    "start_time": "2022-05-04T18:33:22.017Z"
   },
   {
    "duration": 27,
    "start_time": "2022-05-04T18:33:22.089Z"
   },
   {
    "duration": 47,
    "start_time": "2022-05-04T18:33:22.119Z"
   },
   {
    "duration": 3,
    "start_time": "2022-05-04T18:33:22.169Z"
   },
   {
    "duration": 38,
    "start_time": "2022-05-04T18:33:22.174Z"
   },
   {
    "duration": 8,
    "start_time": "2022-05-04T18:33:22.214Z"
   },
   {
    "duration": 40,
    "start_time": "2022-05-04T18:33:22.224Z"
   },
   {
    "duration": 13,
    "start_time": "2022-05-04T18:33:30.429Z"
   },
   {
    "duration": 10,
    "start_time": "2022-05-04T18:33:38.406Z"
   },
   {
    "duration": 16,
    "start_time": "2022-05-04T18:33:39.491Z"
   },
   {
    "duration": 74,
    "start_time": "2022-05-04T18:33:56.781Z"
   },
   {
    "duration": 4,
    "start_time": "2022-05-04T18:34:06.242Z"
   },
   {
    "duration": 29,
    "start_time": "2022-05-04T18:34:06.257Z"
   },
   {
    "duration": 4,
    "start_time": "2022-05-04T18:34:06.292Z"
   },
   {
    "duration": 694,
    "start_time": "2022-05-04T18:34:06.306Z"
   },
   {
    "duration": 9,
    "start_time": "2022-05-04T18:34:07.004Z"
   },
   {
    "duration": 469,
    "start_time": "2022-05-04T18:34:07.015Z"
   },
   {
    "duration": 445,
    "start_time": "2022-05-04T18:34:07.488Z"
   },
   {
    "duration": 16,
    "start_time": "2022-05-04T18:34:07.936Z"
   },
   {
    "duration": 7,
    "start_time": "2022-05-04T18:34:07.954Z"
   },
   {
    "duration": 26,
    "start_time": "2022-05-04T18:34:07.964Z"
   },
   {
    "duration": 285,
    "start_time": "2022-05-04T18:34:07.993Z"
   },
   {
    "duration": 10,
    "start_time": "2022-05-04T18:34:08.281Z"
   },
   {
    "duration": 9,
    "start_time": "2022-05-04T18:34:08.297Z"
   },
   {
    "duration": 11,
    "start_time": "2022-05-04T18:34:08.309Z"
   },
   {
    "duration": 45,
    "start_time": "2022-05-04T18:34:08.322Z"
   },
   {
    "duration": 28095,
    "start_time": "2022-05-04T18:34:08.370Z"
   },
   {
    "duration": 11,
    "start_time": "2022-05-04T18:34:36.468Z"
   },
   {
    "duration": 20,
    "start_time": "2022-05-04T18:34:36.481Z"
   },
   {
    "duration": 5,
    "start_time": "2022-05-04T18:34:36.504Z"
   },
   {
    "duration": 189,
    "start_time": "2022-05-04T18:34:36.511Z"
   },
   {
    "duration": 50,
    "start_time": "2022-05-04T18:34:36.703Z"
   },
   {
    "duration": 17,
    "start_time": "2022-05-04T18:34:36.755Z"
   },
   {
    "duration": 5,
    "start_time": "2022-05-04T18:34:36.774Z"
   },
   {
    "duration": 42,
    "start_time": "2022-05-04T18:34:36.782Z"
   },
   {
    "duration": 57,
    "start_time": "2022-05-04T18:34:36.851Z"
   },
   {
    "duration": 30419,
    "start_time": "2022-05-04T18:34:36.911Z"
   },
   {
    "duration": 32,
    "start_time": "2022-05-04T18:35:07.333Z"
   },
   {
    "duration": 26,
    "start_time": "2022-05-04T18:35:07.367Z"
   },
   {
    "duration": 16880,
    "start_time": "2022-05-04T18:35:07.396Z"
   },
   {
    "duration": 15,
    "start_time": "2022-05-04T18:35:24.279Z"
   },
   {
    "duration": 67,
    "start_time": "2022-05-04T18:35:24.300Z"
   },
   {
    "duration": 26,
    "start_time": "2022-05-04T18:35:24.370Z"
   },
   {
    "duration": 23,
    "start_time": "2022-05-04T18:35:24.398Z"
   },
   {
    "duration": 29,
    "start_time": "2022-05-04T18:35:24.423Z"
   },
   {
    "duration": 49,
    "start_time": "2022-05-04T18:35:24.454Z"
   },
   {
    "duration": 31,
    "start_time": "2022-05-04T18:35:55.250Z"
   },
   {
    "duration": 32,
    "start_time": "2022-05-04T18:36:07.209Z"
   },
   {
    "duration": 8,
    "start_time": "2022-05-04T18:36:08.256Z"
   },
   {
    "duration": 49,
    "start_time": "2022-05-04T18:36:28.868Z"
   },
   {
    "duration": 4,
    "start_time": "2022-05-04T18:36:49.609Z"
   },
   {
    "duration": 30,
    "start_time": "2022-05-04T18:36:49.621Z"
   },
   {
    "duration": 5,
    "start_time": "2022-05-04T18:36:49.660Z"
   },
   {
    "duration": 709,
    "start_time": "2022-05-04T18:36:49.668Z"
   },
   {
    "duration": 9,
    "start_time": "2022-05-04T18:36:50.380Z"
   },
   {
    "duration": 402,
    "start_time": "2022-05-04T18:36:50.392Z"
   },
   {
    "duration": 338,
    "start_time": "2022-05-04T18:36:50.798Z"
   },
   {
    "duration": 15,
    "start_time": "2022-05-04T18:36:51.138Z"
   },
   {
    "duration": 16,
    "start_time": "2022-05-04T18:36:51.155Z"
   },
   {
    "duration": 34,
    "start_time": "2022-05-04T18:36:51.174Z"
   },
   {
    "duration": 215,
    "start_time": "2022-05-04T18:36:51.211Z"
   },
   {
    "duration": 9,
    "start_time": "2022-05-04T18:36:51.428Z"
   },
   {
    "duration": 9,
    "start_time": "2022-05-04T18:36:51.454Z"
   },
   {
    "duration": 20,
    "start_time": "2022-05-04T18:36:51.466Z"
   },
   {
    "duration": 30,
    "start_time": "2022-05-04T18:36:51.488Z"
   },
   {
    "duration": 27860,
    "start_time": "2022-05-04T18:36:51.520Z"
   },
   {
    "duration": 10,
    "start_time": "2022-05-04T18:37:19.382Z"
   },
   {
    "duration": 28,
    "start_time": "2022-05-04T18:37:19.395Z"
   },
   {
    "duration": 27,
    "start_time": "2022-05-04T18:37:19.427Z"
   },
   {
    "duration": 161,
    "start_time": "2022-05-04T18:37:19.456Z"
   },
   {
    "duration": 54,
    "start_time": "2022-05-04T18:37:19.620Z"
   },
   {
    "duration": 19,
    "start_time": "2022-05-04T18:37:19.676Z"
   },
   {
    "duration": 18,
    "start_time": "2022-05-04T18:37:19.698Z"
   },
   {
    "duration": 74,
    "start_time": "2022-05-04T18:37:19.718Z"
   },
   {
    "duration": 64,
    "start_time": "2022-05-04T18:37:19.795Z"
   },
   {
    "duration": 30109,
    "start_time": "2022-05-04T18:37:19.862Z"
   },
   {
    "duration": 21,
    "start_time": "2022-05-04T18:37:49.974Z"
   },
   {
    "duration": 58,
    "start_time": "2022-05-04T18:37:49.998Z"
   },
   {
    "duration": 27174,
    "start_time": "2022-05-04T18:37:50.058Z"
   },
   {
    "duration": 25,
    "start_time": "2022-05-04T18:38:17.234Z"
   },
   {
    "duration": 46,
    "start_time": "2022-05-04T18:38:17.264Z"
   },
   {
    "duration": 58,
    "start_time": "2022-05-04T18:38:17.313Z"
   },
   {
    "duration": 34,
    "start_time": "2022-05-04T18:38:17.374Z"
   },
   {
    "duration": 6,
    "start_time": "2022-05-04T18:38:17.410Z"
   },
   {
    "duration": 81,
    "start_time": "2022-05-04T18:38:17.419Z"
   },
   {
    "duration": 144,
    "start_time": "2022-05-04T18:38:44.215Z"
   },
   {
    "duration": 10,
    "start_time": "2022-05-04T18:38:48.661Z"
   },
   {
    "duration": 92,
    "start_time": "2022-05-04T18:38:51.884Z"
   },
   {
    "duration": 29,
    "start_time": "2022-05-04T18:39:17.582Z"
   },
   {
    "duration": 30,
    "start_time": "2022-05-04T18:39:48.798Z"
   },
   {
    "duration": 40,
    "start_time": "2022-05-04T18:40:04.911Z"
   },
   {
    "duration": 74,
    "start_time": "2022-05-04T18:40:28.246Z"
   },
   {
    "duration": 33,
    "start_time": "2022-05-04T18:40:52.493Z"
   },
   {
    "duration": 22,
    "start_time": "2022-05-04T18:41:11.119Z"
   },
   {
    "duration": 164,
    "start_time": "2022-05-04T18:43:16.605Z"
   },
   {
    "duration": 9,
    "start_time": "2022-05-04T18:43:18.778Z"
   },
   {
    "duration": 56,
    "start_time": "2022-05-04T18:43:20.683Z"
   },
   {
    "duration": 35,
    "start_time": "2022-05-04T18:44:08.546Z"
   },
   {
    "duration": 39,
    "start_time": "2022-05-04T18:44:23.544Z"
   },
   {
    "duration": 134,
    "start_time": "2022-05-04T18:44:37.705Z"
   },
   {
    "duration": 11,
    "start_time": "2022-05-04T18:44:55.487Z"
   },
   {
    "duration": 87,
    "start_time": "2022-05-04T18:44:57.093Z"
   },
   {
    "duration": 50,
    "start_time": "2022-05-04T18:45:23.331Z"
   },
   {
    "duration": 4,
    "start_time": "2022-05-04T18:45:25.404Z"
   },
   {
    "duration": 7,
    "start_time": "2022-05-04T18:45:26.233Z"
   },
   {
    "duration": 15,
    "start_time": "2022-05-04T18:45:28.363Z"
   },
   {
    "duration": 6,
    "start_time": "2022-05-04T18:46:15.784Z"
   },
   {
    "duration": 14,
    "start_time": "2022-05-04T18:46:16.771Z"
   },
   {
    "duration": 3,
    "start_time": "2022-05-04T18:46:57.486Z"
   },
   {
    "duration": 131,
    "start_time": "2022-05-04T18:47:07.471Z"
   },
   {
    "duration": 8,
    "start_time": "2022-05-04T18:47:08.413Z"
   },
   {
    "duration": 88,
    "start_time": "2022-05-04T18:47:10.698Z"
   },
   {
    "duration": 700,
    "start_time": "2022-05-04T18:51:19.810Z"
   },
   {
    "duration": 61,
    "start_time": "2022-05-04T18:51:20.513Z"
   },
   {
    "duration": 1271,
    "start_time": "2022-05-04T18:51:20.577Z"
   },
   {
    "duration": 1431,
    "start_time": "2022-05-04T18:51:21.853Z"
   },
   {
    "duration": 7,
    "start_time": "2022-05-04T18:51:23.287Z"
   },
   {
    "duration": 365,
    "start_time": "2022-05-04T18:51:23.296Z"
   },
   {
    "duration": 384,
    "start_time": "2022-05-04T18:51:23.663Z"
   },
   {
    "duration": 8,
    "start_time": "2022-05-04T18:51:24.054Z"
   },
   {
    "duration": 32,
    "start_time": "2022-05-04T18:51:24.063Z"
   },
   {
    "duration": 20,
    "start_time": "2022-05-04T18:51:24.101Z"
   },
   {
    "duration": 158,
    "start_time": "2022-05-04T18:51:24.124Z"
   },
   {
    "duration": 9,
    "start_time": "2022-05-04T18:51:24.287Z"
   },
   {
    "duration": 14,
    "start_time": "2022-05-04T18:51:24.299Z"
   },
   {
    "duration": 12,
    "start_time": "2022-05-04T18:51:24.316Z"
   },
   {
    "duration": 23,
    "start_time": "2022-05-04T18:51:24.352Z"
   },
   {
    "duration": 33038,
    "start_time": "2022-05-04T18:51:24.378Z"
   },
   {
    "duration": 15,
    "start_time": "2022-05-04T18:51:57.418Z"
   },
   {
    "duration": 22,
    "start_time": "2022-05-04T18:51:57.456Z"
   },
   {
    "duration": 12,
    "start_time": "2022-05-04T18:51:57.484Z"
   },
   {
    "duration": 215,
    "start_time": "2022-05-04T18:51:57.499Z"
   },
   {
    "duration": 61,
    "start_time": "2022-05-04T18:51:57.717Z"
   },
   {
    "duration": 20,
    "start_time": "2022-05-04T18:51:57.780Z"
   },
   {
    "duration": 5,
    "start_time": "2022-05-04T18:51:57.803Z"
   },
   {
    "duration": 75,
    "start_time": "2022-05-04T18:51:57.811Z"
   },
   {
    "duration": 70,
    "start_time": "2022-05-04T18:51:57.890Z"
   },
   {
    "duration": 22581,
    "start_time": "2022-05-04T18:51:57.965Z"
   },
   {
    "duration": 29,
    "start_time": "2022-05-04T18:52:20.552Z"
   },
   {
    "duration": 53,
    "start_time": "2022-05-04T18:52:20.590Z"
   },
   {
    "duration": 102,
    "start_time": "2022-05-04T18:54:54.612Z"
   },
   {
    "duration": 684,
    "start_time": "2022-05-04T18:55:00.579Z"
   },
   {
    "duration": 61,
    "start_time": "2022-05-04T18:55:01.267Z"
   },
   {
    "duration": 1030,
    "start_time": "2022-05-04T18:55:01.331Z"
   },
   {
    "duration": 1236,
    "start_time": "2022-05-04T18:55:02.365Z"
   },
   {
    "duration": 8,
    "start_time": "2022-05-04T18:55:03.604Z"
   },
   {
    "duration": 389,
    "start_time": "2022-05-04T18:55:03.614Z"
   },
   {
    "duration": 398,
    "start_time": "2022-05-04T18:55:04.006Z"
   },
   {
    "duration": 5,
    "start_time": "2022-05-04T18:55:04.406Z"
   },
   {
    "duration": 17,
    "start_time": "2022-05-04T18:55:04.414Z"
   },
   {
    "duration": 18,
    "start_time": "2022-05-04T18:55:04.458Z"
   },
   {
    "duration": 150,
    "start_time": "2022-05-04T18:55:04.480Z"
   },
   {
    "duration": 10,
    "start_time": "2022-05-04T18:55:04.633Z"
   },
   {
    "duration": 6,
    "start_time": "2022-05-04T18:55:04.653Z"
   },
   {
    "duration": 32,
    "start_time": "2022-05-04T18:55:04.662Z"
   },
   {
    "duration": 19,
    "start_time": "2022-05-04T18:55:04.696Z"
   },
   {
    "duration": 39223,
    "start_time": "2022-05-04T18:55:04.718Z"
   },
   {
    "duration": 22,
    "start_time": "2022-05-04T18:55:43.943Z"
   },
   {
    "duration": 47,
    "start_time": "2022-05-04T18:55:43.967Z"
   },
   {
    "duration": 6,
    "start_time": "2022-05-04T18:55:44.016Z"
   },
   {
    "duration": 251,
    "start_time": "2022-05-04T18:55:44.024Z"
   },
   {
    "duration": 43,
    "start_time": "2022-05-04T18:55:44.278Z"
   },
   {
    "duration": 36,
    "start_time": "2022-05-04T18:55:44.324Z"
   },
   {
    "duration": 28,
    "start_time": "2022-05-04T18:55:44.362Z"
   },
   {
    "duration": 52,
    "start_time": "2022-05-04T18:55:44.393Z"
   },
   {
    "duration": 53,
    "start_time": "2022-05-04T18:55:44.447Z"
   },
   {
    "duration": 23405,
    "start_time": "2022-05-04T18:55:44.503Z"
   },
   {
    "duration": 20,
    "start_time": "2022-05-04T18:56:07.911Z"
   },
   {
    "duration": 68,
    "start_time": "2022-05-04T18:56:07.936Z"
   },
   {
    "duration": 690,
    "start_time": "2022-05-04T18:59:19.792Z"
   },
   {
    "duration": 55,
    "start_time": "2022-05-04T18:59:20.486Z"
   },
   {
    "duration": 1100,
    "start_time": "2022-05-04T18:59:20.543Z"
   },
   {
    "duration": 1289,
    "start_time": "2022-05-04T18:59:21.646Z"
   },
   {
    "duration": 8,
    "start_time": "2022-05-04T18:59:22.938Z"
   },
   {
    "duration": 452,
    "start_time": "2022-05-04T18:59:22.949Z"
   },
   {
    "duration": 414,
    "start_time": "2022-05-04T18:59:23.404Z"
   },
   {
    "duration": 9,
    "start_time": "2022-05-04T18:59:23.820Z"
   },
   {
    "duration": 22,
    "start_time": "2022-05-04T18:59:23.832Z"
   },
   {
    "duration": 49,
    "start_time": "2022-05-04T18:59:23.860Z"
   },
   {
    "duration": 292,
    "start_time": "2022-05-04T18:59:23.911Z"
   },
   {
    "duration": 8,
    "start_time": "2022-05-04T18:59:24.206Z"
   },
   {
    "duration": 19,
    "start_time": "2022-05-04T18:59:24.217Z"
   },
   {
    "duration": 32,
    "start_time": "2022-05-04T18:59:24.252Z"
   },
   {
    "duration": 37,
    "start_time": "2022-05-04T18:59:24.287Z"
   },
   {
    "duration": 28954,
    "start_time": "2022-05-04T18:59:24.327Z"
   },
   {
    "duration": 14,
    "start_time": "2022-05-04T18:59:53.284Z"
   },
   {
    "duration": 23,
    "start_time": "2022-05-04T18:59:53.301Z"
   },
   {
    "duration": 5,
    "start_time": "2022-05-04T18:59:53.352Z"
   },
   {
    "duration": 247,
    "start_time": "2022-05-04T18:59:53.360Z"
   },
   {
    "duration": 57,
    "start_time": "2022-05-04T18:59:53.610Z"
   },
   {
    "duration": 19,
    "start_time": "2022-05-04T18:59:53.669Z"
   },
   {
    "duration": 9,
    "start_time": "2022-05-04T18:59:53.691Z"
   },
   {
    "duration": 73,
    "start_time": "2022-05-04T18:59:53.702Z"
   },
   {
    "duration": 32,
    "start_time": "2022-05-04T18:59:53.778Z"
   },
   {
    "duration": 26282,
    "start_time": "2022-05-04T18:59:53.813Z"
   },
   {
    "duration": 23,
    "start_time": "2022-05-04T19:00:20.098Z"
   },
   {
    "duration": 62,
    "start_time": "2022-05-04T19:00:20.130Z"
   },
   {
    "duration": 22447,
    "start_time": "2022-05-04T19:00:20.195Z"
   },
   {
    "duration": 23,
    "start_time": "2022-05-04T19:00:42.645Z"
   },
   {
    "duration": 83,
    "start_time": "2022-05-04T19:00:42.671Z"
   },
   {
    "duration": 38,
    "start_time": "2022-05-04T19:00:42.757Z"
   },
   {
    "duration": 54,
    "start_time": "2022-05-04T19:00:42.798Z"
   },
   {
    "duration": 48,
    "start_time": "2022-05-04T19:00:42.855Z"
   },
   {
    "duration": 4,
    "start_time": "2022-05-04T19:00:42.906Z"
   },
   {
    "duration": 12,
    "start_time": "2022-05-04T19:00:42.913Z"
   },
   {
    "duration": 35,
    "start_time": "2022-05-04T19:00:42.928Z"
   },
   {
    "duration": 12,
    "start_time": "2022-05-04T19:00:42.965Z"
   },
   {
    "duration": 17,
    "start_time": "2022-05-04T19:00:42.980Z"
   },
   {
    "duration": 7,
    "start_time": "2022-05-04T19:00:43.000Z"
   },
   {
    "duration": 289,
    "start_time": "2022-05-04T19:00:43.010Z"
   },
   {
    "duration": 9,
    "start_time": "2022-05-04T19:00:43.302Z"
   },
   {
    "duration": 39,
    "start_time": "2022-05-04T19:00:43.313Z"
   },
   {
    "duration": 12,
    "start_time": "2022-05-04T19:00:43.355Z"
   },
   {
    "duration": 16,
    "start_time": "2022-05-04T19:00:43.369Z"
   },
   {
    "duration": 16,
    "start_time": "2022-05-04T19:00:43.388Z"
   },
   {
    "duration": 16,
    "start_time": "2022-05-04T19:00:43.407Z"
   },
   {
    "duration": 23,
    "start_time": "2022-05-04T19:00:43.453Z"
   },
   {
    "duration": 139,
    "start_time": "2022-05-04T19:00:43.478Z"
   },
   {
    "duration": 8,
    "start_time": "2022-05-04T19:00:43.620Z"
   },
   {
    "duration": 34,
    "start_time": "2022-05-04T19:00:43.631Z"
   },
   {
    "duration": 14,
    "start_time": "2022-05-04T19:00:43.668Z"
   },
   {
    "duration": 485,
    "start_time": "2022-05-04T19:00:43.685Z"
   },
   {
    "duration": 400,
    "start_time": "2022-05-04T19:00:44.172Z"
   },
   {
    "duration": 338,
    "start_time": "2022-05-04T19:00:44.575Z"
   },
   {
    "duration": 286,
    "start_time": "2022-05-04T19:00:44.916Z"
   },
   {
    "duration": 276,
    "start_time": "2022-05-04T19:00:45.205Z"
   },
   {
    "duration": 312,
    "start_time": "2022-05-04T19:00:45.483Z"
   },
   {
    "duration": 447,
    "start_time": "2022-05-04T19:00:45.798Z"
   },
   {
    "duration": 6,
    "start_time": "2022-05-04T19:00:46.251Z"
   },
   {
    "duration": 23,
    "start_time": "2022-05-04T19:00:46.260Z"
   },
   {
    "duration": 15,
    "start_time": "2022-05-04T19:00:46.286Z"
   },
   {
    "duration": 12,
    "start_time": "2022-05-04T19:00:46.304Z"
   },
   {
    "duration": 33,
    "start_time": "2022-05-04T19:00:46.318Z"
   },
   {
    "duration": 9,
    "start_time": "2022-05-04T19:00:46.354Z"
   },
   {
    "duration": 28,
    "start_time": "2022-05-04T19:00:46.366Z"
   },
   {
    "duration": 17,
    "start_time": "2022-05-04T19:00:46.397Z"
   },
   {
    "duration": 17,
    "start_time": "2022-05-04T19:00:46.417Z"
   },
   {
    "duration": 18,
    "start_time": "2022-05-04T19:00:46.436Z"
   },
   {
    "duration": 10,
    "start_time": "2022-05-04T19:00:46.457Z"
   },
   {
    "duration": 14,
    "start_time": "2022-05-04T19:00:46.469Z"
   },
   {
    "duration": 24,
    "start_time": "2022-05-04T19:30:23.855Z"
   },
   {
    "duration": 3,
    "start_time": "2022-05-04T19:30:30.676Z"
   },
   {
    "duration": 9,
    "start_time": "2022-05-04T19:30:31.337Z"
   },
   {
    "duration": 10,
    "start_time": "2022-05-04T19:30:35.852Z"
   },
   {
    "duration": 45,
    "start_time": "2022-05-04T19:31:09.673Z"
   },
   {
    "duration": 4,
    "start_time": "2022-05-04T19:31:10.487Z"
   },
   {
    "duration": 8,
    "start_time": "2022-05-04T19:31:11.154Z"
   },
   {
    "duration": 59,
    "start_time": "2022-05-04T19:31:30.438Z"
   },
   {
    "duration": 4,
    "start_time": "2022-05-04T19:31:32.756Z"
   },
   {
    "duration": 7,
    "start_time": "2022-05-04T19:31:33.657Z"
   },
   {
    "duration": 49,
    "start_time": "2022-05-04T19:31:44.330Z"
   },
   {
    "duration": 3,
    "start_time": "2022-05-04T19:31:48.437Z"
   },
   {
    "duration": 7,
    "start_time": "2022-05-04T19:31:49.224Z"
   },
   {
    "duration": 16,
    "start_time": "2022-05-04T19:31:50.999Z"
   },
   {
    "duration": 57,
    "start_time": "2022-05-04T19:32:42.795Z"
   },
   {
    "duration": 4,
    "start_time": "2022-05-04T19:32:44.550Z"
   },
   {
    "duration": 8,
    "start_time": "2022-05-04T19:32:45.226Z"
   },
   {
    "duration": 14,
    "start_time": "2022-05-04T19:32:47.128Z"
   },
   {
    "duration": 45,
    "start_time": "2022-05-04T19:33:18.409Z"
   },
   {
    "duration": 3,
    "start_time": "2022-05-04T19:33:20.083Z"
   },
   {
    "duration": 6,
    "start_time": "2022-05-04T19:33:20.792Z"
   },
   {
    "duration": 14,
    "start_time": "2022-05-04T19:33:22.501Z"
   },
   {
    "duration": 287,
    "start_time": "2022-05-04T19:34:10.581Z"
   },
   {
    "duration": 41,
    "start_time": "2022-05-04T19:34:25.758Z"
   },
   {
    "duration": 14,
    "start_time": "2022-05-04T19:34:50.300Z"
   },
   {
    "duration": 4,
    "start_time": "2022-05-04T19:34:57.083Z"
   },
   {
    "duration": 6,
    "start_time": "2022-05-04T19:34:57.938Z"
   },
   {
    "duration": 15,
    "start_time": "2022-05-04T19:35:01.017Z"
   },
   {
    "duration": 30,
    "start_time": "2022-05-04T19:35:19.365Z"
   },
   {
    "duration": 4,
    "start_time": "2022-05-04T19:35:21.373Z"
   },
   {
    "duration": 6,
    "start_time": "2022-05-04T19:35:22.159Z"
   },
   {
    "duration": 17,
    "start_time": "2022-05-04T19:35:23.944Z"
   },
   {
    "duration": 51,
    "start_time": "2022-05-04T19:36:30.164Z"
   },
   {
    "duration": 4,
    "start_time": "2022-05-04T19:36:33.393Z"
   },
   {
    "duration": 9,
    "start_time": "2022-05-04T19:36:34.194Z"
   },
   {
    "duration": 17,
    "start_time": "2022-05-04T19:36:36.904Z"
   },
   {
    "duration": 8,
    "start_time": "2022-05-04T19:38:50.371Z"
   },
   {
    "duration": 290,
    "start_time": "2022-05-04T19:46:40.506Z"
   },
   {
    "duration": 4,
    "start_time": "2022-05-04T19:46:42.641Z"
   },
   {
    "duration": 7,
    "start_time": "2022-05-04T19:46:43.479Z"
   },
   {
    "duration": 13,
    "start_time": "2022-05-04T19:46:46.035Z"
   },
   {
    "duration": 30,
    "start_time": "2022-05-04T19:46:57.741Z"
   },
   {
    "duration": 3,
    "start_time": "2022-05-04T19:46:59.318Z"
   },
   {
    "duration": 6,
    "start_time": "2022-05-04T19:47:00.021Z"
   },
   {
    "duration": 12,
    "start_time": "2022-05-04T19:47:02.364Z"
   },
   {
    "duration": 14,
    "start_time": "2022-05-04T19:53:54.797Z"
   },
   {
    "duration": 4,
    "start_time": "2022-05-04T19:53:58.208Z"
   },
   {
    "duration": 3,
    "start_time": "2022-05-04T19:54:02.819Z"
   },
   {
    "duration": 7,
    "start_time": "2022-05-04T19:54:04.256Z"
   },
   {
    "duration": 11,
    "start_time": "2022-05-04T19:54:07.525Z"
   },
   {
    "duration": 16,
    "start_time": "2022-05-04T19:55:14.939Z"
   },
   {
    "duration": 26,
    "start_time": "2022-05-04T19:55:30.157Z"
   },
   {
    "duration": 3,
    "start_time": "2022-05-04T19:55:56.443Z"
   },
   {
    "duration": 4,
    "start_time": "2022-05-04T19:56:00.499Z"
   },
   {
    "duration": 9,
    "start_time": "2022-05-04T19:56:01.361Z"
   },
   {
    "duration": 15,
    "start_time": "2022-05-04T19:56:02.954Z"
   },
   {
    "duration": 22,
    "start_time": "2022-05-04T19:56:22.878Z"
   },
   {
    "duration": 14,
    "start_time": "2022-05-04T19:56:24.195Z"
   },
   {
    "duration": 23,
    "start_time": "2022-05-04T19:56:25.807Z"
   },
   {
    "duration": 12,
    "start_time": "2022-05-04T19:56:38.573Z"
   },
   {
    "duration": 18,
    "start_time": "2022-05-04T19:58:23.141Z"
   },
   {
    "duration": 13,
    "start_time": "2022-05-04T19:58:25.585Z"
   },
   {
    "duration": 19,
    "start_time": "2022-05-04T19:58:26.980Z"
   },
   {
    "duration": 12,
    "start_time": "2022-05-04T19:58:29.670Z"
   },
   {
    "duration": 15,
    "start_time": "2022-05-04T19:59:20.074Z"
   },
   {
    "duration": 14,
    "start_time": "2022-05-04T19:59:23.127Z"
   },
   {
    "duration": 16,
    "start_time": "2022-05-04T19:59:24.160Z"
   },
   {
    "duration": 20,
    "start_time": "2022-05-04T20:00:05.940Z"
   },
   {
    "duration": 15,
    "start_time": "2022-05-04T20:00:07.424Z"
   },
   {
    "duration": 16,
    "start_time": "2022-05-04T20:00:19.637Z"
   },
   {
    "duration": 13,
    "start_time": "2022-05-04T20:00:20.814Z"
   },
   {
    "duration": 16,
    "start_time": "2022-05-04T20:00:38.007Z"
   },
   {
    "duration": 16,
    "start_time": "2022-05-04T20:00:40.080Z"
   },
   {
    "duration": 4,
    "start_time": "2022-05-04T20:00:50.676Z"
   },
   {
    "duration": 36,
    "start_time": "2022-05-04T20:00:50.692Z"
   },
   {
    "duration": 4,
    "start_time": "2022-05-04T20:00:50.747Z"
   },
   {
    "duration": 810,
    "start_time": "2022-05-04T20:00:50.753Z"
   },
   {
    "duration": 10,
    "start_time": "2022-05-04T20:00:51.567Z"
   },
   {
    "duration": 526,
    "start_time": "2022-05-04T20:00:51.580Z"
   },
   {
    "duration": 554,
    "start_time": "2022-05-04T20:00:52.109Z"
   },
   {
    "duration": 7,
    "start_time": "2022-05-04T20:00:52.667Z"
   },
   {
    "duration": 10,
    "start_time": "2022-05-04T20:00:52.679Z"
   },
   {
    "duration": 23,
    "start_time": "2022-05-04T20:00:52.692Z"
   },
   {
    "duration": 256,
    "start_time": "2022-05-04T20:00:52.718Z"
   },
   {
    "duration": 10,
    "start_time": "2022-05-04T20:00:52.977Z"
   },
   {
    "duration": 23,
    "start_time": "2022-05-04T20:00:52.990Z"
   },
   {
    "duration": 18,
    "start_time": "2022-05-04T20:00:53.016Z"
   },
   {
    "duration": 36,
    "start_time": "2022-05-04T20:00:53.036Z"
   },
   {
    "duration": 40591,
    "start_time": "2022-05-04T20:00:53.076Z"
   },
   {
    "duration": 8,
    "start_time": "2022-05-04T20:01:33.672Z"
   },
   {
    "duration": 22,
    "start_time": "2022-05-04T20:01:33.683Z"
   },
   {
    "duration": 4,
    "start_time": "2022-05-04T20:01:33.708Z"
   },
   {
    "duration": 256,
    "start_time": "2022-05-04T20:01:33.715Z"
   },
   {
    "duration": 55,
    "start_time": "2022-05-04T20:01:33.981Z"
   },
   {
    "duration": 33,
    "start_time": "2022-05-04T20:01:34.039Z"
   },
   {
    "duration": 6,
    "start_time": "2022-05-04T20:01:34.075Z"
   },
   {
    "duration": 78,
    "start_time": "2022-05-04T20:01:34.085Z"
   },
   {
    "duration": 59,
    "start_time": "2022-05-04T20:01:34.166Z"
   },
   {
    "duration": 31945,
    "start_time": "2022-05-04T20:01:34.228Z"
   },
   {
    "duration": 22,
    "start_time": "2022-05-04T20:02:06.177Z"
   },
   {
    "duration": 66,
    "start_time": "2022-05-04T20:02:06.202Z"
   },
   {
    "duration": 25910,
    "start_time": "2022-05-04T20:02:06.271Z"
   },
   {
    "duration": 20,
    "start_time": "2022-05-04T20:02:32.184Z"
   },
   {
    "duration": 71,
    "start_time": "2022-05-04T20:02:32.207Z"
   },
   {
    "duration": 80,
    "start_time": "2022-05-04T20:02:32.282Z"
   },
   {
    "duration": 33,
    "start_time": "2022-05-04T20:02:32.365Z"
   },
   {
    "duration": 70,
    "start_time": "2022-05-04T20:02:32.400Z"
   },
   {
    "duration": 15,
    "start_time": "2022-05-04T20:02:32.473Z"
   },
   {
    "duration": 70,
    "start_time": "2022-05-04T20:02:32.491Z"
   },
   {
    "duration": 14,
    "start_time": "2022-05-04T20:02:32.564Z"
   },
   {
    "duration": 22,
    "start_time": "2022-05-04T20:02:32.581Z"
   },
   {
    "duration": 57,
    "start_time": "2022-05-04T20:02:32.606Z"
   },
   {
    "duration": 17,
    "start_time": "2022-05-04T20:02:32.666Z"
   },
   {
    "duration": 14,
    "start_time": "2022-05-04T20:02:32.685Z"
   },
   {
    "duration": 6,
    "start_time": "2022-05-04T20:02:54.498Z"
   },
   {
    "duration": 11,
    "start_time": "2022-05-04T20:02:55.403Z"
   },
   {
    "duration": 18,
    "start_time": "2022-05-04T20:02:58.715Z"
   },
   {
    "duration": 8,
    "start_time": "2022-05-04T20:03:03.011Z"
   },
   {
    "duration": 8,
    "start_time": "2022-05-04T20:03:04.266Z"
   },
   {
    "duration": 13,
    "start_time": "2022-05-04T20:03:09.664Z"
   },
   {
    "duration": 4,
    "start_time": "2022-05-04T20:05:52.112Z"
   },
   {
    "duration": 3,
    "start_time": "2022-05-04T20:05:53.001Z"
   },
   {
    "duration": 4,
    "start_time": "2022-05-04T20:05:53.805Z"
   },
   {
    "duration": 4,
    "start_time": "2022-05-04T20:05:54.541Z"
   },
   {
    "duration": 5,
    "start_time": "2022-05-04T20:07:31.745Z"
   },
   {
    "duration": 107,
    "start_time": "2022-05-04T20:09:29.711Z"
   },
   {
    "duration": 36,
    "start_time": "2022-05-04T20:11:45.111Z"
   },
   {
    "duration": 3,
    "start_time": "2022-05-04T20:11:46.583Z"
   },
   {
    "duration": 4,
    "start_time": "2022-05-04T20:11:47.464Z"
   },
   {
    "duration": 4,
    "start_time": "2022-05-04T20:11:48.226Z"
   },
   {
    "duration": 7,
    "start_time": "2022-05-04T20:11:49.656Z"
   },
   {
    "duration": 13,
    "start_time": "2022-05-04T20:11:52.017Z"
   },
   {
    "duration": 9,
    "start_time": "2022-05-04T20:12:56.921Z"
   },
   {
    "duration": 7,
    "start_time": "2022-05-04T20:14:47.784Z"
   },
   {
    "duration": 6,
    "start_time": "2022-05-04T20:23:28.513Z"
   },
   {
    "duration": 12,
    "start_time": "2022-05-04T20:23:30.542Z"
   },
   {
    "duration": 6,
    "start_time": "2022-05-04T20:23:53.350Z"
   },
   {
    "duration": 11,
    "start_time": "2022-05-04T20:23:54.852Z"
   },
   {
    "duration": 9,
    "start_time": "2022-05-04T20:23:59.882Z"
   },
   {
    "duration": 309,
    "start_time": "2022-05-04T20:24:10.507Z"
   },
   {
    "duration": 10,
    "start_time": "2022-05-04T20:24:39.194Z"
   },
   {
    "duration": 11,
    "start_time": "2022-05-04T20:24:54.852Z"
   },
   {
    "duration": 9,
    "start_time": "2022-05-04T20:24:57.466Z"
   },
   {
    "duration": 10,
    "start_time": "2022-05-04T20:25:26.966Z"
   },
   {
    "duration": 10,
    "start_time": "2022-05-04T20:25:33.310Z"
   },
   {
    "duration": 9,
    "start_time": "2022-05-04T20:25:54.680Z"
   },
   {
    "duration": 9,
    "start_time": "2022-05-04T20:25:59.479Z"
   },
   {
    "duration": 48,
    "start_time": "2022-05-04T20:26:13.864Z"
   },
   {
    "duration": 8,
    "start_time": "2022-05-04T20:26:31.474Z"
   },
   {
    "duration": 9,
    "start_time": "2022-05-04T20:26:33.276Z"
   },
   {
    "duration": 6,
    "start_time": "2022-05-04T20:26:35.097Z"
   },
   {
    "duration": 4,
    "start_time": "2022-05-04T20:28:12.160Z"
   },
   {
    "duration": 20,
    "start_time": "2022-05-04T20:28:12.176Z"
   },
   {
    "duration": 3,
    "start_time": "2022-05-04T20:28:12.199Z"
   },
   {
    "duration": 484,
    "start_time": "2022-05-04T20:28:12.229Z"
   },
   {
    "duration": 7,
    "start_time": "2022-05-04T20:28:12.716Z"
   },
   {
    "duration": 372,
    "start_time": "2022-05-04T20:28:12.725Z"
   },
   {
    "duration": 356,
    "start_time": "2022-05-04T20:28:13.100Z"
   },
   {
    "duration": 4,
    "start_time": "2022-05-04T20:28:13.458Z"
   },
   {
    "duration": 13,
    "start_time": "2022-05-04T20:28:13.464Z"
   },
   {
    "duration": 14,
    "start_time": "2022-05-04T20:28:13.479Z"
   },
   {
    "duration": 174,
    "start_time": "2022-05-04T20:28:13.495Z"
   },
   {
    "duration": 7,
    "start_time": "2022-05-04T20:28:13.671Z"
   },
   {
    "duration": 6,
    "start_time": "2022-05-04T20:28:13.681Z"
   },
   {
    "duration": 9,
    "start_time": "2022-05-04T20:28:13.689Z"
   },
   {
    "duration": 53,
    "start_time": "2022-05-04T20:28:13.700Z"
   },
   {
    "duration": 30334,
    "start_time": "2022-05-04T20:28:13.755Z"
   },
   {
    "duration": 8,
    "start_time": "2022-05-04T20:28:44.091Z"
   },
   {
    "duration": 22,
    "start_time": "2022-05-04T20:28:44.101Z"
   },
   {
    "duration": 5,
    "start_time": "2022-05-04T20:28:44.125Z"
   },
   {
    "duration": 170,
    "start_time": "2022-05-04T20:28:44.154Z"
   },
   {
    "duration": 46,
    "start_time": "2022-05-04T20:28:44.326Z"
   },
   {
    "duration": 17,
    "start_time": "2022-05-04T20:28:44.374Z"
   },
   {
    "duration": 5,
    "start_time": "2022-05-04T20:28:44.393Z"
   },
   {
    "duration": 65,
    "start_time": "2022-05-04T20:28:44.401Z"
   },
   {
    "duration": 31,
    "start_time": "2022-05-04T20:28:44.469Z"
   },
   {
    "duration": 20307,
    "start_time": "2022-05-04T20:28:44.502Z"
   },
   {
    "duration": 17,
    "start_time": "2022-05-04T20:29:04.812Z"
   },
   {
    "duration": 43,
    "start_time": "2022-05-04T20:29:04.832Z"
   },
   {
    "duration": 18227,
    "start_time": "2022-05-04T20:29:04.877Z"
   },
   {
    "duration": 14,
    "start_time": "2022-05-04T20:29:23.107Z"
   },
   {
    "duration": 60,
    "start_time": "2022-05-04T20:29:23.129Z"
   },
   {
    "duration": 30,
    "start_time": "2022-05-04T20:29:23.192Z"
   },
   {
    "duration": 48,
    "start_time": "2022-05-04T20:29:23.224Z"
   },
   {
    "duration": 36,
    "start_time": "2022-05-04T20:29:23.274Z"
   },
   {
    "duration": 8,
    "start_time": "2022-05-04T20:29:23.312Z"
   },
   {
    "duration": 43,
    "start_time": "2022-05-04T20:29:23.322Z"
   },
   {
    "duration": 7,
    "start_time": "2022-05-04T20:29:23.368Z"
   },
   {
    "duration": 20,
    "start_time": "2022-05-04T20:29:23.377Z"
   },
   {
    "duration": 9,
    "start_time": "2022-05-04T20:29:23.400Z"
   },
   {
    "duration": 289,
    "start_time": "2022-05-04T20:29:23.412Z"
   },
   {
    "duration": 8,
    "start_time": "2022-05-04T20:29:23.703Z"
   },
   {
    "duration": 12,
    "start_time": "2022-05-04T20:29:23.713Z"
   },
   {
    "duration": 27,
    "start_time": "2022-05-04T20:29:23.727Z"
   },
   {
    "duration": 16,
    "start_time": "2022-05-04T20:29:23.756Z"
   },
   {
    "duration": 11,
    "start_time": "2022-05-04T20:29:23.774Z"
   },
   {
    "duration": 9,
    "start_time": "2022-05-04T20:29:23.787Z"
   },
   {
    "duration": 57,
    "start_time": "2022-05-04T20:29:23.799Z"
   },
   {
    "duration": 36,
    "start_time": "2022-05-04T20:29:23.858Z"
   },
   {
    "duration": 7,
    "start_time": "2022-05-04T20:29:23.896Z"
   },
   {
    "duration": 29,
    "start_time": "2022-05-04T20:29:23.905Z"
   },
   {
    "duration": 30,
    "start_time": "2022-05-04T20:29:23.937Z"
   },
   {
    "duration": 387,
    "start_time": "2022-05-04T20:29:23.970Z"
   },
   {
    "duration": 408,
    "start_time": "2022-05-04T20:29:24.361Z"
   },
   {
    "duration": 371,
    "start_time": "2022-05-04T20:29:24.772Z"
   },
   {
    "duration": 409,
    "start_time": "2022-05-04T20:29:25.146Z"
   },
   {
    "duration": 478,
    "start_time": "2022-05-04T20:29:25.558Z"
   },
   {
    "duration": 454,
    "start_time": "2022-05-04T20:29:26.040Z"
   },
   {
    "duration": 303,
    "start_time": "2022-05-04T20:29:26.498Z"
   },
   {
    "duration": 5,
    "start_time": "2022-05-04T20:29:26.803Z"
   },
   {
    "duration": 14,
    "start_time": "2022-05-04T20:29:26.810Z"
   },
   {
    "duration": 38,
    "start_time": "2022-05-04T20:29:26.826Z"
   },
   {
    "duration": 8,
    "start_time": "2022-05-04T20:29:26.866Z"
   },
   {
    "duration": 9,
    "start_time": "2022-05-04T20:29:26.876Z"
   },
   {
    "duration": 9,
    "start_time": "2022-05-04T20:29:26.888Z"
   },
   {
    "duration": 51,
    "start_time": "2022-05-04T20:29:26.900Z"
   },
   {
    "duration": 6,
    "start_time": "2022-05-04T20:29:26.954Z"
   },
   {
    "duration": 13,
    "start_time": "2022-05-04T20:29:26.963Z"
   },
   {
    "duration": 8,
    "start_time": "2022-05-04T20:29:26.978Z"
   },
   {
    "duration": 11,
    "start_time": "2022-05-04T20:29:26.988Z"
   },
   {
    "duration": 50,
    "start_time": "2022-05-04T20:29:27.002Z"
   },
   {
    "duration": 98,
    "start_time": "2022-05-04T20:29:27.055Z"
   },
   {
    "duration": 116,
    "start_time": "2022-05-04T20:30:14.976Z"
   },
   {
    "duration": 93,
    "start_time": "2022-05-04T20:30:57.653Z"
   },
   {
    "duration": 99,
    "start_time": "2022-05-04T20:31:16.608Z"
   },
   {
    "duration": 5,
    "start_time": "2022-05-04T20:33:22.349Z"
   },
   {
    "duration": 22,
    "start_time": "2022-05-04T20:33:22.366Z"
   },
   {
    "duration": 4,
    "start_time": "2022-05-04T20:33:22.397Z"
   },
   {
    "duration": 526,
    "start_time": "2022-05-04T20:33:22.407Z"
   },
   {
    "duration": 6,
    "start_time": "2022-05-04T20:33:22.935Z"
   },
   {
    "duration": 435,
    "start_time": "2022-05-04T20:33:22.944Z"
   },
   {
    "duration": 338,
    "start_time": "2022-05-04T20:33:23.383Z"
   },
   {
    "duration": 4,
    "start_time": "2022-05-04T20:33:23.723Z"
   },
   {
    "duration": 39,
    "start_time": "2022-05-04T20:33:23.730Z"
   },
   {
    "duration": 15,
    "start_time": "2022-05-04T20:33:23.771Z"
   },
   {
    "duration": 148,
    "start_time": "2022-05-04T20:33:23.788Z"
   },
   {
    "duration": 7,
    "start_time": "2022-05-04T20:33:23.939Z"
   },
   {
    "duration": 12,
    "start_time": "2022-05-04T20:33:23.958Z"
   },
   {
    "duration": 17,
    "start_time": "2022-05-04T20:33:23.972Z"
   },
   {
    "duration": 14,
    "start_time": "2022-05-04T20:33:23.992Z"
   },
   {
    "duration": 26887,
    "start_time": "2022-05-04T20:33:24.009Z"
   },
   {
    "duration": 8,
    "start_time": "2022-05-04T20:33:50.898Z"
   },
   {
    "duration": 13,
    "start_time": "2022-05-04T20:33:50.908Z"
   },
   {
    "duration": 29,
    "start_time": "2022-05-04T20:33:50.924Z"
   },
   {
    "duration": 172,
    "start_time": "2022-05-04T20:33:50.955Z"
   },
   {
    "duration": 43,
    "start_time": "2022-05-04T20:33:51.129Z"
   },
   {
    "duration": 18,
    "start_time": "2022-05-04T20:33:51.174Z"
   },
   {
    "duration": 6,
    "start_time": "2022-05-04T20:33:51.194Z"
   },
   {
    "duration": 62,
    "start_time": "2022-05-04T20:33:51.202Z"
   },
   {
    "duration": 30,
    "start_time": "2022-05-04T20:33:51.266Z"
   },
   {
    "duration": 19453,
    "start_time": "2022-05-04T20:33:51.298Z"
   },
   {
    "duration": 16,
    "start_time": "2022-05-04T20:34:10.754Z"
   },
   {
    "duration": 27,
    "start_time": "2022-05-04T20:34:10.772Z"
   },
   {
    "duration": 15993,
    "start_time": "2022-05-04T20:34:10.801Z"
   },
   {
    "duration": 16,
    "start_time": "2022-05-04T20:34:26.796Z"
   },
   {
    "duration": 60,
    "start_time": "2022-05-04T20:34:26.817Z"
   },
   {
    "duration": 25,
    "start_time": "2022-05-04T20:34:26.879Z"
   },
   {
    "duration": 22,
    "start_time": "2022-05-04T20:34:26.906Z"
   },
   {
    "duration": 35,
    "start_time": "2022-05-04T20:34:26.952Z"
   },
   {
    "duration": 6,
    "start_time": "2022-05-04T20:34:26.989Z"
   },
   {
    "duration": 11,
    "start_time": "2022-05-04T20:34:26.997Z"
   },
   {
    "duration": 41,
    "start_time": "2022-05-04T20:34:27.010Z"
   },
   {
    "duration": 14,
    "start_time": "2022-05-04T20:34:27.054Z"
   },
   {
    "duration": 7,
    "start_time": "2022-05-04T20:34:27.070Z"
   },
   {
    "duration": 261,
    "start_time": "2022-05-04T20:34:27.079Z"
   },
   {
    "duration": 15,
    "start_time": "2022-05-04T20:34:27.342Z"
   },
   {
    "duration": 11,
    "start_time": "2022-05-04T20:34:27.359Z"
   },
   {
    "duration": 11,
    "start_time": "2022-05-04T20:34:27.372Z"
   },
   {
    "duration": 11,
    "start_time": "2022-05-04T20:34:27.385Z"
   },
   {
    "duration": 9,
    "start_time": "2022-05-04T20:34:27.398Z"
   },
   {
    "duration": 50,
    "start_time": "2022-05-04T20:34:27.409Z"
   },
   {
    "duration": 10,
    "start_time": "2022-05-04T20:34:27.462Z"
   },
   {
    "duration": 32,
    "start_time": "2022-05-04T20:34:27.474Z"
   },
   {
    "duration": 5,
    "start_time": "2022-05-04T20:34:27.509Z"
   },
   {
    "duration": 8,
    "start_time": "2022-05-04T20:34:27.551Z"
   },
   {
    "duration": 10,
    "start_time": "2022-05-04T20:34:27.562Z"
   },
   {
    "duration": 271,
    "start_time": "2022-05-04T20:34:27.575Z"
   },
   {
    "duration": 295,
    "start_time": "2022-05-04T20:34:27.851Z"
   },
   {
    "duration": 248,
    "start_time": "2022-05-04T20:34:28.152Z"
   },
   {
    "duration": 281,
    "start_time": "2022-05-04T20:34:28.403Z"
   },
   {
    "duration": 265,
    "start_time": "2022-05-04T20:34:28.687Z"
   },
   {
    "duration": 278,
    "start_time": "2022-05-04T20:34:28.954Z"
   },
   {
    "duration": 302,
    "start_time": "2022-05-04T20:34:29.234Z"
   },
   {
    "duration": 13,
    "start_time": "2022-05-04T20:34:29.539Z"
   },
   {
    "duration": 23,
    "start_time": "2022-05-04T20:34:29.555Z"
   },
   {
    "duration": 20,
    "start_time": "2022-05-04T20:34:29.580Z"
   },
   {
    "duration": 18,
    "start_time": "2022-05-04T20:34:29.602Z"
   },
   {
    "duration": 11,
    "start_time": "2022-05-04T20:34:29.622Z"
   },
   {
    "duration": 30,
    "start_time": "2022-05-04T20:34:29.635Z"
   },
   {
    "duration": 18,
    "start_time": "2022-05-04T20:34:29.667Z"
   },
   {
    "duration": 12,
    "start_time": "2022-05-04T20:34:29.687Z"
   },
   {
    "duration": 27,
    "start_time": "2022-05-04T20:34:29.701Z"
   },
   {
    "duration": 10,
    "start_time": "2022-05-04T20:34:29.730Z"
   },
   {
    "duration": 12,
    "start_time": "2022-05-04T20:34:29.742Z"
   },
   {
    "duration": 12,
    "start_time": "2022-05-04T20:34:29.756Z"
   }
  ],
  "kernelspec": {
   "display_name": "Python 3 (ipykernel)",
   "language": "python",
   "name": "python3"
  },
  "language_info": {
   "codemirror_mode": {
    "name": "ipython",
    "version": 3
   },
   "file_extension": ".py",
   "mimetype": "text/x-python",
   "name": "python",
   "nbconvert_exporter": "python",
   "pygments_lexer": "ipython3",
   "version": "3.9.12"
  },
  "toc": {
   "base_numbering": 1,
   "nav_menu": {},
   "number_sections": true,
   "sideBar": true,
   "skip_h1_title": true,
   "title_cell": "Table of Contents",
   "title_sidebar": "Contents",
   "toc_cell": false,
   "toc_position": {
    "height": "calc(100% - 180px)",
    "left": "10px",
    "top": "150px",
    "width": "323.984px"
   },
   "toc_section_display": true,
   "toc_window_display": false
  }
 },
 "nbformat": 4,
 "nbformat_minor": 2
}
