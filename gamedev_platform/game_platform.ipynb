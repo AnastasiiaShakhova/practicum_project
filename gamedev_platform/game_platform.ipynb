{
 "cells": [
  {
   "cell_type": "markdown",
   "metadata": {},
   "source": [
    "# Исследование рынка компьютерных игр"
   ]
  },
  {
   "cell_type": "markdown",
   "metadata": {},
   "source": [
    "**Цель проекта**\n",
    "Выявить закономерности, определяющие успешность на рынке той или иной игры, для дальнейшего выделения потенциально популярного продукта и планирования рекламных кампаний.\n",
    "\n",
    "**Описание данных**\n",
    "- Name — название игры\n",
    "- Platform — платформа\n",
    "- Year_of_Release — год выпуска\n",
    "- Genre — жанр игры\n",
    "- NA_sales — продажи в Северной Америке (миллионы проданных копий)\n",
    "- EU_sales — продажи в Европе (миллионы проданных копий)\n",
    "- JP_sales — продажи в Японии (миллионы проданных копий)\n",
    "- Other_sales — продажи в других странах (миллионы проданных копий)\n",
    "- Critic_Score — оценка критиков (максимум 100)\n",
    "- User_Score — оценка пользователей (максимум 10)\n",
    "- Rating — рейтинг от организации ESRB (англ. Entertainment Software Rating Board). Эта ассоциация определяет рейтинг компьютерных игр и присваивает им подходящую возрастную категорию.\n",
    "\n",
    "*Примечание\n",
    "Данные за 2016 год могут быть неполными.*"
   ]
  },
  {
   "cell_type": "code",
   "execution_count": 1,
   "metadata": {},
   "outputs": [],
   "source": [
    "import pandas as pd\n",
    "import matplotlib.pyplot as plt\n",
    "import numpy as np\n",
    "from scipy import stats as st"
   ]
  },
  {
   "cell_type": "markdown",
   "metadata": {},
   "source": [
    "## Описание данных"
   ]
  },
  {
   "cell_type": "code",
   "execution_count": 2,
   "metadata": {},
   "outputs": [],
   "source": [
    "data = pd.read_csv('D:/учеба/портфолио/roots/1 sborn_games.csv')"
   ]
  },
  {
   "cell_type": "code",
   "execution_count": 3,
   "metadata": {},
   "outputs": [
    {
     "data": {
      "text/html": [
       "<div>\n",
       "<style scoped>\n",
       "    .dataframe tbody tr th:only-of-type {\n",
       "        vertical-align: middle;\n",
       "    }\n",
       "\n",
       "    .dataframe tbody tr th {\n",
       "        vertical-align: top;\n",
       "    }\n",
       "\n",
       "    .dataframe thead th {\n",
       "        text-align: right;\n",
       "    }\n",
       "</style>\n",
       "<table border=\"1\" class=\"dataframe\">\n",
       "  <thead>\n",
       "    <tr style=\"text-align: right;\">\n",
       "      <th></th>\n",
       "      <th>Name</th>\n",
       "      <th>Platform</th>\n",
       "      <th>Year_of_Release</th>\n",
       "      <th>Genre</th>\n",
       "      <th>NA_sales</th>\n",
       "      <th>EU_sales</th>\n",
       "      <th>JP_sales</th>\n",
       "      <th>Other_sales</th>\n",
       "      <th>Critic_Score</th>\n",
       "      <th>User_Score</th>\n",
       "      <th>Rating</th>\n",
       "    </tr>\n",
       "  </thead>\n",
       "  <tbody>\n",
       "    <tr>\n",
       "      <th>0</th>\n",
       "      <td>Wii Sports</td>\n",
       "      <td>Wii</td>\n",
       "      <td>2006.0</td>\n",
       "      <td>Sports</td>\n",
       "      <td>41.36</td>\n",
       "      <td>28.96</td>\n",
       "      <td>3.77</td>\n",
       "      <td>8.45</td>\n",
       "      <td>76.0</td>\n",
       "      <td>8</td>\n",
       "      <td>E</td>\n",
       "    </tr>\n",
       "    <tr>\n",
       "      <th>1</th>\n",
       "      <td>Super Mario Bros.</td>\n",
       "      <td>NES</td>\n",
       "      <td>1985.0</td>\n",
       "      <td>Platform</td>\n",
       "      <td>29.08</td>\n",
       "      <td>3.58</td>\n",
       "      <td>6.81</td>\n",
       "      <td>0.77</td>\n",
       "      <td>NaN</td>\n",
       "      <td>NaN</td>\n",
       "      <td>NaN</td>\n",
       "    </tr>\n",
       "    <tr>\n",
       "      <th>2</th>\n",
       "      <td>Mario Kart Wii</td>\n",
       "      <td>Wii</td>\n",
       "      <td>2008.0</td>\n",
       "      <td>Racing</td>\n",
       "      <td>15.68</td>\n",
       "      <td>12.76</td>\n",
       "      <td>3.79</td>\n",
       "      <td>3.29</td>\n",
       "      <td>82.0</td>\n",
       "      <td>8.3</td>\n",
       "      <td>E</td>\n",
       "    </tr>\n",
       "    <tr>\n",
       "      <th>3</th>\n",
       "      <td>Wii Sports Resort</td>\n",
       "      <td>Wii</td>\n",
       "      <td>2009.0</td>\n",
       "      <td>Sports</td>\n",
       "      <td>15.61</td>\n",
       "      <td>10.93</td>\n",
       "      <td>3.28</td>\n",
       "      <td>2.95</td>\n",
       "      <td>80.0</td>\n",
       "      <td>8</td>\n",
       "      <td>E</td>\n",
       "    </tr>\n",
       "    <tr>\n",
       "      <th>4</th>\n",
       "      <td>Pokemon Red/Pokemon Blue</td>\n",
       "      <td>GB</td>\n",
       "      <td>1996.0</td>\n",
       "      <td>Role-Playing</td>\n",
       "      <td>11.27</td>\n",
       "      <td>8.89</td>\n",
       "      <td>10.22</td>\n",
       "      <td>1.00</td>\n",
       "      <td>NaN</td>\n",
       "      <td>NaN</td>\n",
       "      <td>NaN</td>\n",
       "    </tr>\n",
       "  </tbody>\n",
       "</table>\n",
       "</div>"
      ],
      "text/plain": [
       "                       Name Platform  Year_of_Release         Genre  NA_sales  \\\n",
       "0                Wii Sports      Wii           2006.0        Sports     41.36   \n",
       "1         Super Mario Bros.      NES           1985.0      Platform     29.08   \n",
       "2            Mario Kart Wii      Wii           2008.0        Racing     15.68   \n",
       "3         Wii Sports Resort      Wii           2009.0        Sports     15.61   \n",
       "4  Pokemon Red/Pokemon Blue       GB           1996.0  Role-Playing     11.27   \n",
       "\n",
       "   EU_sales  JP_sales  Other_sales  Critic_Score User_Score Rating  \n",
       "0     28.96      3.77         8.45          76.0          8      E  \n",
       "1      3.58      6.81         0.77           NaN        NaN    NaN  \n",
       "2     12.76      3.79         3.29          82.0        8.3      E  \n",
       "3     10.93      3.28         2.95          80.0          8      E  \n",
       "4      8.89     10.22         1.00           NaN        NaN    NaN  "
      ]
     },
     "execution_count": 3,
     "metadata": {},
     "output_type": "execute_result"
    }
   ],
   "source": [
    "data.head()"
   ]
  },
  {
   "cell_type": "code",
   "execution_count": 4,
   "metadata": {},
   "outputs": [
    {
     "name": "stdout",
     "output_type": "stream",
     "text": [
      "<class 'pandas.core.frame.DataFrame'>\n",
      "RangeIndex: 16715 entries, 0 to 16714\n",
      "Data columns (total 11 columns):\n",
      " #   Column           Non-Null Count  Dtype  \n",
      "---  ------           --------------  -----  \n",
      " 0   Name             16713 non-null  object \n",
      " 1   Platform         16715 non-null  object \n",
      " 2   Year_of_Release  16446 non-null  float64\n",
      " 3   Genre            16713 non-null  object \n",
      " 4   NA_sales         16715 non-null  float64\n",
      " 5   EU_sales         16715 non-null  float64\n",
      " 6   JP_sales         16715 non-null  float64\n",
      " 7   Other_sales      16715 non-null  float64\n",
      " 8   Critic_Score     8137 non-null   float64\n",
      " 9   User_Score       10014 non-null  object \n",
      " 10  Rating           9949 non-null   object \n",
      "dtypes: float64(6), object(5)\n",
      "memory usage: 1.4+ MB\n"
     ]
    }
   ],
   "source": [
    "data.info()"
   ]
  },
  {
   "cell_type": "markdown",
   "metadata": {},
   "source": [
    "Данные представлены таблицей с 16715 строками и 11 столбцами.\n",
    "- Названия колонок содержат буквы в разных регистрах, нужно привести к одному.\n",
    "- Столбцы с названиями (игры, платформы и жанра) представлены текстовым типом данных, строки содержат строчные и заглавные буквы (могут быть неявные дубликаты). Столбец с годом релиза игры представлен в формате вещественного числа - поменяем тип данных. Столбцы с оценками критиков и пользователей содержат числовой тип данных, но в User_Score данные в формате текстовом, нужно привести к нужному. Рейтинг обозначен буквенно, столбец данных с текстовым типом.\n",
    "\n",
    "Посмотрим на описание столбцов с числовыми данными:"
   ]
  },
  {
   "cell_type": "code",
   "execution_count": 5,
   "metadata": {},
   "outputs": [
    {
     "data": {
      "text/html": [
       "<div>\n",
       "<style scoped>\n",
       "    .dataframe tbody tr th:only-of-type {\n",
       "        vertical-align: middle;\n",
       "    }\n",
       "\n",
       "    .dataframe tbody tr th {\n",
       "        vertical-align: top;\n",
       "    }\n",
       "\n",
       "    .dataframe thead th {\n",
       "        text-align: right;\n",
       "    }\n",
       "</style>\n",
       "<table border=\"1\" class=\"dataframe\">\n",
       "  <thead>\n",
       "    <tr style=\"text-align: right;\">\n",
       "      <th></th>\n",
       "      <th>Year_of_Release</th>\n",
       "      <th>NA_sales</th>\n",
       "      <th>EU_sales</th>\n",
       "      <th>JP_sales</th>\n",
       "      <th>Other_sales</th>\n",
       "      <th>Critic_Score</th>\n",
       "    </tr>\n",
       "  </thead>\n",
       "  <tbody>\n",
       "    <tr>\n",
       "      <th>count</th>\n",
       "      <td>16446.000000</td>\n",
       "      <td>16715.000000</td>\n",
       "      <td>16715.000000</td>\n",
       "      <td>16715.000000</td>\n",
       "      <td>16715.000000</td>\n",
       "      <td>8137.000000</td>\n",
       "    </tr>\n",
       "    <tr>\n",
       "      <th>mean</th>\n",
       "      <td>2006.484616</td>\n",
       "      <td>0.263377</td>\n",
       "      <td>0.145060</td>\n",
       "      <td>0.077617</td>\n",
       "      <td>0.047342</td>\n",
       "      <td>68.967679</td>\n",
       "    </tr>\n",
       "    <tr>\n",
       "      <th>std</th>\n",
       "      <td>5.877050</td>\n",
       "      <td>0.813604</td>\n",
       "      <td>0.503339</td>\n",
       "      <td>0.308853</td>\n",
       "      <td>0.186731</td>\n",
       "      <td>13.938165</td>\n",
       "    </tr>\n",
       "    <tr>\n",
       "      <th>min</th>\n",
       "      <td>1980.000000</td>\n",
       "      <td>0.000000</td>\n",
       "      <td>0.000000</td>\n",
       "      <td>0.000000</td>\n",
       "      <td>0.000000</td>\n",
       "      <td>13.000000</td>\n",
       "    </tr>\n",
       "    <tr>\n",
       "      <th>25%</th>\n",
       "      <td>2003.000000</td>\n",
       "      <td>0.000000</td>\n",
       "      <td>0.000000</td>\n",
       "      <td>0.000000</td>\n",
       "      <td>0.000000</td>\n",
       "      <td>60.000000</td>\n",
       "    </tr>\n",
       "    <tr>\n",
       "      <th>50%</th>\n",
       "      <td>2007.000000</td>\n",
       "      <td>0.080000</td>\n",
       "      <td>0.020000</td>\n",
       "      <td>0.000000</td>\n",
       "      <td>0.010000</td>\n",
       "      <td>71.000000</td>\n",
       "    </tr>\n",
       "    <tr>\n",
       "      <th>75%</th>\n",
       "      <td>2010.000000</td>\n",
       "      <td>0.240000</td>\n",
       "      <td>0.110000</td>\n",
       "      <td>0.040000</td>\n",
       "      <td>0.030000</td>\n",
       "      <td>79.000000</td>\n",
       "    </tr>\n",
       "    <tr>\n",
       "      <th>max</th>\n",
       "      <td>2016.000000</td>\n",
       "      <td>41.360000</td>\n",
       "      <td>28.960000</td>\n",
       "      <td>10.220000</td>\n",
       "      <td>10.570000</td>\n",
       "      <td>98.000000</td>\n",
       "    </tr>\n",
       "  </tbody>\n",
       "</table>\n",
       "</div>"
      ],
      "text/plain": [
       "       Year_of_Release      NA_sales      EU_sales      JP_sales  \\\n",
       "count     16446.000000  16715.000000  16715.000000  16715.000000   \n",
       "mean       2006.484616      0.263377      0.145060      0.077617   \n",
       "std           5.877050      0.813604      0.503339      0.308853   \n",
       "min        1980.000000      0.000000      0.000000      0.000000   \n",
       "25%        2003.000000      0.000000      0.000000      0.000000   \n",
       "50%        2007.000000      0.080000      0.020000      0.000000   \n",
       "75%        2010.000000      0.240000      0.110000      0.040000   \n",
       "max        2016.000000     41.360000     28.960000     10.220000   \n",
       "\n",
       "        Other_sales  Critic_Score  \n",
       "count  16715.000000   8137.000000  \n",
       "mean       0.047342     68.967679  \n",
       "std        0.186731     13.938165  \n",
       "min        0.000000     13.000000  \n",
       "25%        0.000000     60.000000  \n",
       "50%        0.010000     71.000000  \n",
       "75%        0.030000     79.000000  \n",
       "max       10.570000     98.000000  "
      ]
     },
     "execution_count": 5,
     "metadata": {},
     "output_type": "execute_result"
    }
   ],
   "source": [
    "data.describe()"
   ]
  },
  {
   "cell_type": "markdown",
   "metadata": {},
   "source": [
    "- минимальные продажи везде 0 миллионов копий\n",
    "- первый квартиль везде в продажах 0 миллионов копий, медиана меньше среднего - данные очень сильно скошены вправо\n",
    "- год релиза, представленный в таком формате, показал нам, что в данных есть информация с 1980 по 2016 г.\n",
    "- оценка критиков минимум 13, максимум 98, среднняя 71 (достаточно высокая), std=13.93, разброс данных небольшой, оценка критиков редко выходила ниже 54 баллов.\n",
    "\n",
    "Посмотрим на пропуски и явные дубли:"
   ]
  },
  {
   "cell_type": "code",
   "execution_count": 6,
   "metadata": {},
   "outputs": [
    {
     "data": {
      "text/plain": [
       "Name                  2\n",
       "Platform              0\n",
       "Year_of_Release     269\n",
       "Genre                 2\n",
       "NA_sales              0\n",
       "EU_sales              0\n",
       "JP_sales              0\n",
       "Other_sales           0\n",
       "Critic_Score       8578\n",
       "User_Score         6701\n",
       "Rating             6766\n",
       "dtype: int64"
      ]
     },
     "execution_count": 6,
     "metadata": {},
     "output_type": "execute_result"
    }
   ],
   "source": [
    "data.isna().sum()"
   ]
  },
  {
   "cell_type": "code",
   "execution_count": 7,
   "metadata": {},
   "outputs": [
    {
     "data": {
      "text/plain": [
       "(0.01609332934489979,\n",
       " 0.5131917439425665,\n",
       " 0.4008973975471134,\n",
       " 0.4047861202512713)"
      ]
     },
     "execution_count": 7,
     "metadata": {},
     "output_type": "execute_result"
    }
   ],
   "source": [
    "data['Year_of_Release'].isna().sum()/len(data), data['Critic_Score'].isna().sum()/len(data), 6701/len(data), 6766/len(data)"
   ]
  },
  {
   "cell_type": "markdown",
   "metadata": {},
   "source": [
    "Пропуски есть:\n",
    "- в столбцах name, genre - всего по 2 пропуска\n",
    "- год релиза/year_of_release, доля пропусков 0,01\n",
    "- больше всего пропусков в данных с оценками игр и их рейтингом: 'Critic_Score' - доля пропусков 0,51, User_Score и Rating- доля пропусков 0,40"
   ]
  },
  {
   "cell_type": "code",
   "execution_count": 8,
   "metadata": {},
   "outputs": [
    {
     "data": {
      "text/plain": [
       "0"
      ]
     },
     "execution_count": 8,
     "metadata": {},
     "output_type": "execute_result"
    }
   ],
   "source": [
    "data.duplicated().sum()"
   ]
  },
  {
   "cell_type": "markdown",
   "metadata": {},
   "source": [
    "Явных дубликатов нет."
   ]
  },
  {
   "cell_type": "markdown",
   "metadata": {},
   "source": [
    "**Далее нужно будет обработать названия столбцов,некоторые из них привести к нужному для анализа типу, обработать пропуски, удалить данные с пропусками в столбце 'name' - 2 пропуска и в столбце с гором релиза - доля пропусков 0,16 (больше никакие данные удалять не будем, данное количество удалений не повлияет на наш дальнейший анализ**"
   ]
  },
  {
   "cell_type": "markdown",
   "metadata": {},
   "source": [
    "## Внесение правок в данные и обработка пропусков"
   ]
  },
  {
   "cell_type": "markdown",
   "metadata": {},
   "source": [
    "Удаляем пропуски в выбранных столбцах."
   ]
  },
  {
   "cell_type": "code",
   "execution_count": 9,
   "metadata": {},
   "outputs": [],
   "source": [
    "data = data.dropna(subset=['Year_of_Release', 'Name']).reset_index(drop=True)"
   ]
  },
  {
   "cell_type": "markdown",
   "metadata": {},
   "source": [
    "**Обрабатываем название столбцов.**\n",
    "\n",
    "Меняем регистр и добавляем единицу измерения в продажи mln_copy"
   ]
  },
  {
   "cell_type": "code",
   "execution_count": 10,
   "metadata": {},
   "outputs": [
    {
     "data": {
      "text/plain": [
       "Index(['Name', 'Platform', 'Year_of_Release', 'Genre', 'NA_sales', 'EU_sales',\n",
       "       'JP_sales', 'Other_sales', 'Critic_Score', 'User_Score', 'Rating'],\n",
       "      dtype='object')"
      ]
     },
     "execution_count": 10,
     "metadata": {},
     "output_type": "execute_result"
    }
   ],
   "source": [
    "#смотрим названия\n",
    "data.columns"
   ]
  },
  {
   "cell_type": "code",
   "execution_count": 11,
   "metadata": {},
   "outputs": [],
   "source": [
    "data.columns = data.columns.str.lower()"
   ]
  },
  {
   "cell_type": "code",
   "execution_count": 12,
   "metadata": {},
   "outputs": [],
   "source": [
    "#правим и проверяем\n",
    "data = data.rename(\n",
    "    columns={'na_sales':'na_sales_mln_copy', 'eu_sales':'eu_sales_mln_copy',\n",
    "           'jp_sales':'jp_sales_mln_copy', 'other_sales':'other_sales_mln_copy'}\n",
    ")"
   ]
  },
  {
   "cell_type": "code",
   "execution_count": 13,
   "metadata": {},
   "outputs": [
    {
     "data": {
      "text/plain": [
       "Index(['name', 'platform', 'year_of_release', 'genre', 'na_sales_mln_copy',\n",
       "       'eu_sales_mln_copy', 'jp_sales_mln_copy', 'other_sales_mln_copy',\n",
       "       'critic_score', 'user_score', 'rating'],\n",
       "      dtype='object')"
      ]
     },
     "execution_count": 13,
     "metadata": {},
     "output_type": "execute_result"
    }
   ],
   "source": [
    "data.columns"
   ]
  },
  {
   "cell_type": "markdown",
   "metadata": {},
   "source": [
    "**Обрабатываем столбцы 'name', 'platform', 'genre'**\n",
    "\n",
    "Приведем все строковые значения к нижнему регистру, оценим количество значений до и после изменений (проверка на наличие неявных дубликатов)."
   ]
  },
  {
   "cell_type": "code",
   "execution_count": 14,
   "metadata": {},
   "outputs": [
    {
     "name": "stdout",
     "output_type": "stream",
     "text": [
      "11426\n",
      "11426\n",
      "31\n",
      "31\n",
      "12\n",
      "12\n"
     ]
    }
   ],
   "source": [
    "correct_list = ['name', 'platform', 'genre']\n",
    "for column in correct_list:\n",
    "    print(len(data[column].unique()))\n",
    "    data[column] = data[column].str.lower()\n",
    "    print(len(data[column].unique()))"
   ]
  },
  {
   "cell_type": "markdown",
   "metadata": {},
   "source": [
    "От смены регистра, количество значений не поменялось (не было неявных дубликатов по регистру).\n",
    "\n",
    "Посмотрим столбцы 'platform', 'genre', количество значений небольшое, можно зрительно оценить есть ли неявные дубликаты из-за написания."
   ]
  },
  {
   "cell_type": "code",
   "execution_count": 15,
   "metadata": {},
   "outputs": [
    {
     "data": {
      "text/plain": [
       "array(['wii', 'nes', 'gb', 'ds', 'x360', 'ps3', 'ps2', 'snes', 'gba',\n",
       "       'ps4', '3ds', 'n64', 'ps', 'xb', 'pc', '2600', 'psp', 'xone',\n",
       "       'wiiu', 'gc', 'gen', 'dc', 'psv', 'sat', 'scd', 'ws', 'ng', 'tg16',\n",
       "       '3do', 'gg', 'pcfx'], dtype=object)"
      ]
     },
     "execution_count": 15,
     "metadata": {},
     "output_type": "execute_result"
    }
   ],
   "source": [
    "data['platform'].unique()"
   ]
  },
  {
   "cell_type": "code",
   "execution_count": 16,
   "metadata": {},
   "outputs": [
    {
     "data": {
      "text/plain": [
       "array(['sports', 'platform', 'racing', 'role-playing', 'puzzle', 'misc',\n",
       "       'shooter', 'simulation', 'action', 'fighting', 'adventure',\n",
       "       'strategy'], dtype=object)"
      ]
     },
     "execution_count": 16,
     "metadata": {},
     "output_type": "execute_result"
    }
   ],
   "source": [
    "data['genre'].unique()"
   ]
  },
  {
   "cell_type": "markdown",
   "metadata": {},
   "source": [
    "Неявных дублей нет, примем что данные изначально качественные и в столбце 'name' - все названия также без неявных дублей."
   ]
  },
  {
   "cell_type": "markdown",
   "metadata": {},
   "source": [
    "**Год релиза**\n",
    "\n",
    "Для удобства в дальнейшем анализе приводим к типу 'int'"
   ]
  },
  {
   "cell_type": "code",
   "execution_count": 17,
   "metadata": {},
   "outputs": [],
   "source": [
    "data['year_of_release'] = data['year_of_release'].astype('int')"
   ]
  },
  {
   "cell_type": "markdown",
   "metadata": {},
   "source": [
    "**Оценка критиков**"
   ]
  },
  {
   "cell_type": "code",
   "execution_count": 18,
   "metadata": {},
   "outputs": [
    {
     "data": {
      "text/plain": [
       "array([76., nan, 82., 80., 89., 58., 87., 91., 61., 97., 95., 77., 88.,\n",
       "       83., 94., 93., 85., 86., 98., 96., 90., 84., 73., 74., 78., 92.,\n",
       "       71., 72., 68., 62., 49., 67., 81., 66., 56., 79., 70., 59., 64.,\n",
       "       75., 60., 63., 69., 50., 25., 42., 44., 55., 48., 57., 29., 47.,\n",
       "       65., 54., 20., 53., 37., 38., 33., 52., 30., 32., 43., 45., 51.,\n",
       "       40., 46., 39., 34., 41., 36., 31., 27., 35., 26., 19., 28., 23.,\n",
       "       24., 21., 17., 13.])"
      ]
     },
     "execution_count": 18,
     "metadata": {},
     "output_type": "execute_result"
    }
   ],
   "source": [
    "# смотрим уникальные значения\n",
    "data['critic_score'].unique()"
   ]
  },
  {
   "cell_type": "code",
   "execution_count": 19,
   "metadata": {},
   "outputs": [],
   "source": [
    "# для пропусков применяем \"заглушку\", эти значение далее будем фильтровать\n",
    "data['critic_score'] = data['critic_score'].fillna(1111)"
   ]
  },
  {
   "cell_type": "code",
   "execution_count": 20,
   "metadata": {},
   "outputs": [],
   "source": [
    "# приводим к нужному типу данных\n",
    "data['critic_score'] = data['critic_score'].astype('int')"
   ]
  },
  {
   "cell_type": "markdown",
   "metadata": {},
   "source": [
    "**Оценка пользователей**"
   ]
  },
  {
   "cell_type": "code",
   "execution_count": 21,
   "metadata": {},
   "outputs": [
    {
     "data": {
      "text/plain": [
       "array(['8', nan, '8.3', '8.5', '6.6', '8.4', '8.6', '7.7', '6.3', '7.4',\n",
       "       '8.2', '9', '7.9', '8.1', '8.7', '7.1', '3.4', '5.3', '4.8', '3.2',\n",
       "       '8.9', '6.4', '7.8', '7.5', '2.6', '7.2', '9.2', '7', '7.3', '4.3',\n",
       "       '7.6', '5.7', '5', '9.1', '6.5', 'tbd', '8.8', '6.9', '9.4', '6.8',\n",
       "       '6.1', '6.7', '5.4', '4', '4.9', '4.5', '9.3', '6.2', '4.2', '6',\n",
       "       '3.7', '4.1', '5.8', '5.6', '5.5', '4.4', '4.6', '5.9', '3.9',\n",
       "       '3.1', '2.9', '5.2', '3.3', '4.7', '5.1', '3.5', '2.5', '1.9', '3',\n",
       "       '2.7', '2.2', '2', '9.5', '2.1', '3.6', '2.8', '1.8', '3.8', '0',\n",
       "       '1.6', '9.6', '2.4', '1.7', '1.1', '0.3', '1.5', '0.7', '1.2',\n",
       "       '2.3', '0.5', '1.3', '0.2', '0.6', '1.4', '0.9', '1', '9.7'],\n",
       "      dtype=object)"
      ]
     },
     "execution_count": 21,
     "metadata": {},
     "output_type": "execute_result"
    }
   ],
   "source": [
    "# смотрим уникальные значения\n",
    "data['user_score'].unique()"
   ]
  },
  {
   "cell_type": "markdown",
   "metadata": {},
   "source": [
    "Здесь два типа пропущенных значений nan и tbd(те данные, которые должны были быть добавлены, но их пока нет). Применим разные \"заглушки\""
   ]
  },
  {
   "cell_type": "code",
   "execution_count": 22,
   "metadata": {},
   "outputs": [],
   "source": [
    "data['user_score'] = data['user_score'].fillna(1111)"
   ]
  },
  {
   "cell_type": "code",
   "execution_count": 23,
   "metadata": {},
   "outputs": [],
   "source": [
    "data['user_score'] = data['user_score'].replace('tbd', 2222)"
   ]
  },
  {
   "cell_type": "markdown",
   "metadata": {},
   "source": [
    "Заново оценим долю пропусков (до этого не учитывались \"tbd\")"
   ]
  },
  {
   "cell_type": "code",
   "execution_count": 24,
   "metadata": {},
   "outputs": [
    {
     "data": {
      "text/plain": [
       "0.5461566528825104"
      ]
     },
     "execution_count": 24,
     "metadata": {},
     "output_type": "execute_result"
    }
   ],
   "source": [
    "(len(data[data['user_score'] == 2222]) / len(data)) + (len(data[data['user_score'] == 1111]) / len(data))"
   ]
  },
  {
   "cell_type": "markdown",
   "metadata": {},
   "source": [
    "Доля пропусков с учетом \"tbd\" увеличилась довольно сильно с 0,40 до 0,54."
   ]
  },
  {
   "cell_type": "code",
   "execution_count": 25,
   "metadata": {},
   "outputs": [],
   "source": [
    "data['user_score'] = data['user_score'].astype('float')"
   ]
  },
  {
   "cell_type": "markdown",
   "metadata": {},
   "source": [
    "**Рейтинги**"
   ]
  },
  {
   "cell_type": "code",
   "execution_count": 26,
   "metadata": {},
   "outputs": [
    {
     "data": {
      "text/plain": [
       "E       3921\n",
       "T       2905\n",
       "M       1536\n",
       "E10+    1393\n",
       "EC         8\n",
       "K-A        3\n",
       "AO         1\n",
       "RP         1\n",
       "Name: rating, dtype: int64"
      ]
     },
     "execution_count": 26,
     "metadata": {},
     "output_type": "execute_result"
    }
   ],
   "source": [
    "data['rating'].value_counts()"
   ]
  },
  {
   "cell_type": "markdown",
   "metadata": {},
   "source": [
    "Абсолютное большинство игр, из тех в которых указан  рейтинг, указаны как: Е,Т, М и Е10+"
   ]
  },
  {
   "cell_type": "code",
   "execution_count": 27,
   "metadata": {},
   "outputs": [],
   "source": [
    "#заменяем пропуски на \"unknown\"\n",
    "data['rating'] = data['rating'].fillna('unknown')"
   ]
  },
  {
   "cell_type": "markdown",
   "metadata": {},
   "source": [
    "В столбце Rating — рейтинг от организации ESRB (англ. Entertainment Software Rating Board). Эта ассоциация определяет рейтинг компьютерных игр и присваивает им подходящую возрастную категорию. Посмотрим как описаны, представленные у нас рейтинги:\n",
    "- E - для всех возрастов,\n",
    "- T - подростки, 13+\n",
    "- M - 17+\n",
    "- Е10+ - для всех, от 10 лет\n",
    "- EC - для детей 3+ и старше\n",
    "- K-A - устаревший рейтинг, был заменен на E (**также заменим его на Е**)\n",
    "- АО - только для взрослых 18+\n",
    "- RP - рейтинг ожидается, **включим его в unknown**\n",
    "\n",
    "*Источник* \n",
    "https://dic.academic.ru/dic.nsf/ruwiki/140779#.D0.94.D0.B5.D0.B9.D1.81.D1.82.D0.B2.D1.83.D1.8E.D1.89.D0.B8.D0.B5"
   ]
  },
  {
   "cell_type": "code",
   "execution_count": 28,
   "metadata": {},
   "outputs": [],
   "source": [
    "data['rating'] = data['rating'].replace('K-A', 'E')\n",
    "data['rating'] = data['rating'].replace('RP', 'unknown')"
   ]
  },
  {
   "cell_type": "markdown",
   "metadata": {},
   "source": [
    "### Итоги"
   ]
  },
  {
   "cell_type": "code",
   "execution_count": 29,
   "metadata": {},
   "outputs": [
    {
     "name": "stdout",
     "output_type": "stream",
     "text": [
      "<class 'pandas.core.frame.DataFrame'>\n",
      "RangeIndex: 16444 entries, 0 to 16443\n",
      "Data columns (total 11 columns):\n",
      " #   Column                Non-Null Count  Dtype  \n",
      "---  ------                --------------  -----  \n",
      " 0   name                  16444 non-null  object \n",
      " 1   platform              16444 non-null  object \n",
      " 2   year_of_release       16444 non-null  int32  \n",
      " 3   genre                 16444 non-null  object \n",
      " 4   na_sales_mln_copy     16444 non-null  float64\n",
      " 5   eu_sales_mln_copy     16444 non-null  float64\n",
      " 6   jp_sales_mln_copy     16444 non-null  float64\n",
      " 7   other_sales_mln_copy  16444 non-null  float64\n",
      " 8   critic_score          16444 non-null  int32  \n",
      " 9   user_score            16444 non-null  float64\n",
      " 10  rating                16444 non-null  object \n",
      "dtypes: float64(5), int32(2), object(4)\n",
      "memory usage: 1.3+ MB\n"
     ]
    }
   ],
   "source": [
    "data.info()"
   ]
  },
  {
   "cell_type": "markdown",
   "metadata": {},
   "source": [
    "**Итак мы удалили пропуски в столбцах  name и year_of_release (доля удаленных пропусков 0,16).**\n",
    "\n",
    "**Остальные пропуски заполнили заглушками:**\n",
    "- для critic_score - заглушка 1111\n",
    "- для user_score - для nan - заглушка 1111, для 'tbd' - заглушка 2222\n",
    "\n",
    "**Привели данные к нужным типам.**"
   ]
  },
  {
   "cell_type": "markdown",
   "metadata": {},
   "source": [
    "## Расчеты"
   ]
  },
  {
   "cell_type": "markdown",
   "metadata": {},
   "source": [
    "Посчитаем суммарные продажи, создадим отдельный столбец с этими суммами"
   ]
  },
  {
   "cell_type": "code",
   "execution_count": 30,
   "metadata": {},
   "outputs": [],
   "source": [
    "data['total_sales_mln_copy'] = data['na_sales_mln_copy'] + data['eu_sales_mln_copy'] + data['jp_sales_mln_copy'] + data['other_sales_mln_copy']"
   ]
  },
  {
   "cell_type": "code",
   "execution_count": 31,
   "metadata": {},
   "outputs": [
    {
     "data": {
      "text/plain": [
       "count    16444.000000\n",
       "mean         0.536023\n",
       "std          1.558786\n",
       "min          0.000000\n",
       "25%          0.060000\n",
       "50%          0.170000\n",
       "75%          0.470000\n",
       "max         82.540000\n",
       "Name: total_sales_mln_copy, dtype: float64"
      ]
     },
     "execution_count": 31,
     "metadata": {},
     "output_type": "execute_result"
    }
   ],
   "source": [
    "data['total_sales_mln_copy'].describe()"
   ]
  },
  {
   "cell_type": "markdown",
   "metadata": {},
   "source": [
    "Минимальные продажи также 0 млн.копий игры, максимальные 82,54 млн. копий игры, медиана меньше среднего, данные скошены вправо."
   ]
  },
  {
   "cell_type": "code",
   "execution_count": 32,
   "metadata": {},
   "outputs": [
    {
     "data": {
      "text/html": [
       "<div>\n",
       "<style scoped>\n",
       "    .dataframe tbody tr th:only-of-type {\n",
       "        vertical-align: middle;\n",
       "    }\n",
       "\n",
       "    .dataframe tbody tr th {\n",
       "        vertical-align: top;\n",
       "    }\n",
       "\n",
       "    .dataframe thead th {\n",
       "        text-align: right;\n",
       "    }\n",
       "</style>\n",
       "<table border=\"1\" class=\"dataframe\">\n",
       "  <thead>\n",
       "    <tr style=\"text-align: right;\">\n",
       "      <th></th>\n",
       "      <th>name</th>\n",
       "      <th>platform</th>\n",
       "      <th>year_of_release</th>\n",
       "      <th>genre</th>\n",
       "      <th>na_sales_mln_copy</th>\n",
       "      <th>eu_sales_mln_copy</th>\n",
       "      <th>jp_sales_mln_copy</th>\n",
       "      <th>other_sales_mln_copy</th>\n",
       "      <th>critic_score</th>\n",
       "      <th>user_score</th>\n",
       "      <th>rating</th>\n",
       "      <th>total_sales_mln_copy</th>\n",
       "    </tr>\n",
       "  </thead>\n",
       "  <tbody>\n",
       "    <tr>\n",
       "      <th>16405</th>\n",
       "      <td>g1 jockey 4 2008</td>\n",
       "      <td>ps3</td>\n",
       "      <td>2008</td>\n",
       "      <td>sports</td>\n",
       "      <td>0.0</td>\n",
       "      <td>0.0</td>\n",
       "      <td>0.0</td>\n",
       "      <td>0.0</td>\n",
       "      <td>1111</td>\n",
       "      <td>1111.0</td>\n",
       "      <td>unknown</td>\n",
       "      <td>0.0</td>\n",
       "    </tr>\n",
       "    <tr>\n",
       "      <th>16438</th>\n",
       "      <td>score international baja 1000: the official game</td>\n",
       "      <td>ps2</td>\n",
       "      <td>2008</td>\n",
       "      <td>racing</td>\n",
       "      <td>0.0</td>\n",
       "      <td>0.0</td>\n",
       "      <td>0.0</td>\n",
       "      <td>0.0</td>\n",
       "      <td>1111</td>\n",
       "      <td>1111.0</td>\n",
       "      <td>unknown</td>\n",
       "      <td>0.0</td>\n",
       "    </tr>\n",
       "  </tbody>\n",
       "</table>\n",
       "</div>"
      ],
      "text/plain": [
       "                                                   name platform  \\\n",
       "16405                                  g1 jockey 4 2008      ps3   \n",
       "16438  score international baja 1000: the official game      ps2   \n",
       "\n",
       "       year_of_release   genre  na_sales_mln_copy  eu_sales_mln_copy  \\\n",
       "16405             2008  sports                0.0                0.0   \n",
       "16438             2008  racing                0.0                0.0   \n",
       "\n",
       "       jp_sales_mln_copy  other_sales_mln_copy  critic_score  user_score  \\\n",
       "16405                0.0                   0.0          1111      1111.0   \n",
       "16438                0.0                   0.0          1111      1111.0   \n",
       "\n",
       "        rating  total_sales_mln_copy  \n",
       "16405  unknown                   0.0  \n",
       "16438  unknown                   0.0  "
      ]
     },
     "execution_count": 32,
     "metadata": {},
     "output_type": "execute_result"
    }
   ],
   "source": [
    "#посмотрим на игры, которые продались как 0 млн. копий\n",
    "data[data['total_sales_mln_copy'] == 0]"
   ]
  },
  {
   "cell_type": "markdown",
   "metadata": {},
   "source": [
    "Кроме платформы, года выпуска и жанра, больше никакой информации на обе эти игры нет. Удалим их и нашего анализа."
   ]
  },
  {
   "cell_type": "code",
   "execution_count": 33,
   "metadata": {},
   "outputs": [],
   "source": [
    "#удалим\n",
    "data = data.drop(index=[16405])\n",
    "data = data.drop(index=[16438])"
   ]
  },
  {
   "cell_type": "code",
   "execution_count": 34,
   "metadata": {},
   "outputs": [
    {
     "data": {
      "text/plain": [
       "0.01"
      ]
     },
     "execution_count": 34,
     "metadata": {},
     "output_type": "execute_result"
    }
   ],
   "source": [
    "data['total_sales_mln_copy'].min()"
   ]
  },
  {
   "cell_type": "markdown",
   "metadata": {},
   "source": [
    "## Исследовательский анализ данных"
   ]
  },
  {
   "cell_type": "markdown",
   "metadata": {},
   "source": [
    "### По общим данным"
   ]
  },
  {
   "cell_type": "markdown",
   "metadata": {},
   "source": [
    "Посмотрим динамику выпуска игр по годам"
   ]
  },
  {
   "cell_type": "code",
   "execution_count": 65,
   "metadata": {},
   "outputs": [
    {
     "data": {
      "image/png": "[encoded data removed]",
      "text/plain": [
       "<Figure size 864x360 with 1 Axes>"
      ]
     },
     "metadata": {
      "needs_background": "light"
     },
     "output_type": "display_data"
    }
   ],
   "source": [
    "data.groupby('year_of_release')['name'].count().plot(\n",
    "    x='year_of_release', y='name', style='o-', title = 'Выпуск игр по годам, 1980-2016', grid=True, figsize=(12,5),\n",
    "    xlabel='Годы', ylabel='Количество игр'\n",
    ")\n",
    "plt.show()"
   ]
  },
  {
   "cell_type": "markdown",
   "metadata": {},
   "source": [
    "Достаточно ровное количество выпускающихся игр на протяжении примерно 13 лет, до 1993 года, затем развитие индустрии (большее количество людей смогли себе позволить приобрести игровые платформы, всдед за этим рынок стал развиваться и насыщаться) до 2008 года, а затем резкий спад, связанный с ростом популярности игр на мобильных устройствах."
   ]
  },
  {
   "cell_type": "code",
   "execution_count": 36,
   "metadata": {},
   "outputs": [
    {
     "data": {
      "image/png": "[encoded data removed]",
      "text/plain": [
       "<Figure size 864x360 with 1 Axes>"
      ]
     },
     "metadata": {
      "needs_background": "light"
     },
     "output_type": "display_data"
    },
    {
     "data": {
      "image/png": "[encoded data removed]",
      "text/plain": [
       "<Figure size 864x360 with 1 Axes>"
      ]
     },
     "metadata": {
      "needs_background": "light"
     },
     "output_type": "display_data"
    }
   ],
   "source": [
    "data.pivot_table(index='platform', values='name', aggfunc=('count')).sort_values(\n",
    "    by='name', ascending=False).plot(\n",
    "    kind='bar', title = 'Количество игр по платформам', grid=True, \n",
    "    figsize=(12,5), xlabel='Платформа', ylabel='Количество игр'\n",
    ")\n",
    "platform_sales = data.pivot_table(index='platform', values='total_sales_mln_copy', aggfunc=('sum')).sort_values(\n",
    "    by='total_sales_mln_copy', ascending=False)\n",
    "platform_sales.plot(\n",
    "    kind='bar', title = 'Суммарные продажи по платформам', grid=True, \n",
    "    figsize=(12,5), xlabel='Платформа', ylabel='Продажи, млн.копий'\n",
    ")\n",
    "plt.show()"
   ]
  },
  {
   "cell_type": "markdown",
   "metadata": {},
   "source": [
    "По количеству, выпущенных за все время игр:\n",
    "- абсолютное лидерство у ps2 и ds\n",
    "- во второй группе: ps3, wii, x360, psp, ps\n",
    "\n",
    "По проданным за все время копиям игр (единица изменения - млн.копий в наших данных):\n",
    "- лидирует ps2\n",
    "- во второй группе x360, ps3, wii, ds, ps.\n",
    "\n",
    "В целом лидирующая группа одна и таже. Далее посмотрим на распределение продаж по годам на лидирующих платформах по суммарным продажам:"
   ]
  },
  {
   "cell_type": "code",
   "execution_count": 72,
   "metadata": {
    "scrolled": false
   },
   "outputs": [
    {
     "data": {
      "image/png": "[encoded data removed]",
      "text/plain": [
       "<Figure size 720x360 with 1 Axes>"
      ]
     },
     "metadata": {
      "needs_background": "light"
     },
     "output_type": "display_data"
    },
    {
     "data": {
      "image/png": "[encoded data removed]",
      "text/plain": [
       "<Figure size 720x360 with 1 Axes>"
      ]
     },
     "metadata": {
      "needs_background": "light"
     },
     "output_type": "display_data"
    },
    {
     "data": {
      "image/png": "[encoded data removed]",
      "text/plain": [
       "<Figure size 720x360 with 1 Axes>"
      ]
     },
     "metadata": {
      "needs_background": "light"
     },
     "output_type": "display_data"
    },
    {
     "data": {
      "image/png": "[encoded data removed]",
      "text/plain": [
       "<Figure size 720x360 with 1 Axes>"
      ]
     },
     "metadata": {
      "needs_background": "light"
     },
     "output_type": "display_data"
    },
    {
     "data": {
      "image/png": "[encoded data removed]",
      "text/plain": [
       "<Figure size 720x360 with 1 Axes>"
      ]
     },
     "metadata": {
      "needs_background": "light"
     },
     "output_type": "display_data"
    },
    {
     "data": {
      "image/png": "[encoded data removed]",
      "text/plain": [
       "<Figure size 720x360 with 1 Axes>"
      ]
     },
     "metadata": {
      "needs_background": "light"
     },
     "output_type": "display_data"
    }
   ],
   "source": [
    "# задаем цикл\n",
    "\n",
    "for platform in platform_sales.index[:6]:\n",
    "    (data.query('platform == @platform').pivot_table(index='year_of_release', values='total_sales_mln_copy', aggfunc='sum')\n",
    "     .plot(kind='bar', grid=True, figsize=(10,5), title=platform, xlabel='Годы', ylabel='Продажи, млн.копий')\n",
    "    )\n",
    "\n",
    "plt.show()"
   ]
  },
  {
   "cell_type": "markdown",
   "metadata": {},
   "source": [
    "У всех рассмотренных платформ мы видим первоначальный рост продаж (часто очень резкий), затем постепенный спад. Сначала люди скупают \"новинки\", далее с течением времени происходит очередной технологический скачок, придумываются новые форматы, новые игры, платформы создают с учетом современных возможностей (технических/креативных)  - и пользователи вновь уходят к интересному \"новичку\".\n",
    "\n",
    "В этом контексте понятно, что для дальнейшего анализа нам стоит посмотреть на время жизни платформ, а затем выбрать наиболее перспективные из них и ограничить наши данные временным интервалом, который позволит дать актуальный прогноз."
   ]
  },
  {
   "cell_type": "code",
   "execution_count": 38,
   "metadata": {},
   "outputs": [],
   "source": [
    "#исследуем время жизни платформ\n",
    "time_platform = data.groupby('platform')['year_of_release'].agg({'max', 'min'})\n",
    "time_platform['time'] = time_platform['max'] - time_platform['min']"
   ]
  },
  {
   "cell_type": "code",
   "execution_count": 39,
   "metadata": {},
   "outputs": [
    {
     "data": {
      "text/plain": [
       "count    31.000000\n",
       "mean      7.612903\n",
       "std       6.998464\n",
       "min       0.000000\n",
       "25%       3.000000\n",
       "50%       6.000000\n",
       "75%      10.000000\n",
       "max      31.000000\n",
       "Name: time, dtype: float64"
      ]
     },
     "execution_count": 39,
     "metadata": {},
     "output_type": "execute_result"
    }
   ],
   "source": [
    "time_platform['time'].describe()"
   ]
  },
  {
   "cell_type": "markdown",
   "metadata": {},
   "source": [
    "Итак, среднее время жизни платформы = 7 лет, медианное значение 6 лет. Есть платформы-\"долгожители\" - там геймеры преданные, те, которые привыкли пользоваться только этой платформой. Максимальный срок жизни платформы в наших данных - 31 год - это pc/персональный компьютер."
   ]
  },
  {
   "cell_type": "code",
   "execution_count": 40,
   "metadata": {},
   "outputs": [
    {
     "data": {
      "text/html": [
       "<div>\n",
       "<style scoped>\n",
       "    .dataframe tbody tr th:only-of-type {\n",
       "        vertical-align: middle;\n",
       "    }\n",
       "\n",
       "    .dataframe tbody tr th {\n",
       "        vertical-align: top;\n",
       "    }\n",
       "\n",
       "    .dataframe thead th {\n",
       "        text-align: right;\n",
       "    }\n",
       "</style>\n",
       "<table border=\"1\" class=\"dataframe\">\n",
       "  <thead>\n",
       "    <tr style=\"text-align: right;\">\n",
       "      <th></th>\n",
       "      <th>max</th>\n",
       "      <th>min</th>\n",
       "      <th>time</th>\n",
       "    </tr>\n",
       "    <tr>\n",
       "      <th>platform</th>\n",
       "      <th></th>\n",
       "      <th></th>\n",
       "      <th></th>\n",
       "    </tr>\n",
       "  </thead>\n",
       "  <tbody>\n",
       "    <tr>\n",
       "      <th>ds</th>\n",
       "      <td>2013</td>\n",
       "      <td>1985</td>\n",
       "      <td>28</td>\n",
       "    </tr>\n",
       "    <tr>\n",
       "      <th>gb</th>\n",
       "      <td>2001</td>\n",
       "      <td>1988</td>\n",
       "      <td>13</td>\n",
       "    </tr>\n",
       "    <tr>\n",
       "      <th>nes</th>\n",
       "      <td>1994</td>\n",
       "      <td>1983</td>\n",
       "      <td>11</td>\n",
       "    </tr>\n",
       "    <tr>\n",
       "      <th>ps2</th>\n",
       "      <td>2011</td>\n",
       "      <td>2000</td>\n",
       "      <td>11</td>\n",
       "    </tr>\n",
       "    <tr>\n",
       "      <th>dc</th>\n",
       "      <td>2008</td>\n",
       "      <td>1998</td>\n",
       "      <td>10</td>\n",
       "    </tr>\n",
       "    <tr>\n",
       "      <th>ps</th>\n",
       "      <td>2003</td>\n",
       "      <td>1994</td>\n",
       "      <td>9</td>\n",
       "    </tr>\n",
       "    <tr>\n",
       "      <th>snes</th>\n",
       "      <td>1999</td>\n",
       "      <td>1990</td>\n",
       "      <td>9</td>\n",
       "    </tr>\n",
       "    <tr>\n",
       "      <th>2600</th>\n",
       "      <td>1989</td>\n",
       "      <td>1980</td>\n",
       "      <td>9</td>\n",
       "    </tr>\n",
       "    <tr>\n",
       "      <th>xb</th>\n",
       "      <td>2008</td>\n",
       "      <td>2000</td>\n",
       "      <td>8</td>\n",
       "    </tr>\n",
       "    <tr>\n",
       "      <th>gba</th>\n",
       "      <td>2007</td>\n",
       "      <td>2000</td>\n",
       "      <td>7</td>\n",
       "    </tr>\n",
       "    <tr>\n",
       "      <th>n64</th>\n",
       "      <td>2002</td>\n",
       "      <td>1996</td>\n",
       "      <td>6</td>\n",
       "    </tr>\n",
       "    <tr>\n",
       "      <th>gc</th>\n",
       "      <td>2007</td>\n",
       "      <td>2001</td>\n",
       "      <td>6</td>\n",
       "    </tr>\n",
       "    <tr>\n",
       "      <th>sat</th>\n",
       "      <td>1999</td>\n",
       "      <td>1994</td>\n",
       "      <td>5</td>\n",
       "    </tr>\n",
       "    <tr>\n",
       "      <th>gen</th>\n",
       "      <td>1994</td>\n",
       "      <td>1990</td>\n",
       "      <td>4</td>\n",
       "    </tr>\n",
       "    <tr>\n",
       "      <th>ng</th>\n",
       "      <td>1996</td>\n",
       "      <td>1993</td>\n",
       "      <td>3</td>\n",
       "    </tr>\n",
       "    <tr>\n",
       "      <th>ws</th>\n",
       "      <td>2001</td>\n",
       "      <td>1999</td>\n",
       "      <td>2</td>\n",
       "    </tr>\n",
       "    <tr>\n",
       "      <th>3do</th>\n",
       "      <td>1995</td>\n",
       "      <td>1994</td>\n",
       "      <td>1</td>\n",
       "    </tr>\n",
       "    <tr>\n",
       "      <th>scd</th>\n",
       "      <td>1994</td>\n",
       "      <td>1993</td>\n",
       "      <td>1</td>\n",
       "    </tr>\n",
       "    <tr>\n",
       "      <th>gg</th>\n",
       "      <td>1992</td>\n",
       "      <td>1992</td>\n",
       "      <td>0</td>\n",
       "    </tr>\n",
       "    <tr>\n",
       "      <th>pcfx</th>\n",
       "      <td>1996</td>\n",
       "      <td>1996</td>\n",
       "      <td>0</td>\n",
       "    </tr>\n",
       "    <tr>\n",
       "      <th>tg16</th>\n",
       "      <td>1995</td>\n",
       "      <td>1995</td>\n",
       "      <td>0</td>\n",
       "    </tr>\n",
       "  </tbody>\n",
       "</table>\n",
       "</div>"
      ],
      "text/plain": [
       "           max   min  time\n",
       "platform                  \n",
       "ds        2013  1985    28\n",
       "gb        2001  1988    13\n",
       "nes       1994  1983    11\n",
       "ps2       2011  2000    11\n",
       "dc        2008  1998    10\n",
       "ps        2003  1994     9\n",
       "snes      1999  1990     9\n",
       "2600      1989  1980     9\n",
       "xb        2008  2000     8\n",
       "gba       2007  2000     7\n",
       "n64       2002  1996     6\n",
       "gc        2007  2001     6\n",
       "sat       1999  1994     5\n",
       "gen       1994  1990     4\n",
       "ng        1996  1993     3\n",
       "ws        2001  1999     2\n",
       "3do       1995  1994     1\n",
       "scd       1994  1993     1\n",
       "gg        1992  1992     0\n",
       "pcfx      1996  1996     0\n",
       "tg16      1995  1995     0"
      ]
     },
     "execution_count": 40,
     "metadata": {},
     "output_type": "execute_result"
    }
   ],
   "source": [
    "# посмотрим платформы, не выпустившие релизы в 2015 году (последние полные данные по году)\n",
    "time_platform.loc[time_platform['max'] < 2015].sort_values(by='time', ascending=False)"
   ]
  },
  {
   "cell_type": "markdown",
   "metadata": {},
   "source": [
    "Среди платформ, переставших к 2015 г. выпускать новые игры есть такие, которые не продержались больше года(gg, pcfx, tg16), и \"долгожитель\" ds ушедший в 2013, так как в 2011 году начал выпускать игры 3ds."
   ]
  },
  {
   "cell_type": "code",
   "execution_count": 41,
   "metadata": {},
   "outputs": [
    {
     "data": {
      "text/html": [
       "<div>\n",
       "<style scoped>\n",
       "    .dataframe tbody tr th:only-of-type {\n",
       "        vertical-align: middle;\n",
       "    }\n",
       "\n",
       "    .dataframe tbody tr th {\n",
       "        vertical-align: top;\n",
       "    }\n",
       "\n",
       "    .dataframe thead th {\n",
       "        text-align: right;\n",
       "    }\n",
       "</style>\n",
       "<table border=\"1\" class=\"dataframe\">\n",
       "  <thead>\n",
       "    <tr style=\"text-align: right;\">\n",
       "      <th></th>\n",
       "      <th>max</th>\n",
       "      <th>min</th>\n",
       "      <th>time</th>\n",
       "    </tr>\n",
       "    <tr>\n",
       "      <th>platform</th>\n",
       "      <th></th>\n",
       "      <th></th>\n",
       "      <th></th>\n",
       "    </tr>\n",
       "  </thead>\n",
       "  <tbody>\n",
       "    <tr>\n",
       "      <th>pc</th>\n",
       "      <td>2016</td>\n",
       "      <td>1985</td>\n",
       "      <td>31</td>\n",
       "    </tr>\n",
       "    <tr>\n",
       "      <th>psp</th>\n",
       "      <td>2015</td>\n",
       "      <td>2004</td>\n",
       "      <td>11</td>\n",
       "    </tr>\n",
       "    <tr>\n",
       "      <th>x360</th>\n",
       "      <td>2016</td>\n",
       "      <td>2005</td>\n",
       "      <td>11</td>\n",
       "    </tr>\n",
       "    <tr>\n",
       "      <th>ps3</th>\n",
       "      <td>2016</td>\n",
       "      <td>2006</td>\n",
       "      <td>10</td>\n",
       "    </tr>\n",
       "    <tr>\n",
       "      <th>wii</th>\n",
       "      <td>2016</td>\n",
       "      <td>2006</td>\n",
       "      <td>10</td>\n",
       "    </tr>\n",
       "    <tr>\n",
       "      <th>3ds</th>\n",
       "      <td>2016</td>\n",
       "      <td>2011</td>\n",
       "      <td>5</td>\n",
       "    </tr>\n",
       "    <tr>\n",
       "      <th>psv</th>\n",
       "      <td>2016</td>\n",
       "      <td>2011</td>\n",
       "      <td>5</td>\n",
       "    </tr>\n",
       "    <tr>\n",
       "      <th>wiiu</th>\n",
       "      <td>2016</td>\n",
       "      <td>2012</td>\n",
       "      <td>4</td>\n",
       "    </tr>\n",
       "    <tr>\n",
       "      <th>ps4</th>\n",
       "      <td>2016</td>\n",
       "      <td>2013</td>\n",
       "      <td>3</td>\n",
       "    </tr>\n",
       "    <tr>\n",
       "      <th>xone</th>\n",
       "      <td>2016</td>\n",
       "      <td>2013</td>\n",
       "      <td>3</td>\n",
       "    </tr>\n",
       "  </tbody>\n",
       "</table>\n",
       "</div>"
      ],
      "text/plain": [
       "           max   min  time\n",
       "platform                  \n",
       "pc        2016  1985    31\n",
       "psp       2015  2004    11\n",
       "x360      2016  2005    11\n",
       "ps3       2016  2006    10\n",
       "wii       2016  2006    10\n",
       "3ds       2016  2011     5\n",
       "psv       2016  2011     5\n",
       "wiiu      2016  2012     4\n",
       "ps4       2016  2013     3\n",
       "xone      2016  2013     3"
      ]
     },
     "execution_count": 41,
     "metadata": {},
     "output_type": "execute_result"
    }
   ],
   "source": [
    "# посмотрим платформы, которые еще в строю\n",
    "actual_platform = time_platform.loc[time_platform['max'] >= 2015].sort_values(by='time', ascending=False)\n",
    "actual_platform"
   ]
  },
  {
   "cell_type": "markdown",
   "metadata": {},
   "source": [
    "Среди платформ, выпустивших релизы игр в 2015-2016 гг есть:\n",
    "- платформы-\"долгожители\", которые выпускают игры для своих преданных фанатов, о них из предыдущего анализа мы знаем, что 1. продажи упали у x360, ps3 и wii 2. pc и psp в целом приносят меньшие продажи, чем более молодые конкуренты.\n",
    "- платформы-новички (срок жизни на момент анализа 3-5 лет) рассмотрим подробнее ниже"
   ]
  },
  {
   "cell_type": "code",
   "execution_count": 42,
   "metadata": {
    "scrolled": false
   },
   "outputs": [
    {
     "data": {
      "image/png": "[encoded data removed]",
      "text/plain": [
       "<Figure size 720x360 with 1 Axes>"
      ]
     },
     "metadata": {
      "needs_background": "light"
     },
     "output_type": "display_data"
    },
    {
     "data": {
      "image/png": "[encoded data removed]",
      "text/plain": [
       "<Figure size 720x360 with 1 Axes>"
      ]
     },
     "metadata": {
      "needs_background": "light"
     },
     "output_type": "display_data"
    },
    {
     "data": {
      "image/png": "[encoded data removed]",
      "text/plain": [
       "<Figure size 720x360 with 1 Axes>"
      ]
     },
     "metadata": {
      "needs_background": "light"
     },
     "output_type": "display_data"
    },
    {
     "data": {
      "image/png": "[encoded data removed]",
      "text/plain": [
       "<Figure size 720x360 with 1 Axes>"
      ]
     },
     "metadata": {
      "needs_background": "light"
     },
     "output_type": "display_data"
    },
    {
     "data": {
      "image/png": "[encoded data removed]",
      "text/plain": [
       "<Figure size 720x360 with 1 Axes>"
      ]
     },
     "metadata": {
      "needs_background": "light"
     },
     "output_type": "display_data"
    }
   ],
   "source": [
    "for platform in actual_platform.index[5:]:\n",
    "    (data.query('platform == @platform').pivot_table(index='year_of_release', values='total_sales_mln_copy', aggfunc='sum')\n",
    "     .plot(kind='bar', figsize=(10,5), grid=True, title=platform, xlabel='Годы', ylabel='Продажи, млн.копий')\n",
    "    )\n",
    "    plt.show()"
   ]
  },
  {
   "cell_type": "markdown",
   "metadata": {},
   "source": [
    "Опишим каждую платформу (учитывая, что данные за 2016 г. неполные):\n",
    "- 3ds - первый релиз в 2011 году, сразу высокие показатели, видно тенденцию к медленному спаду: 2013 год - более 60 млн.копий продано, в 2015 году, меньше 30 млн. копий. В 2016 году вероятно будет вновь небольшое падение, на данный момент есть данные о 15 млн.копий\n",
    "- psv - первый релиз в 2011 году, продажи с 4 млн. копий в 2011 году резко выросли до 16 млн.копий в 2012 году, далее волнообразный спад продаж, в 2015 году продано чуть более 6 млн. копий, в 2016 году уже продано чуть более 4 млн.копий (будет вероятнее всего совсем небольшой спад или ровные показатели с 2015 годом)\n",
    "- wiiu - первый релиз в 2012 году, рост небольшой с 17 млн. копий продаж в 2012 году, до 23 млн.копий в 2014 году, далее снижение показателей и данные на 2016 год также вероятно покажут значимое снижение, на текущий момент в данных есть продажа менее 5 млн.копий\n",
    "- ps4 - первый релиз в 2013 году, хороший рост с 20 млн.копий до почти 120 млн. копий в 2015 году. Данные на 2016 год выглядят также вполне оптимистично, с учетом неполной информации уже продано почти 70 млн.копий. \n",
    "- xone - первый релиз в 2013 году, рост с почти 20 млн.копий до почти 60 млн. копий в 2015 году. Данные на 2016 год выглядят также вполне оптимистично, с учетом неполной информации уже продано более 25 млн.копий."
   ]
  },
  {
   "cell_type": "markdown",
   "metadata": {},
   "source": [
    "#### Выводы"
   ]
  },
  {
   "cell_type": "markdown",
   "metadata": {},
   "source": [
    "**Из-за того, что игровая индустрия очень динамичная сфера, срок жизни игровых платформ постепенно сокращается. В среднем платформа живет 6-7 лет из них 3-5 лет находится на подъеме и пике продаж, далее идет спад. Поэтому для дальнейшего анализа, нацеленного на прогнозирование будущих продаж, возьмем временной промежуток с 2013 года (то есть полных 3 года, чтобы \"поймать\" те платформы, которые находятся в периоде роста и пика).**\n",
    "\n",
    "**Перспективные платформы исходя из возраста и дохода - ps4, xone, 3ds,wiiu - молодые платформы на этапе стабилизации уровня дохода возможно небольшого снижения. Они принесли больший доход в последний учтенный полный год.**\n",
    "\n"
   ]
  },
  {
   "cell_type": "markdown",
   "metadata": {},
   "source": [
    "### По актуальному периоду"
   ]
  },
  {
   "cell_type": "code",
   "execution_count": 43,
   "metadata": {},
   "outputs": [
    {
     "name": "stdout",
     "output_type": "stream",
     "text": [
      "<class 'pandas.core.frame.DataFrame'>\n",
      "Int64Index: 2233 entries, 16 to 16443\n",
      "Data columns (total 12 columns):\n",
      " #   Column                Non-Null Count  Dtype  \n",
      "---  ------                --------------  -----  \n",
      " 0   name                  2233 non-null   object \n",
      " 1   platform              2233 non-null   object \n",
      " 2   year_of_release       2233 non-null   int32  \n",
      " 3   genre                 2233 non-null   object \n",
      " 4   na_sales_mln_copy     2233 non-null   float64\n",
      " 5   eu_sales_mln_copy     2233 non-null   float64\n",
      " 6   jp_sales_mln_copy     2233 non-null   float64\n",
      " 7   other_sales_mln_copy  2233 non-null   float64\n",
      " 8   critic_score          2233 non-null   int32  \n",
      " 9   user_score            2233 non-null   float64\n",
      " 10  rating                2233 non-null   object \n",
      " 11  total_sales_mln_copy  2233 non-null   float64\n",
      "dtypes: float64(6), int32(2), object(4)\n",
      "memory usage: 209.3+ KB\n"
     ]
    }
   ],
   "source": [
    "# создадим df по актуальному периоду, оценим его объем\n",
    "period_data = data.loc[data['year_of_release'] >= 2013]\n",
    "period_data.info()"
   ]
  },
  {
   "cell_type": "markdown",
   "metadata": {},
   "source": [
    "#### Глобальные продажи игр в разбивке по платформам."
   ]
  },
  {
   "cell_type": "code",
   "execution_count": 44,
   "metadata": {},
   "outputs": [
    {
     "data": {
      "text/html": [
       "<style type=\"text/css\">\n",
       "</style>\n",
       "<table id=\"T_52d67\">\n",
       "  <thead>\n",
       "    <tr>\n",
       "      <th class=\"blank level0\" >&nbsp;</th>\n",
       "      <th id=\"T_52d67_level0_col0\" class=\"col_heading level0 col0\" >mean</th>\n",
       "      <th id=\"T_52d67_level0_col1\" class=\"col_heading level0 col1\" >sum</th>\n",
       "      <th id=\"T_52d67_level0_col2\" class=\"col_heading level0 col2\" >life</th>\n",
       "    </tr>\n",
       "    <tr>\n",
       "      <th class=\"index_name level0\" >platform</th>\n",
       "      <th class=\"blank col0\" >&nbsp;</th>\n",
       "      <th class=\"blank col1\" >&nbsp;</th>\n",
       "      <th class=\"blank col2\" >&nbsp;</th>\n",
       "    </tr>\n",
       "  </thead>\n",
       "  <tbody>\n",
       "    <tr>\n",
       "      <th id=\"T_52d67_level0_row0\" class=\"row_heading level0 row0\" >ps4</th>\n",
       "      <td id=\"T_52d67_row0_col0\" class=\"data row0 col0\" >0.80</td>\n",
       "      <td id=\"T_52d67_row0_col1\" class=\"data row0 col1\" >314.14</td>\n",
       "      <td id=\"T_52d67_row0_col2\" class=\"data row0 col2\" >3.00</td>\n",
       "    </tr>\n",
       "    <tr>\n",
       "      <th id=\"T_52d67_level0_row1\" class=\"row_heading level0 row1\" >x360</th>\n",
       "      <td id=\"T_52d67_row1_col0\" class=\"data row1 col0\" >0.74</td>\n",
       "      <td id=\"T_52d67_row1_col1\" class=\"data row1 col1\" >136.80</td>\n",
       "      <td id=\"T_52d67_row1_col2\" class=\"data row1 col2\" >11.00</td>\n",
       "    </tr>\n",
       "    <tr>\n",
       "      <th id=\"T_52d67_level0_row2\" class=\"row_heading level0 row2\" >xone</th>\n",
       "      <td id=\"T_52d67_row2_col0\" class=\"data row2 col0\" >0.65</td>\n",
       "      <td id=\"T_52d67_row2_col1\" class=\"data row2 col1\" >159.32</td>\n",
       "      <td id=\"T_52d67_row2_col2\" class=\"data row2 col2\" >3.00</td>\n",
       "    </tr>\n",
       "    <tr>\n",
       "      <th id=\"T_52d67_level0_row3\" class=\"row_heading level0 row3\" >wii</th>\n",
       "      <td id=\"T_52d67_row3_col0\" class=\"data row3 col0\" >0.59</td>\n",
       "      <td id=\"T_52d67_row3_col1\" class=\"data row3 col1\" >13.66</td>\n",
       "      <td id=\"T_52d67_row3_col2\" class=\"data row3 col2\" >10.00</td>\n",
       "    </tr>\n",
       "    <tr>\n",
       "      <th id=\"T_52d67_level0_row4\" class=\"row_heading level0 row4\" >wiiu</th>\n",
       "      <td id=\"T_52d67_row4_col0\" class=\"data row4 col0\" >0.56</td>\n",
       "      <td id=\"T_52d67_row4_col1\" class=\"data row4 col1\" >64.63</td>\n",
       "      <td id=\"T_52d67_row4_col2\" class=\"data row4 col2\" >4.00</td>\n",
       "    </tr>\n",
       "    <tr>\n",
       "      <th id=\"T_52d67_level0_row5\" class=\"row_heading level0 row5\" >ps3</th>\n",
       "      <td id=\"T_52d67_row5_col0\" class=\"data row5 col0\" >0.53</td>\n",
       "      <td id=\"T_52d67_row5_col1\" class=\"data row5 col1\" >181.43</td>\n",
       "      <td id=\"T_52d67_row5_col2\" class=\"data row5 col2\" >10.00</td>\n",
       "    </tr>\n",
       "    <tr>\n",
       "      <th id=\"T_52d67_level0_row6\" class=\"row_heading level0 row6\" >3ds</th>\n",
       "      <td id=\"T_52d67_row6_col0\" class=\"data row6 col0\" >0.47</td>\n",
       "      <td id=\"T_52d67_row6_col1\" class=\"data row6 col1\" >143.25</td>\n",
       "      <td id=\"T_52d67_row6_col2\" class=\"data row6 col2\" >5.00</td>\n",
       "    </tr>\n",
       "    <tr>\n",
       "      <th id=\"T_52d67_level0_row7\" class=\"row_heading level0 row7\" >pc</th>\n",
       "      <td id=\"T_52d67_row7_col0\" class=\"data row7 col0\" >0.21</td>\n",
       "      <td id=\"T_52d67_row7_col1\" class=\"data row7 col1\" >39.43</td>\n",
       "      <td id=\"T_52d67_row7_col2\" class=\"data row7 col2\" >31.00</td>\n",
       "    </tr>\n",
       "    <tr>\n",
       "      <th id=\"T_52d67_level0_row8\" class=\"row_heading level0 row8\" >ds</th>\n",
       "      <td id=\"T_52d67_row8_col0\" class=\"data row8 col0\" >0.19</td>\n",
       "      <td id=\"T_52d67_row8_col1\" class=\"data row8 col1\" >1.54</td>\n",
       "      <td id=\"T_52d67_row8_col2\" class=\"data row8 col2\" >28.00</td>\n",
       "    </tr>\n",
       "    <tr>\n",
       "      <th id=\"T_52d67_level0_row9\" class=\"row_heading level0 row9\" >psv</th>\n",
       "      <td id=\"T_52d67_row9_col0\" class=\"data row9 col0\" >0.09</td>\n",
       "      <td id=\"T_52d67_row9_col1\" class=\"data row9 col1\" >32.99</td>\n",
       "      <td id=\"T_52d67_row9_col2\" class=\"data row9 col2\" >5.00</td>\n",
       "    </tr>\n",
       "    <tr>\n",
       "      <th id=\"T_52d67_level0_row10\" class=\"row_heading level0 row10\" >psp</th>\n",
       "      <td id=\"T_52d67_row10_col0\" class=\"data row10 col0\" >0.05</td>\n",
       "      <td id=\"T_52d67_row10_col1\" class=\"data row10 col1\" >3.50</td>\n",
       "      <td id=\"T_52d67_row10_col2\" class=\"data row10 col2\" >11.00</td>\n",
       "    </tr>\n",
       "  </tbody>\n",
       "</table>\n"
      ],
      "text/plain": [
       "<pandas.io.formats.style.Styler at 0x284c683af40>"
      ]
     },
     "execution_count": 44,
     "metadata": {},
     "output_type": "execute_result"
    }
   ],
   "source": [
    "period_data_pivot = period_data.pivot_table(\n",
    "    index=['platform'],\n",
    "    values = 'total_sales_mln_copy',\n",
    "    aggfunc=('mean', 'sum')\n",
    ")\n",
    "period_data_pivot['life'] = time_platform['time']\n",
    "period_data_pivot.sort_values(by='mean', ascending=False).style.format('{:.2f}')"
   ]
  },
  {
   "cell_type": "markdown",
   "metadata": {},
   "source": [
    "- По средним продажам за год лидируют: ps4, x360, xone. Хотя последние две платформы по суммарным продажам за актуальный период уступают ps3\n",
    "- Совсем небольшие средние продажи у psp (старая платформа, на закате жизни) и psv (срок жизни для платформы уже зрелый, учитывая современное состояние индустрии, эту платформу в рекламных акциях учитывать не стоит)"
   ]
  },
  {
   "cell_type": "code",
   "execution_count": 83,
   "metadata": {
    "scrolled": false
   },
   "outputs": [
    {
     "data": {
      "image/png": "[encoded data removed]",
      "text/plain": [
       "<Figure size 720x720 with 1 Axes>"
      ]
     },
     "metadata": {
      "needs_background": "light"
     },
     "output_type": "display_data"
    }
   ],
   "source": [
    "period_data.boxplot('total_sales_mln_copy', by='platform', figsize=(10,10))\n",
    "plt.show()"
   ]
  },
  {
   "cell_type": "markdown",
   "metadata": {},
   "source": [
    "##### Выводы"
   ]
  },
  {
   "cell_type": "markdown",
   "metadata": {},
   "source": [
    "Мы видим множество выбросов, большую скошенность вправо с длинным хвостом значений - крупных, но редких покупок. На лидирующих позициях по межквартильному размаху все те же платформы: ps4, wii, x360, xone - так как распределение сдвинуто вправо, в этих платформах большинство значений находится в достаточно высокой зоне продаж. Стоит также обратить внимание на 3ds и ps3, площадь высоких частотных значений у них ниже, но есть большое количество выбросов, что двигает за собой среднее.\n",
    "Стабильные данные по продажам можем оценить по медиане - выше медианы продаж у  ps4, wii, x360, xone, wiiu"
   ]
  },
  {
   "cell_type": "markdown",
   "metadata": {},
   "source": [
    "#### Корреляция между отзывами и продажами"
   ]
  },
  {
   "cell_type": "markdown",
   "metadata": {},
   "source": [
    "Посмотрим зависят ли продажи от отзывов критиков и пользователей."
   ]
  },
  {
   "cell_type": "code",
   "execution_count": 46,
   "metadata": {},
   "outputs": [],
   "source": [
    "# Функция для вывода на экран данных о корреляции, а также диаграмм рассеяния\n",
    "def corr_s(data, name=''):\n",
    "    data_corr = data.loc[(data['critic_score'] != 1111) & (data['user_score'] != 1111) & (data['user_score'] != 2222)]\n",
    "    data_corr_print = data_corr[['total_sales_mln_copy', 'critic_score', 'user_score']].corr()\n",
    "    print(f'____Корреляция_____{name}')\n",
    "    print(data_corr_print)\n",
    "    \n",
    "    score_critic = data.loc[data['critic_score'] != 1111].plot(\n",
    "    x='critic_score', y='total_sales_mln_copy', kind='scatter', alpha=0.3, title=f'РАСПРЕДЕЛЕНИЕ:продажи-оценка критиков_{name}',\n",
    "    )\n",
    "    score_user = data.loc[(data['user_score'] != 1111) & (data['user_score'] != 2222)].plot(\n",
    "    x='user_score', y='total_sales_mln_copy', kind='scatter', alpha=0.3, title=f'РАСПРЕДЕЛЕНИЕ:продажи-оценка пользователей_{name}'\n",
    "    )\n",
    "    return score_critic, score_user"
   ]
  },
  {
   "cell_type": "markdown",
   "metadata": {},
   "source": [
    "Первой рассмотрим самую успешную платформу - ps4"
   ]
  },
  {
   "cell_type": "code",
   "execution_count": 84,
   "metadata": {},
   "outputs": [
    {
     "name": "stdout",
     "output_type": "stream",
     "text": [
      "____Корреляция_____ps4\n",
      "                      total_sales_mln_copy  critic_score  user_score\n",
      "total_sales_mln_copy              1.000000      0.405895   -0.033625\n",
      "critic_score                      0.405895      1.000000    0.557654\n",
      "user_score                       -0.033625      0.557654    1.000000\n"
     ]
    },
    {
     "data": {
      "image/png": "[encoded data removed]",
      "text/plain": [
       "<Figure size 432x288 with 1 Axes>"
      ]
     },
     "metadata": {
      "needs_background": "light"
     },
     "output_type": "display_data"
    },
    {
     "data": {
      "image/png": "[encoded data removed]",
      "text/plain": [
       "<Figure size 432x288 with 1 Axes>"
      ]
     },
     "metadata": {
      "needs_background": "light"
     },
     "output_type": "display_data"
    }
   ],
   "source": [
    "ps4 = period_data.loc[period_data['platform'] == 'ps4']\n",
    "corr_s(ps4, name='ps4')\n",
    "plt.show()"
   ]
  },
  {
   "cell_type": "markdown",
   "metadata": {},
   "source": [
    "Корреляция между отзывами критиков и глобальными продажами 0,4 - положительная, слабая. То есть хорошие отзывы критиков слабо, но все же влияют на увеличение глобальных продаж. А вот хорошие оценки пользователей дают очень слабую отрицательную корреляцию (-0,03) продаж, практически нулевую."
   ]
  },
  {
   "cell_type": "markdown",
   "metadata": {},
   "source": [
    "Далее рассмотрим следующие по продажам в 2015 году платформы - xone и 3ds."
   ]
  },
  {
   "cell_type": "code",
   "execution_count": 85,
   "metadata": {
    "scrolled": false
   },
   "outputs": [
    {
     "name": "stdout",
     "output_type": "stream",
     "text": [
      "____Корреляция_____xone\n",
      "                      total_sales_mln_copy  critic_score  user_score\n",
      "total_sales_mln_copy              1.000000      0.410422   -0.094003\n",
      "critic_score                      0.410422      1.000000    0.472462\n",
      "user_score                       -0.094003      0.472462    1.000000\n"
     ]
    },
    {
     "data": {
      "image/png": "[encoded data removed]",
      "text/plain": [
       "<Figure size 432x288 with 1 Axes>"
      ]
     },
     "metadata": {
      "needs_background": "light"
     },
     "output_type": "display_data"
    },
    {
     "data": {
      "image/png": "[encoded data removed]",
      "text/plain": [
       "<Figure size 432x288 with 1 Axes>"
      ]
     },
     "metadata": {
      "needs_background": "light"
     },
     "output_type": "display_data"
    }
   ],
   "source": [
    "xone = period_data.loc[period_data['platform'] == 'xone']\n",
    "corr_s(xone, name='xone')\n",
    "plt.show()"
   ]
  },
  {
   "cell_type": "markdown",
   "metadata": {},
   "source": [
    "Корреляция отзывов критиков с глобальными продажами так же как с ps4 - слабая положительная (0,4), но эта платформа еще менее зависимая от оценки пользователей, хотя это незаметное влияние (-0,09) так же как с ps4 имеет отрицательный вектор."
   ]
  },
  {
   "cell_type": "code",
   "execution_count": 86,
   "metadata": {},
   "outputs": [
    {
     "name": "stdout",
     "output_type": "stream",
     "text": [
      "____Корреляция_____3ds\n",
      "                      total_sales_mln_copy  critic_score  user_score\n",
      "total_sales_mln_copy              1.000000      0.339235    0.272990\n",
      "critic_score                      0.339235      1.000000    0.769536\n",
      "user_score                        0.272990      0.769536    1.000000\n"
     ]
    },
    {
     "data": {
      "image/png": "[encoded data removed]",
      "text/plain": [
       "<Figure size 432x288 with 1 Axes>"
      ]
     },
     "metadata": {
      "needs_background": "light"
     },
     "output_type": "display_data"
    },
    {
     "data": {
      "image/png": "[encoded data removed]",
      "text/plain": [
       "<Figure size 432x288 with 1 Axes>"
      ]
     },
     "metadata": {
      "needs_background": "light"
     },
     "output_type": "display_data"
    }
   ],
   "source": [
    "III_ds = period_data.loc[period_data['platform'] == '3ds']\n",
    "corr_s(III_ds, name='3ds')\n",
    "plt.show()"
   ]
  },
  {
   "cell_type": "markdown",
   "metadata": {},
   "source": [
    "В этой платформе ситуация немного другая, продажи слабо но, все же зависят от хороших отзывов критиков (слабая положительная корреляция 0,33) и пользователей (слабая положительная корреляция 0,27)."
   ]
  },
  {
   "cell_type": "markdown",
   "metadata": {},
   "source": [
    "Кроме того, на всех трех платфрмах отзывы критиков и отзывы пользователей подвержены корреляции даже больше, чем продажи\n",
    "- на ps4 - средняя положительная зависимость между хорошими отзывами критиков и пользователей (0,55)\n",
    "- на xone - слабая положительная зависимость между хорошими отзывами критиков и пользователей(0,47)\n",
    "- на 3ds -  высокая положительная зависимость между хорошими отзывами критиков и пользователей(0.76) "
   ]
  },
  {
   "cell_type": "markdown",
   "metadata": {},
   "source": [
    "##### Выводы"
   ]
  },
  {
   "cell_type": "markdown",
   "metadata": {},
   "source": [
    "На платформах ps4 и xone слабая зависимость между хорошими отзывами критиков и глобальными продажами. Незначительная отрицательная корреляция между отзывами игроков и продажами.\n",
    "На 3ds слабая положительная корреляция как между отзывами критиков и продажами, так и между отзывами пользователей и продажами.\n",
    "На всех трех платформах отзывы критиков и отзывы пользователей взаимосвязаны достаточно заметно.\n",
    "\n",
    "**В целом можно сказать, что немногие пользователи опираются на чьи-либо отзывы при покупке игры. Но влиятие критиков все же более заметно. Так же заметна взаимосвязь между хорошими отзывами критиков и пользователей.**"
   ]
  },
  {
   "cell_type": "markdown",
   "metadata": {},
   "source": [
    "#### Жанры: распределение и доходность"
   ]
  },
  {
   "cell_type": "code",
   "execution_count": 50,
   "metadata": {},
   "outputs": [
    {
     "data": {
      "text/plain": [
       "12"
      ]
     },
     "execution_count": 50,
     "metadata": {},
     "output_type": "execute_result"
    }
   ],
   "source": [
    "# посмотрим сколько жанров всего в данных по актуальному периоду\n",
    "len(period_data['genre'].unique())"
   ]
  },
  {
   "cell_type": "code",
   "execution_count": 51,
   "metadata": {},
   "outputs": [
    {
     "data": {
      "text/plain": [
       "action          766\n",
       "role-playing    292\n",
       "adventure       245\n",
       "sports          214\n",
       "shooter         187\n",
       "misc            155\n",
       "racing           85\n",
       "fighting         80\n",
       "platform         74\n",
       "simulation       62\n",
       "strategy         56\n",
       "puzzle           17\n",
       "Name: genre, dtype: int64"
      ]
     },
     "execution_count": 51,
     "metadata": {},
     "output_type": "execute_result"
    }
   ],
   "source": [
    "# распределение игр по жанрам в актуальном периоде\n",
    "period_data['genre'].value_counts()"
   ]
  },
  {
   "cell_type": "markdown",
   "metadata": {},
   "source": [
    "Большее количество игр в жанре action/экшен, примерно равные доли у ролевых игр/role-playing, adventure и спортивных игр. На 4 месте - шутеры.\n",
    "\n",
    "Посмотрим как продавались игры за полный исследуемый период"
   ]
  },
  {
   "cell_type": "code",
   "execution_count": 87,
   "metadata": {},
   "outputs": [
    {
     "data": {
      "image/png": "[encoded data removed]",
      "text/plain": [
       "<Figure size 720x360 with 1 Axes>"
      ]
     },
     "metadata": {
      "needs_background": "light"
     },
     "output_type": "display_data"
    }
   ],
   "source": [
    "period_data.pivot_table(\n",
    "    index='genre', values='total_sales_mln_copy', aggfunc='sum'\n",
    ").sort_values(by='total_sales_mln_copy', ascending=False).plot(\n",
    "    kind='bar', figsize=(10,5), grid=True, title='Общие продажи по жанрам: c 2013 по 2016',\n",
    "      xlabel='Жанры', ylabel='Продажи, млн.копий'\n",
    "     )\n",
    "plt.show()"
   ]
  },
  {
   "cell_type": "markdown",
   "metadata": {},
   "source": [
    "Экшен также лидирует по глабальным продажам в актуальном периоде - более 300 млн.копий, на втором месте шутеры - более 230 млн. проданных копий, далее спортивные и ролевые игры с почти 150 млн. копий продаж. Остальные жанры заметно отстают, хуже всего продаются стратегии и пазлы - менее 20 млн.копий.\n",
    "\n",
    "Далее оценим продажи жанров по каждому исследуемому году в актуальном периоде (помним, что данные за 2016 год неполные)"
   ]
  },
  {
   "cell_type": "code",
   "execution_count": 88,
   "metadata": {},
   "outputs": [
    {
     "data": {
      "image/png": "[encoded data removed]",
      "text/plain": [
       "<Figure size 720x360 with 1 Axes>"
      ]
     },
     "metadata": {
      "needs_background": "light"
     },
     "output_type": "display_data"
    }
   ],
   "source": [
    "period_data.pivot_table(\n",
    "    index='genre', columns='year_of_release', values='total_sales_mln_copy', aggfunc='sum'\n",
    ").plot(kind='bar', figsize=(10,5), grid=True, title='Жанры. Продажи в разбивке по годам (2013-2016)',\n",
    "      xlabel='Жанры', ylabel='Продажи, млн.копий')\n",
    "plt.show()"
   ]
  },
  {
   "cell_type": "markdown",
   "metadata": {},
   "source": [
    " - для экшена лучший год продаж 2013 (120 млн. проданных копий), далее падение продаж (2015 год - 70 млн.копий)\n",
    " - шутеры наоборот идут в небольшой рост каждый год, от 60 млн. копий постепеннно наращивая к 70 млн. копий продаж.\n",
    " - ролевые игры наибольшие продажи показали в 2014 году, около 50 млн.копий, далее падение в 2015 до 38 млн. проданных копий\n",
    " - спортивные игры, похожая картина с ролевыми играми: наибольшие продажи в 2015 около 45 млн.копий, но падение продаж в 2015 году было меньшим, чем у ролевых игр.\n",
    "  - в остальных жанрах ситуация похожая, есть пиковый год (2013 или 2014), затем падение продаж. Выделяется только adventure - продажи в жанре небольшие (все годы менее 10 млн. копий), но пиковый для них показатель зафиксирован в 2015 году. Эти игры, как и шутеры показали небольшой рост продаж.\n",
    "  - в 2016 году (данные неполные) - по уже проданным копиям лидируют шутеры (около 40 млн. копий), эшены (30 млн. копий продано), спорт (более 200 млн.копий) и ролевые игры (около 20 млн. копий).\n",
    " \n",
    " \n",
    " **Несмотря на падение, количество проданных копий у экшен-игр большое, перспективы обвала нет. Шутеры находились в фазе роста продаж и продажи в 2016 году уже выше экшен игр. Ролевые игры и спорт также показывают неплохие продажи, хотя заметно снижение показателей. Среди оставшихся жанров - в неполных данных 2016 года больше копий уже продали adventure и fiting. Хуже всего продаются пазлы.**"
   ]
  },
  {
   "cell_type": "markdown",
   "metadata": {},
   "source": [
    "Оценим стабильность продаж по жанрам, посмотрев на среднее и разброс значений, а также на медиану и распределение"
   ]
  },
  {
   "cell_type": "code",
   "execution_count": 54,
   "metadata": {
    "scrolled": false
   },
   "outputs": [
    {
     "data": {
      "text/html": [
       "<div>\n",
       "<style scoped>\n",
       "    .dataframe tbody tr th:only-of-type {\n",
       "        vertical-align: middle;\n",
       "    }\n",
       "\n",
       "    .dataframe tbody tr th {\n",
       "        vertical-align: top;\n",
       "    }\n",
       "\n",
       "    .dataframe thead th {\n",
       "        text-align: right;\n",
       "    }\n",
       "</style>\n",
       "<table border=\"1\" class=\"dataframe\">\n",
       "  <thead>\n",
       "    <tr style=\"text-align: right;\">\n",
       "      <th></th>\n",
       "      <th>mean</th>\n",
       "      <th>std</th>\n",
       "    </tr>\n",
       "    <tr>\n",
       "      <th>genre</th>\n",
       "      <th></th>\n",
       "      <th></th>\n",
       "    </tr>\n",
       "  </thead>\n",
       "  <tbody>\n",
       "    <tr>\n",
       "      <th>shooter</th>\n",
       "      <td>1.245882</td>\n",
       "      <td>2.014107</td>\n",
       "    </tr>\n",
       "    <tr>\n",
       "      <th>sports</th>\n",
       "      <td>0.703972</td>\n",
       "      <td>1.219237</td>\n",
       "    </tr>\n",
       "    <tr>\n",
       "      <th>platform</th>\n",
       "      <td>0.576081</td>\n",
       "      <td>0.806808</td>\n",
       "    </tr>\n",
       "    <tr>\n",
       "      <th>role-playing</th>\n",
       "      <td>0.499623</td>\n",
       "      <td>1.353164</td>\n",
       "    </tr>\n",
       "    <tr>\n",
       "      <th>racing</th>\n",
       "      <td>0.469294</td>\n",
       "      <td>0.964101</td>\n",
       "    </tr>\n",
       "    <tr>\n",
       "      <th>fighting</th>\n",
       "      <td>0.441375</td>\n",
       "      <td>1.048883</td>\n",
       "    </tr>\n",
       "    <tr>\n",
       "      <th>action</th>\n",
       "      <td>0.420196</td>\n",
       "      <td>1.253909</td>\n",
       "    </tr>\n",
       "    <tr>\n",
       "      <th>misc</th>\n",
       "      <td>0.405290</td>\n",
       "      <td>1.007985</td>\n",
       "    </tr>\n",
       "    <tr>\n",
       "      <th>simulation</th>\n",
       "      <td>0.350968</td>\n",
       "      <td>0.849163</td>\n",
       "    </tr>\n",
       "    <tr>\n",
       "      <th>puzzle</th>\n",
       "      <td>0.186471</td>\n",
       "      <td>0.325172</td>\n",
       "    </tr>\n",
       "    <tr>\n",
       "      <th>strategy</th>\n",
       "      <td>0.180000</td>\n",
       "      <td>0.279441</td>\n",
       "    </tr>\n",
       "    <tr>\n",
       "      <th>adventure</th>\n",
       "      <td>0.096490</td>\n",
       "      <td>0.216445</td>\n",
       "    </tr>\n",
       "  </tbody>\n",
       "</table>\n",
       "</div>"
      ],
      "text/plain": [
       "                  mean       std\n",
       "genre                           \n",
       "shooter       1.245882  2.014107\n",
       "sports        0.703972  1.219237\n",
       "platform      0.576081  0.806808\n",
       "role-playing  0.499623  1.353164\n",
       "racing        0.469294  0.964101\n",
       "fighting      0.441375  1.048883\n",
       "action        0.420196  1.253909\n",
       "misc          0.405290  1.007985\n",
       "simulation    0.350968  0.849163\n",
       "puzzle        0.186471  0.325172\n",
       "strategy      0.180000  0.279441\n",
       "adventure     0.096490  0.216445"
      ]
     },
     "execution_count": 54,
     "metadata": {},
     "output_type": "execute_result"
    }
   ],
   "source": [
    "# среднее и std\n",
    "genre_stat = period_data.pivot_table(\n",
    "    index='genre', values='total_sales_mln_copy', aggfunc=('mean',np.std)\n",
    ").sort_values(by='mean', ascending=False)\n",
    "genre_stat"
   ]
  },
  {
   "cell_type": "code",
   "execution_count": 55,
   "metadata": {},
   "outputs": [
    {
     "data": {
      "image/png": "[encoded data removed]",
      "text/plain": [
       "<Figure size 1080x720 with 1 Axes>"
      ]
     },
     "metadata": {
      "needs_background": "light"
     },
     "output_type": "display_data"
    }
   ],
   "source": [
    "# боксплот по жанрам\n",
    "boxplot_genre = period_data.boxplot('total_sales_mln_copy', by='genre', figsize=(15,10))"
   ]
  },
  {
   "cell_type": "markdown",
   "metadata": {},
   "source": [
    "##### Выводы"
   ]
  },
  {
   "cell_type": "markdown",
   "metadata": {},
   "source": [
    "Самый высокий средний показатель продаж у шутеров, далее следуют спорт, платформы и ролевые игры. Но в продажах во всех жанрах мы видим большое std, в данных много выбросов и они тянут за собой среднее.\n",
    "\n",
    "Распределения по всем данным скошены вправо, много выбросов, то есть редких, но больших значений (вероятно это продажи в пиковый период распространения, какой-либо популярной игры/игр, после чего цифры стабилизируются). Надежнее всего выглядит плотность значений продаж у шутеров, платформ и спорта. Экшен-игры показывают большее количество выбросов - экстремально высоких, но не частых продаж."
   ]
  },
  {
   "cell_type": "markdown",
   "metadata": {},
   "source": [
    "## Портрет игрока по региону продаж"
   ]
  },
  {
   "cell_type": "markdown",
   "metadata": {},
   "source": [
    "- Составим портрет пользователя в Европе, Америке и Японии.\n",
    "- Определим для пользователя каждого региона (NA, EU, JP) в контексте продаж: самые популярные платформы (топ-5), самые популярные жанры (топ-5). \n",
    "- Посмотрим влияет ли рейтинг ESRB(возрастная метка) на продажи в отдельном регионе?"
   ]
  },
  {
   "cell_type": "markdown",
   "metadata": {},
   "source": [
    "### Платформы: топ-5"
   ]
  },
  {
   "cell_type": "code",
   "execution_count": 56,
   "metadata": {
    "scrolled": false
   },
   "outputs": [
    {
     "name": "stdout",
     "output_type": "stream",
     "text": [
      "\n",
      "Топ-5 платформ по совокупным продажам в Америке(na_sales_mln_copy), Европе(eu_sales_mln_copy) и Японии(jp_sales_mln_copy)\n"
     ]
    },
    {
     "data": {
      "image/png": "[encoded data removed]",
      "text/plain": [
       "<Figure size 720x360 with 1 Axes>"
      ]
     },
     "metadata": {},
     "output_type": "display_data"
    },
    {
     "data": {
      "image/png": "[encoded data removed]",
      "text/plain": [
       "<Figure size 720x360 with 1 Axes>"
      ]
     },
     "metadata": {},
     "output_type": "display_data"
    },
    {
     "data": {
      "image/png": "[encoded data removed]",
      "text/plain": [
       "<Figure size 720x360 with 1 Axes>"
      ]
     },
     "metadata": {},
     "output_type": "display_data"
    }
   ],
   "source": [
    "print('')\n",
    "print(\n",
    "    'Топ-5 платформ по совокупным продажам в Америке(na_sales_mln_copy), Европе(eu_sales_mln_copy) и Японии(jp_sales_mln_copy)'\n",
    ")\n",
    "for country in period_data.loc[:,['na_sales_mln_copy', 'eu_sales_mln_copy', 'jp_sales_mln_copy']]:\n",
    "    period_data.groupby('platform')[country].sum().sort_values(ascending=False)[:5].plot(\n",
    "        kind='pie', autopct='%1.1f%%', figsize=(10,5), ylabel=country.upper())\n",
    "    plt.show()"
   ]
  },
  {
   "cell_type": "markdown",
   "metadata": {},
   "source": [
    "- Во всех рассматриваемых регионах в топ-5 есть: ps4, ps3 и 3ds.\n",
    "- ps4 лидирует в Америке (28% продаж) и в Европе (42% продаж), а в Японии занимает только 4 место с долей продаж 11%\n",
    "- ps3 на втором месте по продажам в Европе и Японии\n",
    "- 3ds явный лидер по продажам в Японии (49%), и замыкает пятерку в Америке (9,9%) и Европе (9,3%)\n",
    "- xone, x360 хорошо продаются в Европе  и Америке  и не входит в топ-5 по продажам в Японии\n",
    "- psv и wiiu хорошо продаются в Японии и отсутствует в топ-5 в Европе и Америке"
   ]
  },
  {
   "cell_type": "markdown",
   "metadata": {},
   "source": [
    "### Жанры: топ-5"
   ]
  },
  {
   "cell_type": "code",
   "execution_count": 57,
   "metadata": {
    "scrolled": false
   },
   "outputs": [
    {
     "name": "stdout",
     "output_type": "stream",
     "text": [
      "\n",
      "Топ-5 жанров по совокупным продажам в Америке(na_sales_mln_copy), Европе(eu_sales_mln_copy) и Японии(jp_sales_mln_copy)\n"
     ]
    },
    {
     "data": {
      "image/png": "[encoded data removed]",
      "text/plain": [
       "<Figure size 720x360 with 1 Axes>"
      ]
     },
     "metadata": {},
     "output_type": "display_data"
    },
    {
     "data": {
      "image/png": "[encoded data removed]",
      "text/plain": [
       "<Figure size 720x360 with 1 Axes>"
      ]
     },
     "metadata": {},
     "output_type": "display_data"
    },
    {
     "data": {
      "image/png": "[encoded data removed]",
      "text/plain": [
       "<Figure size 720x360 with 1 Axes>"
      ]
     },
     "metadata": {},
     "output_type": "display_data"
    }
   ],
   "source": [
    "print('')\n",
    "print(\n",
    "    'Топ-5 жанров по совокупным продажам в Америке(na_sales_mln_copy), Европе(eu_sales_mln_copy) и Японии(jp_sales_mln_copy)'\n",
    ")\n",
    "for country in period_data.loc[:,['na_sales_mln_copy', 'eu_sales_mln_copy', 'jp_sales_mln_copy']]:\n",
    "    period_data.groupby('genre')[country].sum().sort_values(ascending=False)[:5].plot(\n",
    "        kind='pie', autopct='%1.1f%%', figsize=(10,5), ylabel=country.upper(), labeldistance=0.9)\n",
    "    plt.show()"
   ]
  },
  {
   "cell_type": "markdown",
   "metadata": {},
   "source": [
    "- Во всех странах в топ-5 жанров есть: ролевые игры, экшены и шутеры.\n",
    "- В Европе и Америке совпадают жанры занимающие с 1 по 4 места, распределения по долям этих жанров также очень похожее: 1 место- экшен игры, 2 место - шутеры, 3 место - спорт и 4 место - ролевые игры.\n",
    "- В Европе на 5 месте - рэйсинг.\n",
    "- В Америке на 5 месте - misc\n",
    "- В Японии два жанра охватывают почти 80% продаж: на первом месте - ролевые игры (44 % продаж), на втором - экшен (35% продаж)\n",
    "- В Японии шутеры занимают последнее место в топ-5, с долей 5% (в Европе - 2 место и 27%, в Америке - также 2 место с долей 29%)\n",
    "- Файтинг - уникальный для Япони жанр в топ-5 (доля 6%)\n",
    "- Рэйсинг - уникальный для Европы жанр в топ-5 (доля 6%)"
   ]
  },
  {
   "cell_type": "markdown",
   "metadata": {},
   "source": [
    "### Зависимость от возрастного маркета игр (ESRB)"
   ]
  },
  {
   "cell_type": "markdown",
   "metadata": {},
   "source": [
    "В исходных данных было много пропусков в графе - рейтинг, мы заполнили их значением unknown. Посмотрим долю этих пропусков в данных за актуальный период."
   ]
  },
  {
   "cell_type": "code",
   "execution_count": 58,
   "metadata": {},
   "outputs": [
    {
     "data": {
      "text/plain": [
       "0.43752798925212716"
      ]
     },
     "execution_count": 58,
     "metadata": {},
     "output_type": "execute_result"
    }
   ],
   "source": [
    "len(period_data.query('rating == \"unknown\"')) / len(period_data)"
   ]
  },
  {
   "cell_type": "markdown",
   "metadata": {},
   "source": [
    "Для 43% данных о продажах рейтинг игры неизвестен. Далее посмотрим как распределились продажи по известным рейтингам для оставшихся 60% случаев продаж (значение 'unknown' не будем отфильтровывать для наглядности)"
   ]
  },
  {
   "cell_type": "code",
   "execution_count": 59,
   "metadata": {},
   "outputs": [
    {
     "data": {
      "text/plain": [
       "<AxesSubplot:title={'center':'Продажи в зависимости от рейтинга ESRB'}, xlabel='рейтинг'>"
      ]
     },
     "execution_count": 59,
     "metadata": {},
     "output_type": "execute_result"
    },
    {
     "data": {
      "image/png": "[encoded data removed]",
      "text/plain": [
       "<Figure size 720x360 with 1 Axes>"
      ]
     },
     "metadata": {
      "needs_background": "light"
     },
     "output_type": "display_data"
    }
   ],
   "source": [
    "age_marker = period_data.pivot_table(\n",
    "    index='rating', values=('na_sales_mln_copy', 'eu_sales_mln_copy', 'jp_sales_mln_copy'), aggfunc=('sum')\n",
    ")\n",
    "age_marker.plot(kind='bar', figsize=(10,5), grid=True, title='Продажи в зависимости от рейтинга ESRB', xlabel='рейтинг')"
   ]
  },
  {
   "cell_type": "markdown",
   "metadata": {},
   "source": [
    "Картина продаж по рейтингам в Европе и Америке очень похожа.\n",
    "- Лидируют с большим отрывом игры с возрастным рейтингом М (17+) - в Европе  более 140 млн. проданных копий, в Америке более 160 млн.)\n",
    "- На втором месте игры с меткой Е(для всех возрастов) - более 80 млн. копий продано в Европе, около 80 млн. копий - в Америке\n",
    "- На третьем месте с примерно одинаковыми цифрами, игры с возрастными метками Е10+ (для всех от 10 лет) и Т (подростки 13+): в Европе продано более 40 млн. копий игр каждой из указанных категорий, в Америке - 50 млн. копий.\n",
    "\n",
    "В Японии ситуация совсем иная:\n",
    "- нет таких больших скачков в распределении продаж по рейтингам\n",
    "- с небольшим перевесом больше покупают игры с возрастной меткой Т (13+), примерно одинаковые показатели у игр E (для всех) и М (17+), хуже всего продаются игры с рейтингом Е10+"
   ]
  },
  {
   "cell_type": "markdown",
   "metadata": {},
   "source": [
    "Проведем уточнение данных, выделив для каждой возрастной группы игр самые продаваемые жанры по регионам."
   ]
  },
  {
   "cell_type": "code",
   "execution_count": 60,
   "metadata": {
    "scrolled": false
   },
   "outputs": [
    {
     "data": {
      "image/png": "[encoded data removed]",
      "text/plain": [
       "<Figure size 720x360 with 1 Axes>"
      ]
     },
     "metadata": {
      "needs_background": "light"
     },
     "output_type": "display_data"
    },
    {
     "data": {
      "image/png": "[encoded data removed]",
      "text/plain": [
       "<Figure size 720x360 with 1 Axes>"
      ]
     },
     "metadata": {
      "needs_background": "light"
     },
     "output_type": "display_data"
    },
    {
     "data": {
      "image/png": "[encoded data removed]",
      "text/plain": [
       "<Figure size 720x360 with 1 Axes>"
      ]
     },
     "metadata": {
      "needs_background": "light"
     },
     "output_type": "display_data"
    },
    {
     "data": {
      "image/png": "[encoded data removed]",
      "text/plain": [
       "<Figure size 720x360 with 1 Axes>"
      ]
     },
     "metadata": {
      "needs_background": "light"
     },
     "output_type": "display_data"
    }
   ],
   "source": [
    "for i in age_marker.index[:4]:\n",
    "    period_data.query('rating == @i').pivot_table(\n",
    "    index='genre', values=('na_sales_mln_copy', 'jp_sales_mln_copy', 'eu_sales_mln_copy'), aggfunc='sum'\n",
    "    ).plot(kind='bar', figsize=(10,5), xlabel='жанры', title=f'Жанровые предпочтения в связи с возрастной меткой_ {i}_')"
   ]
  },
  {
   "cell_type": "markdown",
   "metadata": {},
   "source": [
    "- рейтинг Е (игры для всех возрастов) - по продажам в Европе и Америке с большим отрывом лидируют спорт-игры, в Японии - экшены и платформы\n",
    "- рейтинг Е10+ (игры для всех от 10 лет) - по продажам в Европе и Америке с большим отрывом лидируют экшены, в Японии - шутеры\n",
    "- рейтинг М (17+) - во всех регионах в лидерах экшены, шутеры и ролевые игры\n",
    "- рейтин Т (подростки от 13+) - самая разнообразная картина продаж по жанрам: в Европе и Америке лидируют шутеры и экшены, на третьем месте ролевые игры и спорт; в Японии - лидируют ролевые игры, экшены и файтинг"
   ]
  },
  {
   "cell_type": "markdown",
   "metadata": {},
   "source": [
    "По рейтингу игр ESRB и их продажам в Европе и Америке выделить узкую возрастную группу игроков, дающих большие продажи, сложно, так как больше всего продаются игры для всех и игры с пометкой от 17+. А вот в Японии можно все же сузить возрастную группу - большие продажи приносят игры для подростков 13+."
   ]
  },
  {
   "cell_type": "markdown",
   "metadata": {},
   "source": [
    "### Выводы"
   ]
  },
  {
   "cell_type": "markdown",
   "metadata": {},
   "source": [
    "Портрет пользователя в Америке и Европе в большей части совпадает и в популярных платформах, и в полулярных жанрах, и в продажах игр с указанием возрастного рейтинга.\n",
    "Япония отличается во всех исследуемых параметрах, при подготовке рекламных компаний это стоит учитывать."
   ]
  },
  {
   "cell_type": "markdown",
   "metadata": {},
   "source": [
    "## Статистика. Проверка гипотез."
   ]
  },
  {
   "cell_type": "markdown",
   "metadata": {},
   "source": [
    "Далее проверим гипотезы о равенстве средних двух генеральных совокупностей, проведя т-тесты."
   ]
  },
  {
   "cell_type": "markdown",
   "metadata": {},
   "source": [
    "Уровень значимости alpha примем за 0.05, общепринятое значение, которое позволит уменьшить риск (в отличие от 0,01) ошибки (например, риск не отвергнуть ложную нулевую гипотезу)"
   ]
  },
  {
   "cell_type": "markdown",
   "metadata": {},
   "source": [
    "### Средние пользовательские рейтинги платформ Xbox One и PC одинаковые"
   ]
  },
  {
   "cell_type": "markdown",
   "metadata": {},
   "source": [
    "**Н0 (нулевая гипотеза)** Средние пользовательские рейтинги платформ Xbox One и PC равны\n",
    "\n",
    "**Н1 (альтернативная гипотеза)** Средние пользовательские рейтинги платформ Xbox One и PC не равны"
   ]
  },
  {
   "cell_type": "code",
   "execution_count": 61,
   "metadata": {},
   "outputs": [
    {
     "name": "stdout",
     "output_type": "stream",
     "text": [
      "р-значение 0.14759594013430463\n"
     ]
    }
   ],
   "source": [
    "# тест\n",
    "alpha = 0.05\n",
    "result = st.ttest_ind(\n",
    "    period_data.query('platform == \"xone\" and user_score < 1111')['user_score'],\n",
    "    period_data.query('platform == \"pc\" and user_score < 1111')['user_score'], equal_var=False)\n",
    "print('р-значение', result.pvalue)"
   ]
  },
  {
   "cell_type": "code",
   "execution_count": 62,
   "metadata": {},
   "outputs": [
    {
     "name": "stdout",
     "output_type": "stream",
     "text": [
      "Опровергнуть нулевую гипотезу нельзя\n"
     ]
    }
   ],
   "source": [
    "# интерпретация результата\n",
    "if result.pvalue < alpha:\n",
    "    print('Принимаем альтернативную гипотезу')\n",
    "else:\n",
    "    print('Опровергнуть нулевую гипотезу нельзя')"
   ]
  },
  {
   "cell_type": "markdown",
   "metadata": {},
   "source": [
    "По результатам т-теста отвергнуть нулевую гипотезу о равенстве средних не получилось. Полученное р-значение говорит о том, что с вероятностью в 14% мы можем получить такое или большее различие случайно, значимых различий между пользовательскими рейтингами платформ  Xbox One и PC выявить не получилось."
   ]
  },
  {
   "cell_type": "markdown",
   "metadata": {},
   "source": [
    "### Средние пользовательские рейтинги жанров Action и Sports разные"
   ]
  },
  {
   "cell_type": "markdown",
   "metadata": {},
   "source": [
    "**Н0 (нулевая гипотеза)** Средние пользовательские рейтинги жанров Action и Sports равны\n",
    "\n",
    "**Н1 (альтернативная гипотеза)** Средние пользовательские рейтинги жанров Action и Sports не равны"
   ]
  },
  {
   "cell_type": "code",
   "execution_count": 63,
   "metadata": {},
   "outputs": [
    {
     "name": "stdout",
     "output_type": "stream",
     "text": [
      "р-значение 1.0517832389140023e-27\n"
     ]
    }
   ],
   "source": [
    "# тест\n",
    "alpha = 0.05\n",
    "result = st.ttest_ind(\n",
    "    period_data.query('genre == \"action\" and user_score < 1111')['user_score'],\n",
    "    period_data.query('genre == \"sports\" and user_score < 1111')['user_score'])\n",
    "print('р-значение', result.pvalue)"
   ]
  },
  {
   "cell_type": "code",
   "execution_count": 64,
   "metadata": {},
   "outputs": [
    {
     "name": "stdout",
     "output_type": "stream",
     "text": [
      "Принимаем альтернативную гипотезу\n"
     ]
    }
   ],
   "source": [
    "# интерпретация\n",
    "if result.pvalue < alpha:\n",
    "    print('Принимаем альтернативную гипотезу')\n",
    "else:\n",
    "    print('Опровергнуть нулевую гипотезу нельзя')"
   ]
  },
  {
   "cell_type": "markdown",
   "metadata": {},
   "source": [
    "По результатам т-теста нулевая гипотеза о равенстве средних не подтвердилась, была принята альтернативная гипотеза, о том что средние пользовательские рейтинги жанров Экшен и Спорт не равны. Разница не случайна, есть значимые отличия между двумя выборками."
   ]
  },
  {
   "cell_type": "markdown",
   "metadata": {},
   "source": [
    "## Вывод"
   ]
  },
  {
   "cell_type": "markdown",
   "metadata": {},
   "source": [
    "В рамках проекта были представлены данные о продажах игр с 1980 по 2016 год, весь объем информации для выполнения цели проекта нам не понадобился, поэтому основной анализ строился на данных актуального периода (2013-2016 гг.)\n",
    "\n",
    "Предварительно все данные были обработаны на предмет пропусков и дубликатов, в процессе предобработки мы удалили пропуски в столбцах name и year_of_release (доля удаленных пропусков 0,16). \n",
    "\n",
    "Цель проекта - выявить закономерности, определяющие успешность на рынке той или иной игры, для дальнейшего выделения потенциально популярного продукта и планирования рекламных кампаний, для этого мы:\n",
    "- рассмотрели глобальные продажи в разбивке по платформам и жанрам\n",
    "- оценили зависимость продаж игр от отзывов пользователей и критиков\n",
    "- составили портрет пользователя Европы, Америки и Японии\n",
    "- проверили гипотезы\n",
    "\n",
    "\n",
    "Выводы по всему массиву данных:\n",
    "- перспективные платформы исходя из возраста и дохода - ps4, xone, 3ds,wiiu - это молодые платформы на этапе стабилизации уровня дохода или небольшого снижения. Они принесли больший доход в последний учтенный полный год.\n",
    "- Стоит обратить внимание и на ps3, x360 и pc, за счет постоянных пользователей они имеют пусть небольшие, но достаточно стабильные продажи и суммарно опережают 3ds (3 место рейтинга по доходам в 2015 году)\n",
    "\n",
    "Выводы по актуальному периоду для планирования рекламных компаний:\n",
    "- Стабильные данные по продажам мы оценили по медиане - выше медианы продаж у ps4, wii, x360, xone, wiiu (данные о продажах и по жанрам и по платформам содержат очень большое количество выбросов, распределение сильно сдвинуто вправо и тянет за собой среднее, поэтому обратились к медиане)\n",
    "- По жанрам Самый высокий средний показатель продаж у шутеров, далее следуют спорт, платформы и ролевые игры. Надежнее всего выглядит плотность значений продаж у шутеров, платформ и спорта. Экшен-игры показывают большее количество выбросов - экстремально высоких, но не частотных продаж.\n",
    "- В целом можно сказать, что немногие пользователи опираются на чьи-либо отзывы при покупке игры. Но влияние критиков все же более заметно. Так же заметна взаимосвязь между хорошими отзывами критиков и пользователей.\n",
    "- Портрет пользователя в Америке и Европе в большей части совпадает и в популярных платформах, и в полулярных жанрах, и в продажах игр с указанием возрастного рейтинга. Япония отличается во всех исследуемых параметрах, при подготовке рекламных компаний это стоит учитывать (подробные раскладки и выводы смотри в пятой части проекта)\n",
    "- После проведения т-теста  значимых различий между пользовательскими рейтингами платформ  Xbox One и PC выявить не получилось, выяснили также, что средние пользовательские рейтинги жанров Экшен и Спорт не равны (разница не случайна, есть значимые отличия между двумя выборками)\n"
   ]
  }
 ],
 "metadata": {
  "ExecuteTimeLog": [
   {
    "duration": 1401,
    "start_time": "2022-05-11T08:57:06.005Z"
   },
   {
    "duration": 316,
    "start_time": "2022-05-11T08:57:07.408Z"
   },
   {
    "duration": 55,
    "start_time": "2022-05-11T08:58:43.002Z"
   },
   {
    "duration": 21,
    "start_time": "2022-05-11T08:59:38.393Z"
   },
   {
    "duration": 16,
    "start_time": "2022-05-11T08:59:42.058Z"
   },
   {
    "duration": 31,
    "start_time": "2022-05-11T09:01:11.301Z"
   },
   {
    "duration": 11,
    "start_time": "2022-05-11T09:09:48.829Z"
   },
   {
    "duration": 7,
    "start_time": "2022-05-11T09:10:07.013Z"
   },
   {
    "duration": 17,
    "start_time": "2022-05-11T09:12:06.818Z"
   },
   {
    "duration": 184,
    "start_time": "2022-05-11T09:12:35.771Z"
   },
   {
    "duration": 5,
    "start_time": "2022-05-11T09:17:13.845Z"
   },
   {
    "duration": 3,
    "start_time": "2022-05-11T09:17:14.458Z"
   },
   {
    "duration": 5,
    "start_time": "2022-05-11T09:17:15.043Z"
   },
   {
    "duration": 5,
    "start_time": "2022-05-11T09:17:15.775Z"
   },
   {
    "duration": 33,
    "start_time": "2022-05-11T09:19:04.135Z"
   },
   {
    "duration": 5,
    "start_time": "2022-05-11T09:20:37.514Z"
   },
   {
    "duration": 6,
    "start_time": "2022-05-11T09:20:38.587Z"
   },
   {
    "duration": 17,
    "start_time": "2022-05-11T09:22:24.129Z"
   },
   {
    "duration": 13,
    "start_time": "2022-05-11T09:28:06.746Z"
   },
   {
    "duration": 5,
    "start_time": "2022-05-11T09:28:08.270Z"
   },
   {
    "duration": 4,
    "start_time": "2022-05-11T09:28:09.039Z"
   },
   {
    "duration": 5,
    "start_time": "2022-05-11T09:28:09.764Z"
   },
   {
    "duration": 4,
    "start_time": "2022-05-11T09:28:10.598Z"
   },
   {
    "duration": 33,
    "start_time": "2022-05-11T09:28:17.767Z"
   },
   {
    "duration": 6,
    "start_time": "2022-05-11T09:28:25.956Z"
   },
   {
    "duration": 6,
    "start_time": "2022-05-11T09:28:26.962Z"
   },
   {
    "duration": 5,
    "start_time": "2022-05-11T09:30:33.168Z"
   },
   {
    "duration": 4,
    "start_time": "2022-05-11T09:31:24.861Z"
   },
   {
    "duration": 6,
    "start_time": "2022-05-11T09:32:28.566Z"
   },
   {
    "duration": 4,
    "start_time": "2022-05-11T09:33:25.929Z"
   },
   {
    "duration": 5,
    "start_time": "2022-05-11T09:33:47.810Z"
   },
   {
    "duration": 8,
    "start_time": "2022-05-11T09:35:06.171Z"
   },
   {
    "duration": 5,
    "start_time": "2022-05-11T09:37:41.305Z"
   },
   {
    "duration": 5,
    "start_time": "2022-05-11T09:37:41.970Z"
   },
   {
    "duration": 12,
    "start_time": "2022-05-11T09:37:42.585Z"
   },
   {
    "duration": 12,
    "start_time": "2022-05-11T09:40:46.553Z"
   },
   {
    "duration": 12,
    "start_time": "2022-05-11T09:42:16.369Z"
   },
   {
    "duration": 6,
    "start_time": "2022-05-11T09:43:35.610Z"
   },
   {
    "duration": 7,
    "start_time": "2022-05-11T09:44:56.567Z"
   },
   {
    "duration": 5,
    "start_time": "2022-05-11T09:47:35.148Z"
   },
   {
    "duration": 5,
    "start_time": "2022-05-11T09:50:28.254Z"
   },
   {
    "duration": 7,
    "start_time": "2022-05-11T09:50:30.887Z"
   },
   {
    "duration": 20,
    "start_time": "2022-05-11T09:51:07.988Z"
   },
   {
    "duration": 7,
    "start_time": "2022-05-11T10:00:58.122Z"
   },
   {
    "duration": 12,
    "start_time": "2022-05-11T10:01:10.572Z"
   },
   {
    "duration": 157,
    "start_time": "2022-05-11T10:04:03.015Z"
   },
   {
    "duration": 195,
    "start_time": "2022-05-11T10:04:22.987Z"
   },
   {
    "duration": 252,
    "start_time": "2022-05-11T10:04:30.768Z"
   },
   {
    "duration": 494,
    "start_time": "2022-05-11T10:04:56.416Z"
   },
   {
    "duration": 193,
    "start_time": "2022-05-11T10:05:30.535Z"
   },
   {
    "duration": 601,
    "start_time": "2022-05-11T10:05:36.809Z"
   },
   {
    "duration": 477,
    "start_time": "2022-05-11T10:06:04.961Z"
   },
   {
    "duration": 9,
    "start_time": "2022-05-11T10:06:16.098Z"
   },
   {
    "duration": 15,
    "start_time": "2022-05-11T10:11:39.566Z"
   },
   {
    "duration": 15,
    "start_time": "2022-05-11T10:12:20.730Z"
   },
   {
    "duration": 183,
    "start_time": "2022-05-11T10:13:43.817Z"
   },
   {
    "duration": 8,
    "start_time": "2022-05-11T10:14:12.396Z"
   },
   {
    "duration": 6,
    "start_time": "2022-05-11T10:14:24.722Z"
   },
   {
    "duration": 228,
    "start_time": "2022-05-11T10:20:40.659Z"
   },
   {
    "duration": 734,
    "start_time": "2022-05-11T10:35:47.875Z"
   },
   {
    "duration": 1460,
    "start_time": "2022-05-11T10:51:41.990Z"
   },
   {
    "duration": 9,
    "start_time": "2022-05-11T11:04:30.250Z"
   },
   {
    "duration": 9,
    "start_time": "2022-05-11T11:04:59.600Z"
   },
   {
    "duration": 10,
    "start_time": "2022-05-11T11:05:29.903Z"
   },
   {
    "duration": 10,
    "start_time": "2022-05-11T11:06:18.356Z"
   },
   {
    "duration": 1249,
    "start_time": "2022-05-11T11:06:50.335Z"
   },
   {
    "duration": 9,
    "start_time": "2022-05-11T11:18:48.178Z"
   },
   {
    "duration": 1019,
    "start_time": "2022-05-11T11:27:31.603Z"
   },
   {
    "duration": 520,
    "start_time": "2022-05-11T11:50:23.672Z"
   },
   {
    "duration": 736,
    "start_time": "2022-05-11T11:57:04.538Z"
   },
   {
    "duration": 479,
    "start_time": "2022-05-11T13:32:44.791Z"
   },
   {
    "duration": 171,
    "start_time": "2022-05-11T13:33:20.610Z"
   },
   {
    "duration": 29,
    "start_time": "2022-05-11T13:33:40.734Z"
   },
   {
    "duration": 35,
    "start_time": "2022-05-11T13:34:00.536Z"
   },
   {
    "duration": 251,
    "start_time": "2022-05-11T13:37:04.118Z"
   },
   {
    "duration": 25,
    "start_time": "2022-05-11T13:37:43.616Z"
   },
   {
    "duration": 14,
    "start_time": "2022-05-11T13:39:40.427Z"
   },
   {
    "duration": 13,
    "start_time": "2022-05-11T13:42:49.811Z"
   },
   {
    "duration": 206,
    "start_time": "2022-05-11T13:44:12.796Z"
   },
   {
    "duration": 198,
    "start_time": "2022-05-11T13:44:27.206Z"
   },
   {
    "duration": 169,
    "start_time": "2022-05-11T13:44:42.699Z"
   },
   {
    "duration": 22,
    "start_time": "2022-05-11T13:45:03.205Z"
   },
   {
    "duration": 23,
    "start_time": "2022-05-11T13:45:15.235Z"
   },
   {
    "duration": 926,
    "start_time": "2022-05-11T13:45:32.052Z"
   },
   {
    "duration": 21,
    "start_time": "2022-05-11T13:45:35.165Z"
   },
   {
    "duration": 32,
    "start_time": "2022-05-11T13:46:19.582Z"
   },
   {
    "duration": 19,
    "start_time": "2022-05-11T13:51:39.510Z"
   },
   {
    "duration": 25,
    "start_time": "2022-05-11T13:53:21.259Z"
   },
   {
    "duration": 25,
    "start_time": "2022-05-11T13:54:24.121Z"
   },
   {
    "duration": 23,
    "start_time": "2022-05-11T13:55:22.548Z"
   },
   {
    "duration": 24,
    "start_time": "2022-05-11T13:55:47.995Z"
   },
   {
    "duration": 20,
    "start_time": "2022-05-11T13:57:03.768Z"
   },
   {
    "duration": 23,
    "start_time": "2022-05-11T13:57:47.293Z"
   },
   {
    "duration": 21,
    "start_time": "2022-05-11T13:58:10.256Z"
   },
   {
    "duration": 21,
    "start_time": "2022-05-11T13:58:24.002Z"
   },
   {
    "duration": 21,
    "start_time": "2022-05-11T13:58:41.509Z"
   },
   {
    "duration": 24,
    "start_time": "2022-05-11T13:59:16.214Z"
   },
   {
    "duration": 205,
    "start_time": "2022-05-11T14:02:29.654Z"
   },
   {
    "duration": 25,
    "start_time": "2022-05-11T14:02:58.524Z"
   },
   {
    "duration": 23,
    "start_time": "2022-05-11T14:03:38.337Z"
   },
   {
    "duration": 215,
    "start_time": "2022-05-11T14:04:22.387Z"
   },
   {
    "duration": 230,
    "start_time": "2022-05-11T14:07:05.621Z"
   },
   {
    "duration": 229,
    "start_time": "2022-05-11T14:09:14.593Z"
   },
   {
    "duration": 10,
    "start_time": "2022-05-11T14:38:14.778Z"
   },
   {
    "duration": 9,
    "start_time": "2022-05-11T14:38:56.989Z"
   },
   {
    "duration": 180,
    "start_time": "2022-05-11T14:41:24.121Z"
   },
   {
    "duration": 15,
    "start_time": "2022-05-11T14:45:30.800Z"
   },
   {
    "duration": 54,
    "start_time": "2022-05-11T14:48:48.355Z"
   },
   {
    "duration": 274,
    "start_time": "2022-05-11T14:49:57.259Z"
   },
   {
    "duration": 149,
    "start_time": "2022-05-11T14:50:50.742Z"
   },
   {
    "duration": 370,
    "start_time": "2022-05-11T14:51:35.368Z"
   },
   {
    "duration": 270,
    "start_time": "2022-05-11T14:51:52.599Z"
   },
   {
    "duration": 6,
    "start_time": "2022-05-11T16:24:38.291Z"
   },
   {
    "duration": 421,
    "start_time": "2022-05-11T16:25:08.888Z"
   },
   {
    "duration": 337,
    "start_time": "2022-05-11T16:26:57.759Z"
   },
   {
    "duration": 5,
    "start_time": "2022-05-11T16:31:43.481Z"
   },
   {
    "duration": 405,
    "start_time": "2022-05-11T16:53:03.868Z"
   },
   {
    "duration": 54,
    "start_time": "2022-05-11T20:25:02.136Z"
   },
   {
    "duration": 1360,
    "start_time": "2022-05-11T20:25:07.884Z"
   },
   {
    "duration": 48,
    "start_time": "2022-05-11T20:25:09.246Z"
   },
   {
    "duration": 24,
    "start_time": "2022-05-11T20:25:09.296Z"
   },
   {
    "duration": 21,
    "start_time": "2022-05-11T20:25:09.323Z"
   },
   {
    "duration": 58,
    "start_time": "2022-05-11T20:25:09.346Z"
   },
   {
    "duration": 8,
    "start_time": "2022-05-11T20:25:09.405Z"
   },
   {
    "duration": 5,
    "start_time": "2022-05-11T20:25:09.415Z"
   },
   {
    "duration": 17,
    "start_time": "2022-05-11T20:25:09.421Z"
   },
   {
    "duration": 96,
    "start_time": "2022-05-11T20:25:09.439Z"
   },
   {
    "duration": 0,
    "start_time": "2022-05-11T20:25:09.539Z"
   },
   {
    "duration": 0,
    "start_time": "2022-05-11T20:25:09.540Z"
   },
   {
    "duration": 0,
    "start_time": "2022-05-11T20:25:09.542Z"
   },
   {
    "duration": 0,
    "start_time": "2022-05-11T20:25:09.543Z"
   },
   {
    "duration": 0,
    "start_time": "2022-05-11T20:25:09.545Z"
   },
   {
    "duration": 0,
    "start_time": "2022-05-11T20:25:09.546Z"
   },
   {
    "duration": 0,
    "start_time": "2022-05-11T20:25:09.548Z"
   },
   {
    "duration": 0,
    "start_time": "2022-05-11T20:25:09.550Z"
   },
   {
    "duration": 0,
    "start_time": "2022-05-11T20:25:09.574Z"
   },
   {
    "duration": 0,
    "start_time": "2022-05-11T20:25:09.576Z"
   },
   {
    "duration": 0,
    "start_time": "2022-05-11T20:25:09.579Z"
   },
   {
    "duration": 0,
    "start_time": "2022-05-11T20:25:09.580Z"
   },
   {
    "duration": 0,
    "start_time": "2022-05-11T20:25:09.582Z"
   },
   {
    "duration": 0,
    "start_time": "2022-05-11T20:25:09.583Z"
   },
   {
    "duration": 0,
    "start_time": "2022-05-11T20:25:09.585Z"
   },
   {
    "duration": 0,
    "start_time": "2022-05-11T20:25:09.586Z"
   },
   {
    "duration": 0,
    "start_time": "2022-05-11T20:25:09.588Z"
   },
   {
    "duration": 0,
    "start_time": "2022-05-11T20:25:09.590Z"
   },
   {
    "duration": 0,
    "start_time": "2022-05-11T20:25:09.591Z"
   },
   {
    "duration": 0,
    "start_time": "2022-05-11T20:25:09.591Z"
   },
   {
    "duration": 0,
    "start_time": "2022-05-11T20:25:09.592Z"
   },
   {
    "duration": 0,
    "start_time": "2022-05-11T20:25:09.594Z"
   },
   {
    "duration": 0,
    "start_time": "2022-05-11T20:25:09.596Z"
   },
   {
    "duration": 0,
    "start_time": "2022-05-11T20:25:09.597Z"
   },
   {
    "duration": 0,
    "start_time": "2022-05-11T20:25:09.598Z"
   },
   {
    "duration": 0,
    "start_time": "2022-05-11T20:25:09.598Z"
   },
   {
    "duration": 0,
    "start_time": "2022-05-11T20:25:09.599Z"
   },
   {
    "duration": 0,
    "start_time": "2022-05-11T20:25:09.600Z"
   },
   {
    "duration": 0,
    "start_time": "2022-05-11T20:25:09.601Z"
   },
   {
    "duration": 0,
    "start_time": "2022-05-11T20:25:09.602Z"
   },
   {
    "duration": 0,
    "start_time": "2022-05-11T20:25:09.603Z"
   },
   {
    "duration": 0,
    "start_time": "2022-05-11T20:25:09.604Z"
   },
   {
    "duration": 0,
    "start_time": "2022-05-11T20:25:09.605Z"
   },
   {
    "duration": 0,
    "start_time": "2022-05-11T20:25:09.606Z"
   },
   {
    "duration": 0,
    "start_time": "2022-05-11T20:25:09.607Z"
   },
   {
    "duration": 0,
    "start_time": "2022-05-11T20:25:09.608Z"
   },
   {
    "duration": 0,
    "start_time": "2022-05-11T20:25:09.609Z"
   },
   {
    "duration": 0,
    "start_time": "2022-05-11T20:25:09.610Z"
   },
   {
    "duration": 0,
    "start_time": "2022-05-11T20:25:09.611Z"
   },
   {
    "duration": 0,
    "start_time": "2022-05-11T20:25:09.611Z"
   },
   {
    "duration": 0,
    "start_time": "2022-05-11T20:25:09.612Z"
   },
   {
    "duration": 0,
    "start_time": "2022-05-11T20:25:09.613Z"
   },
   {
    "duration": 0,
    "start_time": "2022-05-11T20:25:09.614Z"
   },
   {
    "duration": 11,
    "start_time": "2022-05-11T20:28:54.486Z"
   },
   {
    "duration": 4,
    "start_time": "2022-05-11T20:28:59.340Z"
   },
   {
    "duration": 4,
    "start_time": "2022-05-11T20:28:59.349Z"
   },
   {
    "duration": 4,
    "start_time": "2022-05-11T20:28:59.366Z"
   },
   {
    "duration": 6,
    "start_time": "2022-05-11T20:28:59.374Z"
   },
   {
    "duration": 25,
    "start_time": "2022-05-11T20:28:59.398Z"
   },
   {
    "duration": 5,
    "start_time": "2022-05-11T20:28:59.425Z"
   },
   {
    "duration": 4,
    "start_time": "2022-05-11T20:28:59.438Z"
   },
   {
    "duration": 4,
    "start_time": "2022-05-11T20:28:59.465Z"
   },
   {
    "duration": 5,
    "start_time": "2022-05-11T20:28:59.491Z"
   },
   {
    "duration": 3,
    "start_time": "2022-05-11T20:28:59.511Z"
   },
   {
    "duration": 3,
    "start_time": "2022-05-11T20:28:59.526Z"
   },
   {
    "duration": 6,
    "start_time": "2022-05-11T20:28:59.557Z"
   },
   {
    "duration": 4,
    "start_time": "2022-05-11T20:28:59.586Z"
   },
   {
    "duration": 6,
    "start_time": "2022-05-11T20:28:59.592Z"
   },
   {
    "duration": 14,
    "start_time": "2022-05-11T20:28:59.633Z"
   },
   {
    "duration": 7,
    "start_time": "2022-05-11T20:28:59.649Z"
   },
   {
    "duration": 10,
    "start_time": "2022-05-11T20:28:59.658Z"
   },
   {
    "duration": 5,
    "start_time": "2022-05-11T20:28:59.702Z"
   },
   {
    "duration": 7,
    "start_time": "2022-05-11T20:28:59.710Z"
   },
   {
    "duration": 19,
    "start_time": "2022-05-11T20:28:59.719Z"
   },
   {
    "duration": 5,
    "start_time": "2022-05-11T20:28:59.741Z"
   },
   {
    "duration": 13,
    "start_time": "2022-05-11T20:28:59.748Z"
   },
   {
    "duration": 12,
    "start_time": "2022-05-11T20:28:59.764Z"
   },
   {
    "duration": 7,
    "start_time": "2022-05-11T20:28:59.778Z"
   },
   {
    "duration": 5,
    "start_time": "2022-05-11T20:28:59.792Z"
   },
   {
    "duration": 194,
    "start_time": "2022-05-11T20:28:59.814Z"
   },
   {
    "duration": 941,
    "start_time": "2022-05-11T20:29:00.011Z"
   },
   {
    "duration": 1818,
    "start_time": "2022-05-11T20:29:00.954Z"
   },
   {
    "duration": 16,
    "start_time": "2022-05-11T20:29:02.775Z"
   },
   {
    "duration": 10,
    "start_time": "2022-05-11T20:29:02.792Z"
   },
   {
    "duration": 14,
    "start_time": "2022-05-11T20:29:02.804Z"
   },
   {
    "duration": 11,
    "start_time": "2022-05-11T20:29:02.820Z"
   },
   {
    "duration": 1125,
    "start_time": "2022-05-11T20:29:02.834Z"
   },
   {
    "duration": 314,
    "start_time": "2022-05-11T20:29:03.962Z"
   },
   {
    "duration": 19,
    "start_time": "2022-05-11T20:29:04.280Z"
   },
   {
    "duration": 71,
    "start_time": "2022-05-11T20:29:04.301Z"
   },
   {
    "duration": 244,
    "start_time": "2022-05-11T20:29:04.374Z"
   },
   {
    "duration": 5,
    "start_time": "2022-05-11T20:29:04.620Z"
   },
   {
    "duration": 354,
    "start_time": "2022-05-11T20:29:04.627Z"
   },
   {
    "duration": 361,
    "start_time": "2022-05-11T20:29:04.982Z"
   },
   {
    "duration": 254,
    "start_time": "2022-05-11T20:29:05.344Z"
   },
   {
    "duration": 4,
    "start_time": "2022-05-11T20:29:05.600Z"
   },
   {
    "duration": 8,
    "start_time": "2022-05-11T20:29:05.606Z"
   },
   {
    "duration": 184,
    "start_time": "2022-05-11T20:29:22.925Z"
   },
   {
    "duration": 265,
    "start_time": "2022-05-11T20:29:37.073Z"
   },
   {
    "duration": 185,
    "start_time": "2022-05-11T20:30:06.080Z"
   },
   {
    "duration": 193,
    "start_time": "2022-05-11T20:30:13.352Z"
   },
   {
    "duration": 26,
    "start_time": "2022-05-11T20:30:54.461Z"
   },
   {
    "duration": 245,
    "start_time": "2022-05-11T20:31:22.909Z"
   },
   {
    "duration": 351,
    "start_time": "2022-05-11T20:37:59.777Z"
   },
   {
    "duration": 258,
    "start_time": "2022-05-11T20:38:25.314Z"
   },
   {
    "duration": 403,
    "start_time": "2022-05-11T20:40:14.564Z"
   },
   {
    "duration": 417,
    "start_time": "2022-05-11T20:40:30.563Z"
   },
   {
    "duration": 43,
    "start_time": "2022-05-12T05:59:01.701Z"
   },
   {
    "duration": 1195,
    "start_time": "2022-05-12T05:59:11.098Z"
   },
   {
    "duration": 34,
    "start_time": "2022-05-12T05:59:12.295Z"
   },
   {
    "duration": 16,
    "start_time": "2022-05-12T05:59:12.331Z"
   },
   {
    "duration": 24,
    "start_time": "2022-05-12T05:59:12.349Z"
   },
   {
    "duration": 24,
    "start_time": "2022-05-12T05:59:12.375Z"
   },
   {
    "duration": 10,
    "start_time": "2022-05-12T05:59:12.401Z"
   },
   {
    "duration": 6,
    "start_time": "2022-05-12T05:59:12.413Z"
   },
   {
    "duration": 49,
    "start_time": "2022-05-12T05:59:12.421Z"
   },
   {
    "duration": 12,
    "start_time": "2022-05-12T05:59:12.472Z"
   },
   {
    "duration": 5,
    "start_time": "2022-05-12T05:59:12.487Z"
   },
   {
    "duration": 7,
    "start_time": "2022-05-12T05:59:12.494Z"
   },
   {
    "duration": 8,
    "start_time": "2022-05-12T05:59:12.503Z"
   },
   {
    "duration": 7,
    "start_time": "2022-05-12T05:59:12.513Z"
   },
   {
    "duration": 51,
    "start_time": "2022-05-12T05:59:12.522Z"
   },
   {
    "duration": 5,
    "start_time": "2022-05-12T05:59:12.575Z"
   },
   {
    "duration": 9,
    "start_time": "2022-05-12T05:59:12.582Z"
   },
   {
    "duration": 8,
    "start_time": "2022-05-12T05:59:12.592Z"
   },
   {
    "duration": 9,
    "start_time": "2022-05-12T05:59:12.601Z"
   },
   {
    "duration": 5,
    "start_time": "2022-05-12T05:59:12.611Z"
   },
   {
    "duration": 8,
    "start_time": "2022-05-12T05:59:12.617Z"
   },
   {
    "duration": 10,
    "start_time": "2022-05-12T05:59:12.626Z"
   },
   {
    "duration": 24,
    "start_time": "2022-05-12T05:59:12.637Z"
   },
   {
    "duration": 4,
    "start_time": "2022-05-12T05:59:12.663Z"
   },
   {
    "duration": 12,
    "start_time": "2022-05-12T05:59:12.668Z"
   },
   {
    "duration": 4,
    "start_time": "2022-05-12T05:59:12.682Z"
   },
   {
    "duration": 13,
    "start_time": "2022-05-12T05:59:12.688Z"
   },
   {
    "duration": 6,
    "start_time": "2022-05-12T05:59:12.703Z"
   },
   {
    "duration": 6,
    "start_time": "2022-05-12T05:59:12.713Z"
   },
   {
    "duration": 42,
    "start_time": "2022-05-12T05:59:12.721Z"
   },
   {
    "duration": 5,
    "start_time": "2022-05-12T05:59:12.765Z"
   },
   {
    "duration": 9,
    "start_time": "2022-05-12T05:59:12.772Z"
   },
   {
    "duration": 12,
    "start_time": "2022-05-12T05:59:12.783Z"
   },
   {
    "duration": 7,
    "start_time": "2022-05-12T05:59:12.796Z"
   },
   {
    "duration": 4,
    "start_time": "2022-05-12T05:59:12.805Z"
   },
   {
    "duration": 186,
    "start_time": "2022-05-12T05:59:12.810Z"
   },
   {
    "duration": 559,
    "start_time": "2022-05-12T05:59:12.997Z"
   },
   {
    "duration": 1126,
    "start_time": "2022-05-12T05:59:13.557Z"
   },
   {
    "duration": 7,
    "start_time": "2022-05-12T05:59:14.684Z"
   },
   {
    "duration": 9,
    "start_time": "2022-05-12T05:59:14.692Z"
   },
   {
    "duration": 11,
    "start_time": "2022-05-12T05:59:14.702Z"
   },
   {
    "duration": 11,
    "start_time": "2022-05-12T05:59:14.715Z"
   },
   {
    "duration": 691,
    "start_time": "2022-05-12T05:59:14.727Z"
   },
   {
    "duration": 174,
    "start_time": "2022-05-12T05:59:15.420Z"
   },
   {
    "duration": 12,
    "start_time": "2022-05-12T05:59:15.596Z"
   },
   {
    "duration": 62,
    "start_time": "2022-05-12T05:59:15.610Z"
   },
   {
    "duration": 320,
    "start_time": "2022-05-12T05:59:15.674Z"
   },
   {
    "duration": 6,
    "start_time": "2022-05-12T05:59:15.996Z"
   },
   {
    "duration": 273,
    "start_time": "2022-05-12T05:59:16.004Z"
   },
   {
    "duration": 334,
    "start_time": "2022-05-12T05:59:16.279Z"
   },
   {
    "duration": 234,
    "start_time": "2022-05-12T05:59:16.614Z"
   },
   {
    "duration": 4,
    "start_time": "2022-05-12T05:59:16.850Z"
   },
   {
    "duration": 5,
    "start_time": "2022-05-12T05:59:16.861Z"
   },
   {
    "duration": 260,
    "start_time": "2022-05-12T05:59:16.868Z"
   },
   {
    "duration": 359,
    "start_time": "2022-05-12T05:59:17.130Z"
   },
   {
    "duration": 21,
    "start_time": "2022-05-12T05:59:17.492Z"
   },
   {
    "duration": 360,
    "start_time": "2022-05-12T05:59:17.515Z"
   },
   {
    "duration": 347,
    "start_time": "2022-05-12T05:59:17.877Z"
   },
   {
    "duration": 449,
    "start_time": "2022-05-12T05:59:18.226Z"
   },
   {
    "duration": 324,
    "start_time": "2022-05-12T05:59:18.677Z"
   },
   {
    "duration": 348,
    "start_time": "2022-05-12T05:59:19.003Z"
   },
   {
    "duration": 8,
    "start_time": "2022-05-12T06:00:09.139Z"
   },
   {
    "duration": 251,
    "start_time": "2022-05-12T06:34:31.407Z"
   },
   {
    "duration": 1311,
    "start_time": "2022-05-12T08:55:59.453Z"
   },
   {
    "duration": 46,
    "start_time": "2022-05-12T08:56:00.766Z"
   },
   {
    "duration": 21,
    "start_time": "2022-05-12T08:56:00.814Z"
   },
   {
    "duration": 20,
    "start_time": "2022-05-12T08:56:00.838Z"
   },
   {
    "duration": 52,
    "start_time": "2022-05-12T08:56:00.860Z"
   },
   {
    "duration": 15,
    "start_time": "2022-05-12T08:56:00.914Z"
   },
   {
    "duration": 10,
    "start_time": "2022-05-12T08:56:00.932Z"
   },
   {
    "duration": 26,
    "start_time": "2022-05-12T08:56:00.944Z"
   },
   {
    "duration": 35,
    "start_time": "2022-05-12T08:56:00.972Z"
   },
   {
    "duration": 5,
    "start_time": "2022-05-12T08:56:01.011Z"
   },
   {
    "duration": 49,
    "start_time": "2022-05-12T08:56:01.018Z"
   },
   {
    "duration": 24,
    "start_time": "2022-05-12T08:56:01.069Z"
   },
   {
    "duration": 22,
    "start_time": "2022-05-12T08:56:01.095Z"
   },
   {
    "duration": 52,
    "start_time": "2022-05-12T08:56:01.119Z"
   },
   {
    "duration": 5,
    "start_time": "2022-05-12T08:56:01.173Z"
   },
   {
    "duration": 16,
    "start_time": "2022-05-12T08:56:01.180Z"
   },
   {
    "duration": 11,
    "start_time": "2022-05-12T08:56:01.198Z"
   },
   {
    "duration": 8,
    "start_time": "2022-05-12T08:56:01.210Z"
   },
   {
    "duration": 4,
    "start_time": "2022-05-12T08:56:01.220Z"
   },
   {
    "duration": 9,
    "start_time": "2022-05-12T08:56:01.226Z"
   },
   {
    "duration": 14,
    "start_time": "2022-05-12T08:56:01.237Z"
   },
   {
    "duration": 10,
    "start_time": "2022-05-12T08:56:01.253Z"
   },
   {
    "duration": 24,
    "start_time": "2022-05-12T08:56:01.265Z"
   },
   {
    "duration": 16,
    "start_time": "2022-05-12T08:56:01.291Z"
   },
   {
    "duration": 7,
    "start_time": "2022-05-12T08:56:01.309Z"
   },
   {
    "duration": 17,
    "start_time": "2022-05-12T08:56:01.317Z"
   },
   {
    "duration": 13,
    "start_time": "2022-05-12T08:56:01.336Z"
   },
   {
    "duration": 48,
    "start_time": "2022-05-12T08:56:01.353Z"
   },
   {
    "duration": 48,
    "start_time": "2022-05-12T08:56:01.403Z"
   },
   {
    "duration": 5,
    "start_time": "2022-05-12T08:56:01.454Z"
   },
   {
    "duration": 17,
    "start_time": "2022-05-12T08:56:01.461Z"
   },
   {
    "duration": 16,
    "start_time": "2022-05-12T08:56:01.480Z"
   },
   {
    "duration": 8,
    "start_time": "2022-05-12T08:56:01.499Z"
   },
   {
    "duration": 8,
    "start_time": "2022-05-12T08:56:01.508Z"
   },
   {
    "duration": 195,
    "start_time": "2022-05-12T08:56:01.517Z"
   },
   {
    "duration": 677,
    "start_time": "2022-05-12T08:56:01.714Z"
   },
   {
    "duration": 1327,
    "start_time": "2022-05-12T08:56:02.393Z"
   },
   {
    "duration": 9,
    "start_time": "2022-05-12T08:56:03.721Z"
   },
   {
    "duration": 10,
    "start_time": "2022-05-12T08:56:03.731Z"
   },
   {
    "duration": 11,
    "start_time": "2022-05-12T08:56:03.742Z"
   },
   {
    "duration": 13,
    "start_time": "2022-05-12T08:56:03.755Z"
   },
   {
    "duration": 846,
    "start_time": "2022-05-12T08:56:03.771Z"
   },
   {
    "duration": 222,
    "start_time": "2022-05-12T08:56:04.619Z"
   },
   {
    "duration": 16,
    "start_time": "2022-05-12T08:56:04.843Z"
   },
   {
    "duration": 77,
    "start_time": "2022-05-12T08:56:04.861Z"
   },
   {
    "duration": 284,
    "start_time": "2022-05-12T08:56:04.940Z"
   },
   {
    "duration": 5,
    "start_time": "2022-05-12T08:56:05.226Z"
   },
   {
    "duration": 415,
    "start_time": "2022-05-12T08:56:05.232Z"
   },
   {
    "duration": 342,
    "start_time": "2022-05-12T08:56:05.648Z"
   },
   {
    "duration": 311,
    "start_time": "2022-05-12T08:56:05.992Z"
   },
   {
    "duration": 6,
    "start_time": "2022-05-12T08:56:06.307Z"
   },
   {
    "duration": 8,
    "start_time": "2022-05-12T08:56:06.315Z"
   },
   {
    "duration": 246,
    "start_time": "2022-05-12T08:56:06.324Z"
   },
   {
    "duration": 335,
    "start_time": "2022-05-12T08:56:06.572Z"
   },
   {
    "duration": 21,
    "start_time": "2022-05-12T08:56:06.909Z"
   },
   {
    "duration": 327,
    "start_time": "2022-05-12T08:56:06.932Z"
   },
   {
    "duration": 326,
    "start_time": "2022-05-12T08:56:07.261Z"
   },
   {
    "duration": 413,
    "start_time": "2022-05-12T08:56:07.588Z"
   },
   {
    "duration": 282,
    "start_time": "2022-05-12T08:56:08.007Z"
   },
   {
    "duration": 315,
    "start_time": "2022-05-12T08:56:08.292Z"
   },
   {
    "duration": 5,
    "start_time": "2022-05-12T09:04:15.208Z"
   },
   {
    "duration": 13,
    "start_time": "2022-05-12T09:04:25.198Z"
   },
   {
    "duration": 95,
    "start_time": "2022-05-12T09:06:06.383Z"
   },
   {
    "duration": 204,
    "start_time": "2022-05-12T09:06:35.127Z"
   },
   {
    "duration": 77,
    "start_time": "2022-05-12T09:06:55.835Z"
   },
   {
    "duration": 102,
    "start_time": "2022-05-12T09:07:12.466Z"
   },
   {
    "duration": 917,
    "start_time": "2022-05-12T09:07:33.806Z"
   },
   {
    "duration": 246,
    "start_time": "2022-05-12T09:09:56.540Z"
   },
   {
    "duration": 294,
    "start_time": "2022-05-12T09:12:36.806Z"
   },
   {
    "duration": 591,
    "start_time": "2022-05-12T09:13:13.073Z"
   },
   {
    "duration": 485,
    "start_time": "2022-05-12T10:07:24.081Z"
   },
   {
    "duration": 249,
    "start_time": "2022-05-12T10:09:27.711Z"
   },
   {
    "duration": 261,
    "start_time": "2022-05-12T10:09:41.692Z"
   },
   {
    "duration": 266,
    "start_time": "2022-05-12T10:13:13.039Z"
   },
   {
    "duration": 273,
    "start_time": "2022-05-12T10:13:26.138Z"
   },
   {
    "duration": 182,
    "start_time": "2022-05-12T11:45:22.836Z"
   },
   {
    "duration": 197,
    "start_time": "2022-05-12T11:47:12.628Z"
   },
   {
    "duration": 186,
    "start_time": "2022-05-12T11:48:00.291Z"
   },
   {
    "duration": 1089,
    "start_time": "2022-05-12T11:49:32.821Z"
   },
   {
    "duration": 193,
    "start_time": "2022-05-12T11:52:56.032Z"
   },
   {
    "duration": 99,
    "start_time": "2022-05-12T11:58:51.695Z"
   },
   {
    "duration": 11,
    "start_time": "2022-05-12T11:59:19.425Z"
   },
   {
    "duration": 68,
    "start_time": "2022-05-12T11:59:43.729Z"
   },
   {
    "duration": 9,
    "start_time": "2022-05-12T11:59:51.257Z"
   },
   {
    "duration": 10,
    "start_time": "2022-05-12T12:00:14.029Z"
   },
   {
    "duration": 43,
    "start_time": "2022-05-12T12:02:07.197Z"
   },
   {
    "duration": 8,
    "start_time": "2022-05-12T12:02:42.395Z"
   },
   {
    "duration": 7,
    "start_time": "2022-05-12T12:03:41.879Z"
   },
   {
    "duration": 8,
    "start_time": "2022-05-12T12:04:17.953Z"
   },
   {
    "duration": 9,
    "start_time": "2022-05-12T12:05:47.686Z"
   },
   {
    "duration": 211,
    "start_time": "2022-05-12T12:06:00.012Z"
   },
   {
    "duration": 7,
    "start_time": "2022-05-12T12:07:42.590Z"
   },
   {
    "duration": 992,
    "start_time": "2022-05-12T12:41:43.319Z"
   },
   {
    "duration": 11,
    "start_time": "2022-05-12T13:01:04.446Z"
   },
   {
    "duration": 3,
    "start_time": "2022-05-12T13:01:22.074Z"
   },
   {
    "duration": 10,
    "start_time": "2022-05-12T13:06:53.929Z"
   },
   {
    "duration": 3,
    "start_time": "2022-05-12T13:07:37.425Z"
   },
   {
    "duration": 11,
    "start_time": "2022-05-12T13:18:05.114Z"
   },
   {
    "duration": 4,
    "start_time": "2022-05-12T13:18:05.919Z"
   },
   {
    "duration": 3,
    "start_time": "2022-05-12T13:46:25.331Z"
   },
   {
    "duration": 38,
    "start_time": "2022-05-12T13:46:25.346Z"
   },
   {
    "duration": 14,
    "start_time": "2022-05-12T13:46:25.386Z"
   },
   {
    "duration": 15,
    "start_time": "2022-05-12T13:46:25.402Z"
   },
   {
    "duration": 30,
    "start_time": "2022-05-12T13:46:25.420Z"
   },
   {
    "duration": 9,
    "start_time": "2022-05-12T13:46:25.452Z"
   },
   {
    "duration": 6,
    "start_time": "2022-05-12T13:46:25.463Z"
   },
   {
    "duration": 46,
    "start_time": "2022-05-12T13:46:25.471Z"
   },
   {
    "duration": 10,
    "start_time": "2022-05-12T13:46:25.519Z"
   },
   {
    "duration": 5,
    "start_time": "2022-05-12T13:46:25.531Z"
   },
   {
    "duration": 3,
    "start_time": "2022-05-12T13:46:25.539Z"
   },
   {
    "duration": 7,
    "start_time": "2022-05-12T13:46:25.544Z"
   },
   {
    "duration": 7,
    "start_time": "2022-05-12T13:46:25.552Z"
   },
   {
    "duration": 73,
    "start_time": "2022-05-12T13:46:25.560Z"
   },
   {
    "duration": 7,
    "start_time": "2022-05-12T13:46:25.635Z"
   },
   {
    "duration": 7,
    "start_time": "2022-05-12T13:46:25.644Z"
   },
   {
    "duration": 4,
    "start_time": "2022-05-12T13:46:25.653Z"
   },
   {
    "duration": 6,
    "start_time": "2022-05-12T13:46:25.659Z"
   },
   {
    "duration": 51,
    "start_time": "2022-05-12T13:46:25.667Z"
   },
   {
    "duration": 4,
    "start_time": "2022-05-12T13:46:25.720Z"
   },
   {
    "duration": 7,
    "start_time": "2022-05-12T13:46:25.726Z"
   },
   {
    "duration": 4,
    "start_time": "2022-05-12T13:46:25.735Z"
   },
   {
    "duration": 4,
    "start_time": "2022-05-12T13:46:25.742Z"
   },
   {
    "duration": 11,
    "start_time": "2022-05-12T13:46:25.748Z"
   },
   {
    "duration": 4,
    "start_time": "2022-05-12T13:46:25.761Z"
   },
   {
    "duration": 10,
    "start_time": "2022-05-12T13:46:25.767Z"
   },
   {
    "duration": 41,
    "start_time": "2022-05-12T13:46:25.778Z"
   },
   {
    "duration": 5,
    "start_time": "2022-05-12T13:46:25.821Z"
   },
   {
    "duration": 14,
    "start_time": "2022-05-12T13:46:25.828Z"
   },
   {
    "duration": 4,
    "start_time": "2022-05-12T13:46:25.844Z"
   },
   {
    "duration": 9,
    "start_time": "2022-05-12T13:46:25.849Z"
   },
   {
    "duration": 15,
    "start_time": "2022-05-12T13:46:25.859Z"
   },
   {
    "duration": 8,
    "start_time": "2022-05-12T13:46:25.918Z"
   },
   {
    "duration": 4,
    "start_time": "2022-05-12T13:46:25.928Z"
   },
   {
    "duration": 207,
    "start_time": "2022-05-12T13:46:25.934Z"
   },
   {
    "duration": 813,
    "start_time": "2022-05-12T13:46:26.144Z"
   },
   {
    "duration": 1265,
    "start_time": "2022-05-12T13:46:26.959Z"
   },
   {
    "duration": 8,
    "start_time": "2022-05-12T13:46:28.226Z"
   },
   {
    "duration": 8,
    "start_time": "2022-05-12T13:46:28.235Z"
   },
   {
    "duration": 9,
    "start_time": "2022-05-12T13:46:28.244Z"
   },
   {
    "duration": 9,
    "start_time": "2022-05-12T13:46:28.255Z"
   },
   {
    "duration": 835,
    "start_time": "2022-05-12T13:46:28.266Z"
   },
   {
    "duration": 229,
    "start_time": "2022-05-12T13:46:29.102Z"
   },
   {
    "duration": 14,
    "start_time": "2022-05-12T13:46:29.334Z"
   },
   {
    "duration": 18,
    "start_time": "2022-05-12T13:46:29.350Z"
   },
   {
    "duration": 298,
    "start_time": "2022-05-12T13:46:29.369Z"
   },
   {
    "duration": 5,
    "start_time": "2022-05-12T13:46:29.669Z"
   },
   {
    "duration": 346,
    "start_time": "2022-05-12T13:46:29.676Z"
   },
   {
    "duration": 325,
    "start_time": "2022-05-12T13:46:30.024Z"
   },
   {
    "duration": 471,
    "start_time": "2022-05-12T13:46:30.351Z"
   },
   {
    "duration": 4,
    "start_time": "2022-05-12T13:46:30.824Z"
   },
   {
    "duration": 14,
    "start_time": "2022-05-12T13:46:30.829Z"
   },
   {
    "duration": 237,
    "start_time": "2022-05-12T13:46:30.845Z"
   },
   {
    "duration": 333,
    "start_time": "2022-05-12T13:46:31.084Z"
   },
   {
    "duration": 18,
    "start_time": "2022-05-12T13:46:31.421Z"
   },
   {
    "duration": 317,
    "start_time": "2022-05-12T13:46:31.441Z"
   },
   {
    "duration": 305,
    "start_time": "2022-05-12T13:46:31.760Z"
   },
   {
    "duration": 327,
    "start_time": "2022-05-12T13:46:32.067Z"
   },
   {
    "duration": 20,
    "start_time": "2022-05-12T13:46:32.396Z"
   },
   {
    "duration": 214,
    "start_time": "2022-05-12T13:46:32.419Z"
   },
   {
    "duration": 1178,
    "start_time": "2022-05-12T13:46:32.635Z"
   },
   {
    "duration": 15,
    "start_time": "2022-05-12T13:46:33.815Z"
   },
   {
    "duration": 28,
    "start_time": "2022-05-12T13:46:33.831Z"
   },
   {
    "duration": 13,
    "start_time": "2022-05-12T13:46:33.861Z"
   },
   {
    "duration": 3,
    "start_time": "2022-05-12T13:46:33.876Z"
   },
   {
    "duration": 1185,
    "start_time": "2022-05-12T14:31:58.700Z"
   },
   {
    "duration": 43,
    "start_time": "2022-05-12T14:31:59.887Z"
   },
   {
    "duration": 19,
    "start_time": "2022-05-12T14:31:59.932Z"
   },
   {
    "duration": 16,
    "start_time": "2022-05-12T14:31:59.953Z"
   },
   {
    "duration": 34,
    "start_time": "2022-05-12T14:31:59.971Z"
   },
   {
    "duration": 37,
    "start_time": "2022-05-12T14:32:00.007Z"
   },
   {
    "duration": 8,
    "start_time": "2022-05-12T14:32:00.047Z"
   },
   {
    "duration": 21,
    "start_time": "2022-05-12T14:32:00.057Z"
   },
   {
    "duration": 13,
    "start_time": "2022-05-12T14:32:00.080Z"
   },
   {
    "duration": 40,
    "start_time": "2022-05-12T14:32:00.095Z"
   },
   {
    "duration": 4,
    "start_time": "2022-05-12T14:32:00.137Z"
   },
   {
    "duration": 11,
    "start_time": "2022-05-12T14:32:00.143Z"
   },
   {
    "duration": 7,
    "start_time": "2022-05-12T14:32:00.156Z"
   },
   {
    "duration": 33,
    "start_time": "2022-05-12T14:32:00.167Z"
   },
   {
    "duration": 34,
    "start_time": "2022-05-12T14:32:00.202Z"
   },
   {
    "duration": 12,
    "start_time": "2022-05-12T14:32:00.238Z"
   },
   {
    "duration": 8,
    "start_time": "2022-05-12T14:32:00.252Z"
   },
   {
    "duration": 16,
    "start_time": "2022-05-12T14:32:00.261Z"
   },
   {
    "duration": 8,
    "start_time": "2022-05-12T14:32:00.279Z"
   },
   {
    "duration": 12,
    "start_time": "2022-05-12T14:32:00.289Z"
   },
   {
    "duration": 13,
    "start_time": "2022-05-12T14:32:00.302Z"
   },
   {
    "duration": 6,
    "start_time": "2022-05-12T14:32:00.333Z"
   },
   {
    "duration": 14,
    "start_time": "2022-05-12T14:32:00.341Z"
   },
   {
    "duration": 15,
    "start_time": "2022-05-12T14:32:00.357Z"
   },
   {
    "duration": 14,
    "start_time": "2022-05-12T14:32:00.373Z"
   },
   {
    "duration": 18,
    "start_time": "2022-05-12T14:32:00.389Z"
   },
   {
    "duration": 19,
    "start_time": "2022-05-12T14:32:00.409Z"
   },
   {
    "duration": 11,
    "start_time": "2022-05-12T14:32:00.430Z"
   },
   {
    "duration": 21,
    "start_time": "2022-05-12T14:32:00.443Z"
   },
   {
    "duration": 17,
    "start_time": "2022-05-12T14:32:00.466Z"
   },
   {
    "duration": 20,
    "start_time": "2022-05-12T14:32:00.485Z"
   },
   {
    "duration": 27,
    "start_time": "2022-05-12T14:32:00.507Z"
   },
   {
    "duration": 8,
    "start_time": "2022-05-12T14:32:00.537Z"
   },
   {
    "duration": 10,
    "start_time": "2022-05-12T14:32:00.547Z"
   },
   {
    "duration": 216,
    "start_time": "2022-05-12T14:32:00.559Z"
   },
   {
    "duration": 708,
    "start_time": "2022-05-12T14:32:00.777Z"
   },
   {
    "duration": 1373,
    "start_time": "2022-05-12T14:32:01.487Z"
   },
   {
    "duration": 8,
    "start_time": "2022-05-12T14:32:02.862Z"
   },
   {
    "duration": 8,
    "start_time": "2022-05-12T14:32:02.871Z"
   },
   {
    "duration": 14,
    "start_time": "2022-05-12T14:32:02.881Z"
   },
   {
    "duration": 13,
    "start_time": "2022-05-12T14:32:02.900Z"
   },
   {
    "duration": 838,
    "start_time": "2022-05-12T14:32:02.933Z"
   },
   {
    "duration": 111,
    "start_time": "2022-05-12T14:32:03.773Z"
   },
   {
    "duration": 0,
    "start_time": "2022-05-12T14:32:03.887Z"
   },
   {
    "duration": 0,
    "start_time": "2022-05-12T14:32:03.887Z"
   },
   {
    "duration": 0,
    "start_time": "2022-05-12T14:32:03.889Z"
   },
   {
    "duration": 0,
    "start_time": "2022-05-12T14:32:03.890Z"
   },
   {
    "duration": 0,
    "start_time": "2022-05-12T14:32:03.892Z"
   },
   {
    "duration": 1,
    "start_time": "2022-05-12T14:32:03.893Z"
   },
   {
    "duration": 0,
    "start_time": "2022-05-12T14:32:03.895Z"
   },
   {
    "duration": 0,
    "start_time": "2022-05-12T14:32:03.896Z"
   },
   {
    "duration": 0,
    "start_time": "2022-05-12T14:32:03.898Z"
   },
   {
    "duration": 0,
    "start_time": "2022-05-12T14:32:03.900Z"
   },
   {
    "duration": 0,
    "start_time": "2022-05-12T14:32:03.901Z"
   },
   {
    "duration": 0,
    "start_time": "2022-05-12T14:32:03.903Z"
   },
   {
    "duration": 0,
    "start_time": "2022-05-12T14:32:03.935Z"
   },
   {
    "duration": 0,
    "start_time": "2022-05-12T14:32:03.936Z"
   },
   {
    "duration": 0,
    "start_time": "2022-05-12T14:32:03.938Z"
   },
   {
    "duration": 0,
    "start_time": "2022-05-12T14:32:03.939Z"
   },
   {
    "duration": 0,
    "start_time": "2022-05-12T14:32:03.941Z"
   },
   {
    "duration": 0,
    "start_time": "2022-05-12T14:32:03.942Z"
   },
   {
    "duration": 0,
    "start_time": "2022-05-12T14:32:03.944Z"
   },
   {
    "duration": 0,
    "start_time": "2022-05-12T14:32:03.945Z"
   },
   {
    "duration": 0,
    "start_time": "2022-05-12T14:32:03.947Z"
   },
   {
    "duration": 0,
    "start_time": "2022-05-12T14:32:03.948Z"
   },
   {
    "duration": 1190,
    "start_time": "2022-05-12T14:45:15.022Z"
   },
   {
    "duration": 54,
    "start_time": "2022-05-12T14:45:16.214Z"
   },
   {
    "duration": 20,
    "start_time": "2022-05-12T14:45:16.269Z"
   },
   {
    "duration": 17,
    "start_time": "2022-05-12T14:45:16.291Z"
   },
   {
    "duration": 50,
    "start_time": "2022-05-12T14:45:16.309Z"
   },
   {
    "duration": 11,
    "start_time": "2022-05-12T14:45:16.361Z"
   },
   {
    "duration": 25,
    "start_time": "2022-05-12T14:45:16.374Z"
   },
   {
    "duration": 24,
    "start_time": "2022-05-12T14:45:16.402Z"
   },
   {
    "duration": 14,
    "start_time": "2022-05-12T14:45:16.428Z"
   },
   {
    "duration": 4,
    "start_time": "2022-05-12T14:45:16.445Z"
   },
   {
    "duration": 10,
    "start_time": "2022-05-12T14:45:16.451Z"
   },
   {
    "duration": 8,
    "start_time": "2022-05-12T14:45:16.463Z"
   },
   {
    "duration": 11,
    "start_time": "2022-05-12T14:45:16.473Z"
   },
   {
    "duration": 54,
    "start_time": "2022-05-12T14:45:16.486Z"
   },
   {
    "duration": 6,
    "start_time": "2022-05-12T14:45:16.542Z"
   },
   {
    "duration": 9,
    "start_time": "2022-05-12T14:45:16.549Z"
   },
   {
    "duration": 6,
    "start_time": "2022-05-12T14:45:16.560Z"
   },
   {
    "duration": 13,
    "start_time": "2022-05-12T14:45:16.568Z"
   },
   {
    "duration": 8,
    "start_time": "2022-05-12T14:45:16.583Z"
   },
   {
    "duration": 11,
    "start_time": "2022-05-12T14:45:16.593Z"
   },
   {
    "duration": 7,
    "start_time": "2022-05-12T14:45:16.606Z"
   },
   {
    "duration": 22,
    "start_time": "2022-05-12T14:45:16.614Z"
   },
   {
    "duration": 10,
    "start_time": "2022-05-12T14:45:16.638Z"
   },
   {
    "duration": 16,
    "start_time": "2022-05-12T14:45:16.649Z"
   },
   {
    "duration": 6,
    "start_time": "2022-05-12T14:45:16.667Z"
   },
   {
    "duration": 13,
    "start_time": "2022-05-12T14:45:16.675Z"
   },
   {
    "duration": 7,
    "start_time": "2022-05-12T14:45:16.689Z"
   },
   {
    "duration": 9,
    "start_time": "2022-05-12T14:45:16.701Z"
   },
   {
    "duration": 41,
    "start_time": "2022-05-12T14:45:16.711Z"
   },
   {
    "duration": 6,
    "start_time": "2022-05-12T14:45:16.754Z"
   },
   {
    "duration": 20,
    "start_time": "2022-05-12T14:45:16.762Z"
   },
   {
    "duration": 25,
    "start_time": "2022-05-12T14:45:16.784Z"
   },
   {
    "duration": 30,
    "start_time": "2022-05-12T14:45:16.811Z"
   },
   {
    "duration": 16,
    "start_time": "2022-05-12T14:45:16.843Z"
   },
   {
    "duration": 215,
    "start_time": "2022-05-12T14:45:16.862Z"
   },
   {
    "duration": 697,
    "start_time": "2022-05-12T14:45:17.079Z"
   },
   {
    "duration": 1397,
    "start_time": "2022-05-12T14:45:17.778Z"
   },
   {
    "duration": 9,
    "start_time": "2022-05-12T14:45:19.177Z"
   },
   {
    "duration": 9,
    "start_time": "2022-05-12T14:45:19.189Z"
   },
   {
    "duration": 37,
    "start_time": "2022-05-12T14:45:19.200Z"
   },
   {
    "duration": 11,
    "start_time": "2022-05-12T14:45:19.239Z"
   },
   {
    "duration": 866,
    "start_time": "2022-05-12T14:45:19.252Z"
   },
   {
    "duration": 3,
    "start_time": "2022-05-12T14:45:20.120Z"
   },
   {
    "duration": 14,
    "start_time": "2022-05-12T14:45:20.134Z"
   },
   {
    "duration": 60,
    "start_time": "2022-05-12T14:45:20.150Z"
   },
   {
    "duration": 308,
    "start_time": "2022-05-12T14:45:20.212Z"
   },
   {
    "duration": 14,
    "start_time": "2022-05-12T14:45:20.522Z"
   },
   {
    "duration": 333,
    "start_time": "2022-05-12T14:45:20.538Z"
   },
   {
    "duration": 333,
    "start_time": "2022-05-12T14:45:20.873Z"
   },
   {
    "duration": 406,
    "start_time": "2022-05-12T14:45:21.208Z"
   },
   {
    "duration": 5,
    "start_time": "2022-05-12T14:45:21.616Z"
   },
   {
    "duration": 17,
    "start_time": "2022-05-12T14:45:21.623Z"
   },
   {
    "duration": 246,
    "start_time": "2022-05-12T14:45:21.641Z"
   },
   {
    "duration": 329,
    "start_time": "2022-05-12T14:45:21.888Z"
   },
   {
    "duration": 33,
    "start_time": "2022-05-12T14:45:22.220Z"
   },
   {
    "duration": 337,
    "start_time": "2022-05-12T14:45:22.255Z"
   },
   {
    "duration": 329,
    "start_time": "2022-05-12T14:45:22.594Z"
   },
   {
    "duration": 437,
    "start_time": "2022-05-12T14:45:22.924Z"
   },
   {
    "duration": 7,
    "start_time": "2022-05-12T14:45:23.363Z"
   },
   {
    "duration": 229,
    "start_time": "2022-05-12T14:45:23.371Z"
   },
   {
    "duration": 1068,
    "start_time": "2022-05-12T14:45:23.602Z"
   },
   {
    "duration": 11,
    "start_time": "2022-05-12T14:45:24.672Z"
   },
   {
    "duration": 9,
    "start_time": "2022-05-12T14:45:24.684Z"
   },
   {
    "duration": 15,
    "start_time": "2022-05-12T14:45:24.695Z"
   },
   {
    "duration": 4,
    "start_time": "2022-05-12T14:45:24.733Z"
   },
   {
    "duration": 1307,
    "start_time": "2022-05-13T13:58:54.727Z"
   },
   {
    "duration": 42,
    "start_time": "2022-05-13T13:58:56.035Z"
   },
   {
    "duration": 18,
    "start_time": "2022-05-13T13:58:56.079Z"
   },
   {
    "duration": 14,
    "start_time": "2022-05-13T13:58:56.099Z"
   },
   {
    "duration": 30,
    "start_time": "2022-05-13T13:58:56.115Z"
   },
   {
    "duration": 9,
    "start_time": "2022-05-13T13:58:56.147Z"
   },
   {
    "duration": 8,
    "start_time": "2022-05-13T13:58:56.157Z"
   },
   {
    "duration": 18,
    "start_time": "2022-05-13T13:58:56.188Z"
   },
   {
    "duration": 10,
    "start_time": "2022-05-13T13:58:56.208Z"
   },
   {
    "duration": 4,
    "start_time": "2022-05-13T13:58:56.221Z"
   },
   {
    "duration": 8,
    "start_time": "2022-05-13T13:58:56.227Z"
   },
   {
    "duration": 7,
    "start_time": "2022-05-13T13:58:56.236Z"
   },
   {
    "duration": 7,
    "start_time": "2022-05-13T13:58:56.245Z"
   },
   {
    "duration": 61,
    "start_time": "2022-05-13T13:58:56.254Z"
   },
   {
    "duration": 5,
    "start_time": "2022-05-13T13:58:56.317Z"
   },
   {
    "duration": 9,
    "start_time": "2022-05-13T13:58:56.324Z"
   },
   {
    "duration": 5,
    "start_time": "2022-05-13T13:58:56.335Z"
   },
   {
    "duration": 8,
    "start_time": "2022-05-13T13:58:56.342Z"
   },
   {
    "duration": 5,
    "start_time": "2022-05-13T13:58:56.352Z"
   },
   {
    "duration": 31,
    "start_time": "2022-05-13T13:58:56.358Z"
   },
   {
    "duration": 5,
    "start_time": "2022-05-13T13:58:56.391Z"
   },
   {
    "duration": 7,
    "start_time": "2022-05-13T13:58:56.398Z"
   },
   {
    "duration": 6,
    "start_time": "2022-05-13T13:58:56.407Z"
   },
   {
    "duration": 11,
    "start_time": "2022-05-13T13:58:56.415Z"
   },
   {
    "duration": 6,
    "start_time": "2022-05-13T13:58:56.427Z"
   },
   {
    "duration": 12,
    "start_time": "2022-05-13T13:58:56.434Z"
   },
   {
    "duration": 6,
    "start_time": "2022-05-13T13:58:56.448Z"
   },
   {
    "duration": 6,
    "start_time": "2022-05-13T13:58:56.488Z"
   },
   {
    "duration": 17,
    "start_time": "2022-05-13T13:58:56.496Z"
   },
   {
    "duration": 5,
    "start_time": "2022-05-13T13:58:56.515Z"
   },
   {
    "duration": 12,
    "start_time": "2022-05-13T13:58:56.522Z"
   },
   {
    "duration": 15,
    "start_time": "2022-05-13T13:58:56.535Z"
   },
   {
    "duration": 8,
    "start_time": "2022-05-13T13:58:56.551Z"
   },
   {
    "duration": 5,
    "start_time": "2022-05-13T13:58:56.588Z"
   },
   {
    "duration": 185,
    "start_time": "2022-05-13T13:58:56.595Z"
   },
   {
    "duration": 613,
    "start_time": "2022-05-13T13:58:56.782Z"
   },
   {
    "duration": 1206,
    "start_time": "2022-05-13T13:58:57.397Z"
   },
   {
    "duration": 8,
    "start_time": "2022-05-13T13:58:58.605Z"
   },
   {
    "duration": 10,
    "start_time": "2022-05-13T13:58:58.614Z"
   },
   {
    "duration": 11,
    "start_time": "2022-05-13T13:58:58.626Z"
   },
   {
    "duration": 12,
    "start_time": "2022-05-13T13:58:58.639Z"
   },
   {
    "duration": 776,
    "start_time": "2022-05-13T13:58:58.653Z"
   },
   {
    "duration": 3,
    "start_time": "2022-05-13T13:58:59.430Z"
   },
   {
    "duration": 17,
    "start_time": "2022-05-13T13:58:59.435Z"
   },
   {
    "duration": 65,
    "start_time": "2022-05-13T13:58:59.454Z"
   },
   {
    "duration": 253,
    "start_time": "2022-05-13T13:58:59.521Z"
   },
   {
    "duration": 12,
    "start_time": "2022-05-13T13:58:59.776Z"
   },
   {
    "duration": 306,
    "start_time": "2022-05-13T13:58:59.790Z"
   },
   {
    "duration": 310,
    "start_time": "2022-05-13T13:59:00.098Z"
   },
   {
    "duration": 386,
    "start_time": "2022-05-13T13:59:00.411Z"
   },
   {
    "duration": 4,
    "start_time": "2022-05-13T13:59:00.800Z"
   },
   {
    "duration": 19,
    "start_time": "2022-05-13T13:59:00.805Z"
   },
   {
    "duration": 220,
    "start_time": "2022-05-13T13:59:00.826Z"
   },
   {
    "duration": 298,
    "start_time": "2022-05-13T13:59:01.048Z"
   },
   {
    "duration": 20,
    "start_time": "2022-05-13T13:59:01.348Z"
   },
   {
    "duration": 299,
    "start_time": "2022-05-13T13:59:01.370Z"
   },
   {
    "duration": 308,
    "start_time": "2022-05-13T13:59:01.672Z"
   },
   {
    "duration": 421,
    "start_time": "2022-05-13T13:59:01.981Z"
   },
   {
    "duration": 7,
    "start_time": "2022-05-13T13:59:02.404Z"
   },
   {
    "duration": 211,
    "start_time": "2022-05-13T13:59:02.413Z"
   },
   {
    "duration": 948,
    "start_time": "2022-05-13T13:59:02.625Z"
   },
   {
    "duration": 16,
    "start_time": "2022-05-13T13:59:03.575Z"
   },
   {
    "duration": 5,
    "start_time": "2022-05-13T13:59:03.592Z"
   },
   {
    "duration": 18,
    "start_time": "2022-05-13T13:59:03.599Z"
   },
   {
    "duration": 8,
    "start_time": "2022-05-13T13:59:03.618Z"
   }
  ],
  "kernelspec": {
   "display_name": "Python 3 (ipykernel)",
   "language": "python",
   "name": "python3"
  },
  "language_info": {
   "codemirror_mode": {
    "name": "ipython",
    "version": 3
   },
   "file_extension": ".py",
   "mimetype": "text/x-python",
   "name": "python",
   "nbconvert_exporter": "python",
   "pygments_lexer": "ipython3",
   "version": "3.9.12"
  },
  "toc": {
   "base_numbering": 1,
   "nav_menu": {},
   "number_sections": true,
   "sideBar": true,
   "skip_h1_title": true,
   "title_cell": "Table of Contents",
   "title_sidebar": "Contents",
   "toc_cell": false,
   "toc_position": {},
   "toc_section_display": true,
   "toc_window_display": false
  }
 },
 "nbformat": 4,
 "nbformat_minor": 2
}
