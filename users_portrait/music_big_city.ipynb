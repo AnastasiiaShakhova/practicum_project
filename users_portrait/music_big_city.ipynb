{
 "cells": [
  {
   "cell_type": "markdown",
   "metadata": {
    "id": "E0vqbgi9ay0H"
   },
   "source": [
    "# Яндекс.Музыка"
   ]
  },
  {
   "cell_type": "markdown",
   "metadata": {
    "id": "VUC88oWjTJw2"
   },
   "source": [
    "На данных Яндекс.Музыки сравнить поведение пользователей Москвы и Санкт-Петербурга.\n",
    "\n",
    "**Цель исследования** — проверить гипотезы:\n",
    "1. Активность пользователей зависит от дня недели. Причём в Москве и Петербурге это проявляется по-разному.\n",
    "2. В понедельник утром в Москве преобладают одни жанры, а в Петербурге — другие. Так же и вечером пятницы преобладают разные жанры — в зависимости от города. \n",
    "3. Москва и Петербург предпочитают разные жанры музыки. В Москве чаще слушают поп-музыку, в Петербурге — русский рэп."
   ]
  },
  {
   "cell_type": "markdown",
   "metadata": {
    "id": "Ml1hmfXC_Zcs"
   },
   "source": [
    "## Обзор данных\n",
    "\n"
   ]
  },
  {
   "cell_type": "code",
   "execution_count": 1,
   "metadata": {
    "id": "AXN7PHPN_Zcs"
   },
   "outputs": [],
   "source": [
    "import pandas as pd# импорт библиотеки pandas"
   ]
  },
  {
   "cell_type": "code",
   "execution_count": 2,
   "metadata": {
    "id": "fFVu7vqh_Zct"
   },
   "outputs": [],
   "source": [
    "df = pd.read_csv('/datasets/yandex_music_project.csv')# чтение файла с данными и сохранение в df"
   ]
  },
  {
   "cell_type": "markdown",
   "metadata": {},
   "source": [
    "Посмотрим на данные"
   ]
  },
  {
   "cell_type": "code",
   "execution_count": 3,
   "metadata": {
    "id": "oWTVX3gW_Zct"
   },
   "outputs": [
    {
     "data": {
      "text/html": [
       "<div>\n",
       "<style scoped>\n",
       "    .dataframe tbody tr th:only-of-type {\n",
       "        vertical-align: middle;\n",
       "    }\n",
       "\n",
       "    .dataframe tbody tr th {\n",
       "        vertical-align: top;\n",
       "    }\n",
       "\n",
       "    .dataframe thead th {\n",
       "        text-align: right;\n",
       "    }\n",
       "</style>\n",
       "<table border=\"1\" class=\"dataframe\">\n",
       "  <thead>\n",
       "    <tr style=\"text-align: right;\">\n",
       "      <th></th>\n",
       "      <th>userID</th>\n",
       "      <th>Track</th>\n",
       "      <th>artist</th>\n",
       "      <th>genre</th>\n",
       "      <th>City</th>\n",
       "      <th>time</th>\n",
       "      <th>Day</th>\n",
       "    </tr>\n",
       "  </thead>\n",
       "  <tbody>\n",
       "    <tr>\n",
       "      <td>0</td>\n",
       "      <td>FFB692EC</td>\n",
       "      <td>Kamigata To Boots</td>\n",
       "      <td>The Mass Missile</td>\n",
       "      <td>rock</td>\n",
       "      <td>Saint-Petersburg</td>\n",
       "      <td>20:28:33</td>\n",
       "      <td>Wednesday</td>\n",
       "    </tr>\n",
       "    <tr>\n",
       "      <td>1</td>\n",
       "      <td>55204538</td>\n",
       "      <td>Delayed Because of Accident</td>\n",
       "      <td>Andreas Rönnberg</td>\n",
       "      <td>rock</td>\n",
       "      <td>Moscow</td>\n",
       "      <td>14:07:09</td>\n",
       "      <td>Friday</td>\n",
       "    </tr>\n",
       "    <tr>\n",
       "      <td>2</td>\n",
       "      <td>20EC38</td>\n",
       "      <td>Funiculì funiculà</td>\n",
       "      <td>Mario Lanza</td>\n",
       "      <td>pop</td>\n",
       "      <td>Saint-Petersburg</td>\n",
       "      <td>20:58:07</td>\n",
       "      <td>Wednesday</td>\n",
       "    </tr>\n",
       "    <tr>\n",
       "      <td>3</td>\n",
       "      <td>A3DD03C9</td>\n",
       "      <td>Dragons in the Sunset</td>\n",
       "      <td>Fire + Ice</td>\n",
       "      <td>folk</td>\n",
       "      <td>Saint-Petersburg</td>\n",
       "      <td>08:37:09</td>\n",
       "      <td>Monday</td>\n",
       "    </tr>\n",
       "    <tr>\n",
       "      <td>4</td>\n",
       "      <td>E2DC1FAE</td>\n",
       "      <td>Soul People</td>\n",
       "      <td>Space Echo</td>\n",
       "      <td>dance</td>\n",
       "      <td>Moscow</td>\n",
       "      <td>08:34:34</td>\n",
       "      <td>Monday</td>\n",
       "    </tr>\n",
       "    <tr>\n",
       "      <td>5</td>\n",
       "      <td>842029A1</td>\n",
       "      <td>Преданная</td>\n",
       "      <td>IMPERVTOR</td>\n",
       "      <td>rusrap</td>\n",
       "      <td>Saint-Petersburg</td>\n",
       "      <td>13:09:41</td>\n",
       "      <td>Friday</td>\n",
       "    </tr>\n",
       "    <tr>\n",
       "      <td>6</td>\n",
       "      <td>4CB90AA5</td>\n",
       "      <td>True</td>\n",
       "      <td>Roman Messer</td>\n",
       "      <td>dance</td>\n",
       "      <td>Moscow</td>\n",
       "      <td>13:00:07</td>\n",
       "      <td>Wednesday</td>\n",
       "    </tr>\n",
       "    <tr>\n",
       "      <td>7</td>\n",
       "      <td>F03E1C1F</td>\n",
       "      <td>Feeling This Way</td>\n",
       "      <td>Polina Griffith</td>\n",
       "      <td>dance</td>\n",
       "      <td>Moscow</td>\n",
       "      <td>20:47:49</td>\n",
       "      <td>Wednesday</td>\n",
       "    </tr>\n",
       "    <tr>\n",
       "      <td>8</td>\n",
       "      <td>8FA1D3BE</td>\n",
       "      <td>И вновь продолжается бой</td>\n",
       "      <td>NaN</td>\n",
       "      <td>ruspop</td>\n",
       "      <td>Moscow</td>\n",
       "      <td>09:17:40</td>\n",
       "      <td>Friday</td>\n",
       "    </tr>\n",
       "    <tr>\n",
       "      <td>9</td>\n",
       "      <td>E772D5C0</td>\n",
       "      <td>Pessimist</td>\n",
       "      <td>NaN</td>\n",
       "      <td>dance</td>\n",
       "      <td>Saint-Petersburg</td>\n",
       "      <td>21:20:49</td>\n",
       "      <td>Wednesday</td>\n",
       "    </tr>\n",
       "  </tbody>\n",
       "</table>\n",
       "</div>"
      ],
      "text/plain": [
       "     userID                        Track            artist   genre  \\\n",
       "0  FFB692EC            Kamigata To Boots  The Mass Missile    rock   \n",
       "1  55204538  Delayed Because of Accident  Andreas Rönnberg    rock   \n",
       "2    20EC38            Funiculì funiculà       Mario Lanza     pop   \n",
       "3  A3DD03C9        Dragons in the Sunset        Fire + Ice    folk   \n",
       "4  E2DC1FAE                  Soul People        Space Echo   dance   \n",
       "5  842029A1                    Преданная         IMPERVTOR  rusrap   \n",
       "6  4CB90AA5                         True      Roman Messer   dance   \n",
       "7  F03E1C1F             Feeling This Way   Polina Griffith   dance   \n",
       "8  8FA1D3BE     И вновь продолжается бой               NaN  ruspop   \n",
       "9  E772D5C0                    Pessimist               NaN   dance   \n",
       "\n",
       "             City        time        Day  \n",
       "0  Saint-Petersburg  20:28:33  Wednesday  \n",
       "1            Moscow  14:07:09     Friday  \n",
       "2  Saint-Petersburg  20:58:07  Wednesday  \n",
       "3  Saint-Petersburg  08:37:09     Monday  \n",
       "4            Moscow  08:34:34     Monday  \n",
       "5  Saint-Petersburg  13:09:41     Friday  \n",
       "6            Moscow  13:00:07  Wednesday  \n",
       "7            Moscow  20:47:49  Wednesday  \n",
       "8            Moscow  09:17:40     Friday  \n",
       "9  Saint-Petersburg  21:20:49  Wednesday  "
      ]
     },
     "execution_count": 3,
     "metadata": {},
     "output_type": "execute_result"
    }
   ],
   "source": [
    "df.head(10)# получение первых 10 строк таблицы df"
   ]
  },
  {
   "cell_type": "markdown",
   "metadata": {
    "id": "EO73Kwic_Zct"
   },
   "source": [
    "Получим общую информацию о таблице:"
   ]
  },
  {
   "cell_type": "code",
   "execution_count": 5,
   "metadata": {
    "id": "DSf2kIb-_Zct"
   },
   "outputs": [
    {
     "name": "stdout",
     "output_type": "stream",
     "text": [
      "<class 'pandas.core.frame.DataFrame'>\n",
      "RangeIndex: 65079 entries, 0 to 65078\n",
      "Data columns (total 7 columns):\n",
      "  userID    65079 non-null object\n",
      "Track       63848 non-null object\n",
      "artist      57876 non-null object\n",
      "genre       63881 non-null object\n",
      "  City      65079 non-null object\n",
      "time        65079 non-null object\n",
      "Day         65079 non-null object\n",
      "dtypes: object(7)\n",
      "memory usage: 3.5+ MB\n"
     ]
    }
   ],
   "source": [
    "df.info()# получение общей информации о данных в таблице df"
   ]
  },
  {
   "cell_type": "markdown",
   "metadata": {
    "id": "TaQ2Iwbr_Zct"
   },
   "source": [
    "Итак, в таблице семь столбцов. Тип данных во всех столбцах — `object`.\n",
    "\n",
    "Согласно документации к данным:\n",
    "* `userID` — идентификатор пользователя;\n",
    "* `Track` — название трека;  \n",
    "* `artist` — имя исполнителя;\n",
    "* `genre` — название жанра;\n",
    "* `City` — город пользователя;\n",
    "* `time` — время начала прослушивания;\n",
    "* `Day` — день недели.\n",
    "\n",
    "В названиях колонок видны три нарушения стиля:\n",
    "1. Строчные буквы сочетаются с прописными.\n",
    "2. Встречаются пробелы.\n",
    "3. Некачественные названия двух последних столбцов: `time` - без документации неясно, что это за время (общее время прослушивания, время начала или завершения композиции), `Day` - та же проблема, какой день? Года, месяца, недели (хотя в этом пункте, вопросы к названию, конечно, снимает просмотр первых 10 строк датафрейма, но для большей ясности такое название все же уточним).\n",
    "\n",
    "\n",
    "\n",
    "Количество значений в столбцах различается. Значит, в данных есть пропущенные значения.\n"
   ]
  },
  {
   "cell_type": "markdown",
   "metadata": {
    "id": "MCB6-dXG_Zct"
   },
   "source": [
    "**Выводы**\n",
    "\n",
    "В каждой строке таблицы — данные о прослушанном треке. Часть колонок описывает саму композицию: название, исполнителя и жанр. Остальные данные рассказывают о пользователе: из какого он города, когда он слушал музыку. \n",
    "\n",
    "Предварительно можно утверждать, что, данных достаточно для проверки гипотез. Но встречаются пропуски в данных, а в названиях колонок — расхождения с хорошим стилем.\n",
    "\n",
    "Чтобы двигаться дальше, нужно устранить проблемы в данных."
   ]
  },
  {
   "cell_type": "markdown",
   "metadata": {
    "id": "SjYF6Ub9_Zct"
   },
   "source": [
    "## Предобработка данных\n"
   ]
  },
  {
   "cell_type": "markdown",
   "metadata": {
    "id": "dIaKXr29_Zct"
   },
   "source": [
    "### Стиль заголовков\n"
   ]
  },
  {
   "cell_type": "code",
   "execution_count": 6,
   "metadata": {
    "id": "oKOTdF_Q_Zct"
   },
   "outputs": [
    {
     "data": {
      "text/plain": [
       "Index(['  userID', 'Track', 'artist', 'genre', '  City  ', 'time', 'Day'], dtype='object')"
      ]
     },
     "execution_count": 6,
     "metadata": {},
     "output_type": "execute_result"
    }
   ],
   "source": [
    "df.columns# перечень названий столбцов таблицы df"
   ]
  },
  {
   "cell_type": "markdown",
   "metadata": {
    "id": "zj5534cv_Zct"
   },
   "source": [
    "Приведите названия в соответствие с хорошим стилем"
   ]
  },
  {
   "cell_type": "code",
   "execution_count": 7,
   "metadata": {
    "id": "ISlFqs5y_Zct"
   },
   "outputs": [],
   "source": [
    "df = df.rename(columns={'  userID':'user_id', 'Track':'track', '  City  ':'city', 'time':'start_time', 'Day':'week_day'})    \n",
    "# переименование столбцов"
   ]
  },
  {
   "cell_type": "code",
   "execution_count": 8,
   "metadata": {
    "id": "d4NOAmTW_Zct"
   },
   "outputs": [
    {
     "data": {
      "text/plain": [
       "Index(['user_id', 'track', 'artist', 'genre', 'city', 'start_time',\n",
       "       'week_day'],\n",
       "      dtype='object')"
      ]
     },
     "execution_count": 8,
     "metadata": {},
     "output_type": "execute_result"
    }
   ],
   "source": [
    "df.columns# проверка результатов - перечень названий столбцов"
   ]
  },
  {
   "cell_type": "markdown",
   "metadata": {
    "id": "5ISfbcfY_Zct"
   },
   "source": [
    "### Пропуски значений\n"
   ]
  },
  {
   "cell_type": "code",
   "execution_count": 9,
   "metadata": {
    "id": "RskX29qr_Zct"
   },
   "outputs": [
    {
     "data": {
      "text/plain": [
       "user_id          0\n",
       "track         1231\n",
       "artist        7203\n",
       "genre         1198\n",
       "city             0\n",
       "start_time       0\n",
       "week_day         0\n",
       "dtype: int64"
      ]
     },
     "execution_count": 9,
     "metadata": {},
     "output_type": "execute_result"
    }
   ],
   "source": [
    "df.isna().sum()# подсчёт пропусков"
   ]
  },
  {
   "cell_type": "markdown",
   "metadata": {
    "id": "qubhgnlO_Zct"
   },
   "source": [
    "Не все пропущенные значения влияют на исследование. В `track` и `artist` пропуски достаточно заменить явными обозначениями.\n",
    "\n",
    "Пропуски в `genre` значимы, но установить причину и восстановить данные в данном проекте невозможно, поэтому:\n",
    "* заполним и эти пропуски явными обозначениями,\n",
    "* оценим, насколько они повредят расчётам. "
   ]
  },
  {
   "cell_type": "code",
   "execution_count": 10,
   "metadata": {
    "id": "KplB5qWs_Zct"
   },
   "outputs": [],
   "source": [
    "columns_to_replace = ['track', 'artist', 'genre']\n",
    "for columns in columns_to_replace:\n",
    "    df[columns] = df[columns].fillna('unknown')# перебор названий столбцов в цикле и замена пропущенных значений на 'unknown'"
   ]
  },
  {
   "cell_type": "code",
   "execution_count": 11,
   "metadata": {
    "id": "Tq4nYRX4_Zct"
   },
   "outputs": [
    {
     "data": {
      "text/plain": [
       "user_id       0\n",
       "track         0\n",
       "artist        0\n",
       "genre         0\n",
       "city          0\n",
       "start_time    0\n",
       "week_day      0\n",
       "dtype: int64"
      ]
     },
     "execution_count": 11,
     "metadata": {},
     "output_type": "execute_result"
    }
   ],
   "source": [
    "df.isna().sum()# подсчёт пропусков, проверка"
   ]
  },
  {
   "cell_type": "markdown",
   "metadata": {
    "id": "BWKRtBJ3_Zct"
   },
   "source": [
    "### Дубликаты\n"
   ]
  },
  {
   "cell_type": "markdown",
   "metadata": {},
   "source": [
    "**Явные дубликаты: проверка и обработка**"
   ]
  },
  {
   "cell_type": "code",
   "execution_count": 12,
   "metadata": {
    "id": "36eES_S0_Zct"
   },
   "outputs": [
    {
     "data": {
      "text/plain": [
       "3826"
      ]
     },
     "execution_count": 12,
     "metadata": {},
     "output_type": "execute_result"
    }
   ],
   "source": [
    "df.duplicated().sum()# подсчёт явных дубликатов"
   ]
  },
  {
   "cell_type": "code",
   "execution_count": 13,
   "metadata": {
    "id": "exFHq6tt_Zct"
   },
   "outputs": [],
   "source": [
    "df = df.drop_duplicates().reset_index(drop=True)# удаление явных дубликатов (с удалением старых индексов и формированием новых)"
   ]
  },
  {
   "cell_type": "code",
   "execution_count": 14,
   "metadata": {
    "id": "-8PuNWQ0_Zct"
   },
   "outputs": [
    {
     "data": {
      "text/plain": [
       "0"
      ]
     },
     "execution_count": 14,
     "metadata": {},
     "output_type": "execute_result"
    }
   ],
   "source": [
    "df.duplicated().sum()# проверка на отсутствие дубликатов"
   ]
  },
  {
   "cell_type": "markdown",
   "metadata": {},
   "source": [
    "**Неявные дубликаты: проверка и обработка**"
   ]
  },
  {
   "cell_type": "markdown",
   "metadata": {
    "id": "eSjWwsOh_Zct"
   },
   "source": [
    "Просмотрим уникальные названия жанров, отсортированный в алфавитном порядке."
   ]
  },
  {
   "cell_type": "code",
   "execution_count": 15,
   "metadata": {
    "id": "JIUcqzZN_Zct"
   },
   "outputs": [
    {
     "data": {
      "text/plain": [
       "array(['acid', 'acoustic', 'action', 'adult', 'africa', 'afrikaans',\n",
       "       'alternative', 'alternativepunk', 'ambient', 'americana',\n",
       "       'animated', 'anime', 'arabesk', 'arabic', 'arena',\n",
       "       'argentinetango', 'art', 'audiobook', 'author', 'avantgarde',\n",
       "       'axé', 'baile', 'balkan', 'beats', 'bigroom', 'black', 'bluegrass',\n",
       "       'blues', 'bollywood', 'bossa', 'brazilian', 'breakbeat', 'breaks',\n",
       "       'broadway', 'cantautori', 'cantopop', 'canzone', 'caribbean',\n",
       "       'caucasian', 'celtic', 'chamber', 'chanson', 'children', 'chill',\n",
       "       'chinese', 'choral', 'christian', 'christmas', 'classical',\n",
       "       'classicmetal', 'club', 'colombian', 'comedy', 'conjazz',\n",
       "       'contemporary', 'country', 'cuban', 'dance', 'dancehall',\n",
       "       'dancepop', 'dark', 'death', 'deep', 'deutschrock', 'deutschspr',\n",
       "       'dirty', 'disco', 'dnb', 'documentary', 'downbeat', 'downtempo',\n",
       "       'drum', 'dub', 'dubstep', 'eastern', 'easy', 'electronic',\n",
       "       'electropop', 'emo', 'entehno', 'epicmetal', 'estrada', 'ethnic',\n",
       "       'eurofolk', 'european', 'experimental', 'extrememetal', 'fado',\n",
       "       'fairytail', 'film', 'fitness', 'flamenco', 'folk', 'folklore',\n",
       "       'folkmetal', 'folkrock', 'folktronica', 'forró', 'frankreich',\n",
       "       'französisch', 'french', 'funk', 'future', 'gangsta', 'garage',\n",
       "       'german', 'ghazal', 'gitarre', 'glitch', 'gospel', 'gothic',\n",
       "       'grime', 'grunge', 'gypsy', 'handsup', \"hard'n'heavy\", 'hardcore',\n",
       "       'hardstyle', 'hardtechno', 'hip', 'hip-hop', 'hiphop',\n",
       "       'historisch', 'holiday', 'hop', 'horror', 'house', 'hymn', 'idm',\n",
       "       'independent', 'indian', 'indie', 'indipop', 'industrial',\n",
       "       'inspirational', 'instrumental', 'international', 'irish', 'jam',\n",
       "       'japanese', 'jazz', 'jewish', 'jpop', 'jungle', 'k-pop',\n",
       "       'karadeniz', 'karaoke', 'kayokyoku', 'korean', 'laiko', 'latin',\n",
       "       'latino', 'leftfield', 'local', 'lounge', 'loungeelectronic',\n",
       "       'lovers', 'malaysian', 'mandopop', 'marschmusik', 'meditative',\n",
       "       'mediterranean', 'melodic', 'metal', 'metalcore', 'mexican',\n",
       "       'middle', 'minimal', 'miscellaneous', 'modern', 'mood', 'mpb',\n",
       "       'muslim', 'native', 'neoklassik', 'neue', 'new', 'newage',\n",
       "       'newwave', 'nu', 'nujazz', 'numetal', 'oceania', 'old', 'opera',\n",
       "       'orchestral', 'other', 'piano', 'podcasts', 'pop', 'popdance',\n",
       "       'popelectronic', 'popeurodance', 'poprussian', 'post',\n",
       "       'posthardcore', 'postrock', 'power', 'progmetal', 'progressive',\n",
       "       'psychedelic', 'punjabi', 'punk', 'quebecois', 'ragga', 'ram',\n",
       "       'rancheras', 'rap', 'rave', 'reggae', 'reggaeton', 'regional',\n",
       "       'relax', 'religious', 'retro', 'rhythm', 'rnb', 'rnr', 'rock',\n",
       "       'rockabilly', 'rockalternative', 'rockindie', 'rockother',\n",
       "       'romance', 'roots', 'ruspop', 'rusrap', 'rusrock', 'russian',\n",
       "       'salsa', 'samba', 'scenic', 'schlager', 'self', 'sertanejo',\n",
       "       'shanson', 'shoegazing', 'showtunes', 'singer', 'ska', 'skarock',\n",
       "       'slow', 'smooth', 'soft', 'soul', 'soulful', 'sound', 'soundtrack',\n",
       "       'southern', 'specialty', 'speech', 'spiritual', 'sport',\n",
       "       'stonerrock', 'surf', 'swing', 'synthpop', 'synthrock',\n",
       "       'sängerportrait', 'tango', 'tanzorchester', 'taraftar', 'tatar',\n",
       "       'tech', 'techno', 'teen', 'thrash', 'top', 'traditional',\n",
       "       'tradjazz', 'trance', 'tribal', 'trip', 'triphop', 'tropical',\n",
       "       'türk', 'türkçe', 'ukrrock', 'unknown', 'urban', 'uzbek',\n",
       "       'variété', 'vi', 'videogame', 'vocal', 'western', 'world',\n",
       "       'worldbeat', 'ïîï', 'электроника'], dtype=object)"
      ]
     },
     "execution_count": 15,
     "metadata": {},
     "output_type": "execute_result"
    }
   ],
   "source": [
    "sorted_genre = df.sort_values(by='genre')\n",
    "sorted_genre['genre'].unique()\n",
    "# Просмотр уникальных названий жанров"
   ]
  },
  {
   "cell_type": "markdown",
   "metadata": {
    "id": "qej-Qmuo_Zct"
   },
   "source": [
    "Видим следующие неявные дубликаты:\n",
    "* *hip*,\n",
    "* *hop*,\n",
    "* *hip-hop*."
   ]
  },
  {
   "cell_type": "code",
   "execution_count": 16,
   "metadata": {
    "id": "ErNDkmns_Zct"
   },
   "outputs": [],
   "source": [
    " def replace_wrong_genres(wrong_genres, correct_genre):\n",
    "        for wrong_variant in wrong_genres:\n",
    "            df['genre'] = df['genre'].replace(wrong_variant, correct_genre)\n",
    "       # Функция для замены неявных дубликатов"
   ]
  },
  {
   "cell_type": "code",
   "execution_count": 17,
   "metadata": {
    "id": "YN5i2hpmSo09"
   },
   "outputs": [],
   "source": [
    "wrong_genres = ['hip', 'hop', 'hip-hop']\n",
    "correct_genre = 'hiphop'\n",
    "replace_wrong_genres(wrong_genres, correct_genre)# Устранение неявных дубликатов"
   ]
  },
  {
   "cell_type": "code",
   "execution_count": 18,
   "metadata": {},
   "outputs": [],
   "source": [
    "df['genre'] = df['genre'].replace('электроника', 'electronic')"
   ]
  },
  {
   "cell_type": "code",
   "execution_count": 19,
   "metadata": {
    "id": "wvixALnFG15m"
   },
   "outputs": [
    {
     "name": "stdout",
     "output_type": "stream",
     "text": [
      "0\n"
     ]
    }
   ],
   "source": [
    "genre_final_count = df[df['genre'] == 'hip-hop']['genre'].count()\n",
    "print(genre_final_count)# Проверка на неявные дубликаты"
   ]
  },
  {
   "cell_type": "code",
   "execution_count": 20,
   "metadata": {
    "scrolled": true
   },
   "outputs": [
    {
     "data": {
      "text/plain": [
       "['acid',\n",
       " 'acoustic',\n",
       " 'action',\n",
       " 'adult',\n",
       " 'africa',\n",
       " 'afrikaans',\n",
       " 'alternative',\n",
       " 'alternativepunk',\n",
       " 'ambient',\n",
       " 'americana',\n",
       " 'animated',\n",
       " 'anime',\n",
       " 'arabesk',\n",
       " 'arabic',\n",
       " 'arena',\n",
       " 'argentinetango',\n",
       " 'art',\n",
       " 'audiobook',\n",
       " 'author',\n",
       " 'avantgarde',\n",
       " 'axé',\n",
       " 'baile',\n",
       " 'balkan',\n",
       " 'beats',\n",
       " 'bigroom',\n",
       " 'black',\n",
       " 'bluegrass',\n",
       " 'blues',\n",
       " 'bollywood',\n",
       " 'bossa',\n",
       " 'brazilian',\n",
       " 'breakbeat',\n",
       " 'breaks',\n",
       " 'broadway',\n",
       " 'cantautori',\n",
       " 'cantopop',\n",
       " 'canzone',\n",
       " 'caribbean',\n",
       " 'caucasian',\n",
       " 'celtic',\n",
       " 'chamber',\n",
       " 'chanson',\n",
       " 'children',\n",
       " 'chill',\n",
       " 'chinese',\n",
       " 'choral',\n",
       " 'christian',\n",
       " 'christmas',\n",
       " 'classical',\n",
       " 'classicmetal',\n",
       " 'club',\n",
       " 'colombian',\n",
       " 'comedy',\n",
       " 'conjazz',\n",
       " 'contemporary',\n",
       " 'country',\n",
       " 'cuban',\n",
       " 'dance',\n",
       " 'dancehall',\n",
       " 'dancepop',\n",
       " 'dark',\n",
       " 'death',\n",
       " 'deep',\n",
       " 'deutschrock',\n",
       " 'deutschspr',\n",
       " 'dirty',\n",
       " 'disco',\n",
       " 'dnb',\n",
       " 'documentary',\n",
       " 'downbeat',\n",
       " 'downtempo',\n",
       " 'drum',\n",
       " 'dub',\n",
       " 'dubstep',\n",
       " 'eastern',\n",
       " 'easy',\n",
       " 'electronic',\n",
       " 'electropop',\n",
       " 'emo',\n",
       " 'entehno',\n",
       " 'epicmetal',\n",
       " 'estrada',\n",
       " 'ethnic',\n",
       " 'eurofolk',\n",
       " 'european',\n",
       " 'experimental',\n",
       " 'extrememetal',\n",
       " 'fado',\n",
       " 'fairytail',\n",
       " 'film',\n",
       " 'fitness',\n",
       " 'flamenco',\n",
       " 'folk',\n",
       " 'folklore',\n",
       " 'folkmetal',\n",
       " 'folkrock',\n",
       " 'folktronica',\n",
       " 'forró',\n",
       " 'frankreich',\n",
       " 'französisch',\n",
       " 'french',\n",
       " 'funk',\n",
       " 'future',\n",
       " 'gangsta',\n",
       " 'garage',\n",
       " 'german',\n",
       " 'ghazal',\n",
       " 'gitarre',\n",
       " 'glitch',\n",
       " 'gospel',\n",
       " 'gothic',\n",
       " 'grime',\n",
       " 'grunge',\n",
       " 'gypsy',\n",
       " 'handsup',\n",
       " \"hard'n'heavy\",\n",
       " 'hardcore',\n",
       " 'hardstyle',\n",
       " 'hardtechno',\n",
       " 'hiphop',\n",
       " 'historisch',\n",
       " 'holiday',\n",
       " 'horror',\n",
       " 'house',\n",
       " 'hymn',\n",
       " 'idm',\n",
       " 'independent',\n",
       " 'indian',\n",
       " 'indie',\n",
       " 'indipop',\n",
       " 'industrial',\n",
       " 'inspirational',\n",
       " 'instrumental',\n",
       " 'international',\n",
       " 'irish',\n",
       " 'jam',\n",
       " 'japanese',\n",
       " 'jazz',\n",
       " 'jewish',\n",
       " 'jpop',\n",
       " 'jungle',\n",
       " 'k-pop',\n",
       " 'karadeniz',\n",
       " 'karaoke',\n",
       " 'kayokyoku',\n",
       " 'korean',\n",
       " 'laiko',\n",
       " 'latin',\n",
       " 'latino',\n",
       " 'leftfield',\n",
       " 'local',\n",
       " 'lounge',\n",
       " 'loungeelectronic',\n",
       " 'lovers',\n",
       " 'malaysian',\n",
       " 'mandopop',\n",
       " 'marschmusik',\n",
       " 'meditative',\n",
       " 'mediterranean',\n",
       " 'melodic',\n",
       " 'metal',\n",
       " 'metalcore',\n",
       " 'mexican',\n",
       " 'middle',\n",
       " 'minimal',\n",
       " 'miscellaneous',\n",
       " 'modern',\n",
       " 'mood',\n",
       " 'mpb',\n",
       " 'muslim',\n",
       " 'native',\n",
       " 'neoklassik',\n",
       " 'neue',\n",
       " 'new',\n",
       " 'newage',\n",
       " 'newwave',\n",
       " 'nu',\n",
       " 'nujazz',\n",
       " 'numetal',\n",
       " 'oceania',\n",
       " 'old',\n",
       " 'opera',\n",
       " 'orchestral',\n",
       " 'other',\n",
       " 'piano',\n",
       " 'podcasts',\n",
       " 'pop',\n",
       " 'popdance',\n",
       " 'popelectronic',\n",
       " 'popeurodance',\n",
       " 'poprussian',\n",
       " 'post',\n",
       " 'posthardcore',\n",
       " 'postrock',\n",
       " 'power',\n",
       " 'progmetal',\n",
       " 'progressive',\n",
       " 'psychedelic',\n",
       " 'punjabi',\n",
       " 'punk',\n",
       " 'quebecois',\n",
       " 'ragga',\n",
       " 'ram',\n",
       " 'rancheras',\n",
       " 'rap',\n",
       " 'rave',\n",
       " 'reggae',\n",
       " 'reggaeton',\n",
       " 'regional',\n",
       " 'relax',\n",
       " 'religious',\n",
       " 'retro',\n",
       " 'rhythm',\n",
       " 'rnb',\n",
       " 'rnr',\n",
       " 'rock',\n",
       " 'rockabilly',\n",
       " 'rockalternative',\n",
       " 'rockindie',\n",
       " 'rockother',\n",
       " 'romance',\n",
       " 'roots',\n",
       " 'ruspop',\n",
       " 'rusrap',\n",
       " 'rusrock',\n",
       " 'russian',\n",
       " 'salsa',\n",
       " 'samba',\n",
       " 'scenic',\n",
       " 'schlager',\n",
       " 'self',\n",
       " 'sertanejo',\n",
       " 'shanson',\n",
       " 'shoegazing',\n",
       " 'showtunes',\n",
       " 'singer',\n",
       " 'ska',\n",
       " 'skarock',\n",
       " 'slow',\n",
       " 'smooth',\n",
       " 'soft',\n",
       " 'soul',\n",
       " 'soulful',\n",
       " 'sound',\n",
       " 'soundtrack',\n",
       " 'southern',\n",
       " 'specialty',\n",
       " 'speech',\n",
       " 'spiritual',\n",
       " 'sport',\n",
       " 'stonerrock',\n",
       " 'surf',\n",
       " 'swing',\n",
       " 'synthpop',\n",
       " 'synthrock',\n",
       " 'sängerportrait',\n",
       " 'tango',\n",
       " 'tanzorchester',\n",
       " 'taraftar',\n",
       " 'tatar',\n",
       " 'tech',\n",
       " 'techno',\n",
       " 'teen',\n",
       " 'thrash',\n",
       " 'top',\n",
       " 'traditional',\n",
       " 'tradjazz',\n",
       " 'trance',\n",
       " 'tribal',\n",
       " 'trip',\n",
       " 'triphop',\n",
       " 'tropical',\n",
       " 'türk',\n",
       " 'türkçe',\n",
       " 'ukrrock',\n",
       " 'unknown',\n",
       " 'urban',\n",
       " 'uzbek',\n",
       " 'variété',\n",
       " 'vi',\n",
       " 'videogame',\n",
       " 'vocal',\n",
       " 'western',\n",
       " 'world',\n",
       " 'worldbeat',\n",
       " 'ïîï']"
      ]
     },
     "execution_count": 20,
     "metadata": {},
     "output_type": "execute_result"
    }
   ],
   "source": [
    "sorted(df['genre'].unique())"
   ]
  },
  {
   "cell_type": "markdown",
   "metadata": {
    "id": "jz6a9-7HQUDd"
   },
   "source": [
    "**Выводы**\n",
    "\n",
    "Предобработка обнаружила три проблемы в данных:\n",
    "\n",
    "- нарушения в стиле заголовков,\n",
    "- пропущенные значения,\n",
    "- дубликаты — явные и неявные.\n",
    "\n",
    "Исправили заголовки, чтобы упростить работу с таблицей.\n",
    "\n",
    "Пропущенные значения заменили на `'unknown'`.\n",
    "\n",
    "Теперь можно перейти к проверке гипотез. "
   ]
  },
  {
   "cell_type": "markdown",
   "metadata": {
    "id": "WttZHXH0SqKk"
   },
   "source": [
    "## Проверка гипотез"
   ]
  },
  {
   "cell_type": "markdown",
   "metadata": {
    "id": "Im936VVi_Zcu"
   },
   "source": [
    "### Сравнение поведения пользователей двух столиц"
   ]
  },
  {
   "cell_type": "markdown",
   "metadata": {
    "id": "nwt_MuaL_Zcu"
   },
   "source": [
    "**Первая гипотеза утверждает, что пользователи по-разному слушают музыку в Москве и Санкт-Петербурге.**\n",
    "\n",
    "Проверим это предположение по данным о трёх днях недели — понедельнике, среде и пятнице.\n",
    "\n",
    "Для этого:\n",
    "\n",
    "* Разделим пользователей Москвы и Санкт-Петербурга\n",
    "* Сравним, сколько треков послушала каждая группа пользователей в понедельник, среду и пятницу.\n"
   ]
  },
  {
   "cell_type": "code",
   "execution_count": 21,
   "metadata": {
    "id": "0_Qs96oh_Zcu"
   },
   "outputs": [
    {
     "data": {
      "text/plain": [
       "city\n",
       "Moscow              42741\n",
       "Saint-Petersburg    18512\n",
       "Name: genre, dtype: int64"
      ]
     },
     "execution_count": 21,
     "metadata": {},
     "output_type": "execute_result"
    }
   ],
   "source": [
    "df.groupby('city')['genre'].count()# Подсчёт прослушиваний в каждом городе"
   ]
  },
  {
   "cell_type": "markdown",
   "metadata": {
    "id": "dzli3w8o_Zcu"
   },
   "source": [
    "В Москве прослушиваний больше, чем в Петербурге. Из этого не следует, что московские пользователи чаще слушают музыку. Просто самих пользователей в Москве больше.\n",
    "\n",
    "Cгруппируем данные по дню недели и подсчитаем прослушивания в понедельник, среду и пятницу. Учтем, что в данных есть информация только о прослушиваниях только за эти дни."
   ]
  },
  {
   "cell_type": "code",
   "execution_count": 22,
   "metadata": {
    "id": "uZMKjiJz_Zcu"
   },
   "outputs": [
    {
     "data": {
      "text/plain": [
       "week_day\n",
       "Friday       21840\n",
       "Monday       21354\n",
       "Wednesday    18059\n",
       "Name: genre, dtype: int64"
      ]
     },
     "execution_count": 22,
     "metadata": {},
     "output_type": "execute_result"
    }
   ],
   "source": [
    "df.groupby('week_day')['genre'].count()#Подсчёт прослушиваний в каждый из трёх дней"
   ]
  },
  {
   "cell_type": "markdown",
   "metadata": {
    "id": "cC2tNrlL_Zcu"
   },
   "source": [
    "В среднем пользователи из двух городов менее активны по средам. Но картина может измениться, если рассмотреть каждый город в отдельности."
   ]
  },
  {
   "cell_type": "code",
   "execution_count": 23,
   "metadata": {
    "id": "Nz3GdQB1_Zcu"
   },
   "outputs": [],
   "source": [
    "# <создание функции number_tracks()>\n",
    "def number_tracks(day,city):# Объявляется функция с двумя параметрами: day, city.\n",
    "    track_list = df[df['week_day'] == day]# В переменной track_list сохраняются те строки таблицы df, для которых \n",
    "# значение в столбце 'day' равно параметру day и одновременно значение\n",
    "    track_list = track_list[track_list['city'] == city]# в столбце 'city' равно параметру city (используйте последовательную фильтрацию\n",
    "# с помощью логической индексации).\n",
    "    track_list_count = track_list['user_id'].count()\n",
    "    # В переменной track_list_count сохраняется число значений столбца 'user_id',\n",
    "# рассчитанное методом count() для таблицы track_list.\n",
    "    return track_list_count# Функция возвращает число - значение track_list_count.\n",
    "\n",
    "# Функция для подсчёта прослушиваний для конкретного города и дня.\n",
    "# С помощью последовательной фильтрации с логической индексацией она \n",
    "# сначала получит из исходной таблицы строки с нужным днём,\n",
    "# затем из результата отфильтрует строки с нужным городом,\n",
    "# методом count() посчитает количество значений в колонке user_id. \n",
    "# Это количество функция вернёт в качестве результата"
   ]
  },
  {
   "cell_type": "code",
   "execution_count": 43,
   "metadata": {},
   "outputs": [
    {
     "name": "stdout",
     "output_type": "stream",
     "text": [
      "Moscow Monday 15740\n",
      "Saint-Petersburg Monday 5614\n",
      "Moscow Wednesday 11056\n",
      "Saint-Petersburg Wednesday 7003\n",
      "Moscow Friday 15945\n",
      "Saint-Petersburg Friday 5895\n"
     ]
    }
   ],
   "source": [
    "# применим функцию\n",
    "days, citys = ['Monday', 'Wednesday', 'Friday'], ['Moscow', 'Saint-Petersburg']\n",
    "for i in days:\n",
    "    for k in citys:\n",
    "        print(k, i, number_tracks(i,k))"
   ]
  },
  {
   "cell_type": "markdown",
   "metadata": {
    "id": "7QXffbO-_Zcu"
   },
   "source": [
    "Создадим c помощью конструктора `pd.DataFrame` таблицу, где\n",
    "* названия колонок — `['city', 'monday', 'wednesday', 'friday']`;\n",
    "* данные — результаты, которые получили с помощью `number_tracks`."
   ]
  },
  {
   "cell_type": "code",
   "execution_count": 31,
   "metadata": {
    "id": "APAcLpOr_Zcu"
   },
   "outputs": [
    {
     "data": {
      "text/html": [
       "<div>\n",
       "<style scoped>\n",
       "    .dataframe tbody tr th:only-of-type {\n",
       "        vertical-align: middle;\n",
       "    }\n",
       "\n",
       "    .dataframe tbody tr th {\n",
       "        vertical-align: top;\n",
       "    }\n",
       "\n",
       "    .dataframe thead th {\n",
       "        text-align: right;\n",
       "    }\n",
       "</style>\n",
       "<table border=\"1\" class=\"dataframe\">\n",
       "  <thead>\n",
       "    <tr style=\"text-align: right;\">\n",
       "      <th></th>\n",
       "      <th>city</th>\n",
       "      <th>monday</th>\n",
       "      <th>wednesday</th>\n",
       "      <th>friday</th>\n",
       "    </tr>\n",
       "  </thead>\n",
       "  <tbody>\n",
       "    <tr>\n",
       "      <td>0</td>\n",
       "      <td>Moscow</td>\n",
       "      <td>15740</td>\n",
       "      <td>11056</td>\n",
       "      <td>15945</td>\n",
       "    </tr>\n",
       "    <tr>\n",
       "      <td>1</td>\n",
       "      <td>Saint-Petersburg</td>\n",
       "      <td>5614</td>\n",
       "      <td>7003</td>\n",
       "      <td>5895</td>\n",
       "    </tr>\n",
       "  </tbody>\n",
       "</table>\n",
       "</div>"
      ],
      "text/plain": [
       "               city  monday  wednesday  friday\n",
       "0            Moscow   15740      11056   15945\n",
       "1  Saint-Petersburg    5614       7003    5895"
      ]
     },
     "execution_count": 31,
     "metadata": {},
     "output_type": "execute_result"
    }
   ],
   "source": [
    "columns = ['city', 'monday', 'wednesday', 'friday']\n",
    "exp = [\n",
    "    [\n",
    "        'Moscow', number_tracks('Monday', 'Moscow'), number_tracks('Wednesday', 'Moscow'), number_tracks('Friday', 'Moscow')\n",
    "    ], [\n",
    "        'Saint-Petersburg', 5614, 7003, 5895\n",
    "    ]\n",
    "]\n",
    "track_weekday = pd.DataFrame(data=exp, columns=columns)\n",
    "track_weekday# Таблица с результатами"
   ]
  },
  {
   "cell_type": "markdown",
   "metadata": {
    "id": "-EgPIHYu_Zcu"
   },
   "source": [
    "**Выводы**\n",
    "\n",
    "Данные показывают разницу поведения пользователей:\n",
    "\n",
    "- В Москве пик прослушиваний приходится на понедельник и пятницу, а в среду заметен спад.\n",
    "- В Петербурге, наоборот, больше слушают музыку по средам. Активность в понедельник и пятницу здесь почти в равной мере уступает среде.\n",
    "\n",
    "Значит, данные говорят в пользу первой гипотезы."
   ]
  },
  {
   "cell_type": "markdown",
   "metadata": {
    "id": "atZAxtq4_Zcu"
   },
   "source": [
    "### Музыка в начале и в конце недели"
   ]
  },
  {
   "cell_type": "markdown",
   "metadata": {
    "id": "eXrQqXFH_Zcu"
   },
   "source": [
    "**Согласно второй гипотезе, утром в понедельник в Москве преобладают одни жанры, а в Петербурге — другие. Так же и вечером пятницы преобладают разные жанры — в зависимости от города.**"
   ]
  },
  {
   "cell_type": "markdown",
   "metadata": {
    "id": "S8UcW6Hw_Zcu"
   },
   "source": [
    "Сохраним таблицы с данными в две переменные:\n",
    "* по Москве — в `moscow_general`;\n",
    "* по Санкт-Петербургу — в `spb_general`."
   ]
  },
  {
   "cell_type": "code",
   "execution_count": 32,
   "metadata": {
    "id": "qeaFfM_P_Zcu"
   },
   "outputs": [
    {
     "data": {
      "text/html": [
       "<div>\n",
       "<style scoped>\n",
       "    .dataframe tbody tr th:only-of-type {\n",
       "        vertical-align: middle;\n",
       "    }\n",
       "\n",
       "    .dataframe tbody tr th {\n",
       "        vertical-align: top;\n",
       "    }\n",
       "\n",
       "    .dataframe thead th {\n",
       "        text-align: right;\n",
       "    }\n",
       "</style>\n",
       "<table border=\"1\" class=\"dataframe\">\n",
       "  <thead>\n",
       "    <tr style=\"text-align: right;\">\n",
       "      <th></th>\n",
       "      <th>user_id</th>\n",
       "      <th>track</th>\n",
       "      <th>artist</th>\n",
       "      <th>genre</th>\n",
       "      <th>city</th>\n",
       "      <th>start_time</th>\n",
       "      <th>week_day</th>\n",
       "    </tr>\n",
       "  </thead>\n",
       "  <tbody>\n",
       "    <tr>\n",
       "      <td>1</td>\n",
       "      <td>55204538</td>\n",
       "      <td>Delayed Because of Accident</td>\n",
       "      <td>Andreas Rönnberg</td>\n",
       "      <td>rock</td>\n",
       "      <td>Moscow</td>\n",
       "      <td>14:07:09</td>\n",
       "      <td>Friday</td>\n",
       "    </tr>\n",
       "    <tr>\n",
       "      <td>4</td>\n",
       "      <td>E2DC1FAE</td>\n",
       "      <td>Soul People</td>\n",
       "      <td>Space Echo</td>\n",
       "      <td>dance</td>\n",
       "      <td>Moscow</td>\n",
       "      <td>08:34:34</td>\n",
       "      <td>Monday</td>\n",
       "    </tr>\n",
       "    <tr>\n",
       "      <td>6</td>\n",
       "      <td>4CB90AA5</td>\n",
       "      <td>True</td>\n",
       "      <td>Roman Messer</td>\n",
       "      <td>dance</td>\n",
       "      <td>Moscow</td>\n",
       "      <td>13:00:07</td>\n",
       "      <td>Wednesday</td>\n",
       "    </tr>\n",
       "    <tr>\n",
       "      <td>7</td>\n",
       "      <td>F03E1C1F</td>\n",
       "      <td>Feeling This Way</td>\n",
       "      <td>Polina Griffith</td>\n",
       "      <td>dance</td>\n",
       "      <td>Moscow</td>\n",
       "      <td>20:47:49</td>\n",
       "      <td>Wednesday</td>\n",
       "    </tr>\n",
       "    <tr>\n",
       "      <td>8</td>\n",
       "      <td>8FA1D3BE</td>\n",
       "      <td>И вновь продолжается бой</td>\n",
       "      <td>unknown</td>\n",
       "      <td>ruspop</td>\n",
       "      <td>Moscow</td>\n",
       "      <td>09:17:40</td>\n",
       "      <td>Friday</td>\n",
       "    </tr>\n",
       "  </tbody>\n",
       "</table>\n",
       "</div>"
      ],
      "text/plain": [
       "    user_id                        track            artist   genre    city  \\\n",
       "1  55204538  Delayed Because of Accident  Andreas Rönnberg    rock  Moscow   \n",
       "4  E2DC1FAE                  Soul People        Space Echo   dance  Moscow   \n",
       "6  4CB90AA5                         True      Roman Messer   dance  Moscow   \n",
       "7  F03E1C1F             Feeling This Way   Polina Griffith   dance  Moscow   \n",
       "8  8FA1D3BE     И вновь продолжается бой           unknown  ruspop  Moscow   \n",
       "\n",
       "  start_time   week_day  \n",
       "1   14:07:09     Friday  \n",
       "4   08:34:34     Monday  \n",
       "6   13:00:07  Wednesday  \n",
       "7   20:47:49  Wednesday  \n",
       "8   09:17:40     Friday  "
      ]
     },
     "execution_count": 32,
     "metadata": {},
     "output_type": "execute_result"
    }
   ],
   "source": [
    "moscow_general = df[df['city'] == 'Moscow']\n",
    "moscow_general.head()# получение таблицы moscow_general из тех строк таблицы df, \n",
    "# для которых значение в столбце 'city' равно 'Moscow'\n"
   ]
  },
  {
   "cell_type": "code",
   "execution_count": 33,
   "metadata": {
    "id": "ORaVRKto_Zcu"
   },
   "outputs": [
    {
     "data": {
      "text/html": [
       "<div>\n",
       "<style scoped>\n",
       "    .dataframe tbody tr th:only-of-type {\n",
       "        vertical-align: middle;\n",
       "    }\n",
       "\n",
       "    .dataframe tbody tr th {\n",
       "        vertical-align: top;\n",
       "    }\n",
       "\n",
       "    .dataframe thead th {\n",
       "        text-align: right;\n",
       "    }\n",
       "</style>\n",
       "<table border=\"1\" class=\"dataframe\">\n",
       "  <thead>\n",
       "    <tr style=\"text-align: right;\">\n",
       "      <th></th>\n",
       "      <th>user_id</th>\n",
       "      <th>track</th>\n",
       "      <th>artist</th>\n",
       "      <th>genre</th>\n",
       "      <th>city</th>\n",
       "      <th>start_time</th>\n",
       "      <th>week_day</th>\n",
       "    </tr>\n",
       "  </thead>\n",
       "  <tbody>\n",
       "    <tr>\n",
       "      <td>0</td>\n",
       "      <td>FFB692EC</td>\n",
       "      <td>Kamigata To Boots</td>\n",
       "      <td>The Mass Missile</td>\n",
       "      <td>rock</td>\n",
       "      <td>Saint-Petersburg</td>\n",
       "      <td>20:28:33</td>\n",
       "      <td>Wednesday</td>\n",
       "    </tr>\n",
       "    <tr>\n",
       "      <td>2</td>\n",
       "      <td>20EC38</td>\n",
       "      <td>Funiculì funiculà</td>\n",
       "      <td>Mario Lanza</td>\n",
       "      <td>pop</td>\n",
       "      <td>Saint-Petersburg</td>\n",
       "      <td>20:58:07</td>\n",
       "      <td>Wednesday</td>\n",
       "    </tr>\n",
       "    <tr>\n",
       "      <td>3</td>\n",
       "      <td>A3DD03C9</td>\n",
       "      <td>Dragons in the Sunset</td>\n",
       "      <td>Fire + Ice</td>\n",
       "      <td>folk</td>\n",
       "      <td>Saint-Petersburg</td>\n",
       "      <td>08:37:09</td>\n",
       "      <td>Monday</td>\n",
       "    </tr>\n",
       "    <tr>\n",
       "      <td>5</td>\n",
       "      <td>842029A1</td>\n",
       "      <td>Преданная</td>\n",
       "      <td>IMPERVTOR</td>\n",
       "      <td>rusrap</td>\n",
       "      <td>Saint-Petersburg</td>\n",
       "      <td>13:09:41</td>\n",
       "      <td>Friday</td>\n",
       "    </tr>\n",
       "    <tr>\n",
       "      <td>9</td>\n",
       "      <td>E772D5C0</td>\n",
       "      <td>Pessimist</td>\n",
       "      <td>unknown</td>\n",
       "      <td>dance</td>\n",
       "      <td>Saint-Petersburg</td>\n",
       "      <td>21:20:49</td>\n",
       "      <td>Wednesday</td>\n",
       "    </tr>\n",
       "  </tbody>\n",
       "</table>\n",
       "</div>"
      ],
      "text/plain": [
       "    user_id                  track            artist   genre  \\\n",
       "0  FFB692EC      Kamigata To Boots  The Mass Missile    rock   \n",
       "2    20EC38      Funiculì funiculà       Mario Lanza     pop   \n",
       "3  A3DD03C9  Dragons in the Sunset        Fire + Ice    folk   \n",
       "5  842029A1              Преданная         IMPERVTOR  rusrap   \n",
       "9  E772D5C0              Pessimist           unknown   dance   \n",
       "\n",
       "               city start_time   week_day  \n",
       "0  Saint-Petersburg   20:28:33  Wednesday  \n",
       "2  Saint-Petersburg   20:58:07  Wednesday  \n",
       "3  Saint-Petersburg   08:37:09     Monday  \n",
       "5  Saint-Petersburg   13:09:41     Friday  \n",
       "9  Saint-Petersburg   21:20:49  Wednesday  "
      ]
     },
     "execution_count": 33,
     "metadata": {},
     "output_type": "execute_result"
    }
   ],
   "source": [
    "spb_general = df[df['city'] == 'Saint-Petersburg']\n",
    "spb_general.head()# получение таблицы spb_general из тех строк таблицы df,\n",
    "# для которых значение в столбце 'city' равно 'Saint-Petersburg'\n"
   ]
  },
  {
   "cell_type": "code",
   "execution_count": 34,
   "metadata": {
    "id": "laJT9BYl_Zcu"
   },
   "outputs": [],
   "source": [
    "def genre_weekday(table, day, time1, time2):# Объявление функции genre_weekday() с параметрами table, day, time1, time2,\n",
    "# которая возвращает информацию о самых популярных жанрах в указанный день в\n",
    "# заданное время:\n",
    "# 1) в переменную genre_df сохраняются те строки переданного датафрейма table, для\n",
    "#    которых одновременно:\n",
    "#    - значение в столбце day равно значению аргумента day\n",
    "#    - значение в столбце time больше значения аргумента time1\n",
    "#    - значение в столбце time меньше значения аргумента time2\n",
    "#    Используйте последовательную фильтрацию с помощью логической индексации.\n",
    "    genre_df = table[table['week_day'] == day]\n",
    "    genre_df = genre_df[genre_df['start_time'] >= time1]\n",
    "    genre_df = genre_df[genre_df['start_time'] < time2]\n",
    "# 2) сгруппировать датафрейм genre_df по столбцу genre, взять один из его\n",
    "#    столбцов и посчитать методом count() количество записей для каждого из\n",
    "#    присутствующих жанров, получившийся Series записать в переменную\n",
    "#    genre_df_count\n",
    "    genre_df_count = genre_df.groupby('genre')['user_id'].count()\n",
    "# 3) отсортировать genre_df_count по убыванию встречаемости и сохранить\n",
    "#    в переменную genre_df_sorted\n",
    "    genre_df_sorted = genre_df_count.sort_values(ascending = False)\n",
    "# 4) вернуть Series из 10 первых значений genre_df_sorted, это будут топ-10\n",
    "#    популярных жанров (в указанный день, в заданное время)\n",
    "    return genre_df_sorted[:10]"
   ]
  },
  {
   "cell_type": "markdown",
   "metadata": {
    "id": "la2s2_PF_Zcu"
   },
   "source": [
    "Cравним результаты функции `genre_weekday()` для Москвы и Санкт-Петербурга в понедельник утром (с 7:00 до 11:00) и в пятницу вечером (с 17:00 до 23:00):"
   ]
  },
  {
   "cell_type": "code",
   "execution_count": 35,
   "metadata": {
    "id": "yz7itPUQ_Zcu"
   },
   "outputs": [
    {
     "data": {
      "text/plain": [
       "genre\n",
       "pop            781\n",
       "dance          549\n",
       "electronic     480\n",
       "rock           474\n",
       "hiphop         286\n",
       "ruspop         186\n",
       "world          181\n",
       "rusrap         175\n",
       "alternative    164\n",
       "unknown        161\n",
       "Name: user_id, dtype: int64"
      ]
     },
     "execution_count": 35,
     "metadata": {},
     "output_type": "execute_result"
    }
   ],
   "source": [
    "genre_weekday(moscow_general, 'Monday', '07:00', '11:00')# вызов функции для утра понедельника в Москве (вместо df — таблица moscow_general)\n",
    "# объекты, хранящие время, являются строками и сравниваются как строки\n",
    "# пример вызова: genre_weekday(moscow_general, 'Monday', '07:00', '11:00')"
   ]
  },
  {
   "cell_type": "code",
   "execution_count": 36,
   "metadata": {
    "id": "kwUcHPdy_Zcu"
   },
   "outputs": [
    {
     "data": {
      "text/plain": [
       "genre\n",
       "pop            218\n",
       "dance          182\n",
       "rock           162\n",
       "electronic     147\n",
       "hiphop          80\n",
       "ruspop          64\n",
       "alternative     58\n",
       "rusrap          55\n",
       "jazz            44\n",
       "classical       40\n",
       "Name: user_id, dtype: int64"
      ]
     },
     "execution_count": 36,
     "metadata": {},
     "output_type": "execute_result"
    }
   ],
   "source": [
    "genre_weekday(spb_general, 'Monday', '07:00', '11:00')# вызов функции для утра понедельника в Петербурге (вместо df — таблица spb_general)"
   ]
  },
  {
   "cell_type": "code",
   "execution_count": 37,
   "metadata": {
    "id": "EzXVRE1o_Zcu"
   },
   "outputs": [
    {
     "data": {
      "text/plain": [
       "genre\n",
       "pop            713\n",
       "rock           517\n",
       "dance          495\n",
       "electronic     482\n",
       "hiphop         273\n",
       "world          208\n",
       "ruspop         170\n",
       "alternative    163\n",
       "classical      163\n",
       "rusrap         142\n",
       "Name: user_id, dtype: int64"
      ]
     },
     "execution_count": 37,
     "metadata": {},
     "output_type": "execute_result"
    }
   ],
   "source": [
    "genre_weekday(moscow_general, 'Friday', '17:00', '23:00')# вызов функции для вечера пятницы в Москве"
   ]
  },
  {
   "cell_type": "code",
   "execution_count": 38,
   "metadata": {
    "id": "JZaEKu5v_Zcu"
   },
   "outputs": [
    {
     "data": {
      "text/plain": [
       "genre\n",
       "pop            256\n",
       "rock           216\n",
       "electronic     216\n",
       "dance          210\n",
       "hiphop          97\n",
       "alternative     63\n",
       "jazz            61\n",
       "classical       60\n",
       "rusrap          59\n",
       "world           54\n",
       "Name: user_id, dtype: int64"
      ]
     },
     "execution_count": 38,
     "metadata": {},
     "output_type": "execute_result"
    }
   ],
   "source": [
    "genre_weekday(spb_general, 'Friday', '17:00', '23:00')# вызов функции для вечера пятницы в Петербурге"
   ]
  },
  {
   "cell_type": "markdown",
   "metadata": {
    "id": "wrCe4MNX_Zcu"
   },
   "source": [
    "**Выводы**\n",
    "\n",
    "Если сравнить топ-10 жанров в понедельник утром, можно сделать такие выводы:\n",
    "\n",
    "1. В Москве и Петербурге слушают похожую музыку. Единственное отличие — в московский рейтинг вошёл жанр “world”, а в петербургский — джаз и классика.\n",
    "\n",
    "2. В Москве пропущенных значений оказалось так много, что значение `'unknown'` заняло десятое место среди самых популярных жанров. Значит, пропущенные значения занимают существенную долю в данных и угрожают достоверности исследования.\n",
    "\n",
    "Вечер пятницы не меняет эту картину. Некоторые жанры поднимаются немного выше, другие спускаются, но в целом топ-10 остаётся тем же самым.\n",
    "\n",
    "Таким образом, вторая гипотеза подтвердилась лишь частично:\n",
    "* Пользователи слушают похожую музыку в начале недели и в конце.\n",
    "* Разница между Москвой и Петербургом не слишком выражена. В Москве чаще слушают русскую популярную музыку, в Петербурге — джаз.\n",
    "\n",
    "Однако пропуски в данных ставят под сомнение этот результат. В Москве их так много, что рейтинг топ-10 мог бы выглядеть иначе, если бы не утерянные  данные о жанрах."
   ]
  },
  {
   "cell_type": "markdown",
   "metadata": {
    "id": "JolODAqr_Zcu"
   },
   "source": [
    "### Жанровые предпочтения в Москве и Петербурге\n",
    "\n",
    "**Гипотеза: Петербург — столица рэпа, музыку этого жанра там слушают чаще, чем в Москве.  А Москва — город контрастов, в котором, тем не менее, преобладает поп-музыка.**"
   ]
  },
  {
   "cell_type": "markdown",
   "metadata": {
    "id": "DlegSvaT_Zcu"
   },
   "source": [
    "Сгруппируем таблицу `moscow_general` по жанру и посчитаем прослушивания треков каждого жанра методом `count()`. Затем отсортируем результат в порядке убывания и сохраним его в таблице `moscow_genres`."
   ]
  },
  {
   "cell_type": "code",
   "execution_count": 39,
   "metadata": {
    "id": "r19lIPke_Zcu"
   },
   "outputs": [],
   "source": [
    "moscow_genres = moscow_general.groupby('genre')['genre'].count().sort_values(ascending = False)# одной строкой: группировка таблицы moscow_general по столбцу 'genre', \n",
    "# подсчёт числа значений 'genre' в этой группировке методом count(), \n",
    "# сортировка получившегося Series в порядке убывания и сохранение в moscow_genres"
   ]
  },
  {
   "cell_type": "code",
   "execution_count": 40,
   "metadata": {
    "id": "WhCSooF8_Zcv"
   },
   "outputs": [
    {
     "data": {
      "text/plain": [
       "genre\n",
       "pop            5892\n",
       "dance          4435\n",
       "rock           3965\n",
       "electronic     3786\n",
       "hiphop         2096\n",
       "classical      1616\n",
       "world          1432\n",
       "alternative    1379\n",
       "ruspop         1372\n",
       "rusrap         1161\n",
       "Name: genre, dtype: int64"
      ]
     },
     "execution_count": 40,
     "metadata": {},
     "output_type": "execute_result"
    }
   ],
   "source": [
    "moscow_genres[:10]# просмотр первых 10 строк moscow_genres"
   ]
  },
  {
   "cell_type": "code",
   "execution_count": 41,
   "metadata": {
    "id": "gluLIpE7_Zcv"
   },
   "outputs": [],
   "source": [
    "spb_genres = spb_general.groupby('genre')['genre'].count().sort_values(ascending = False)# одной строкой: группировка таблицы spb_general по столбцу 'genre', \n",
    "# подсчёт числа значений 'genre' в этой группировке методом count(), \n",
    "# сортировка получившегося Series в порядке убывания и сохранение в spb_genres"
   ]
  },
  {
   "cell_type": "code",
   "execution_count": 42,
   "metadata": {
    "id": "uaGJHjVU_Zcv"
   },
   "outputs": [
    {
     "data": {
      "text/plain": [
       "genre\n",
       "pop            2431\n",
       "dance          1932\n",
       "rock           1879\n",
       "electronic     1737\n",
       "hiphop          960\n",
       "alternative     649\n",
       "classical       646\n",
       "rusrap          564\n",
       "ruspop          538\n",
       "world           515\n",
       "Name: genre, dtype: int64"
      ]
     },
     "execution_count": 42,
     "metadata": {},
     "output_type": "execute_result"
    }
   ],
   "source": [
    "spb_genres[:10]# просмотр первых 10 строк spb_genres"
   ]
  },
  {
   "cell_type": "markdown",
   "metadata": {
    "id": "RY51YJYu_Zcv"
   },
   "source": [
    "**Выводы**"
   ]
  },
  {
   "cell_type": "markdown",
   "metadata": {
    "id": "nVhnJEm__Zcv"
   },
   "source": [
    "Гипотеза частично подтвердилась:\n",
    "* Поп-музыка — самый популярный жанр в Москве, как и предполагала гипотеза. Более того, в топ-10 жанров встречается близкий жанр — русская популярная музыка.\n",
    "* Вопреки ожиданиям, рэп одинаково популярен в Москве и Петербурге. \n"
   ]
  },
  {
   "cell_type": "markdown",
   "metadata": {
    "id": "ykKQ0N65_Zcv"
   },
   "source": [
    "## Итоги исследования"
   ]
  },
  {
   "cell_type": "markdown",
   "metadata": {
    "id": "tjUwbHb3_Zcv"
   },
   "source": [
    "Мы  проверили три гипотезы и установили:\n",
    "\n",
    "1. День недели по-разному влияет на активность пользователей в Москве и Петербурге. \n",
    "\n",
    "Первая гипотеза полностью подтвердилась.\n",
    "\n",
    "2. Музыкальные предпочтения не сильно меняются в течение недели — будь то Москва или Петербург. Небольшие различия заметны в начале недели, по понедельникам:\n",
    "* в Москве слушают музыку жанра “world”,\n",
    "* в Петербурге — джаз и классику.\n",
    "\n",
    "Таким образом, вторая гипотеза подтвердилась лишь отчасти. Этот результат мог оказаться иным, если бы не пропуски в данных.\n",
    "\n",
    "3. Во вкусах пользователей Москвы и Петербурга больше общего чем различий. Вопреки ожиданиям, предпочтения жанров в Петербурге напоминают московские.\n",
    "\n",
    "Третья гипотеза не подтвердилась. Если различия в предпочтениях и существуют, на основной массе пользователей они незаметны.\n",
    "\n",
    "**На практике исследования содержат проверки статистических гипотез.**\n",
    "Из данных одного сервиса не всегда можно сделать вывод о всех жителях города.\n",
    "Проверки статистических гипотез покажут, насколько они достоверны, исходя из имеющихся данных. "
   ]
  }
 ],
 "metadata": {
  "ExecuteTimeLog": [
   {
    "duration": 641,
    "start_time": "2022-02-16T09:50:23.919Z"
   },
   {
    "duration": 327,
    "start_time": "2022-02-16T09:52:42.852Z"
   },
   {
    "duration": 371,
    "start_time": "2022-02-16T09:55:18.767Z"
   },
   {
    "duration": 236,
    "start_time": "2022-02-16T09:57:52.842Z"
   },
   {
    "duration": 312,
    "start_time": "2022-02-16T10:04:13.948Z"
   },
   {
    "duration": 244,
    "start_time": "2022-02-16T10:06:32.942Z"
   },
   {
    "duration": 294,
    "start_time": "2022-02-16T10:10:20.572Z"
   },
   {
    "duration": 255,
    "start_time": "2022-02-16T10:11:41.673Z"
   },
   {
    "duration": 3,
    "start_time": "2022-02-16T10:24:25.985Z"
   },
   {
    "duration": 3,
    "start_time": "2022-02-16T10:24:29.331Z"
   },
   {
    "duration": 237,
    "start_time": "2022-02-16T10:26:40.302Z"
   },
   {
    "duration": 253,
    "start_time": "2022-02-16T10:31:07.379Z"
   },
   {
    "duration": 253,
    "start_time": "2022-02-16T10:31:23.990Z"
   },
   {
    "duration": 147,
    "start_time": "2022-02-16T10:31:42.027Z"
   },
   {
    "duration": 21,
    "start_time": "2022-02-16T10:31:48.211Z"
   },
   {
    "duration": 13,
    "start_time": "2022-02-16T10:32:41.970Z"
   },
   {
    "duration": 27,
    "start_time": "2022-02-16T10:34:45.313Z"
   },
   {
    "duration": 4,
    "start_time": "2022-02-16T10:51:15.569Z"
   },
   {
    "duration": 21,
    "start_time": "2022-02-16T11:01:31.124Z"
   },
   {
    "duration": 24,
    "start_time": "2022-02-16T11:01:40.419Z"
   },
   {
    "duration": 4,
    "start_time": "2022-02-16T11:02:14.256Z"
   },
   {
    "duration": 24,
    "start_time": "2022-02-16T11:30:17.495Z"
   },
   {
    "duration": 287,
    "start_time": "2022-02-16T11:36:50.952Z"
   },
   {
    "duration": 241,
    "start_time": "2022-02-16T11:37:52.638Z"
   },
   {
    "duration": 250,
    "start_time": "2022-02-16T11:38:53.230Z"
   },
   {
    "duration": 25,
    "start_time": "2022-02-16T11:42:48.950Z"
   },
   {
    "duration": 26,
    "start_time": "2022-02-16T11:42:56.889Z"
   },
   {
    "duration": 67,
    "start_time": "2022-02-16T11:44:05.780Z"
   },
   {
    "duration": 1023,
    "start_time": "2022-02-16T11:48:08.402Z"
   },
   {
    "duration": 75,
    "start_time": "2022-02-16T11:48:35.046Z"
   },
   {
    "duration": 59,
    "start_time": "2022-02-16T11:49:10.749Z"
   },
   {
    "duration": 329,
    "start_time": "2022-02-16T11:49:27.016Z"
   },
   {
    "duration": 334,
    "start_time": "2022-02-16T11:50:13.632Z"
   },
   {
    "duration": 241,
    "start_time": "2022-02-16T11:50:23.376Z"
   },
   {
    "duration": 3,
    "start_time": "2022-02-16T11:51:17.692Z"
   },
   {
    "duration": 3,
    "start_time": "2022-02-16T11:51:26.606Z"
   },
   {
    "duration": 284,
    "start_time": "2022-02-16T11:52:13.239Z"
   },
   {
    "duration": 2,
    "start_time": "2022-02-16T11:53:15.644Z"
   },
   {
    "duration": 309,
    "start_time": "2022-02-16T11:54:49.072Z"
   },
   {
    "duration": 2,
    "start_time": "2022-02-16T11:57:10.869Z"
   },
   {
    "duration": 3,
    "start_time": "2022-02-16T11:57:14.454Z"
   },
   {
    "duration": 3,
    "start_time": "2022-02-16T11:57:21.323Z"
   },
   {
    "duration": 278,
    "start_time": "2022-02-16T11:58:40.111Z"
   },
   {
    "duration": 289,
    "start_time": "2022-02-16T11:59:35.651Z"
   },
   {
    "duration": 249,
    "start_time": "2022-02-16T11:59:43.352Z"
   },
   {
    "duration": 259,
    "start_time": "2022-02-16T12:02:56.880Z"
   },
   {
    "duration": 3,
    "start_time": "2022-02-16T12:04:10.517Z"
   },
   {
    "duration": 155,
    "start_time": "2022-02-16T12:04:16.054Z"
   },
   {
    "duration": 12,
    "start_time": "2022-02-16T12:04:22.248Z"
   },
   {
    "duration": 32,
    "start_time": "2022-02-16T12:04:31.568Z"
   },
   {
    "duration": 4,
    "start_time": "2022-02-16T12:04:39.741Z"
   },
   {
    "duration": 19,
    "start_time": "2022-02-16T12:04:47.297Z"
   },
   {
    "duration": 4,
    "start_time": "2022-02-16T12:04:52.432Z"
   },
   {
    "duration": 25,
    "start_time": "2022-02-16T12:05:01.273Z"
   },
   {
    "duration": 21,
    "start_time": "2022-02-16T12:05:10.110Z"
   },
   {
    "duration": 26,
    "start_time": "2022-02-16T12:05:16.206Z"
   },
   {
    "duration": 62,
    "start_time": "2022-02-16T12:05:23.845Z"
   },
   {
    "duration": 77,
    "start_time": "2022-02-16T12:05:34.860Z"
   },
   {
    "duration": 61,
    "start_time": "2022-02-16T12:06:19.992Z"
   },
   {
    "duration": 304,
    "start_time": "2022-02-16T12:18:35.801Z"
   },
   {
    "duration": 58,
    "start_time": "2022-02-16T12:20:44.674Z"
   },
   {
    "duration": 459,
    "start_time": "2022-02-16T12:21:47.630Z"
   },
   {
    "duration": 91,
    "start_time": "2022-02-16T12:26:11.055Z"
   },
   {
    "duration": 334,
    "start_time": "2022-02-16T12:26:58.414Z"
   },
   {
    "duration": 63,
    "start_time": "2022-02-16T12:28:22.253Z"
   },
   {
    "duration": 118,
    "start_time": "2022-02-16T13:07:49.403Z"
   },
   {
    "duration": 83,
    "start_time": "2022-02-16T13:08:37.846Z"
   },
   {
    "duration": 4,
    "start_time": "2022-02-16T13:12:01.512Z"
   },
   {
    "duration": 4,
    "start_time": "2022-02-16T13:16:20.906Z"
   },
   {
    "duration": 55,
    "start_time": "2022-02-16T13:18:57.222Z"
   },
   {
    "duration": 53,
    "start_time": "2022-02-16T13:19:22.060Z"
   },
   {
    "duration": 51,
    "start_time": "2022-02-16T13:20:47.275Z"
   },
   {
    "duration": 4,
    "start_time": "2022-02-16T13:20:59.977Z"
   },
   {
    "duration": 467,
    "start_time": "2022-02-16T13:21:06.090Z"
   },
   {
    "duration": 514,
    "start_time": "2022-02-16T13:23:43.785Z"
   },
   {
    "duration": 6,
    "start_time": "2022-02-16T13:24:05.381Z"
   },
   {
    "duration": 494,
    "start_time": "2022-02-16T13:24:10.205Z"
   },
   {
    "duration": 55,
    "start_time": "2022-02-16T13:27:21.237Z"
   },
   {
    "duration": 3,
    "start_time": "2022-02-16T13:28:12.040Z"
   },
   {
    "duration": 3,
    "start_time": "2022-02-16T13:28:22.003Z"
   },
   {
    "duration": 4,
    "start_time": "2022-02-16T14:51:19.651Z"
   },
   {
    "duration": 282,
    "start_time": "2022-02-16T14:55:51.288Z"
   },
   {
    "duration": 538,
    "start_time": "2022-02-16T14:56:43.886Z"
   },
   {
    "duration": 727,
    "start_time": "2022-02-16T14:57:59.662Z"
   },
   {
    "duration": 145,
    "start_time": "2022-02-16T14:58:04.053Z"
   },
   {
    "duration": 18,
    "start_time": "2022-02-16T14:58:18.050Z"
   },
   {
    "duration": 25,
    "start_time": "2022-02-16T14:58:23.552Z"
   },
   {
    "duration": 5,
    "start_time": "2022-02-16T14:58:35.792Z"
   },
   {
    "duration": 22,
    "start_time": "2022-02-16T14:58:50.190Z"
   },
   {
    "duration": 5,
    "start_time": "2022-02-16T14:58:56.521Z"
   },
   {
    "duration": 25,
    "start_time": "2022-02-16T14:59:04.479Z"
   },
   {
    "duration": 19,
    "start_time": "2022-02-16T14:59:12.730Z"
   },
   {
    "duration": 24,
    "start_time": "2022-02-16T14:59:19.036Z"
   },
   {
    "duration": 64,
    "start_time": "2022-02-16T14:59:25.298Z"
   },
   {
    "duration": 75,
    "start_time": "2022-02-16T14:59:31.667Z"
   },
   {
    "duration": 56,
    "start_time": "2022-02-16T14:59:39.372Z"
   },
   {
    "duration": 49,
    "start_time": "2022-02-16T14:59:51.360Z"
   },
   {
    "duration": 3,
    "start_time": "2022-02-16T15:00:02.869Z"
   },
   {
    "duration": 546,
    "start_time": "2022-02-16T15:00:07.700Z"
   },
   {
    "duration": 3,
    "start_time": "2022-02-16T15:04:12.906Z"
   },
   {
    "duration": 515,
    "start_time": "2022-02-16T15:04:24.899Z"
   },
   {
    "duration": 3,
    "start_time": "2022-02-16T15:06:12.347Z"
   },
   {
    "duration": 4358,
    "start_time": "2022-02-16T15:06:53.747Z"
   },
   {
    "duration": 3,
    "start_time": "2022-02-16T15:15:52.498Z"
   },
   {
    "duration": 109,
    "start_time": "2022-02-16T15:20:25.680Z"
   },
   {
    "duration": 85,
    "start_time": "2022-02-16T15:20:50.692Z"
   },
   {
    "duration": 81,
    "start_time": "2022-02-16T15:22:18.946Z"
   },
   {
    "duration": 88,
    "start_time": "2022-02-16T15:23:22.997Z"
   },
   {
    "duration": 81,
    "start_time": "2022-02-16T15:24:35.859Z"
   },
   {
    "duration": 3,
    "start_time": "2022-02-16T15:24:51.044Z"
   },
   {
    "duration": 4,
    "start_time": "2022-02-16T16:08:25.531Z"
   },
   {
    "duration": 7,
    "start_time": "2022-02-16T16:10:01.130Z"
   },
   {
    "duration": 13,
    "start_time": "2022-02-16T16:10:25.165Z"
   },
   {
    "duration": 21,
    "start_time": "2022-02-16T16:10:41.271Z"
   },
   {
    "duration": 20,
    "start_time": "2022-02-16T16:11:24.456Z"
   },
   {
    "duration": 17,
    "start_time": "2022-02-16T16:11:37.723Z"
   },
   {
    "duration": 7,
    "start_time": "2022-02-16T16:12:11.286Z"
   },
   {
    "duration": 3,
    "start_time": "2022-02-16T16:12:35.473Z"
   },
   {
    "duration": 134,
    "start_time": "2022-02-16T16:12:43.459Z"
   },
   {
    "duration": 12,
    "start_time": "2022-02-16T16:12:49.511Z"
   },
   {
    "duration": 24,
    "start_time": "2022-02-16T16:12:57.051Z"
   },
   {
    "duration": 4,
    "start_time": "2022-02-16T16:13:08.524Z"
   },
   {
    "duration": 20,
    "start_time": "2022-02-16T16:13:25.842Z"
   },
   {
    "duration": 4,
    "start_time": "2022-02-16T16:13:41.167Z"
   },
   {
    "duration": 25,
    "start_time": "2022-02-16T16:13:49.963Z"
   },
   {
    "duration": 18,
    "start_time": "2022-02-16T16:13:57.451Z"
   },
   {
    "duration": 25,
    "start_time": "2022-02-16T16:14:03.649Z"
   },
   {
    "duration": 58,
    "start_time": "2022-02-16T16:14:10.833Z"
   },
   {
    "duration": 65,
    "start_time": "2022-02-16T16:14:17.767Z"
   },
   {
    "duration": 55,
    "start_time": "2022-02-16T16:14:22.079Z"
   },
   {
    "duration": 52,
    "start_time": "2022-02-16T16:14:32.619Z"
   },
   {
    "duration": 3,
    "start_time": "2022-02-16T16:14:40.693Z"
   },
   {
    "duration": 15,
    "start_time": "2022-02-16T16:14:46.099Z"
   },
   {
    "duration": 6,
    "start_time": "2022-02-16T16:14:52.963Z"
   },
   {
    "duration": 99,
    "start_time": "2022-02-16T16:24:23.361Z"
   },
   {
    "duration": 13,
    "start_time": "2022-02-16T16:24:32.063Z"
   },
   {
    "duration": 7,
    "start_time": "2022-02-16T16:24:39.006Z"
   },
   {
    "duration": 342,
    "start_time": "2022-02-16T16:27:13.154Z"
   },
   {
    "duration": 269,
    "start_time": "2022-02-16T16:27:50.841Z"
   },
   {
    "duration": 2,
    "start_time": "2022-02-16T16:28:00.496Z"
   },
   {
    "duration": 3,
    "start_time": "2022-02-16T16:28:05.090Z"
   },
   {
    "duration": 4,
    "start_time": "2022-02-16T16:36:35.842Z"
   },
   {
    "duration": 308,
    "start_time": "2022-02-16T16:40:13.505Z"
   },
   {
    "duration": 3,
    "start_time": "2022-02-16T16:46:39.424Z"
   },
   {
    "duration": 7,
    "start_time": "2022-02-16T16:46:58.320Z"
   },
   {
    "duration": 7,
    "start_time": "2022-02-16T16:47:07.684Z"
   },
   {
    "duration": 18,
    "start_time": "2022-02-16T16:47:57.037Z"
   },
   {
    "duration": 23,
    "start_time": "2022-02-16T16:48:02.874Z"
   },
   {
    "duration": 52,
    "start_time": "2022-02-16T16:48:09.215Z"
   },
   {
    "duration": 3,
    "start_time": "2022-02-16T16:49:42.479Z"
   },
   {
    "duration": 143,
    "start_time": "2022-02-16T16:49:47.959Z"
   },
   {
    "duration": 11,
    "start_time": "2022-02-16T16:49:50.938Z"
   },
   {
    "duration": 25,
    "start_time": "2022-02-16T16:49:54.817Z"
   },
   {
    "duration": 5,
    "start_time": "2022-02-16T16:50:00.703Z"
   },
   {
    "duration": 17,
    "start_time": "2022-02-16T16:50:04.179Z"
   },
   {
    "duration": 4,
    "start_time": "2022-02-16T16:50:07.711Z"
   },
   {
    "duration": 24,
    "start_time": "2022-02-16T16:50:15.669Z"
   },
   {
    "duration": 19,
    "start_time": "2022-02-16T16:50:19.898Z"
   },
   {
    "duration": 26,
    "start_time": "2022-02-16T16:50:23.952Z"
   },
   {
    "duration": 64,
    "start_time": "2022-02-16T16:50:27.310Z"
   },
   {
    "duration": 71,
    "start_time": "2022-02-16T16:50:29.964Z"
   },
   {
    "duration": 54,
    "start_time": "2022-02-16T16:50:32.408Z"
   },
   {
    "duration": 55,
    "start_time": "2022-02-16T16:50:36.512Z"
   },
   {
    "duration": 5,
    "start_time": "2022-02-16T18:32:43.435Z"
   },
   {
    "duration": 860,
    "start_time": "2022-02-16T18:32:54.509Z"
   },
   {
    "duration": 130,
    "start_time": "2022-02-16T18:33:45.365Z"
   },
   {
    "duration": 7534,
    "start_time": "2022-02-16T18:35:24.595Z"
   },
   {
    "duration": 3,
    "start_time": "2022-02-16T18:37:11.384Z"
   },
   {
    "duration": 737,
    "start_time": "2022-02-16T18:37:18.022Z"
   },
   {
    "duration": 3,
    "start_time": "2022-02-16T18:37:36.256Z"
   },
   {
    "duration": 700,
    "start_time": "2022-02-16T18:37:42.798Z"
   },
   {
    "duration": 809,
    "start_time": "2022-02-16T18:39:07.907Z"
   },
   {
    "duration": 178,
    "start_time": "2022-02-16T18:39:08.718Z"
   },
   {
    "duration": 26,
    "start_time": "2022-02-16T18:39:08.907Z"
   },
   {
    "duration": 31,
    "start_time": "2022-02-16T18:39:08.936Z"
   },
   {
    "duration": 6,
    "start_time": "2022-02-16T18:39:08.970Z"
   },
   {
    "duration": 26,
    "start_time": "2022-02-16T18:39:09.012Z"
   },
   {
    "duration": 8,
    "start_time": "2022-02-16T18:39:09.041Z"
   },
   {
    "duration": 59,
    "start_time": "2022-02-16T18:39:09.053Z"
   },
   {
    "duration": 23,
    "start_time": "2022-02-16T18:39:09.115Z"
   },
   {
    "duration": 30,
    "start_time": "2022-02-16T18:39:09.140Z"
   },
   {
    "duration": 112,
    "start_time": "2022-02-16T18:39:09.173Z"
   },
   {
    "duration": 110,
    "start_time": "2022-02-16T18:39:09.287Z"
   },
   {
    "duration": 84,
    "start_time": "2022-02-16T18:39:09.399Z"
   },
   {
    "duration": 86,
    "start_time": "2022-02-16T18:39:09.486Z"
   },
   {
    "duration": 4,
    "start_time": "2022-02-16T18:39:09.575Z"
   },
   {
    "duration": 30,
    "start_time": "2022-02-16T18:39:09.581Z"
   },
   {
    "duration": 8,
    "start_time": "2022-02-16T18:39:09.613Z"
   },
   {
    "duration": 3,
    "start_time": "2022-02-16T18:39:09.624Z"
   },
   {
    "duration": 4,
    "start_time": "2022-02-16T18:39:09.629Z"
   },
   {
    "duration": 5,
    "start_time": "2022-02-16T18:39:09.635Z"
   },
   {
    "duration": 8,
    "start_time": "2022-02-16T18:39:09.642Z"
   },
   {
    "duration": 5,
    "start_time": "2022-02-16T18:39:09.652Z"
   },
   {
    "duration": 3,
    "start_time": "2022-02-16T18:39:09.661Z"
   },
   {
    "duration": 46,
    "start_time": "2022-02-16T18:39:09.667Z"
   },
   {
    "duration": 5,
    "start_time": "2022-02-16T18:39:09.715Z"
   },
   {
    "duration": 7,
    "start_time": "2022-02-16T18:39:09.722Z"
   },
   {
    "duration": 7,
    "start_time": "2022-02-16T18:39:09.731Z"
   },
   {
    "duration": 5,
    "start_time": "2022-02-16T18:39:09.741Z"
   },
   {
    "duration": 5,
    "start_time": "2022-02-16T18:39:09.748Z"
   },
   {
    "duration": 5,
    "start_time": "2022-02-16T18:39:09.755Z"
   },
   {
    "duration": 6,
    "start_time": "2022-02-16T18:39:09.763Z"
   },
   {
    "duration": 7,
    "start_time": "2022-02-16T18:39:09.812Z"
   },
   {
    "duration": 8,
    "start_time": "2022-02-16T18:39:09.821Z"
   },
   {
    "duration": 4,
    "start_time": "2022-02-16T18:39:09.832Z"
   },
   {
    "duration": 5,
    "start_time": "2022-02-16T18:39:09.838Z"
   },
   {
    "duration": 4,
    "start_time": "2022-02-16T18:39:09.846Z"
   },
   {
    "duration": 5,
    "start_time": "2022-02-16T18:39:09.852Z"
   },
   {
    "duration": 4,
    "start_time": "2022-02-16T18:39:09.860Z"
   },
   {
    "duration": 22,
    "start_time": "2022-02-16T18:41:33.726Z"
   },
   {
    "duration": 4,
    "start_time": "2022-02-16T18:41:43.644Z"
   },
   {
    "duration": 13,
    "start_time": "2022-02-16T18:41:48.393Z"
   },
   {
    "duration": 22,
    "start_time": "2022-02-16T18:41:59.251Z"
   },
   {
    "duration": 4,
    "start_time": "2022-02-16T18:42:41.588Z"
   },
   {
    "duration": 187,
    "start_time": "2022-02-16T18:42:41.623Z"
   },
   {
    "duration": 20,
    "start_time": "2022-02-16T18:42:41.813Z"
   },
   {
    "duration": 75,
    "start_time": "2022-02-16T18:42:41.837Z"
   },
   {
    "duration": 5,
    "start_time": "2022-02-16T18:42:41.915Z"
   },
   {
    "duration": 26,
    "start_time": "2022-02-16T18:42:41.923Z"
   },
   {
    "duration": 6,
    "start_time": "2022-02-16T18:42:41.952Z"
   },
   {
    "duration": 92,
    "start_time": "2022-02-16T18:42:41.962Z"
   },
   {
    "duration": 24,
    "start_time": "2022-02-16T18:42:42.058Z"
   },
   {
    "duration": 54,
    "start_time": "2022-02-16T18:42:42.084Z"
   },
   {
    "duration": 106,
    "start_time": "2022-02-16T18:42:42.141Z"
   },
   {
    "duration": 96,
    "start_time": "2022-02-16T18:42:42.249Z"
   },
   {
    "duration": 88,
    "start_time": "2022-02-16T18:42:42.348Z"
   },
   {
    "duration": 88,
    "start_time": "2022-02-16T18:42:42.439Z"
   },
   {
    "duration": 4,
    "start_time": "2022-02-16T18:42:42.529Z"
   },
   {
    "duration": 12,
    "start_time": "2022-02-16T18:42:42.535Z"
   },
   {
    "duration": 25,
    "start_time": "2022-02-16T18:42:42.550Z"
   },
   {
    "duration": 3,
    "start_time": "2022-02-16T18:45:09.532Z"
   },
   {
    "duration": 795,
    "start_time": "2022-02-16T18:45:21.466Z"
   },
   {
    "duration": 778,
    "start_time": "2022-02-16T18:46:01.076Z"
   },
   {
    "duration": 3,
    "start_time": "2022-02-16T18:46:35.320Z"
   },
   {
    "duration": 3,
    "start_time": "2022-02-16T18:46:37.824Z"
   },
   {
    "duration": 3,
    "start_time": "2022-02-16T18:46:53.571Z"
   },
   {
    "duration": 197,
    "start_time": "2022-02-16T18:54:25.669Z"
   },
   {
    "duration": 6,
    "start_time": "2022-02-16T18:54:44.942Z"
   },
   {
    "duration": 874,
    "start_time": "2022-02-16T18:56:03.332Z"
   },
   {
    "duration": 5,
    "start_time": "2022-02-16T18:57:45.716Z"
   },
   {
    "duration": 779,
    "start_time": "2022-02-16T18:57:52.980Z"
   },
   {
    "duration": 4,
    "start_time": "2022-02-16T18:58:21.080Z"
   },
   {
    "duration": 797,
    "start_time": "2022-02-16T18:58:25.279Z"
   },
   {
    "duration": 1709,
    "start_time": "2022-02-16T18:59:23.439Z"
   },
   {
    "duration": 4,
    "start_time": "2022-02-16T18:59:46.123Z"
   },
   {
    "duration": 915,
    "start_time": "2022-02-16T18:59:51.706Z"
   },
   {
    "duration": 767,
    "start_time": "2022-02-16T19:01:04.089Z"
   },
   {
    "duration": 4,
    "start_time": "2022-02-16T19:01:27.541Z"
   },
   {
    "duration": 768,
    "start_time": "2022-02-16T19:01:41.364Z"
   },
   {
    "duration": 4,
    "start_time": "2022-02-16T19:05:40.835Z"
   },
   {
    "duration": 118,
    "start_time": "2022-02-16T19:06:23.049Z"
   },
   {
    "duration": 119,
    "start_time": "2022-02-16T19:06:36.328Z"
   },
   {
    "duration": 366,
    "start_time": "2022-02-16T19:07:09.567Z"
   },
   {
    "duration": 133,
    "start_time": "2022-02-16T19:07:22.714Z"
   },
   {
    "duration": 4,
    "start_time": "2022-02-16T19:07:59.702Z"
   },
   {
    "duration": 5,
    "start_time": "2022-02-16T19:08:59.848Z"
   },
   {
    "duration": 379,
    "start_time": "2022-02-16T19:09:03.079Z"
   },
   {
    "duration": 739,
    "start_time": "2022-02-16T19:10:09.459Z"
   },
   {
    "duration": 3,
    "start_time": "2022-02-16T19:10:46.520Z"
   },
   {
    "duration": 3,
    "start_time": "2022-02-16T19:10:50.212Z"
   },
   {
    "duration": 4,
    "start_time": "2022-02-17T06:24:13.463Z"
   },
   {
    "duration": 3,
    "start_time": "2022-02-17T06:26:07.825Z"
   },
   {
    "duration": 458,
    "start_time": "2022-02-17T06:26:56.473Z"
   },
   {
    "duration": 528,
    "start_time": "2022-02-17T06:27:31.257Z"
   },
   {
    "duration": 131,
    "start_time": "2022-02-17T06:27:31.787Z"
   },
   {
    "duration": 16,
    "start_time": "2022-02-17T06:27:31.920Z"
   },
   {
    "duration": 23,
    "start_time": "2022-02-17T06:27:31.937Z"
   },
   {
    "duration": 3,
    "start_time": "2022-02-17T06:27:31.962Z"
   },
   {
    "duration": 52,
    "start_time": "2022-02-17T06:27:31.967Z"
   },
   {
    "duration": 5,
    "start_time": "2022-02-17T06:27:32.021Z"
   },
   {
    "duration": 26,
    "start_time": "2022-02-17T06:27:32.028Z"
   },
   {
    "duration": 24,
    "start_time": "2022-02-17T06:27:32.055Z"
   },
   {
    "duration": 41,
    "start_time": "2022-02-17T06:27:32.080Z"
   },
   {
    "duration": 56,
    "start_time": "2022-02-17T06:27:32.122Z"
   },
   {
    "duration": 76,
    "start_time": "2022-02-17T06:27:32.179Z"
   },
   {
    "duration": 57,
    "start_time": "2022-02-17T06:27:32.256Z"
   },
   {
    "duration": 43,
    "start_time": "2022-02-17T06:27:32.315Z"
   },
   {
    "duration": 2,
    "start_time": "2022-02-17T06:27:32.360Z"
   },
   {
    "duration": 6,
    "start_time": "2022-02-17T06:27:41.125Z"
   },
   {
    "duration": 70,
    "start_time": "2022-02-17T06:30:22.205Z"
   },
   {
    "duration": 14,
    "start_time": "2022-02-17T06:31:28.538Z"
   },
   {
    "duration": 6,
    "start_time": "2022-02-17T06:34:01.769Z"
   },
   {
    "duration": 7,
    "start_time": "2022-02-17T06:34:45.792Z"
   },
   {
    "duration": 9,
    "start_time": "2022-02-17T06:35:01.809Z"
   },
   {
    "duration": 6,
    "start_time": "2022-02-17T06:35:17.772Z"
   },
   {
    "duration": 7,
    "start_time": "2022-02-17T06:38:47.363Z"
   },
   {
    "duration": 211,
    "start_time": "2022-02-17T06:41:41.931Z"
   },
   {
    "duration": 47,
    "start_time": "2022-02-17T06:41:57.243Z"
   },
   {
    "duration": 6,
    "start_time": "2022-02-17T06:44:23.383Z"
   },
   {
    "duration": 3,
    "start_time": "2022-02-17T06:52:08.309Z"
   },
   {
    "duration": 3,
    "start_time": "2022-02-17T06:55:31.778Z"
   },
   {
    "duration": 10,
    "start_time": "2022-02-17T06:56:32.360Z"
   },
   {
    "duration": 10,
    "start_time": "2022-02-17T06:57:06.521Z"
   },
   {
    "duration": 8,
    "start_time": "2022-02-17T07:03:34.308Z"
   },
   {
    "duration": 48,
    "start_time": "2022-02-17T07:05:21.841Z"
   },
   {
    "duration": 3,
    "start_time": "2022-02-17T07:07:22.280Z"
   },
   {
    "duration": 133,
    "start_time": "2022-02-17T07:07:22.322Z"
   },
   {
    "duration": 10,
    "start_time": "2022-02-17T07:07:22.457Z"
   },
   {
    "duration": 28,
    "start_time": "2022-02-17T07:07:22.469Z"
   },
   {
    "duration": 4,
    "start_time": "2022-02-17T07:07:22.513Z"
   },
   {
    "duration": 16,
    "start_time": "2022-02-17T07:07:22.549Z"
   },
   {
    "duration": 4,
    "start_time": "2022-02-17T07:07:22.600Z"
   },
   {
    "duration": 26,
    "start_time": "2022-02-17T07:07:22.644Z"
   },
   {
    "duration": 17,
    "start_time": "2022-02-17T07:07:22.702Z"
   },
   {
    "duration": 22,
    "start_time": "2022-02-17T07:07:22.749Z"
   },
   {
    "duration": 53,
    "start_time": "2022-02-17T07:07:22.800Z"
   },
   {
    "duration": 64,
    "start_time": "2022-02-17T07:07:22.854Z"
   },
   {
    "duration": 47,
    "start_time": "2022-02-17T07:07:22.920Z"
   },
   {
    "duration": 60,
    "start_time": "2022-02-17T07:07:22.969Z"
   },
   {
    "duration": 11,
    "start_time": "2022-02-17T07:10:58.710Z"
   },
   {
    "duration": 184,
    "start_time": "2022-02-17T07:16:35.810Z"
   },
   {
    "duration": 3,
    "start_time": "2022-02-17T07:18:05.162Z"
   },
   {
    "duration": 9,
    "start_time": "2022-02-17T07:19:12.937Z"
   },
   {
    "duration": 73,
    "start_time": "2022-02-17T07:39:55.019Z"
   },
   {
    "duration": 61,
    "start_time": "2022-02-17T07:40:28.733Z"
   },
   {
    "duration": 4,
    "start_time": "2022-02-17T07:42:30.428Z"
   },
   {
    "duration": 177,
    "start_time": "2022-02-17T07:44:43.736Z"
   },
   {
    "duration": 3,
    "start_time": "2022-02-17T07:45:13.711Z"
   },
   {
    "duration": 123,
    "start_time": "2022-02-17T07:45:13.732Z"
   },
   {
    "duration": 13,
    "start_time": "2022-02-17T07:45:13.857Z"
   },
   {
    "duration": 39,
    "start_time": "2022-02-17T07:45:13.873Z"
   },
   {
    "duration": 4,
    "start_time": "2022-02-17T07:45:13.915Z"
   },
   {
    "duration": 18,
    "start_time": "2022-02-17T07:45:13.920Z"
   },
   {
    "duration": 4,
    "start_time": "2022-02-17T07:45:13.939Z"
   },
   {
    "duration": 29,
    "start_time": "2022-02-17T07:45:13.945Z"
   },
   {
    "duration": 36,
    "start_time": "2022-02-17T07:45:13.976Z"
   },
   {
    "duration": 23,
    "start_time": "2022-02-17T07:45:14.014Z"
   },
   {
    "duration": 55,
    "start_time": "2022-02-17T07:45:14.039Z"
   },
   {
    "duration": 60,
    "start_time": "2022-02-17T07:45:14.112Z"
   },
   {
    "duration": 65,
    "start_time": "2022-02-17T07:45:14.173Z"
   },
   {
    "duration": 48,
    "start_time": "2022-02-17T07:45:14.240Z"
   },
   {
    "duration": 3,
    "start_time": "2022-02-17T07:45:14.290Z"
   },
   {
    "duration": 24,
    "start_time": "2022-02-17T07:45:14.295Z"
   },
   {
    "duration": 7,
    "start_time": "2022-02-17T07:45:14.321Z"
   },
   {
    "duration": 15,
    "start_time": "2022-02-17T07:45:14.329Z"
   },
   {
    "duration": 10,
    "start_time": "2022-02-17T07:45:14.345Z"
   },
   {
    "duration": 9,
    "start_time": "2022-02-17T07:45:14.356Z"
   },
   {
    "duration": 3,
    "start_time": "2022-02-17T07:45:14.366Z"
   },
   {
    "duration": 185,
    "start_time": "2022-02-17T07:45:21.117Z"
   },
   {
    "duration": 17,
    "start_time": "2022-02-17T07:45:41.525Z"
   },
   {
    "duration": 3,
    "start_time": "2022-02-17T07:47:35.332Z"
   },
   {
    "duration": 382,
    "start_time": "2022-02-17T07:47:42.417Z"
   },
   {
    "duration": 4,
    "start_time": "2022-02-17T07:47:57.845Z"
   },
   {
    "duration": 16,
    "start_time": "2022-02-17T07:48:05.945Z"
   },
   {
    "duration": 324,
    "start_time": "2022-02-17T07:49:20.039Z"
   },
   {
    "duration": 16,
    "start_time": "2022-02-17T07:50:06.098Z"
   },
   {
    "duration": 15,
    "start_time": "2022-02-17T07:51:12.422Z"
   },
   {
    "duration": 4,
    "start_time": "2022-02-17T07:52:18.552Z"
   },
   {
    "duration": 17,
    "start_time": "2022-02-17T07:52:24.878Z"
   },
   {
    "duration": 21,
    "start_time": "2022-02-17T07:52:31.186Z"
   },
   {
    "duration": 16,
    "start_time": "2022-02-17T07:53:20.977Z"
   },
   {
    "duration": 17,
    "start_time": "2022-02-17T07:53:35.994Z"
   },
   {
    "duration": 14,
    "start_time": "2022-02-17T07:53:59.419Z"
   },
   {
    "duration": 17,
    "start_time": "2022-02-17T07:54:25.445Z"
   },
   {
    "duration": 58,
    "start_time": "2022-02-17T08:09:28.471Z"
   },
   {
    "duration": 57,
    "start_time": "2022-02-17T08:09:59.832Z"
   },
   {
    "duration": 1369,
    "start_time": "2022-02-17T08:11:17.871Z"
   },
   {
    "duration": 64,
    "start_time": "2022-02-17T08:12:07.238Z"
   },
   {
    "duration": 61,
    "start_time": "2022-02-17T08:14:23.343Z"
   },
   {
    "duration": 71,
    "start_time": "2022-02-17T08:14:48.983Z"
   },
   {
    "duration": 4,
    "start_time": "2022-02-17T08:15:20.653Z"
   },
   {
    "duration": 9,
    "start_time": "2022-02-17T08:17:23.989Z"
   },
   {
    "duration": 17,
    "start_time": "2022-02-17T08:21:15.758Z"
   },
   {
    "duration": 17,
    "start_time": "2022-02-17T08:23:03.546Z"
   },
   {
    "duration": 4,
    "start_time": "2022-02-17T08:54:33.541Z"
   },
   {
    "duration": 401,
    "start_time": "2022-02-17T08:55:10.159Z"
   },
   {
    "duration": 4,
    "start_time": "2022-02-17T08:56:49.985Z"
   },
   {
    "duration": 413,
    "start_time": "2022-02-17T08:57:02.404Z"
   },
   {
    "duration": 4,
    "start_time": "2022-02-17T09:00:04.201Z"
   },
   {
    "duration": 470,
    "start_time": "2022-02-17T09:00:07.845Z"
   },
   {
    "duration": 4,
    "start_time": "2022-02-17T09:00:48.930Z"
   },
   {
    "duration": 11,
    "start_time": "2022-02-17T09:01:15.989Z"
   },
   {
    "duration": 612,
    "start_time": "2022-02-17T09:01:20.703Z"
   },
   {
    "duration": 4,
    "start_time": "2022-02-17T09:02:20.702Z"
   },
   {
    "duration": 5616,
    "start_time": "2022-02-17T09:02:28.720Z"
   },
   {
    "duration": 3,
    "start_time": "2022-02-17T09:03:46.916Z"
   },
   {
    "duration": 18,
    "start_time": "2022-02-17T09:04:03.247Z"
   },
   {
    "duration": 5,
    "start_time": "2022-02-17T09:07:26.525Z"
   },
   {
    "duration": 18,
    "start_time": "2022-02-17T09:07:31.927Z"
   },
   {
    "duration": 13,
    "start_time": "2022-02-17T09:08:27.609Z"
   },
   {
    "duration": 17,
    "start_time": "2022-02-17T09:11:03.057Z"
   },
   {
    "duration": 12,
    "start_time": "2022-02-17T09:11:29.240Z"
   },
   {
    "duration": 277,
    "start_time": "2022-02-17T09:23:31.403Z"
   },
   {
    "duration": 23,
    "start_time": "2022-02-17T09:24:16.925Z"
   },
   {
    "duration": 16,
    "start_time": "2022-02-17T09:24:39.116Z"
   },
   {
    "duration": 193,
    "start_time": "2022-02-17T09:25:59.778Z"
   },
   {
    "duration": 2,
    "start_time": "2022-02-17T09:27:10.171Z"
   },
   {
    "duration": 8,
    "start_time": "2022-02-17T09:27:18.396Z"
   },
   {
    "duration": 2,
    "start_time": "2022-02-17T09:27:29.329Z"
   },
   {
    "duration": 190,
    "start_time": "2022-02-17T09:30:33.418Z"
   },
   {
    "duration": 196,
    "start_time": "2022-02-17T09:30:59.191Z"
   },
   {
    "duration": 237,
    "start_time": "2022-02-17T09:31:20.472Z"
   },
   {
    "duration": 170,
    "start_time": "2022-02-17T09:31:40.299Z"
   },
   {
    "duration": 190,
    "start_time": "2022-02-17T09:32:16.357Z"
   },
   {
    "duration": 25,
    "start_time": "2022-02-17T09:32:45.498Z"
   },
   {
    "duration": 10,
    "start_time": "2022-02-17T09:33:49.204Z"
   },
   {
    "duration": 9,
    "start_time": "2022-02-17T09:34:51.744Z"
   },
   {
    "duration": 8,
    "start_time": "2022-02-17T09:35:18.901Z"
   },
   {
    "duration": 5,
    "start_time": "2022-02-17T09:35:36.382Z"
   },
   {
    "duration": 7,
    "start_time": "2022-02-17T09:37:19.220Z"
   },
   {
    "duration": 9,
    "start_time": "2022-02-17T09:37:43.165Z"
   },
   {
    "duration": 3,
    "start_time": "2022-02-17T09:37:53.869Z"
   },
   {
    "duration": 145,
    "start_time": "2022-02-17T09:37:53.909Z"
   },
   {
    "duration": 10,
    "start_time": "2022-02-17T09:37:54.055Z"
   },
   {
    "duration": 27,
    "start_time": "2022-02-17T09:37:54.067Z"
   },
   {
    "duration": 23,
    "start_time": "2022-02-17T09:37:54.096Z"
   },
   {
    "duration": 13,
    "start_time": "2022-02-17T09:37:54.120Z"
   },
   {
    "duration": 4,
    "start_time": "2022-02-17T09:37:54.147Z"
   },
   {
    "duration": 21,
    "start_time": "2022-02-17T09:37:54.199Z"
   },
   {
    "duration": 15,
    "start_time": "2022-02-17T09:37:54.244Z"
   },
   {
    "duration": 21,
    "start_time": "2022-02-17T09:37:54.282Z"
   },
   {
    "duration": 63,
    "start_time": "2022-02-17T09:37:54.323Z"
   },
   {
    "duration": 64,
    "start_time": "2022-02-17T09:37:54.387Z"
   },
   {
    "duration": 47,
    "start_time": "2022-02-17T09:37:54.453Z"
   },
   {
    "duration": 69,
    "start_time": "2022-02-17T09:37:54.502Z"
   },
   {
    "duration": 3,
    "start_time": "2022-02-17T09:37:54.572Z"
   },
   {
    "duration": 12,
    "start_time": "2022-02-17T09:37:54.577Z"
   },
   {
    "duration": 6,
    "start_time": "2022-02-17T09:37:54.590Z"
   },
   {
    "duration": 31,
    "start_time": "2022-02-17T09:37:54.598Z"
   },
   {
    "duration": 11,
    "start_time": "2022-02-17T09:37:54.672Z"
   },
   {
    "duration": 9,
    "start_time": "2022-02-17T09:37:54.707Z"
   },
   {
    "duration": 3,
    "start_time": "2022-02-17T09:37:54.759Z"
   },
   {
    "duration": 17,
    "start_time": "2022-02-17T09:37:54.797Z"
   },
   {
    "duration": 15,
    "start_time": "2022-02-17T09:37:54.830Z"
   },
   {
    "duration": 15,
    "start_time": "2022-02-17T09:37:54.853Z"
   },
   {
    "duration": 14,
    "start_time": "2022-02-17T09:37:54.886Z"
   },
   {
    "duration": 16,
    "start_time": "2022-02-17T09:37:54.922Z"
   },
   {
    "duration": 13,
    "start_time": "2022-02-17T09:37:54.954Z"
   },
   {
    "duration": 10,
    "start_time": "2022-02-17T09:37:54.997Z"
   },
   {
    "duration": 17,
    "start_time": "2022-02-17T09:37:55.069Z"
   },
   {
    "duration": 13,
    "start_time": "2022-02-17T09:37:55.099Z"
   },
   {
    "duration": 4,
    "start_time": "2022-02-17T09:37:55.142Z"
   },
   {
    "duration": 18,
    "start_time": "2022-02-17T09:37:55.186Z"
   },
   {
    "duration": 12,
    "start_time": "2022-02-17T09:37:55.215Z"
   },
   {
    "duration": 15,
    "start_time": "2022-02-17T09:37:55.244Z"
   },
   {
    "duration": 12,
    "start_time": "2022-02-17T09:37:55.274Z"
   },
   {
    "duration": 8,
    "start_time": "2022-02-17T09:37:55.335Z"
   },
   {
    "duration": 5,
    "start_time": "2022-02-17T09:37:55.371Z"
   },
   {
    "duration": 5,
    "start_time": "2022-02-17T09:39:06.278Z"
   },
   {
    "duration": 3,
    "start_time": "2022-02-17T09:45:46.327Z"
   },
   {
    "duration": 132,
    "start_time": "2022-02-17T09:45:46.360Z"
   },
   {
    "duration": 10,
    "start_time": "2022-02-17T09:45:46.494Z"
   },
   {
    "duration": 32,
    "start_time": "2022-02-17T09:45:46.506Z"
   },
   {
    "duration": 4,
    "start_time": "2022-02-17T09:45:46.539Z"
   },
   {
    "duration": 17,
    "start_time": "2022-02-17T09:45:46.545Z"
   },
   {
    "duration": 4,
    "start_time": "2022-02-17T09:45:46.584Z"
   },
   {
    "duration": 22,
    "start_time": "2022-02-17T09:45:46.620Z"
   },
   {
    "duration": 17,
    "start_time": "2022-02-17T09:45:46.667Z"
   },
   {
    "duration": 24,
    "start_time": "2022-02-17T09:45:46.704Z"
   },
   {
    "duration": 86,
    "start_time": "2022-02-17T09:45:46.740Z"
   },
   {
    "duration": 61,
    "start_time": "2022-02-17T09:45:46.828Z"
   },
   {
    "duration": 65,
    "start_time": "2022-02-17T09:45:46.891Z"
   },
   {
    "duration": 61,
    "start_time": "2022-02-17T09:45:46.958Z"
   },
   {
    "duration": 3,
    "start_time": "2022-02-17T09:45:47.021Z"
   },
   {
    "duration": 11,
    "start_time": "2022-02-17T09:45:47.025Z"
   },
   {
    "duration": 7,
    "start_time": "2022-02-17T09:45:47.037Z"
   },
   {
    "duration": 10,
    "start_time": "2022-02-17T09:45:47.045Z"
   },
   {
    "duration": 10,
    "start_time": "2022-02-17T09:45:47.089Z"
   },
   {
    "duration": 9,
    "start_time": "2022-02-17T09:45:47.121Z"
   },
   {
    "duration": 3,
    "start_time": "2022-02-17T09:45:47.161Z"
   },
   {
    "duration": 15,
    "start_time": "2022-02-17T09:45:47.196Z"
   },
   {
    "duration": 13,
    "start_time": "2022-02-17T09:45:47.220Z"
   },
   {
    "duration": 13,
    "start_time": "2022-02-17T09:45:47.242Z"
   },
   {
    "duration": 12,
    "start_time": "2022-02-17T09:45:47.274Z"
   },
   {
    "duration": 15,
    "start_time": "2022-02-17T09:45:47.299Z"
   },
   {
    "duration": 15,
    "start_time": "2022-02-17T09:45:47.324Z"
   },
   {
    "duration": 9,
    "start_time": "2022-02-17T09:45:47.367Z"
   },
   {
    "duration": 18,
    "start_time": "2022-02-17T09:45:47.434Z"
   },
   {
    "duration": 15,
    "start_time": "2022-02-17T09:45:47.461Z"
   },
   {
    "duration": 4,
    "start_time": "2022-02-17T09:45:47.504Z"
   },
   {
    "duration": 18,
    "start_time": "2022-02-17T09:45:47.537Z"
   },
   {
    "duration": 12,
    "start_time": "2022-02-17T09:45:47.567Z"
   },
   {
    "duration": 16,
    "start_time": "2022-02-17T09:45:47.592Z"
   },
   {
    "duration": 11,
    "start_time": "2022-02-17T09:45:47.616Z"
   },
   {
    "duration": 8,
    "start_time": "2022-02-17T09:45:47.657Z"
   },
   {
    "duration": 5,
    "start_time": "2022-02-17T09:45:47.689Z"
   },
   {
    "duration": 6,
    "start_time": "2022-02-17T09:45:47.718Z"
   },
   {
    "duration": 4,
    "start_time": "2022-02-17T09:45:47.748Z"
   },
   {
    "duration": 515,
    "start_time": "2022-02-25T17:09:10.788Z"
   },
   {
    "duration": 116,
    "start_time": "2022-02-25T17:09:11.305Z"
   },
   {
    "duration": 14,
    "start_time": "2022-02-25T17:09:11.423Z"
   },
   {
    "duration": 22,
    "start_time": "2022-02-25T17:09:11.438Z"
   },
   {
    "duration": 4,
    "start_time": "2022-02-25T17:09:11.461Z"
   },
   {
    "duration": 16,
    "start_time": "2022-02-25T17:09:11.466Z"
   },
   {
    "duration": 3,
    "start_time": "2022-02-25T17:09:11.484Z"
   },
   {
    "duration": 47,
    "start_time": "2022-02-25T17:09:11.489Z"
   },
   {
    "duration": 17,
    "start_time": "2022-02-25T17:09:11.538Z"
   },
   {
    "duration": 20,
    "start_time": "2022-02-25T17:09:11.557Z"
   },
   {
    "duration": 68,
    "start_time": "2022-02-25T17:09:11.578Z"
   },
   {
    "duration": 59,
    "start_time": "2022-02-25T17:09:11.648Z"
   },
   {
    "duration": 58,
    "start_time": "2022-02-25T17:09:11.709Z"
   },
   {
    "duration": 42,
    "start_time": "2022-02-25T17:09:11.768Z"
   },
   {
    "duration": 3,
    "start_time": "2022-02-25T17:09:11.811Z"
   },
   {
    "duration": 22,
    "start_time": "2022-02-25T17:09:11.815Z"
   },
   {
    "duration": 6,
    "start_time": "2022-02-25T17:09:11.838Z"
   },
   {
    "duration": 12,
    "start_time": "2022-02-25T17:09:11.846Z"
   },
   {
    "duration": 8,
    "start_time": "2022-02-25T17:09:11.860Z"
   },
   {
    "duration": 8,
    "start_time": "2022-02-25T17:09:11.870Z"
   },
   {
    "duration": 3,
    "start_time": "2022-02-25T17:09:11.879Z"
   },
   {
    "duration": 23,
    "start_time": "2022-02-25T17:09:11.883Z"
   },
   {
    "duration": 33,
    "start_time": "2022-02-25T17:09:11.909Z"
   },
   {
    "duration": 12,
    "start_time": "2022-02-25T17:09:11.944Z"
   },
   {
    "duration": 11,
    "start_time": "2022-02-25T17:09:11.957Z"
   },
   {
    "duration": 14,
    "start_time": "2022-02-25T17:09:11.969Z"
   },
   {
    "duration": 11,
    "start_time": "2022-02-25T17:09:11.984Z"
   },
   {
    "duration": 36,
    "start_time": "2022-02-25T17:09:11.997Z"
   },
   {
    "duration": 17,
    "start_time": "2022-02-25T17:09:12.034Z"
   },
   {
    "duration": 12,
    "start_time": "2022-02-25T17:09:12.052Z"
   },
   {
    "duration": 3,
    "start_time": "2022-02-25T17:09:12.065Z"
   },
   {
    "duration": 25,
    "start_time": "2022-02-25T17:09:12.069Z"
   },
   {
    "duration": 11,
    "start_time": "2022-02-25T17:09:12.095Z"
   },
   {
    "duration": 14,
    "start_time": "2022-02-25T17:09:12.132Z"
   },
   {
    "duration": 9,
    "start_time": "2022-02-25T17:09:12.148Z"
   },
   {
    "duration": 7,
    "start_time": "2022-02-25T17:09:12.158Z"
   },
   {
    "duration": 7,
    "start_time": "2022-02-25T17:09:12.166Z"
   },
   {
    "duration": 9,
    "start_time": "2022-02-25T17:09:12.175Z"
   },
   {
    "duration": 7,
    "start_time": "2022-02-25T17:09:12.186Z"
   },
   {
    "duration": 8,
    "start_time": "2022-02-25T18:21:47.868Z"
   },
   {
    "duration": 439,
    "start_time": "2022-02-25T20:31:44.130Z"
   },
   {
    "duration": 760,
    "start_time": "2022-02-25T20:32:09.140Z"
   },
   {
    "duration": 192,
    "start_time": "2022-02-25T20:32:09.904Z"
   },
   {
    "duration": 36,
    "start_time": "2022-02-25T20:32:10.099Z"
   },
   {
    "duration": 14,
    "start_time": "2022-02-25T20:32:10.138Z"
   },
   {
    "duration": 59,
    "start_time": "2022-02-25T20:32:10.154Z"
   },
   {
    "duration": 6,
    "start_time": "2022-02-25T20:32:10.216Z"
   },
   {
    "duration": 27,
    "start_time": "2022-02-25T20:32:10.225Z"
   },
   {
    "duration": 5,
    "start_time": "2022-02-25T20:32:10.256Z"
   },
   {
    "duration": 72,
    "start_time": "2022-02-25T20:32:10.263Z"
   },
   {
    "duration": 23,
    "start_time": "2022-02-25T20:32:10.337Z"
   },
   {
    "duration": 53,
    "start_time": "2022-02-25T20:32:10.362Z"
   },
   {
    "duration": 80,
    "start_time": "2022-02-25T20:32:10.417Z"
   },
   {
    "duration": 109,
    "start_time": "2022-02-25T20:32:10.511Z"
   },
   {
    "duration": 89,
    "start_time": "2022-02-25T20:32:10.623Z"
   },
   {
    "duration": 74,
    "start_time": "2022-02-25T20:32:10.714Z"
   },
   {
    "duration": 20,
    "start_time": "2022-02-25T20:32:10.791Z"
   },
   {
    "duration": 20,
    "start_time": "2022-02-25T20:32:10.813Z"
   },
   {
    "duration": 6,
    "start_time": "2022-02-25T20:32:10.835Z"
   },
   {
    "duration": 12,
    "start_time": "2022-02-25T20:32:10.843Z"
   },
   {
    "duration": 14,
    "start_time": "2022-02-25T20:32:10.858Z"
   },
   {
    "duration": 47,
    "start_time": "2022-02-25T20:32:10.875Z"
   },
   {
    "duration": 14,
    "start_time": "2022-02-25T20:32:10.925Z"
   },
   {
    "duration": 5,
    "start_time": "2022-02-25T20:32:10.941Z"
   },
   {
    "duration": 25,
    "start_time": "2022-02-25T20:32:10.948Z"
   },
   {
    "duration": 52,
    "start_time": "2022-02-25T20:32:10.975Z"
   },
   {
    "duration": 18,
    "start_time": "2022-02-25T20:32:11.029Z"
   },
   {
    "duration": 17,
    "start_time": "2022-02-25T20:32:11.050Z"
   },
   {
    "duration": 59,
    "start_time": "2022-02-25T20:32:11.069Z"
   },
   {
    "duration": 20,
    "start_time": "2022-02-25T20:32:11.130Z"
   },
   {
    "duration": 12,
    "start_time": "2022-02-25T20:32:11.153Z"
   },
   {
    "duration": 60,
    "start_time": "2022-02-25T20:32:11.168Z"
   },
   {
    "duration": 22,
    "start_time": "2022-02-25T20:32:11.231Z"
   },
   {
    "duration": 6,
    "start_time": "2022-02-25T20:32:11.256Z"
   },
   {
    "duration": 63,
    "start_time": "2022-02-25T20:32:11.266Z"
   },
   {
    "duration": 17,
    "start_time": "2022-02-25T20:32:11.332Z"
   },
   {
    "duration": 25,
    "start_time": "2022-02-25T20:32:11.352Z"
   },
   {
    "duration": 17,
    "start_time": "2022-02-25T20:32:11.412Z"
   },
   {
    "duration": 10,
    "start_time": "2022-02-25T20:32:11.432Z"
   },
   {
    "duration": 6,
    "start_time": "2022-02-25T20:32:11.464Z"
   },
   {
    "duration": 10,
    "start_time": "2022-02-25T20:32:11.530Z"
   },
   {
    "duration": 8,
    "start_time": "2022-02-25T20:32:11.572Z"
   },
   {
    "duration": 572,
    "start_time": "2022-02-26T19:52:59.440Z"
   },
   {
    "duration": 130,
    "start_time": "2022-02-26T19:53:00.014Z"
   },
   {
    "duration": 19,
    "start_time": "2022-02-26T19:53:00.146Z"
   },
   {
    "duration": 9,
    "start_time": "2022-02-26T19:53:00.167Z"
   },
   {
    "duration": 29,
    "start_time": "2022-02-26T19:53:00.178Z"
   },
   {
    "duration": 8,
    "start_time": "2022-02-26T19:53:00.209Z"
   },
   {
    "duration": 24,
    "start_time": "2022-02-26T19:53:00.219Z"
   },
   {
    "duration": 4,
    "start_time": "2022-02-26T19:53:00.259Z"
   },
   {
    "duration": 60,
    "start_time": "2022-02-26T19:53:00.267Z"
   },
   {
    "duration": 21,
    "start_time": "2022-02-26T19:53:00.330Z"
   },
   {
    "duration": 22,
    "start_time": "2022-02-26T19:53:00.353Z"
   },
   {
    "duration": 59,
    "start_time": "2022-02-26T19:53:00.377Z"
   },
   {
    "duration": 81,
    "start_time": "2022-02-26T19:53:00.437Z"
   },
   {
    "duration": 63,
    "start_time": "2022-02-26T19:53:00.520Z"
   },
   {
    "duration": 49,
    "start_time": "2022-02-26T19:53:00.585Z"
   },
   {
    "duration": 3,
    "start_time": "2022-02-26T19:53:00.636Z"
   },
   {
    "duration": 27,
    "start_time": "2022-02-26T19:53:00.640Z"
   },
   {
    "duration": 9,
    "start_time": "2022-02-26T19:53:00.669Z"
   },
   {
    "duration": 12,
    "start_time": "2022-02-26T19:53:00.680Z"
   },
   {
    "duration": 21,
    "start_time": "2022-02-26T19:53:00.694Z"
   },
   {
    "duration": 17,
    "start_time": "2022-02-26T19:53:00.717Z"
   },
   {
    "duration": 32,
    "start_time": "2022-02-26T19:53:00.736Z"
   },
   {
    "duration": 18,
    "start_time": "2022-02-26T19:53:00.771Z"
   },
   {
    "duration": 94,
    "start_time": "2022-02-26T19:53:00.791Z"
   },
   {
    "duration": 23,
    "start_time": "2022-02-26T19:53:00.888Z"
   },
   {
    "duration": 15,
    "start_time": "2022-02-26T19:53:00.913Z"
   },
   {
    "duration": 36,
    "start_time": "2022-02-26T19:53:00.931Z"
   },
   {
    "duration": 14,
    "start_time": "2022-02-26T19:53:00.969Z"
   },
   {
    "duration": 18,
    "start_time": "2022-02-26T19:53:00.984Z"
   },
   {
    "duration": 15,
    "start_time": "2022-02-26T19:53:01.003Z"
   },
   {
    "duration": 82,
    "start_time": "2022-02-26T19:53:01.020Z"
   },
   {
    "duration": 16,
    "start_time": "2022-02-26T19:53:01.104Z"
   },
   {
    "duration": 17,
    "start_time": "2022-02-26T19:53:01.122Z"
   },
   {
    "duration": 18,
    "start_time": "2022-02-26T19:53:01.141Z"
   },
   {
    "duration": 28,
    "start_time": "2022-02-26T19:53:01.161Z"
   },
   {
    "duration": 13,
    "start_time": "2022-02-26T19:53:01.191Z"
   },
   {
    "duration": 16,
    "start_time": "2022-02-26T19:53:01.206Z"
   },
   {
    "duration": 11,
    "start_time": "2022-02-26T19:53:01.223Z"
   },
   {
    "duration": 8,
    "start_time": "2022-02-26T19:53:01.259Z"
   },
   {
    "duration": 9,
    "start_time": "2022-02-26T19:53:01.269Z"
   },
   {
    "duration": 13,
    "start_time": "2022-02-26T19:53:01.279Z"
   },
   {
    "duration": 6,
    "start_time": "2022-02-26T19:53:01.294Z"
   },
   {
    "duration": 70,
    "start_time": "2022-02-26T19:56:10.369Z"
   }
  ],
  "colab": {
   "collapsed_sections": [
    "E0vqbgi9ay0H",
    "VUC88oWjTJw2"
   ],
   "name": "yandex_music_project_2021.2.ipynb",
   "provenance": []
  },
  "kernelspec": {
   "display_name": "Python 3 (ipykernel)",
   "language": "python",
   "name": "python3"
  },
  "language_info": {
   "codemirror_mode": {
    "name": "ipython",
    "version": 3
   },
   "file_extension": ".py",
   "mimetype": "text/x-python",
   "name": "python",
   "nbconvert_exporter": "python",
   "pygments_lexer": "ipython3",
   "version": "3.9.12"
  },
  "toc": {
   "base_numbering": 1,
   "nav_menu": {},
   "number_sections": true,
   "sideBar": true,
   "skip_h1_title": true,
   "title_cell": "Table of Contents",
   "title_sidebar": "Contents",
   "toc_cell": false,
   "toc_position": {
    "height": "calc(100% - 180px)",
    "left": "10px",
    "top": "150px",
    "width": "306.4px"
   },
   "toc_section_display": true,
   "toc_window_display": true
  }
 },
 "nbformat": 4,
 "nbformat_minor": 1
}
