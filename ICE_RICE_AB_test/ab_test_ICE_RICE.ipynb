{
 "cells": [
  {
   "cell_type": "markdown",
   "metadata": {},
   "source": [
    "# Приоритизация гипотез. А/В тест"
   ]
  },
  {
   "cell_type": "markdown",
   "metadata": {},
   "source": [
    "## Описание исследования"
   ]
  },
  {
   "cell_type": "markdown",
   "metadata": {},
   "source": [
    "**Цель:**\n",
    "- приоритизировать гипотезы (список гипотез для увеличения выручки был подготовлен совместно с отделом маркетинга)\n",
    "- проанализировать результаты А/В теста и принять решение о гипотезе\n",
    "\n",
    "**Описание данных для анализа:**\n",
    "\n",
    "Список гипотез\n",
    "- Hypothesis — краткое описание гипотезы;\n",
    "- Reach — охват пользователей по 10-балльной шкале;\n",
    "- Impact — влияние на пользователей по 10-балльной шкале;\n",
    "- Confidence — уверенность в гипотезе по 10-балльной шкале;\n",
    "- Efforts — затраты ресурсов на проверку гипотезы по 10-балльной шкале (*чем больше значение Efforts, тем дороже проверка гипотезы*)\n",
    "\n",
    "Данные о заказах пользователей в интернет-магазине:\n",
    "- transactionId — идентификатор заказа;\n",
    "- visitorId — идентификатор пользователя, совершившего заказ;\n",
    "- date — дата, когда был совершён заказ;\n",
    "- revenue — выручка заказа;\n",
    "- group — группа A/B-теста, в которую попал заказ.\n",
    "\n",
    "Данные о посещениях интернет-магазина пользователями:\n",
    "- date — дата;\n",
    "- group — группа A/B-теста;\n",
    "- visitors — количество пользователей в указанную дату в указанной группе A/B-теста"
   ]
  },
  {
   "cell_type": "markdown",
   "metadata": {},
   "source": [
    "## Обзор и подготовка данных для анализа"
   ]
  },
  {
   "cell_type": "code",
   "execution_count": 5,
   "metadata": {},
   "outputs": [],
   "source": [
    "import pandas as pd\n",
    "import numpy as np\n",
    "from scipy import stats as st\n",
    "from datetime import datetime as dt\n",
    "from matplotlib import pyplot as plt"
   ]
  },
  {
   "cell_type": "code",
   "execution_count": 6,
   "metadata": {},
   "outputs": [],
   "source": [
    "hypothesis = pd.read_csv('D:/учеба/портфолио/roots/ab/hypothesis.csv')\n",
    "orders = pd.read_csv('D:/учеба/портфолио/roots/ab/orders.csv')\n",
    "visitors = pd.read_csv('D:/учеба/портфолио/roots/ab/visitors.csv')"
   ]
  },
  {
   "cell_type": "code",
   "execution_count": 7,
   "metadata": {},
   "outputs": [],
   "source": [
    "# функция для предварительного обзора данных\n",
    "def preview (data):\n",
    "    print('Посмотрим на данные')\n",
    "    print('-'*50)\n",
    "    display(data.head())\n",
    "    print('Атрибуты')\n",
    "    print('-'*50)\n",
    "    print(data.info())\n",
    "    print('Пропусков в данных')\n",
    "    print('-'*50)\n",
    "    print(data.isna().sum())\n",
    "    print('Полных дубликатов в данных')\n",
    "    print('-'*50)\n",
    "    print(data.duplicated().sum())"
   ]
  },
  {
   "cell_type": "markdown",
   "metadata": {},
   "source": [
    "### Таблица hypothesis/Гипотезы"
   ]
  },
  {
   "cell_type": "code",
   "execution_count": 8,
   "metadata": {},
   "outputs": [
    {
     "name": "stdout",
     "output_type": "stream",
     "text": [
      "Посмотрим на данные\n",
      "--------------------------------------------------\n"
     ]
    },
    {
     "data": {
      "text/html": [
       "<div>\n",
       "<style scoped>\n",
       "    .dataframe tbody tr th:only-of-type {\n",
       "        vertical-align: middle;\n",
       "    }\n",
       "\n",
       "    .dataframe tbody tr th {\n",
       "        vertical-align: top;\n",
       "    }\n",
       "\n",
       "    .dataframe thead th {\n",
       "        text-align: right;\n",
       "    }\n",
       "</style>\n",
       "<table border=\"1\" class=\"dataframe\">\n",
       "  <thead>\n",
       "    <tr style=\"text-align: right;\">\n",
       "      <th></th>\n",
       "      <th>Hypothesis</th>\n",
       "      <th>Reach</th>\n",
       "      <th>Impact</th>\n",
       "      <th>Confidence</th>\n",
       "      <th>Efforts</th>\n",
       "    </tr>\n",
       "  </thead>\n",
       "  <tbody>\n",
       "    <tr>\n",
       "      <th>0</th>\n",
       "      <td>Добавить два новых канала привлечения трафика,...</td>\n",
       "      <td>3</td>\n",
       "      <td>10</td>\n",
       "      <td>8</td>\n",
       "      <td>6</td>\n",
       "    </tr>\n",
       "    <tr>\n",
       "      <th>1</th>\n",
       "      <td>Запустить собственную службу доставки, что сок...</td>\n",
       "      <td>2</td>\n",
       "      <td>5</td>\n",
       "      <td>4</td>\n",
       "      <td>10</td>\n",
       "    </tr>\n",
       "    <tr>\n",
       "      <th>2</th>\n",
       "      <td>Добавить блоки рекомендаций товаров на сайт ин...</td>\n",
       "      <td>8</td>\n",
       "      <td>3</td>\n",
       "      <td>7</td>\n",
       "      <td>3</td>\n",
       "    </tr>\n",
       "    <tr>\n",
       "      <th>3</th>\n",
       "      <td>Изменить структура категорий, что увеличит кон...</td>\n",
       "      <td>8</td>\n",
       "      <td>3</td>\n",
       "      <td>3</td>\n",
       "      <td>8</td>\n",
       "    </tr>\n",
       "    <tr>\n",
       "      <th>4</th>\n",
       "      <td>Изменить цвет фона главной страницы, чтобы уве...</td>\n",
       "      <td>3</td>\n",
       "      <td>1</td>\n",
       "      <td>1</td>\n",
       "      <td>1</td>\n",
       "    </tr>\n",
       "  </tbody>\n",
       "</table>\n",
       "</div>"
      ],
      "text/plain": [
       "                                          Hypothesis  Reach  Impact  \\\n",
       "0  Добавить два новых канала привлечения трафика,...      3      10   \n",
       "1  Запустить собственную службу доставки, что сок...      2       5   \n",
       "2  Добавить блоки рекомендаций товаров на сайт ин...      8       3   \n",
       "3  Изменить структура категорий, что увеличит кон...      8       3   \n",
       "4  Изменить цвет фона главной страницы, чтобы уве...      3       1   \n",
       "\n",
       "   Confidence  Efforts  \n",
       "0           8        6  \n",
       "1           4       10  \n",
       "2           7        3  \n",
       "3           3        8  \n",
       "4           1        1  "
      ]
     },
     "metadata": {},
     "output_type": "display_data"
    },
    {
     "name": "stdout",
     "output_type": "stream",
     "text": [
      "Атрибуты\n",
      "--------------------------------------------------\n",
      "<class 'pandas.core.frame.DataFrame'>\n",
      "RangeIndex: 9 entries, 0 to 8\n",
      "Data columns (total 5 columns):\n",
      " #   Column      Non-Null Count  Dtype \n",
      "---  ------      --------------  ----- \n",
      " 0   Hypothesis  9 non-null      object\n",
      " 1   Reach       9 non-null      int64 \n",
      " 2   Impact      9 non-null      int64 \n",
      " 3   Confidence  9 non-null      int64 \n",
      " 4   Efforts     9 non-null      int64 \n",
      "dtypes: int64(4), object(1)\n",
      "memory usage: 488.0+ bytes\n",
      "None\n",
      "Пропусков в данных\n",
      "--------------------------------------------------\n",
      "Hypothesis    0\n",
      "Reach         0\n",
      "Impact        0\n",
      "Confidence    0\n",
      "Efforts       0\n",
      "dtype: int64\n",
      "Полных дубликатов в данных\n",
      "--------------------------------------------------\n",
      "0\n"
     ]
    }
   ],
   "source": [
    "preview(hypothesis)"
   ]
  },
  {
   "cell_type": "code",
   "execution_count": 9,
   "metadata": {},
   "outputs": [],
   "source": [
    "# поправим названия столбцов\n",
    "hypothesis = hypothesis.rename(\n",
    "    columns = {'Hypothesis':'hypothesis', 'Reach':'reach', 'Impact':'impact', 'Confidence':'confidence', 'Efforts':'efforts'}\n",
    ")"
   ]
  },
  {
   "cell_type": "markdown",
   "metadata": {},
   "source": [
    "### Таблица orders/Заказы"
   ]
  },
  {
   "cell_type": "code",
   "execution_count": 10,
   "metadata": {},
   "outputs": [
    {
     "name": "stdout",
     "output_type": "stream",
     "text": [
      "Посмотрим на данные\n",
      "--------------------------------------------------\n"
     ]
    },
    {
     "data": {
      "text/html": [
       "<div>\n",
       "<style scoped>\n",
       "    .dataframe tbody tr th:only-of-type {\n",
       "        vertical-align: middle;\n",
       "    }\n",
       "\n",
       "    .dataframe tbody tr th {\n",
       "        vertical-align: top;\n",
       "    }\n",
       "\n",
       "    .dataframe thead th {\n",
       "        text-align: right;\n",
       "    }\n",
       "</style>\n",
       "<table border=\"1\" class=\"dataframe\">\n",
       "  <thead>\n",
       "    <tr style=\"text-align: right;\">\n",
       "      <th></th>\n",
       "      <th>transactionId</th>\n",
       "      <th>visitorId</th>\n",
       "      <th>date</th>\n",
       "      <th>revenue</th>\n",
       "      <th>group</th>\n",
       "    </tr>\n",
       "  </thead>\n",
       "  <tbody>\n",
       "    <tr>\n",
       "      <th>0</th>\n",
       "      <td>3667963787</td>\n",
       "      <td>3312258926</td>\n",
       "      <td>2019-08-15</td>\n",
       "      <td>1650</td>\n",
       "      <td>B</td>\n",
       "    </tr>\n",
       "    <tr>\n",
       "      <th>1</th>\n",
       "      <td>2804400009</td>\n",
       "      <td>3642806036</td>\n",
       "      <td>2019-08-15</td>\n",
       "      <td>730</td>\n",
       "      <td>B</td>\n",
       "    </tr>\n",
       "    <tr>\n",
       "      <th>2</th>\n",
       "      <td>2961555356</td>\n",
       "      <td>4069496402</td>\n",
       "      <td>2019-08-15</td>\n",
       "      <td>400</td>\n",
       "      <td>A</td>\n",
       "    </tr>\n",
       "    <tr>\n",
       "      <th>3</th>\n",
       "      <td>3797467345</td>\n",
       "      <td>1196621759</td>\n",
       "      <td>2019-08-15</td>\n",
       "      <td>9759</td>\n",
       "      <td>B</td>\n",
       "    </tr>\n",
       "    <tr>\n",
       "      <th>4</th>\n",
       "      <td>2282983706</td>\n",
       "      <td>2322279887</td>\n",
       "      <td>2019-08-15</td>\n",
       "      <td>2308</td>\n",
       "      <td>B</td>\n",
       "    </tr>\n",
       "  </tbody>\n",
       "</table>\n",
       "</div>"
      ],
      "text/plain": [
       "   transactionId   visitorId        date  revenue group\n",
       "0     3667963787  3312258926  2019-08-15     1650     B\n",
       "1     2804400009  3642806036  2019-08-15      730     B\n",
       "2     2961555356  4069496402  2019-08-15      400     A\n",
       "3     3797467345  1196621759  2019-08-15     9759     B\n",
       "4     2282983706  2322279887  2019-08-15     2308     B"
      ]
     },
     "metadata": {},
     "output_type": "display_data"
    },
    {
     "name": "stdout",
     "output_type": "stream",
     "text": [
      "Атрибуты\n",
      "--------------------------------------------------\n",
      "<class 'pandas.core.frame.DataFrame'>\n",
      "RangeIndex: 1197 entries, 0 to 1196\n",
      "Data columns (total 5 columns):\n",
      " #   Column         Non-Null Count  Dtype \n",
      "---  ------         --------------  ----- \n",
      " 0   transactionId  1197 non-null   int64 \n",
      " 1   visitorId      1197 non-null   int64 \n",
      " 2   date           1197 non-null   object\n",
      " 3   revenue        1197 non-null   int64 \n",
      " 4   group          1197 non-null   object\n",
      "dtypes: int64(3), object(2)\n",
      "memory usage: 46.9+ KB\n",
      "None\n",
      "Пропусков в данных\n",
      "--------------------------------------------------\n",
      "transactionId    0\n",
      "visitorId        0\n",
      "date             0\n",
      "revenue          0\n",
      "group            0\n",
      "dtype: int64\n",
      "Полных дубликатов в данных\n",
      "--------------------------------------------------\n",
      "0\n"
     ]
    }
   ],
   "source": [
    "preview(orders)"
   ]
  },
  {
   "cell_type": "code",
   "execution_count": 11,
   "metadata": {},
   "outputs": [],
   "source": [
    "# поравим нахвания столбцов\n",
    "orders = orders.rename(columns={'transactionId':'transaction_id', 'visitorId':'visitor_id' })"
   ]
  },
  {
   "cell_type": "code",
   "execution_count": 12,
   "metadata": {},
   "outputs": [],
   "source": [
    "# приведем к нужному типу даты\n",
    "orders['date'] = pd.to_datetime(orders['date'])"
   ]
  },
  {
   "cell_type": "markdown",
   "metadata": {},
   "source": [
    "### Таблица visitors/посещения"
   ]
  },
  {
   "cell_type": "code",
   "execution_count": 13,
   "metadata": {},
   "outputs": [
    {
     "name": "stdout",
     "output_type": "stream",
     "text": [
      "Посмотрим на данные\n",
      "--------------------------------------------------\n"
     ]
    },
    {
     "data": {
      "text/html": [
       "<div>\n",
       "<style scoped>\n",
       "    .dataframe tbody tr th:only-of-type {\n",
       "        vertical-align: middle;\n",
       "    }\n",
       "\n",
       "    .dataframe tbody tr th {\n",
       "        vertical-align: top;\n",
       "    }\n",
       "\n",
       "    .dataframe thead th {\n",
       "        text-align: right;\n",
       "    }\n",
       "</style>\n",
       "<table border=\"1\" class=\"dataframe\">\n",
       "  <thead>\n",
       "    <tr style=\"text-align: right;\">\n",
       "      <th></th>\n",
       "      <th>date</th>\n",
       "      <th>group</th>\n",
       "      <th>visitors</th>\n",
       "    </tr>\n",
       "  </thead>\n",
       "  <tbody>\n",
       "    <tr>\n",
       "      <th>0</th>\n",
       "      <td>2019-08-01</td>\n",
       "      <td>A</td>\n",
       "      <td>719</td>\n",
       "    </tr>\n",
       "    <tr>\n",
       "      <th>1</th>\n",
       "      <td>2019-08-02</td>\n",
       "      <td>A</td>\n",
       "      <td>619</td>\n",
       "    </tr>\n",
       "    <tr>\n",
       "      <th>2</th>\n",
       "      <td>2019-08-03</td>\n",
       "      <td>A</td>\n",
       "      <td>507</td>\n",
       "    </tr>\n",
       "    <tr>\n",
       "      <th>3</th>\n",
       "      <td>2019-08-04</td>\n",
       "      <td>A</td>\n",
       "      <td>717</td>\n",
       "    </tr>\n",
       "    <tr>\n",
       "      <th>4</th>\n",
       "      <td>2019-08-05</td>\n",
       "      <td>A</td>\n",
       "      <td>756</td>\n",
       "    </tr>\n",
       "  </tbody>\n",
       "</table>\n",
       "</div>"
      ],
      "text/plain": [
       "         date group  visitors\n",
       "0  2019-08-01     A       719\n",
       "1  2019-08-02     A       619\n",
       "2  2019-08-03     A       507\n",
       "3  2019-08-04     A       717\n",
       "4  2019-08-05     A       756"
      ]
     },
     "metadata": {},
     "output_type": "display_data"
    },
    {
     "name": "stdout",
     "output_type": "stream",
     "text": [
      "Атрибуты\n",
      "--------------------------------------------------\n",
      "<class 'pandas.core.frame.DataFrame'>\n",
      "RangeIndex: 62 entries, 0 to 61\n",
      "Data columns (total 3 columns):\n",
      " #   Column    Non-Null Count  Dtype \n",
      "---  ------    --------------  ----- \n",
      " 0   date      62 non-null     object\n",
      " 1   group     62 non-null     object\n",
      " 2   visitors  62 non-null     int64 \n",
      "dtypes: int64(1), object(2)\n",
      "memory usage: 1.6+ KB\n",
      "None\n",
      "Пропусков в данных\n",
      "--------------------------------------------------\n",
      "date        0\n",
      "group       0\n",
      "visitors    0\n",
      "dtype: int64\n",
      "Полных дубликатов в данных\n",
      "--------------------------------------------------\n",
      "0\n"
     ]
    }
   ],
   "source": [
    "preview(visitors)"
   ]
  },
  {
   "cell_type": "code",
   "execution_count": 14,
   "metadata": {},
   "outputs": [],
   "source": [
    "# приведем к нужному типу даты\n",
    "visitors['date'] = pd.to_datetime(visitors['date'])"
   ]
  },
  {
   "cell_type": "code",
   "execution_count": 15,
   "metadata": {},
   "outputs": [
    {
     "name": "stdout",
     "output_type": "stream",
     "text": [
      "<class 'pandas.core.frame.DataFrame'>\n",
      "RangeIndex: 62 entries, 0 to 61\n",
      "Data columns (total 3 columns):\n",
      " #   Column    Non-Null Count  Dtype         \n",
      "---  ------    --------------  -----         \n",
      " 0   date      62 non-null     datetime64[ns]\n",
      " 1   group     62 non-null     object        \n",
      " 2   visitors  62 non-null     int64         \n",
      "dtypes: datetime64[ns](1), int64(1), object(1)\n",
      "memory usage: 1.6+ KB\n"
     ]
    }
   ],
   "source": [
    "visitors.info()"
   ]
  },
  {
   "cell_type": "markdown",
   "metadata": {},
   "source": [
    "### Выводы"
   ]
  },
  {
   "cell_type": "markdown",
   "metadata": {},
   "source": [
    "Данные чистые: дубликатов и пропусков нет. Поправили названия столбцов, привели к нужному типу даты. Проверку на пересекающихся пользователей проведем перед началом АВ-теста."
   ]
  },
  {
   "cell_type": "markdown",
   "metadata": {},
   "source": [
    "## Приоритизация гипотез"
   ]
  },
  {
   "cell_type": "code",
   "execution_count": 16,
   "metadata": {},
   "outputs": [
    {
     "name": "stdout",
     "output_type": "stream",
     "text": [
      "Добавить два новых канала привлечения трафика, что позволит привлекать на 30% больше пользователей\n",
      "Запустить собственную службу доставки, что сократит срок доставки заказов\n",
      "Добавить блоки рекомендаций товаров на сайт интернет магазина, чтобы повысить конверсию и средний чек заказа\n",
      "Изменить структура категорий, что увеличит конверсию, т.к. пользователи быстрее найдут нужный товар\n",
      "Изменить цвет фона главной страницы, чтобы увеличить вовлеченность пользователей\n",
      "Добавить страницу отзывов клиентов о магазине, что позволит увеличить количество заказов\n",
      "Показать на главной странице баннеры с актуальными акциями и распродажами, чтобы увеличить конверсию\n",
      "Добавить форму подписки на все основные страницы, чтобы собрать базу клиентов для email-рассылок\n",
      "Запустить акцию, дающую скидку на товар в день рождения\n"
     ]
    }
   ],
   "source": [
    "# разработанные гипотезы\n",
    "for x in hypothesis['hypothesis']:\n",
    "    print(x)"
   ]
  },
  {
   "cell_type": "code",
   "execution_count": 17,
   "metadata": {},
   "outputs": [
    {
     "data": {
      "text/html": [
       "<div>\n",
       "<style scoped>\n",
       "    .dataframe tbody tr th:only-of-type {\n",
       "        vertical-align: middle;\n",
       "    }\n",
       "\n",
       "    .dataframe tbody tr th {\n",
       "        vertical-align: top;\n",
       "    }\n",
       "\n",
       "    .dataframe thead th {\n",
       "        text-align: right;\n",
       "    }\n",
       "</style>\n",
       "<table border=\"1\" class=\"dataframe\">\n",
       "  <thead>\n",
       "    <tr style=\"text-align: right;\">\n",
       "      <th></th>\n",
       "      <th>hypothesis</th>\n",
       "      <th>reach</th>\n",
       "      <th>impact</th>\n",
       "      <th>confidence</th>\n",
       "      <th>efforts</th>\n",
       "    </tr>\n",
       "  </thead>\n",
       "  <tbody>\n",
       "    <tr>\n",
       "      <th>0</th>\n",
       "      <td>Добавить два новых канала привлечения трафика,...</td>\n",
       "      <td>3</td>\n",
       "      <td>10</td>\n",
       "      <td>8</td>\n",
       "      <td>6</td>\n",
       "    </tr>\n",
       "    <tr>\n",
       "      <th>1</th>\n",
       "      <td>Запустить собственную службу доставки, что сок...</td>\n",
       "      <td>2</td>\n",
       "      <td>5</td>\n",
       "      <td>4</td>\n",
       "      <td>10</td>\n",
       "    </tr>\n",
       "    <tr>\n",
       "      <th>2</th>\n",
       "      <td>Добавить блоки рекомендаций товаров на сайт ин...</td>\n",
       "      <td>8</td>\n",
       "      <td>3</td>\n",
       "      <td>7</td>\n",
       "      <td>3</td>\n",
       "    </tr>\n",
       "    <tr>\n",
       "      <th>3</th>\n",
       "      <td>Изменить структура категорий, что увеличит кон...</td>\n",
       "      <td>8</td>\n",
       "      <td>3</td>\n",
       "      <td>3</td>\n",
       "      <td>8</td>\n",
       "    </tr>\n",
       "    <tr>\n",
       "      <th>4</th>\n",
       "      <td>Изменить цвет фона главной страницы, чтобы уве...</td>\n",
       "      <td>3</td>\n",
       "      <td>1</td>\n",
       "      <td>1</td>\n",
       "      <td>1</td>\n",
       "    </tr>\n",
       "    <tr>\n",
       "      <th>5</th>\n",
       "      <td>Добавить страницу отзывов клиентов о магазине,...</td>\n",
       "      <td>3</td>\n",
       "      <td>2</td>\n",
       "      <td>2</td>\n",
       "      <td>3</td>\n",
       "    </tr>\n",
       "    <tr>\n",
       "      <th>6</th>\n",
       "      <td>Показать на главной странице баннеры с актуаль...</td>\n",
       "      <td>5</td>\n",
       "      <td>3</td>\n",
       "      <td>8</td>\n",
       "      <td>3</td>\n",
       "    </tr>\n",
       "    <tr>\n",
       "      <th>7</th>\n",
       "      <td>Добавить форму подписки на все основные страни...</td>\n",
       "      <td>10</td>\n",
       "      <td>7</td>\n",
       "      <td>8</td>\n",
       "      <td>5</td>\n",
       "    </tr>\n",
       "    <tr>\n",
       "      <th>8</th>\n",
       "      <td>Запустить акцию, дающую скидку на товар в день...</td>\n",
       "      <td>1</td>\n",
       "      <td>9</td>\n",
       "      <td>9</td>\n",
       "      <td>5</td>\n",
       "    </tr>\n",
       "  </tbody>\n",
       "</table>\n",
       "</div>"
      ],
      "text/plain": [
       "                                          hypothesis  reach  impact  \\\n",
       "0  Добавить два новых канала привлечения трафика,...      3      10   \n",
       "1  Запустить собственную службу доставки, что сок...      2       5   \n",
       "2  Добавить блоки рекомендаций товаров на сайт ин...      8       3   \n",
       "3  Изменить структура категорий, что увеличит кон...      8       3   \n",
       "4  Изменить цвет фона главной страницы, чтобы уве...      3       1   \n",
       "5  Добавить страницу отзывов клиентов о магазине,...      3       2   \n",
       "6  Показать на главной странице баннеры с актуаль...      5       3   \n",
       "7  Добавить форму подписки на все основные страни...     10       7   \n",
       "8  Запустить акцию, дающую скидку на товар в день...      1       9   \n",
       "\n",
       "   confidence  efforts  \n",
       "0           8        6  \n",
       "1           4       10  \n",
       "2           7        3  \n",
       "3           3        8  \n",
       "4           1        1  \n",
       "5           2        3  \n",
       "6           8        3  \n",
       "7           8        5  \n",
       "8           9        5  "
      ]
     },
     "execution_count": 17,
     "metadata": {},
     "output_type": "execute_result"
    }
   ],
   "source": [
    "# оценки гипотез для приоритизации \n",
    "hypothesis"
   ]
  },
  {
   "cell_type": "markdown",
   "metadata": {},
   "source": [
    "Посмотрим на гипотезы, получившие максимальные оценки по критериям в отдельности:\n",
    "- Лишь одна гипотеза **\"Запустить собственную службу доставки\"** выходит за рамки - назовем упрощенно - \"работы с приложением\", и требует соответственно привлечения бОльших ресурсов компании (критерий дороговизны - efforts).\n",
    "- Гипотеза **\"Добавить форму подписки на все основные страницы, чтобы собрать базу клиентов для email-рассылок\"** охватит по нашим оценкам всех пользователей (критерий охвата - reach)\n",
    "- Гипотезы **\"Добавить два новых канала привлечения трафика, что позволит привлекать на 30% больше пользователей\"** и **\"Запустить акцию, дающую скидку на товар в день рождения\"** - максимально повлияют на пользователей (критерий влияния - impact)\n",
    "- в 4 гипотезах мы уверены больше (критерий уверенности - confidence):**\"Запустить акцию, дающую скидку на товар в день рождения\", \"Показать на главной странице баннеры с актуальными акциями и распродажами, чтобы увеличить конверсию\", \"Добавить форму подписки на все основные страницы, чтобы собрать базу клиентов для email-рассылок\", \"Добавить два новых канала привлечения трафика, что позволит привлекать на 30% больше пользователей\"**"
   ]
  },
  {
   "cell_type": "markdown",
   "metadata": {},
   "source": [
    "### Оценка гипотез по фреймвору ICE "
   ]
  },
  {
   "cell_type": "markdown",
   "metadata": {},
   "source": [
    "Чтобы выбрать гипотезу для А/В теста прменим фреймворк ICE"
   ]
  },
  {
   "cell_type": "code",
   "execution_count": 18,
   "metadata": {},
   "outputs": [
    {
     "data": {
      "text/html": [
       "<div>\n",
       "<style scoped>\n",
       "    .dataframe tbody tr th:only-of-type {\n",
       "        vertical-align: middle;\n",
       "    }\n",
       "\n",
       "    .dataframe tbody tr th {\n",
       "        vertical-align: top;\n",
       "    }\n",
       "\n",
       "    .dataframe thead th {\n",
       "        text-align: right;\n",
       "    }\n",
       "</style>\n",
       "<table border=\"1\" class=\"dataframe\">\n",
       "  <thead>\n",
       "    <tr style=\"text-align: right;\">\n",
       "      <th></th>\n",
       "      <th>hypothesis</th>\n",
       "      <th>reach</th>\n",
       "      <th>impact</th>\n",
       "      <th>confidence</th>\n",
       "      <th>efforts</th>\n",
       "      <th>ice_score</th>\n",
       "    </tr>\n",
       "  </thead>\n",
       "  <tbody>\n",
       "    <tr>\n",
       "      <th>8</th>\n",
       "      <td>Запустить акцию, дающую скидку на товар в день...</td>\n",
       "      <td>1</td>\n",
       "      <td>9</td>\n",
       "      <td>9</td>\n",
       "      <td>5</td>\n",
       "      <td>16.200000</td>\n",
       "    </tr>\n",
       "    <tr>\n",
       "      <th>0</th>\n",
       "      <td>Добавить два новых канала привлечения трафика,...</td>\n",
       "      <td>3</td>\n",
       "      <td>10</td>\n",
       "      <td>8</td>\n",
       "      <td>6</td>\n",
       "      <td>13.333333</td>\n",
       "    </tr>\n",
       "    <tr>\n",
       "      <th>7</th>\n",
       "      <td>Добавить форму подписки на все основные страни...</td>\n",
       "      <td>10</td>\n",
       "      <td>7</td>\n",
       "      <td>8</td>\n",
       "      <td>5</td>\n",
       "      <td>11.200000</td>\n",
       "    </tr>\n",
       "    <tr>\n",
       "      <th>6</th>\n",
       "      <td>Показать на главной странице баннеры с актуаль...</td>\n",
       "      <td>5</td>\n",
       "      <td>3</td>\n",
       "      <td>8</td>\n",
       "      <td>3</td>\n",
       "      <td>8.000000</td>\n",
       "    </tr>\n",
       "    <tr>\n",
       "      <th>2</th>\n",
       "      <td>Добавить блоки рекомендаций товаров на сайт ин...</td>\n",
       "      <td>8</td>\n",
       "      <td>3</td>\n",
       "      <td>7</td>\n",
       "      <td>3</td>\n",
       "      <td>7.000000</td>\n",
       "    </tr>\n",
       "    <tr>\n",
       "      <th>1</th>\n",
       "      <td>Запустить собственную службу доставки, что сок...</td>\n",
       "      <td>2</td>\n",
       "      <td>5</td>\n",
       "      <td>4</td>\n",
       "      <td>10</td>\n",
       "      <td>2.000000</td>\n",
       "    </tr>\n",
       "    <tr>\n",
       "      <th>5</th>\n",
       "      <td>Добавить страницу отзывов клиентов о магазине,...</td>\n",
       "      <td>3</td>\n",
       "      <td>2</td>\n",
       "      <td>2</td>\n",
       "      <td>3</td>\n",
       "      <td>1.333333</td>\n",
       "    </tr>\n",
       "    <tr>\n",
       "      <th>3</th>\n",
       "      <td>Изменить структура категорий, что увеличит кон...</td>\n",
       "      <td>8</td>\n",
       "      <td>3</td>\n",
       "      <td>3</td>\n",
       "      <td>8</td>\n",
       "      <td>1.125000</td>\n",
       "    </tr>\n",
       "    <tr>\n",
       "      <th>4</th>\n",
       "      <td>Изменить цвет фона главной страницы, чтобы уве...</td>\n",
       "      <td>3</td>\n",
       "      <td>1</td>\n",
       "      <td>1</td>\n",
       "      <td>1</td>\n",
       "      <td>1.000000</td>\n",
       "    </tr>\n",
       "  </tbody>\n",
       "</table>\n",
       "</div>"
      ],
      "text/plain": [
       "                                          hypothesis  reach  impact  \\\n",
       "8  Запустить акцию, дающую скидку на товар в день...      1       9   \n",
       "0  Добавить два новых канала привлечения трафика,...      3      10   \n",
       "7  Добавить форму подписки на все основные страни...     10       7   \n",
       "6  Показать на главной странице баннеры с актуаль...      5       3   \n",
       "2  Добавить блоки рекомендаций товаров на сайт ин...      8       3   \n",
       "1  Запустить собственную службу доставки, что сок...      2       5   \n",
       "5  Добавить страницу отзывов клиентов о магазине,...      3       2   \n",
       "3  Изменить структура категорий, что увеличит кон...      8       3   \n",
       "4  Изменить цвет фона главной страницы, чтобы уве...      3       1   \n",
       "\n",
       "   confidence  efforts  ice_score  \n",
       "8           9        5  16.200000  \n",
       "0           8        6  13.333333  \n",
       "7           8        5  11.200000  \n",
       "6           8        3   8.000000  \n",
       "2           7        3   7.000000  \n",
       "1           4       10   2.000000  \n",
       "5           2        3   1.333333  \n",
       "3           3        8   1.125000  \n",
       "4           1        1   1.000000  "
      ]
     },
     "execution_count": 18,
     "metadata": {},
     "output_type": "execute_result"
    }
   ],
   "source": [
    "hypothesis['ice_score'] = hypothesis['impact'] * hypothesis['confidence'] / hypothesis['efforts']\n",
    "hypothesis.sort_values(by='ice_score', ascending=False)"
   ]
  },
  {
   "cell_type": "markdown",
   "metadata": {},
   "source": [
    "В лидеры по критериям охват-влияние-\"затратность\" вышла гипотеза - **\"Запустить акцию, дающую скидку на товар в день рождения\"**\n",
    "\n",
    "Но мы не учли критерий охвата пользователей, а для этой гипотезы, по нашим оценкам, охват самый маленький (что связано с выборкой пользователй для акции по их дням рождения).\n"
   ]
  },
  {
   "cell_type": "markdown",
   "metadata": {},
   "source": [
    "### Оценка гипотез по фреймвору RICE"
   ]
  },
  {
   "cell_type": "markdown",
   "metadata": {},
   "source": [
    "Применим для приоритизации фреймворк RICE, учитывающий охват, и посмотрим результаты."
   ]
  },
  {
   "cell_type": "code",
   "execution_count": 50,
   "metadata": {
    "scrolled": true
   },
   "outputs": [
    {
     "data": {
      "text/html": [
       "<div>\n",
       "<style scoped>\n",
       "    .dataframe tbody tr th:only-of-type {\n",
       "        vertical-align: middle;\n",
       "    }\n",
       "\n",
       "    .dataframe tbody tr th {\n",
       "        vertical-align: top;\n",
       "    }\n",
       "\n",
       "    .dataframe thead th {\n",
       "        text-align: right;\n",
       "    }\n",
       "</style>\n",
       "<table border=\"1\" class=\"dataframe\">\n",
       "  <thead>\n",
       "    <tr style=\"text-align: right;\">\n",
       "      <th></th>\n",
       "      <th>hypothesis</th>\n",
       "      <th>reach</th>\n",
       "      <th>impact</th>\n",
       "      <th>confidence</th>\n",
       "      <th>efforts</th>\n",
       "      <th>ice_score</th>\n",
       "      <th>rice_score</th>\n",
       "    </tr>\n",
       "  </thead>\n",
       "  <tbody>\n",
       "    <tr>\n",
       "      <th>8</th>\n",
       "      <td>Запустить акцию, дающую скидку на товар в день...</td>\n",
       "      <td>1</td>\n",
       "      <td>9</td>\n",
       "      <td>9</td>\n",
       "      <td>5</td>\n",
       "      <td>16.200000</td>\n",
       "      <td>16.2</td>\n",
       "    </tr>\n",
       "    <tr>\n",
       "      <th>0</th>\n",
       "      <td>Добавить два новых канала привлечения трафика,...</td>\n",
       "      <td>3</td>\n",
       "      <td>10</td>\n",
       "      <td>8</td>\n",
       "      <td>6</td>\n",
       "      <td>13.333333</td>\n",
       "      <td>40.0</td>\n",
       "    </tr>\n",
       "    <tr>\n",
       "      <th>7</th>\n",
       "      <td>Добавить форму подписки на все основные страни...</td>\n",
       "      <td>10</td>\n",
       "      <td>7</td>\n",
       "      <td>8</td>\n",
       "      <td>5</td>\n",
       "      <td>11.200000</td>\n",
       "      <td>112.0</td>\n",
       "    </tr>\n",
       "    <tr>\n",
       "      <th>6</th>\n",
       "      <td>Показать на главной странице баннеры с актуаль...</td>\n",
       "      <td>5</td>\n",
       "      <td>3</td>\n",
       "      <td>8</td>\n",
       "      <td>3</td>\n",
       "      <td>8.000000</td>\n",
       "      <td>40.0</td>\n",
       "    </tr>\n",
       "    <tr>\n",
       "      <th>2</th>\n",
       "      <td>Добавить блоки рекомендаций товаров на сайт ин...</td>\n",
       "      <td>8</td>\n",
       "      <td>3</td>\n",
       "      <td>7</td>\n",
       "      <td>3</td>\n",
       "      <td>7.000000</td>\n",
       "      <td>56.0</td>\n",
       "    </tr>\n",
       "    <tr>\n",
       "      <th>1</th>\n",
       "      <td>Запустить собственную службу доставки, что сок...</td>\n",
       "      <td>2</td>\n",
       "      <td>5</td>\n",
       "      <td>4</td>\n",
       "      <td>10</td>\n",
       "      <td>2.000000</td>\n",
       "      <td>4.0</td>\n",
       "    </tr>\n",
       "    <tr>\n",
       "      <th>5</th>\n",
       "      <td>Добавить страницу отзывов клиентов о магазине,...</td>\n",
       "      <td>3</td>\n",
       "      <td>2</td>\n",
       "      <td>2</td>\n",
       "      <td>3</td>\n",
       "      <td>1.333333</td>\n",
       "      <td>4.0</td>\n",
       "    </tr>\n",
       "    <tr>\n",
       "      <th>3</th>\n",
       "      <td>Изменить структура категорий, что увеличит кон...</td>\n",
       "      <td>8</td>\n",
       "      <td>3</td>\n",
       "      <td>3</td>\n",
       "      <td>8</td>\n",
       "      <td>1.125000</td>\n",
       "      <td>9.0</td>\n",
       "    </tr>\n",
       "    <tr>\n",
       "      <th>4</th>\n",
       "      <td>Изменить цвет фона главной страницы, чтобы уве...</td>\n",
       "      <td>3</td>\n",
       "      <td>1</td>\n",
       "      <td>1</td>\n",
       "      <td>1</td>\n",
       "      <td>1.000000</td>\n",
       "      <td>3.0</td>\n",
       "    </tr>\n",
       "  </tbody>\n",
       "</table>\n",
       "</div>"
      ],
      "text/plain": [
       "                                          hypothesis  reach  impact  \\\n",
       "8  Запустить акцию, дающую скидку на товар в день...      1       9   \n",
       "0  Добавить два новых канала привлечения трафика,...      3      10   \n",
       "7  Добавить форму подписки на все основные страни...     10       7   \n",
       "6  Показать на главной странице баннеры с актуаль...      5       3   \n",
       "2  Добавить блоки рекомендаций товаров на сайт ин...      8       3   \n",
       "1  Запустить собственную службу доставки, что сок...      2       5   \n",
       "5  Добавить страницу отзывов клиентов о магазине,...      3       2   \n",
       "3  Изменить структура категорий, что увеличит кон...      8       3   \n",
       "4  Изменить цвет фона главной страницы, чтобы уве...      3       1   \n",
       "\n",
       "   confidence  efforts  ice_score  rice_score  \n",
       "8           9        5  16.200000        16.2  \n",
       "0           8        6  13.333333        40.0  \n",
       "7           8        5  11.200000       112.0  \n",
       "6           8        3   8.000000        40.0  \n",
       "2           7        3   7.000000        56.0  \n",
       "1           4       10   2.000000         4.0  \n",
       "5           2        3   1.333333         4.0  \n",
       "3           3        8   1.125000         9.0  \n",
       "4           1        1   1.000000         3.0  "
      ]
     },
     "execution_count": 50,
     "metadata": {},
     "output_type": "execute_result"
    }
   ],
   "source": [
    "hypothesis['rice_score'] = hypothesis['reach'] * hypothesis['impact'] * hypothesis['confidence'] / hypothesis['efforts']\n",
    "hypothesis.sort_values(['ice_score','rice_score'], ascending=False)"
   ]
  },
  {
   "cell_type": "markdown",
   "metadata": {},
   "source": [
    "### Вывод"
   ]
  },
  {
   "cell_type": "markdown",
   "metadata": {},
   "source": [
    "За счет наивысшей оценки по критерию охвата аудитории первой для проверки стала гипотеза - **\"Добавить форму подписки на все основные страницы, чтобы собрать базу клиентов для email-рассылок\"**."
   ]
  },
  {
   "cell_type": "markdown",
   "metadata": {},
   "source": [
    "## A/B-тест"
   ]
  },
  {
   "cell_type": "markdown",
   "metadata": {},
   "source": [
    "### Исследовательский анализ"
   ]
  },
  {
   "cell_type": "markdown",
   "metadata": {},
   "source": [
    "Предварительно внимательнее посмотрим на наши данные.\n",
    "\n",
    "Orders - таблица с заказами интернет-магазина:\n",
    "- проверим все ли уникальные пользователи находятся в какой-либо одной группе (контрольной или тестовой) или есть те, кто попал в обе\n",
    "- посмотрим за какие дни данные в нашей таблице,\n",
    "- назовем максимальную и минимальную зафиксированную выручку."
   ]
  },
  {
   "cell_type": "code",
   "execution_count": 20,
   "metadata": {},
   "outputs": [
    {
     "data": {
      "text/html": [
       "<div>\n",
       "<style scoped>\n",
       "    .dataframe tbody tr th:only-of-type {\n",
       "        vertical-align: middle;\n",
       "    }\n",
       "\n",
       "    .dataframe tbody tr th {\n",
       "        vertical-align: top;\n",
       "    }\n",
       "\n",
       "    .dataframe thead th {\n",
       "        text-align: right;\n",
       "    }\n",
       "</style>\n",
       "<table border=\"1\" class=\"dataframe\">\n",
       "  <thead>\n",
       "    <tr style=\"text-align: right;\">\n",
       "      <th></th>\n",
       "      <th>visitor_id</th>\n",
       "      <th>group</th>\n",
       "    </tr>\n",
       "  </thead>\n",
       "  <tbody>\n",
       "    <tr>\n",
       "      <th>2</th>\n",
       "      <td>8300375</td>\n",
       "      <td>2</td>\n",
       "    </tr>\n",
       "    <tr>\n",
       "      <th>44</th>\n",
       "      <td>199603092</td>\n",
       "      <td>2</td>\n",
       "    </tr>\n",
       "    <tr>\n",
       "      <th>51</th>\n",
       "      <td>232979603</td>\n",
       "      <td>2</td>\n",
       "    </tr>\n",
       "    <tr>\n",
       "      <th>55</th>\n",
       "      <td>237748145</td>\n",
       "      <td>2</td>\n",
       "    </tr>\n",
       "    <tr>\n",
       "      <th>66</th>\n",
       "      <td>276558944</td>\n",
       "      <td>2</td>\n",
       "    </tr>\n",
       "  </tbody>\n",
       "</table>\n",
       "</div>"
      ],
      "text/plain": [
       "    visitor_id  group\n",
       "2      8300375      2\n",
       "44   199603092      2\n",
       "51   232979603      2\n",
       "55   237748145      2\n",
       "66   276558944      2"
      ]
     },
     "metadata": {},
     "output_type": "display_data"
    },
    {
     "data": {
      "text/plain": [
       "(None, 0.05625606207565471)"
      ]
     },
     "execution_count": 20,
     "metadata": {},
     "output_type": "execute_result"
    }
   ],
   "source": [
    "# проверяем есть ли пользователи попавшие и в контрольную, и в тестовую группы\n",
    "test = orders.groupby('visitor_id')['group'].nunique().reset_index().query('group > 1')\n",
    "display(test.head()), len(test)/orders['visitor_id'].nunique()"
   ]
  },
  {
   "cell_type": "code",
   "execution_count": 21,
   "metadata": {},
   "outputs": [
    {
     "data": {
      "text/plain": [
       "0"
      ]
     },
     "execution_count": 21,
     "metadata": {},
     "output_type": "execute_result"
    }
   ],
   "source": [
    "# такие пользователи есть, их доля в датасете 5 %, удалим их\n",
    "\n",
    "orders_new = orders.set_index('visitor_id').drop(list(test['visitor_id']), axis=0).reset_index()\n",
    "\n",
    "# проверим удаление\n",
    "len(orders_new.groupby('visitor_id')['group'].nunique().reset_index().query('group > 1'))"
   ]
  },
  {
   "cell_type": "code",
   "execution_count": 22,
   "metadata": {
    "scrolled": true
   },
   "outputs": [
    {
     "data": {
      "text/plain": [
       "max    1294500\n",
       "min         50\n",
       "Name: revenue, dtype: int64"
      ]
     },
     "execution_count": 22,
     "metadata": {},
     "output_type": "execute_result"
    }
   ],
   "source": [
    "# выручка с заказа минимум, максимум\n",
    "orders_new['revenue'].agg({'min','max'})"
   ]
  },
  {
   "cell_type": "code",
   "execution_count": 23,
   "metadata": {},
   "outputs": [
    {
     "data": {
      "text/plain": [
       "max   2019-08-31\n",
       "min   2019-08-01\n",
       "Name: date, dtype: datetime64[ns]"
      ]
     },
     "execution_count": 23,
     "metadata": {},
     "output_type": "execute_result"
    }
   ],
   "source": [
    "# временной диапазон\n",
    "orders_new['date'].agg({'max','min'})"
   ]
  },
  {
   "cell_type": "markdown",
   "metadata": {},
   "source": [
    "#### Таблица orders - итоги"
   ]
  },
  {
   "cell_type": "markdown",
   "metadata": {},
   "source": [
    "**Мы видим ощутимый разброс в выручке от заказов от 50 руб до 1294500 руб., время проведения А/В теста - август 2019 года, были выявлены и удалены из данных пользователи, которые попали в контрольную и тестовую группу одновременно(таких пользователей 58, 5% от общего числа уникальных пользователей в данных с заказами). Наличие пересекающихся пользователей в датасете говорит о том, что подготовлен тест был недостаточно хорошо, и к его результатам нужно отнестись осторожно.**"
   ]
  },
  {
   "cell_type": "markdown",
   "metadata": {},
   "source": [
    "Visitors - таблица с данными о визитах пользователей по датам:\n",
    "- проверим временной период для данных,\n",
    "- назовем максимальное и минимальное количество визитов в день по общим данным\n"
   ]
  },
  {
   "cell_type": "code",
   "execution_count": 24,
   "metadata": {},
   "outputs": [
    {
     "data": {
      "text/plain": [
       "max   2019-08-31\n",
       "min   2019-08-01\n",
       "Name: date, dtype: datetime64[ns]"
      ]
     },
     "execution_count": 24,
     "metadata": {},
     "output_type": "execute_result"
    }
   ],
   "source": [
    "# временной диапазон\n",
    "visitors['date'].agg({'max','min'})"
   ]
  },
  {
   "cell_type": "code",
   "execution_count": 25,
   "metadata": {},
   "outputs": [
    {
     "data": {
      "text/plain": [
       "max    770\n",
       "min    361\n",
       "Name: visitors, dtype: int64"
      ]
     },
     "execution_count": 25,
     "metadata": {},
     "output_type": "execute_result"
    }
   ],
   "source": [
    "# визитов в день\n",
    "visitors['visitors'].agg({'max','min'})"
   ]
  },
  {
   "cell_type": "code",
   "execution_count": 26,
   "metadata": {},
   "outputs": [
    {
     "data": {
      "text/plain": [
       "A    31\n",
       "B    31\n",
       "Name: group, dtype: int64"
      ]
     },
     "execution_count": 26,
     "metadata": {},
     "output_type": "execute_result"
    }
   ],
   "source": [
    "# проверка разделения информации по группам\n",
    "visitors['group'].value_counts()"
   ]
  },
  {
   "cell_type": "markdown",
   "metadata": {},
   "source": [
    "####  Таблица visitors - итоги"
   ]
  },
  {
   "cell_type": "markdown",
   "metadata": {},
   "source": [
    "**Время проведение А/В теста совпадает с данными таблицы заказов - август 2019 года, максимальное количество зафиксированных посещений 770, минимальное - 361. В данных по 31 записи для группы А и столько же для группы В (по количеству дней в августе)**"
   ]
  },
  {
   "cell_type": "markdown",
   "metadata": {},
   "source": [
    "### Кумулятивные данные"
   ]
  },
  {
   "cell_type": "markdown",
   "metadata": {},
   "source": [
    "Соберем кумулятивные данные"
   ]
  },
  {
   "cell_type": "code",
   "execution_count": 27,
   "metadata": {},
   "outputs": [
    {
     "data": {
      "text/html": [
       "<div>\n",
       "<style scoped>\n",
       "    .dataframe tbody tr th:only-of-type {\n",
       "        vertical-align: middle;\n",
       "    }\n",
       "\n",
       "    .dataframe tbody tr th {\n",
       "        vertical-align: top;\n",
       "    }\n",
       "\n",
       "    .dataframe thead th {\n",
       "        text-align: right;\n",
       "    }\n",
       "</style>\n",
       "<table border=\"1\" class=\"dataframe\">\n",
       "  <thead>\n",
       "    <tr style=\"text-align: right;\">\n",
       "      <th></th>\n",
       "      <th>date</th>\n",
       "      <th>group</th>\n",
       "      <th>orders</th>\n",
       "      <th>buyers</th>\n",
       "      <th>revenue</th>\n",
       "      <th>visitors</th>\n",
       "      <th>conversion</th>\n",
       "    </tr>\n",
       "  </thead>\n",
       "  <tbody>\n",
       "    <tr>\n",
       "      <th>0</th>\n",
       "      <td>2019-08-01</td>\n",
       "      <td>A</td>\n",
       "      <td>23</td>\n",
       "      <td>19</td>\n",
       "      <td>142779</td>\n",
       "      <td>719</td>\n",
       "      <td>0.031989</td>\n",
       "    </tr>\n",
       "    <tr>\n",
       "      <th>1</th>\n",
       "      <td>2019-08-01</td>\n",
       "      <td>B</td>\n",
       "      <td>17</td>\n",
       "      <td>17</td>\n",
       "      <td>59758</td>\n",
       "      <td>713</td>\n",
       "      <td>0.023843</td>\n",
       "    </tr>\n",
       "    <tr>\n",
       "      <th>2</th>\n",
       "      <td>2019-08-02</td>\n",
       "      <td>A</td>\n",
       "      <td>42</td>\n",
       "      <td>36</td>\n",
       "      <td>234381</td>\n",
       "      <td>1338</td>\n",
       "      <td>0.031390</td>\n",
       "    </tr>\n",
       "    <tr>\n",
       "      <th>3</th>\n",
       "      <td>2019-08-02</td>\n",
       "      <td>B</td>\n",
       "      <td>40</td>\n",
       "      <td>39</td>\n",
       "      <td>221801</td>\n",
       "      <td>1294</td>\n",
       "      <td>0.030912</td>\n",
       "    </tr>\n",
       "    <tr>\n",
       "      <th>4</th>\n",
       "      <td>2019-08-03</td>\n",
       "      <td>A</td>\n",
       "      <td>66</td>\n",
       "      <td>60</td>\n",
       "      <td>346854</td>\n",
       "      <td>1845</td>\n",
       "      <td>0.035772</td>\n",
       "    </tr>\n",
       "  </tbody>\n",
       "</table>\n",
       "</div>"
      ],
      "text/plain": [
       "        date group  orders  buyers  revenue  visitors  conversion\n",
       "0 2019-08-01     A      23      19   142779       719    0.031989\n",
       "1 2019-08-01     B      17      17    59758       713    0.023843\n",
       "2 2019-08-02     A      42      36   234381      1338    0.031390\n",
       "3 2019-08-02     B      40      39   221801      1294    0.030912\n",
       "4 2019-08-03     A      66      60   346854      1845    0.035772"
      ]
     },
     "execution_count": 27,
     "metadata": {},
     "output_type": "execute_result"
    }
   ],
   "source": [
    "# создаем массив уникальных пар значений дат и групп теста\n",
    "dates_groups = orders_new[['date','group']].drop_duplicates()\n",
    "\n",
    "# получаем агрегированные кумулятивные по дням данные о заказах \n",
    "orders_agg = dates_groups.apply(\n",
    "    lambda x: orders_new[np.logical_and(orders_new['date'] <= x['date'], orders_new['group'] == x['group'])].agg(\n",
    "        {'date' : 'max', 'group' : 'max', 'transaction_id' : 'nunique', 'visitor_id' : 'nunique', 'revenue' : 'sum'}\n",
    "    ),\n",
    "    axis=1\n",
    ").sort_values(by=['date','group'])\n",
    "            \n",
    "\n",
    "# получаем агрегированные кумулятивные по дням данные о посетителях интернет-магазина \n",
    "visitors_agg = dates_groups.apply(\n",
    "    lambda x: visitors[np.logical_and(visitors['date'] <= x['date'], visitors['group'] == x['group'])].agg(\n",
    "        {'date' : 'max', 'group' : 'max', 'visitors' : 'sum'}), axis=1\n",
    ").sort_values(by=['date','group'])\n",
    "\n",
    "# объединяем кумулятивные данные в одной таблице и присваиваем ее столбцам понятные названия\n",
    "cumulative_data = orders_agg.merge(visitors_agg, on=['date', 'group'], how='left')\n",
    "cumulative_data.columns = ['date', 'group', 'orders', 'buyers', 'revenue', 'visitors']\n",
    "\n",
    "# конверсия\n",
    "cumulative_data['conversion'] = cumulative_data['orders'] / cumulative_data['visitors']\n",
    "\n",
    "\n",
    "cumulative_data.head()\n"
   ]
  },
  {
   "cell_type": "markdown",
   "metadata": {},
   "source": [
    "Данные в cumulative_data:\n",
    "- date - дата\n",
    "- group - группа\n",
    "- orders - заказов с накоплением на указанную дату\n",
    "- buyers - покупателей с накоплением на указанную дату\n",
    "- revenue - выручка с накоплением на указанную дату\n",
    "- visitors - посещений интернет-магазина с накоплением на указанную дату\n",
    "- conversion - конверсия посещений в заказы"
   ]
  },
  {
   "cell_type": "markdown",
   "metadata": {},
   "source": [
    "#### Кумулятивная выручка по группам"
   ]
  },
  {
   "cell_type": "code",
   "execution_count": 28,
   "metadata": {},
   "outputs": [
    {
     "data": {
      "image/png": "[encoded data removed]",
      "text/plain": [
       "<Figure size 864x432 with 1 Axes>"
      ]
     },
     "metadata": {
      "needs_background": "light"
     },
     "output_type": "display_data"
    }
   ],
   "source": [
    "# кумулятивнoe количество заказов и кумулятивная выручка по дням в группе А\n",
    "cumulative_revenue_A = cumulative_data[cumulative_data['group']=='A'][['date','revenue', 'orders', 'conversion']]\n",
    "\n",
    "# кумулятивнoe количество заказов и кумулятивная выручка по дням в группе В\n",
    "cumulative_revenue_B = cumulative_data[cumulative_data['group']=='B'][['date','revenue', 'orders', 'conversion']]\n",
    "\n",
    "# задаем размер графика\n",
    "plt.figure(figsize=(12, 6))\n",
    "\n",
    "#строим графики выручки\n",
    "plt.plot(cumulative_revenue_A['date'], cumulative_revenue_A['revenue'], label='A')\n",
    "plt.plot(cumulative_revenue_B['date'], cumulative_revenue_B['revenue'], label='B')\n",
    "\n",
    "plt.legend()\n",
    "plt.title('График кумулятивной выручки по группам')\n",
    "plt.xlabel('дата')\n",
    "plt.ylabel('выручка с накоплением')\n",
    "plt.show()\n",
    "\n"
   ]
  },
  {
   "cell_type": "markdown",
   "metadata": {},
   "source": [
    "- Выручка равномерно увеличивается в группе А.\n",
    "- В группе В выручка чуть лучше и также равноменрно растет до 18 августа, затем резко повышается относительно группы А и продолжает дальше расти равномерно.\n",
    "\n",
    "Рост выручки в обеих группах хороший показатель, резкое повышение в группе В может говорить о всплеске числа заказов, либо о появлении очень дорогих заказов в выборке (один такой у нас точно есть - заказ на 1294500 руб). Выбросы в дальнейшем проанализируем."
   ]
  },
  {
   "cell_type": "markdown",
   "metadata": {},
   "source": [
    "#### Кумулятивный средний чек"
   ]
  },
  {
   "cell_type": "code",
   "execution_count": 29,
   "metadata": {
    "scrolled": false
   },
   "outputs": [
    {
     "data": {
      "image/png": "[encoded data removed]",
      "text/plain": [
       "<Figure size 864x432 with 1 Axes>"
      ]
     },
     "metadata": {
      "needs_background": "light"
     },
     "output_type": "display_data"
    }
   ],
   "source": [
    "# задаем размер графика\n",
    "plt.figure(figsize=(12, 6))\n",
    "\n",
    "#график кумулятивного среднего чека по группам\n",
    "plt.plot(cumulative_revenue_A['date'], cumulative_revenue_A['revenue'] / cumulative_revenue_A['orders'],  label='A')\n",
    "plt.plot(cumulative_revenue_B['date'], cumulative_revenue_B['revenue'] / cumulative_revenue_B['orders'], label='B')\n",
    "plt.legend()\n",
    "plt.title('График кумулятивного среднего чека')\n",
    "plt.xlabel('дата')\n",
    "plt.ylabel('средний чек с накоплением')\n",
    "plt.show()"
   ]
  },
  {
   "cell_type": "markdown",
   "metadata": {},
   "source": [
    "В среднем чеке с накоплением похожая картина:\n",
    "- до 14-15 августа показатель нестабилен в обеих группах, к 18 августа группы примерно уравниваются\n",
    "- после 18 августа группа А стабилизируется на примерно 7000 рублей, в группе В резкий всплеск до более 10000 рублей (скорее всего это влияние максимальный заказа на сумму более 1 миллиона рублей) - далее группа В продолжает лидировать, но намечена тенденция к снижению среднего чека (таких крупных заказов, скорее всего далее уже не было - проверим это предположение в дальнейшем анализе) "
   ]
  },
  {
   "cell_type": "markdown",
   "metadata": {},
   "source": [
    "#### Относительное изменение кумулятивного среднего чека группы B к группе A"
   ]
  },
  {
   "cell_type": "code",
   "execution_count": 30,
   "metadata": {},
   "outputs": [
    {
     "data": {
      "text/html": [
       "<div>\n",
       "<style scoped>\n",
       "    .dataframe tbody tr th:only-of-type {\n",
       "        vertical-align: middle;\n",
       "    }\n",
       "\n",
       "    .dataframe tbody tr th {\n",
       "        vertical-align: top;\n",
       "    }\n",
       "\n",
       "    .dataframe thead th {\n",
       "        text-align: right;\n",
       "    }\n",
       "</style>\n",
       "<table border=\"1\" class=\"dataframe\">\n",
       "  <thead>\n",
       "    <tr style=\"text-align: right;\">\n",
       "      <th></th>\n",
       "      <th>date</th>\n",
       "      <th>revenue_A</th>\n",
       "      <th>orders_A</th>\n",
       "      <th>conversion_A</th>\n",
       "      <th>revenue_B</th>\n",
       "      <th>orders_B</th>\n",
       "      <th>conversion_B</th>\n",
       "    </tr>\n",
       "  </thead>\n",
       "  <tbody>\n",
       "    <tr>\n",
       "      <th>0</th>\n",
       "      <td>2019-08-01</td>\n",
       "      <td>142779</td>\n",
       "      <td>23</td>\n",
       "      <td>0.031989</td>\n",
       "      <td>59758</td>\n",
       "      <td>17</td>\n",
       "      <td>0.023843</td>\n",
       "    </tr>\n",
       "    <tr>\n",
       "      <th>1</th>\n",
       "      <td>2019-08-02</td>\n",
       "      <td>234381</td>\n",
       "      <td>42</td>\n",
       "      <td>0.031390</td>\n",
       "      <td>221801</td>\n",
       "      <td>40</td>\n",
       "      <td>0.030912</td>\n",
       "    </tr>\n",
       "    <tr>\n",
       "      <th>2</th>\n",
       "      <td>2019-08-03</td>\n",
       "      <td>346854</td>\n",
       "      <td>66</td>\n",
       "      <td>0.035772</td>\n",
       "      <td>288850</td>\n",
       "      <td>54</td>\n",
       "      <td>0.029950</td>\n",
       "    </tr>\n",
       "    <tr>\n",
       "      <th>3</th>\n",
       "      <td>2019-08-04</td>\n",
       "      <td>388030</td>\n",
       "      <td>77</td>\n",
       "      <td>0.030055</td>\n",
       "      <td>385740</td>\n",
       "      <td>68</td>\n",
       "      <td>0.026428</td>\n",
       "    </tr>\n",
       "    <tr>\n",
       "      <th>4</th>\n",
       "      <td>2019-08-05</td>\n",
       "      <td>474413</td>\n",
       "      <td>99</td>\n",
       "      <td>0.029837</td>\n",
       "      <td>475648</td>\n",
       "      <td>89</td>\n",
       "      <td>0.027134</td>\n",
       "    </tr>\n",
       "  </tbody>\n",
       "</table>\n",
       "</div>"
      ],
      "text/plain": [
       "        date  revenue_A  orders_A  conversion_A  revenue_B  orders_B  \\\n",
       "0 2019-08-01     142779        23      0.031989      59758        17   \n",
       "1 2019-08-02     234381        42      0.031390     221801        40   \n",
       "2 2019-08-03     346854        66      0.035772     288850        54   \n",
       "3 2019-08-04     388030        77      0.030055     385740        68   \n",
       "4 2019-08-05     474413        99      0.029837     475648        89   \n",
       "\n",
       "   conversion_B  \n",
       "0      0.023843  \n",
       "1      0.030912  \n",
       "2      0.029950  \n",
       "3      0.026428  \n",
       "4      0.027134  "
      ]
     },
     "execution_count": 30,
     "metadata": {},
     "output_type": "execute_result"
    }
   ],
   "source": [
    "# объединяем таблицы с нужными данными\n",
    "cumulative_merge = cumulative_revenue_A.merge(cumulative_revenue_B, on='date', how='left', suffixes=['_A', '_B'])\n",
    "cumulative_merge.head()"
   ]
  },
  {
   "cell_type": "code",
   "execution_count": 31,
   "metadata": {},
   "outputs": [
    {
     "data": {
      "image/png": "[encoded data removed]",
      "text/plain": [
       "<Figure size 864x432 with 1 Axes>"
      ]
     },
     "metadata": {
      "needs_background": "light"
     },
     "output_type": "display_data"
    }
   ],
   "source": [
    "# задаем размер графика\n",
    "plt.figure(figsize=(12, 6))\n",
    "\n",
    "#  строим график относительного изменения кумулятивного среднего чека группы B к группе A\n",
    "plt.plot(\n",
    "    cumulative_merge['date'], (\n",
    "        cumulative_merge['revenue_B']/cumulative_merge['orders_B']\n",
    "    ) / (\n",
    "    cumulative_merge['revenue_A']/cumulative_merge['orders_A']\n",
    "    ) - 1\n",
    ")\n",
    "\n",
    "plt.title('График относительного изменения кумулятивного среднего чека группы B к группе A')\n",
    "plt.xlabel('дата')\n",
    "plt.ylabel('относительное различие')\n",
    "plt.axhline(y=0, color='black', linestyle='--')\n",
    "plt.show()"
   ]
  },
  {
   "cell_type": "markdown",
   "metadata": {},
   "source": [
    "Видим резкие скачки - скорее всего влияние аномальных данных (посмотрим их позднее), группа В в начале и середине времени теста проигрывала группе А, но большую часть времени теста - все же значительно превосходила группу А, после 18 августа средний чек снизижался и далее либо зафиксируется, либо будет снижаться дальше "
   ]
  },
  {
   "cell_type": "markdown",
   "metadata": {},
   "source": [
    "#### Кумулятивная конверсия по группам"
   ]
  },
  {
   "cell_type": "code",
   "execution_count": 32,
   "metadata": {
    "scrolled": false
   },
   "outputs": [
    {
     "data": {
      "image/png": "[encoded data removed]",
      "text/plain": [
       "<Figure size 1080x432 with 1 Axes>"
      ]
     },
     "metadata": {
      "needs_background": "light"
     },
     "output_type": "display_data"
    }
   ],
   "source": [
    "# задаем размер графика\n",
    "plt.figure(figsize=(15, 6))\n",
    "\n",
    "\n",
    "#строим график конверсии\n",
    "plt.plot(cumulative_revenue_A['date'], cumulative_revenue_A['conversion'], label='A')\n",
    "plt.plot(cumulative_revenue_B['date'], cumulative_revenue_B['conversion'], label='B')\n",
    "\n",
    "plt.legend()\n",
    "plt.title('График кумулятивной конверсии по группам')\n",
    "plt.xlabel('дата')\n",
    "plt.ylabel('конверсия')\n",
    "plt.show()"
   ]
  },
  {
   "cell_type": "markdown",
   "metadata": {},
   "source": [
    "Группы колебались около одного значения, но затем конверсия группы В вышла вперёд и зафиксировалась, а конверсия группы А просела и продолжает снижаться"
   ]
  },
  {
   "cell_type": "markdown",
   "metadata": {},
   "source": [
    "#### Относительное изменение кумулятивной конверсии группы B к группе A"
   ]
  },
  {
   "cell_type": "code",
   "execution_count": 33,
   "metadata": {},
   "outputs": [
    {
     "data": {
      "image/png": "[encoded data removed]",
      "text/plain": [
       "<Figure size 864x432 with 1 Axes>"
      ]
     },
     "metadata": {
      "needs_background": "light"
     },
     "output_type": "display_data"
    }
   ],
   "source": [
    "# задаем размер графика\n",
    "plt.figure(figsize=(12, 6))\n",
    "\n",
    "#  строим график относительного изменения кумулятивного среднего чека группы B к группе A\n",
    "plt.plot(\n",
    "    cumulative_merge['date'], cumulative_merge['conversion_B'] / cumulative_merge['conversion_A']  - 1\n",
    ")\n",
    "\n",
    "plt.title('График относительного изменения кумулятивной конверсии группы B к группе A')\n",
    "plt.xlabel('дата')\n",
    "plt.ylabel('относительное различие')\n",
    "plt.axhline(y=0, color='black', linestyle='--')\n",
    "plt.axhline(y=0.15, color='grey', linestyle='--')\n",
    "plt.show()"
   ]
  },
  {
   "cell_type": "markdown",
   "metadata": {},
   "source": [
    "Сначала группа В проигрывала группе А, но затем вышла заметно вперед, зафиксировалась и наблюдается тенденция к дальнейшему увеличению относительной разницы между группами в пользу группы В."
   ]
  },
  {
   "cell_type": "markdown",
   "metadata": {},
   "source": [
    "#### Выводы"
   ]
  },
  {
   "cell_type": "markdown",
   "metadata": {},
   "source": [
    "В целом мы видим, что показатели группы В превосходят показатели группы А по всем кумулятивным метрикам: они уже либо зафиксировались, либо имеют тенденцию к росту. Исключение - средний чек, его показатели в группе В хоть и лучше - но все же показывают тенденцию к снижению - причиной тому скорее всего аномальные суммы некоторых заказов."
   ]
  },
  {
   "cell_type": "markdown",
   "metadata": {},
   "source": [
    "### Анализ аномалий и расчет границ \"нормальных данных\""
   ]
  },
  {
   "cell_type": "markdown",
   "metadata": {},
   "source": [
    "#### Заказы"
   ]
  },
  {
   "cell_type": "markdown",
   "metadata": {},
   "source": [
    "Построим точечный график количества заказов по пользователям"
   ]
  },
  {
   "cell_type": "code",
   "execution_count": 34,
   "metadata": {},
   "outputs": [
    {
     "data": {
      "image/png": "[encoded data removed]",
      "text/plain": [
       "<Figure size 864x432 with 1 Axes>"
      ]
     },
     "metadata": {
      "needs_background": "light"
     },
     "output_type": "display_data"
    }
   ],
   "source": [
    "# сгруппируем заказы по пользователям и посчитаем количество уникальных заказов\n",
    "orders_by_user = orders_new.groupby('visitor_id').agg({'transaction_id':'nunique'}).reset_index()\n",
    "orders_by_user.columns = ['user_id', 'order']\n",
    "\n",
    "# задаем размер графика\n",
    "plt.figure(figsize=(12, 6))\n",
    "\n",
    "#строим график\n",
    "x_values = pd.Series(range(0, len(orders_by_user)))\n",
    "\n",
    "plt.scatter(x_values, orders_by_user['order'])\n",
    "\n",
    "plt.title('График количества заказов по пользователям')\n",
    "plt.xlabel('пользователи')\n",
    "plt.ylabel('количество заказов')\n",
    "plt.show()"
   ]
  },
  {
   "cell_type": "markdown",
   "metadata": {},
   "source": [
    "Посчитаем 95-й и 99-й перцентили количества заказов на пользователя."
   ]
  },
  {
   "cell_type": "code",
   "execution_count": 35,
   "metadata": {},
   "outputs": [
    {
     "name": "stdout",
     "output_type": "stream",
     "text": [
      "[1. 1. 2.]\n"
     ]
    }
   ],
   "source": [
    "print(np.percentile(orders_by_user['order'], [90,95,99]))"
   ]
  },
  {
   "cell_type": "markdown",
   "metadata": {},
   "source": [
    "График приобрел \"линейный\" вид. Не более 1% пользователей делают более чем 2 заказа. Большая часть пользователей делает 1 заказ за короткое время. Примем, что аномальным будет количество заказов более  или равное 2 на 1 пользователя."
   ]
  },
  {
   "cell_type": "markdown",
   "metadata": {},
   "source": [
    "#### Стоимость заказов"
   ]
  },
  {
   "cell_type": "markdown",
   "metadata": {},
   "source": [
    "Построим точечный график стоимостей заказов."
   ]
  },
  {
   "cell_type": "code",
   "execution_count": 53,
   "metadata": {},
   "outputs": [
    {
     "data": {
      "image/png": "[encoded data removed]",
      "text/plain": [
       "<Figure size 864x432 with 1 Axes>"
      ]
     },
     "metadata": {
      "needs_background": "light"
     },
     "output_type": "display_data"
    }
   ],
   "source": [
    "# задаем размер графика\n",
    "plt.figure(figsize=(12, 6))\n",
    "\n",
    "x_values = pd.Series(range(0, len(orders_new)))\n",
    "\n",
    "plt.scatter(x_values, orders_new['revenue'])\n",
    "\n",
    "plt.title('График стоимости заказов')\n",
    "plt.xlabel('стоимость заказов')\n",
    "plt.ylabel('количество заказов')\n",
    "plt.show()"
   ]
  },
  {
   "cell_type": "markdown",
   "metadata": {},
   "source": [
    "Вот мы и увидели наш заказ свыше 1200000 рублей, еще один крупный заказ - около 200000 рублей, остальные заказы расположены достаточно плотно в границах, примерно, от 0 до 50000 рублей. \n",
    "\n",
    "Посчитаем точно, заказы на какие суммы делает большинство пользователей"
   ]
  },
  {
   "cell_type": "code",
   "execution_count": 37,
   "metadata": {},
   "outputs": [
    {
     "name": "stdout",
     "output_type": "stream",
     "text": [
      "[18168.  28000.  58233.2]\n"
     ]
    }
   ],
   "source": [
    "print(np.percentile(orders['revenue'], [90,95,99]))"
   ]
  },
  {
   "cell_type": "markdown",
   "metadata": {},
   "source": [
    "90% заказов дешевле 18168 рублей. Не более 5% заказов дороже 28000 рублей и не более 1% дороже 58233 рублей. Примем что аномальная сумма заказов - 28000 руб. и больше."
   ]
  },
  {
   "cell_type": "markdown",
   "metadata": {},
   "source": [
    "#### Выводы"
   ]
  },
  {
   "cell_type": "markdown",
   "metadata": {},
   "source": [
    "К аномальным значениям в дальнейшем анализе отнесем:\n",
    "- количество заказов более 2 на 1 пользователя\n",
    "- сумму заказза более 28000 рублей"
   ]
  },
  {
   "cell_type": "markdown",
   "metadata": {},
   "source": [
    "### Проверяем статистическую значимость"
   ]
  },
  {
   "cell_type": "markdown",
   "metadata": {},
   "source": [
    "#### Статистическая значимость по \"сырым\" данным"
   ]
  },
  {
   "cell_type": "markdown",
   "metadata": {},
   "source": [
    "##### Статистическая значимость различий в конверсии"
   ]
  },
  {
   "cell_type": "markdown",
   "metadata": {},
   "source": [
    "Гипотезы:\n",
    "- Н0 - Конверсии в двух группах равны\n",
    "- Н1 - Конверсии групп не равны\n",
    "\n",
    "Для проверки гипотезы здесь и далее будем использовать непараметрический тест Манна-Уитни для выборок подверженных влиянию выбросов(аномалий)"
   ]
  },
  {
   "cell_type": "code",
   "execution_count": 38,
   "metadata": {},
   "outputs": [],
   "source": [
    "# подготовим данные\n",
    "# сгруппируем количество заказов по пользователям\n",
    "orders_by_users_A = orders_new[orders_new['group'] == 'A'].groupby(\n",
    "    'visitor_id', as_index = False\n",
    ").agg({'transaction_id':'nunique'})\n",
    "orders_by_users_A.columns = ['user_id', 'orders']\n",
    "\n",
    "orders_by_users_B = orders_new[orders_new['group'] == 'B'].groupby(\n",
    "    'visitor_id', as_index = False\n",
    ").agg({'transaction_id':'nunique'})\n",
    "orders_by_users_B.columns = ['user_id', 'orders']\n",
    "\n",
    "# посчитаем сумму заказов пользователей в день по группам\n",
    "visitors_per_date_A = visitors[visitors['group'] == 'A'].groupby('date')['visitors'].sum()\n",
    "visitors_per_date_B = visitors[visitors['group'] == 'B'].groupby('date')['visitors'].sum()\n",
    "\n",
    "# сформируем выборки по группам\n",
    "# объединим в объект Series количество заказов\n",
    "# добавим 0 количеству пользователей не сделавшим ни одного заказа\n",
    "# их количество найдем так: visitors_per_date_A.sum() - len(orders_by_users_A['orders']\n",
    "sample_A = pd.concat(\n",
    "    [orders_by_users_A['orders'], pd.Series(\n",
    "        0, index=np.arange(visitors_per_date_A.sum() - len(orders_by_users_A['orders'])\n",
    "                          ), name='orders')], axis=0\n",
    ")\n",
    "\n",
    "sample_B = pd.concat(\n",
    "    [orders_by_users_B['orders'], pd.Series(\n",
    "        0, index=np.arange(visitors_per_date_B.sum() - len(orders_by_users_B['orders'])\n",
    "                          ), name='orders')], axis=0\n",
    ")"
   ]
  },
  {
   "cell_type": "code",
   "execution_count": 39,
   "metadata": {
    "scrolled": true
   },
   "outputs": [
    {
     "name": "stdout",
     "output_type": "stream",
     "text": [
      "р-значение: 0.01102\n",
      "Отвергаем нулевую гипотезу: разница статистически значима\n",
      "Относительное различие конверсий: 0.160\n"
     ]
    }
   ],
   "source": [
    "# проведем тест\n",
    "alpha = .05\n",
    "results = st.mannwhitneyu(sample_A, sample_B)\n",
    "print('р-значение:', '{0:.5f}'.format(results.pvalue))\n",
    "if results.pvalue < alpha:\n",
    "   print('Отвергаем нулевую гипотезу: разница статистически значима')\n",
    "else:\n",
    "    print('Не получилось отвергнуть нулевую гипотезу: вывод о различии сделать нельзя')\n",
    "           \n",
    "print( 'Относительное различие конверсий:','{0:.3f}'.format(sample_B.mean()/sample_A.mean() - 1))\n"
   ]
  },
  {
   "cell_type": "markdown",
   "metadata": {},
   "source": [
    "**По \"сырым\" данным есть разница конверсий между двумя группами. При этом относительный выигрыш группы В 16%**"
   ]
  },
  {
   "cell_type": "markdown",
   "metadata": {},
   "source": [
    "##### Cтатистическая значимость различий в среднем чеке"
   ]
  },
  {
   "cell_type": "markdown",
   "metadata": {},
   "source": [
    "Гипотезы:\n",
    "- Н0 - Средний чек в двух группах равен\n",
    "- Н1 - Средний чек в группах не равен"
   ]
  },
  {
   "cell_type": "code",
   "execution_count": 40,
   "metadata": {},
   "outputs": [
    {
     "name": "stdout",
     "output_type": "stream",
     "text": [
      "р-значение: 0.82949\n",
      "Не получилось отвергнуть нулевую гипотезу: вывод о различии сделать нельзя\n",
      "Относительное различие среднего чека: 0.287\n"
     ]
    }
   ],
   "source": [
    "# проводим тест\n",
    "results = st.mannwhitneyu(orders_new[orders_new['group'] =='A']['revenue'], orders_new[orders_new['group'] =='B']['revenue'])\n",
    "print('р-значение:', '{0:.5f}'.format(results.pvalue))\n",
    "if results.pvalue < alpha:\n",
    "   print('Отвергаем нулевую гипотезу: разница статистически значима')\n",
    "else:\n",
    "    print('Не получилось отвергнуть нулевую гипотезу: вывод о различии сделать нельзя')\n",
    "           \n",
    "# считаем относительное различие среднего чека\n",
    "print(\n",
    "    'Относительное различие среднего чека:', '{0:.3f}'.format(\n",
    "        orders_new[orders_new['group'] =='B']['revenue'].mean()/orders_new[orders_new['group'] =='A']['revenue'].mean() - 1\n",
    "    )\n",
    ")\n"
   ]
  },
  {
   "cell_type": "markdown",
   "metadata": {},
   "source": [
    "**По \"сырым\" данным вывод о различии среднего чека в двух группах сделать нельзя, но при этом по средний чек группы В значимо превосходит средний чек группы А.**"
   ]
  },
  {
   "cell_type": "markdown",
   "metadata": {},
   "source": [
    "#### Статистическая значимость по \"очищенным\" данным"
   ]
  },
  {
   "cell_type": "code",
   "execution_count": 41,
   "metadata": {},
   "outputs": [
    {
     "data": {
      "text/plain": [
       "83"
      ]
     },
     "execution_count": 41,
     "metadata": {},
     "output_type": "execute_result"
    }
   ],
   "source": [
    "# собираем пользователей, сделавших более 2 заказов\n",
    "users_with_many_orders = pd.concat(\n",
    "    [orders_by_users_A[orders_by_users_A['orders'] >= 2]['user_id'], \n",
    "     orders_by_users_B[orders_by_users_B['orders'] >= 2]['user_id']\n",
    "    ], axis=0\n",
    ")\n",
    "\n",
    "# собираем пользователей, сделавших заказ на сумму более 28000 рублей\n",
    "users_with_expencive_orders = orders_new[orders_new['revenue'] > 28000]['visitor_id']\n",
    "\n",
    "# объединяем итоги\n",
    "abnormal_users = pd.concat([users_with_many_orders, users_with_expencive_orders],axis=0).drop_duplicates().sort_values()\n",
    "\n",
    "# сколько пользователей отсечем далее\n",
    "len(abnormal_users)"
   ]
  },
  {
   "cell_type": "markdown",
   "metadata": {},
   "source": [
    "##### Статистическая значимость различий в конверсии"
   ]
  },
  {
   "cell_type": "markdown",
   "metadata": {},
   "source": [
    "Гипотезы:\n",
    "- Н0 - Конверсии в двух группах равны\n",
    "- Н1 - Конверсии групп не равны"
   ]
  },
  {
   "cell_type": "code",
   "execution_count": 42,
   "metadata": {},
   "outputs": [],
   "source": [
    "# фильтруем выборку для группы А, оставляем \"нормальные\" данные\n",
    "sample_A_filtered = pd.concat(\n",
    "    [orders_by_users_A[\n",
    "        np.logical_not(orders_by_users_A['user_id'].isin(abnormal_users))\n",
    "    ]['orders'], pd.Series(\n",
    "        0, index=np.arange(visitors_per_date_A.sum() - len(orders_by_users_A['orders'])\n",
    "                          ), name='orders')], axis=0\n",
    ")\n",
    "\n",
    "# фильтруем выборку для группы B, оставляем \"нормальные\" данные\n",
    "sample_B_filtered = pd.concat(\n",
    "    [orders_by_users_B[\n",
    "        np.logical_not(orders_by_users_B['user_id'].isin(abnormal_users))\n",
    "    ]['orders'], pd.Series(\n",
    "        0, index=np.arange(visitors_per_date_B.sum() - len(orders_by_users_B['orders'])\n",
    "                          ), name='orders')], axis=0\n",
    ")\n"
   ]
  },
  {
   "cell_type": "code",
   "execution_count": 43,
   "metadata": {},
   "outputs": [
    {
     "name": "stdout",
     "output_type": "stream",
     "text": [
      "р-значение: 0.01223\n",
      "Отвергаем нулевую гипотезу: разница статистически значима\n",
      "Относительное различие конверсий: 0.181\n"
     ]
    }
   ],
   "source": [
    "# проведем тест\n",
    "alpha = .05\n",
    "results = st.mannwhitneyu(sample_A_filtered, sample_B_filtered)\n",
    "print('р-значение:', '{0:.5f}'.format(results.pvalue))\n",
    "if results.pvalue < alpha:\n",
    "   print('Отвергаем нулевую гипотезу: разница статистически значима')\n",
    "else:\n",
    "    print('Не получилось отвергнуть нулевую гипотезу: вывод о различии сделать нельзя')\n",
    "           \n",
    "print( 'Относительное различие конверсий:','{0:.3f}'.format(sample_B_filtered.mean()/sample_A_filtered.mean() - 1))\n"
   ]
  },
  {
   "cell_type": "markdown",
   "metadata": {},
   "source": [
    "**По очищенным данным мы также видим статистически значимую разницу конверсий между группами, относительный выигрыш группы В даже увеличился с 16% до 18%**"
   ]
  },
  {
   "cell_type": "markdown",
   "metadata": {},
   "source": [
    "##### Статистическая значимость различий в среднем чеке "
   ]
  },
  {
   "cell_type": "markdown",
   "metadata": {},
   "source": [
    "Гипотезы:\n",
    "\n",
    "Н0 - Средний чек в двух группах равен\n",
    "Н1 - Средний чек в группах не равен"
   ]
  },
  {
   "cell_type": "code",
   "execution_count": 44,
   "metadata": {},
   "outputs": [
    {
     "data": {
      "text/html": [
       "<div>\n",
       "<style scoped>\n",
       "    .dataframe tbody tr th:only-of-type {\n",
       "        vertical-align: middle;\n",
       "    }\n",
       "\n",
       "    .dataframe tbody tr th {\n",
       "        vertical-align: top;\n",
       "    }\n",
       "\n",
       "    .dataframe thead th {\n",
       "        text-align: right;\n",
       "    }\n",
       "</style>\n",
       "<table border=\"1\" class=\"dataframe\">\n",
       "  <thead>\n",
       "    <tr style=\"text-align: right;\">\n",
       "      <th></th>\n",
       "      <th>visitor_id</th>\n",
       "      <th>transaction_id</th>\n",
       "      <th>date</th>\n",
       "      <th>revenue</th>\n",
       "      <th>group</th>\n",
       "    </tr>\n",
       "  </thead>\n",
       "  <tbody>\n",
       "    <tr>\n",
       "      <th>365</th>\n",
       "      <td>1920142716</td>\n",
       "      <td>590470918</td>\n",
       "      <td>2019-08-19</td>\n",
       "      <td>1294500</td>\n",
       "      <td>B</td>\n",
       "    </tr>\n",
       "    <tr>\n",
       "      <th>1015</th>\n",
       "      <td>2108080724</td>\n",
       "      <td>3936777065</td>\n",
       "      <td>2019-08-15</td>\n",
       "      <td>202740</td>\n",
       "      <td>B</td>\n",
       "    </tr>\n",
       "  </tbody>\n",
       "</table>\n",
       "</div>"
      ],
      "text/plain": [
       "      visitor_id  transaction_id       date  revenue group\n",
       "365   1920142716       590470918 2019-08-19  1294500     B\n",
       "1015  2108080724      3936777065 2019-08-15   202740     B"
      ]
     },
     "execution_count": 44,
     "metadata": {},
     "output_type": "execute_result"
    }
   ],
   "source": [
    "# предварительно посмотрим в какую группу попали те два самых больших заказа\n",
    "orders_new[orders_new['revenue'] > 100000]"
   ]
  },
  {
   "cell_type": "code",
   "execution_count": 45,
   "metadata": {},
   "outputs": [
    {
     "name": "stdout",
     "output_type": "stream",
     "text": [
      "р-значение: 0.85100\n",
      "Не получилось отвергнуть нулевую гипотезу: вывод о различии сделать нельзя\n",
      "Относительное различие среднего чека: -0.006\n"
     ]
    }
   ],
   "source": [
    "# проводим тест\n",
    "results = st.mannwhitneyu(\n",
    "    orders_new[np.logical_and(orders_new['group'] =='A', np.logical_not(orders_new['visitor_id'].isin(abnormal_users))\n",
    "    )]['revenue'], orders_new[np.logical_and(orders_new['group'] =='B', np.logical_not(orders_new['visitor_id'].isin(abnormal_users))\n",
    "    )]['revenue']\n",
    ")\n",
    "\n",
    "print('р-значение:', '{0:.5f}'.format(results.pvalue))\n",
    "if results.pvalue < alpha:\n",
    "   print('Отвергаем нулевую гипотезу: разница статистически значима')\n",
    "else:\n",
    "    print('Не получилось отвергнуть нулевую гипотезу: вывод о различии сделать нельзя')\n",
    "           \n",
    "# считаем относительное различие среднего чека\n",
    "print(\n",
    "    'Относительное различие среднего чека:', '{0:.3f}'.format(\n",
    "        orders_new[np.logical_and(orders_new['group'] =='B', np.logical_not(orders_new['visitor_id'].isin(abnormal_users))\n",
    "    )]['revenue'].mean()/ orders_new[np.logical_and(orders_new['group'] =='A', np.logical_not(orders_new['visitor_id'].isin(abnormal_users))\n",
    "    )]['revenue'].mean() - 1\n",
    "    )\n",
    ")\n"
   ]
  },
  {
   "cell_type": "markdown",
   "metadata": {},
   "source": [
    "- **Вывод о статистически значимом различии среднего чека даже по очищенным данным сделать нельзя**\n",
    "- **После очистки данных от аномально высоких сумм заказов (две крупные аномалии попали в группу В) - относительная разница средних чеков между группами предсказуемо сместилась и даже стала менее чем на 1% в пользу контрольной группы А **\n",
    "\n",
    "**Примем, что в итоге средний чек между группами не показал статистическую значимость, позволяющую судить о разнице групп, кроме того его показатели нестабильны и колеблются, хотя относительное различие практически незаметно**"
   ]
  },
  {
   "cell_type": "markdown",
   "metadata": {},
   "source": [
    "## Выводы"
   ]
  },
  {
   "attachments": {
    "image-2.png": {
     "image/png": "[encoded data removed]"
    },
    "image.png": {
     "image/png": "[encoded data removed]"
    }
   },
   "cell_type": "markdown",
   "metadata": {},
   "source": [
    "Имеющиеся после анализа результаты:\n",
    "- Есть статистически значимое различие по конверсии между группами как по \"сырым\" данным, так и после фильтрации аномалий. Относительная разница показала выигрыш группы В, и после фильтрации выигрыш даже увеличилась с 16% до 18%\n",
    "\n",
    "- Вывод о статистически значимом различии среднего чека ни по \"сырым\" ни по очищенным данным сделать нельзя.\n",
    "\n",
    "- График различия конверсии между группами показал, что группа В вышла заметно вперед, зафиксировалась и наблюдается тенденция к дальнейшему увеличению относительной разницы между группами или ее стабилизации в пользу группы В.\n",
    "![image.png](attachment:image.png)\n",
    "\n",
    "- График различия среднего чека колеблется: он-то и позволил вам найти аномалии. Сделать из этого графика определённые выводы нельзя. Хотя нужно заметить, что после очистки от двух крупных аномальных заказов, попавших именно в группу В, по относительной разнице совсем незначительно менее чем на 1 % вперед вышла группа А\n",
    "![image-2.png](attachment:image-2.png)\n",
    "\n",
    "Несмотря на нестабильность метрики среднего чека, зафиксированные статистически значимые отличия в конверсии позволяют нам:\n",
    "\n",
    "**1.** Принять следующее решение: **признать победу группы В и остановить тест**\n",
    "\n",
    "**2.** Рекомендовать далее **разработать/отобрать гипотезы, нацеленные на увеличение среднего чека, приоритизировать их и по возможности начать проверять**"
   ]
  }
 ],
 "metadata": {
  "ExecuteTimeLog": [
   {
    "duration": 1115,
    "start_time": "2022-06-09T12:14:09.679Z"
   },
   {
    "duration": 97,
    "start_time": "2022-06-09T12:14:47.444Z"
   },
   {
    "duration": 104,
    "start_time": "2022-06-09T12:15:15.484Z"
   },
   {
    "duration": 4,
    "start_time": "2022-06-09T12:16:38.484Z"
   },
   {
    "duration": 17,
    "start_time": "2022-06-09T12:16:45.477Z"
   },
   {
    "duration": 32,
    "start_time": "2022-06-09T12:17:04.765Z"
   },
   {
    "duration": 13,
    "start_time": "2022-06-09T12:17:35.403Z"
   },
   {
    "duration": 34,
    "start_time": "2022-06-09T12:19:17.187Z"
   },
   {
    "duration": 161,
    "start_time": "2022-06-09T12:19:32.691Z"
   },
   {
    "duration": 9,
    "start_time": "2022-06-09T12:22:37.940Z"
   },
   {
    "duration": 3,
    "start_time": "2022-06-09T12:22:47.180Z"
   },
   {
    "duration": 89,
    "start_time": "2022-06-09T12:22:47.186Z"
   },
   {
    "duration": 4,
    "start_time": "2022-06-09T12:22:47.277Z"
   },
   {
    "duration": 40,
    "start_time": "2022-06-09T12:22:47.283Z"
   },
   {
    "duration": 26,
    "start_time": "2022-06-09T12:23:33.842Z"
   },
   {
    "duration": 25,
    "start_time": "2022-06-09T12:23:55.957Z"
   },
   {
    "duration": 9,
    "start_time": "2022-06-09T12:28:06.572Z"
   },
   {
    "duration": 8,
    "start_time": "2022-06-09T12:28:22.079Z"
   },
   {
    "duration": 9,
    "start_time": "2022-06-09T12:28:53.412Z"
   },
   {
    "duration": 6,
    "start_time": "2022-06-09T12:29:23.046Z"
   },
   {
    "duration": 3,
    "start_time": "2022-06-09T12:29:35.446Z"
   },
   {
    "duration": 9,
    "start_time": "2022-06-09T12:29:46.441Z"
   },
   {
    "duration": 4,
    "start_time": "2022-06-09T12:30:01.539Z"
   },
   {
    "duration": 154,
    "start_time": "2022-06-09T12:30:01.545Z"
   },
   {
    "duration": 4,
    "start_time": "2022-06-09T12:30:01.702Z"
   },
   {
    "duration": 35,
    "start_time": "2022-06-09T12:30:01.709Z"
   },
   {
    "duration": 33,
    "start_time": "2022-06-09T12:30:01.746Z"
   },
   {
    "duration": 49,
    "start_time": "2022-06-09T12:30:01.781Z"
   },
   {
    "duration": 9,
    "start_time": "2022-06-09T12:30:04.278Z"
   },
   {
    "duration": 8,
    "start_time": "2022-06-09T12:30:25.507Z"
   },
   {
    "duration": 9,
    "start_time": "2022-06-09T12:30:44.947Z"
   },
   {
    "duration": 8,
    "start_time": "2022-06-09T12:30:47.476Z"
   },
   {
    "duration": 3,
    "start_time": "2022-06-09T12:31:02.374Z"
   },
   {
    "duration": 9,
    "start_time": "2022-06-09T12:31:02.792Z"
   },
   {
    "duration": 4,
    "start_time": "2022-06-09T12:31:18.428Z"
   },
   {
    "duration": 85,
    "start_time": "2022-06-09T12:31:18.434Z"
   },
   {
    "duration": 4,
    "start_time": "2022-06-09T12:31:18.521Z"
   },
   {
    "duration": 21,
    "start_time": "2022-06-09T12:31:18.526Z"
   },
   {
    "duration": 3,
    "start_time": "2022-06-09T12:31:18.549Z"
   },
   {
    "duration": 12,
    "start_time": "2022-06-09T12:31:18.554Z"
   },
   {
    "duration": 21,
    "start_time": "2022-06-09T12:32:05.927Z"
   },
   {
    "duration": 8,
    "start_time": "2022-06-09T12:32:28.894Z"
   },
   {
    "duration": 11,
    "start_time": "2022-06-09T12:33:04.747Z"
   },
   {
    "duration": 4,
    "start_time": "2022-06-09T12:39:34.694Z"
   },
   {
    "duration": 8,
    "start_time": "2022-06-09T12:40:14.947Z"
   },
   {
    "duration": 4,
    "start_time": "2022-06-09T12:41:43.545Z"
   },
   {
    "duration": 6,
    "start_time": "2022-06-09T12:44:23.304Z"
   },
   {
    "duration": 10,
    "start_time": "2022-06-09T12:44:38.762Z"
   },
   {
    "duration": 3,
    "start_time": "2022-06-09T12:44:51.544Z"
   },
   {
    "duration": 92,
    "start_time": "2022-06-09T12:44:51.550Z"
   },
   {
    "duration": 5,
    "start_time": "2022-06-09T12:44:51.644Z"
   },
   {
    "duration": 46,
    "start_time": "2022-06-09T12:44:51.651Z"
   },
   {
    "duration": 4,
    "start_time": "2022-06-09T12:44:51.698Z"
   },
   {
    "duration": 30,
    "start_time": "2022-06-09T12:44:51.703Z"
   },
   {
    "duration": 12,
    "start_time": "2022-06-09T12:44:51.735Z"
   },
   {
    "duration": 16,
    "start_time": "2022-06-09T12:44:51.749Z"
   },
   {
    "duration": 18,
    "start_time": "2022-06-09T12:44:51.767Z"
   },
   {
    "duration": 4,
    "start_time": "2022-06-09T12:45:07.968Z"
   },
   {
    "duration": 85,
    "start_time": "2022-06-09T12:45:07.974Z"
   },
   {
    "duration": 5,
    "start_time": "2022-06-09T12:45:08.061Z"
   },
   {
    "duration": 28,
    "start_time": "2022-06-09T12:45:08.069Z"
   },
   {
    "duration": 4,
    "start_time": "2022-06-09T12:45:08.099Z"
   },
   {
    "duration": 26,
    "start_time": "2022-06-09T12:45:08.104Z"
   },
   {
    "duration": 4,
    "start_time": "2022-06-09T12:45:08.152Z"
   },
   {
    "duration": 19,
    "start_time": "2022-06-09T12:45:08.158Z"
   },
   {
    "duration": 4,
    "start_time": "2022-06-09T12:46:28.683Z"
   },
   {
    "duration": 11,
    "start_time": "2022-06-09T12:46:29.146Z"
   },
   {
    "duration": 8,
    "start_time": "2022-06-09T12:46:58.905Z"
   },
   {
    "duration": 4,
    "start_time": "2022-06-09T12:48:17.095Z"
   },
   {
    "duration": 10,
    "start_time": "2022-06-09T12:48:31.669Z"
   },
   {
    "duration": 9,
    "start_time": "2022-06-09T12:52:54.990Z"
   },
   {
    "duration": 13,
    "start_time": "2022-06-09T12:53:25.063Z"
   },
   {
    "duration": 6,
    "start_time": "2022-06-09T12:53:37.195Z"
   },
   {
    "duration": 5,
    "start_time": "2022-06-09T12:54:04.972Z"
   },
   {
    "duration": 5,
    "start_time": "2022-06-09T12:54:20.545Z"
   },
   {
    "duration": 4,
    "start_time": "2022-06-09T12:54:33.603Z"
   },
   {
    "duration": 4,
    "start_time": "2022-06-09T12:54:44.010Z"
   },
   {
    "duration": 4,
    "start_time": "2022-06-09T12:54:51.518Z"
   },
   {
    "duration": 8,
    "start_time": "2022-06-09T12:55:50.833Z"
   },
   {
    "duration": 5,
    "start_time": "2022-06-09T12:56:28.858Z"
   },
   {
    "duration": 11,
    "start_time": "2022-06-09T12:59:35.280Z"
   },
   {
    "duration": 6,
    "start_time": "2022-06-09T13:08:16.097Z"
   },
   {
    "duration": 3,
    "start_time": "2022-06-09T13:12:17.692Z"
   },
   {
    "duration": 26,
    "start_time": "2022-06-09T13:16:45.096Z"
   },
   {
    "duration": 17,
    "start_time": "2022-06-09T13:28:47.692Z"
   },
   {
    "duration": 12,
    "start_time": "2022-06-09T13:28:59.063Z"
   },
   {
    "duration": 17,
    "start_time": "2022-06-09T13:40:35.785Z"
   },
   {
    "duration": 16,
    "start_time": "2022-06-09T13:55:48.294Z"
   },
   {
    "duration": 1108,
    "start_time": "2022-06-09T15:25:04.453Z"
   },
   {
    "duration": 264,
    "start_time": "2022-06-09T15:25:05.563Z"
   },
   {
    "duration": 4,
    "start_time": "2022-06-09T15:25:05.829Z"
   },
   {
    "duration": 40,
    "start_time": "2022-06-09T15:25:05.835Z"
   },
   {
    "duration": 4,
    "start_time": "2022-06-09T15:25:05.876Z"
   },
   {
    "duration": 26,
    "start_time": "2022-06-09T15:25:05.882Z"
   },
   {
    "duration": 18,
    "start_time": "2022-06-09T15:25:05.910Z"
   },
   {
    "duration": 12,
    "start_time": "2022-06-09T15:25:05.929Z"
   },
   {
    "duration": 16,
    "start_time": "2022-06-09T15:25:05.942Z"
   },
   {
    "duration": 20,
    "start_time": "2022-06-09T15:25:05.962Z"
   },
   {
    "duration": 4,
    "start_time": "2022-06-09T15:25:05.983Z"
   },
   {
    "duration": 25,
    "start_time": "2022-06-09T15:25:05.988Z"
   },
   {
    "duration": 5,
    "start_time": "2022-06-09T15:25:06.025Z"
   },
   {
    "duration": 23,
    "start_time": "2022-06-09T15:25:06.032Z"
   },
   {
    "duration": 13,
    "start_time": "2022-06-09T15:25:06.057Z"
   },
   {
    "duration": 12,
    "start_time": "2022-06-09T15:25:06.072Z"
   },
   {
    "duration": 24,
    "start_time": "2022-06-09T15:25:17.356Z"
   },
   {
    "duration": 8,
    "start_time": "2022-06-09T15:25:42.145Z"
   },
   {
    "duration": 10,
    "start_time": "2022-06-09T15:27:43.948Z"
   },
   {
    "duration": 8,
    "start_time": "2022-06-09T15:29:11.934Z"
   },
   {
    "duration": 97,
    "start_time": "2022-06-09T15:29:33.001Z"
   },
   {
    "duration": 8,
    "start_time": "2022-06-09T15:30:02.755Z"
   },
   {
    "duration": 7,
    "start_time": "2022-06-09T15:30:40.000Z"
   },
   {
    "duration": 7,
    "start_time": "2022-06-09T15:31:06.911Z"
   },
   {
    "duration": 5,
    "start_time": "2022-06-09T15:32:41.106Z"
   },
   {
    "duration": 7,
    "start_time": "2022-06-09T15:33:08.917Z"
   },
   {
    "duration": 8,
    "start_time": "2022-06-09T15:34:30.975Z"
   },
   {
    "duration": 6,
    "start_time": "2022-06-09T15:34:57.654Z"
   },
   {
    "duration": 12,
    "start_time": "2022-06-09T15:36:56.404Z"
   },
   {
    "duration": 19,
    "start_time": "2022-06-09T15:37:15.816Z"
   },
   {
    "duration": 13,
    "start_time": "2022-06-09T16:37:23.523Z"
   },
   {
    "duration": 13,
    "start_time": "2022-06-09T16:37:56.983Z"
   },
   {
    "duration": 3,
    "start_time": "2022-06-09T16:38:00.655Z"
   },
   {
    "duration": 98,
    "start_time": "2022-06-09T16:38:00.661Z"
   },
   {
    "duration": 5,
    "start_time": "2022-06-09T16:38:00.761Z"
   },
   {
    "duration": 51,
    "start_time": "2022-06-09T16:38:00.768Z"
   },
   {
    "duration": 16,
    "start_time": "2022-06-09T16:38:00.820Z"
   },
   {
    "duration": 39,
    "start_time": "2022-06-09T16:38:00.838Z"
   },
   {
    "duration": 4,
    "start_time": "2022-06-09T16:38:00.879Z"
   },
   {
    "duration": 10,
    "start_time": "2022-06-09T16:38:00.885Z"
   },
   {
    "duration": 25,
    "start_time": "2022-06-09T16:38:00.897Z"
   },
   {
    "duration": 23,
    "start_time": "2022-06-09T16:38:00.924Z"
   },
   {
    "duration": 3,
    "start_time": "2022-06-09T16:38:00.949Z"
   },
   {
    "duration": 14,
    "start_time": "2022-06-09T16:38:00.954Z"
   },
   {
    "duration": 13,
    "start_time": "2022-06-09T16:38:00.970Z"
   },
   {
    "duration": 29,
    "start_time": "2022-06-09T16:38:00.985Z"
   },
   {
    "duration": 32,
    "start_time": "2022-06-09T16:38:01.015Z"
   },
   {
    "duration": 27,
    "start_time": "2022-06-09T16:38:01.048Z"
   },
   {
    "duration": 33,
    "start_time": "2022-06-09T16:38:01.076Z"
   },
   {
    "duration": 18,
    "start_time": "2022-06-09T16:38:01.111Z"
   },
   {
    "duration": 22,
    "start_time": "2022-06-09T16:38:01.130Z"
   },
   {
    "duration": 22,
    "start_time": "2022-06-09T16:38:01.154Z"
   },
   {
    "duration": 0,
    "start_time": "2022-06-09T16:38:01.179Z"
   },
   {
    "duration": 0,
    "start_time": "2022-06-09T16:38:01.180Z"
   },
   {
    "duration": 0,
    "start_time": "2022-06-09T16:38:01.181Z"
   },
   {
    "duration": 0,
    "start_time": "2022-06-09T16:38:01.183Z"
   },
   {
    "duration": 14,
    "start_time": "2022-06-09T16:39:02.424Z"
   },
   {
    "duration": 11,
    "start_time": "2022-06-09T16:39:15.764Z"
   },
   {
    "duration": 5,
    "start_time": "2022-06-09T16:39:51.782Z"
   },
   {
    "duration": 4,
    "start_time": "2022-06-09T16:40:02.318Z"
   },
   {
    "duration": 5,
    "start_time": "2022-06-09T16:40:16.522Z"
   },
   {
    "duration": 5,
    "start_time": "2022-06-09T16:40:32.376Z"
   },
   {
    "duration": 6,
    "start_time": "2022-06-09T16:40:40.054Z"
   },
   {
    "duration": 5,
    "start_time": "2022-06-09T16:41:02.619Z"
   },
   {
    "duration": 12,
    "start_time": "2022-06-09T16:41:33.220Z"
   },
   {
    "duration": 5,
    "start_time": "2022-06-09T16:41:40.661Z"
   },
   {
    "duration": 8,
    "start_time": "2022-06-09T16:44:33.746Z"
   },
   {
    "duration": 12,
    "start_time": "2022-06-09T16:45:41.855Z"
   },
   {
    "duration": 9,
    "start_time": "2022-06-09T16:45:54.764Z"
   },
   {
    "duration": 4,
    "start_time": "2022-06-09T16:46:38.307Z"
   },
   {
    "duration": 4,
    "start_time": "2022-06-09T16:48:51.968Z"
   },
   {
    "duration": 6,
    "start_time": "2022-06-09T16:49:02.283Z"
   },
   {
    "duration": 6,
    "start_time": "2022-06-09T16:50:22.468Z"
   },
   {
    "duration": 6,
    "start_time": "2022-06-09T16:52:32.836Z"
   },
   {
    "duration": 5,
    "start_time": "2022-06-09T16:52:49.858Z"
   },
   {
    "duration": 15,
    "start_time": "2022-06-09T16:54:24.459Z"
   },
   {
    "duration": 10,
    "start_time": "2022-06-09T16:54:46.186Z"
   },
   {
    "duration": 12,
    "start_time": "2022-06-09T16:54:48.162Z"
   },
   {
    "duration": 12,
    "start_time": "2022-06-09T16:55:06.366Z"
   },
   {
    "duration": 17,
    "start_time": "2022-06-09T16:56:04.741Z"
   },
   {
    "duration": 33,
    "start_time": "2022-06-09T17:01:21.421Z"
   },
   {
    "duration": 263,
    "start_time": "2022-06-09T17:07:04.237Z"
   },
   {
    "duration": 351,
    "start_time": "2022-06-09T17:07:14.605Z"
   },
   {
    "duration": 394,
    "start_time": "2022-06-09T17:07:32.209Z"
   },
   {
    "duration": 301,
    "start_time": "2022-06-09T17:07:59.857Z"
   },
   {
    "duration": 327,
    "start_time": "2022-06-09T17:08:14.904Z"
   },
   {
    "duration": 3,
    "start_time": "2022-06-09T17:12:20.274Z"
   },
   {
    "duration": 78,
    "start_time": "2022-06-09T17:12:20.279Z"
   },
   {
    "duration": 3,
    "start_time": "2022-06-09T17:12:20.359Z"
   },
   {
    "duration": 21,
    "start_time": "2022-06-09T17:12:20.364Z"
   },
   {
    "duration": 2,
    "start_time": "2022-06-09T17:12:20.387Z"
   },
   {
    "duration": 37,
    "start_time": "2022-06-09T17:12:20.391Z"
   },
   {
    "duration": 5,
    "start_time": "2022-06-09T17:12:20.431Z"
   },
   {
    "duration": 28,
    "start_time": "2022-06-09T17:12:20.437Z"
   },
   {
    "duration": 13,
    "start_time": "2022-06-09T17:12:20.467Z"
   },
   {
    "duration": 18,
    "start_time": "2022-06-09T17:12:20.481Z"
   },
   {
    "duration": 3,
    "start_time": "2022-06-09T17:12:20.500Z"
   },
   {
    "duration": 15,
    "start_time": "2022-06-09T17:12:20.504Z"
   },
   {
    "duration": 9,
    "start_time": "2022-06-09T17:12:20.520Z"
   },
   {
    "duration": 11,
    "start_time": "2022-06-09T17:12:20.531Z"
   },
   {
    "duration": 19,
    "start_time": "2022-06-09T17:12:20.544Z"
   },
   {
    "duration": 16,
    "start_time": "2022-06-09T17:12:20.564Z"
   },
   {
    "duration": 14,
    "start_time": "2022-06-09T17:12:20.581Z"
   },
   {
    "duration": 5,
    "start_time": "2022-06-09T17:12:20.596Z"
   },
   {
    "duration": 8,
    "start_time": "2022-06-09T17:12:20.602Z"
   },
   {
    "duration": 16,
    "start_time": "2022-06-09T17:12:20.611Z"
   },
   {
    "duration": 15,
    "start_time": "2022-06-09T17:12:20.629Z"
   },
   {
    "duration": 26,
    "start_time": "2022-06-09T17:12:20.646Z"
   },
   {
    "duration": 10,
    "start_time": "2022-06-09T17:12:20.673Z"
   },
   {
    "duration": 7,
    "start_time": "2022-06-09T17:12:20.685Z"
   },
   {
    "duration": 290,
    "start_time": "2022-06-09T17:12:20.693Z"
   },
   {
    "duration": 9,
    "start_time": "2022-06-09T17:15:08.072Z"
   },
   {
    "duration": 5,
    "start_time": "2022-06-09T17:16:02.653Z"
   },
   {
    "duration": 15,
    "start_time": "2022-06-09T17:17:16.541Z"
   },
   {
    "duration": 16,
    "start_time": "2022-06-09T17:17:29.776Z"
   },
   {
    "duration": 6,
    "start_time": "2022-06-09T17:17:49.259Z"
   },
   {
    "duration": 11,
    "start_time": "2022-06-09T17:18:01.555Z"
   },
   {
    "duration": 5,
    "start_time": "2022-06-09T17:18:21.171Z"
   },
   {
    "duration": 397,
    "start_time": "2022-06-09T17:18:45.731Z"
   },
   {
    "duration": 32,
    "start_time": "2022-06-09T17:19:34.327Z"
   },
   {
    "duration": 8,
    "start_time": "2022-06-09T17:20:03.063Z"
   },
   {
    "duration": 5,
    "start_time": "2022-06-09T17:20:13.841Z"
   },
   {
    "duration": 13,
    "start_time": "2022-06-09T17:20:22.305Z"
   },
   {
    "duration": 12,
    "start_time": "2022-06-09T17:21:06.505Z"
   },
   {
    "duration": 11,
    "start_time": "2022-06-09T17:21:17.522Z"
   },
   {
    "duration": 6,
    "start_time": "2022-06-09T17:22:34.333Z"
   },
   {
    "duration": 17,
    "start_time": "2022-06-09T17:23:13.805Z"
   },
   {
    "duration": 11,
    "start_time": "2022-06-09T17:24:29.967Z"
   },
   {
    "duration": 6,
    "start_time": "2022-06-09T17:27:12.436Z"
   },
   {
    "duration": 10,
    "start_time": "2022-06-09T17:27:29.876Z"
   },
   {
    "duration": 12,
    "start_time": "2022-06-09T17:27:56.511Z"
   },
   {
    "duration": 11,
    "start_time": "2022-06-09T17:28:06.796Z"
   },
   {
    "duration": 9,
    "start_time": "2022-06-09T17:28:37.437Z"
   },
   {
    "duration": 8,
    "start_time": "2022-06-09T17:29:03.769Z"
   },
   {
    "duration": 12,
    "start_time": "2022-06-09T17:29:58.560Z"
   },
   {
    "duration": 9,
    "start_time": "2022-06-09T17:31:19.424Z"
   },
   {
    "duration": 9,
    "start_time": "2022-06-09T17:31:33.146Z"
   },
   {
    "duration": 11,
    "start_time": "2022-06-09T17:31:44.968Z"
   },
   {
    "duration": 3,
    "start_time": "2022-06-09T17:32:37.715Z"
   },
   {
    "duration": 44,
    "start_time": "2022-06-09T17:35:17.009Z"
   },
   {
    "duration": 707,
    "start_time": "2022-06-09T17:35:29.571Z"
   },
   {
    "duration": 31,
    "start_time": "2022-06-09T17:37:20.419Z"
   },
   {
    "duration": 10,
    "start_time": "2022-06-09T17:38:28.027Z"
   },
   {
    "duration": 3,
    "start_time": "2022-06-09T17:39:46.826Z"
   },
   {
    "duration": 24,
    "start_time": "2022-06-09T17:39:50.043Z"
   },
   {
    "duration": 117,
    "start_time": "2022-06-09T17:40:02.515Z"
   },
   {
    "duration": 10,
    "start_time": "2022-06-09T17:42:20.910Z"
   },
   {
    "duration": 11,
    "start_time": "2022-06-09T17:42:35.726Z"
   },
   {
    "duration": 10,
    "start_time": "2022-06-09T17:43:09.002Z"
   },
   {
    "duration": 11,
    "start_time": "2022-06-09T17:44:04.944Z"
   },
   {
    "duration": 32,
    "start_time": "2022-06-09T17:47:56.263Z"
   },
   {
    "duration": 11,
    "start_time": "2022-06-09T17:48:06.251Z"
   },
   {
    "duration": 13,
    "start_time": "2022-06-09T17:48:17.150Z"
   },
   {
    "duration": 3,
    "start_time": "2022-06-09T17:49:42.662Z"
   },
   {
    "duration": 14,
    "start_time": "2022-06-09T17:50:15.019Z"
   },
   {
    "duration": 16,
    "start_time": "2022-06-09T17:51:14.001Z"
   },
   {
    "duration": 4,
    "start_time": "2022-06-09T17:52:45.907Z"
   },
   {
    "duration": 17,
    "start_time": "2022-06-09T17:53:18.139Z"
   },
   {
    "duration": 9,
    "start_time": "2022-06-09T17:54:46.305Z"
   },
   {
    "duration": 135,
    "start_time": "2022-06-09T17:55:16.945Z"
   },
   {
    "duration": 3,
    "start_time": "2022-06-09T17:55:53.021Z"
   },
   {
    "duration": 18,
    "start_time": "2022-06-09T17:56:10.016Z"
   },
   {
    "duration": 14,
    "start_time": "2022-06-09T17:57:22.565Z"
   },
   {
    "duration": 3,
    "start_time": "2022-06-09T17:57:31.069Z"
   },
   {
    "duration": 97,
    "start_time": "2022-06-09T17:57:31.074Z"
   },
   {
    "duration": 4,
    "start_time": "2022-06-09T17:57:31.173Z"
   },
   {
    "duration": 50,
    "start_time": "2022-06-09T17:57:31.179Z"
   },
   {
    "duration": 9,
    "start_time": "2022-06-09T17:57:31.232Z"
   },
   {
    "duration": 55,
    "start_time": "2022-06-09T17:57:31.242Z"
   },
   {
    "duration": 19,
    "start_time": "2022-06-09T17:57:31.299Z"
   },
   {
    "duration": 30,
    "start_time": "2022-06-09T17:57:31.319Z"
   },
   {
    "duration": 56,
    "start_time": "2022-06-09T17:57:31.351Z"
   },
   {
    "duration": 46,
    "start_time": "2022-06-09T17:57:31.409Z"
   },
   {
    "duration": 16,
    "start_time": "2022-06-09T17:57:31.457Z"
   },
   {
    "duration": 44,
    "start_time": "2022-06-09T17:57:31.475Z"
   },
   {
    "duration": 28,
    "start_time": "2022-06-09T17:57:31.520Z"
   },
   {
    "duration": 24,
    "start_time": "2022-06-09T17:57:31.550Z"
   },
   {
    "duration": 30,
    "start_time": "2022-06-09T17:57:31.576Z"
   },
   {
    "duration": 38,
    "start_time": "2022-06-09T17:57:31.608Z"
   },
   {
    "duration": 45,
    "start_time": "2022-06-09T17:57:31.648Z"
   },
   {
    "duration": 29,
    "start_time": "2022-06-09T17:57:31.695Z"
   },
   {
    "duration": 31,
    "start_time": "2022-06-09T17:57:31.726Z"
   },
   {
    "duration": 40,
    "start_time": "2022-06-09T17:57:31.759Z"
   },
   {
    "duration": 34,
    "start_time": "2022-06-09T17:57:31.801Z"
   },
   {
    "duration": 35,
    "start_time": "2022-06-09T17:57:31.837Z"
   },
   {
    "duration": 41,
    "start_time": "2022-06-09T17:57:31.875Z"
   },
   {
    "duration": 6,
    "start_time": "2022-06-09T17:58:41.412Z"
   },
   {
    "duration": 12,
    "start_time": "2022-06-09T17:59:03.920Z"
   },
   {
    "duration": 3,
    "start_time": "2022-06-09T17:59:14.216Z"
   },
   {
    "duration": 79,
    "start_time": "2022-06-09T17:59:14.222Z"
   },
   {
    "duration": 4,
    "start_time": "2022-06-09T17:59:14.303Z"
   },
   {
    "duration": 26,
    "start_time": "2022-06-09T17:59:14.308Z"
   },
   {
    "duration": 4,
    "start_time": "2022-06-09T17:59:14.337Z"
   },
   {
    "duration": 37,
    "start_time": "2022-06-09T17:59:14.342Z"
   },
   {
    "duration": 3,
    "start_time": "2022-06-09T17:59:14.381Z"
   },
   {
    "duration": 8,
    "start_time": "2022-06-09T17:59:14.386Z"
   },
   {
    "duration": 33,
    "start_time": "2022-06-09T17:59:14.396Z"
   },
   {
    "duration": 22,
    "start_time": "2022-06-09T17:59:14.432Z"
   },
   {
    "duration": 4,
    "start_time": "2022-06-09T17:59:14.456Z"
   },
   {
    "duration": 14,
    "start_time": "2022-06-09T17:59:14.462Z"
   },
   {
    "duration": 13,
    "start_time": "2022-06-09T17:59:14.478Z"
   },
   {
    "duration": 38,
    "start_time": "2022-06-09T17:59:14.494Z"
   },
   {
    "duration": 17,
    "start_time": "2022-06-09T17:59:14.533Z"
   },
   {
    "duration": 14,
    "start_time": "2022-06-09T17:59:14.552Z"
   },
   {
    "duration": 11,
    "start_time": "2022-06-09T17:59:14.568Z"
   },
   {
    "duration": 14,
    "start_time": "2022-06-09T17:59:14.581Z"
   },
   {
    "duration": 31,
    "start_time": "2022-06-09T17:59:14.597Z"
   },
   {
    "duration": 11,
    "start_time": "2022-06-09T17:59:14.630Z"
   },
   {
    "duration": 17,
    "start_time": "2022-06-09T17:59:14.643Z"
   },
   {
    "duration": 14,
    "start_time": "2022-06-09T17:59:14.662Z"
   },
   {
    "duration": 16,
    "start_time": "2022-06-09T18:00:08.220Z"
   },
   {
    "duration": 5,
    "start_time": "2022-06-09T18:00:27.238Z"
   },
   {
    "duration": 17,
    "start_time": "2022-06-09T18:00:37.108Z"
   },
   {
    "duration": 13,
    "start_time": "2022-06-09T18:01:22.213Z"
   },
   {
    "duration": 7,
    "start_time": "2022-06-09T18:03:23.736Z"
   },
   {
    "duration": 7,
    "start_time": "2022-06-09T18:05:32.680Z"
   },
   {
    "duration": 10,
    "start_time": "2022-06-09T18:06:27.749Z"
   },
   {
    "duration": 15,
    "start_time": "2022-06-09T18:07:36.150Z"
   },
   {
    "duration": 14,
    "start_time": "2022-06-09T18:07:45.129Z"
   },
   {
    "duration": 15,
    "start_time": "2022-06-09T18:08:00.836Z"
   },
   {
    "duration": 21,
    "start_time": "2022-06-09T18:08:10.304Z"
   },
   {
    "duration": 11,
    "start_time": "2022-06-09T18:08:57.525Z"
   },
   {
    "duration": 13,
    "start_time": "2022-06-09T18:09:00.137Z"
   },
   {
    "duration": 18,
    "start_time": "2022-06-09T18:09:49.941Z"
   },
   {
    "duration": 7,
    "start_time": "2022-06-09T18:14:12.344Z"
   },
   {
    "duration": 11,
    "start_time": "2022-06-09T18:16:19.512Z"
   },
   {
    "duration": 18,
    "start_time": "2022-06-09T18:17:21.911Z"
   },
   {
    "duration": 16,
    "start_time": "2022-06-09T18:18:51.212Z"
   },
   {
    "duration": 6,
    "start_time": "2022-06-09T18:19:13.921Z"
   },
   {
    "duration": 16,
    "start_time": "2022-06-09T18:20:23.993Z"
   },
   {
    "duration": 11,
    "start_time": "2022-06-09T18:23:19.499Z"
   },
   {
    "duration": 13,
    "start_time": "2022-06-09T18:24:31.136Z"
   },
   {
    "duration": 5,
    "start_time": "2022-06-09T18:30:53.156Z"
   },
   {
    "duration": 7,
    "start_time": "2022-06-09T18:31:20.985Z"
   },
   {
    "duration": 312,
    "start_time": "2022-06-09T18:39:14.715Z"
   },
   {
    "duration": 6,
    "start_time": "2022-06-09T18:40:06.358Z"
   },
   {
    "duration": 7,
    "start_time": "2022-06-09T18:40:08.391Z"
   },
   {
    "duration": 3,
    "start_time": "2022-06-09T18:40:13.849Z"
   },
   {
    "duration": 89,
    "start_time": "2022-06-09T18:40:13.855Z"
   },
   {
    "duration": 5,
    "start_time": "2022-06-09T18:40:13.946Z"
   },
   {
    "duration": 36,
    "start_time": "2022-06-09T18:40:13.954Z"
   },
   {
    "duration": 4,
    "start_time": "2022-06-09T18:40:13.992Z"
   },
   {
    "duration": 44,
    "start_time": "2022-06-09T18:40:13.998Z"
   },
   {
    "duration": 5,
    "start_time": "2022-06-09T18:40:14.045Z"
   },
   {
    "duration": 11,
    "start_time": "2022-06-09T18:40:14.052Z"
   },
   {
    "duration": 18,
    "start_time": "2022-06-09T18:40:14.065Z"
   },
   {
    "duration": 48,
    "start_time": "2022-06-09T18:40:14.086Z"
   },
   {
    "duration": 5,
    "start_time": "2022-06-09T18:40:14.136Z"
   },
   {
    "duration": 18,
    "start_time": "2022-06-09T18:40:14.143Z"
   },
   {
    "duration": 10,
    "start_time": "2022-06-09T18:40:14.163Z"
   },
   {
    "duration": 13,
    "start_time": "2022-06-09T18:40:14.175Z"
   },
   {
    "duration": 49,
    "start_time": "2022-06-09T18:40:14.191Z"
   },
   {
    "duration": 19,
    "start_time": "2022-06-09T18:40:14.242Z"
   },
   {
    "duration": 20,
    "start_time": "2022-06-09T18:40:14.263Z"
   },
   {
    "duration": 19,
    "start_time": "2022-06-09T18:40:14.285Z"
   },
   {
    "duration": 7,
    "start_time": "2022-06-09T18:40:14.325Z"
   },
   {
    "duration": 9,
    "start_time": "2022-06-09T18:40:14.334Z"
   },
   {
    "duration": 8,
    "start_time": "2022-06-09T18:40:14.345Z"
   },
   {
    "duration": 10,
    "start_time": "2022-06-09T18:40:14.355Z"
   },
   {
    "duration": 9,
    "start_time": "2022-06-09T18:40:14.367Z"
   },
   {
    "duration": 368,
    "start_time": "2022-06-09T18:40:14.378Z"
   },
   {
    "duration": 4,
    "start_time": "2022-06-09T18:46:30.432Z"
   },
   {
    "duration": 88,
    "start_time": "2022-06-09T18:46:30.438Z"
   },
   {
    "duration": 4,
    "start_time": "2022-06-09T18:46:30.528Z"
   },
   {
    "duration": 66,
    "start_time": "2022-06-09T18:46:30.534Z"
   },
   {
    "duration": 16,
    "start_time": "2022-06-09T18:46:30.603Z"
   },
   {
    "duration": 41,
    "start_time": "2022-06-09T18:46:30.621Z"
   },
   {
    "duration": 15,
    "start_time": "2022-06-09T18:46:30.664Z"
   },
   {
    "duration": 29,
    "start_time": "2022-06-09T18:46:30.681Z"
   },
   {
    "duration": 36,
    "start_time": "2022-06-09T18:46:30.712Z"
   },
   {
    "duration": 53,
    "start_time": "2022-06-09T18:46:30.750Z"
   },
   {
    "duration": 25,
    "start_time": "2022-06-09T18:46:30.805Z"
   },
   {
    "duration": 43,
    "start_time": "2022-06-09T18:46:30.832Z"
   },
   {
    "duration": 28,
    "start_time": "2022-06-09T18:46:30.877Z"
   },
   {
    "duration": 30,
    "start_time": "2022-06-09T18:46:30.908Z"
   },
   {
    "duration": 40,
    "start_time": "2022-06-09T18:46:30.940Z"
   },
   {
    "duration": 33,
    "start_time": "2022-06-09T18:46:30.982Z"
   },
   {
    "duration": 46,
    "start_time": "2022-06-09T18:46:31.017Z"
   },
   {
    "duration": 20,
    "start_time": "2022-06-09T18:46:31.065Z"
   },
   {
    "duration": 19,
    "start_time": "2022-06-09T18:46:31.087Z"
   },
   {
    "duration": 21,
    "start_time": "2022-06-09T18:46:31.108Z"
   },
   {
    "duration": 21,
    "start_time": "2022-06-09T18:46:31.131Z"
   },
   {
    "duration": 16,
    "start_time": "2022-06-09T18:46:31.154Z"
   },
   {
    "duration": 17,
    "start_time": "2022-06-09T18:46:31.172Z"
   },
   {
    "duration": 301,
    "start_time": "2022-06-09T18:46:31.191Z"
   },
   {
    "duration": 263,
    "start_time": "2022-06-09T19:40:47.551Z"
   },
   {
    "duration": 173,
    "start_time": "2022-06-09T19:41:19.636Z"
   },
   {
    "duration": 181,
    "start_time": "2022-06-09T19:41:28.711Z"
   },
   {
    "duration": 208,
    "start_time": "2022-06-09T19:44:16.428Z"
   },
   {
    "duration": 12,
    "start_time": "2022-06-09T19:45:11.914Z"
   },
   {
    "duration": 205,
    "start_time": "2022-06-09T19:47:29.590Z"
   },
   {
    "duration": 197,
    "start_time": "2022-06-09T19:47:52.094Z"
   },
   {
    "duration": 272,
    "start_time": "2022-06-09T19:48:08.528Z"
   },
   {
    "duration": 177,
    "start_time": "2022-06-09T19:48:22.078Z"
   },
   {
    "duration": 173,
    "start_time": "2022-06-09T19:48:35.170Z"
   },
   {
    "duration": 182,
    "start_time": "2022-06-09T19:48:52.794Z"
   },
   {
    "duration": 173,
    "start_time": "2022-06-09T19:49:40.486Z"
   },
   {
    "duration": 158,
    "start_time": "2022-06-09T19:54:41.835Z"
   },
   {
    "duration": 180,
    "start_time": "2022-06-09T19:55:01.340Z"
   },
   {
    "duration": 174,
    "start_time": "2022-06-09T20:14:24.480Z"
   },
   {
    "duration": 110,
    "start_time": "2022-06-09T20:24:43.723Z"
   },
   {
    "duration": 128,
    "start_time": "2022-06-09T20:26:13.791Z"
   },
   {
    "duration": 250,
    "start_time": "2022-06-09T20:26:45.845Z"
   },
   {
    "duration": 259,
    "start_time": "2022-06-09T20:26:55.496Z"
   },
   {
    "duration": 6,
    "start_time": "2022-06-09T20:28:31.102Z"
   },
   {
    "duration": 11,
    "start_time": "2022-06-09T20:29:23.338Z"
   },
   {
    "duration": 10,
    "start_time": "2022-06-09T20:29:33.538Z"
   },
   {
    "duration": 10,
    "start_time": "2022-06-09T20:31:58.538Z"
   },
   {
    "duration": 129,
    "start_time": "2022-06-09T20:32:33.795Z"
   },
   {
    "duration": 186,
    "start_time": "2022-06-09T20:35:05.210Z"
   },
   {
    "duration": 247,
    "start_time": "2022-06-09T20:35:12.272Z"
   },
   {
    "duration": 320,
    "start_time": "2022-06-09T20:35:46.563Z"
   },
   {
    "duration": 180,
    "start_time": "2022-06-09T20:45:33.103Z"
   },
   {
    "duration": 180,
    "start_time": "2022-06-09T20:45:38.203Z"
   },
   {
    "duration": 13,
    "start_time": "2022-06-09T20:45:41.215Z"
   },
   {
    "duration": 254,
    "start_time": "2022-06-09T20:45:51.765Z"
   },
   {
    "duration": 163,
    "start_time": "2022-06-09T20:47:41.064Z"
   },
   {
    "duration": 211,
    "start_time": "2022-06-09T20:48:58.723Z"
   },
   {
    "duration": 177,
    "start_time": "2022-06-09T20:49:22.171Z"
   },
   {
    "duration": 5,
    "start_time": "2022-06-09T20:51:14.753Z"
   },
   {
    "duration": 173,
    "start_time": "2022-06-09T20:51:24.507Z"
   },
   {
    "duration": 3,
    "start_time": "2022-06-09T20:51:51.051Z"
   },
   {
    "duration": 77,
    "start_time": "2022-06-09T20:51:51.056Z"
   },
   {
    "duration": 4,
    "start_time": "2022-06-09T20:51:51.134Z"
   },
   {
    "duration": 19,
    "start_time": "2022-06-09T20:51:51.140Z"
   },
   {
    "duration": 3,
    "start_time": "2022-06-09T20:51:51.161Z"
   },
   {
    "duration": 19,
    "start_time": "2022-06-09T20:51:51.165Z"
   },
   {
    "duration": 3,
    "start_time": "2022-06-09T20:51:51.186Z"
   },
   {
    "duration": 6,
    "start_time": "2022-06-09T20:51:51.190Z"
   },
   {
    "duration": 37,
    "start_time": "2022-06-09T20:51:51.197Z"
   },
   {
    "duration": 17,
    "start_time": "2022-06-09T20:51:51.236Z"
   },
   {
    "duration": 4,
    "start_time": "2022-06-09T20:51:51.255Z"
   },
   {
    "duration": 11,
    "start_time": "2022-06-09T20:51:51.260Z"
   },
   {
    "duration": 6,
    "start_time": "2022-06-09T20:51:51.272Z"
   },
   {
    "duration": 13,
    "start_time": "2022-06-09T20:51:51.279Z"
   },
   {
    "duration": 34,
    "start_time": "2022-06-09T20:51:51.293Z"
   },
   {
    "duration": 12,
    "start_time": "2022-06-09T20:51:51.329Z"
   },
   {
    "duration": 13,
    "start_time": "2022-06-09T20:51:51.342Z"
   },
   {
    "duration": 9,
    "start_time": "2022-06-09T20:51:51.356Z"
   },
   {
    "duration": 5,
    "start_time": "2022-06-09T20:51:51.367Z"
   },
   {
    "duration": 6,
    "start_time": "2022-06-09T20:51:51.373Z"
   },
   {
    "duration": 6,
    "start_time": "2022-06-09T20:51:51.381Z"
   },
   {
    "duration": 6,
    "start_time": "2022-06-09T20:51:51.388Z"
   },
   {
    "duration": 31,
    "start_time": "2022-06-09T20:51:51.395Z"
   },
   {
    "duration": 262,
    "start_time": "2022-06-09T20:51:51.428Z"
   },
   {
    "duration": 215,
    "start_time": "2022-06-09T20:51:51.691Z"
   },
   {
    "duration": 200,
    "start_time": "2022-06-09T20:51:51.907Z"
   },
   {
    "duration": 20,
    "start_time": "2022-06-09T20:51:52.108Z"
   },
   {
    "duration": 279,
    "start_time": "2022-06-09T20:51:52.129Z"
   },
   {
    "duration": 281,
    "start_time": "2022-06-09T20:51:52.411Z"
   },
   {
    "duration": 4,
    "start_time": "2022-06-09T20:53:16.126Z"
   },
   {
    "duration": 85,
    "start_time": "2022-06-09T20:53:16.133Z"
   },
   {
    "duration": 6,
    "start_time": "2022-06-09T20:53:16.219Z"
   },
   {
    "duration": 24,
    "start_time": "2022-06-09T20:53:16.227Z"
   },
   {
    "duration": 3,
    "start_time": "2022-06-09T20:53:16.253Z"
   },
   {
    "duration": 22,
    "start_time": "2022-06-09T20:53:16.257Z"
   },
   {
    "duration": 3,
    "start_time": "2022-06-09T20:53:16.281Z"
   },
   {
    "duration": 8,
    "start_time": "2022-06-09T20:53:16.285Z"
   },
   {
    "duration": 32,
    "start_time": "2022-06-09T20:53:16.295Z"
   },
   {
    "duration": 21,
    "start_time": "2022-06-09T20:53:16.329Z"
   },
   {
    "duration": 13,
    "start_time": "2022-06-09T20:53:16.352Z"
   },
   {
    "duration": 68,
    "start_time": "2022-06-09T20:53:16.367Z"
   },
   {
    "duration": 19,
    "start_time": "2022-06-09T20:53:16.437Z"
   },
   {
    "duration": 22,
    "start_time": "2022-06-09T20:53:16.459Z"
   },
   {
    "duration": 23,
    "start_time": "2022-06-09T20:53:16.483Z"
   },
   {
    "duration": 28,
    "start_time": "2022-06-09T20:53:16.508Z"
   },
   {
    "duration": 37,
    "start_time": "2022-06-09T20:53:16.539Z"
   },
   {
    "duration": 16,
    "start_time": "2022-06-09T20:53:16.578Z"
   },
   {
    "duration": 9,
    "start_time": "2022-06-09T20:53:16.596Z"
   },
   {
    "duration": 14,
    "start_time": "2022-06-09T20:53:16.607Z"
   },
   {
    "duration": 49,
    "start_time": "2022-06-09T20:53:16.622Z"
   },
   {
    "duration": 19,
    "start_time": "2022-06-09T20:53:16.673Z"
   },
   {
    "duration": 11,
    "start_time": "2022-06-09T20:53:16.694Z"
   },
   {
    "duration": 278,
    "start_time": "2022-06-09T20:53:16.706Z"
   },
   {
    "duration": 219,
    "start_time": "2022-06-09T20:53:16.985Z"
   },
   {
    "duration": 208,
    "start_time": "2022-06-09T20:53:17.205Z"
   },
   {
    "duration": 19,
    "start_time": "2022-06-09T20:53:17.414Z"
   },
   {
    "duration": 316,
    "start_time": "2022-06-09T20:53:17.435Z"
   },
   {
    "duration": 189,
    "start_time": "2022-06-09T20:53:17.752Z"
   },
   {
    "duration": 3,
    "start_time": "2022-06-09T20:53:56.177Z"
   },
   {
    "duration": 5,
    "start_time": "2022-06-09T20:54:00.825Z"
   },
   {
    "duration": 91,
    "start_time": "2022-06-09T20:54:00.833Z"
   },
   {
    "duration": 6,
    "start_time": "2022-06-09T20:54:00.927Z"
   },
   {
    "duration": 34,
    "start_time": "2022-06-09T20:54:00.936Z"
   },
   {
    "duration": 3,
    "start_time": "2022-06-09T20:54:00.971Z"
   },
   {
    "duration": 31,
    "start_time": "2022-06-09T20:54:00.976Z"
   },
   {
    "duration": 3,
    "start_time": "2022-06-09T20:54:01.009Z"
   },
   {
    "duration": 15,
    "start_time": "2022-06-09T20:54:01.014Z"
   },
   {
    "duration": 31,
    "start_time": "2022-06-09T20:54:01.031Z"
   },
   {
    "duration": 18,
    "start_time": "2022-06-09T20:54:01.064Z"
   },
   {
    "duration": 3,
    "start_time": "2022-06-09T20:54:01.083Z"
   },
   {
    "duration": 12,
    "start_time": "2022-06-09T20:54:01.087Z"
   },
   {
    "duration": 16,
    "start_time": "2022-06-09T20:54:01.100Z"
   },
   {
    "duration": 18,
    "start_time": "2022-06-09T20:54:01.117Z"
   },
   {
    "duration": 19,
    "start_time": "2022-06-09T20:54:01.136Z"
   },
   {
    "duration": 32,
    "start_time": "2022-06-09T20:54:01.157Z"
   },
   {
    "duration": 16,
    "start_time": "2022-06-09T20:54:01.190Z"
   },
   {
    "duration": 10,
    "start_time": "2022-06-09T20:54:01.208Z"
   },
   {
    "duration": 21,
    "start_time": "2022-06-09T20:54:01.219Z"
   },
   {
    "duration": 16,
    "start_time": "2022-06-09T20:54:01.241Z"
   },
   {
    "duration": 10,
    "start_time": "2022-06-09T20:54:01.259Z"
   },
   {
    "duration": 11,
    "start_time": "2022-06-09T20:54:01.270Z"
   },
   {
    "duration": 13,
    "start_time": "2022-06-09T20:54:01.283Z"
   },
   {
    "duration": 298,
    "start_time": "2022-06-09T20:54:01.298Z"
   },
   {
    "duration": 186,
    "start_time": "2022-06-09T20:54:01.598Z"
   },
   {
    "duration": 214,
    "start_time": "2022-06-09T20:54:01.786Z"
   },
   {
    "duration": 12,
    "start_time": "2022-06-09T20:54:02.002Z"
   },
   {
    "duration": 292,
    "start_time": "2022-06-09T20:54:02.026Z"
   },
   {
    "duration": 203,
    "start_time": "2022-06-09T20:54:02.319Z"
   },
   {
    "duration": 192,
    "start_time": "2022-06-09T20:54:25.875Z"
   },
   {
    "duration": 3,
    "start_time": "2022-06-09T20:54:44.767Z"
   },
   {
    "duration": 3,
    "start_time": "2022-06-09T20:54:50.460Z"
   },
   {
    "duration": 77,
    "start_time": "2022-06-09T20:54:50.465Z"
   },
   {
    "duration": 3,
    "start_time": "2022-06-09T20:54:50.544Z"
   },
   {
    "duration": 21,
    "start_time": "2022-06-09T20:54:50.549Z"
   },
   {
    "duration": 3,
    "start_time": "2022-06-09T20:54:50.571Z"
   },
   {
    "duration": 18,
    "start_time": "2022-06-09T20:54:50.576Z"
   },
   {
    "duration": 3,
    "start_time": "2022-06-09T20:54:50.596Z"
   },
   {
    "duration": 25,
    "start_time": "2022-06-09T20:54:50.600Z"
   },
   {
    "duration": 12,
    "start_time": "2022-06-09T20:54:50.628Z"
   },
   {
    "duration": 20,
    "start_time": "2022-06-09T20:54:50.641Z"
   },
   {
    "duration": 4,
    "start_time": "2022-06-09T20:54:50.662Z"
   },
   {
    "duration": 13,
    "start_time": "2022-06-09T20:54:50.667Z"
   },
   {
    "duration": 6,
    "start_time": "2022-06-09T20:54:50.681Z"
   },
   {
    "duration": 11,
    "start_time": "2022-06-09T20:54:50.689Z"
   },
   {
    "duration": 13,
    "start_time": "2022-06-09T20:54:50.726Z"
   },
   {
    "duration": 16,
    "start_time": "2022-06-09T20:54:50.741Z"
   },
   {
    "duration": 19,
    "start_time": "2022-06-09T20:54:50.760Z"
   },
   {
    "duration": 16,
    "start_time": "2022-06-09T20:54:50.780Z"
   },
   {
    "duration": 13,
    "start_time": "2022-06-09T20:54:50.798Z"
   },
   {
    "duration": 9,
    "start_time": "2022-06-09T20:54:50.824Z"
   },
   {
    "duration": 17,
    "start_time": "2022-06-09T20:54:50.835Z"
   },
   {
    "duration": 8,
    "start_time": "2022-06-09T20:54:50.854Z"
   },
   {
    "duration": 8,
    "start_time": "2022-06-09T20:54:50.864Z"
   },
   {
    "duration": 291,
    "start_time": "2022-06-09T20:54:50.874Z"
   },
   {
    "duration": 204,
    "start_time": "2022-06-09T20:54:51.166Z"
   },
   {
    "duration": 298,
    "start_time": "2022-06-09T20:54:51.371Z"
   },
   {
    "duration": 11,
    "start_time": "2022-06-09T20:54:51.671Z"
   },
   {
    "duration": 283,
    "start_time": "2022-06-09T20:54:51.683Z"
   },
   {
    "duration": 197,
    "start_time": "2022-06-09T20:54:51.968Z"
   },
   {
    "duration": 171,
    "start_time": "2022-06-09T20:55:14.148Z"
   },
   {
    "duration": 212,
    "start_time": "2022-06-09T20:55:29.423Z"
   },
   {
    "duration": 9,
    "start_time": "2022-06-09T21:01:04.417Z"
   },
   {
    "duration": 147,
    "start_time": "2022-06-09T21:08:03.757Z"
   },
   {
    "duration": 176,
    "start_time": "2022-06-09T21:08:24.809Z"
   },
   {
    "duration": 141,
    "start_time": "2022-06-09T21:08:49.237Z"
   },
   {
    "duration": 195,
    "start_time": "2022-06-09T21:09:04.125Z"
   },
   {
    "duration": 201,
    "start_time": "2022-06-09T21:10:10.401Z"
   },
   {
    "duration": 52,
    "start_time": "2022-06-09T21:12:28.042Z"
   },
   {
    "duration": 55,
    "start_time": "2022-06-09T21:13:03.988Z"
   },
   {
    "duration": 51,
    "start_time": "2022-06-09T21:14:30.588Z"
   },
   {
    "duration": 2,
    "start_time": "2022-06-09T21:14:42.160Z"
   },
   {
    "duration": 79,
    "start_time": "2022-06-09T21:14:42.164Z"
   },
   {
    "duration": 5,
    "start_time": "2022-06-09T21:14:42.245Z"
   },
   {
    "duration": 65,
    "start_time": "2022-06-09T21:14:42.251Z"
   },
   {
    "duration": 3,
    "start_time": "2022-06-09T21:14:42.318Z"
   },
   {
    "duration": 46,
    "start_time": "2022-06-09T21:14:42.323Z"
   },
   {
    "duration": 5,
    "start_time": "2022-06-09T21:14:42.371Z"
   },
   {
    "duration": 27,
    "start_time": "2022-06-09T21:14:42.377Z"
   },
   {
    "duration": 19,
    "start_time": "2022-06-09T21:14:42.407Z"
   },
   {
    "duration": 46,
    "start_time": "2022-06-09T21:14:42.428Z"
   },
   {
    "duration": 4,
    "start_time": "2022-06-09T21:14:42.476Z"
   },
   {
    "duration": 11,
    "start_time": "2022-06-09T21:14:42.482Z"
   },
   {
    "duration": 5,
    "start_time": "2022-06-09T21:14:42.494Z"
   },
   {
    "duration": 11,
    "start_time": "2022-06-09T21:14:42.500Z"
   },
   {
    "duration": 16,
    "start_time": "2022-06-09T21:14:42.512Z"
   },
   {
    "duration": 23,
    "start_time": "2022-06-09T21:14:42.530Z"
   },
   {
    "duration": 14,
    "start_time": "2022-06-09T21:14:42.555Z"
   },
   {
    "duration": 14,
    "start_time": "2022-06-09T21:14:42.571Z"
   },
   {
    "duration": 9,
    "start_time": "2022-06-09T21:14:42.587Z"
   },
   {
    "duration": 8,
    "start_time": "2022-06-09T21:14:42.597Z"
   },
   {
    "duration": 19,
    "start_time": "2022-06-09T21:14:42.607Z"
   },
   {
    "duration": 7,
    "start_time": "2022-06-09T21:14:42.628Z"
   },
   {
    "duration": 14,
    "start_time": "2022-06-09T21:14:42.637Z"
   },
   {
    "duration": 283,
    "start_time": "2022-06-09T21:14:42.652Z"
   },
   {
    "duration": 297,
    "start_time": "2022-06-09T21:14:42.937Z"
   },
   {
    "duration": 192,
    "start_time": "2022-06-09T21:14:43.236Z"
   },
   {
    "duration": 13,
    "start_time": "2022-06-09T21:14:43.430Z"
   },
   {
    "duration": 297,
    "start_time": "2022-06-09T21:14:43.445Z"
   },
   {
    "duration": 203,
    "start_time": "2022-06-09T21:14:43.747Z"
   },
   {
    "duration": 191,
    "start_time": "2022-06-09T21:15:25.701Z"
   },
   {
    "duration": 202,
    "start_time": "2022-06-09T21:15:39.115Z"
   },
   {
    "duration": 188,
    "start_time": "2022-06-09T21:16:42.176Z"
   },
   {
    "duration": 183,
    "start_time": "2022-06-09T21:17:34.633Z"
   },
   {
    "duration": 184,
    "start_time": "2022-06-09T21:18:49.079Z"
   },
   {
    "duration": 167,
    "start_time": "2022-06-09T21:24:22.512Z"
   },
   {
    "duration": 193,
    "start_time": "2022-06-09T21:24:36.956Z"
   },
   {
    "duration": 194,
    "start_time": "2022-06-09T21:25:06.776Z"
   },
   {
    "duration": 222,
    "start_time": "2022-06-09T21:25:13.875Z"
   },
   {
    "duration": 12,
    "start_time": "2022-06-09T21:26:54.663Z"
   },
   {
    "duration": 11,
    "start_time": "2022-06-09T21:29:10.974Z"
   },
   {
    "duration": 35,
    "start_time": "2022-06-09T21:29:47.531Z"
   },
   {
    "duration": 226,
    "start_time": "2022-06-09T21:30:36.330Z"
   },
   {
    "duration": 37,
    "start_time": "2022-06-09T21:30:59.449Z"
   },
   {
    "duration": 12,
    "start_time": "2022-06-09T21:32:38.593Z"
   },
   {
    "duration": 11,
    "start_time": "2022-06-09T21:33:18.202Z"
   },
   {
    "duration": 12,
    "start_time": "2022-06-09T21:33:29.736Z"
   },
   {
    "duration": 198,
    "start_time": "2022-06-09T21:34:37.661Z"
   },
   {
    "duration": 209,
    "start_time": "2022-06-09T21:34:50.336Z"
   },
   {
    "duration": 3,
    "start_time": "2022-06-09T21:36:49.462Z"
   },
   {
    "duration": 3,
    "start_time": "2022-06-09T21:36:54.516Z"
   },
   {
    "duration": 88,
    "start_time": "2022-06-09T21:36:54.521Z"
   },
   {
    "duration": 3,
    "start_time": "2022-06-09T21:36:54.611Z"
   },
   {
    "duration": 35,
    "start_time": "2022-06-09T21:36:54.616Z"
   },
   {
    "duration": 3,
    "start_time": "2022-06-09T21:36:54.654Z"
   },
   {
    "duration": 25,
    "start_time": "2022-06-09T21:36:54.659Z"
   },
   {
    "duration": 3,
    "start_time": "2022-06-09T21:36:54.686Z"
   },
   {
    "duration": 6,
    "start_time": "2022-06-09T21:36:54.690Z"
   },
   {
    "duration": 30,
    "start_time": "2022-06-09T21:36:54.698Z"
   },
   {
    "duration": 22,
    "start_time": "2022-06-09T21:36:54.730Z"
   },
   {
    "duration": 9,
    "start_time": "2022-06-09T21:36:54.754Z"
   },
   {
    "duration": 15,
    "start_time": "2022-06-09T21:36:54.764Z"
   },
   {
    "duration": 8,
    "start_time": "2022-06-09T21:36:54.780Z"
   },
   {
    "duration": 9,
    "start_time": "2022-06-09T21:36:54.789Z"
   },
   {
    "duration": 37,
    "start_time": "2022-06-09T21:36:54.799Z"
   },
   {
    "duration": 19,
    "start_time": "2022-06-09T21:36:54.838Z"
   },
   {
    "duration": 12,
    "start_time": "2022-06-09T21:36:54.859Z"
   },
   {
    "duration": 9,
    "start_time": "2022-06-09T21:36:54.873Z"
   },
   {
    "duration": 5,
    "start_time": "2022-06-09T21:36:54.884Z"
   },
   {
    "duration": 11,
    "start_time": "2022-06-09T21:36:54.890Z"
   },
   {
    "duration": 29,
    "start_time": "2022-06-09T21:36:54.902Z"
   },
   {
    "duration": 12,
    "start_time": "2022-06-09T21:36:54.933Z"
   },
   {
    "duration": 13,
    "start_time": "2022-06-09T21:36:54.946Z"
   },
   {
    "duration": 278,
    "start_time": "2022-06-09T21:36:54.962Z"
   },
   {
    "duration": 225,
    "start_time": "2022-06-09T21:36:55.243Z"
   },
   {
    "duration": 213,
    "start_time": "2022-06-09T21:36:55.470Z"
   },
   {
    "duration": 14,
    "start_time": "2022-06-09T21:36:55.685Z"
   },
   {
    "duration": 324,
    "start_time": "2022-06-09T21:36:55.701Z"
   },
   {
    "duration": 206,
    "start_time": "2022-06-09T21:36:56.027Z"
   },
   {
    "duration": 206,
    "start_time": "2022-06-09T21:39:43.125Z"
   },
   {
    "duration": 254,
    "start_time": "2022-06-09T21:41:02.857Z"
   },
   {
    "duration": 244,
    "start_time": "2022-06-09T21:41:41.922Z"
   },
   {
    "duration": 3,
    "start_time": "2022-06-09T21:43:55.661Z"
   },
   {
    "duration": 74,
    "start_time": "2022-06-09T21:43:55.666Z"
   },
   {
    "duration": 6,
    "start_time": "2022-06-09T21:43:55.742Z"
   },
   {
    "duration": 20,
    "start_time": "2022-06-09T21:43:55.750Z"
   },
   {
    "duration": 2,
    "start_time": "2022-06-09T21:43:55.772Z"
   },
   {
    "duration": 25,
    "start_time": "2022-06-09T21:43:55.776Z"
   },
   {
    "duration": 3,
    "start_time": "2022-06-09T21:43:55.802Z"
   },
   {
    "duration": 6,
    "start_time": "2022-06-09T21:43:55.807Z"
   },
   {
    "duration": 16,
    "start_time": "2022-06-09T21:43:55.815Z"
   },
   {
    "duration": 18,
    "start_time": "2022-06-09T21:43:55.832Z"
   },
   {
    "duration": 3,
    "start_time": "2022-06-09T21:43:55.851Z"
   },
   {
    "duration": 10,
    "start_time": "2022-06-09T21:43:55.855Z"
   },
   {
    "duration": 5,
    "start_time": "2022-06-09T21:43:55.866Z"
   },
   {
    "duration": 7,
    "start_time": "2022-06-09T21:43:55.872Z"
   },
   {
    "duration": 9,
    "start_time": "2022-06-09T21:43:55.881Z"
   },
   {
    "duration": 45,
    "start_time": "2022-06-09T21:43:55.892Z"
   },
   {
    "duration": 12,
    "start_time": "2022-06-09T21:43:55.939Z"
   },
   {
    "duration": 9,
    "start_time": "2022-06-09T21:43:55.953Z"
   },
   {
    "duration": 4,
    "start_time": "2022-06-09T21:43:55.963Z"
   },
   {
    "duration": 6,
    "start_time": "2022-06-09T21:43:55.969Z"
   },
   {
    "duration": 6,
    "start_time": "2022-06-09T21:43:55.976Z"
   },
   {
    "duration": 6,
    "start_time": "2022-06-09T21:43:55.983Z"
   },
   {
    "duration": 40,
    "start_time": "2022-06-09T21:43:55.990Z"
   },
   {
    "duration": 262,
    "start_time": "2022-06-09T21:43:56.033Z"
   },
   {
    "duration": 191,
    "start_time": "2022-06-09T21:43:56.297Z"
   },
   {
    "duration": 305,
    "start_time": "2022-06-09T21:43:56.490Z"
   },
   {
    "duration": 11,
    "start_time": "2022-06-09T21:43:56.797Z"
   },
   {
    "duration": 300,
    "start_time": "2022-06-09T21:43:56.810Z"
   },
   {
    "duration": 251,
    "start_time": "2022-06-09T21:43:57.111Z"
   },
   {
    "duration": 270,
    "start_time": "2022-06-09T21:44:42.414Z"
   },
   {
    "duration": 11,
    "start_time": "2022-06-09T21:46:15.156Z"
   },
   {
    "duration": 11,
    "start_time": "2022-06-09T21:46:27.637Z"
   },
   {
    "duration": 251,
    "start_time": "2022-06-09T21:47:47.312Z"
   },
   {
    "duration": 256,
    "start_time": "2022-06-09T21:50:20.672Z"
   },
   {
    "duration": 264,
    "start_time": "2022-06-09T21:50:41.119Z"
   },
   {
    "duration": 250,
    "start_time": "2022-06-09T21:50:52.890Z"
   },
   {
    "duration": 3,
    "start_time": "2022-06-09T21:51:06.150Z"
   },
   {
    "duration": 84,
    "start_time": "2022-06-09T21:51:06.155Z"
   },
   {
    "duration": 4,
    "start_time": "2022-06-09T21:51:06.241Z"
   },
   {
    "duration": 20,
    "start_time": "2022-06-09T21:51:06.247Z"
   },
   {
    "duration": 2,
    "start_time": "2022-06-09T21:51:06.269Z"
   },
   {
    "duration": 23,
    "start_time": "2022-06-09T21:51:06.273Z"
   },
   {
    "duration": 3,
    "start_time": "2022-06-09T21:51:06.297Z"
   },
   {
    "duration": 8,
    "start_time": "2022-06-09T21:51:06.302Z"
   },
   {
    "duration": 18,
    "start_time": "2022-06-09T21:51:06.312Z"
   },
   {
    "duration": 25,
    "start_time": "2022-06-09T21:51:06.332Z"
   },
   {
    "duration": 3,
    "start_time": "2022-06-09T21:51:06.359Z"
   },
   {
    "duration": 12,
    "start_time": "2022-06-09T21:51:06.363Z"
   },
   {
    "duration": 6,
    "start_time": "2022-06-09T21:51:06.376Z"
   },
   {
    "duration": 10,
    "start_time": "2022-06-09T21:51:06.383Z"
   },
   {
    "duration": 40,
    "start_time": "2022-06-09T21:51:06.394Z"
   },
   {
    "duration": 12,
    "start_time": "2022-06-09T21:51:06.436Z"
   },
   {
    "duration": 16,
    "start_time": "2022-06-09T21:51:06.449Z"
   },
   {
    "duration": 13,
    "start_time": "2022-06-09T21:51:06.467Z"
   },
   {
    "duration": 15,
    "start_time": "2022-06-09T21:51:06.482Z"
   },
   {
    "duration": 53,
    "start_time": "2022-06-09T21:51:06.499Z"
   },
   {
    "duration": 12,
    "start_time": "2022-06-09T21:51:06.554Z"
   },
   {
    "duration": 9,
    "start_time": "2022-06-09T21:51:06.568Z"
   },
   {
    "duration": 19,
    "start_time": "2022-06-09T21:51:06.579Z"
   },
   {
    "duration": 265,
    "start_time": "2022-06-09T21:51:06.601Z"
   },
   {
    "duration": 206,
    "start_time": "2022-06-09T21:51:06.868Z"
   },
   {
    "duration": 199,
    "start_time": "2022-06-09T21:51:07.076Z"
   },
   {
    "duration": 14,
    "start_time": "2022-06-09T21:51:07.277Z"
   },
   {
    "duration": 410,
    "start_time": "2022-06-09T21:51:07.292Z"
   },
   {
    "duration": 264,
    "start_time": "2022-06-09T21:51:07.704Z"
   },
   {
    "duration": 279,
    "start_time": "2022-06-09T21:56:09.550Z"
   },
   {
    "duration": 16,
    "start_time": "2022-06-09T21:56:54.227Z"
   },
   {
    "duration": 14,
    "start_time": "2022-06-09T21:57:05.619Z"
   },
   {
    "duration": 123,
    "start_time": "2022-06-09T21:59:29.136Z"
   },
   {
    "duration": 130,
    "start_time": "2022-06-09T21:59:57.980Z"
   },
   {
    "duration": 524,
    "start_time": "2022-06-09T22:00:10.811Z"
   },
   {
    "duration": 356,
    "start_time": "2022-06-09T22:00:50.589Z"
   },
   {
    "duration": 258,
    "start_time": "2022-06-09T22:03:04.145Z"
   },
   {
    "duration": 245,
    "start_time": "2022-06-09T22:06:41.313Z"
   },
   {
    "duration": 344,
    "start_time": "2022-06-09T22:09:21.503Z"
   },
   {
    "duration": 343,
    "start_time": "2022-06-09T22:11:45.102Z"
   },
   {
    "duration": 286,
    "start_time": "2022-06-09T22:15:57.277Z"
   },
   {
    "duration": 153,
    "start_time": "2022-06-09T22:16:23.052Z"
   },
   {
    "duration": 168,
    "start_time": "2022-06-09T22:22:09.454Z"
   },
   {
    "duration": 127,
    "start_time": "2022-06-09T22:23:14.737Z"
   },
   {
    "duration": 195,
    "start_time": "2022-06-09T22:23:53.470Z"
   },
   {
    "duration": 191,
    "start_time": "2022-06-09T22:25:07.127Z"
   },
   {
    "duration": 11,
    "start_time": "2022-06-09T22:25:55.571Z"
   },
   {
    "duration": 5,
    "start_time": "2022-06-09T22:27:43.578Z"
   },
   {
    "duration": 126,
    "start_time": "2022-06-09T22:29:05.384Z"
   },
   {
    "duration": 134,
    "start_time": "2022-06-09T22:29:16.679Z"
   },
   {
    "duration": 141,
    "start_time": "2022-06-09T22:29:23.757Z"
   },
   {
    "duration": 5,
    "start_time": "2022-06-09T22:30:08.549Z"
   },
   {
    "duration": 16,
    "start_time": "2022-06-09T22:37:05.885Z"
   },
   {
    "duration": 34,
    "start_time": "2022-06-09T22:37:19.677Z"
   },
   {
    "duration": 32,
    "start_time": "2022-06-09T22:37:36.229Z"
   },
   {
    "duration": 7,
    "start_time": "2022-06-09T22:37:48.682Z"
   },
   {
    "duration": 7,
    "start_time": "2022-06-09T22:38:08.396Z"
   },
   {
    "duration": 13,
    "start_time": "2022-06-09T22:44:05.011Z"
   },
   {
    "duration": 20,
    "start_time": "2022-06-09T22:44:33.962Z"
   },
   {
    "duration": 15,
    "start_time": "2022-06-09T22:44:43.869Z"
   },
   {
    "duration": 16,
    "start_time": "2022-06-09T22:45:47.652Z"
   },
   {
    "duration": 6,
    "start_time": "2022-06-09T22:49:23.573Z"
   },
   {
    "duration": 34,
    "start_time": "2022-06-09T22:50:44.943Z"
   },
   {
    "duration": 34,
    "start_time": "2022-06-09T22:53:25.989Z"
   },
   {
    "duration": 35,
    "start_time": "2022-06-09T22:53:42.247Z"
   },
   {
    "duration": 18,
    "start_time": "2022-06-09T22:55:36.267Z"
   },
   {
    "duration": 16,
    "start_time": "2022-06-09T22:56:02.445Z"
   },
   {
    "duration": 482,
    "start_time": "2022-06-09T22:56:33.877Z"
   },
   {
    "duration": 50,
    "start_time": "2022-06-09T22:58:24.570Z"
   },
   {
    "duration": 20,
    "start_time": "2022-06-09T22:58:32.385Z"
   },
   {
    "duration": 440,
    "start_time": "2022-06-09T22:59:57.050Z"
   },
   {
    "duration": 3,
    "start_time": "2022-06-09T23:00:36.430Z"
   },
   {
    "duration": 202,
    "start_time": "2022-06-09T23:00:36.436Z"
   },
   {
    "duration": 6,
    "start_time": "2022-06-09T23:00:36.639Z"
   },
   {
    "duration": 24,
    "start_time": "2022-06-09T23:00:36.647Z"
   },
   {
    "duration": 6,
    "start_time": "2022-06-09T23:00:36.673Z"
   },
   {
    "duration": 29,
    "start_time": "2022-06-09T23:00:36.680Z"
   },
   {
    "duration": 3,
    "start_time": "2022-06-09T23:00:36.711Z"
   },
   {
    "duration": 8,
    "start_time": "2022-06-09T23:00:36.725Z"
   },
   {
    "duration": 28,
    "start_time": "2022-06-09T23:00:36.735Z"
   },
   {
    "duration": 23,
    "start_time": "2022-06-09T23:00:36.766Z"
   },
   {
    "duration": 19,
    "start_time": "2022-06-09T23:00:36.791Z"
   },
   {
    "duration": 30,
    "start_time": "2022-06-09T23:00:36.811Z"
   },
   {
    "duration": 13,
    "start_time": "2022-06-09T23:00:36.843Z"
   },
   {
    "duration": 15,
    "start_time": "2022-06-09T23:00:36.857Z"
   },
   {
    "duration": 15,
    "start_time": "2022-06-09T23:00:36.874Z"
   },
   {
    "duration": 17,
    "start_time": "2022-06-09T23:00:36.891Z"
   },
   {
    "duration": 20,
    "start_time": "2022-06-09T23:00:36.909Z"
   },
   {
    "duration": 15,
    "start_time": "2022-06-09T23:00:36.931Z"
   },
   {
    "duration": 8,
    "start_time": "2022-06-09T23:00:36.948Z"
   },
   {
    "duration": 12,
    "start_time": "2022-06-09T23:00:36.958Z"
   },
   {
    "duration": 8,
    "start_time": "2022-06-09T23:00:36.972Z"
   },
   {
    "duration": 9,
    "start_time": "2022-06-09T23:00:36.981Z"
   },
   {
    "duration": 7,
    "start_time": "2022-06-09T23:00:36.992Z"
   },
   {
    "duration": 299,
    "start_time": "2022-06-09T23:00:37.001Z"
   },
   {
    "duration": 195,
    "start_time": "2022-06-09T23:00:37.302Z"
   },
   {
    "duration": 194,
    "start_time": "2022-06-09T23:00:37.499Z"
   },
   {
    "duration": 12,
    "start_time": "2022-06-09T23:00:37.695Z"
   },
   {
    "duration": 291,
    "start_time": "2022-06-09T23:00:37.726Z"
   },
   {
    "duration": 213,
    "start_time": "2022-06-09T23:00:38.029Z"
   },
   {
    "duration": 296,
    "start_time": "2022-06-09T23:00:38.244Z"
   },
   {
    "duration": 142,
    "start_time": "2022-06-09T23:00:38.542Z"
   },
   {
    "duration": 4,
    "start_time": "2022-06-09T23:00:38.686Z"
   },
   {
    "duration": 253,
    "start_time": "2022-06-09T23:00:38.691Z"
   },
   {
    "duration": 6,
    "start_time": "2022-06-09T23:00:38.946Z"
   },
   {
    "duration": 531,
    "start_time": "2022-06-09T23:00:38.953Z"
   },
   {
    "duration": 19,
    "start_time": "2022-06-09T23:01:27.442Z"
   },
   {
    "duration": 15,
    "start_time": "2022-06-09T23:01:49.255Z"
   },
   {
    "duration": 20,
    "start_time": "2022-06-09T23:06:03.850Z"
   },
   {
    "duration": 21,
    "start_time": "2022-06-09T23:08:22.643Z"
   },
   {
    "duration": 30,
    "start_time": "2022-06-09T23:09:50.370Z"
   },
   {
    "duration": 22,
    "start_time": "2022-06-09T23:10:01.578Z"
   },
   {
    "duration": 23,
    "start_time": "2022-06-09T23:10:28.882Z"
   },
   {
    "duration": 32,
    "start_time": "2022-06-09T23:13:57.018Z"
   },
   {
    "duration": 33,
    "start_time": "2022-06-09T23:14:36.294Z"
   },
   {
    "duration": 32,
    "start_time": "2022-06-09T23:15:10.571Z"
   },
   {
    "duration": 19,
    "start_time": "2022-06-09T23:16:04.461Z"
   },
   {
    "duration": 20,
    "start_time": "2022-06-09T23:17:03.449Z"
   },
   {
    "duration": 19,
    "start_time": "2022-06-09T23:17:25.438Z"
   },
   {
    "duration": 20,
    "start_time": "2022-06-09T23:17:31.069Z"
   },
   {
    "duration": 20,
    "start_time": "2022-06-09T23:18:56.068Z"
   },
   {
    "duration": 1161,
    "start_time": "2022-06-10T05:56:05.823Z"
   },
   {
    "duration": 241,
    "start_time": "2022-06-10T05:56:06.987Z"
   },
   {
    "duration": 5,
    "start_time": "2022-06-10T05:56:07.230Z"
   },
   {
    "duration": 24,
    "start_time": "2022-06-10T05:56:07.236Z"
   },
   {
    "duration": 3,
    "start_time": "2022-06-10T05:56:07.263Z"
   },
   {
    "duration": 24,
    "start_time": "2022-06-10T05:56:07.268Z"
   },
   {
    "duration": 4,
    "start_time": "2022-06-10T05:56:07.294Z"
   },
   {
    "duration": 32,
    "start_time": "2022-06-10T05:56:07.299Z"
   },
   {
    "duration": 16,
    "start_time": "2022-06-10T05:56:07.332Z"
   },
   {
    "duration": 20,
    "start_time": "2022-06-10T05:56:07.350Z"
   },
   {
    "duration": 3,
    "start_time": "2022-06-10T05:56:07.372Z"
   },
   {
    "duration": 11,
    "start_time": "2022-06-10T05:56:07.376Z"
   },
   {
    "duration": 6,
    "start_time": "2022-06-10T05:56:07.388Z"
   },
   {
    "duration": 31,
    "start_time": "2022-06-10T05:56:07.396Z"
   },
   {
    "duration": 11,
    "start_time": "2022-06-10T05:56:07.429Z"
   },
   {
    "duration": 30,
    "start_time": "2022-06-10T05:56:07.442Z"
   },
   {
    "duration": 27,
    "start_time": "2022-06-10T05:56:07.473Z"
   },
   {
    "duration": 22,
    "start_time": "2022-06-10T05:56:07.502Z"
   },
   {
    "duration": 34,
    "start_time": "2022-06-10T05:56:07.525Z"
   },
   {
    "duration": 22,
    "start_time": "2022-06-10T05:56:07.561Z"
   },
   {
    "duration": 20,
    "start_time": "2022-06-10T05:56:07.584Z"
   },
   {
    "duration": 25,
    "start_time": "2022-06-10T05:56:07.606Z"
   },
   {
    "duration": 20,
    "start_time": "2022-06-10T05:56:07.632Z"
   },
   {
    "duration": 275,
    "start_time": "2022-06-10T05:56:07.653Z"
   },
   {
    "duration": 267,
    "start_time": "2022-06-10T05:56:07.930Z"
   },
   {
    "duration": 201,
    "start_time": "2022-06-10T05:56:08.199Z"
   },
   {
    "duration": 13,
    "start_time": "2022-06-10T05:56:08.402Z"
   },
   {
    "duration": 432,
    "start_time": "2022-06-10T05:56:08.427Z"
   },
   {
    "duration": 398,
    "start_time": "2022-06-10T05:56:08.861Z"
   },
   {
    "duration": 483,
    "start_time": "2022-06-10T05:56:09.261Z"
   },
   {
    "duration": 218,
    "start_time": "2022-06-10T05:56:09.745Z"
   },
   {
    "duration": 3,
    "start_time": "2022-06-10T05:56:09.965Z"
   },
   {
    "duration": 357,
    "start_time": "2022-06-10T05:56:09.970Z"
   },
   {
    "duration": 5,
    "start_time": "2022-06-10T05:56:10.330Z"
   },
   {
    "duration": 21,
    "start_time": "2022-06-10T05:56:10.336Z"
   },
   {
    "duration": 76,
    "start_time": "2022-06-10T05:56:10.359Z"
   },
   {
    "duration": 5,
    "start_time": "2022-06-10T05:56:10.436Z"
   },
   {
    "duration": 7,
    "start_time": "2022-06-10T06:02:16.363Z"
   },
   {
    "duration": 3,
    "start_time": "2022-06-10T06:12:09.875Z"
   },
   {
    "duration": 251,
    "start_time": "2022-06-10T06:15:55.313Z"
   },
   {
    "duration": 4,
    "start_time": "2022-06-10T06:36:15.812Z"
   },
   {
    "duration": 98,
    "start_time": "2022-06-10T06:36:15.819Z"
   },
   {
    "duration": 6,
    "start_time": "2022-06-10T06:36:15.919Z"
   },
   {
    "duration": 72,
    "start_time": "2022-06-10T06:36:15.927Z"
   },
   {
    "duration": 12,
    "start_time": "2022-06-10T06:36:16.002Z"
   },
   {
    "duration": 48,
    "start_time": "2022-06-10T06:36:16.015Z"
   },
   {
    "duration": 14,
    "start_time": "2022-06-10T06:36:16.065Z"
   },
   {
    "duration": 39,
    "start_time": "2022-06-10T06:36:16.080Z"
   },
   {
    "duration": 38,
    "start_time": "2022-06-10T06:36:16.120Z"
   },
   {
    "duration": 28,
    "start_time": "2022-06-10T06:36:16.160Z"
   },
   {
    "duration": 38,
    "start_time": "2022-06-10T06:36:16.189Z"
   },
   {
    "duration": 49,
    "start_time": "2022-06-10T06:36:16.229Z"
   },
   {
    "duration": 76,
    "start_time": "2022-06-10T06:36:16.280Z"
   },
   {
    "duration": 53,
    "start_time": "2022-06-10T06:36:16.361Z"
   },
   {
    "duration": 46,
    "start_time": "2022-06-10T06:36:16.415Z"
   },
   {
    "duration": 66,
    "start_time": "2022-06-10T06:36:16.464Z"
   },
   {
    "duration": 20,
    "start_time": "2022-06-10T06:36:16.532Z"
   },
   {
    "duration": 52,
    "start_time": "2022-06-10T06:36:16.555Z"
   },
   {
    "duration": 38,
    "start_time": "2022-06-10T06:36:16.609Z"
   },
   {
    "duration": 58,
    "start_time": "2022-06-10T06:36:16.649Z"
   },
   {
    "duration": 21,
    "start_time": "2022-06-10T06:36:16.709Z"
   },
   {
    "duration": 45,
    "start_time": "2022-06-10T06:36:16.731Z"
   },
   {
    "duration": 288,
    "start_time": "2022-06-10T06:36:16.777Z"
   },
   {
    "duration": 195,
    "start_time": "2022-06-10T06:36:17.067Z"
   },
   {
    "duration": 298,
    "start_time": "2022-06-10T06:36:17.264Z"
   },
   {
    "duration": 13,
    "start_time": "2022-06-10T06:36:17.563Z"
   },
   {
    "duration": 353,
    "start_time": "2022-06-10T06:36:17.578Z"
   },
   {
    "duration": 206,
    "start_time": "2022-06-10T06:36:17.934Z"
   },
   {
    "duration": 275,
    "start_time": "2022-06-10T06:36:18.142Z"
   },
   {
    "duration": 131,
    "start_time": "2022-06-10T06:36:18.419Z"
   },
   {
    "duration": 5,
    "start_time": "2022-06-10T06:36:18.551Z"
   },
   {
    "duration": 158,
    "start_time": "2022-06-10T06:36:18.557Z"
   },
   {
    "duration": 11,
    "start_time": "2022-06-10T06:36:18.716Z"
   },
   {
    "duration": 47,
    "start_time": "2022-06-10T06:36:18.728Z"
   },
   {
    "duration": 43,
    "start_time": "2022-06-10T06:36:18.777Z"
   },
   {
    "duration": 17,
    "start_time": "2022-06-10T06:36:18.822Z"
   },
   {
    "duration": 13,
    "start_time": "2022-06-10T06:37:08.424Z"
   },
   {
    "duration": 114,
    "start_time": "2022-06-10T06:59:59.522Z"
   },
   {
    "duration": 5,
    "start_time": "2022-06-10T07:00:11.641Z"
   },
   {
    "duration": 121,
    "start_time": "2022-06-10T07:00:31.147Z"
   },
   {
    "duration": 4,
    "start_time": "2022-06-10T07:00:35.575Z"
   },
   {
    "duration": 108,
    "start_time": "2022-06-10T07:01:24.343Z"
   },
   {
    "duration": 124,
    "start_time": "2022-06-10T07:02:58.916Z"
   },
   {
    "duration": 5,
    "start_time": "2022-06-10T07:19:05.267Z"
   },
   {
    "duration": 20,
    "start_time": "2022-06-10T07:38:25.770Z"
   },
   {
    "duration": 20,
    "start_time": "2022-06-10T07:39:57.443Z"
   },
   {
    "duration": 18,
    "start_time": "2022-06-10T07:44:09.322Z"
   },
   {
    "duration": 9,
    "start_time": "2022-06-10T07:54:17.432Z"
   },
   {
    "duration": 95,
    "start_time": "2022-06-10T07:56:27.186Z"
   },
   {
    "duration": 11,
    "start_time": "2022-06-10T07:57:08.513Z"
   },
   {
    "duration": 10,
    "start_time": "2022-06-10T07:57:54.946Z"
   },
   {
    "duration": 11,
    "start_time": "2022-06-10T07:59:39.849Z"
   },
   {
    "duration": 12,
    "start_time": "2022-06-10T08:00:28.247Z"
   },
   {
    "duration": 5,
    "start_time": "2022-06-10T08:11:28.738Z"
   },
   {
    "duration": 8,
    "start_time": "2022-06-10T08:11:38.896Z"
   },
   {
    "duration": 7,
    "start_time": "2022-06-10T08:12:03.827Z"
   },
   {
    "duration": 333,
    "start_time": "2022-06-10T08:13:40.260Z"
   },
   {
    "duration": 5,
    "start_time": "2022-06-10T08:14:00.047Z"
   },
   {
    "duration": 33,
    "start_time": "2022-06-10T08:17:01.802Z"
   },
   {
    "duration": 3,
    "start_time": "2022-06-10T08:17:08.234Z"
   },
   {
    "duration": 5,
    "start_time": "2022-06-10T08:17:22.880Z"
   },
   {
    "duration": 9,
    "start_time": "2022-06-10T08:18:07.396Z"
   },
   {
    "duration": 9,
    "start_time": "2022-06-10T08:20:37.004Z"
   },
   {
    "duration": 9,
    "start_time": "2022-06-10T08:21:48.250Z"
   },
   {
    "duration": 6,
    "start_time": "2022-06-10T08:28:19.310Z"
   },
   {
    "duration": 8,
    "start_time": "2022-06-10T08:29:20.161Z"
   },
   {
    "duration": 22,
    "start_time": "2022-06-10T08:30:14.150Z"
   },
   {
    "duration": 22,
    "start_time": "2022-06-10T08:30:33.805Z"
   },
   {
    "duration": 24,
    "start_time": "2022-06-10T08:30:34.231Z"
   },
   {
    "duration": 24,
    "start_time": "2022-06-10T08:31:09.289Z"
   },
   {
    "duration": 21,
    "start_time": "2022-06-10T08:31:49.539Z"
   },
   {
    "duration": 12,
    "start_time": "2022-06-10T08:33:45.514Z"
   },
   {
    "duration": 22,
    "start_time": "2022-06-10T08:45:54.217Z"
   },
   {
    "duration": 24,
    "start_time": "2022-06-10T08:46:46.864Z"
   },
   {
    "duration": 18,
    "start_time": "2022-06-10T08:50:47.040Z"
   },
   {
    "duration": 12,
    "start_time": "2022-06-10T09:00:04.290Z"
   },
   {
    "duration": 14,
    "start_time": "2022-06-10T09:01:07.350Z"
   },
   {
    "duration": 9,
    "start_time": "2022-06-10T09:30:44.110Z"
   },
   {
    "duration": 10,
    "start_time": "2022-06-10T09:32:06.386Z"
   },
   {
    "duration": 963,
    "start_time": "2022-06-10T10:30:47.288Z"
   },
   {
    "duration": 122,
    "start_time": "2022-06-10T10:30:48.253Z"
   },
   {
    "duration": 4,
    "start_time": "2022-06-10T10:30:48.376Z"
   },
   {
    "duration": 52,
    "start_time": "2022-06-10T10:30:48.382Z"
   },
   {
    "duration": 3,
    "start_time": "2022-06-10T10:30:48.437Z"
   },
   {
    "duration": 39,
    "start_time": "2022-06-10T10:30:48.441Z"
   },
   {
    "duration": 9,
    "start_time": "2022-06-10T10:30:48.482Z"
   },
   {
    "duration": 19,
    "start_time": "2022-06-10T10:30:48.492Z"
   },
   {
    "duration": 43,
    "start_time": "2022-06-10T10:30:48.512Z"
   },
   {
    "duration": 4,
    "start_time": "2022-06-10T10:30:48.557Z"
   },
   {
    "duration": 24,
    "start_time": "2022-06-10T10:30:48.562Z"
   },
   {
    "duration": 21,
    "start_time": "2022-06-10T10:30:48.588Z"
   },
   {
    "duration": 26,
    "start_time": "2022-06-10T10:30:48.611Z"
   },
   {
    "duration": 21,
    "start_time": "2022-06-10T10:30:48.640Z"
   },
   {
    "duration": 26,
    "start_time": "2022-06-10T10:30:48.662Z"
   },
   {
    "duration": 33,
    "start_time": "2022-06-10T10:30:48.689Z"
   },
   {
    "duration": 18,
    "start_time": "2022-06-10T10:30:48.724Z"
   },
   {
    "duration": 24,
    "start_time": "2022-06-10T10:30:48.744Z"
   },
   {
    "duration": 26,
    "start_time": "2022-06-10T10:30:48.770Z"
   },
   {
    "duration": 33,
    "start_time": "2022-06-10T10:30:48.797Z"
   },
   {
    "duration": 18,
    "start_time": "2022-06-10T10:30:48.832Z"
   },
   {
    "duration": 25,
    "start_time": "2022-06-10T10:30:48.852Z"
   },
   {
    "duration": 266,
    "start_time": "2022-06-10T10:30:48.879Z"
   },
   {
    "duration": 283,
    "start_time": "2022-06-10T10:30:49.147Z"
   },
   {
    "duration": 195,
    "start_time": "2022-06-10T10:30:49.432Z"
   },
   {
    "duration": 12,
    "start_time": "2022-06-10T10:30:49.629Z"
   },
   {
    "duration": 275,
    "start_time": "2022-06-10T10:30:49.643Z"
   },
   {
    "duration": 202,
    "start_time": "2022-06-10T10:30:49.919Z"
   },
   {
    "duration": 286,
    "start_time": "2022-06-10T10:30:50.127Z"
   },
   {
    "duration": 146,
    "start_time": "2022-06-10T10:30:50.415Z"
   },
   {
    "duration": 4,
    "start_time": "2022-06-10T10:30:50.563Z"
   },
   {
    "duration": 152,
    "start_time": "2022-06-10T10:30:50.568Z"
   },
   {
    "duration": 8,
    "start_time": "2022-06-10T10:30:50.721Z"
   },
   {
    "duration": 18,
    "start_time": "2022-06-10T10:30:50.730Z"
   },
   {
    "duration": 22,
    "start_time": "2022-06-10T10:30:50.749Z"
   },
   {
    "duration": 10,
    "start_time": "2022-06-10T10:30:50.772Z"
   },
   {
    "duration": 10,
    "start_time": "2022-06-10T10:30:50.783Z"
   },
   {
    "duration": 36,
    "start_time": "2022-06-10T10:30:50.794Z"
   },
   {
    "duration": 21,
    "start_time": "2022-06-10T10:30:50.831Z"
   },
   {
    "duration": 7,
    "start_time": "2022-06-10T10:30:50.854Z"
   },
   {
    "duration": 12,
    "start_time": "2022-06-10T10:30:50.864Z"
   },
   {
    "duration": 138,
    "start_time": "2022-06-10T10:36:42.816Z"
   },
   {
    "duration": 4,
    "start_time": "2022-06-10T10:36:52.735Z"
   },
   {
    "duration": 217,
    "start_time": "2022-06-10T10:40:32.347Z"
   },
   {
    "duration": 207,
    "start_time": "2022-06-10T10:40:53.394Z"
   },
   {
    "duration": 4,
    "start_time": "2022-06-10T10:40:58.317Z"
   },
   {
    "duration": 16,
    "start_time": "2022-06-10T10:42:06.094Z"
   },
   {
    "duration": 22,
    "start_time": "2022-06-10T10:42:15.784Z"
   },
   {
    "duration": 10,
    "start_time": "2022-06-10T10:43:35.213Z"
   },
   {
    "duration": 14,
    "start_time": "2022-06-10T10:44:25.934Z"
   },
   {
    "duration": 8,
    "start_time": "2022-06-10T10:44:53.725Z"
   },
   {
    "duration": 22,
    "start_time": "2022-06-10T10:44:56.686Z"
   },
   {
    "duration": 9,
    "start_time": "2022-06-10T10:45:59.010Z"
   },
   {
    "duration": 14,
    "start_time": "2022-06-10T10:47:41.610Z"
   },
   {
    "duration": 995,
    "start_time": "2022-06-10T10:49:43.119Z"
   },
   {
    "duration": 121,
    "start_time": "2022-06-10T10:49:44.116Z"
   },
   {
    "duration": 3,
    "start_time": "2022-06-10T10:49:44.238Z"
   },
   {
    "duration": 27,
    "start_time": "2022-06-10T10:49:44.243Z"
   },
   {
    "duration": 4,
    "start_time": "2022-06-10T10:49:44.272Z"
   },
   {
    "duration": 21,
    "start_time": "2022-06-10T10:49:44.278Z"
   },
   {
    "duration": 4,
    "start_time": "2022-06-10T10:49:44.300Z"
   },
   {
    "duration": 20,
    "start_time": "2022-06-10T10:49:44.306Z"
   },
   {
    "duration": 15,
    "start_time": "2022-06-10T10:49:44.328Z"
   },
   {
    "duration": 3,
    "start_time": "2022-06-10T10:49:44.345Z"
   },
   {
    "duration": 12,
    "start_time": "2022-06-10T10:49:44.349Z"
   },
   {
    "duration": 8,
    "start_time": "2022-06-10T10:49:44.362Z"
   },
   {
    "duration": 10,
    "start_time": "2022-06-10T10:49:44.372Z"
   },
   {
    "duration": 13,
    "start_time": "2022-06-10T10:49:44.385Z"
   },
   {
    "duration": 36,
    "start_time": "2022-06-10T10:49:44.399Z"
   },
   {
    "duration": 18,
    "start_time": "2022-06-10T10:49:44.437Z"
   },
   {
    "duration": 10,
    "start_time": "2022-06-10T10:49:44.457Z"
   },
   {
    "duration": 5,
    "start_time": "2022-06-10T10:49:44.468Z"
   },
   {
    "duration": 8,
    "start_time": "2022-06-10T10:49:44.474Z"
   },
   {
    "duration": 8,
    "start_time": "2022-06-10T10:49:44.483Z"
   },
   {
    "duration": 8,
    "start_time": "2022-06-10T10:49:44.493Z"
   },
   {
    "duration": 5,
    "start_time": "2022-06-10T10:49:44.527Z"
   },
   {
    "duration": 275,
    "start_time": "2022-06-10T10:49:44.533Z"
   },
   {
    "duration": 284,
    "start_time": "2022-06-10T10:49:44.810Z"
   },
   {
    "duration": 191,
    "start_time": "2022-06-10T10:49:45.095Z"
   },
   {
    "duration": 13,
    "start_time": "2022-06-10T10:49:45.288Z"
   },
   {
    "duration": 305,
    "start_time": "2022-06-10T10:49:45.303Z"
   },
   {
    "duration": 214,
    "start_time": "2022-06-10T10:49:45.610Z"
   },
   {
    "duration": 287,
    "start_time": "2022-06-10T10:49:45.826Z"
   },
   {
    "duration": 155,
    "start_time": "2022-06-10T10:49:46.115Z"
   },
   {
    "duration": 5,
    "start_time": "2022-06-10T10:49:46.271Z"
   },
   {
    "duration": 173,
    "start_time": "2022-06-10T10:49:46.278Z"
   },
   {
    "duration": 6,
    "start_time": "2022-06-10T10:49:46.452Z"
   },
   {
    "duration": 33,
    "start_time": "2022-06-10T10:49:46.461Z"
   },
   {
    "duration": 47,
    "start_time": "2022-06-10T10:49:46.496Z"
   },
   {
    "duration": 14,
    "start_time": "2022-06-10T10:49:46.545Z"
   },
   {
    "duration": 22,
    "start_time": "2022-06-10T10:49:46.560Z"
   },
   {
    "duration": 19,
    "start_time": "2022-06-10T10:49:46.584Z"
   },
   {
    "duration": 25,
    "start_time": "2022-06-10T10:49:46.605Z"
   },
   {
    "duration": 9,
    "start_time": "2022-06-10T10:49:46.632Z"
   },
   {
    "duration": 22,
    "start_time": "2022-06-10T10:49:46.644Z"
   },
   {
    "duration": 9,
    "start_time": "2022-06-10T10:52:03.450Z"
   },
   {
    "duration": 16,
    "start_time": "2022-06-10T10:52:03.461Z"
   },
   {
    "duration": 23,
    "start_time": "2022-06-10T10:52:03.478Z"
   },
   {
    "duration": 9,
    "start_time": "2022-06-10T10:52:03.503Z"
   },
   {
    "duration": 15,
    "start_time": "2022-06-10T10:52:03.514Z"
   },
   {
    "duration": 4,
    "start_time": "2022-06-10T10:56:25.823Z"
   },
   {
    "duration": 14,
    "start_time": "2022-06-10T11:00:28.775Z"
   },
   {
    "duration": 997,
    "start_time": "2022-06-10T11:05:08.805Z"
   },
   {
    "duration": 129,
    "start_time": "2022-06-10T11:05:09.803Z"
   },
   {
    "duration": 4,
    "start_time": "2022-06-10T11:05:09.934Z"
   },
   {
    "duration": 53,
    "start_time": "2022-06-10T11:05:09.941Z"
   },
   {
    "duration": 4,
    "start_time": "2022-06-10T11:05:09.996Z"
   },
   {
    "duration": 40,
    "start_time": "2022-06-10T11:05:10.002Z"
   },
   {
    "duration": 3,
    "start_time": "2022-06-10T11:05:10.044Z"
   },
   {
    "duration": 25,
    "start_time": "2022-06-10T11:05:10.049Z"
   },
   {
    "duration": 33,
    "start_time": "2022-06-10T11:05:10.076Z"
   },
   {
    "duration": 5,
    "start_time": "2022-06-10T11:05:10.111Z"
   },
   {
    "duration": 33,
    "start_time": "2022-06-10T11:05:10.118Z"
   },
   {
    "duration": 9,
    "start_time": "2022-06-10T11:05:10.153Z"
   },
   {
    "duration": 16,
    "start_time": "2022-06-10T11:05:10.163Z"
   },
   {
    "duration": 14,
    "start_time": "2022-06-10T11:05:10.181Z"
   },
   {
    "duration": 12,
    "start_time": "2022-06-10T11:05:10.197Z"
   },
   {
    "duration": 20,
    "start_time": "2022-06-10T11:05:10.210Z"
   },
   {
    "duration": 12,
    "start_time": "2022-06-10T11:05:10.232Z"
   },
   {
    "duration": 15,
    "start_time": "2022-06-10T11:05:10.245Z"
   },
   {
    "duration": 13,
    "start_time": "2022-06-10T11:05:10.261Z"
   },
   {
    "duration": 19,
    "start_time": "2022-06-10T11:05:10.275Z"
   },
   {
    "duration": 19,
    "start_time": "2022-06-10T11:05:10.296Z"
   },
   {
    "duration": 13,
    "start_time": "2022-06-10T11:05:10.316Z"
   },
   {
    "duration": 287,
    "start_time": "2022-06-10T11:05:10.330Z"
   },
   {
    "duration": 272,
    "start_time": "2022-06-10T11:05:10.619Z"
   },
   {
    "duration": 202,
    "start_time": "2022-06-10T11:05:10.892Z"
   },
   {
    "duration": 13,
    "start_time": "2022-06-10T11:05:11.096Z"
   },
   {
    "duration": 323,
    "start_time": "2022-06-10T11:05:11.127Z"
   },
   {
    "duration": 206,
    "start_time": "2022-06-10T11:05:11.453Z"
   },
   {
    "duration": 284,
    "start_time": "2022-06-10T11:05:11.660Z"
   },
   {
    "duration": 156,
    "start_time": "2022-06-10T11:05:11.946Z"
   },
   {
    "duration": 4,
    "start_time": "2022-06-10T11:05:12.103Z"
   },
   {
    "duration": 151,
    "start_time": "2022-06-10T11:05:12.109Z"
   },
   {
    "duration": 4,
    "start_time": "2022-06-10T11:05:12.262Z"
   },
   {
    "duration": 30,
    "start_time": "2022-06-10T11:05:12.267Z"
   },
   {
    "duration": 31,
    "start_time": "2022-06-10T11:05:12.299Z"
   },
   {
    "duration": 10,
    "start_time": "2022-06-10T11:05:12.331Z"
   },
   {
    "duration": 16,
    "start_time": "2022-06-10T11:05:12.342Z"
   },
   {
    "duration": 21,
    "start_time": "2022-06-10T11:05:12.360Z"
   },
   {
    "duration": 23,
    "start_time": "2022-06-10T11:05:12.383Z"
   },
   {
    "duration": 20,
    "start_time": "2022-06-10T11:05:12.408Z"
   },
   {
    "duration": 30,
    "start_time": "2022-06-10T11:05:12.430Z"
   },
   {
    "duration": 6,
    "start_time": "2022-06-10T11:05:57.535Z"
   },
   {
    "duration": 10,
    "start_time": "2022-06-10T11:06:04.776Z"
   },
   {
    "duration": 3,
    "start_time": "2022-06-10T11:08:58.265Z"
   },
   {
    "duration": 83,
    "start_time": "2022-06-10T11:08:58.271Z"
   },
   {
    "duration": 5,
    "start_time": "2022-06-10T11:08:58.356Z"
   },
   {
    "duration": 26,
    "start_time": "2022-06-10T11:08:58.363Z"
   },
   {
    "duration": 4,
    "start_time": "2022-06-10T11:08:58.392Z"
   },
   {
    "duration": 34,
    "start_time": "2022-06-10T11:08:58.398Z"
   },
   {
    "duration": 3,
    "start_time": "2022-06-10T11:08:58.434Z"
   },
   {
    "duration": 14,
    "start_time": "2022-06-10T11:08:58.440Z"
   },
   {
    "duration": 28,
    "start_time": "2022-06-10T11:08:58.456Z"
   },
   {
    "duration": 3,
    "start_time": "2022-06-10T11:08:58.486Z"
   },
   {
    "duration": 13,
    "start_time": "2022-06-10T11:08:58.490Z"
   },
   {
    "duration": 24,
    "start_time": "2022-06-10T11:08:58.504Z"
   },
   {
    "duration": 7,
    "start_time": "2022-06-10T11:08:58.531Z"
   },
   {
    "duration": 13,
    "start_time": "2022-06-10T11:08:58.540Z"
   },
   {
    "duration": 12,
    "start_time": "2022-06-10T11:08:58.555Z"
   },
   {
    "duration": 17,
    "start_time": "2022-06-10T11:08:58.569Z"
   },
   {
    "duration": 41,
    "start_time": "2022-06-10T11:08:58.587Z"
   },
   {
    "duration": 6,
    "start_time": "2022-06-10T11:08:58.629Z"
   },
   {
    "duration": 9,
    "start_time": "2022-06-10T11:08:58.636Z"
   },
   {
    "duration": 9,
    "start_time": "2022-06-10T11:08:58.646Z"
   },
   {
    "duration": 8,
    "start_time": "2022-06-10T11:08:58.656Z"
   },
   {
    "duration": 7,
    "start_time": "2022-06-10T11:08:58.665Z"
   },
   {
    "duration": 304,
    "start_time": "2022-06-10T11:08:58.673Z"
   },
   {
    "duration": 192,
    "start_time": "2022-06-10T11:08:58.978Z"
   },
   {
    "duration": 262,
    "start_time": "2022-06-10T11:08:59.172Z"
   },
   {
    "duration": 13,
    "start_time": "2022-06-10T11:08:59.436Z"
   },
   {
    "duration": 268,
    "start_time": "2022-06-10T11:08:59.451Z"
   },
   {
    "duration": 212,
    "start_time": "2022-06-10T11:08:59.720Z"
   },
   {
    "duration": 322,
    "start_time": "2022-06-10T11:08:59.933Z"
   },
   {
    "duration": 156,
    "start_time": "2022-06-10T11:09:00.256Z"
   },
   {
    "duration": 4,
    "start_time": "2022-06-10T11:09:00.414Z"
   },
   {
    "duration": 144,
    "start_time": "2022-06-10T11:09:00.426Z"
   },
   {
    "duration": 5,
    "start_time": "2022-06-10T11:09:00.573Z"
   },
   {
    "duration": 73,
    "start_time": "2022-06-10T11:09:00.581Z"
   },
   {
    "duration": 46,
    "start_time": "2022-06-10T11:09:00.656Z"
   },
   {
    "duration": 19,
    "start_time": "2022-06-10T11:09:00.704Z"
   },
   {
    "duration": 20,
    "start_time": "2022-06-10T11:09:00.728Z"
   },
   {
    "duration": 63,
    "start_time": "2022-06-10T11:09:00.749Z"
   },
   {
    "duration": 88,
    "start_time": "2022-06-10T11:09:00.814Z"
   },
   {
    "duration": 29,
    "start_time": "2022-06-10T11:09:00.903Z"
   },
   {
    "duration": 46,
    "start_time": "2022-06-10T11:09:00.933Z"
   },
   {
    "duration": 1191,
    "start_time": "2022-06-10T15:33:27.145Z"
   },
   {
    "duration": 244,
    "start_time": "2022-06-10T15:33:28.338Z"
   },
   {
    "duration": 4,
    "start_time": "2022-06-10T15:33:28.584Z"
   },
   {
    "duration": 40,
    "start_time": "2022-06-10T15:33:28.590Z"
   },
   {
    "duration": 3,
    "start_time": "2022-06-10T15:33:28.632Z"
   },
   {
    "duration": 23,
    "start_time": "2022-06-10T15:33:28.637Z"
   },
   {
    "duration": 3,
    "start_time": "2022-06-10T15:33:28.662Z"
   },
   {
    "duration": 9,
    "start_time": "2022-06-10T15:33:28.667Z"
   },
   {
    "duration": 23,
    "start_time": "2022-06-10T15:33:28.678Z"
   },
   {
    "duration": 4,
    "start_time": "2022-06-10T15:33:28.705Z"
   },
   {
    "duration": 13,
    "start_time": "2022-06-10T15:33:28.710Z"
   },
   {
    "duration": 35,
    "start_time": "2022-06-10T15:33:28.725Z"
   },
   {
    "duration": 10,
    "start_time": "2022-06-10T15:33:28.762Z"
   },
   {
    "duration": 16,
    "start_time": "2022-06-10T15:33:28.773Z"
   },
   {
    "duration": 12,
    "start_time": "2022-06-10T15:33:28.791Z"
   },
   {
    "duration": 27,
    "start_time": "2022-06-10T15:33:28.805Z"
   },
   {
    "duration": 38,
    "start_time": "2022-06-10T15:33:28.833Z"
   },
   {
    "duration": 6,
    "start_time": "2022-06-10T15:33:28.872Z"
   },
   {
    "duration": 10,
    "start_time": "2022-06-10T15:33:28.879Z"
   },
   {
    "duration": 14,
    "start_time": "2022-06-10T15:33:28.890Z"
   },
   {
    "duration": 8,
    "start_time": "2022-06-10T15:33:28.906Z"
   },
   {
    "duration": 8,
    "start_time": "2022-06-10T15:33:28.916Z"
   },
   {
    "duration": 308,
    "start_time": "2022-06-10T15:33:28.926Z"
   },
   {
    "duration": 308,
    "start_time": "2022-06-10T15:33:29.236Z"
   },
   {
    "duration": 230,
    "start_time": "2022-06-10T15:33:29.546Z"
   },
   {
    "duration": 14,
    "start_time": "2022-06-10T15:33:29.778Z"
   },
   {
    "duration": 322,
    "start_time": "2022-06-10T15:33:29.794Z"
   },
   {
    "duration": 233,
    "start_time": "2022-06-10T15:33:30.119Z"
   },
   {
    "duration": 312,
    "start_time": "2022-06-10T15:33:30.358Z"
   },
   {
    "duration": 188,
    "start_time": "2022-06-10T15:33:30.673Z"
   },
   {
    "duration": 7,
    "start_time": "2022-06-10T15:33:30.863Z"
   },
   {
    "duration": 175,
    "start_time": "2022-06-10T15:33:30.871Z"
   },
   {
    "duration": 5,
    "start_time": "2022-06-10T15:33:31.047Z"
   },
   {
    "duration": 34,
    "start_time": "2022-06-10T15:33:31.059Z"
   },
   {
    "duration": 35,
    "start_time": "2022-06-10T15:33:31.095Z"
   },
   {
    "duration": 11,
    "start_time": "2022-06-10T15:33:31.132Z"
   },
   {
    "duration": 22,
    "start_time": "2022-06-10T15:33:31.145Z"
   },
   {
    "duration": 21,
    "start_time": "2022-06-10T15:33:31.169Z"
   },
   {
    "duration": 39,
    "start_time": "2022-06-10T15:33:31.192Z"
   },
   {
    "duration": 18,
    "start_time": "2022-06-10T15:33:31.232Z"
   },
   {
    "duration": 29,
    "start_time": "2022-06-10T15:33:31.252Z"
   }
  ],
  "kernelspec": {
   "display_name": "Python 3 (ipykernel)",
   "language": "python",
   "name": "python3"
  },
  "language_info": {
   "codemirror_mode": {
    "name": "ipython",
    "version": 3
   },
   "file_extension": ".py",
   "mimetype": "text/x-python",
   "name": "python",
   "nbconvert_exporter": "python",
   "pygments_lexer": "ipython3",
   "version": "3.9.12"
  },
  "toc": {
   "base_numbering": 1,
   "nav_menu": {},
   "number_sections": true,
   "sideBar": true,
   "skip_h1_title": true,
   "title_cell": "Table of Contents",
   "title_sidebar": "Contents",
   "toc_cell": false,
   "toc_position": {
    "height": "calc(100% - 180px)",
    "left": "10px",
    "top": "150px",
    "width": "293.225px"
   },
   "toc_section_display": true,
   "toc_window_display": false
  }
 },
 "nbformat": 4,
 "nbformat_minor": 2
}
