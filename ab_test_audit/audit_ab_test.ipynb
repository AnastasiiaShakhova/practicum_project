{
 "cells": [
  {
   "cell_type": "markdown",
   "metadata": {},
   "source": [
    "## Оценка результатов A/B-теста.\n",
    "\n",
    "Цели и предоставленные данные"
   ]
  },
  {
   "cell_type": "markdown",
   "metadata": {},
   "source": [
    "**Цель исследования - провести оценку результатов A/B-теста:**\n",
    "- оценить корректность проведения теста\n",
    "- проанализировать результаты теста\n",
    "\n",
    "\n",
    "Для анализа предоставлены: техническое задание, датасет с действиями пользователей и несколько вспомогательных датасетов.\n",
    "\n",
    "**Техническое задание**\n",
    "\n",
    "- Название теста: `recommender_system_test`;\n",
    "- группы: А — контрольная, B — новая платёжная воронка;\n",
    "- дата запуска: 2020-12-07;\n",
    "- дата остановки набора новых пользователей: 2020-12-21;\n",
    "- дата остановки: 2021-01-04;\n",
    "- аудитория: 15% новых пользователей из региона EU;\n",
    "- назначение теста: тестирование изменений, связанных с внедрением улучшенной рекомендательной системы;\n",
    "- ожидаемое количество участников теста: 6000.\n",
    "- ожидаемый эффект: за 14 дней с момента регистрации пользователи покажут улучшение каждой метрики не менее, чем на 10%:\n",
    "    - конверсии в просмотр карточек товаров — событие `product_page`,\n",
    "    - просмотры корзины — `product_cart`,\n",
    "    - покупки — `purchase`.\n",
    "    \n",
    "\n",
    "\n",
    "**Описание данных**\n",
    "\n",
    "**ab_project_marketing_events.csv** — календарь маркетинговых событий на 2020 год.\n",
    "\n",
    "Структура файла:\n",
    "\n",
    "- `name` — название маркетингового события;\n",
    "- `regions` — регионы, в которых будет проводиться рекламная кампания;\n",
    "- `start_dt` — дата начала кампании;\n",
    "- `finish_dt` — дата завершения кампании.\n",
    "\n",
    "**final_ab_new_users.csv** — пользователи, зарегистрировавшиеся с 7 по 21 декабря 2020 года.\n",
    "\n",
    "Структура файла:\n",
    "\n",
    "- `user_id` — идентификатор пользователя;\n",
    "- `first_date` — дата регистрации;\n",
    "- `region` — регион пользователя;\n",
    "- `device` — устройство, с которого происходила регистрация.\n",
    "\n",
    "**final_ab_events.csv** — действия новых пользователей в период с 7 декабря 2020 по 4 января 2021 года.\n",
    "\n",
    "Структура файла:\n",
    "\n",
    "- `user_id` — идентификатор пользователя;\n",
    "- `event_dt` — дата и время покупки;\n",
    "- `event_name` — тип события;\n",
    "- `details` — дополнительные данные о событии. Например, для покупок, `purchase,` в этом поле хранится стоимость покупки в долларах.\n",
    "\n",
    "**final_ab_participants.csv** — таблица участников тестов.\n",
    "\n",
    "Структура файла:\n",
    "\n",
    "- `user_id` — идентификатор пользователя;\n",
    "- `ab_test` — название теста;\n",
    "- `group` — группа пользователя."
   ]
  },
  {
   "cell_type": "code",
   "execution_count": 70,
   "metadata": {},
   "outputs": [],
   "source": [
    "# импорт библиотек\n",
    "import pandas as pd\n",
    "import numpy as np\n",
    "import math as mth\n",
    "from datetime import datetime as dt, timedelta\n",
    "from matplotlib import pyplot as plt\n",
    "from scipy import stats as st\n",
    "import seaborn as sns\n",
    "import plotly.express as px\n",
    "from plotly import graph_objects as go"
   ]
  },
  {
   "cell_type": "code",
   "execution_count": 71,
   "metadata": {},
   "outputs": [],
   "source": [
    "# загружаем данные\n",
    "ab_users = pd.read_csv('/datasets/final_ab_new_users.csv')\n",
    "ab_events = pd.read_csv('/datasets/final_ab_events.csv')\n",
    "marketing_events = pd.read_csv('/datasets/ab_project_marketing_events.csv')\n",
    "ab_participance = pd.read_csv('/datasets/final_ab_participants.csv')"
   ]
  },
  {
   "cell_type": "markdown",
   "metadata": {},
   "source": [
    "## Предобработка данных"
   ]
  },
  {
   "cell_type": "code",
   "execution_count": 72,
   "metadata": {},
   "outputs": [],
   "source": [
    "def preview (data):\n",
    "    '''Обзорная функция по датасету'''\n",
    "    if str(data) == str(ab_users):\n",
    "        print('--------------------------------------------------------')\n",
    "        print('Посмотрим данные ab_users')\n",
    "        print()\n",
    "    elif str(data) == str(marketing_events):\n",
    "        print('--------------------------------------------------------')\n",
    "        print('Посмотрим данные marketing_events')\n",
    "        print()\n",
    "    elif str(data) == str(ab_participance):\n",
    "        print('--------------------------------------------------------')\n",
    "        print('Посмотрим таблицу ab_participance')\n",
    "        print()\n",
    "    else:\n",
    "        print('--------------------------------------------------------')\n",
    "        print('Посмотрим данные ab_events')\n",
    "        print()\n",
    "    data.info()\n",
    "    display(data.head())\n",
    "    print(f'Полных дубликатов -', data.duplicated().sum())"
   ]
  },
  {
   "cell_type": "code",
   "execution_count": 73,
   "metadata": {
    "scrolled": false
   },
   "outputs": [
    {
     "name": "stdout",
     "output_type": "stream",
     "text": [
      "--------------------------------------------------------\n",
      "Посмотрим данные ab_users\n",
      "\n",
      "<class 'pandas.core.frame.DataFrame'>\n",
      "RangeIndex: 61733 entries, 0 to 61732\n",
      "Data columns (total 4 columns):\n",
      " #   Column      Non-Null Count  Dtype \n",
      "---  ------      --------------  ----- \n",
      " 0   user_id     61733 non-null  object\n",
      " 1   first_date  61733 non-null  object\n",
      " 2   region      61733 non-null  object\n",
      " 3   device      61733 non-null  object\n",
      "dtypes: object(4)\n",
      "memory usage: 1.9+ MB\n"
     ]
    },
    {
     "data": {
      "text/html": [
       "<div>\n",
       "<style scoped>\n",
       "    .dataframe tbody tr th:only-of-type {\n",
       "        vertical-align: middle;\n",
       "    }\n",
       "\n",
       "    .dataframe tbody tr th {\n",
       "        vertical-align: top;\n",
       "    }\n",
       "\n",
       "    .dataframe thead th {\n",
       "        text-align: right;\n",
       "    }\n",
       "</style>\n",
       "<table border=\"1\" class=\"dataframe\">\n",
       "  <thead>\n",
       "    <tr style=\"text-align: right;\">\n",
       "      <th></th>\n",
       "      <th>user_id</th>\n",
       "      <th>first_date</th>\n",
       "      <th>region</th>\n",
       "      <th>device</th>\n",
       "    </tr>\n",
       "  </thead>\n",
       "  <tbody>\n",
       "    <tr>\n",
       "      <th>0</th>\n",
       "      <td>D72A72121175D8BE</td>\n",
       "      <td>2020-12-07</td>\n",
       "      <td>EU</td>\n",
       "      <td>PC</td>\n",
       "    </tr>\n",
       "    <tr>\n",
       "      <th>1</th>\n",
       "      <td>F1C668619DFE6E65</td>\n",
       "      <td>2020-12-07</td>\n",
       "      <td>N.America</td>\n",
       "      <td>Android</td>\n",
       "    </tr>\n",
       "    <tr>\n",
       "      <th>2</th>\n",
       "      <td>2E1BF1D4C37EA01F</td>\n",
       "      <td>2020-12-07</td>\n",
       "      <td>EU</td>\n",
       "      <td>PC</td>\n",
       "    </tr>\n",
       "    <tr>\n",
       "      <th>3</th>\n",
       "      <td>50734A22C0C63768</td>\n",
       "      <td>2020-12-07</td>\n",
       "      <td>EU</td>\n",
       "      <td>iPhone</td>\n",
       "    </tr>\n",
       "    <tr>\n",
       "      <th>4</th>\n",
       "      <td>E1BDDCE0DAFA2679</td>\n",
       "      <td>2020-12-07</td>\n",
       "      <td>N.America</td>\n",
       "      <td>iPhone</td>\n",
       "    </tr>\n",
       "  </tbody>\n",
       "</table>\n",
       "</div>"
      ],
      "text/plain": [
       "            user_id  first_date     region   device\n",
       "0  D72A72121175D8BE  2020-12-07         EU       PC\n",
       "1  F1C668619DFE6E65  2020-12-07  N.America  Android\n",
       "2  2E1BF1D4C37EA01F  2020-12-07         EU       PC\n",
       "3  50734A22C0C63768  2020-12-07         EU   iPhone\n",
       "4  E1BDDCE0DAFA2679  2020-12-07  N.America   iPhone"
      ]
     },
     "metadata": {},
     "output_type": "display_data"
    },
    {
     "name": "stdout",
     "output_type": "stream",
     "text": [
      "Полных дубликатов - 0\n",
      "--------------------------------------------------------\n",
      "Посмотрим данные ab_events\n",
      "\n",
      "<class 'pandas.core.frame.DataFrame'>\n",
      "RangeIndex: 440317 entries, 0 to 440316\n",
      "Data columns (total 4 columns):\n",
      " #   Column      Non-Null Count   Dtype  \n",
      "---  ------      --------------   -----  \n",
      " 0   user_id     440317 non-null  object \n",
      " 1   event_dt    440317 non-null  object \n",
      " 2   event_name  440317 non-null  object \n",
      " 3   details     62740 non-null   float64\n",
      "dtypes: float64(1), object(3)\n",
      "memory usage: 13.4+ MB\n"
     ]
    },
    {
     "data": {
      "text/html": [
       "<div>\n",
       "<style scoped>\n",
       "    .dataframe tbody tr th:only-of-type {\n",
       "        vertical-align: middle;\n",
       "    }\n",
       "\n",
       "    .dataframe tbody tr th {\n",
       "        vertical-align: top;\n",
       "    }\n",
       "\n",
       "    .dataframe thead th {\n",
       "        text-align: right;\n",
       "    }\n",
       "</style>\n",
       "<table border=\"1\" class=\"dataframe\">\n",
       "  <thead>\n",
       "    <tr style=\"text-align: right;\">\n",
       "      <th></th>\n",
       "      <th>user_id</th>\n",
       "      <th>event_dt</th>\n",
       "      <th>event_name</th>\n",
       "      <th>details</th>\n",
       "    </tr>\n",
       "  </thead>\n",
       "  <tbody>\n",
       "    <tr>\n",
       "      <th>0</th>\n",
       "      <td>E1BDDCE0DAFA2679</td>\n",
       "      <td>2020-12-07 20:22:03</td>\n",
       "      <td>purchase</td>\n",
       "      <td>99.99</td>\n",
       "    </tr>\n",
       "    <tr>\n",
       "      <th>1</th>\n",
       "      <td>7B6452F081F49504</td>\n",
       "      <td>2020-12-07 09:22:53</td>\n",
       "      <td>purchase</td>\n",
       "      <td>9.99</td>\n",
       "    </tr>\n",
       "    <tr>\n",
       "      <th>2</th>\n",
       "      <td>9CD9F34546DF254C</td>\n",
       "      <td>2020-12-07 12:59:29</td>\n",
       "      <td>purchase</td>\n",
       "      <td>4.99</td>\n",
       "    </tr>\n",
       "    <tr>\n",
       "      <th>3</th>\n",
       "      <td>96F27A054B191457</td>\n",
       "      <td>2020-12-07 04:02:40</td>\n",
       "      <td>purchase</td>\n",
       "      <td>4.99</td>\n",
       "    </tr>\n",
       "    <tr>\n",
       "      <th>4</th>\n",
       "      <td>1FD7660FDF94CA1F</td>\n",
       "      <td>2020-12-07 10:15:09</td>\n",
       "      <td>purchase</td>\n",
       "      <td>4.99</td>\n",
       "    </tr>\n",
       "  </tbody>\n",
       "</table>\n",
       "</div>"
      ],
      "text/plain": [
       "            user_id             event_dt event_name  details\n",
       "0  E1BDDCE0DAFA2679  2020-12-07 20:22:03   purchase    99.99\n",
       "1  7B6452F081F49504  2020-12-07 09:22:53   purchase     9.99\n",
       "2  9CD9F34546DF254C  2020-12-07 12:59:29   purchase     4.99\n",
       "3  96F27A054B191457  2020-12-07 04:02:40   purchase     4.99\n",
       "4  1FD7660FDF94CA1F  2020-12-07 10:15:09   purchase     4.99"
      ]
     },
     "metadata": {},
     "output_type": "display_data"
    },
    {
     "name": "stdout",
     "output_type": "stream",
     "text": [
      "Полных дубликатов - 0\n",
      "--------------------------------------------------------\n",
      "Посмотрим таблицу ab_participance\n",
      "\n",
      "<class 'pandas.core.frame.DataFrame'>\n",
      "RangeIndex: 18268 entries, 0 to 18267\n",
      "Data columns (total 3 columns):\n",
      " #   Column   Non-Null Count  Dtype \n",
      "---  ------   --------------  ----- \n",
      " 0   user_id  18268 non-null  object\n",
      " 1   group    18268 non-null  object\n",
      " 2   ab_test  18268 non-null  object\n",
      "dtypes: object(3)\n",
      "memory usage: 428.3+ KB\n"
     ]
    },
    {
     "data": {
      "text/html": [
       "<div>\n",
       "<style scoped>\n",
       "    .dataframe tbody tr th:only-of-type {\n",
       "        vertical-align: middle;\n",
       "    }\n",
       "\n",
       "    .dataframe tbody tr th {\n",
       "        vertical-align: top;\n",
       "    }\n",
       "\n",
       "    .dataframe thead th {\n",
       "        text-align: right;\n",
       "    }\n",
       "</style>\n",
       "<table border=\"1\" class=\"dataframe\">\n",
       "  <thead>\n",
       "    <tr style=\"text-align: right;\">\n",
       "      <th></th>\n",
       "      <th>user_id</th>\n",
       "      <th>group</th>\n",
       "      <th>ab_test</th>\n",
       "    </tr>\n",
       "  </thead>\n",
       "  <tbody>\n",
       "    <tr>\n",
       "      <th>0</th>\n",
       "      <td>D1ABA3E2887B6A73</td>\n",
       "      <td>A</td>\n",
       "      <td>recommender_system_test</td>\n",
       "    </tr>\n",
       "    <tr>\n",
       "      <th>1</th>\n",
       "      <td>A7A3664BD6242119</td>\n",
       "      <td>A</td>\n",
       "      <td>recommender_system_test</td>\n",
       "    </tr>\n",
       "    <tr>\n",
       "      <th>2</th>\n",
       "      <td>DABC14FDDFADD29E</td>\n",
       "      <td>A</td>\n",
       "      <td>recommender_system_test</td>\n",
       "    </tr>\n",
       "    <tr>\n",
       "      <th>3</th>\n",
       "      <td>04988C5DF189632E</td>\n",
       "      <td>A</td>\n",
       "      <td>recommender_system_test</td>\n",
       "    </tr>\n",
       "    <tr>\n",
       "      <th>4</th>\n",
       "      <td>482F14783456D21B</td>\n",
       "      <td>B</td>\n",
       "      <td>recommender_system_test</td>\n",
       "    </tr>\n",
       "  </tbody>\n",
       "</table>\n",
       "</div>"
      ],
      "text/plain": [
       "            user_id group                  ab_test\n",
       "0  D1ABA3E2887B6A73     A  recommender_system_test\n",
       "1  A7A3664BD6242119     A  recommender_system_test\n",
       "2  DABC14FDDFADD29E     A  recommender_system_test\n",
       "3  04988C5DF189632E     A  recommender_system_test\n",
       "4  482F14783456D21B     B  recommender_system_test"
      ]
     },
     "metadata": {},
     "output_type": "display_data"
    },
    {
     "name": "stdout",
     "output_type": "stream",
     "text": [
      "Полных дубликатов - 0\n",
      "--------------------------------------------------------\n",
      "Посмотрим данные marketing_events\n",
      "\n",
      "<class 'pandas.core.frame.DataFrame'>\n",
      "RangeIndex: 14 entries, 0 to 13\n",
      "Data columns (total 4 columns):\n",
      " #   Column     Non-Null Count  Dtype \n",
      "---  ------     --------------  ----- \n",
      " 0   name       14 non-null     object\n",
      " 1   regions    14 non-null     object\n",
      " 2   start_dt   14 non-null     object\n",
      " 3   finish_dt  14 non-null     object\n",
      "dtypes: object(4)\n",
      "memory usage: 576.0+ bytes\n"
     ]
    },
    {
     "data": {
      "text/html": [
       "<div>\n",
       "<style scoped>\n",
       "    .dataframe tbody tr th:only-of-type {\n",
       "        vertical-align: middle;\n",
       "    }\n",
       "\n",
       "    .dataframe tbody tr th {\n",
       "        vertical-align: top;\n",
       "    }\n",
       "\n",
       "    .dataframe thead th {\n",
       "        text-align: right;\n",
       "    }\n",
       "</style>\n",
       "<table border=\"1\" class=\"dataframe\">\n",
       "  <thead>\n",
       "    <tr style=\"text-align: right;\">\n",
       "      <th></th>\n",
       "      <th>name</th>\n",
       "      <th>regions</th>\n",
       "      <th>start_dt</th>\n",
       "      <th>finish_dt</th>\n",
       "    </tr>\n",
       "  </thead>\n",
       "  <tbody>\n",
       "    <tr>\n",
       "      <th>0</th>\n",
       "      <td>Christmas&amp;New Year Promo</td>\n",
       "      <td>EU, N.America</td>\n",
       "      <td>2020-12-25</td>\n",
       "      <td>2021-01-03</td>\n",
       "    </tr>\n",
       "    <tr>\n",
       "      <th>1</th>\n",
       "      <td>St. Valentine's Day Giveaway</td>\n",
       "      <td>EU, CIS, APAC, N.America</td>\n",
       "      <td>2020-02-14</td>\n",
       "      <td>2020-02-16</td>\n",
       "    </tr>\n",
       "    <tr>\n",
       "      <th>2</th>\n",
       "      <td>St. Patric's Day Promo</td>\n",
       "      <td>EU, N.America</td>\n",
       "      <td>2020-03-17</td>\n",
       "      <td>2020-03-19</td>\n",
       "    </tr>\n",
       "    <tr>\n",
       "      <th>3</th>\n",
       "      <td>Easter Promo</td>\n",
       "      <td>EU, CIS, APAC, N.America</td>\n",
       "      <td>2020-04-12</td>\n",
       "      <td>2020-04-19</td>\n",
       "    </tr>\n",
       "    <tr>\n",
       "      <th>4</th>\n",
       "      <td>4th of July Promo</td>\n",
       "      <td>N.America</td>\n",
       "      <td>2020-07-04</td>\n",
       "      <td>2020-07-11</td>\n",
       "    </tr>\n",
       "  </tbody>\n",
       "</table>\n",
       "</div>"
      ],
      "text/plain": [
       "                           name                   regions    start_dt  \\\n",
       "0      Christmas&New Year Promo             EU, N.America  2020-12-25   \n",
       "1  St. Valentine's Day Giveaway  EU, CIS, APAC, N.America  2020-02-14   \n",
       "2        St. Patric's Day Promo             EU, N.America  2020-03-17   \n",
       "3                  Easter Promo  EU, CIS, APAC, N.America  2020-04-12   \n",
       "4             4th of July Promo                 N.America  2020-07-04   \n",
       "\n",
       "    finish_dt  \n",
       "0  2021-01-03  \n",
       "1  2020-02-16  \n",
       "2  2020-03-19  \n",
       "3  2020-04-19  \n",
       "4  2020-07-11  "
      ]
     },
     "metadata": {},
     "output_type": "display_data"
    },
    {
     "name": "stdout",
     "output_type": "stream",
     "text": [
      "Полных дубликатов - 0\n"
     ]
    }
   ],
   "source": [
    "# смотрим обзор по таблицам\n",
    "data_list = [ab_users, ab_events, ab_participance, marketing_events]\n",
    "for i in data_list:\n",
    "    preview(i)"
   ]
  },
  {
   "cell_type": "markdown",
   "metadata": {},
   "source": [
    "- **ab_users** - Пропусков и полных дублей нет, нужно преобразовать тип в столбце о времени\n",
    "- **ab_events** - Есть пропуски, далее проверим их; нужно заменить тип данных для столбца о времени, полных дублей нет\n",
    "- **ab_participance** - Пропусков и полных дублей нет\n",
    "- **marketing_events** -  Пропусков и полных дублей нет, нужно преобразовать тип в столбце о времени"
   ]
  },
  {
   "cell_type": "code",
   "execution_count": 74,
   "metadata": {},
   "outputs": [],
   "source": [
    "def date_type(date):\n",
    "    '''Преобразование к типу datetime'''\n",
    "    date_new = pd.to_datetime(date)\n",
    "    return date_new"
   ]
  },
  {
   "cell_type": "code",
   "execution_count": 75,
   "metadata": {},
   "outputs": [],
   "source": [
    "#приводим к нужному типу данных\n",
    "ab_users['first_date'] = date_type(ab_users['first_date'])\n",
    "ab_events['event_dt'] = date_type(ab_events['event_dt'])\n",
    "marketing_events['start_dt'] = date_type(marketing_events['start_dt'])\n",
    "marketing_events['finish_dt'] = date_type(marketing_events['finish_dt'])"
   ]
  },
  {
   "cell_type": "code",
   "execution_count": 76,
   "metadata": {},
   "outputs": [],
   "source": [
    "ab_events['event_day'] = pd.to_datetime(ab_events['event_dt']).dt.date"
   ]
  },
  {
   "cell_type": "code",
   "execution_count": 77,
   "metadata": {
    "scrolled": false
   },
   "outputs": [
    {
     "name": "stdout",
     "output_type": "stream",
     "text": [
      "<class 'pandas.core.frame.DataFrame'>\n",
      "RangeIndex: 61733 entries, 0 to 61732\n",
      "Data columns (total 4 columns):\n",
      " #   Column      Non-Null Count  Dtype         \n",
      "---  ------      --------------  -----         \n",
      " 0   user_id     61733 non-null  object        \n",
      " 1   first_date  61733 non-null  datetime64[ns]\n",
      " 2   region      61733 non-null  object        \n",
      " 3   device      61733 non-null  object        \n",
      "dtypes: datetime64[ns](1), object(3)\n",
      "memory usage: 1.9+ MB\n",
      "<class 'pandas.core.frame.DataFrame'>\n",
      "RangeIndex: 440317 entries, 0 to 440316\n",
      "Data columns (total 5 columns):\n",
      " #   Column      Non-Null Count   Dtype         \n",
      "---  ------      --------------   -----         \n",
      " 0   user_id     440317 non-null  object        \n",
      " 1   event_dt    440317 non-null  datetime64[ns]\n",
      " 2   event_name  440317 non-null  object        \n",
      " 3   details     62740 non-null   float64       \n",
      " 4   event_day   440317 non-null  object        \n",
      "dtypes: datetime64[ns](1), float64(1), object(3)\n",
      "memory usage: 16.8+ MB\n",
      "<class 'pandas.core.frame.DataFrame'>\n",
      "RangeIndex: 18268 entries, 0 to 18267\n",
      "Data columns (total 3 columns):\n",
      " #   Column   Non-Null Count  Dtype \n",
      "---  ------   --------------  ----- \n",
      " 0   user_id  18268 non-null  object\n",
      " 1   group    18268 non-null  object\n",
      " 2   ab_test  18268 non-null  object\n",
      "dtypes: object(3)\n",
      "memory usage: 428.3+ KB\n",
      "<class 'pandas.core.frame.DataFrame'>\n",
      "RangeIndex: 14 entries, 0 to 13\n",
      "Data columns (total 4 columns):\n",
      " #   Column     Non-Null Count  Dtype         \n",
      "---  ------     --------------  -----         \n",
      " 0   name       14 non-null     object        \n",
      " 1   regions    14 non-null     object        \n",
      " 2   start_dt   14 non-null     datetime64[ns]\n",
      " 3   finish_dt  14 non-null     datetime64[ns]\n",
      "dtypes: datetime64[ns](2), object(2)\n",
      "memory usage: 576.0+ bytes\n"
     ]
    }
   ],
   "source": [
    "for i in data_list:\n",
    "    i.info()"
   ]
  },
  {
   "cell_type": "markdown",
   "metadata": {},
   "source": [
    "Ок, все типы данных приведены к нужным.\n",
    "\n",
    "Проверка пропусков"
   ]
  },
  {
   "cell_type": "code",
   "execution_count": 78,
   "metadata": {},
   "outputs": [
    {
     "data": {
      "text/plain": [
       "0.86"
      ]
     },
     "execution_count": 78,
     "metadata": {},
     "output_type": "execute_result"
    }
   ],
   "source": [
    "#доля пропусков\n",
    "round((ab_events['details'].isna().sum()/len(ab_events)),2)"
   ]
  },
  {
   "cell_type": "markdown",
   "metadata": {},
   "source": [
    "Мы знаем, что этот столбец содержит дополнительные данные о событии. Например, для покупок, purchase, в этом поле хранится стоимость покупки в долларах. Проверим с какими действиями связаны заполненные значения"
   ]
  },
  {
   "cell_type": "code",
   "execution_count": 79,
   "metadata": {},
   "outputs": [
    {
     "name": "stdout",
     "output_type": "stream",
     "text": [
      "0 62740\n"
     ]
    }
   ],
   "source": [
    "#уточняем есть ли в details пропуски при фильтрации по purchase, и какой длины этот срез\n",
    "print(\n",
    "    ab_events[ab_events['event_name'] == 'purchase']['details'].isna().sum(),\n",
    "    len(ab_events[ab_events['event_name'] == 'purchase'])\n",
    ")"
   ]
  },
  {
   "cell_type": "markdown",
   "metadata": {},
   "source": [
    "Длина среза по purchase равна количеству заполненных значений в столбце details - это дополнительные данные только о событии purchase, соответственно остальные данные пока видимо не заполнялись. Оставим пропуски как есть."
   ]
  },
  {
   "cell_type": "markdown",
   "metadata": {},
   "source": [
    "### Итоги\n",
    "\n",
    "**Дубликатов во всех датасетах не найдено, пропуски есть только в ab_events и связаны с особенностями формирования данных, пропуски оставили.**"
   ]
  },
  {
   "cell_type": "markdown",
   "metadata": {},
   "source": [
    "## Проверка технического задания"
   ]
  },
  {
   "cell_type": "markdown",
   "metadata": {},
   "source": [
    "Обратим внимание на то, что количество записей в столбцах таблиц ab_users, ab_participance  разное. В обеих таблицах есть user_id, кроме того user_id есть и в ab_events. Посмотрим количество уникальных user_id в каждой их этих таблиц, эти данные будут полезны при проверке ТЗ."
   ]
  },
  {
   "cell_type": "code",
   "execution_count": 80,
   "metadata": {},
   "outputs": [
    {
     "name": "stdout",
     "output_type": "stream",
     "text": [
      "61733 - уникальные user_id в таблице ab_users; 61733 -всего записей\n",
      " 58703 - уникальные user_id в таблице ab_events; 440317 -всего записей\n",
      " 16666 - уникальные user_id в таблице ab_participance 18268 -всего записей\n"
     ]
    }
   ],
   "source": [
    "print(\n",
    "    ab_users['user_id'].nunique(), '- уникальные user_id в таблице ab_users;', len(ab_users), '-всего записей\\n',\n",
    "    ab_events['user_id'].nunique(), '- уникальные user_id в таблице ab_events;', len(ab_events), '-всего записей\\n',\n",
    "    ab_participance['user_id'].nunique(), '- уникальные user_id в таблице ab_participance',\n",
    "    len(ab_participance), '-всего записей' \n",
    ")"
   ]
  },
  {
   "cell_type": "markdown",
   "metadata": {},
   "source": [
    "- Всего зарегистрировавшихся пользователей 61733, из них события совершали 58703 пользователя (нужно будет посмотреть есть ли пользователи, не совершавшие событий, в нашем эксперименте)\n",
    "- 16666 пользователей участвовали в экспериментах, а записей в таблице больше - есть пересечения по экспериментам (нужно проверить пересечение пользователей нашего эксперимента с другим)."
   ]
  },
  {
   "cell_type": "markdown",
   "metadata": {},
   "source": [
    "**Проверять ТЗ будем по пунктам:**\n",
    "- название теста: recommender_system_test;\n",
    "- группы: А — контрольная, B — новая платёжная воронка;\n",
    "- дата запуска: 2020-12-07;\n",
    "- дата остановки набора новых пользователей: 2020-12-21;\n",
    "- дата остановки: 2021-01-04;\n",
    "- аудитория: 15% новых пользователей из региона EU;\n",
    "- назначение теста: тестирование изменений, связанных с внедрением улучшенной рекомендательной системы;\n",
    "- ожидаемое количество участников теста: 6000.\n",
    "- ожидаемый эффект: за 14 дней с момента регистрации пользователи покажут улучшение каждой метрики не менее, чем на 10%: конверсии в просмотр карточек товаров — событие product_page, просмотры корзины — product_cart, покупки — purchase."
   ]
  },
  {
   "cell_type": "markdown",
   "metadata": {},
   "source": [
    "`В последнем пункте ТЗ проверим только сроки; ожидаемый эффект (улучшение метрик) оценим на этапе анализа воронки и проведения теста`"
   ]
  },
  {
   "cell_type": "markdown",
   "metadata": {},
   "source": [
    "### Название теста: recommender_system_test, ожидаемое количество участников теста: 6000"
   ]
  },
  {
   "cell_type": "code",
   "execution_count": 81,
   "metadata": {},
   "outputs": [
    {
     "data": {
      "text/plain": [
       "interface_eu_test          11567\n",
       "recommender_system_test     6701\n",
       "Name: ab_test, dtype: int64"
      ]
     },
     "execution_count": 81,
     "metadata": {},
     "output_type": "execute_result"
    }
   ],
   "source": [
    "ab_participance['ab_test'].value_counts()"
   ]
  },
  {
   "cell_type": "markdown",
   "metadata": {},
   "source": [
    "*Тестов два, один из них - указанный в ТЗ  recommender_system_test.*\n",
    "\n",
    "*Можем оценить пункт **ожидаемое количество участников теста: 6000**, в нашем тесте их - 6701*"
   ]
  },
  {
   "cell_type": "markdown",
   "metadata": {},
   "source": [
    "### Группы: А — контрольная, B — новая платёжная воронка"
   ]
  },
  {
   "cell_type": "code",
   "execution_count": 82,
   "metadata": {},
   "outputs": [
    {
     "data": {
      "text/plain": [
       "A    3824\n",
       "B    2877\n",
       "Name: group, dtype: int64"
      ]
     },
     "execution_count": 82,
     "metadata": {},
     "output_type": "execute_result"
    }
   ],
   "source": [
    "# узнаем наличие групп и их количество\n",
    "ab_participance[ab_participance['ab_test'] == 'recommender_system_test']['group'].value_counts()"
   ]
  },
  {
   "cell_type": "code",
   "execution_count": 83,
   "metadata": {},
   "outputs": [
    {
     "name": "stdout",
     "output_type": "stream",
     "text": [
      "24.76\n"
     ]
    }
   ],
   "source": [
    "# узнаем разницу в количестве участников\n",
    "print('{:0.2f}'.format(100 - (2877 / 3824 * 100)))"
   ]
  },
  {
   "cell_type": "markdown",
   "metadata": {},
   "source": [
    "*Группы в наличии, довольно большая разница в количестве участников*"
   ]
  },
  {
   "cell_type": "markdown",
   "metadata": {},
   "source": [
    "### Дата запуска: 2020-12-07 | Дата остановки: 2021-01-04 | Дата остановки набора новых пользователей: 2020-12-21"
   ]
  },
  {
   "cell_type": "code",
   "execution_count": 84,
   "metadata": {},
   "outputs": [],
   "source": [
    "# сначала объединяем, оставляя только участников экспериментов\n",
    "x_user = pd.merge(ab_participance, ab_users, on='user_id',how='left')\n",
    "# добавляем к ним данные о событиях\n",
    "data = pd.merge(x_user, ab_events, on='user_id', how='left')"
   ]
  },
  {
   "cell_type": "code",
   "execution_count": 85,
   "metadata": {},
   "outputs": [
    {
     "name": "stdout",
     "output_type": "stream",
     "text": [
      "<class 'pandas.core.frame.DataFrame'>\n",
      "Int64Index: 110368 entries, 0 to 110367\n",
      "Data columns (total 10 columns):\n",
      " #   Column      Non-Null Count   Dtype         \n",
      "---  ------      --------------   -----         \n",
      " 0   user_id     110368 non-null  object        \n",
      " 1   group       110368 non-null  object        \n",
      " 2   ab_test     110368 non-null  object        \n",
      " 3   first_date  110368 non-null  datetime64[ns]\n",
      " 4   region      110368 non-null  object        \n",
      " 5   device      110368 non-null  object        \n",
      " 6   event_dt    106625 non-null  datetime64[ns]\n",
      " 7   event_name  106625 non-null  object        \n",
      " 8   details     15416 non-null   float64       \n",
      " 9   event_day   106625 non-null  object        \n",
      "dtypes: datetime64[ns](2), float64(1), object(7)\n",
      "memory usage: 9.3+ MB\n"
     ]
    },
    {
     "data": {
      "text/html": [
       "<div>\n",
       "<style scoped>\n",
       "    .dataframe tbody tr th:only-of-type {\n",
       "        vertical-align: middle;\n",
       "    }\n",
       "\n",
       "    .dataframe tbody tr th {\n",
       "        vertical-align: top;\n",
       "    }\n",
       "\n",
       "    .dataframe thead th {\n",
       "        text-align: right;\n",
       "    }\n",
       "</style>\n",
       "<table border=\"1\" class=\"dataframe\">\n",
       "  <thead>\n",
       "    <tr style=\"text-align: right;\">\n",
       "      <th></th>\n",
       "      <th>user_id</th>\n",
       "      <th>group</th>\n",
       "      <th>ab_test</th>\n",
       "      <th>first_date</th>\n",
       "      <th>region</th>\n",
       "      <th>device</th>\n",
       "      <th>event_dt</th>\n",
       "      <th>event_name</th>\n",
       "      <th>details</th>\n",
       "      <th>event_day</th>\n",
       "    </tr>\n",
       "  </thead>\n",
       "  <tbody>\n",
       "    <tr>\n",
       "      <th>0</th>\n",
       "      <td>D1ABA3E2887B6A73</td>\n",
       "      <td>A</td>\n",
       "      <td>recommender_system_test</td>\n",
       "      <td>2020-12-07</td>\n",
       "      <td>EU</td>\n",
       "      <td>PC</td>\n",
       "      <td>2020-12-07 14:43:27</td>\n",
       "      <td>purchase</td>\n",
       "      <td>99.99</td>\n",
       "      <td>2020-12-07</td>\n",
       "    </tr>\n",
       "    <tr>\n",
       "      <th>1</th>\n",
       "      <td>D1ABA3E2887B6A73</td>\n",
       "      <td>A</td>\n",
       "      <td>recommender_system_test</td>\n",
       "      <td>2020-12-07</td>\n",
       "      <td>EU</td>\n",
       "      <td>PC</td>\n",
       "      <td>2020-12-25 00:04:56</td>\n",
       "      <td>purchase</td>\n",
       "      <td>4.99</td>\n",
       "      <td>2020-12-25</td>\n",
       "    </tr>\n",
       "    <tr>\n",
       "      <th>2</th>\n",
       "      <td>D1ABA3E2887B6A73</td>\n",
       "      <td>A</td>\n",
       "      <td>recommender_system_test</td>\n",
       "      <td>2020-12-07</td>\n",
       "      <td>EU</td>\n",
       "      <td>PC</td>\n",
       "      <td>2020-12-07 14:43:29</td>\n",
       "      <td>product_cart</td>\n",
       "      <td>NaN</td>\n",
       "      <td>2020-12-07</td>\n",
       "    </tr>\n",
       "    <tr>\n",
       "      <th>3</th>\n",
       "      <td>D1ABA3E2887B6A73</td>\n",
       "      <td>A</td>\n",
       "      <td>recommender_system_test</td>\n",
       "      <td>2020-12-07</td>\n",
       "      <td>EU</td>\n",
       "      <td>PC</td>\n",
       "      <td>2020-12-25 00:04:57</td>\n",
       "      <td>product_cart</td>\n",
       "      <td>NaN</td>\n",
       "      <td>2020-12-25</td>\n",
       "    </tr>\n",
       "    <tr>\n",
       "      <th>4</th>\n",
       "      <td>D1ABA3E2887B6A73</td>\n",
       "      <td>A</td>\n",
       "      <td>recommender_system_test</td>\n",
       "      <td>2020-12-07</td>\n",
       "      <td>EU</td>\n",
       "      <td>PC</td>\n",
       "      <td>2020-12-07 14:43:27</td>\n",
       "      <td>product_page</td>\n",
       "      <td>NaN</td>\n",
       "      <td>2020-12-07</td>\n",
       "    </tr>\n",
       "  </tbody>\n",
       "</table>\n",
       "</div>"
      ],
      "text/plain": [
       "            user_id group                  ab_test first_date region device  \\\n",
       "0  D1ABA3E2887B6A73     A  recommender_system_test 2020-12-07     EU     PC   \n",
       "1  D1ABA3E2887B6A73     A  recommender_system_test 2020-12-07     EU     PC   \n",
       "2  D1ABA3E2887B6A73     A  recommender_system_test 2020-12-07     EU     PC   \n",
       "3  D1ABA3E2887B6A73     A  recommender_system_test 2020-12-07     EU     PC   \n",
       "4  D1ABA3E2887B6A73     A  recommender_system_test 2020-12-07     EU     PC   \n",
       "\n",
       "             event_dt    event_name  details   event_day  \n",
       "0 2020-12-07 14:43:27      purchase    99.99  2020-12-07  \n",
       "1 2020-12-25 00:04:56      purchase     4.99  2020-12-25  \n",
       "2 2020-12-07 14:43:29  product_cart      NaN  2020-12-07  \n",
       "3 2020-12-25 00:04:57  product_cart      NaN  2020-12-25  \n",
       "4 2020-12-07 14:43:27  product_page      NaN  2020-12-07  "
      ]
     },
     "execution_count": 85,
     "metadata": {},
     "output_type": "execute_result"
    }
   ],
   "source": [
    "# посмотрим получившуюся объединенную таблицу\n",
    "data.info()\n",
    "data.head()"
   ]
  },
  {
   "cell_type": "markdown",
   "metadata": {},
   "source": [
    "**! У нас есть пользователи без событий, вернемся к ним для дополнительной проверки**"
   ]
  },
  {
   "cell_type": "code",
   "execution_count": 86,
   "metadata": {},
   "outputs": [
    {
     "data": {
      "text/plain": [
       "max   2020-12-30 12:42:57\n",
       "min   2020-12-07 00:05:57\n",
       "Name: event_dt, dtype: datetime64[ns]"
      ]
     },
     "execution_count": 86,
     "metadata": {},
     "output_type": "execute_result"
    }
   ],
   "source": [
    "# даты запуска (минимум) и остановки (максимум) теста\n",
    "data.loc[data['ab_test'] == 'recommender_system_test']['event_dt'].agg({'min','max'})"
   ]
  },
  {
   "cell_type": "code",
   "execution_count": 87,
   "metadata": {},
   "outputs": [
    {
     "data": {
      "text/plain": [
       "max   2020-12-21\n",
       "Name: first_date, dtype: datetime64[ns]"
      ]
     },
     "execution_count": 87,
     "metadata": {},
     "output_type": "execute_result"
    }
   ],
   "source": [
    "# дата остановки набора пользователей\n",
    "data.loc[data['ab_test'] == 'recommender_system_test']['first_date'].agg({'max'})"
   ]
  },
  {
   "cell_type": "markdown",
   "metadata": {},
   "source": [
    "*Даты запуска теста совпадает с ТЗ, дата остановки другая - 2020-12-30, дата остановки набора новых пользователей также совпадает с ТЗ.*"
   ]
  },
  {
   "cell_type": "markdown",
   "metadata": {},
   "source": [
    "### 14 дней с момента регистрации - ожидаемое время для участников эксперимента"
   ]
  },
  {
   "cell_type": "code",
   "execution_count": 88,
   "metadata": {
    "scrolled": false
   },
   "outputs": [
    {
     "data": {
      "image/png": "[encoded data removed]",
      "text/plain": [
       "<Figure size 1080x432 with 1 Axes>"
      ]
     },
     "metadata": {
      "needs_background": "light"
     },
     "output_type": "display_data"
    }
   ],
   "source": [
    "#гистограмма распределения событий по времени\n",
    "\n",
    "sns.set_palette('deep')\n",
    "f, ax = plt.subplots(figsize=(15,6 ))\n",
    "sns.histplot(data = data, x = 'event_dt', hue = 'ab_test') \n",
    "plt.title(f'Гистограмма распределения событий по времени')\n",
    "plt.xlabel('Дата события')\n",
    "plt.ylabel('Количество')\n",
    "plt.show()"
   ]
  },
  {
   "cell_type": "markdown",
   "metadata": {},
   "source": [
    "- эксперименты проведены в одно и то же время\n",
    "- в обоих экспериментах после 29 декабря практически нет событий, т.е. фактически наш эксперимент закончился не 30, а 29 декабря включительно.\n",
    "- исходя из гистограммы времени мы видим, что не все пользователи прожили в эксперименте 14 дней. Пользователи привлеченные 21 декабря участвовали в эксперименте всего 9 дней"
   ]
  },
  {
   "cell_type": "markdown",
   "metadata": {},
   "source": [
    "### Аудитория: 15% новых пользователей из региона EU"
   ]
  },
  {
   "cell_type": "code",
   "execution_count": 89,
   "metadata": {
    "scrolled": false
   },
   "outputs": [
    {
     "data": {
      "text/plain": [
       "EU           26290\n",
       "N.America      942\n",
       "APAC           259\n",
       "CIS            233\n",
       "Name: region, dtype: int64"
      ]
     },
     "execution_count": 89,
     "metadata": {},
     "output_type": "execute_result"
    }
   ],
   "source": [
    "#посмотрим набор данных нашего теста по региону\n",
    "data[data['ab_test'] == 'recommender_system_test']['region'].value_counts()"
   ]
  },
  {
   "cell_type": "markdown",
   "metadata": {},
   "source": [
    "*Кроме Европы в нашем тесте представлены пользователи и из других регионов.*"
   ]
  },
  {
   "cell_type": "code",
   "execution_count": 90,
   "metadata": {},
   "outputs": [
    {
     "data": {
      "text/plain": [
       "max   2020-12-23\n",
       "min   2020-12-07\n",
       "Name: first_date, dtype: datetime64[ns]"
      ]
     },
     "execution_count": 90,
     "metadata": {},
     "output_type": "execute_result"
    }
   ],
   "source": [
    "# найдем раннюю и позднюю дату регистрации пользователей в таблице ab_users\n",
    "ab_users['first_date'].agg({'min', 'max'})"
   ]
  },
  {
   "cell_type": "code",
   "execution_count": 91,
   "metadata": {
    "scrolled": true
   },
   "outputs": [
    {
     "data": {
      "text/plain": [
       "6351.0"
      ]
     },
     "execution_count": 91,
     "metadata": {},
     "output_type": "execute_result"
    }
   ],
   "source": [
    "# сколько пользователей составляют 15% от зарегистрировавшихся до 21 декабря включительно\n",
    "len(ab_users[(ab_users['first_date'] <= '2020-12-21') & (ab_users['region'] == 'EU')])*0.15"
   ]
  },
  {
   "cell_type": "code",
   "execution_count": 92,
   "metadata": {},
   "outputs": [
    {
     "data": {
      "text/plain": [
       "6351"
      ]
     },
     "execution_count": 92,
     "metadata": {},
     "output_type": "execute_result"
    }
   ],
   "source": [
    "# сколько уникальных пользователей из Европы в нашем эксперименте\n",
    "data[(data['ab_test'] == 'recommender_system_test') & (data['region'] == 'EU')]['user_id'].nunique()"
   ]
  },
  {
   "cell_type": "markdown",
   "metadata": {},
   "source": [
    "*Здесь все верно, действительно в нашем тесте 15% новых пользователей от зарегистрировавшихся из региона EU*"
   ]
  },
  {
   "cell_type": "markdown",
   "metadata": {},
   "source": [
    "### Итоги\n",
    "\n",
    "**С ТЗ не совпадает дата окончания теста, соответственно не все пользователи \"прожили\" в эксперименте 14 дней. Кроме того в тесте представлены не только пользователи из Европы, но и пользователи из других регионов. Ожидаемый результат по метрикам проверим далее. Остальные пунктф ТЗ выполнены корректно**\n"
   ]
  },
  {
   "cell_type": "markdown",
   "metadata": {},
   "source": [
    "## Дополнительные проверки\n",
    "- пользователи, без событий\n",
    "- пересечение пользователей\n",
    "- наложение маркетинговых событий\n",
    "- равномерность распределения пользователей по тестовым группам и правильность их формирования"
   ]
  },
  {
   "cell_type": "markdown",
   "metadata": {},
   "source": [
    "### Пользователи без событий"
   ]
  },
  {
   "cell_type": "code",
   "execution_count": 93,
   "metadata": {},
   "outputs": [
    {
     "data": {
      "text/plain": [
       "3026"
      ]
     },
     "execution_count": 93,
     "metadata": {},
     "output_type": "execute_result"
    }
   ],
   "source": [
    "# сколько пользователей с пропусками в графе \"event_name\", \n",
    "data[(data['event_name'].isna() == True) & (data['ab_test'] == 'recommender_system_test')]['user_id'].nunique()"
   ]
  },
  {
   "cell_type": "markdown",
   "metadata": {},
   "source": [
    "Предположим, что имел место либо технический сбой, либо изначально у нас набираются пользователи разных поведенческих характеристик. Далее оценим как набирались такие пользователи по группам теста, а также оценим их принадлежность к региону и используемому девайсу."
   ]
  },
  {
   "cell_type": "code",
   "execution_count": 94,
   "metadata": {},
   "outputs": [],
   "source": [
    "null_events = data[(data['event_name'].isna() == True) & (data['ab_test'] == 'recommender_system_test')]"
   ]
  },
  {
   "cell_type": "code",
   "execution_count": 95,
   "metadata": {},
   "outputs": [],
   "source": [
    "# группируем по дате регистрации и принадлежности к группе теста/девайсу/региону и смотрим сколько пользователей привлекли\n",
    "cnt_user_null_event = null_events.groupby(['group', 'first_date'])['user_id'].nunique().reset_index()\n",
    "\n",
    "device_null_event = null_events.groupby(['device', 'first_date'])['user_id'].nunique().reset_index()\n",
    "\n",
    "region_null_event = null_events.groupby(['region', 'first_date'])['user_id'].nunique().reset_index()"
   ]
  },
  {
   "cell_type": "code",
   "execution_count": 96,
   "metadata": {
    "scrolled": false
   },
   "outputs": [
    {
     "data": {
      "image/png": "[encoded data removed]",
      "text/plain": [
       "<Figure size 1080x504 with 3 Axes>"
      ]
     },
     "metadata": {
      "needs_background": "light"
     },
     "output_type": "display_data"
    }
   ],
   "source": [
    "# строим графики для распределения количества пользователей без событий по \n",
    "fig, ax = plt.subplots(nrows=2, ncols=2, figsize=(15,7))\n",
    "ax = ax.flatten()\n",
    "\n",
    "sns.lineplot(data = cnt_user_null_event, x = 'first_date', y = 'user_id', hue='group', ax=ax[0]) \n",
    "sns.lineplot(data = device_null_event, x = 'first_date', y = 'user_id', hue='device', ax=ax[1]) \n",
    "sns.lineplot(data = region_null_event, x = 'first_date', y = 'user_id', hue='region', ax=ax[2])\n",
    "\n",
    "ax[0].set_title('Пользователи без событий по группам')\n",
    "ax[1].set_title('Пользователи без событий по девайсам')\n",
    "ax[2].set_title('Пользователи без событий по регионам')\n",
    "ax[0].set_xlabel('Дата регистрации')\n",
    "ax[1].set_xlabel('Дата регистрации')\n",
    "ax[2].set_xlabel('Дата регистрации')\n",
    "ax[0].set_ylabel('Количество пользователей')\n",
    "ax[1].set_ylabel('Количество пользователей')\n",
    "ax[2].set_ylabel('Количество пользователей')\n",
    "\n",
    "fig.delaxes(ax[-1])\n",
    "fig.tight_layout()\n",
    "fig.show()"
   ]
  },
  {
   "cell_type": "markdown",
   "metadata": {},
   "source": [
    "Видим, что в экспериментальной группе у нас на протяжении всего набора участников теста, есть пользователи без событий, в контрольной группе такие пользователи перестали набираться с 13 декабря, то есть через неделю после эксперимента.\n",
    "\n",
    "Проблемы возникли с пользователями из Европы на андроидах. Пользователи из других регионов показали примерно одинаковые цифры набора пользователей, которые не идут дальше регистрации. Европа - большой отрыв и качели.\n",
    "\n",
    "На Европу работа идет хуже? - может быть это технические проблемы, может быть проблемы интерфейса для европейского пользователя (второй эксперимент в наших данных как раз проверяет изменения интерфейса для европейских пользователей), может быть провал удержания тоже в разрезе европейского пользователя (поэтому начали вести параллельно проверяемый нами эксперимент).\n",
    "\n",
    "`!!!` Все эти пользователи в каждой группе будут влиять на построение воронки: если мы присвоим им event_name - login, то это сдвинет показатель конверсии перехода на следующий этап воронки и в целом по воронке в худшую сторону. Если бы такие пользователи набирались в течение всего эксперимента и в группе А, можно было бы их оставить, но в нашей ситуации они могут сдвинуть результаты теста.\n",
    "\n",
    "**Примем, что данные пользователи включены в тест некорректно и удалим их из нашей выборки участников теста. На дальнейших этапах оценим хватает ли нам количества пользователей для корректного проведения АВ-теста.**"
   ]
  },
  {
   "cell_type": "code",
   "execution_count": 97,
   "metadata": {
    "scrolled": true
   },
   "outputs": [
    {
     "name": "stdout",
     "output_type": "stream",
     "text": [
      "<class 'pandas.core.frame.DataFrame'>\n",
      "Int64Index: 106625 entries, 0 to 106624\n",
      "Data columns (total 10 columns):\n",
      " #   Column      Non-Null Count   Dtype         \n",
      "---  ------      --------------   -----         \n",
      " 0   user_id     106625 non-null  object        \n",
      " 1   group       106625 non-null  object        \n",
      " 2   ab_test     106625 non-null  object        \n",
      " 3   first_date  106625 non-null  datetime64[ns]\n",
      " 4   region      106625 non-null  object        \n",
      " 5   device      106625 non-null  object        \n",
      " 6   event_dt    106625 non-null  datetime64[ns]\n",
      " 7   event_name  106625 non-null  object        \n",
      " 8   details     15416 non-null   float64       \n",
      " 9   event_day   106625 non-null  object        \n",
      "dtypes: datetime64[ns](2), float64(1), object(7)\n",
      "memory usage: 8.9+ MB\n"
     ]
    }
   ],
   "source": [
    "# удаление таких пользователей проведем изменением типа объединения таблиц, с left на inner\n",
    "data = pd.merge(x_user, ab_events, on='user_id', how='inner')\n",
    "data.info()"
   ]
  },
  {
   "cell_type": "code",
   "execution_count": 98,
   "metadata": {},
   "outputs": [],
   "source": [
    "# рассчитываем лайфтайм для каждой покупки\n",
    "data['lifetime'] = (\n",
    "        data['event_dt'] - data['first_date']\n",
    "    ).dt.days"
   ]
  },
  {
   "cell_type": "code",
   "execution_count": 99,
   "metadata": {},
   "outputs": [],
   "source": [
    "data = data.loc[data['lifetime'] <= 14]\n"
   ]
  },
  {
   "cell_type": "markdown",
   "metadata": {},
   "source": [
    "### Пересечение пользователей"
   ]
  },
  {
   "cell_type": "code",
   "execution_count": 101,
   "metadata": {},
   "outputs": [
    {
     "data": {
      "text/plain": [
       "887"
      ]
     },
     "execution_count": 101,
     "metadata": {},
     "output_type": "execute_result"
    }
   ],
   "source": [
    "# смотрим пересечения с конкурирующим тестом, сохраняем user_id  в списк\n",
    "crossing = list(data.groupby('user_id')['ab_test'].nunique().reset_index().query('ab_test > 1')['user_id'])\n",
    "len(crossing)"
   ]
  },
  {
   "cell_type": "code",
   "execution_count": 102,
   "metadata": {},
   "outputs": [
    {
     "data": {
      "text/plain": [
       "431"
      ]
     },
     "execution_count": 102,
     "metadata": {},
     "output_type": "execute_result"
    }
   ],
   "source": [
    "# формируем датафрейм только с пересекающимися в двух экспериментах user_id\n",
    "crossing_data = data[data['user_id'].isin(crossing)]\n",
    "\n",
    "# создаем список user_id, которые вошли в группу В конкурирующего теста\n",
    "b_exp = list(\n",
    "    crossing_data.loc[\n",
    "        (\n",
    "        crossing_data['ab_test'] == 'interface_eu_test'\n",
    "    ) & (\n",
    "        crossing_data['group'] == 'B'\n",
    "    )\n",
    "    ]['user_id'].unique()\n",
    ")\n",
    "\n",
    "len(b_exp)"
   ]
  },
  {
   "cell_type": "code",
   "execution_count": 103,
   "metadata": {},
   "outputs": [
    {
     "data": {
      "text/plain": [
       "group\n",
       "A    325\n",
       "B    106\n",
       "Name: user_id, dtype: int64"
      ]
     },
     "execution_count": 103,
     "metadata": {},
     "output_type": "execute_result"
    }
   ],
   "source": [
    "# формируем датафрейм нашего теста, оставляем в нем пользователей из группы В конкурирующего теста\n",
    "exp_data = data.loc[data['ab_test'] == 'recommender_system_test']\n",
    "exp_data_cross = exp_data[exp_data['user_id'].isin(b_exp)]\n",
    "\n",
    "# распределение пользователей по группам теста\n",
    "exp_data_cross.groupby('group')['user_id'].nunique()"
   ]
  },
  {
   "cell_type": "markdown",
   "metadata": {},
   "source": [
    "**Мы видим, что пересекающиеся пользователи распределены между группами нашего теста, такое распределение пересекающихся пользователей будем считать допустимым (будем считать, что эксперименты независимы и проходят в разных слоях ресурса, хотя такое переиспользование трафика, для тестов, проводящихся в одни и те же даты, некорректно). Оставим этих пользователей и проведем тест.**"
   ]
  },
  {
   "cell_type": "markdown",
   "metadata": {},
   "source": [
    "### Наложение маркетинговых событий"
   ]
  },
  {
   "cell_type": "code",
   "execution_count": 104,
   "metadata": {
    "scrolled": false
   },
   "outputs": [
    {
     "data": {
      "text/html": [
       "<div>\n",
       "<style scoped>\n",
       "    .dataframe tbody tr th:only-of-type {\n",
       "        vertical-align: middle;\n",
       "    }\n",
       "\n",
       "    .dataframe tbody tr th {\n",
       "        vertical-align: top;\n",
       "    }\n",
       "\n",
       "    .dataframe thead th {\n",
       "        text-align: right;\n",
       "    }\n",
       "</style>\n",
       "<table border=\"1\" class=\"dataframe\">\n",
       "  <thead>\n",
       "    <tr style=\"text-align: right;\">\n",
       "      <th></th>\n",
       "      <th>name</th>\n",
       "      <th>regions</th>\n",
       "      <th>start_dt</th>\n",
       "      <th>finish_dt</th>\n",
       "    </tr>\n",
       "  </thead>\n",
       "  <tbody>\n",
       "    <tr>\n",
       "      <th>0</th>\n",
       "      <td>Christmas&amp;New Year Promo</td>\n",
       "      <td>EU, N.America</td>\n",
       "      <td>2020-12-25</td>\n",
       "      <td>2021-01-03</td>\n",
       "    </tr>\n",
       "    <tr>\n",
       "      <th>1</th>\n",
       "      <td>St. Valentine's Day Giveaway</td>\n",
       "      <td>EU, CIS, APAC, N.America</td>\n",
       "      <td>2020-02-14</td>\n",
       "      <td>2020-02-16</td>\n",
       "    </tr>\n",
       "    <tr>\n",
       "      <th>2</th>\n",
       "      <td>St. Patric's Day Promo</td>\n",
       "      <td>EU, N.America</td>\n",
       "      <td>2020-03-17</td>\n",
       "      <td>2020-03-19</td>\n",
       "    </tr>\n",
       "    <tr>\n",
       "      <th>3</th>\n",
       "      <td>Easter Promo</td>\n",
       "      <td>EU, CIS, APAC, N.America</td>\n",
       "      <td>2020-04-12</td>\n",
       "      <td>2020-04-19</td>\n",
       "    </tr>\n",
       "    <tr>\n",
       "      <th>4</th>\n",
       "      <td>4th of July Promo</td>\n",
       "      <td>N.America</td>\n",
       "      <td>2020-07-04</td>\n",
       "      <td>2020-07-11</td>\n",
       "    </tr>\n",
       "    <tr>\n",
       "      <th>5</th>\n",
       "      <td>Black Friday Ads Campaign</td>\n",
       "      <td>EU, CIS, APAC, N.America</td>\n",
       "      <td>2020-11-26</td>\n",
       "      <td>2020-12-01</td>\n",
       "    </tr>\n",
       "    <tr>\n",
       "      <th>6</th>\n",
       "      <td>Chinese New Year Promo</td>\n",
       "      <td>APAC</td>\n",
       "      <td>2020-01-25</td>\n",
       "      <td>2020-02-07</td>\n",
       "    </tr>\n",
       "    <tr>\n",
       "      <th>7</th>\n",
       "      <td>Labor day (May 1st) Ads Campaign</td>\n",
       "      <td>EU, CIS, APAC</td>\n",
       "      <td>2020-05-01</td>\n",
       "      <td>2020-05-03</td>\n",
       "    </tr>\n",
       "    <tr>\n",
       "      <th>8</th>\n",
       "      <td>International Women's Day Promo</td>\n",
       "      <td>EU, CIS, APAC</td>\n",
       "      <td>2020-03-08</td>\n",
       "      <td>2020-03-10</td>\n",
       "    </tr>\n",
       "    <tr>\n",
       "      <th>9</th>\n",
       "      <td>Victory Day CIS (May 9th) Event</td>\n",
       "      <td>CIS</td>\n",
       "      <td>2020-05-09</td>\n",
       "      <td>2020-05-11</td>\n",
       "    </tr>\n",
       "    <tr>\n",
       "      <th>10</th>\n",
       "      <td>CIS New Year Gift Lottery</td>\n",
       "      <td>CIS</td>\n",
       "      <td>2020-12-30</td>\n",
       "      <td>2021-01-07</td>\n",
       "    </tr>\n",
       "    <tr>\n",
       "      <th>11</th>\n",
       "      <td>Dragon Boat Festival Giveaway</td>\n",
       "      <td>APAC</td>\n",
       "      <td>2020-06-25</td>\n",
       "      <td>2020-07-01</td>\n",
       "    </tr>\n",
       "    <tr>\n",
       "      <th>12</th>\n",
       "      <td>Single's Day Gift Promo</td>\n",
       "      <td>APAC</td>\n",
       "      <td>2020-11-11</td>\n",
       "      <td>2020-11-12</td>\n",
       "    </tr>\n",
       "    <tr>\n",
       "      <th>13</th>\n",
       "      <td>Chinese Moon Festival</td>\n",
       "      <td>APAC</td>\n",
       "      <td>2020-10-01</td>\n",
       "      <td>2020-10-07</td>\n",
       "    </tr>\n",
       "  </tbody>\n",
       "</table>\n",
       "</div>"
      ],
      "text/plain": [
       "                                name                   regions   start_dt  \\\n",
       "0           Christmas&New Year Promo             EU, N.America 2020-12-25   \n",
       "1       St. Valentine's Day Giveaway  EU, CIS, APAC, N.America 2020-02-14   \n",
       "2             St. Patric's Day Promo             EU, N.America 2020-03-17   \n",
       "3                       Easter Promo  EU, CIS, APAC, N.America 2020-04-12   \n",
       "4                  4th of July Promo                 N.America 2020-07-04   \n",
       "5          Black Friday Ads Campaign  EU, CIS, APAC, N.America 2020-11-26   \n",
       "6             Chinese New Year Promo                      APAC 2020-01-25   \n",
       "7   Labor day (May 1st) Ads Campaign             EU, CIS, APAC 2020-05-01   \n",
       "8    International Women's Day Promo             EU, CIS, APAC 2020-03-08   \n",
       "9    Victory Day CIS (May 9th) Event                       CIS 2020-05-09   \n",
       "10         CIS New Year Gift Lottery                       CIS 2020-12-30   \n",
       "11     Dragon Boat Festival Giveaway                      APAC 2020-06-25   \n",
       "12           Single's Day Gift Promo                      APAC 2020-11-11   \n",
       "13             Chinese Moon Festival                      APAC 2020-10-01   \n",
       "\n",
       "    finish_dt  \n",
       "0  2021-01-03  \n",
       "1  2020-02-16  \n",
       "2  2020-03-19  \n",
       "3  2020-04-19  \n",
       "4  2020-07-11  \n",
       "5  2020-12-01  \n",
       "6  2020-02-07  \n",
       "7  2020-05-03  \n",
       "8  2020-03-10  \n",
       "9  2020-05-11  \n",
       "10 2021-01-07  \n",
       "11 2020-07-01  \n",
       "12 2020-11-12  \n",
       "13 2020-10-07  "
      ]
     },
     "execution_count": 104,
     "metadata": {},
     "output_type": "execute_result"
    }
   ],
   "source": [
    "marketing_events"
   ]
  },
  {
   "cell_type": "code",
   "execution_count": 105,
   "metadata": {
    "scrolled": true
   },
   "outputs": [
    {
     "data": {
      "text/html": [
       "<div>\n",
       "<style scoped>\n",
       "    .dataframe tbody tr th:only-of-type {\n",
       "        vertical-align: middle;\n",
       "    }\n",
       "\n",
       "    .dataframe tbody tr th {\n",
       "        vertical-align: top;\n",
       "    }\n",
       "\n",
       "    .dataframe thead th {\n",
       "        text-align: right;\n",
       "    }\n",
       "</style>\n",
       "<table border=\"1\" class=\"dataframe\">\n",
       "  <thead>\n",
       "    <tr style=\"text-align: right;\">\n",
       "      <th></th>\n",
       "      <th>name</th>\n",
       "      <th>regions</th>\n",
       "      <th>start_dt</th>\n",
       "      <th>finish_dt</th>\n",
       "    </tr>\n",
       "  </thead>\n",
       "  <tbody>\n",
       "    <tr>\n",
       "      <th>0</th>\n",
       "      <td>Christmas&amp;New Year Promo</td>\n",
       "      <td>EU, N.America</td>\n",
       "      <td>2020-12-25</td>\n",
       "      <td>2021-01-03</td>\n",
       "    </tr>\n",
       "    <tr>\n",
       "      <th>10</th>\n",
       "      <td>CIS New Year Gift Lottery</td>\n",
       "      <td>CIS</td>\n",
       "      <td>2020-12-30</td>\n",
       "      <td>2021-01-07</td>\n",
       "    </tr>\n",
       "  </tbody>\n",
       "</table>\n",
       "</div>"
      ],
      "text/plain": [
       "                         name        regions   start_dt  finish_dt\n",
       "0    Christmas&New Year Promo  EU, N.America 2020-12-25 2021-01-03\n",
       "10  CIS New Year Gift Lottery            CIS 2020-12-30 2021-01-07"
      ]
     },
     "execution_count": 105,
     "metadata": {},
     "output_type": "execute_result"
    }
   ],
   "source": [
    "marketing_events[marketing_events['start_dt'] >= '2020-12-07']"
   ]
  },
  {
   "cell_type": "markdown",
   "metadata": {},
   "source": [
    "Маркетинговое событие CIS New Year Gift Lottery хоть и попадает в объявленные в ТЗ временные границы эксперимента, но по факту не затрагивает его, так ка фактически эксперимент завершен 29 декабряю\n",
    "\n",
    "Посмотрим влияние события Christmas&New Year Promo, оно захватывает события нашего проекта совершенные с 25 по 29 декабря. Посмотрим количество событий в дни проведения эксперимента."
   ]
  },
  {
   "cell_type": "code",
   "execution_count": 106,
   "metadata": {},
   "outputs": [
    {
     "data": {
      "text/html": [
       "<div>\n",
       "<style scoped>\n",
       "    .dataframe tbody tr th:only-of-type {\n",
       "        vertical-align: middle;\n",
       "    }\n",
       "\n",
       "    .dataframe tbody tr th {\n",
       "        vertical-align: top;\n",
       "    }\n",
       "\n",
       "    .dataframe thead th {\n",
       "        text-align: right;\n",
       "    }\n",
       "</style>\n",
       "<table border=\"1\" class=\"dataframe\">\n",
       "  <thead>\n",
       "    <tr style=\"text-align: right;\">\n",
       "      <th></th>\n",
       "      <th>name</th>\n",
       "      <th>regions</th>\n",
       "      <th>start_dt</th>\n",
       "      <th>finish_dt</th>\n",
       "    </tr>\n",
       "  </thead>\n",
       "  <tbody>\n",
       "    <tr>\n",
       "      <th>0</th>\n",
       "      <td>Christmas&amp;New Year Promo</td>\n",
       "      <td>EU, N.America</td>\n",
       "      <td>2020-12-25</td>\n",
       "      <td>2021-01-03</td>\n",
       "    </tr>\n",
       "  </tbody>\n",
       "</table>\n",
       "</div>"
      ],
      "text/plain": [
       "                       name        regions   start_dt  finish_dt\n",
       "0  Christmas&New Year Promo  EU, N.America 2020-12-25 2021-01-03"
      ]
     },
     "execution_count": 106,
     "metadata": {},
     "output_type": "execute_result"
    }
   ],
   "source": [
    "marketing_events[(marketing_events['start_dt'] >= '2020-12-07') & (marketing_events['regions'].apply(lambda x: 'EU' in str(x)) == True)]"
   ]
  },
  {
   "cell_type": "code",
   "execution_count": 107,
   "metadata": {},
   "outputs": [],
   "source": [
    "# фильтруем по дате и смотрим количество каждого события\n",
    "event = exp_data[exp_data['event_dt'] >= '2020-12-25']\n",
    "event_purchase = event[event['event_name'] == 'purchase'].groupby(\n",
    "    ['event_day', 'group']\n",
    ")['event_name'].count().reset_index()\n",
    "\n",
    "event_page = event[event['event_name'] == 'product_page'].groupby(\n",
    "    ['event_day', 'group']\n",
    ")['event_name'].count().reset_index()\n",
    "\n",
    "event_cart = event[event['event_name'] == 'product_cart'].groupby(\n",
    "    ['event_day', 'group']\n",
    ")['event_name'].count().reset_index()\n"
   ]
  },
  {
   "cell_type": "code",
   "execution_count": 108,
   "metadata": {},
   "outputs": [
    {
     "data": {
      "image/png": "[encoded data removed]",
      "text/plain": [
       "<Figure size 1080x504 with 3 Axes>"
      ]
     },
     "metadata": {
      "needs_background": "light"
     },
     "output_type": "display_data"
    }
   ],
   "source": [
    "# смотрим количество событий\n",
    "fig, ax = plt.subplots(nrows=2, ncols=2, figsize=(15,7))\n",
    "ax = ax.flatten()\n",
    "\n",
    "sns.lineplot(data = event_page, x = 'event_day', y = 'event_name', hue='group', ax=ax[0]) \n",
    "sns.lineplot(data = event_cart, x = 'event_day', y = 'event_name', hue='group', ax=ax[1]) \n",
    "sns.lineplot(data = event_purchase, x = 'event_day', y = 'event_name', hue='group', ax=ax[2]) \n",
    "\n",
    "ax[0].set_title('События по product_page')\n",
    "ax[1].set_title('События по product_cart')\n",
    "ax[2].set_title('События по purchase')\n",
    "ax[0].set_xlabel('День эксперимента')\n",
    "ax[1].set_xlabel('День эксперимента')\n",
    "ax[2].set_xlabel('День эксперимента')\n",
    "ax[0].set_ylabel('Количество событий')\n",
    "ax[1].set_ylabel('Количество событий')\n",
    "ax[2].set_ylabel('Количество событий')\n",
    "\n",
    "fig.delaxes(ax[-1])\n",
    "fig.tight_layout()\n",
    "fig.show()"
   ]
  },
  {
   "cell_type": "markdown",
   "metadata": {},
   "source": [
    "**По всем пунктам в группе А мы видим снижение показателей, в группе B тоже снижение, но графики все же ровнее, кроме того показатель покупок в группе B даже показывает рост 27 и 29 декабря.**\n",
    "\n",
    "**Сказать однозначно, что повлияло на группу B - маркетинговое событие или изменения, связанные с внедрением улучшенной рекомендательной системы - затруднительно (у нас нет описания этой маркетинговой активности), но то, что мы видим на графиках - все же предполагает бОльшее влияние экспериментальных изменений, так как группа А все же показывает спад.**\n",
    "\n",
    "**И нужно заметить, временной период для эксперимента в идеале должен быть свободен от маркетинговых событий, напрямую влияющих на нужные в эксперименте метрики, чтобы не искажать результаты теста, в нашем случае это правило не соблюдено**"
   ]
  },
  {
   "cell_type": "markdown",
   "metadata": {},
   "source": [
    "### Равномерность распределения пользователей по тестовым группам и правильность их формирования"
   ]
  },
  {
   "cell_type": "markdown",
   "metadata": {},
   "source": [
    "АВ-тест предполагает большую схожесть групп пользователей, для чистоты эксперимента. Оценим похожесть пользователей, посмотрим пропорции заполнения групп теста по параметрам пользователя: решион и девайс."
   ]
  },
  {
   "cell_type": "code",
   "execution_count": 109,
   "metadata": {},
   "outputs": [
    {
     "name": "stdout",
     "output_type": "stream",
     "text": [
      "3675\n"
     ]
    },
    {
     "data": {
      "text/plain": [
       "group\n",
       "A    2747\n",
       "B     928\n",
       "Name: user_id, dtype: int64"
      ]
     },
     "execution_count": 109,
     "metadata": {},
     "output_type": "execute_result"
    }
   ],
   "source": [
    "# колuичество пользователей в эксперименте\n",
    "print(exp_data['user_id'].nunique())\n",
    "exp_data.groupby('group')['user_id'].nunique()"
   ]
  },
  {
   "cell_type": "code",
   "execution_count": 110,
   "metadata": {},
   "outputs": [
    {
     "data": {
      "image/png": "[encoded data removed]",
      "text/plain": [
       "<Figure size 1080x432 with 2 Axes>"
      ]
     },
     "metadata": {},
     "output_type": "display_data"
    }
   ],
   "source": [
    "# формирование групп, доли по параметру region\n",
    "fig, ax = plt.subplots(nrows=1, ncols=2, figsize=(15,6))\n",
    "ax = ax.flatten()\n",
    "with plt.style.context('seaborn-deep'):\n",
    "    exp_data[exp_data['group'] == 'A'].groupby('region')['user_id'].nunique().plot(\n",
    "        kind='pie', autopct='%1.1f%%', title='Группа А. Доли пользователей по регионам', pctdistance=0.85, ax=ax[0]\n",
    ") \n",
    "    exp_data[exp_data['group'] == 'B'].groupby('region')['user_id'].nunique().plot(\n",
    "        kind='pie', autopct='%1.1f%%', title='Группа В. Доля пользователей по регионам', pctdistance=0.85, ax=ax[1]\n",
    ")\n",
    "fig.tight_layout()\n",
    "fig.show()"
   ]
  },
  {
   "cell_type": "code",
   "execution_count": 111,
   "metadata": {},
   "outputs": [
    {
     "data": {
      "image/png": "[encoded data removed]",
      "text/plain": [
       "<Figure size 1080x432 with 2 Axes>"
      ]
     },
     "metadata": {},
     "output_type": "display_data"
    }
   ],
   "source": [
    "# формирование групп, доли по параметру device\n",
    "fig, ax = plt.subplots(nrows=1, ncols=2, figsize=(15,6))\n",
    "ax = ax.flatten()\n",
    "with plt.style.context('seaborn-deep'):\n",
    "    exp_data[exp_data['group'] == 'A'].groupby('device')['user_id'].nunique().plot(\n",
    "        kind='pie', autopct='%1.1f%%', title='Группа А. Доли пользователей по device', pctdistance=0.85, ax=ax[0]\n",
    ") \n",
    "    exp_data[exp_data['group'] == 'B'].groupby('device')['user_id'].nunique().plot(\n",
    "        kind='pie', autopct='%1.1f%%', title='Группа В. Доля пользователей по device', pctdistance=0.85, ax=ax[1]\n",
    ")\n",
    "fig.tight_layout()\n",
    "fig.show()"
   ]
  },
  {
   "cell_type": "markdown",
   "metadata": {},
   "source": [
    "**Доли пользователей по регионам и девайсам очень похожи. Группы, относительно характеристик пользователей, заполнены корректно.**"
   ]
  },
  {
   "cell_type": "markdown",
   "metadata": {},
   "source": [
    "### Итоги\n",
    "\n",
    "- Мы удалили пользователей, не совершавших событий (для корректности рассчета воронки)\n",
    "- Оставили пересекающихся пользователей: 1. Пересекающиеся пользователи из группы А конкурирующего по времени проведения теста - не видели изменений, могут быть оставлены; 2. Пересекающиеся пользователи группы В распределены по группам нашего теста, большая часть вошла в группу А. Повторное использование пользователей в АВ-тестах имеет мето быть, но в идеале тесты не должны пересекаться во времени. У нас вариант не идеальный.\n",
    "- Маркетинговое событие охватывало последние 4 дня эксперимента, но существенного влияния не оказало.\n",
    "- По признакам принадлежности к региону и к типу девайса - группы набраны корректно"
   ]
  },
  {
   "cell_type": "markdown",
   "metadata": {},
   "source": [
    "## Исследовательский анализ данных\n",
    "\n",
    "Ответим на вопросы:\n",
    "- Количество событий на пользователя одинаково распределены в выборках?\n",
    "- Как число событий в выборках распределено по дням?\n",
    "- Как меняется конверсия в воронке в выборках на разных этапах?\n",
    "- Какие особенности данных нужно учесть, прежде чем приступать к A/B-тестированию?"
   ]
  },
  {
   "cell_type": "code",
   "execution_count": 112,
   "metadata": {},
   "outputs": [],
   "source": [
    "# обзорная функция\n",
    "def picture(data):\n",
    "    count_event = data['event_name'].nunique()\n",
    "    print ('Уникальных событий -', count_event)\n",
    "    \n",
    "    total_event = data['event_name'].count()\n",
    "    print ('Всего событий -', total_event)\n",
    "    \n",
    "    count_user = data['user_id'].nunique()\n",
    "    print('Пользователей  -', count_user)\n",
    "    \n",
    "    d = data.groupby('user_id')['event_name'].count().reset_index()\n",
    "    i = d['event_name'].mean()\n",
    "    print(f'В среднем на пользователя приходится {i:.2f} событий')\n",
    "    \n",
    "    print('Мы располагаем данными с', exp_data['event_day'].min(), 'по', exp_data['event_day'].max())\n",
    "   "
   ]
  },
  {
   "cell_type": "code",
   "execution_count": 113,
   "metadata": {
    "scrolled": true
   },
   "outputs": [
    {
     "name": "stdout",
     "output_type": "stream",
     "text": [
      "Уникальных событий - 4\n",
      "Всего событий - 24070\n",
      "Пользователей  - 3675\n",
      "В среднем на пользователя приходится 6.55 событий\n",
      "Мы располагаем данными с 2020-12-07 по 2020-12-29\n"
     ]
    }
   ],
   "source": [
    "picture(exp_data)"
   ]
  },
  {
   "cell_type": "markdown",
   "metadata": {},
   "source": [
    "### Количество событий на пользователя в выборках?"
   ]
  },
  {
   "cell_type": "code",
   "execution_count": 114,
   "metadata": {},
   "outputs": [
    {
     "data": {
      "image/png": "[encoded data removed]",
      "text/plain": [
       "<Figure size 1080x504 with 1 Axes>"
      ]
     },
     "metadata": {
      "needs_background": "light"
     },
     "output_type": "display_data"
    }
   ],
   "source": [
    "cnt_event = exp_data.groupby(['user_id','group'])['event_name'].count().reset_index()\n",
    "\n",
    "fig, ax = plt.subplots(figsize=(15,7))\n",
    "sns.barplot(data = cnt_event, x = 'group', y = 'event_name')\n",
    "plt.title('Соеднее количество событий по группам')\n",
    "plt.xlabel('Группы')\n",
    "plt.ylabel('Среднее количество событий')\n",
    "plt.show()"
   ]
  },
  {
   "cell_type": "markdown",
   "metadata": {},
   "source": [
    "**Среднее количество событий на пользователя в группах немного различаются, в среднем примерно на 1 событие больше делает пользователь из группы А.**"
   ]
  },
  {
   "cell_type": "markdown",
   "metadata": {},
   "source": [
    "### Как число событий в выборках распределено по дням?"
   ]
  },
  {
   "cell_type": "code",
   "execution_count": 115,
   "metadata": {},
   "outputs": [
    {
     "data": {
      "image/png": "[encoded data removed]",
      "text/plain": [
       "<Figure size 1080x432 with 1 Axes>"
      ]
     },
     "metadata": {
      "needs_background": "light"
     },
     "output_type": "display_data"
    }
   ],
   "source": [
    "# построим гистограмму\n",
    "f, ax = plt.subplots(figsize=(15,6 ))\n",
    "sns.histplot(data = exp_data, x = 'event_dt', hue = 'group') \n",
    "plt.title('Гистограмма распределения событий по группам')\n",
    "plt.xlabel('Дата события')\n",
    "plt.ylabel('Количество')\n",
    "plt.show()"
   ]
  },
  {
   "cell_type": "markdown",
   "metadata": {},
   "source": [
    " - **В группе B число событий распределено без резких подъемов и спусков до 21-21 декабря, далее количество немного снижается и колеблется вокруг этого значения, тенденция к уменьшению событий в конце эксперимента видна**\n",
    " - **В группе А, число событий до 14 декабря также варьируется слабо, далее идет повышение числа событий до 21-22 декабря и далее спад.**"
   ]
  },
  {
   "cell_type": "markdown",
   "metadata": {},
   "source": [
    "### Как меняется конверсия в воронке в выборках на разных этапах?"
   ]
  },
  {
   "cell_type": "markdown",
   "metadata": {},
   "source": [
    "`!` Помним о том, что пользователь не обязательно последовательно проходит все этапы, если есть реклама/рассылки и прочие маркетинговые активности (а они у нас есть), возможен переход сразу на страницу товара.\n",
    "\n",
    "Далее посмотрим:\n",
    "\n",
    "- какие события есть, как часто они встречаются\n",
    "- сколько пользователей совершали каждое из этих событий по группам теста\n",
    "- посчитаем воронку событий по группам теста"
   ]
  },
  {
   "cell_type": "code",
   "execution_count": 116,
   "metadata": {},
   "outputs": [
    {
     "data": {
      "text/html": [
       "<div>\n",
       "<style scoped>\n",
       "    .dataframe tbody tr th:only-of-type {\n",
       "        vertical-align: middle;\n",
       "    }\n",
       "\n",
       "    .dataframe tbody tr th {\n",
       "        vertical-align: top;\n",
       "    }\n",
       "\n",
       "    .dataframe thead th {\n",
       "        text-align: right;\n",
       "    }\n",
       "</style>\n",
       "<table border=\"1\" class=\"dataframe\">\n",
       "  <thead>\n",
       "    <tr style=\"text-align: right;\">\n",
       "      <th>group</th>\n",
       "      <th>A</th>\n",
       "      <th>B</th>\n",
       "    </tr>\n",
       "    <tr>\n",
       "      <th>event_name</th>\n",
       "      <th></th>\n",
       "      <th></th>\n",
       "    </tr>\n",
       "  </thead>\n",
       "  <tbody>\n",
       "    <tr>\n",
       "      <th>login</th>\n",
       "      <td>8400</td>\n",
       "      <td>2493</td>\n",
       "    </tr>\n",
       "    <tr>\n",
       "      <th>product_page</th>\n",
       "      <td>5415</td>\n",
       "      <td>1331</td>\n",
       "    </tr>\n",
       "    <tr>\n",
       "      <th>purchase</th>\n",
       "      <td>2613</td>\n",
       "      <td>640</td>\n",
       "    </tr>\n",
       "    <tr>\n",
       "      <th>product_cart</th>\n",
       "      <td>2519</td>\n",
       "      <td>659</td>\n",
       "    </tr>\n",
       "  </tbody>\n",
       "</table>\n",
       "</div>"
      ],
      "text/plain": [
       "group            A     B\n",
       "event_name              \n",
       "login         8400  2493\n",
       "product_page  5415  1331\n",
       "purchase      2613   640\n",
       "product_cart  2519   659"
      ]
     },
     "execution_count": 116,
     "metadata": {},
     "output_type": "execute_result"
    }
   ],
   "source": [
    "# посмотрим какие события есть в логах и как часто они встречаются\n",
    "exp_data.pivot_table(index='event_name', columns='group', values = 'user_id', aggfunc='count').sort_values(\n",
    "    by=['A','B'], ascending=False\n",
    ")"
   ]
  },
  {
   "cell_type": "markdown",
   "metadata": {},
   "source": [
    "Событий в product_cart больше, чем покупок в обеих группах, что может быть связано с наличием быстрой покупки с product_page"
   ]
  },
  {
   "cell_type": "code",
   "execution_count": 117,
   "metadata": {},
   "outputs": [
    {
     "data": {
      "text/html": [
       "<div>\n",
       "<style scoped>\n",
       "    .dataframe tbody tr th:only-of-type {\n",
       "        vertical-align: middle;\n",
       "    }\n",
       "\n",
       "    .dataframe tbody tr th {\n",
       "        vertical-align: top;\n",
       "    }\n",
       "\n",
       "    .dataframe thead th {\n",
       "        text-align: right;\n",
       "    }\n",
       "</style>\n",
       "<table border=\"1\" class=\"dataframe\">\n",
       "  <thead>\n",
       "    <tr style=\"text-align: right;\">\n",
       "      <th></th>\n",
       "      <th>event_name</th>\n",
       "      <th>user_id</th>\n",
       "    </tr>\n",
       "  </thead>\n",
       "  <tbody>\n",
       "    <tr>\n",
       "      <th>0</th>\n",
       "      <td>login</td>\n",
       "      <td>2747</td>\n",
       "    </tr>\n",
       "    <tr>\n",
       "      <th>1</th>\n",
       "      <td>product_page</td>\n",
       "      <td>1780</td>\n",
       "    </tr>\n",
       "    <tr>\n",
       "      <th>2</th>\n",
       "      <td>purchase</td>\n",
       "      <td>872</td>\n",
       "    </tr>\n",
       "    <tr>\n",
       "      <th>3</th>\n",
       "      <td>product_cart</td>\n",
       "      <td>824</td>\n",
       "    </tr>\n",
       "  </tbody>\n",
       "</table>\n",
       "</div>"
      ],
      "text/plain": [
       "     event_name  user_id\n",
       "0         login     2747\n",
       "1  product_page     1780\n",
       "2      purchase      872\n",
       "3  product_cart      824"
      ]
     },
     "execution_count": 117,
     "metadata": {},
     "output_type": "execute_result"
    }
   ],
   "source": [
    "# считаем воронку событий, исключая туториал\n",
    "funnel_count_A = exp_data.query('group== \"A\"').groupby('event_name').agg({'user_id':'nunique'}).sort_values(\n",
    "    by='user_id', ascending=False\n",
    ").reset_index()\n",
    "funnel_count_A"
   ]
  },
  {
   "cell_type": "code",
   "execution_count": 118,
   "metadata": {},
   "outputs": [
    {
     "data": {
      "text/html": [
       "<div>\n",
       "<style scoped>\n",
       "    .dataframe tbody tr th:only-of-type {\n",
       "        vertical-align: middle;\n",
       "    }\n",
       "\n",
       "    .dataframe tbody tr th {\n",
       "        vertical-align: top;\n",
       "    }\n",
       "\n",
       "    .dataframe thead th {\n",
       "        text-align: right;\n",
       "    }\n",
       "</style>\n",
       "<table border=\"1\" class=\"dataframe\">\n",
       "  <thead>\n",
       "    <tr style=\"text-align: right;\">\n",
       "      <th></th>\n",
       "      <th>event_name</th>\n",
       "      <th>user_id</th>\n",
       "    </tr>\n",
       "  </thead>\n",
       "  <tbody>\n",
       "    <tr>\n",
       "      <th>0</th>\n",
       "      <td>login</td>\n",
       "      <td>927</td>\n",
       "    </tr>\n",
       "    <tr>\n",
       "      <th>1</th>\n",
       "      <td>product_page</td>\n",
       "      <td>523</td>\n",
       "    </tr>\n",
       "    <tr>\n",
       "      <th>2</th>\n",
       "      <td>purchase</td>\n",
       "      <td>256</td>\n",
       "    </tr>\n",
       "    <tr>\n",
       "      <th>3</th>\n",
       "      <td>product_cart</td>\n",
       "      <td>255</td>\n",
       "    </tr>\n",
       "  </tbody>\n",
       "</table>\n",
       "</div>"
      ],
      "text/plain": [
       "     event_name  user_id\n",
       "0         login      927\n",
       "1  product_page      523\n",
       "2      purchase      256\n",
       "3  product_cart      255"
      ]
     },
     "execution_count": 118,
     "metadata": {},
     "output_type": "execute_result"
    }
   ],
   "source": [
    "funnel_count_B = exp_data.query('group== \"B\"').groupby('event_name').agg({'user_id':'nunique'}).sort_values(\n",
    "    by='user_id', ascending=False\n",
    ").reset_index()\n",
    "funnel_count_B"
   ]
  },
  {
   "cell_type": "code",
   "execution_count": 119,
   "metadata": {},
   "outputs": [],
   "source": [
    "# добавляем конверсию\n",
    "def count_funnel(data):\n",
    "    funnel_list = list(data['user_id'])\n",
    "    conv = []\n",
    "    for i in funnel_list:\n",
    "        x = i/funnel_list[0]\n",
    "        conv.append(x)\n",
    "    conversion = pd.Series(conv)\n",
    "    data['conversion'] = round(conversion*100,1)\n",
    "    return data"
   ]
  },
  {
   "cell_type": "code",
   "execution_count": 120,
   "metadata": {},
   "outputs": [
    {
     "data": {
      "text/html": [
       "<div>\n",
       "<style scoped>\n",
       "    .dataframe tbody tr th:only-of-type {\n",
       "        vertical-align: middle;\n",
       "    }\n",
       "\n",
       "    .dataframe tbody tr th {\n",
       "        vertical-align: top;\n",
       "    }\n",
       "\n",
       "    .dataframe thead th {\n",
       "        text-align: right;\n",
       "    }\n",
       "</style>\n",
       "<table border=\"1\" class=\"dataframe\">\n",
       "  <thead>\n",
       "    <tr style=\"text-align: right;\">\n",
       "      <th></th>\n",
       "      <th>event_name</th>\n",
       "      <th>user_id</th>\n",
       "      <th>conversion</th>\n",
       "    </tr>\n",
       "  </thead>\n",
       "  <tbody>\n",
       "    <tr>\n",
       "      <th>0</th>\n",
       "      <td>login</td>\n",
       "      <td>2747</td>\n",
       "      <td>100.0</td>\n",
       "    </tr>\n",
       "    <tr>\n",
       "      <th>1</th>\n",
       "      <td>product_page</td>\n",
       "      <td>1780</td>\n",
       "      <td>64.8</td>\n",
       "    </tr>\n",
       "    <tr>\n",
       "      <th>3</th>\n",
       "      <td>product_cart</td>\n",
       "      <td>824</td>\n",
       "      <td>30.0</td>\n",
       "    </tr>\n",
       "    <tr>\n",
       "      <th>2</th>\n",
       "      <td>purchase</td>\n",
       "      <td>872</td>\n",
       "      <td>31.7</td>\n",
       "    </tr>\n",
       "  </tbody>\n",
       "</table>\n",
       "</div>"
      ],
      "text/plain": [
       "     event_name  user_id  conversion\n",
       "0         login     2747       100.0\n",
       "1  product_page     1780        64.8\n",
       "3  product_cart      824        30.0\n",
       "2      purchase      872        31.7"
      ]
     },
     "execution_count": 120,
     "metadata": {},
     "output_type": "execute_result"
    }
   ],
   "source": [
    "funnel_A = count_funnel(funnel_count_A).reindex([0,1,3,2])\n",
    "funnel_A"
   ]
  },
  {
   "cell_type": "code",
   "execution_count": 121,
   "metadata": {},
   "outputs": [
    {
     "data": {
      "text/html": [
       "<div>\n",
       "<style scoped>\n",
       "    .dataframe tbody tr th:only-of-type {\n",
       "        vertical-align: middle;\n",
       "    }\n",
       "\n",
       "    .dataframe tbody tr th {\n",
       "        vertical-align: top;\n",
       "    }\n",
       "\n",
       "    .dataframe thead th {\n",
       "        text-align: right;\n",
       "    }\n",
       "</style>\n",
       "<table border=\"1\" class=\"dataframe\">\n",
       "  <thead>\n",
       "    <tr style=\"text-align: right;\">\n",
       "      <th></th>\n",
       "      <th>event_name</th>\n",
       "      <th>user_id</th>\n",
       "      <th>conversion</th>\n",
       "    </tr>\n",
       "  </thead>\n",
       "  <tbody>\n",
       "    <tr>\n",
       "      <th>0</th>\n",
       "      <td>login</td>\n",
       "      <td>927</td>\n",
       "      <td>100.0</td>\n",
       "    </tr>\n",
       "    <tr>\n",
       "      <th>1</th>\n",
       "      <td>product_page</td>\n",
       "      <td>523</td>\n",
       "      <td>56.4</td>\n",
       "    </tr>\n",
       "    <tr>\n",
       "      <th>3</th>\n",
       "      <td>product_cart</td>\n",
       "      <td>255</td>\n",
       "      <td>27.5</td>\n",
       "    </tr>\n",
       "    <tr>\n",
       "      <th>2</th>\n",
       "      <td>purchase</td>\n",
       "      <td>256</td>\n",
       "      <td>27.6</td>\n",
       "    </tr>\n",
       "  </tbody>\n",
       "</table>\n",
       "</div>"
      ],
      "text/plain": [
       "     event_name  user_id  conversion\n",
       "0         login      927       100.0\n",
       "1  product_page      523        56.4\n",
       "3  product_cart      255        27.5\n",
       "2      purchase      256        27.6"
      ]
     },
     "execution_count": 121,
     "metadata": {},
     "output_type": "execute_result"
    }
   ],
   "source": [
    "funnel_B = count_funnel(funnel_count_B).reindex([0,1,3,2])\n",
    "funnel_B"
   ]
  },
  {
   "cell_type": "markdown",
   "metadata": {},
   "source": [
    "- **Продуктовые воронки сформировали согласно логике перехода с этапа на этап при стандартном пути от логина до покупки, обе воронки похожи тем, что покупок больше, чем просмотров корзины - возможность быстрой оплаты покупки со страницы товара востребована у пользователя.**\n",
    "- **В обеих воронках достаточно много пользователей теряется на переходе с login в product_page, на следующем шаге - переход в product_cart|purchase, успешнее выглядит конверсия в воронке группы B, но это следует проверить далее экспериментально.**\n"
   ]
  },
  {
   "cell_type": "markdown",
   "metadata": {},
   "source": [
    "### Какие особенности данных нужно учесть, прежде чем приступать к A/B-тестированию?"
   ]
  },
  {
   "cell_type": "markdown",
   "metadata": {},
   "source": [
    "Глобальных проблем четыре:\n",
    "- пересечение пользователей,\n",
    "- пользователи без событий,\n",
    "- наложение маркетинговой активности - три этих фактора, которые могут влиять на результаты теста мы уже обработали.\n",
    "\n",
    "Теперь обратимся к:\n",
    "- не все пользователи прожили в тесте 14 дней"
   ]
  },
  {
   "cell_type": "code",
   "execution_count": 124,
   "metadata": {
    "scrolled": true
   },
   "outputs": [
    {
     "data": {
      "text/plain": [
       "max    2020-12-29\n",
       "min    2020-12-07\n",
       "Name: event_day, dtype: object"
      ]
     },
     "execution_count": 124,
     "metadata": {},
     "output_type": "execute_result"
    }
   ],
   "source": [
    "# максимум и минимум по дате событий для группы А\n",
    "exp_data.query('group == \"A\"')['event_day'].agg({'min', 'max'})"
   ]
  },
  {
   "cell_type": "code",
   "execution_count": 125,
   "metadata": {},
   "outputs": [
    {
     "data": {
      "text/plain": [
       "max    2020-12-29\n",
       "min    2020-12-07\n",
       "Name: event_day, dtype: object"
      ]
     },
     "execution_count": 125,
     "metadata": {},
     "output_type": "execute_result"
    }
   ],
   "source": [
    "# максимум и минимум по дате событий для группы В\n",
    "exp_data.query('group == \"B\"')['event_day'].agg({'min', 'max'})"
   ]
  },
  {
   "cell_type": "markdown",
   "metadata": {},
   "source": [
    "За остановку теста возьмем 29 декабря. Тогда время жизни в тесте у пользователей, зарегистрированных 21 декабря снижается до 9 дней.\n",
    "\n",
    "Посмотрим какое время нужно пользователю, чтобы дойти до покупки, и примем решение."
   ]
  },
  {
   "cell_type": "code",
   "execution_count": 126,
   "metadata": {},
   "outputs": [
    {
     "data": {
      "text/plain": [
       "count                         1128\n",
       "mean     0 days 12:12:58.184397163\n",
       "std      0 days 08:20:27.740025007\n",
       "min                0 days 00:00:17\n",
       "25%         0 days 06:08:46.500000\n",
       "50%                0 days 11:58:42\n",
       "75%                0 days 18:12:09\n",
       "max                6 days 23:09:45\n",
       "Name: timing, dtype: object"
      ]
     },
     "execution_count": 126,
     "metadata": {},
     "output_type": "execute_result"
    }
   ],
   "source": [
    "# считаем время прохождения пользователя до первой покупки\n",
    "data['timing'] = data['event_dt'] - data['first_date']\n",
    "data[\n",
    "    (data['ab_test'] == 'recommender_system_test') & (data['event_name']=='purchase')\n",
    "].groupby('user_id').agg({'timing':'first'})['timing'].describe()"
   ]
  },
  {
   "cell_type": "markdown",
   "metadata": {},
   "source": [
    "Среднее и медианное время прохождения воронки укладываются в пределы 1 дня, судя по std и максимуму, прохождение воронки более чем за 1 день редкость, а максимум вполне можно считать выбросом, аномальным значением.\n",
    "\n",
    "В связи с этим, не будем удалять из теста пользователей, не проживших 14 дней, так как даже те, которые зарегистрировались 21 декабря, \"живут\" в тесте 9 дней, а у нас максимум до покупки 6."
   ]
  },
  {
   "cell_type": "markdown",
   "metadata": {},
   "source": [
    "### Итоги\n",
    "- В среднем примерно на 1 событие больше делает пользователь из группы А.\n",
    "- В группе B число событий распределено без резких подъемов и спусков до 21-21 декабря, далее количество немного снижается и колеблется вокруг этого значения, тенденция к уменьшению событий в конце эксперимента видна\n",
    "- В группе А, число событий до 14 декабря также варьируется слабо, далее идет повышение числа событий до 21-22 декабря и далее спад.\n",
    "- Не удаляем из теста пользователей, не проживших 14 дней\n",
    "- Отфильтровали события, удалили те, которые совершены пользователями после 14 дня жизни в тесте"
   ]
  },
  {
   "cell_type": "markdown",
   "metadata": {},
   "source": [
    "## Проведение теста"
   ]
  },
  {
   "cell_type": "markdown",
   "metadata": {},
   "source": [
    "Разделим данные по выборкам, посмотрим количественное значение, посмотрим необходимое число пользователей в тесте с помощью интерактивных калькуляторов и сравним с нашим."
   ]
  },
  {
   "cell_type": "code",
   "execution_count": 127,
   "metadata": {},
   "outputs": [
    {
     "data": {
      "text/plain": [
       "3675"
      ]
     },
     "execution_count": 127,
     "metadata": {},
     "output_type": "execute_result"
    }
   ],
   "source": [
    "# количество участников теста\n",
    "exp_data['user_id'].nunique()"
   ]
  },
  {
   "cell_type": "code",
   "execution_count": 128,
   "metadata": {},
   "outputs": [
    {
     "data": {
      "text/plain": [
       "group\n",
       "A    2747\n",
       "B     928\n",
       "Name: user_id, dtype: int64"
      ]
     },
     "execution_count": 128,
     "metadata": {},
     "output_type": "execute_result"
    }
   ],
   "source": [
    "# распределение по группам\n",
    "exp_data.groupby('group')['user_id'].nunique()"
   ]
  },
  {
   "cell_type": "markdown",
   "metadata": {},
   "source": [
    "После удаления пользователей, без событий, наша выборка перестала соответствовать ТЗ, из необходимых 6000 осталось 3675 участников теста. Участников в группе А больше, чем в группе B"
   ]
  },
  {
   "cell_type": "code",
   "execution_count": 129,
   "metadata": {},
   "outputs": [],
   "source": [
    "# делим данные на выборки по группам\n",
    "sample_A = exp_data.loc[exp_data['group'] == 'A']\n",
    "sample_B = exp_data.loc[exp_data['group'] == 'B']"
   ]
  },
  {
   "cell_type": "markdown",
   "metadata": {},
   "source": [
    "Посмотрим на интерактивных калькуляторах сколько пользователей нам нужно, чтобы увидеть изменение конверсии на 10%, если это изменение действительно существует. Помним что нас интересуют показатели конверсии перехода по воронке, соответственно базовый коэффициет в калькуляторе зададим по конверсии воронки группы А -для максимального и минимального значения и посмотрим хватает ли нам пользователей при уровне значимости alpha = 0.05.\n",
    "\n",
    "Используемый калькулятор: https://www.optimizely.com/sample-size-calculator/?conversion=30&effect=10&significance=95\n",
    "\n",
    "- для базовой конверсии 64% (конверсия в переход login ➡️ product_page) достаточно 540 участников для каждой группы\n",
    "- для базовой конверсии 30% (конверсия в переход ➡️ product_cart) достаточно 2800 участников для каждой группы\n",
    "\n",
    "**Нам достаточно пользователей, чтобы доверять результату теста по конверсии login ➡️ product_page, и не достаточно - для уверенности в результатах теста в остальных переходах. Но наш тест изначально был с нарушением условий тестирования, с неполными данными - поэтому примем в тест то количество участников, что осталось после обработки и проверки данных.**"
   ]
  },
  {
   "cell_type": "markdown",
   "metadata": {},
   "source": [
    "**Сформулируем гипотезу для z-теста:**\n",
    "\n",
    "- H0 - доли уникальных посетителей, побывавших на этапе воронки, не имеют статистически значимых различий\n",
    "- H1 - между долями уникальных посетителей, побывавших на этапе воронки, есть статистически значимые различия\n",
    "\n",
    "*Так как на одних и тех же данных будет проводиться множественный тест, применим поправку Бонферрони к уровню значимости.*"
   ]
  },
  {
   "cell_type": "code",
   "execution_count": 130,
   "metadata": {},
   "outputs": [],
   "source": [
    "# подготовим функцию для эксперимента\n",
    "def z_test(data1, data2, value, alpha=0.05/3):\n",
    "   \n",
    "    events = []\n",
    "    users = []\n",
    "    \n",
    "    \n",
    "# заполняем список events - количество уникальных пользователей в событии    \n",
    "    x = data1.loc[data1['event_name'] == value]['user_id'].nunique()\n",
    "    y = data2.loc[data2['event_name'] == value]['user_id'].nunique()\n",
    "    events.append(x)\n",
    "    events.append(y)\n",
    "# заполняем список users - количество уникальных пользователей  \n",
    "    x_s = data1['user_id'].nunique()\n",
    "    y_s = data2['user_id'].nunique()\n",
    "    users.append(x_s)\n",
    "    users.append(y_s)    \n",
    "    \n",
    "# пропорция успешно оплативших по группам\n",
    "    p1 = events[0]/users[0]\n",
    "    p2 = events[1]/users[1]\n",
    "    print(f'Конверсия группы А: {p1}')\n",
    "    print(f'Конверсия группы B: {p2}')\n",
    "    \n",
    "# пропорция успехов в комбинированном датасете\n",
    "    p_combined = (events[0] + events[1]) / (users[0] + users[1])\n",
    "    \n",
    "# разница пропорций в датасетах\n",
    "    difference = p1-p2\n",
    "    \n",
    "# считаем статистику в std нормального распределения\n",
    "    z_value = difference/mth.sqrt(\n",
    "    p_combined * (1 - p_combined)\n",
    "    * (1 / users[0] + 1 / users[1]))\n",
    "    \n",
    "# задаем стандартное нормальное распределение\n",
    "    distr = st.norm(0,1)\n",
    "    \n",
    "# считаем p_value\n",
    "    p_value = (1 - distr.cdf(abs(z_value))) * 2\n",
    "    \n",
    "    print ('p-значение:', p_value)\n",
    "    \n",
    "# интерпретация результата\n",
    "    if p_value < alpha:\n",
    "        print(\n",
    "            f'Событие - {value} \\n Отвергаем нулевую гипотезу: между долями есть значимая разница'\n",
    "        )\n",
    "    else:\n",
    "        print(\n",
    "            f'Событие - {value} \\n Не получилось отвергнуть нулевую гипотезу:нет оснований считать доли разными'\n",
    "        )"
   ]
  },
  {
   "cell_type": "code",
   "execution_count": 131,
   "metadata": {},
   "outputs": [
    {
     "name": "stdout",
     "output_type": "stream",
     "text": [
      "Конверсия группы А: 0.6479796141244994\n",
      "Конверсия группы B: 0.5635775862068966\n",
      "p-значение: 4.310980554755872e-06\n",
      "Событие - product_page \n",
      " Отвергаем нулевую гипотезу: между долями есть значимая разница\n",
      "--------------------------------------\n",
      "Конверсия группы А: 0.2999635966508919\n",
      "Конверсия группы B: 0.27478448275862066\n",
      "p-значение: 0.14534814557238196\n",
      "Событие - product_cart \n",
      " Не получилось отвергнуть нулевую гипотезу:нет оснований считать доли разными\n",
      "--------------------------------------\n",
      "Конверсия группы А: 0.3174372042227885\n",
      "Конверсия группы B: 0.27586206896551724\n",
      "p-значение: 0.017592402663314743\n",
      "Событие - purchase \n",
      " Не получилось отвергнуть нулевую гипотезу:нет оснований считать доли разными\n",
      "--------------------------------------\n"
     ]
    }
   ],
   "source": [
    "value_list = ['product_page', 'product_cart', 'purchase']\n",
    "# запускаем тест\n",
    "for v in value_list:\n",
    "    z_test(sample_A, sample_B, v)\n",
    "    print('--------------------------------------')"
   ]
  },
  {
   "cell_type": "markdown",
   "metadata": {},
   "source": [
    "### Итоги\n",
    "- **между долями уникальных посетителей, побывавших на этапе воронки product_page, есть статистически значимые различия - несмотря на уменьшение количества участников теста(снижение его мощности), этих пользователей хватает, чтобы доверять результатам и увидеть различие в 10%**\n",
    "- **также есть статистически значимые различия межу долями уникальных посетителей на этапе воронки purchase - но здесь вероятность ошибки больше, так как не хватает участников теста для обнаружения разницы конверсий в 10%**\n",
    "- **доли уникальных посетителей, побывавших на этапе воронки - product_cart, не имеют статистически значимых различий - здесь также вероятность ошибки больше, так как не хватает участников теста для обнаружения разницы конверсий в 10%** "
   ]
  },
  {
   "cell_type": "markdown",
   "metadata": {},
   "source": [
    "## Результаты оценки теста\n",
    "\n",
    "**Тест спланирован и проведен некорректно:**\n",
    "- есть пересечение аудитории с конкурирующим по времени тестом (распределение пересекающихся пользователей посчитали допустимым, предположив, что эксперименты независимы и проходят в разных слоях ресурса, хотя такое переиспользование трафика, для тестов, проводящихся в одни и те же даты, некорректно)\n",
    "- есть наложение маркетинговой активности на последние 4 дня эксперимента\n",
    "- кроме того в тесте значительное количество пользователей без событий (были удалены)\n",
    "- ранняя остановка (29 декабря, а не 4 января)\n",
    "- не все пользователи прожили в тесте 14 дней, пользователи зарегистрированные 21 декабря в тесте всего 9 дней (мы выяснили что, по воронке большинство пользователей проходит до покупки за 1 день, поэтому пользователей не проживших 14 дней оставили)\n",
    "- целевая аудитория теста, не только пользователи из Европы\n",
    "- в результате корректировки по участникам теста (удаление пользователей без событий) из предполагаемых 6000 остались 3675 пользователей, такго количества не хватает для корректного проведения всего теста\n",
    "- сильный дисбаланс в пользователях между группами: A - 2747 пользователей, В - 928 пользователей\n",
    "\n",
    "Обработав материалы теста, мы удалили пользователей без событий (снизили мощность теста, но сохранили достоверность конверсии на первом этапе воронки).\n",
    "\n",
    "**Результаты теста:**\n",
    "- между долями уникальных посетителей, побывавших на этапе воронки product_page, есть статистически значимые различия - пользователей хватает, чтобы доверять результатам и увидеть различие в 10%\n",
    "- есть статистически значимые различия межу долями уникальных посетителей на этапе воронки purchase - есть вероятность ошибки, так как не хватает участников теста для обнаружения разницы конверсий в 10%\n",
    "- доли уникальных посетителей, побывавших на этапе воронки - product_cart, не имеют статистически значимых различий - зесть вероятность ошибки, так как не хватает участников теста для обнаружения разницы конверсий в 10%\n",
    "- предполагалось, что конверсия группы В станет выше, чем в группе А на 10%, но анализ показал, что уже на этапе первого перехода по воронке конверсия группы А - 66%, конверсия группы В - 57% - что не соответсвует и нашему ТЗ\n",
    "\n",
    "**Рекомендательную систему по итогу проведения теста внедрять не стоит**\n",
    "\n",
    "` - Из-за многочисленных нарушений технического задания, а также некорректного планирования и проведения теста (есть пересекающиеся пользователи из конкурирующего теста, наложение маркетингового события, несоответствие планируемой аудитории ТЗ, проблемы с наличием большого количества пользователей без событий) корректность проведения теста, как и валидность результата, вызывает вопросы.`\n",
    "\n",
    "`- Кроме того результаты теста на очищенных данных также можно признать относительными, так как после фильтрации в тесте из планируемых 6000 осталось меньше половины (2747 участников), что снизило мощность теста и повысило вероятность ошибки`\n",
    "\n",
    "`- Предварительные рассчеты конверсии в воронке показали, что конверсия группы В по этапам воронки или меньше, или равна конверсии группы А (роста нет)`"
   ]
  }
 ],
 "metadata": {
  "ExecuteTimeLog": [
   {
    "duration": 76,
    "start_time": "2022-08-10T15:43:04.414Z"
   },
   {
    "duration": 1424,
    "start_time": "2022-08-10T15:45:36.761Z"
   },
   {
    "duration": 307,
    "start_time": "2022-08-10T15:49:21.930Z"
   },
   {
    "duration": 62,
    "start_time": "2022-08-10T15:50:26.241Z"
   },
   {
    "duration": 56,
    "start_time": "2022-08-10T15:51:10.920Z"
   },
   {
    "duration": 49,
    "start_time": "2022-08-10T15:51:14.491Z"
   },
   {
    "duration": 4,
    "start_time": "2022-08-10T15:51:21.861Z"
   },
   {
    "duration": 58,
    "start_time": "2022-08-10T15:51:42.292Z"
   },
   {
    "duration": 3,
    "start_time": "2022-08-10T15:52:43.949Z"
   },
   {
    "duration": 20,
    "start_time": "2022-08-10T15:55:04.500Z"
   },
   {
    "duration": 12,
    "start_time": "2022-08-10T15:55:18.033Z"
   },
   {
    "duration": 16,
    "start_time": "2022-08-10T15:55:23.915Z"
   },
   {
    "duration": 18,
    "start_time": "2022-08-10T16:01:14.626Z"
   },
   {
    "duration": 16,
    "start_time": "2022-08-10T16:06:42.474Z"
   },
   {
    "duration": 2186,
    "start_time": "2022-08-10T16:06:57.310Z"
   },
   {
    "duration": 1923,
    "start_time": "2022-08-10T16:07:14.402Z"
   },
   {
    "duration": 1379,
    "start_time": "2022-08-10T16:07:39.898Z"
   },
   {
    "duration": 2061,
    "start_time": "2022-08-10T16:08:11.854Z"
   },
   {
    "duration": 123,
    "start_time": "2022-08-10T16:09:02.847Z"
   },
   {
    "duration": 4,
    "start_time": "2022-08-10T16:09:08.105Z"
   },
   {
    "duration": 3,
    "start_time": "2022-08-10T16:11:22.077Z"
   },
   {
    "duration": 79,
    "start_time": "2022-08-10T16:11:37.596Z"
   },
   {
    "duration": 9,
    "start_time": "2022-08-10T16:11:43.405Z"
   },
   {
    "duration": 1076,
    "start_time": "2022-08-10T16:11:56.506Z"
   },
   {
    "duration": 6,
    "start_time": "2022-08-10T16:13:51.439Z"
   },
   {
    "duration": 685,
    "start_time": "2022-08-10T16:18:38.425Z"
   },
   {
    "duration": 9,
    "start_time": "2022-08-10T16:20:27.298Z"
   },
   {
    "duration": 4,
    "start_time": "2022-08-10T16:20:34.177Z"
   },
   {
    "duration": 648,
    "start_time": "2022-08-10T16:20:34.183Z"
   },
   {
    "duration": 3,
    "start_time": "2022-08-10T16:20:34.833Z"
   },
   {
    "duration": 398,
    "start_time": "2022-08-10T16:20:34.838Z"
   },
   {
    "duration": 4,
    "start_time": "2022-08-10T16:20:35.239Z"
   },
   {
    "duration": 23,
    "start_time": "2022-08-10T16:20:35.244Z"
   },
   {
    "duration": 37,
    "start_time": "2022-08-10T16:20:35.269Z"
   },
   {
    "duration": 300,
    "start_time": "2022-08-10T16:20:35.308Z"
   },
   {
    "duration": 914,
    "start_time": "2022-08-10T16:20:35.609Z"
   },
   {
    "duration": 5,
    "start_time": "2022-08-10T16:25:42.292Z"
   },
   {
    "duration": 275,
    "start_time": "2022-08-10T16:25:46.082Z"
   },
   {
    "duration": 4,
    "start_time": "2022-08-10T16:26:11.081Z"
   },
   {
    "duration": 546,
    "start_time": "2022-08-10T16:26:11.086Z"
   },
   {
    "duration": 5,
    "start_time": "2022-08-10T16:26:11.634Z"
   },
   {
    "duration": 297,
    "start_time": "2022-08-10T16:26:11.641Z"
   },
   {
    "duration": 3,
    "start_time": "2022-08-10T16:26:11.940Z"
   },
   {
    "duration": 25,
    "start_time": "2022-08-10T16:26:11.945Z"
   },
   {
    "duration": 45,
    "start_time": "2022-08-10T16:26:11.972Z"
   },
   {
    "duration": 114,
    "start_time": "2022-08-10T16:26:12.019Z"
   },
   {
    "duration": 1023,
    "start_time": "2022-08-10T16:26:12.134Z"
   },
   {
    "duration": 118,
    "start_time": "2022-08-10T16:29:33.519Z"
   },
   {
    "duration": 5,
    "start_time": "2022-08-10T16:30:00.080Z"
   },
   {
    "duration": 516,
    "start_time": "2022-08-10T16:30:04.355Z"
   },
   {
    "duration": 5,
    "start_time": "2022-08-10T16:31:14.691Z"
   },
   {
    "duration": 448,
    "start_time": "2022-08-10T16:31:16.631Z"
   },
   {
    "duration": 105,
    "start_time": "2022-08-10T16:42:04.999Z"
   },
   {
    "duration": 18,
    "start_time": "2022-08-10T16:42:32.921Z"
   },
   {
    "duration": 18,
    "start_time": "2022-08-10T16:42:40.050Z"
   },
   {
    "duration": 3,
    "start_time": "2022-08-10T16:43:41.014Z"
   },
   {
    "duration": 70,
    "start_time": "2022-08-10T16:43:42.114Z"
   },
   {
    "duration": 70,
    "start_time": "2022-08-10T16:44:25.723Z"
   },
   {
    "duration": 4,
    "start_time": "2022-08-10T16:44:30.799Z"
   },
   {
    "duration": 545,
    "start_time": "2022-08-10T16:44:30.815Z"
   },
   {
    "duration": 6,
    "start_time": "2022-08-10T16:44:31.362Z"
   },
   {
    "duration": 423,
    "start_time": "2022-08-10T16:44:31.369Z"
   },
   {
    "duration": 3,
    "start_time": "2022-08-10T16:44:31.799Z"
   },
   {
    "duration": 99,
    "start_time": "2022-08-10T16:44:31.804Z"
   },
   {
    "duration": 3,
    "start_time": "2022-08-10T16:44:31.904Z"
   },
   {
    "duration": 35,
    "start_time": "2022-08-10T16:44:31.909Z"
   },
   {
    "duration": 316,
    "start_time": "2022-08-10T16:44:31.946Z"
   },
   {
    "duration": 1058,
    "start_time": "2022-08-10T16:44:32.264Z"
   },
   {
    "duration": 101,
    "start_time": "2022-08-10T16:51:15.103Z"
   },
   {
    "duration": 75,
    "start_time": "2022-08-10T16:51:45.164Z"
   },
   {
    "duration": 9,
    "start_time": "2022-08-10T16:59:05.535Z"
   },
   {
    "duration": 36,
    "start_time": "2022-08-10T16:59:16.803Z"
   },
   {
    "duration": 6,
    "start_time": "2022-08-10T16:59:49.095Z"
   },
   {
    "duration": 6,
    "start_time": "2022-08-10T17:00:20.003Z"
   },
   {
    "duration": 6,
    "start_time": "2022-08-10T17:01:10.494Z"
   },
   {
    "duration": 27,
    "start_time": "2022-08-10T17:08:37.787Z"
   },
   {
    "duration": 28,
    "start_time": "2022-08-10T17:08:56.477Z"
   },
   {
    "duration": 35,
    "start_time": "2022-08-10T17:10:19.183Z"
   },
   {
    "duration": 28,
    "start_time": "2022-08-10T17:10:50.750Z"
   },
   {
    "duration": 32,
    "start_time": "2022-08-10T17:11:31.664Z"
   },
   {
    "duration": 33,
    "start_time": "2022-08-10T17:11:36.156Z"
   },
   {
    "duration": 29,
    "start_time": "2022-08-10T17:12:01.233Z"
   },
   {
    "duration": 50,
    "start_time": "2022-08-10T17:13:21.472Z"
   },
   {
    "duration": 50,
    "start_time": "2022-08-10T17:16:35.701Z"
   },
   {
    "duration": 520,
    "start_time": "2022-08-10T17:34:31.311Z"
   },
   {
    "duration": 10,
    "start_time": "2022-08-10T17:39:32.174Z"
   },
   {
    "duration": 5,
    "start_time": "2022-08-10T17:40:01.194Z"
   },
   {
    "duration": 4,
    "start_time": "2022-08-10T17:41:29.532Z"
   },
   {
    "duration": 9,
    "start_time": "2022-08-10T17:42:43.808Z"
   },
   {
    "duration": 8,
    "start_time": "2022-08-10T17:44:28.943Z"
   },
   {
    "duration": 4,
    "start_time": "2022-08-10T17:47:20.061Z"
   },
   {
    "duration": 4,
    "start_time": "2022-08-10T17:47:29.772Z"
   },
   {
    "duration": 4,
    "start_time": "2022-08-10T17:47:42.631Z"
   },
   {
    "duration": 3,
    "start_time": "2022-08-10T17:47:49.804Z"
   },
   {
    "duration": 3,
    "start_time": "2022-08-10T17:53:26.022Z"
   },
   {
    "duration": 3,
    "start_time": "2022-08-10T17:53:58.970Z"
   },
   {
    "duration": 10,
    "start_time": "2022-08-10T17:56:23.143Z"
   },
   {
    "duration": 13,
    "start_time": "2022-08-10T17:59:24.079Z"
   },
   {
    "duration": 139,
    "start_time": "2022-08-10T18:02:56.933Z"
   },
   {
    "duration": 454,
    "start_time": "2022-08-10T18:03:44.857Z"
   },
   {
    "duration": 67,
    "start_time": "2022-08-10T18:04:27.513Z"
   },
   {
    "duration": 70,
    "start_time": "2022-08-10T18:07:09.495Z"
   },
   {
    "duration": 30,
    "start_time": "2022-08-10T18:12:46.672Z"
   },
   {
    "duration": 12,
    "start_time": "2022-08-10T18:12:57.817Z"
   },
   {
    "duration": 88,
    "start_time": "2022-08-10T18:13:25.196Z"
   },
   {
    "duration": 6,
    "start_time": "2022-08-10T18:13:55.761Z"
   },
   {
    "duration": 7,
    "start_time": "2022-08-10T18:18:05.445Z"
   },
   {
    "duration": 29,
    "start_time": "2022-08-10T18:18:11.229Z"
   },
   {
    "duration": 84,
    "start_time": "2022-08-10T18:18:11.776Z"
   },
   {
    "duration": 8,
    "start_time": "2022-08-10T18:18:26.581Z"
   },
   {
    "duration": 3,
    "start_time": "2022-08-10T18:18:42.660Z"
   },
   {
    "duration": 4,
    "start_time": "2022-08-10T18:22:33.332Z"
   },
   {
    "duration": 29,
    "start_time": "2022-08-10T18:23:05.810Z"
   },
   {
    "duration": 27,
    "start_time": "2022-08-10T18:23:15.245Z"
   },
   {
    "duration": 8,
    "start_time": "2022-08-10T18:27:14.194Z"
   },
   {
    "duration": 9,
    "start_time": "2022-08-10T18:27:23.586Z"
   },
   {
    "duration": 9,
    "start_time": "2022-08-10T18:27:39.641Z"
   },
   {
    "duration": 8,
    "start_time": "2022-08-10T18:28:07.683Z"
   },
   {
    "duration": 31,
    "start_time": "2022-08-10T18:34:15.711Z"
   },
   {
    "duration": 47,
    "start_time": "2022-08-10T18:34:17.515Z"
   },
   {
    "duration": 288,
    "start_time": "2022-08-10T18:35:51.659Z"
   },
   {
    "duration": 242,
    "start_time": "2022-08-10T18:36:19.140Z"
   },
   {
    "duration": 107,
    "start_time": "2022-08-10T18:36:43.979Z"
   },
   {
    "duration": 230,
    "start_time": "2022-08-10T18:36:45.276Z"
   },
   {
    "duration": 143,
    "start_time": "2022-08-10T18:39:07.511Z"
   },
   {
    "duration": 192,
    "start_time": "2022-08-10T18:39:17.091Z"
   },
   {
    "duration": 26,
    "start_time": "2022-08-10T18:42:34.979Z"
   },
   {
    "duration": 52,
    "start_time": "2022-08-11T09:18:08.257Z"
   },
   {
    "duration": 1491,
    "start_time": "2022-08-11T09:18:12.892Z"
   },
   {
    "duration": 1042,
    "start_time": "2022-08-11T09:18:14.386Z"
   },
   {
    "duration": 7,
    "start_time": "2022-08-11T09:18:15.430Z"
   },
   {
    "duration": 424,
    "start_time": "2022-08-11T09:18:15.438Z"
   },
   {
    "duration": 3,
    "start_time": "2022-08-11T09:18:15.864Z"
   },
   {
    "duration": 150,
    "start_time": "2022-08-11T09:18:15.869Z"
   },
   {
    "duration": 64,
    "start_time": "2022-08-11T09:18:16.020Z"
   },
   {
    "duration": 14,
    "start_time": "2022-08-11T09:18:16.086Z"
   },
   {
    "duration": 53,
    "start_time": "2022-08-11T09:18:16.102Z"
   },
   {
    "duration": 45,
    "start_time": "2022-08-11T09:18:16.157Z"
   },
   {
    "duration": 6,
    "start_time": "2022-08-11T09:18:16.204Z"
   },
   {
    "duration": 19,
    "start_time": "2022-08-11T09:18:16.212Z"
   },
   {
    "duration": 6,
    "start_time": "2022-08-11T09:18:16.232Z"
   },
   {
    "duration": 170,
    "start_time": "2022-08-11T09:18:16.241Z"
   },
   {
    "duration": 335,
    "start_time": "2022-08-11T09:18:16.413Z"
   },
   {
    "duration": 75,
    "start_time": "2022-08-11T09:18:16.750Z"
   },
   {
    "duration": 27,
    "start_time": "2022-08-11T09:18:16.826Z"
   },
   {
    "duration": 73,
    "start_time": "2022-08-11T09:18:16.855Z"
   },
   {
    "duration": 145,
    "start_time": "2022-08-11T09:18:16.930Z"
   },
   {
    "duration": 137,
    "start_time": "2022-08-11T09:18:17.076Z"
   },
   {
    "duration": 66,
    "start_time": "2022-08-11T09:18:17.215Z"
   },
   {
    "duration": 205,
    "start_time": "2022-08-11T09:22:04.161Z"
   },
   {
    "duration": 79,
    "start_time": "2022-08-11T09:22:17.862Z"
   },
   {
    "duration": 54,
    "start_time": "2022-08-11T09:22:25.134Z"
   },
   {
    "duration": 91,
    "start_time": "2022-08-11T09:22:41.630Z"
   },
   {
    "duration": 100,
    "start_time": "2022-08-11T09:22:56.712Z"
   },
   {
    "duration": 171,
    "start_time": "2022-08-11T09:23:05.359Z"
   },
   {
    "duration": 72,
    "start_time": "2022-08-11T09:23:12.777Z"
   },
   {
    "duration": 64,
    "start_time": "2022-08-11T09:23:29.071Z"
   },
   {
    "duration": 61,
    "start_time": "2022-08-11T09:24:08.278Z"
   },
   {
    "duration": 86,
    "start_time": "2022-08-11T09:24:22.911Z"
   },
   {
    "duration": 48,
    "start_time": "2022-08-11T09:26:13.941Z"
   },
   {
    "duration": 61,
    "start_time": "2022-08-11T09:27:25.548Z"
   },
   {
    "duration": 130,
    "start_time": "2022-08-11T09:27:55.400Z"
   },
   {
    "duration": 52,
    "start_time": "2022-08-11T09:28:53.200Z"
   },
   {
    "duration": 210,
    "start_time": "2022-08-11T09:29:03.419Z"
   },
   {
    "duration": 156,
    "start_time": "2022-08-11T09:29:11.730Z"
   },
   {
    "duration": 83,
    "start_time": "2022-08-11T09:29:40.005Z"
   },
   {
    "duration": 50,
    "start_time": "2022-08-11T09:31:33.895Z"
   },
   {
    "duration": 87,
    "start_time": "2022-08-11T09:31:41.650Z"
   },
   {
    "duration": 88,
    "start_time": "2022-08-11T09:31:55.720Z"
   },
   {
    "duration": 90,
    "start_time": "2022-08-11T09:32:59.061Z"
   },
   {
    "duration": 84,
    "start_time": "2022-08-11T09:33:23.210Z"
   },
   {
    "duration": 7,
    "start_time": "2022-08-11T09:43:16.341Z"
   },
   {
    "duration": 139,
    "start_time": "2022-08-11T09:47:30.822Z"
   },
   {
    "duration": 18,
    "start_time": "2022-08-11T09:48:15.248Z"
   },
   {
    "duration": 18,
    "start_time": "2022-08-11T09:48:20.013Z"
   },
   {
    "duration": 11,
    "start_time": "2022-08-11T09:49:57.330Z"
   },
   {
    "duration": 19,
    "start_time": "2022-08-11T09:50:44.230Z"
   },
   {
    "duration": 12,
    "start_time": "2022-08-11T09:50:51.500Z"
   },
   {
    "duration": 39,
    "start_time": "2022-08-11T09:54:14.177Z"
   },
   {
    "duration": 15,
    "start_time": "2022-08-11T09:54:30.568Z"
   },
   {
    "duration": 18,
    "start_time": "2022-08-11T09:56:26.629Z"
   },
   {
    "duration": 43,
    "start_time": "2022-08-11T09:56:42.948Z"
   },
   {
    "duration": 35,
    "start_time": "2022-08-11T09:57:33.059Z"
   },
   {
    "duration": 13,
    "start_time": "2022-08-11T09:57:45.459Z"
   },
   {
    "duration": 12,
    "start_time": "2022-08-11T10:00:11.212Z"
   },
   {
    "duration": 25,
    "start_time": "2022-08-11T10:00:42.091Z"
   },
   {
    "duration": 15,
    "start_time": "2022-08-11T10:00:49.719Z"
   },
   {
    "duration": 14,
    "start_time": "2022-08-11T10:04:05.464Z"
   },
   {
    "duration": 3166,
    "start_time": "2022-08-11T10:04:59.374Z"
   },
   {
    "duration": 54,
    "start_time": "2022-08-11T12:03:05.525Z"
   },
   {
    "duration": 1349,
    "start_time": "2022-08-11T12:03:11.936Z"
   },
   {
    "duration": 909,
    "start_time": "2022-08-11T12:03:13.287Z"
   },
   {
    "duration": 7,
    "start_time": "2022-08-11T12:03:14.198Z"
   },
   {
    "duration": 496,
    "start_time": "2022-08-11T12:03:14.206Z"
   },
   {
    "duration": 3,
    "start_time": "2022-08-11T12:03:14.704Z"
   },
   {
    "duration": 125,
    "start_time": "2022-08-11T12:03:14.709Z"
   },
   {
    "duration": 80,
    "start_time": "2022-08-11T12:03:14.836Z"
   },
   {
    "duration": 6,
    "start_time": "2022-08-11T12:03:14.917Z"
   },
   {
    "duration": 75,
    "start_time": "2022-08-11T12:03:14.925Z"
   },
   {
    "duration": 106,
    "start_time": "2022-08-11T12:03:15.001Z"
   },
   {
    "duration": 7,
    "start_time": "2022-08-11T12:03:15.109Z"
   },
   {
    "duration": 26,
    "start_time": "2022-08-11T12:03:15.117Z"
   },
   {
    "duration": 18,
    "start_time": "2022-08-11T12:03:15.144Z"
   },
   {
    "duration": 203,
    "start_time": "2022-08-11T12:03:15.166Z"
   },
   {
    "duration": 11,
    "start_time": "2022-08-11T12:03:15.370Z"
   },
   {
    "duration": 47,
    "start_time": "2022-08-11T12:03:15.383Z"
   },
   {
    "duration": 13,
    "start_time": "2022-08-11T12:03:15.432Z"
   },
   {
    "duration": 3320,
    "start_time": "2022-08-11T12:03:15.447Z"
   },
   {
    "duration": 23,
    "start_time": "2022-08-11T12:13:03.095Z"
   },
   {
    "duration": 872,
    "start_time": "2022-08-11T12:14:57.693Z"
   },
   {
    "duration": 1271,
    "start_time": "2022-08-11T12:16:55.843Z"
   },
   {
    "duration": 17,
    "start_time": "2022-08-11T12:17:06.591Z"
   },
   {
    "duration": 37,
    "start_time": "2022-08-11T12:17:12.920Z"
   },
   {
    "duration": 17,
    "start_time": "2022-08-11T12:19:02.380Z"
   },
   {
    "duration": 4,
    "start_time": "2022-08-11T12:24:43.437Z"
   },
   {
    "duration": 9,
    "start_time": "2022-08-11T12:24:52.167Z"
   },
   {
    "duration": 24,
    "start_time": "2022-08-11T12:25:27.339Z"
   },
   {
    "duration": 145,
    "start_time": "2022-08-11T12:27:27.047Z"
   },
   {
    "duration": 617,
    "start_time": "2022-08-11T12:27:37.134Z"
   },
   {
    "duration": 3,
    "start_time": "2022-08-11T12:31:06.149Z"
   },
   {
    "duration": 552,
    "start_time": "2022-08-11T12:31:06.158Z"
   },
   {
    "duration": 5,
    "start_time": "2022-08-11T12:31:06.712Z"
   },
   {
    "duration": 426,
    "start_time": "2022-08-11T12:31:06.719Z"
   },
   {
    "duration": 2,
    "start_time": "2022-08-11T12:31:07.147Z"
   },
   {
    "duration": 118,
    "start_time": "2022-08-11T12:31:07.151Z"
   },
   {
    "duration": 77,
    "start_time": "2022-08-11T12:31:07.271Z"
   },
   {
    "duration": 5,
    "start_time": "2022-08-11T12:31:07.350Z"
   },
   {
    "duration": 67,
    "start_time": "2022-08-11T12:31:07.356Z"
   },
   {
    "duration": 108,
    "start_time": "2022-08-11T12:31:07.425Z"
   },
   {
    "duration": 7,
    "start_time": "2022-08-11T12:31:07.535Z"
   },
   {
    "duration": 25,
    "start_time": "2022-08-11T12:31:07.543Z"
   },
   {
    "duration": 3,
    "start_time": "2022-08-11T12:31:07.570Z"
   },
   {
    "duration": 148,
    "start_time": "2022-08-11T12:31:07.575Z"
   },
   {
    "duration": 12,
    "start_time": "2022-08-11T12:31:07.726Z"
   },
   {
    "duration": 21,
    "start_time": "2022-08-11T12:31:07.740Z"
   },
   {
    "duration": 14,
    "start_time": "2022-08-11T12:31:07.763Z"
   },
   {
    "duration": 655,
    "start_time": "2022-08-11T12:31:07.779Z"
   },
   {
    "duration": 20,
    "start_time": "2022-08-11T12:31:08.436Z"
   },
   {
    "duration": 24,
    "start_time": "2022-08-11T12:31:08.457Z"
   },
   {
    "duration": 14,
    "start_time": "2022-08-11T12:34:52.831Z"
   },
   {
    "duration": 18,
    "start_time": "2022-08-11T12:41:59.182Z"
   },
   {
    "duration": 12,
    "start_time": "2022-08-11T12:53:58.056Z"
   },
   {
    "duration": 10,
    "start_time": "2022-08-11T12:55:56.847Z"
   },
   {
    "duration": 10,
    "start_time": "2022-08-11T12:56:15.786Z"
   },
   {
    "duration": 198,
    "start_time": "2022-08-11T13:02:37.122Z"
   },
   {
    "duration": 18,
    "start_time": "2022-08-11T13:02:46.835Z"
   },
   {
    "duration": 11,
    "start_time": "2022-08-11T13:04:12.211Z"
   },
   {
    "duration": 15,
    "start_time": "2022-08-11T13:05:14.693Z"
   },
   {
    "duration": 17,
    "start_time": "2022-08-11T13:06:18.241Z"
   },
   {
    "duration": 33,
    "start_time": "2022-08-11T13:07:13.111Z"
   },
   {
    "duration": 18,
    "start_time": "2022-08-11T13:07:56.989Z"
   },
   {
    "duration": 21,
    "start_time": "2022-08-11T13:08:47.656Z"
   },
   {
    "duration": 17,
    "start_time": "2022-08-11T13:10:43.763Z"
   },
   {
    "duration": 10,
    "start_time": "2022-08-11T13:10:48.582Z"
   },
   {
    "duration": 11,
    "start_time": "2022-08-11T13:11:46.390Z"
   },
   {
    "duration": 31,
    "start_time": "2022-08-11T13:13:16.884Z"
   },
   {
    "duration": 28,
    "start_time": "2022-08-11T13:13:32.339Z"
   },
   {
    "duration": 13,
    "start_time": "2022-08-11T13:14:21.351Z"
   },
   {
    "duration": 28,
    "start_time": "2022-08-11T13:16:09.522Z"
   },
   {
    "duration": 24,
    "start_time": "2022-08-11T13:16:44.786Z"
   },
   {
    "duration": 12,
    "start_time": "2022-08-11T13:22:23.118Z"
   },
   {
    "duration": 6,
    "start_time": "2022-08-11T13:23:16.352Z"
   },
   {
    "duration": 15,
    "start_time": "2022-08-11T13:25:11.795Z"
   },
   {
    "duration": 64,
    "start_time": "2022-08-11T13:26:58.366Z"
   },
   {
    "duration": 9,
    "start_time": "2022-08-11T13:27:03.906Z"
   },
   {
    "duration": 17,
    "start_time": "2022-08-11T13:27:24.964Z"
   },
   {
    "duration": 9,
    "start_time": "2022-08-11T13:27:37.554Z"
   },
   {
    "duration": 12,
    "start_time": "2022-08-11T13:28:11.531Z"
   },
   {
    "duration": 12,
    "start_time": "2022-08-11T13:28:26.796Z"
   },
   {
    "duration": 27,
    "start_time": "2022-08-11T13:29:57.900Z"
   },
   {
    "duration": 12,
    "start_time": "2022-08-11T13:32:58.960Z"
   },
   {
    "duration": 12,
    "start_time": "2022-08-11T13:34:21.908Z"
   },
   {
    "duration": 21,
    "start_time": "2022-08-11T13:34:55.658Z"
   },
   {
    "duration": 43,
    "start_time": "2022-08-11T13:45:03.027Z"
   },
   {
    "duration": 41,
    "start_time": "2022-08-11T13:48:06.446Z"
   },
   {
    "duration": 3,
    "start_time": "2022-08-11T14:32:47.433Z"
   },
   {
    "duration": 26,
    "start_time": "2022-08-11T14:32:49.451Z"
   },
   {
    "duration": 3,
    "start_time": "2022-08-11T14:32:57.215Z"
   },
   {
    "duration": 25,
    "start_time": "2022-08-11T14:32:59.053Z"
   },
   {
    "duration": 3,
    "start_time": "2022-08-11T14:34:03.530Z"
   },
   {
    "duration": 182,
    "start_time": "2022-08-11T14:34:04.385Z"
   },
   {
    "duration": 4,
    "start_time": "2022-08-11T14:34:11.013Z"
   },
   {
    "duration": 588,
    "start_time": "2022-08-11T14:34:11.020Z"
   },
   {
    "duration": 5,
    "start_time": "2022-08-11T14:34:11.610Z"
   },
   {
    "duration": 431,
    "start_time": "2022-08-11T14:34:11.617Z"
   },
   {
    "duration": 4,
    "start_time": "2022-08-11T14:34:12.050Z"
   },
   {
    "duration": 263,
    "start_time": "2022-08-11T14:34:12.055Z"
   },
   {
    "duration": 96,
    "start_time": "2022-08-11T14:34:12.319Z"
   },
   {
    "duration": 6,
    "start_time": "2022-08-11T14:34:12.417Z"
   },
   {
    "duration": 52,
    "start_time": "2022-08-11T14:34:12.424Z"
   },
   {
    "duration": 103,
    "start_time": "2022-08-11T14:34:12.478Z"
   },
   {
    "duration": 7,
    "start_time": "2022-08-11T14:34:12.583Z"
   },
   {
    "duration": 22,
    "start_time": "2022-08-11T14:34:12.592Z"
   },
   {
    "duration": 6,
    "start_time": "2022-08-11T14:34:12.616Z"
   },
   {
    "duration": 157,
    "start_time": "2022-08-11T14:34:12.624Z"
   },
   {
    "duration": 50,
    "start_time": "2022-08-11T14:34:12.783Z"
   },
   {
    "duration": 0,
    "start_time": "2022-08-11T14:34:12.834Z"
   },
   {
    "duration": 0,
    "start_time": "2022-08-11T14:34:12.835Z"
   },
   {
    "duration": 0,
    "start_time": "2022-08-11T14:34:12.836Z"
   },
   {
    "duration": 0,
    "start_time": "2022-08-11T14:34:12.837Z"
   },
   {
    "duration": 0,
    "start_time": "2022-08-11T14:34:12.838Z"
   },
   {
    "duration": 0,
    "start_time": "2022-08-11T14:34:12.839Z"
   },
   {
    "duration": 0,
    "start_time": "2022-08-11T14:34:12.840Z"
   },
   {
    "duration": 0,
    "start_time": "2022-08-11T14:34:12.841Z"
   },
   {
    "duration": 4,
    "start_time": "2022-08-11T14:34:58.940Z"
   },
   {
    "duration": 538,
    "start_time": "2022-08-11T14:34:58.947Z"
   },
   {
    "duration": 5,
    "start_time": "2022-08-11T14:34:59.487Z"
   },
   {
    "duration": 433,
    "start_time": "2022-08-11T14:34:59.494Z"
   },
   {
    "duration": 3,
    "start_time": "2022-08-11T14:34:59.929Z"
   },
   {
    "duration": 246,
    "start_time": "2022-08-11T14:34:59.934Z"
   },
   {
    "duration": 86,
    "start_time": "2022-08-11T14:35:00.181Z"
   },
   {
    "duration": 5,
    "start_time": "2022-08-11T14:35:00.269Z"
   },
   {
    "duration": 72,
    "start_time": "2022-08-11T14:35:00.275Z"
   },
   {
    "duration": 105,
    "start_time": "2022-08-11T14:35:00.348Z"
   },
   {
    "duration": 7,
    "start_time": "2022-08-11T14:35:00.454Z"
   },
   {
    "duration": 30,
    "start_time": "2022-08-11T14:35:00.462Z"
   },
   {
    "duration": 35,
    "start_time": "2022-08-11T14:35:00.494Z"
   },
   {
    "duration": 183,
    "start_time": "2022-08-11T14:35:00.532Z"
   },
   {
    "duration": 40,
    "start_time": "2022-08-11T14:35:00.717Z"
   },
   {
    "duration": 0,
    "start_time": "2022-08-11T14:35:00.758Z"
   },
   {
    "duration": 0,
    "start_time": "2022-08-11T14:35:00.759Z"
   },
   {
    "duration": 0,
    "start_time": "2022-08-11T14:35:00.760Z"
   },
   {
    "duration": 0,
    "start_time": "2022-08-11T14:35:00.761Z"
   },
   {
    "duration": 0,
    "start_time": "2022-08-11T14:35:00.762Z"
   },
   {
    "duration": 0,
    "start_time": "2022-08-11T14:35:00.763Z"
   },
   {
    "duration": 0,
    "start_time": "2022-08-11T14:35:00.764Z"
   },
   {
    "duration": 0,
    "start_time": "2022-08-11T14:35:00.765Z"
   },
   {
    "duration": 3,
    "start_time": "2022-08-11T14:36:27.734Z"
   },
   {
    "duration": 210,
    "start_time": "2022-08-11T14:36:28.515Z"
   },
   {
    "duration": 88,
    "start_time": "2022-08-11T14:36:40.362Z"
   },
   {
    "duration": 3,
    "start_time": "2022-08-11T14:37:12.784Z"
   },
   {
    "duration": 123,
    "start_time": "2022-08-11T14:37:16.586Z"
   },
   {
    "duration": 65,
    "start_time": "2022-08-11T14:37:17.836Z"
   },
   {
    "duration": 3,
    "start_time": "2022-08-11T14:37:32.976Z"
   },
   {
    "duration": 569,
    "start_time": "2022-08-11T14:37:32.981Z"
   },
   {
    "duration": 4,
    "start_time": "2022-08-11T14:37:33.552Z"
   },
   {
    "duration": 417,
    "start_time": "2022-08-11T14:37:33.557Z"
   },
   {
    "duration": 3,
    "start_time": "2022-08-11T14:37:33.976Z"
   },
   {
    "duration": 140,
    "start_time": "2022-08-11T14:37:33.981Z"
   },
   {
    "duration": 67,
    "start_time": "2022-08-11T14:37:34.123Z"
   },
   {
    "duration": 11,
    "start_time": "2022-08-11T14:37:34.192Z"
   },
   {
    "duration": 60,
    "start_time": "2022-08-11T14:37:34.206Z"
   },
   {
    "duration": 98,
    "start_time": "2022-08-11T14:37:34.268Z"
   },
   {
    "duration": 6,
    "start_time": "2022-08-11T14:37:34.367Z"
   },
   {
    "duration": 12,
    "start_time": "2022-08-11T14:37:34.375Z"
   },
   {
    "duration": 36,
    "start_time": "2022-08-11T14:37:34.397Z"
   },
   {
    "duration": 182,
    "start_time": "2022-08-11T14:37:34.436Z"
   },
   {
    "duration": 24,
    "start_time": "2022-08-11T14:37:34.621Z"
   },
   {
    "duration": 19,
    "start_time": "2022-08-11T14:37:34.647Z"
   },
   {
    "duration": 601,
    "start_time": "2022-08-11T14:37:34.667Z"
   },
   {
    "duration": 6,
    "start_time": "2022-08-11T14:37:35.270Z"
   },
   {
    "duration": 34,
    "start_time": "2022-08-11T14:37:35.278Z"
   },
   {
    "duration": 22,
    "start_time": "2022-08-11T14:37:35.314Z"
   },
   {
    "duration": 43,
    "start_time": "2022-08-11T14:37:35.337Z"
   },
   {
    "duration": 1202,
    "start_time": "2022-08-11T14:37:35.382Z"
   },
   {
    "duration": 0,
    "start_time": "2022-08-11T14:37:36.586Z"
   },
   {
    "duration": 18,
    "start_time": "2022-08-11T14:39:18.505Z"
   },
   {
    "duration": 55,
    "start_time": "2022-08-11T14:40:52.459Z"
   },
   {
    "duration": 16,
    "start_time": "2022-08-11T14:41:05.226Z"
   },
   {
    "duration": 47,
    "start_time": "2022-08-11T14:42:42.428Z"
   },
   {
    "duration": 12,
    "start_time": "2022-08-11T14:42:45.858Z"
   },
   {
    "duration": 18,
    "start_time": "2022-08-11T14:44:33.278Z"
   },
   {
    "duration": 52,
    "start_time": "2022-08-11T14:45:00.699Z"
   },
   {
    "duration": 10,
    "start_time": "2022-08-11T14:45:03.398Z"
   },
   {
    "duration": 39,
    "start_time": "2022-08-11T14:47:01.862Z"
   },
   {
    "duration": 7,
    "start_time": "2022-08-11T14:47:02.491Z"
   },
   {
    "duration": 40,
    "start_time": "2022-08-11T14:48:19.379Z"
   },
   {
    "duration": 13,
    "start_time": "2022-08-11T14:48:25.638Z"
   },
   {
    "duration": 4,
    "start_time": "2022-08-11T14:48:39.597Z"
   },
   {
    "duration": 7,
    "start_time": "2022-08-11T15:01:00.530Z"
   },
   {
    "duration": 7,
    "start_time": "2022-08-11T15:01:09.540Z"
   },
   {
    "duration": 10,
    "start_time": "2022-08-11T15:06:15.481Z"
   },
   {
    "duration": 153,
    "start_time": "2022-08-11T15:08:44.872Z"
   },
   {
    "duration": 43,
    "start_time": "2022-08-11T15:08:55.786Z"
   },
   {
    "duration": 53,
    "start_time": "2022-08-11T15:09:34.190Z"
   },
   {
    "duration": 14,
    "start_time": "2022-08-11T15:11:23.614Z"
   },
   {
    "duration": 69,
    "start_time": "2022-08-11T15:11:59.830Z"
   },
   {
    "duration": 48,
    "start_time": "2022-08-11T15:12:15.684Z"
   },
   {
    "duration": 18,
    "start_time": "2022-08-11T15:12:29.145Z"
   },
   {
    "duration": 63,
    "start_time": "2022-08-11T15:12:58.271Z"
   },
   {
    "duration": 23,
    "start_time": "2022-08-11T15:13:12.591Z"
   },
   {
    "duration": 41,
    "start_time": "2022-08-11T15:13:29.113Z"
   },
   {
    "duration": 9,
    "start_time": "2022-08-11T15:14:15.998Z"
   },
   {
    "duration": 42,
    "start_time": "2022-08-11T15:15:23.373Z"
   },
   {
    "duration": 17,
    "start_time": "2022-08-11T15:16:10.504Z"
   },
   {
    "duration": 16,
    "start_time": "2022-08-11T15:16:50.191Z"
   },
   {
    "duration": 16,
    "start_time": "2022-08-11T15:17:06.889Z"
   },
   {
    "duration": 31,
    "start_time": "2022-08-11T15:18:46.047Z"
   },
   {
    "duration": 24,
    "start_time": "2022-08-11T15:21:11.964Z"
   },
   {
    "duration": 9,
    "start_time": "2022-08-11T15:22:47.088Z"
   },
   {
    "duration": 9,
    "start_time": "2022-08-11T15:24:20.226Z"
   },
   {
    "duration": 8,
    "start_time": "2022-08-11T15:24:54.127Z"
   },
   {
    "duration": 10,
    "start_time": "2022-08-11T15:28:27.311Z"
   },
   {
    "duration": 11,
    "start_time": "2022-08-11T15:28:48.397Z"
   },
   {
    "duration": 24,
    "start_time": "2022-08-11T15:29:15.141Z"
   },
   {
    "duration": 13,
    "start_time": "2022-08-11T15:31:48.285Z"
   },
   {
    "duration": 11,
    "start_time": "2022-08-11T15:32:14.056Z"
   },
   {
    "duration": 7,
    "start_time": "2022-08-11T15:32:35.849Z"
   },
   {
    "duration": 6,
    "start_time": "2022-08-11T15:32:52.646Z"
   },
   {
    "duration": 15,
    "start_time": "2022-08-11T15:38:44.450Z"
   },
   {
    "duration": 27,
    "start_time": "2022-08-11T15:39:24.451Z"
   },
   {
    "duration": 10,
    "start_time": "2022-08-11T15:48:33.880Z"
   },
   {
    "duration": 13,
    "start_time": "2022-08-11T15:48:41.512Z"
   },
   {
    "duration": 21,
    "start_time": "2022-08-11T15:49:11.950Z"
   },
   {
    "duration": 5,
    "start_time": "2022-08-11T15:49:12.726Z"
   },
   {
    "duration": 15,
    "start_time": "2022-08-11T15:51:43.395Z"
   },
   {
    "duration": 8,
    "start_time": "2022-08-11T15:53:35.913Z"
   },
   {
    "duration": 10,
    "start_time": "2022-08-11T15:54:11.544Z"
   },
   {
    "duration": 11,
    "start_time": "2022-08-11T15:55:38.511Z"
   },
   {
    "duration": 17,
    "start_time": "2022-08-11T15:55:49.580Z"
   },
   {
    "duration": 11,
    "start_time": "2022-08-11T15:55:50.150Z"
   },
   {
    "duration": 11,
    "start_time": "2022-08-11T15:55:50.625Z"
   },
   {
    "duration": 10,
    "start_time": "2022-08-11T16:03:53.376Z"
   },
   {
    "duration": 8,
    "start_time": "2022-08-11T16:07:49.569Z"
   },
   {
    "duration": 14,
    "start_time": "2022-08-11T16:08:16.896Z"
   },
   {
    "duration": 6,
    "start_time": "2022-08-11T16:19:52.117Z"
   },
   {
    "duration": 20,
    "start_time": "2022-08-11T16:20:04.513Z"
   },
   {
    "duration": 6,
    "start_time": "2022-08-11T16:20:19.282Z"
   },
   {
    "duration": 87,
    "start_time": "2022-08-11T16:21:33.349Z"
   },
   {
    "duration": 85,
    "start_time": "2022-08-11T16:21:46.923Z"
   },
   {
    "duration": 99,
    "start_time": "2022-08-11T16:22:23.911Z"
   },
   {
    "duration": 10,
    "start_time": "2022-08-11T16:27:21.018Z"
   },
   {
    "duration": 11,
    "start_time": "2022-08-11T16:28:36.115Z"
   },
   {
    "duration": 14,
    "start_time": "2022-08-11T16:32:51.390Z"
   },
   {
    "duration": 12,
    "start_time": "2022-08-11T16:33:36.234Z"
   },
   {
    "duration": 12,
    "start_time": "2022-08-11T16:33:59.170Z"
   },
   {
    "duration": 18,
    "start_time": "2022-08-11T16:39:12.312Z"
   },
   {
    "duration": 17,
    "start_time": "2022-08-11T16:39:23.022Z"
   },
   {
    "duration": 16,
    "start_time": "2022-08-11T16:42:06.277Z"
   },
   {
    "duration": 16,
    "start_time": "2022-08-11T16:43:50.871Z"
   },
   {
    "duration": 15,
    "start_time": "2022-08-11T17:09:24.880Z"
   },
   {
    "duration": 25,
    "start_time": "2022-08-11T17:12:46.026Z"
   },
   {
    "duration": 28,
    "start_time": "2022-08-11T17:14:48.547Z"
   },
   {
    "duration": 10,
    "start_time": "2022-08-11T17:16:59.018Z"
   },
   {
    "duration": 11,
    "start_time": "2022-08-11T17:17:21.275Z"
   },
   {
    "duration": 26,
    "start_time": "2022-08-11T17:17:31.029Z"
   },
   {
    "duration": 20,
    "start_time": "2022-08-11T17:23:03.314Z"
   },
   {
    "duration": 29,
    "start_time": "2022-08-11T17:23:19.986Z"
   },
   {
    "duration": 23,
    "start_time": "2022-08-11T17:24:22.302Z"
   },
   {
    "duration": 17,
    "start_time": "2022-08-11T17:24:33.484Z"
   },
   {
    "duration": 8,
    "start_time": "2022-08-11T17:25:03.401Z"
   },
   {
    "duration": 13,
    "start_time": "2022-08-11T17:27:14.377Z"
   },
   {
    "duration": 16,
    "start_time": "2022-08-11T17:28:52.911Z"
   },
   {
    "duration": 10,
    "start_time": "2022-08-11T17:29:29.682Z"
   },
   {
    "duration": 18,
    "start_time": "2022-08-11T17:30:10.834Z"
   },
   {
    "duration": 6,
    "start_time": "2022-08-11T17:30:45.232Z"
   },
   {
    "duration": 6,
    "start_time": "2022-08-11T17:31:46.350Z"
   },
   {
    "duration": 6,
    "start_time": "2022-08-11T17:32:19.153Z"
   },
   {
    "duration": 5,
    "start_time": "2022-08-11T17:32:43.981Z"
   },
   {
    "duration": 11,
    "start_time": "2022-08-11T17:35:48.485Z"
   },
   {
    "duration": 10,
    "start_time": "2022-08-11T17:36:27.275Z"
   },
   {
    "duration": 10,
    "start_time": "2022-08-11T17:36:58.961Z"
   },
   {
    "duration": 10,
    "start_time": "2022-08-11T17:37:19.720Z"
   },
   {
    "duration": 11,
    "start_time": "2022-08-11T17:37:43.056Z"
   },
   {
    "duration": 13,
    "start_time": "2022-08-11T17:38:09.432Z"
   },
   {
    "duration": 5,
    "start_time": "2022-08-11T17:53:34.083Z"
   },
   {
    "duration": 7,
    "start_time": "2022-08-11T17:54:03.744Z"
   },
   {
    "duration": 56,
    "start_time": "2022-08-11T17:55:13.272Z"
   },
   {
    "duration": 11,
    "start_time": "2022-08-11T17:55:24.015Z"
   },
   {
    "duration": 1282,
    "start_time": "2022-08-12T02:04:02.985Z"
   },
   {
    "duration": 2179,
    "start_time": "2022-08-12T02:04:04.269Z"
   },
   {
    "duration": 5,
    "start_time": "2022-08-12T02:04:06.450Z"
   },
   {
    "duration": 458,
    "start_time": "2022-08-12T02:04:06.457Z"
   },
   {
    "duration": 3,
    "start_time": "2022-08-12T02:04:06.917Z"
   },
   {
    "duration": 123,
    "start_time": "2022-08-12T02:04:06.921Z"
   },
   {
    "duration": 72,
    "start_time": "2022-08-12T02:04:07.046Z"
   },
   {
    "duration": 5,
    "start_time": "2022-08-12T02:04:07.119Z"
   },
   {
    "duration": 44,
    "start_time": "2022-08-12T02:04:07.125Z"
   },
   {
    "duration": 129,
    "start_time": "2022-08-12T02:04:07.171Z"
   },
   {
    "duration": 6,
    "start_time": "2022-08-12T02:04:07.305Z"
   },
   {
    "duration": 10,
    "start_time": "2022-08-12T02:04:07.312Z"
   },
   {
    "duration": 9,
    "start_time": "2022-08-12T02:04:07.323Z"
   },
   {
    "duration": 188,
    "start_time": "2022-08-12T02:04:07.333Z"
   },
   {
    "duration": 32,
    "start_time": "2022-08-12T02:04:07.522Z"
   },
   {
    "duration": 12,
    "start_time": "2022-08-12T02:04:07.555Z"
   },
   {
    "duration": 541,
    "start_time": "2022-08-12T02:04:07.568Z"
   },
   {
    "duration": 7,
    "start_time": "2022-08-12T02:04:08.111Z"
   },
   {
    "duration": 12,
    "start_time": "2022-08-12T02:04:08.119Z"
   },
   {
    "duration": 18,
    "start_time": "2022-08-12T02:04:08.132Z"
   },
   {
    "duration": 55,
    "start_time": "2022-08-12T02:04:08.151Z"
   },
   {
    "duration": 11,
    "start_time": "2022-08-12T02:04:08.207Z"
   },
   {
    "duration": 11,
    "start_time": "2022-08-12T02:04:08.220Z"
   },
   {
    "duration": 6,
    "start_time": "2022-08-12T02:04:08.232Z"
   },
   {
    "duration": 11,
    "start_time": "2022-08-12T02:04:08.239Z"
   },
   {
    "duration": 16,
    "start_time": "2022-08-12T02:04:08.251Z"
   },
   {
    "duration": 6,
    "start_time": "2022-08-12T02:04:08.269Z"
   },
   {
    "duration": 90,
    "start_time": "2022-08-12T02:04:08.307Z"
   },
   {
    "duration": 0,
    "start_time": "2022-08-12T02:04:08.398Z"
   },
   {
    "duration": 0,
    "start_time": "2022-08-12T02:04:08.406Z"
   },
   {
    "duration": 0,
    "start_time": "2022-08-12T02:04:08.407Z"
   },
   {
    "duration": 619,
    "start_time": "2022-08-12T02:55:44.847Z"
   },
   {
    "duration": 43,
    "start_time": "2022-08-12T06:14:42.948Z"
   },
   {
    "duration": 1341,
    "start_time": "2022-08-12T06:14:47.704Z"
   },
   {
    "duration": 1943,
    "start_time": "2022-08-12T06:14:49.047Z"
   },
   {
    "duration": 6,
    "start_time": "2022-08-12T06:14:50.991Z"
   },
   {
    "duration": 426,
    "start_time": "2022-08-12T06:14:50.999Z"
   },
   {
    "duration": 3,
    "start_time": "2022-08-12T06:14:51.426Z"
   },
   {
    "duration": 119,
    "start_time": "2022-08-12T06:14:51.431Z"
   },
   {
    "duration": 65,
    "start_time": "2022-08-12T06:14:51.551Z"
   },
   {
    "duration": 4,
    "start_time": "2022-08-12T06:14:51.618Z"
   },
   {
    "duration": 47,
    "start_time": "2022-08-12T06:14:51.624Z"
   },
   {
    "duration": 124,
    "start_time": "2022-08-12T06:14:51.673Z"
   },
   {
    "duration": 11,
    "start_time": "2022-08-12T06:14:51.798Z"
   },
   {
    "duration": 10,
    "start_time": "2022-08-12T06:14:51.811Z"
   },
   {
    "duration": 9,
    "start_time": "2022-08-12T06:14:51.823Z"
   },
   {
    "duration": 184,
    "start_time": "2022-08-12T06:14:51.833Z"
   },
   {
    "duration": 31,
    "start_time": "2022-08-12T06:14:52.018Z"
   },
   {
    "duration": 13,
    "start_time": "2022-08-12T06:14:52.051Z"
   },
   {
    "duration": 553,
    "start_time": "2022-08-12T06:14:52.066Z"
   },
   {
    "duration": 622,
    "start_time": "2022-08-12T06:14:52.621Z"
   },
   {
    "duration": 6,
    "start_time": "2022-08-12T06:14:53.244Z"
   },
   {
    "duration": 17,
    "start_time": "2022-08-12T06:14:53.252Z"
   },
   {
    "duration": 19,
    "start_time": "2022-08-12T06:14:53.270Z"
   },
   {
    "duration": 43,
    "start_time": "2022-08-12T06:14:53.290Z"
   },
   {
    "duration": 13,
    "start_time": "2022-08-12T06:14:53.335Z"
   },
   {
    "duration": 22,
    "start_time": "2022-08-12T06:14:53.349Z"
   },
   {
    "duration": 9,
    "start_time": "2022-08-12T06:14:53.372Z"
   },
   {
    "duration": 14,
    "start_time": "2022-08-12T06:14:53.383Z"
   },
   {
    "duration": 26,
    "start_time": "2022-08-12T06:14:53.399Z"
   },
   {
    "duration": 8,
    "start_time": "2022-08-12T06:21:55.470Z"
   },
   {
    "duration": 3,
    "start_time": "2022-08-12T06:21:56.445Z"
   },
   {
    "duration": 157,
    "start_time": "2022-08-12T06:23:12.799Z"
   },
   {
    "duration": 32,
    "start_time": "2022-08-12T06:23:16.296Z"
   },
   {
    "duration": 12,
    "start_time": "2022-08-12T06:23:17.736Z"
   },
   {
    "duration": 510,
    "start_time": "2022-08-12T06:23:39.649Z"
   },
   {
    "duration": 6,
    "start_time": "2022-08-12T06:32:42.584Z"
   },
   {
    "duration": 145,
    "start_time": "2022-08-12T06:38:41.939Z"
   },
   {
    "duration": 3,
    "start_time": "2022-08-12T06:38:45.240Z"
   },
   {
    "duration": 490,
    "start_time": "2022-08-12T06:38:45.244Z"
   },
   {
    "duration": 4,
    "start_time": "2022-08-12T06:38:45.735Z"
   },
   {
    "duration": 406,
    "start_time": "2022-08-12T06:38:45.741Z"
   },
   {
    "duration": 3,
    "start_time": "2022-08-12T06:38:46.150Z"
   },
   {
    "duration": 130,
    "start_time": "2022-08-12T06:38:46.155Z"
   },
   {
    "duration": 68,
    "start_time": "2022-08-12T06:38:46.287Z"
   },
   {
    "duration": 5,
    "start_time": "2022-08-12T06:38:46.356Z"
   },
   {
    "duration": 57,
    "start_time": "2022-08-12T06:38:46.362Z"
   },
   {
    "duration": 99,
    "start_time": "2022-08-12T06:38:46.421Z"
   },
   {
    "duration": 6,
    "start_time": "2022-08-12T06:38:46.523Z"
   },
   {
    "duration": 13,
    "start_time": "2022-08-12T06:38:46.531Z"
   },
   {
    "duration": 3,
    "start_time": "2022-08-12T06:38:46.546Z"
   },
   {
    "duration": 168,
    "start_time": "2022-08-12T06:38:46.551Z"
   },
   {
    "duration": 19,
    "start_time": "2022-08-12T06:38:46.721Z"
   },
   {
    "duration": 12,
    "start_time": "2022-08-12T06:38:46.741Z"
   },
   {
    "duration": 535,
    "start_time": "2022-08-12T06:38:46.754Z"
   },
   {
    "duration": 6,
    "start_time": "2022-08-12T06:38:47.290Z"
   },
   {
    "duration": 17,
    "start_time": "2022-08-12T06:38:47.297Z"
   },
   {
    "duration": 17,
    "start_time": "2022-08-12T06:38:47.315Z"
   },
   {
    "duration": 33,
    "start_time": "2022-08-12T06:38:47.333Z"
   },
   {
    "duration": 12,
    "start_time": "2022-08-12T06:38:47.368Z"
   },
   {
    "duration": 36,
    "start_time": "2022-08-12T06:38:47.381Z"
   },
   {
    "duration": 7,
    "start_time": "2022-08-12T06:38:47.418Z"
   },
   {
    "duration": 9,
    "start_time": "2022-08-12T06:38:47.426Z"
   },
   {
    "duration": 19,
    "start_time": "2022-08-12T06:38:47.436Z"
   },
   {
    "duration": 103,
    "start_time": "2022-08-12T06:39:39.572Z"
   },
   {
    "duration": 40,
    "start_time": "2022-08-12T06:40:33.640Z"
   },
   {
    "duration": 37,
    "start_time": "2022-08-12T06:40:39.450Z"
   },
   {
    "duration": 73,
    "start_time": "2022-08-12T06:52:33.754Z"
   },
   {
    "duration": 86,
    "start_time": "2022-08-12T06:53:06.791Z"
   },
   {
    "duration": 9,
    "start_time": "2022-08-12T06:53:12.636Z"
   },
   {
    "duration": 1579,
    "start_time": "2022-08-12T06:53:47.105Z"
   },
   {
    "duration": 9,
    "start_time": "2022-08-12T06:54:05.536Z"
   },
   {
    "duration": 14,
    "start_time": "2022-08-12T06:55:30.660Z"
   },
   {
    "duration": 12,
    "start_time": "2022-08-12T07:06:01.942Z"
   },
   {
    "duration": 1181,
    "start_time": "2022-08-12T07:12:52.186Z"
   },
   {
    "duration": 562,
    "start_time": "2022-08-12T07:12:53.369Z"
   },
   {
    "duration": 6,
    "start_time": "2022-08-12T07:12:53.933Z"
   },
   {
    "duration": 477,
    "start_time": "2022-08-12T07:12:53.941Z"
   },
   {
    "duration": 2,
    "start_time": "2022-08-12T07:12:54.420Z"
   },
   {
    "duration": 118,
    "start_time": "2022-08-12T07:12:54.424Z"
   },
   {
    "duration": 73,
    "start_time": "2022-08-12T07:12:54.544Z"
   },
   {
    "duration": 5,
    "start_time": "2022-08-12T07:12:54.619Z"
   },
   {
    "duration": 55,
    "start_time": "2022-08-12T07:12:54.625Z"
   },
   {
    "duration": 113,
    "start_time": "2022-08-12T07:12:54.683Z"
   },
   {
    "duration": 10,
    "start_time": "2022-08-12T07:12:54.798Z"
   },
   {
    "duration": 21,
    "start_time": "2022-08-12T07:12:54.810Z"
   },
   {
    "duration": 15,
    "start_time": "2022-08-12T07:12:54.832Z"
   },
   {
    "duration": 190,
    "start_time": "2022-08-12T07:12:54.848Z"
   },
   {
    "duration": 38,
    "start_time": "2022-08-12T07:12:55.040Z"
   },
   {
    "duration": 37,
    "start_time": "2022-08-12T07:12:55.080Z"
   },
   {
    "duration": 12,
    "start_time": "2022-08-12T07:12:55.119Z"
   },
   {
    "duration": 593,
    "start_time": "2022-08-12T07:12:55.132Z"
   },
   {
    "duration": 6,
    "start_time": "2022-08-12T07:12:55.726Z"
   },
   {
    "duration": 26,
    "start_time": "2022-08-12T07:12:55.733Z"
   },
   {
    "duration": 40,
    "start_time": "2022-08-12T07:12:55.761Z"
   },
   {
    "duration": 18,
    "start_time": "2022-08-12T07:12:55.803Z"
   },
   {
    "duration": 30,
    "start_time": "2022-08-12T07:12:55.823Z"
   },
   {
    "duration": 48,
    "start_time": "2022-08-12T07:12:55.854Z"
   },
   {
    "duration": 13,
    "start_time": "2022-08-12T07:12:55.904Z"
   },
   {
    "duration": 19,
    "start_time": "2022-08-12T07:12:55.918Z"
   },
   {
    "duration": 25,
    "start_time": "2022-08-12T07:12:55.939Z"
   },
   {
    "duration": 64,
    "start_time": "2022-08-12T07:12:55.967Z"
   },
   {
    "duration": 41,
    "start_time": "2022-08-12T07:12:56.033Z"
   },
   {
    "duration": 19,
    "start_time": "2022-08-12T07:15:14.434Z"
   },
   {
    "duration": 212,
    "start_time": "2022-08-12T07:15:58.616Z"
   },
   {
    "duration": 458,
    "start_time": "2022-08-12T07:16:28.953Z"
   },
   {
    "duration": 192,
    "start_time": "2022-08-12T07:16:54.242Z"
   },
   {
    "duration": 8,
    "start_time": "2022-08-12T07:21:27.415Z"
   },
   {
    "duration": 21,
    "start_time": "2022-08-12T07:21:43.584Z"
   },
   {
    "duration": 1772,
    "start_time": "2022-08-12T07:22:25.328Z"
   },
   {
    "duration": 28,
    "start_time": "2022-08-12T07:22:33.462Z"
   },
   {
    "duration": 244,
    "start_time": "2022-08-12T07:24:44.398Z"
   },
   {
    "duration": 165,
    "start_time": "2022-08-12T07:24:49.885Z"
   },
   {
    "duration": 107,
    "start_time": "2022-08-12T07:25:27.027Z"
   },
   {
    "duration": 9,
    "start_time": "2022-08-12T07:25:52.463Z"
   },
   {
    "duration": 6,
    "start_time": "2022-08-12T07:26:55.160Z"
   },
   {
    "duration": 7,
    "start_time": "2022-08-12T07:28:46.116Z"
   },
   {
    "duration": 8,
    "start_time": "2022-08-12T07:29:07.676Z"
   },
   {
    "duration": 133,
    "start_time": "2022-08-12T07:38:22.299Z"
   },
   {
    "duration": 8,
    "start_time": "2022-08-12T07:38:42.666Z"
   },
   {
    "duration": 234,
    "start_time": "2022-08-12T07:39:02.493Z"
   },
   {
    "duration": 8,
    "start_time": "2022-08-12T07:55:13.953Z"
   },
   {
    "duration": 118,
    "start_time": "2022-08-12T07:55:28.989Z"
   },
   {
    "duration": 252,
    "start_time": "2022-08-12T07:55:57.500Z"
   },
   {
    "duration": 7,
    "start_time": "2022-08-12T07:57:41.026Z"
   },
   {
    "duration": 235,
    "start_time": "2022-08-12T07:57:41.534Z"
   },
   {
    "duration": 641,
    "start_time": "2022-08-12T08:02:13.038Z"
   },
   {
    "duration": 545,
    "start_time": "2022-08-12T08:02:25.750Z"
   },
   {
    "duration": 659,
    "start_time": "2022-08-12T08:02:35.703Z"
   },
   {
    "duration": 662,
    "start_time": "2022-08-12T08:03:24.074Z"
   },
   {
    "duration": 770,
    "start_time": "2022-08-12T08:05:22.100Z"
   },
   {
    "duration": 799,
    "start_time": "2022-08-12T08:07:42.051Z"
   },
   {
    "duration": 8,
    "start_time": "2022-08-12T08:17:48.494Z"
   },
   {
    "duration": 4,
    "start_time": "2022-08-12T08:18:00.229Z"
   },
   {
    "duration": 12,
    "start_time": "2022-08-12T08:18:09.649Z"
   },
   {
    "duration": 7,
    "start_time": "2022-08-12T08:18:11.785Z"
   },
   {
    "duration": 8,
    "start_time": "2022-08-12T08:18:12.637Z"
   },
   {
    "duration": 7,
    "start_time": "2022-08-12T08:18:13.463Z"
   },
   {
    "duration": 700,
    "start_time": "2022-08-12T08:18:14.254Z"
   },
   {
    "duration": 15,
    "start_time": "2022-08-12T08:19:08.145Z"
   },
   {
    "duration": 10,
    "start_time": "2022-08-12T08:35:58.787Z"
   },
   {
    "duration": 3,
    "start_time": "2022-08-12T08:39:33.816Z"
   },
   {
    "duration": 3,
    "start_time": "2022-08-12T08:39:44.937Z"
   },
   {
    "duration": 11,
    "start_time": "2022-08-12T08:40:00.979Z"
   },
   {
    "duration": 14,
    "start_time": "2022-08-12T08:40:26.482Z"
   },
   {
    "duration": 10,
    "start_time": "2022-08-12T08:42:02.307Z"
   },
   {
    "duration": 8,
    "start_time": "2022-08-12T08:42:48.840Z"
   },
   {
    "duration": 10,
    "start_time": "2022-08-12T08:42:53.943Z"
   },
   {
    "duration": 8,
    "start_time": "2022-08-12T08:44:25.736Z"
   },
   {
    "duration": 144,
    "start_time": "2022-08-12T08:49:34.175Z"
   },
   {
    "duration": 159,
    "start_time": "2022-08-12T08:49:44.136Z"
   },
   {
    "duration": 154,
    "start_time": "2022-08-12T08:50:01.696Z"
   },
   {
    "duration": 35,
    "start_time": "2022-08-12T09:30:45.144Z"
   },
   {
    "duration": 20,
    "start_time": "2022-08-12T09:30:58.581Z"
   },
   {
    "duration": 12,
    "start_time": "2022-08-12T09:31:18.464Z"
   },
   {
    "duration": 6,
    "start_time": "2022-08-12T09:31:37.856Z"
   },
   {
    "duration": 8,
    "start_time": "2022-08-12T09:31:41.041Z"
   },
   {
    "duration": 11,
    "start_time": "2022-08-12T09:33:03.729Z"
   },
   {
    "duration": 6,
    "start_time": "2022-08-12T09:33:06.896Z"
   },
   {
    "duration": 921,
    "start_time": "2022-08-12T09:33:26.025Z"
   },
   {
    "duration": 12,
    "start_time": "2022-08-12T09:33:53.171Z"
   },
   {
    "duration": 5,
    "start_time": "2022-08-12T09:33:54.344Z"
   },
   {
    "duration": 8,
    "start_time": "2022-08-12T09:34:10.999Z"
   },
   {
    "duration": 16,
    "start_time": "2022-08-12T09:35:44.828Z"
   },
   {
    "duration": 7,
    "start_time": "2022-08-12T09:46:47.431Z"
   },
   {
    "duration": 9,
    "start_time": "2022-08-12T09:48:15.179Z"
   },
   {
    "duration": 8,
    "start_time": "2022-08-12T09:51:17.000Z"
   },
   {
    "duration": 7,
    "start_time": "2022-08-12T09:51:41.625Z"
   },
   {
    "duration": 11,
    "start_time": "2022-08-12T09:55:26.913Z"
   },
   {
    "duration": 10,
    "start_time": "2022-08-12T09:56:32.474Z"
   },
   {
    "duration": 12,
    "start_time": "2022-08-12T09:57:00.872Z"
   },
   {
    "duration": 11,
    "start_time": "2022-08-12T09:57:24.829Z"
   },
   {
    "duration": 16,
    "start_time": "2022-08-12T09:59:24.618Z"
   },
   {
    "duration": 13,
    "start_time": "2022-08-12T10:00:32.553Z"
   },
   {
    "duration": 13,
    "start_time": "2022-08-12T10:01:15.662Z"
   },
   {
    "duration": 12,
    "start_time": "2022-08-12T10:01:29.965Z"
   },
   {
    "duration": 8,
    "start_time": "2022-08-12T10:01:59.857Z"
   },
   {
    "duration": 11,
    "start_time": "2022-08-12T10:03:10.850Z"
   },
   {
    "duration": 8,
    "start_time": "2022-08-12T10:03:43.345Z"
   },
   {
    "duration": 8,
    "start_time": "2022-08-12T10:04:26.992Z"
   },
   {
    "duration": 7,
    "start_time": "2022-08-12T10:04:27.421Z"
   },
   {
    "duration": 12,
    "start_time": "2022-08-12T10:07:33.271Z"
   },
   {
    "duration": 12,
    "start_time": "2022-08-12T10:08:04.238Z"
   },
   {
    "duration": 13,
    "start_time": "2022-08-12T10:08:16.527Z"
   },
   {
    "duration": 11,
    "start_time": "2022-08-12T10:08:40.889Z"
   },
   {
    "duration": 3,
    "start_time": "2022-08-12T10:08:45.829Z"
   },
   {
    "duration": 566,
    "start_time": "2022-08-12T10:08:45.834Z"
   },
   {
    "duration": 5,
    "start_time": "2022-08-12T10:08:46.402Z"
   },
   {
    "duration": 430,
    "start_time": "2022-08-12T10:08:46.409Z"
   },
   {
    "duration": 2,
    "start_time": "2022-08-12T10:08:46.841Z"
   },
   {
    "duration": 113,
    "start_time": "2022-08-12T10:08:46.845Z"
   },
   {
    "duration": 66,
    "start_time": "2022-08-12T10:08:46.959Z"
   },
   {
    "duration": 5,
    "start_time": "2022-08-12T10:08:47.026Z"
   },
   {
    "duration": 57,
    "start_time": "2022-08-12T10:08:47.032Z"
   },
   {
    "duration": 86,
    "start_time": "2022-08-12T10:08:47.091Z"
   },
   {
    "duration": 6,
    "start_time": "2022-08-12T10:08:47.178Z"
   },
   {
    "duration": 23,
    "start_time": "2022-08-12T10:08:47.186Z"
   },
   {
    "duration": 11,
    "start_time": "2022-08-12T10:08:47.211Z"
   },
   {
    "duration": 161,
    "start_time": "2022-08-12T10:08:47.223Z"
   },
   {
    "duration": 36,
    "start_time": "2022-08-12T10:08:47.385Z"
   },
   {
    "duration": 18,
    "start_time": "2022-08-12T10:08:47.423Z"
   },
   {
    "duration": 13,
    "start_time": "2022-08-12T10:08:47.442Z"
   },
   {
    "duration": 480,
    "start_time": "2022-08-12T10:08:47.457Z"
   },
   {
    "duration": 5,
    "start_time": "2022-08-12T10:08:47.939Z"
   },
   {
    "duration": 35,
    "start_time": "2022-08-12T10:08:47.946Z"
   },
   {
    "duration": 34,
    "start_time": "2022-08-12T10:08:47.983Z"
   },
   {
    "duration": 21,
    "start_time": "2022-08-12T10:08:48.018Z"
   },
   {
    "duration": 26,
    "start_time": "2022-08-12T10:08:48.041Z"
   },
   {
    "duration": 27,
    "start_time": "2022-08-12T10:08:48.069Z"
   },
   {
    "duration": 725,
    "start_time": "2022-08-12T10:08:48.098Z"
   },
   {
    "duration": 140,
    "start_time": "2022-08-12T10:08:48.825Z"
   },
   {
    "duration": 43,
    "start_time": "2022-08-12T10:08:48.967Z"
   },
   {
    "duration": 17,
    "start_time": "2022-08-12T10:08:49.013Z"
   },
   {
    "duration": 34,
    "start_time": "2022-08-12T10:08:49.031Z"
   },
   {
    "duration": 14,
    "start_time": "2022-08-12T10:08:49.067Z"
   },
   {
    "duration": 30,
    "start_time": "2022-08-12T10:08:49.082Z"
   },
   {
    "duration": 18,
    "start_time": "2022-08-12T10:08:49.116Z"
   },
   {
    "duration": 20,
    "start_time": "2022-08-12T10:08:49.136Z"
   },
   {
    "duration": 252,
    "start_time": "2022-08-12T10:08:49.158Z"
   },
   {
    "duration": 0,
    "start_time": "2022-08-12T10:08:49.411Z"
   },
   {
    "duration": 16,
    "start_time": "2022-08-12T10:09:10.663Z"
   },
   {
    "duration": 17,
    "start_time": "2022-08-12T10:14:05.828Z"
   },
   {
    "duration": 7,
    "start_time": "2022-08-12T10:14:27.525Z"
   },
   {
    "duration": 8,
    "start_time": "2022-08-12T10:14:54.675Z"
   },
   {
    "duration": 13,
    "start_time": "2022-08-12T10:15:48.583Z"
   },
   {
    "duration": 5,
    "start_time": "2022-08-12T10:16:11.724Z"
   },
   {
    "duration": 7,
    "start_time": "2022-08-12T10:16:31.619Z"
   },
   {
    "duration": 7,
    "start_time": "2022-08-12T10:16:56.334Z"
   },
   {
    "duration": 8,
    "start_time": "2022-08-12T10:17:19.326Z"
   },
   {
    "duration": 6,
    "start_time": "2022-08-12T10:17:30.347Z"
   },
   {
    "duration": 129,
    "start_time": "2022-08-12T10:19:29.434Z"
   },
   {
    "duration": 1340,
    "start_time": "2022-08-12T10:20:25.354Z"
   },
   {
    "duration": 558,
    "start_time": "2022-08-12T10:20:26.696Z"
   },
   {
    "duration": 6,
    "start_time": "2022-08-12T10:20:27.255Z"
   },
   {
    "duration": 416,
    "start_time": "2022-08-12T10:20:27.262Z"
   },
   {
    "duration": 3,
    "start_time": "2022-08-12T10:20:27.680Z"
   },
   {
    "duration": 116,
    "start_time": "2022-08-12T10:20:27.684Z"
   },
   {
    "duration": 62,
    "start_time": "2022-08-12T10:20:27.802Z"
   },
   {
    "duration": 4,
    "start_time": "2022-08-12T10:20:27.866Z"
   },
   {
    "duration": 60,
    "start_time": "2022-08-12T10:20:27.872Z"
   },
   {
    "duration": 111,
    "start_time": "2022-08-12T10:20:27.934Z"
   },
   {
    "duration": 8,
    "start_time": "2022-08-12T10:20:28.047Z"
   },
   {
    "duration": 12,
    "start_time": "2022-08-12T10:20:28.057Z"
   },
   {
    "duration": 11,
    "start_time": "2022-08-12T10:20:28.070Z"
   },
   {
    "duration": 176,
    "start_time": "2022-08-12T10:20:28.083Z"
   },
   {
    "duration": 35,
    "start_time": "2022-08-12T10:20:28.261Z"
   },
   {
    "duration": 34,
    "start_time": "2022-08-12T10:20:28.305Z"
   },
   {
    "duration": 13,
    "start_time": "2022-08-12T10:20:28.341Z"
   },
   {
    "duration": 581,
    "start_time": "2022-08-12T10:20:28.356Z"
   },
   {
    "duration": 5,
    "start_time": "2022-08-12T10:20:28.939Z"
   },
   {
    "duration": 15,
    "start_time": "2022-08-12T10:20:28.946Z"
   },
   {
    "duration": 17,
    "start_time": "2022-08-12T10:20:28.963Z"
   },
   {
    "duration": 28,
    "start_time": "2022-08-12T10:20:28.981Z"
   },
   {
    "duration": 11,
    "start_time": "2022-08-12T10:20:29.010Z"
   },
   {
    "duration": 15,
    "start_time": "2022-08-12T10:20:29.022Z"
   },
   {
    "duration": 742,
    "start_time": "2022-08-12T10:20:29.038Z"
   },
   {
    "duration": 142,
    "start_time": "2022-08-12T10:20:29.782Z"
   },
   {
    "duration": 106,
    "start_time": "2022-08-12T10:20:29.926Z"
   },
   {
    "duration": 29,
    "start_time": "2022-08-12T10:20:30.034Z"
   },
   {
    "duration": 15,
    "start_time": "2022-08-12T10:20:30.064Z"
   },
   {
    "duration": 29,
    "start_time": "2022-08-12T10:20:30.080Z"
   },
   {
    "duration": 12,
    "start_time": "2022-08-12T10:20:30.111Z"
   },
   {
    "duration": 9,
    "start_time": "2022-08-12T10:20:30.124Z"
   },
   {
    "duration": 11,
    "start_time": "2022-08-12T10:20:30.135Z"
   },
   {
    "duration": 5,
    "start_time": "2022-08-12T10:20:30.147Z"
   },
   {
    "duration": 8,
    "start_time": "2022-08-12T10:20:30.154Z"
   },
   {
    "duration": 365,
    "start_time": "2022-08-12T10:20:30.164Z"
   },
   {
    "duration": 0,
    "start_time": "2022-08-12T10:20:30.531Z"
   },
   {
    "duration": 5,
    "start_time": "2022-08-12T10:22:02.022Z"
   },
   {
    "duration": 10,
    "start_time": "2022-08-12T10:23:13.306Z"
   },
   {
    "duration": 7,
    "start_time": "2022-08-12T10:24:00.384Z"
   },
   {
    "duration": 8,
    "start_time": "2022-08-12T10:30:20.221Z"
   },
   {
    "duration": 8,
    "start_time": "2022-08-12T10:30:41.919Z"
   },
   {
    "duration": 49,
    "start_time": "2022-08-12T10:33:14.311Z"
   },
   {
    "duration": 19,
    "start_time": "2022-08-12T10:33:25.287Z"
   },
   {
    "duration": 4,
    "start_time": "2022-08-12T10:34:35.657Z"
   },
   {
    "duration": 591,
    "start_time": "2022-08-12T10:34:35.663Z"
   },
   {
    "duration": 4,
    "start_time": "2022-08-12T10:34:36.255Z"
   },
   {
    "duration": 445,
    "start_time": "2022-08-12T10:34:36.261Z"
   },
   {
    "duration": 3,
    "start_time": "2022-08-12T10:34:36.707Z"
   },
   {
    "duration": 114,
    "start_time": "2022-08-12T10:34:36.712Z"
   },
   {
    "duration": 78,
    "start_time": "2022-08-12T10:34:36.828Z"
   },
   {
    "duration": 6,
    "start_time": "2022-08-12T10:34:36.907Z"
   },
   {
    "duration": 45,
    "start_time": "2022-08-12T10:34:36.915Z"
   },
   {
    "duration": 120,
    "start_time": "2022-08-12T10:34:36.962Z"
   },
   {
    "duration": 7,
    "start_time": "2022-08-12T10:34:37.083Z"
   },
   {
    "duration": 19,
    "start_time": "2022-08-12T10:34:37.091Z"
   },
   {
    "duration": 9,
    "start_time": "2022-08-12T10:34:37.112Z"
   },
   {
    "duration": 175,
    "start_time": "2022-08-12T10:34:37.122Z"
   },
   {
    "duration": 46,
    "start_time": "2022-08-12T10:34:37.299Z"
   },
   {
    "duration": 33,
    "start_time": "2022-08-12T10:34:37.346Z"
   },
   {
    "duration": 27,
    "start_time": "2022-08-12T10:34:37.380Z"
   },
   {
    "duration": 525,
    "start_time": "2022-08-12T10:34:37.408Z"
   },
   {
    "duration": 6,
    "start_time": "2022-08-12T10:34:37.935Z"
   },
   {
    "duration": 14,
    "start_time": "2022-08-12T10:34:37.943Z"
   },
   {
    "duration": 21,
    "start_time": "2022-08-12T10:34:37.959Z"
   },
   {
    "duration": 34,
    "start_time": "2022-08-12T10:34:37.982Z"
   },
   {
    "duration": 12,
    "start_time": "2022-08-12T10:34:38.018Z"
   },
   {
    "duration": 16,
    "start_time": "2022-08-12T10:34:38.034Z"
   },
   {
    "duration": 850,
    "start_time": "2022-08-12T10:34:38.051Z"
   },
   {
    "duration": 169,
    "start_time": "2022-08-12T10:34:38.903Z"
   },
   {
    "duration": 43,
    "start_time": "2022-08-12T10:34:39.074Z"
   },
   {
    "duration": 19,
    "start_time": "2022-08-12T10:34:39.118Z"
   },
   {
    "duration": 14,
    "start_time": "2022-08-12T10:34:39.139Z"
   },
   {
    "duration": 10,
    "start_time": "2022-08-12T10:34:39.155Z"
   },
   {
    "duration": 10,
    "start_time": "2022-08-12T10:34:39.166Z"
   },
   {
    "duration": 33,
    "start_time": "2022-08-12T10:34:39.178Z"
   },
   {
    "duration": 109,
    "start_time": "2022-08-12T10:34:39.213Z"
   },
   {
    "duration": 8,
    "start_time": "2022-08-12T10:34:39.324Z"
   },
   {
    "duration": 142,
    "start_time": "2022-08-12T10:34:39.334Z"
   },
   {
    "duration": 0,
    "start_time": "2022-08-12T10:34:39.478Z"
   },
   {
    "duration": 0,
    "start_time": "2022-08-12T10:34:39.480Z"
   },
   {
    "duration": 0,
    "start_time": "2022-08-12T10:34:39.481Z"
   },
   {
    "duration": 0,
    "start_time": "2022-08-12T10:34:39.482Z"
   },
   {
    "duration": 18,
    "start_time": "2022-08-12T10:35:19.892Z"
   },
   {
    "duration": 15,
    "start_time": "2022-08-12T10:36:12.676Z"
   },
   {
    "duration": 8,
    "start_time": "2022-08-12T10:36:12.693Z"
   },
   {
    "duration": 11,
    "start_time": "2022-08-12T10:36:12.703Z"
   },
   {
    "duration": 6,
    "start_time": "2022-08-12T10:36:12.716Z"
   },
   {
    "duration": 17,
    "start_time": "2022-08-12T10:36:12.725Z"
   },
   {
    "duration": 8,
    "start_time": "2022-08-12T10:36:12.744Z"
   },
   {
    "duration": 140,
    "start_time": "2022-08-12T10:36:12.754Z"
   },
   {
    "duration": 0,
    "start_time": "2022-08-12T10:36:12.905Z"
   },
   {
    "duration": 0,
    "start_time": "2022-08-12T10:36:12.906Z"
   },
   {
    "duration": 0,
    "start_time": "2022-08-12T10:36:12.907Z"
   },
   {
    "duration": 0,
    "start_time": "2022-08-12T10:36:12.908Z"
   },
   {
    "duration": 13,
    "start_time": "2022-08-12T10:36:27.013Z"
   },
   {
    "duration": 16,
    "start_time": "2022-08-12T10:37:58.068Z"
   },
   {
    "duration": 1306,
    "start_time": "2022-08-12T10:38:13.228Z"
   },
   {
    "duration": 532,
    "start_time": "2022-08-12T10:38:14.536Z"
   },
   {
    "duration": 6,
    "start_time": "2022-08-12T10:38:15.069Z"
   },
   {
    "duration": 411,
    "start_time": "2022-08-12T10:38:15.077Z"
   },
   {
    "duration": 3,
    "start_time": "2022-08-12T10:38:15.489Z"
   },
   {
    "duration": 106,
    "start_time": "2022-08-12T10:38:15.505Z"
   },
   {
    "duration": 59,
    "start_time": "2022-08-12T10:38:15.613Z"
   },
   {
    "duration": 4,
    "start_time": "2022-08-12T10:38:15.673Z"
   },
   {
    "duration": 62,
    "start_time": "2022-08-12T10:38:15.679Z"
   },
   {
    "duration": 104,
    "start_time": "2022-08-12T10:38:15.744Z"
   },
   {
    "duration": 6,
    "start_time": "2022-08-12T10:38:15.850Z"
   },
   {
    "duration": 12,
    "start_time": "2022-08-12T10:38:15.857Z"
   },
   {
    "duration": 4,
    "start_time": "2022-08-12T10:38:15.870Z"
   },
   {
    "duration": 200,
    "start_time": "2022-08-12T10:38:15.875Z"
   },
   {
    "duration": 47,
    "start_time": "2022-08-12T10:38:16.077Z"
   },
   {
    "duration": 28,
    "start_time": "2022-08-12T10:38:16.126Z"
   },
   {
    "duration": 14,
    "start_time": "2022-08-12T10:38:16.156Z"
   },
   {
    "duration": 599,
    "start_time": "2022-08-12T10:38:16.172Z"
   },
   {
    "duration": 7,
    "start_time": "2022-08-12T10:38:16.773Z"
   },
   {
    "duration": 24,
    "start_time": "2022-08-12T10:38:16.782Z"
   },
   {
    "duration": 18,
    "start_time": "2022-08-12T10:38:16.808Z"
   },
   {
    "duration": 14,
    "start_time": "2022-08-12T10:38:16.828Z"
   },
   {
    "duration": 12,
    "start_time": "2022-08-12T10:38:16.843Z"
   },
   {
    "duration": 14,
    "start_time": "2022-08-12T10:38:16.857Z"
   },
   {
    "duration": 792,
    "start_time": "2022-08-12T10:38:16.872Z"
   },
   {
    "duration": 149,
    "start_time": "2022-08-12T10:38:17.666Z"
   },
   {
    "duration": 111,
    "start_time": "2022-08-12T10:38:17.817Z"
   },
   {
    "duration": 23,
    "start_time": "2022-08-12T10:38:17.930Z"
   },
   {
    "duration": 15,
    "start_time": "2022-08-12T10:38:17.954Z"
   },
   {
    "duration": 8,
    "start_time": "2022-08-12T10:38:17.970Z"
   },
   {
    "duration": 29,
    "start_time": "2022-08-12T10:38:17.979Z"
   },
   {
    "duration": 7,
    "start_time": "2022-08-12T10:38:18.010Z"
   },
   {
    "duration": 20,
    "start_time": "2022-08-12T10:38:18.019Z"
   },
   {
    "duration": 8,
    "start_time": "2022-08-12T10:38:18.040Z"
   },
   {
    "duration": 232,
    "start_time": "2022-08-12T10:38:18.050Z"
   },
   {
    "duration": 0,
    "start_time": "2022-08-12T10:38:18.284Z"
   },
   {
    "duration": 0,
    "start_time": "2022-08-12T10:38:18.285Z"
   },
   {
    "duration": 0,
    "start_time": "2022-08-12T10:38:18.287Z"
   },
   {
    "duration": 0,
    "start_time": "2022-08-12T10:38:18.288Z"
   },
   {
    "duration": 9,
    "start_time": "2022-08-12T10:38:42.907Z"
   },
   {
    "duration": 10,
    "start_time": "2022-08-12T10:38:54.442Z"
   },
   {
    "duration": 119,
    "start_time": "2022-08-12T10:40:27.732Z"
   },
   {
    "duration": 129,
    "start_time": "2022-08-12T10:40:53.177Z"
   },
   {
    "duration": 16,
    "start_time": "2022-08-12T10:41:08.304Z"
   },
   {
    "duration": 16,
    "start_time": "2022-08-12T10:42:44.400Z"
   },
   {
    "duration": 122,
    "start_time": "2022-08-12T10:43:22.183Z"
   },
   {
    "duration": 3,
    "start_time": "2022-08-12T10:43:52.531Z"
   },
   {
    "duration": 519,
    "start_time": "2022-08-12T10:43:52.536Z"
   },
   {
    "duration": 4,
    "start_time": "2022-08-12T10:43:53.056Z"
   },
   {
    "duration": 406,
    "start_time": "2022-08-12T10:43:53.062Z"
   },
   {
    "duration": 3,
    "start_time": "2022-08-12T10:43:53.469Z"
   },
   {
    "duration": 114,
    "start_time": "2022-08-12T10:43:53.474Z"
   },
   {
    "duration": 125,
    "start_time": "2022-08-12T10:43:53.590Z"
   },
   {
    "duration": 69,
    "start_time": "2022-08-12T10:43:53.717Z"
   },
   {
    "duration": 4,
    "start_time": "2022-08-12T10:43:53.788Z"
   },
   {
    "duration": 88,
    "start_time": "2022-08-12T10:43:53.807Z"
   },
   {
    "duration": 97,
    "start_time": "2022-08-12T10:43:53.896Z"
   },
   {
    "duration": 6,
    "start_time": "2022-08-12T10:43:54.005Z"
   },
   {
    "duration": 8,
    "start_time": "2022-08-12T10:43:54.013Z"
   },
   {
    "duration": 3,
    "start_time": "2022-08-12T10:43:54.022Z"
   },
   {
    "duration": 208,
    "start_time": "2022-08-12T10:43:54.026Z"
   },
   {
    "duration": 54,
    "start_time": "2022-08-12T10:43:54.236Z"
   },
   {
    "duration": 36,
    "start_time": "2022-08-12T10:43:54.292Z"
   },
   {
    "duration": 14,
    "start_time": "2022-08-12T10:43:54.329Z"
   },
   {
    "duration": 572,
    "start_time": "2022-08-12T10:43:54.344Z"
   },
   {
    "duration": 6,
    "start_time": "2022-08-12T10:43:54.918Z"
   },
   {
    "duration": 11,
    "start_time": "2022-08-12T10:43:54.926Z"
   },
   {
    "duration": 21,
    "start_time": "2022-08-12T10:43:54.938Z"
   },
   {
    "duration": 14,
    "start_time": "2022-08-12T10:43:54.960Z"
   },
   {
    "duration": 39,
    "start_time": "2022-08-12T10:43:54.976Z"
   },
   {
    "duration": 19,
    "start_time": "2022-08-12T10:43:55.016Z"
   },
   {
    "duration": 739,
    "start_time": "2022-08-12T10:43:55.036Z"
   },
   {
    "duration": 215,
    "start_time": "2022-08-12T10:43:55.777Z"
   },
   {
    "duration": 44,
    "start_time": "2022-08-12T10:43:55.997Z"
   },
   {
    "duration": 45,
    "start_time": "2022-08-12T10:43:56.043Z"
   },
   {
    "duration": 33,
    "start_time": "2022-08-12T10:43:56.089Z"
   },
   {
    "duration": 11,
    "start_time": "2022-08-12T10:43:56.124Z"
   },
   {
    "duration": 17,
    "start_time": "2022-08-12T10:43:56.137Z"
   },
   {
    "duration": 13,
    "start_time": "2022-08-12T10:43:56.156Z"
   },
   {
    "duration": 38,
    "start_time": "2022-08-12T10:43:56.171Z"
   },
   {
    "duration": 160,
    "start_time": "2022-08-12T10:43:56.211Z"
   },
   {
    "duration": 0,
    "start_time": "2022-08-12T10:43:56.373Z"
   },
   {
    "duration": 0,
    "start_time": "2022-08-12T10:43:56.374Z"
   },
   {
    "duration": 0,
    "start_time": "2022-08-12T10:43:56.375Z"
   },
   {
    "duration": 0,
    "start_time": "2022-08-12T10:43:56.376Z"
   },
   {
    "duration": 14,
    "start_time": "2022-08-12T10:44:21.953Z"
   },
   {
    "duration": 14,
    "start_time": "2022-08-12T10:46:00.534Z"
   },
   {
    "duration": 1180,
    "start_time": "2022-08-12T10:46:30.042Z"
   },
   {
    "duration": 1046,
    "start_time": "2022-08-12T10:47:27.187Z"
   },
   {
    "duration": 19,
    "start_time": "2022-08-12T10:49:36.414Z"
   },
   {
    "duration": 21,
    "start_time": "2022-08-12T10:49:41.233Z"
   },
   {
    "duration": 188,
    "start_time": "2022-08-12T10:50:20.076Z"
   },
   {
    "duration": 16,
    "start_time": "2022-08-12T10:52:39.629Z"
   },
   {
    "duration": 115,
    "start_time": "2022-08-12T10:53:04.718Z"
   },
   {
    "duration": 293,
    "start_time": "2022-08-12T10:53:27.291Z"
   },
   {
    "duration": 205,
    "start_time": "2022-08-12T10:53:32.820Z"
   },
   {
    "duration": 24,
    "start_time": "2022-08-12T10:53:56.026Z"
   },
   {
    "duration": 19,
    "start_time": "2022-08-12T10:54:06.550Z"
   },
   {
    "duration": 20,
    "start_time": "2022-08-12T10:54:21.193Z"
   },
   {
    "duration": 18,
    "start_time": "2022-08-12T10:54:51.855Z"
   },
   {
    "duration": 25,
    "start_time": "2022-08-12T10:55:29.846Z"
   },
   {
    "duration": 18,
    "start_time": "2022-08-12T10:55:52.221Z"
   },
   {
    "duration": 28,
    "start_time": "2022-08-12T10:56:20.759Z"
   },
   {
    "duration": 212,
    "start_time": "2022-08-12T10:56:34.427Z"
   },
   {
    "duration": 200,
    "start_time": "2022-08-12T10:56:35.089Z"
   },
   {
    "duration": 20,
    "start_time": "2022-08-12T10:57:21.778Z"
   },
   {
    "duration": 225,
    "start_time": "2022-08-12T10:57:22.768Z"
   },
   {
    "duration": 18,
    "start_time": "2022-08-12T11:01:51.919Z"
   },
   {
    "duration": 133,
    "start_time": "2022-08-12T11:02:31.919Z"
   },
   {
    "duration": 120,
    "start_time": "2022-08-12T11:02:49.896Z"
   },
   {
    "duration": 25,
    "start_time": "2022-08-12T11:03:29.163Z"
   },
   {
    "duration": 28,
    "start_time": "2022-08-12T11:03:48.822Z"
   },
   {
    "duration": 242,
    "start_time": "2022-08-12T11:03:49.495Z"
   },
   {
    "duration": 182,
    "start_time": "2022-08-12T12:08:43.215Z"
   },
   {
    "duration": 212,
    "start_time": "2022-08-12T12:09:00.526Z"
   },
   {
    "duration": 208,
    "start_time": "2022-08-12T12:09:34.723Z"
   },
   {
    "duration": 212,
    "start_time": "2022-08-12T12:11:33.697Z"
   },
   {
    "duration": 323,
    "start_time": "2022-08-12T12:11:55.829Z"
   },
   {
    "duration": 197,
    "start_time": "2022-08-12T12:12:16.632Z"
   },
   {
    "duration": 180,
    "start_time": "2022-08-12T12:12:41.082Z"
   },
   {
    "duration": 325,
    "start_time": "2022-08-12T12:22:17.476Z"
   },
   {
    "duration": 163,
    "start_time": "2022-08-12T12:24:27.170Z"
   },
   {
    "duration": 148,
    "start_time": "2022-08-12T12:24:52.913Z"
   },
   {
    "duration": 152,
    "start_time": "2022-08-12T12:25:04.485Z"
   },
   {
    "duration": 145,
    "start_time": "2022-08-12T12:25:13.587Z"
   },
   {
    "duration": 275,
    "start_time": "2022-08-12T12:27:51.910Z"
   },
   {
    "duration": 207,
    "start_time": "2022-08-12T12:28:01.233Z"
   },
   {
    "duration": 212,
    "start_time": "2022-08-12T12:30:06.399Z"
   },
   {
    "duration": 298,
    "start_time": "2022-08-12T12:31:01.415Z"
   },
   {
    "duration": 90,
    "start_time": "2022-08-12T12:45:08.866Z"
   },
   {
    "duration": 328,
    "start_time": "2022-08-12T12:45:16.507Z"
   },
   {
    "duration": 18,
    "start_time": "2022-08-12T12:45:45.768Z"
   },
   {
    "duration": 179,
    "start_time": "2022-08-12T12:45:45.788Z"
   },
   {
    "duration": 240,
    "start_time": "2022-08-12T12:45:45.969Z"
   },
   {
    "duration": 233,
    "start_time": "2022-08-12T12:45:46.212Z"
   },
   {
    "duration": 419,
    "start_time": "2022-08-12T12:45:46.447Z"
   },
   {
    "duration": 0,
    "start_time": "2022-08-12T12:45:46.867Z"
   },
   {
    "duration": 418,
    "start_time": "2022-08-12T12:46:02.264Z"
   },
   {
    "duration": 786,
    "start_time": "2022-08-12T12:46:14.421Z"
   },
   {
    "duration": 33,
    "start_time": "2022-08-12T12:47:14.232Z"
   },
   {
    "duration": 705,
    "start_time": "2022-08-12T12:47:15.491Z"
   },
   {
    "duration": 426,
    "start_time": "2022-08-12T12:49:08.779Z"
   },
   {
    "duration": 36,
    "start_time": "2022-08-12T12:49:40.949Z"
   },
   {
    "duration": 25,
    "start_time": "2022-08-12T12:50:15.447Z"
   },
   {
    "duration": 18,
    "start_time": "2022-08-12T12:52:01.424Z"
   },
   {
    "duration": 783,
    "start_time": "2022-08-12T12:52:02.487Z"
   },
   {
    "duration": 158,
    "start_time": "2022-08-12T13:22:22.445Z"
   },
   {
    "duration": 27,
    "start_time": "2022-08-12T13:25:43.862Z"
   },
   {
    "duration": 19,
    "start_time": "2022-08-12T13:26:39.869Z"
   },
   {
    "duration": 11,
    "start_time": "2022-08-12T13:27:01.473Z"
   },
   {
    "duration": 13,
    "start_time": "2022-08-12T13:27:14.825Z"
   },
   {
    "duration": 143,
    "start_time": "2022-08-12T13:36:27.881Z"
   },
   {
    "duration": 15,
    "start_time": "2022-08-12T13:36:37.695Z"
   },
   {
    "duration": 16,
    "start_time": "2022-08-12T13:37:33.183Z"
   },
   {
    "duration": 146,
    "start_time": "2022-08-12T13:37:34.001Z"
   },
   {
    "duration": 21,
    "start_time": "2022-08-12T13:37:58.695Z"
   },
   {
    "duration": 191,
    "start_time": "2022-08-12T13:38:00.552Z"
   },
   {
    "duration": 131,
    "start_time": "2022-08-12T13:38:58.534Z"
   },
   {
    "duration": 137,
    "start_time": "2022-08-12T13:39:55.064Z"
   },
   {
    "duration": 26,
    "start_time": "2022-08-12T13:40:54.266Z"
   },
   {
    "duration": 25,
    "start_time": "2022-08-12T13:41:06.870Z"
   },
   {
    "duration": 143,
    "start_time": "2022-08-12T13:41:18.321Z"
   },
   {
    "duration": 271,
    "start_time": "2022-08-12T13:41:26.152Z"
   },
   {
    "duration": 178,
    "start_time": "2022-08-12T13:41:38.823Z"
   },
   {
    "duration": 25,
    "start_time": "2022-08-12T13:43:33.974Z"
   },
   {
    "duration": 37,
    "start_time": "2022-08-12T13:44:59.063Z"
   },
   {
    "duration": 33,
    "start_time": "2022-08-12T13:45:09.903Z"
   },
   {
    "duration": 309,
    "start_time": "2022-08-12T13:45:38.712Z"
   },
   {
    "duration": 672,
    "start_time": "2022-08-12T13:46:21.183Z"
   },
   {
    "duration": 1196,
    "start_time": "2022-08-12T13:49:11.997Z"
   },
   {
    "duration": 590,
    "start_time": "2022-08-12T13:49:13.195Z"
   },
   {
    "duration": 6,
    "start_time": "2022-08-12T13:49:13.786Z"
   },
   {
    "duration": 470,
    "start_time": "2022-08-12T13:49:13.794Z"
   },
   {
    "duration": 3,
    "start_time": "2022-08-12T13:49:14.266Z"
   },
   {
    "duration": 130,
    "start_time": "2022-08-12T13:49:14.270Z"
   },
   {
    "duration": 135,
    "start_time": "2022-08-12T13:49:14.405Z"
   },
   {
    "duration": 83,
    "start_time": "2022-08-12T13:49:14.541Z"
   },
   {
    "duration": 7,
    "start_time": "2022-08-12T13:49:14.625Z"
   },
   {
    "duration": 117,
    "start_time": "2022-08-12T13:49:14.634Z"
   },
   {
    "duration": 113,
    "start_time": "2022-08-12T13:49:14.753Z"
   },
   {
    "duration": 6,
    "start_time": "2022-08-12T13:49:14.868Z"
   },
   {
    "duration": 14,
    "start_time": "2022-08-12T13:49:14.876Z"
   },
   {
    "duration": 23,
    "start_time": "2022-08-12T13:49:14.892Z"
   },
   {
    "duration": 217,
    "start_time": "2022-08-12T13:49:14.920Z"
   },
   {
    "duration": 53,
    "start_time": "2022-08-12T13:49:15.139Z"
   },
   {
    "duration": 43,
    "start_time": "2022-08-12T13:49:15.193Z"
   },
   {
    "duration": 14,
    "start_time": "2022-08-12T13:49:15.238Z"
   },
   {
    "duration": 591,
    "start_time": "2022-08-12T13:49:15.253Z"
   },
   {
    "duration": 6,
    "start_time": "2022-08-12T13:49:15.846Z"
   },
   {
    "duration": 10,
    "start_time": "2022-08-12T13:49:15.854Z"
   },
   {
    "duration": 41,
    "start_time": "2022-08-12T13:49:15.866Z"
   },
   {
    "duration": 21,
    "start_time": "2022-08-12T13:49:15.916Z"
   },
   {
    "duration": 12,
    "start_time": "2022-08-12T13:49:15.938Z"
   },
   {
    "duration": 17,
    "start_time": "2022-08-12T13:49:15.951Z"
   },
   {
    "duration": 967,
    "start_time": "2022-08-12T13:49:15.969Z"
   },
   {
    "duration": 232,
    "start_time": "2022-08-12T13:49:16.938Z"
   },
   {
    "duration": 48,
    "start_time": "2022-08-12T13:49:17.173Z"
   },
   {
    "duration": 39,
    "start_time": "2022-08-12T13:49:17.223Z"
   },
   {
    "duration": 15,
    "start_time": "2022-08-12T13:49:17.264Z"
   },
   {
    "duration": 8,
    "start_time": "2022-08-12T13:49:17.280Z"
   },
   {
    "duration": 24,
    "start_time": "2022-08-12T13:49:17.290Z"
   },
   {
    "duration": 30,
    "start_time": "2022-08-12T13:49:17.315Z"
   },
   {
    "duration": 730,
    "start_time": "2022-08-12T13:49:17.346Z"
   },
   {
    "duration": 13,
    "start_time": "2022-08-12T13:49:18.077Z"
   },
   {
    "duration": 34,
    "start_time": "2022-08-12T13:49:18.092Z"
   },
   {
    "duration": 225,
    "start_time": "2022-08-12T13:49:18.128Z"
   },
   {
    "duration": 19,
    "start_time": "2022-08-12T13:53:50.364Z"
   },
   {
    "duration": 35,
    "start_time": "2022-08-12T13:54:05.298Z"
   },
   {
    "duration": 8,
    "start_time": "2022-08-12T13:54:18.033Z"
   },
   {
    "duration": 139,
    "start_time": "2022-08-12T13:55:40.281Z"
   },
   {
    "duration": 9,
    "start_time": "2022-08-12T13:56:07.517Z"
   },
   {
    "duration": 146,
    "start_time": "2022-08-12T13:56:11.206Z"
   },
   {
    "duration": 8,
    "start_time": "2022-08-12T13:58:02.217Z"
   },
   {
    "duration": 10,
    "start_time": "2022-08-12T13:58:47.043Z"
   },
   {
    "duration": 142,
    "start_time": "2022-08-12T13:59:26.514Z"
   },
   {
    "duration": 13,
    "start_time": "2022-08-12T14:03:49.139Z"
   },
   {
    "duration": 125,
    "start_time": "2022-08-12T14:04:16.632Z"
   },
   {
    "duration": 108,
    "start_time": "2022-08-12T14:04:29.106Z"
   },
   {
    "duration": 119,
    "start_time": "2022-08-12T14:09:06.380Z"
   },
   {
    "duration": 210,
    "start_time": "2022-08-12T14:09:21.717Z"
   },
   {
    "duration": 106,
    "start_time": "2022-08-12T14:09:30.172Z"
   },
   {
    "duration": 137,
    "start_time": "2022-08-12T14:10:00.702Z"
   },
   {
    "duration": 120,
    "start_time": "2022-08-12T14:10:48.704Z"
   },
   {
    "duration": 118,
    "start_time": "2022-08-12T14:11:02.835Z"
   },
   {
    "duration": 108,
    "start_time": "2022-08-12T14:11:11.333Z"
   },
   {
    "duration": 105,
    "start_time": "2022-08-12T14:11:24.732Z"
   },
   {
    "duration": 110,
    "start_time": "2022-08-12T14:12:01.837Z"
   },
   {
    "duration": 495,
    "start_time": "2022-08-12T14:46:50.571Z"
   },
   {
    "duration": 476,
    "start_time": "2022-08-12T14:47:28.060Z"
   },
   {
    "duration": 595,
    "start_time": "2022-08-12T14:47:57.240Z"
   },
   {
    "duration": 516,
    "start_time": "2022-08-12T14:48:14.133Z"
   },
   {
    "duration": 488,
    "start_time": "2022-08-12T14:48:49.270Z"
   },
   {
    "duration": 341,
    "start_time": "2022-08-12T14:49:37.940Z"
   },
   {
    "duration": 352,
    "start_time": "2022-08-12T14:49:52.080Z"
   },
   {
    "duration": 377,
    "start_time": "2022-08-12T14:50:01.386Z"
   },
   {
    "duration": 629,
    "start_time": "2022-08-12T14:50:16.418Z"
   },
   {
    "duration": 355,
    "start_time": "2022-08-12T14:50:27.740Z"
   },
   {
    "duration": 510,
    "start_time": "2022-08-12T14:50:49.660Z"
   },
   {
    "duration": 504,
    "start_time": "2022-08-12T14:51:45.240Z"
   },
   {
    "duration": 499,
    "start_time": "2022-08-12T14:52:21.384Z"
   },
   {
    "duration": 621,
    "start_time": "2022-08-12T14:53:09.300Z"
   },
   {
    "duration": 502,
    "start_time": "2022-08-12T14:53:55.499Z"
   },
   {
    "duration": 343,
    "start_time": "2022-08-12T14:57:37.430Z"
   },
   {
    "duration": 543,
    "start_time": "2022-08-12T14:58:09.724Z"
   },
   {
    "duration": 342,
    "start_time": "2022-08-12T14:58:18.901Z"
   },
   {
    "duration": 385,
    "start_time": "2022-08-12T14:59:03.021Z"
   },
   {
    "duration": 346,
    "start_time": "2022-08-12T14:59:13.732Z"
   },
   {
    "duration": 339,
    "start_time": "2022-08-12T15:00:45.732Z"
   },
   {
    "duration": 414,
    "start_time": "2022-08-12T15:01:34.098Z"
   },
   {
    "duration": 785,
    "start_time": "2022-08-12T15:02:25.416Z"
   },
   {
    "duration": 320,
    "start_time": "2022-08-12T15:04:14.215Z"
   },
   {
    "duration": 759,
    "start_time": "2022-08-12T15:07:04.688Z"
   },
   {
    "duration": 10,
    "start_time": "2022-08-12T15:21:05.783Z"
   },
   {
    "duration": 10,
    "start_time": "2022-08-12T15:21:28.511Z"
   },
   {
    "duration": 176,
    "start_time": "2022-08-12T15:21:42.643Z"
   },
   {
    "duration": 196,
    "start_time": "2022-08-12T15:23:15.682Z"
   },
   {
    "duration": 233,
    "start_time": "2022-08-12T15:23:30.841Z"
   },
   {
    "duration": 11,
    "start_time": "2022-08-12T15:27:09.122Z"
   },
   {
    "duration": 343,
    "start_time": "2022-08-12T15:27:13.922Z"
   },
   {
    "duration": 9,
    "start_time": "2022-08-12T15:45:06.522Z"
   },
   {
    "duration": 4,
    "start_time": "2022-08-12T15:45:12.808Z"
   },
   {
    "duration": 2034,
    "start_time": "2022-08-12T15:45:13.790Z"
   },
   {
    "duration": 4,
    "start_time": "2022-08-12T15:45:28.722Z"
   },
   {
    "duration": 17,
    "start_time": "2022-08-12T15:45:29.470Z"
   },
   {
    "duration": 4,
    "start_time": "2022-08-12T15:46:49.798Z"
   },
   {
    "duration": 1362,
    "start_time": "2022-08-12T15:46:52.558Z"
   },
   {
    "duration": 18,
    "start_time": "2022-08-12T15:47:13.462Z"
   },
   {
    "duration": 4,
    "start_time": "2022-08-12T15:47:39.104Z"
   },
   {
    "duration": 27,
    "start_time": "2022-08-12T15:47:41.181Z"
   },
   {
    "duration": 4,
    "start_time": "2022-08-12T15:48:28.759Z"
   },
   {
    "duration": 23,
    "start_time": "2022-08-12T15:48:29.250Z"
   },
   {
    "duration": 129,
    "start_time": "2022-08-12T15:50:53.957Z"
   },
   {
    "duration": 211,
    "start_time": "2022-08-12T15:51:13.278Z"
   },
   {
    "duration": 12,
    "start_time": "2022-08-12T15:53:37.831Z"
   },
   {
    "duration": 214,
    "start_time": "2022-08-12T15:54:08.702Z"
   },
   {
    "duration": 205,
    "start_time": "2022-08-12T15:54:29.166Z"
   },
   {
    "duration": 239,
    "start_time": "2022-08-12T15:58:22.672Z"
   },
   {
    "duration": 11,
    "start_time": "2022-08-12T16:03:17.277Z"
   },
   {
    "duration": 15,
    "start_time": "2022-08-12T16:03:30.559Z"
   },
   {
    "duration": 26,
    "start_time": "2022-08-12T16:04:18.279Z"
   },
   {
    "duration": 24,
    "start_time": "2022-08-12T16:06:05.208Z"
   },
   {
    "duration": 23,
    "start_time": "2022-08-12T16:06:27.310Z"
   },
   {
    "duration": 122,
    "start_time": "2022-08-12T16:06:37.873Z"
   },
   {
    "duration": 123,
    "start_time": "2022-08-12T16:06:42.261Z"
   },
   {
    "duration": 141,
    "start_time": "2022-08-12T16:07:02.541Z"
   },
   {
    "duration": 136,
    "start_time": "2022-08-12T16:07:48.421Z"
   },
   {
    "duration": 214,
    "start_time": "2022-08-12T16:08:08.079Z"
   },
   {
    "duration": 225,
    "start_time": "2022-08-12T16:08:19.741Z"
   },
   {
    "duration": 172,
    "start_time": "2022-08-12T16:09:31.599Z"
   },
   {
    "duration": 988,
    "start_time": "2022-08-12T16:09:46.818Z"
   },
   {
    "duration": 532,
    "start_time": "2022-08-12T16:13:24.382Z"
   },
   {
    "duration": 461,
    "start_time": "2022-08-12T16:14:08.760Z"
   },
   {
    "duration": 404,
    "start_time": "2022-08-12T16:15:13.090Z"
   },
   {
    "duration": 993,
    "start_time": "2022-08-12T16:21:04.445Z"
   },
   {
    "duration": 18,
    "start_time": "2022-08-12T16:22:57.231Z"
   },
   {
    "duration": 20,
    "start_time": "2022-08-12T16:24:45.872Z"
   },
   {
    "duration": 20,
    "start_time": "2022-08-12T16:26:15.140Z"
   },
   {
    "duration": 165,
    "start_time": "2022-08-12T16:28:12.106Z"
   },
   {
    "duration": 186,
    "start_time": "2022-08-12T16:36:38.348Z"
   },
   {
    "duration": 165,
    "start_time": "2022-08-12T16:36:53.622Z"
   },
   {
    "duration": 162,
    "start_time": "2022-08-12T16:40:48.446Z"
   },
   {
    "duration": 175,
    "start_time": "2022-08-12T16:44:39.282Z"
   },
   {
    "duration": 427,
    "start_time": "2022-08-12T16:45:16.520Z"
   },
   {
    "duration": 2,
    "start_time": "2022-08-12T16:50:27.764Z"
   },
   {
    "duration": 7,
    "start_time": "2022-08-12T16:58:58.308Z"
   },
   {
    "duration": 8,
    "start_time": "2022-08-12T16:59:32.426Z"
   },
   {
    "duration": 12,
    "start_time": "2022-08-12T17:01:16.187Z"
   },
   {
    "duration": 18,
    "start_time": "2022-08-12T17:04:53.661Z"
   },
   {
    "duration": 20,
    "start_time": "2022-08-12T17:05:51.516Z"
   },
   {
    "duration": 23,
    "start_time": "2022-08-12T17:06:16.150Z"
   },
   {
    "duration": 19,
    "start_time": "2022-08-12T17:06:40.875Z"
   },
   {
    "duration": 18,
    "start_time": "2022-08-12T17:06:55.147Z"
   },
   {
    "duration": 10,
    "start_time": "2022-08-12T17:11:30.285Z"
   },
   {
    "duration": 14,
    "start_time": "2022-08-12T17:11:45.407Z"
   },
   {
    "duration": 13,
    "start_time": "2022-08-12T17:12:36.110Z"
   },
   {
    "duration": 18,
    "start_time": "2022-08-12T17:12:55.197Z"
   },
   {
    "duration": 20,
    "start_time": "2022-08-12T17:14:01.475Z"
   },
   {
    "duration": 14,
    "start_time": "2022-08-12T17:14:15.044Z"
   },
   {
    "duration": 4,
    "start_time": "2022-08-12T17:19:50.542Z"
   },
   {
    "duration": 8,
    "start_time": "2022-08-12T17:20:20.315Z"
   },
   {
    "duration": 17,
    "start_time": "2022-08-12T17:20:27.365Z"
   },
   {
    "duration": 14,
    "start_time": "2022-08-12T17:20:28.789Z"
   },
   {
    "duration": 4,
    "start_time": "2022-08-12T17:20:30.366Z"
   },
   {
    "duration": 10,
    "start_time": "2022-08-12T17:20:31.725Z"
   },
   {
    "duration": 10,
    "start_time": "2022-08-12T17:20:52.680Z"
   },
   {
    "duration": 4,
    "start_time": "2022-08-12T17:29:11.107Z"
   },
   {
    "duration": 10,
    "start_time": "2022-08-12T17:29:12.579Z"
   },
   {
    "duration": 6,
    "start_time": "2022-08-12T17:29:26.022Z"
   },
   {
    "duration": 10,
    "start_time": "2022-08-12T17:29:27.920Z"
   },
   {
    "duration": 4,
    "start_time": "2022-08-12T17:29:57.982Z"
   },
   {
    "duration": 11,
    "start_time": "2022-08-12T17:30:02.240Z"
   },
   {
    "duration": 4,
    "start_time": "2022-08-12T17:30:15.780Z"
   },
   {
    "duration": 10,
    "start_time": "2022-08-12T17:30:16.922Z"
   },
   {
    "duration": 6,
    "start_time": "2022-08-12T17:30:55.846Z"
   },
   {
    "duration": 14,
    "start_time": "2022-08-12T17:31:16.641Z"
   },
   {
    "duration": 11,
    "start_time": "2022-08-12T17:31:50.226Z"
   },
   {
    "duration": 4,
    "start_time": "2022-08-12T17:32:35.747Z"
   },
   {
    "duration": 10,
    "start_time": "2022-08-12T17:32:36.435Z"
   },
   {
    "duration": 11,
    "start_time": "2022-08-12T17:32:49.879Z"
   },
   {
    "duration": 3,
    "start_time": "2022-08-12T17:34:16.795Z"
   },
   {
    "duration": 10,
    "start_time": "2022-08-12T17:34:18.354Z"
   },
   {
    "duration": 11,
    "start_time": "2022-08-12T17:34:24.326Z"
   },
   {
    "duration": 3,
    "start_time": "2022-08-12T17:34:55.727Z"
   },
   {
    "duration": 608,
    "start_time": "2022-08-12T17:34:55.738Z"
   },
   {
    "duration": 4,
    "start_time": "2022-08-12T17:34:56.348Z"
   },
   {
    "duration": 459,
    "start_time": "2022-08-12T17:34:56.354Z"
   },
   {
    "duration": 2,
    "start_time": "2022-08-12T17:34:56.816Z"
   },
   {
    "duration": 117,
    "start_time": "2022-08-12T17:34:56.820Z"
   },
   {
    "duration": 118,
    "start_time": "2022-08-12T17:34:56.939Z"
   },
   {
    "duration": 83,
    "start_time": "2022-08-12T17:34:57.059Z"
   },
   {
    "duration": 5,
    "start_time": "2022-08-12T17:34:57.144Z"
   },
   {
    "duration": 89,
    "start_time": "2022-08-12T17:34:57.151Z"
   },
   {
    "duration": 95,
    "start_time": "2022-08-12T17:34:57.242Z"
   },
   {
    "duration": 7,
    "start_time": "2022-08-12T17:34:57.339Z"
   },
   {
    "duration": 9,
    "start_time": "2022-08-12T17:34:57.348Z"
   },
   {
    "duration": 3,
    "start_time": "2022-08-12T17:34:57.358Z"
   },
   {
    "duration": 223,
    "start_time": "2022-08-12T17:34:57.363Z"
   },
   {
    "duration": 60,
    "start_time": "2022-08-12T17:34:57.587Z"
   },
   {
    "duration": 26,
    "start_time": "2022-08-12T17:34:57.648Z"
   },
   {
    "duration": 30,
    "start_time": "2022-08-12T17:34:57.676Z"
   },
   {
    "duration": 505,
    "start_time": "2022-08-12T17:34:57.707Z"
   },
   {
    "duration": 6,
    "start_time": "2022-08-12T17:34:58.214Z"
   },
   {
    "duration": 10,
    "start_time": "2022-08-12T17:34:58.221Z"
   },
   {
    "duration": 21,
    "start_time": "2022-08-12T17:34:58.233Z"
   },
   {
    "duration": 15,
    "start_time": "2022-08-12T17:34:58.255Z"
   },
   {
    "duration": 44,
    "start_time": "2022-08-12T17:34:58.271Z"
   },
   {
    "duration": 17,
    "start_time": "2022-08-12T17:34:58.316Z"
   },
   {
    "duration": 767,
    "start_time": "2022-08-12T17:34:58.334Z"
   },
   {
    "duration": 211,
    "start_time": "2022-08-12T17:34:59.103Z"
   },
   {
    "duration": 33,
    "start_time": "2022-08-12T17:34:59.315Z"
   },
   {
    "duration": 27,
    "start_time": "2022-08-12T17:34:59.352Z"
   },
   {
    "duration": 35,
    "start_time": "2022-08-12T17:34:59.380Z"
   },
   {
    "duration": 9,
    "start_time": "2022-08-12T17:34:59.416Z"
   },
   {
    "duration": 9,
    "start_time": "2022-08-12T17:34:59.426Z"
   },
   {
    "duration": 16,
    "start_time": "2022-08-12T17:34:59.436Z"
   },
   {
    "duration": 853,
    "start_time": "2022-08-12T17:34:59.453Z"
   },
   {
    "duration": 13,
    "start_time": "2022-08-12T17:35:00.308Z"
   },
   {
    "duration": 394,
    "start_time": "2022-08-12T17:35:00.322Z"
   },
   {
    "duration": 356,
    "start_time": "2022-08-12T17:35:00.717Z"
   },
   {
    "duration": 4,
    "start_time": "2022-08-12T17:35:01.075Z"
   },
   {
    "duration": 38,
    "start_time": "2022-08-12T17:35:01.081Z"
   },
   {
    "duration": 205,
    "start_time": "2022-08-12T17:35:01.120Z"
   },
   {
    "duration": 379,
    "start_time": "2022-08-12T17:35:01.326Z"
   },
   {
    "duration": 20,
    "start_time": "2022-08-12T17:35:01.707Z"
   },
   {
    "duration": 18,
    "start_time": "2022-08-12T17:35:01.729Z"
   },
   {
    "duration": 14,
    "start_time": "2022-08-12T17:35:01.749Z"
   },
   {
    "duration": 4,
    "start_time": "2022-08-12T17:35:01.765Z"
   },
   {
    "duration": 39,
    "start_time": "2022-08-12T17:35:01.770Z"
   },
   {
    "duration": 14,
    "start_time": "2022-08-12T17:35:01.811Z"
   },
   {
    "duration": 4,
    "start_time": "2022-08-12T17:36:35.587Z"
   },
   {
    "duration": 8,
    "start_time": "2022-08-12T17:36:46.347Z"
   },
   {
    "duration": 1144,
    "start_time": "2022-08-12T18:07:37.393Z"
   },
   {
    "duration": 537,
    "start_time": "2022-08-12T18:07:38.538Z"
   },
   {
    "duration": 5,
    "start_time": "2022-08-12T18:07:39.077Z"
   },
   {
    "duration": 426,
    "start_time": "2022-08-12T18:07:39.083Z"
   },
   {
    "duration": 3,
    "start_time": "2022-08-12T18:07:39.511Z"
   },
   {
    "duration": 116,
    "start_time": "2022-08-12T18:07:39.515Z"
   },
   {
    "duration": 135,
    "start_time": "2022-08-12T18:07:39.632Z"
   },
   {
    "duration": 79,
    "start_time": "2022-08-12T18:07:39.770Z"
   },
   {
    "duration": 5,
    "start_time": "2022-08-12T18:07:39.850Z"
   },
   {
    "duration": 102,
    "start_time": "2022-08-12T18:07:39.856Z"
   },
   {
    "duration": 102,
    "start_time": "2022-08-12T18:07:39.960Z"
   },
   {
    "duration": 6,
    "start_time": "2022-08-12T18:07:40.063Z"
   },
   {
    "duration": 10,
    "start_time": "2022-08-12T18:07:40.071Z"
   },
   {
    "duration": 8,
    "start_time": "2022-08-12T18:07:40.084Z"
   },
   {
    "duration": 215,
    "start_time": "2022-08-12T18:07:40.093Z"
   },
   {
    "duration": 54,
    "start_time": "2022-08-12T18:07:40.310Z"
   },
   {
    "duration": 41,
    "start_time": "2022-08-12T18:07:40.366Z"
   },
   {
    "duration": 13,
    "start_time": "2022-08-12T18:07:40.409Z"
   },
   {
    "duration": 551,
    "start_time": "2022-08-12T18:07:40.423Z"
   },
   {
    "duration": 6,
    "start_time": "2022-08-12T18:07:40.976Z"
   },
   {
    "duration": 23,
    "start_time": "2022-08-12T18:07:40.984Z"
   },
   {
    "duration": 21,
    "start_time": "2022-08-12T18:07:41.008Z"
   },
   {
    "duration": 14,
    "start_time": "2022-08-12T18:07:41.031Z"
   },
   {
    "duration": 12,
    "start_time": "2022-08-12T18:07:41.047Z"
   },
   {
    "duration": 15,
    "start_time": "2022-08-12T18:07:41.060Z"
   },
   {
    "duration": 864,
    "start_time": "2022-08-12T18:07:41.076Z"
   },
   {
    "duration": 199,
    "start_time": "2022-08-12T18:07:41.941Z"
   },
   {
    "duration": 32,
    "start_time": "2022-08-12T18:07:42.142Z"
   },
   {
    "duration": 46,
    "start_time": "2022-08-12T18:07:42.176Z"
   },
   {
    "duration": 13,
    "start_time": "2022-08-12T18:07:42.224Z"
   },
   {
    "duration": 7,
    "start_time": "2022-08-12T18:07:42.239Z"
   },
   {
    "duration": 9,
    "start_time": "2022-08-12T18:07:42.248Z"
   },
   {
    "duration": 15,
    "start_time": "2022-08-12T18:07:42.259Z"
   },
   {
    "duration": 656,
    "start_time": "2022-08-12T18:07:42.275Z"
   },
   {
    "duration": 11,
    "start_time": "2022-08-12T18:07:42.933Z"
   },
   {
    "duration": 364,
    "start_time": "2022-08-12T18:07:42.946Z"
   },
   {
    "duration": 279,
    "start_time": "2022-08-12T18:07:43.311Z"
   },
   {
    "duration": 15,
    "start_time": "2022-08-12T18:07:43.591Z"
   },
   {
    "duration": 26,
    "start_time": "2022-08-12T18:07:43.607Z"
   },
   {
    "duration": 191,
    "start_time": "2022-08-12T18:07:43.634Z"
   },
   {
    "duration": 341,
    "start_time": "2022-08-12T18:07:43.828Z"
   },
   {
    "duration": 19,
    "start_time": "2022-08-12T18:07:44.171Z"
   },
   {
    "duration": 29,
    "start_time": "2022-08-12T18:07:44.191Z"
   },
   {
    "duration": 12,
    "start_time": "2022-08-12T18:07:44.221Z"
   },
   {
    "duration": 3,
    "start_time": "2022-08-12T18:07:44.234Z"
   },
   {
    "duration": 14,
    "start_time": "2022-08-12T18:07:44.239Z"
   },
   {
    "duration": 11,
    "start_time": "2022-08-12T18:07:44.255Z"
   },
   {
    "duration": 205,
    "start_time": "2022-08-12T18:07:44.267Z"
   },
   {
    "duration": 10,
    "start_time": "2022-08-12T18:10:34.007Z"
   },
   {
    "duration": 12,
    "start_time": "2022-08-12T18:36:07.231Z"
   },
   {
    "duration": 10,
    "start_time": "2022-08-12T18:36:29.031Z"
   },
   {
    "duration": 16,
    "start_time": "2022-08-12T18:37:49.498Z"
   },
   {
    "duration": 11,
    "start_time": "2022-08-12T18:38:07.640Z"
   },
   {
    "duration": 16,
    "start_time": "2022-08-12T18:44:47.568Z"
   },
   {
    "duration": 14,
    "start_time": "2022-08-12T18:45:47.425Z"
   },
   {
    "duration": 15,
    "start_time": "2022-08-12T18:46:04.785Z"
   },
   {
    "duration": 34,
    "start_time": "2022-08-12T18:49:20.740Z"
   },
   {
    "duration": 121,
    "start_time": "2022-08-12T18:49:45.222Z"
   },
   {
    "duration": 39,
    "start_time": "2022-08-12T18:50:24.804Z"
   },
   {
    "duration": 39,
    "start_time": "2022-08-12T18:50:34.646Z"
   },
   {
    "duration": 30,
    "start_time": "2022-08-12T18:50:47.787Z"
   },
   {
    "duration": 29,
    "start_time": "2022-08-12T18:50:57.736Z"
   },
   {
    "duration": 18,
    "start_time": "2022-08-12T18:52:15.723Z"
   },
   {
    "duration": 13,
    "start_time": "2022-08-12T18:52:31.402Z"
   },
   {
    "duration": 132,
    "start_time": "2022-08-12T18:52:39.124Z"
   },
   {
    "duration": 13,
    "start_time": "2022-08-12T18:52:43.525Z"
   },
   {
    "duration": 127,
    "start_time": "2022-08-12T18:53:14.777Z"
   },
   {
    "duration": 3,
    "start_time": "2022-08-12T18:53:42.445Z"
   },
   {
    "duration": 513,
    "start_time": "2022-08-12T18:53:42.495Z"
   },
   {
    "duration": 5,
    "start_time": "2022-08-12T18:53:43.010Z"
   },
   {
    "duration": 417,
    "start_time": "2022-08-12T18:53:43.016Z"
   },
   {
    "duration": 3,
    "start_time": "2022-08-12T18:53:43.435Z"
   },
   {
    "duration": 114,
    "start_time": "2022-08-12T18:53:43.440Z"
   },
   {
    "duration": 117,
    "start_time": "2022-08-12T18:53:43.555Z"
   },
   {
    "duration": 77,
    "start_time": "2022-08-12T18:53:43.674Z"
   },
   {
    "duration": 4,
    "start_time": "2022-08-12T18:53:43.753Z"
   },
   {
    "duration": 106,
    "start_time": "2022-08-12T18:53:43.758Z"
   },
   {
    "duration": 119,
    "start_time": "2022-08-12T18:53:43.867Z"
   },
   {
    "duration": 9,
    "start_time": "2022-08-12T18:53:43.988Z"
   },
   {
    "duration": 11,
    "start_time": "2022-08-12T18:53:44.009Z"
   },
   {
    "duration": 6,
    "start_time": "2022-08-12T18:53:44.022Z"
   },
   {
    "duration": 227,
    "start_time": "2022-08-12T18:53:44.030Z"
   },
   {
    "duration": 62,
    "start_time": "2022-08-12T18:53:44.259Z"
   },
   {
    "duration": 26,
    "start_time": "2022-08-12T18:53:44.323Z"
   },
   {
    "duration": 12,
    "start_time": "2022-08-12T18:53:44.351Z"
   },
   {
    "duration": 565,
    "start_time": "2022-08-12T18:53:44.365Z"
   },
   {
    "duration": 7,
    "start_time": "2022-08-12T18:53:44.932Z"
   },
   {
    "duration": 25,
    "start_time": "2022-08-12T18:53:44.940Z"
   },
   {
    "duration": 43,
    "start_time": "2022-08-12T18:53:44.968Z"
   },
   {
    "duration": 32,
    "start_time": "2022-08-12T18:53:45.012Z"
   },
   {
    "duration": 25,
    "start_time": "2022-08-12T18:53:45.046Z"
   },
   {
    "duration": 30,
    "start_time": "2022-08-12T18:53:45.073Z"
   },
   {
    "duration": 756,
    "start_time": "2022-08-12T18:53:45.104Z"
   },
   {
    "duration": 242,
    "start_time": "2022-08-12T18:53:45.861Z"
   },
   {
    "duration": 45,
    "start_time": "2022-08-12T18:53:46.105Z"
   },
   {
    "duration": 55,
    "start_time": "2022-08-12T18:53:46.152Z"
   },
   {
    "duration": 22,
    "start_time": "2022-08-12T18:53:46.209Z"
   },
   {
    "duration": 11,
    "start_time": "2022-08-12T18:53:46.234Z"
   },
   {
    "duration": 11,
    "start_time": "2022-08-12T18:53:46.247Z"
   },
   {
    "duration": 46,
    "start_time": "2022-08-12T18:53:46.260Z"
   },
   {
    "duration": 713,
    "start_time": "2022-08-12T18:53:46.309Z"
   },
   {
    "duration": 11,
    "start_time": "2022-08-12T18:53:47.024Z"
   },
   {
    "duration": 361,
    "start_time": "2022-08-12T18:53:47.036Z"
   },
   {
    "duration": 296,
    "start_time": "2022-08-12T18:53:47.405Z"
   },
   {
    "duration": 5,
    "start_time": "2022-08-12T18:53:47.706Z"
   },
   {
    "duration": 28,
    "start_time": "2022-08-12T18:53:47.713Z"
   },
   {
    "duration": 291,
    "start_time": "2022-08-12T18:53:47.742Z"
   },
   {
    "duration": 351,
    "start_time": "2022-08-12T18:53:48.035Z"
   },
   {
    "duration": 25,
    "start_time": "2022-08-12T18:53:48.388Z"
   },
   {
    "duration": 16,
    "start_time": "2022-08-12T18:53:48.414Z"
   },
   {
    "duration": 12,
    "start_time": "2022-08-12T18:53:48.431Z"
   },
   {
    "duration": 3,
    "start_time": "2022-08-12T18:53:48.444Z"
   },
   {
    "duration": 13,
    "start_time": "2022-08-12T18:53:48.449Z"
   },
   {
    "duration": 9,
    "start_time": "2022-08-12T18:53:48.464Z"
   },
   {
    "duration": 34,
    "start_time": "2022-08-12T18:53:48.474Z"
   },
   {
    "duration": 8,
    "start_time": "2022-08-12T18:53:48.510Z"
   },
   {
    "duration": 18,
    "start_time": "2022-08-12T18:53:48.519Z"
   },
   {
    "duration": 11,
    "start_time": "2022-08-12T18:53:48.539Z"
   },
   {
    "duration": 148,
    "start_time": "2022-08-12T18:53:48.551Z"
   },
   {
    "duration": 12,
    "start_time": "2022-08-12T18:53:48.705Z"
   },
   {
    "duration": 232,
    "start_time": "2022-08-12T18:54:52.664Z"
   },
   {
    "duration": 155,
    "start_time": "2022-08-12T18:56:54.331Z"
   },
   {
    "duration": 127,
    "start_time": "2022-08-12T18:57:06.287Z"
   },
   {
    "duration": 19,
    "start_time": "2022-08-12T19:01:39.861Z"
   },
   {
    "duration": 9,
    "start_time": "2022-08-12T19:03:40.924Z"
   },
   {
    "duration": 13,
    "start_time": "2022-08-12T19:04:50.991Z"
   },
   {
    "duration": 15,
    "start_time": "2022-08-12T19:05:30.763Z"
   },
   {
    "duration": 13,
    "start_time": "2022-08-12T19:05:50.661Z"
   },
   {
    "duration": 13,
    "start_time": "2022-08-12T19:07:38.576Z"
   },
   {
    "duration": 1336,
    "start_time": "2022-08-13T06:30:58.148Z"
   },
   {
    "duration": 1970,
    "start_time": "2022-08-13T06:30:59.486Z"
   },
   {
    "duration": 6,
    "start_time": "2022-08-13T06:31:01.457Z"
   },
   {
    "duration": 428,
    "start_time": "2022-08-13T06:31:01.465Z"
   },
   {
    "duration": 3,
    "start_time": "2022-08-13T06:31:01.895Z"
   },
   {
    "duration": 125,
    "start_time": "2022-08-13T06:31:01.900Z"
   },
   {
    "duration": 118,
    "start_time": "2022-08-13T06:31:02.027Z"
   },
   {
    "duration": 70,
    "start_time": "2022-08-13T06:31:02.147Z"
   },
   {
    "duration": 4,
    "start_time": "2022-08-13T06:31:02.219Z"
   },
   {
    "duration": 104,
    "start_time": "2022-08-13T06:31:02.225Z"
   },
   {
    "duration": 98,
    "start_time": "2022-08-13T06:31:02.331Z"
   },
   {
    "duration": 7,
    "start_time": "2022-08-13T06:31:02.430Z"
   },
   {
    "duration": 24,
    "start_time": "2022-08-13T06:31:02.438Z"
   },
   {
    "duration": 4,
    "start_time": "2022-08-13T06:31:02.464Z"
   },
   {
    "duration": 191,
    "start_time": "2022-08-13T06:31:02.469Z"
   },
   {
    "duration": 52,
    "start_time": "2022-08-13T06:31:02.661Z"
   },
   {
    "duration": 41,
    "start_time": "2022-08-13T06:31:02.714Z"
   },
   {
    "duration": 13,
    "start_time": "2022-08-13T06:31:02.757Z"
   },
   {
    "duration": 524,
    "start_time": "2022-08-13T06:31:02.771Z"
   },
   {
    "duration": 6,
    "start_time": "2022-08-13T06:31:03.297Z"
   },
   {
    "duration": 12,
    "start_time": "2022-08-13T06:31:03.304Z"
   },
   {
    "duration": 22,
    "start_time": "2022-08-13T06:31:03.318Z"
   },
   {
    "duration": 13,
    "start_time": "2022-08-13T06:31:03.355Z"
   },
   {
    "duration": 11,
    "start_time": "2022-08-13T06:31:03.369Z"
   },
   {
    "duration": 89,
    "start_time": "2022-08-13T06:31:03.382Z"
   },
   {
    "duration": 789,
    "start_time": "2022-08-13T06:31:03.472Z"
   },
   {
    "duration": 226,
    "start_time": "2022-08-13T06:31:04.263Z"
   },
   {
    "duration": 32,
    "start_time": "2022-08-13T06:31:04.493Z"
   },
   {
    "duration": 42,
    "start_time": "2022-08-13T06:31:04.526Z"
   },
   {
    "duration": 14,
    "start_time": "2022-08-13T06:31:04.569Z"
   },
   {
    "duration": 9,
    "start_time": "2022-08-13T06:31:04.584Z"
   },
   {
    "duration": 12,
    "start_time": "2022-08-13T06:31:04.594Z"
   },
   {
    "duration": 14,
    "start_time": "2022-08-13T06:31:04.607Z"
   },
   {
    "duration": 645,
    "start_time": "2022-08-13T06:31:04.623Z"
   },
   {
    "duration": 13,
    "start_time": "2022-08-13T06:31:05.269Z"
   },
   {
    "duration": 357,
    "start_time": "2022-08-13T06:31:05.283Z"
   },
   {
    "duration": 296,
    "start_time": "2022-08-13T06:31:05.642Z"
   },
   {
    "duration": 4,
    "start_time": "2022-08-13T06:31:05.939Z"
   },
   {
    "duration": 23,
    "start_time": "2022-08-13T06:31:05.954Z"
   },
   {
    "duration": 181,
    "start_time": "2022-08-13T06:31:05.978Z"
   },
   {
    "duration": 427,
    "start_time": "2022-08-13T06:31:06.161Z"
   },
   {
    "duration": 19,
    "start_time": "2022-08-13T06:31:06.590Z"
   },
   {
    "duration": 15,
    "start_time": "2022-08-13T06:31:06.610Z"
   },
   {
    "duration": 36,
    "start_time": "2022-08-13T06:31:06.627Z"
   },
   {
    "duration": 5,
    "start_time": "2022-08-13T06:31:06.664Z"
   },
   {
    "duration": 22,
    "start_time": "2022-08-13T06:31:06.671Z"
   },
   {
    "duration": 11,
    "start_time": "2022-08-13T06:31:06.695Z"
   },
   {
    "duration": 136,
    "start_time": "2022-08-13T06:31:06.707Z"
   },
   {
    "duration": 9,
    "start_time": "2022-08-13T06:31:06.844Z"
   },
   {
    "duration": 20,
    "start_time": "2022-08-13T06:31:06.854Z"
   },
   {
    "duration": 9,
    "start_time": "2022-08-13T06:31:06.876Z"
   },
   {
    "duration": 76,
    "start_time": "2022-08-13T06:31:06.886Z"
   },
   {
    "duration": 19,
    "start_time": "2022-08-13T06:31:06.964Z"
   },
   {
    "duration": 18,
    "start_time": "2022-08-13T06:37:28.304Z"
   },
   {
    "duration": 5,
    "start_time": "2022-08-13T06:38:11.195Z"
   },
   {
    "duration": 4,
    "start_time": "2022-08-13T06:40:25.901Z"
   },
   {
    "duration": 30,
    "start_time": "2022-08-13T06:43:33.126Z"
   },
   {
    "duration": 24,
    "start_time": "2022-08-13T06:44:49.678Z"
   },
   {
    "duration": 97,
    "start_time": "2022-08-13T06:45:58.909Z"
   },
   {
    "duration": 107,
    "start_time": "2022-08-13T06:46:06.947Z"
   },
   {
    "duration": 20,
    "start_time": "2022-08-13T06:46:19.032Z"
   },
   {
    "duration": 22,
    "start_time": "2022-08-13T06:47:24.972Z"
   },
   {
    "duration": 24,
    "start_time": "2022-08-13T06:48:09.841Z"
   },
   {
    "duration": 192,
    "start_time": "2022-08-13T06:50:31.264Z"
   },
   {
    "duration": 28,
    "start_time": "2022-08-13T06:50:58.070Z"
   },
   {
    "duration": 26,
    "start_time": "2022-08-13T06:51:08.077Z"
   },
   {
    "duration": 24,
    "start_time": "2022-08-13T06:51:13.477Z"
   },
   {
    "duration": 13,
    "start_time": "2022-08-13T07:16:09.693Z"
   },
   {
    "duration": 143,
    "start_time": "2022-08-13T07:22:09.084Z"
   },
   {
    "duration": 154,
    "start_time": "2022-08-13T07:22:22.162Z"
   },
   {
    "duration": 147,
    "start_time": "2022-08-13T07:23:59.760Z"
   },
   {
    "duration": 1176,
    "start_time": "2022-08-13T07:27:55.749Z"
   },
   {
    "duration": 574,
    "start_time": "2022-08-13T07:27:56.928Z"
   },
   {
    "duration": 5,
    "start_time": "2022-08-13T07:27:57.504Z"
   },
   {
    "duration": 396,
    "start_time": "2022-08-13T07:27:57.511Z"
   },
   {
    "duration": 3,
    "start_time": "2022-08-13T07:27:57.908Z"
   },
   {
    "duration": 115,
    "start_time": "2022-08-13T07:27:57.912Z"
   },
   {
    "duration": 116,
    "start_time": "2022-08-13T07:27:58.029Z"
   },
   {
    "duration": 72,
    "start_time": "2022-08-13T07:27:58.147Z"
   },
   {
    "duration": 5,
    "start_time": "2022-08-13T07:27:58.221Z"
   },
   {
    "duration": 106,
    "start_time": "2022-08-13T07:27:58.228Z"
   },
   {
    "duration": 93,
    "start_time": "2022-08-13T07:27:58.336Z"
   },
   {
    "duration": 6,
    "start_time": "2022-08-13T07:27:58.431Z"
   },
   {
    "duration": 17,
    "start_time": "2022-08-13T07:27:58.438Z"
   },
   {
    "duration": 2,
    "start_time": "2022-08-13T07:27:58.457Z"
   },
   {
    "duration": 198,
    "start_time": "2022-08-13T07:27:58.460Z"
   },
   {
    "duration": 47,
    "start_time": "2022-08-13T07:27:58.659Z"
   },
   {
    "duration": 37,
    "start_time": "2022-08-13T07:27:58.707Z"
   },
   {
    "duration": 16,
    "start_time": "2022-08-13T07:27:58.748Z"
   },
   {
    "duration": 549,
    "start_time": "2022-08-13T07:27:58.766Z"
   },
   {
    "duration": 7,
    "start_time": "2022-08-13T07:27:59.317Z"
   },
   {
    "duration": 10,
    "start_time": "2022-08-13T07:27:59.325Z"
   },
   {
    "duration": 33,
    "start_time": "2022-08-13T07:27:59.336Z"
   },
   {
    "duration": 13,
    "start_time": "2022-08-13T07:27:59.370Z"
   },
   {
    "duration": 11,
    "start_time": "2022-08-13T07:27:59.385Z"
   },
   {
    "duration": 14,
    "start_time": "2022-08-13T07:27:59.397Z"
   },
   {
    "duration": 793,
    "start_time": "2022-08-13T07:27:59.412Z"
   },
   {
    "duration": 205,
    "start_time": "2022-08-13T07:28:00.207Z"
   },
   {
    "duration": 40,
    "start_time": "2022-08-13T07:28:00.415Z"
   },
   {
    "duration": 38,
    "start_time": "2022-08-13T07:28:00.456Z"
   },
   {
    "duration": 14,
    "start_time": "2022-08-13T07:28:00.496Z"
   },
   {
    "duration": 7,
    "start_time": "2022-08-13T07:28:00.512Z"
   },
   {
    "duration": 12,
    "start_time": "2022-08-13T07:28:00.521Z"
   },
   {
    "duration": 14,
    "start_time": "2022-08-13T07:28:00.555Z"
   },
   {
    "duration": 692,
    "start_time": "2022-08-13T07:28:00.571Z"
   },
   {
    "duration": 14,
    "start_time": "2022-08-13T07:28:01.265Z"
   },
   {
    "duration": 366,
    "start_time": "2022-08-13T07:28:01.281Z"
   },
   {
    "duration": 301,
    "start_time": "2022-08-13T07:28:01.648Z"
   },
   {
    "duration": 5,
    "start_time": "2022-08-13T07:28:01.955Z"
   },
   {
    "duration": 37,
    "start_time": "2022-08-13T07:28:01.962Z"
   },
   {
    "duration": 182,
    "start_time": "2022-08-13T07:28:02.001Z"
   },
   {
    "duration": 343,
    "start_time": "2022-08-13T07:28:02.185Z"
   },
   {
    "duration": 25,
    "start_time": "2022-08-13T07:28:02.530Z"
   },
   {
    "duration": 16,
    "start_time": "2022-08-13T07:28:02.557Z"
   },
   {
    "duration": 12,
    "start_time": "2022-08-13T07:28:02.575Z"
   },
   {
    "duration": 4,
    "start_time": "2022-08-13T07:28:02.589Z"
   },
   {
    "duration": 12,
    "start_time": "2022-08-13T07:28:02.594Z"
   },
   {
    "duration": 10,
    "start_time": "2022-08-13T07:28:02.607Z"
   },
   {
    "duration": 222,
    "start_time": "2022-08-13T07:28:02.619Z"
   },
   {
    "duration": 13,
    "start_time": "2022-08-13T07:28:02.842Z"
   },
   {
    "duration": 13,
    "start_time": "2022-08-13T07:28:02.856Z"
   },
   {
    "duration": 208,
    "start_time": "2022-08-13T07:28:02.870Z"
   },
   {
    "duration": 111,
    "start_time": "2022-08-13T07:28:03.079Z"
   },
   {
    "duration": 0,
    "start_time": "2022-08-13T07:28:03.191Z"
   },
   {
    "duration": 0,
    "start_time": "2022-08-13T07:28:03.192Z"
   },
   {
    "duration": 0,
    "start_time": "2022-08-13T07:28:03.193Z"
   },
   {
    "duration": 154,
    "start_time": "2022-08-13T07:29:37.545Z"
   },
   {
    "duration": 84,
    "start_time": "2022-08-13T07:32:00.320Z"
   },
   {
    "duration": 3,
    "start_time": "2022-08-13T07:39:49.293Z"
   },
   {
    "duration": 489,
    "start_time": "2022-08-13T07:39:49.298Z"
   },
   {
    "duration": 5,
    "start_time": "2022-08-13T07:39:49.789Z"
   },
   {
    "duration": 412,
    "start_time": "2022-08-13T07:39:49.796Z"
   },
   {
    "duration": 2,
    "start_time": "2022-08-13T07:39:50.210Z"
   },
   {
    "duration": 107,
    "start_time": "2022-08-13T07:39:50.214Z"
   },
   {
    "duration": 113,
    "start_time": "2022-08-13T07:39:50.323Z"
   },
   {
    "duration": 77,
    "start_time": "2022-08-13T07:39:50.438Z"
   },
   {
    "duration": 4,
    "start_time": "2022-08-13T07:39:50.516Z"
   },
   {
    "duration": 99,
    "start_time": "2022-08-13T07:39:50.522Z"
   },
   {
    "duration": 86,
    "start_time": "2022-08-13T07:39:50.624Z"
   },
   {
    "duration": 5,
    "start_time": "2022-08-13T07:39:50.712Z"
   },
   {
    "duration": 12,
    "start_time": "2022-08-13T07:39:50.718Z"
   },
   {
    "duration": 4,
    "start_time": "2022-08-13T07:39:50.732Z"
   },
   {
    "duration": 184,
    "start_time": "2022-08-13T07:39:50.737Z"
   },
   {
    "duration": 52,
    "start_time": "2022-08-13T07:39:50.922Z"
   },
   {
    "duration": 27,
    "start_time": "2022-08-13T07:39:50.975Z"
   },
   {
    "duration": 12,
    "start_time": "2022-08-13T07:39:51.003Z"
   },
   {
    "duration": 481,
    "start_time": "2022-08-13T07:39:51.017Z"
   },
   {
    "duration": 7,
    "start_time": "2022-08-13T07:39:51.499Z"
   },
   {
    "duration": 13,
    "start_time": "2022-08-13T07:39:51.507Z"
   },
   {
    "duration": 36,
    "start_time": "2022-08-13T07:39:51.521Z"
   },
   {
    "duration": 20,
    "start_time": "2022-08-13T07:39:51.559Z"
   },
   {
    "duration": 20,
    "start_time": "2022-08-13T07:39:51.580Z"
   },
   {
    "duration": 26,
    "start_time": "2022-08-13T07:39:51.601Z"
   },
   {
    "duration": 750,
    "start_time": "2022-08-13T07:39:51.628Z"
   },
   {
    "duration": 191,
    "start_time": "2022-08-13T07:39:52.379Z"
   },
   {
    "duration": 31,
    "start_time": "2022-08-13T07:39:52.572Z"
   },
   {
    "duration": 24,
    "start_time": "2022-08-13T07:39:52.606Z"
   },
   {
    "duration": 29,
    "start_time": "2022-08-13T07:39:52.632Z"
   },
   {
    "duration": 8,
    "start_time": "2022-08-13T07:39:52.662Z"
   },
   {
    "duration": 11,
    "start_time": "2022-08-13T07:39:52.671Z"
   },
   {
    "duration": 15,
    "start_time": "2022-08-13T07:39:52.683Z"
   },
   {
    "duration": 759,
    "start_time": "2022-08-13T07:39:52.699Z"
   },
   {
    "duration": 12,
    "start_time": "2022-08-13T07:39:53.460Z"
   },
   {
    "duration": 372,
    "start_time": "2022-08-13T07:39:53.474Z"
   },
   {
    "duration": 300,
    "start_time": "2022-08-13T07:39:53.847Z"
   },
   {
    "duration": 10,
    "start_time": "2022-08-13T07:39:54.148Z"
   },
   {
    "duration": 31,
    "start_time": "2022-08-13T07:39:54.159Z"
   },
   {
    "duration": 188,
    "start_time": "2022-08-13T07:39:54.191Z"
   },
   {
    "duration": 337,
    "start_time": "2022-08-13T07:39:54.381Z"
   },
   {
    "duration": 19,
    "start_time": "2022-08-13T07:39:54.720Z"
   },
   {
    "duration": 27,
    "start_time": "2022-08-13T07:39:54.741Z"
   },
   {
    "duration": 13,
    "start_time": "2022-08-13T07:39:54.769Z"
   },
   {
    "duration": 4,
    "start_time": "2022-08-13T07:39:54.783Z"
   },
   {
    "duration": 10,
    "start_time": "2022-08-13T07:39:54.788Z"
   },
   {
    "duration": 12,
    "start_time": "2022-08-13T07:39:54.800Z"
   },
   {
    "duration": 9,
    "start_time": "2022-08-13T07:39:54.814Z"
   },
   {
    "duration": 31,
    "start_time": "2022-08-13T07:39:54.824Z"
   },
   {
    "duration": 16,
    "start_time": "2022-08-13T07:39:54.856Z"
   },
   {
    "duration": 9,
    "start_time": "2022-08-13T07:39:54.874Z"
   },
   {
    "duration": 21,
    "start_time": "2022-08-13T07:39:54.885Z"
   },
   {
    "duration": 24,
    "start_time": "2022-08-13T07:44:40.611Z"
   },
   {
    "duration": 6,
    "start_time": "2022-08-13T07:54:58.233Z"
   },
   {
    "duration": 10,
    "start_time": "2022-08-13T07:59:34.410Z"
   },
   {
    "duration": 182,
    "start_time": "2022-08-13T08:00:11.699Z"
   },
   {
    "duration": 8,
    "start_time": "2022-08-13T08:01:45.693Z"
   },
   {
    "duration": 10,
    "start_time": "2022-08-13T08:04:59.640Z"
   },
   {
    "duration": 375,
    "start_time": "2022-08-13T08:21:58.031Z"
   },
   {
    "duration": 75,
    "start_time": "2022-08-13T08:36:08.249Z"
   },
   {
    "duration": 6,
    "start_time": "2022-08-13T08:48:03.096Z"
   },
   {
    "duration": 50,
    "start_time": "2022-08-13T08:50:24.444Z"
   },
   {
    "duration": 78,
    "start_time": "2022-08-13T08:59:46.005Z"
   },
   {
    "duration": 14,
    "start_time": "2022-08-13T09:01:00.682Z"
   },
   {
    "duration": 13,
    "start_time": "2022-08-13T09:01:28.119Z"
   },
   {
    "duration": 16,
    "start_time": "2022-08-13T09:01:37.699Z"
   },
   {
    "duration": 14,
    "start_time": "2022-08-13T09:01:53.043Z"
   },
   {
    "duration": 15,
    "start_time": "2022-08-13T09:02:46.649Z"
   },
   {
    "duration": 16,
    "start_time": "2022-08-13T09:02:51.639Z"
   },
   {
    "duration": 14,
    "start_time": "2022-08-13T09:03:05.918Z"
   },
   {
    "duration": 14,
    "start_time": "2022-08-13T09:03:12.714Z"
   },
   {
    "duration": 13,
    "start_time": "2022-08-13T09:03:25.719Z"
   },
   {
    "duration": 20,
    "start_time": "2022-08-13T09:03:45.923Z"
   },
   {
    "duration": 15,
    "start_time": "2022-08-13T09:04:22.838Z"
   },
   {
    "duration": 27,
    "start_time": "2022-08-13T09:07:54.565Z"
   },
   {
    "duration": 16,
    "start_time": "2022-08-13T09:32:31.500Z"
   },
   {
    "duration": 689,
    "start_time": "2022-08-13T09:32:39.035Z"
   },
   {
    "duration": 1155,
    "start_time": "2022-08-13T09:36:13.322Z"
   },
   {
    "duration": 516,
    "start_time": "2022-08-13T09:36:14.479Z"
   },
   {
    "duration": 6,
    "start_time": "2022-08-13T09:36:14.997Z"
   },
   {
    "duration": 414,
    "start_time": "2022-08-13T09:36:15.005Z"
   },
   {
    "duration": 2,
    "start_time": "2022-08-13T09:36:15.420Z"
   },
   {
    "duration": 120,
    "start_time": "2022-08-13T09:36:15.424Z"
   },
   {
    "duration": 125,
    "start_time": "2022-08-13T09:36:15.546Z"
   },
   {
    "duration": 69,
    "start_time": "2022-08-13T09:36:15.673Z"
   },
   {
    "duration": 12,
    "start_time": "2022-08-13T09:36:15.743Z"
   },
   {
    "duration": 108,
    "start_time": "2022-08-13T09:36:15.759Z"
   },
   {
    "duration": 97,
    "start_time": "2022-08-13T09:36:15.869Z"
   },
   {
    "duration": 7,
    "start_time": "2022-08-13T09:36:15.967Z"
   },
   {
    "duration": 10,
    "start_time": "2022-08-13T09:36:15.975Z"
   },
   {
    "duration": 4,
    "start_time": "2022-08-13T09:36:15.986Z"
   },
   {
    "duration": 210,
    "start_time": "2022-08-13T09:36:15.992Z"
   },
   {
    "duration": 61,
    "start_time": "2022-08-13T09:36:16.203Z"
   },
   {
    "duration": 25,
    "start_time": "2022-08-13T09:36:16.266Z"
   },
   {
    "duration": 12,
    "start_time": "2022-08-13T09:36:16.293Z"
   },
   {
    "duration": 569,
    "start_time": "2022-08-13T09:36:16.306Z"
   },
   {
    "duration": 6,
    "start_time": "2022-08-13T09:36:16.876Z"
   },
   {
    "duration": 47,
    "start_time": "2022-08-13T09:36:16.884Z"
   },
   {
    "duration": 18,
    "start_time": "2022-08-13T09:36:16.933Z"
   },
   {
    "duration": 12,
    "start_time": "2022-08-13T09:36:16.953Z"
   },
   {
    "duration": 12,
    "start_time": "2022-08-13T09:36:16.967Z"
   },
   {
    "duration": 15,
    "start_time": "2022-08-13T09:36:16.981Z"
   },
   {
    "duration": 842,
    "start_time": "2022-08-13T09:36:16.997Z"
   },
   {
    "duration": 194,
    "start_time": "2022-08-13T09:36:17.841Z"
   },
   {
    "duration": 35,
    "start_time": "2022-08-13T09:36:18.039Z"
   },
   {
    "duration": 30,
    "start_time": "2022-08-13T09:36:18.075Z"
   },
   {
    "duration": 22,
    "start_time": "2022-08-13T09:36:18.106Z"
   },
   {
    "duration": 29,
    "start_time": "2022-08-13T09:36:18.129Z"
   },
   {
    "duration": 36,
    "start_time": "2022-08-13T09:36:18.159Z"
   },
   {
    "duration": 26,
    "start_time": "2022-08-13T09:36:18.197Z"
   },
   {
    "duration": 655,
    "start_time": "2022-08-13T09:36:18.224Z"
   },
   {
    "duration": 11,
    "start_time": "2022-08-13T09:36:18.881Z"
   },
   {
    "duration": 369,
    "start_time": "2022-08-13T09:36:18.893Z"
   },
   {
    "duration": 303,
    "start_time": "2022-08-13T09:36:19.264Z"
   },
   {
    "duration": 4,
    "start_time": "2022-08-13T09:36:19.568Z"
   },
   {
    "duration": 35,
    "start_time": "2022-08-13T09:36:19.573Z"
   },
   {
    "duration": 183,
    "start_time": "2022-08-13T09:36:19.610Z"
   },
   {
    "duration": 342,
    "start_time": "2022-08-13T09:36:19.795Z"
   },
   {
    "duration": 24,
    "start_time": "2022-08-13T09:36:20.138Z"
   },
   {
    "duration": 19,
    "start_time": "2022-08-13T09:36:20.163Z"
   },
   {
    "duration": 14,
    "start_time": "2022-08-13T09:36:20.184Z"
   },
   {
    "duration": 23,
    "start_time": "2022-08-13T09:36:20.200Z"
   },
   {
    "duration": 14,
    "start_time": "2022-08-13T09:36:20.224Z"
   },
   {
    "duration": 35,
    "start_time": "2022-08-13T09:36:20.239Z"
   },
   {
    "duration": 202,
    "start_time": "2022-08-13T09:36:20.275Z"
   },
   {
    "duration": 8,
    "start_time": "2022-08-13T09:36:20.479Z"
   },
   {
    "duration": 69,
    "start_time": "2022-08-13T09:36:20.488Z"
   },
   {
    "duration": 10,
    "start_time": "2022-08-13T09:36:20.558Z"
   },
   {
    "duration": 34,
    "start_time": "2022-08-13T09:36:20.570Z"
   },
   {
    "duration": 7,
    "start_time": "2022-08-13T09:36:20.655Z"
   },
   {
    "duration": 32,
    "start_time": "2022-08-13T09:36:20.663Z"
   },
   {
    "duration": 30,
    "start_time": "2022-08-13T09:36:20.697Z"
   },
   {
    "duration": 6,
    "start_time": "2022-08-13T09:36:20.729Z"
   },
   {
    "duration": 49,
    "start_time": "2022-08-13T09:36:20.737Z"
   },
   {
    "duration": 1226,
    "start_time": "2022-08-14T08:20:38.302Z"
   },
   {
    "duration": 806,
    "start_time": "2022-08-14T08:20:39.530Z"
   },
   {
    "duration": 7,
    "start_time": "2022-08-14T08:20:40.338Z"
   },
   {
    "duration": 378,
    "start_time": "2022-08-14T08:20:40.347Z"
   },
   {
    "duration": 3,
    "start_time": "2022-08-14T08:20:40.726Z"
   },
   {
    "duration": 108,
    "start_time": "2022-08-14T08:20:40.730Z"
   },
   {
    "duration": 107,
    "start_time": "2022-08-14T08:20:40.839Z"
   },
   {
    "duration": 75,
    "start_time": "2022-08-14T08:20:40.948Z"
   },
   {
    "duration": 6,
    "start_time": "2022-08-14T08:20:41.025Z"
   },
   {
    "duration": 99,
    "start_time": "2022-08-14T08:20:41.032Z"
   },
   {
    "duration": 80,
    "start_time": "2022-08-14T08:20:41.132Z"
   },
   {
    "duration": 5,
    "start_time": "2022-08-14T08:20:41.214Z"
   },
   {
    "duration": 11,
    "start_time": "2022-08-14T08:20:41.221Z"
   },
   {
    "duration": 3,
    "start_time": "2022-08-14T08:20:41.234Z"
   },
   {
    "duration": 154,
    "start_time": "2022-08-14T08:20:41.239Z"
   },
   {
    "duration": 49,
    "start_time": "2022-08-14T08:20:41.395Z"
   },
   {
    "duration": 22,
    "start_time": "2022-08-14T08:20:41.446Z"
   },
   {
    "duration": 31,
    "start_time": "2022-08-14T08:20:41.469Z"
   },
   {
    "duration": 517,
    "start_time": "2022-08-14T08:20:41.501Z"
   },
   {
    "duration": 6,
    "start_time": "2022-08-14T08:20:42.020Z"
   },
   {
    "duration": 10,
    "start_time": "2022-08-14T08:20:42.027Z"
   },
   {
    "duration": 19,
    "start_time": "2022-08-14T08:20:42.038Z"
   },
   {
    "duration": 14,
    "start_time": "2022-08-14T08:20:42.059Z"
   },
   {
    "duration": 11,
    "start_time": "2022-08-14T08:20:42.098Z"
   },
   {
    "duration": 17,
    "start_time": "2022-08-14T08:20:42.110Z"
   },
   {
    "duration": 865,
    "start_time": "2022-08-14T08:20:42.128Z"
   },
   {
    "duration": 158,
    "start_time": "2022-08-14T08:20:42.995Z"
   },
   {
    "duration": 34,
    "start_time": "2022-08-14T08:20:43.155Z"
   },
   {
    "duration": 42,
    "start_time": "2022-08-14T08:20:43.190Z"
   },
   {
    "duration": 15,
    "start_time": "2022-08-14T08:20:43.233Z"
   },
   {
    "duration": 8,
    "start_time": "2022-08-14T08:20:43.249Z"
   },
   {
    "duration": 10,
    "start_time": "2022-08-14T08:20:43.259Z"
   },
   {
    "duration": 40,
    "start_time": "2022-08-14T08:20:43.270Z"
   },
   {
    "duration": 640,
    "start_time": "2022-08-14T08:20:43.311Z"
   },
   {
    "duration": 12,
    "start_time": "2022-08-14T08:20:43.953Z"
   },
   {
    "duration": 333,
    "start_time": "2022-08-14T08:20:43.967Z"
   },
   {
    "duration": 325,
    "start_time": "2022-08-14T08:20:44.302Z"
   },
   {
    "duration": 4,
    "start_time": "2022-08-14T08:20:44.628Z"
   },
   {
    "duration": 23,
    "start_time": "2022-08-14T08:20:44.633Z"
   },
   {
    "duration": 189,
    "start_time": "2022-08-14T08:20:44.658Z"
   },
   {
    "duration": 334,
    "start_time": "2022-08-14T08:20:44.850Z"
   },
   {
    "duration": 24,
    "start_time": "2022-08-14T08:20:45.186Z"
   },
   {
    "duration": 16,
    "start_time": "2022-08-14T08:20:45.211Z"
   },
   {
    "duration": 15,
    "start_time": "2022-08-14T08:20:45.228Z"
   },
   {
    "duration": 3,
    "start_time": "2022-08-14T08:20:45.245Z"
   },
   {
    "duration": 13,
    "start_time": "2022-08-14T08:20:45.249Z"
   },
   {
    "duration": 9,
    "start_time": "2022-08-14T08:20:45.263Z"
   },
   {
    "duration": 277,
    "start_time": "2022-08-14T08:20:45.299Z"
   },
   {
    "duration": 8,
    "start_time": "2022-08-14T08:20:45.577Z"
   },
   {
    "duration": 17,
    "start_time": "2022-08-14T08:20:45.586Z"
   },
   {
    "duration": 10,
    "start_time": "2022-08-14T08:20:45.604Z"
   },
   {
    "duration": 26,
    "start_time": "2022-08-14T08:20:45.616Z"
   },
   {
    "duration": 55,
    "start_time": "2022-08-14T08:20:45.644Z"
   },
   {
    "duration": 8,
    "start_time": "2022-08-14T08:20:45.700Z"
   },
   {
    "duration": 7,
    "start_time": "2022-08-14T08:20:45.710Z"
   },
   {
    "duration": 5,
    "start_time": "2022-08-14T08:20:45.718Z"
   },
   {
    "duration": 29,
    "start_time": "2022-08-14T08:20:45.725Z"
   },
   {
    "duration": 42,
    "start_time": "2022-08-14T09:50:44.571Z"
   },
   {
    "duration": 1260,
    "start_time": "2022-08-14T09:50:49.332Z"
   },
   {
    "duration": 1935,
    "start_time": "2022-08-14T09:50:50.594Z"
   },
   {
    "duration": 6,
    "start_time": "2022-08-14T09:50:52.531Z"
   },
   {
    "duration": 388,
    "start_time": "2022-08-14T09:50:52.539Z"
   },
   {
    "duration": 3,
    "start_time": "2022-08-14T09:50:52.928Z"
   },
   {
    "duration": 127,
    "start_time": "2022-08-14T09:50:52.933Z"
   },
   {
    "duration": 123,
    "start_time": "2022-08-14T09:50:53.061Z"
   },
   {
    "duration": 77,
    "start_time": "2022-08-14T09:50:53.186Z"
   },
   {
    "duration": 5,
    "start_time": "2022-08-14T09:50:53.265Z"
   },
   {
    "duration": 97,
    "start_time": "2022-08-14T09:50:53.271Z"
   },
   {
    "duration": 86,
    "start_time": "2022-08-14T09:50:53.370Z"
   },
   {
    "duration": 6,
    "start_time": "2022-08-14T09:50:53.457Z"
   },
   {
    "duration": 9,
    "start_time": "2022-08-14T09:50:53.464Z"
   },
   {
    "duration": 2,
    "start_time": "2022-08-14T09:50:53.474Z"
   },
   {
    "duration": 188,
    "start_time": "2022-08-14T09:50:53.478Z"
   },
   {
    "duration": 49,
    "start_time": "2022-08-14T09:50:53.668Z"
   },
   {
    "duration": 39,
    "start_time": "2022-08-14T09:50:53.718Z"
   },
   {
    "duration": 14,
    "start_time": "2022-08-14T09:50:53.758Z"
   },
   {
    "duration": 546,
    "start_time": "2022-08-14T09:50:53.774Z"
   },
   {
    "duration": 7,
    "start_time": "2022-08-14T09:50:54.321Z"
   },
   {
    "duration": 26,
    "start_time": "2022-08-14T09:50:54.329Z"
   },
   {
    "duration": 19,
    "start_time": "2022-08-14T09:50:54.357Z"
   },
   {
    "duration": 16,
    "start_time": "2022-08-14T09:50:54.378Z"
   },
   {
    "duration": 12,
    "start_time": "2022-08-14T09:50:54.397Z"
   },
   {
    "duration": 14,
    "start_time": "2022-08-14T09:50:54.411Z"
   },
   {
    "duration": 831,
    "start_time": "2022-08-14T09:50:54.426Z"
   },
   {
    "duration": 180,
    "start_time": "2022-08-14T09:50:55.259Z"
   },
   {
    "duration": 1382,
    "start_time": "2022-08-14T09:50:55.441Z"
   },
   {
    "duration": 0,
    "start_time": "2022-08-14T09:50:56.824Z"
   },
   {
    "duration": 0,
    "start_time": "2022-08-14T09:50:56.825Z"
   },
   {
    "duration": 0,
    "start_time": "2022-08-14T09:50:56.826Z"
   },
   {
    "duration": 0,
    "start_time": "2022-08-14T09:50:56.827Z"
   },
   {
    "duration": 0,
    "start_time": "2022-08-14T09:50:56.828Z"
   },
   {
    "duration": 0,
    "start_time": "2022-08-14T09:50:56.829Z"
   },
   {
    "duration": 0,
    "start_time": "2022-08-14T09:50:56.830Z"
   },
   {
    "duration": 0,
    "start_time": "2022-08-14T09:50:56.831Z"
   },
   {
    "duration": 0,
    "start_time": "2022-08-14T09:50:56.832Z"
   },
   {
    "duration": 0,
    "start_time": "2022-08-14T09:50:56.833Z"
   },
   {
    "duration": 0,
    "start_time": "2022-08-14T09:50:56.834Z"
   },
   {
    "duration": 0,
    "start_time": "2022-08-14T09:50:56.835Z"
   },
   {
    "duration": 0,
    "start_time": "2022-08-14T09:50:56.836Z"
   },
   {
    "duration": 0,
    "start_time": "2022-08-14T09:50:56.837Z"
   },
   {
    "duration": 0,
    "start_time": "2022-08-14T09:50:56.839Z"
   },
   {
    "duration": 0,
    "start_time": "2022-08-14T09:50:56.840Z"
   },
   {
    "duration": 0,
    "start_time": "2022-08-14T09:50:56.841Z"
   },
   {
    "duration": 0,
    "start_time": "2022-08-14T09:50:56.842Z"
   },
   {
    "duration": 0,
    "start_time": "2022-08-14T09:50:56.843Z"
   },
   {
    "duration": 0,
    "start_time": "2022-08-14T09:50:56.844Z"
   },
   {
    "duration": 0,
    "start_time": "2022-08-14T09:50:56.845Z"
   },
   {
    "duration": 0,
    "start_time": "2022-08-14T09:50:56.846Z"
   },
   {
    "duration": 0,
    "start_time": "2022-08-14T09:50:56.847Z"
   },
   {
    "duration": 0,
    "start_time": "2022-08-14T09:50:56.848Z"
   },
   {
    "duration": 0,
    "start_time": "2022-08-14T09:50:56.849Z"
   },
   {
    "duration": 0,
    "start_time": "2022-08-14T09:50:56.850Z"
   },
   {
    "duration": 0,
    "start_time": "2022-08-14T09:50:56.851Z"
   },
   {
    "duration": 0,
    "start_time": "2022-08-14T09:50:56.852Z"
   },
   {
    "duration": 0,
    "start_time": "2022-08-14T09:50:56.853Z"
   },
   {
    "duration": 0,
    "start_time": "2022-08-14T09:50:56.854Z"
   },
   {
    "duration": 9,
    "start_time": "2022-08-14T09:52:03.876Z"
   },
   {
    "duration": 18,
    "start_time": "2022-08-14T09:52:12.681Z"
   },
   {
    "duration": 34,
    "start_time": "2022-08-14T09:54:42.231Z"
   },
   {
    "duration": 11,
    "start_time": "2022-08-14T09:54:45.611Z"
   },
   {
    "duration": 6,
    "start_time": "2022-08-14T09:55:23.346Z"
   },
   {
    "duration": 15,
    "start_time": "2022-08-14T09:55:50.610Z"
   },
   {
    "duration": 6,
    "start_time": "2022-08-14T09:55:52.599Z"
   },
   {
    "duration": 4,
    "start_time": "2022-08-14T09:56:21.308Z"
   },
   {
    "duration": 518,
    "start_time": "2022-08-14T09:56:21.314Z"
   },
   {
    "duration": 5,
    "start_time": "2022-08-14T09:56:21.833Z"
   },
   {
    "duration": 415,
    "start_time": "2022-08-14T09:56:21.840Z"
   },
   {
    "duration": 2,
    "start_time": "2022-08-14T09:56:22.257Z"
   },
   {
    "duration": 104,
    "start_time": "2022-08-14T09:56:22.261Z"
   },
   {
    "duration": 118,
    "start_time": "2022-08-14T09:56:22.367Z"
   },
   {
    "duration": 80,
    "start_time": "2022-08-14T09:56:22.487Z"
   },
   {
    "duration": 6,
    "start_time": "2022-08-14T09:56:22.569Z"
   },
   {
    "duration": 100,
    "start_time": "2022-08-14T09:56:22.577Z"
   },
   {
    "duration": 107,
    "start_time": "2022-08-14T09:56:22.678Z"
   },
   {
    "duration": 6,
    "start_time": "2022-08-14T09:56:22.787Z"
   },
   {
    "duration": 11,
    "start_time": "2022-08-14T09:56:22.795Z"
   },
   {
    "duration": 28,
    "start_time": "2022-08-14T09:56:22.808Z"
   },
   {
    "duration": 245,
    "start_time": "2022-08-14T09:56:22.838Z"
   },
   {
    "duration": 54,
    "start_time": "2022-08-14T09:56:23.085Z"
   },
   {
    "duration": 38,
    "start_time": "2022-08-14T09:56:23.140Z"
   },
   {
    "duration": 14,
    "start_time": "2022-08-14T09:56:23.180Z"
   },
   {
    "duration": 490,
    "start_time": "2022-08-14T09:56:23.196Z"
   },
   {
    "duration": 7,
    "start_time": "2022-08-14T09:56:23.687Z"
   },
   {
    "duration": 11,
    "start_time": "2022-08-14T09:56:23.695Z"
   },
   {
    "duration": 19,
    "start_time": "2022-08-14T09:56:23.707Z"
   },
   {
    "duration": 36,
    "start_time": "2022-08-14T09:56:23.727Z"
   },
   {
    "duration": 11,
    "start_time": "2022-08-14T09:56:23.764Z"
   },
   {
    "duration": 13,
    "start_time": "2022-08-14T09:56:23.777Z"
   },
   {
    "duration": 709,
    "start_time": "2022-08-14T09:56:23.792Z"
   },
   {
    "duration": 202,
    "start_time": "2022-08-14T09:56:24.502Z"
   },
   {
    "duration": 6,
    "start_time": "2022-08-14T09:56:24.707Z"
   },
   {
    "duration": 46,
    "start_time": "2022-08-14T09:56:24.715Z"
   },
   {
    "duration": 5,
    "start_time": "2022-08-14T09:56:24.763Z"
   },
   {
    "duration": 118,
    "start_time": "2022-08-14T09:56:24.769Z"
   },
   {
    "duration": 11,
    "start_time": "2022-08-14T09:56:24.889Z"
   },
   {
    "duration": 14,
    "start_time": "2022-08-14T09:56:24.901Z"
   },
   {
    "duration": 8,
    "start_time": "2022-08-14T09:56:24.917Z"
   },
   {
    "duration": 9,
    "start_time": "2022-08-14T09:56:24.926Z"
   },
   {
    "duration": 14,
    "start_time": "2022-08-14T09:56:24.956Z"
   },
   {
    "duration": 683,
    "start_time": "2022-08-14T09:56:24.972Z"
   },
   {
    "duration": 12,
    "start_time": "2022-08-14T09:56:25.656Z"
   },
   {
    "duration": 363,
    "start_time": "2022-08-14T09:56:25.670Z"
   },
   {
    "duration": 309,
    "start_time": "2022-08-14T09:56:26.036Z"
   },
   {
    "duration": 10,
    "start_time": "2022-08-14T09:56:26.347Z"
   },
   {
    "duration": 28,
    "start_time": "2022-08-14T09:56:26.359Z"
   },
   {
    "duration": 188,
    "start_time": "2022-08-14T09:56:26.388Z"
   },
   {
    "duration": 345,
    "start_time": "2022-08-14T09:56:26.578Z"
   },
   {
    "duration": 18,
    "start_time": "2022-08-14T09:56:26.924Z"
   },
   {
    "duration": 25,
    "start_time": "2022-08-14T09:56:26.943Z"
   },
   {
    "duration": 24,
    "start_time": "2022-08-14T09:56:26.970Z"
   },
   {
    "duration": 6,
    "start_time": "2022-08-14T09:56:26.995Z"
   },
   {
    "duration": 14,
    "start_time": "2022-08-14T09:56:27.003Z"
   },
   {
    "duration": 9,
    "start_time": "2022-08-14T09:56:27.018Z"
   },
   {
    "duration": 134,
    "start_time": "2022-08-14T09:56:27.029Z"
   },
   {
    "duration": 8,
    "start_time": "2022-08-14T09:56:27.165Z"
   },
   {
    "duration": 16,
    "start_time": "2022-08-14T09:56:27.174Z"
   },
   {
    "duration": 10,
    "start_time": "2022-08-14T09:56:27.191Z"
   },
   {
    "duration": 78,
    "start_time": "2022-08-14T09:56:27.202Z"
   },
   {
    "duration": 7,
    "start_time": "2022-08-14T09:56:27.281Z"
   },
   {
    "duration": 10,
    "start_time": "2022-08-14T09:56:27.289Z"
   },
   {
    "duration": 10,
    "start_time": "2022-08-14T09:56:27.301Z"
   },
   {
    "duration": 13,
    "start_time": "2022-08-14T09:56:27.354Z"
   },
   {
    "duration": 41,
    "start_time": "2022-08-14T09:56:27.369Z"
   },
   {
    "duration": 73,
    "start_time": "2022-08-14T10:00:03.889Z"
   },
   {
    "duration": 90,
    "start_time": "2022-08-14T10:00:38.509Z"
   },
   {
    "duration": 74,
    "start_time": "2022-08-14T10:01:20.863Z"
   },
   {
    "duration": 75,
    "start_time": "2022-08-14T10:01:28.679Z"
   },
   {
    "duration": 0,
    "start_time": "2022-08-14T10:01:28.756Z"
   },
   {
    "duration": 0,
    "start_time": "2022-08-14T10:01:28.757Z"
   },
   {
    "duration": 0,
    "start_time": "2022-08-14T10:01:28.759Z"
   },
   {
    "duration": 0,
    "start_time": "2022-08-14T10:01:28.760Z"
   },
   {
    "duration": 0,
    "start_time": "2022-08-14T10:01:28.762Z"
   },
   {
    "duration": 0,
    "start_time": "2022-08-14T10:01:28.763Z"
   },
   {
    "duration": 0,
    "start_time": "2022-08-14T10:01:28.765Z"
   },
   {
    "duration": 0,
    "start_time": "2022-08-14T10:01:28.766Z"
   },
   {
    "duration": 0,
    "start_time": "2022-08-14T10:01:28.767Z"
   },
   {
    "duration": 0,
    "start_time": "2022-08-14T10:01:28.768Z"
   },
   {
    "duration": 87,
    "start_time": "2022-08-14T10:01:28.840Z"
   },
   {
    "duration": 6,
    "start_time": "2022-08-14T10:01:28.929Z"
   },
   {
    "duration": 21,
    "start_time": "2022-08-14T10:01:28.937Z"
   },
   {
    "duration": 3,
    "start_time": "2022-08-14T10:01:28.959Z"
   },
   {
    "duration": 201,
    "start_time": "2022-08-14T10:01:28.964Z"
   },
   {
    "duration": 47,
    "start_time": "2022-08-14T10:01:29.167Z"
   },
   {
    "duration": 53,
    "start_time": "2022-08-14T10:01:29.215Z"
   },
   {
    "duration": 13,
    "start_time": "2022-08-14T10:01:29.269Z"
   },
   {
    "duration": 566,
    "start_time": "2022-08-14T10:01:29.283Z"
   },
   {
    "duration": 8,
    "start_time": "2022-08-14T10:01:29.850Z"
   },
   {
    "duration": 18,
    "start_time": "2022-08-14T10:01:29.859Z"
   },
   {
    "duration": 20,
    "start_time": "2022-08-14T10:01:29.880Z"
   },
   {
    "duration": 14,
    "start_time": "2022-08-14T10:01:29.901Z"
   },
   {
    "duration": 11,
    "start_time": "2022-08-14T10:01:29.917Z"
   },
   {
    "duration": 35,
    "start_time": "2022-08-14T10:01:29.929Z"
   },
   {
    "duration": 748,
    "start_time": "2022-08-14T10:01:29.966Z"
   },
   {
    "duration": 240,
    "start_time": "2022-08-14T10:01:30.717Z"
   },
   {
    "duration": 7,
    "start_time": "2022-08-14T10:01:30.959Z"
   },
   {
    "duration": 55,
    "start_time": "2022-08-14T10:01:30.968Z"
   },
   {
    "duration": 5,
    "start_time": "2022-08-14T10:01:31.025Z"
   },
   {
    "duration": 35,
    "start_time": "2022-08-14T10:01:31.032Z"
   },
   {
    "duration": 12,
    "start_time": "2022-08-14T10:01:31.069Z"
   },
   {
    "duration": 24,
    "start_time": "2022-08-14T10:01:31.082Z"
   },
   {
    "duration": 8,
    "start_time": "2022-08-14T10:01:31.107Z"
   },
   {
    "duration": 12,
    "start_time": "2022-08-14T10:01:31.117Z"
   },
   {
    "duration": 29,
    "start_time": "2022-08-14T10:01:31.130Z"
   },
   {
    "duration": 707,
    "start_time": "2022-08-14T10:01:31.160Z"
   },
   {
    "duration": 11,
    "start_time": "2022-08-14T10:01:31.869Z"
   },
   {
    "duration": 373,
    "start_time": "2022-08-14T10:01:31.882Z"
   },
   {
    "duration": 301,
    "start_time": "2022-08-14T10:01:32.256Z"
   },
   {
    "duration": 3,
    "start_time": "2022-08-14T10:01:32.559Z"
   },
   {
    "duration": 28,
    "start_time": "2022-08-14T10:01:32.565Z"
   },
   {
    "duration": 279,
    "start_time": "2022-08-14T10:01:32.594Z"
   },
   {
    "duration": 388,
    "start_time": "2022-08-14T10:01:32.875Z"
   },
   {
    "duration": 21,
    "start_time": "2022-08-14T10:01:33.264Z"
   },
   {
    "duration": 18,
    "start_time": "2022-08-14T10:01:33.286Z"
   },
   {
    "duration": 13,
    "start_time": "2022-08-14T10:01:33.305Z"
   },
   {
    "duration": 3,
    "start_time": "2022-08-14T10:01:33.320Z"
   },
   {
    "duration": 40,
    "start_time": "2022-08-14T10:01:33.324Z"
   },
   {
    "duration": 9,
    "start_time": "2022-08-14T10:01:33.366Z"
   },
   {
    "duration": 10,
    "start_time": "2022-08-14T10:01:33.377Z"
   },
   {
    "duration": 10,
    "start_time": "2022-08-14T10:01:33.388Z"
   },
   {
    "duration": 13,
    "start_time": "2022-08-14T10:01:33.400Z"
   },
   {
    "duration": 10,
    "start_time": "2022-08-14T10:01:33.414Z"
   },
   {
    "duration": 48,
    "start_time": "2022-08-14T10:01:33.425Z"
   },
   {
    "duration": 6,
    "start_time": "2022-08-14T10:01:33.474Z"
   },
   {
    "duration": 9,
    "start_time": "2022-08-14T10:01:33.482Z"
   },
   {
    "duration": 9,
    "start_time": "2022-08-14T10:01:33.492Z"
   },
   {
    "duration": 5,
    "start_time": "2022-08-14T10:01:33.503Z"
   },
   {
    "duration": 53,
    "start_time": "2022-08-14T10:01:33.510Z"
   },
   {
    "duration": 74,
    "start_time": "2022-08-14T10:01:59.090Z"
   },
   {
    "duration": 82,
    "start_time": "2022-08-14T10:03:31.946Z"
   },
   {
    "duration": 80,
    "start_time": "2022-08-14T10:04:08.075Z"
   },
   {
    "duration": 76,
    "start_time": "2022-08-14T10:07:44.559Z"
   },
   {
    "duration": 3,
    "start_time": "2022-08-14T10:09:21.559Z"
   },
   {
    "duration": 2,
    "start_time": "2022-08-14T10:09:41.439Z"
   },
   {
    "duration": 3,
    "start_time": "2022-08-14T10:10:37.689Z"
   },
   {
    "duration": 43,
    "start_time": "2022-08-14T10:10:47.823Z"
   },
   {
    "duration": 14,
    "start_time": "2022-08-14T10:11:12.470Z"
   },
   {
    "duration": 6,
    "start_time": "2022-08-14T10:27:15.481Z"
   },
   {
    "duration": 1264,
    "start_time": "2022-08-14T10:27:48.228Z"
   },
   {
    "duration": 4,
    "start_time": "2022-08-14T10:28:03.594Z"
   },
   {
    "duration": 9,
    "start_time": "2022-08-14T10:30:56.587Z"
   },
   {
    "duration": 1273,
    "start_time": "2022-08-14T10:40:43.514Z"
   },
   {
    "duration": 518,
    "start_time": "2022-08-14T10:40:44.789Z"
   },
   {
    "duration": 5,
    "start_time": "2022-08-14T10:40:45.308Z"
   },
   {
    "duration": 381,
    "start_time": "2022-08-14T10:40:45.315Z"
   },
   {
    "duration": 3,
    "start_time": "2022-08-14T10:40:45.698Z"
   },
   {
    "duration": 114,
    "start_time": "2022-08-14T10:40:45.702Z"
   },
   {
    "duration": 116,
    "start_time": "2022-08-14T10:40:45.818Z"
   },
   {
    "duration": 75,
    "start_time": "2022-08-14T10:40:45.935Z"
   },
   {
    "duration": 5,
    "start_time": "2022-08-14T10:40:46.012Z"
   },
   {
    "duration": 97,
    "start_time": "2022-08-14T10:40:46.019Z"
   },
   {
    "duration": 99,
    "start_time": "2022-08-14T10:40:46.118Z"
   },
   {
    "duration": 7,
    "start_time": "2022-08-14T10:40:46.218Z"
   },
   {
    "duration": 8,
    "start_time": "2022-08-14T10:40:46.227Z"
   },
   {
    "duration": 17,
    "start_time": "2022-08-14T10:40:46.238Z"
   },
   {
    "duration": 183,
    "start_time": "2022-08-14T10:40:46.257Z"
   },
   {
    "duration": 56,
    "start_time": "2022-08-14T10:40:46.442Z"
   },
   {
    "duration": 26,
    "start_time": "2022-08-14T10:40:46.499Z"
   },
   {
    "duration": 32,
    "start_time": "2022-08-14T10:40:46.527Z"
   },
   {
    "duration": 554,
    "start_time": "2022-08-14T10:40:46.561Z"
   },
   {
    "duration": 15,
    "start_time": "2022-08-14T10:40:47.116Z"
   },
   {
    "duration": 22,
    "start_time": "2022-08-14T10:40:47.133Z"
   },
   {
    "duration": 10,
    "start_time": "2022-08-14T10:40:47.157Z"
   },
   {
    "duration": 18,
    "start_time": "2022-08-14T10:40:47.168Z"
   },
   {
    "duration": 13,
    "start_time": "2022-08-14T10:40:47.188Z"
   },
   {
    "duration": 10,
    "start_time": "2022-08-14T10:40:47.203Z"
   },
   {
    "duration": 40,
    "start_time": "2022-08-14T10:40:47.215Z"
   },
   {
    "duration": 921,
    "start_time": "2022-08-14T10:40:47.256Z"
   },
   {
    "duration": 199,
    "start_time": "2022-08-14T10:40:48.179Z"
   },
   {
    "duration": 7,
    "start_time": "2022-08-14T10:40:48.380Z"
   },
   {
    "duration": 41,
    "start_time": "2022-08-14T10:40:48.389Z"
   },
   {
    "duration": 6,
    "start_time": "2022-08-14T10:40:48.432Z"
   },
   {
    "duration": 33,
    "start_time": "2022-08-14T10:40:48.455Z"
   },
   {
    "duration": 11,
    "start_time": "2022-08-14T10:40:48.490Z"
   },
   {
    "duration": 14,
    "start_time": "2022-08-14T10:40:48.503Z"
   },
   {
    "duration": 8,
    "start_time": "2022-08-14T10:40:48.518Z"
   },
   {
    "duration": 31,
    "start_time": "2022-08-14T10:40:48.527Z"
   },
   {
    "duration": 16,
    "start_time": "2022-08-14T10:40:48.560Z"
   },
   {
    "duration": 672,
    "start_time": "2022-08-14T10:40:48.578Z"
   },
   {
    "duration": 13,
    "start_time": "2022-08-14T10:40:49.251Z"
   },
   {
    "duration": 344,
    "start_time": "2022-08-14T10:40:49.265Z"
   },
   {
    "duration": 319,
    "start_time": "2022-08-14T10:40:49.613Z"
   },
   {
    "duration": 4,
    "start_time": "2022-08-14T10:40:49.933Z"
   },
   {
    "duration": 37,
    "start_time": "2022-08-14T10:40:49.939Z"
   },
   {
    "duration": 176,
    "start_time": "2022-08-14T10:40:49.977Z"
   },
   {
    "duration": 328,
    "start_time": "2022-08-14T10:40:50.155Z"
   },
   {
    "duration": 18,
    "start_time": "2022-08-14T10:40:50.485Z"
   },
   {
    "duration": 18,
    "start_time": "2022-08-14T10:40:50.504Z"
   },
   {
    "duration": 32,
    "start_time": "2022-08-14T10:40:50.523Z"
   },
   {
    "duration": 3,
    "start_time": "2022-08-14T10:40:50.557Z"
   },
   {
    "duration": 10,
    "start_time": "2022-08-14T10:40:50.561Z"
   },
   {
    "duration": 9,
    "start_time": "2022-08-14T10:40:50.572Z"
   },
   {
    "duration": 192,
    "start_time": "2022-08-14T10:40:50.582Z"
   },
   {
    "duration": 8,
    "start_time": "2022-08-14T10:40:50.775Z"
   },
   {
    "duration": 20,
    "start_time": "2022-08-14T10:40:50.785Z"
   },
   {
    "duration": 49,
    "start_time": "2022-08-14T10:40:50.807Z"
   },
   {
    "duration": 23,
    "start_time": "2022-08-14T10:40:50.857Z"
   },
   {
    "duration": 6,
    "start_time": "2022-08-14T10:40:50.881Z"
   },
   {
    "duration": 11,
    "start_time": "2022-08-14T10:40:50.888Z"
   },
   {
    "duration": 55,
    "start_time": "2022-08-14T10:40:50.900Z"
   },
   {
    "duration": 6,
    "start_time": "2022-08-14T10:40:50.957Z"
   },
   {
    "duration": 29,
    "start_time": "2022-08-14T10:40:50.964Z"
   },
   {
    "duration": 5,
    "start_time": "2022-08-14T11:00:18.917Z"
   },
   {
    "duration": 28,
    "start_time": "2022-08-14T11:00:24.285Z"
   },
   {
    "duration": 1164,
    "start_time": "2022-08-14T12:21:30.032Z"
   },
   {
    "duration": 792,
    "start_time": "2022-08-14T12:21:31.198Z"
   },
   {
    "duration": 5,
    "start_time": "2022-08-14T12:21:31.992Z"
   },
   {
    "duration": 381,
    "start_time": "2022-08-14T12:21:31.998Z"
   },
   {
    "duration": 2,
    "start_time": "2022-08-14T12:21:32.381Z"
   },
   {
    "duration": 119,
    "start_time": "2022-08-14T12:21:32.385Z"
   },
   {
    "duration": 105,
    "start_time": "2022-08-14T12:21:32.506Z"
   },
   {
    "duration": 76,
    "start_time": "2022-08-14T12:21:32.612Z"
   },
   {
    "duration": 7,
    "start_time": "2022-08-14T12:21:32.698Z"
   },
   {
    "duration": 106,
    "start_time": "2022-08-14T12:21:32.709Z"
   },
   {
    "duration": 86,
    "start_time": "2022-08-14T12:21:32.816Z"
   },
   {
    "duration": 9,
    "start_time": "2022-08-14T12:21:32.906Z"
   },
   {
    "duration": 15,
    "start_time": "2022-08-14T12:21:32.917Z"
   },
   {
    "duration": 4,
    "start_time": "2022-08-14T12:21:32.933Z"
   },
   {
    "duration": 154,
    "start_time": "2022-08-14T12:21:32.938Z"
   },
   {
    "duration": 57,
    "start_time": "2022-08-14T12:21:33.094Z"
   },
   {
    "duration": 22,
    "start_time": "2022-08-14T12:21:33.153Z"
   },
   {
    "duration": 35,
    "start_time": "2022-08-14T12:21:33.176Z"
   },
   {
    "duration": 534,
    "start_time": "2022-08-14T12:21:33.213Z"
   },
   {
    "duration": 14,
    "start_time": "2022-08-14T12:21:33.749Z"
   },
   {
    "duration": 16,
    "start_time": "2022-08-14T12:21:33.765Z"
   },
   {
    "duration": 32,
    "start_time": "2022-08-14T12:21:33.783Z"
   },
   {
    "duration": 40,
    "start_time": "2022-08-14T12:21:33.818Z"
   },
   {
    "duration": 20,
    "start_time": "2022-08-14T12:21:33.859Z"
   },
   {
    "duration": 15,
    "start_time": "2022-08-14T12:21:33.881Z"
   },
   {
    "duration": 30,
    "start_time": "2022-08-14T12:21:33.897Z"
   },
   {
    "duration": 842,
    "start_time": "2022-08-14T12:21:33.929Z"
   },
   {
    "duration": 182,
    "start_time": "2022-08-14T12:21:34.774Z"
   },
   {
    "duration": 6,
    "start_time": "2022-08-14T12:21:34.957Z"
   },
   {
    "duration": 52,
    "start_time": "2022-08-14T12:21:34.964Z"
   },
   {
    "duration": 5,
    "start_time": "2022-08-14T12:21:35.018Z"
   },
   {
    "duration": 32,
    "start_time": "2022-08-14T12:21:35.025Z"
   },
   {
    "duration": 11,
    "start_time": "2022-08-14T12:21:35.058Z"
   },
   {
    "duration": 39,
    "start_time": "2022-08-14T12:21:35.070Z"
   },
   {
    "duration": 8,
    "start_time": "2022-08-14T12:21:35.111Z"
   },
   {
    "duration": 9,
    "start_time": "2022-08-14T12:21:35.120Z"
   },
   {
    "duration": 1427,
    "start_time": "2022-08-14T12:21:35.131Z"
   },
   {
    "duration": 0,
    "start_time": "2022-08-14T12:21:36.559Z"
   },
   {
    "duration": 0,
    "start_time": "2022-08-14T12:21:36.560Z"
   },
   {
    "duration": 0,
    "start_time": "2022-08-14T12:21:36.561Z"
   },
   {
    "duration": 0,
    "start_time": "2022-08-14T12:21:36.562Z"
   },
   {
    "duration": 0,
    "start_time": "2022-08-14T12:21:36.563Z"
   },
   {
    "duration": 0,
    "start_time": "2022-08-14T12:21:36.564Z"
   },
   {
    "duration": 0,
    "start_time": "2022-08-14T12:21:36.566Z"
   },
   {
    "duration": 0,
    "start_time": "2022-08-14T12:21:36.566Z"
   },
   {
    "duration": 0,
    "start_time": "2022-08-14T12:21:36.568Z"
   },
   {
    "duration": 0,
    "start_time": "2022-08-14T12:21:36.569Z"
   },
   {
    "duration": 0,
    "start_time": "2022-08-14T12:21:36.569Z"
   },
   {
    "duration": 0,
    "start_time": "2022-08-14T12:21:36.571Z"
   },
   {
    "duration": 0,
    "start_time": "2022-08-14T12:21:36.572Z"
   },
   {
    "duration": 0,
    "start_time": "2022-08-14T12:21:36.573Z"
   },
   {
    "duration": 0,
    "start_time": "2022-08-14T12:21:36.573Z"
   },
   {
    "duration": 0,
    "start_time": "2022-08-14T12:21:36.574Z"
   },
   {
    "duration": 0,
    "start_time": "2022-08-14T12:21:36.575Z"
   },
   {
    "duration": 0,
    "start_time": "2022-08-14T12:21:36.576Z"
   },
   {
    "duration": 0,
    "start_time": "2022-08-14T12:21:36.577Z"
   },
   {
    "duration": 0,
    "start_time": "2022-08-14T12:21:36.577Z"
   },
   {
    "duration": 0,
    "start_time": "2022-08-14T12:21:36.578Z"
   },
   {
    "duration": 0,
    "start_time": "2022-08-14T12:21:36.579Z"
   },
   {
    "duration": 0,
    "start_time": "2022-08-14T12:21:36.581Z"
   },
   {
    "duration": 0,
    "start_time": "2022-08-14T12:21:36.581Z"
   },
   {
    "duration": 0,
    "start_time": "2022-08-14T12:21:36.582Z"
   },
   {
    "duration": 9,
    "start_time": "2022-08-14T12:21:55.449Z"
   },
   {
    "duration": 9,
    "start_time": "2022-08-14T12:22:11.151Z"
   },
   {
    "duration": 5,
    "start_time": "2022-08-14T12:22:56.256Z"
   },
   {
    "duration": 7,
    "start_time": "2022-08-14T12:23:07.145Z"
   },
   {
    "duration": 9,
    "start_time": "2022-08-14T12:23:23.718Z"
   },
   {
    "duration": 1148,
    "start_time": "2022-08-14T12:23:32.021Z"
   },
   {
    "duration": 507,
    "start_time": "2022-08-14T12:23:33.170Z"
   },
   {
    "duration": 5,
    "start_time": "2022-08-14T12:23:33.679Z"
   },
   {
    "duration": 420,
    "start_time": "2022-08-14T12:23:33.686Z"
   },
   {
    "duration": 3,
    "start_time": "2022-08-14T12:23:34.108Z"
   },
   {
    "duration": 123,
    "start_time": "2022-08-14T12:23:34.113Z"
   },
   {
    "duration": 126,
    "start_time": "2022-08-14T12:23:34.237Z"
   },
   {
    "duration": 91,
    "start_time": "2022-08-14T12:23:34.364Z"
   },
   {
    "duration": 6,
    "start_time": "2022-08-14T12:23:34.458Z"
   },
   {
    "duration": 118,
    "start_time": "2022-08-14T12:23:34.467Z"
   },
   {
    "duration": 118,
    "start_time": "2022-08-14T12:23:34.586Z"
   },
   {
    "duration": 7,
    "start_time": "2022-08-14T12:23:34.708Z"
   },
   {
    "duration": 10,
    "start_time": "2022-08-14T12:23:34.716Z"
   },
   {
    "duration": 3,
    "start_time": "2022-08-14T12:23:34.728Z"
   },
   {
    "duration": 170,
    "start_time": "2022-08-14T12:23:34.733Z"
   },
   {
    "duration": 53,
    "start_time": "2022-08-14T12:23:34.905Z"
   },
   {
    "duration": 43,
    "start_time": "2022-08-14T12:23:34.959Z"
   },
   {
    "duration": 13,
    "start_time": "2022-08-14T12:23:35.003Z"
   },
   {
    "duration": 542,
    "start_time": "2022-08-14T12:23:35.017Z"
   },
   {
    "duration": 14,
    "start_time": "2022-08-14T12:23:35.560Z"
   },
   {
    "duration": 5,
    "start_time": "2022-08-14T12:23:35.575Z"
   },
   {
    "duration": 23,
    "start_time": "2022-08-14T12:23:35.581Z"
   },
   {
    "duration": 26,
    "start_time": "2022-08-14T12:23:35.606Z"
   },
   {
    "duration": 13,
    "start_time": "2022-08-14T12:23:35.634Z"
   },
   {
    "duration": 14,
    "start_time": "2022-08-14T12:23:35.649Z"
   },
   {
    "duration": 25,
    "start_time": "2022-08-14T12:23:35.664Z"
   },
   {
    "duration": 853,
    "start_time": "2022-08-14T12:23:35.690Z"
   },
   {
    "duration": 209,
    "start_time": "2022-08-14T12:23:36.547Z"
   },
   {
    "duration": 7,
    "start_time": "2022-08-14T12:23:36.758Z"
   },
   {
    "duration": 66,
    "start_time": "2022-08-14T12:23:36.767Z"
   },
   {
    "duration": 5,
    "start_time": "2022-08-14T12:23:36.835Z"
   },
   {
    "duration": 50,
    "start_time": "2022-08-14T12:23:36.841Z"
   },
   {
    "duration": 16,
    "start_time": "2022-08-14T12:23:36.893Z"
   },
   {
    "duration": 29,
    "start_time": "2022-08-14T12:23:36.912Z"
   },
   {
    "duration": 13,
    "start_time": "2022-08-14T12:23:36.943Z"
   },
   {
    "duration": 12,
    "start_time": "2022-08-14T12:23:36.957Z"
   },
   {
    "duration": 12,
    "start_time": "2022-08-14T12:23:36.970Z"
   },
   {
    "duration": 23,
    "start_time": "2022-08-14T12:23:36.983Z"
   },
   {
    "duration": 652,
    "start_time": "2022-08-14T12:23:37.008Z"
   },
   {
    "duration": 13,
    "start_time": "2022-08-14T12:23:37.662Z"
   },
   {
    "duration": 346,
    "start_time": "2022-08-14T12:23:37.677Z"
   },
   {
    "duration": 296,
    "start_time": "2022-08-14T12:23:38.024Z"
   },
   {
    "duration": 4,
    "start_time": "2022-08-14T12:23:38.321Z"
   },
   {
    "duration": 31,
    "start_time": "2022-08-14T12:23:38.327Z"
   },
   {
    "duration": 190,
    "start_time": "2022-08-14T12:23:38.360Z"
   },
   {
    "duration": 429,
    "start_time": "2022-08-14T12:23:38.552Z"
   },
   {
    "duration": 21,
    "start_time": "2022-08-14T12:23:38.982Z"
   },
   {
    "duration": 23,
    "start_time": "2022-08-14T12:23:39.008Z"
   },
   {
    "duration": 14,
    "start_time": "2022-08-14T12:23:39.033Z"
   },
   {
    "duration": 3,
    "start_time": "2022-08-14T12:23:39.048Z"
   },
   {
    "duration": 13,
    "start_time": "2022-08-14T12:23:39.053Z"
   },
   {
    "duration": 13,
    "start_time": "2022-08-14T12:23:39.067Z"
   },
   {
    "duration": 142,
    "start_time": "2022-08-14T12:23:39.099Z"
   },
   {
    "duration": 10,
    "start_time": "2022-08-14T12:23:39.243Z"
   },
   {
    "duration": 47,
    "start_time": "2022-08-14T12:23:39.255Z"
   },
   {
    "duration": 11,
    "start_time": "2022-08-14T12:23:39.304Z"
   },
   {
    "duration": 34,
    "start_time": "2022-08-14T12:23:39.317Z"
   },
   {
    "duration": 10,
    "start_time": "2022-08-14T12:23:39.399Z"
   },
   {
    "duration": 20,
    "start_time": "2022-08-14T12:23:39.410Z"
   },
   {
    "duration": 8,
    "start_time": "2022-08-14T12:23:39.432Z"
   },
   {
    "duration": 6,
    "start_time": "2022-08-14T12:23:39.442Z"
   },
   {
    "duration": 58,
    "start_time": "2022-08-14T12:23:39.449Z"
   },
   {
    "duration": 1109,
    "start_time": "2022-08-14T12:25:33.145Z"
   },
   {
    "duration": 552,
    "start_time": "2022-08-14T12:25:34.256Z"
   },
   {
    "duration": 6,
    "start_time": "2022-08-14T12:25:34.810Z"
   },
   {
    "duration": 430,
    "start_time": "2022-08-14T12:25:34.818Z"
   },
   {
    "duration": 3,
    "start_time": "2022-08-14T12:25:35.250Z"
   },
   {
    "duration": 134,
    "start_time": "2022-08-14T12:25:35.254Z"
   },
   {
    "duration": 112,
    "start_time": "2022-08-14T12:25:35.390Z"
   },
   {
    "duration": 73,
    "start_time": "2022-08-14T12:25:35.505Z"
   },
   {
    "duration": 5,
    "start_time": "2022-08-14T12:25:35.579Z"
   },
   {
    "duration": 100,
    "start_time": "2022-08-14T12:25:35.599Z"
   },
   {
    "duration": 87,
    "start_time": "2022-08-14T12:25:35.701Z"
   },
   {
    "duration": 10,
    "start_time": "2022-08-14T12:25:35.797Z"
   },
   {
    "duration": 17,
    "start_time": "2022-08-14T12:25:35.808Z"
   },
   {
    "duration": 7,
    "start_time": "2022-08-14T12:25:35.826Z"
   },
   {
    "duration": 187,
    "start_time": "2022-08-14T12:25:35.834Z"
   },
   {
    "duration": 49,
    "start_time": "2022-08-14T12:25:36.023Z"
   },
   {
    "duration": 38,
    "start_time": "2022-08-14T12:25:36.073Z"
   },
   {
    "duration": 14,
    "start_time": "2022-08-14T12:25:36.112Z"
   },
   {
    "duration": 556,
    "start_time": "2022-08-14T12:25:36.127Z"
   },
   {
    "duration": 22,
    "start_time": "2022-08-14T12:25:36.685Z"
   },
   {
    "duration": 13,
    "start_time": "2022-08-14T12:25:36.710Z"
   },
   {
    "duration": 15,
    "start_time": "2022-08-14T12:25:36.725Z"
   },
   {
    "duration": 33,
    "start_time": "2022-08-14T12:25:36.741Z"
   },
   {
    "duration": 22,
    "start_time": "2022-08-14T12:25:36.776Z"
   },
   {
    "duration": 17,
    "start_time": "2022-08-14T12:25:36.800Z"
   },
   {
    "duration": 16,
    "start_time": "2022-08-14T12:25:36.818Z"
   },
   {
    "duration": 812,
    "start_time": "2022-08-14T12:25:36.836Z"
   },
   {
    "duration": 186,
    "start_time": "2022-08-14T12:25:37.652Z"
   },
   {
    "duration": 6,
    "start_time": "2022-08-14T12:25:37.839Z"
   },
   {
    "duration": 37,
    "start_time": "2022-08-14T12:25:37.846Z"
   },
   {
    "duration": 16,
    "start_time": "2022-08-14T12:25:37.884Z"
   },
   {
    "duration": 38,
    "start_time": "2022-08-14T12:25:37.902Z"
   },
   {
    "duration": 12,
    "start_time": "2022-08-14T12:25:37.942Z"
   },
   {
    "duration": 13,
    "start_time": "2022-08-14T12:25:37.956Z"
   },
   {
    "duration": 30,
    "start_time": "2022-08-14T12:25:37.971Z"
   },
   {
    "duration": 18,
    "start_time": "2022-08-14T12:25:38.004Z"
   },
   {
    "duration": 10,
    "start_time": "2022-08-14T12:25:38.024Z"
   },
   {
    "duration": 16,
    "start_time": "2022-08-14T12:25:38.035Z"
   },
   {
    "duration": 668,
    "start_time": "2022-08-14T12:25:38.052Z"
   },
   {
    "duration": 13,
    "start_time": "2022-08-14T12:25:38.722Z"
   },
   {
    "duration": 364,
    "start_time": "2022-08-14T12:25:38.737Z"
   },
   {
    "duration": 286,
    "start_time": "2022-08-14T12:25:39.104Z"
   },
   {
    "duration": 7,
    "start_time": "2022-08-14T12:25:39.392Z"
   },
   {
    "duration": 43,
    "start_time": "2022-08-14T12:25:39.401Z"
   },
   {
    "duration": 184,
    "start_time": "2022-08-14T12:25:39.445Z"
   },
   {
    "duration": 428,
    "start_time": "2022-08-14T12:25:39.631Z"
   },
   {
    "duration": 18,
    "start_time": "2022-08-14T12:25:40.060Z"
   },
   {
    "duration": 37,
    "start_time": "2022-08-14T12:25:40.080Z"
   },
   {
    "duration": 13,
    "start_time": "2022-08-14T12:25:40.119Z"
   },
   {
    "duration": 3,
    "start_time": "2022-08-14T12:25:40.134Z"
   },
   {
    "duration": 10,
    "start_time": "2022-08-14T12:25:40.139Z"
   },
   {
    "duration": 9,
    "start_time": "2022-08-14T12:25:40.151Z"
   },
   {
    "duration": 180,
    "start_time": "2022-08-14T12:25:40.162Z"
   },
   {
    "duration": 11,
    "start_time": "2022-08-14T12:25:40.344Z"
   },
   {
    "duration": 52,
    "start_time": "2022-08-14T12:25:40.356Z"
   },
   {
    "duration": 12,
    "start_time": "2022-08-14T12:25:40.410Z"
   },
   {
    "duration": 79,
    "start_time": "2022-08-14T12:25:40.424Z"
   },
   {
    "duration": 9,
    "start_time": "2022-08-14T12:25:40.505Z"
   },
   {
    "duration": 10,
    "start_time": "2022-08-14T12:25:40.516Z"
   },
   {
    "duration": 14,
    "start_time": "2022-08-14T12:25:40.527Z"
   },
   {
    "duration": 7,
    "start_time": "2022-08-14T12:25:40.543Z"
   },
   {
    "duration": 62,
    "start_time": "2022-08-14T12:25:40.551Z"
   },
   {
    "duration": 52,
    "start_time": "2022-08-14T16:06:35.905Z"
   },
   {
    "duration": 1531,
    "start_time": "2022-08-14T16:06:40.276Z"
   },
   {
    "duration": 2085,
    "start_time": "2022-08-14T16:06:41.809Z"
   },
   {
    "duration": 7,
    "start_time": "2022-08-14T16:06:43.896Z"
   },
   {
    "duration": 513,
    "start_time": "2022-08-14T16:06:43.905Z"
   },
   {
    "duration": 4,
    "start_time": "2022-08-14T16:06:44.419Z"
   },
   {
    "duration": 134,
    "start_time": "2022-08-14T16:06:44.424Z"
   },
   {
    "duration": 138,
    "start_time": "2022-08-14T16:06:44.560Z"
   },
   {
    "duration": 93,
    "start_time": "2022-08-14T16:06:44.701Z"
   },
   {
    "duration": 5,
    "start_time": "2022-08-14T16:06:44.796Z"
   },
   {
    "duration": 117,
    "start_time": "2022-08-14T16:06:44.804Z"
   },
   {
    "duration": 128,
    "start_time": "2022-08-14T16:06:44.923Z"
   },
   {
    "duration": 16,
    "start_time": "2022-08-14T16:06:45.053Z"
   },
   {
    "duration": 9,
    "start_time": "2022-08-14T16:06:45.071Z"
   },
   {
    "duration": 7,
    "start_time": "2022-08-14T16:06:45.081Z"
   },
   {
    "duration": 249,
    "start_time": "2022-08-14T16:06:45.090Z"
   },
   {
    "duration": 71,
    "start_time": "2022-08-14T16:06:45.341Z"
   },
   {
    "duration": 30,
    "start_time": "2022-08-14T16:06:45.414Z"
   },
   {
    "duration": 32,
    "start_time": "2022-08-14T16:06:45.446Z"
   },
   {
    "duration": 647,
    "start_time": "2022-08-14T16:06:45.479Z"
   },
   {
    "duration": 17,
    "start_time": "2022-08-14T16:06:46.128Z"
   },
   {
    "duration": 22,
    "start_time": "2022-08-14T16:06:46.147Z"
   },
   {
    "duration": 12,
    "start_time": "2022-08-14T16:06:46.171Z"
   },
   {
    "duration": 23,
    "start_time": "2022-08-14T16:06:46.185Z"
   },
   {
    "duration": 17,
    "start_time": "2022-08-14T16:06:46.209Z"
   },
   {
    "duration": 42,
    "start_time": "2022-08-14T16:06:46.228Z"
   },
   {
    "duration": 96,
    "start_time": "2022-08-14T16:06:46.272Z"
   },
   {
    "duration": 984,
    "start_time": "2022-08-14T16:06:46.369Z"
   },
   {
    "duration": 249,
    "start_time": "2022-08-14T16:06:47.358Z"
   },
   {
    "duration": 6,
    "start_time": "2022-08-14T16:06:47.609Z"
   },
   {
    "duration": 52,
    "start_time": "2022-08-14T16:06:47.617Z"
   },
   {
    "duration": 6,
    "start_time": "2022-08-14T16:06:47.670Z"
   },
   {
    "duration": 14,
    "start_time": "2022-08-14T16:06:47.678Z"
   },
   {
    "duration": 10,
    "start_time": "2022-08-14T16:06:47.694Z"
   },
   {
    "duration": 21,
    "start_time": "2022-08-14T16:06:47.705Z"
   },
   {
    "duration": 9,
    "start_time": "2022-08-14T16:06:47.728Z"
   },
   {
    "duration": 34,
    "start_time": "2022-08-14T16:06:47.739Z"
   },
   {
    "duration": 12,
    "start_time": "2022-08-14T16:06:47.775Z"
   },
   {
    "duration": 22,
    "start_time": "2022-08-14T16:06:47.789Z"
   },
   {
    "duration": 777,
    "start_time": "2022-08-14T16:06:47.813Z"
   },
   {
    "duration": 8,
    "start_time": "2022-08-14T16:06:48.592Z"
   },
   {
    "duration": 395,
    "start_time": "2022-08-14T16:06:48.602Z"
   },
   {
    "duration": 378,
    "start_time": "2022-08-14T16:06:48.998Z"
   },
   {
    "duration": 5,
    "start_time": "2022-08-14T16:06:49.378Z"
   },
   {
    "duration": 22,
    "start_time": "2022-08-14T16:06:49.385Z"
   },
   {
    "duration": 201,
    "start_time": "2022-08-14T16:06:49.409Z"
   },
   {
    "duration": 282,
    "start_time": "2022-08-14T16:06:49.613Z"
   },
   {
    "duration": 26,
    "start_time": "2022-08-14T16:06:49.897Z"
   },
   {
    "duration": 17,
    "start_time": "2022-08-14T16:06:49.925Z"
   },
   {
    "duration": 36,
    "start_time": "2022-08-14T16:06:49.944Z"
   },
   {
    "duration": 11,
    "start_time": "2022-08-14T16:06:49.982Z"
   },
   {
    "duration": 12,
    "start_time": "2022-08-14T16:06:49.995Z"
   },
   {
    "duration": 17,
    "start_time": "2022-08-14T16:06:50.009Z"
   },
   {
    "duration": 155,
    "start_time": "2022-08-14T16:06:50.028Z"
   },
   {
    "duration": 11,
    "start_time": "2022-08-14T16:06:50.185Z"
   },
   {
    "duration": 69,
    "start_time": "2022-08-14T16:06:50.198Z"
   },
   {
    "duration": 12,
    "start_time": "2022-08-14T16:06:50.269Z"
   },
   {
    "duration": 19,
    "start_time": "2022-08-14T16:06:50.282Z"
   },
   {
    "duration": 7,
    "start_time": "2022-08-14T16:06:50.302Z"
   },
   {
    "duration": 57,
    "start_time": "2022-08-14T16:06:50.311Z"
   },
   {
    "duration": 5,
    "start_time": "2022-08-14T16:06:50.370Z"
   },
   {
    "duration": 9,
    "start_time": "2022-08-14T16:06:50.377Z"
   },
   {
    "duration": 28,
    "start_time": "2022-08-14T16:06:50.388Z"
   },
   {
    "duration": 5,
    "start_time": "2022-08-14T16:07:33.293Z"
   },
   {
    "duration": 6,
    "start_time": "2022-08-14T16:07:35.109Z"
   },
   {
    "duration": 1432,
    "start_time": "2022-08-14T16:35:49.154Z"
   },
   {
    "duration": 674,
    "start_time": "2022-08-14T16:35:50.589Z"
   },
   {
    "duration": 7,
    "start_time": "2022-08-14T16:35:51.265Z"
   },
   {
    "duration": 563,
    "start_time": "2022-08-14T16:35:51.274Z"
   },
   {
    "duration": 3,
    "start_time": "2022-08-14T16:35:51.838Z"
   },
   {
    "duration": 148,
    "start_time": "2022-08-14T16:35:51.843Z"
   },
   {
    "duration": 153,
    "start_time": "2022-08-14T16:35:51.993Z"
   },
   {
    "duration": 98,
    "start_time": "2022-08-14T16:35:52.149Z"
   },
   {
    "duration": 6,
    "start_time": "2022-08-14T16:35:52.249Z"
   },
   {
    "duration": 112,
    "start_time": "2022-08-14T16:35:52.270Z"
   },
   {
    "duration": 146,
    "start_time": "2022-08-14T16:35:52.384Z"
   },
   {
    "duration": 7,
    "start_time": "2022-08-14T16:35:52.532Z"
   },
   {
    "duration": 11,
    "start_time": "2022-08-14T16:35:52.541Z"
   },
   {
    "duration": 4,
    "start_time": "2022-08-14T16:35:52.569Z"
   },
   {
    "duration": 293,
    "start_time": "2022-08-14T16:35:52.575Z"
   },
   {
    "duration": 65,
    "start_time": "2022-08-14T16:35:52.870Z"
   },
   {
    "duration": 48,
    "start_time": "2022-08-14T16:35:52.937Z"
   },
   {
    "duration": 19,
    "start_time": "2022-08-14T16:35:52.987Z"
   },
   {
    "duration": 731,
    "start_time": "2022-08-14T16:35:53.007Z"
   },
   {
    "duration": 29,
    "start_time": "2022-08-14T16:35:53.740Z"
   },
   {
    "duration": 7,
    "start_time": "2022-08-14T16:35:53.770Z"
   },
   {
    "duration": 12,
    "start_time": "2022-08-14T16:35:53.778Z"
   },
   {
    "duration": 24,
    "start_time": "2022-08-14T16:35:53.791Z"
   },
   {
    "duration": 17,
    "start_time": "2022-08-14T16:35:53.817Z"
   },
   {
    "duration": 44,
    "start_time": "2022-08-14T16:35:53.835Z"
   },
   {
    "duration": 17,
    "start_time": "2022-08-14T16:35:53.881Z"
   },
   {
    "duration": 997,
    "start_time": "2022-08-14T16:35:53.900Z"
   },
   {
    "duration": 283,
    "start_time": "2022-08-14T16:35:54.901Z"
   },
   {
    "duration": 8,
    "start_time": "2022-08-14T16:35:55.185Z"
   },
   {
    "duration": 42,
    "start_time": "2022-08-14T16:35:55.195Z"
   },
   {
    "duration": 6,
    "start_time": "2022-08-14T16:35:55.239Z"
   },
   {
    "duration": 13,
    "start_time": "2022-08-14T16:35:55.268Z"
   },
   {
    "duration": 12,
    "start_time": "2022-08-14T16:35:55.283Z"
   },
   {
    "duration": 18,
    "start_time": "2022-08-14T16:35:55.297Z"
   },
   {
    "duration": 17,
    "start_time": "2022-08-14T16:35:55.317Z"
   },
   {
    "duration": 39,
    "start_time": "2022-08-14T16:35:55.335Z"
   },
   {
    "duration": 13,
    "start_time": "2022-08-14T16:35:55.376Z"
   },
   {
    "duration": 22,
    "start_time": "2022-08-14T16:35:55.391Z"
   },
   {
    "duration": 879,
    "start_time": "2022-08-14T16:35:55.415Z"
   },
   {
    "duration": 8,
    "start_time": "2022-08-14T16:35:56.296Z"
   },
   {
    "duration": 449,
    "start_time": "2022-08-14T16:35:56.306Z"
   },
   {
    "duration": 393,
    "start_time": "2022-08-14T16:35:56.757Z"
   },
   {
    "duration": 6,
    "start_time": "2022-08-14T16:35:57.152Z"
   },
   {
    "duration": 12,
    "start_time": "2022-08-14T16:35:57.168Z"
   },
   {
    "duration": 219,
    "start_time": "2022-08-14T16:35:57.182Z"
   },
   {
    "duration": 333,
    "start_time": "2022-08-14T16:35:57.403Z"
   },
   {
    "duration": 34,
    "start_time": "2022-08-14T16:35:57.738Z"
   },
   {
    "duration": 16,
    "start_time": "2022-08-14T16:35:57.774Z"
   },
   {
    "duration": 18,
    "start_time": "2022-08-14T16:35:57.792Z"
   },
   {
    "duration": 9,
    "start_time": "2022-08-14T16:35:57.812Z"
   },
   {
    "duration": 13,
    "start_time": "2022-08-14T16:35:57.822Z"
   },
   {
    "duration": 32,
    "start_time": "2022-08-14T16:35:57.837Z"
   },
   {
    "duration": 207,
    "start_time": "2022-08-14T16:35:57.871Z"
   },
   {
    "duration": 11,
    "start_time": "2022-08-14T16:35:58.079Z"
   },
   {
    "duration": 14,
    "start_time": "2022-08-14T16:35:58.093Z"
   },
   {
    "duration": 63,
    "start_time": "2022-08-14T16:35:58.110Z"
   },
   {
    "duration": 22,
    "start_time": "2022-08-14T16:35:58.175Z"
   },
   {
    "duration": 5,
    "start_time": "2022-08-14T16:35:58.199Z"
   },
   {
    "duration": 63,
    "start_time": "2022-08-14T16:35:58.206Z"
   },
   {
    "duration": 7,
    "start_time": "2022-08-14T16:35:58.272Z"
   },
   {
    "duration": 11,
    "start_time": "2022-08-14T16:35:58.281Z"
   },
   {
    "duration": 23,
    "start_time": "2022-08-14T16:35:58.294Z"
   },
   {
    "duration": 6,
    "start_time": "2022-08-14T16:37:01.032Z"
   },
   {
    "duration": 7,
    "start_time": "2022-08-14T16:37:02.045Z"
   },
   {
    "duration": 5,
    "start_time": "2022-08-14T16:37:20.514Z"
   },
   {
    "duration": 6,
    "start_time": "2022-08-14T16:37:23.293Z"
   },
   {
    "duration": 5,
    "start_time": "2022-08-14T16:37:34.603Z"
   },
   {
    "duration": 5,
    "start_time": "2022-08-14T16:37:41.846Z"
   },
   {
    "duration": 6,
    "start_time": "2022-08-14T16:37:44.041Z"
   },
   {
    "duration": 4,
    "start_time": "2022-08-14T16:37:49.518Z"
   },
   {
    "duration": 650,
    "start_time": "2022-08-14T16:37:49.526Z"
   },
   {
    "duration": 5,
    "start_time": "2022-08-14T16:37:50.178Z"
   },
   {
    "duration": 514,
    "start_time": "2022-08-14T16:37:50.185Z"
   },
   {
    "duration": 3,
    "start_time": "2022-08-14T16:37:50.701Z"
   },
   {
    "duration": 129,
    "start_time": "2022-08-14T16:37:50.706Z"
   },
   {
    "duration": 154,
    "start_time": "2022-08-14T16:37:50.837Z"
   },
   {
    "duration": 101,
    "start_time": "2022-08-14T16:37:50.993Z"
   },
   {
    "duration": 5,
    "start_time": "2022-08-14T16:37:51.096Z"
   },
   {
    "duration": 97,
    "start_time": "2022-08-14T16:37:51.103Z"
   },
   {
    "duration": 123,
    "start_time": "2022-08-14T16:37:51.204Z"
   },
   {
    "duration": 7,
    "start_time": "2022-08-14T16:37:51.329Z"
   },
   {
    "duration": 10,
    "start_time": "2022-08-14T16:37:51.337Z"
   },
   {
    "duration": 20,
    "start_time": "2022-08-14T16:37:51.349Z"
   },
   {
    "duration": 245,
    "start_time": "2022-08-14T16:37:51.370Z"
   },
   {
    "duration": 69,
    "start_time": "2022-08-14T16:37:51.617Z"
   },
   {
    "duration": 31,
    "start_time": "2022-08-14T16:37:51.688Z"
   },
   {
    "duration": 16,
    "start_time": "2022-08-14T16:37:51.722Z"
   },
   {
    "duration": 707,
    "start_time": "2022-08-14T16:37:51.740Z"
   },
   {
    "duration": 25,
    "start_time": "2022-08-14T16:37:52.449Z"
   },
   {
    "duration": 7,
    "start_time": "2022-08-14T16:37:52.476Z"
   },
   {
    "duration": 13,
    "start_time": "2022-08-14T16:37:52.485Z"
   },
   {
    "duration": 24,
    "start_time": "2022-08-14T16:37:52.500Z"
   },
   {
    "duration": 46,
    "start_time": "2022-08-14T16:37:52.525Z"
   },
   {
    "duration": 22,
    "start_time": "2022-08-14T16:37:52.573Z"
   },
   {
    "duration": 16,
    "start_time": "2022-08-14T16:37:52.597Z"
   },
   {
    "duration": 931,
    "start_time": "2022-08-14T16:37:52.615Z"
   },
   {
    "duration": 269,
    "start_time": "2022-08-14T16:37:53.548Z"
   },
   {
    "duration": 7,
    "start_time": "2022-08-14T16:37:53.821Z"
   },
   {
    "duration": 56,
    "start_time": "2022-08-14T16:37:53.829Z"
   },
   {
    "duration": 8,
    "start_time": "2022-08-14T16:37:53.886Z"
   },
   {
    "duration": 99,
    "start_time": "2022-08-14T16:37:53.895Z"
   },
   {
    "duration": 14,
    "start_time": "2022-08-14T16:37:53.996Z"
   },
   {
    "duration": 30,
    "start_time": "2022-08-14T16:37:54.012Z"
   },
   {
    "duration": 41,
    "start_time": "2022-08-14T16:37:54.045Z"
   },
   {
    "duration": 25,
    "start_time": "2022-08-14T16:37:54.089Z"
   },
   {
    "duration": 66,
    "start_time": "2022-08-14T16:37:54.116Z"
   },
   {
    "duration": 39,
    "start_time": "2022-08-14T16:37:54.184Z"
   },
   {
    "duration": 847,
    "start_time": "2022-08-14T16:37:54.224Z"
   },
   {
    "duration": 16,
    "start_time": "2022-08-14T16:37:55.072Z"
   },
   {
    "duration": 444,
    "start_time": "2022-08-14T16:37:55.090Z"
   },
   {
    "duration": 360,
    "start_time": "2022-08-14T16:37:55.536Z"
   },
   {
    "duration": 5,
    "start_time": "2022-08-14T16:37:55.898Z"
   },
   {
    "duration": 52,
    "start_time": "2022-08-14T16:37:55.906Z"
   },
   {
    "duration": 334,
    "start_time": "2022-08-14T16:37:55.960Z"
   },
   {
    "duration": 548,
    "start_time": "2022-08-14T16:37:56.296Z"
   },
   {
    "duration": 37,
    "start_time": "2022-08-14T16:37:56.846Z"
   },
   {
    "duration": 48,
    "start_time": "2022-08-14T16:37:56.885Z"
   },
   {
    "duration": 25,
    "start_time": "2022-08-14T16:37:56.936Z"
   },
   {
    "duration": 6,
    "start_time": "2022-08-14T16:37:56.963Z"
   },
   {
    "duration": 24,
    "start_time": "2022-08-14T16:37:56.971Z"
   },
   {
    "duration": 45,
    "start_time": "2022-08-14T16:37:56.997Z"
   },
   {
    "duration": 31,
    "start_time": "2022-08-14T16:37:57.044Z"
   },
   {
    "duration": 15,
    "start_time": "2022-08-14T16:37:57.078Z"
   },
   {
    "duration": 32,
    "start_time": "2022-08-14T16:37:57.096Z"
   },
   {
    "duration": 12,
    "start_time": "2022-08-14T16:37:57.130Z"
   },
   {
    "duration": 46,
    "start_time": "2022-08-14T16:37:57.144Z"
   },
   {
    "duration": 9,
    "start_time": "2022-08-14T16:37:57.192Z"
   },
   {
    "duration": 15,
    "start_time": "2022-08-14T16:37:57.204Z"
   },
   {
    "duration": 38,
    "start_time": "2022-08-14T16:37:57.221Z"
   },
   {
    "duration": 16,
    "start_time": "2022-08-14T16:37:57.261Z"
   },
   {
    "duration": 60,
    "start_time": "2022-08-14T16:37:57.279Z"
   }
  ],
  "kernelspec": {
   "display_name": "Python 3 (ipykernel)",
   "language": "python",
   "name": "python3"
  },
  "language_info": {
   "codemirror_mode": {
    "name": "ipython",
    "version": 3
   },
   "file_extension": ".py",
   "mimetype": "text/x-python",
   "name": "python",
   "nbconvert_exporter": "python",
   "pygments_lexer": "ipython3",
   "version": "3.9.12"
  },
  "toc": {
   "base_numbering": 1,
   "nav_menu": {},
   "number_sections": true,
   "sideBar": true,
   "skip_h1_title": true,
   "title_cell": "Table of Contents",
   "title_sidebar": "Contents",
   "toc_cell": false,
   "toc_position": {
    "height": "calc(100% - 180px)",
    "left": "10px",
    "top": "150px",
    "width": "289.6px"
   },
   "toc_section_display": true,
   "toc_window_display": true
  }
 },
 "nbformat": 4,
 "nbformat_minor": 2
}
